{
 "cells": [
  {
   "cell_type": "code",
   "execution_count": null,
   "metadata": {},
   "outputs": [],
   "source": [
    "import sys\n"
   ]
  },
  {
   "cell_type": "code",
   "execution_count": 33,
   "metadata": {},
   "outputs": [],
   "source": [
    "import pandas as pd\n",
    "from pathlib import Path"
   ]
  },
  {
   "cell_type": "code",
   "execution_count": 34,
   "metadata": {},
   "outputs": [],
   "source": [
    "file_2PL = Path('/Users/edgar/Repositorios/Cognitive_Models_El_Farol_Bar_Problem/reports/MLE_2P/best_fit_2PL.json')"
   ]
  },
  {
   "cell_type": "code",
   "execution_count": 56,
   "metadata": {},
   "outputs": [
    {
     "data": {
      "text/html": [
       "<div>\n",
       "<style scoped>\n",
       "    .dataframe tbody tr th:only-of-type {\n",
       "        vertical-align: middle;\n",
       "    }\n",
       "\n",
       "    .dataframe tbody tr th {\n",
       "        vertical-align: top;\n",
       "    }\n",
       "\n",
       "    .dataframe thead th {\n",
       "        text-align: right;\n",
       "    }\n",
       "</style>\n",
       "<table border=\"1\" class=\"dataframe\">\n",
       "  <thead>\n",
       "    <tr style=\"text-align: right;\">\n",
       "      <th></th>\n",
       "      <th>deviance</th>\n",
       "      <th>AIC</th>\n",
       "    </tr>\n",
       "    <tr>\n",
       "      <th>model_name</th>\n",
       "      <th></th>\n",
       "      <th></th>\n",
       "    </tr>\n",
       "  </thead>\n",
       "  <tbody>\n",
       "    <tr>\n",
       "      <th>Random</th>\n",
       "      <td>3143.326291</td>\n",
       "      <td>6288.652582</td>\n",
       "    </tr>\n",
       "    <tr>\n",
       "      <th>WSLS</th>\n",
       "      <td>12261.308333</td>\n",
       "      <td>24528.616666</td>\n",
       "    </tr>\n",
       "    <tr>\n",
       "      <th>QL</th>\n",
       "      <td>2578.311655</td>\n",
       "      <td>5164.623309</td>\n",
       "    </tr>\n",
       "    <tr>\n",
       "      <th>QAttendance</th>\n",
       "      <td>2708.846026</td>\n",
       "      <td>5427.692052</td>\n",
       "    </tr>\n",
       "    <tr>\n",
       "      <th>QFairness</th>\n",
       "      <td>3142.705099</td>\n",
       "      <td>6295.410197</td>\n",
       "    </tr>\n",
       "    <tr>\n",
       "      <th>MFP</th>\n",
       "      <td>3144.958523</td>\n",
       "      <td>6295.917045</td>\n",
       "    </tr>\n",
       "    <tr>\n",
       "      <th>MFPAgg</th>\n",
       "      <td>2969.616397</td>\n",
       "      <td>5945.232793</td>\n",
       "    </tr>\n",
       "    <tr>\n",
       "      <th>PRW</th>\n",
       "      <td>3188.477031</td>\n",
       "      <td>6384.954061</td>\n",
       "    </tr>\n",
       "    <tr>\n",
       "      <th>ARW</th>\n",
       "      <td>3132.920964</td>\n",
       "      <td>6271.841928</td>\n",
       "    </tr>\n",
       "  </tbody>\n",
       "</table>\n",
       "</div>"
      ],
      "text/plain": [
       "                 deviance           AIC\n",
       "model_name                             \n",
       "Random        3143.326291   6288.652582\n",
       "WSLS         12261.308333  24528.616666\n",
       "QL            2578.311655   5164.623309\n",
       "QAttendance   2708.846026   5427.692052\n",
       "QFairness     3142.705099   6295.410197\n",
       "MFP           3144.958523   6295.917045\n",
       "MFPAgg        2969.616397   5945.232793\n",
       "PRW           3188.477031   6384.954061\n",
       "ARW           3132.920964   6271.841928"
      ]
     },
     "execution_count": 56,
     "metadata": {},
     "output_type": "execute_result"
    }
   ],
   "source": [
    "df = pd.read_json(file_2PL)\n",
    "df.index = df.model_name\n",
    "df_parameters = df[['model_name', 'free_parameters']]\n",
    "df.drop(columns=['model_name', 'free_parameters'], inplace=True)\n",
    "df"
   ]
  },
  {
   "cell_type": "code",
   "execution_count": 57,
   "metadata": {},
   "outputs": [],
   "source": [
    "latex_string = df.to_latex()"
   ]
  },
  {
   "cell_type": "code",
   "execution_count": 58,
   "metadata": {},
   "outputs": [
    {
     "name": "stderr",
     "output_type": "stream",
     "text": [
      "<>:7: SyntaxWarning: invalid escape sequence '\\}'\n",
      "<>:7: SyntaxWarning: invalid escape sequence '\\}'\n",
      "/var/folders/pc/08jfyvdx7_1b_0dnj5kpf4qw0000gn/T/ipykernel_13595/1268755787.py:7: SyntaxWarning: invalid escape sequence '\\}'\n",
      "  latex_string += r'\\textbf\\{' + model + '\\}\\n\\n'\n",
      "/var/folders/pc/08jfyvdx7_1b_0dnj5kpf4qw0000gn/T/ipykernel_13595/1268755787.py:7: SyntaxWarning: invalid escape sequence '\\}'\n",
      "  latex_string += r'\\textbf\\{' + model + '\\}\\n\\n'\n"
     ]
    },
    {
     "ename": "ModuleNotFoundError",
     "evalue": "No module named 'Utils'",
     "output_type": "error",
     "traceback": [
      "\u001b[0;31m---------------------------------------------------------------------------\u001b[0m",
      "\u001b[0;31mModuleNotFoundError\u001b[0m                       Traceback (most recent call last)",
      "Cell \u001b[0;32mIn[58], line 1\u001b[0m\n\u001b[0;32m----> 1\u001b[0m \u001b[38;5;28;01mfrom\u001b[39;00m \u001b[38;5;21;01mUtils\u001b[39;00m\u001b[38;5;21;01m.\u001b[39;00m\u001b[38;5;21;01mLaTeX_utils\u001b[39;00m \u001b[38;5;28;01mimport\u001b[39;00m PrintLaTeX\n\u001b[1;32m      3\u001b[0m latex_string \u001b[38;5;241m+\u001b[39m\u001b[38;5;241m=\u001b[39m \u001b[38;5;124m'\u001b[39m\u001b[38;5;130;01m\\n\u001b[39;00m\u001b[38;5;124m'\u001b[39m\n\u001b[1;32m      5\u001b[0m \u001b[38;5;28;01mfor\u001b[39;00m model, row \u001b[38;5;129;01min\u001b[39;00m df_parameters\u001b[38;5;241m.\u001b[39miterrows():\n",
      "\u001b[0;31mModuleNotFoundError\u001b[0m: No module named 'Utils'"
     ]
    }
   ],
   "source": [
    "from Utils.LaTeX_utils import PrintLaTeX\n",
    "\n",
    "latex_string += '\\n'\n",
    "\n",
    "for model, row in df_parameters.iterrows():\n",
    "    parameters = row['free_parameters']\n",
    "    latex_string += r'\\textbf\\{' + model + '\\}\\n\\n'\n",
    "    latex_string += PrintLaTeX.print_parameters(parameters)\n"
   ]
  },
  {
   "cell_type": "code",
   "execution_count": null,
   "metadata": {},
   "outputs": [],
   "source": []
  }
 ],
 "metadata": {
  "kernelspec": {
   "display_name": "venv_repositorios",
   "language": "python",
   "name": "python3"
  },
  "language_info": {
   "codemirror_mode": {
    "name": "ipython",
    "version": 3
   },
   "file_extension": ".py",
   "mimetype": "text/x-python",
   "name": "python",
   "nbconvert_exporter": "python",
   "pygments_lexer": "ipython3",
   "version": "3.12.8"
  }
 },
 "nbformat": 4,
 "nbformat_minor": 2
}
