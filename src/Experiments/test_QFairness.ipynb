{
 "cells": [
  {
   "cell_type": "code",
   "execution_count": 1,
   "metadata": {},
   "outputs": [],
   "source": [
    "import sys\n",
    "sys.path.append(\"../\")"
   ]
  },
  {
   "cell_type": "code",
   "execution_count": 2,
   "metadata": {},
   "outputs": [],
   "source": [
    "from Classes.cognitive_model_agents import QFairness"
   ]
  },
  {
   "cell_type": "code",
   "execution_count": 3,
   "metadata": {},
   "outputs": [],
   "source": [
    "DASH_LINE = '-'*60\n",
    "fixed_parameters = {\n",
    "\t\"threshold\":0.5,\n",
    "\t\"num_agents\":2,\n",
    "}\n",
    "free_parameters = {\n",
    "\t\"learning_rate\": 0.1,\n",
    "\t\"discount_factor\": 0,\n",
    "\t\"go_drive\":0,\n",
    "\t\"inverse_temperature\":32\n",
    "}\n",
    "agent = QFairness(\n",
    "\tfixed_parameters=fixed_parameters,\n",
    "\tfree_parameters=free_parameters,\n",
    "\tn=0\n",
    ")\n",
    "agent.debug = True"
   ]
  },
  {
   "cell_type": "code",
   "execution_count": 5,
   "metadata": {},
   "outputs": [
    {
     "name": "stdout",
     "output_type": "stream",
     "text": [
      "\n",
      "------------------------------------------------------------\n",
      "Test bar is full\n",
      "------------------------------------------------------------\n",
      "Initial state: [1, 1]\n",
      "---------- Round 0 ----------\n",
      "Action preferences in state [1, 1]: [-0.035 -0.15 ]\n",
      "Action probabilities: [0.97539757 0.02460243]\n",
      "Probabilities:\n",
      "no go:0.9753975715972606 ---- go:0.024602428402739424\n",
      "Chosen action: 0\n",
      "State arrived: [0, 1]\n",
      "Payoff action 0: 0\n",
      "Fairness go average: 0.47044334975369456\n",
      "Average go frequency: 0.029556650246305417\n",
      "Reward with average go frequency: 0.47044334975369456\n",
      "Learning rule:\n",
      "Q[(1, 1),0] <- -0.035 + 0.1 * (0.47044334975369456 - -0.035)\n",
      "Q[(1, 1),0] = 0.015544334975369452\n",
      "---------- Round 1 ----------\n",
      "Action preferences in state [0, 1]: [ 0.47208134 -0.11666667]\n",
      "Action probabilities: [9.99999993e-01 6.57536118e-09]\n",
      "Probabilities:\n",
      "no go:0.9999999934246389 ---- go:6.5753611753371455e-09\n",
      "Chosen action: 0\n",
      "State arrived: [0, 1]\n",
      "Payoff action 0: 0\n",
      "Fairness go average: 0.47073170731707314\n",
      "Average go frequency: 0.02926829268292683\n",
      "Reward with average go frequency: 0.47073170731707314\n",
      "Learning rule:\n",
      "Q[(0, 1),0] <- 0.4720813434022613 + 0.1 * (0.47073170731707314 - 0.4720813434022613)\n",
      "Q[(0, 1),0] = 0.4719463797937425\n",
      "---------- Round 2 ----------\n",
      "Action preferences in state [0, 1]: [ 0.47194638 -0.11666667]\n",
      "Action probabilities: [9.99999993e-01 6.60382049e-09]\n",
      "Probabilities:\n",
      "no go:0.9999999933961795 ---- go:6.603820489550654e-09\n",
      "Chosen action: 0\n",
      "State arrived: [0, 1]\n",
      "Payoff action 0: 0\n",
      "Fairness go average: 0.47101449275362317\n",
      "Average go frequency: 0.028985507246376812\n",
      "Reward with average go frequency: 0.47101449275362317\n",
      "Learning rule:\n",
      "Q[(0, 1),0] <- 0.4719463797937425 + 0.1 * (0.47101449275362317 - 0.4719463797937425)\n",
      "Q[(0, 1),0] = 0.47185319108973056\n",
      "---------- Round 3 ----------\n",
      "Action preferences in state [0, 1]: [ 0.47185319 -0.11666667]\n",
      "Action probabilities: [9.99999993e-01 6.62354273e-09]\n",
      "Probabilities:\n",
      "no go:0.9999999933764573 ---- go:6.623542728177212e-09\n",
      "Chosen action: 0\n",
      "State arrived: [0, 1]\n",
      "Payoff action 0: 0\n",
      "Fairness go average: 0.47129186602870815\n",
      "Average go frequency: 0.028708133971291867\n",
      "Reward with average go frequency: 0.47129186602870815\n",
      "Learning rule:\n",
      "Q[(0, 1),0] <- 0.47185319108973056 + 0.1 * (0.47129186602870815 - 0.47185319108973056)\n",
      "Q[(0, 1),0] = 0.4717970585836283\n",
      "---------- Round 4 ----------\n",
      "Action preferences in state [0, 1]: [ 0.47179706 -0.11666667]\n",
      "Action probabilities: [9.99999993e-01 6.63545089e-09]\n",
      "Probabilities:\n",
      "no go:0.9999999933645491 ---- go:6.635450893542575e-09\n",
      "Chosen action: 0\n",
      "State arrived: [0, 1]\n",
      "Payoff action 0: 0\n",
      "Fairness go average: 0.471563981042654\n",
      "Average go frequency: 0.02843601895734597\n",
      "Reward with average go frequency: 0.471563981042654\n",
      "Learning rule:\n",
      "Q[(0, 1),0] <- 0.4717970585836283 + 0.1 * (0.471563981042654 - 0.4717970585836283)\n",
      "Q[(0, 1),0] = 0.4717737508295309\n"
     ]
    }
   ],
   "source": [
    "print('')\n",
    "print(DASH_LINE)\n",
    "print('Test bar is full')\n",
    "print(DASH_LINE)    \n",
    "action = 1\n",
    "state = [action, 1]\n",
    "print('Initial state:', state)\n",
    "agent.decisions.append(action)\n",
    "agent.prev_state_ = tuple(state)\n",
    "for i in range(5):\n",
    "\tprint(f'---------- Round {i} ----------')\n",
    "\tpreferences = agent.determine_action_preferences(state)\n",
    "\tprint(f'Action preferences in state {state}: {preferences}')\n",
    "\tprobabilities = agent.softmax(preferences)\n",
    "\tprint('Action probabilities:', probabilities)\n",
    "\taction = agent.make_decision()\n",
    "\tprint('Chosen action:', action)\n",
    "\tagent.decisions.append(action)\n",
    "\tnew_state = [action, 1]\n",
    "\tstate = new_state\n",
    "\tprint('State arrived:', new_state)\n",
    "\tpayoff = agent.payoff(action, state)\n",
    "\tprint(f'Payoff action {action}: {payoff}')\n",
    "\tagent.update(payoff, state)\n",
    "\tagent.prev_state_ = tuple(state)  "
   ]
  },
  {
   "cell_type": "code",
   "execution_count": 6,
   "metadata": {},
   "outputs": [
    {
     "name": "stdout",
     "output_type": "stream",
     "text": [
      "\n",
      "------------------------------------------------------------\n",
      "Test bar has capacity\n",
      "------------------------------------------------------------\n",
      "Initial state: [1, 0]\n",
      "---------- Round 0 ----------\n",
      "Action preferences in state [1, 0]: [0. 0.]\n",
      "Action probabilities: [0.5 0.5]\n",
      "Probabilities:\n",
      "no go:0.5 ---- go:0.5\n",
      "Chosen action: 1\n",
      "State arrived: [1, 0]\n",
      "Payoff action 1: 1\n",
      "Fairness go average: -0.5\n",
      "Average go frequency: 1.0\n",
      "Reward with average go frequency: 0.5\n",
      "Learning rule:\n",
      "Q[(1, 0),1] <- 0.0 + 0.1 * (0.5 - 0.0)\n",
      "Q[(1, 0),1] = 0.05\n",
      "---------- Round 1 ----------\n",
      "Action preferences in state [1, 0]: [0.   0.05]\n",
      "Action probabilities: [0.16798161 0.83201839]\n",
      "Probabilities:\n",
      "no go:0.16798161486607552 ---- go:0.8320183851339245\n",
      "Chosen action: 1\n",
      "State arrived: [1, 0]\n",
      "Payoff action 1: 1\n",
      "Fairness go average: -0.5\n",
      "Average go frequency: 1.0\n",
      "Reward with average go frequency: 0.5\n",
      "Learning rule:\n",
      "Q[(1, 0),1] <- 0.05 + 0.1 * (0.5 - 0.05)\n",
      "Q[(1, 0),1] = 0.095\n",
      "---------- Round 2 ----------\n",
      "Action preferences in state [1, 0]: [0.    0.095]\n",
      "Action probabilities: [0.04565117 0.95434883]\n",
      "Probabilities:\n",
      "no go:0.04565117078444372 ---- go:0.9543488292155563\n",
      "Chosen action: 1\n",
      "State arrived: [1, 0]\n",
      "Payoff action 1: 1\n",
      "Fairness go average: -0.5\n",
      "Average go frequency: 1.0\n",
      "Reward with average go frequency: 0.5\n",
      "Learning rule:\n",
      "Q[(1, 0),1] <- 0.095 + 0.1 * (0.5 - 0.095)\n",
      "Q[(1, 0),1] = 0.1355\n",
      "---------- Round 3 ----------\n",
      "Action preferences in state [1, 0]: [0.     0.1355]\n",
      "Action probabilities: [0.01291968 0.98708032]\n",
      "Probabilities:\n",
      "no go:0.012919675967443091 ---- go:0.9870803240325569\n",
      "Chosen action: 1\n",
      "State arrived: [1, 0]\n",
      "Payoff action 1: 1\n",
      "Fairness go average: -0.5\n",
      "Average go frequency: 1.0\n",
      "Reward with average go frequency: 0.5\n",
      "Learning rule:\n",
      "Q[(1, 0),1] <- 0.1355 + 0.1 * (0.5 - 0.1355)\n",
      "Q[(1, 0),1] = 0.17195000000000002\n",
      "---------- Round 4 ----------\n",
      "Action preferences in state [1, 0]: [0.      0.17195]\n",
      "Action probabilities: [0.00406042 0.99593958]\n",
      "Probabilities:\n",
      "no go:0.004060420713976016 ---- go:0.995939579286024\n",
      "Chosen action: 1\n",
      "State arrived: [1, 0]\n",
      "Payoff action 1: 1\n",
      "Fairness go average: -0.5\n",
      "Average go frequency: 1.0\n",
      "Reward with average go frequency: 0.5\n",
      "Learning rule:\n",
      "Q[(1, 0),1] <- 0.17195000000000002 + 0.1 * (0.5 - 0.17195000000000002)\n",
      "Q[(1, 0),1] = 0.20475500000000002\n"
     ]
    }
   ],
   "source": [
    "print('')\n",
    "print(DASH_LINE)\n",
    "print('Test bar has capacity')\n",
    "print(DASH_LINE) \n",
    "agent = QFairness(\n",
    "\tfixed_parameters=fixed_parameters,\n",
    "\tfree_parameters=free_parameters,\n",
    "\tn=0\n",
    ")\n",
    "agent.debug = True\n",
    "action = 1\n",
    "state = [action, 0]\n",
    "print('Initial state:', state)\n",
    "agent.decisions.append(action)\n",
    "agent.prev_state_ = tuple(state)\n",
    "for i in range(5):\n",
    "\tprint(f'---------- Round {i} ----------')\n",
    "\tpreferences = agent.determine_action_preferences(state)\n",
    "\tprint(f'Action preferences in state {state}: {preferences}')\n",
    "\tprobabilities = agent.softmax(preferences)\n",
    "\tprint('Action probabilities:', probabilities)\n",
    "\taction = agent.make_decision()\n",
    "\tprint('Chosen action:', action)\n",
    "\tagent.decisions.append(action)\n",
    "\tnew_state = [action, 0]\n",
    "\tstate = new_state\n",
    "\tprint('State arrived:', new_state)\n",
    "\tpayoff = agent.payoff(action, state)\n",
    "\tprint(f'Payoff action {action}: {payoff}')\n",
    "\tagent.update(payoff, state)\n",
    "\tagent.prev_state_ = tuple(state)"
   ]
  },
  {
   "cell_type": "code",
   "execution_count": 7,
   "metadata": {},
   "outputs": [
    {
     "name": "stderr",
     "output_type": "stream",
     "text": [
      "100%|██████████| 10/10 [00:02<00:00,  3.61it/s]\n"
     ]
    },
    {
     "name": "stdout",
     "output_type": "stream",
     "text": [
      "Plotting render...\n",
      "Plotting efficiency...\n",
      "Plot saved to ../../images/QFairness/efficiency_1.pdf\n",
      "Plotting inequality...\n",
      "Plot saved to ../../images/QFairness/inequality_1.pdf\n",
      "Plotting entropy...\n",
      "Plot saved to ../../images/QFairness/entropy_1.pdf\n",
      "Plotting conditional_entropy...\n",
      "Plot saved to ../../images/QFairness/conditional_entropy_1.pdf\n"
     ]
    },
    {
     "data": {
      "image/png": "[encoded data removed]",
      "text/plain": [
       "<Figure size 300x350 with 1 Axes>"
      ]
     },
     "metadata": {},
     "output_type": "display_data"
    },
    {
     "data": {
      "image/png": "[encoded data removed]",
      "text/plain": [
       "<Figure size 300x350 with 1 Axes>"
      ]
     },
     "metadata": {},
     "output_type": "display_data"
    },
    {
     "data": {
      "image/png": "[encoded data removed]",
      "text/plain": [
       "<Figure size 300x350 with 1 Axes>"
      ]
     },
     "metadata": {},
     "output_type": "display_data"
    },
    {
     "data": {
      "image/png": "[encoded data removed]",
      "text/plain": [
       "<Figure size 300x350 with 1 Axes>"
      ]
     },
     "metadata": {},
     "output_type": "display_data"
    }
   ],
   "source": [
    "from pathlib import Path\n",
    "from Utils.interaction import Performer\n",
    "\n",
    "image_folder = Path('../../images/QFairness')\n",
    "image_folder.mkdir(parents=True, exist_ok=True)\n",
    "\n",
    "simulation_parameters = {\n",
    "\t'num_episodes':10,\n",
    "\t'num_rounds':1000,\n",
    "\t'verbose':False\n",
    "}\n",
    "\n",
    "LaTeX_string = Performer.simple_plots(\n",
    "\tagent_class=QFairness,\n",
    "\tfixed_parameters=fixed_parameters,\n",
    "\tfree_parameters=free_parameters,\n",
    "\tsimulation_parameters=simulation_parameters,\n",
    "\tmeasures=['efficiency', 'inequality', 'entropy', 'conditional_entropy'],\n",
    "\timage_folder=image_folder\n",
    ")"
   ]
  }
 ],
 "metadata": {
  "kernelspec": {
   "display_name": "venv_repositorios",
   "language": "python",
   "name": "python3"
  },
  "language_info": {
   "codemirror_mode": {
    "name": "ipython",
    "version": 3
   },
   "file_extension": ".py",
   "mimetype": "text/x-python",
   "name": "python",
   "nbconvert_exporter": "python",
   "pygments_lexer": "ipython3",
   "version": "3.12.8"
  }
 },
 "nbformat": 4,
 "nbformat_minor": 2
}
