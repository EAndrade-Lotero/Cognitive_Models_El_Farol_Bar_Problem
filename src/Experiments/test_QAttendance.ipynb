{
 "cells": [
  {
   "cell_type": "code",
   "execution_count": 1,
   "metadata": {},
   "outputs": [],
   "source": [
    "import sys\n",
    "sys.path.append(\"../\")\n",
    "\n",
    "import warnings\n",
    "warnings.filterwarnings(\"ignore\")"
   ]
  },
  {
   "cell_type": "code",
   "execution_count": 2,
   "metadata": {},
   "outputs": [],
   "source": [
    "from Classes.cognitive_model_agents import QAttendance"
   ]
  },
  {
   "cell_type": "code",
   "execution_count": 3,
   "metadata": {},
   "outputs": [],
   "source": [
    "DASH_LINE = '-'*60\n",
    "fixed_parameters = {\n",
    "\t\"threshold\":0.5,\n",
    "\t\"num_agents\":2,\n",
    "}\n",
    "free_parameters = {\n",
    "\t\"learning_rate\": 0.1,\n",
    "\t\"discount_factor\": 0.7,\n",
    "\t\"go_drive\":0,\n",
    "\t\"inverse_temperature\":32\n",
    "}\n",
    "agent = QAttendance(\n",
    "\tfixed_parameters=fixed_parameters,\n",
    "\tfree_parameters=free_parameters,\n",
    "\tn=0\n",
    ")\n",
    "agent.debug = True"
   ]
  },
  {
   "cell_type": "code",
   "execution_count": 4,
   "metadata": {},
   "outputs": [
    {
     "name": "stdout",
     "output_type": "stream",
     "text": [
      "\n",
      "------------------------------------------------------------\n",
      "Test bar is full\n",
      "------------------------------------------------------------\n",
      "Initial state: [1, 1]\n",
      "---------- Round 0 ----------\n",
      "Action preferences in state [1, 1]: [0. 0.]\n",
      "Action probabilities: [0.5 0.5]\n",
      "Probabilities:\n",
      "no go:0.5 ---- go:0.5\n",
      "Chosen action: 1\n",
      "State arrived: [1, 1]\n",
      "Payoff action 1: -1\n",
      "Discounted average go frequency: 0.7\n",
      "Reward: -1\n",
      "Reward with average go frequency: -0.30000000000000004\n",
      "Learning rule:\n",
      "Q[(1, 1),1] <- 0.0 + 0.1 * (-0.30000000000000004 - 0.0)\n",
      "Q[(1, 1),1] = -0.030000000000000006\n",
      "---------- Round 1 ----------\n",
      "Action preferences in state [1, 1]: [ 0.   -0.03]\n",
      "Action probabilities: [0.72312181 0.27687819]\n",
      "Probabilities:\n",
      "no go:0.7231218051243898 ---- go:0.27687819487561016\n",
      "Chosen action: 0\n",
      "State arrived: [0, 1]\n",
      "Payoff action 0: 0\n",
      "Discounted average go frequency: 1.19\n",
      "Reward: 0\n",
      "Reward with average go frequency: 1.19\n",
      "Learning rule:\n",
      "Q[(1, 1),0] <- 0.0 + 0.1 * (1.19 - 0.0)\n",
      "Q[(1, 1),0] = 0.119\n",
      "---------- Round 2 ----------\n",
      "Action preferences in state [0, 1]: [0. 0.]\n",
      "Action probabilities: [0.5 0.5]\n",
      "Probabilities:\n",
      "no go:0.5 ---- go:0.5\n",
      "Chosen action: 1\n",
      "State arrived: [1, 1]\n",
      "Payoff action 1: -1\n",
      "Discounted average go frequency: 0.8329999999999999\n",
      "Reward: 1\n",
      "Reward with average go frequency: 1.9162999999999997\n",
      "Learning rule:\n",
      "Q[(0, 1),1] <- 0.0 + 0.1 * (1.9162999999999997 - 0.0)\n",
      "Q[(0, 1),1] = 0.19162999999999997\n",
      "---------- Round 3 ----------\n",
      "Action preferences in state [1, 1]: [ 0.119 -0.03 ]\n",
      "Action probabilities: [0.99157424 0.00842576]\n",
      "Probabilities:\n",
      "no go:0.9915742388159501 ---- go:0.008425761184050008\n",
      "Chosen action: 0\n",
      "State arrived: [0, 1]\n",
      "Payoff action 0: 0\n",
      "Discounted average go frequency: 1.2831\n",
      "Reward: 0\n",
      "Reward with average go frequency: 1.4172409999999998\n",
      "Learning rule:\n",
      "Q[(1, 1),0] <- 0.119 + 0.1 * (1.4172409999999998 - 0.119)\n",
      "Q[(1, 1),0] = 0.24882409999999996\n",
      "---------- Round 4 ----------\n",
      "Action preferences in state [0, 1]: [0.      0.19163]\n",
      "Action probabilities: [0.00216718 0.99783282]\n",
      "Probabilities:\n",
      "no go:0.0021671777596697877 ---- go:0.9978328222403302\n",
      "Chosen action: 1\n",
      "State arrived: [1, 1]\n",
      "Payoff action 1: -1\n",
      "Discounted average go frequency: 0.8981699999999998\n",
      "Reward: 1\n",
      "Reward with average go frequency: 2.0723468699999996\n",
      "Learning rule:\n",
      "Q[(0, 1),1] <- 0.19162999999999997 + 0.1 * (2.0723468699999996 - 0.19162999999999997)\n",
      "Q[(0, 1),1] = 0.37970168699999995\n",
      "---------- Round 5 ----------\n",
      "Action preferences in state [1, 1]: [ 0.2488241 -0.03     ]\n",
      "Action probabilities: [9.99866646e-01 1.33353833e-04]\n",
      "Probabilities:\n",
      "no go:0.9998666461668511 ---- go:0.0001333538331489264\n",
      "Chosen action: 0\n",
      "State arrived: [0, 1]\n",
      "Payoff action 0: 0\n",
      "Discounted average go frequency: 1.3287189999999998\n",
      "Reward: 0\n",
      "Reward with average go frequency: 1.5945101808999997\n",
      "Learning rule:\n",
      "Q[(1, 1),0] <- 0.24882409999999996 + 0.1 * (1.5945101808999997 - 0.24882409999999996)\n",
      "Q[(1, 1),0] = 0.3833927080899999\n",
      "---------- Round 6 ----------\n",
      "Action preferences in state [0, 1]: [0.         0.37970169]\n",
      "Action probabilities: [5.28594435e-06 9.99994714e-01]\n",
      "Probabilities:\n",
      "no go:5.285944348353875e-06 ---- go:0.9999947140556517\n",
      "Chosen action: 1\n",
      "State arrived: [1, 1]\n",
      "Payoff action 1: -1\n",
      "Discounted average go frequency: 0.9301032999999999\n",
      "Reward: 1\n",
      "Reward with average go frequency: 2.1984781956629997\n",
      "Learning rule:\n",
      "Q[(0, 1),1] <- 0.37970168699999995 + 0.1 * (2.1984781956629997 - 0.37970168699999995)\n",
      "Q[(0, 1),1] = 0.5615793378663\n",
      "---------- Round 7 ----------\n",
      "Action preferences in state [1, 1]: [ 0.38339271 -0.03      ]\n",
      "Action probabilities: [9.99998202e-01 1.79848043e-06]\n",
      "Probabilities:\n",
      "no go:0.999998201519574 ---- go:1.798480426039489e-06\n",
      "Chosen action: 0\n",
      "State arrived: [0, 1]\n",
      "Payoff action 0: 0\n",
      "Discounted average go frequency: 1.3510723099999997\n",
      "Reward: 0\n",
      "Reward with average go frequency: 1.7441778465064097\n",
      "Learning rule:\n",
      "Q[(1, 1),0] <- 0.3833927080899999 + 0.1 * (1.7441778465064097 - 0.3833927080899999)\n",
      "Q[(1, 1),0] = 0.5194712219316409\n",
      "---------- Round 8 ----------\n",
      "Action preferences in state [0, 1]: [0.         0.56157934]\n",
      "Action probabilities: [1.56853477e-08 9.99999984e-01]\n",
      "Probabilities:\n",
      "no go:1.5685347707315613e-08 ---- go:0.9999999843146523\n",
      "Chosen action: 1\n",
      "State arrived: [1, 1]\n",
      "Payoff action 1: -1\n",
      "Discounted average go frequency: 0.9457506169999998\n",
      "Reward: 1\n",
      "Reward with average go frequency: 2.3093804723521485\n",
      "Learning rule:\n",
      "Q[(0, 1),1] <- 0.5615793378663 + 0.1 * (2.3093804723521485 - 0.5615793378663)\n",
      "Q[(0, 1),1] = 0.7363594513148849\n",
      "---------- Round 9 ----------\n",
      "Action preferences in state [1, 1]: [ 0.51947122 -0.03      ]\n",
      "Action probabilities: [9.99999977e-01 2.31081810e-08]\n",
      "Probabilities:\n",
      "no go:0.999999976891819 ---- go:2.3108181031246803e-08\n",
      "Chosen action: 0\n",
      "State arrived: [0, 1]\n",
      "Payoff action 0: 0\n",
      "Discounted average go frequency: 1.3620254318999998\n",
      "Reward: 0\n",
      "Reward with average go frequency: 1.8774770478204192\n",
      "Learning rule:\n",
      "Q[(1, 1),0] <- 0.5194712219316409 + 0.1 * (1.8774770478204192 - 0.5194712219316409)\n",
      "Q[(1, 1),0] = 0.6552718045205187\n"
     ]
    }
   ],
   "source": [
    "print('')\n",
    "print(DASH_LINE)\n",
    "print('Test bar is full')\n",
    "print(DASH_LINE)    \n",
    "action = 1\n",
    "state = [action, 1]\n",
    "print('Initial state:', state)\n",
    "agent.decisions.append(action)\n",
    "agent.prev_state_ = tuple(state)\n",
    "for i in range(10):\n",
    "\tprint(f'---------- Round {i} ----------')\n",
    "\tpreferences = agent.determine_action_preferences(state)\n",
    "\tprint(f'Action preferences in state {state}: {preferences}')\n",
    "\tprobabilities = agent.softmax(preferences)\n",
    "\tprint('Action probabilities:', probabilities)\n",
    "\taction = agent.make_decision()\n",
    "\tprint('Chosen action:', action)\n",
    "\tnew_state = [action, 1]\n",
    "\tstate = new_state\n",
    "\tprint('State arrived:', new_state)\n",
    "\tpayoff = agent.payoff(action, state)\n",
    "\tprint(f'Payoff action {action}: {payoff}')\n",
    "\tagent.update(payoff, state)\n",
    "\tagent.prev_state_ = tuple(state)  "
   ]
  },
  {
   "cell_type": "code",
   "execution_count": 5,
   "metadata": {},
   "outputs": [
    {
     "name": "stdout",
     "output_type": "stream",
     "text": [
      "\n",
      "------------------------------------------------------------\n",
      "Test bar has capacity\n",
      "------------------------------------------------------------\n",
      "Initial state: [1, 0]\n",
      "---------- Round 0 ----------\n",
      "Action preferences in state [1, 0]: [0. 0.]\n",
      "Action probabilities: [0.5 0.5]\n",
      "Probabilities:\n",
      "no go:0.5 ---- go:0.5\n",
      "Chosen action: 1\n",
      "State arrived: [1, 0]\n",
      "Payoff action 1: 1\n",
      "Discounted average go frequency: 0.7\n",
      "Reward: 1\n",
      "Reward with average go frequency: 1.7\n",
      "Learning rule:\n",
      "Q[(1, 0),1] <- 0.0 + 0.1 * (1.7 - 0.0)\n",
      "Q[(1, 0),1] = 0.17\n",
      "---------- Round 1 ----------\n",
      "Action preferences in state [1, 0]: [0.   0.17]\n",
      "Action probabilities: [0.00432073 0.99567927]\n",
      "Probabilities:\n",
      "no go:0.004320733519911917 ---- go:0.9956792664800881\n",
      "Chosen action: 1\n",
      "State arrived: [1, 0]\n",
      "Payoff action 1: 1\n",
      "Discounted average go frequency: 1.19\n",
      "Reward: 1\n",
      "Reward with average go frequency: 2.309\n",
      "Learning rule:\n",
      "Q[(1, 0),1] <- 0.17 + 0.1 * (2.309 - 0.17)\n",
      "Q[(1, 0),1] = 0.3839\n",
      "---------- Round 2 ----------\n",
      "Action preferences in state [1, 0]: [0.     0.3839]\n",
      "Action probabilities: [4.62143811e-06 9.99995379e-01]\n",
      "Probabilities:\n",
      "no go:4.621438112950234e-06 ---- go:0.999995378561887\n",
      "Chosen action: 1\n",
      "State arrived: [1, 0]\n",
      "Payoff action 1: 1\n",
      "Discounted average go frequency: 1.533\n",
      "Reward: 1\n",
      "Reward with average go frequency: 2.80173\n",
      "Learning rule:\n",
      "Q[(1, 0),1] <- 0.3839 + 0.1 * (2.80173 - 0.3839)\n",
      "Q[(1, 0),1] = 0.625683\n",
      "---------- Round 3 ----------\n",
      "Action preferences in state [1, 0]: [0.       0.625683]\n",
      "Action probabilities: [2.01659377e-09 9.99999998e-01]\n",
      "Probabilities:\n",
      "no go:2.0165937686205245e-09 ---- go:0.9999999979834062\n",
      "Chosen action: 1\n",
      "State arrived: [1, 0]\n",
      "Payoff action 1: 1\n",
      "Discounted average go frequency: 1.7731\n",
      "Reward: 1\n",
      "Reward with average go frequency: 3.2110781\n",
      "Learning rule:\n",
      "Q[(1, 0),1] <- 0.625683 + 0.1 * (3.2110781 - 0.625683)\n",
      "Q[(1, 0),1] = 0.8842225100000001\n",
      "---------- Round 4 ----------\n",
      "Action preferences in state [1, 0]: [0.         0.88422251]\n",
      "Action probabilities: [5.14736992e-13 1.00000000e+00]\n",
      "Probabilities:\n",
      "no go:5.147369919182824e-13 ---- go:0.9999999999994853\n",
      "Chosen action: 1\n",
      "State arrived: [1, 0]\n",
      "Payoff action 1: 1\n",
      "Discounted average go frequency: 1.9411699999999998\n",
      "Reward: 1\n",
      "Reward with average go frequency: 3.560125757\n",
      "Learning rule:\n",
      "Q[(1, 0),1] <- 0.8842225100000001 + 0.1 * (3.560125757 - 0.8842225100000001)\n",
      "Q[(1, 0),1] = 1.1518128347\n",
      "---------- Round 5 ----------\n",
      "Action preferences in state [1, 0]: [0.         1.15181283]\n",
      "Action probabilities: [9.8348861e-17 1.0000000e+00]\n",
      "Probabilities:\n",
      "no go:9.83488609815856e-17 ---- go:0.9999999999999998\n",
      "Chosen action: 1\n",
      "State arrived: [1, 0]\n",
      "Payoff action 1: 1\n",
      "Discounted average go frequency: 2.0588189999999997\n",
      "Reward: 1\n",
      "Reward with average go frequency: 3.8650879842899997\n",
      "Learning rule:\n",
      "Q[(1, 0),1] <- 1.1518128347 + 0.1 * (3.8650879842899997 - 1.1518128347)\n",
      "Q[(1, 0),1] = 1.423140349659\n",
      "---------- Round 6 ----------\n",
      "Action preferences in state [1, 0]: [0.         1.42314035]\n",
      "Action probabilities: [1.66730854e-20 1.00000000e+00]\n",
      "Probabilities:\n",
      "no go:1.6673085352784056e-20 ---- go:1.0\n",
      "Chosen action: 1\n",
      "State arrived: [1, 0]\n",
      "Payoff action 1: 1\n",
      "Discounted average go frequency: 2.1411732999999997\n",
      "Reward: 1\n",
      "Reward with average go frequency: 4.137371544761299\n",
      "Learning rule:\n",
      "Q[(1, 0),1] <- 1.423140349659 + 0.1 * (4.137371544761299 - 1.423140349659)\n",
      "Q[(1, 0),1] = 1.69456346916923\n",
      "---------- Round 7 ----------\n",
      "Action preferences in state [1, 0]: [0.         1.69456347]\n",
      "Action probabilities: [2.81795436e-24 1.00000000e+00]\n",
      "Probabilities:\n",
      "no go:2.817954362761622e-24 ---- go:1.0\n",
      "Chosen action: 1\n",
      "State arrived: [1, 0]\n",
      "Payoff action 1: 1\n",
      "Discounted average go frequency: 2.1988213099999996\n",
      "Reward: 1\n",
      "Reward with average go frequency: 4.385015738418461\n",
      "Learning rule:\n",
      "Q[(1, 0),1] <- 1.69456346916923 + 0.1 * (4.385015738418461 - 1.69456346916923)\n",
      "Q[(1, 0),1] = 1.963608696094153\n",
      "---------- Round 8 ----------\n",
      "Action preferences in state [1, 0]: [0.        1.9636087]\n",
      "Action probabilities: [5.13923548e-28 1.00000000e+00]\n",
      "Probabilities:\n",
      "no go:5.13923547853895e-28 ---- go:1.0\n",
      "Chosen action: 1\n",
      "State arrived: [1, 0]\n",
      "Payoff action 1: 1\n",
      "Discounted average go frequency: 2.2391749169999997\n",
      "Reward: 1\n",
      "Reward with average go frequency: 4.613701004265907\n",
      "Learning rule:\n",
      "Q[(1, 0),1] <- 1.963608696094153 + 0.1 * (4.613701004265907 - 1.963608696094153)\n",
      "Q[(1, 0),1] = 2.2286179269113284\n",
      "---------- Round 9 ----------\n",
      "Action preferences in state [1, 0]: [0.         2.22861793]\n",
      "Action probabilities: [1.06648076e-31 1.00000000e+00]\n",
      "Probabilities:\n",
      "no go:1.0664807634182486e-31 ---- go:1.0\n",
      "Chosen action: 1\n",
      "State arrived: [1, 0]\n",
      "Payoff action 1: 1\n",
      "Discounted average go frequency: 2.2674224418999995\n",
      "Reward: 1\n",
      "Reward with average go frequency: 4.827454990737929\n",
      "Learning rule:\n",
      "Q[(1, 0),1] <- 2.2286179269113284 + 0.1 * (4.827454990737929 - 2.2286179269113284)\n",
      "Q[(1, 0),1] = 2.4885016332939887\n"
     ]
    }
   ],
   "source": [
    "print('')\n",
    "print(DASH_LINE)\n",
    "print('Test bar has capacity')\n",
    "print(DASH_LINE) \n",
    "agent = QAttendance(\n",
    "\tfixed_parameters=fixed_parameters,\n",
    "\tfree_parameters=free_parameters,\n",
    "\tn=0\n",
    ")\n",
    "agent.debug = True\n",
    "action = 1\n",
    "state = [action, 0]\n",
    "print('Initial state:', state)\n",
    "agent.decisions.append(action)\n",
    "agent.prev_state_ = tuple(state)\n",
    "for i in range(10):\n",
    "\tprint(f'---------- Round {i} ----------')\n",
    "\tpreferences = agent.determine_action_preferences(state)\n",
    "\tprint(f'Action preferences in state {state}: {preferences}')\n",
    "\tprobabilities = agent.softmax(preferences)\n",
    "\tprint('Action probabilities:', probabilities)\n",
    "\taction = agent.make_decision()\n",
    "\tprint('Chosen action:', action)\n",
    "\tnew_state = [action, 0]\n",
    "\tstate = new_state\n",
    "\tprint('State arrived:', new_state)\n",
    "\tpayoff = agent.payoff(action, state)\n",
    "\tprint(f'Payoff action {action}: {payoff}')\n",
    "\tagent.update(payoff, state)\n",
    "\tagent.prev_state_ = tuple(state)"
   ]
  },
  {
   "cell_type": "code",
   "execution_count": 6,
   "metadata": {},
   "outputs": [],
   "source": [
    "from pathlib import Path\n",
    "from Utils.interaction import Performer\n",
    "\n",
    "image_folder = Path('../../images/QAttendance')\n",
    "image_folder.mkdir(parents=True, exist_ok=True)\n",
    "\n",
    "simulation_parameters = {\n",
    "\t'num_episodes':100,\n",
    "\t'num_rounds':100,\n",
    "\t'verbose':False\n",
    "}"
   ]
  },
  {
   "cell_type": "markdown",
   "metadata": {},
   "source": [
    "LaTeX_string = Performer.simple_plots(\n",
    "\tagent_class=QAttendance,\n",
    "\tfixed_parameters=fixed_parameters,\n",
    "\tfree_parameters=free_parameters,\n",
    "\tsimulation_parameters=simulation_parameters,\n",
    "\tmeasures=['efficiency', 'inequality', 'entropy', 'conditional_entropy'],\n",
    "\timage_folder=image_folder\n",
    ")"
   ]
  },
  {
   "cell_type": "code",
   "execution_count": 7,
   "metadata": {},
   "outputs": [],
   "source": [
    "from Utils.interaction import Experiment\n",
    "\n",
    "exp = Experiment(\n",
    "    agent_class=QAttendance,\n",
    "    fixed_parameters=fixed_parameters,\n",
    "    free_parameters=free_parameters,\n",
    "    simulation_parameters=simulation_parameters,\n",
    "    measures=['efficiency', 'inequality', 'entropy', 'conditional_entropy']\n",
    ")"
   ]
  },
  {
   "cell_type": "code",
   "execution_count": 12,
   "metadata": {},
   "outputs": [
    {
     "data": {
      "application/vnd.jupyter.widget-view+json": {
       "model_id": "15a4df60db6745f9a2a4fb16aeeee321",
       "version_major": 2,
       "version_minor": 0
      },
      "text/plain": [
       "  0%|          | 0/10 [00:00<?, ?it/s]"
      ]
     },
     "metadata": {},
     "output_type": "display_data"
    },
    {
     "data": {
      "application/vnd.jupyter.widget-view+json": {
       "model_id": "e042ec4018c4469d8e39866792029b07",
       "version_major": 2,
       "version_minor": 0
      },
      "text/plain": [
       "  0%|          | 0/10 [00:00<?, ?it/s]"
      ]
     },
     "metadata": {},
     "output_type": "display_data"
    },
    {
     "data": {
      "application/vnd.jupyter.widget-view+json": {
       "model_id": "a62a1bdc9ea047df926ef604dc0ca97b",
       "version_major": 2,
       "version_minor": 0
      },
      "text/plain": [
       "  0%|          | 0/100 [00:00<?, ?it/s]"
      ]
     },
     "metadata": {},
     "output_type": "display_data"
    },
    {
     "data": {
      "application/vnd.jupyter.widget-view+json": {
       "model_id": "f985fb7cfbd746d6b957fc65ddcd37b6",
       "version_major": 2,
       "version_minor": 0
      },
      "text/plain": [
       "  0%|          | 0/100 [00:00<?, ?it/s]"
      ]
     },
     "metadata": {},
     "output_type": "display_data"
    },
    {
     "data": {
      "application/vnd.jupyter.widget-view+json": {
       "model_id": "69a2ce6682324a4c9677976dc1fa8038",
       "version_major": 2,
       "version_minor": 0
      },
      "text/plain": [
       "  0%|          | 0/100 [00:00<?, ?it/s]"
      ]
     },
     "metadata": {},
     "output_type": "display_data"
    },
    {
     "data": {
      "application/vnd.jupyter.widget-view+json": {
       "model_id": "6d738079470345bb8eec31589187725b",
       "version_major": 2,
       "version_minor": 0
      },
      "text/plain": [
       "  0%|          | 0/100 [00:00<?, ?it/s]"
      ]
     },
     "metadata": {},
     "output_type": "display_data"
    },
    {
     "data": {
      "application/vnd.jupyter.widget-view+json": {
       "model_id": "369fcf10c0d443eaa43704f6dc75a2a0",
       "version_major": 2,
       "version_minor": 0
      },
      "text/plain": [
       "  0%|          | 0/100 [00:00<?, ?it/s]"
      ]
     },
     "metadata": {},
     "output_type": "display_data"
    },
    {
     "data": {
      "application/vnd.jupyter.widget-view+json": {
       "model_id": "d2d1389f4d504c4a80de7034d4f772d7",
       "version_major": 2,
       "version_minor": 0
      },
      "text/plain": [
       "  0%|          | 0/100 [00:00<?, ?it/s]"
      ]
     },
     "metadata": {},
     "output_type": "display_data"
    },
    {
     "data": {
      "application/vnd.jupyter.widget-view+json": {
       "model_id": "9d423dba51414f6db831fa740b6624ac",
       "version_major": 2,
       "version_minor": 0
      },
      "text/plain": [
       "  0%|          | 0/100 [00:00<?, ?it/s]"
      ]
     },
     "metadata": {},
     "output_type": "display_data"
    },
    {
     "data": {
      "application/vnd.jupyter.widget-view+json": {
       "model_id": "d66e8059d1ed4de39653ebf59fbb83f2",
       "version_major": 2,
       "version_minor": 0
      },
      "text/plain": [
       "  0%|          | 0/100 [00:00<?, ?it/s]"
      ]
     },
     "metadata": {},
     "output_type": "display_data"
    },
    {
     "data": {
      "application/vnd.jupyter.widget-view+json": {
       "model_id": "64a6ea9ebe7040d3bc6a3f5c079e9db4",
       "version_major": 2,
       "version_minor": 0
      },
      "text/plain": [
       "  0%|          | 0/100 [00:00<?, ?it/s]"
      ]
     },
     "metadata": {},
     "output_type": "display_data"
    },
    {
     "data": {
      "application/vnd.jupyter.widget-view+json": {
       "model_id": "86c1b5a417aa4c57aaad430bce49ee4e",
       "version_major": 2,
       "version_minor": 0
      },
      "text/plain": [
       "  0%|          | 0/100 [00:00<?, ?it/s]"
      ]
     },
     "metadata": {},
     "output_type": "display_data"
    },
    {
     "data": {
      "application/vnd.jupyter.widget-view+json": {
       "model_id": "e0766cca124d474789debbd3c6b23ca0",
       "version_major": 2,
       "version_minor": 0
      },
      "text/plain": [
       "  0%|          | 0/10 [00:00<?, ?it/s]"
      ]
     },
     "metadata": {},
     "output_type": "display_data"
    },
    {
     "data": {
      "application/vnd.jupyter.widget-view+json": {
       "model_id": "19f97a2a8a4d492eaf095f7c48b7d193",
       "version_major": 2,
       "version_minor": 0
      },
      "text/plain": [
       "  0%|          | 0/100 [00:00<?, ?it/s]"
      ]
     },
     "metadata": {},
     "output_type": "display_data"
    },
    {
     "data": {
      "application/vnd.jupyter.widget-view+json": {
       "model_id": "290b483aaac646b99fe7d28b217486e0",
       "version_major": 2,
       "version_minor": 0
      },
      "text/plain": [
       "  0%|          | 0/100 [00:00<?, ?it/s]"
      ]
     },
     "metadata": {},
     "output_type": "display_data"
    },
    {
     "data": {
      "application/vnd.jupyter.widget-view+json": {
       "model_id": "bb1c1046cbb34edd8fb7e455efff3113",
       "version_major": 2,
       "version_minor": 0
      },
      "text/plain": [
       "  0%|          | 0/100 [00:00<?, ?it/s]"
      ]
     },
     "metadata": {},
     "output_type": "display_data"
    },
    {
     "data": {
      "application/vnd.jupyter.widget-view+json": {
       "model_id": "cd4334d9107e4d06b5980464b2cd87fe",
       "version_major": 2,
       "version_minor": 0
      },
      "text/plain": [
       "  0%|          | 0/100 [00:00<?, ?it/s]"
      ]
     },
     "metadata": {},
     "output_type": "display_data"
    },
    {
     "data": {
      "application/vnd.jupyter.widget-view+json": {
       "model_id": "4386deda56cd4537b9aa8ddf6fe9576f",
       "version_major": 2,
       "version_minor": 0
      },
      "text/plain": [
       "  0%|          | 0/100 [00:00<?, ?it/s]"
      ]
     },
     "metadata": {},
     "output_type": "display_data"
    },
    {
     "data": {
      "application/vnd.jupyter.widget-view+json": {
       "model_id": "40aa2bd9dd81494c8656bfbfb2e6b33f",
       "version_major": 2,
       "version_minor": 0
      },
      "text/plain": [
       "  0%|          | 0/100 [00:00<?, ?it/s]"
      ]
     },
     "metadata": {},
     "output_type": "display_data"
    },
    {
     "data": {
      "application/vnd.jupyter.widget-view+json": {
       "model_id": "3c07646a1b79458b9a28f4212e4717ba",
       "version_major": 2,
       "version_minor": 0
      },
      "text/plain": [
       "  0%|          | 0/100 [00:00<?, ?it/s]"
      ]
     },
     "metadata": {},
     "output_type": "display_data"
    },
    {
     "data": {
      "application/vnd.jupyter.widget-view+json": {
       "model_id": "b9a6bf049f32477e9178b5e0205299ef",
       "version_major": 2,
       "version_minor": 0
      },
      "text/plain": [
       "  0%|          | 0/100 [00:00<?, ?it/s]"
      ]
     },
     "metadata": {},
     "output_type": "display_data"
    },
    {
     "data": {
      "application/vnd.jupyter.widget-view+json": {
       "model_id": "8f5da8c29aa64ddebc7bcbb7004bb6ed",
       "version_major": 2,
       "version_minor": 0
      },
      "text/plain": [
       "  0%|          | 0/100 [00:00<?, ?it/s]"
      ]
     },
     "metadata": {},
     "output_type": "display_data"
    },
    {
     "data": {
      "application/vnd.jupyter.widget-view+json": {
       "model_id": "6dcefdef460e4901adbe7dd3b03c9555",
       "version_major": 2,
       "version_minor": 0
      },
      "text/plain": [
       "  0%|          | 0/100 [00:00<?, ?it/s]"
      ]
     },
     "metadata": {},
     "output_type": "display_data"
    },
    {
     "data": {
      "application/vnd.jupyter.widget-view+json": {
       "model_id": "dfa65887158b4a8794b1d8d15e1a4563",
       "version_major": 2,
       "version_minor": 0
      },
      "text/plain": [
       "  0%|          | 0/10 [00:00<?, ?it/s]"
      ]
     },
     "metadata": {},
     "output_type": "display_data"
    },
    {
     "data": {
      "application/vnd.jupyter.widget-view+json": {
       "model_id": "2030732b3de0416bb5b973c907555a8e",
       "version_major": 2,
       "version_minor": 0
      },
      "text/plain": [
       "  0%|          | 0/100 [00:00<?, ?it/s]"
      ]
     },
     "metadata": {},
     "output_type": "display_data"
    },
    {
     "data": {
      "application/vnd.jupyter.widget-view+json": {
       "model_id": "cdc6201000a54dd8abd864cfe5cfa8f9",
       "version_major": 2,
       "version_minor": 0
      },
      "text/plain": [
       "  0%|          | 0/100 [00:00<?, ?it/s]"
      ]
     },
     "metadata": {},
     "output_type": "display_data"
    },
    {
     "data": {
      "application/vnd.jupyter.widget-view+json": {
       "model_id": "9d609ef54dfb4e2ca8e46514f43cbde3",
       "version_major": 2,
       "version_minor": 0
      },
      "text/plain": [
       "  0%|          | 0/100 [00:00<?, ?it/s]"
      ]
     },
     "metadata": {},
     "output_type": "display_data"
    },
    {
     "data": {
      "application/vnd.jupyter.widget-view+json": {
       "model_id": "c2d1c38a782c4146bc6c6cdb220c879f",
       "version_major": 2,
       "version_minor": 0
      },
      "text/plain": [
       "  0%|          | 0/100 [00:00<?, ?it/s]"
      ]
     },
     "metadata": {},
     "output_type": "display_data"
    },
    {
     "data": {
      "application/vnd.jupyter.widget-view+json": {
       "model_id": "b286c69f0a374df8b539e0c26e9b4518",
       "version_major": 2,
       "version_minor": 0
      },
      "text/plain": [
       "  0%|          | 0/100 [00:00<?, ?it/s]"
      ]
     },
     "metadata": {},
     "output_type": "display_data"
    },
    {
     "data": {
      "application/vnd.jupyter.widget-view+json": {
       "model_id": "c2acee3767374ef291f06fb03595d241",
       "version_major": 2,
       "version_minor": 0
      },
      "text/plain": [
       "  0%|          | 0/100 [00:00<?, ?it/s]"
      ]
     },
     "metadata": {},
     "output_type": "display_data"
    },
    {
     "data": {
      "application/vnd.jupyter.widget-view+json": {
       "model_id": "5e168a49b5f443c09ae25f164f96b8a2",
       "version_major": 2,
       "version_minor": 0
      },
      "text/plain": [
       "  0%|          | 0/100 [00:00<?, ?it/s]"
      ]
     },
     "metadata": {},
     "output_type": "display_data"
    },
    {
     "data": {
      "application/vnd.jupyter.widget-view+json": {
       "model_id": "fc6cf8dc875e492085961ed0ec2eecf5",
       "version_major": 2,
       "version_minor": 0
      },
      "text/plain": [
       "  0%|          | 0/100 [00:00<?, ?it/s]"
      ]
     },
     "metadata": {},
     "output_type": "display_data"
    },
    {
     "data": {
      "application/vnd.jupyter.widget-view+json": {
       "model_id": "c0d689c24a49475bb88d0c42b400ada9",
       "version_major": 2,
       "version_minor": 0
      },
      "text/plain": [
       "  0%|          | 0/100 [00:00<?, ?it/s]"
      ]
     },
     "metadata": {},
     "output_type": "display_data"
    },
    {
     "data": {
      "application/vnd.jupyter.widget-view+json": {
       "model_id": "f63e19d635324660b779ee8da23c0931",
       "version_major": 2,
       "version_minor": 0
      },
      "text/plain": [
       "  0%|          | 0/100 [00:00<?, ?it/s]"
      ]
     },
     "metadata": {},
     "output_type": "display_data"
    },
    {
     "data": {
      "application/vnd.jupyter.widget-view+json": {
       "model_id": "65f12bad8f5e4f15b98f121b70d637e7",
       "version_major": 2,
       "version_minor": 0
      },
      "text/plain": [
       "  0%|          | 0/10 [00:00<?, ?it/s]"
      ]
     },
     "metadata": {},
     "output_type": "display_data"
    },
    {
     "data": {
      "application/vnd.jupyter.widget-view+json": {
       "model_id": "74df9950056a41fb8de291b50afebc64",
       "version_major": 2,
       "version_minor": 0
      },
      "text/plain": [
       "  0%|          | 0/100 [00:00<?, ?it/s]"
      ]
     },
     "metadata": {},
     "output_type": "display_data"
    },
    {
     "data": {
      "application/vnd.jupyter.widget-view+json": {
       "model_id": "491b5f8398194683ab540a0db5e976d8",
       "version_major": 2,
       "version_minor": 0
      },
      "text/plain": [
       "  0%|          | 0/100 [00:00<?, ?it/s]"
      ]
     },
     "metadata": {},
     "output_type": "display_data"
    },
    {
     "data": {
      "application/vnd.jupyter.widget-view+json": {
       "model_id": "7df1f545029940e497d9671fb655b482",
       "version_major": 2,
       "version_minor": 0
      },
      "text/plain": [
       "  0%|          | 0/100 [00:00<?, ?it/s]"
      ]
     },
     "metadata": {},
     "output_type": "display_data"
    },
    {
     "data": {
      "application/vnd.jupyter.widget-view+json": {
       "model_id": "3c5c777df87a4ee0b1a304afe264bd19",
       "version_major": 2,
       "version_minor": 0
      },
      "text/plain": [
       "  0%|          | 0/100 [00:00<?, ?it/s]"
      ]
     },
     "metadata": {},
     "output_type": "display_data"
    },
    {
     "data": {
      "application/vnd.jupyter.widget-view+json": {
       "model_id": "4e5bd2c87ce1413fa7f97f2cd20d8a47",
       "version_major": 2,
       "version_minor": 0
      },
      "text/plain": [
       "  0%|          | 0/100 [00:00<?, ?it/s]"
      ]
     },
     "metadata": {},
     "output_type": "display_data"
    },
    {
     "data": {
      "application/vnd.jupyter.widget-view+json": {
       "model_id": "c9f0079448644390be97b25bd06499e1",
       "version_major": 2,
       "version_minor": 0
      },
      "text/plain": [
       "  0%|          | 0/100 [00:00<?, ?it/s]"
      ]
     },
     "metadata": {},
     "output_type": "display_data"
    },
    {
     "data": {
      "application/vnd.jupyter.widget-view+json": {
       "model_id": "5449cc99fea54a5aaf8c15429eb98b67",
       "version_major": 2,
       "version_minor": 0
      },
      "text/plain": [
       "  0%|          | 0/100 [00:00<?, ?it/s]"
      ]
     },
     "metadata": {},
     "output_type": "display_data"
    },
    {
     "data": {
      "application/vnd.jupyter.widget-view+json": {
       "model_id": "7d5c041aa82b4715989317693f1039d6",
       "version_major": 2,
       "version_minor": 0
      },
      "text/plain": [
       "  0%|          | 0/100 [00:00<?, ?it/s]"
      ]
     },
     "metadata": {},
     "output_type": "display_data"
    },
    {
     "data": {
      "application/vnd.jupyter.widget-view+json": {
       "model_id": "cf725914988f4a40980924cf1b9a1eab",
       "version_major": 2,
       "version_minor": 0
      },
      "text/plain": [
       "  0%|          | 0/100 [00:00<?, ?it/s]"
      ]
     },
     "metadata": {},
     "output_type": "display_data"
    },
    {
     "data": {
      "application/vnd.jupyter.widget-view+json": {
       "model_id": "d9230d556fe241fc88c0e5c31ec92f23",
       "version_major": 2,
       "version_minor": 0
      },
      "text/plain": [
       "  0%|          | 0/100 [00:00<?, ?it/s]"
      ]
     },
     "metadata": {},
     "output_type": "display_data"
    },
    {
     "data": {
      "application/vnd.jupyter.widget-view+json": {
       "model_id": "691dc94f00d64a028d7f9c01acbb3fd1",
       "version_major": 2,
       "version_minor": 0
      },
      "text/plain": [
       "  0%|          | 0/10 [00:00<?, ?it/s]"
      ]
     },
     "metadata": {},
     "output_type": "display_data"
    },
    {
     "data": {
      "application/vnd.jupyter.widget-view+json": {
       "model_id": "35188ef76b17475b9c101f8175128a75",
       "version_major": 2,
       "version_minor": 0
      },
      "text/plain": [
       "  0%|          | 0/100 [00:00<?, ?it/s]"
      ]
     },
     "metadata": {},
     "output_type": "display_data"
    },
    {
     "data": {
      "application/vnd.jupyter.widget-view+json": {
       "model_id": "eb3e7a7ae19947b795204b268b262598",
       "version_major": 2,
       "version_minor": 0
      },
      "text/plain": [
       "  0%|          | 0/100 [00:00<?, ?it/s]"
      ]
     },
     "metadata": {},
     "output_type": "display_data"
    },
    {
     "data": {
      "application/vnd.jupyter.widget-view+json": {
       "model_id": "bbc53e3e153b47fd95165caf7823a613",
       "version_major": 2,
       "version_minor": 0
      },
      "text/plain": [
       "  0%|          | 0/100 [00:00<?, ?it/s]"
      ]
     },
     "metadata": {},
     "output_type": "display_data"
    },
    {
     "data": {
      "application/vnd.jupyter.widget-view+json": {
       "model_id": "04176db658954d0b858de4a9a8f9f76c",
       "version_major": 2,
       "version_minor": 0
      },
      "text/plain": [
       "  0%|          | 0/100 [00:00<?, ?it/s]"
      ]
     },
     "metadata": {},
     "output_type": "display_data"
    },
    {
     "data": {
      "application/vnd.jupyter.widget-view+json": {
       "model_id": "ec88f8be775849f9aaa1333cea7658bb",
       "version_major": 2,
       "version_minor": 0
      },
      "text/plain": [
       "  0%|          | 0/100 [00:00<?, ?it/s]"
      ]
     },
     "metadata": {},
     "output_type": "display_data"
    },
    {
     "data": {
      "application/vnd.jupyter.widget-view+json": {
       "model_id": "b3a42034df194e5686dcfb5b6e7b8153",
       "version_major": 2,
       "version_minor": 0
      },
      "text/plain": [
       "  0%|          | 0/100 [00:00<?, ?it/s]"
      ]
     },
     "metadata": {},
     "output_type": "display_data"
    },
    {
     "data": {
      "application/vnd.jupyter.widget-view+json": {
       "model_id": "f28de5f4fb6844d29b155806a67cb467",
       "version_major": 2,
       "version_minor": 0
      },
      "text/plain": [
       "  0%|          | 0/100 [00:00<?, ?it/s]"
      ]
     },
     "metadata": {},
     "output_type": "display_data"
    },
    {
     "data": {
      "application/vnd.jupyter.widget-view+json": {
       "model_id": "ddb81800feaa4ce0bdd83528ccd20ac8",
       "version_major": 2,
       "version_minor": 0
      },
      "text/plain": [
       "  0%|          | 0/100 [00:00<?, ?it/s]"
      ]
     },
     "metadata": {},
     "output_type": "display_data"
    },
    {
     "data": {
      "application/vnd.jupyter.widget-view+json": {
       "model_id": "d4197283d7e944eb93694ddc86d433ec",
       "version_major": 2,
       "version_minor": 0
      },
      "text/plain": [
       "  0%|          | 0/100 [00:00<?, ?it/s]"
      ]
     },
     "metadata": {},
     "output_type": "display_data"
    },
    {
     "data": {
      "application/vnd.jupyter.widget-view+json": {
       "model_id": "bf1599c7e6d44c028eb9a2f9e4850a68",
       "version_major": 2,
       "version_minor": 0
      },
      "text/plain": [
       "  0%|          | 0/100 [00:00<?, ?it/s]"
      ]
     },
     "metadata": {},
     "output_type": "display_data"
    },
    {
     "data": {
      "application/vnd.jupyter.widget-view+json": {
       "model_id": "f9b1d4a7484d4664a5f041ca67cfa1df",
       "version_major": 2,
       "version_minor": 0
      },
      "text/plain": [
       "  0%|          | 0/10 [00:00<?, ?it/s]"
      ]
     },
     "metadata": {},
     "output_type": "display_data"
    },
    {
     "data": {
      "application/vnd.jupyter.widget-view+json": {
       "model_id": "b1e9b43d843a4b24b960a48048f4972f",
       "version_major": 2,
       "version_minor": 0
      },
      "text/plain": [
       "  0%|          | 0/100 [00:00<?, ?it/s]"
      ]
     },
     "metadata": {},
     "output_type": "display_data"
    },
    {
     "data": {
      "application/vnd.jupyter.widget-view+json": {
       "model_id": "8d69a3f575704ce48bb6877944cfd636",
       "version_major": 2,
       "version_minor": 0
      },
      "text/plain": [
       "  0%|          | 0/100 [00:00<?, ?it/s]"
      ]
     },
     "metadata": {},
     "output_type": "display_data"
    },
    {
     "data": {
      "application/vnd.jupyter.widget-view+json": {
       "model_id": "a4ddcd1a61b444828c3c44f81e6b3719",
       "version_major": 2,
       "version_minor": 0
      },
      "text/plain": [
       "  0%|          | 0/100 [00:00<?, ?it/s]"
      ]
     },
     "metadata": {},
     "output_type": "display_data"
    },
    {
     "data": {
      "application/vnd.jupyter.widget-view+json": {
       "model_id": "db5fab5478904605bb8b27fbd0a3de6d",
       "version_major": 2,
       "version_minor": 0
      },
      "text/plain": [
       "  0%|          | 0/100 [00:00<?, ?it/s]"
      ]
     },
     "metadata": {},
     "output_type": "display_data"
    },
    {
     "data": {
      "application/vnd.jupyter.widget-view+json": {
       "model_id": "52310be423b54c648475237c603b32d9",
       "version_major": 2,
       "version_minor": 0
      },
      "text/plain": [
       "  0%|          | 0/100 [00:00<?, ?it/s]"
      ]
     },
     "metadata": {},
     "output_type": "display_data"
    },
    {
     "data": {
      "application/vnd.jupyter.widget-view+json": {
       "model_id": "b1fad8a208db408f86a6e05f427b5fed",
       "version_major": 2,
       "version_minor": 0
      },
      "text/plain": [
       "  0%|          | 0/100 [00:00<?, ?it/s]"
      ]
     },
     "metadata": {},
     "output_type": "display_data"
    },
    {
     "data": {
      "application/vnd.jupyter.widget-view+json": {
       "model_id": "324f858dc49248b198361ed27c884411",
       "version_major": 2,
       "version_minor": 0
      },
      "text/plain": [
       "  0%|          | 0/100 [00:00<?, ?it/s]"
      ]
     },
     "metadata": {},
     "output_type": "display_data"
    },
    {
     "data": {
      "application/vnd.jupyter.widget-view+json": {
       "model_id": "1723caca55a04c7ab89ae9fa0c7ab074",
       "version_major": 2,
       "version_minor": 0
      },
      "text/plain": [
       "  0%|          | 0/100 [00:00<?, ?it/s]"
      ]
     },
     "metadata": {},
     "output_type": "display_data"
    },
    {
     "data": {
      "application/vnd.jupyter.widget-view+json": {
       "model_id": "e2b643edd2af4642831677630bc33bd8",
       "version_major": 2,
       "version_minor": 0
      },
      "text/plain": [
       "  0%|          | 0/100 [00:00<?, ?it/s]"
      ]
     },
     "metadata": {},
     "output_type": "display_data"
    },
    {
     "data": {
      "application/vnd.jupyter.widget-view+json": {
       "model_id": "e6ae40f2a20c488f9ab0bdc38aca2997",
       "version_major": 2,
       "version_minor": 0
      },
      "text/plain": [
       "  0%|          | 0/100 [00:00<?, ?it/s]"
      ]
     },
     "metadata": {},
     "output_type": "display_data"
    },
    {
     "data": {
      "application/vnd.jupyter.widget-view+json": {
       "model_id": "d0469dbaf53d496faf11966043a32701",
       "version_major": 2,
       "version_minor": 0
      },
      "text/plain": [
       "  0%|          | 0/10 [00:00<?, ?it/s]"
      ]
     },
     "metadata": {},
     "output_type": "display_data"
    },
    {
     "data": {
      "application/vnd.jupyter.widget-view+json": {
       "model_id": "0f1dbbd3618545ea87b753c8c1861f1c",
       "version_major": 2,
       "version_minor": 0
      },
      "text/plain": [
       "  0%|          | 0/100 [00:00<?, ?it/s]"
      ]
     },
     "metadata": {},
     "output_type": "display_data"
    },
    {
     "data": {
      "application/vnd.jupyter.widget-view+json": {
       "model_id": "b4b8a981673e4c86b1cf59d9c0ce42cc",
       "version_major": 2,
       "version_minor": 0
      },
      "text/plain": [
       "  0%|          | 0/100 [00:00<?, ?it/s]"
      ]
     },
     "metadata": {},
     "output_type": "display_data"
    },
    {
     "data": {
      "application/vnd.jupyter.widget-view+json": {
       "model_id": "4907b49a68f1438db51378eeeed31507",
       "version_major": 2,
       "version_minor": 0
      },
      "text/plain": [
       "  0%|          | 0/100 [00:00<?, ?it/s]"
      ]
     },
     "metadata": {},
     "output_type": "display_data"
    },
    {
     "data": {
      "application/vnd.jupyter.widget-view+json": {
       "model_id": "83a5404f925a4b278882ad31e4abaf2b",
       "version_major": 2,
       "version_minor": 0
      },
      "text/plain": [
       "  0%|          | 0/100 [00:00<?, ?it/s]"
      ]
     },
     "metadata": {},
     "output_type": "display_data"
    },
    {
     "data": {
      "application/vnd.jupyter.widget-view+json": {
       "model_id": "d979d810b2af4b809f358a49cd644384",
       "version_major": 2,
       "version_minor": 0
      },
      "text/plain": [
       "  0%|          | 0/100 [00:00<?, ?it/s]"
      ]
     },
     "metadata": {},
     "output_type": "display_data"
    },
    {
     "data": {
      "application/vnd.jupyter.widget-view+json": {
       "model_id": "67e6322d171748cdacbd2e87e178539a",
       "version_major": 2,
       "version_minor": 0
      },
      "text/plain": [
       "  0%|          | 0/100 [00:00<?, ?it/s]"
      ]
     },
     "metadata": {},
     "output_type": "display_data"
    },
    {
     "data": {
      "application/vnd.jupyter.widget-view+json": {
       "model_id": "14ad03668888449ba340f2e602efe20c",
       "version_major": 2,
       "version_minor": 0
      },
      "text/plain": [
       "  0%|          | 0/100 [00:00<?, ?it/s]"
      ]
     },
     "metadata": {},
     "output_type": "display_data"
    },
    {
     "data": {
      "application/vnd.jupyter.widget-view+json": {
       "model_id": "03bcc8b6f31e465c9ec56fcec8a5f136",
       "version_major": 2,
       "version_minor": 0
      },
      "text/plain": [
       "  0%|          | 0/100 [00:00<?, ?it/s]"
      ]
     },
     "metadata": {},
     "output_type": "display_data"
    },
    {
     "data": {
      "application/vnd.jupyter.widget-view+json": {
       "model_id": "1790dcde66ba4b078e31e7611153dd17",
       "version_major": 2,
       "version_minor": 0
      },
      "text/plain": [
       "  0%|          | 0/100 [00:00<?, ?it/s]"
      ]
     },
     "metadata": {},
     "output_type": "display_data"
    },
    {
     "data": {
      "application/vnd.jupyter.widget-view+json": {
       "model_id": "d18fdf52718848119d4e642d92a7faa1",
       "version_major": 2,
       "version_minor": 0
      },
      "text/plain": [
       "  0%|          | 0/100 [00:00<?, ?it/s]"
      ]
     },
     "metadata": {},
     "output_type": "display_data"
    },
    {
     "data": {
      "application/vnd.jupyter.widget-view+json": {
       "model_id": "e2b16f080a944e6bb38bd91479b3f8f8",
       "version_major": 2,
       "version_minor": 0
      },
      "text/plain": [
       "  0%|          | 0/10 [00:00<?, ?it/s]"
      ]
     },
     "metadata": {},
     "output_type": "display_data"
    },
    {
     "data": {
      "application/vnd.jupyter.widget-view+json": {
       "model_id": "b0b13c722877467eb8bb4dc0bfa8181f",
       "version_major": 2,
       "version_minor": 0
      },
      "text/plain": [
       "  0%|          | 0/100 [00:00<?, ?it/s]"
      ]
     },
     "metadata": {},
     "output_type": "display_data"
    },
    {
     "data": {
      "application/vnd.jupyter.widget-view+json": {
       "model_id": "4f650c4e9b004e079118353c1ef7333e",
       "version_major": 2,
       "version_minor": 0
      },
      "text/plain": [
       "  0%|          | 0/100 [00:00<?, ?it/s]"
      ]
     },
     "metadata": {},
     "output_type": "display_data"
    },
    {
     "data": {
      "application/vnd.jupyter.widget-view+json": {
       "model_id": "680670b8a51840bfa90e3fae0d64a015",
       "version_major": 2,
       "version_minor": 0
      },
      "text/plain": [
       "  0%|          | 0/100 [00:00<?, ?it/s]"
      ]
     },
     "metadata": {},
     "output_type": "display_data"
    },
    {
     "data": {
      "application/vnd.jupyter.widget-view+json": {
       "model_id": "0647bc0eba9d48b4bf73bd298a0a5b8c",
       "version_major": 2,
       "version_minor": 0
      },
      "text/plain": [
       "  0%|          | 0/100 [00:00<?, ?it/s]"
      ]
     },
     "metadata": {},
     "output_type": "display_data"
    },
    {
     "data": {
      "application/vnd.jupyter.widget-view+json": {
       "model_id": "eb6c1715f0e74b479eb820b9b467b710",
       "version_major": 2,
       "version_minor": 0
      },
      "text/plain": [
       "  0%|          | 0/100 [00:00<?, ?it/s]"
      ]
     },
     "metadata": {},
     "output_type": "display_data"
    },
    {
     "data": {
      "application/vnd.jupyter.widget-view+json": {
       "model_id": "546e68402f7a4816af48aa3bda75d37d",
       "version_major": 2,
       "version_minor": 0
      },
      "text/plain": [
       "  0%|          | 0/100 [00:00<?, ?it/s]"
      ]
     },
     "metadata": {},
     "output_type": "display_data"
    },
    {
     "data": {
      "application/vnd.jupyter.widget-view+json": {
       "model_id": "0b4f5acf5e5740d2bb369ac962f7dce1",
       "version_major": 2,
       "version_minor": 0
      },
      "text/plain": [
       "  0%|          | 0/100 [00:00<?, ?it/s]"
      ]
     },
     "metadata": {},
     "output_type": "display_data"
    },
    {
     "data": {
      "application/vnd.jupyter.widget-view+json": {
       "model_id": "e4728872dbae4961b2af97cc56729452",
       "version_major": 2,
       "version_minor": 0
      },
      "text/plain": [
       "  0%|          | 0/100 [00:00<?, ?it/s]"
      ]
     },
     "metadata": {},
     "output_type": "display_data"
    },
    {
     "data": {
      "application/vnd.jupyter.widget-view+json": {
       "model_id": "0169efb0e5be47f4a6fe1fad5c27e9c1",
       "version_major": 2,
       "version_minor": 0
      },
      "text/plain": [
       "  0%|          | 0/100 [00:00<?, ?it/s]"
      ]
     },
     "metadata": {},
     "output_type": "display_data"
    },
    {
     "data": {
      "application/vnd.jupyter.widget-view+json": {
       "model_id": "e5465cffff9e47fea4373472dfa92f64",
       "version_major": 2,
       "version_minor": 0
      },
      "text/plain": [
       "  0%|          | 0/100 [00:00<?, ?it/s]"
      ]
     },
     "metadata": {},
     "output_type": "display_data"
    },
    {
     "data": {
      "application/vnd.jupyter.widget-view+json": {
       "model_id": "54c01d62b00f4d2790b7806d030600b2",
       "version_major": 2,
       "version_minor": 0
      },
      "text/plain": [
       "  0%|          | 0/10 [00:00<?, ?it/s]"
      ]
     },
     "metadata": {},
     "output_type": "display_data"
    },
    {
     "data": {
      "application/vnd.jupyter.widget-view+json": {
       "model_id": "1aa5c5c92a4a4f21b77fd5583c0aec95",
       "version_major": 2,
       "version_minor": 0
      },
      "text/plain": [
       "  0%|          | 0/100 [00:00<?, ?it/s]"
      ]
     },
     "metadata": {},
     "output_type": "display_data"
    },
    {
     "data": {
      "application/vnd.jupyter.widget-view+json": {
       "model_id": "0183c2db187945249a33c03fface215c",
       "version_major": 2,
       "version_minor": 0
      },
      "text/plain": [
       "  0%|          | 0/100 [00:00<?, ?it/s]"
      ]
     },
     "metadata": {},
     "output_type": "display_data"
    },
    {
     "data": {
      "application/vnd.jupyter.widget-view+json": {
       "model_id": "a2ee6a8ed2ec491f91254ea54a1fad56",
       "version_major": 2,
       "version_minor": 0
      },
      "text/plain": [
       "  0%|          | 0/100 [00:00<?, ?it/s]"
      ]
     },
     "metadata": {},
     "output_type": "display_data"
    },
    {
     "data": {
      "application/vnd.jupyter.widget-view+json": {
       "model_id": "b8a23743de4949b194fed933cd22cc27",
       "version_major": 2,
       "version_minor": 0
      },
      "text/plain": [
       "  0%|          | 0/100 [00:00<?, ?it/s]"
      ]
     },
     "metadata": {},
     "output_type": "display_data"
    },
    {
     "data": {
      "application/vnd.jupyter.widget-view+json": {
       "model_id": "e9bc66d930944822b315e8b2125d51c4",
       "version_major": 2,
       "version_minor": 0
      },
      "text/plain": [
       "  0%|          | 0/100 [00:00<?, ?it/s]"
      ]
     },
     "metadata": {},
     "output_type": "display_data"
    },
    {
     "data": {
      "application/vnd.jupyter.widget-view+json": {
       "model_id": "e50ddcaaf3cf4b9e8183be4cc28d7806",
       "version_major": 2,
       "version_minor": 0
      },
      "text/plain": [
       "  0%|          | 0/100 [00:00<?, ?it/s]"
      ]
     },
     "metadata": {},
     "output_type": "display_data"
    },
    {
     "data": {
      "application/vnd.jupyter.widget-view+json": {
       "model_id": "6e9beb52edf549689adbaab63d328603",
       "version_major": 2,
       "version_minor": 0
      },
      "text/plain": [
       "  0%|          | 0/100 [00:00<?, ?it/s]"
      ]
     },
     "metadata": {},
     "output_type": "display_data"
    },
    {
     "data": {
      "application/vnd.jupyter.widget-view+json": {
       "model_id": "d1d08721cb534967b6d3f80a3485595c",
       "version_major": 2,
       "version_minor": 0
      },
      "text/plain": [
       "  0%|          | 0/100 [00:00<?, ?it/s]"
      ]
     },
     "metadata": {},
     "output_type": "display_data"
    },
    {
     "data": {
      "application/vnd.jupyter.widget-view+json": {
       "model_id": "367d77dd9929494d85cd68b5c6a8ad8c",
       "version_major": 2,
       "version_minor": 0
      },
      "text/plain": [
       "  0%|          | 0/100 [00:00<?, ?it/s]"
      ]
     },
     "metadata": {},
     "output_type": "display_data"
    },
    {
     "data": {
      "application/vnd.jupyter.widget-view+json": {
       "model_id": "7bd8fbdb4e0944218c58cc479da012a5",
       "version_major": 2,
       "version_minor": 0
      },
      "text/plain": [
       "  0%|          | 0/100 [00:00<?, ?it/s]"
      ]
     },
     "metadata": {},
     "output_type": "display_data"
    },
    {
     "data": {
      "application/vnd.jupyter.widget-view+json": {
       "model_id": "3b854fd48a8e45bea0828979c2a9ec3e",
       "version_major": 2,
       "version_minor": 0
      },
      "text/plain": [
       "  0%|          | 0/10 [00:00<?, ?it/s]"
      ]
     },
     "metadata": {},
     "output_type": "display_data"
    },
    {
     "data": {
      "application/vnd.jupyter.widget-view+json": {
       "model_id": "fdd262244d8c4ab2ac08b83fa495b2de",
       "version_major": 2,
       "version_minor": 0
      },
      "text/plain": [
       "  0%|          | 0/100 [00:00<?, ?it/s]"
      ]
     },
     "metadata": {},
     "output_type": "display_data"
    },
    {
     "data": {
      "application/vnd.jupyter.widget-view+json": {
       "model_id": "eeafe192c2fb48f38093ef38126afd94",
       "version_major": 2,
       "version_minor": 0
      },
      "text/plain": [
       "  0%|          | 0/100 [00:00<?, ?it/s]"
      ]
     },
     "metadata": {},
     "output_type": "display_data"
    },
    {
     "data": {
      "application/vnd.jupyter.widget-view+json": {
       "model_id": "f87fba363a704761b3677d18f962fa13",
       "version_major": 2,
       "version_minor": 0
      },
      "text/plain": [
       "  0%|          | 0/100 [00:00<?, ?it/s]"
      ]
     },
     "metadata": {},
     "output_type": "display_data"
    },
    {
     "data": {
      "application/vnd.jupyter.widget-view+json": {
       "model_id": "4a038336ddf54636aac8e29578026c5f",
       "version_major": 2,
       "version_minor": 0
      },
      "text/plain": [
       "  0%|          | 0/100 [00:00<?, ?it/s]"
      ]
     },
     "metadata": {},
     "output_type": "display_data"
    },
    {
     "data": {
      "application/vnd.jupyter.widget-view+json": {
       "model_id": "58ceb526f2454db8b556f9fba24f210b",
       "version_major": 2,
       "version_minor": 0
      },
      "text/plain": [
       "  0%|          | 0/100 [00:00<?, ?it/s]"
      ]
     },
     "metadata": {},
     "output_type": "display_data"
    },
    {
     "data": {
      "application/vnd.jupyter.widget-view+json": {
       "model_id": "58e5c19a6e5845a8958d530509b88c70",
       "version_major": 2,
       "version_minor": 0
      },
      "text/plain": [
       "  0%|          | 0/100 [00:00<?, ?it/s]"
      ]
     },
     "metadata": {},
     "output_type": "display_data"
    },
    {
     "data": {
      "application/vnd.jupyter.widget-view+json": {
       "model_id": "b688e5768f734eef9a0080f8790b8079",
       "version_major": 2,
       "version_minor": 0
      },
      "text/plain": [
       "  0%|          | 0/100 [00:00<?, ?it/s]"
      ]
     },
     "metadata": {},
     "output_type": "display_data"
    },
    {
     "data": {
      "application/vnd.jupyter.widget-view+json": {
       "model_id": "7295014d19d64c79a3d4949310a5f67d",
       "version_major": 2,
       "version_minor": 0
      },
      "text/plain": [
       "  0%|          | 0/100 [00:00<?, ?it/s]"
      ]
     },
     "metadata": {},
     "output_type": "display_data"
    },
    {
     "data": {
      "application/vnd.jupyter.widget-view+json": {
       "model_id": "86882b2ae0e34b9b90c90ef9615c3fc8",
       "version_major": 2,
       "version_minor": 0
      },
      "text/plain": [
       "  0%|          | 0/100 [00:00<?, ?it/s]"
      ]
     },
     "metadata": {},
     "output_type": "display_data"
    },
    {
     "data": {
      "application/vnd.jupyter.widget-view+json": {
       "model_id": "e783873c65da407ba5c98ffdf669601a",
       "version_major": 2,
       "version_minor": 0
      },
      "text/plain": [
       "  0%|          | 0/100 [00:00<?, ?it/s]"
      ]
     },
     "metadata": {},
     "output_type": "display_data"
    }
   ],
   "source": [
    "import numpy as np\n",
    "\n",
    "n_points = 10\n",
    "exp.run_sweep2(\n",
    "    parameter1='discount_factor',\n",
    "    values1=[x for x in np.logspace(-2, 0, n_points)],\n",
    "    parameter2='inverse_temperature',\n",
    "    values2=[2**x for x in np.linspace(3, 6, n_points)],\n",
    "    file=image_folder / 'sweep_discount_vs_temperature'\n",
    ")"
   ]
  },
  {
   "cell_type": "code",
   "execution_count": 13,
   "metadata": {},
   "outputs": [],
   "source": [
    "from Utils.plot_utils import PlotsAndMeasures\n",
    "\n",
    "p = PlotsAndMeasures(exp.data)"
   ]
  },
  {
   "cell_type": "code",
   "execution_count": 14,
   "metadata": {},
   "outputs": [
    {
     "data": {
      "image/png": "[encoded data removed]",
      "text/plain": [
       "<Figure size 600x600 with 2 Axes>"
      ]
     },
     "execution_count": 14,
     "metadata": {},
     "output_type": "execute_result"
    },
    {
     "data": {
      "image/png": "[encoded data removed]",
      "text/plain": [
       "<Figure size 600x600 with 2 Axes>"
      ]
     },
     "metadata": {},
     "output_type": "display_data"
    }
   ],
   "source": [
    "p.plot_scores_sweep2('discount_factor', 'inverse_temperature')"
   ]
  },
  {
   "cell_type": "code",
   "execution_count": null,
   "metadata": {},
   "outputs": [],
   "source": []
  }
 ],
 "metadata": {
  "kernelspec": {
   "display_name": "Python 3",
   "language": "python",
   "name": "python3"
  },
  "language_info": {
   "codemirror_mode": {
    "name": "ipython",
    "version": 3
   },
   "file_extension": ".py",
   "mimetype": "text/x-python",
   "name": "python",
   "nbconvert_exporter": "python",
   "pygments_lexer": "ipython3",
   "version": "3.9.6"
  }
 },
 "nbformat": 4,
 "nbformat_minor": 2
}
