{
 "cells": [
  {
   "cell_type": "code",
   "execution_count": 1,
   "metadata": {},
   "outputs": [],
   "source": [
    "import sys\n",
    "sys.path.append(\"../\")"
   ]
  },
  {
   "cell_type": "code",
   "execution_count": 3,
   "metadata": {},
   "outputs": [
    {
     "ename": "ImportError",
     "evalue": "cannot import name 'QLearningAgent' from 'Classes.cognitive_model_agents' (/Users/edgar/Repositorios/grupcogelfarol/src/Experiments/../Classes/cognitive_model_agents.py)",
     "output_type": "error",
     "traceback": [
      "\u001b[0;31m---------------------------------------------------------------------------\u001b[0m",
      "\u001b[0;31mImportError\u001b[0m                               Traceback (most recent call last)",
      "Cell \u001b[0;32mIn[3], line 1\u001b[0m\n\u001b[0;32m----> 1\u001b[0m \u001b[38;5;28;01mfrom\u001b[39;00m \u001b[38;5;21;01mClasses\u001b[39;00m\u001b[38;5;21;01m.\u001b[39;00m\u001b[38;5;21;01mcognitive_model_agents\u001b[39;00m \u001b[38;5;28;01mimport\u001b[39;00m QLearningAgent\n",
      "\u001b[0;31mImportError\u001b[0m: cannot import name 'QLearningAgent' from 'Classes.cognitive_model_agents' (/Users/edgar/Repositorios/grupcogelfarol/src/Experiments/../Classes/cognitive_model_agents.py)"
     ]
    }
   ],
   "source": [
    "from Classes.cognitive_model_agents import QLearningAgent"
   ]
  },
  {
   "cell_type": "code",
   "execution_count": 2,
   "metadata": {},
   "outputs": [
    {
     "ename": "NameError",
     "evalue": "name 'MFPAgg' is not defined",
     "output_type": "error",
     "traceback": [
      "\u001b[0;31m---------------------------------------------------------------------------\u001b[0m",
      "\u001b[0;31mNameError\u001b[0m                                 Traceback (most recent call last)",
      "Cell \u001b[0;32mIn[2], line 11\u001b[0m\n\u001b[1;32m      2\u001b[0m fixed_parameters \u001b[38;5;241m=\u001b[39m {\n\u001b[1;32m      3\u001b[0m \t\u001b[38;5;124m\"\u001b[39m\u001b[38;5;124mthreshold\u001b[39m\u001b[38;5;124m\"\u001b[39m: \u001b[38;5;241m0.5\u001b[39m,\n\u001b[1;32m      4\u001b[0m \t\u001b[38;5;124m\"\u001b[39m\u001b[38;5;124mnum_agents\u001b[39m\u001b[38;5;124m\"\u001b[39m: num_agents,\n\u001b[1;32m      5\u001b[0m }\n\u001b[1;32m      6\u001b[0m free_parameters \u001b[38;5;241m=\u001b[39m {\n\u001b[1;32m      7\u001b[0m \t\u001b[38;5;124m\"\u001b[39m\u001b[38;5;124minverse_temperature\u001b[39m\u001b[38;5;124m\"\u001b[39m: \u001b[38;5;241m5\u001b[39m,\n\u001b[1;32m      8\u001b[0m \t\u001b[38;5;124m\"\u001b[39m\u001b[38;5;124mbelief_strength\u001b[39m\u001b[38;5;124m\"\u001b[39m: \u001b[38;5;241m1\u001b[39m,\n\u001b[1;32m      9\u001b[0m \t\u001b[38;5;124m\"\u001b[39m\u001b[38;5;124mgo_drive\u001b[39m\u001b[38;5;124m\"\u001b[39m:\u001b[38;5;241m1\u001b[39m,\n\u001b[1;32m     10\u001b[0m }\n\u001b[0;32m---> 11\u001b[0m agent \u001b[38;5;241m=\u001b[39m \u001b[43mMFPAgg\u001b[49m(\n\u001b[1;32m     12\u001b[0m \tfixed_parameters\u001b[38;5;241m=\u001b[39mfixed_parameters,\n\u001b[1;32m     13\u001b[0m \tfree_parameters\u001b[38;5;241m=\u001b[39mfree_parameters,\n\u001b[1;32m     14\u001b[0m \tn\u001b[38;5;241m=\u001b[39m\u001b[38;5;241m0\u001b[39m\n\u001b[1;32m     15\u001b[0m )\n\u001b[1;32m     16\u001b[0m agent\u001b[38;5;241m.\u001b[39mdebug \u001b[38;5;241m=\u001b[39m \u001b[38;5;28;01mTrue\u001b[39;00m\n\u001b[1;32m     17\u001b[0m \u001b[38;5;28mprint\u001b[39m(\u001b[38;5;124m'\u001b[39m\u001b[38;5;124m'\u001b[39m)\n",
      "\u001b[0;31mNameError\u001b[0m: name 'MFPAgg' is not defined"
     ]
    }
   ],
   "source": [
    "num_agents = 2\n",
    "fixed_parameters = {\n",
    "\t\"threshold\": 0.5,\n",
    "\t\"num_agents\": num_agents,\n",
    "}\n",
    "free_parameters = {\n",
    "\t\"inverse_temperature\": 5,\n",
    "\t\"belief_strength\": 1,\n",
    "\t\"go_drive\":1,\n",
    "}\n",
    "agent = QLearningAgent(\n",
    "\tfixed_parameters=fixed_parameters,\n",
    "\tfree_parameters=free_parameters,\n",
    "\tn=0\n",
    ")\n",
    "agent.debug = True\n",
    "print('')\n",
    "print(DASH_LINE)\n",
    "print('Test bar is full')\n",
    "print(DASH_LINE)    \n",
    "action = 1\n",
    "state = [action, 1]\n",
    "print('Initial state:', state)\n",
    "agent.decisions.append(action)\n",
    "agent.prev_state_ = tuple(state)\n",
    "agent.count_states[tuple(state)] += 1\n",
    "for _ in range(10):\n",
    "\tpreferences = agent.determine_action_preferences(state)\n",
    "\tprint(f'Action preferences in state {state}: {preferences}')\n",
    "\tprobabilities = agent.softmax(preferences)\n",
    "\tprint('Action probabilities:', probabilities)\n",
    "\taction = agent.make_decision()\n",
    "\tprint('Chosen action:', action)\n",
    "\tagent.decisions.append(action)\n",
    "\tnew_state = [action, 1]\n",
    "\tstate = new_state\n",
    "\tprint('State arrived:', new_state)\n",
    "\tpayoff = agent.payoff(action, state)\n",
    "\tprint(f'Payoff action {action}: {payoff}')\n",
    "\tagent.update(payoff, state)\n",
    "\tagent.prev_state_ = tuple(state)\n",
    "print('')\n",
    "print(DASH_LINE)\n",
    "print('Test bar has capacity')\n",
    "print(DASH_LINE)   \n",
    "agent = MFPAgg(\n",
    "\tfixed_parameters=fixed_parameters,\n",
    "\tfree_parameters=free_parameters,\n",
    "\tn=0\n",
    ")\n",
    "agent.debug = True\n",
    "action = 1\n",
    "state = [action, 0]\n",
    "print('Initial state:', state)\n",
    "agent.decisions.append(action)\n",
    "agent.prev_state_ = tuple(state)\n",
    "agent.count_states[tuple(state)] += 1\n",
    "for _ in range(10):\n",
    "\tpreferences = agent.determine_action_preferences(state)\n",
    "\tprint(f'Action preferences in state {state}: {preferences}')\n",
    "\tprobabilities = agent.softmax(preferences)\n",
    "\tprint('Action probabilities:', probabilities)\n",
    "\taction = agent.make_decision()\n",
    "\tprint('Chosen action:', action)\n",
    "\tagent.decisions.append(action)\n",
    "\tnew_state = [action, 0]\n",
    "\tstate = new_state\n",
    "\tprint('State arrived:', new_state)\n",
    "\tpayoff = agent.payoff(action, state)\n",
    "\tprint(f'Payoff action {action}: {payoff}')\n",
    "\tagent.update(payoff, state)\n",
    "\tagent.prev_state_ = tuple(state)"
   ]
  }
 ],
 "metadata": {
  "kernelspec": {
   "display_name": "venv_repositorios",
   "language": "python",
   "name": "python3"
  },
  "language_info": {
   "codemirror_mode": {
    "name": "ipython",
    "version": 3
   },
   "file_extension": ".py",
   "mimetype": "text/x-python",
   "name": "python",
   "nbconvert_exporter": "python",
   "pygments_lexer": "ipython3",
   "version": "3.12.8"
  }
 },
 "nbformat": 4,
 "nbformat_minor": 2
}
