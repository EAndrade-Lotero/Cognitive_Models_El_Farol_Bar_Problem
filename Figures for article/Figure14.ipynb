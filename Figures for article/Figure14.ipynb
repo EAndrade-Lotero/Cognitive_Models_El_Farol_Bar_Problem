{
 "cells": [
  {
   "cell_type": "markdown",
   "id": "d2c7d77b",
   "metadata": {},
   "source": [
    "# Figure 14\n",
    "\n",
    "Qualitative behavior of the best-fitting models for the two-player experiment. In the first row, the figure presents a two-way scatter plot depicting \\Efficiency\\ versus \\Inequality. Each plot contains 23 data points per group (human and the two best fitting models). Data points in each plot are jittered to improve visibility. The bottom row shows the score in each round averaged over all players."
   ]
  },
  {
   "cell_type": "code",
   "execution_count": 61,
   "id": "11d46d17",
   "metadata": {},
   "outputs": [],
   "source": [
    "import random\n",
    "import numpy as np\n",
    "import pandas as pd\n",
    "import seaborn as sns\n",
    "import matplotlib.pyplot as plt\n",
    "\n",
    "from pathlib import Path\n",
    "\n",
    "import sys\n",
    "\n",
    "sys.path.append('../src')\n",
    "\n",
    "from Config.config import PATHS\n",
    "\n",
    "import warnings\n",
    "warnings.filterwarnings(\"ignore\")"
   ]
  },
  {
   "cell_type": "code",
   "execution_count": 62,
   "id": "14d42908",
   "metadata": {},
   "outputs": [],
   "source": [
    "from Utils.utils import PPT\n",
    "from Utils.interaction import Performer\n",
    "from Utils.indices import AlternationIndex\n",
    "from Utils.utils import GetMeasurements, Grid\n",
    "from Classes.cognitive_model_agents import AttendanceM2, FRAplus"
   ]
  },
  {
   "cell_type": "markdown",
   "id": "90430887",
   "metadata": {},
   "source": [
    "## Show model fitting"
   ]
  },
  {
   "cell_type": "code",
   "execution_count": 63,
   "id": "2ffc8946",
   "metadata": {},
   "outputs": [
    {
     "data": {
      "text/html": [
       "<div>\n",
       "<style scoped>\n",
       "    .dataframe tbody tr th:only-of-type {\n",
       "        vertical-align: middle;\n",
       "    }\n",
       "\n",
       "    .dataframe tbody tr th {\n",
       "        vertical-align: top;\n",
       "    }\n",
       "\n",
       "    .dataframe thead th {\n",
       "        text-align: right;\n",
       "    }\n",
       "</style>\n",
       "<table border=\"1\" class=\"dataframe\">\n",
       "  <thead>\n",
       "    <tr style=\"text-align: right;\">\n",
       "      <th></th>\n",
       "      <th>deviance</th>\n",
       "      <th>AIC</th>\n",
       "      <th>AIC_diff</th>\n",
       "    </tr>\n",
       "    <tr>\n",
       "      <th>model_name</th>\n",
       "      <th></th>\n",
       "      <th></th>\n",
       "      <th></th>\n",
       "    </tr>\n",
       "  </thead>\n",
       "  <tbody>\n",
       "    <tr>\n",
       "      <th>FRA+Payoff+Attendance</th>\n",
       "      <td>2179</td>\n",
       "      <td>4370</td>\n",
       "      <td>0</td>\n",
       "    </tr>\n",
       "    <tr>\n",
       "      <th>Attendance-M2</th>\n",
       "      <td>2253</td>\n",
       "      <td>4512</td>\n",
       "      <td>142</td>\n",
       "    </tr>\n",
       "    <tr>\n",
       "      <th>Attendance-M3</th>\n",
       "      <td>2253</td>\n",
       "      <td>4512</td>\n",
       "      <td>142</td>\n",
       "    </tr>\n",
       "    <tr>\n",
       "      <th>FRA</th>\n",
       "      <td>2554</td>\n",
       "      <td>5114</td>\n",
       "      <td>744</td>\n",
       "    </tr>\n",
       "    <tr>\n",
       "      <th>MFP-M2</th>\n",
       "      <td>2560</td>\n",
       "      <td>5125</td>\n",
       "      <td>755</td>\n",
       "    </tr>\n",
       "    <tr>\n",
       "      <th>MFP-M3</th>\n",
       "      <td>2560</td>\n",
       "      <td>5125</td>\n",
       "      <td>755</td>\n",
       "    </tr>\n",
       "    <tr>\n",
       "      <th>AvailableSpace-M2</th>\n",
       "      <td>2566</td>\n",
       "      <td>5138</td>\n",
       "      <td>768</td>\n",
       "    </tr>\n",
       "    <tr>\n",
       "      <th>AvailableSpace-M3</th>\n",
       "      <td>2566</td>\n",
       "      <td>5138</td>\n",
       "      <td>768</td>\n",
       "    </tr>\n",
       "    <tr>\n",
       "      <th>Fairness-M2</th>\n",
       "      <td>2791</td>\n",
       "      <td>5589</td>\n",
       "      <td>1219</td>\n",
       "    </tr>\n",
       "    <tr>\n",
       "      <th>Fairness-M3</th>\n",
       "      <td>2791</td>\n",
       "      <td>5589</td>\n",
       "      <td>1219</td>\n",
       "    </tr>\n",
       "    <tr>\n",
       "      <th>Payoff-M2</th>\n",
       "      <td>2796</td>\n",
       "      <td>5597</td>\n",
       "      <td>1227</td>\n",
       "    </tr>\n",
       "    <tr>\n",
       "      <th>Payoff-M3</th>\n",
       "      <td>2796</td>\n",
       "      <td>5597</td>\n",
       "      <td>1227</td>\n",
       "    </tr>\n",
       "    <tr>\n",
       "      <th>WSLS-M2</th>\n",
       "      <td>2918</td>\n",
       "      <td>5843</td>\n",
       "      <td>1473</td>\n",
       "    </tr>\n",
       "    <tr>\n",
       "      <th>WSLS-M3</th>\n",
       "      <td>2918</td>\n",
       "      <td>5843</td>\n",
       "      <td>1473</td>\n",
       "    </tr>\n",
       "    <tr>\n",
       "      <th>Priors-M3</th>\n",
       "      <td>2968</td>\n",
       "      <td>5954</td>\n",
       "      <td>1584</td>\n",
       "    </tr>\n",
       "    <tr>\n",
       "      <th>Priors-M2</th>\n",
       "      <td>2968</td>\n",
       "      <td>5962</td>\n",
       "      <td>1592</td>\n",
       "    </tr>\n",
       "    <tr>\n",
       "      <th>Attendance-M1</th>\n",
       "      <td>3062</td>\n",
       "      <td>6130</td>\n",
       "      <td>1760</td>\n",
       "    </tr>\n",
       "    <tr>\n",
       "      <th>Priors-M1</th>\n",
       "      <td>3133</td>\n",
       "      <td>6272</td>\n",
       "      <td>1902</td>\n",
       "    </tr>\n",
       "    <tr>\n",
       "      <th>AvailableSpace-M1</th>\n",
       "      <td>3164</td>\n",
       "      <td>6335</td>\n",
       "      <td>1965</td>\n",
       "    </tr>\n",
       "    <tr>\n",
       "      <th>MFP-M1</th>\n",
       "      <td>3166</td>\n",
       "      <td>6336</td>\n",
       "      <td>1966</td>\n",
       "    </tr>\n",
       "    <tr>\n",
       "      <th>Payoff-M1</th>\n",
       "      <td>3177</td>\n",
       "      <td>6358</td>\n",
       "      <td>1988</td>\n",
       "    </tr>\n",
       "    <tr>\n",
       "      <th>WSLS-M1</th>\n",
       "      <td>3182</td>\n",
       "      <td>6371</td>\n",
       "      <td>2001</td>\n",
       "    </tr>\n",
       "    <tr>\n",
       "      <th>Fairness-M1</th>\n",
       "      <td>3188</td>\n",
       "      <td>6382</td>\n",
       "      <td>2012</td>\n",
       "    </tr>\n",
       "  </tbody>\n",
       "</table>\n",
       "</div>"
      ],
      "text/plain": [
       "                       deviance   AIC  AIC_diff\n",
       "model_name                                     \n",
       "FRA+Payoff+Attendance      2179  4370         0\n",
       "Attendance-M2              2253  4512       142\n",
       "Attendance-M3              2253  4512       142\n",
       "FRA                        2554  5114       744\n",
       "MFP-M2                     2560  5125       755\n",
       "MFP-M3                     2560  5125       755\n",
       "AvailableSpace-M2          2566  5138       768\n",
       "AvailableSpace-M3          2566  5138       768\n",
       "Fairness-M2                2791  5589      1219\n",
       "Fairness-M3                2791  5589      1219\n",
       "Payoff-M2                  2796  5597      1227\n",
       "Payoff-M3                  2796  5597      1227\n",
       "WSLS-M2                    2918  5843      1473\n",
       "WSLS-M3                    2918  5843      1473\n",
       "Priors-M3                  2968  5954      1584\n",
       "Priors-M2                  2968  5962      1592\n",
       "Attendance-M1              3062  6130      1760\n",
       "Priors-M1                  3133  6272      1902\n",
       "AvailableSpace-M1          3164  6335      1965\n",
       "MFP-M1                     3166  6336      1966\n",
       "Payoff-M1                  3177  6358      1988\n",
       "WSLS-M1                    3182  6371      2001\n",
       "Fairness-M1                3188  6382      2012"
      ]
     },
     "execution_count": 63,
     "metadata": {},
     "output_type": "execute_result"
    }
   ],
   "source": [
    "file_2PL = PATHS['parameter_fit_results'] / Path('best_fit_2P.json')\n",
    "df_2P = pd.read_json(file_2PL, lines=True)\n",
    "df_2P.index = df_2P.model_name\n",
    "df_parameters_2P = df_2P[['model_name', 'free_parameters']]\n",
    "df_2P.drop(columns=['model', 'model_name', 'free_parameters', 'fixed_parameters'], inplace=True)\n",
    "df_2P.sort_values(by='AIC', inplace=True)\n",
    "# df_2P.sort_values(by='model_name', inplace=True)\n",
    "df_2P['deviance'] = df_2P['deviance'].apply(lambda x: int(-x))\n",
    "df_2P['AIC'] = df_2P['AIC'].apply(lambda x: int(x))\n",
    "df_2P['AIC_diff'] = df_2P['AIC'] - df_2P['AIC'].min()\n",
    "df_2P"
   ]
  },
  {
   "cell_type": "code",
   "execution_count": 64,
   "id": "48751057",
   "metadata": {},
   "outputs": [
    {
     "name": "stdout",
     "output_type": "stream",
     "text": [
      "\\begin{tabular}{lrrr}\n",
      "\\toprule\n",
      " & deviance & AIC & AIC_diff \\\\\n",
      "model_name &  &  &  \\\\\n",
      "\\midrule\n",
      "FRA+Payoff+Attendance & 2179 & 4370 & 0 \\\\\n",
      "Attendance-M2 & 2253 & 4512 & 142 \\\\\n",
      "Attendance-M3 & 2253 & 4512 & 142 \\\\\n",
      "FRA & 2554 & 5114 & 744 \\\\\n",
      "MFP-M2 & 2560 & 5125 & 755 \\\\\n",
      "MFP-M3 & 2560 & 5125 & 755 \\\\\n",
      "AvailableSpace-M2 & 2566 & 5138 & 768 \\\\\n",
      "AvailableSpace-M3 & 2566 & 5138 & 768 \\\\\n",
      "Fairness-M2 & 2791 & 5589 & 1219 \\\\\n",
      "Fairness-M3 & 2791 & 5589 & 1219 \\\\\n",
      "Payoff-M2 & 2796 & 5597 & 1227 \\\\\n",
      "Payoff-M3 & 2796 & 5597 & 1227 \\\\\n",
      "WSLS-M2 & 2918 & 5843 & 1473 \\\\\n",
      "WSLS-M3 & 2918 & 5843 & 1473 \\\\\n",
      "Priors-M3 & 2968 & 5954 & 1584 \\\\\n",
      "Priors-M2 & 2968 & 5962 & 1592 \\\\\n",
      "Attendance-M1 & 3062 & 6130 & 1760 \\\\\n",
      "Priors-M1 & 3133 & 6272 & 1902 \\\\\n",
      "AvailableSpace-M1 & 3164 & 6335 & 1965 \\\\\n",
      "MFP-M1 & 3166 & 6336 & 1966 \\\\\n",
      "Payoff-M1 & 3177 & 6358 & 1988 \\\\\n",
      "WSLS-M1 & 3182 & 6371 & 2001 \\\\\n",
      "Fairness-M1 & 3188 & 6382 & 2012 \\\\\n",
      "\\bottomrule\n",
      "\\end{tabular}\n",
      "\n"
     ]
    }
   ],
   "source": [
    "latex_string = df_2P.to_latex()\n",
    "print(latex_string)"
   ]
  },
  {
   "cell_type": "code",
   "execution_count": 65,
   "id": "eb53065f",
   "metadata": {},
   "outputs": [
    {
     "name": "stdout",
     "output_type": "stream",
     "text": [
      "------------------------------------------------------------\n",
      "Attendance-M2\n",
      "{'inverse_temperature': 6.154017841, 'learning_rate': 0.20037471880000002, 'bias': 0.7566579015}\n",
      "------------------------------------------------------------\n",
      "FRA+Payoff+Attendance\n",
      "{'inverse_temperature': 5.6238432297, 'bias': 0.8007192149, 'learning_rate': 0.1949589572, 'len_history': 2.1137616066, 'c': 0.8632734003, 'delta': 0.12194788220000001}\n"
     ]
    }
   ],
   "source": [
    "latex_string_parameters = ''\n",
    "\n",
    "for model, row in df_parameters_2P.iterrows():\n",
    "    if model in ['Attendance-M2', 'FRA+Payoff+Attendance']:\n",
    "        parameters = row['free_parameters']\n",
    "        print('-'*60)\n",
    "        print(model)\n",
    "        print(parameters)"
   ]
  },
  {
   "cell_type": "markdown",
   "id": "9d605060",
   "metadata": {},
   "source": [
    "## Simulate two best fit models"
   ]
  },
  {
   "cell_type": "code",
   "execution_count": 66,
   "id": "c531929a",
   "metadata": {},
   "outputs": [],
   "source": [
    "def get_free_parameters(model_name, params_dict):\n",
    "    model_names = df_parameters_2P['model_name'].tolist()\n",
    "    idx = model_names.index(model_name)\n",
    "    return df_parameters_2P['free_parameters'][idx]\n",
    "\n",
    "# BEST_MODEL = AttendanceM2\n",
    "BEST_MODEL = FRAplus\n",
    "\n",
    "fixed_parameters = {\n",
    "\t\"num_agents\":2,\n",
    "\t\"threshold\":0.5,\n",
    "}\n",
    "simulation_parameters = {\n",
    "\t'num_rounds':50,\n",
    "\t'verbose':False\n",
    "}\n",
    "free_parameters = get_free_parameters(BEST_MODEL.name(), df_parameters_2P)"
   ]
  },
  {
   "cell_type": "code",
   "execution_count": 67,
   "id": "1f9c0bce",
   "metadata": {},
   "outputs": [
    {
     "data": {
      "application/vnd.jupyter.widget-view+json": {
       "model_id": "c34e895d31a74633b6f3c222bd836576",
       "version_major": 2,
       "version_minor": 0
      },
      "text/plain": [
       "Running seeds...:   0%|          | 0/23 [00:00<?, ?it/s]"
      ]
     },
     "metadata": {},
     "output_type": "display_data"
    },
    {
     "data": {
      "application/vnd.jupyter.widget-view+json": {
       "model_id": "4bb63459a57b481e804a0200ff23829d",
       "version_major": 2,
       "version_minor": 0
      },
      "text/plain": [
       "  0%|          | 0/1 [00:00<?, ?it/s]"
      ]
     },
     "metadata": {},
     "output_type": "display_data"
    },
    {
     "data": {
      "application/vnd.jupyter.widget-view+json": {
       "model_id": "1db4a3e5d742464e8248289073e22b1c",
       "version_major": 2,
       "version_minor": 0
      },
      "text/plain": [
       "  0%|          | 0/1 [00:00<?, ?it/s]"
      ]
     },
     "metadata": {},
     "output_type": "display_data"
    },
    {
     "data": {
      "application/vnd.jupyter.widget-view+json": {
       "model_id": "a172f6b22e594514a5cf4900c2b1a292",
       "version_major": 2,
       "version_minor": 0
      },
      "text/plain": [
       "  0%|          | 0/1 [00:00<?, ?it/s]"
      ]
     },
     "metadata": {},
     "output_type": "display_data"
    },
    {
     "data": {
      "application/vnd.jupyter.widget-view+json": {
       "model_id": "d0a6265dbe9c4035838d60cb60bbcfaa",
       "version_major": 2,
       "version_minor": 0
      },
      "text/plain": [
       "  0%|          | 0/1 [00:00<?, ?it/s]"
      ]
     },
     "metadata": {},
     "output_type": "display_data"
    },
    {
     "data": {
      "application/vnd.jupyter.widget-view+json": {
       "model_id": "303c3b98264d47ecb2b503e6e38a9c8a",
       "version_major": 2,
       "version_minor": 0
      },
      "text/plain": [
       "  0%|          | 0/1 [00:00<?, ?it/s]"
      ]
     },
     "metadata": {},
     "output_type": "display_data"
    },
    {
     "data": {
      "application/vnd.jupyter.widget-view+json": {
       "model_id": "84fcca62d07142699f9a46b03c8707db",
       "version_major": 2,
       "version_minor": 0
      },
      "text/plain": [
       "  0%|          | 0/1 [00:00<?, ?it/s]"
      ]
     },
     "metadata": {},
     "output_type": "display_data"
    },
    {
     "data": {
      "application/vnd.jupyter.widget-view+json": {
       "model_id": "dc666bd10d0f422aaf8925c3fcc4a63b",
       "version_major": 2,
       "version_minor": 0
      },
      "text/plain": [
       "  0%|          | 0/1 [00:00<?, ?it/s]"
      ]
     },
     "metadata": {},
     "output_type": "display_data"
    },
    {
     "data": {
      "application/vnd.jupyter.widget-view+json": {
       "model_id": "edc71ab900484507a5b4f6eee48b825f",
       "version_major": 2,
       "version_minor": 0
      },
      "text/plain": [
       "  0%|          | 0/1 [00:00<?, ?it/s]"
      ]
     },
     "metadata": {},
     "output_type": "display_data"
    },
    {
     "data": {
      "application/vnd.jupyter.widget-view+json": {
       "model_id": "c765dbfe55c046528bdb499d109f9198",
       "version_major": 2,
       "version_minor": 0
      },
      "text/plain": [
       "  0%|          | 0/1 [00:00<?, ?it/s]"
      ]
     },
     "metadata": {},
     "output_type": "display_data"
    },
    {
     "data": {
      "application/vnd.jupyter.widget-view+json": {
       "model_id": "afccdcb826d4467087ffc622c38aca1d",
       "version_major": 2,
       "version_minor": 0
      },
      "text/plain": [
       "  0%|          | 0/1 [00:00<?, ?it/s]"
      ]
     },
     "metadata": {},
     "output_type": "display_data"
    },
    {
     "data": {
      "application/vnd.jupyter.widget-view+json": {
       "model_id": "33e7eb1881fa4f5282b1172ac6852b33",
       "version_major": 2,
       "version_minor": 0
      },
      "text/plain": [
       "  0%|          | 0/1 [00:00<?, ?it/s]"
      ]
     },
     "metadata": {},
     "output_type": "display_data"
    },
    {
     "data": {
      "application/vnd.jupyter.widget-view+json": {
       "model_id": "7426edfc04764bba9d19d2fa0a803e24",
       "version_major": 2,
       "version_minor": 0
      },
      "text/plain": [
       "  0%|          | 0/1 [00:00<?, ?it/s]"
      ]
     },
     "metadata": {},
     "output_type": "display_data"
    },
    {
     "data": {
      "application/vnd.jupyter.widget-view+json": {
       "model_id": "df024c6b298b4bd9baa9f9c75d905880",
       "version_major": 2,
       "version_minor": 0
      },
      "text/plain": [
       "  0%|          | 0/1 [00:00<?, ?it/s]"
      ]
     },
     "metadata": {},
     "output_type": "display_data"
    },
    {
     "data": {
      "application/vnd.jupyter.widget-view+json": {
       "model_id": "db27519d9d21403fa6cf129751faa2d9",
       "version_major": 2,
       "version_minor": 0
      },
      "text/plain": [
       "  0%|          | 0/1 [00:00<?, ?it/s]"
      ]
     },
     "metadata": {},
     "output_type": "display_data"
    },
    {
     "data": {
      "application/vnd.jupyter.widget-view+json": {
       "model_id": "d6b1f8608cde4aab9b0b5af185f053d7",
       "version_major": 2,
       "version_minor": 0
      },
      "text/plain": [
       "  0%|          | 0/1 [00:00<?, ?it/s]"
      ]
     },
     "metadata": {},
     "output_type": "display_data"
    },
    {
     "data": {
      "application/vnd.jupyter.widget-view+json": {
       "model_id": "e0d58eac973a40d690dfda1c87af2333",
       "version_major": 2,
       "version_minor": 0
      },
      "text/plain": [
       "  0%|          | 0/1 [00:00<?, ?it/s]"
      ]
     },
     "metadata": {},
     "output_type": "display_data"
    },
    {
     "data": {
      "application/vnd.jupyter.widget-view+json": {
       "model_id": "102edc2978124500939979c850cb224c",
       "version_major": 2,
       "version_minor": 0
      },
      "text/plain": [
       "  0%|          | 0/1 [00:00<?, ?it/s]"
      ]
     },
     "metadata": {},
     "output_type": "display_data"
    },
    {
     "data": {
      "application/vnd.jupyter.widget-view+json": {
       "model_id": "74604a38329d41aba0dad2506c70d0f7",
       "version_major": 2,
       "version_minor": 0
      },
      "text/plain": [
       "  0%|          | 0/1 [00:00<?, ?it/s]"
      ]
     },
     "metadata": {},
     "output_type": "display_data"
    },
    {
     "data": {
      "application/vnd.jupyter.widget-view+json": {
       "model_id": "d63202c812b1494d90ab0b6ac704a502",
       "version_major": 2,
       "version_minor": 0
      },
      "text/plain": [
       "  0%|          | 0/1 [00:00<?, ?it/s]"
      ]
     },
     "metadata": {},
     "output_type": "display_data"
    },
    {
     "data": {
      "application/vnd.jupyter.widget-view+json": {
       "model_id": "35559d532905443e98b38a92aea66c1b",
       "version_major": 2,
       "version_minor": 0
      },
      "text/plain": [
       "  0%|          | 0/1 [00:00<?, ?it/s]"
      ]
     },
     "metadata": {},
     "output_type": "display_data"
    },
    {
     "data": {
      "application/vnd.jupyter.widget-view+json": {
       "model_id": "304f8c2072354924bd769b41d6ee4c37",
       "version_major": 2,
       "version_minor": 0
      },
      "text/plain": [
       "  0%|          | 0/1 [00:00<?, ?it/s]"
      ]
     },
     "metadata": {},
     "output_type": "display_data"
    },
    {
     "data": {
      "application/vnd.jupyter.widget-view+json": {
       "model_id": "3ac63ea2b3824e88b75229d091f98c18",
       "version_major": 2,
       "version_minor": 0
      },
      "text/plain": [
       "  0%|          | 0/1 [00:00<?, ?it/s]"
      ]
     },
     "metadata": {},
     "output_type": "display_data"
    },
    {
     "data": {
      "application/vnd.jupyter.widget-view+json": {
       "model_id": "c7b9d00b0e414d0eb3bdd5aa709c7dc7",
       "version_major": 2,
       "version_minor": 0
      },
      "text/plain": [
       "  0%|          | 0/1 [00:00<?, ?it/s]"
      ]
     },
     "metadata": {},
     "output_type": "display_data"
    },
    {
     "name": "stdout",
     "output_type": "stream",
     "text": [
      "Data saved to /Users/edgar/Documents/GitHub/Cognitive_Models_El_Farol_Bar_Problem/data/simulated/FRA+Payoff+Attendance.csv\n"
     ]
    }
   ],
   "source": [
    "data_folder = PATHS['simulated_data']\n",
    "num_episodes = 23 # same as human groups\n",
    "random.seed(4)\n",
    "seeds = [random.randint(0, 1000) for _ in range(num_episodes)]\n",
    "\n",
    "Performer.simple_run(\n",
    "    agent_class=BEST_MODEL,\n",
    "    fixed_parameters=fixed_parameters,\n",
    "    free_parameters=free_parameters,\n",
    "    simulation_parameters=simulation_parameters,\n",
    "    measures=[],\n",
    "    data_folder=data_folder,\n",
    "    new_file=False,\n",
    "    seeds=seeds\n",
    ")"
   ]
  },
  {
   "cell_type": "markdown",
   "id": "8b8165db",
   "metadata": {},
   "source": [
    "## Compare to human data"
   ]
  },
  {
   "cell_type": "code",
   "execution_count": 68,
   "id": "e0b8d483",
   "metadata": {},
   "outputs": [],
   "source": [
    "#Load 2P data\n",
    "file_name = PATHS['human_data'] / '2-player-UR.csv'\n",
    "data_human = pd.read_csv(file_name)\n",
    "data_human['model'] = 'human'\n",
    "\n",
    "#Load data from FRAplus\n",
    "file1 = PATHS['simulated_data'] / Path(f'{FRAplus.name()}.csv')\n",
    "data_sim1 = pd.read_csv(file1)\n",
    "data_sim1['model'] = FRAplus.name()\n",
    "\n",
    "#Load data from Attendance-M2\n",
    "file2 = PATHS['simulated_data'] / Path(f'{AttendanceM2.name()}.csv')\n",
    "data_sim2 = pd.read_csv(file2)\n",
    "data_sim2['model'] = AttendanceM2.name()\n",
    "\n",
    "# Calculate alternation index per group for FRAplus\n",
    "raw_df1 = PPT.concat_dfs(data_human, data_sim1)\n",
    "gm = GetMeasurements(\n",
    "    data=raw_df1,\n",
    "    measures=['efficiency', 'bounded_efficiency', 'inequality'],\n",
    "    T=np.inf\n",
    ")\n",
    "df1 = gm.get_measurements()\n",
    "alt_index = AlternationIndex.from_file(priority='sklearn')\n",
    "df1['alternation_index'] = alt_index(df1)\n",
    "df_jitter1 = df1.copy()\n",
    "df_jitter1['efficiency'] = df_jitter1['efficiency'] + np.random.normal(0, 0.01, len(df_jitter1['efficiency']))\n",
    "df_jitter1['inequality'] = df_jitter1['inequality'] + np.random.normal(0, 0.01, len(df_jitter1['inequality']))\n",
    "\n",
    "# Calculate alternation index per group for Attendance\n",
    "raw_df2 = PPT.concat_dfs(data_human, data_sim2)\n",
    "gm = GetMeasurements(\n",
    "    data=raw_df2,\n",
    "    measures=['efficiency', 'bounded_efficiency', 'inequality'],\n",
    "    T=np.inf\n",
    ")\n",
    "df2 = gm.get_measurements()\n",
    "alt_index = AlternationIndex.from_file(priority='sklearn')\n",
    "df2['alternation_index'] = alt_index(df2)\n",
    "df_jitter2 = df2.copy()\n",
    "df_jitter2['efficiency'] = df_jitter2['efficiency'] + np.random.normal(0, 0.01, len(df_jitter2['efficiency']))\n",
    "df_jitter2['inequality'] = df_jitter2['inequality'] + np.random.normal(0, 0.01, len(df_jitter2['inequality']))"
   ]
  },
  {
   "cell_type": "code",
   "execution_count": 70,
   "id": "036202e5",
   "metadata": {},
   "outputs": [
    {
     "data": {
      "image/png": "[encoded data removed]",
      "text/plain": [
       "<Figure size 700x600 with 4 Axes>"
      ]
     },
     "metadata": {},
     "output_type": "display_data"
    }
   ],
   "source": [
    "\n",
    "grid = Grid(4)\n",
    "fig, axes = plt.subplots(\n",
    "    grid.rows, grid.cols,\n",
    "    figsize=(grid.cols * 3.5, grid.rows * 3),\n",
    "    tight_layout=True,\n",
    "    sharex=False, sharey=True    \n",
    ")\n",
    "\n",
    "sns.kdeplot(\n",
    "    x='inequality', y='efficiency',\n",
    "    hue='model',style='model',\n",
    "    data=df_jitter1, palette='colorblind', fill=True,\n",
    "    ax=axes[0, 0]\n",
    ")\n",
    "sns.scatterplot(\n",
    "    x='inequality', y='efficiency',\n",
    "    hue='model',style='model',\n",
    "    data=df_jitter1, palette='colorblind',\n",
    "    ax=axes[0, 0]\n",
    ")\n",
    "axes[0, 0].set_xlabel('Inequality')\n",
    "axes[0, 0].set_ylabel('Efficiency')\n",
    "axes[0, 0].set_title('FRAplus (1st)\\nEfficiency vs. Inequality')\n",
    "handles, labels = axes[0, 0].get_legend_handles_labels()\n",
    "axes[0, 0].legend(\n",
    "    title='Source',\n",
    "    handles=handles,\n",
    "    labels=['FRAplus', 'Humans'],\n",
    "    loc='lower center',      # you can also use 'upper center'\n",
    "    bbox_to_anchor=(0.5, -0.5),  # y < 0 moves it below the axes\n",
    "    ncol=2,        # or choose a smaller number for multi‑row\n",
    ")\n",
    "axes[0, 0].grid()\n",
    "\n",
    "sns.kdeplot(\n",
    "    x='inequality', y='efficiency',\n",
    "    hue='model',style='model',\n",
    "    data=df_jitter2, palette='colorblind', fill=True,\n",
    "    ax=axes[0, 1]\n",
    ")\n",
    "sns.scatterplot(\n",
    "    x='inequality', y='efficiency',\n",
    "    hue='model',style='model',\n",
    "    data=df_jitter2, palette='colorblind',\n",
    "    ax=axes[0, 1]\n",
    ")\n",
    "axes[0, 1].set_xlabel('Inequality')\n",
    "axes[0, 1].set_ylabel('Efficiency')\n",
    "axes[0, 1].set_title('Payoff+Attendance (2nd)\\nEfficiency vs. Inequality')\n",
    "handles, labels = axes[0, 1].get_legend_handles_labels()\n",
    "axes[0, 1].legend(\n",
    "    title='Source',\n",
    "    handles=handles,\n",
    "    labels=['Payoff + Attendance', 'Humans'],\n",
    "    loc='lower center',      # you can also use 'upper center'\n",
    "    bbox_to_anchor=(0.5, -0.5),  # y < 0 moves it below the axes\n",
    "    ncol=2,        # or choose a smaller number for multi‑row\n",
    ")\n",
    "axes[0, 1].grid()\n",
    "\n",
    "\n",
    "sns.lineplot(\n",
    "    x='round', y='score', \n",
    "    hue='model', hue_order=[FRAplus.name(), 'human'],\n",
    "    data=raw_df1, palette='colorblind',\n",
    "    ax=axes[1,0]\n",
    ")\n",
    "axes[1, 0].set_xlabel('Round')\n",
    "axes[1, 0].set_ylabel('Av. score')\n",
    "axes[1, 0].set_title('FRAplus (1st)\\nScore per round')\n",
    "axes[1,0].legend().remove()\n",
    "axes[1, 0].grid()\n",
    "\n",
    "sns.lineplot(\n",
    "    x='round', y='score', \n",
    "    hue='model', hue_order=[AttendanceM2.name(), 'human'],\n",
    "    data=raw_df2, palette='colorblind',\n",
    "    ax=axes[1,1]\n",
    ")\n",
    "axes[1, 1].set_xlabel('Round')\n",
    "axes[1, 1].set_ylabel('Av. score')\n",
    "axes[1, 1].set_title('Payoff+Attendance (2nd)\\nScore per round')\n",
    "axes[1, 1].legend().remove()\n",
    "axes[1, 1].grid()"
   ]
  },
  {
   "cell_type": "code",
   "execution_count": 71,
   "id": "bcc62756",
   "metadata": {},
   "outputs": [],
   "source": [
    "fig.savefig(PATHS['figures_for_paper'] / 'Figure14.png', dpi=300, bbox_inches='tight')"
   ]
  },
  {
   "cell_type": "markdown",
   "id": "e48eae10",
   "metadata": {},
   "source": [
    "---"
   ]
  }
 ],
 "metadata": {
  "kernelspec": {
   "display_name": "Python 3 (ipykernel)",
   "language": "python",
   "name": "python3"
  },
  "language_info": {
   "codemirror_mode": {
    "name": "ipython",
    "version": 3
   },
   "file_extension": ".py",
   "mimetype": "text/x-python",
   "name": "python",
   "nbconvert_exporter": "python",
   "pygments_lexer": "ipython3",
   "version": "3.13.3"
  }
 },
 "nbformat": 4,
 "nbformat_minor": 5
}
