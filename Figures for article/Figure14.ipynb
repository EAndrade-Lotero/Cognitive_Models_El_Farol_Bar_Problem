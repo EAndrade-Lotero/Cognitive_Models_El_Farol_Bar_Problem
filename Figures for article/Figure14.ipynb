{
 "cells": [
  {
   "cell_type": "markdown",
   "id": "d2c7d77b",
   "metadata": {},
   "source": [
    "# Figure 14"
   ]
  },
  {
   "cell_type": "code",
   "execution_count": 1,
   "id": "11d46d17",
   "metadata": {},
   "outputs": [],
   "source": [
    "import numpy as np\n",
    "import pandas as pd\n",
    "import seaborn as sns\n",
    "import matplotlib.pyplot as plt\n",
    "\n",
    "from pathlib import Path\n",
    "\n",
    "import sys\n",
    "\n",
    "sys.path.append('../src')\n",
    "\n",
    "from Config.config import PATHS\n",
    "\n",
    "import warnings\n",
    "warnings.filterwarnings(\"ignore\")"
   ]
  },
  {
   "cell_type": "code",
   "execution_count": 2,
   "id": "14d42908",
   "metadata": {},
   "outputs": [],
   "source": [
    "from Classes.cognitive_model_agents import AttendanceM2, FRAplus"
   ]
  },
  {
   "cell_type": "code",
   "execution_count": null,
   "id": "a339078a",
   "metadata": {},
   "outputs": [],
   "source": []
  }
 ],
 "metadata": {
  "kernelspec": {
   "display_name": "Python 3 (ipykernel)",
   "language": "python",
   "name": "python3"
  },
  "language_info": {
   "codemirror_mode": {
    "name": "ipython",
    "version": 3
   },
   "file_extension": ".py",
   "mimetype": "text/x-python",
   "name": "python",
   "nbconvert_exporter": "python",
   "pygments_lexer": "ipython3",
   "version": "3.13.3"
  }
 },
 "nbformat": 4,
 "nbformat_minor": 5
}
