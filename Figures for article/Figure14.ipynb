{
 "cells": [
  {
   "cell_type": "markdown",
   "id": "d2c7d77b",
   "metadata": {},
   "source": [
    "# Figure 14\n",
    "\n",
    "Qualitative behavior of the best-fitting models for the two-player experiment. In the first row, the figure presents a two-way scatter plot depicting \\Efficiency\\ versus \\Inequality. Each plot contains 23 data points per group (human and the two best fitting models). Data points in each plot are jittered to improve visibility. The bottom row shows the score in each round averaged over all players."
   ]
  },
  {
   "cell_type": "code",
   "execution_count": 1,
   "id": "11d46d17",
   "metadata": {},
   "outputs": [],
   "source": [
    "import random\n",
    "import numpy as np\n",
    "import pandas as pd\n",
    "import seaborn as sns\n",
    "import matplotlib.pyplot as plt\n",
    "\n",
    "from pathlib import Path\n",
    "\n",
    "import sys\n",
    "\n",
    "sys.path.append('../src')\n",
    "\n",
    "from Config.config import PATHS\n",
    "\n",
    "import warnings\n",
    "warnings.filterwarnings(\"ignore\")"
   ]
  },
  {
   "cell_type": "code",
   "execution_count": 2,
   "id": "14d42908",
   "metadata": {},
   "outputs": [],
   "source": [
    "from Utils.utils import PPT\n",
    "from Utils.interaction import Performer\n",
    "from Utils.indices import AlternationIndex\n",
    "from Utils.utils import GetMeasurements, Grid\n",
    "from Classes.cognitive_model_agents import AttendanceM2, FRAplus"
   ]
  },
  {
   "cell_type": "markdown",
   "id": "90430887",
   "metadata": {},
   "source": [
    "## Present model fitting"
   ]
  },
  {
   "cell_type": "code",
   "execution_count": 3,
   "id": "2ffc8946",
   "metadata": {},
   "outputs": [
    {
     "data": {
      "text/html": [
       "<div>\n",
       "<style scoped>\n",
       "    .dataframe tbody tr th:only-of-type {\n",
       "        vertical-align: middle;\n",
       "    }\n",
       "\n",
       "    .dataframe tbody tr th {\n",
       "        vertical-align: top;\n",
       "    }\n",
       "\n",
       "    .dataframe thead th {\n",
       "        text-align: right;\n",
       "    }\n",
       "</style>\n",
       "<table border=\"1\" class=\"dataframe\">\n",
       "  <thead>\n",
       "    <tr style=\"text-align: right;\">\n",
       "      <th></th>\n",
       "      <th>deviance</th>\n",
       "      <th>AIC</th>\n",
       "      <th>AIC_diff</th>\n",
       "    </tr>\n",
       "    <tr>\n",
       "      <th>model_name</th>\n",
       "      <th></th>\n",
       "      <th></th>\n",
       "      <th></th>\n",
       "    </tr>\n",
       "  </thead>\n",
       "  <tbody>\n",
       "    <tr>\n",
       "      <th>FRA+Payoff+Attendance</th>\n",
       "      <td>2223</td>\n",
       "      <td>4458</td>\n",
       "      <td>0</td>\n",
       "    </tr>\n",
       "    <tr>\n",
       "      <th>Attendance-M2</th>\n",
       "      <td>2253</td>\n",
       "      <td>4512</td>\n",
       "      <td>54</td>\n",
       "    </tr>\n",
       "    <tr>\n",
       "      <th>Attendance-M3</th>\n",
       "      <td>2253</td>\n",
       "      <td>4512</td>\n",
       "      <td>54</td>\n",
       "    </tr>\n",
       "    <tr>\n",
       "      <th>MFP-M2</th>\n",
       "      <td>2560</td>\n",
       "      <td>5125</td>\n",
       "      <td>667</td>\n",
       "    </tr>\n",
       "    <tr>\n",
       "      <th>MFP-M3</th>\n",
       "      <td>2560</td>\n",
       "      <td>5125</td>\n",
       "      <td>667</td>\n",
       "    </tr>\n",
       "    <tr>\n",
       "      <th>AvailableSpace-M2</th>\n",
       "      <td>2566</td>\n",
       "      <td>5138</td>\n",
       "      <td>680</td>\n",
       "    </tr>\n",
       "    <tr>\n",
       "      <th>AvailableSpace-M3</th>\n",
       "      <td>2566</td>\n",
       "      <td>5138</td>\n",
       "      <td>680</td>\n",
       "    </tr>\n",
       "    <tr>\n",
       "      <th>FRA</th>\n",
       "      <td>2716</td>\n",
       "      <td>5439</td>\n",
       "      <td>981</td>\n",
       "    </tr>\n",
       "    <tr>\n",
       "      <th>Fairness-M2</th>\n",
       "      <td>2791</td>\n",
       "      <td>5589</td>\n",
       "      <td>1131</td>\n",
       "    </tr>\n",
       "    <tr>\n",
       "      <th>Fairness-M3</th>\n",
       "      <td>2791</td>\n",
       "      <td>5589</td>\n",
       "      <td>1131</td>\n",
       "    </tr>\n",
       "    <tr>\n",
       "      <th>Payoff-M2</th>\n",
       "      <td>2796</td>\n",
       "      <td>5597</td>\n",
       "      <td>1139</td>\n",
       "    </tr>\n",
       "    <tr>\n",
       "      <th>Payoff-M3</th>\n",
       "      <td>2796</td>\n",
       "      <td>5597</td>\n",
       "      <td>1139</td>\n",
       "    </tr>\n",
       "    <tr>\n",
       "      <th>WSLS-M2</th>\n",
       "      <td>2918</td>\n",
       "      <td>5843</td>\n",
       "      <td>1385</td>\n",
       "    </tr>\n",
       "    <tr>\n",
       "      <th>WSLS-M3</th>\n",
       "      <td>2918</td>\n",
       "      <td>5843</td>\n",
       "      <td>1385</td>\n",
       "    </tr>\n",
       "    <tr>\n",
       "      <th>Priors-M3</th>\n",
       "      <td>2968</td>\n",
       "      <td>5954</td>\n",
       "      <td>1496</td>\n",
       "    </tr>\n",
       "    <tr>\n",
       "      <th>Priors-M2</th>\n",
       "      <td>2968</td>\n",
       "      <td>5962</td>\n",
       "      <td>1504</td>\n",
       "    </tr>\n",
       "    <tr>\n",
       "      <th>Attendance-M1</th>\n",
       "      <td>3062</td>\n",
       "      <td>6130</td>\n",
       "      <td>1672</td>\n",
       "    </tr>\n",
       "    <tr>\n",
       "      <th>Priors-M1</th>\n",
       "      <td>3133</td>\n",
       "      <td>6272</td>\n",
       "      <td>1814</td>\n",
       "    </tr>\n",
       "    <tr>\n",
       "      <th>AvailableSpace-M1</th>\n",
       "      <td>3164</td>\n",
       "      <td>6335</td>\n",
       "      <td>1877</td>\n",
       "    </tr>\n",
       "    <tr>\n",
       "      <th>MFP-M1</th>\n",
       "      <td>3166</td>\n",
       "      <td>6336</td>\n",
       "      <td>1878</td>\n",
       "    </tr>\n",
       "    <tr>\n",
       "      <th>Payoff-M1</th>\n",
       "      <td>3177</td>\n",
       "      <td>6358</td>\n",
       "      <td>1900</td>\n",
       "    </tr>\n",
       "    <tr>\n",
       "      <th>WSLS-M1</th>\n",
       "      <td>3182</td>\n",
       "      <td>6371</td>\n",
       "      <td>1913</td>\n",
       "    </tr>\n",
       "    <tr>\n",
       "      <th>Fairness-M1</th>\n",
       "      <td>3188</td>\n",
       "      <td>6382</td>\n",
       "      <td>1924</td>\n",
       "    </tr>\n",
       "  </tbody>\n",
       "</table>\n",
       "</div>"
      ],
      "text/plain": [
       "                       deviance   AIC  AIC_diff\n",
       "model_name                                     \n",
       "FRA+Payoff+Attendance      2223  4458         0\n",
       "Attendance-M2              2253  4512        54\n",
       "Attendance-M3              2253  4512        54\n",
       "MFP-M2                     2560  5125       667\n",
       "MFP-M3                     2560  5125       667\n",
       "AvailableSpace-M2          2566  5138       680\n",
       "AvailableSpace-M3          2566  5138       680\n",
       "FRA                        2716  5439       981\n",
       "Fairness-M2                2791  5589      1131\n",
       "Fairness-M3                2791  5589      1131\n",
       "Payoff-M2                  2796  5597      1139\n",
       "Payoff-M3                  2796  5597      1139\n",
       "WSLS-M2                    2918  5843      1385\n",
       "WSLS-M3                    2918  5843      1385\n",
       "Priors-M3                  2968  5954      1496\n",
       "Priors-M2                  2968  5962      1504\n",
       "Attendance-M1              3062  6130      1672\n",
       "Priors-M1                  3133  6272      1814\n",
       "AvailableSpace-M1          3164  6335      1877\n",
       "MFP-M1                     3166  6336      1878\n",
       "Payoff-M1                  3177  6358      1900\n",
       "WSLS-M1                    3182  6371      1913\n",
       "Fairness-M1                3188  6382      1924"
      ]
     },
     "execution_count": 3,
     "metadata": {},
     "output_type": "execute_result"
    }
   ],
   "source": [
    "file_2PL = PATHS['parameter_fit_results'] / Path('best_fit_2P.json')\n",
    "df_2P = pd.read_json(file_2PL, lines=True)\n",
    "df_2P.index = df_2P.model_name\n",
    "df_parameters_2P = df_2P[['model_name', 'free_parameters']]\n",
    "df_2P.drop(columns=['model', 'model_name', 'free_parameters', 'fixed_parameters'], inplace=True)\n",
    "df_2P.sort_values(by='AIC', inplace=True)\n",
    "# df_2P.sort_values(by='model_name', inplace=True)\n",
    "df_2P['deviance'] = df_2P['deviance'].apply(lambda x: int(-x))\n",
    "df_2P['AIC'] = df_2P['AIC'].apply(lambda x: int(x))\n",
    "df_2P['AIC_diff'] = df_2P['AIC'] - df_2P['AIC'].min()\n",
    "df_2P"
   ]
  },
  {
   "cell_type": "code",
   "execution_count": 4,
   "id": "48751057",
   "metadata": {},
   "outputs": [
    {
     "name": "stdout",
     "output_type": "stream",
     "text": [
      "\\begin{tabular}{lrrr}\n",
      "\\toprule\n",
      " & deviance & AIC & AIC_diff \\\\\n",
      "model_name &  &  &  \\\\\n",
      "\\midrule\n",
      "FRA+Payoff+Attendance & 2223 & 4458 & 0 \\\\\n",
      "Attendance-M2 & 2253 & 4512 & 54 \\\\\n",
      "Attendance-M3 & 2253 & 4512 & 54 \\\\\n",
      "MFP-M2 & 2560 & 5125 & 667 \\\\\n",
      "MFP-M3 & 2560 & 5125 & 667 \\\\\n",
      "AvailableSpace-M2 & 2566 & 5138 & 680 \\\\\n",
      "AvailableSpace-M3 & 2566 & 5138 & 680 \\\\\n",
      "FRA & 2716 & 5439 & 981 \\\\\n",
      "Fairness-M2 & 2791 & 5589 & 1131 \\\\\n",
      "Fairness-M3 & 2791 & 5589 & 1131 \\\\\n",
      "Payoff-M2 & 2796 & 5597 & 1139 \\\\\n",
      "Payoff-M3 & 2796 & 5597 & 1139 \\\\\n",
      "WSLS-M2 & 2918 & 5843 & 1385 \\\\\n",
      "WSLS-M3 & 2918 & 5843 & 1385 \\\\\n",
      "Priors-M3 & 2968 & 5954 & 1496 \\\\\n",
      "Priors-M2 & 2968 & 5962 & 1504 \\\\\n",
      "Attendance-M1 & 3062 & 6130 & 1672 \\\\\n",
      "Priors-M1 & 3133 & 6272 & 1814 \\\\\n",
      "AvailableSpace-M1 & 3164 & 6335 & 1877 \\\\\n",
      "MFP-M1 & 3166 & 6336 & 1878 \\\\\n",
      "Payoff-M1 & 3177 & 6358 & 1900 \\\\\n",
      "WSLS-M1 & 3182 & 6371 & 1913 \\\\\n",
      "Fairness-M1 & 3188 & 6382 & 1924 \\\\\n",
      "\\bottomrule\n",
      "\\end{tabular}\n",
      "\n"
     ]
    }
   ],
   "source": [
    "latex_string = df_2P.to_latex()\n",
    "print(latex_string)"
   ]
  },
  {
   "cell_type": "code",
   "execution_count": 5,
   "id": "eb53065f",
   "metadata": {},
   "outputs": [
    {
     "name": "stdout",
     "output_type": "stream",
     "text": [
      "------------------------------------------------------------\n",
      "Attendance-M2\n",
      "{'inverse_temperature': 6.154017841, 'learning_rate': 0.20037471880000002, 'bias': 0.7566579015}\n",
      "------------------------------------------------------------\n",
      "FRA+Payoff+Attendance\n",
      "{'inverse_temperature': 6.3844949711, 'bias': 0.7478171885, 'learning_rate': 0.19868152790000002, 'len_history': 1.0274636861, 'max_regions': 1.1292748336, 'delta': 0.0542665395}\n"
     ]
    }
   ],
   "source": [
    "latex_string_parameters = ''\n",
    "\n",
    "for model, row in df_parameters_2P.iterrows():\n",
    "    if model in ['Attendance-M2', 'FRA+Payoff+Attendance']:\n",
    "        parameters = row['free_parameters']\n",
    "        print('-'*60)\n",
    "        print(model)\n",
    "        print(parameters)"
   ]
  },
  {
   "cell_type": "markdown",
   "id": "9d605060",
   "metadata": {},
   "source": [
    "## Simulate two best fit models"
   ]
  },
  {
   "cell_type": "code",
   "execution_count": 6,
   "id": "c531929a",
   "metadata": {},
   "outputs": [],
   "source": [
    "def get_free_parameters(model_name, params_dict):\n",
    "    model_names = df_parameters_2P['model_name'].tolist()\n",
    "    idx = model_names.index(model_name)\n",
    "    return df_parameters_2P['free_parameters'][idx]\n",
    "\n",
    "# BEST_MODEL = AttendanceM2\n",
    "BEST_MODEL = FRAplus\n",
    "\n",
    "fixed_parameters = {\n",
    "\t\"num_agents\":2,\n",
    "\t\"threshold\":0.5,\n",
    "}\n",
    "free_parameters = {\n",
    "    'inverse_temperature': 6, \n",
    "    'bias': 0.79, \n",
    "    'learning_rate': 0.18, \n",
    "    'len_history': 2, \n",
    "    'c': 1, \n",
    "    'delta': 0.1\n",
    "}\n",
    "simulation_parameters = {\n",
    "\t'num_rounds':50,\n",
    "\t'verbose':False\n",
    "}"
   ]
  },
  {
   "cell_type": "code",
   "execution_count": 7,
   "id": "1f9c0bce",
   "metadata": {},
   "outputs": [
    {
     "data": {
      "application/vnd.jupyter.widget-view+json": {
       "model_id": "25c65bb9b3014a21963e6d0ba84e3aa2",
       "version_major": 2,
       "version_minor": 0
      },
      "text/plain": [
       "Running seeds...:   0%|          | 0/23 [00:00<?, ?it/s]"
      ]
     },
     "metadata": {},
     "output_type": "display_data"
    },
    {
     "data": {
      "application/vnd.jupyter.widget-view+json": {
       "model_id": "ff8c50846b3245ffbebb92203e30f931",
       "version_major": 2,
       "version_minor": 0
      },
      "text/plain": [
       "  0%|          | 0/1 [00:00<?, ?it/s]"
      ]
     },
     "metadata": {},
     "output_type": "display_data"
    },
    {
     "data": {
      "application/vnd.jupyter.widget-view+json": {
       "model_id": "b39734d9128445c8a1fb647f62a23ada",
       "version_major": 2,
       "version_minor": 0
      },
      "text/plain": [
       "  0%|          | 0/1 [00:00<?, ?it/s]"
      ]
     },
     "metadata": {},
     "output_type": "display_data"
    },
    {
     "data": {
      "application/vnd.jupyter.widget-view+json": {
       "model_id": "b3ff2d1650e042bf85e24aeb358b0715",
       "version_major": 2,
       "version_minor": 0
      },
      "text/plain": [
       "  0%|          | 0/1 [00:00<?, ?it/s]"
      ]
     },
     "metadata": {},
     "output_type": "display_data"
    },
    {
     "data": {
      "application/vnd.jupyter.widget-view+json": {
       "model_id": "06c1aebbfe5748c1b523d34f70bde537",
       "version_major": 2,
       "version_minor": 0
      },
      "text/plain": [
       "  0%|          | 0/1 [00:00<?, ?it/s]"
      ]
     },
     "metadata": {},
     "output_type": "display_data"
    },
    {
     "data": {
      "application/vnd.jupyter.widget-view+json": {
       "model_id": "a230816482ec4ac982baf66dd2a0e0f4",
       "version_major": 2,
       "version_minor": 0
      },
      "text/plain": [
       "  0%|          | 0/1 [00:00<?, ?it/s]"
      ]
     },
     "metadata": {},
     "output_type": "display_data"
    },
    {
     "data": {
      "application/vnd.jupyter.widget-view+json": {
       "model_id": "0de2b386f99547f1aa421a32fe68bf0f",
       "version_major": 2,
       "version_minor": 0
      },
      "text/plain": [
       "  0%|          | 0/1 [00:00<?, ?it/s]"
      ]
     },
     "metadata": {},
     "output_type": "display_data"
    },
    {
     "data": {
      "application/vnd.jupyter.widget-view+json": {
       "model_id": "1d0ea18be1d445afa2143db0e69891ff",
       "version_major": 2,
       "version_minor": 0
      },
      "text/plain": [
       "  0%|          | 0/1 [00:00<?, ?it/s]"
      ]
     },
     "metadata": {},
     "output_type": "display_data"
    },
    {
     "data": {
      "application/vnd.jupyter.widget-view+json": {
       "model_id": "f1a169fbdc8d44fba03ca2a644d67c8d",
       "version_major": 2,
       "version_minor": 0
      },
      "text/plain": [
       "  0%|          | 0/1 [00:00<?, ?it/s]"
      ]
     },
     "metadata": {},
     "output_type": "display_data"
    },
    {
     "data": {
      "application/vnd.jupyter.widget-view+json": {
       "model_id": "3a1ca82ca5f9404c90a16a73170c6940",
       "version_major": 2,
       "version_minor": 0
      },
      "text/plain": [
       "  0%|          | 0/1 [00:00<?, ?it/s]"
      ]
     },
     "metadata": {},
     "output_type": "display_data"
    },
    {
     "data": {
      "application/vnd.jupyter.widget-view+json": {
       "model_id": "8589cd3d3ff94422aabd3e9a0a44c949",
       "version_major": 2,
       "version_minor": 0
      },
      "text/plain": [
       "  0%|          | 0/1 [00:00<?, ?it/s]"
      ]
     },
     "metadata": {},
     "output_type": "display_data"
    },
    {
     "data": {
      "application/vnd.jupyter.widget-view+json": {
       "model_id": "14c5977550be47b691a76e35663abb48",
       "version_major": 2,
       "version_minor": 0
      },
      "text/plain": [
       "  0%|          | 0/1 [00:00<?, ?it/s]"
      ]
     },
     "metadata": {},
     "output_type": "display_data"
    },
    {
     "data": {
      "application/vnd.jupyter.widget-view+json": {
       "model_id": "2bc181a5fbcb425f9cbbecfd632c7dd2",
       "version_major": 2,
       "version_minor": 0
      },
      "text/plain": [
       "  0%|          | 0/1 [00:00<?, ?it/s]"
      ]
     },
     "metadata": {},
     "output_type": "display_data"
    },
    {
     "data": {
      "application/vnd.jupyter.widget-view+json": {
       "model_id": "af2ad11b728449a495ab9c98b95c4a07",
       "version_major": 2,
       "version_minor": 0
      },
      "text/plain": [
       "  0%|          | 0/1 [00:00<?, ?it/s]"
      ]
     },
     "metadata": {},
     "output_type": "display_data"
    },
    {
     "data": {
      "application/vnd.jupyter.widget-view+json": {
       "model_id": "659e1ba69a354e749261ef01c483b627",
       "version_major": 2,
       "version_minor": 0
      },
      "text/plain": [
       "  0%|          | 0/1 [00:00<?, ?it/s]"
      ]
     },
     "metadata": {},
     "output_type": "display_data"
    },
    {
     "data": {
      "application/vnd.jupyter.widget-view+json": {
       "model_id": "64530476968e4ebc9d5d80bb72eca302",
       "version_major": 2,
       "version_minor": 0
      },
      "text/plain": [
       "  0%|          | 0/1 [00:00<?, ?it/s]"
      ]
     },
     "metadata": {},
     "output_type": "display_data"
    },
    {
     "data": {
      "application/vnd.jupyter.widget-view+json": {
       "model_id": "789f97e709814497958bde98bc772165",
       "version_major": 2,
       "version_minor": 0
      },
      "text/plain": [
       "  0%|          | 0/1 [00:00<?, ?it/s]"
      ]
     },
     "metadata": {},
     "output_type": "display_data"
    },
    {
     "data": {
      "application/vnd.jupyter.widget-view+json": {
       "model_id": "578beb5021cd4d2bac9bee07aaca3cea",
       "version_major": 2,
       "version_minor": 0
      },
      "text/plain": [
       "  0%|          | 0/1 [00:00<?, ?it/s]"
      ]
     },
     "metadata": {},
     "output_type": "display_data"
    },
    {
     "data": {
      "application/vnd.jupyter.widget-view+json": {
       "model_id": "ec94180e21004cbeaefdec46df973909",
       "version_major": 2,
       "version_minor": 0
      },
      "text/plain": [
       "  0%|          | 0/1 [00:00<?, ?it/s]"
      ]
     },
     "metadata": {},
     "output_type": "display_data"
    },
    {
     "data": {
      "application/vnd.jupyter.widget-view+json": {
       "model_id": "662eb4d83659447188f27ce38783ee41",
       "version_major": 2,
       "version_minor": 0
      },
      "text/plain": [
       "  0%|          | 0/1 [00:00<?, ?it/s]"
      ]
     },
     "metadata": {},
     "output_type": "display_data"
    },
    {
     "data": {
      "application/vnd.jupyter.widget-view+json": {
       "model_id": "de551822cf0b432cb06aa2aa1ffb7db7",
       "version_major": 2,
       "version_minor": 0
      },
      "text/plain": [
       "  0%|          | 0/1 [00:00<?, ?it/s]"
      ]
     },
     "metadata": {},
     "output_type": "display_data"
    },
    {
     "data": {
      "application/vnd.jupyter.widget-view+json": {
       "model_id": "8733891ec14f42b6b796789a596c3042",
       "version_major": 2,
       "version_minor": 0
      },
      "text/plain": [
       "  0%|          | 0/1 [00:00<?, ?it/s]"
      ]
     },
     "metadata": {},
     "output_type": "display_data"
    },
    {
     "data": {
      "application/vnd.jupyter.widget-view+json": {
       "model_id": "9376312e647e45afb10f3a5d4f0539c5",
       "version_major": 2,
       "version_minor": 0
      },
      "text/plain": [
       "  0%|          | 0/1 [00:00<?, ?it/s]"
      ]
     },
     "metadata": {},
     "output_type": "display_data"
    },
    {
     "data": {
      "application/vnd.jupyter.widget-view+json": {
       "model_id": "95737d4bcc934b2fab75712cc6709e51",
       "version_major": 2,
       "version_minor": 0
      },
      "text/plain": [
       "  0%|          | 0/1 [00:00<?, ?it/s]"
      ]
     },
     "metadata": {},
     "output_type": "display_data"
    },
    {
     "name": "stdout",
     "output_type": "stream",
     "text": [
      "Data saved to /Users/edgar/Documents/GitHub/Cognitive_Models_El_Farol_Bar_Problem/data/simulated/FRA+Payoff+Attendance.csv\n"
     ]
    }
   ],
   "source": [
    "data_folder = PATHS['simulated_data']\n",
    "num_episodes = 23 # same as human groups\n",
    "random.seed(4)\n",
    "seeds = [random.randint(0, 1000) for _ in range(num_episodes)]\n",
    "\n",
    "Performer.simple_run(\n",
    "    agent_class=BEST_MODEL,\n",
    "    fixed_parameters=fixed_parameters,\n",
    "    free_parameters=free_parameters,\n",
    "    simulation_parameters=simulation_parameters,\n",
    "    measures=[],\n",
    "    data_folder=data_folder,\n",
    "    new_file=False,\n",
    "    seeds=seeds\n",
    ")"
   ]
  },
  {
   "cell_type": "markdown",
   "id": "8b8165db",
   "metadata": {},
   "source": [
    "## Compare to human data"
   ]
  },
  {
   "cell_type": "code",
   "execution_count": 13,
   "id": "e0b8d483",
   "metadata": {},
   "outputs": [],
   "source": [
    "#Load 2P data\n",
    "file_name = PATHS['human_data'] / '2-player-UR.csv'\n",
    "data_human = pd.read_csv(file_name)\n",
    "data_human['model'] = 'human'\n",
    "\n",
    "#Load data from FRAplus\n",
    "file1 = PATHS['simulated_data'] / Path(f'{FRAplus.name()}.csv')\n",
    "data_sim1 = pd.read_csv(file1)\n",
    "data_sim1['model'] = FRAplus.name()\n",
    "\n",
    "#Load data from Attendance-M2\n",
    "file2 = PATHS['simulated_data'] / Path(f'{AttendanceM2.name()}.csv')\n",
    "data_sim2 = pd.read_csv(file2)\n",
    "data_sim2['model'] = AttendanceM2.name()\n",
    "\n",
    "# Calculate alternation index per group for FRAplus\n",
    "raw_df1 = PPT.concat_dfs(data_human, data_sim1)\n",
    "gm = GetMeasurements(\n",
    "    data=raw_df1,\n",
    "    measures=['efficiency', 'bounded_efficiency', 'inequality'],\n",
    "    T=np.inf\n",
    ")\n",
    "df1 = gm.get_measurements()\n",
    "alt_index = AlternationIndex.from_file(priority='sklearn')\n",
    "df1['alternation_index'] = alt_index(df1)\n",
    "df_jitter1 = df1.copy()\n",
    "df_jitter1['efficiency'] = df_jitter1['efficiency'] + np.random.normal(0, 0.01, len(df_jitter1['efficiency']))\n",
    "df_jitter1['inequality'] = df_jitter1['inequality'] + np.random.normal(0, 0.01, len(df_jitter1['inequality']))\n",
    "\n",
    "# Calculate alternation index per group for Attendance\n",
    "raw_df2 = PPT.concat_dfs(data_human, data_sim2)\n",
    "gm = GetMeasurements(\n",
    "    data=raw_df2,\n",
    "    measures=['efficiency', 'bounded_efficiency', 'inequality'],\n",
    "    T=np.inf\n",
    ")\n",
    "df2 = gm.get_measurements()\n",
    "alt_index = AlternationIndex.from_file(priority='sklearn')\n",
    "df2['alternation_index'] = alt_index(df2)\n",
    "df_jitter2 = df2.copy()\n",
    "df_jitter2['efficiency'] = df_jitter2['efficiency'] + np.random.normal(0, 0.01, len(df_jitter2['efficiency']))\n",
    "df_jitter2['inequality'] = df_jitter2['inequality'] + np.random.normal(0, 0.01, len(df_jitter2['inequality']))"
   ]
  },
  {
   "cell_type": "code",
   "execution_count": 18,
   "id": "036202e5",
   "metadata": {},
   "outputs": [
    {
     "data": {
      "image/png": "[encoded data removed]",
      "text/plain": [
       "<Figure size 700x600 with 4 Axes>"
      ]
     },
     "metadata": {},
     "output_type": "display_data"
    }
   ],
   "source": [
    "\n",
    "grid = Grid(4)\n",
    "fig, axes = plt.subplots(\n",
    "    grid.rows, grid.cols,\n",
    "    figsize=(grid.cols * 3.5, grid.rows * 3),\n",
    "    tight_layout=True,\n",
    "    sharex=False, sharey=True    \n",
    ")\n",
    "\n",
    "sns.kdeplot(\n",
    "    x='inequality', y='efficiency',\n",
    "    hue='model',style='model',\n",
    "    data=df_jitter1, palette='colorblind', fill=True,\n",
    "    ax=axes[0, 0]\n",
    ")\n",
    "sns.scatterplot(\n",
    "    x='inequality', y='efficiency',\n",
    "    hue='model',style='model',\n",
    "    data=df_jitter1, palette='colorblind',\n",
    "    ax=axes[0, 0]\n",
    ")\n",
    "axes[0, 0].set_xlabel('Inequality')\n",
    "axes[0, 0].set_ylabel('Efficiency')\n",
    "axes[0, 0].set_title('Efficiency vs. Inequality')\n",
    "handles, labels = axes[0, 0].get_legend_handles_labels()\n",
    "axes[0, 0].legend(\n",
    "    title='Source',\n",
    "    handles=handles,\n",
    "    labels=['FRAplus', 'Humans'],\n",
    "    loc='lower center',      # you can also use 'upper center'\n",
    "    bbox_to_anchor=(0.5, -0.5),  # y < 0 moves it below the axes\n",
    "    ncol=2,        # or choose a smaller number for multi‑row\n",
    ")\n",
    "axes[0, 0].grid()\n",
    "\n",
    "sns.kdeplot(\n",
    "    x='inequality', y='efficiency',\n",
    "    hue='model',style='model',\n",
    "    data=df_jitter2, palette='colorblind', fill=True,\n",
    "    ax=axes[0, 1]\n",
    ")\n",
    "sns.scatterplot(\n",
    "    x='inequality', y='efficiency',\n",
    "    hue='model',style='model',\n",
    "    data=df_jitter2, palette='colorblind',\n",
    "    ax=axes[0, 1]\n",
    ")\n",
    "axes[0, 1].set_xlabel('Inequality')\n",
    "axes[0, 1].set_ylabel('Efficiency')\n",
    "axes[0, 1].set_title('Efficiency vs. Inequality')\n",
    "handles, labels = axes[0, 1].get_legend_handles_labels()\n",
    "axes[0, 1].legend(\n",
    "    title='Source',\n",
    "    handles=handles,\n",
    "    labels=['Payoff + Attendance', 'Humans'],\n",
    "    loc='lower center',      # you can also use 'upper center'\n",
    "    bbox_to_anchor=(0.5, -0.5),  # y < 0 moves it below the axes\n",
    "    ncol=2,        # or choose a smaller number for multi‑row\n",
    ")\n",
    "axes[0, 1].grid()\n",
    "\n",
    "\n",
    "sns.lineplot(\n",
    "    x='round', y='score', \n",
    "    hue='model', hue_order=[FRAplus.name(), 'human'],\n",
    "    data=raw_df1, palette='colorblind',\n",
    "    ax=axes[1,0]\n",
    ")\n",
    "axes[1, 0].set_xlabel('Round')\n",
    "axes[1, 0].set_ylabel('Av. score')\n",
    "axes[1, 0].set_title('Score per round')\n",
    "axes[1,0].legend().remove()\n",
    "axes[1, 0].grid()\n",
    "\n",
    "sns.lineplot(\n",
    "    x='round', y='score', \n",
    "    hue='model', hue_order=[AttendanceM2.name(), 'human'],\n",
    "    data=raw_df2, palette='colorblind',\n",
    "    ax=axes[1,1]\n",
    ")\n",
    "axes[1, 1].set_xlabel('Round')\n",
    "axes[1, 1].set_ylabel('Av. score')\n",
    "axes[1, 1].set_title('Score per round')\n",
    "axes[1, 1].legend().remove()\n",
    "axes[1, 1].grid()"
   ]
  },
  {
   "cell_type": "code",
   "execution_count": 19,
   "id": "bcc62756",
   "metadata": {},
   "outputs": [],
   "source": [
    "fig.savefig(PATHS['figures_for_paper'] / 'Figure14.png', dpi=300, bbox_inches='tight')"
   ]
  },
  {
   "cell_type": "markdown",
   "id": "e48eae10",
   "metadata": {},
   "source": [
    "---"
   ]
  }
 ],
 "metadata": {
  "kernelspec": {
   "display_name": "Python 3 (ipykernel)",
   "language": "python",
   "name": "python3"
  },
  "language_info": {
   "codemirror_mode": {
    "name": "ipython",
    "version": 3
   },
   "file_extension": ".py",
   "mimetype": "text/x-python",
   "name": "python",
   "nbconvert_exporter": "python",
   "pygments_lexer": "ipython3",
   "version": "3.13.3"
  }
 },
 "nbformat": 4,
 "nbformat_minor": 5
}
