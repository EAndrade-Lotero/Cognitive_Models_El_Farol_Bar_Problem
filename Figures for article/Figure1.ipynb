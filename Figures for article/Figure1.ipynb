{
 "cells": [
  {
   "cell_type": "markdown",
   "id": "430a0ecf",
   "metadata": {},
   "source": [
    "# Figure 1\n",
    "\n",
    "Visual presentation of decision rollouts in four different scenarios. Each rollout consists of the decisions of three players for fifteen rounds. Rows correspond to players and columns to rounds. Blue cells represent ''go'' decisions, and gray cells represent ''do not go'' decisions. Each rollout represents a different pattern (see text for details)."
   ]
  },
  {
   "cell_type": "code",
   "execution_count": 5,
   "id": "681683a4",
   "metadata": {},
   "outputs": [],
   "source": [
    "import sys\n",
    "sys.path.append('../src')\n",
    "\n",
    "import numpy as np\n",
    "import pandas as pd\n",
    "import matplotlib.pyplot as plt\n",
    "\n",
    "from Classes.bar import Bar\n",
    "from Config.config import PATHS"
   ]
  },
  {
   "cell_type": "code",
   "execution_count": 6,
   "id": "6cc5a6a3",
   "metadata": {},
   "outputs": [],
   "source": [
    "def plot_stability(list_of_alternations, list_of_titles, num_rounds):\n",
    "\tfig, axes = plt.subplots(len(list_of_alternations))\n",
    "\tfor i, alternations in enumerate(list_of_alternations):\n",
    "\t\t# Detect number of agents\n",
    "\t\tnum_agents = len(alternations[0])\n",
    "\t\t# Create bar object\n",
    "\t\tbar = Bar(\n",
    "\t\t\tnum_agents=num_agents,\n",
    "\t\t\tthreshold=0.5\n",
    "\t\t)\n",
    "\t\tbar.history = alternations * (num_rounds // len(alternations)) + alternations[:num_rounds % len(alternations)]\n",
    "\t\tattendance_file_name = None #'alternations.png'\n",
    "\t\tbar.render(\n",
    "\t\t\tax=axes[i],\n",
    "\t\t\tfile=attendance_file_name,\n",
    "\t\t\tnum_rounds=len(bar.history)\n",
    "\t\t)\n",
    "#\t\taxes[i].imshow(plt.imread(attendance_file_name))\n",
    "\t\tif list_of_titles is not None:\n",
    "\t\t\taxes[i].set_title(list_of_titles[i])\n",
    "\t\taxes[i].axis('off')\n",
    "\tfig.tight_layout()\n",
    "\tfig.savefig(PATHS['figures_for_paper'] / 'Figure1.png', dpi=300)\n",
    "\tfig.show()"
   ]
  },
  {
   "cell_type": "code",
   "execution_count": 7,
   "id": "ba554240",
   "metadata": {},
   "outputs": [
    {
     "name": "stderr",
     "output_type": "stream",
     "text": [
      "/var/folders/2l/9hd8041n255250thyc7mhkq80000gn/T/ipykernel_52363/2874377772.py:24: UserWarning: FigureCanvasAgg is non-interactive, and thus cannot be shown\n",
      "  fig.show()\n"
     ]
    },
    {
     "data": {
      "image/png": "[encoded data removed]",
      "text/plain": [
       "<Figure size 640x480 with 3 Axes>"
      ]
     },
     "metadata": {},
     "output_type": "display_data"
    }
   ],
   "source": [
    "num_rounds = 15\n",
    "list_of_alternations = [\n",
    "\t# [np.random.randint(0, 2, 3).tolist() for _ in range(num_rounds)],\n",
    "\t[[1, 1, 0]],\n",
    "\t[[1, 1, 0], [1, 0, 1], [0, 1, 1]],\n",
    "\t[[1, 1, 0], [1, 0, 1]],\n",
    "]\n",
    "plot_stability(\n",
    "    list_of_alternations=list_of_alternations, \n",
    "    list_of_titles = ['Segmentation', 'Alternation', 'Mixed'],\n",
    "    num_rounds=num_rounds\n",
    ")"
   ]
  },
  {
   "cell_type": "code",
   "execution_count": null,
   "id": "b98e32bd",
   "metadata": {},
   "outputs": [],
   "source": []
  }
 ],
 "metadata": {
  "kernelspec": {
   "display_name": "Python 3 (ipykernel)",
   "language": "python",
   "name": "python3"
  }
 },
 "nbformat": 4,
 "nbformat_minor": 5
}
