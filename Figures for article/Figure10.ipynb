{
 "cells": [
  {
   "cell_type": "markdown",
   "id": "b05a74fc",
   "metadata": {},
   "source": [
    "# Figure 10"
   ]
  },
  {
   "cell_type": "code",
   "execution_count": 141,
   "id": "643dd99b",
   "metadata": {},
   "outputs": [],
   "source": [
    "import numpy as np\n",
    "import pandas as pd\n",
    "import seaborn as sns\n",
    "import matplotlib.pyplot as plt\n",
    "\n",
    "from pathlib import Path\n",
    "\n",
    "import sys\n",
    "\n",
    "sys.path.append('../src')\n",
    "\n",
    "from Config.config import PATHS\n",
    "\n",
    "import warnings\n",
    "warnings.filterwarnings(\"ignore\")"
   ]
  },
  {
   "cell_type": "code",
   "execution_count": 130,
   "id": "c73b048c",
   "metadata": {},
   "outputs": [],
   "source": [
    "from Utils.interaction import Performer\n",
    "from Utils.utils import GetMeasurements\n",
    "from Utils.indices import AlternationIndex\n",
    "from Classes.cognitive_model_agents import FocalRegionAgent"
   ]
  },
  {
   "cell_type": "code",
   "execution_count": 178,
   "id": "0d1477fa",
   "metadata": {},
   "outputs": [],
   "source": [
    "fixed_parameters = {\n",
    "\t\"num_agents\": 2,\n",
    "\t\"threshold\": 0.5,\n",
    "}\n",
    "free_parameters = {\n",
    "    'inverse_temperature': 6, \n",
    "    'len_history': 2, \n",
    "    'c': 0.7, \n",
    "}\n",
    "simulation_parameters = {\n",
    "\t'num_rounds': 50,\n",
    "    'num_episodes': 50,\n",
    "\t'verbose': False\n",
    "}"
   ]
  },
  {
   "cell_type": "code",
   "execution_count": 179,
   "id": "52a87d51",
   "metadata": {},
   "outputs": [
    {
     "data": {
      "application/vnd.jupyter.widget-view+json": {
       "model_id": "ce4aebd6a78642ffb1c9c020ef677359",
       "version_major": 2,
       "version_minor": 0
      },
      "text/plain": [
       "  0%|          | 0/50 [00:00<?, ?it/s]"
      ]
     },
     "metadata": {},
     "output_type": "display_data"
    },
    {
     "data": {
      "application/vnd.jupyter.widget-view+json": {
       "model_id": "d53427e1e6714509a2c47aa57babca9e",
       "version_major": 2,
       "version_minor": 0
      },
      "text/plain": [
       "  0%|          | 0/50 [00:00<?, ?it/s]"
      ]
     },
     "metadata": {},
     "output_type": "display_data"
    },
    {
     "data": {
      "application/vnd.jupyter.widget-view+json": {
       "model_id": "0b9f9219ef4e4187a35286c1779c9de8",
       "version_major": 2,
       "version_minor": 0
      },
      "text/plain": [
       "  0%|          | 0/50 [00:00<?, ?it/s]"
      ]
     },
     "metadata": {},
     "output_type": "display_data"
    },
    {
     "data": {
      "application/vnd.jupyter.widget-view+json": {
       "model_id": "90740ea330c443debc1df4e10d1c9d97",
       "version_major": 2,
       "version_minor": 0
      },
      "text/plain": [
       "  0%|          | 0/50 [00:00<?, ?it/s]"
      ]
     },
     "metadata": {},
     "output_type": "display_data"
    },
    {
     "data": {
      "application/vnd.jupyter.widget-view+json": {
       "model_id": "9efd169ffd534bf99de29a18262751a2",
       "version_major": 2,
       "version_minor": 0
      },
      "text/plain": [
       "  0%|          | 0/50 [00:00<?, ?it/s]"
      ]
     },
     "metadata": {},
     "output_type": "display_data"
    },
    {
     "data": {
      "application/vnd.jupyter.widget-view+json": {
       "model_id": "2a380a2df2fa44dfb4e2b4185393c8a2",
       "version_major": 2,
       "version_minor": 0
      },
      "text/plain": [
       "  0%|          | 0/50 [00:00<?, ?it/s]"
      ]
     },
     "metadata": {},
     "output_type": "display_data"
    },
    {
     "data": {
      "application/vnd.jupyter.widget-view+json": {
       "model_id": "58b3017d4d0444f8a820d66240ff0013",
       "version_major": 2,
       "version_minor": 0
      },
      "text/plain": [
       "  0%|          | 0/50 [00:00<?, ?it/s]"
      ]
     },
     "metadata": {},
     "output_type": "display_data"
    },
    {
     "data": {
      "application/vnd.jupyter.widget-view+json": {
       "model_id": "abadb3010a874629ab625e61c703d57b",
       "version_major": 2,
       "version_minor": 0
      },
      "text/plain": [
       "  0%|          | 0/50 [00:00<?, ?it/s]"
      ]
     },
     "metadata": {},
     "output_type": "display_data"
    },
    {
     "data": {
      "application/vnd.jupyter.widget-view+json": {
       "model_id": "e99bf3b56acb4f00a2d20b1d8291ab01",
       "version_major": 2,
       "version_minor": 0
      },
      "text/plain": [
       "  0%|          | 0/50 [00:00<?, ?it/s]"
      ]
     },
     "metadata": {},
     "output_type": "display_data"
    },
    {
     "data": {
      "application/vnd.jupyter.widget-view+json": {
       "model_id": "f5dc39000e3047cdb5e6c756dbf146cb",
       "version_major": 2,
       "version_minor": 0
      },
      "text/plain": [
       "  0%|          | 0/50 [00:00<?, ?it/s]"
      ]
     },
     "metadata": {},
     "output_type": "display_data"
    },
    {
     "data": {
      "application/vnd.jupyter.widget-view+json": {
       "model_id": "b4dc7d07eecb4003bab4a508e42a670e",
       "version_major": 2,
       "version_minor": 0
      },
      "text/plain": [
       "  0%|          | 0/50 [00:00<?, ?it/s]"
      ]
     },
     "metadata": {},
     "output_type": "display_data"
    },
    {
     "data": {
      "application/vnd.jupyter.widget-view+json": {
       "model_id": "428a7ea06fa64ed0984372918a2e604a",
       "version_major": 2,
       "version_minor": 0
      },
      "text/plain": [
       "  0%|          | 0/50 [00:00<?, ?it/s]"
      ]
     },
     "metadata": {},
     "output_type": "display_data"
    }
   ],
   "source": [
    "df_list = []\n",
    "\n",
    "for N in [2, 3]:\n",
    "    for len_history in [1, 2]:\n",
    "        for c in [0.5, 0.7, 0.9]:\n",
    "            free_parameters['c'] = c\n",
    "            if N == 3:\n",
    "                free_parameters['len_history'] = len_history + 1\n",
    "            else:\n",
    "                free_parameters['len_history'] = len_history                \n",
    "            fixed_parameters['num_agents'] = N\n",
    "            raw_df = Performer.sim(\n",
    "                agent_class=FocalRegionAgent,\n",
    "                fixed_parameters=fixed_parameters,\n",
    "                free_parameters=free_parameters,\n",
    "                simulation_parameters=simulation_parameters\n",
    "            )\n",
    "            raw_df['threshold'] = fixed_parameters['threshold']\n",
    "            raw_df['num_agents'] = fixed_parameters['num_agents']\n",
    "            raw_df['len_history'] = free_parameters['len_history']\n",
    "            raw_df['c'] = free_parameters['c']\n",
    "            raw_df['model'] = f\"c={c}; len_history={free_parameters['len_history']}; num_players={N}\"\n",
    "            df_list.append(raw_df)\n",
    "\n",
    "raw_df = pd.concat(df_list, ignore_index=True)\n"
   ]
  },
  {
   "cell_type": "code",
   "execution_count": 192,
   "id": "ec416d7e",
   "metadata": {},
   "outputs": [
    {
     "data": {
      "text/plain": [
       "Text(0.5, 0.98, 'Focal Regions as Attractors')"
      ]
     },
     "execution_count": 192,
     "metadata": {},
     "output_type": "execute_result"
    },
    {
     "data": {
      "image/png": "[encoded data removed]",
      "text/plain": [
       "<Figure size 700x300 with 2 Axes>"
      ]
     },
     "metadata": {},
     "output_type": "display_data"
    }
   ],
   "source": [
    "fig, axes = plt.subplots(\n",
    "    1, 2,\n",
    "    figsize=(2 * 3.5, 3),\n",
    "    tight_layout=True,\n",
    "    sharex=True, sharey=True    \n",
    ")\n",
    "\n",
    "sns.lineplot(\n",
    "    x='round', y='score', hue='len_history',\n",
    "    data=raw_df[raw_df['num_agents'] == 2], \n",
    "    ax=axes[0]\n",
    ")\n",
    "axes[0].set_title('N=2')\n",
    "axes[0].axhline(y=0.5, color='red', linestyle='--', linewidth=1)\n",
    "\n",
    "sns.lineplot(\n",
    "    x='round', y='score', hue='len_history',\n",
    "    data=raw_df[raw_df['num_agents'] == 3], \n",
    "    ax=axes[1]\n",
    ")\n",
    "axes[1].set_title('N=3')\n",
    "axes[1].axhline(y=0.33, color='red', linestyle='--', linewidth=1)\n",
    "\n",
    "for ax in axes:\n",
    "    ax.set_xlabel('Round')\n",
    "    ax.set_ylabel('Av. Score')\n",
    "    ax.legend(title='')\n",
    "    ax.grid()\n",
    "    ax.legend(title='History length')\n",
    "\n",
    "fig.suptitle('Focal Regions as Attractors')\n"
   ]
  },
  {
   "cell_type": "code",
   "execution_count": 194,
   "id": "7d1bbae8",
   "metadata": {},
   "outputs": [],
   "source": [
    "fig.savefig(PATHS['figures_for_paper'] / 'Figure10.png', dpi=300, bbox_inches='tight')"
   ]
  },
  {
   "cell_type": "code",
   "execution_count": 193,
   "id": "8d1ca06b",
   "metadata": {},
   "outputs": [
    {
     "data": {
      "text/html": [
       "<div>\n",
       "<style scoped>\n",
       "    .dataframe tbody tr th:only-of-type {\n",
       "        vertical-align: middle;\n",
       "    }\n",
       "\n",
       "    .dataframe tbody tr th {\n",
       "        vertical-align: top;\n",
       "    }\n",
       "\n",
       "    .dataframe thead tr th {\n",
       "        text-align: left;\n",
       "    }\n",
       "\n",
       "    .dataframe thead tr:last-of-type th {\n",
       "        text-align: right;\n",
       "    }\n",
       "</style>\n",
       "<table border=\"1\" class=\"dataframe\">\n",
       "  <thead>\n",
       "    <tr>\n",
       "      <th></th>\n",
       "      <th colspan=\"4\" halign=\"left\">alternation_percentage</th>\n",
       "    </tr>\n",
       "    <tr>\n",
       "      <th>num_players</th>\n",
       "      <th colspan=\"2\" halign=\"left\">2</th>\n",
       "      <th colspan=\"2\" halign=\"left\">3</th>\n",
       "    </tr>\n",
       "    <tr>\n",
       "      <th>len_history</th>\n",
       "      <th>1</th>\n",
       "      <th>2</th>\n",
       "      <th>2</th>\n",
       "      <th>3</th>\n",
       "    </tr>\n",
       "    <tr>\n",
       "      <th>c</th>\n",
       "      <th></th>\n",
       "      <th></th>\n",
       "      <th></th>\n",
       "      <th></th>\n",
       "    </tr>\n",
       "  </thead>\n",
       "  <tbody>\n",
       "    <tr>\n",
       "      <th>0.5</th>\n",
       "      <td>100.0</td>\n",
       "      <td>72.0</td>\n",
       "      <td>0.0</td>\n",
       "      <td>16.0</td>\n",
       "    </tr>\n",
       "    <tr>\n",
       "      <th>0.7</th>\n",
       "      <td>100.0</td>\n",
       "      <td>84.0</td>\n",
       "      <td>10.0</td>\n",
       "      <td>82.0</td>\n",
       "    </tr>\n",
       "    <tr>\n",
       "      <th>0.9</th>\n",
       "      <td>100.0</td>\n",
       "      <td>78.0</td>\n",
       "      <td>64.0</td>\n",
       "      <td>98.0</td>\n",
       "    </tr>\n",
       "  </tbody>\n",
       "</table>\n",
       "</div>"
      ],
      "text/plain": [
       "            alternation_percentage                  \n",
       "num_players                      2           3      \n",
       "len_history                      1     2     2     3\n",
       "c                                                   \n",
       "0.5                          100.0  72.0   0.0  16.0\n",
       "0.7                          100.0  84.0  10.0  82.0\n",
       "0.9                          100.0  78.0  64.0  98.0"
      ]
     },
     "execution_count": 193,
     "metadata": {},
     "output_type": "execute_result"
    }
   ],
   "source": [
    "gm = GetMeasurements(raw_df, ['bounded_efficiency', 'inequality'])\n",
    "idx = AlternationIndex.from_file()\n",
    "df = gm.get_measurements()\n",
    "df = idx.alt_precentage(df, columns=['model']).reset_index()\n",
    "df['c'] = df['model'].apply(lambda x: x.split(';')[0].split('=')[1])\n",
    "df['len_history'] = df['model'].apply(lambda x: x.split(';')[1].split('=')[1])\n",
    "df['len_history'] = df['model'].apply(lambda x: x.split(';')[1].split('=')[1])\n",
    "df['num_players'] = df['model'].apply(lambda x: x.split(';')[2].split('=')[1])\n",
    "df['alternation_percentage'] = df['alternation_percentage'] * 100\n",
    "alt_table = pd.pivot_table(\n",
    "    data=df,\n",
    "    index=['c'],\n",
    "    values=['alternation_percentage'],\n",
    "    columns=['num_players', 'len_history']\n",
    ").fillna('-')\n",
    "alt_table"
   ]
  },
  {
   "cell_type": "code",
   "execution_count": 196,
   "id": "1ba0ea7f",
   "metadata": {},
   "outputs": [
    {
     "name": "stdout",
     "output_type": "stream",
     "text": [
      "\\begin{tabular}{lrrrr}\n",
      "\\toprule\n",
      " & \\multicolumn{4}{r}{alternation_percentage} \\\\\n",
      "num_players & \\multicolumn{2}{r}{2} & \\multicolumn{2}{r}{3} \\\\\n",
      "len_history & 1 & 2 & 2 & 3 \\\\\n",
      "c &  &  &  &  \\\\\n",
      "\\midrule\n",
      "0.5 & 100.000000 & 72.000000 & 0.000000 & 16.000000 \\\\\n",
      "0.7 & 100.000000 & 84.000000 & 10.000000 & 82.000000 \\\\\n",
      "0.9 & 100.000000 & 78.000000 & 64.000000 & 98.000000 \\\\\n",
      "\\bottomrule\n",
      "\\end{tabular}\n",
      "\n"
     ]
    }
   ],
   "source": [
    "print(alt_table.to_latex())"
   ]
  },
  {
   "cell_type": "markdown",
   "id": "96a83970",
   "metadata": {},
   "source": [
    "---"
   ]
  }
 ],
 "metadata": {
  "kernelspec": {
   "display_name": "Python 3 (ipykernel)",
   "language": "python",
   "name": "python3"
  },
  "language_info": {
   "codemirror_mode": {
    "name": "ipython",
    "version": 3
   },
   "file_extension": ".py",
   "mimetype": "text/x-python",
   "name": "python",
   "nbconvert_exporter": "python",
   "pygments_lexer": "ipython3",
   "version": "3.13.3"
  }
 },
 "nbformat": 4,
 "nbformat_minor": 5
}
