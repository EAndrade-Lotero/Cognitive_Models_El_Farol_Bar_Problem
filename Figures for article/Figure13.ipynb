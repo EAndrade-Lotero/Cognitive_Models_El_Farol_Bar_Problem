{
 "cells": [
  {
   "cell_type": "markdown",
   "id": "79509d71",
   "metadata": {},
   "source": [
    "# Figure 13\n",
    "\n",
    "FALTA ESTO!!!!"
   ]
  },
  {
   "cell_type": "code",
   "execution_count": 5,
   "id": "474a8c04",
   "metadata": {},
   "outputs": [],
   "source": [
    "import sys\n",
    "sys.path.append(\"../src\")\n",
    "\n",
    "import warnings\n",
    "warnings.filterwarnings(\"ignore\")\n",
    "\n",
    "import PIL\n",
    "import numpy as np\n",
    "import pandas as pd\n",
    "import seaborn as sns\n",
    "from io import BytesIO\n",
    "import scipy.stats as stats\n",
    "import matplotlib.pyplot as plt\n",
    "import matplotlib.patches as patches\n",
    "\n",
    "from PIL import Image\n",
    "from pathlib import Path\n",
    "from statsmodels.formula.api import ols\n",
    "from pandas.api.types import CategoricalDtype\n",
    "\n",
    "from Config.config import PATHS\n",
    "from Utils.indices import AlternationIndex\n",
    "from Utils.utils import GetMeasurements, Grid\n",
    "from Utils.plot_utils import PlotsAndMeasures, BarRenderer"
   ]
  },
  {
   "cell_type": "code",
   "execution_count": 6,
   "id": "cd8423ce",
   "metadata": {},
   "outputs": [
    {
     "name": "stdout",
     "output_type": "stream",
     "text": [
      "Loading data from /Users/edgar/Documents/GitHub/Cognitive_Models_El_Farol_Bar_Problem/data/human/multi-player.csv...\n"
     ]
    },
    {
     "data": {
      "text/html": [
       "<div>\n",
       "<style scoped>\n",
       "    .dataframe tbody tr th:only-of-type {\n",
       "        vertical-align: middle;\n",
       "    }\n",
       "\n",
       "    .dataframe tbody tr th {\n",
       "        vertical-align: top;\n",
       "    }\n",
       "\n",
       "    .dataframe thead th {\n",
       "        text-align: right;\n",
       "    }\n",
       "</style>\n",
       "<table border=\"1\" class=\"dataframe\">\n",
       "  <thead>\n",
       "    <tr style=\"text-align: right;\">\n",
       "      <th></th>\n",
       "      <th>treatment</th>\n",
       "      <th>threshold</th>\n",
       "      <th>round</th>\n",
       "      <th>player</th>\n",
       "      <th>decision</th>\n",
       "      <th>score</th>\n",
       "      <th>num_players</th>\n",
       "      <th>group</th>\n",
       "      <th>choice</th>\n",
       "      <th>source</th>\n",
       "    </tr>\n",
       "  </thead>\n",
       "  <tbody>\n",
       "    <tr>\n",
       "      <th>7290</th>\n",
       "      <td>upwards</td>\n",
       "      <td>0.333333</td>\n",
       "      <td>1.0</td>\n",
       "      <td>406360458182849</td>\n",
       "      <td>1.0</td>\n",
       "      <td>-1.0</td>\n",
       "      <td>3</td>\n",
       "      <td>17</td>\n",
       "      <td>1.0</td>\n",
       "      <td>humans</td>\n",
       "    </tr>\n",
       "    <tr>\n",
       "      <th>7291</th>\n",
       "      <td>upwards</td>\n",
       "      <td>0.333333</td>\n",
       "      <td>1.0</td>\n",
       "      <td>679877000681823</td>\n",
       "      <td>1.0</td>\n",
       "      <td>-1.0</td>\n",
       "      <td>3</td>\n",
       "      <td>17</td>\n",
       "      <td>1.0</td>\n",
       "      <td>humans</td>\n",
       "    </tr>\n",
       "  </tbody>\n",
       "</table>\n",
       "</div>"
      ],
      "text/plain": [
       "     treatment  threshold  round           player  decision  score  \\\n",
       "7290   upwards   0.333333    1.0  406360458182849       1.0   -1.0   \n",
       "7291   upwards   0.333333    1.0  679877000681823       1.0   -1.0   \n",
       "\n",
       "      num_players  group  choice  source  \n",
       "7290            3     17     1.0  humans  \n",
       "7291            3     17     1.0  humans  "
      ]
     },
     "execution_count": 6,
     "metadata": {},
     "output_type": "execute_result"
    }
   ],
   "source": [
    "file_name = 'multi-player.csv'\n",
    "file = PATHS['human_data'] / Path(file_name)\n",
    "print(f'Loading data from {file}...')\n",
    "data = pd.read_csv(file)\n",
    "data['source'] = 'humans'\n",
    "data.drop(columns=['approx_threshold', 'room', 'date', 'timeup', 'time', 'Unnamed: 0'], inplace=True)\n",
    "data.sort_values(by=['num_players', 'threshold'], inplace=True)\n",
    "data = data[data['threshold'] != 1]\n",
    "data['num_players'] = data['num_players'].astype(int)\n",
    "data.head(2)"
   ]
  },
  {
   "cell_type": "code",
   "execution_count": 7,
   "id": "7ff862cb",
   "metadata": {},
   "outputs": [
    {
     "data": {
      "text/html": [
       "<div>\n",
       "<style scoped>\n",
       "    .dataframe tbody tr th:only-of-type {\n",
       "        vertical-align: middle;\n",
       "    }\n",
       "\n",
       "    .dataframe tbody tr th {\n",
       "        vertical-align: top;\n",
       "    }\n",
       "\n",
       "    .dataframe thead th {\n",
       "        text-align: right;\n",
       "    }\n",
       "</style>\n",
       "<table border=\"1\" class=\"dataframe\">\n",
       "  <thead>\n",
       "    <tr style=\"text-align: right;\">\n",
       "      <th></th>\n",
       "      <th>treatment</th>\n",
       "      <th>threshold</th>\n",
       "      <th>round</th>\n",
       "      <th>player</th>\n",
       "      <th>decision</th>\n",
       "      <th>score</th>\n",
       "      <th>num_players</th>\n",
       "      <th>group</th>\n",
       "      <th>choice</th>\n",
       "      <th>source</th>\n",
       "      <th>session</th>\n",
       "    </tr>\n",
       "  </thead>\n",
       "  <tbody>\n",
       "    <tr>\n",
       "      <th>8910</th>\n",
       "      <td>upwards</td>\n",
       "      <td>0.25</td>\n",
       "      <td>0.0</td>\n",
       "      <td>841658927890285</td>\n",
       "      <td>0.0</td>\n",
       "      <td>0.0</td>\n",
       "      <td>4</td>\n",
       "      <td>5</td>\n",
       "      <td>0.0</td>\n",
       "      <td>humans</td>\n",
       "      <td>1</td>\n",
       "    </tr>\n",
       "    <tr>\n",
       "      <th>8911</th>\n",
       "      <td>upwards</td>\n",
       "      <td>0.25</td>\n",
       "      <td>0.0</td>\n",
       "      <td>373455036275630</td>\n",
       "      <td>1.0</td>\n",
       "      <td>-1.0</td>\n",
       "      <td>4</td>\n",
       "      <td>5</td>\n",
       "      <td>1.0</td>\n",
       "      <td>humans</td>\n",
       "      <td>1</td>\n",
       "    </tr>\n",
       "  </tbody>\n",
       "</table>\n",
       "</div>"
      ],
      "text/plain": [
       "     treatment  threshold  round           player  decision  score  \\\n",
       "8910   upwards       0.25    0.0  841658927890285       0.0    0.0   \n",
       "8911   upwards       0.25    0.0  373455036275630       1.0   -1.0   \n",
       "\n",
       "      num_players  group  choice  source  session  \n",
       "8910            4      5     0.0  humans        1  \n",
       "8911            4      5     1.0  humans        1  "
      ]
     },
     "execution_count": 7,
     "metadata": {},
     "output_type": "execute_result"
    }
   ],
   "source": [
    "from collections import defaultdict\n",
    "\n",
    "group_counter = {grp:0 for grp in data['group'].unique()}\n",
    "\n",
    "dict_sessions_downwards = defaultdict()\n",
    "dict_sessions_upwards = defaultdict()\n",
    "data.sort_values(by=['group', 'treatment', 'threshold'], inplace=True)\n",
    "for (group, treatment, threshold), grp in data.groupby(['group', 'treatment', 'threshold']):\n",
    "    if treatment == 'downwards':\n",
    "        group_counter[group] += 1\n",
    "        count = 4 - group_counter[group]\n",
    "        dict_sessions_downwards[(group, threshold)] = count\n",
    "    elif treatment == 'upwards':\n",
    "        group_counter[group] += 1\n",
    "        count = group_counter[group]\n",
    "        dict_sessions_upwards[(group, threshold)] = count\n",
    "\n",
    "dict_sessions = dict_sessions_downwards.copy()\n",
    "dict_sessions.update(dict_sessions_upwards)\n",
    "\n",
    "data['session'] = data.apply(lambda row: dict_sessions[(row['group'], row['threshold'])], axis=1)\n",
    "data['round'] = data['round'].apply(lambda x: (x - 1) % 30)\n",
    "data.head(2)"
   ]
  },
  {
   "cell_type": "markdown",
   "id": "318348db",
   "metadata": {},
   "source": [
    "### Efficiency and alternation index"
   ]
  },
  {
   "cell_type": "code",
   "execution_count": 8,
   "id": "49931c7f",
   "metadata": {},
   "outputs": [
    {
     "ename": "AssertionError",
     "evalue": "round_=15.0\n      treatment  threshold  round           player  decision  score  \\\n8280  downwards   0.333333   15.0  670385314115779       1.0    1.0   \n8281  downwards   0.333333   15.0  172850836295148       0.0    0.0   \n8282  downwards   0.333333   15.0  277565140184927       0.0    0.0   \n8370  downwards   0.333333   15.0  670385314115779       0.0    0.0   \n8371  downwards   0.333333   15.0  172850836295148       0.0    0.0   \n8372  downwards   0.333333   15.0  277565140184927       1.0    1.0   \n\n      num_players  group  choice  source  session  \n8280            3     30     1.0  humans        3  \n8281            3     30     0.0  humans        3  \n8282            3     30     0.0  humans        3  \n8370            3     30     0.0  humans        3  \n8371            3     30     0.0  humans        3  \n8372            3     30     1.0  humans        3  ",
     "output_type": "error",
     "traceback": [
      "\u001b[31m---------------------------------------------------------------------------\u001b[39m",
      "\u001b[31mAssertionError\u001b[39m                            Traceback (most recent call last)",
      "\u001b[36mCell\u001b[39m\u001b[36m \u001b[39m\u001b[32mIn[8]\u001b[39m\u001b[32m, line 7\u001b[39m\n\u001b[32m      1\u001b[39m \u001b[38;5;66;03m# Calculate alternation index per group\u001b[39;00m\n\u001b[32m      2\u001b[39m gm = GetMeasurements(\n\u001b[32m      3\u001b[39m     data=data,\n\u001b[32m      4\u001b[39m     measures=[\u001b[33m'\u001b[39m\u001b[33mefficiency\u001b[39m\u001b[33m'\u001b[39m, \u001b[33m'\u001b[39m\u001b[33mbounded_efficiency\u001b[39m\u001b[33m'\u001b[39m, \u001b[33m'\u001b[39m\u001b[33mentropy\u001b[39m\u001b[33m'\u001b[39m, \u001b[33m'\u001b[39m\u001b[33mconditional_entropy\u001b[39m\u001b[33m'\u001b[39m, \u001b[33m'\u001b[39m\u001b[33minequality\u001b[39m\u001b[33m'\u001b[39m],\n\u001b[32m      5\u001b[39m     T=\u001b[32m30\u001b[39m\n\u001b[32m      6\u001b[39m )\n\u001b[32m----> \u001b[39m\u001b[32m7\u001b[39m df = \u001b[43mgm\u001b[49m\u001b[43m.\u001b[49m\u001b[43mget_measurements\u001b[49m\u001b[43m(\u001b[49m\u001b[43m)\u001b[49m\n\u001b[32m      9\u001b[39m alt_index = AlternationIndex.from_file(priority=\u001b[33m'\u001b[39m\u001b[33msklearn\u001b[39m\u001b[33m'\u001b[39m)\n\u001b[32m     10\u001b[39m df[\u001b[33m'\u001b[39m\u001b[33malternation_index\u001b[39m\u001b[33m'\u001b[39m] = alt_index(df)\n",
      "\u001b[36mFile \u001b[39m\u001b[32m~/Documents/GitHub/Cognitive_Models_El_Farol_Bar_Problem/Notebooks/../src/Utils/utils.py:445\u001b[39m, in \u001b[36mGetMeasurements.get_measurements\u001b[39m\u001b[34m(self)\u001b[39m\n\u001b[32m    443\u001b[39m     \u001b[38;5;28;01mreturn\u001b[39;00m \u001b[38;5;28mself\u001b[39m.get_measurements_per_round()\n\u001b[32m    444\u001b[39m \u001b[38;5;28;01melse\u001b[39;00m:\n\u001b[32m--> \u001b[39m\u001b[32m445\u001b[39m     \u001b[38;5;28;01mreturn\u001b[39;00m \u001b[38;5;28;43mself\u001b[39;49m\u001b[43m.\u001b[49m\u001b[43mget_measurements_all\u001b[49m\u001b[43m(\u001b[49m\u001b[43m)\u001b[49m\n",
      "\u001b[36mFile \u001b[39m\u001b[32m~/Documents/GitHub/Cognitive_Models_El_Farol_Bar_Problem/Notebooks/../src/Utils/utils.py:486\u001b[39m, in \u001b[36mGetMeasurements.get_measurements_all\u001b[39m\u001b[34m(self)\u001b[39m\n\u001b[32m    484\u001b[39m     init = \u001b[38;5;28;01mFalse\u001b[39;00m\n\u001b[32m    485\u001b[39m \u001b[38;5;28;01melse\u001b[39;00m:\n\u001b[32m--> \u001b[39m\u001b[32m486\u001b[39m     aux = \u001b[38;5;28;43mself\u001b[39;49m\u001b[43m.\u001b[49m\u001b[43mdata\u001b[49m\u001b[43m.\u001b[49m\u001b[43mgroupby\u001b[49m\u001b[43m(\u001b[49m\u001b[38;5;28;43mself\u001b[39;49m\u001b[43m.\u001b[49m\u001b[43mcolumns\u001b[49m\u001b[43m)\u001b[49m\u001b[43m.\u001b[49m\u001b[43mapply\u001b[49m\u001b[43m(\u001b[49m\u001b[43mfun\u001b[49m\u001b[43m)\u001b[49m.reset_index()\n\u001b[32m    487\u001b[39m     aux.rename(columns={\u001b[32m0\u001b[39m:measure}, inplace=\u001b[38;5;28;01mTrue\u001b[39;00m)\n\u001b[32m    488\u001b[39m     \u001b[38;5;28;01mif\u001b[39;00m \u001b[38;5;28mself\u001b[39m.normalize:\n",
      "\u001b[36mFile \u001b[39m\u001b[32m~/virtualenvs/venv-3.13/lib/python3.13/site-packages/pandas/core/groupby/groupby.py:1824\u001b[39m, in \u001b[36mGroupBy.apply\u001b[39m\u001b[34m(self, func, include_groups, *args, **kwargs)\u001b[39m\n\u001b[32m   1822\u001b[39m \u001b[38;5;28;01mwith\u001b[39;00m option_context(\u001b[33m\"\u001b[39m\u001b[33mmode.chained_assignment\u001b[39m\u001b[33m\"\u001b[39m, \u001b[38;5;28;01mNone\u001b[39;00m):\n\u001b[32m   1823\u001b[39m     \u001b[38;5;28;01mtry\u001b[39;00m:\n\u001b[32m-> \u001b[39m\u001b[32m1824\u001b[39m         result = \u001b[38;5;28;43mself\u001b[39;49m\u001b[43m.\u001b[49m\u001b[43m_python_apply_general\u001b[49m\u001b[43m(\u001b[49m\u001b[43mf\u001b[49m\u001b[43m,\u001b[49m\u001b[43m \u001b[49m\u001b[38;5;28;43mself\u001b[39;49m\u001b[43m.\u001b[49m\u001b[43m_selected_obj\u001b[49m\u001b[43m)\u001b[49m\n\u001b[32m   1825\u001b[39m         \u001b[38;5;28;01mif\u001b[39;00m (\n\u001b[32m   1826\u001b[39m             \u001b[38;5;129;01mnot\u001b[39;00m \u001b[38;5;28misinstance\u001b[39m(\u001b[38;5;28mself\u001b[39m.obj, Series)\n\u001b[32m   1827\u001b[39m             \u001b[38;5;129;01mand\u001b[39;00m \u001b[38;5;28mself\u001b[39m._selection \u001b[38;5;129;01mis\u001b[39;00m \u001b[38;5;28;01mNone\u001b[39;00m\n\u001b[32m   1828\u001b[39m             \u001b[38;5;129;01mand\u001b[39;00m \u001b[38;5;28mself\u001b[39m._selected_obj.shape != \u001b[38;5;28mself\u001b[39m._obj_with_exclusions.shape\n\u001b[32m   1829\u001b[39m         ):\n\u001b[32m   1830\u001b[39m             warnings.warn(\n\u001b[32m   1831\u001b[39m                 message=_apply_groupings_depr.format(\n\u001b[32m   1832\u001b[39m                     \u001b[38;5;28mtype\u001b[39m(\u001b[38;5;28mself\u001b[39m).\u001b[34m__name__\u001b[39m, \u001b[33m\"\u001b[39m\u001b[33mapply\u001b[39m\u001b[33m\"\u001b[39m\n\u001b[32m   (...)\u001b[39m\u001b[32m   1835\u001b[39m                 stacklevel=find_stack_level(),\n\u001b[32m   1836\u001b[39m             )\n",
      "\u001b[36mFile \u001b[39m\u001b[32m~/virtualenvs/venv-3.13/lib/python3.13/site-packages/pandas/core/groupby/groupby.py:1885\u001b[39m, in \u001b[36mGroupBy._python_apply_general\u001b[39m\u001b[34m(self, f, data, not_indexed_same, is_transform, is_agg)\u001b[39m\n\u001b[32m   1850\u001b[39m \u001b[38;5;129m@final\u001b[39m\n\u001b[32m   1851\u001b[39m \u001b[38;5;28;01mdef\u001b[39;00m\u001b[38;5;250m \u001b[39m\u001b[34m_python_apply_general\u001b[39m(\n\u001b[32m   1852\u001b[39m     \u001b[38;5;28mself\u001b[39m,\n\u001b[32m   (...)\u001b[39m\u001b[32m   1857\u001b[39m     is_agg: \u001b[38;5;28mbool\u001b[39m = \u001b[38;5;28;01mFalse\u001b[39;00m,\n\u001b[32m   1858\u001b[39m ) -> NDFrameT:\n\u001b[32m   1859\u001b[39m \u001b[38;5;250m    \u001b[39m\u001b[33;03m\"\"\"\u001b[39;00m\n\u001b[32m   1860\u001b[39m \u001b[33;03m    Apply function f in python space\u001b[39;00m\n\u001b[32m   1861\u001b[39m \n\u001b[32m   (...)\u001b[39m\u001b[32m   1883\u001b[39m \u001b[33;03m        data after applying f\u001b[39;00m\n\u001b[32m   1884\u001b[39m \u001b[33;03m    \"\"\"\u001b[39;00m\n\u001b[32m-> \u001b[39m\u001b[32m1885\u001b[39m     values, mutated = \u001b[38;5;28;43mself\u001b[39;49m\u001b[43m.\u001b[49m\u001b[43m_grouper\u001b[49m\u001b[43m.\u001b[49m\u001b[43mapply_groupwise\u001b[49m\u001b[43m(\u001b[49m\u001b[43mf\u001b[49m\u001b[43m,\u001b[49m\u001b[43m \u001b[49m\u001b[43mdata\u001b[49m\u001b[43m,\u001b[49m\u001b[43m \u001b[49m\u001b[38;5;28;43mself\u001b[39;49m\u001b[43m.\u001b[49m\u001b[43maxis\u001b[49m\u001b[43m)\u001b[49m\n\u001b[32m   1886\u001b[39m     \u001b[38;5;28;01mif\u001b[39;00m not_indexed_same \u001b[38;5;129;01mis\u001b[39;00m \u001b[38;5;28;01mNone\u001b[39;00m:\n\u001b[32m   1887\u001b[39m         not_indexed_same = mutated\n",
      "\u001b[36mFile \u001b[39m\u001b[32m~/virtualenvs/venv-3.13/lib/python3.13/site-packages/pandas/core/groupby/ops.py:919\u001b[39m, in \u001b[36mBaseGrouper.apply_groupwise\u001b[39m\u001b[34m(self, f, data, axis)\u001b[39m\n\u001b[32m    917\u001b[39m \u001b[38;5;66;03m# group might be modified\u001b[39;00m\n\u001b[32m    918\u001b[39m group_axes = group.axes\n\u001b[32m--> \u001b[39m\u001b[32m919\u001b[39m res = \u001b[43mf\u001b[49m\u001b[43m(\u001b[49m\u001b[43mgroup\u001b[49m\u001b[43m)\u001b[49m\n\u001b[32m    920\u001b[39m \u001b[38;5;28;01mif\u001b[39;00m \u001b[38;5;129;01mnot\u001b[39;00m mutated \u001b[38;5;129;01mand\u001b[39;00m \u001b[38;5;129;01mnot\u001b[39;00m _is_indexed_like(res, group_axes, axis):\n\u001b[32m    921\u001b[39m     mutated = \u001b[38;5;28;01mTrue\u001b[39;00m\n",
      "\u001b[36mFile \u001b[39m\u001b[32m~/Documents/GitHub/Cognitive_Models_El_Farol_Bar_Problem/Notebooks/../src/Utils/utils.py:539\u001b[39m, in \u001b[36mGetMeasurements.entropy\u001b[39m\u001b[34m(df)\u001b[39m\n\u001b[32m    537\u001b[39m \u001b[38;5;28;01massert\u001b[39;00m(GetMeasurements.one_group_only(df))\n\u001b[32m    538\u001b[39m ge = ConditionalEntropy(df, T=np.inf)\n\u001b[32m--> \u001b[39m\u001b[32m539\u001b[39m \u001b[38;5;28;01mreturn\u001b[39;00m \u001b[43mge\u001b[49m\u001b[43m.\u001b[49m\u001b[43mget_group_entropy\u001b[49m\u001b[43m(\u001b[49m\u001b[43mdf\u001b[49m\u001b[43m)\u001b[49m\n",
      "\u001b[36mFile \u001b[39m\u001b[32m~/Documents/GitHub/Cognitive_Models_El_Farol_Bar_Problem/Notebooks/../src/Utils/utils.py:226\u001b[39m, in \u001b[36mConditionalEntropy.get_group_entropy\u001b[39m\u001b[34m(self, df)\u001b[39m\n\u001b[32m    222\u001b[39m \u001b[38;5;28;01mdef\u001b[39;00m\u001b[38;5;250m \u001b[39m\u001b[34mget_group_entropy\u001b[39m(\n\u001b[32m    223\u001b[39m             \u001b[38;5;28mself\u001b[39m,\n\u001b[32m    224\u001b[39m             df: pd.DataFrame\n\u001b[32m    225\u001b[39m         ) -> \u001b[38;5;28mfloat\u001b[39m:\n\u001b[32m--> \u001b[39m\u001b[32m226\u001b[39m     tm = \u001b[38;5;28;43mself\u001b[39;49m\u001b[43m.\u001b[49m\u001b[43mget_group_states\u001b[49m\u001b[43m(\u001b[49m\u001b[43mdf\u001b[49m\u001b[43m)\u001b[49m\n\u001b[32m    227\u001b[39m     ce = \u001b[38;5;28mself\u001b[39m.calculate_entropy(tm)\n\u001b[32m    228\u001b[39m     \u001b[38;5;28;01mreturn\u001b[39;00m ce\n",
      "\u001b[36mFile \u001b[39m\u001b[32m~/Documents/GitHub/Cognitive_Models_El_Farol_Bar_Problem/Notebooks/../src/Utils/utils.py:240\u001b[39m, in \u001b[36mConditionalEntropy.get_group_states\u001b[39m\u001b[34m(self, df)\u001b[39m\n\u001b[32m    238\u001b[39m \u001b[38;5;28;01mfor\u001b[39;00m round_, round_data \u001b[38;5;129;01min\u001b[39;00m df.groupby(\u001b[33m'\u001b[39m\u001b[33mround\u001b[39m\u001b[33m'\u001b[39m):\n\u001b[32m    239\u001b[39m     state = round_data[\u001b[38;5;28mself\u001b[39m.decision_column].values\n\u001b[32m--> \u001b[39m\u001b[32m240\u001b[39m     \u001b[38;5;28;01massert\u001b[39;00m(\u001b[38;5;28mlen\u001b[39m(state) == num_agents), \u001b[33mf\u001b[39m\u001b[33m'\u001b[39m\u001b[38;5;132;01m{\u001b[39;00mround_\u001b[38;5;132;01m=}\u001b[39;00m\u001b[38;5;130;01m\\n\u001b[39;00m\u001b[38;5;132;01m{\u001b[39;00mround_data\u001b[38;5;132;01m}\u001b[39;00m\u001b[33m'\u001b[39m\n\u001b[32m    241\u001b[39m     states.append(\u001b[38;5;28mtuple\u001b[39m(state))\n\u001b[32m    242\u001b[39m \u001b[38;5;66;03m# Create a proxy dictionary\u001b[39;00m\n",
      "\u001b[31mAssertionError\u001b[39m: round_=15.0\n      treatment  threshold  round           player  decision  score  \\\n8280  downwards   0.333333   15.0  670385314115779       1.0    1.0   \n8281  downwards   0.333333   15.0  172850836295148       0.0    0.0   \n8282  downwards   0.333333   15.0  277565140184927       0.0    0.0   \n8370  downwards   0.333333   15.0  670385314115779       0.0    0.0   \n8371  downwards   0.333333   15.0  172850836295148       0.0    0.0   \n8372  downwards   0.333333   15.0  277565140184927       1.0    1.0   \n\n      num_players  group  choice  source  session  \n8280            3     30     1.0  humans        3  \n8281            3     30     0.0  humans        3  \n8282            3     30     0.0  humans        3  \n8370            3     30     0.0  humans        3  \n8371            3     30     0.0  humans        3  \n8372            3     30     1.0  humans        3  "
     ]
    }
   ],
   "source": [
    "# Calculate alternation index per group\n",
    "gm = GetMeasurements(\n",
    "    data=data,\n",
    "    measures=['efficiency', 'bounded_efficiency', 'entropy', 'conditional_entropy', 'inequality'],\n",
    "    T=30\n",
    ")\n",
    "df = gm.get_measurements()\n",
    "\n",
    "alt_index = AlternationIndex.from_file(priority='sklearn')\n",
    "df['alternation_index'] = alt_index(df)\n",
    "\n",
    "df.head(2)"
   ]
  },
  {
   "cell_type": "markdown",
   "id": "1f9d17f7",
   "metadata": {},
   "source": [
    "### Best alternating groups in the upwards treatment"
   ]
  },
  {
   "cell_type": "code",
   "execution_count": null,
   "id": "e3b8f36d",
   "metadata": {},
   "outputs": [],
   "source": [
    "df[df['treatment'] == 'upwards'].sort_values(by=['alternation_index'], ascending=False).head(2)"
   ]
  },
  {
   "cell_type": "markdown",
   "id": "701791ca",
   "metadata": {},
   "source": [
    "### Best alternating groups in the downwards treatment"
   ]
  },
  {
   "cell_type": "code",
   "execution_count": null,
   "id": "8754a0db",
   "metadata": {},
   "outputs": [],
   "source": [
    "df[df['treatment'] == 'downwards'].sort_values(by=['alternation_index'], ascending=False).head(2)"
   ]
  },
  {
   "cell_type": "markdown",
   "id": "34afb616",
   "metadata": {},
   "source": [
    "### Playout examples"
   ]
  },
  {
   "cell_type": "code",
   "execution_count": null,
   "id": "221d6647",
   "metadata": {},
   "outputs": [],
   "source": [
    "#-------------------------------\n",
    "# Select groups\n",
    "#-------------------------------\n",
    "# groups = data['group'].unique().tolist()\n",
    "groups = [11, 30] # downwards\n",
    "#-------------------------------\n",
    "# Obtain number of bar playouts\n",
    "#-------------------------------\n",
    "dfA = data[data['group'].isin(groups)].sort_values(by=['group', 'threshold'], ascending=False)\n",
    "num_playouts = 0\n",
    "for key, grp in dfA.groupby(['group', 'threshold']):\n",
    "    num_playouts += 1\n",
    "#-------------------------------\n",
    "# Plot groups\n",
    "#-------------------------------\n",
    "grid = Grid(num_playouts, vertical=False)\n",
    "fig, axes = plt.subplots(\n",
    "    grid.rows, grid.cols, \n",
    "    figsize=(grid.cols*4, grid.rows*1.5),\n",
    "    tight_layout=True\n",
    ")\n",
    "\n",
    "counter = 0\n",
    "for group in groups:\n",
    "    grp = dfA[dfA['group'] == group]\n",
    "    num_pl = grp['num_players'].unique()[0]\n",
    "    treatment = grp['treatment'].unique()[0]\n",
    "    for threshold in grp['threshold'].unique():\n",
    "        grp_thres = grp[grp['threshold'] == threshold]\n",
    "        # print(f\"{grp_thres['num_players'].unique()[0]} players in group {group} with threshold {threshold}\")\n",
    "        # print(grid.index_to_pair(counter))\n",
    "        bar_renderer = BarRenderer(data=grp_thres)\n",
    "        bar_renderer.render(\n",
    "            ax=axes[grid.index_to_pair(counter)], \n",
    "            title=f\"Treat: {treatment} -- Grp. {group} -- N={grp_thres['num_players'].unique()[0]}  -- B={int(threshold * num_pl)}\",\n",
    "            # title=f\"Group ({i+1})\",\n",
    "            num_rounds=30\n",
    "        )\n",
    "        counter += 1\n",
    "\n",
    "for i in range(counter):\n",
    "    axes[grid.index_to_pair(counter)].set_axis_off()\n",
    "\n",
    "print(f\"Total playouts: {counter}\")\n",
    "\n",
    "# Convert figure to image array\n",
    "fig.suptitle(\"A\", fontweight=\"bold\")\n",
    "fig.canvas.draw()\n",
    "rgba_bytes = fig.canvas.buffer_rgba().tobytes()\n",
    "width, height = fig.canvas.get_width_height()\n",
    "pil_image = PIL.Image.frombytes(mode=\"RGBA\", size=[width, height], data=rgba_bytes)\n",
    "panel_A = np.array(pil_image)"
   ]
  },
  {
   "cell_type": "code",
   "execution_count": null,
   "id": "25fb92ab",
   "metadata": {},
   "outputs": [],
   "source": [
    "#-------------------------------\n",
    "# Select groups\n",
    "#-------------------------------\n",
    "# groups = data['group'].unique().tolist()\n",
    "groups = [33, 15] # upwards\n",
    "#-------------------------------\n",
    "# Obtain number of bar playouts\n",
    "#-------------------------------\n",
    "dfA = data[data['group'].isin(groups)].sort_values(by=['group', 'threshold'], ascending=True)\n",
    "num_playouts = 0\n",
    "for key, grp in dfA.groupby(['group', 'threshold']):\n",
    "    num_playouts += 1\n",
    "#-------------------------------\n",
    "# Plot groups\n",
    "#-------------------------------\n",
    "grid = Grid(num_playouts, vertical=False)\n",
    "fig, axes = plt.subplots(\n",
    "    grid.rows, grid.cols, \n",
    "    figsize=(grid.cols*4, grid.rows*1.5),\n",
    "    tight_layout=True\n",
    ")\n",
    "\n",
    "counter = 0\n",
    "for group in groups:\n",
    "    grp = dfA[dfA['group'] == group]\n",
    "    num_pl = grp['num_players'].unique()[0]\n",
    "    treatment = grp['treatment'].unique()[0]\n",
    "    for threshold in grp['threshold'].unique():\n",
    "        grp_thres = grp[grp['threshold'] == threshold]\n",
    "        # print(f\"{grp_thres['num_players'].unique()[0]} players in group {group} with threshold {threshold}\")\n",
    "        # print(grid.index_to_pair(counter))\n",
    "        bar_renderer = BarRenderer(data=grp_thres)\n",
    "        bar_renderer.render(\n",
    "            ax=axes[grid.index_to_pair(counter)], \n",
    "            title=f\"Treat: {treatment} -- Grp. {group} -- N={grp_thres['num_players'].unique()[0]}  -- B={int(threshold * num_pl)}\",\n",
    "            # title=f\"Group ({i+1})\",\n",
    "            num_rounds=30\n",
    "        )\n",
    "        counter += 1\n",
    "print(f\"Total playouts: {counter}\")\n",
    "\n",
    "# Convert figure to image array\n",
    "fig.suptitle(\"B\", fontweight=\"bold\")\n",
    "fig.canvas.draw()\n",
    "rgba_bytes = fig.canvas.buffer_rgba().tobytes()\n",
    "width, height = fig.canvas.get_width_height()\n",
    "pil_image = PIL.Image.frombytes(mode=\"RGBA\", size=[width, height], data=rgba_bytes)\n",
    "panel_B = np.array(pil_image)"
   ]
  },
  {
   "cell_type": "markdown",
   "id": "d3251079",
   "metadata": {},
   "source": [
    "### Panels A and B"
   ]
  },
  {
   "cell_type": "code",
   "execution_count": null,
   "id": "60488840",
   "metadata": {},
   "outputs": [],
   "source": [
    "fig, ax = plt.subplots(2, 1, figsize=(8,4), tight_layout=True)\n",
    "\n",
    "ax[0].imshow(panel_A)  \n",
    "ax[1].imshow(panel_B)\n",
    "\n",
    "ax[0].axis('off')\n",
    "ax[1].axis('off')\n",
    "\n",
    "# Convert figure to image array\n",
    "fig.canvas.draw()\n",
    "rgba_bytes = fig.canvas.buffer_rgba().tobytes()\n",
    "width, height = fig.canvas.get_width_height()\n",
    "pil_image = PIL.Image.frombytes(mode=\"RGBA\", size=[width, height], data=rgba_bytes)\n",
    "panels_A_and_B = np.array(pil_image)"
   ]
  },
  {
   "cell_type": "markdown",
   "id": "0c4db206",
   "metadata": {},
   "source": [
    "### Average score per round"
   ]
  },
  {
   "cell_type": "code",
   "execution_count": null,
   "id": "f6c23411",
   "metadata": {},
   "outputs": [],
   "source": [
    "fig, ax = plt.subplots(\n",
    "    2,1, \n",
    "    figsize=(3,5), \n",
    "    tight_layout=True,\n",
    "    sharey=False\n",
    ")\n",
    "\n",
    "# Learning: average score increases per round\n",
    "sns.lineplot(\n",
    "    x='round', y='score', data=data,\n",
    "    ci=95, ax=ax[0]\n",
    ")\n",
    "ax[0].set_xlabel('Round')\n",
    "ax[0].set_ylabel(\"Av. player score\")\n",
    "ax[0].set_title(\"Learning within session\")\n",
    "ax[0].grid()\n",
    "ax[0].set_ylim([-1,1])\n",
    "\n",
    "# Learning: average score increases per session\n",
    "sns.boxplot(\n",
    "    x='session', y='score', \n",
    "    data=data, ax=ax[1],\n",
    ")\n",
    "ax[1].set_xlabel('Session')\n",
    "ax[1].set_ylabel(\"Av. player score\")\n",
    "ax[1].set_title(\"Learning per session\")\n",
    "ax[1].grid()\n",
    "# ax[1].set_ylim([-1,1])\n",
    "\n",
    "# Convert figure to image array\n",
    "fig.suptitle(\"C\", fontweight=\"bold\")\n",
    "fig.canvas.draw()\n",
    "rgba_bytes = fig.canvas.buffer_rgba().tobytes()\n",
    "width, height = fig.canvas.get_width_height()\n",
    "pil_image = PIL.Image.frombytes(mode=\"RGBA\", size=[width, height], data=rgba_bytes)\n",
    "panel_C = np.array(pil_image)"
   ]
  },
  {
   "cell_type": "markdown",
   "id": "a613e767",
   "metadata": {},
   "source": [
    "Pearson round vs score"
   ]
  },
  {
   "cell_type": "code",
   "execution_count": null,
   "id": "8464057b",
   "metadata": {},
   "outputs": [],
   "source": [
    "pearson_coef, p_value = stats.pearsonr(data['score'], data['round'])\n",
    "\n",
    "print(f\"Pearson correlation coefficient: {pearson_coef}\")\n",
    "print(f\"P-value: {p_value}\")\n",
    "print(f\"{pearson_coef:.3f} (p={p_value:.3f})\")"
   ]
  },
  {
   "cell_type": "markdown",
   "id": "1e1482db",
   "metadata": {},
   "source": [
    "Difference in means between session"
   ]
  },
  {
   "cell_type": "code",
   "execution_count": null,
   "id": "bee5409c",
   "metadata": {},
   "outputs": [],
   "source": [
    "# Get the unique session labels\n",
    "sessions = data['session'].unique()\n",
    "\n",
    "# Extract the scores for each session\n",
    "scores_by_session = [data[data['session'] == session]['score'] for session in sessions]\n",
    "\n",
    "# Perform the Kruskal-Wallis H-test\n",
    "h_stat, p_value = stats.kruskal(*scores_by_session)\n",
    "\n",
    "print(f\"Kruskal-Wallis H statistic: {h_stat}\")\n",
    "print(f\"P-value: {p_value}\")\n",
    "print(f\"H={h_stat:.3f} (p={p_value:.3f})\")"
   ]
  },
  {
   "cell_type": "markdown",
   "id": "fa54cc18",
   "metadata": {},
   "source": [
    "### bounded efficiency vs. inequality"
   ]
  },
  {
   "cell_type": "code",
   "execution_count": null,
   "id": "67c3366b",
   "metadata": {},
   "outputs": [],
   "source": [
    "fig, ax = plt.subplots(1, 1, figsize=(4,4), tight_layout=True)\n",
    "# Scatter plot bounded efficiency vs. inequality\n",
    "df_jitter = df.copy()\n",
    "n = df_jitter.shape[0]\n",
    "df_jitter['inequality'] = df_jitter['inequality'] + np.random.normal(0,0.0075, n)\n",
    "df_jitter['bounded_efficiency'] = df_jitter['bounded_efficiency'] + np.random.normal(0,0.0075, n)\n",
    "ax = sns.scatterplot(\n",
    "    x='inequality', y='bounded_efficiency',\n",
    "    data=df_jitter,\n",
    "    # hue='treatment', style='num_players',\n",
    "    alpha=0.8, ax=ax,\n",
    "    palette='icefire'\n",
    ")\n",
    "\n",
    "ax.set_xlabel('Inequality')\n",
    "ax.set_ylabel('Bounded Efficiency')\n",
    "ax.set_title('Efficiency vs. Inequality')\n",
    "ax.grid()\n",
    "\n",
    "# Show the alternating groups on the top-left corner\n",
    "circle = patches.Ellipse(\n",
    "    (0.15, 0.82), width=0.2, height=0.2,\n",
    "    transform=ax.transAxes, \n",
    "    color='gray', alpha=0.2, \n",
    ")\n",
    "ax.add_patch(circle)\n",
    "# Add an arrow pointing to the cluster\n",
    "ax.annotate(\n",
    "    'Alternating\\n groups',\n",
    "    xy=(0.15, 0.8), xycoords='axes fraction',\n",
    "    xytext=(0.35, 0.3), textcoords='axes fraction',\n",
    "    arrowprops=dict(facecolor='black', arrowstyle='->'),\n",
    "    fontsize=10\n",
    ")\n",
    "\n",
    "# Show the mixed groups on the top center\n",
    "circle = patches.Ellipse(\n",
    "    (0.55, 0.88), width=0.4, height=0.2,\n",
    "    transform=ax.transAxes, \n",
    "    color='gray', alpha=0.2, \n",
    ")\n",
    "ax.add_patch(circle)\n",
    "# Add an arrow pointing to the cluster\n",
    "ax.annotate(\n",
    "    'Mixed\\n groups',\n",
    "    xy=(0.5, 0.8), xycoords='axes fraction',\n",
    "    xytext=(0.6, 0.4), textcoords='axes fraction',\n",
    "    arrowprops=dict(facecolor='black', arrowstyle='->'),\n",
    "    fontsize=10\n",
    ")\n",
    "\n",
    "# Show the segmented groups on the top-right corner\n",
    "circle = patches.Circle(\n",
    "    (0.95, 0.95), 0.05, \n",
    "    transform=ax.transAxes, \n",
    "    color='gray', alpha=0.2\n",
    ")\n",
    "ax.add_patch(circle)\n",
    "# Add an arrow pointing to the cluster\n",
    "ax.annotate(\n",
    "    'Segmented\\n   group',\n",
    "    xy=(0.92, 0.93), xycoords='axes fraction',\n",
    "    xytext=(0.65, 0.1), textcoords='axes fraction',\n",
    "    arrowprops=dict(facecolor='black', arrowstyle='->'),\n",
    "    fontsize=10\n",
    ")\n",
    "\n",
    "# Convert figure to image array\n",
    "fig.suptitle(\"D\", fontweight=\"bold\")\n",
    "fig.canvas.draw()\n",
    "rgba_bytes = fig.canvas.buffer_rgba().tobytes()\n",
    "width, height = fig.canvas.get_width_height()\n",
    "pil_image = PIL.Image.frombytes(mode=\"RGBA\", size=[width, height], data=rgba_bytes)\n",
    "panel_D = np.array(pil_image)\n"
   ]
  },
  {
   "cell_type": "markdown",
   "id": "39c352db",
   "metadata": {},
   "source": [
    "### Panels C and D"
   ]
  },
  {
   "cell_type": "code",
   "execution_count": null,
   "id": "1e4b73e0",
   "metadata": {},
   "outputs": [],
   "source": [
    "fig, ax = plt.subplots(1, 2, figsize=(7,4), tight_layout=True)\n",
    "\n",
    "ax[0].imshow(panel_C)  \n",
    "ax[1].imshow(panel_D)\n",
    "\n",
    "ax[0].axis('off')\n",
    "ax[1].axis('off')\n",
    "\n",
    "# Convert figure to image array\n",
    "fig.canvas.draw()\n",
    "rgba_bytes = fig.canvas.buffer_rgba().tobytes()\n",
    "width, height = fig.canvas.get_width_height()\n",
    "pil_image = PIL.Image.frombytes(mode=\"RGBA\", size=[width, height], data=rgba_bytes)\n",
    "panels_C_and_D = np.array(pil_image)"
   ]
  },
  {
   "cell_type": "markdown",
   "id": "9ee21bc7",
   "metadata": {},
   "source": [
    "### Panel E --- Influence of threshold and number of players"
   ]
  },
  {
   "cell_type": "code",
   "execution_count": null,
   "id": "5fe82fe5",
   "metadata": {},
   "outputs": [],
   "source": [
    "fig, ax = plt.subplots(\n",
    "    2, 2, \n",
    "    figsize=(8,6), \n",
    "    tight_layout=True,\n",
    "    # sharex=True, sharey=True\n",
    ")\n",
    "\n",
    "# Efficiency per threshold and treatment\n",
    "sns.lineplot(\n",
    "    x='threshold', y='bounded_efficiency',\n",
    "    hue='treatment',\n",
    "    data=df, ax=ax[0,0],\n",
    "    palette='icefire'\n",
    ")\n",
    "ax[0,0].set_xlabel(\"Bar's threshold\")\n",
    "ax[0,0].set_ylabel(\"Av. bounded efficiency\")\n",
    "ax[0,0].set_title(\"Bounded Eff. per threshold\")\n",
    "ax[0,0].grid()\n",
    "ax[0,0].set_ylim([-1.6,1.1])\n",
    "ax[0,0].legend_.remove()\n",
    "\n",
    "# Efficiency per number of agents and treatment\n",
    "sns.lineplot(\n",
    "    x='num_players', y='bounded_efficiency',\n",
    "    hue='treatment',\n",
    "    data=df, ax=ax[0,1],\n",
    "    palette='icefire'\n",
    ")\n",
    "ax[0,1].set_xlabel(\"Number of players\")\n",
    "ax[0,1].set_ylabel(\"Av. bounded efficiency\")\n",
    "ax[0,1].set_title(\"Bounded Eff. per Num. Players\")\n",
    "ax[0,1].grid()\n",
    "ax[0,1].set_ylim([-1.6,1.1])\n",
    "ax[0,1].legend_.remove()\n",
    "\n",
    "# Alternation index per threshold and treatment\n",
    "sns.lineplot(\n",
    "    x='threshold', y='alternation_index',\n",
    "    hue='treatment',\n",
    "    data=df, ax=ax[1,0],\n",
    "    palette='icefire'\n",
    ")\n",
    "ax[1,0].set_xlabel(\"Bar's threshold\")\n",
    "ax[1,0].set_ylabel(\"Alaternation Index\")\n",
    "ax[1,0].set_title(\"Alternation index per threshold\")\n",
    "ax[1,0].grid()\n",
    "# ax[1,0].set_ylim([-1,1])\n",
    "ax[1,0].legend().remove()\n",
    "\n",
    "# Alternation index per number of agents and treatment\n",
    "sns.lineplot(\n",
    "    x='num_players', y='alternation_index',\n",
    "    hue='treatment',\n",
    "    data=df, ax=ax[1,1],\n",
    "    palette='icefire'\n",
    ")\n",
    "ax[1,1].set_xlabel(\"Number of players\")\n",
    "ax[1,1].set_ylabel(\"Alaternation Index\")\n",
    "ax[1,1].set_title(\"Alternation index per Num. Players\")\n",
    "ax[1,1].grid()\n",
    "# ax[1,1].set_ylim([-1,1])\n",
    "ax[1,1].legend().remove()\n",
    "\n",
    "# Convert figure to image array\n",
    "handles, labels = ax[0,0].get_legend_handles_labels()\n",
    "fig.legend(\n",
    "    handles, labels,\n",
    "    title='Treatment',\n",
    "    loc='lower center', \n",
    "    bbox_to_anchor=(.5, -.1),\n",
    "    ncol=2\n",
    ")\n",
    "fig.suptitle(\"E\", fontweight=\"bold\")\n",
    "# fig.canvas.draw()\n",
    "# rgba_bytes = fig.canvas.buffer_rgba().tobytes()\n",
    "# width, height = fig.canvas.get_width_height()\n",
    "# pil_image = PIL.Image.frombytes(mode=\"RGBA\", size=[width, height], data=rgba_bytes)\n",
    "# fourth_row_array = np.array(pil_image)\n",
    "\n",
    "buf = BytesIO()\n",
    "fig.savefig(buf, format='png', bbox_inches='tight', dpi=fig.dpi)\n",
    "buf.seek(0)\n",
    "\n",
    "# Read the buffer into a NumPy array\n",
    "pil_image = Image.open(buf).convert(\"RGBA\")\n",
    "panel_E = np.array(pil_image)\n"
   ]
  },
  {
   "cell_type": "markdown",
   "id": "4bb2cadf",
   "metadata": {},
   "source": [
    "# All panels for Figure 12"
   ]
  },
  {
   "cell_type": "code",
   "execution_count": null,
   "id": "8f8bbf6e",
   "metadata": {},
   "outputs": [],
   "source": [
    "fig, ax = plt.subplots(3, 1, figsize=(6,9), tight_layout=True)\n",
    "\n",
    "ax[0].imshow(panels_A_and_B)\n",
    "ax[1].imshow(panels_C_and_D)\n",
    "ax[2].imshow(panel_E)\n",
    "\n",
    "ax[0].axis('off')\n",
    "ax[1].axis('off') \n",
    "ax[2].axis('off')\n",
    "\n"
   ]
  },
  {
   "cell_type": "code",
   "execution_count": null,
   "id": "8215c992",
   "metadata": {},
   "outputs": [],
   "source": [
    "fig.savefig(PATHS['figures_for_paper'] / 'Figure12.png', dpi=300, bbox_inches='tight')"
   ]
  },
  {
   "cell_type": "markdown",
   "id": "b1fe8b7e",
   "metadata": {},
   "source": [
    "### Regressions"
   ]
  },
  {
   "cell_type": "code",
   "execution_count": null,
   "id": "bfe84def",
   "metadata": {},
   "outputs": [],
   "source": [
    "formula = 'score ~ treatment + num_players + threshold + round + session ' \n",
    "formula += '+ num_players * threshold + round * session + treatment * threshold + treatment * num_players'\n",
    "lm = ols(formula, data).fit()\n",
    "\n",
    "print(lm.summary())"
   ]
  },
  {
   "cell_type": "code",
   "execution_count": null,
   "id": "6c311391",
   "metadata": {},
   "outputs": [],
   "source": [
    "# Calculate alternation index per group\n",
    "gm = GetMeasurements(\n",
    "    data=data,\n",
    "    measures=['efficiency', 'bounded_efficiency', 'inequality'],\n",
    ")\n",
    "df = gm.get_measurements()\n",
    "\n",
    "alt_index = AlternationIndex.from_file(priority='sklearn')\n",
    "df['alternation_index'] = alt_index(df)\n",
    "\n",
    "df.head(2)"
   ]
  },
  {
   "cell_type": "code",
   "execution_count": null,
   "id": "a330df49",
   "metadata": {},
   "outputs": [],
   "source": [
    "formula = 'bounded_efficiency ~ treatment + num_players + threshold'\n",
    "formula += '+ num_players * threshold + treatment * threshold + treatment * num_players'\n",
    "lm = ols(formula, df).fit()\n",
    "\n",
    "print(lm.summary())"
   ]
  },
  {
   "cell_type": "code",
   "execution_count": null,
   "id": "c91a74ad",
   "metadata": {},
   "outputs": [],
   "source": [
    "formula = 'alternation_index ~ treatment + num_players + threshold'\n",
    "formula += '+ num_players * threshold + treatment * threshold + treatment * num_players'\n",
    "lm = ols(formula, df).fit()\n",
    "\n",
    "print(lm.summary())"
   ]
  },
  {
   "cell_type": "markdown",
   "id": "40d7851a",
   "metadata": {},
   "source": [
    "### Check collective action dilemma"
   ]
  },
  {
   "cell_type": "code",
   "execution_count": null,
   "id": "8a6f4fe8",
   "metadata": {},
   "outputs": [],
   "source": [
    "player_av_scores = data.groupby(['player']).agg({\n",
    "    'score':'mean',\n",
    "    'decision':'mean'\n",
    "})\n",
    "\n",
    "group_av_scores = data.groupby(['group']).agg({\n",
    "    'score':'mean',\n",
    "    'decision':'mean'\n",
    "})"
   ]
  },
  {
   "cell_type": "code",
   "execution_count": null,
   "id": "06732675",
   "metadata": {},
   "outputs": [],
   "source": [
    "from scipy.stats import pearsonr"
   ]
  },
  {
   "cell_type": "code",
   "execution_count": null,
   "id": "a529984c",
   "metadata": {},
   "outputs": [],
   "source": [
    "r, p_value = pearsonr(player_av_scores['decision'], player_av_scores['score'])\n",
    "\n",
    "print(f\"Pearson correlation coefficient: {r:.4f}\")\n",
    "print(f\"P-value: {p_value:.4e}\")\n",
    "print(f\"{r:.3f} (p={p_value:.3f})\")"
   ]
  },
  {
   "cell_type": "code",
   "execution_count": null,
   "id": "9f45ba53",
   "metadata": {},
   "outputs": [],
   "source": [
    "r, p_value = pearsonr(group_av_scores['decision'], group_av_scores['score'])\n",
    "\n",
    "print(f\"Pearson correlation coefficient: {r:.4f}\")\n",
    "print(f\"P-value: {p_value:.4e}\")\n",
    "print(f\"{r:.3f} (p={p_value:.3f})\")"
   ]
  },
  {
   "cell_type": "markdown",
   "id": "523c7fdc",
   "metadata": {},
   "source": [
    "---"
   ]
  }
 ],
 "metadata": {
  "kernelspec": {
   "display_name": "Python 3 (ipykernel)",
   "language": "python",
   "name": "python3"
  },
  "language_info": {
   "codemirror_mode": {
    "name": "ipython",
    "version": 3
   },
   "file_extension": ".py",
   "mimetype": "text/x-python",
   "name": "python",
   "nbconvert_exporter": "python",
   "pygments_lexer": "ipython3",
   "version": "3.13.3"
  }
 },
 "nbformat": 4,
 "nbformat_minor": 5
}
