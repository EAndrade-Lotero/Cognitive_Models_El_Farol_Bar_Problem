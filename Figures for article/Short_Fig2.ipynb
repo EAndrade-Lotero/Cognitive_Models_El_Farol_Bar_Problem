{
 "cells": [
  {
   "cell_type": "markdown",
   "id": "79509d71",
   "metadata": {},
   "source": [
    "# Figure 2"
   ]
  },
  {
   "cell_type": "code",
   "execution_count": null,
   "id": "474a8c04",
   "metadata": {},
   "outputs": [],
   "source": [
    "import sys\n",
    "sys.path.append(\"../src\")\n",
    "\n",
    "import warnings\n",
    "warnings.filterwarnings(\"ignore\")\n",
    "\n",
    "import PIL\n",
    "import numpy as np\n",
    "import pandas as pd\n",
    "import seaborn as sns\n",
    "import scipy.stats as stats\n",
    "import matplotlib.pyplot as plt\n",
    "\n",
    "from pathlib import Path\n",
    "from collections import defaultdict\n",
    "\n",
    "from Config.config import PATHS\n",
    "from Utils.indices import AlternationIndex\n",
    "from Utils.utils import GetMeasurements, Grid\n",
    "from Utils.bar_utils import BarRenderer"
   ]
  },
  {
   "cell_type": "code",
   "execution_count": 2,
   "id": "cd8423ce",
   "metadata": {},
   "outputs": [
    {
     "name": "stdout",
     "output_type": "stream",
     "text": [
      "Loading data from /Users/edgar/Documents/GitHub/Cognitive_Models_El_Farol_Bar_Problem/data/human/all_data.csv...\n"
     ]
    }
   ],
   "source": [
    "# Load human data\n",
    "file_name = 'all_data.csv'\n",
    "file = PATHS['human_data'] / Path(file_name)\n",
    "print(f'Loading data from {file}...')\n",
    "data = pd.read_csv(file)\n",
    "data['source'] = 'humans'\n",
    "data['model'] = data.apply(lambda row: f\"{row['room']}-{row['num_players']}-{row['threshold']:.2f}\", axis=1)\n",
    "data['num_players'] = data['num_players'].astype(int)\n",
    "data['round'] = data['round'].astype(int)\n",
    "data['decision'] = data['decision'].astype(int)\n",
    "data['group'] = data['group'].apply(lambda x: x.split('-')[0] if 'Grupo' not in x else x.split('-')[1])\n",
    "\n",
    "# data = data[data['threshold'] != 1]\n",
    "data.drop(columns=['room', 'date', 'timeup', 'time', 'attendance', 'ac_score', 'choice'], inplace=True)"
   ]
  },
  {
   "cell_type": "code",
   "execution_count": 5,
   "id": "4e59feae",
   "metadata": {},
   "outputs": [
    {
     "name": "stdout",
     "output_type": "stream",
     "text": [
      "Group sizes: 2, 3, 4, 5, 6, 7, 8, 9, 11, 12\n",
      "Number of groups: 51\n"
     ]
    },
    {
     "data": {
      "text/html": [
       "<div>\n",
       "<style scoped>\n",
       "    .dataframe tbody tr th:only-of-type {\n",
       "        vertical-align: middle;\n",
       "    }\n",
       "\n",
       "    .dataframe tbody tr th {\n",
       "        vertical-align: top;\n",
       "    }\n",
       "\n",
       "    .dataframe thead th {\n",
       "        text-align: right;\n",
       "    }\n",
       "</style>\n",
       "<table border=\"1\" class=\"dataframe\">\n",
       "  <thead>\n",
       "    <tr style=\"text-align: right;\">\n",
       "      <th></th>\n",
       "      <th>source</th>\n",
       "      <th>treatment</th>\n",
       "      <th>group</th>\n",
       "      <th>round</th>\n",
       "      <th>player</th>\n",
       "      <th>score</th>\n",
       "      <th>threshold</th>\n",
       "      <th>num_players</th>\n",
       "      <th>decision</th>\n",
       "      <th>model</th>\n",
       "      <th>session</th>\n",
       "    </tr>\n",
       "  </thead>\n",
       "  <tbody>\n",
       "    <tr>\n",
       "      <th>0</th>\n",
       "      <td>humans</td>\n",
       "      <td>score + grid</td>\n",
       "      <td>0001</td>\n",
       "      <td>0</td>\n",
       "      <td>405186428721292</td>\n",
       "      <td>0.0</td>\n",
       "      <td>0.5</td>\n",
       "      <td>2</td>\n",
       "      <td>0</td>\n",
       "      <td>Grupo-0001-2-0.50</td>\n",
       "      <td>1</td>\n",
       "    </tr>\n",
       "    <tr>\n",
       "      <th>1</th>\n",
       "      <td>humans</td>\n",
       "      <td>score + grid</td>\n",
       "      <td>0001</td>\n",
       "      <td>0</td>\n",
       "      <td>728608683559397</td>\n",
       "      <td>1.0</td>\n",
       "      <td>0.5</td>\n",
       "      <td>2</td>\n",
       "      <td>1</td>\n",
       "      <td>Grupo-0001-2-0.50</td>\n",
       "      <td>1</td>\n",
       "    </tr>\n",
       "  </tbody>\n",
       "</table>\n",
       "</div>"
      ],
      "text/plain": [
       "   source     treatment group  round           player  score  threshold  \\\n",
       "0  humans  score + grid  0001      0  405186428721292    0.0        0.5   \n",
       "1  humans  score + grid  0001      0  728608683559397    1.0        0.5   \n",
       "\n",
       "   num_players  decision              model  session  \n",
       "0            2         0  Grupo-0001-2-0.50        1  \n",
       "1            2         1  Grupo-0001-2-0.50        1  "
      ]
     },
     "execution_count": 5,
     "metadata": {},
     "output_type": "execute_result"
    }
   ],
   "source": [
    "# Change round to round within session\n",
    "dict_num_sessions = {}\n",
    "for key, grp in data.groupby('group'):\n",
    "    num_players = grp['num_players'].unique()[0]\n",
    "    num_sessions = grp['threshold'].unique().size\n",
    "    x = dict_num_sessions.get(num_players, None)\n",
    "    if x != None and num_sessions != x:\n",
    "        raise Exception('Inconsistent number of sessions per number of players')\n",
    "    dict_num_sessions[num_players] = num_sessions\n",
    "    \n",
    "group_counter = {grp:0 for grp in data['group'].unique()}\n",
    "rounds_counter = dict() \n",
    "dict_sessions_downwards = defaultdict()\n",
    "dict_sessions_upwards = defaultdict()\n",
    "data.sort_values(by=['group', 'treatment', 'threshold'], inplace=True)\n",
    "for (group, treatment, threshold, num_players), grp in data.groupby(['group', 'treatment', 'threshold', 'num_players']):\n",
    "    rounds_counter[(group, threshold)] = [grp['round'].min(), grp['round'].max()]\n",
    "    num_thresholds = dict_num_sessions[num_players]\n",
    "    if treatment == 'downwards':\n",
    "        count = num_thresholds - group_counter[group]\n",
    "        group_counter[group] += 1\n",
    "        dict_sessions_downwards[(group, threshold)] = count\n",
    "    elif treatment == 'upwards':\n",
    "        group_counter[group] += 1\n",
    "        count = group_counter[group]\n",
    "        dict_sessions_upwards[(group, threshold)] = count\n",
    "    else:\n",
    "        dict_sessions_downwards[(group, threshold)] = 1\n",
    "\n",
    "dict_sessions = dict_sessions_downwards.copy()\n",
    "dict_sessions.update(dict_sessions_upwards)\n",
    "\n",
    "def get_round(row):\n",
    "    x = int(row['round'])\n",
    "    m, M = rounds_counter[(row['group'], row['threshold'])]\n",
    "    return (x - m) % M\n",
    "\n",
    "data['round'] = data.apply(lambda row: get_round(row), axis=1).astype(int)\n",
    "data['session'] = data.apply(lambda row: dict_sessions[(row['group'], row['threshold'])], axis=1)\n",
    "# data['group'] = data.apply(lambda row: f\"{row['group']}-{row['session']}\", axis=1)\n",
    "# data = data[data['round'] <= 30]\n",
    "\n",
    "data.sort_values(by=['num_players', 'threshold'], inplace=True)\n",
    "\n",
    "print('Group sizes:', ', '.join([str(x) for x in data['num_players'].unique()]))\n",
    "print('Number of groups:', len(data['group'].unique()))\n",
    "data.head(2)"
   ]
  },
  {
   "cell_type": "code",
   "execution_count": 40,
   "id": "c8506327",
   "metadata": {},
   "outputs": [],
   "source": [
    "# Calculate alternation index per group\n",
    "gm = GetMeasurements(\n",
    "    data=data,\n",
    "    measures=['efficiency', 'bounded_efficiency', 'entropy', 'conditional_entropy', 'inequality', 'bounded_inequality'],\n",
    "    T=25\n",
    ")\n",
    "df = gm.get_measurements()\n",
    "\n",
    "# Find coordination type\n",
    "alt_index = AlternationIndex.from_file(priority='mlp')\n",
    "df['predicted_class'] = alt_index.classify(df)"
   ]
  },
  {
   "cell_type": "code",
   "execution_count": 41,
   "id": "8aac9d8b",
   "metadata": {},
   "outputs": [
    {
     "name": "stdout",
     "output_type": "stream",
     "text": [
      "Num. of best sessions: 26\n"
     ]
    }
   ],
   "source": [
    "df_best = df[df['bounded_efficiency'] > 0.5]\n",
    "df_best = df_best[df_best['threshold'] < 1]\n",
    "\n",
    "# df_best['model'] = df_best.apply(lambda row: f\"{row['model']}-{row['num_players']}-{row['threshold']:.2f}\", axis=1)\n",
    "df_best.sort_values(by=['bounded_efficiency', 'num_players'], ascending=False, inplace=True)\n",
    "print('Num. of best sessions:', len(df_best))\n",
    "# df_best"
   ]
  },
  {
   "cell_type": "markdown",
   "id": "34afb616",
   "metadata": {},
   "source": [
    "### Playout examples"
   ]
  },
  {
   "cell_type": "code",
   "execution_count": 47,
   "id": "b52f3e6e",
   "metadata": {},
   "outputs": [
    {
     "data": {
      "image/png": "[encoded data removed]",
      "text/plain": [
       "<Figure size 1200x500 with 15 Axes>"
      ]
     },
     "metadata": {},
     "output_type": "display_data"
    }
   ],
   "source": [
    "# groups = df_best['model'].unique()\n",
    "keep_groups_idx = [\n",
    "    4, 3, 2, \n",
    "    1, 6, 7, \n",
    "    8, 19, 17, \n",
    "    16, 5, 15, \n",
    "    20, 21, 24\n",
    "]\n",
    "groups = np.array(df_best['model'].unique())[keep_groups_idx].tolist()\n",
    "categories = [\n",
    "    'alternation', 'alternation', 'alternation',\n",
    "    'alternation', 'alternation', 'segmentation',\n",
    "    'alternation', 'mixed', 'segmentation',\n",
    "    'alternation', 'mixed', 'mixed',\n",
    "    'segmentation', 'mixed', 'mixed'\n",
    "]\n",
    "\n",
    "grid = Grid(len(groups), vertical=True)\n",
    "\n",
    "fig, axes = plt.subplots(\n",
    "    grid.rows, grid.cols, \n",
    "    figsize=(grid.cols*4, grid.rows),\n",
    "    tight_layout=True\n",
    ")\n",
    "\n",
    "for i, group in enumerate(groups):\n",
    "    df_aux = df_best[df_best['model'] == group]\n",
    "    df_aux_aux = data[data['model'] == group]\n",
    "    threshold = df_aux['threshold'].unique()[0]\n",
    "    BE = df_aux['bounded_efficiency'].unique()[0]\n",
    "    N = df_aux_aux['num_players'].values[0]\n",
    "    B = int(df_aux_aux['threshold'].values[0] * N)\n",
    "    # classification = df_aux['predicted_class'].values[0]\n",
    "    classification = categories[i]\n",
    "    # classification = i\n",
    "    bar_renderer = BarRenderer(data=df_aux_aux)\n",
    "    bar_renderer.render(\n",
    "        ax=axes[grid.index_to_pair(i)],\n",
    "        title=f\"N={N}, B={B}, B.E.={BE:.2f}, Type={classification}\",\n",
    "        num_rounds=25\n",
    "    )"
   ]
  },
  {
   "cell_type": "code",
   "execution_count": 49,
   "id": "52f482d6",
   "metadata": {},
   "outputs": [],
   "source": [
    "fig.savefig(PATHS['figures_for_paper'] / 'Short_Fig2.png', dpi=300, bbox_inches='tight')"
   ]
  },
  {
   "cell_type": "markdown",
   "id": "29b9558d",
   "metadata": {},
   "source": [
    "---"
   ]
  },
  {
   "cell_type": "code",
   "execution_count": null,
   "id": "b8121a90",
   "metadata": {},
   "outputs": [],
   "source": [
    "df['predicted_class'] = alt_index.classify(data)\n",
    "df_ = df.groupby('num_players')['predicted_class'].value_counts(normalize=True).reset_index()\n",
    "df_categories = pd.pivot_table(\n",
    "    data=df_,\n",
    "    index='num_players',\n",
    "    columns='predicted_class',\n",
    "    values='proportion'\n",
    ").fillna('-')\n",
    "df_categories"
   ]
  },
  {
   "cell_type": "code",
   "execution_count": null,
   "id": "e9d2565f",
   "metadata": {},
   "outputs": [],
   "source": [
    "df['predicted_class'].value_counts(normalize=False).reset_index()"
   ]
  },
  {
   "cell_type": "code",
   "execution_count": null,
   "id": "043b95ca",
   "metadata": {},
   "outputs": [],
   "source": []
  }
 ],
 "metadata": {
  "kernelspec": {
   "display_name": "Python 3 (ipykernel)",
   "language": "python",
   "name": "python3"
  },
  "language_info": {
   "codemirror_mode": {
    "name": "ipython",
    "version": 3
   },
   "file_extension": ".py",
   "mimetype": "text/x-python",
   "name": "python",
   "nbconvert_exporter": "python",
   "pygments_lexer": "ipython3",
   "version": "3.13.3"
  }
 },
 "nbformat": 4,
 "nbformat_minor": 5
}
