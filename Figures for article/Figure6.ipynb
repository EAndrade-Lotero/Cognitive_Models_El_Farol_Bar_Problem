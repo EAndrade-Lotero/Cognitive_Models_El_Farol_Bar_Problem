{
 "cells": [
  {
   "cell_type": "markdown",
   "id": "eaa202f8",
   "metadata": {},
   "source": [
    "# Figure 6\n",
    "\n",
    "Alternation index as a trained classification probability. Left panel: Scatterplot showing bounded efficiency versus inequality, with 'x' representing alternation groups and 'o' representing non-alternation groups (segmented coordination and random behavior). Right panel: Violin plots displaying the alternation index for each type of data. The dataset includes 500 alternation groups and 250 groups each of segmentation and random behavior, totaling 1000 groups."
   ]
  },
  {
   "cell_type": "code",
   "execution_count": 1,
   "id": "3d29d79e",
   "metadata": {},
   "outputs": [],
   "source": [
    "import sys\n",
    "\n",
    "sys.path.append('../src')"
   ]
  },
  {
   "cell_type": "code",
   "execution_count": 23,
   "id": "62c887e6",
   "metadata": {},
   "outputs": [],
   "source": [
    "import seaborn as sns\n",
    "import matplotlib.pyplot as plt\n",
    "\n",
    "from Config.config import PATHS\n",
    "from Utils.indices import AlternationIndex"
   ]
  },
  {
   "cell_type": "code",
   "execution_count": 3,
   "id": "f327e43a",
   "metadata": {},
   "outputs": [
    {
     "data": {
      "application/vnd.jupyter.widget-view+json": {
       "model_id": "0906ad41628c45eaba761c792aed80c3",
       "version_major": 2,
       "version_minor": 0
      },
      "text/plain": [
       "Running configurations for alternation:   0%|          | 0/20 [00:00<?, ?it/s]"
      ]
     },
     "metadata": {},
     "output_type": "display_data"
    },
    {
     "data": {
      "application/vnd.jupyter.widget-view+json": {
       "model_id": "70fd3daa69714858aaf0bef8f396f889",
       "version_major": 2,
       "version_minor": 0
      },
      "text/plain": [
       "Running episodes:   0%|          | 0/20 [00:00<?, ?it/s]"
      ]
     },
     "metadata": {},
     "output_type": "display_data"
    },
    {
     "data": {
      "application/vnd.jupyter.widget-view+json": {
       "model_id": "b6ff4e19b59444a4bede94afb2a32a52",
       "version_major": 2,
       "version_minor": 0
      },
      "text/plain": [
       "Running episodes:   0%|          | 0/20 [00:00<?, ?it/s]"
      ]
     },
     "metadata": {},
     "output_type": "display_data"
    },
    {
     "data": {
      "application/vnd.jupyter.widget-view+json": {
       "model_id": "0404b605929e46b28150e1be4b089a55",
       "version_major": 2,
       "version_minor": 0
      },
      "text/plain": [
       "Running episodes:   0%|          | 0/20 [00:00<?, ?it/s]"
      ]
     },
     "metadata": {},
     "output_type": "display_data"
    },
    {
     "data": {
      "application/vnd.jupyter.widget-view+json": {
       "model_id": "58ca79697c134fd1954c6df1a197d55d",
       "version_major": 2,
       "version_minor": 0
      },
      "text/plain": [
       "Running episodes:   0%|          | 0/20 [00:00<?, ?it/s]"
      ]
     },
     "metadata": {},
     "output_type": "display_data"
    },
    {
     "data": {
      "application/vnd.jupyter.widget-view+json": {
       "model_id": "65a5614030db4612acef4443f157e32c",
       "version_major": 2,
       "version_minor": 0
      },
      "text/plain": [
       "Running episodes:   0%|          | 0/20 [00:00<?, ?it/s]"
      ]
     },
     "metadata": {},
     "output_type": "display_data"
    },
    {
     "data": {
      "application/vnd.jupyter.widget-view+json": {
       "model_id": "bfc2c201a082463facdb35ec6d559e5e",
       "version_major": 2,
       "version_minor": 0
      },
      "text/plain": [
       "Running episodes:   0%|          | 0/20 [00:00<?, ?it/s]"
      ]
     },
     "metadata": {},
     "output_type": "display_data"
    },
    {
     "data": {
      "application/vnd.jupyter.widget-view+json": {
       "model_id": "e4b8701948b9419eb513313911dcfdbb",
       "version_major": 2,
       "version_minor": 0
      },
      "text/plain": [
       "Running episodes:   0%|          | 0/20 [00:00<?, ?it/s]"
      ]
     },
     "metadata": {},
     "output_type": "display_data"
    },
    {
     "data": {
      "application/vnd.jupyter.widget-view+json": {
       "model_id": "25feb18ccc564f3d81202a7a1ea9d4cf",
       "version_major": 2,
       "version_minor": 0
      },
      "text/plain": [
       "Running episodes:   0%|          | 0/20 [00:00<?, ?it/s]"
      ]
     },
     "metadata": {},
     "output_type": "display_data"
    },
    {
     "data": {
      "application/vnd.jupyter.widget-view+json": {
       "model_id": "68bab4297e8249759ab73ff58831fd88",
       "version_major": 2,
       "version_minor": 0
      },
      "text/plain": [
       "Running episodes:   0%|          | 0/20 [00:00<?, ?it/s]"
      ]
     },
     "metadata": {},
     "output_type": "display_data"
    },
    {
     "data": {
      "application/vnd.jupyter.widget-view+json": {
       "model_id": "6d0cf846af2e4c6498d3c5d49b885290",
       "version_major": 2,
       "version_minor": 0
      },
      "text/plain": [
       "Running episodes:   0%|          | 0/20 [00:00<?, ?it/s]"
      ]
     },
     "metadata": {},
     "output_type": "display_data"
    },
    {
     "data": {
      "application/vnd.jupyter.widget-view+json": {
       "model_id": "0319e122f8844d79866d4da6e927b0ab",
       "version_major": 2,
       "version_minor": 0
      },
      "text/plain": [
       "Running episodes:   0%|          | 0/20 [00:00<?, ?it/s]"
      ]
     },
     "metadata": {},
     "output_type": "display_data"
    },
    {
     "data": {
      "application/vnd.jupyter.widget-view+json": {
       "model_id": "40ed91f5b58a4e6db0c91dfd74dd23c0",
       "version_major": 2,
       "version_minor": 0
      },
      "text/plain": [
       "Running episodes:   0%|          | 0/20 [00:00<?, ?it/s]"
      ]
     },
     "metadata": {},
     "output_type": "display_data"
    },
    {
     "data": {
      "application/vnd.jupyter.widget-view+json": {
       "model_id": "c9a9c113c01649e9bdec28371719069f",
       "version_major": 2,
       "version_minor": 0
      },
      "text/plain": [
       "Running episodes:   0%|          | 0/20 [00:00<?, ?it/s]"
      ]
     },
     "metadata": {},
     "output_type": "display_data"
    },
    {
     "data": {
      "application/vnd.jupyter.widget-view+json": {
       "model_id": "22d5889ba1c843f99b3452798b4dc12a",
       "version_major": 2,
       "version_minor": 0
      },
      "text/plain": [
       "Running episodes:   0%|          | 0/20 [00:00<?, ?it/s]"
      ]
     },
     "metadata": {},
     "output_type": "display_data"
    },
    {
     "data": {
      "application/vnd.jupyter.widget-view+json": {
       "model_id": "4f8a31bca8e44239b16792a72675256b",
       "version_major": 2,
       "version_minor": 0
      },
      "text/plain": [
       "Running episodes:   0%|          | 0/20 [00:00<?, ?it/s]"
      ]
     },
     "metadata": {},
     "output_type": "display_data"
    },
    {
     "data": {
      "application/vnd.jupyter.widget-view+json": {
       "model_id": "372e43bb9c68484db242e4a8d203875f",
       "version_major": 2,
       "version_minor": 0
      },
      "text/plain": [
       "Running episodes:   0%|          | 0/20 [00:00<?, ?it/s]"
      ]
     },
     "metadata": {},
     "output_type": "display_data"
    },
    {
     "data": {
      "application/vnd.jupyter.widget-view+json": {
       "model_id": "16920a6ef6e846a1ab2e5dc8fc74ac6e",
       "version_major": 2,
       "version_minor": 0
      },
      "text/plain": [
       "Running episodes:   0%|          | 0/20 [00:00<?, ?it/s]"
      ]
     },
     "metadata": {},
     "output_type": "display_data"
    },
    {
     "data": {
      "application/vnd.jupyter.widget-view+json": {
       "model_id": "3520c690ade444a98f79c5bfbdd72197",
       "version_major": 2,
       "version_minor": 0
      },
      "text/plain": [
       "Running episodes:   0%|          | 0/20 [00:00<?, ?it/s]"
      ]
     },
     "metadata": {},
     "output_type": "display_data"
    },
    {
     "data": {
      "application/vnd.jupyter.widget-view+json": {
       "model_id": "cc39b6c1a80945e3a7bd600ed083a05c",
       "version_major": 2,
       "version_minor": 0
      },
      "text/plain": [
       "Running episodes:   0%|          | 0/20 [00:00<?, ?it/s]"
      ]
     },
     "metadata": {},
     "output_type": "display_data"
    },
    {
     "data": {
      "application/vnd.jupyter.widget-view+json": {
       "model_id": "97627be9a0884745b8b53c931d4e0383",
       "version_major": 2,
       "version_minor": 0
      },
      "text/plain": [
       "Running episodes:   0%|          | 0/20 [00:00<?, ?it/s]"
      ]
     },
     "metadata": {},
     "output_type": "display_data"
    },
    {
     "data": {
      "application/vnd.jupyter.widget-view+json": {
       "model_id": "20b30c89f4b7441d9455e1534c113eb5",
       "version_major": 2,
       "version_minor": 0
      },
      "text/plain": [
       "Running configurations for segmentation:   0%|          | 0/20 [00:00<?, ?it/s]"
      ]
     },
     "metadata": {},
     "output_type": "display_data"
    },
    {
     "data": {
      "application/vnd.jupyter.widget-view+json": {
       "model_id": "d141ec6374374136b3f38e938fbcab75",
       "version_major": 2,
       "version_minor": 0
      },
      "text/plain": [
       "Running episodes:   0%|          | 0/10 [00:00<?, ?it/s]"
      ]
     },
     "metadata": {},
     "output_type": "display_data"
    },
    {
     "data": {
      "application/vnd.jupyter.widget-view+json": {
       "model_id": "8e4b31e8ce1c4e51af6caea14006692e",
       "version_major": 2,
       "version_minor": 0
      },
      "text/plain": [
       "Running episodes:   0%|          | 0/10 [00:00<?, ?it/s]"
      ]
     },
     "metadata": {},
     "output_type": "display_data"
    },
    {
     "data": {
      "application/vnd.jupyter.widget-view+json": {
       "model_id": "4838d8220f9144bb8db02b6f5abe4b94",
       "version_major": 2,
       "version_minor": 0
      },
      "text/plain": [
       "Running episodes:   0%|          | 0/10 [00:00<?, ?it/s]"
      ]
     },
     "metadata": {},
     "output_type": "display_data"
    },
    {
     "data": {
      "application/vnd.jupyter.widget-view+json": {
       "model_id": "df6291d39522449a9ca5cf8ad1aac718",
       "version_major": 2,
       "version_minor": 0
      },
      "text/plain": [
       "Running episodes:   0%|          | 0/10 [00:00<?, ?it/s]"
      ]
     },
     "metadata": {},
     "output_type": "display_data"
    },
    {
     "data": {
      "application/vnd.jupyter.widget-view+json": {
       "model_id": "fc5c6529dc9d4d5e84b87cf51c71630a",
       "version_major": 2,
       "version_minor": 0
      },
      "text/plain": [
       "Running episodes:   0%|          | 0/10 [00:00<?, ?it/s]"
      ]
     },
     "metadata": {},
     "output_type": "display_data"
    },
    {
     "data": {
      "application/vnd.jupyter.widget-view+json": {
       "model_id": "b17b4879c4df4767b3cad60119ddb89d",
       "version_major": 2,
       "version_minor": 0
      },
      "text/plain": [
       "Running episodes:   0%|          | 0/10 [00:00<?, ?it/s]"
      ]
     },
     "metadata": {},
     "output_type": "display_data"
    },
    {
     "data": {
      "application/vnd.jupyter.widget-view+json": {
       "model_id": "e4abe2f4b3b0454e84fb05ebd67bbfe4",
       "version_major": 2,
       "version_minor": 0
      },
      "text/plain": [
       "Running episodes:   0%|          | 0/10 [00:00<?, ?it/s]"
      ]
     },
     "metadata": {},
     "output_type": "display_data"
    },
    {
     "data": {
      "application/vnd.jupyter.widget-view+json": {
       "model_id": "5935d066a7594f6d97070aed49020ce0",
       "version_major": 2,
       "version_minor": 0
      },
      "text/plain": [
       "Running episodes:   0%|          | 0/10 [00:00<?, ?it/s]"
      ]
     },
     "metadata": {},
     "output_type": "display_data"
    },
    {
     "data": {
      "application/vnd.jupyter.widget-view+json": {
       "model_id": "fa207c85f265473e96712b7f070148e6",
       "version_major": 2,
       "version_minor": 0
      },
      "text/plain": [
       "Running episodes:   0%|          | 0/10 [00:00<?, ?it/s]"
      ]
     },
     "metadata": {},
     "output_type": "display_data"
    },
    {
     "data": {
      "application/vnd.jupyter.widget-view+json": {
       "model_id": "35936a4f4c6d40bd93c8949eb5dcdf66",
       "version_major": 2,
       "version_minor": 0
      },
      "text/plain": [
       "Running episodes:   0%|          | 0/10 [00:00<?, ?it/s]"
      ]
     },
     "metadata": {},
     "output_type": "display_data"
    },
    {
     "data": {
      "application/vnd.jupyter.widget-view+json": {
       "model_id": "a6b397088d3e4b8a80474fe6532069b0",
       "version_major": 2,
       "version_minor": 0
      },
      "text/plain": [
       "Running episodes:   0%|          | 0/10 [00:00<?, ?it/s]"
      ]
     },
     "metadata": {},
     "output_type": "display_data"
    },
    {
     "data": {
      "application/vnd.jupyter.widget-view+json": {
       "model_id": "c53491694f5644569edc8e69e64ecc4e",
       "version_major": 2,
       "version_minor": 0
      },
      "text/plain": [
       "Running episodes:   0%|          | 0/10 [00:00<?, ?it/s]"
      ]
     },
     "metadata": {},
     "output_type": "display_data"
    },
    {
     "data": {
      "application/vnd.jupyter.widget-view+json": {
       "model_id": "2ab715d79055426f8e3c5f6b8230d1db",
       "version_major": 2,
       "version_minor": 0
      },
      "text/plain": [
       "Running episodes:   0%|          | 0/10 [00:00<?, ?it/s]"
      ]
     },
     "metadata": {},
     "output_type": "display_data"
    },
    {
     "data": {
      "application/vnd.jupyter.widget-view+json": {
       "model_id": "bfcf550541b8478087bd6f78603b84fb",
       "version_major": 2,
       "version_minor": 0
      },
      "text/plain": [
       "Running episodes:   0%|          | 0/10 [00:00<?, ?it/s]"
      ]
     },
     "metadata": {},
     "output_type": "display_data"
    },
    {
     "data": {
      "application/vnd.jupyter.widget-view+json": {
       "model_id": "6ef7ee76dbb14f70acb4ac88449b9ca9",
       "version_major": 2,
       "version_minor": 0
      },
      "text/plain": [
       "Running episodes:   0%|          | 0/10 [00:00<?, ?it/s]"
      ]
     },
     "metadata": {},
     "output_type": "display_data"
    },
    {
     "data": {
      "application/vnd.jupyter.widget-view+json": {
       "model_id": "5035efb375ab45e29af46fd33b983149",
       "version_major": 2,
       "version_minor": 0
      },
      "text/plain": [
       "Running episodes:   0%|          | 0/10 [00:00<?, ?it/s]"
      ]
     },
     "metadata": {},
     "output_type": "display_data"
    },
    {
     "data": {
      "application/vnd.jupyter.widget-view+json": {
       "model_id": "cda2aecb6f3b4c4b8eb63ce6b8eef727",
       "version_major": 2,
       "version_minor": 0
      },
      "text/plain": [
       "Running episodes:   0%|          | 0/10 [00:00<?, ?it/s]"
      ]
     },
     "metadata": {},
     "output_type": "display_data"
    },
    {
     "data": {
      "application/vnd.jupyter.widget-view+json": {
       "model_id": "8439d04a402c4621a4a711ce46de3fe2",
       "version_major": 2,
       "version_minor": 0
      },
      "text/plain": [
       "Running episodes:   0%|          | 0/10 [00:00<?, ?it/s]"
      ]
     },
     "metadata": {},
     "output_type": "display_data"
    },
    {
     "data": {
      "application/vnd.jupyter.widget-view+json": {
       "model_id": "e417f0af4b2542d2964e537a9c2f7c07",
       "version_major": 2,
       "version_minor": 0
      },
      "text/plain": [
       "Running episodes:   0%|          | 0/10 [00:00<?, ?it/s]"
      ]
     },
     "metadata": {},
     "output_type": "display_data"
    },
    {
     "data": {
      "application/vnd.jupyter.widget-view+json": {
       "model_id": "9132cf7175aa490280b22407bcffc994",
       "version_major": 2,
       "version_minor": 0
      },
      "text/plain": [
       "Running episodes:   0%|          | 0/10 [00:00<?, ?it/s]"
      ]
     },
     "metadata": {},
     "output_type": "display_data"
    },
    {
     "data": {
      "application/vnd.jupyter.widget-view+json": {
       "model_id": "f38dd457359e4e95946e9e7caa0714f9",
       "version_major": 2,
       "version_minor": 0
      },
      "text/plain": [
       "Running configurations for random:   0%|          | 0/20 [00:00<?, ?it/s]"
      ]
     },
     "metadata": {},
     "output_type": "display_data"
    },
    {
     "data": {
      "application/vnd.jupyter.widget-view+json": {
       "model_id": "c2be2054250848318a84c37e6b155c7b",
       "version_major": 2,
       "version_minor": 0
      },
      "text/plain": [
       "Running episodes:   0%|          | 0/10 [00:00<?, ?it/s]"
      ]
     },
     "metadata": {},
     "output_type": "display_data"
    },
    {
     "data": {
      "application/vnd.jupyter.widget-view+json": {
       "model_id": "51b9484105924fc1994893baf8f78763",
       "version_major": 2,
       "version_minor": 0
      },
      "text/plain": [
       "Running episodes:   0%|          | 0/10 [00:00<?, ?it/s]"
      ]
     },
     "metadata": {},
     "output_type": "display_data"
    },
    {
     "data": {
      "application/vnd.jupyter.widget-view+json": {
       "model_id": "76ff3efdd37f42bc8b32cb410b07839e",
       "version_major": 2,
       "version_minor": 0
      },
      "text/plain": [
       "Running episodes:   0%|          | 0/10 [00:00<?, ?it/s]"
      ]
     },
     "metadata": {},
     "output_type": "display_data"
    },
    {
     "data": {
      "application/vnd.jupyter.widget-view+json": {
       "model_id": "83ae9eae608c4dac8e902bb9788c9d64",
       "version_major": 2,
       "version_minor": 0
      },
      "text/plain": [
       "Running episodes:   0%|          | 0/10 [00:00<?, ?it/s]"
      ]
     },
     "metadata": {},
     "output_type": "display_data"
    },
    {
     "data": {
      "application/vnd.jupyter.widget-view+json": {
       "model_id": "7849f86872cd4a81bc1ec682e3d5fff4",
       "version_major": 2,
       "version_minor": 0
      },
      "text/plain": [
       "Running episodes:   0%|          | 0/10 [00:00<?, ?it/s]"
      ]
     },
     "metadata": {},
     "output_type": "display_data"
    },
    {
     "data": {
      "application/vnd.jupyter.widget-view+json": {
       "model_id": "1c5263efdc724e6aad1265ee2b7e5a3c",
       "version_major": 2,
       "version_minor": 0
      },
      "text/plain": [
       "Running episodes:   0%|          | 0/10 [00:00<?, ?it/s]"
      ]
     },
     "metadata": {},
     "output_type": "display_data"
    },
    {
     "data": {
      "application/vnd.jupyter.widget-view+json": {
       "model_id": "a719d2cc303044018640d8767be80b86",
       "version_major": 2,
       "version_minor": 0
      },
      "text/plain": [
       "Running episodes:   0%|          | 0/10 [00:00<?, ?it/s]"
      ]
     },
     "metadata": {},
     "output_type": "display_data"
    },
    {
     "data": {
      "application/vnd.jupyter.widget-view+json": {
       "model_id": "324d8fe8da8f46baa4d180ce93f4ab6c",
       "version_major": 2,
       "version_minor": 0
      },
      "text/plain": [
       "Running episodes:   0%|          | 0/10 [00:00<?, ?it/s]"
      ]
     },
     "metadata": {},
     "output_type": "display_data"
    },
    {
     "data": {
      "application/vnd.jupyter.widget-view+json": {
       "model_id": "1cd1326509ce4985b97babc836283a23",
       "version_major": 2,
       "version_minor": 0
      },
      "text/plain": [
       "Running episodes:   0%|          | 0/10 [00:00<?, ?it/s]"
      ]
     },
     "metadata": {},
     "output_type": "display_data"
    },
    {
     "data": {
      "application/vnd.jupyter.widget-view+json": {
       "model_id": "dc376f51a9cb49719fcffd3b9631cb7b",
       "version_major": 2,
       "version_minor": 0
      },
      "text/plain": [
       "Running episodes:   0%|          | 0/10 [00:00<?, ?it/s]"
      ]
     },
     "metadata": {},
     "output_type": "display_data"
    },
    {
     "data": {
      "application/vnd.jupyter.widget-view+json": {
       "model_id": "516dc6fc0ab148e093ec887429d32647",
       "version_major": 2,
       "version_minor": 0
      },
      "text/plain": [
       "Running episodes:   0%|          | 0/10 [00:00<?, ?it/s]"
      ]
     },
     "metadata": {},
     "output_type": "display_data"
    },
    {
     "data": {
      "application/vnd.jupyter.widget-view+json": {
       "model_id": "cd12cf36b6cb477bab14ec494362610d",
       "version_major": 2,
       "version_minor": 0
      },
      "text/plain": [
       "Running episodes:   0%|          | 0/10 [00:00<?, ?it/s]"
      ]
     },
     "metadata": {},
     "output_type": "display_data"
    },
    {
     "data": {
      "application/vnd.jupyter.widget-view+json": {
       "model_id": "7b9534f26c594cb2a7fe29afcfadf715",
       "version_major": 2,
       "version_minor": 0
      },
      "text/plain": [
       "Running episodes:   0%|          | 0/10 [00:00<?, ?it/s]"
      ]
     },
     "metadata": {},
     "output_type": "display_data"
    },
    {
     "data": {
      "application/vnd.jupyter.widget-view+json": {
       "model_id": "ae9138bf54964e27a8cfdcd06561b06f",
       "version_major": 2,
       "version_minor": 0
      },
      "text/plain": [
       "Running episodes:   0%|          | 0/10 [00:00<?, ?it/s]"
      ]
     },
     "metadata": {},
     "output_type": "display_data"
    },
    {
     "data": {
      "application/vnd.jupyter.widget-view+json": {
       "model_id": "b192d15c83d448518488ea58ce98b513",
       "version_major": 2,
       "version_minor": 0
      },
      "text/plain": [
       "Running episodes:   0%|          | 0/10 [00:00<?, ?it/s]"
      ]
     },
     "metadata": {},
     "output_type": "display_data"
    },
    {
     "data": {
      "application/vnd.jupyter.widget-view+json": {
       "model_id": "224589d53f374ae69ef631f3cd38fcdc",
       "version_major": 2,
       "version_minor": 0
      },
      "text/plain": [
       "Running episodes:   0%|          | 0/10 [00:00<?, ?it/s]"
      ]
     },
     "metadata": {},
     "output_type": "display_data"
    },
    {
     "data": {
      "application/vnd.jupyter.widget-view+json": {
       "model_id": "7f06a56498c341dc9eb94ac4386f00a3",
       "version_major": 2,
       "version_minor": 0
      },
      "text/plain": [
       "Running episodes:   0%|          | 0/10 [00:00<?, ?it/s]"
      ]
     },
     "metadata": {},
     "output_type": "display_data"
    },
    {
     "data": {
      "application/vnd.jupyter.widget-view+json": {
       "model_id": "a6db609673f8494ba0adb08d567b49a3",
       "version_major": 2,
       "version_minor": 0
      },
      "text/plain": [
       "Running episodes:   0%|          | 0/10 [00:00<?, ?it/s]"
      ]
     },
     "metadata": {},
     "output_type": "display_data"
    },
    {
     "data": {
      "application/vnd.jupyter.widget-view+json": {
       "model_id": "605413082e664c8bb7f212bf372988bb",
       "version_major": 2,
       "version_minor": 0
      },
      "text/plain": [
       "Running episodes:   0%|          | 0/10 [00:00<?, ?it/s]"
      ]
     },
     "metadata": {},
     "output_type": "display_data"
    },
    {
     "data": {
      "application/vnd.jupyter.widget-view+json": {
       "model_id": "0ac38feaf87a487ebf0b1334b5e220e4",
       "version_major": 2,
       "version_minor": 0
      },
      "text/plain": [
       "Running episodes:   0%|          | 0/10 [00:00<?, ?it/s]"
      ]
     },
     "metadata": {},
     "output_type": "display_data"
    }
   ],
   "source": [
    "index_gen = AlternationIndex(\n",
    "    num_points=20,\n",
    "    num_episodes=20,\n",
    "    max_agents=8,\n",
    "    max_epsilon=0.01,\n",
    "    seed=42\n",
    ")\n",
    "df = index_gen.simulate_data()"
   ]
  },
  {
   "cell_type": "code",
   "execution_count": 7,
   "id": "af379e0b",
   "metadata": {},
   "outputs": [],
   "source": [
    "index_gen = AlternationIndex.from_file(priority='sklearn')\n",
    "df['alternation_index'] = index_gen(df)\n",
    "df['alternation'] = df['alternation_index'].apply(lambda x: 1 if x > index_gen.alternation_threshold else 0)"
   ]
  },
  {
   "cell_type": "code",
   "execution_count": null,
   "id": "ff079bc4",
   "metadata": {},
   "outputs": [
    {
     "data": {
      "image/png": "[encoded data removed]",
      "text/plain": [
       "<Figure size 800x400 with 2 Axes>"
      ]
     },
     "metadata": {},
     "output_type": "display_data"
    }
   ],
   "source": [
    "fig, ax = plt.subplots(\n",
    "    1, 2, tight_layout=True,\n",
    "    figsize=(8, 4)\n",
    ")\n",
    "\n",
    "sns.scatterplot(\n",
    "    x='inequality', y='bounded_efficiency',\n",
    "    data=df, hue='data_type',\n",
    "    hue_order=['alternation', 'segmentation', 'random'],\n",
    "    ax=ax[0], palette='icefire'\n",
    ")\n",
    "\n",
    "ax[0].set_title('Efficiency vs. Inequality')\n",
    "ax[0].set_xlabel('Inequality')\n",
    "ax[0].set_ylabel('Efficiency')\n",
    "ax[0].legend(title='Type')\n",
    "ax[0].grid()\n",
    "\n",
    "sns.violinplot(\n",
    "    x='data_type', y='alternation_index',\n",
    "    data=df, hue='data_type',\n",
    "    hue_order=['alternation', 'segmentation', 'random'],\n",
    "    ax=ax[1], palette='icefire'\n",
    ")\n",
    "ax[1].set_title('Alternation Index')\n",
    "ax[1].set_xlabel('Type')\n",
    "ax[1].set_ylabel('Alternation Index')\n",
    "ax[1].grid()\n"
   ]
  },
  {
   "cell_type": "code",
   "execution_count": null,
   "id": "97fc199d",
   "metadata": {},
   "outputs": [],
   "source": [
    "fig.savefig(PATHS['figures_for_paper'] / 'Figure6.png', dpi=300)"
   ]
  },
  {
   "cell_type": "markdown",
   "id": "3b91ca37",
   "metadata": {},
   "source": [
    "---"
   ]
  }
 ],
 "metadata": {
  "kernelspec": {
   "display_name": "Python 3 (ipykernel)",
   "language": "python",
   "name": "python3"
  },
  "language_info": {
   "codemirror_mode": {
    "name": "ipython",
    "version": 3
   },
   "file_extension": ".py",
   "mimetype": "text/x-python",
   "name": "python",
   "nbconvert_exporter": "python",
   "pygments_lexer": "ipython3",
   "version": "3.13.3"
  }
 },
 "nbformat": 4,
 "nbformat_minor": 5
}
