{
 "cells": [
  {
   "cell_type": "markdown",
   "metadata": {},
   "source": [
    "# Win-Stay Lose-Shift"
   ]
  },
  {
   "cell_type": "code",
   "execution_count": 1,
   "metadata": {},
   "outputs": [],
   "source": [
    "import sys\n",
    "sys.path.append(\"../src/\")\n",
    "\n",
    "import warnings\n",
    "warnings.filterwarnings(\"ignore\")"
   ]
  },
  {
   "cell_type": "code",
   "execution_count": 5,
   "metadata": {},
   "outputs": [],
   "source": [
    "from Classes.cognitive_model_agents import WSLSM1, WSLSM2, WSLSM3\n",
    "from Utils.unit_tests import (\n",
    "    test_bar_is_full, \n",
    "    test_bar_has_capacity,\n",
    "    test_alternation\n",
    ")\n",
    "\n",
    "# MODEL = WSLSM1\n",
    "MODEL = WSLSM2\n",
    "# MODEL = WSLSM3"
   ]
  },
  {
   "cell_type": "code",
   "execution_count": 6,
   "metadata": {},
   "outputs": [],
   "source": [
    "fixed_parameters = {\n",
    "\t\"threshold\":0.5,\n",
    "\t\"num_agents\":2,\n",
    "}\n",
    "free_parameters = {\n",
    "\t'inverse_temperature':10,\n",
    "\t'wsls_strength':1,\n",
    "    'heuristic_strength':0.5,\n",
    "}"
   ]
  },
  {
   "cell_type": "code",
   "execution_count": 4,
   "metadata": {},
   "outputs": [
    {
     "name": "stdout",
     "output_type": "stream",
     "text": [
      "\n",
      "------------------------------------------------------------\n",
      "Test bar has capacity\n",
      "------------------------------------------------------------\n",
      "Initial state: [0, 0]\n",
      "---------- Round 0 ----------\n",
      "Previous state: 0\n",
      "Average payoff in previous state: 0\n",
      "go_preference = 0\n",
      "Action preferences in state (0, 0): [0, 0]\n",
      "Previous state: 0\n",
      "Average payoff in previous state: 0\n",
      "go_preference = 0\n",
      "Action probabilities:\n",
      "no go:0.5 ---- go:0.5\n",
      "Chosen action: 0\n",
      "State arrived: [0, 0]\n",
      "Payoff action 0: 0\n",
      "I see the previous state: 0\n",
      "I recall the following average payoff:\n",
      "0.0\n",
      "---------- Round 1 ----------\n",
      "Previous state: 0\n",
      "Average payoff in previous state: 0.0\n",
      "go_preference = 0\n",
      "Action preferences in state [0, 0]: [0, 0]\n",
      "Previous state: 0\n",
      "Average payoff in previous state: 0.0\n",
      "go_preference = 0\n",
      "Action probabilities:\n",
      "no go:0.5 ---- go:0.5\n",
      "Chosen action: 1\n",
      "State arrived: [1, 0]\n",
      "Payoff action 1: 1\n",
      "I see the previous state: 0\n",
      "I recall the following average payoff:\n",
      "0.5\n",
      "---------- Round 2 ----------\n",
      "Previous state: 0\n",
      "Average payoff in previous state: 0.5\n",
      "go_preference = 1\n",
      "Action preferences in state [1, 0]: [0, 1]\n",
      "Previous state: 0\n",
      "Average payoff in previous state: 0.5\n",
      "go_preference = 1\n",
      "Action probabilities:\n",
      "no go:4.5397868702434395e-05 ---- go:0.9999546021312975\n",
      "Chosen action: 1\n",
      "State arrived: [1, 0]\n",
      "Payoff action 1: 1\n",
      "I see the previous state: 0\n",
      "I recall the following average payoff:\n",
      "0.75\n",
      "---------- Round 3 ----------\n",
      "Previous state: 0\n",
      "Average payoff in previous state: 0.75\n",
      "go_preference = 1\n",
      "Action preferences in state [1, 0]: [0, 1]\n",
      "Previous state: 0\n",
      "Average payoff in previous state: 0.75\n",
      "go_preference = 1\n",
      "Action probabilities:\n",
      "no go:4.5397868702434395e-05 ---- go:0.9999546021312975\n",
      "Chosen action: 1\n",
      "State arrived: [1, 0]\n",
      "Payoff action 1: 1\n",
      "I see the previous state: 0\n",
      "I recall the following average payoff:\n",
      "0.875\n",
      "---------- Round 4 ----------\n",
      "Previous state: 0\n",
      "Average payoff in previous state: 0.875\n",
      "go_preference = 1\n",
      "Action preferences in state [1, 0]: [0, 1]\n",
      "Previous state: 0\n",
      "Average payoff in previous state: 0.875\n",
      "go_preference = 1\n",
      "Action probabilities:\n",
      "no go:4.5397868702434395e-05 ---- go:0.9999546021312975\n",
      "Chosen action: 1\n",
      "State arrived: [1, 0]\n",
      "Payoff action 1: 1\n",
      "I see the previous state: 0\n",
      "I recall the following average payoff:\n",
      "0.9375\n",
      "---------- Round 5 ----------\n",
      "Previous state: 0\n",
      "Average payoff in previous state: 0.9375\n",
      "go_preference = 1\n",
      "Action preferences in state [1, 0]: [0, 1]\n",
      "Previous state: 0\n",
      "Average payoff in previous state: 0.9375\n",
      "go_preference = 1\n",
      "Action probabilities:\n",
      "no go:4.5397868702434395e-05 ---- go:0.9999546021312975\n",
      "Chosen action: 1\n",
      "State arrived: [1, 0]\n",
      "Payoff action 1: 1\n",
      "I see the previous state: 0\n",
      "I recall the following average payoff:\n",
      "0.96875\n",
      "---------- Round 6 ----------\n",
      "Previous state: 0\n",
      "Average payoff in previous state: 0.96875\n",
      "go_preference = 1\n",
      "Action preferences in state [1, 0]: [0, 1]\n",
      "Previous state: 0\n",
      "Average payoff in previous state: 0.96875\n",
      "go_preference = 1\n",
      "Action probabilities:\n",
      "no go:4.5397868702434395e-05 ---- go:0.9999546021312975\n",
      "Chosen action: 1\n",
      "State arrived: [1, 0]\n",
      "Payoff action 1: 1\n",
      "I see the previous state: 0\n",
      "I recall the following average payoff:\n",
      "0.984375\n",
      "---------- Round 7 ----------\n",
      "Previous state: 0\n",
      "Average payoff in previous state: 0.984375\n",
      "go_preference = 1\n",
      "Action preferences in state [1, 0]: [0, 1]\n",
      "Previous state: 0\n",
      "Average payoff in previous state: 0.984375\n",
      "go_preference = 1\n",
      "Action probabilities:\n",
      "no go:4.5397868702434395e-05 ---- go:0.9999546021312975\n",
      "Chosen action: 1\n",
      "State arrived: [1, 0]\n",
      "Payoff action 1: 1\n",
      "I see the previous state: 0\n",
      "I recall the following average payoff:\n",
      "0.9921875\n",
      "---------- Round 8 ----------\n",
      "Previous state: 0\n",
      "Average payoff in previous state: 0.9921875\n",
      "go_preference = 1\n",
      "Action preferences in state [1, 0]: [0, 1]\n",
      "Previous state: 0\n",
      "Average payoff in previous state: 0.9921875\n",
      "go_preference = 1\n",
      "Action probabilities:\n",
      "no go:4.5397868702434395e-05 ---- go:0.9999546021312975\n",
      "Chosen action: 1\n",
      "State arrived: [1, 0]\n",
      "Payoff action 1: 1\n",
      "I see the previous state: 0\n",
      "I recall the following average payoff:\n",
      "0.99609375\n",
      "---------- Round 9 ----------\n",
      "Previous state: 0\n",
      "Average payoff in previous state: 0.99609375\n",
      "go_preference = 1\n",
      "Action preferences in state [1, 0]: [0, 1]\n",
      "Previous state: 0\n",
      "Average payoff in previous state: 0.99609375\n",
      "go_preference = 1\n",
      "Action probabilities:\n",
      "no go:4.5397868702434395e-05 ---- go:0.9999546021312975\n",
      "Chosen action: 1\n",
      "State arrived: [1, 0]\n",
      "Payoff action 1: 1\n",
      "I see the previous state: 0\n",
      "I recall the following average payoff:\n",
      "0.998046875\n"
     ]
    }
   ],
   "source": [
    "agent = MODEL(\n",
    "\tfixed_parameters=fixed_parameters,\n",
    "\tfree_parameters=free_parameters,\n",
    "\tn=0\n",
    ")\n",
    "agent.debug = True\n",
    "test_bar_has_capacity(agent)"
   ]
  },
  {
   "cell_type": "code",
   "execution_count": 5,
   "metadata": {},
   "outputs": [
    {
     "name": "stdout",
     "output_type": "stream",
     "text": [
      "\n",
      "------------------------------------------------------------\n",
      "Test bar is full\n",
      "------------------------------------------------------------\n",
      "Initial state: [1, 1]\n",
      "---------- Round 0 ----------\n",
      "Previous state: (1, 1)\n",
      "Average payoff in previous state: 0\n",
      "go_preference = 0\n",
      "Action preferences in state (1, 1): [0, 0]\n",
      "Previous state: (1, 1)\n",
      "Average payoff in previous state: 0\n",
      "go_preference = 0\n",
      "Action probabilities:\n",
      "no go:0.5 ---- go:0.5\n",
      "Chosen action: 0\n",
      "State arrived: [0, 1]\n",
      "Payoff action 0: 0\n",
      "I see the previous state: (1, 1)\n",
      "I recall the following average payoff:\n",
      "0.0\n",
      "---------- Round 1 ----------\n",
      "Previous state: (0, 1)\n",
      "Average payoff in previous state: 0\n",
      "go_preference = 0\n",
      "Action preferences in state [0, 1]: [0, 0]\n",
      "Previous state: (0, 1)\n",
      "Average payoff in previous state: 0\n",
      "go_preference = 0\n",
      "Action probabilities:\n",
      "no go:0.5 ---- go:0.5\n",
      "Chosen action: 0\n",
      "State arrived: [0, 1]\n",
      "Payoff action 0: 0\n",
      "I see the previous state: (0, 1)\n",
      "I recall the following average payoff:\n",
      "0.0\n",
      "---------- Round 2 ----------\n",
      "Previous state: (0, 1)\n",
      "Average payoff in previous state: 0.0\n",
      "go_preference = 0\n",
      "Action preferences in state [0, 1]: [0, 0]\n",
      "Previous state: (0, 1)\n",
      "Average payoff in previous state: 0.0\n",
      "go_preference = 0\n",
      "Action probabilities:\n",
      "no go:0.5 ---- go:0.5\n",
      "Chosen action: 0\n",
      "State arrived: [0, 1]\n",
      "Payoff action 0: 0\n",
      "I see the previous state: (0, 1)\n",
      "I recall the following average payoff:\n",
      "0.0\n",
      "---------- Round 3 ----------\n",
      "Previous state: (0, 1)\n",
      "Average payoff in previous state: 0.0\n",
      "go_preference = 0\n",
      "Action preferences in state [0, 1]: [0, 0]\n",
      "Previous state: (0, 1)\n",
      "Average payoff in previous state: 0.0\n",
      "go_preference = 0\n",
      "Action probabilities:\n",
      "no go:0.5 ---- go:0.5\n",
      "Chosen action: 0\n",
      "State arrived: [0, 1]\n",
      "Payoff action 0: 0\n",
      "I see the previous state: (0, 1)\n",
      "I recall the following average payoff:\n",
      "0.0\n",
      "---------- Round 4 ----------\n",
      "Previous state: (0, 1)\n",
      "Average payoff in previous state: 0.0\n",
      "go_preference = 0\n",
      "Action preferences in state [0, 1]: [0, 0]\n",
      "Previous state: (0, 1)\n",
      "Average payoff in previous state: 0.0\n",
      "go_preference = 0\n",
      "Action probabilities:\n",
      "no go:0.5 ---- go:0.5\n",
      "Chosen action: 0\n",
      "State arrived: [0, 1]\n",
      "Payoff action 0: 0\n",
      "I see the previous state: (0, 1)\n",
      "I recall the following average payoff:\n",
      "0.0\n",
      "---------- Round 5 ----------\n",
      "Previous state: (0, 1)\n",
      "Average payoff in previous state: 0.0\n",
      "go_preference = 0\n",
      "Action preferences in state [0, 1]: [0, 0]\n",
      "Previous state: (0, 1)\n",
      "Average payoff in previous state: 0.0\n",
      "go_preference = 0\n",
      "Action probabilities:\n",
      "no go:0.5 ---- go:0.5\n",
      "Chosen action: 1\n",
      "State arrived: [1, 1]\n",
      "Payoff action 1: -1\n",
      "I see the previous state: (0, 1)\n",
      "I recall the following average payoff:\n",
      "-0.5\n",
      "---------- Round 6 ----------\n",
      "Previous state: (1, 1)\n",
      "Average payoff in previous state: 0.0\n",
      "go_preference = 0\n",
      "Action preferences in state [1, 1]: [0, 0]\n",
      "Previous state: (1, 1)\n",
      "Average payoff in previous state: 0.0\n",
      "go_preference = 0\n",
      "Action probabilities:\n",
      "no go:0.5 ---- go:0.5\n",
      "Chosen action: 1\n",
      "State arrived: [1, 1]\n",
      "Payoff action 1: -1\n",
      "I see the previous state: (1, 1)\n",
      "I recall the following average payoff:\n",
      "-0.5\n",
      "---------- Round 7 ----------\n",
      "Previous state: (1, 1)\n",
      "Average payoff in previous state: -0.5\n",
      "go_preference = 0\n",
      "Action preferences in state [1, 1]: [1, 0]\n",
      "Previous state: (1, 1)\n",
      "Average payoff in previous state: -0.5\n",
      "go_preference = 0\n",
      "Action probabilities:\n",
      "no go:0.9999546021312975 ---- go:4.5397868702434395e-05\n",
      "Chosen action: 0\n",
      "State arrived: [0, 1]\n",
      "Payoff action 0: 0\n",
      "I see the previous state: (1, 1)\n",
      "I recall the following average payoff:\n",
      "-0.25\n",
      "---------- Round 8 ----------\n",
      "Previous state: (0, 1)\n",
      "Average payoff in previous state: -0.5\n",
      "go_preference = 0\n",
      "Action preferences in state [0, 1]: [1, 0]\n",
      "Previous state: (0, 1)\n",
      "Average payoff in previous state: -0.5\n",
      "go_preference = 0\n",
      "Action probabilities:\n",
      "no go:0.9999546021312975 ---- go:4.5397868702434395e-05\n",
      "Chosen action: 0\n",
      "State arrived: [0, 1]\n",
      "Payoff action 0: 0\n",
      "I see the previous state: (0, 1)\n",
      "I recall the following average payoff:\n",
      "-0.25\n",
      "---------- Round 9 ----------\n",
      "Previous state: (0, 1)\n",
      "Average payoff in previous state: -0.25\n",
      "go_preference = 0\n",
      "Action preferences in state [0, 1]: [1, 0]\n",
      "Previous state: (0, 1)\n",
      "Average payoff in previous state: -0.25\n",
      "go_preference = 0\n",
      "Action probabilities:\n",
      "no go:0.9999546021312975 ---- go:4.5397868702434395e-05\n",
      "Chosen action: 0\n",
      "State arrived: [0, 1]\n",
      "Payoff action 0: 0\n",
      "I see the previous state: (0, 1)\n",
      "I recall the following average payoff:\n",
      "-0.125\n"
     ]
    }
   ],
   "source": [
    "agent = MODEL(\n",
    "\tfixed_parameters=fixed_parameters,\n",
    "\tfree_parameters=free_parameters,\n",
    "\tn=0\n",
    ")\n",
    "agent.debug = True\n",
    "test_bar_is_full(agent)"
   ]
  },
  {
   "cell_type": "code",
   "execution_count": 6,
   "metadata": {},
   "outputs": [
    {
     "name": "stdout",
     "output_type": "stream",
     "text": [
      "\n",
      "------------------------------------------------------------\n",
      "Test other player alternates\n",
      "------------------------------------------------------------\n",
      "Initial state: [0, 0]\n",
      "---------- Round 0 ----------\n",
      "Previous state: (0, 0)\n",
      "Average payoff in previous state: 0\n",
      "go_preference = 0\n",
      "Action preferences in state (0, 0): [0, 0]\n",
      "Previous state: (0, 0)\n",
      "Average payoff in previous state: 0\n",
      "go_preference = 0\n",
      "Action probabilities:\n",
      "no go:0.5 ---- go:0.5\n",
      "Chosen action: 0\n",
      "State arrived: [0, 0]\n",
      "Payoff action 0: 0\n",
      "I see the previous state: (0, 0)\n",
      "I recall the following average payoff:\n",
      "0.0\n",
      "---------- Round 1 ----------\n",
      "Previous state: (0, 0)\n",
      "Average payoff in previous state: 0.0\n",
      "go_preference = 0\n",
      "Action preferences in state [0, 0]: [0, 0]\n",
      "Previous state: (0, 0)\n",
      "Average payoff in previous state: 0.0\n",
      "go_preference = 0\n",
      "Action probabilities:\n",
      "no go:0.5 ---- go:0.5\n",
      "Chosen action: 1\n",
      "State arrived: [1, 1]\n",
      "Payoff action 1: -1\n",
      "I see the previous state: (0, 0)\n",
      "I recall the following average payoff:\n",
      "-0.5\n",
      "---------- Round 2 ----------\n",
      "Previous state: (1, 1)\n",
      "Average payoff in previous state: 0\n",
      "go_preference = 0\n",
      "Action preferences in state [1, 1]: [0, 0]\n",
      "Previous state: (1, 1)\n",
      "Average payoff in previous state: 0\n",
      "go_preference = 0\n",
      "Action probabilities:\n",
      "no go:0.5 ---- go:0.5\n",
      "Chosen action: 1\n",
      "State arrived: [1, 0]\n",
      "Payoff action 1: 1\n",
      "I see the previous state: (1, 1)\n",
      "I recall the following average payoff:\n",
      "0.5\n",
      "---------- Round 3 ----------\n",
      "Previous state: (1, 0)\n",
      "Average payoff in previous state: 0\n",
      "go_preference = 0\n",
      "Action preferences in state [1, 0]: [0, 0]\n",
      "Previous state: (1, 0)\n",
      "Average payoff in previous state: 0\n",
      "go_preference = 0\n",
      "Action probabilities:\n",
      "no go:0.5 ---- go:0.5\n",
      "Chosen action: 1\n",
      "State arrived: [1, 1]\n",
      "Payoff action 1: -1\n",
      "I see the previous state: (1, 0)\n",
      "I recall the following average payoff:\n",
      "-0.5\n",
      "---------- Round 4 ----------\n",
      "Previous state: (1, 1)\n",
      "Average payoff in previous state: 0.5\n",
      "go_preference = 1\n",
      "Action preferences in state [1, 1]: [0, 1]\n",
      "Previous state: (1, 1)\n",
      "Average payoff in previous state: 0.5\n",
      "go_preference = 1\n",
      "Action probabilities:\n",
      "no go:4.5397868702434395e-05 ---- go:0.9999546021312975\n",
      "Chosen action: 1\n",
      "State arrived: [1, 0]\n",
      "Payoff action 1: 1\n",
      "I see the previous state: (1, 1)\n",
      "I recall the following average payoff:\n",
      "0.75\n",
      "---------- Round 5 ----------\n",
      "Previous state: (1, 0)\n",
      "Average payoff in previous state: -0.5\n",
      "go_preference = 0\n",
      "Action preferences in state [1, 0]: [1, 0]\n",
      "Previous state: (1, 0)\n",
      "Average payoff in previous state: -0.5\n",
      "go_preference = 0\n",
      "Action probabilities:\n",
      "no go:0.9999546021312975 ---- go:4.5397868702434395e-05\n",
      "Chosen action: 0\n",
      "State arrived: [0, 1]\n",
      "Payoff action 0: 0\n",
      "I see the previous state: (1, 0)\n",
      "I recall the following average payoff:\n",
      "-0.25\n",
      "---------- Round 6 ----------\n",
      "Previous state: (0, 1)\n",
      "Average payoff in previous state: 0\n",
      "go_preference = 0\n",
      "Action preferences in state [0, 1]: [0, 0]\n",
      "Previous state: (0, 1)\n",
      "Average payoff in previous state: 0\n",
      "go_preference = 0\n",
      "Action probabilities:\n",
      "no go:0.5 ---- go:0.5\n",
      "Chosen action: 1\n",
      "State arrived: [1, 0]\n",
      "Payoff action 1: 1\n",
      "I see the previous state: (0, 1)\n",
      "I recall the following average payoff:\n",
      "0.5\n",
      "---------- Round 7 ----------\n",
      "Previous state: (1, 0)\n",
      "Average payoff in previous state: -0.25\n",
      "go_preference = 0\n",
      "Action preferences in state [1, 0]: [1, 0]\n",
      "Previous state: (1, 0)\n",
      "Average payoff in previous state: -0.25\n",
      "go_preference = 0\n",
      "Action probabilities:\n",
      "no go:0.9999546021312975 ---- go:4.5397868702434395e-05\n",
      "Chosen action: 0\n",
      "State arrived: [0, 1]\n",
      "Payoff action 0: 0\n",
      "I see the previous state: (1, 0)\n",
      "I recall the following average payoff:\n",
      "-0.125\n",
      "---------- Round 8 ----------\n",
      "Previous state: (0, 1)\n",
      "Average payoff in previous state: 0.5\n",
      "go_preference = 1\n",
      "Action preferences in state [0, 1]: [0, 1]\n",
      "Previous state: (0, 1)\n",
      "Average payoff in previous state: 0.5\n",
      "go_preference = 1\n",
      "Action probabilities:\n",
      "no go:4.5397868702434395e-05 ---- go:0.9999546021312975\n",
      "Chosen action: 1\n",
      "State arrived: [1, 0]\n",
      "Payoff action 1: 1\n",
      "I see the previous state: (0, 1)\n",
      "I recall the following average payoff:\n",
      "0.75\n",
      "---------- Round 9 ----------\n",
      "Previous state: (1, 0)\n",
      "Average payoff in previous state: -0.125\n",
      "go_preference = 0\n",
      "Action preferences in state [1, 0]: [1, 0]\n",
      "Previous state: (1, 0)\n",
      "Average payoff in previous state: -0.125\n",
      "go_preference = 0\n",
      "Action probabilities:\n",
      "no go:0.9999546021312975 ---- go:4.5397868702434395e-05\n",
      "Chosen action: 0\n",
      "State arrived: [0, 1]\n",
      "Payoff action 0: 0\n",
      "I see the previous state: (1, 0)\n",
      "I recall the following average payoff:\n",
      "-0.0625\n"
     ]
    }
   ],
   "source": [
    "agent = MODEL(\n",
    "\tfixed_parameters=fixed_parameters,\n",
    "\tfree_parameters=free_parameters,\n",
    "\tn=0\n",
    ")\n",
    "agent.debug = True\n",
    "test_alternation(agent)"
   ]
  },
  {
   "cell_type": "code",
   "execution_count": 7,
   "metadata": {},
   "outputs": [],
   "source": [
    "from pathlib import Path\n",
    "\n",
    "folder = MODEL.name().replace('-', '/')\n",
    "image_folder = Path('../images', folder)\n",
    "image_folder.mkdir(parents=True, exist_ok=True)\n",
    "data_folder = Path('../data/', folder)\n",
    "image_folder.mkdir(parents=True, exist_ok=True)\n",
    "\n",
    "fixed_parameters = {\n",
    "\t\"threshold\":0.5,\n",
    "\t\"num_agents\":6,\n",
    "}\n",
    "free_parameters = {\n",
    "\t'inverse_temperature':32,\n",
    "\t'wsls_strength':1,\n",
    "\t'heuristic_strength':0.5,\n",
    "}\n",
    "simulation_parameters = {\n",
    "\t'num_episodes':100,\n",
    "\t'num_rounds':1000,\n",
    "\t'verbose':False\n",
    "}"
   ]
  },
  {
   "cell_type": "code",
   "execution_count": 8,
   "metadata": {},
   "outputs": [
    {
     "data": {
      "application/vnd.jupyter.widget-view+json": {
       "model_id": "8afe7a2604094697bfc29aadb2400168",
       "version_major": 2,
       "version_minor": 0
      },
      "text/plain": [
       "Running models for each heuristic_strength:   0%|          | 0/5 [00:00<?, ?it/s]"
      ]
     },
     "metadata": {},
     "output_type": "display_data"
    },
    {
     "data": {
      "application/vnd.jupyter.widget-view+json": {
       "model_id": "2f530a03dbb74eb98ec4f1c9632f43b6",
       "version_major": 2,
       "version_minor": 0
      },
      "text/plain": [
       "  0%|          | 0/100 [00:00<?, ?it/s]"
      ]
     },
     "metadata": {},
     "output_type": "display_data"
    },
    {
     "data": {
      "application/vnd.jupyter.widget-view+json": {
       "model_id": "0de5f763898b4fb1b9bdc89dcf0ae727",
       "version_major": 2,
       "version_minor": 0
      },
      "text/plain": [
       "  0%|          | 0/100 [00:00<?, ?it/s]"
      ]
     },
     "metadata": {},
     "output_type": "display_data"
    },
    {
     "data": {
      "application/vnd.jupyter.widget-view+json": {
       "model_id": "1a259022b4bb45a28a69e6332f398f24",
       "version_major": 2,
       "version_minor": 0
      },
      "text/plain": [
       "  0%|          | 0/100 [00:00<?, ?it/s]"
      ]
     },
     "metadata": {},
     "output_type": "display_data"
    },
    {
     "data": {
      "application/vnd.jupyter.widget-view+json": {
       "model_id": "4eda3335802d4fa3b4b327c816b4b13c",
       "version_major": 2,
       "version_minor": 0
      },
      "text/plain": [
       "  0%|          | 0/100 [00:00<?, ?it/s]"
      ]
     },
     "metadata": {},
     "output_type": "display_data"
    },
    {
     "data": {
      "application/vnd.jupyter.widget-view+json": {
       "model_id": "3810d0e59c1f444bbd09efb4a562bb59",
       "version_major": 2,
       "version_minor": 0
      },
      "text/plain": [
       "  0%|          | 0/100 [00:00<?, ?it/s]"
      ]
     },
     "metadata": {},
     "output_type": "display_data"
    },
    {
     "name": "stdout",
     "output_type": "stream",
     "text": [
      "Plotting conditional_entropy...\n",
      "Plot saved to ..\\images\\WSLS\\M2\\conditional_entropy_heuristic_strength.png\n",
      "Plotting entropy...\n",
      "Plot saved to ..\\images\\WSLS\\M2\\entropy_heuristic_strength.png\n",
      "Plotting efficiency...\n",
      "Plot saved to ..\\images\\WSLS\\M2\\efficiency_heuristic_strength.png\n",
      "Plotting inequality...\n",
      "Plot saved to ..\\images\\WSLS\\M2\\inequality_heuristic_strength.png\n",
      "Plotting alternation_index...\n",
      "Plot saved to ..\\images\\WSLS\\M2\\alternation_index_heuristic_strength.png\n"
     ]
    }
   ],
   "source": [
    "from Utils.interaction import Performer\n",
    "\n",
    "kwargs = {'figsize': (4, 3)}\n",
    "LaTeX_string = Performer.sweep(\n",
    "    agent_class=MODEL,\n",
    "    fixed_parameters=fixed_parameters,\n",
    "    free_parameters=free_parameters,\n",
    "    simulation_parameters=simulation_parameters,\n",
    "    sweep_parameter='heuristic_strength',\n",
    "    values=[0, 0.25, 0.5, 0.75, 1],\n",
    "    image_folder=image_folder,\n",
    "    measures=['conditional_entropy', 'entropy', 'efficiency', 'inequality', 'alternation_index'],\n",
    "    kwargs=kwargs\n",
    ")"
   ]
  },
  {
   "cell_type": "code",
   "execution_count": 9,
   "metadata": {},
   "outputs": [
    {
     "data": {
      "application/vnd.jupyter.widget-view+json": {
       "model_id": "2206e0949ead4ad5b7c33b9043e33b4c",
       "version_major": 2,
       "version_minor": 0
      },
      "text/plain": [
       "Running models for each wsls_strength:   0%|          | 0/5 [00:00<?, ?it/s]"
      ]
     },
     "metadata": {},
     "output_type": "display_data"
    },
    {
     "data": {
      "application/vnd.jupyter.widget-view+json": {
       "model_id": "4d3ef39dc2714adbbd7912b062daa7fb",
       "version_major": 2,
       "version_minor": 0
      },
      "text/plain": [
       "  0%|          | 0/100 [00:00<?, ?it/s]"
      ]
     },
     "metadata": {},
     "output_type": "display_data"
    },
    {
     "data": {
      "application/vnd.jupyter.widget-view+json": {
       "model_id": "5b8ed030832045508c7973faeb8619ed",
       "version_major": 2,
       "version_minor": 0
      },
      "text/plain": [
       "  0%|          | 0/100 [00:00<?, ?it/s]"
      ]
     },
     "metadata": {},
     "output_type": "display_data"
    },
    {
     "data": {
      "application/vnd.jupyter.widget-view+json": {
       "model_id": "b049650598494f398938f8eb894f79ab",
       "version_major": 2,
       "version_minor": 0
      },
      "text/plain": [
       "  0%|          | 0/100 [00:00<?, ?it/s]"
      ]
     },
     "metadata": {},
     "output_type": "display_data"
    },
    {
     "data": {
      "application/vnd.jupyter.widget-view+json": {
       "model_id": "b10b05c9ca0b4f5b840b8636a38bdda4",
       "version_major": 2,
       "version_minor": 0
      },
      "text/plain": [
       "  0%|          | 0/100 [00:00<?, ?it/s]"
      ]
     },
     "metadata": {},
     "output_type": "display_data"
    },
    {
     "data": {
      "application/vnd.jupyter.widget-view+json": {
       "model_id": "6d2e531a69254800bdbf4c95a5dcc2b3",
       "version_major": 2,
       "version_minor": 0
      },
      "text/plain": [
       "  0%|          | 0/100 [00:00<?, ?it/s]"
      ]
     },
     "metadata": {},
     "output_type": "display_data"
    },
    {
     "name": "stdout",
     "output_type": "stream",
     "text": [
      "Plotting conditional_entropy...\n",
      "Plot saved to ..\\images\\WSLS\\M2\\conditional_entropy_wsls_strength.png\n",
      "Plotting entropy...\n",
      "Plot saved to ..\\images\\WSLS\\M2\\entropy_wsls_strength.png\n",
      "Plotting efficiency...\n",
      "Plot saved to ..\\images\\WSLS\\M2\\efficiency_wsls_strength.png\n",
      "Plotting inequality...\n",
      "Plot saved to ..\\images\\WSLS\\M2\\inequality_wsls_strength.png\n",
      "Plotting alternation_index...\n",
      "Plot saved to ..\\images\\WSLS\\M2\\alternation_index_wsls_strength.png\n"
     ]
    }
   ],
   "source": [
    "from Utils.interaction import Performer\n",
    "\n",
    "kwargs = {'figsize': (4, 3)}\n",
    "LaTeX_string = Performer.sweep(\n",
    "    agent_class=MODEL,\n",
    "    fixed_parameters=fixed_parameters,\n",
    "    free_parameters=free_parameters,\n",
    "    simulation_parameters=simulation_parameters,\n",
    "    sweep_parameter='wsls_strength',\n",
    "    values=[0, 0.4, 0.8, 1.2, 1.6],\n",
    "    image_folder=image_folder,\n",
    "    measures=['conditional_entropy', 'entropy', 'efficiency', 'inequality', 'alternation_index'],\n",
    "    kwargs=kwargs\n",
    ")"
   ]
  },
  {
   "cell_type": "code",
   "execution_count": 10,
   "metadata": {},
   "outputs": [
    {
     "data": {
      "application/vnd.jupyter.widget-view+json": {
       "model_id": "0f50757d778c40c6862932974131ab43",
       "version_major": 2,
       "version_minor": 0
      },
      "text/plain": [
       "Running models for each inverse_temperature:   0%|          | 0/7 [00:00<?, ?it/s]"
      ]
     },
     "metadata": {},
     "output_type": "display_data"
    },
    {
     "data": {
      "application/vnd.jupyter.widget-view+json": {
       "model_id": "c1f1a558964d4231a2cdc9d4bd1351f7",
       "version_major": 2,
       "version_minor": 0
      },
      "text/plain": [
       "  0%|          | 0/100 [00:00<?, ?it/s]"
      ]
     },
     "metadata": {},
     "output_type": "display_data"
    },
    {
     "data": {
      "application/vnd.jupyter.widget-view+json": {
       "model_id": "ddd14abf40ae4b8bb48da58cc2a0c323",
       "version_major": 2,
       "version_minor": 0
      },
      "text/plain": [
       "  0%|          | 0/100 [00:00<?, ?it/s]"
      ]
     },
     "metadata": {},
     "output_type": "display_data"
    },
    {
     "data": {
      "application/vnd.jupyter.widget-view+json": {
       "model_id": "07655bf84abd4deba886c5d11555236c",
       "version_major": 2,
       "version_minor": 0
      },
      "text/plain": [
       "  0%|          | 0/100 [00:00<?, ?it/s]"
      ]
     },
     "metadata": {},
     "output_type": "display_data"
    },
    {
     "data": {
      "application/vnd.jupyter.widget-view+json": {
       "model_id": "5376970f19554a38900855e71bf8d3d9",
       "version_major": 2,
       "version_minor": 0
      },
      "text/plain": [
       "  0%|          | 0/100 [00:00<?, ?it/s]"
      ]
     },
     "metadata": {},
     "output_type": "display_data"
    },
    {
     "data": {
      "application/vnd.jupyter.widget-view+json": {
       "model_id": "8cf95efdeeff4331b7b87e5830e44919",
       "version_major": 2,
       "version_minor": 0
      },
      "text/plain": [
       "  0%|          | 0/100 [00:00<?, ?it/s]"
      ]
     },
     "metadata": {},
     "output_type": "display_data"
    },
    {
     "data": {
      "application/vnd.jupyter.widget-view+json": {
       "model_id": "fcd85b80ae6742a185d6577cbae750d3",
       "version_major": 2,
       "version_minor": 0
      },
      "text/plain": [
       "  0%|          | 0/100 [00:00<?, ?it/s]"
      ]
     },
     "metadata": {},
     "output_type": "display_data"
    },
    {
     "data": {
      "application/vnd.jupyter.widget-view+json": {
       "model_id": "bd5ef770325e430ba942dcea32a830dd",
       "version_major": 2,
       "version_minor": 0
      },
      "text/plain": [
       "  0%|          | 0/100 [00:00<?, ?it/s]"
      ]
     },
     "metadata": {},
     "output_type": "display_data"
    },
    {
     "name": "stdout",
     "output_type": "stream",
     "text": [
      "Plotting conditional_entropy...\n",
      "Plot saved to ..\\images\\WSLS\\M2\\conditional_entropy_inverse_temperature.png\n",
      "Plotting entropy...\n",
      "Plot saved to ..\\images\\WSLS\\M2\\entropy_inverse_temperature.png\n",
      "Plotting efficiency...\n",
      "Plot saved to ..\\images\\WSLS\\M2\\efficiency_inverse_temperature.png\n",
      "Plotting inequality...\n",
      "Plot saved to ..\\images\\WSLS\\M2\\inequality_inverse_temperature.png\n",
      "Plotting alternation_index...\n",
      "Plot saved to ..\\images\\WSLS\\M2\\alternation_index_inverse_temperature.png\n"
     ]
    }
   ],
   "source": [
    "from Utils.interaction import Performer\n",
    "\n",
    "LaTeX_string = Performer.sweep(\n",
    "    agent_class=MODEL,\n",
    "    fixed_parameters=fixed_parameters,\n",
    "    free_parameters=free_parameters,\n",
    "    simulation_parameters=simulation_parameters,\n",
    "    sweep_parameter='inverse_temperature',\n",
    "    values=[2**x for x in range(0, 7)],\n",
    "    image_folder=image_folder,\n",
    "    measures=['conditional_entropy', 'entropy', 'efficiency', 'inequality', 'alternation_index']\n",
    ")"
   ]
  },
  {
   "cell_type": "code",
   "execution_count": 11,
   "metadata": {},
   "outputs": [],
   "source": [
    "from Utils.interaction import Experiment\n",
    "\n",
    "exp = Experiment(\n",
    "    agent_class=MODEL,\n",
    "    fixed_parameters=fixed_parameters,\n",
    "    free_parameters=free_parameters,\n",
    "    simulation_parameters=simulation_parameters,\n",
    "    measures=['efficiency', 'inequality', 'entropy', 'conditional_entropy']\n",
    ")"
   ]
  },
  {
   "cell_type": "code",
   "execution_count": 12,
   "metadata": {},
   "outputs": [
    {
     "data": {
      "application/vnd.jupyter.widget-view+json": {
       "model_id": "d22617aa588249188275396a99997d94",
       "version_major": 2,
       "version_minor": 0
      },
      "text/plain": [
       "  0%|          | 0/5 [00:00<?, ?it/s]"
      ]
     },
     "metadata": {},
     "output_type": "display_data"
    },
    {
     "data": {
      "application/vnd.jupyter.widget-view+json": {
       "model_id": "e64fedc7ce5647e4ad047ec2136229ff",
       "version_major": 2,
       "version_minor": 0
      },
      "text/plain": [
       "  0%|          | 0/7 [00:00<?, ?it/s]"
      ]
     },
     "metadata": {},
     "output_type": "display_data"
    },
    {
     "data": {
      "application/vnd.jupyter.widget-view+json": {
       "model_id": "b36d09effb21482aa9afd1b1fd5a553e",
       "version_major": 2,
       "version_minor": 0
      },
      "text/plain": [
       "  0%|          | 0/100 [00:00<?, ?it/s]"
      ]
     },
     "metadata": {},
     "output_type": "display_data"
    },
    {
     "data": {
      "application/vnd.jupyter.widget-view+json": {
       "model_id": "9e0ec72d2b774162968473adbbca9d8a",
       "version_major": 2,
       "version_minor": 0
      },
      "text/plain": [
       "  0%|          | 0/100 [00:00<?, ?it/s]"
      ]
     },
     "metadata": {},
     "output_type": "display_data"
    },
    {
     "data": {
      "application/vnd.jupyter.widget-view+json": {
       "model_id": "d46ed8fc4dc743ab825bcf98012fd3ef",
       "version_major": 2,
       "version_minor": 0
      },
      "text/plain": [
       "  0%|          | 0/100 [00:00<?, ?it/s]"
      ]
     },
     "metadata": {},
     "output_type": "display_data"
    },
    {
     "data": {
      "application/vnd.jupyter.widget-view+json": {
       "model_id": "f47d9b9da182456ab0a5a2e78c046949",
       "version_major": 2,
       "version_minor": 0
      },
      "text/plain": [
       "  0%|          | 0/100 [00:00<?, ?it/s]"
      ]
     },
     "metadata": {},
     "output_type": "display_data"
    },
    {
     "data": {
      "application/vnd.jupyter.widget-view+json": {
       "model_id": "69e7305c4f25437d929e523136e8c85f",
       "version_major": 2,
       "version_minor": 0
      },
      "text/plain": [
       "  0%|          | 0/100 [00:00<?, ?it/s]"
      ]
     },
     "metadata": {},
     "output_type": "display_data"
    },
    {
     "data": {
      "application/vnd.jupyter.widget-view+json": {
       "model_id": "20411d0c830f485aae5cfc3067495a32",
       "version_major": 2,
       "version_minor": 0
      },
      "text/plain": [
       "  0%|          | 0/100 [00:00<?, ?it/s]"
      ]
     },
     "metadata": {},
     "output_type": "display_data"
    },
    {
     "data": {
      "application/vnd.jupyter.widget-view+json": {
       "model_id": "545e692791cc4118bf63195dfe6ef294",
       "version_major": 2,
       "version_minor": 0
      },
      "text/plain": [
       "  0%|          | 0/100 [00:00<?, ?it/s]"
      ]
     },
     "metadata": {},
     "output_type": "display_data"
    },
    {
     "data": {
      "application/vnd.jupyter.widget-view+json": {
       "model_id": "349d6a40cb014c038d0f0fa2527c29a9",
       "version_major": 2,
       "version_minor": 0
      },
      "text/plain": [
       "  0%|          | 0/7 [00:00<?, ?it/s]"
      ]
     },
     "metadata": {},
     "output_type": "display_data"
    },
    {
     "data": {
      "application/vnd.jupyter.widget-view+json": {
       "model_id": "184fd6f6dc9d420395398d8caa7e2cb9",
       "version_major": 2,
       "version_minor": 0
      },
      "text/plain": [
       "  0%|          | 0/100 [00:00<?, ?it/s]"
      ]
     },
     "metadata": {},
     "output_type": "display_data"
    },
    {
     "data": {
      "application/vnd.jupyter.widget-view+json": {
       "model_id": "b8b653bca8624c4b95108045fbc339d5",
       "version_major": 2,
       "version_minor": 0
      },
      "text/plain": [
       "  0%|          | 0/100 [00:00<?, ?it/s]"
      ]
     },
     "metadata": {},
     "output_type": "display_data"
    },
    {
     "data": {
      "application/vnd.jupyter.widget-view+json": {
       "model_id": "e9aa85cf3c1e4285837367f7459c4485",
       "version_major": 2,
       "version_minor": 0
      },
      "text/plain": [
       "  0%|          | 0/100 [00:00<?, ?it/s]"
      ]
     },
     "metadata": {},
     "output_type": "display_data"
    },
    {
     "data": {
      "application/vnd.jupyter.widget-view+json": {
       "model_id": "518e68258e944e0e995a722ac0e74a7e",
       "version_major": 2,
       "version_minor": 0
      },
      "text/plain": [
       "  0%|          | 0/100 [00:00<?, ?it/s]"
      ]
     },
     "metadata": {},
     "output_type": "display_data"
    },
    {
     "data": {
      "application/vnd.jupyter.widget-view+json": {
       "model_id": "09d26485473c499b9b702b9d9b904f08",
       "version_major": 2,
       "version_minor": 0
      },
      "text/plain": [
       "  0%|          | 0/100 [00:00<?, ?it/s]"
      ]
     },
     "metadata": {},
     "output_type": "display_data"
    },
    {
     "data": {
      "application/vnd.jupyter.widget-view+json": {
       "model_id": "955d23b204d94223872069003bd658f0",
       "version_major": 2,
       "version_minor": 0
      },
      "text/plain": [
       "  0%|          | 0/100 [00:00<?, ?it/s]"
      ]
     },
     "metadata": {},
     "output_type": "display_data"
    },
    {
     "data": {
      "application/vnd.jupyter.widget-view+json": {
       "model_id": "9f94950d814a419eadb53b695adff217",
       "version_major": 2,
       "version_minor": 0
      },
      "text/plain": [
       "  0%|          | 0/100 [00:00<?, ?it/s]"
      ]
     },
     "metadata": {},
     "output_type": "display_data"
    },
    {
     "data": {
      "application/vnd.jupyter.widget-view+json": {
       "model_id": "cb5a685eee5d4b75bfcc3e267dedff0a",
       "version_major": 2,
       "version_minor": 0
      },
      "text/plain": [
       "  0%|          | 0/7 [00:00<?, ?it/s]"
      ]
     },
     "metadata": {},
     "output_type": "display_data"
    },
    {
     "data": {
      "application/vnd.jupyter.widget-view+json": {
       "model_id": "891a97df1c724f4d864f8da16581d1ba",
       "version_major": 2,
       "version_minor": 0
      },
      "text/plain": [
       "  0%|          | 0/100 [00:00<?, ?it/s]"
      ]
     },
     "metadata": {},
     "output_type": "display_data"
    },
    {
     "data": {
      "application/vnd.jupyter.widget-view+json": {
       "model_id": "a217b3f9e45647578b1035717164f2e3",
       "version_major": 2,
       "version_minor": 0
      },
      "text/plain": [
       "  0%|          | 0/100 [00:00<?, ?it/s]"
      ]
     },
     "metadata": {},
     "output_type": "display_data"
    },
    {
     "data": {
      "application/vnd.jupyter.widget-view+json": {
       "model_id": "8677655bac4e4b26b2737959c9382dd2",
       "version_major": 2,
       "version_minor": 0
      },
      "text/plain": [
       "  0%|          | 0/100 [00:00<?, ?it/s]"
      ]
     },
     "metadata": {},
     "output_type": "display_data"
    },
    {
     "data": {
      "application/vnd.jupyter.widget-view+json": {
       "model_id": "9eb36872acbc47648e5b8b60d368a944",
       "version_major": 2,
       "version_minor": 0
      },
      "text/plain": [
       "  0%|          | 0/100 [00:00<?, ?it/s]"
      ]
     },
     "metadata": {},
     "output_type": "display_data"
    },
    {
     "data": {
      "application/vnd.jupyter.widget-view+json": {
       "model_id": "016cc009f92d47e8aa33c5b948abfdd7",
       "version_major": 2,
       "version_minor": 0
      },
      "text/plain": [
       "  0%|          | 0/100 [00:00<?, ?it/s]"
      ]
     },
     "metadata": {},
     "output_type": "display_data"
    },
    {
     "data": {
      "application/vnd.jupyter.widget-view+json": {
       "model_id": "b755b9b46ec34d99be1a1f9cb944a903",
       "version_major": 2,
       "version_minor": 0
      },
      "text/plain": [
       "  0%|          | 0/100 [00:00<?, ?it/s]"
      ]
     },
     "metadata": {},
     "output_type": "display_data"
    },
    {
     "data": {
      "application/vnd.jupyter.widget-view+json": {
       "model_id": "da0ba8506a8349b8884fda9f7473c522",
       "version_major": 2,
       "version_minor": 0
      },
      "text/plain": [
       "  0%|          | 0/100 [00:00<?, ?it/s]"
      ]
     },
     "metadata": {},
     "output_type": "display_data"
    },
    {
     "data": {
      "application/vnd.jupyter.widget-view+json": {
       "model_id": "f78f186622b948faa89af5b2a7553c24",
       "version_major": 2,
       "version_minor": 0
      },
      "text/plain": [
       "  0%|          | 0/7 [00:00<?, ?it/s]"
      ]
     },
     "metadata": {},
     "output_type": "display_data"
    },
    {
     "data": {
      "application/vnd.jupyter.widget-view+json": {
       "model_id": "2f332d390da44c5aa5ab86ba090aa748",
       "version_major": 2,
       "version_minor": 0
      },
      "text/plain": [
       "  0%|          | 0/100 [00:00<?, ?it/s]"
      ]
     },
     "metadata": {},
     "output_type": "display_data"
    },
    {
     "data": {
      "application/vnd.jupyter.widget-view+json": {
       "model_id": "0c686ae7a3834639ae2956c81a391db8",
       "version_major": 2,
       "version_minor": 0
      },
      "text/plain": [
       "  0%|          | 0/100 [00:00<?, ?it/s]"
      ]
     },
     "metadata": {},
     "output_type": "display_data"
    },
    {
     "data": {
      "application/vnd.jupyter.widget-view+json": {
       "model_id": "1b8a9b7b520d4c19bbb05f480a624c4a",
       "version_major": 2,
       "version_minor": 0
      },
      "text/plain": [
       "  0%|          | 0/100 [00:00<?, ?it/s]"
      ]
     },
     "metadata": {},
     "output_type": "display_data"
    },
    {
     "data": {
      "application/vnd.jupyter.widget-view+json": {
       "model_id": "72bafe2546b14cfab71c43ba2169c970",
       "version_major": 2,
       "version_minor": 0
      },
      "text/plain": [
       "  0%|          | 0/100 [00:00<?, ?it/s]"
      ]
     },
     "metadata": {},
     "output_type": "display_data"
    },
    {
     "data": {
      "application/vnd.jupyter.widget-view+json": {
       "model_id": "fc0417b2d81c404382a01e745b124ce6",
       "version_major": 2,
       "version_minor": 0
      },
      "text/plain": [
       "  0%|          | 0/100 [00:00<?, ?it/s]"
      ]
     },
     "metadata": {},
     "output_type": "display_data"
    },
    {
     "data": {
      "application/vnd.jupyter.widget-view+json": {
       "model_id": "7412e975e21447fa90412ebb613911ad",
       "version_major": 2,
       "version_minor": 0
      },
      "text/plain": [
       "  0%|          | 0/100 [00:00<?, ?it/s]"
      ]
     },
     "metadata": {},
     "output_type": "display_data"
    },
    {
     "data": {
      "application/vnd.jupyter.widget-view+json": {
       "model_id": "d9fb8bb868344f41a06021c8c5ab7c39",
       "version_major": 2,
       "version_minor": 0
      },
      "text/plain": [
       "  0%|          | 0/100 [00:00<?, ?it/s]"
      ]
     },
     "metadata": {},
     "output_type": "display_data"
    },
    {
     "data": {
      "application/vnd.jupyter.widget-view+json": {
       "model_id": "73c8b44404be4fbf809dc2a5a0cb0ae5",
       "version_major": 2,
       "version_minor": 0
      },
      "text/plain": [
       "  0%|          | 0/7 [00:00<?, ?it/s]"
      ]
     },
     "metadata": {},
     "output_type": "display_data"
    },
    {
     "data": {
      "application/vnd.jupyter.widget-view+json": {
       "model_id": "8e979787255540b88cbc53fc9edff0ec",
       "version_major": 2,
       "version_minor": 0
      },
      "text/plain": [
       "  0%|          | 0/100 [00:00<?, ?it/s]"
      ]
     },
     "metadata": {},
     "output_type": "display_data"
    },
    {
     "data": {
      "application/vnd.jupyter.widget-view+json": {
       "model_id": "3a7b07dd71204a1c80cc835b832c6694",
       "version_major": 2,
       "version_minor": 0
      },
      "text/plain": [
       "  0%|          | 0/100 [00:00<?, ?it/s]"
      ]
     },
     "metadata": {},
     "output_type": "display_data"
    },
    {
     "data": {
      "application/vnd.jupyter.widget-view+json": {
       "model_id": "a58d53aef29e4a449dcef831a4dd3ee1",
       "version_major": 2,
       "version_minor": 0
      },
      "text/plain": [
       "  0%|          | 0/100 [00:00<?, ?it/s]"
      ]
     },
     "metadata": {},
     "output_type": "display_data"
    },
    {
     "data": {
      "application/vnd.jupyter.widget-view+json": {
       "model_id": "7cefd21423fa4ec3b267ccc62a1f71aa",
       "version_major": 2,
       "version_minor": 0
      },
      "text/plain": [
       "  0%|          | 0/100 [00:00<?, ?it/s]"
      ]
     },
     "metadata": {},
     "output_type": "display_data"
    },
    {
     "data": {
      "application/vnd.jupyter.widget-view+json": {
       "model_id": "d82c31f2f2f249b1b7113522da353ce9",
       "version_major": 2,
       "version_minor": 0
      },
      "text/plain": [
       "  0%|          | 0/100 [00:00<?, ?it/s]"
      ]
     },
     "metadata": {},
     "output_type": "display_data"
    },
    {
     "data": {
      "application/vnd.jupyter.widget-view+json": {
       "model_id": "b641718257ae496b9cdb0dd918447613",
       "version_major": 2,
       "version_minor": 0
      },
      "text/plain": [
       "  0%|          | 0/100 [00:00<?, ?it/s]"
      ]
     },
     "metadata": {},
     "output_type": "display_data"
    },
    {
     "data": {
      "application/vnd.jupyter.widget-view+json": {
       "model_id": "038a674fee0c4df8ac72b451cbac085e",
       "version_major": 2,
       "version_minor": 0
      },
      "text/plain": [
       "  0%|          | 0/100 [00:00<?, ?it/s]"
      ]
     },
     "metadata": {},
     "output_type": "display_data"
    }
   ],
   "source": [
    "exp.run_sweep2(\n",
    "    parameter1='wsls_strength',\n",
    "    values1=[0, 0.4, 0.8, 1.2, 1.6],\n",
    "    parameter2='inverse_temperature',\n",
    "    values2=[2**x for x in range(0, 7)],\n",
    "    file=image_folder / 'sweep_go_drive_vs_inverse_temperature'\n",
    ")"
   ]
  },
  {
   "cell_type": "code",
   "execution_count": 13,
   "metadata": {},
   "outputs": [],
   "source": [
    "from Utils.plot_utils import PlotStandardMeasures\n",
    "\n",
    "p = PlotStandardMeasures(exp.data)"
   ]
  },
  {
   "cell_type": "code",
   "execution_count": 14,
   "metadata": {},
   "outputs": [
    {
     "name": "stdout",
     "output_type": "stream",
     "text": [
      "Plot saved to ..\\images\\WSLS\\M2\\sweep_wsls_strength_vs_inverse_temperature_efficiency\n"
     ]
    }
   ],
   "source": [
    "p.plot_sweep2(\n",
    "    parameter1='wsls_strength',\n",
    "    parameter2='inverse_temperature',\n",
    "    measure='efficiency',\n",
    "    file=image_folder / 'sweep_wsls_strength_vs_inverse_temperature_efficiency'\n",
    ")"
   ]
  },
  {
   "cell_type": "code",
   "execution_count": 15,
   "metadata": {},
   "outputs": [
    {
     "name": "stdout",
     "output_type": "stream",
     "text": [
      "Plot saved to ..\\images\\WSLS\\M2\\sweep_wsls_strength_vs_inverse_temperature_alternation\n"
     ]
    }
   ],
   "source": [
    "p.plot_sweep2(\n",
    "    parameter1='wsls_strength',\n",
    "    parameter2='inverse_temperature',\n",
    "    measure='alternation_index',\n",
    "    file=image_folder / 'sweep_wsls_strength_vs_inverse_temperature_alternation'\n",
    ")"
   ]
  },
  {
   "cell_type": "code",
   "execution_count": 16,
   "metadata": {},
   "outputs": [
    {
     "data": {
      "application/vnd.jupyter.widget-view+json": {
       "model_id": "b13610446bc548258417147fcfd19f28",
       "version_major": 2,
       "version_minor": 0
      },
      "text/plain": [
       "  0%|          | 0/5 [00:00<?, ?it/s]"
      ]
     },
     "metadata": {},
     "output_type": "display_data"
    },
    {
     "data": {
      "application/vnd.jupyter.widget-view+json": {
       "model_id": "c2f92507d1e84e68949a2356203ca388",
       "version_major": 2,
       "version_minor": 0
      },
      "text/plain": [
       "  0%|          | 0/5 [00:00<?, ?it/s]"
      ]
     },
     "metadata": {},
     "output_type": "display_data"
    },
    {
     "data": {
      "application/vnd.jupyter.widget-view+json": {
       "model_id": "d12a45472f5d40c9b9397c22a0712dfd",
       "version_major": 2,
       "version_minor": 0
      },
      "text/plain": [
       "  0%|          | 0/100 [00:00<?, ?it/s]"
      ]
     },
     "metadata": {},
     "output_type": "display_data"
    },
    {
     "data": {
      "application/vnd.jupyter.widget-view+json": {
       "model_id": "151154e81ad54597aa4fac75e5d08d02",
       "version_major": 2,
       "version_minor": 0
      },
      "text/plain": [
       "  0%|          | 0/100 [00:00<?, ?it/s]"
      ]
     },
     "metadata": {},
     "output_type": "display_data"
    },
    {
     "data": {
      "application/vnd.jupyter.widget-view+json": {
       "model_id": "f77c727725b845f0b27bc157f044ee76",
       "version_major": 2,
       "version_minor": 0
      },
      "text/plain": [
       "  0%|          | 0/100 [00:00<?, ?it/s]"
      ]
     },
     "metadata": {},
     "output_type": "display_data"
    },
    {
     "data": {
      "application/vnd.jupyter.widget-view+json": {
       "model_id": "7c48af8b01734a1a9bfe8fe7f2f77ca8",
       "version_major": 2,
       "version_minor": 0
      },
      "text/plain": [
       "  0%|          | 0/100 [00:00<?, ?it/s]"
      ]
     },
     "metadata": {},
     "output_type": "display_data"
    },
    {
     "data": {
      "application/vnd.jupyter.widget-view+json": {
       "model_id": "7fdd51ae3b6d4e149db4879cecd25405",
       "version_major": 2,
       "version_minor": 0
      },
      "text/plain": [
       "  0%|          | 0/100 [00:00<?, ?it/s]"
      ]
     },
     "metadata": {},
     "output_type": "display_data"
    },
    {
     "data": {
      "application/vnd.jupyter.widget-view+json": {
       "model_id": "ce8032b5b6d14dd5b97fbaf128ea8e7f",
       "version_major": 2,
       "version_minor": 0
      },
      "text/plain": [
       "  0%|          | 0/5 [00:00<?, ?it/s]"
      ]
     },
     "metadata": {},
     "output_type": "display_data"
    },
    {
     "data": {
      "application/vnd.jupyter.widget-view+json": {
       "model_id": "9af2d1fd14d54a568090feb5eb4a3b50",
       "version_major": 2,
       "version_minor": 0
      },
      "text/plain": [
       "  0%|          | 0/100 [00:00<?, ?it/s]"
      ]
     },
     "metadata": {},
     "output_type": "display_data"
    },
    {
     "data": {
      "application/vnd.jupyter.widget-view+json": {
       "model_id": "23009172d3f743b2955587b5370b1af9",
       "version_major": 2,
       "version_minor": 0
      },
      "text/plain": [
       "  0%|          | 0/100 [00:00<?, ?it/s]"
      ]
     },
     "metadata": {},
     "output_type": "display_data"
    },
    {
     "data": {
      "application/vnd.jupyter.widget-view+json": {
       "model_id": "082d86931ed3453d945eea9e34fddda2",
       "version_major": 2,
       "version_minor": 0
      },
      "text/plain": [
       "  0%|          | 0/100 [00:00<?, ?it/s]"
      ]
     },
     "metadata": {},
     "output_type": "display_data"
    },
    {
     "data": {
      "application/vnd.jupyter.widget-view+json": {
       "model_id": "3be2d26dd1ce4bfd908bf7ab3a791187",
       "version_major": 2,
       "version_minor": 0
      },
      "text/plain": [
       "  0%|          | 0/100 [00:00<?, ?it/s]"
      ]
     },
     "metadata": {},
     "output_type": "display_data"
    },
    {
     "data": {
      "application/vnd.jupyter.widget-view+json": {
       "model_id": "259bad02172041ffb9dc8e9206abeccd",
       "version_major": 2,
       "version_minor": 0
      },
      "text/plain": [
       "  0%|          | 0/100 [00:00<?, ?it/s]"
      ]
     },
     "metadata": {},
     "output_type": "display_data"
    },
    {
     "data": {
      "application/vnd.jupyter.widget-view+json": {
       "model_id": "7d9c995dd5f84996a504abfc5eccd506",
       "version_major": 2,
       "version_minor": 0
      },
      "text/plain": [
       "  0%|          | 0/5 [00:00<?, ?it/s]"
      ]
     },
     "metadata": {},
     "output_type": "display_data"
    },
    {
     "data": {
      "application/vnd.jupyter.widget-view+json": {
       "model_id": "b7f72c491d3542b6a37d51bd2b18db4a",
       "version_major": 2,
       "version_minor": 0
      },
      "text/plain": [
       "  0%|          | 0/100 [00:00<?, ?it/s]"
      ]
     },
     "metadata": {},
     "output_type": "display_data"
    },
    {
     "data": {
      "application/vnd.jupyter.widget-view+json": {
       "model_id": "813d87ec0da549b188057a115a5c324b",
       "version_major": 2,
       "version_minor": 0
      },
      "text/plain": [
       "  0%|          | 0/100 [00:00<?, ?it/s]"
      ]
     },
     "metadata": {},
     "output_type": "display_data"
    },
    {
     "data": {
      "application/vnd.jupyter.widget-view+json": {
       "model_id": "fa6de6ebc4a34872900726546d1667f9",
       "version_major": 2,
       "version_minor": 0
      },
      "text/plain": [
       "  0%|          | 0/100 [00:00<?, ?it/s]"
      ]
     },
     "metadata": {},
     "output_type": "display_data"
    },
    {
     "data": {
      "application/vnd.jupyter.widget-view+json": {
       "model_id": "fb4e38784ccb4831b559beb252e08742",
       "version_major": 2,
       "version_minor": 0
      },
      "text/plain": [
       "  0%|          | 0/100 [00:00<?, ?it/s]"
      ]
     },
     "metadata": {},
     "output_type": "display_data"
    },
    {
     "data": {
      "application/vnd.jupyter.widget-view+json": {
       "model_id": "9fefa2a5efc04fd19976bf7bd382da06",
       "version_major": 2,
       "version_minor": 0
      },
      "text/plain": [
       "  0%|          | 0/100 [00:00<?, ?it/s]"
      ]
     },
     "metadata": {},
     "output_type": "display_data"
    },
    {
     "data": {
      "application/vnd.jupyter.widget-view+json": {
       "model_id": "ab142c4e9dd445d2affe14370dea748e",
       "version_major": 2,
       "version_minor": 0
      },
      "text/plain": [
       "  0%|          | 0/5 [00:00<?, ?it/s]"
      ]
     },
     "metadata": {},
     "output_type": "display_data"
    },
    {
     "data": {
      "application/vnd.jupyter.widget-view+json": {
       "model_id": "a253c1dc37e54ecdaace56c9fbb347d7",
       "version_major": 2,
       "version_minor": 0
      },
      "text/plain": [
       "  0%|          | 0/100 [00:00<?, ?it/s]"
      ]
     },
     "metadata": {},
     "output_type": "display_data"
    },
    {
     "data": {
      "application/vnd.jupyter.widget-view+json": {
       "model_id": "af61d08606474ce2b2acba1b6395cb66",
       "version_major": 2,
       "version_minor": 0
      },
      "text/plain": [
       "  0%|          | 0/100 [00:00<?, ?it/s]"
      ]
     },
     "metadata": {},
     "output_type": "display_data"
    },
    {
     "data": {
      "application/vnd.jupyter.widget-view+json": {
       "model_id": "8552a2385ca64055afdbbae81d37e170",
       "version_major": 2,
       "version_minor": 0
      },
      "text/plain": [
       "  0%|          | 0/100 [00:00<?, ?it/s]"
      ]
     },
     "metadata": {},
     "output_type": "display_data"
    },
    {
     "data": {
      "application/vnd.jupyter.widget-view+json": {
       "model_id": "dc077fa7dc1442a7a1b80894f04d3da2",
       "version_major": 2,
       "version_minor": 0
      },
      "text/plain": [
       "  0%|          | 0/100 [00:00<?, ?it/s]"
      ]
     },
     "metadata": {},
     "output_type": "display_data"
    },
    {
     "data": {
      "application/vnd.jupyter.widget-view+json": {
       "model_id": "36fc502ab72347ffb6c52a5b8dbf4a61",
       "version_major": 2,
       "version_minor": 0
      },
      "text/plain": [
       "  0%|          | 0/100 [00:00<?, ?it/s]"
      ]
     },
     "metadata": {},
     "output_type": "display_data"
    },
    {
     "data": {
      "application/vnd.jupyter.widget-view+json": {
       "model_id": "74a687ccc2d945af84b91e02f6bfb38a",
       "version_major": 2,
       "version_minor": 0
      },
      "text/plain": [
       "  0%|          | 0/5 [00:00<?, ?it/s]"
      ]
     },
     "metadata": {},
     "output_type": "display_data"
    },
    {
     "data": {
      "application/vnd.jupyter.widget-view+json": {
       "model_id": "9db70665b1d94769a1c2141560e93da2",
       "version_major": 2,
       "version_minor": 0
      },
      "text/plain": [
       "  0%|          | 0/100 [00:00<?, ?it/s]"
      ]
     },
     "metadata": {},
     "output_type": "display_data"
    },
    {
     "data": {
      "application/vnd.jupyter.widget-view+json": {
       "model_id": "540edc0bdf4c4979b5d5829ad0380180",
       "version_major": 2,
       "version_minor": 0
      },
      "text/plain": [
       "  0%|          | 0/100 [00:00<?, ?it/s]"
      ]
     },
     "metadata": {},
     "output_type": "display_data"
    },
    {
     "data": {
      "application/vnd.jupyter.widget-view+json": {
       "model_id": "6ae0fcc1162a45ca8082f71285c41f10",
       "version_major": 2,
       "version_minor": 0
      },
      "text/plain": [
       "  0%|          | 0/100 [00:00<?, ?it/s]"
      ]
     },
     "metadata": {},
     "output_type": "display_data"
    },
    {
     "data": {
      "application/vnd.jupyter.widget-view+json": {
       "model_id": "394c12fe22d047398041892ce829b529",
       "version_major": 2,
       "version_minor": 0
      },
      "text/plain": [
       "  0%|          | 0/100 [00:00<?, ?it/s]"
      ]
     },
     "metadata": {},
     "output_type": "display_data"
    },
    {
     "data": {
      "application/vnd.jupyter.widget-view+json": {
       "model_id": "b6759f62016c4545a3ebd60439fe0746",
       "version_major": 2,
       "version_minor": 0
      },
      "text/plain": [
       "  0%|          | 0/100 [00:00<?, ?it/s]"
      ]
     },
     "metadata": {},
     "output_type": "display_data"
    }
   ],
   "source": [
    "exp.run_sweep2(\n",
    "    parameter1='wsls_strength',\n",
    "    values1=[0, 0.4, 0.8, 1.2, 1.6],\n",
    "    parameter2='heuristic_strength',\n",
    "    values2=[0, 0.25, 0.5, 0.75, 1],\n",
    "    file=image_folder / 'sweep_go_drive_vs_inverse_temperature'\n",
    ")"
   ]
  },
  {
   "cell_type": "code",
   "execution_count": 17,
   "metadata": {},
   "outputs": [],
   "source": [
    "from Utils.plot_utils import PlotStandardMeasures\n",
    "\n",
    "p = PlotStandardMeasures(exp.data)"
   ]
  },
  {
   "cell_type": "code",
   "execution_count": 18,
   "metadata": {},
   "outputs": [
    {
     "name": "stdout",
     "output_type": "stream",
     "text": [
      "Plot saved to ..\\images\\WSLS\\M2\\sweep_wsls_strength_vs_inverse_temperature_efficiency\n"
     ]
    }
   ],
   "source": [
    "p.plot_sweep2(\n",
    "    parameter1='wsls_strength',\n",
    "    parameter2='heuristic_strength',\n",
    "    measure='efficiency',\n",
    "    file=image_folder / 'sweep_wsls_strength_vs_inverse_temperature_efficiency'\n",
    ")"
   ]
  },
  {
   "cell_type": "code",
   "execution_count": 19,
   "metadata": {},
   "outputs": [
    {
     "name": "stdout",
     "output_type": "stream",
     "text": [
      "Plot saved to ..\\images\\WSLS\\M2\\sweep_wsls_strength_vs_inverse_temperature_alternation\n"
     ]
    }
   ],
   "source": [
    "p.plot_sweep2(\n",
    "    parameter1='wsls_strength',\n",
    "    parameter2='heuristic_strength',\n",
    "    measure='alternation_index',\n",
    "    file=image_folder / 'sweep_wsls_strength_vs_inverse_temperature_alternation'\n",
    ")"
   ]
  },
  {
   "cell_type": "code",
   "execution_count": 20,
   "metadata": {},
   "outputs": [
    {
     "name": "stdout",
     "output_type": "stream",
     "text": [
      "Seeds chosen for simple simulation: [71, 65, 47, 50]\n"
     ]
    },
    {
     "data": {
      "application/vnd.jupyter.widget-view+json": {
       "model_id": "6ca08c9094494212b401d35cb07cf4c1",
       "version_major": 2,
       "version_minor": 0
      },
      "text/plain": [
       "Running seeds...:   0%|          | 0/4 [00:00<?, ?it/s]"
      ]
     },
     "metadata": {},
     "output_type": "display_data"
    },
    {
     "data": {
      "application/vnd.jupyter.widget-view+json": {
       "model_id": "cf7b17039a04477eaae26c71c1e7d14a",
       "version_major": 2,
       "version_minor": 0
      },
      "text/plain": [
       "  0%|          | 0/1 [00:00<?, ?it/s]"
      ]
     },
     "metadata": {},
     "output_type": "display_data"
    },
    {
     "data": {
      "application/vnd.jupyter.widget-view+json": {
       "model_id": "7e49c5a0b86b4cf5a8410039391555fa",
       "version_major": 2,
       "version_minor": 0
      },
      "text/plain": [
       "  0%|          | 0/1 [00:00<?, ?it/s]"
      ]
     },
     "metadata": {},
     "output_type": "display_data"
    },
    {
     "data": {
      "application/vnd.jupyter.widget-view+json": {
       "model_id": "648c3983b83346e9a0ad4f3ce7ab5a1b",
       "version_major": 2,
       "version_minor": 0
      },
      "text/plain": [
       "  0%|          | 0/1 [00:00<?, ?it/s]"
      ]
     },
     "metadata": {},
     "output_type": "display_data"
    },
    {
     "data": {
      "application/vnd.jupyter.widget-view+json": {
       "model_id": "2f1408bf195945cbbe60d12a7a710cbb",
       "version_major": 2,
       "version_minor": 0
      },
      "text/plain": [
       "  0%|          | 0/1 [00:00<?, ?it/s]"
      ]
     },
     "metadata": {},
     "output_type": "display_data"
    }
   ],
   "source": [
    "from Utils.interaction import Performer\n",
    "\n",
    "LaTeX_string = Performer.simple_run(\n",
    "    agent_class=MODEL,\n",
    "    fixed_parameters=fixed_parameters,\n",
    "    free_parameters=free_parameters,\n",
    "    simulation_parameters=simulation_parameters,\n",
    "    image_folder=image_folder,\n",
    "    measures=['render']\n",
    ")"
   ]
  },
  {
   "cell_type": "code",
   "execution_count": null,
   "metadata": {},
   "outputs": [],
   "source": [
    " "
   ]
  }
 ],
 "metadata": {
  "kernelspec": {
   "display_name": "base",
   "language": "python",
   "name": "python3"
  },
  "language_info": {
   "codemirror_mode": {
    "name": "ipython",
    "version": 3
   },
   "file_extension": ".py",
   "mimetype": "text/x-python",
   "name": "python",
   "nbconvert_exporter": "python",
   "pygments_lexer": "ipython3",
   "version": "3.11.5"
  }
 },
 "nbformat": 4,
 "nbformat_minor": 2
}
