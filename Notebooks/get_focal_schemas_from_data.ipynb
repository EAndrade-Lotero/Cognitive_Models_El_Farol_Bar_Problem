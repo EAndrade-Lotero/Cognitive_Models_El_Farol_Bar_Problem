{
 "cells": [
  {
   "cell_type": "markdown",
   "id": "b8de75d6",
   "metadata": {},
   "source": [
    "# Extract focal regions from human performance"
   ]
  },
  {
   "cell_type": "code",
   "execution_count": 1,
   "id": "a12389d3",
   "metadata": {},
   "outputs": [],
   "source": [
    "import numpy as np\n",
    "import pandas as pd\n",
    "import seaborn as sns\n",
    "import matplotlib.pyplot as plt\n",
    "\n",
    "from pathlib import Path\n",
    "\n",
    "import sys\n",
    "\n",
    "sys.path.append('../src')\n",
    "\n",
    "from Config.config import PATHS\n",
    "\n",
    "import warnings\n",
    "warnings.filterwarnings(\"ignore\")"
   ]
  },
  {
   "cell_type": "code",
   "execution_count": 2,
   "id": "fdc8e3d4",
   "metadata": {},
   "outputs": [],
   "source": [
    "from Utils.utils import GetMeasurements\n",
    "from Utils.indices import AlternationIndex\n",
    "from Classes.focal_regions import SetFocalRegions, FocalRegion"
   ]
  },
  {
   "cell_type": "code",
   "execution_count": 3,
   "id": "b3e1c0da",
   "metadata": {},
   "outputs": [
    {
     "data": {
      "text/html": [
       "<div>\n",
       "<style scoped>\n",
       "    .dataframe tbody tr th:only-of-type {\n",
       "        vertical-align: middle;\n",
       "    }\n",
       "\n",
       "    .dataframe tbody tr th {\n",
       "        vertical-align: top;\n",
       "    }\n",
       "\n",
       "    .dataframe thead th {\n",
       "        text-align: right;\n",
       "    }\n",
       "</style>\n",
       "<table border=\"1\" class=\"dataframe\">\n",
       "  <thead>\n",
       "    <tr style=\"text-align: right;\">\n",
       "      <th></th>\n",
       "      <th>model</th>\n",
       "      <th>treatment</th>\n",
       "      <th>threshold</th>\n",
       "      <th>num_players</th>\n",
       "      <th>room</th>\n",
       "      <th>bounded_efficiency</th>\n",
       "      <th>inequality</th>\n",
       "      <th>category</th>\n",
       "      <th>alternation_idx</th>\n",
       "    </tr>\n",
       "  </thead>\n",
       "  <tbody>\n",
       "    <tr>\n",
       "      <th>11</th>\n",
       "      <td>14_5_0.8</td>\n",
       "      <td>upwards</td>\n",
       "      <td>0.800000</td>\n",
       "      <td>5</td>\n",
       "      <td>14</td>\n",
       "      <td>0.750000</td>\n",
       "      <td>0.233364</td>\n",
       "      <td>random</td>\n",
       "      <td>3.041181e-04</td>\n",
       "    </tr>\n",
       "    <tr>\n",
       "      <th>14</th>\n",
       "      <td>15_4_0.75</td>\n",
       "      <td>upwards</td>\n",
       "      <td>0.750000</td>\n",
       "      <td>4</td>\n",
       "      <td>15</td>\n",
       "      <td>0.977011</td>\n",
       "      <td>0.270604</td>\n",
       "      <td>mixed</td>\n",
       "      <td>8.854706e-05</td>\n",
       "    </tr>\n",
       "    <tr>\n",
       "      <th>27</th>\n",
       "      <td>25_4_0.25</td>\n",
       "      <td>downwards</td>\n",
       "      <td>0.250000</td>\n",
       "      <td>4</td>\n",
       "      <td>25</td>\n",
       "      <td>1.000000</td>\n",
       "      <td>0.500000</td>\n",
       "      <td>segmentation</td>\n",
       "      <td>2.673815e-11</td>\n",
       "    </tr>\n",
       "    <tr>\n",
       "      <th>39</th>\n",
       "      <td>30_3_0.3333333333333333</td>\n",
       "      <td>downwards</td>\n",
       "      <td>0.333333</td>\n",
       "      <td>3</td>\n",
       "      <td>30</td>\n",
       "      <td>0.711111</td>\n",
       "      <td>0.078042</td>\n",
       "      <td>random</td>\n",
       "      <td>1.249468e-01</td>\n",
       "    </tr>\n",
       "    <tr>\n",
       "      <th>46</th>\n",
       "      <td>32_7_1.0</td>\n",
       "      <td>upwards</td>\n",
       "      <td>1.000000</td>\n",
       "      <td>7</td>\n",
       "      <td>32</td>\n",
       "      <td>0.980296</td>\n",
       "      <td>0.039100</td>\n",
       "      <td>alternation</td>\n",
       "      <td>8.635086e-01</td>\n",
       "    </tr>\n",
       "    <tr>\n",
       "      <th>51</th>\n",
       "      <td>34_3_0.6666666666666666</td>\n",
       "      <td>upwards</td>\n",
       "      <td>0.666667</td>\n",
       "      <td>3</td>\n",
       "      <td>34</td>\n",
       "      <td>0.722222</td>\n",
       "      <td>0.388306</td>\n",
       "      <td>random</td>\n",
       "      <td>6.593557e-08</td>\n",
       "    </tr>\n",
       "    <tr>\n",
       "      <th>57</th>\n",
       "      <td>37_7_1.0</td>\n",
       "      <td>upwards</td>\n",
       "      <td>1.000000</td>\n",
       "      <td>7</td>\n",
       "      <td>37</td>\n",
       "      <td>0.926108</td>\n",
       "      <td>0.180751</td>\n",
       "      <td>mixed</td>\n",
       "      <td>7.525885e-03</td>\n",
       "    </tr>\n",
       "    <tr>\n",
       "      <th>78</th>\n",
       "      <td>Grupo-0001_2_0.5</td>\n",
       "      <td>score + grid</td>\n",
       "      <td>0.500000</td>\n",
       "      <td>2</td>\n",
       "      <td>Grupo-0001</td>\n",
       "      <td>1.000000</td>\n",
       "      <td>0.000000</td>\n",
       "      <td>alternation</td>\n",
       "      <td>9.757532e-01</td>\n",
       "    </tr>\n",
       "    <tr>\n",
       "      <th>83</th>\n",
       "      <td>Grupo-0006_2_0.5</td>\n",
       "      <td>score + grid</td>\n",
       "      <td>0.500000</td>\n",
       "      <td>2</td>\n",
       "      <td>Grupo-0006</td>\n",
       "      <td>1.000000</td>\n",
       "      <td>0.000000</td>\n",
       "      <td>alternation</td>\n",
       "      <td>9.757532e-01</td>\n",
       "    </tr>\n",
       "    <tr>\n",
       "      <th>91</th>\n",
       "      <td>Grupo-0014_2_0.5</td>\n",
       "      <td>only score</td>\n",
       "      <td>0.500000</td>\n",
       "      <td>2</td>\n",
       "      <td>Grupo-0014</td>\n",
       "      <td>0.740000</td>\n",
       "      <td>0.042426</td>\n",
       "      <td>random</td>\n",
       "      <td>4.994961e-01</td>\n",
       "    </tr>\n",
       "    <tr>\n",
       "      <th>98</th>\n",
       "      <td>Grupo-0021_2_0.5</td>\n",
       "      <td>only score</td>\n",
       "      <td>0.500000</td>\n",
       "      <td>2</td>\n",
       "      <td>Grupo-0021</td>\n",
       "      <td>0.820000</td>\n",
       "      <td>0.608112</td>\n",
       "      <td>segmentation</td>\n",
       "      <td>2.261569e-15</td>\n",
       "    </tr>\n",
       "  </tbody>\n",
       "</table>\n",
       "</div>"
      ],
      "text/plain": [
       "                      model     treatment  threshold  num_players        room  \\\n",
       "11                 14_5_0.8       upwards   0.800000            5          14   \n",
       "14                15_4_0.75       upwards   0.750000            4          15   \n",
       "27                25_4_0.25     downwards   0.250000            4          25   \n",
       "39  30_3_0.3333333333333333     downwards   0.333333            3          30   \n",
       "46                 32_7_1.0       upwards   1.000000            7          32   \n",
       "51  34_3_0.6666666666666666       upwards   0.666667            3          34   \n",
       "57                 37_7_1.0       upwards   1.000000            7          37   \n",
       "78         Grupo-0001_2_0.5  score + grid   0.500000            2  Grupo-0001   \n",
       "83         Grupo-0006_2_0.5  score + grid   0.500000            2  Grupo-0006   \n",
       "91         Grupo-0014_2_0.5    only score   0.500000            2  Grupo-0014   \n",
       "98         Grupo-0021_2_0.5    only score   0.500000            2  Grupo-0021   \n",
       "\n",
       "    bounded_efficiency  inequality      category  alternation_idx  \n",
       "11            0.750000    0.233364        random     3.041181e-04  \n",
       "14            0.977011    0.270604         mixed     8.854706e-05  \n",
       "27            1.000000    0.500000  segmentation     2.673815e-11  \n",
       "39            0.711111    0.078042        random     1.249468e-01  \n",
       "46            0.980296    0.039100   alternation     8.635086e-01  \n",
       "51            0.722222    0.388306        random     6.593557e-08  \n",
       "57            0.926108    0.180751         mixed     7.525885e-03  \n",
       "78            1.000000    0.000000   alternation     9.757532e-01  \n",
       "83            1.000000    0.000000   alternation     9.757532e-01  \n",
       "91            0.740000    0.042426        random     4.994961e-01  \n",
       "98            0.820000    0.608112  segmentation     2.261569e-15  "
      ]
     },
     "execution_count": 3,
     "metadata": {},
     "output_type": "execute_result"
    }
   ],
   "source": [
    "# Load data\n",
    "file_name = PATHS['human_data']/'all_data.csv'\n",
    "data = pd.read_csv(file_name)\n",
    "data.drop(columns=['timeup', 'time', 'date'], inplace=True)\n",
    "data['model'] = data.apply(lambda row: f\"{row['room']}_{row['num_players']}_{row['threshold']}\", axis=1)\n",
    "\n",
    "# Compute measurements and alternation index\n",
    "gm = GetMeasurements(data, ['bounded_efficiency', 'inequality'])\n",
    "idx = AlternationIndex.from_file()\n",
    "df = gm.get_measurements()\n",
    "df['category'] = idx.classify(df)\n",
    "df['alternation_idx'] = idx(df)\n",
    "\n",
    "df = df[df['bounded_efficiency'] > 0.7]\n",
    "df\n"
   ]
  },
  {
   "cell_type": "code",
   "execution_count": 4,
   "id": "d7606a2e",
   "metadata": {},
   "outputs": [
    {
     "data": {
      "image/png": "[encoded data removed]",
      "text/plain": [
       "<Figure size 1250x250 with 1 Axes>"
      ]
     },
     "metadata": {},
     "output_type": "display_data"
    },
    {
     "data": {
      "image/png": "[encoded data removed]",
      "text/plain": [
       "<Figure size 1250x200 with 1 Axes>"
      ]
     },
     "metadata": {},
     "output_type": "display_data"
    },
    {
     "data": {
      "image/png": "[encoded data removed]",
      "text/plain": [
       "<Figure size 1250x200 with 1 Axes>"
      ]
     },
     "metadata": {},
     "output_type": "display_data"
    },
    {
     "data": {
      "image/png": "[encoded data removed]",
      "text/plain": [
       "<Figure size 1250x150 with 1 Axes>"
      ]
     },
     "metadata": {},
     "output_type": "display_data"
    },
    {
     "data": {
      "image/png": "[encoded data removed]",
      "text/plain": [
       "<Figure size 1250x150 with 1 Axes>"
      ]
     },
     "metadata": {},
     "output_type": "display_data"
    },
    {
     "data": {
      "image/png": "[encoded data removed]",
      "text/plain": [
       "<Figure size 1250x100 with 1 Axes>"
      ]
     },
     "metadata": {},
     "output_type": "display_data"
    },
    {
     "data": {
      "image/png": "[encoded data removed]",
      "text/plain": [
       "<Figure size 1250x100 with 1 Axes>"
      ]
     },
     "metadata": {},
     "output_type": "display_data"
    },
    {
     "data": {
      "image/png": "[encoded data removed]",
      "text/plain": [
       "<Figure size 1250x100 with 1 Axes>"
      ]
     },
     "metadata": {},
     "output_type": "display_data"
    },
    {
     "data": {
      "image/png": "[encoded data removed]",
      "text/plain": [
       "<Figure size 1250x100 with 1 Axes>"
      ]
     },
     "metadata": {},
     "output_type": "display_data"
    }
   ],
   "source": [
    "from Utils.plot_utils import PlotsAndMeasures, BarRenderer\n",
    "\n",
    "groups = df['model'].unique()\n",
    "for group in groups:\n",
    "    df_aux = data[data['model'] == group]\n",
    "    df_aux_aux = df[df['model'] == group]\n",
    "    threshold = df_aux_aux['threshold'].values[0]\n",
    "    if threshold == 1:\n",
    "        continue\n",
    "    bar_renderer = BarRenderer(data=df_aux)\n",
    "    bar_renderer.render(\n",
    "        title=f\"{group} ({df_aux_aux['category'].values[0]})\",\n",
    "        num_rounds=25\n",
    "    )"
   ]
  },
  {
   "cell_type": "markdown",
   "id": "82ae0433",
   "metadata": {},
   "source": [
    "### Most similar focal regions"
   ]
  },
  {
   "cell_type": "code",
   "execution_count": 10,
   "id": "ee197f28",
   "metadata": {},
   "outputs": [],
   "source": [
    "sfr = SetFocalRegions(\n",
    "    num_agents=5,\n",
    "    threshold=0.8,\n",
    "    len_history=5,\n",
    "    max_regions=5,\n",
    "    from_file=False\n",
    ")\n",
    "# sfr.focal_regions = sfr.load_focal_regions()\n",
    "sfr.generate_focal_regions()\n",
    "# idxs = [0, 1, 2, 3, 30, 31, 32, 33, 34, 35]\n",
    "# sfr.focal_regions = list(np.array(sfr.focal_regions)[idxs])"
   ]
  },
  {
   "cell_type": "code",
   "execution_count": 11,
   "id": "61716095",
   "metadata": {},
   "outputs": [
    {
     "data": {
      "image/png": "[encoded data removed]",
      "text/plain": [
       "<Figure size 500x500 with 1 Axes>"
      ]
     },
     "metadata": {},
     "output_type": "display_data"
    },
    {
     "data": {
      "image/png": "[encoded data removed]",
      "text/plain": [
       "<Figure size 500x500 with 1 Axes>"
      ]
     },
     "metadata": {},
     "output_type": "display_data"
    },
    {
     "data": {
      "image/png": "[encoded data removed]",
      "text/plain": [
       "<Figure size 500x500 with 1 Axes>"
      ]
     },
     "metadata": {},
     "output_type": "display_data"
    },
    {
     "data": {
      "image/png": "[encoded data removed]",
      "text/plain": [
       "<Figure size 500x500 with 1 Axes>"
      ]
     },
     "metadata": {},
     "output_type": "display_data"
    },
    {
     "data": {
      "image/png": "[encoded data removed]",
      "text/plain": [
       "<Figure size 500x500 with 1 Axes>"
      ]
     },
     "metadata": {},
     "output_type": "display_data"
    }
   ],
   "source": [
    "for i, region in enumerate(sfr.focal_regions):\n",
    "    FocalRegion.draw_region(\n",
    "        region=region.focal_region,\n",
    "        title=f\"index {i}\"\n",
    "    )\n"
   ]
  },
  {
   "cell_type": "code",
   "execution_count": 12,
   "id": "d64ba31a",
   "metadata": {},
   "outputs": [],
   "source": [
    "sfr.save_focal_regions()"
   ]
  },
  {
   "cell_type": "code",
   "execution_count": null,
   "id": "e8b6a57f",
   "metadata": {},
   "outputs": [],
   "source": []
  }
 ],
 "metadata": {
  "kernelspec": {
   "display_name": "Python 3 (ipykernel)",
   "language": "python",
   "name": "python3"
  },
  "language_info": {
   "codemirror_mode": {
    "name": "ipython",
    "version": 3
   },
   "file_extension": ".py",
   "mimetype": "text/x-python",
   "name": "python",
   "nbconvert_exporter": "python",
   "pygments_lexer": "ipython3",
   "version": "3.13.3"
  }
 },
 "nbformat": 4,
 "nbformat_minor": 5
}
