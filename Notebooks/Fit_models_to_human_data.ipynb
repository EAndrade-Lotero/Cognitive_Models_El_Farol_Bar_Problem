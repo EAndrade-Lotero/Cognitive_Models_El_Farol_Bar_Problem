{
 "cells": [
  {
   "cell_type": "markdown",
   "metadata": {},
   "source": [
    "# Fit models to human data"
   ]
  },
  {
   "cell_type": "code",
   "execution_count": 48,
   "metadata": {},
   "outputs": [],
   "source": [
    "import json\n",
    "import numpy as np\n",
    "import pandas as pd\n",
    "from pathlib import Path\n",
    "from tqdm.auto import tqdm\n",
    "\n",
    "import sys\n",
    "sys.path.append(\"../src\")\n",
    "\n",
    "import warnings\n",
    "warnings.filterwarnings(\"ignore\")"
   ]
  },
  {
   "cell_type": "code",
   "execution_count": 49,
   "metadata": {},
   "outputs": [],
   "source": [
    "from Config.config import PATHS\n",
    "from Classes.parameter_recovery import ParameterFit\n",
    "from Classes.cognitive_model_agents import MODELS"
   ]
  },
  {
   "cell_type": "markdown",
   "metadata": {},
   "source": [
    "### Load human data"
   ]
  },
  {
   "cell_type": "code",
   "execution_count": null,
   "metadata": {},
   "outputs": [
    {
     "name": "stdout",
     "output_type": "stream",
     "text": [
      "Loading data from C:\\Users\\andra\\Documents\\Cognitive_Models_El_Farol_Bar_Problem\\data\\human\\8-player-IU.csv...\n"
     ]
    },
    {
     "data": {
      "text/html": [
       "<div>\n",
       "<style scoped>\n",
       "    .dataframe tbody tr th:only-of-type {\n",
       "        vertical-align: middle;\n",
       "    }\n",
       "\n",
       "    .dataframe tbody tr th {\n",
       "        vertical-align: top;\n",
       "    }\n",
       "\n",
       "    .dataframe thead th {\n",
       "        text-align: right;\n",
       "    }\n",
       "</style>\n",
       "<table border=\"1\" class=\"dataframe\">\n",
       "  <thead>\n",
       "    <tr style=\"text-align: right;\">\n",
       "      <th></th>\n",
       "      <th>threshold</th>\n",
       "      <th>round</th>\n",
       "      <th>player</th>\n",
       "      <th>decision</th>\n",
       "      <th>score</th>\n",
       "      <th>num_players</th>\n",
       "      <th>group</th>\n",
       "    </tr>\n",
       "  </thead>\n",
       "  <tbody>\n",
       "    <tr>\n",
       "      <th>0</th>\n",
       "      <td>0.875</td>\n",
       "      <td>1.0</td>\n",
       "      <td>589037721408239</td>\n",
       "      <td>1.0</td>\n",
       "      <td>1.0</td>\n",
       "      <td>8</td>\n",
       "      <td>7</td>\n",
       "    </tr>\n",
       "    <tr>\n",
       "      <th>1</th>\n",
       "      <td>0.875</td>\n",
       "      <td>1.0</td>\n",
       "      <td>586994455133371</td>\n",
       "      <td>1.0</td>\n",
       "      <td>1.0</td>\n",
       "      <td>8</td>\n",
       "      <td>7</td>\n",
       "    </tr>\n",
       "  </tbody>\n",
       "</table>\n",
       "</div>"
      ],
      "text/plain": [
       "   threshold  round           player  decision  score  num_players  group\n",
       "0      0.875    1.0  589037721408239       1.0    1.0            8      7\n",
       "1      0.875    1.0  586994455133371       1.0    1.0            8      7"
      ]
     },
     "execution_count": 50,
     "metadata": {},
     "output_type": "execute_result"
    }
   ],
   "source": [
    "# Load data into a dataframe\n",
    "\n",
    "two_player = False  # Set to True for 2-player UR experiment, False for multi-player IU experiment\n",
    "if two_player:\n",
    "\tfile_name = '2-player-UR.csv' # <= Data from 2-player UR experiment\n",
    "\tbest_fits_file = PATHS['parameter_fit_results'] / Path('best_fit_2P.json')\n",
    "else:\n",
    "\t# file_name = '3-player-IU.csv' # <= Data from 3-player IU experiment\n",
    "\t# file_name = '4-player-IU.csv' # <= Data from 3-player IU experiment\n",
    "\t# file_name = '5-player-IU.csv' # <= Data from 3-player IU experiment\n",
    "\t# file_name = '6-player-IU.csv' # <= Data from 3-player IU experiment\n",
    "\t# file_name = '7-player-IU.csv' # <= Data from 3-player IU experiment\n",
    "\t# file_name = '8-player-IU.csv' # <= Data from 3-player IU experiment\n",
    "\tfile_name = '9-player-IU.csv' # <= Data from 3-player IU experiment\n",
    "\t# file_name = '11-player-IU.csv' # <= Data from 3-player IU experiment\n",
    "\t# file_name = '12-player-IU.csv' # <= Data from 3-player IU experiment\n",
    "\t# file_name = 'multi-player.csv' # <= Data from multi-player IU experiment\n",
    "\tbest_fits_file = PATHS['parameter_fit_results'] / Path('best_fit_MP.json')\n",
    "\n",
    "data_folder = PATHS['human_data']\n",
    "file = data_folder / Path(file_name)\n",
    "print(f'Loading data from {file}...')\n",
    "\n",
    "data = pd.read_csv(file)\n",
    "columns = ['threshold', 'num_players', 'group', 'round', 'player', 'score', 'decision']\n",
    "drop_columns = [col for col in data.columns if col not in columns]\n",
    "data.drop(columns=drop_columns, inplace=True)\n",
    "data.head(2)"
   ]
  },
  {
   "cell_type": "markdown",
   "metadata": {},
   "source": [
    "### Select models"
   ]
  },
  {
   "cell_type": "code",
   "execution_count": 51,
   "metadata": {},
   "outputs": [],
   "source": [
    "# check_out_these = [model.name() for model in MODELS]\n",
    "# check_out_these = ['AvailableSpace-M1', 'AvailableSpace-M2', 'AvailableSpace-M3']\n",
    "# check_out_these = ['Attendance-M1', 'Attendance-M2', 'Attendance-M3'] \n",
    "# check_out_these = ['Payoff-M1', 'Payoff-M2', 'Payoff-M3']\n",
    "# check_out_these = ['Fairness-M1', 'Fairness-M2', 'Fairness-M3']\n",
    "# check_out_these = ['WSLS-M1', 'WSLS-M2', 'WSLS-M3']\n",
    "# check_out_these = ['Payoff-M2', 'Fairness-M2', 'AvailableSpace-M2']\n",
    "# check_out_these = ['Attendance-M2', 'MFP-M2', 'Payoff-M2']\n",
    "# check_out_these = ['Payoff-M2', 'Fairness-M2']\n",
    "# check_out_these = ['Fairness-M2']\n",
    "check_out_these = ['FRA']\n",
    "# check_out_these = ['FRA+Payoff+Attendance']\n",
    "my_models = [model for model in MODELS if model.name() in check_out_these]"
   ]
  },
  {
   "cell_type": "markdown",
   "metadata": {},
   "source": [
    "### Fit with scipy"
   ]
  },
  {
   "cell_type": "code",
   "execution_count": 52,
   "metadata": {},
   "outputs": [
    {
     "data": {
      "application/vnd.jupyter.widget-view+json": {
       "model_id": "90e647bb469c4debac0070cf6346e89a",
       "version_major": 2,
       "version_minor": 0
      },
      "text/plain": [
       "Fitting models...:   0%|          | 0/1 [00:00<?, ?it/s]"
      ]
     },
     "metadata": {},
     "output_type": "display_data"
    },
    {
     "name": "stdout",
     "output_type": "stream",
     "text": [
      "Fitting data to model FRA...\n",
      "Creating parameter recovery class...\n",
      "Running optimizer...\n",
      "Finding deviance for 8 players and threshold 0.375...\n"
     ]
    },
    {
     "data": {
      "application/vnd.jupyter.widget-view+json": {
       "model_id": "decf056916074a9d867683c273cc611e",
       "version_major": 2,
       "version_minor": 0
      },
      "text/plain": [
       "Calculating likelihoods:   0%|          | 0/3 [00:00<?, ?it/s]"
      ]
     },
     "metadata": {},
     "output_type": "display_data"
    },
    {
     "data": {
      "application/vnd.jupyter.widget-view+json": {
       "model_id": "cd29ae18e6d84935b5743cb6e05d4e1f",
       "version_major": 2,
       "version_minor": 0
      },
      "text/plain": [
       "Calculating likelihoods:   0%|          | 0/3 [00:00<?, ?it/s]"
      ]
     },
     "metadata": {},
     "output_type": "display_data"
    },
    {
     "data": {
      "application/vnd.jupyter.widget-view+json": {
       "model_id": "555c81bc891645fcb470b1ebe1b4bb09",
       "version_major": 2,
       "version_minor": 0
      },
      "text/plain": [
       "Calculating likelihoods:   0%|          | 0/3 [00:00<?, ?it/s]"
      ]
     },
     "metadata": {},
     "output_type": "display_data"
    },
    {
     "data": {
      "application/vnd.jupyter.widget-view+json": {
       "model_id": "38d65177f26a4bb2952a50c179976f89",
       "version_major": 2,
       "version_minor": 0
      },
      "text/plain": [
       "Calculating likelihoods:   0%|          | 0/3 [00:00<?, ?it/s]"
      ]
     },
     "metadata": {},
     "output_type": "display_data"
    },
    {
     "data": {
      "application/vnd.jupyter.widget-view+json": {
       "model_id": "d5d600e2c14146e594330911209a73bc",
       "version_major": 2,
       "version_minor": 0
      },
      "text/plain": [
       "Calculating likelihoods:   0%|          | 0/3 [00:00<?, ?it/s]"
      ]
     },
     "metadata": {},
     "output_type": "display_data"
    },
    {
     "data": {
      "application/vnd.jupyter.widget-view+json": {
       "model_id": "99a8f66c542e4110a5b6223dcd47571e",
       "version_major": 2,
       "version_minor": 0
      },
      "text/plain": [
       "Calculating likelihoods:   0%|          | 0/3 [00:00<?, ?it/s]"
      ]
     },
     "metadata": {},
     "output_type": "display_data"
    },
    {
     "data": {
      "application/vnd.jupyter.widget-view+json": {
       "model_id": "b09a93dab83b4f87a720b09c2cb6f744",
       "version_major": 2,
       "version_minor": 0
      },
      "text/plain": [
       "Calculating likelihoods:   0%|          | 0/3 [00:00<?, ?it/s]"
      ]
     },
     "metadata": {},
     "output_type": "display_data"
    },
    {
     "data": {
      "application/vnd.jupyter.widget-view+json": {
       "model_id": "556d93c481ee4663974b7cfb53bb60d9",
       "version_major": 2,
       "version_minor": 0
      },
      "text/plain": [
       "Calculating likelihoods:   0%|          | 0/3 [00:00<?, ?it/s]"
      ]
     },
     "metadata": {},
     "output_type": "display_data"
    },
    {
     "data": {
      "application/vnd.jupyter.widget-view+json": {
       "model_id": "302539783b0a4b70a1cbfd9807eb1654",
       "version_major": 2,
       "version_minor": 0
      },
      "text/plain": [
       "Calculating likelihoods:   0%|          | 0/3 [00:00<?, ?it/s]"
      ]
     },
     "metadata": {},
     "output_type": "display_data"
    },
    {
     "data": {
      "application/vnd.jupyter.widget-view+json": {
       "model_id": "1ad2983d84444789bddf89ca92a06da7",
       "version_major": 2,
       "version_minor": 0
      },
      "text/plain": [
       "Calculating likelihoods:   0%|          | 0/3 [00:00<?, ?it/s]"
      ]
     },
     "metadata": {},
     "output_type": "display_data"
    },
    {
     "data": {
      "application/vnd.jupyter.widget-view+json": {
       "model_id": "26624c19c80343ff9ae7f73da2de25e1",
       "version_major": 2,
       "version_minor": 0
      },
      "text/plain": [
       "Calculating likelihoods:   0%|          | 0/3 [00:00<?, ?it/s]"
      ]
     },
     "metadata": {},
     "output_type": "display_data"
    },
    {
     "data": {
      "application/vnd.jupyter.widget-view+json": {
       "model_id": "d7eded6aaf3d48edac0217e1334ed074",
       "version_major": 2,
       "version_minor": 0
      },
      "text/plain": [
       "Calculating likelihoods:   0%|          | 0/3 [00:00<?, ?it/s]"
      ]
     },
     "metadata": {},
     "output_type": "display_data"
    },
    {
     "data": {
      "application/vnd.jupyter.widget-view+json": {
       "model_id": "f957b4ae89a24818a5e0a93d8f31f357",
       "version_major": 2,
       "version_minor": 0
      },
      "text/plain": [
       "Calculating likelihoods:   0%|          | 0/3 [00:00<?, ?it/s]"
      ]
     },
     "metadata": {},
     "output_type": "display_data"
    },
    {
     "data": {
      "application/vnd.jupyter.widget-view+json": {
       "model_id": "b3a55d250187473eb61f1003d9b8b4d7",
       "version_major": 2,
       "version_minor": 0
      },
      "text/plain": [
       "Calculating likelihoods:   0%|          | 0/3 [00:00<?, ?it/s]"
      ]
     },
     "metadata": {},
     "output_type": "display_data"
    },
    {
     "data": {
      "application/vnd.jupyter.widget-view+json": {
       "model_id": "afb3d1f4d7e9456088a6d0a0d6c37f39",
       "version_major": 2,
       "version_minor": 0
      },
      "text/plain": [
       "Calculating likelihoods:   0%|          | 0/3 [00:00<?, ?it/s]"
      ]
     },
     "metadata": {},
     "output_type": "display_data"
    },
    {
     "data": {
      "application/vnd.jupyter.widget-view+json": {
       "model_id": "f975fbde2ad1493bb033f5632784de19",
       "version_major": 2,
       "version_minor": 0
      },
      "text/plain": [
       "Calculating likelihoods:   0%|          | 0/3 [00:00<?, ?it/s]"
      ]
     },
     "metadata": {},
     "output_type": "display_data"
    },
    {
     "data": {
      "application/vnd.jupyter.widget-view+json": {
       "model_id": "1bef1eb845424aaabcbcfd987370f394",
       "version_major": 2,
       "version_minor": 0
      },
      "text/plain": [
       "Calculating likelihoods:   0%|          | 0/3 [00:00<?, ?it/s]"
      ]
     },
     "metadata": {},
     "output_type": "display_data"
    },
    {
     "data": {
      "application/vnd.jupyter.widget-view+json": {
       "model_id": "9bf90dc1e9bc4e8b9025c2ef59269d0e",
       "version_major": 2,
       "version_minor": 0
      },
      "text/plain": [
       "Calculating likelihoods:   0%|          | 0/3 [00:00<?, ?it/s]"
      ]
     },
     "metadata": {},
     "output_type": "display_data"
    },
    {
     "data": {
      "application/vnd.jupyter.widget-view+json": {
       "model_id": "a92af617ac5f4834970c5f76b90cf492",
       "version_major": 2,
       "version_minor": 0
      },
      "text/plain": [
       "Calculating likelihoods:   0%|          | 0/3 [00:00<?, ?it/s]"
      ]
     },
     "metadata": {},
     "output_type": "display_data"
    },
    {
     "data": {
      "application/vnd.jupyter.widget-view+json": {
       "model_id": "981eb827927d4dfb9b28d91ae7a000d0",
       "version_major": 2,
       "version_minor": 0
      },
      "text/plain": [
       "Calculating likelihoods:   0%|          | 0/3 [00:00<?, ?it/s]"
      ]
     },
     "metadata": {},
     "output_type": "display_data"
    },
    {
     "data": {
      "application/vnd.jupyter.widget-view+json": {
       "model_id": "e38339ded2c04dd3818d00b636efc4c1",
       "version_major": 2,
       "version_minor": 0
      },
      "text/plain": [
       "Calculating likelihoods:   0%|          | 0/3 [00:00<?, ?it/s]"
      ]
     },
     "metadata": {},
     "output_type": "display_data"
    },
    {
     "data": {
      "application/vnd.jupyter.widget-view+json": {
       "model_id": "92bd4ae50c8d4bbc828e2a68c416f5f1",
       "version_major": 2,
       "version_minor": 0
      },
      "text/plain": [
       "Calculating likelihoods:   0%|          | 0/3 [00:00<?, ?it/s]"
      ]
     },
     "metadata": {},
     "output_type": "display_data"
    },
    {
     "data": {
      "application/vnd.jupyter.widget-view+json": {
       "model_id": "8f682fbcf6ad4236a4f295d5440a76ba",
       "version_major": 2,
       "version_minor": 0
      },
      "text/plain": [
       "Calculating likelihoods:   0%|          | 0/3 [00:00<?, ?it/s]"
      ]
     },
     "metadata": {},
     "output_type": "display_data"
    },
    {
     "data": {
      "application/vnd.jupyter.widget-view+json": {
       "model_id": "6386c1465c384e4685d005cce031968a",
       "version_major": 2,
       "version_minor": 0
      },
      "text/plain": [
       "Calculating likelihoods:   0%|          | 0/3 [00:00<?, ?it/s]"
      ]
     },
     "metadata": {},
     "output_type": "display_data"
    },
    {
     "data": {
      "application/vnd.jupyter.widget-view+json": {
       "model_id": "d621df973e0a4781879498d6dd8988d5",
       "version_major": 2,
       "version_minor": 0
      },
      "text/plain": [
       "Calculating likelihoods:   0%|          | 0/3 [00:00<?, ?it/s]"
      ]
     },
     "metadata": {},
     "output_type": "display_data"
    },
    {
     "data": {
      "application/vnd.jupyter.widget-view+json": {
       "model_id": "5b3ec8aaa42e4ea1b35d21ff22d63098",
       "version_major": 2,
       "version_minor": 0
      },
      "text/plain": [
       "Calculating likelihoods:   0%|          | 0/3 [00:00<?, ?it/s]"
      ]
     },
     "metadata": {},
     "output_type": "display_data"
    },
    {
     "data": {
      "application/vnd.jupyter.widget-view+json": {
       "model_id": "47901520cb4e47d187cdc7958cb4fd3d",
       "version_major": 2,
       "version_minor": 0
      },
      "text/plain": [
       "Calculating likelihoods:   0%|          | 0/3 [00:00<?, ?it/s]"
      ]
     },
     "metadata": {},
     "output_type": "display_data"
    },
    {
     "data": {
      "application/vnd.jupyter.widget-view+json": {
       "model_id": "01a33f3bbb8f4038b93e70e287b21f10",
       "version_major": 2,
       "version_minor": 0
      },
      "text/plain": [
       "Calculating likelihoods:   0%|          | 0/3 [00:00<?, ?it/s]"
      ]
     },
     "metadata": {},
     "output_type": "display_data"
    },
    {
     "data": {
      "application/vnd.jupyter.widget-view+json": {
       "model_id": "8eb58f8877f641ad8e623eee1c365947",
       "version_major": 2,
       "version_minor": 0
      },
      "text/plain": [
       "Calculating likelihoods:   0%|          | 0/3 [00:00<?, ?it/s]"
      ]
     },
     "metadata": {},
     "output_type": "display_data"
    },
    {
     "data": {
      "application/vnd.jupyter.widget-view+json": {
       "model_id": "3dd3d283c09f43cd9c76fbe795ab70ab",
       "version_major": 2,
       "version_minor": 0
      },
      "text/plain": [
       "Calculating likelihoods:   0%|          | 0/3 [00:00<?, ?it/s]"
      ]
     },
     "metadata": {},
     "output_type": "display_data"
    },
    {
     "data": {
      "application/vnd.jupyter.widget-view+json": {
       "model_id": "ebccefa487884186a80c8bd59ad3015e",
       "version_major": 2,
       "version_minor": 0
      },
      "text/plain": [
       "Calculating likelihoods:   0%|          | 0/3 [00:00<?, ?it/s]"
      ]
     },
     "metadata": {},
     "output_type": "display_data"
    },
    {
     "data": {
      "application/vnd.jupyter.widget-view+json": {
       "model_id": "c0b4dc45d5d24568a9de40d7e8cea0ef",
       "version_major": 2,
       "version_minor": 0
      },
      "text/plain": [
       "Calculating likelihoods:   0%|          | 0/3 [00:00<?, ?it/s]"
      ]
     },
     "metadata": {},
     "output_type": "display_data"
    },
    {
     "data": {
      "application/vnd.jupyter.widget-view+json": {
       "model_id": "0a1ddeb9784d484b8b2dfd2b15c7b961",
       "version_major": 2,
       "version_minor": 0
      },
      "text/plain": [
       "Calculating likelihoods:   0%|          | 0/3 [00:00<?, ?it/s]"
      ]
     },
     "metadata": {},
     "output_type": "display_data"
    },
    {
     "data": {
      "application/vnd.jupyter.widget-view+json": {
       "model_id": "85771e982b7145068f04a345ce33034d",
       "version_major": 2,
       "version_minor": 0
      },
      "text/plain": [
       "Calculating likelihoods:   0%|          | 0/3 [00:00<?, ?it/s]"
      ]
     },
     "metadata": {},
     "output_type": "display_data"
    },
    {
     "data": {
      "application/vnd.jupyter.widget-view+json": {
       "model_id": "d4f7bbf89809406dac604021bd6b8abc",
       "version_major": 2,
       "version_minor": 0
      },
      "text/plain": [
       "Calculating likelihoods:   0%|          | 0/3 [00:00<?, ?it/s]"
      ]
     },
     "metadata": {},
     "output_type": "display_data"
    },
    {
     "data": {
      "application/vnd.jupyter.widget-view+json": {
       "model_id": "9b61f0ceb3f04479a6859efdf5a58b5b",
       "version_major": 2,
       "version_minor": 0
      },
      "text/plain": [
       "Calculating likelihoods:   0%|          | 0/3 [00:00<?, ?it/s]"
      ]
     },
     "metadata": {},
     "output_type": "display_data"
    },
    {
     "data": {
      "application/vnd.jupyter.widget-view+json": {
       "model_id": "03f4a2b25c0b4fc880eedf0ab02892e2",
       "version_major": 2,
       "version_minor": 0
      },
      "text/plain": [
       "Calculating likelihoods:   0%|          | 0/3 [00:00<?, ?it/s]"
      ]
     },
     "metadata": {},
     "output_type": "display_data"
    },
    {
     "data": {
      "application/vnd.jupyter.widget-view+json": {
       "model_id": "8f1742414c444cd6b65fbff49f017204",
       "version_major": 2,
       "version_minor": 0
      },
      "text/plain": [
       "Calculating likelihoods:   0%|          | 0/3 [00:00<?, ?it/s]"
      ]
     },
     "metadata": {},
     "output_type": "display_data"
    },
    {
     "data": {
      "application/vnd.jupyter.widget-view+json": {
       "model_id": "2b99487bb87849d7a3ab265b69041724",
       "version_major": 2,
       "version_minor": 0
      },
      "text/plain": [
       "Calculating likelihoods:   0%|          | 0/3 [00:00<?, ?it/s]"
      ]
     },
     "metadata": {},
     "output_type": "display_data"
    },
    {
     "data": {
      "application/vnd.jupyter.widget-view+json": {
       "model_id": "6af3e72c22364bed8035860a1b778f6f",
       "version_major": 2,
       "version_minor": 0
      },
      "text/plain": [
       "Calculating likelihoods:   0%|          | 0/3 [00:00<?, ?it/s]"
      ]
     },
     "metadata": {},
     "output_type": "display_data"
    },
    {
     "data": {
      "application/vnd.jupyter.widget-view+json": {
       "model_id": "a833fc0934e448d88451c7cea5b85d38",
       "version_major": 2,
       "version_minor": 0
      },
      "text/plain": [
       "Calculating likelihoods:   0%|          | 0/3 [00:00<?, ?it/s]"
      ]
     },
     "metadata": {},
     "output_type": "display_data"
    },
    {
     "data": {
      "application/vnd.jupyter.widget-view+json": {
       "model_id": "3d0bded11e6b461788d05f9f85cfe54f",
       "version_major": 2,
       "version_minor": 0
      },
      "text/plain": [
       "Calculating likelihoods:   0%|          | 0/3 [00:00<?, ?it/s]"
      ]
     },
     "metadata": {},
     "output_type": "display_data"
    },
    {
     "data": {
      "application/vnd.jupyter.widget-view+json": {
       "model_id": "7363878b3b964c14b5db3a068fae6d01",
       "version_major": 2,
       "version_minor": 0
      },
      "text/plain": [
       "Calculating likelihoods:   0%|          | 0/3 [00:00<?, ?it/s]"
      ]
     },
     "metadata": {},
     "output_type": "display_data"
    },
    {
     "data": {
      "application/vnd.jupyter.widget-view+json": {
       "model_id": "fd13cb9447e74fdd89dcfad3d6ec100b",
       "version_major": 2,
       "version_minor": 0
      },
      "text/plain": [
       "Calculating likelihoods:   0%|          | 0/3 [00:00<?, ?it/s]"
      ]
     },
     "metadata": {},
     "output_type": "display_data"
    },
    {
     "data": {
      "application/vnd.jupyter.widget-view+json": {
       "model_id": "212224f3cac044fd9b832222e66858ea",
       "version_major": 2,
       "version_minor": 0
      },
      "text/plain": [
       "Calculating likelihoods:   0%|          | 0/3 [00:00<?, ?it/s]"
      ]
     },
     "metadata": {},
     "output_type": "display_data"
    },
    {
     "data": {
      "application/vnd.jupyter.widget-view+json": {
       "model_id": "0199315646504d0a97518cb7537419da",
       "version_major": 2,
       "version_minor": 0
      },
      "text/plain": [
       "Calculating likelihoods:   0%|          | 0/3 [00:00<?, ?it/s]"
      ]
     },
     "metadata": {},
     "output_type": "display_data"
    },
    {
     "data": {
      "application/vnd.jupyter.widget-view+json": {
       "model_id": "f908049b33f846c3aff691a2f72af7cd",
       "version_major": 2,
       "version_minor": 0
      },
      "text/plain": [
       "Calculating likelihoods:   0%|          | 0/3 [00:00<?, ?it/s]"
      ]
     },
     "metadata": {},
     "output_type": "display_data"
    },
    {
     "data": {
      "application/vnd.jupyter.widget-view+json": {
       "model_id": "517df5c59a574da0b87799d2cbe18873",
       "version_major": 2,
       "version_minor": 0
      },
      "text/plain": [
       "Calculating likelihoods:   0%|          | 0/3 [00:00<?, ?it/s]"
      ]
     },
     "metadata": {},
     "output_type": "display_data"
    },
    {
     "data": {
      "application/vnd.jupyter.widget-view+json": {
       "model_id": "220808b5579f403eb704ebd465c08c19",
       "version_major": 2,
       "version_minor": 0
      },
      "text/plain": [
       "Calculating likelihoods:   0%|          | 0/3 [00:00<?, ?it/s]"
      ]
     },
     "metadata": {},
     "output_type": "display_data"
    },
    {
     "data": {
      "application/vnd.jupyter.widget-view+json": {
       "model_id": "9417a770aea041d7b6a1dd5286842a4f",
       "version_major": 2,
       "version_minor": 0
      },
      "text/plain": [
       "Calculating likelihoods:   0%|          | 0/3 [00:00<?, ?it/s]"
      ]
     },
     "metadata": {},
     "output_type": "display_data"
    },
    {
     "data": {
      "application/vnd.jupyter.widget-view+json": {
       "model_id": "50b2ae65ded74c77a8d464a9383cdac8",
       "version_major": 2,
       "version_minor": 0
      },
      "text/plain": [
       "Calculating likelihoods:   0%|          | 0/3 [00:00<?, ?it/s]"
      ]
     },
     "metadata": {},
     "output_type": "display_data"
    },
    {
     "data": {
      "application/vnd.jupyter.widget-view+json": {
       "model_id": "fc2d0b8cfa78446da9b7a36db317c30c",
       "version_major": 2,
       "version_minor": 0
      },
      "text/plain": [
       "Calculating likelihoods:   0%|          | 0/3 [00:00<?, ?it/s]"
      ]
     },
     "metadata": {},
     "output_type": "display_data"
    },
    {
     "data": {
      "application/vnd.jupyter.widget-view+json": {
       "model_id": "eb8dc780fbc24820873784b072877765",
       "version_major": 2,
       "version_minor": 0
      },
      "text/plain": [
       "Calculating likelihoods:   0%|          | 0/3 [00:00<?, ?it/s]"
      ]
     },
     "metadata": {},
     "output_type": "display_data"
    },
    {
     "data": {
      "application/vnd.jupyter.widget-view+json": {
       "model_id": "e1e0b9a4b2634c67822c929ab8e79315",
       "version_major": 2,
       "version_minor": 0
      },
      "text/plain": [
       "Calculating likelihoods:   0%|          | 0/3 [00:00<?, ?it/s]"
      ]
     },
     "metadata": {},
     "output_type": "display_data"
    },
    {
     "data": {
      "application/vnd.jupyter.widget-view+json": {
       "model_id": "a3164f36db5b470495dea179ee2a2026",
       "version_major": 2,
       "version_minor": 0
      },
      "text/plain": [
       "Calculating likelihoods:   0%|          | 0/3 [00:00<?, ?it/s]"
      ]
     },
     "metadata": {},
     "output_type": "display_data"
    },
    {
     "data": {
      "application/vnd.jupyter.widget-view+json": {
       "model_id": "4679e702b6254532966b367bd0b5bf24",
       "version_major": 2,
       "version_minor": 0
      },
      "text/plain": [
       "Calculating likelihoods:   0%|          | 0/3 [00:00<?, ?it/s]"
      ]
     },
     "metadata": {},
     "output_type": "display_data"
    },
    {
     "data": {
      "application/vnd.jupyter.widget-view+json": {
       "model_id": "ad2d092b827b4bc080bc1bd49102fb43",
       "version_major": 2,
       "version_minor": 0
      },
      "text/plain": [
       "Calculating likelihoods:   0%|          | 0/3 [00:00<?, ?it/s]"
      ]
     },
     "metadata": {},
     "output_type": "display_data"
    },
    {
     "data": {
      "application/vnd.jupyter.widget-view+json": {
       "model_id": "34cca692afd04b9589ab152b6b3b1fbe",
       "version_major": 2,
       "version_minor": 0
      },
      "text/plain": [
       "Calculating likelihoods:   0%|          | 0/3 [00:00<?, ?it/s]"
      ]
     },
     "metadata": {},
     "output_type": "display_data"
    },
    {
     "data": {
      "application/vnd.jupyter.widget-view+json": {
       "model_id": "2bc7477d0abc46dc806404b21e3ff771",
       "version_major": 2,
       "version_minor": 0
      },
      "text/plain": [
       "Calculating likelihoods:   0%|          | 0/3 [00:00<?, ?it/s]"
      ]
     },
     "metadata": {},
     "output_type": "display_data"
    },
    {
     "data": {
      "application/vnd.jupyter.widget-view+json": {
       "model_id": "9ca257e309234ea9837f3c7562168679",
       "version_major": 2,
       "version_minor": 0
      },
      "text/plain": [
       "Calculating likelihoods:   0%|          | 0/3 [00:00<?, ?it/s]"
      ]
     },
     "metadata": {},
     "output_type": "display_data"
    },
    {
     "data": {
      "application/vnd.jupyter.widget-view+json": {
       "model_id": "789b0796ab8d4bb985be223b17f323db",
       "version_major": 2,
       "version_minor": 0
      },
      "text/plain": [
       "Calculating likelihoods:   0%|          | 0/3 [00:00<?, ?it/s]"
      ]
     },
     "metadata": {},
     "output_type": "display_data"
    },
    {
     "data": {
      "application/vnd.jupyter.widget-view+json": {
       "model_id": "bdbba908f50746f1b3d83ad86e4eb044",
       "version_major": 2,
       "version_minor": 0
      },
      "text/plain": [
       "Calculating likelihoods:   0%|          | 0/3 [00:00<?, ?it/s]"
      ]
     },
     "metadata": {},
     "output_type": "display_data"
    },
    {
     "data": {
      "application/vnd.jupyter.widget-view+json": {
       "model_id": "440257cf99364405a5a64f2d062eceb2",
       "version_major": 2,
       "version_minor": 0
      },
      "text/plain": [
       "Calculating likelihoods:   0%|          | 0/3 [00:00<?, ?it/s]"
      ]
     },
     "metadata": {},
     "output_type": "display_data"
    },
    {
     "data": {
      "application/vnd.jupyter.widget-view+json": {
       "model_id": "4c00e5ecdb434999a288064e05c6e6a9",
       "version_major": 2,
       "version_minor": 0
      },
      "text/plain": [
       "Calculating likelihoods:   0%|          | 0/3 [00:00<?, ?it/s]"
      ]
     },
     "metadata": {},
     "output_type": "display_data"
    },
    {
     "data": {
      "application/vnd.jupyter.widget-view+json": {
       "model_id": "cf90980e23b945febbbb05269747e367",
       "version_major": 2,
       "version_minor": 0
      },
      "text/plain": [
       "Calculating likelihoods:   0%|          | 0/3 [00:00<?, ?it/s]"
      ]
     },
     "metadata": {},
     "output_type": "display_data"
    },
    {
     "data": {
      "application/vnd.jupyter.widget-view+json": {
       "model_id": "e579b958c8704c6994370ef0c741715b",
       "version_major": 2,
       "version_minor": 0
      },
      "text/plain": [
       "Calculating likelihoods:   0%|          | 0/3 [00:00<?, ?it/s]"
      ]
     },
     "metadata": {},
     "output_type": "display_data"
    },
    {
     "data": {
      "application/vnd.jupyter.widget-view+json": {
       "model_id": "b4162a207a0f4ef99728cf9f0b308045",
       "version_major": 2,
       "version_minor": 0
      },
      "text/plain": [
       "Calculating likelihoods:   0%|          | 0/3 [00:00<?, ?it/s]"
      ]
     },
     "metadata": {},
     "output_type": "display_data"
    },
    {
     "data": {
      "application/vnd.jupyter.widget-view+json": {
       "model_id": "7d57c1eb8d994d8abc1f5b21766de943",
       "version_major": 2,
       "version_minor": 0
      },
      "text/plain": [
       "Calculating likelihoods:   0%|          | 0/3 [00:00<?, ?it/s]"
      ]
     },
     "metadata": {},
     "output_type": "display_data"
    },
    {
     "data": {
      "application/vnd.jupyter.widget-view+json": {
       "model_id": "bae0c71c03c64e73abc856ef0a8e273d",
       "version_major": 2,
       "version_minor": 0
      },
      "text/plain": [
       "Calculating likelihoods:   0%|          | 0/3 [00:00<?, ?it/s]"
      ]
     },
     "metadata": {},
     "output_type": "display_data"
    },
    {
     "data": {
      "application/vnd.jupyter.widget-view+json": {
       "model_id": "e054ed67174a4698b76f55197ec34368",
       "version_major": 2,
       "version_minor": 0
      },
      "text/plain": [
       "Calculating likelihoods:   0%|          | 0/3 [00:00<?, ?it/s]"
      ]
     },
     "metadata": {},
     "output_type": "display_data"
    },
    {
     "data": {
      "application/vnd.jupyter.widget-view+json": {
       "model_id": "f8fd459b50b6424f893404c48af01c30",
       "version_major": 2,
       "version_minor": 0
      },
      "text/plain": [
       "Calculating likelihoods:   0%|          | 0/3 [00:00<?, ?it/s]"
      ]
     },
     "metadata": {},
     "output_type": "display_data"
    },
    {
     "data": {
      "application/vnd.jupyter.widget-view+json": {
       "model_id": "c9e0afdb15544e3bad33f467ca5d9ac4",
       "version_major": 2,
       "version_minor": 0
      },
      "text/plain": [
       "Calculating likelihoods:   0%|          | 0/3 [00:00<?, ?it/s]"
      ]
     },
     "metadata": {},
     "output_type": "display_data"
    },
    {
     "data": {
      "application/vnd.jupyter.widget-view+json": {
       "model_id": "b36e45f55691448f8a55a59e2cdbccd3",
       "version_major": 2,
       "version_minor": 0
      },
      "text/plain": [
       "Calculating likelihoods:   0%|          | 0/3 [00:00<?, ?it/s]"
      ]
     },
     "metadata": {},
     "output_type": "display_data"
    },
    {
     "data": {
      "application/vnd.jupyter.widget-view+json": {
       "model_id": "d798d44fdd5f46c38e3180683a77691d",
       "version_major": 2,
       "version_minor": 0
      },
      "text/plain": [
       "Calculating likelihoods:   0%|          | 0/3 [00:00<?, ?it/s]"
      ]
     },
     "metadata": {},
     "output_type": "display_data"
    },
    {
     "data": {
      "application/vnd.jupyter.widget-view+json": {
       "model_id": "b181affcaa6541769187a1b917760a4b",
       "version_major": 2,
       "version_minor": 0
      },
      "text/plain": [
       "Calculating likelihoods:   0%|          | 0/3 [00:00<?, ?it/s]"
      ]
     },
     "metadata": {},
     "output_type": "display_data"
    },
    {
     "data": {
      "application/vnd.jupyter.widget-view+json": {
       "model_id": "89d037de00d14976bb201b54b5b7564c",
       "version_major": 2,
       "version_minor": 0
      },
      "text/plain": [
       "Calculating likelihoods:   0%|          | 0/3 [00:00<?, ?it/s]"
      ]
     },
     "metadata": {},
     "output_type": "display_data"
    },
    {
     "name": "stdout",
     "output_type": "stream",
     "text": [
      "Optimal parameters for 8 players and threshold 0.375:\n",
      "{'inverse_temperature': 33.59868068961631, 'len_history': 6.41825970709509, 'c': 0.9512716749762423}\n",
      "Deviance: -3587.4540557387404\n",
      "AIC: 7180.908111477481\n",
      "--------------------------------------------------\n",
      "Finding deviance for 8 players and threshold 0.875...\n"
     ]
    },
    {
     "data": {
      "application/vnd.jupyter.widget-view+json": {
       "model_id": "d9e26b5b9f9a44a9988c97f7fe3678ab",
       "version_major": 2,
       "version_minor": 0
      },
      "text/plain": [
       "Calculating likelihoods:   0%|          | 0/3 [00:00<?, ?it/s]"
      ]
     },
     "metadata": {},
     "output_type": "display_data"
    },
    {
     "data": {
      "application/vnd.jupyter.widget-view+json": {
       "model_id": "bd856e8c65f243fea79bbcc259705e98",
       "version_major": 2,
       "version_minor": 0
      },
      "text/plain": [
       "Calculating likelihoods:   0%|          | 0/3 [00:00<?, ?it/s]"
      ]
     },
     "metadata": {},
     "output_type": "display_data"
    },
    {
     "data": {
      "application/vnd.jupyter.widget-view+json": {
       "model_id": "c22242e3463947c18ce3f990a072065a",
       "version_major": 2,
       "version_minor": 0
      },
      "text/plain": [
       "Calculating likelihoods:   0%|          | 0/3 [00:00<?, ?it/s]"
      ]
     },
     "metadata": {},
     "output_type": "display_data"
    },
    {
     "data": {
      "application/vnd.jupyter.widget-view+json": {
       "model_id": "82036372a1a84fe5bd084ff52417ec24",
       "version_major": 2,
       "version_minor": 0
      },
      "text/plain": [
       "Calculating likelihoods:   0%|          | 0/3 [00:00<?, ?it/s]"
      ]
     },
     "metadata": {},
     "output_type": "display_data"
    },
    {
     "data": {
      "application/vnd.jupyter.widget-view+json": {
       "model_id": "480ad01da0d746e0bf907b2ab2129a8f",
       "version_major": 2,
       "version_minor": 0
      },
      "text/plain": [
       "Calculating likelihoods:   0%|          | 0/3 [00:00<?, ?it/s]"
      ]
     },
     "metadata": {},
     "output_type": "display_data"
    },
    {
     "data": {
      "application/vnd.jupyter.widget-view+json": {
       "model_id": "f8e8b263acf94622a87a5d7e10d1683c",
       "version_major": 2,
       "version_minor": 0
      },
      "text/plain": [
       "Calculating likelihoods:   0%|          | 0/3 [00:00<?, ?it/s]"
      ]
     },
     "metadata": {},
     "output_type": "display_data"
    },
    {
     "data": {
      "application/vnd.jupyter.widget-view+json": {
       "model_id": "9a722b65901e4ca9b38339fa3db3f95a",
       "version_major": 2,
       "version_minor": 0
      },
      "text/plain": [
       "Calculating likelihoods:   0%|          | 0/3 [00:00<?, ?it/s]"
      ]
     },
     "metadata": {},
     "output_type": "display_data"
    },
    {
     "data": {
      "application/vnd.jupyter.widget-view+json": {
       "model_id": "29b59daf30f3498e87c96698b572abf4",
       "version_major": 2,
       "version_minor": 0
      },
      "text/plain": [
       "Calculating likelihoods:   0%|          | 0/3 [00:00<?, ?it/s]"
      ]
     },
     "metadata": {},
     "output_type": "display_data"
    },
    {
     "data": {
      "application/vnd.jupyter.widget-view+json": {
       "model_id": "ae6af1087ed940998c6df2948118a85d",
       "version_major": 2,
       "version_minor": 0
      },
      "text/plain": [
       "Calculating likelihoods:   0%|          | 0/3 [00:00<?, ?it/s]"
      ]
     },
     "metadata": {},
     "output_type": "display_data"
    },
    {
     "data": {
      "application/vnd.jupyter.widget-view+json": {
       "model_id": "8695b60bece648f99b1ec24bacb075eb",
       "version_major": 2,
       "version_minor": 0
      },
      "text/plain": [
       "Calculating likelihoods:   0%|          | 0/3 [00:00<?, ?it/s]"
      ]
     },
     "metadata": {},
     "output_type": "display_data"
    },
    {
     "data": {
      "application/vnd.jupyter.widget-view+json": {
       "model_id": "4c978f0f4de24ea5834fad136c20e481",
       "version_major": 2,
       "version_minor": 0
      },
      "text/plain": [
       "Calculating likelihoods:   0%|          | 0/3 [00:00<?, ?it/s]"
      ]
     },
     "metadata": {},
     "output_type": "display_data"
    },
    {
     "data": {
      "application/vnd.jupyter.widget-view+json": {
       "model_id": "1429aa9c9b18412e99548d1c4fd34784",
       "version_major": 2,
       "version_minor": 0
      },
      "text/plain": [
       "Calculating likelihoods:   0%|          | 0/3 [00:00<?, ?it/s]"
      ]
     },
     "metadata": {},
     "output_type": "display_data"
    },
    {
     "data": {
      "application/vnd.jupyter.widget-view+json": {
       "model_id": "dcfbd450253d437d8b31d0940bd7eb61",
       "version_major": 2,
       "version_minor": 0
      },
      "text/plain": [
       "Calculating likelihoods:   0%|          | 0/3 [00:00<?, ?it/s]"
      ]
     },
     "metadata": {},
     "output_type": "display_data"
    },
    {
     "data": {
      "application/vnd.jupyter.widget-view+json": {
       "model_id": "a632782fbb874f388bb7f86aebadd301",
       "version_major": 2,
       "version_minor": 0
      },
      "text/plain": [
       "Calculating likelihoods:   0%|          | 0/3 [00:00<?, ?it/s]"
      ]
     },
     "metadata": {},
     "output_type": "display_data"
    },
    {
     "data": {
      "application/vnd.jupyter.widget-view+json": {
       "model_id": "8147c724bb8740dd89b194d190b36297",
       "version_major": 2,
       "version_minor": 0
      },
      "text/plain": [
       "Calculating likelihoods:   0%|          | 0/3 [00:00<?, ?it/s]"
      ]
     },
     "metadata": {},
     "output_type": "display_data"
    },
    {
     "data": {
      "application/vnd.jupyter.widget-view+json": {
       "model_id": "094a7d39ac2e4d788683cbc15ce54ec7",
       "version_major": 2,
       "version_minor": 0
      },
      "text/plain": [
       "Calculating likelihoods:   0%|          | 0/3 [00:00<?, ?it/s]"
      ]
     },
     "metadata": {},
     "output_type": "display_data"
    },
    {
     "data": {
      "application/vnd.jupyter.widget-view+json": {
       "model_id": "f500aac25e8b44d199e2fe75ae94a359",
       "version_major": 2,
       "version_minor": 0
      },
      "text/plain": [
       "Calculating likelihoods:   0%|          | 0/3 [00:00<?, ?it/s]"
      ]
     },
     "metadata": {},
     "output_type": "display_data"
    },
    {
     "data": {
      "application/vnd.jupyter.widget-view+json": {
       "model_id": "40b7dd76924645f896dfeed376b2557d",
       "version_major": 2,
       "version_minor": 0
      },
      "text/plain": [
       "Calculating likelihoods:   0%|          | 0/3 [00:00<?, ?it/s]"
      ]
     },
     "metadata": {},
     "output_type": "display_data"
    },
    {
     "data": {
      "application/vnd.jupyter.widget-view+json": {
       "model_id": "137ea9f611f54e6994a8a2daa0d84efe",
       "version_major": 2,
       "version_minor": 0
      },
      "text/plain": [
       "Calculating likelihoods:   0%|          | 0/3 [00:00<?, ?it/s]"
      ]
     },
     "metadata": {},
     "output_type": "display_data"
    },
    {
     "data": {
      "application/vnd.jupyter.widget-view+json": {
       "model_id": "5edca50001cf4015aec0a21c73c7c1b7",
       "version_major": 2,
       "version_minor": 0
      },
      "text/plain": [
       "Calculating likelihoods:   0%|          | 0/3 [00:00<?, ?it/s]"
      ]
     },
     "metadata": {},
     "output_type": "display_data"
    },
    {
     "data": {
      "application/vnd.jupyter.widget-view+json": {
       "model_id": "22d0dd1244dd4f0d9083cc50d1475e90",
       "version_major": 2,
       "version_minor": 0
      },
      "text/plain": [
       "Calculating likelihoods:   0%|          | 0/3 [00:00<?, ?it/s]"
      ]
     },
     "metadata": {},
     "output_type": "display_data"
    },
    {
     "data": {
      "application/vnd.jupyter.widget-view+json": {
       "model_id": "ba6c0c92196846f98322eae141302610",
       "version_major": 2,
       "version_minor": 0
      },
      "text/plain": [
       "Calculating likelihoods:   0%|          | 0/3 [00:00<?, ?it/s]"
      ]
     },
     "metadata": {},
     "output_type": "display_data"
    },
    {
     "data": {
      "application/vnd.jupyter.widget-view+json": {
       "model_id": "8af375e328ac446aa4e7e57a490fc88d",
       "version_major": 2,
       "version_minor": 0
      },
      "text/plain": [
       "Calculating likelihoods:   0%|          | 0/3 [00:00<?, ?it/s]"
      ]
     },
     "metadata": {},
     "output_type": "display_data"
    },
    {
     "data": {
      "application/vnd.jupyter.widget-view+json": {
       "model_id": "78dcd99c75b14ebebee89e8f6889ecb6",
       "version_major": 2,
       "version_minor": 0
      },
      "text/plain": [
       "Calculating likelihoods:   0%|          | 0/3 [00:00<?, ?it/s]"
      ]
     },
     "metadata": {},
     "output_type": "display_data"
    },
    {
     "data": {
      "application/vnd.jupyter.widget-view+json": {
       "model_id": "e388585f35ac4f59a47e67a48a6d77eb",
       "version_major": 2,
       "version_minor": 0
      },
      "text/plain": [
       "Calculating likelihoods:   0%|          | 0/3 [00:00<?, ?it/s]"
      ]
     },
     "metadata": {},
     "output_type": "display_data"
    },
    {
     "data": {
      "application/vnd.jupyter.widget-view+json": {
       "model_id": "0e52020cbd12417e9fee28561f378d3d",
       "version_major": 2,
       "version_minor": 0
      },
      "text/plain": [
       "Calculating likelihoods:   0%|          | 0/3 [00:00<?, ?it/s]"
      ]
     },
     "metadata": {},
     "output_type": "display_data"
    },
    {
     "data": {
      "application/vnd.jupyter.widget-view+json": {
       "model_id": "f80b5732e569499bbccddf90487dae5b",
       "version_major": 2,
       "version_minor": 0
      },
      "text/plain": [
       "Calculating likelihoods:   0%|          | 0/3 [00:00<?, ?it/s]"
      ]
     },
     "metadata": {},
     "output_type": "display_data"
    },
    {
     "data": {
      "application/vnd.jupyter.widget-view+json": {
       "model_id": "fdd81d73fb8d42378303a268a3ad2447",
       "version_major": 2,
       "version_minor": 0
      },
      "text/plain": [
       "Calculating likelihoods:   0%|          | 0/3 [00:00<?, ?it/s]"
      ]
     },
     "metadata": {},
     "output_type": "display_data"
    },
    {
     "data": {
      "application/vnd.jupyter.widget-view+json": {
       "model_id": "7127d28f68ea43b3bee34940f60a1c3b",
       "version_major": 2,
       "version_minor": 0
      },
      "text/plain": [
       "Calculating likelihoods:   0%|          | 0/3 [00:00<?, ?it/s]"
      ]
     },
     "metadata": {},
     "output_type": "display_data"
    },
    {
     "data": {
      "application/vnd.jupyter.widget-view+json": {
       "model_id": "0c669990816d432d817e081ab3dcd8b4",
       "version_major": 2,
       "version_minor": 0
      },
      "text/plain": [
       "Calculating likelihoods:   0%|          | 0/3 [00:00<?, ?it/s]"
      ]
     },
     "metadata": {},
     "output_type": "display_data"
    },
    {
     "data": {
      "application/vnd.jupyter.widget-view+json": {
       "model_id": "12e134db2bb04e9c93ad56db1ce2f07c",
       "version_major": 2,
       "version_minor": 0
      },
      "text/plain": [
       "Calculating likelihoods:   0%|          | 0/3 [00:00<?, ?it/s]"
      ]
     },
     "metadata": {},
     "output_type": "display_data"
    },
    {
     "data": {
      "application/vnd.jupyter.widget-view+json": {
       "model_id": "f9ec4c085fe54a5c9fee2d550b8d3900",
       "version_major": 2,
       "version_minor": 0
      },
      "text/plain": [
       "Calculating likelihoods:   0%|          | 0/3 [00:00<?, ?it/s]"
      ]
     },
     "metadata": {},
     "output_type": "display_data"
    },
    {
     "data": {
      "application/vnd.jupyter.widget-view+json": {
       "model_id": "e1d949beb3f246b39f5473e896da292a",
       "version_major": 2,
       "version_minor": 0
      },
      "text/plain": [
       "Calculating likelihoods:   0%|          | 0/3 [00:00<?, ?it/s]"
      ]
     },
     "metadata": {},
     "output_type": "display_data"
    },
    {
     "data": {
      "application/vnd.jupyter.widget-view+json": {
       "model_id": "a9cdbdd4e3ad4aaf9e35a23df73b0124",
       "version_major": 2,
       "version_minor": 0
      },
      "text/plain": [
       "Calculating likelihoods:   0%|          | 0/3 [00:00<?, ?it/s]"
      ]
     },
     "metadata": {},
     "output_type": "display_data"
    },
    {
     "data": {
      "application/vnd.jupyter.widget-view+json": {
       "model_id": "065e47384026470bb317848e942b8704",
       "version_major": 2,
       "version_minor": 0
      },
      "text/plain": [
       "Calculating likelihoods:   0%|          | 0/3 [00:00<?, ?it/s]"
      ]
     },
     "metadata": {},
     "output_type": "display_data"
    },
    {
     "data": {
      "application/vnd.jupyter.widget-view+json": {
       "model_id": "f9d82dcf360649abb98bb0de2f017b7c",
       "version_major": 2,
       "version_minor": 0
      },
      "text/plain": [
       "Calculating likelihoods:   0%|          | 0/3 [00:00<?, ?it/s]"
      ]
     },
     "metadata": {},
     "output_type": "display_data"
    },
    {
     "data": {
      "application/vnd.jupyter.widget-view+json": {
       "model_id": "dba46289b49b487f9185361868a27452",
       "version_major": 2,
       "version_minor": 0
      },
      "text/plain": [
       "Calculating likelihoods:   0%|          | 0/3 [00:00<?, ?it/s]"
      ]
     },
     "metadata": {},
     "output_type": "display_data"
    },
    {
     "data": {
      "application/vnd.jupyter.widget-view+json": {
       "model_id": "176ce0da42a74a8a9338ff3a6332c433",
       "version_major": 2,
       "version_minor": 0
      },
      "text/plain": [
       "Calculating likelihoods:   0%|          | 0/3 [00:00<?, ?it/s]"
      ]
     },
     "metadata": {},
     "output_type": "display_data"
    },
    {
     "data": {
      "application/vnd.jupyter.widget-view+json": {
       "model_id": "cce638f805654adca6a728f2020c1764",
       "version_major": 2,
       "version_minor": 0
      },
      "text/plain": [
       "Calculating likelihoods:   0%|          | 0/3 [00:00<?, ?it/s]"
      ]
     },
     "metadata": {},
     "output_type": "display_data"
    },
    {
     "data": {
      "application/vnd.jupyter.widget-view+json": {
       "model_id": "edcdac34583741f884411ab39a3e0b7f",
       "version_major": 2,
       "version_minor": 0
      },
      "text/plain": [
       "Calculating likelihoods:   0%|          | 0/3 [00:00<?, ?it/s]"
      ]
     },
     "metadata": {},
     "output_type": "display_data"
    },
    {
     "data": {
      "application/vnd.jupyter.widget-view+json": {
       "model_id": "affc7b0ed9da4104a62b208b6bae6f21",
       "version_major": 2,
       "version_minor": 0
      },
      "text/plain": [
       "Calculating likelihoods:   0%|          | 0/3 [00:00<?, ?it/s]"
      ]
     },
     "metadata": {},
     "output_type": "display_data"
    },
    {
     "data": {
      "application/vnd.jupyter.widget-view+json": {
       "model_id": "cac5891b2aa24c949d3d8eca0caf253c",
       "version_major": 2,
       "version_minor": 0
      },
      "text/plain": [
       "Calculating likelihoods:   0%|          | 0/3 [00:00<?, ?it/s]"
      ]
     },
     "metadata": {},
     "output_type": "display_data"
    },
    {
     "data": {
      "application/vnd.jupyter.widget-view+json": {
       "model_id": "22a0aeda6c064e8bb92210a87b3f8861",
       "version_major": 2,
       "version_minor": 0
      },
      "text/plain": [
       "Calculating likelihoods:   0%|          | 0/3 [00:00<?, ?it/s]"
      ]
     },
     "metadata": {},
     "output_type": "display_data"
    },
    {
     "data": {
      "application/vnd.jupyter.widget-view+json": {
       "model_id": "dc2de5981a9746d39d44360b97fd405c",
       "version_major": 2,
       "version_minor": 0
      },
      "text/plain": [
       "Calculating likelihoods:   0%|          | 0/3 [00:00<?, ?it/s]"
      ]
     },
     "metadata": {},
     "output_type": "display_data"
    },
    {
     "data": {
      "application/vnd.jupyter.widget-view+json": {
       "model_id": "51dd694a049145a8ab7149f6a7a0bb6b",
       "version_major": 2,
       "version_minor": 0
      },
      "text/plain": [
       "Calculating likelihoods:   0%|          | 0/3 [00:00<?, ?it/s]"
      ]
     },
     "metadata": {},
     "output_type": "display_data"
    },
    {
     "data": {
      "application/vnd.jupyter.widget-view+json": {
       "model_id": "efb361ead28c490088060f4cae408d5e",
       "version_major": 2,
       "version_minor": 0
      },
      "text/plain": [
       "Calculating likelihoods:   0%|          | 0/3 [00:00<?, ?it/s]"
      ]
     },
     "metadata": {},
     "output_type": "display_data"
    },
    {
     "data": {
      "application/vnd.jupyter.widget-view+json": {
       "model_id": "cfe58242d90a42cdbef8745e734e07b4",
       "version_major": 2,
       "version_minor": 0
      },
      "text/plain": [
       "Calculating likelihoods:   0%|          | 0/3 [00:00<?, ?it/s]"
      ]
     },
     "metadata": {},
     "output_type": "display_data"
    },
    {
     "data": {
      "application/vnd.jupyter.widget-view+json": {
       "model_id": "2d07c0c7bd454154a60cd635f8425f85",
       "version_major": 2,
       "version_minor": 0
      },
      "text/plain": [
       "Calculating likelihoods:   0%|          | 0/3 [00:00<?, ?it/s]"
      ]
     },
     "metadata": {},
     "output_type": "display_data"
    },
    {
     "data": {
      "application/vnd.jupyter.widget-view+json": {
       "model_id": "5d23d56e56714820aa8f90e97a9da21f",
       "version_major": 2,
       "version_minor": 0
      },
      "text/plain": [
       "Calculating likelihoods:   0%|          | 0/3 [00:00<?, ?it/s]"
      ]
     },
     "metadata": {},
     "output_type": "display_data"
    },
    {
     "data": {
      "application/vnd.jupyter.widget-view+json": {
       "model_id": "5da87c672118498a8645fef83b244368",
       "version_major": 2,
       "version_minor": 0
      },
      "text/plain": [
       "Calculating likelihoods:   0%|          | 0/3 [00:00<?, ?it/s]"
      ]
     },
     "metadata": {},
     "output_type": "display_data"
    },
    {
     "data": {
      "application/vnd.jupyter.widget-view+json": {
       "model_id": "081167efb4af48269c51302eb551e9ce",
       "version_major": 2,
       "version_minor": 0
      },
      "text/plain": [
       "Calculating likelihoods:   0%|          | 0/3 [00:00<?, ?it/s]"
      ]
     },
     "metadata": {},
     "output_type": "display_data"
    },
    {
     "data": {
      "application/vnd.jupyter.widget-view+json": {
       "model_id": "954dffa236804e01bbbfb149ba448844",
       "version_major": 2,
       "version_minor": 0
      },
      "text/plain": [
       "Calculating likelihoods:   0%|          | 0/3 [00:00<?, ?it/s]"
      ]
     },
     "metadata": {},
     "output_type": "display_data"
    },
    {
     "data": {
      "application/vnd.jupyter.widget-view+json": {
       "model_id": "4fca53dffd774156a8c09a1b2108de2b",
       "version_major": 2,
       "version_minor": 0
      },
      "text/plain": [
       "Calculating likelihoods:   0%|          | 0/3 [00:00<?, ?it/s]"
      ]
     },
     "metadata": {},
     "output_type": "display_data"
    },
    {
     "data": {
      "application/vnd.jupyter.widget-view+json": {
       "model_id": "be447c9761d14c5a9a2ce0f76ba399fa",
       "version_major": 2,
       "version_minor": 0
      },
      "text/plain": [
       "Calculating likelihoods:   0%|          | 0/3 [00:00<?, ?it/s]"
      ]
     },
     "metadata": {},
     "output_type": "display_data"
    },
    {
     "data": {
      "application/vnd.jupyter.widget-view+json": {
       "model_id": "26d3b120e2424eb4a42f5a0f1ff1f982",
       "version_major": 2,
       "version_minor": 0
      },
      "text/plain": [
       "Calculating likelihoods:   0%|          | 0/3 [00:00<?, ?it/s]"
      ]
     },
     "metadata": {},
     "output_type": "display_data"
    },
    {
     "data": {
      "application/vnd.jupyter.widget-view+json": {
       "model_id": "53604a6dfb5f4f928fd0005558507752",
       "version_major": 2,
       "version_minor": 0
      },
      "text/plain": [
       "Calculating likelihoods:   0%|          | 0/3 [00:00<?, ?it/s]"
      ]
     },
     "metadata": {},
     "output_type": "display_data"
    },
    {
     "data": {
      "application/vnd.jupyter.widget-view+json": {
       "model_id": "d5623d2fc2f949d9a6b55992d5fa8c63",
       "version_major": 2,
       "version_minor": 0
      },
      "text/plain": [
       "Calculating likelihoods:   0%|          | 0/3 [00:00<?, ?it/s]"
      ]
     },
     "metadata": {},
     "output_type": "display_data"
    },
    {
     "data": {
      "application/vnd.jupyter.widget-view+json": {
       "model_id": "afa77e3902ab43fc962db756146b7a8f",
       "version_major": 2,
       "version_minor": 0
      },
      "text/plain": [
       "Calculating likelihoods:   0%|          | 0/3 [00:00<?, ?it/s]"
      ]
     },
     "metadata": {},
     "output_type": "display_data"
    },
    {
     "data": {
      "application/vnd.jupyter.widget-view+json": {
       "model_id": "9a66bf35d82f42018ecdff40139bdc53",
       "version_major": 2,
       "version_minor": 0
      },
      "text/plain": [
       "Calculating likelihoods:   0%|          | 0/3 [00:00<?, ?it/s]"
      ]
     },
     "metadata": {},
     "output_type": "display_data"
    },
    {
     "data": {
      "application/vnd.jupyter.widget-view+json": {
       "model_id": "dee9fab3361e4d5584d1e131e788bd3c",
       "version_major": 2,
       "version_minor": 0
      },
      "text/plain": [
       "Calculating likelihoods:   0%|          | 0/3 [00:00<?, ?it/s]"
      ]
     },
     "metadata": {},
     "output_type": "display_data"
    },
    {
     "name": "stdout",
     "output_type": "stream",
     "text": [
      "Optimal parameters for 8 players and threshold 0.875:\n",
      "{'inverse_temperature': 58.61834545960894, 'len_history': 6.6782636298416085, 'c': 0.5970927158567958}\n",
      "Deviance: -2108.9043184059306\n",
      "AIC: 4223.808636811861\n",
      "--------------------------------------------------\n",
      "Finding deviance for 8 players and threshold 0.625...\n"
     ]
    },
    {
     "data": {
      "application/vnd.jupyter.widget-view+json": {
       "model_id": "0c975fbe333947ab8de01ef65641953c",
       "version_major": 2,
       "version_minor": 0
      },
      "text/plain": [
       "Calculating likelihoods:   0%|          | 0/3 [00:00<?, ?it/s]"
      ]
     },
     "metadata": {},
     "output_type": "display_data"
    },
    {
     "data": {
      "application/vnd.jupyter.widget-view+json": {
       "model_id": "0840034e8c25402083d5340260e533a5",
       "version_major": 2,
       "version_minor": 0
      },
      "text/plain": [
       "Calculating likelihoods:   0%|          | 0/3 [00:00<?, ?it/s]"
      ]
     },
     "metadata": {},
     "output_type": "display_data"
    },
    {
     "data": {
      "application/vnd.jupyter.widget-view+json": {
       "model_id": "2b2e23a88f1b4d8f8a16cd21784823a5",
       "version_major": 2,
       "version_minor": 0
      },
      "text/plain": [
       "Calculating likelihoods:   0%|          | 0/3 [00:00<?, ?it/s]"
      ]
     },
     "metadata": {},
     "output_type": "display_data"
    },
    {
     "data": {
      "application/vnd.jupyter.widget-view+json": {
       "model_id": "a2943dc29793453eb19bc5f284118053",
       "version_major": 2,
       "version_minor": 0
      },
      "text/plain": [
       "Calculating likelihoods:   0%|          | 0/3 [00:00<?, ?it/s]"
      ]
     },
     "metadata": {},
     "output_type": "display_data"
    },
    {
     "data": {
      "application/vnd.jupyter.widget-view+json": {
       "model_id": "b3095d425eb1421e93cb4e487f3dffe0",
       "version_major": 2,
       "version_minor": 0
      },
      "text/plain": [
       "Calculating likelihoods:   0%|          | 0/3 [00:00<?, ?it/s]"
      ]
     },
     "metadata": {},
     "output_type": "display_data"
    },
    {
     "data": {
      "application/vnd.jupyter.widget-view+json": {
       "model_id": "595fb34505684873aacae0950934bb07",
       "version_major": 2,
       "version_minor": 0
      },
      "text/plain": [
       "Calculating likelihoods:   0%|          | 0/3 [00:00<?, ?it/s]"
      ]
     },
     "metadata": {},
     "output_type": "display_data"
    },
    {
     "data": {
      "application/vnd.jupyter.widget-view+json": {
       "model_id": "40f1ed8a7d5c475ab4211be0eae65553",
       "version_major": 2,
       "version_minor": 0
      },
      "text/plain": [
       "Calculating likelihoods:   0%|          | 0/3 [00:00<?, ?it/s]"
      ]
     },
     "metadata": {},
     "output_type": "display_data"
    },
    {
     "data": {
      "application/vnd.jupyter.widget-view+json": {
       "model_id": "b7fe732dd2934bd6aa842fa0f79895ed",
       "version_major": 2,
       "version_minor": 0
      },
      "text/plain": [
       "Calculating likelihoods:   0%|          | 0/3 [00:00<?, ?it/s]"
      ]
     },
     "metadata": {},
     "output_type": "display_data"
    },
    {
     "data": {
      "application/vnd.jupyter.widget-view+json": {
       "model_id": "1de213689c444d949741eac0cb903417",
       "version_major": 2,
       "version_minor": 0
      },
      "text/plain": [
       "Calculating likelihoods:   0%|          | 0/3 [00:00<?, ?it/s]"
      ]
     },
     "metadata": {},
     "output_type": "display_data"
    },
    {
     "data": {
      "application/vnd.jupyter.widget-view+json": {
       "model_id": "aad3247e0f954144a7e1eb0e7b0f6a2d",
       "version_major": 2,
       "version_minor": 0
      },
      "text/plain": [
       "Calculating likelihoods:   0%|          | 0/3 [00:00<?, ?it/s]"
      ]
     },
     "metadata": {},
     "output_type": "display_data"
    },
    {
     "data": {
      "application/vnd.jupyter.widget-view+json": {
       "model_id": "d3fd053bbf674cc59db8c19496395a91",
       "version_major": 2,
       "version_minor": 0
      },
      "text/plain": [
       "Calculating likelihoods:   0%|          | 0/3 [00:00<?, ?it/s]"
      ]
     },
     "metadata": {},
     "output_type": "display_data"
    },
    {
     "data": {
      "application/vnd.jupyter.widget-view+json": {
       "model_id": "a33aa14b77884ca3b353b6f380053b48",
       "version_major": 2,
       "version_minor": 0
      },
      "text/plain": [
       "Calculating likelihoods:   0%|          | 0/3 [00:00<?, ?it/s]"
      ]
     },
     "metadata": {},
     "output_type": "display_data"
    },
    {
     "data": {
      "application/vnd.jupyter.widget-view+json": {
       "model_id": "b74edc3301ed469e8e48a466d11dad9b",
       "version_major": 2,
       "version_minor": 0
      },
      "text/plain": [
       "Calculating likelihoods:   0%|          | 0/3 [00:00<?, ?it/s]"
      ]
     },
     "metadata": {},
     "output_type": "display_data"
    },
    {
     "data": {
      "application/vnd.jupyter.widget-view+json": {
       "model_id": "35fddb46537146f8a8fef9146b7b36e0",
       "version_major": 2,
       "version_minor": 0
      },
      "text/plain": [
       "Calculating likelihoods:   0%|          | 0/3 [00:00<?, ?it/s]"
      ]
     },
     "metadata": {},
     "output_type": "display_data"
    },
    {
     "data": {
      "application/vnd.jupyter.widget-view+json": {
       "model_id": "82e8723705624e33a62c19917c632fb0",
       "version_major": 2,
       "version_minor": 0
      },
      "text/plain": [
       "Calculating likelihoods:   0%|          | 0/3 [00:00<?, ?it/s]"
      ]
     },
     "metadata": {},
     "output_type": "display_data"
    },
    {
     "data": {
      "application/vnd.jupyter.widget-view+json": {
       "model_id": "243b06ec03be438bbf750f038be4db94",
       "version_major": 2,
       "version_minor": 0
      },
      "text/plain": [
       "Calculating likelihoods:   0%|          | 0/3 [00:00<?, ?it/s]"
      ]
     },
     "metadata": {},
     "output_type": "display_data"
    },
    {
     "data": {
      "application/vnd.jupyter.widget-view+json": {
       "model_id": "e967c7523f974b7a9968dd1fb72a1bca",
       "version_major": 2,
       "version_minor": 0
      },
      "text/plain": [
       "Calculating likelihoods:   0%|          | 0/3 [00:00<?, ?it/s]"
      ]
     },
     "metadata": {},
     "output_type": "display_data"
    },
    {
     "data": {
      "application/vnd.jupyter.widget-view+json": {
       "model_id": "03e39e2bfd454ad9a120d0b24c8eedad",
       "version_major": 2,
       "version_minor": 0
      },
      "text/plain": [
       "Calculating likelihoods:   0%|          | 0/3 [00:00<?, ?it/s]"
      ]
     },
     "metadata": {},
     "output_type": "display_data"
    },
    {
     "data": {
      "application/vnd.jupyter.widget-view+json": {
       "model_id": "3043bf7f15f34133b4a148b3f14f6f65",
       "version_major": 2,
       "version_minor": 0
      },
      "text/plain": [
       "Calculating likelihoods:   0%|          | 0/3 [00:00<?, ?it/s]"
      ]
     },
     "metadata": {},
     "output_type": "display_data"
    },
    {
     "data": {
      "application/vnd.jupyter.widget-view+json": {
       "model_id": "14032d6a699c47559e3df5bc0083bcaa",
       "version_major": 2,
       "version_minor": 0
      },
      "text/plain": [
       "Calculating likelihoods:   0%|          | 0/3 [00:00<?, ?it/s]"
      ]
     },
     "metadata": {},
     "output_type": "display_data"
    },
    {
     "data": {
      "application/vnd.jupyter.widget-view+json": {
       "model_id": "b647ab9e668f420497e4a0126809d09f",
       "version_major": 2,
       "version_minor": 0
      },
      "text/plain": [
       "Calculating likelihoods:   0%|          | 0/3 [00:00<?, ?it/s]"
      ]
     },
     "metadata": {},
     "output_type": "display_data"
    },
    {
     "data": {
      "application/vnd.jupyter.widget-view+json": {
       "model_id": "682c10ead1a24f0288139ffba0780394",
       "version_major": 2,
       "version_minor": 0
      },
      "text/plain": [
       "Calculating likelihoods:   0%|          | 0/3 [00:00<?, ?it/s]"
      ]
     },
     "metadata": {},
     "output_type": "display_data"
    },
    {
     "data": {
      "application/vnd.jupyter.widget-view+json": {
       "model_id": "deea27cf7aa74667ad5527d2feb2d429",
       "version_major": 2,
       "version_minor": 0
      },
      "text/plain": [
       "Calculating likelihoods:   0%|          | 0/3 [00:00<?, ?it/s]"
      ]
     },
     "metadata": {},
     "output_type": "display_data"
    },
    {
     "data": {
      "application/vnd.jupyter.widget-view+json": {
       "model_id": "db87052ee2ab410eaa9296d98ec082ca",
       "version_major": 2,
       "version_minor": 0
      },
      "text/plain": [
       "Calculating likelihoods:   0%|          | 0/3 [00:00<?, ?it/s]"
      ]
     },
     "metadata": {},
     "output_type": "display_data"
    },
    {
     "data": {
      "application/vnd.jupyter.widget-view+json": {
       "model_id": "2b896573a0744587a8ef9316d117efbe",
       "version_major": 2,
       "version_minor": 0
      },
      "text/plain": [
       "Calculating likelihoods:   0%|          | 0/3 [00:00<?, ?it/s]"
      ]
     },
     "metadata": {},
     "output_type": "display_data"
    },
    {
     "data": {
      "application/vnd.jupyter.widget-view+json": {
       "model_id": "9bef0da716e14bf2ad8a1c2414bd0437",
       "version_major": 2,
       "version_minor": 0
      },
      "text/plain": [
       "Calculating likelihoods:   0%|          | 0/3 [00:00<?, ?it/s]"
      ]
     },
     "metadata": {},
     "output_type": "display_data"
    },
    {
     "data": {
      "application/vnd.jupyter.widget-view+json": {
       "model_id": "9183bf0513414356ae8d90105a509ae2",
       "version_major": 2,
       "version_minor": 0
      },
      "text/plain": [
       "Calculating likelihoods:   0%|          | 0/3 [00:00<?, ?it/s]"
      ]
     },
     "metadata": {},
     "output_type": "display_data"
    },
    {
     "data": {
      "application/vnd.jupyter.widget-view+json": {
       "model_id": "0b28bbc0c76645db9cb93bce83fd56c8",
       "version_major": 2,
       "version_minor": 0
      },
      "text/plain": [
       "Calculating likelihoods:   0%|          | 0/3 [00:00<?, ?it/s]"
      ]
     },
     "metadata": {},
     "output_type": "display_data"
    },
    {
     "data": {
      "application/vnd.jupyter.widget-view+json": {
       "model_id": "3b1864616ed94ef5b71a0af827bdf291",
       "version_major": 2,
       "version_minor": 0
      },
      "text/plain": [
       "Calculating likelihoods:   0%|          | 0/3 [00:00<?, ?it/s]"
      ]
     },
     "metadata": {},
     "output_type": "display_data"
    },
    {
     "data": {
      "application/vnd.jupyter.widget-view+json": {
       "model_id": "f9d22de4b14d4914b611a5451cdcf266",
       "version_major": 2,
       "version_minor": 0
      },
      "text/plain": [
       "Calculating likelihoods:   0%|          | 0/3 [00:00<?, ?it/s]"
      ]
     },
     "metadata": {},
     "output_type": "display_data"
    },
    {
     "data": {
      "application/vnd.jupyter.widget-view+json": {
       "model_id": "502bd7431e7743bb83d4a7df2a3c16ca",
       "version_major": 2,
       "version_minor": 0
      },
      "text/plain": [
       "Calculating likelihoods:   0%|          | 0/3 [00:00<?, ?it/s]"
      ]
     },
     "metadata": {},
     "output_type": "display_data"
    },
    {
     "data": {
      "application/vnd.jupyter.widget-view+json": {
       "model_id": "b260ba5d16f84cbdb751bf3df787783b",
       "version_major": 2,
       "version_minor": 0
      },
      "text/plain": [
       "Calculating likelihoods:   0%|          | 0/3 [00:00<?, ?it/s]"
      ]
     },
     "metadata": {},
     "output_type": "display_data"
    },
    {
     "data": {
      "application/vnd.jupyter.widget-view+json": {
       "model_id": "97cafb14878d461289c94a97dbc6659c",
       "version_major": 2,
       "version_minor": 0
      },
      "text/plain": [
       "Calculating likelihoods:   0%|          | 0/3 [00:00<?, ?it/s]"
      ]
     },
     "metadata": {},
     "output_type": "display_data"
    },
    {
     "data": {
      "application/vnd.jupyter.widget-view+json": {
       "model_id": "55acff5a359d44f4864f8971821c0903",
       "version_major": 2,
       "version_minor": 0
      },
      "text/plain": [
       "Calculating likelihoods:   0%|          | 0/3 [00:00<?, ?it/s]"
      ]
     },
     "metadata": {},
     "output_type": "display_data"
    },
    {
     "data": {
      "application/vnd.jupyter.widget-view+json": {
       "model_id": "b857a86b36ac4779ab86632628472f91",
       "version_major": 2,
       "version_minor": 0
      },
      "text/plain": [
       "Calculating likelihoods:   0%|          | 0/3 [00:00<?, ?it/s]"
      ]
     },
     "metadata": {},
     "output_type": "display_data"
    },
    {
     "data": {
      "application/vnd.jupyter.widget-view+json": {
       "model_id": "b29bd2d249ac47dbbda7c39621d92728",
       "version_major": 2,
       "version_minor": 0
      },
      "text/plain": [
       "Calculating likelihoods:   0%|          | 0/3 [00:00<?, ?it/s]"
      ]
     },
     "metadata": {},
     "output_type": "display_data"
    },
    {
     "data": {
      "application/vnd.jupyter.widget-view+json": {
       "model_id": "8a5ff242f989438797f225736e4d6d75",
       "version_major": 2,
       "version_minor": 0
      },
      "text/plain": [
       "Calculating likelihoods:   0%|          | 0/3 [00:00<?, ?it/s]"
      ]
     },
     "metadata": {},
     "output_type": "display_data"
    },
    {
     "data": {
      "application/vnd.jupyter.widget-view+json": {
       "model_id": "d94b5b9a02404f389be09bc89e74d649",
       "version_major": 2,
       "version_minor": 0
      },
      "text/plain": [
       "Calculating likelihoods:   0%|          | 0/3 [00:00<?, ?it/s]"
      ]
     },
     "metadata": {},
     "output_type": "display_data"
    },
    {
     "data": {
      "application/vnd.jupyter.widget-view+json": {
       "model_id": "f8a74f932b964cb2bd648fa3e8b4f45e",
       "version_major": 2,
       "version_minor": 0
      },
      "text/plain": [
       "Calculating likelihoods:   0%|          | 0/3 [00:00<?, ?it/s]"
      ]
     },
     "metadata": {},
     "output_type": "display_data"
    },
    {
     "data": {
      "application/vnd.jupyter.widget-view+json": {
       "model_id": "2457e588806e4fc19eaffba39def1dfe",
       "version_major": 2,
       "version_minor": 0
      },
      "text/plain": [
       "Calculating likelihoods:   0%|          | 0/3 [00:00<?, ?it/s]"
      ]
     },
     "metadata": {},
     "output_type": "display_data"
    },
    {
     "data": {
      "application/vnd.jupyter.widget-view+json": {
       "model_id": "fb16ee8ab6ee49818dc3baac96b5eec9",
       "version_major": 2,
       "version_minor": 0
      },
      "text/plain": [
       "Calculating likelihoods:   0%|          | 0/3 [00:00<?, ?it/s]"
      ]
     },
     "metadata": {},
     "output_type": "display_data"
    },
    {
     "data": {
      "application/vnd.jupyter.widget-view+json": {
       "model_id": "ad06026d966e4bf584489bdf1135a92c",
       "version_major": 2,
       "version_minor": 0
      },
      "text/plain": [
       "Calculating likelihoods:   0%|          | 0/3 [00:00<?, ?it/s]"
      ]
     },
     "metadata": {},
     "output_type": "display_data"
    },
    {
     "data": {
      "application/vnd.jupyter.widget-view+json": {
       "model_id": "a906b2e6c4ba4a5fa218cd3cb1faca85",
       "version_major": 2,
       "version_minor": 0
      },
      "text/plain": [
       "Calculating likelihoods:   0%|          | 0/3 [00:00<?, ?it/s]"
      ]
     },
     "metadata": {},
     "output_type": "display_data"
    },
    {
     "data": {
      "application/vnd.jupyter.widget-view+json": {
       "model_id": "2a5d4ae3f24d410b81cf2522b80928dc",
       "version_major": 2,
       "version_minor": 0
      },
      "text/plain": [
       "Calculating likelihoods:   0%|          | 0/3 [00:00<?, ?it/s]"
      ]
     },
     "metadata": {},
     "output_type": "display_data"
    },
    {
     "data": {
      "application/vnd.jupyter.widget-view+json": {
       "model_id": "d537123b729e4bbaaafc9f256556782b",
       "version_major": 2,
       "version_minor": 0
      },
      "text/plain": [
       "Calculating likelihoods:   0%|          | 0/3 [00:00<?, ?it/s]"
      ]
     },
     "metadata": {},
     "output_type": "display_data"
    },
    {
     "data": {
      "application/vnd.jupyter.widget-view+json": {
       "model_id": "68ab86d27ee248979c63e5a35e6651fc",
       "version_major": 2,
       "version_minor": 0
      },
      "text/plain": [
       "Calculating likelihoods:   0%|          | 0/3 [00:00<?, ?it/s]"
      ]
     },
     "metadata": {},
     "output_type": "display_data"
    },
    {
     "data": {
      "application/vnd.jupyter.widget-view+json": {
       "model_id": "6f0eb970e3214f9f9745fe6d9b817360",
       "version_major": 2,
       "version_minor": 0
      },
      "text/plain": [
       "Calculating likelihoods:   0%|          | 0/3 [00:00<?, ?it/s]"
      ]
     },
     "metadata": {},
     "output_type": "display_data"
    },
    {
     "data": {
      "application/vnd.jupyter.widget-view+json": {
       "model_id": "8dadd41b2d504e818403a0aa7458c0bf",
       "version_major": 2,
       "version_minor": 0
      },
      "text/plain": [
       "Calculating likelihoods:   0%|          | 0/3 [00:00<?, ?it/s]"
      ]
     },
     "metadata": {},
     "output_type": "display_data"
    },
    {
     "data": {
      "application/vnd.jupyter.widget-view+json": {
       "model_id": "f516716d0d9d47dca0ca023c8e15c105",
       "version_major": 2,
       "version_minor": 0
      },
      "text/plain": [
       "Calculating likelihoods:   0%|          | 0/3 [00:00<?, ?it/s]"
      ]
     },
     "metadata": {},
     "output_type": "display_data"
    },
    {
     "data": {
      "application/vnd.jupyter.widget-view+json": {
       "model_id": "59d34b84f13d4f2eb3690b5b829ee87b",
       "version_major": 2,
       "version_minor": 0
      },
      "text/plain": [
       "Calculating likelihoods:   0%|          | 0/3 [00:00<?, ?it/s]"
      ]
     },
     "metadata": {},
     "output_type": "display_data"
    },
    {
     "data": {
      "application/vnd.jupyter.widget-view+json": {
       "model_id": "70085023dd2e482c82e297071367e194",
       "version_major": 2,
       "version_minor": 0
      },
      "text/plain": [
       "Calculating likelihoods:   0%|          | 0/3 [00:00<?, ?it/s]"
      ]
     },
     "metadata": {},
     "output_type": "display_data"
    },
    {
     "data": {
      "application/vnd.jupyter.widget-view+json": {
       "model_id": "100c11039a214fe7a9967b637db8e046",
       "version_major": 2,
       "version_minor": 0
      },
      "text/plain": [
       "Calculating likelihoods:   0%|          | 0/3 [00:00<?, ?it/s]"
      ]
     },
     "metadata": {},
     "output_type": "display_data"
    },
    {
     "data": {
      "application/vnd.jupyter.widget-view+json": {
       "model_id": "7c6d1343c44b4b269ed9f9fa5b15ab96",
       "version_major": 2,
       "version_minor": 0
      },
      "text/plain": [
       "Calculating likelihoods:   0%|          | 0/3 [00:00<?, ?it/s]"
      ]
     },
     "metadata": {},
     "output_type": "display_data"
    },
    {
     "data": {
      "application/vnd.jupyter.widget-view+json": {
       "model_id": "37232f9ddd9d4217b24211501f7fc9ed",
       "version_major": 2,
       "version_minor": 0
      },
      "text/plain": [
       "Calculating likelihoods:   0%|          | 0/3 [00:00<?, ?it/s]"
      ]
     },
     "metadata": {},
     "output_type": "display_data"
    },
    {
     "data": {
      "application/vnd.jupyter.widget-view+json": {
       "model_id": "af5ae1e3ca014a5ebcbd4b3a4f016b70",
       "version_major": 2,
       "version_minor": 0
      },
      "text/plain": [
       "Calculating likelihoods:   0%|          | 0/3 [00:00<?, ?it/s]"
      ]
     },
     "metadata": {},
     "output_type": "display_data"
    },
    {
     "data": {
      "application/vnd.jupyter.widget-view+json": {
       "model_id": "bce94e6cb5a04076bb179dbb10fae866",
       "version_major": 2,
       "version_minor": 0
      },
      "text/plain": [
       "Calculating likelihoods:   0%|          | 0/3 [00:00<?, ?it/s]"
      ]
     },
     "metadata": {},
     "output_type": "display_data"
    },
    {
     "data": {
      "application/vnd.jupyter.widget-view+json": {
       "model_id": "10c1ce5cac624355a699c3a325d80748",
       "version_major": 2,
       "version_minor": 0
      },
      "text/plain": [
       "Calculating likelihoods:   0%|          | 0/3 [00:00<?, ?it/s]"
      ]
     },
     "metadata": {},
     "output_type": "display_data"
    },
    {
     "data": {
      "application/vnd.jupyter.widget-view+json": {
       "model_id": "e7b8b5e7da65401db325f493c07b0de7",
       "version_major": 2,
       "version_minor": 0
      },
      "text/plain": [
       "Calculating likelihoods:   0%|          | 0/3 [00:00<?, ?it/s]"
      ]
     },
     "metadata": {},
     "output_type": "display_data"
    },
    {
     "data": {
      "application/vnd.jupyter.widget-view+json": {
       "model_id": "03f5504d28b64c55a1cc8eacbd6ae859",
       "version_major": 2,
       "version_minor": 0
      },
      "text/plain": [
       "Calculating likelihoods:   0%|          | 0/3 [00:00<?, ?it/s]"
      ]
     },
     "metadata": {},
     "output_type": "display_data"
    },
    {
     "data": {
      "application/vnd.jupyter.widget-view+json": {
       "model_id": "cbc70360cef241f3acbc402c24a882b9",
       "version_major": 2,
       "version_minor": 0
      },
      "text/plain": [
       "Calculating likelihoods:   0%|          | 0/3 [00:00<?, ?it/s]"
      ]
     },
     "metadata": {},
     "output_type": "display_data"
    },
    {
     "data": {
      "application/vnd.jupyter.widget-view+json": {
       "model_id": "ac4c54d8bddc4fb995873d7dd3295992",
       "version_major": 2,
       "version_minor": 0
      },
      "text/plain": [
       "Calculating likelihoods:   0%|          | 0/3 [00:00<?, ?it/s]"
      ]
     },
     "metadata": {},
     "output_type": "display_data"
    },
    {
     "data": {
      "application/vnd.jupyter.widget-view+json": {
       "model_id": "04dfa7511dc94364be54ff4cc1ededfc",
       "version_major": 2,
       "version_minor": 0
      },
      "text/plain": [
       "Calculating likelihoods:   0%|          | 0/3 [00:00<?, ?it/s]"
      ]
     },
     "metadata": {},
     "output_type": "display_data"
    },
    {
     "data": {
      "application/vnd.jupyter.widget-view+json": {
       "model_id": "e9eafa9b66d44836b83b4f10ebff656d",
       "version_major": 2,
       "version_minor": 0
      },
      "text/plain": [
       "Calculating likelihoods:   0%|          | 0/3 [00:00<?, ?it/s]"
      ]
     },
     "metadata": {},
     "output_type": "display_data"
    },
    {
     "data": {
      "application/vnd.jupyter.widget-view+json": {
       "model_id": "bf1cfc8760ff414d8223119770e05fb4",
       "version_major": 2,
       "version_minor": 0
      },
      "text/plain": [
       "Calculating likelihoods:   0%|          | 0/3 [00:00<?, ?it/s]"
      ]
     },
     "metadata": {},
     "output_type": "display_data"
    },
    {
     "data": {
      "application/vnd.jupyter.widget-view+json": {
       "model_id": "754ec8f24ef74348b7a9f8b38ef422bc",
       "version_major": 2,
       "version_minor": 0
      },
      "text/plain": [
       "Calculating likelihoods:   0%|          | 0/3 [00:00<?, ?it/s]"
      ]
     },
     "metadata": {},
     "output_type": "display_data"
    },
    {
     "data": {
      "application/vnd.jupyter.widget-view+json": {
       "model_id": "b1b814744e8547b0a433c7422cd0aa3e",
       "version_major": 2,
       "version_minor": 0
      },
      "text/plain": [
       "Calculating likelihoods:   0%|          | 0/3 [00:00<?, ?it/s]"
      ]
     },
     "metadata": {},
     "output_type": "display_data"
    },
    {
     "data": {
      "application/vnd.jupyter.widget-view+json": {
       "model_id": "89903896a85b406cb1175e674b836bf1",
       "version_major": 2,
       "version_minor": 0
      },
      "text/plain": [
       "Calculating likelihoods:   0%|          | 0/3 [00:00<?, ?it/s]"
      ]
     },
     "metadata": {},
     "output_type": "display_data"
    },
    {
     "data": {
      "application/vnd.jupyter.widget-view+json": {
       "model_id": "300195393d9a4508a894f283e472688c",
       "version_major": 2,
       "version_minor": 0
      },
      "text/plain": [
       "Calculating likelihoods:   0%|          | 0/3 [00:00<?, ?it/s]"
      ]
     },
     "metadata": {},
     "output_type": "display_data"
    },
    {
     "data": {
      "application/vnd.jupyter.widget-view+json": {
       "model_id": "ad29553d3b3744a5bb58ec2da7da4065",
       "version_major": 2,
       "version_minor": 0
      },
      "text/plain": [
       "Calculating likelihoods:   0%|          | 0/3 [00:00<?, ?it/s]"
      ]
     },
     "metadata": {},
     "output_type": "display_data"
    },
    {
     "data": {
      "application/vnd.jupyter.widget-view+json": {
       "model_id": "a9af2b6c4adf408c8804fb75b18d052d",
       "version_major": 2,
       "version_minor": 0
      },
      "text/plain": [
       "Calculating likelihoods:   0%|          | 0/3 [00:00<?, ?it/s]"
      ]
     },
     "metadata": {},
     "output_type": "display_data"
    },
    {
     "data": {
      "application/vnd.jupyter.widget-view+json": {
       "model_id": "fe2bf5bcf1f045beb7a0644908858ce5",
       "version_major": 2,
       "version_minor": 0
      },
      "text/plain": [
       "Calculating likelihoods:   0%|          | 0/3 [00:00<?, ?it/s]"
      ]
     },
     "metadata": {},
     "output_type": "display_data"
    },
    {
     "data": {
      "application/vnd.jupyter.widget-view+json": {
       "model_id": "ecdf5d0ccf0b4a128db092d0ca43c519",
       "version_major": 2,
       "version_minor": 0
      },
      "text/plain": [
       "Calculating likelihoods:   0%|          | 0/3 [00:00<?, ?it/s]"
      ]
     },
     "metadata": {},
     "output_type": "display_data"
    },
    {
     "data": {
      "application/vnd.jupyter.widget-view+json": {
       "model_id": "5148da14822f4629aa7f79f25ddec244",
       "version_major": 2,
       "version_minor": 0
      },
      "text/plain": [
       "Calculating likelihoods:   0%|          | 0/3 [00:00<?, ?it/s]"
      ]
     },
     "metadata": {},
     "output_type": "display_data"
    },
    {
     "data": {
      "application/vnd.jupyter.widget-view+json": {
       "model_id": "7aa1c579c3cb474dad102e6eb5d1be35",
       "version_major": 2,
       "version_minor": 0
      },
      "text/plain": [
       "Calculating likelihoods:   0%|          | 0/3 [00:00<?, ?it/s]"
      ]
     },
     "metadata": {},
     "output_type": "display_data"
    },
    {
     "data": {
      "application/vnd.jupyter.widget-view+json": {
       "model_id": "73214f2d348b4adb912a1ba575a73519",
       "version_major": 2,
       "version_minor": 0
      },
      "text/plain": [
       "Calculating likelihoods:   0%|          | 0/3 [00:00<?, ?it/s]"
      ]
     },
     "metadata": {},
     "output_type": "display_data"
    },
    {
     "data": {
      "application/vnd.jupyter.widget-view+json": {
       "model_id": "80d7b4d0117e4e488e96b91a9bbf5886",
       "version_major": 2,
       "version_minor": 0
      },
      "text/plain": [
       "Calculating likelihoods:   0%|          | 0/3 [00:00<?, ?it/s]"
      ]
     },
     "metadata": {},
     "output_type": "display_data"
    },
    {
     "data": {
      "application/vnd.jupyter.widget-view+json": {
       "model_id": "c482d18205e54caab46ec2cf7db2e032",
       "version_major": 2,
       "version_minor": 0
      },
      "text/plain": [
       "Calculating likelihoods:   0%|          | 0/3 [00:00<?, ?it/s]"
      ]
     },
     "metadata": {},
     "output_type": "display_data"
    },
    {
     "data": {
      "application/vnd.jupyter.widget-view+json": {
       "model_id": "4ced717400d94081badc7522296aee15",
       "version_major": 2,
       "version_minor": 0
      },
      "text/plain": [
       "Calculating likelihoods:   0%|          | 0/3 [00:00<?, ?it/s]"
      ]
     },
     "metadata": {},
     "output_type": "display_data"
    },
    {
     "data": {
      "application/vnd.jupyter.widget-view+json": {
       "model_id": "9e695d229ae6442698fb2d227d101123",
       "version_major": 2,
       "version_minor": 0
      },
      "text/plain": [
       "Calculating likelihoods:   0%|          | 0/3 [00:00<?, ?it/s]"
      ]
     },
     "metadata": {},
     "output_type": "display_data"
    },
    {
     "data": {
      "application/vnd.jupyter.widget-view+json": {
       "model_id": "1b171a5ba70d429f88a297b0fdfb4a05",
       "version_major": 2,
       "version_minor": 0
      },
      "text/plain": [
       "Calculating likelihoods:   0%|          | 0/3 [00:00<?, ?it/s]"
      ]
     },
     "metadata": {},
     "output_type": "display_data"
    },
    {
     "data": {
      "application/vnd.jupyter.widget-view+json": {
       "model_id": "88c5912a6cf74a0fa57282c3343b654b",
       "version_major": 2,
       "version_minor": 0
      },
      "text/plain": [
       "Calculating likelihoods:   0%|          | 0/3 [00:00<?, ?it/s]"
      ]
     },
     "metadata": {},
     "output_type": "display_data"
    },
    {
     "data": {
      "application/vnd.jupyter.widget-view+json": {
       "model_id": "2c1eea5ccf834f00ae67991ab501742d",
       "version_major": 2,
       "version_minor": 0
      },
      "text/plain": [
       "Calculating likelihoods:   0%|          | 0/3 [00:00<?, ?it/s]"
      ]
     },
     "metadata": {},
     "output_type": "display_data"
    },
    {
     "data": {
      "application/vnd.jupyter.widget-view+json": {
       "model_id": "40fdc2f9ff6f490cb94cb3eca942f85f",
       "version_major": 2,
       "version_minor": 0
      },
      "text/plain": [
       "Calculating likelihoods:   0%|          | 0/3 [00:00<?, ?it/s]"
      ]
     },
     "metadata": {},
     "output_type": "display_data"
    },
    {
     "data": {
      "application/vnd.jupyter.widget-view+json": {
       "model_id": "62988e8ac6de462d99bbb9b908d4903c",
       "version_major": 2,
       "version_minor": 0
      },
      "text/plain": [
       "Calculating likelihoods:   0%|          | 0/3 [00:00<?, ?it/s]"
      ]
     },
     "metadata": {},
     "output_type": "display_data"
    },
    {
     "data": {
      "application/vnd.jupyter.widget-view+json": {
       "model_id": "1b962825ce0c4a0b824e26c7467cb39e",
       "version_major": 2,
       "version_minor": 0
      },
      "text/plain": [
       "Calculating likelihoods:   0%|          | 0/3 [00:00<?, ?it/s]"
      ]
     },
     "metadata": {},
     "output_type": "display_data"
    },
    {
     "data": {
      "application/vnd.jupyter.widget-view+json": {
       "model_id": "c94a9d0d861745a2a0c707516741ea51",
       "version_major": 2,
       "version_minor": 0
      },
      "text/plain": [
       "Calculating likelihoods:   0%|          | 0/3 [00:00<?, ?it/s]"
      ]
     },
     "metadata": {},
     "output_type": "display_data"
    },
    {
     "data": {
      "application/vnd.jupyter.widget-view+json": {
       "model_id": "33feb683dd0f4a35aafa5a6046f19b1b",
       "version_major": 2,
       "version_minor": 0
      },
      "text/plain": [
       "Calculating likelihoods:   0%|          | 0/3 [00:00<?, ?it/s]"
      ]
     },
     "metadata": {},
     "output_type": "display_data"
    },
    {
     "data": {
      "application/vnd.jupyter.widget-view+json": {
       "model_id": "957ac4100f184a319736e0d88704977b",
       "version_major": 2,
       "version_minor": 0
      },
      "text/plain": [
       "Calculating likelihoods:   0%|          | 0/3 [00:00<?, ?it/s]"
      ]
     },
     "metadata": {},
     "output_type": "display_data"
    },
    {
     "data": {
      "application/vnd.jupyter.widget-view+json": {
       "model_id": "8f456b52dbd942e1952c1c5ac1a54119",
       "version_major": 2,
       "version_minor": 0
      },
      "text/plain": [
       "Calculating likelihoods:   0%|          | 0/3 [00:00<?, ?it/s]"
      ]
     },
     "metadata": {},
     "output_type": "display_data"
    },
    {
     "data": {
      "application/vnd.jupyter.widget-view+json": {
       "model_id": "ce14725064584cc7b8e57b510d440f1f",
       "version_major": 2,
       "version_minor": 0
      },
      "text/plain": [
       "Calculating likelihoods:   0%|          | 0/3 [00:00<?, ?it/s]"
      ]
     },
     "metadata": {},
     "output_type": "display_data"
    },
    {
     "data": {
      "application/vnd.jupyter.widget-view+json": {
       "model_id": "05b740b5b4844ce8ac797b27bb2559e2",
       "version_major": 2,
       "version_minor": 0
      },
      "text/plain": [
       "Calculating likelihoods:   0%|          | 0/3 [00:00<?, ?it/s]"
      ]
     },
     "metadata": {},
     "output_type": "display_data"
    },
    {
     "data": {
      "application/vnd.jupyter.widget-view+json": {
       "model_id": "27227f49c94f4fa4bf52836db9cdb292",
       "version_major": 2,
       "version_minor": 0
      },
      "text/plain": [
       "Calculating likelihoods:   0%|          | 0/3 [00:00<?, ?it/s]"
      ]
     },
     "metadata": {},
     "output_type": "display_data"
    },
    {
     "data": {
      "application/vnd.jupyter.widget-view+json": {
       "model_id": "4ac9b29bc26d4f788359a8406fa74427",
       "version_major": 2,
       "version_minor": 0
      },
      "text/plain": [
       "Calculating likelihoods:   0%|          | 0/3 [00:00<?, ?it/s]"
      ]
     },
     "metadata": {},
     "output_type": "display_data"
    },
    {
     "data": {
      "application/vnd.jupyter.widget-view+json": {
       "model_id": "090bd1d345994c09a006f05aff4d9b6a",
       "version_major": 2,
       "version_minor": 0
      },
      "text/plain": [
       "Calculating likelihoods:   0%|          | 0/3 [00:00<?, ?it/s]"
      ]
     },
     "metadata": {},
     "output_type": "display_data"
    },
    {
     "data": {
      "application/vnd.jupyter.widget-view+json": {
       "model_id": "996db2da2d5a499db4fe79dddf832bd1",
       "version_major": 2,
       "version_minor": 0
      },
      "text/plain": [
       "Calculating likelihoods:   0%|          | 0/3 [00:00<?, ?it/s]"
      ]
     },
     "metadata": {},
     "output_type": "display_data"
    },
    {
     "data": {
      "application/vnd.jupyter.widget-view+json": {
       "model_id": "985f2af225684ed5ad187718e36b7d17",
       "version_major": 2,
       "version_minor": 0
      },
      "text/plain": [
       "Calculating likelihoods:   0%|          | 0/3 [00:00<?, ?it/s]"
      ]
     },
     "metadata": {},
     "output_type": "display_data"
    },
    {
     "data": {
      "application/vnd.jupyter.widget-view+json": {
       "model_id": "71a0ae2ad4c14f68b7b13e29f1c9f754",
       "version_major": 2,
       "version_minor": 0
      },
      "text/plain": [
       "Calculating likelihoods:   0%|          | 0/3 [00:00<?, ?it/s]"
      ]
     },
     "metadata": {},
     "output_type": "display_data"
    },
    {
     "data": {
      "application/vnd.jupyter.widget-view+json": {
       "model_id": "9b8fbc97fbea405cbf49730ca26b78f7",
       "version_major": 2,
       "version_minor": 0
      },
      "text/plain": [
       "Calculating likelihoods:   0%|          | 0/3 [00:00<?, ?it/s]"
      ]
     },
     "metadata": {},
     "output_type": "display_data"
    },
    {
     "data": {
      "application/vnd.jupyter.widget-view+json": {
       "model_id": "15985ec9a28f4f8e8c45e54fd78731e2",
       "version_major": 2,
       "version_minor": 0
      },
      "text/plain": [
       "Calculating likelihoods:   0%|          | 0/3 [00:00<?, ?it/s]"
      ]
     },
     "metadata": {},
     "output_type": "display_data"
    },
    {
     "data": {
      "application/vnd.jupyter.widget-view+json": {
       "model_id": "52d57a7f4fed4defb899b13e9f0f8e3c",
       "version_major": 2,
       "version_minor": 0
      },
      "text/plain": [
       "Calculating likelihoods:   0%|          | 0/3 [00:00<?, ?it/s]"
      ]
     },
     "metadata": {},
     "output_type": "display_data"
    },
    {
     "data": {
      "application/vnd.jupyter.widget-view+json": {
       "model_id": "fd78277c155b4799b5daa69b41820701",
       "version_major": 2,
       "version_minor": 0
      },
      "text/plain": [
       "Calculating likelihoods:   0%|          | 0/3 [00:00<?, ?it/s]"
      ]
     },
     "metadata": {},
     "output_type": "display_data"
    },
    {
     "data": {
      "application/vnd.jupyter.widget-view+json": {
       "model_id": "d8367e240d1c44db99201f529efa1f8d",
       "version_major": 2,
       "version_minor": 0
      },
      "text/plain": [
       "Calculating likelihoods:   0%|          | 0/3 [00:00<?, ?it/s]"
      ]
     },
     "metadata": {},
     "output_type": "display_data"
    },
    {
     "data": {
      "application/vnd.jupyter.widget-view+json": {
       "model_id": "e2c8bfe3efbc4f33b39ef6b93a8a3960",
       "version_major": 2,
       "version_minor": 0
      },
      "text/plain": [
       "Calculating likelihoods:   0%|          | 0/3 [00:00<?, ?it/s]"
      ]
     },
     "metadata": {},
     "output_type": "display_data"
    },
    {
     "data": {
      "application/vnd.jupyter.widget-view+json": {
       "model_id": "90fe8d6763ce40d6b42236a06a01faca",
       "version_major": 2,
       "version_minor": 0
      },
      "text/plain": [
       "Calculating likelihoods:   0%|          | 0/3 [00:00<?, ?it/s]"
      ]
     },
     "metadata": {},
     "output_type": "display_data"
    },
    {
     "data": {
      "application/vnd.jupyter.widget-view+json": {
       "model_id": "6ecb834f44f64d3fbedea8d3e4f87ddd",
       "version_major": 2,
       "version_minor": 0
      },
      "text/plain": [
       "Calculating likelihoods:   0%|          | 0/3 [00:00<?, ?it/s]"
      ]
     },
     "metadata": {},
     "output_type": "display_data"
    },
    {
     "data": {
      "application/vnd.jupyter.widget-view+json": {
       "model_id": "1428e48b779d49aa8045edea1696b1a3",
       "version_major": 2,
       "version_minor": 0
      },
      "text/plain": [
       "Calculating likelihoods:   0%|          | 0/3 [00:00<?, ?it/s]"
      ]
     },
     "metadata": {},
     "output_type": "display_data"
    },
    {
     "data": {
      "application/vnd.jupyter.widget-view+json": {
       "model_id": "7263f2de9e63474fa9af3f331c47f89c",
       "version_major": 2,
       "version_minor": 0
      },
      "text/plain": [
       "Calculating likelihoods:   0%|          | 0/3 [00:00<?, ?it/s]"
      ]
     },
     "metadata": {},
     "output_type": "display_data"
    },
    {
     "data": {
      "application/vnd.jupyter.widget-view+json": {
       "model_id": "526b0953d0ef41dd9795a3995168b247",
       "version_major": 2,
       "version_minor": 0
      },
      "text/plain": [
       "Calculating likelihoods:   0%|          | 0/3 [00:00<?, ?it/s]"
      ]
     },
     "metadata": {},
     "output_type": "display_data"
    },
    {
     "data": {
      "application/vnd.jupyter.widget-view+json": {
       "model_id": "7736ad69042f45909ed07aa969c9310c",
       "version_major": 2,
       "version_minor": 0
      },
      "text/plain": [
       "Calculating likelihoods:   0%|          | 0/3 [00:00<?, ?it/s]"
      ]
     },
     "metadata": {},
     "output_type": "display_data"
    },
    {
     "data": {
      "application/vnd.jupyter.widget-view+json": {
       "model_id": "87f1bc5041ee4072a719d62341d8bd9a",
       "version_major": 2,
       "version_minor": 0
      },
      "text/plain": [
       "Calculating likelihoods:   0%|          | 0/3 [00:00<?, ?it/s]"
      ]
     },
     "metadata": {},
     "output_type": "display_data"
    },
    {
     "data": {
      "application/vnd.jupyter.widget-view+json": {
       "model_id": "768e9a0a88e44232b1ad884e0c844cc2",
       "version_major": 2,
       "version_minor": 0
      },
      "text/plain": [
       "Calculating likelihoods:   0%|          | 0/3 [00:00<?, ?it/s]"
      ]
     },
     "metadata": {},
     "output_type": "display_data"
    },
    {
     "data": {
      "application/vnd.jupyter.widget-view+json": {
       "model_id": "7d0ce11197ad46dabe35bce7390a91f1",
       "version_major": 2,
       "version_minor": 0
      },
      "text/plain": [
       "Calculating likelihoods:   0%|          | 0/3 [00:00<?, ?it/s]"
      ]
     },
     "metadata": {},
     "output_type": "display_data"
    },
    {
     "data": {
      "application/vnd.jupyter.widget-view+json": {
       "model_id": "5b49b60f08014ad5a0d5daff327a2a51",
       "version_major": 2,
       "version_minor": 0
      },
      "text/plain": [
       "Calculating likelihoods:   0%|          | 0/3 [00:00<?, ?it/s]"
      ]
     },
     "metadata": {},
     "output_type": "display_data"
    },
    {
     "data": {
      "application/vnd.jupyter.widget-view+json": {
       "model_id": "b726fa3fef2d49b3845b20b9530b36ec",
       "version_major": 2,
       "version_minor": 0
      },
      "text/plain": [
       "Calculating likelihoods:   0%|          | 0/3 [00:00<?, ?it/s]"
      ]
     },
     "metadata": {},
     "output_type": "display_data"
    },
    {
     "data": {
      "application/vnd.jupyter.widget-view+json": {
       "model_id": "5618744ca8c94386912758e29e805afa",
       "version_major": 2,
       "version_minor": 0
      },
      "text/plain": [
       "Calculating likelihoods:   0%|          | 0/3 [00:00<?, ?it/s]"
      ]
     },
     "metadata": {},
     "output_type": "display_data"
    },
    {
     "data": {
      "application/vnd.jupyter.widget-view+json": {
       "model_id": "8723b9f12a6442e59b9cb95c526b200b",
       "version_major": 2,
       "version_minor": 0
      },
      "text/plain": [
       "Calculating likelihoods:   0%|          | 0/3 [00:00<?, ?it/s]"
      ]
     },
     "metadata": {},
     "output_type": "display_data"
    },
    {
     "data": {
      "application/vnd.jupyter.widget-view+json": {
       "model_id": "1f0cb8e6f83d4f68bc1dfffa38b00a08",
       "version_major": 2,
       "version_minor": 0
      },
      "text/plain": [
       "Calculating likelihoods:   0%|          | 0/3 [00:00<?, ?it/s]"
      ]
     },
     "metadata": {},
     "output_type": "display_data"
    },
    {
     "data": {
      "application/vnd.jupyter.widget-view+json": {
       "model_id": "9929ecbfb9e14849b83e29c640636da2",
       "version_major": 2,
       "version_minor": 0
      },
      "text/plain": [
       "Calculating likelihoods:   0%|          | 0/3 [00:00<?, ?it/s]"
      ]
     },
     "metadata": {},
     "output_type": "display_data"
    },
    {
     "data": {
      "application/vnd.jupyter.widget-view+json": {
       "model_id": "58e7978d35a04c3c8e739ec2ee5f702a",
       "version_major": 2,
       "version_minor": 0
      },
      "text/plain": [
       "Calculating likelihoods:   0%|          | 0/3 [00:00<?, ?it/s]"
      ]
     },
     "metadata": {},
     "output_type": "display_data"
    },
    {
     "data": {
      "application/vnd.jupyter.widget-view+json": {
       "model_id": "afd95d5eb9a6488d951e05df9732b070",
       "version_major": 2,
       "version_minor": 0
      },
      "text/plain": [
       "Calculating likelihoods:   0%|          | 0/3 [00:00<?, ?it/s]"
      ]
     },
     "metadata": {},
     "output_type": "display_data"
    },
    {
     "data": {
      "application/vnd.jupyter.widget-view+json": {
       "model_id": "d9bfdd095f6242b98592177be37eebcd",
       "version_major": 2,
       "version_minor": 0
      },
      "text/plain": [
       "Calculating likelihoods:   0%|          | 0/3 [00:00<?, ?it/s]"
      ]
     },
     "metadata": {},
     "output_type": "display_data"
    },
    {
     "data": {
      "application/vnd.jupyter.widget-view+json": {
       "model_id": "dcc899d9751a44e58d957323c2a7eb51",
       "version_major": 2,
       "version_minor": 0
      },
      "text/plain": [
       "Calculating likelihoods:   0%|          | 0/3 [00:00<?, ?it/s]"
      ]
     },
     "metadata": {},
     "output_type": "display_data"
    },
    {
     "data": {
      "application/vnd.jupyter.widget-view+json": {
       "model_id": "81b79deaa7bf4c26ba7f319a3c638e78",
       "version_major": 2,
       "version_minor": 0
      },
      "text/plain": [
       "Calculating likelihoods:   0%|          | 0/3 [00:00<?, ?it/s]"
      ]
     },
     "metadata": {},
     "output_type": "display_data"
    },
    {
     "data": {
      "application/vnd.jupyter.widget-view+json": {
       "model_id": "7ad51f95724b4d318e6df0a054e616d9",
       "version_major": 2,
       "version_minor": 0
      },
      "text/plain": [
       "Calculating likelihoods:   0%|          | 0/3 [00:00<?, ?it/s]"
      ]
     },
     "metadata": {},
     "output_type": "display_data"
    },
    {
     "data": {
      "application/vnd.jupyter.widget-view+json": {
       "model_id": "611e11e74a464664a18f4cb03eddcd0b",
       "version_major": 2,
       "version_minor": 0
      },
      "text/plain": [
       "Calculating likelihoods:   0%|          | 0/3 [00:00<?, ?it/s]"
      ]
     },
     "metadata": {},
     "output_type": "display_data"
    },
    {
     "data": {
      "application/vnd.jupyter.widget-view+json": {
       "model_id": "dbaf2deb5a8242c3870a2a3487a1517a",
       "version_major": 2,
       "version_minor": 0
      },
      "text/plain": [
       "Calculating likelihoods:   0%|          | 0/3 [00:00<?, ?it/s]"
      ]
     },
     "metadata": {},
     "output_type": "display_data"
    },
    {
     "data": {
      "application/vnd.jupyter.widget-view+json": {
       "model_id": "4e1dd60212fd42cd8ce3c45378c0b838",
       "version_major": 2,
       "version_minor": 0
      },
      "text/plain": [
       "Calculating likelihoods:   0%|          | 0/3 [00:00<?, ?it/s]"
      ]
     },
     "metadata": {},
     "output_type": "display_data"
    },
    {
     "data": {
      "application/vnd.jupyter.widget-view+json": {
       "model_id": "76c1dfaa1e0d426d8561527627ff8a2c",
       "version_major": 2,
       "version_minor": 0
      },
      "text/plain": [
       "Calculating likelihoods:   0%|          | 0/3 [00:00<?, ?it/s]"
      ]
     },
     "metadata": {},
     "output_type": "display_data"
    },
    {
     "data": {
      "application/vnd.jupyter.widget-view+json": {
       "model_id": "80127c080359459bb0f3c596a069b52d",
       "version_major": 2,
       "version_minor": 0
      },
      "text/plain": [
       "Calculating likelihoods:   0%|          | 0/3 [00:00<?, ?it/s]"
      ]
     },
     "metadata": {},
     "output_type": "display_data"
    },
    {
     "data": {
      "application/vnd.jupyter.widget-view+json": {
       "model_id": "be22d74780ef451f9bfc325c7232edeb",
       "version_major": 2,
       "version_minor": 0
      },
      "text/plain": [
       "Calculating likelihoods:   0%|          | 0/3 [00:00<?, ?it/s]"
      ]
     },
     "metadata": {},
     "output_type": "display_data"
    },
    {
     "data": {
      "application/vnd.jupyter.widget-view+json": {
       "model_id": "d91d0686885f4a3f9c8d11890cabaf84",
       "version_major": 2,
       "version_minor": 0
      },
      "text/plain": [
       "Calculating likelihoods:   0%|          | 0/3 [00:00<?, ?it/s]"
      ]
     },
     "metadata": {},
     "output_type": "display_data"
    },
    {
     "data": {
      "application/vnd.jupyter.widget-view+json": {
       "model_id": "e76a6402342541ada16185c36d8d7105",
       "version_major": 2,
       "version_minor": 0
      },
      "text/plain": [
       "Calculating likelihoods:   0%|          | 0/3 [00:00<?, ?it/s]"
      ]
     },
     "metadata": {},
     "output_type": "display_data"
    },
    {
     "data": {
      "application/vnd.jupyter.widget-view+json": {
       "model_id": "fa9fd38f25f040faa49540ef3851b024",
       "version_major": 2,
       "version_minor": 0
      },
      "text/plain": [
       "Calculating likelihoods:   0%|          | 0/3 [00:00<?, ?it/s]"
      ]
     },
     "metadata": {},
     "output_type": "display_data"
    },
    {
     "data": {
      "application/vnd.jupyter.widget-view+json": {
       "model_id": "f9d6f107ec7544b48da7e85071d76a97",
       "version_major": 2,
       "version_minor": 0
      },
      "text/plain": [
       "Calculating likelihoods:   0%|          | 0/3 [00:00<?, ?it/s]"
      ]
     },
     "metadata": {},
     "output_type": "display_data"
    },
    {
     "data": {
      "application/vnd.jupyter.widget-view+json": {
       "model_id": "9e7a36ead88a481b8748cf4531b3f269",
       "version_major": 2,
       "version_minor": 0
      },
      "text/plain": [
       "Calculating likelihoods:   0%|          | 0/3 [00:00<?, ?it/s]"
      ]
     },
     "metadata": {},
     "output_type": "display_data"
    },
    {
     "data": {
      "application/vnd.jupyter.widget-view+json": {
       "model_id": "a9566e663b82411989a47ab97a4957cf",
       "version_major": 2,
       "version_minor": 0
      },
      "text/plain": [
       "Calculating likelihoods:   0%|          | 0/3 [00:00<?, ?it/s]"
      ]
     },
     "metadata": {},
     "output_type": "display_data"
    },
    {
     "name": "stdout",
     "output_type": "stream",
     "text": [
      "Optimal parameters for 8 players and threshold 0.625:\n",
      "{'inverse_temperature': 49.63898136256594, 'len_history': 1.6623845530687713, 'c': 0.8300775010316531}\n",
      "Deviance: -3986.6093240594014\n",
      "AIC: 7979.218648118803\n",
      "--------------------------------------------------\n",
      "{'model_name': 'FRA', 'FRA_N=8_mu=0.375': {'model': 'FocalRegionAgent', 'fixed_parameters': {'num_agents': 8, 'threshold': 0.375}, 'free_parameters': {'inverse_temperature': 33.59868068961631, 'len_history': 6.41825970709509, 'c': 0.9512716749762423}, 'deviance': -3587.4540557387404, 'AIC': 7180.908111477481}, 'FRA_N=8_mu=0.875': {'model': 'FocalRegionAgent', 'fixed_parameters': {'num_agents': 8, 'threshold': 0.875}, 'free_parameters': {'inverse_temperature': 58.61834545960894, 'len_history': 6.6782636298416085, 'c': 0.5970927158567958}, 'deviance': -2108.9043184059306, 'AIC': 4223.808636811861}, 'FRA_N=8_mu=0.625': {'model': 'FocalRegionAgent', 'fixed_parameters': {'num_agents': 8, 'threshold': 0.625}, 'free_parameters': {'inverse_temperature': 49.63898136256594, 'len_history': 1.6623845530687713, 'c': 0.8300775010316531}, 'deviance': -3986.6093240594014, 'AIC': 7979.218648118803}}\n"
     ]
    }
   ],
   "source": [
    "ParameterFit.run(\n",
    "    data=data,\n",
    "    model_list=my_models,\n",
    "    best_fit_path=PATHS['parameter_fit_results'] / 'best_fit_Scipy.json',\n",
    "    optimizer_type='scipy',\n",
    "    hyperparameters=None,\n",
    "    new_file=True\n",
    ")"
   ]
  },
  {
   "cell_type": "markdown",
   "metadata": {},
   "source": [
    "### Fit with Bayesian Optimizer"
   ]
  },
  {
   "cell_type": "code",
   "execution_count": 53,
   "metadata": {},
   "outputs": [
    {
     "data": {
      "application/vnd.jupyter.widget-view+json": {
       "model_id": "10c42f417a5740dba89562f69f3af325",
       "version_major": 2,
       "version_minor": 0
      },
      "text/plain": [
       "Fitting models...:   0%|          | 0/1 [00:00<?, ?it/s]"
      ]
     },
     "metadata": {},
     "output_type": "display_data"
    },
    {
     "name": "stdout",
     "output_type": "stream",
     "text": [
      "Fitting data to model FRA...\n",
      "Creating parameter recovery class...\n",
      "Running optimizer...\n",
      "Finding deviance for 8 players and threshold 0.375...\n"
     ]
    },
    {
     "data": {
      "application/vnd.jupyter.widget-view+json": {
       "model_id": "bcc2f10137ee413fa4c5a4f05bab7817",
       "version_major": 2,
       "version_minor": 0
      },
      "text/plain": [
       "Calculating likelihoods:   0%|          | 0/3 [00:00<?, ?it/s]"
      ]
     },
     "metadata": {},
     "output_type": "display_data"
    },
    {
     "data": {
      "application/vnd.jupyter.widget-view+json": {
       "model_id": "b8591c0444ec47be93e1da4bde763cf8",
       "version_major": 2,
       "version_minor": 0
      },
      "text/plain": [
       "Calculating likelihoods:   0%|          | 0/3 [00:00<?, ?it/s]"
      ]
     },
     "metadata": {},
     "output_type": "display_data"
    },
    {
     "data": {
      "application/vnd.jupyter.widget-view+json": {
       "model_id": "4139ba355af74bc68b6d86d9d852a6a4",
       "version_major": 2,
       "version_minor": 0
      },
      "text/plain": [
       "Calculating likelihoods:   0%|          | 0/3 [00:00<?, ?it/s]"
      ]
     },
     "metadata": {},
     "output_type": "display_data"
    },
    {
     "data": {
      "application/vnd.jupyter.widget-view+json": {
       "model_id": "f39c61b910bc420089d3e2d0094934bd",
       "version_major": 2,
       "version_minor": 0
      },
      "text/plain": [
       "Calculating likelihoods:   0%|          | 0/3 [00:00<?, ?it/s]"
      ]
     },
     "metadata": {},
     "output_type": "display_data"
    },
    {
     "data": {
      "application/vnd.jupyter.widget-view+json": {
       "model_id": "8f041b238e3d4a03b6b8a53a4595ce04",
       "version_major": 2,
       "version_minor": 0
      },
      "text/plain": [
       "Calculating likelihoods:   0%|          | 0/3 [00:00<?, ?it/s]"
      ]
     },
     "metadata": {},
     "output_type": "display_data"
    },
    {
     "data": {
      "application/vnd.jupyter.widget-view+json": {
       "model_id": "85413ad55bb14a07ae7f8b3d2eae0364",
       "version_major": 2,
       "version_minor": 0
      },
      "text/plain": [
       "Calculating likelihoods:   0%|          | 0/3 [00:00<?, ?it/s]"
      ]
     },
     "metadata": {},
     "output_type": "display_data"
    },
    {
     "data": {
      "application/vnd.jupyter.widget-view+json": {
       "model_id": "eb72ddc1db9a49f5a4a4944e2caa01e5",
       "version_major": 2,
       "version_minor": 0
      },
      "text/plain": [
       "Calculating likelihoods:   0%|          | 0/3 [00:00<?, ?it/s]"
      ]
     },
     "metadata": {},
     "output_type": "display_data"
    },
    {
     "data": {
      "application/vnd.jupyter.widget-view+json": {
       "model_id": "1db6905f887c495c87a27397a35fb798",
       "version_major": 2,
       "version_minor": 0
      },
      "text/plain": [
       "Calculating likelihoods:   0%|          | 0/3 [00:00<?, ?it/s]"
      ]
     },
     "metadata": {},
     "output_type": "display_data"
    },
    {
     "data": {
      "application/vnd.jupyter.widget-view+json": {
       "model_id": "8068c47106b24c2085decab1faeca79a",
       "version_major": 2,
       "version_minor": 0
      },
      "text/plain": [
       "Calculating likelihoods:   0%|          | 0/3 [00:00<?, ?it/s]"
      ]
     },
     "metadata": {},
     "output_type": "display_data"
    },
    {
     "data": {
      "application/vnd.jupyter.widget-view+json": {
       "model_id": "f64ae4d7c86b42c1bbd33820fad4d6bf",
       "version_major": 2,
       "version_minor": 0
      },
      "text/plain": [
       "Calculating likelihoods:   0%|          | 0/3 [00:00<?, ?it/s]"
      ]
     },
     "metadata": {},
     "output_type": "display_data"
    },
    {
     "data": {
      "application/vnd.jupyter.widget-view+json": {
       "model_id": "dd29d4b5df374d73b12087d07aa806c7",
       "version_major": 2,
       "version_minor": 0
      },
      "text/plain": [
       "Calculating likelihoods:   0%|          | 0/3 [00:00<?, ?it/s]"
      ]
     },
     "metadata": {},
     "output_type": "display_data"
    },
    {
     "data": {
      "application/vnd.jupyter.widget-view+json": {
       "model_id": "2e9913ab5122460b84d298cb71b6b9bd",
       "version_major": 2,
       "version_minor": 0
      },
      "text/plain": [
       "Calculating likelihoods:   0%|          | 0/3 [00:00<?, ?it/s]"
      ]
     },
     "metadata": {},
     "output_type": "display_data"
    },
    {
     "data": {
      "application/vnd.jupyter.widget-view+json": {
       "model_id": "fb9b864710e14f43a850f23ce8ac63a1",
       "version_major": 2,
       "version_minor": 0
      },
      "text/plain": [
       "Calculating likelihoods:   0%|          | 0/3 [00:00<?, ?it/s]"
      ]
     },
     "metadata": {},
     "output_type": "display_data"
    },
    {
     "data": {
      "application/vnd.jupyter.widget-view+json": {
       "model_id": "0a21959b278f4b078fa75bc2beccdcff",
       "version_major": 2,
       "version_minor": 0
      },
      "text/plain": [
       "Calculating likelihoods:   0%|          | 0/3 [00:00<?, ?it/s]"
      ]
     },
     "metadata": {},
     "output_type": "display_data"
    },
    {
     "data": {
      "application/vnd.jupyter.widget-view+json": {
       "model_id": "4c26e7624ebd4437a853e25433350a81",
       "version_major": 2,
       "version_minor": 0
      },
      "text/plain": [
       "Calculating likelihoods:   0%|          | 0/3 [00:00<?, ?it/s]"
      ]
     },
     "metadata": {},
     "output_type": "display_data"
    },
    {
     "data": {
      "application/vnd.jupyter.widget-view+json": {
       "model_id": "a08ed755de92407d98ee5812160f6c4e",
       "version_major": 2,
       "version_minor": 0
      },
      "text/plain": [
       "Calculating likelihoods:   0%|          | 0/3 [00:00<?, ?it/s]"
      ]
     },
     "metadata": {},
     "output_type": "display_data"
    },
    {
     "data": {
      "application/vnd.jupyter.widget-view+json": {
       "model_id": "7944e29cc25447e1be7b71ee8ab9dd42",
       "version_major": 2,
       "version_minor": 0
      },
      "text/plain": [
       "Calculating likelihoods:   0%|          | 0/3 [00:00<?, ?it/s]"
      ]
     },
     "metadata": {},
     "output_type": "display_data"
    },
    {
     "data": {
      "application/vnd.jupyter.widget-view+json": {
       "model_id": "bd76a795d02e40359b4c388ba2a00c29",
       "version_major": 2,
       "version_minor": 0
      },
      "text/plain": [
       "Calculating likelihoods:   0%|          | 0/3 [00:00<?, ?it/s]"
      ]
     },
     "metadata": {},
     "output_type": "display_data"
    },
    {
     "data": {
      "application/vnd.jupyter.widget-view+json": {
       "model_id": "c6c65168b9054ca691c1c6a25e29057f",
       "version_major": 2,
       "version_minor": 0
      },
      "text/plain": [
       "Calculating likelihoods:   0%|          | 0/3 [00:00<?, ?it/s]"
      ]
     },
     "metadata": {},
     "output_type": "display_data"
    },
    {
     "data": {
      "application/vnd.jupyter.widget-view+json": {
       "model_id": "0062664ab4964edfbf66683a17ca81b7",
       "version_major": 2,
       "version_minor": 0
      },
      "text/plain": [
       "Calculating likelihoods:   0%|          | 0/3 [00:00<?, ?it/s]"
      ]
     },
     "metadata": {},
     "output_type": "display_data"
    },
    {
     "data": {
      "application/vnd.jupyter.widget-view+json": {
       "model_id": "af3a810954bd4039bdaa76a54a6e7150",
       "version_major": 2,
       "version_minor": 0
      },
      "text/plain": [
       "Calculating likelihoods:   0%|          | 0/3 [00:00<?, ?it/s]"
      ]
     },
     "metadata": {},
     "output_type": "display_data"
    },
    {
     "data": {
      "application/vnd.jupyter.widget-view+json": {
       "model_id": "fb552dc97611472586a9c1d6759b2d03",
       "version_major": 2,
       "version_minor": 0
      },
      "text/plain": [
       "Calculating likelihoods:   0%|          | 0/3 [00:00<?, ?it/s]"
      ]
     },
     "metadata": {},
     "output_type": "display_data"
    },
    {
     "data": {
      "application/vnd.jupyter.widget-view+json": {
       "model_id": "61a6326a0be349c1ba31d2344f9eec50",
       "version_major": 2,
       "version_minor": 0
      },
      "text/plain": [
       "Calculating likelihoods:   0%|          | 0/3 [00:00<?, ?it/s]"
      ]
     },
     "metadata": {},
     "output_type": "display_data"
    },
    {
     "data": {
      "application/vnd.jupyter.widget-view+json": {
       "model_id": "076eac338a9042c6be5e855eb5301e90",
       "version_major": 2,
       "version_minor": 0
      },
      "text/plain": [
       "Calculating likelihoods:   0%|          | 0/3 [00:00<?, ?it/s]"
      ]
     },
     "metadata": {},
     "output_type": "display_data"
    },
    {
     "data": {
      "application/vnd.jupyter.widget-view+json": {
       "model_id": "ab2df47329694063b5e9efd9ef7a9589",
       "version_major": 2,
       "version_minor": 0
      },
      "text/plain": [
       "Calculating likelihoods:   0%|          | 0/3 [00:00<?, ?it/s]"
      ]
     },
     "metadata": {},
     "output_type": "display_data"
    },
    {
     "data": {
      "application/vnd.jupyter.widget-view+json": {
       "model_id": "e921339005604a0aaf2aa02fbc041410",
       "version_major": 2,
       "version_minor": 0
      },
      "text/plain": [
       "Calculating likelihoods:   0%|          | 0/3 [00:00<?, ?it/s]"
      ]
     },
     "metadata": {},
     "output_type": "display_data"
    },
    {
     "data": {
      "application/vnd.jupyter.widget-view+json": {
       "model_id": "c17fc6b4638f440a934b8afac8c07f98",
       "version_major": 2,
       "version_minor": 0
      },
      "text/plain": [
       "Calculating likelihoods:   0%|          | 0/3 [00:00<?, ?it/s]"
      ]
     },
     "metadata": {},
     "output_type": "display_data"
    },
    {
     "data": {
      "application/vnd.jupyter.widget-view+json": {
       "model_id": "238c9fbdbe23456db5bddf6fff060608",
       "version_major": 2,
       "version_minor": 0
      },
      "text/plain": [
       "Calculating likelihoods:   0%|          | 0/3 [00:00<?, ?it/s]"
      ]
     },
     "metadata": {},
     "output_type": "display_data"
    },
    {
     "data": {
      "application/vnd.jupyter.widget-view+json": {
       "model_id": "c724bf9f90d5473f83c283bd4fa12b08",
       "version_major": 2,
       "version_minor": 0
      },
      "text/plain": [
       "Calculating likelihoods:   0%|          | 0/3 [00:00<?, ?it/s]"
      ]
     },
     "metadata": {},
     "output_type": "display_data"
    },
    {
     "data": {
      "application/vnd.jupyter.widget-view+json": {
       "model_id": "8f3166c5d6a44034b12c83b633fe13da",
       "version_major": 2,
       "version_minor": 0
      },
      "text/plain": [
       "Calculating likelihoods:   0%|          | 0/3 [00:00<?, ?it/s]"
      ]
     },
     "metadata": {},
     "output_type": "display_data"
    },
    {
     "data": {
      "application/vnd.jupyter.widget-view+json": {
       "model_id": "dc14e06b373a40419432fbdb11191cbe",
       "version_major": 2,
       "version_minor": 0
      },
      "text/plain": [
       "Calculating likelihoods:   0%|          | 0/3 [00:00<?, ?it/s]"
      ]
     },
     "metadata": {},
     "output_type": "display_data"
    },
    {
     "data": {
      "application/vnd.jupyter.widget-view+json": {
       "model_id": "8088b285d6884b8889e727142fdbf557",
       "version_major": 2,
       "version_minor": 0
      },
      "text/plain": [
       "Calculating likelihoods:   0%|          | 0/3 [00:00<?, ?it/s]"
      ]
     },
     "metadata": {},
     "output_type": "display_data"
    },
    {
     "data": {
      "application/vnd.jupyter.widget-view+json": {
       "model_id": "a86edb3b500b43668d3dbd9a2cf66648",
       "version_major": 2,
       "version_minor": 0
      },
      "text/plain": [
       "Calculating likelihoods:   0%|          | 0/3 [00:00<?, ?it/s]"
      ]
     },
     "metadata": {},
     "output_type": "display_data"
    },
    {
     "data": {
      "application/vnd.jupyter.widget-view+json": {
       "model_id": "8b06ef8d53174db4b9ac2fb708e9918f",
       "version_major": 2,
       "version_minor": 0
      },
      "text/plain": [
       "Calculating likelihoods:   0%|          | 0/3 [00:00<?, ?it/s]"
      ]
     },
     "metadata": {},
     "output_type": "display_data"
    },
    {
     "data": {
      "application/vnd.jupyter.widget-view+json": {
       "model_id": "d7fa4e0e553b4e5cbb90a32b59aa1b77",
       "version_major": 2,
       "version_minor": 0
      },
      "text/plain": [
       "Calculating likelihoods:   0%|          | 0/3 [00:00<?, ?it/s]"
      ]
     },
     "metadata": {},
     "output_type": "display_data"
    },
    {
     "data": {
      "application/vnd.jupyter.widget-view+json": {
       "model_id": "95846b7c45f741469f649e8788649810",
       "version_major": 2,
       "version_minor": 0
      },
      "text/plain": [
       "Calculating likelihoods:   0%|          | 0/3 [00:00<?, ?it/s]"
      ]
     },
     "metadata": {},
     "output_type": "display_data"
    },
    {
     "data": {
      "application/vnd.jupyter.widget-view+json": {
       "model_id": "2d5643ba07f1471cb8af5ccb00f30031",
       "version_major": 2,
       "version_minor": 0
      },
      "text/plain": [
       "Calculating likelihoods:   0%|          | 0/3 [00:00<?, ?it/s]"
      ]
     },
     "metadata": {},
     "output_type": "display_data"
    },
    {
     "data": {
      "application/vnd.jupyter.widget-view+json": {
       "model_id": "7f1adf46280b460c8adcd8f8bf5b66fa",
       "version_major": 2,
       "version_minor": 0
      },
      "text/plain": [
       "Calculating likelihoods:   0%|          | 0/3 [00:00<?, ?it/s]"
      ]
     },
     "metadata": {},
     "output_type": "display_data"
    },
    {
     "data": {
      "application/vnd.jupyter.widget-view+json": {
       "model_id": "c55aeb0184ed444a939f8ce67e985a24",
       "version_major": 2,
       "version_minor": 0
      },
      "text/plain": [
       "Calculating likelihoods:   0%|          | 0/3 [00:00<?, ?it/s]"
      ]
     },
     "metadata": {},
     "output_type": "display_data"
    },
    {
     "data": {
      "application/vnd.jupyter.widget-view+json": {
       "model_id": "3a1a83c419b74022a7bbacff82bd59b0",
       "version_major": 2,
       "version_minor": 0
      },
      "text/plain": [
       "Calculating likelihoods:   0%|          | 0/3 [00:00<?, ?it/s]"
      ]
     },
     "metadata": {},
     "output_type": "display_data"
    },
    {
     "data": {
      "application/vnd.jupyter.widget-view+json": {
       "model_id": "7e2e91cab1ae45d8beb6610645528ee9",
       "version_major": 2,
       "version_minor": 0
      },
      "text/plain": [
       "Calculating likelihoods:   0%|          | 0/3 [00:00<?, ?it/s]"
      ]
     },
     "metadata": {},
     "output_type": "display_data"
    },
    {
     "data": {
      "application/vnd.jupyter.widget-view+json": {
       "model_id": "d85ebf3f62644bc4bd3032527c607db3",
       "version_major": 2,
       "version_minor": 0
      },
      "text/plain": [
       "Calculating likelihoods:   0%|          | 0/3 [00:00<?, ?it/s]"
      ]
     },
     "metadata": {},
     "output_type": "display_data"
    },
    {
     "data": {
      "application/vnd.jupyter.widget-view+json": {
       "model_id": "8f8057ea661d4bc39467feb843b0a7c0",
       "version_major": 2,
       "version_minor": 0
      },
      "text/plain": [
       "Calculating likelihoods:   0%|          | 0/3 [00:00<?, ?it/s]"
      ]
     },
     "metadata": {},
     "output_type": "display_data"
    },
    {
     "data": {
      "application/vnd.jupyter.widget-view+json": {
       "model_id": "f9884ec1d78646c9896922839125cb27",
       "version_major": 2,
       "version_minor": 0
      },
      "text/plain": [
       "Calculating likelihoods:   0%|          | 0/3 [00:00<?, ?it/s]"
      ]
     },
     "metadata": {},
     "output_type": "display_data"
    },
    {
     "data": {
      "application/vnd.jupyter.widget-view+json": {
       "model_id": "dd86544c34014c4ea53bfc365804d613",
       "version_major": 2,
       "version_minor": 0
      },
      "text/plain": [
       "Calculating likelihoods:   0%|          | 0/3 [00:00<?, ?it/s]"
      ]
     },
     "metadata": {},
     "output_type": "display_data"
    },
    {
     "data": {
      "application/vnd.jupyter.widget-view+json": {
       "model_id": "95ecdd2861b44b64b91498f7bd740180",
       "version_major": 2,
       "version_minor": 0
      },
      "text/plain": [
       "Calculating likelihoods:   0%|          | 0/3 [00:00<?, ?it/s]"
      ]
     },
     "metadata": {},
     "output_type": "display_data"
    },
    {
     "data": {
      "application/vnd.jupyter.widget-view+json": {
       "model_id": "27059b3260344fe5be978b7173ff4721",
       "version_major": 2,
       "version_minor": 0
      },
      "text/plain": [
       "Calculating likelihoods:   0%|          | 0/3 [00:00<?, ?it/s]"
      ]
     },
     "metadata": {},
     "output_type": "display_data"
    },
    {
     "data": {
      "application/vnd.jupyter.widget-view+json": {
       "model_id": "3709f92d648f45dcbc9efcd9acf6ae66",
       "version_major": 2,
       "version_minor": 0
      },
      "text/plain": [
       "Calculating likelihoods:   0%|          | 0/3 [00:00<?, ?it/s]"
      ]
     },
     "metadata": {},
     "output_type": "display_data"
    },
    {
     "data": {
      "application/vnd.jupyter.widget-view+json": {
       "model_id": "64f9397d6d4147b2bf33fc21782a3d50",
       "version_major": 2,
       "version_minor": 0
      },
      "text/plain": [
       "Calculating likelihoods:   0%|          | 0/3 [00:00<?, ?it/s]"
      ]
     },
     "metadata": {},
     "output_type": "display_data"
    },
    {
     "data": {
      "application/vnd.jupyter.widget-view+json": {
       "model_id": "83526c10bdc34538836af7cc189eb33a",
       "version_major": 2,
       "version_minor": 0
      },
      "text/plain": [
       "Calculating likelihoods:   0%|          | 0/3 [00:00<?, ?it/s]"
      ]
     },
     "metadata": {},
     "output_type": "display_data"
    },
    {
     "data": {
      "application/vnd.jupyter.widget-view+json": {
       "model_id": "c10f7df0330e47bd9f4ee30ad4f1fa12",
       "version_major": 2,
       "version_minor": 0
      },
      "text/plain": [
       "Calculating likelihoods:   0%|          | 0/3 [00:00<?, ?it/s]"
      ]
     },
     "metadata": {},
     "output_type": "display_data"
    },
    {
     "data": {
      "application/vnd.jupyter.widget-view+json": {
       "model_id": "6978a8fb1e3440b79cb8039b4e7d5135",
       "version_major": 2,
       "version_minor": 0
      },
      "text/plain": [
       "Calculating likelihoods:   0%|          | 0/3 [00:00<?, ?it/s]"
      ]
     },
     "metadata": {},
     "output_type": "display_data"
    },
    {
     "data": {
      "application/vnd.jupyter.widget-view+json": {
       "model_id": "0e6d82d73b0842f9b3f30a21159803db",
       "version_major": 2,
       "version_minor": 0
      },
      "text/plain": [
       "Calculating likelihoods:   0%|          | 0/3 [00:00<?, ?it/s]"
      ]
     },
     "metadata": {},
     "output_type": "display_data"
    },
    {
     "data": {
      "application/vnd.jupyter.widget-view+json": {
       "model_id": "553adda943304058b13a6c63f623a013",
       "version_major": 2,
       "version_minor": 0
      },
      "text/plain": [
       "Calculating likelihoods:   0%|          | 0/3 [00:00<?, ?it/s]"
      ]
     },
     "metadata": {},
     "output_type": "display_data"
    },
    {
     "data": {
      "application/vnd.jupyter.widget-view+json": {
       "model_id": "8b47e573d12145f29b9a91a91345164e",
       "version_major": 2,
       "version_minor": 0
      },
      "text/plain": [
       "Calculating likelihoods:   0%|          | 0/3 [00:00<?, ?it/s]"
      ]
     },
     "metadata": {},
     "output_type": "display_data"
    },
    {
     "data": {
      "application/vnd.jupyter.widget-view+json": {
       "model_id": "37b32e0629b54b129d4c8da7ce8123a9",
       "version_major": 2,
       "version_minor": 0
      },
      "text/plain": [
       "Calculating likelihoods:   0%|          | 0/3 [00:00<?, ?it/s]"
      ]
     },
     "metadata": {},
     "output_type": "display_data"
    },
    {
     "data": {
      "application/vnd.jupyter.widget-view+json": {
       "model_id": "532bea9c4e1f45768ab932f8bc1f7eed",
       "version_major": 2,
       "version_minor": 0
      },
      "text/plain": [
       "Calculating likelihoods:   0%|          | 0/3 [00:00<?, ?it/s]"
      ]
     },
     "metadata": {},
     "output_type": "display_data"
    },
    {
     "data": {
      "application/vnd.jupyter.widget-view+json": {
       "model_id": "48cf594492fa4d528b6834ac8a8a62c2",
       "version_major": 2,
       "version_minor": 0
      },
      "text/plain": [
       "Calculating likelihoods:   0%|          | 0/3 [00:00<?, ?it/s]"
      ]
     },
     "metadata": {},
     "output_type": "display_data"
    },
    {
     "data": {
      "application/vnd.jupyter.widget-view+json": {
       "model_id": "03259fb2ad3d49748116cb487eff5057",
       "version_major": 2,
       "version_minor": 0
      },
      "text/plain": [
       "Calculating likelihoods:   0%|          | 0/3 [00:00<?, ?it/s]"
      ]
     },
     "metadata": {},
     "output_type": "display_data"
    },
    {
     "data": {
      "application/vnd.jupyter.widget-view+json": {
       "model_id": "fdc8ee35188f48e093dfcf40bfacdc6b",
       "version_major": 2,
       "version_minor": 0
      },
      "text/plain": [
       "Calculating likelihoods:   0%|          | 0/3 [00:00<?, ?it/s]"
      ]
     },
     "metadata": {},
     "output_type": "display_data"
    },
    {
     "data": {
      "application/vnd.jupyter.widget-view+json": {
       "model_id": "a2932b43c2054c0e96d5fddd258883d3",
       "version_major": 2,
       "version_minor": 0
      },
      "text/plain": [
       "Calculating likelihoods:   0%|          | 0/3 [00:00<?, ?it/s]"
      ]
     },
     "metadata": {},
     "output_type": "display_data"
    },
    {
     "data": {
      "application/vnd.jupyter.widget-view+json": {
       "model_id": "98b5824c8f3a40bb9ac2491578bcbd48",
       "version_major": 2,
       "version_minor": 0
      },
      "text/plain": [
       "Calculating likelihoods:   0%|          | 0/3 [00:00<?, ?it/s]"
      ]
     },
     "metadata": {},
     "output_type": "display_data"
    },
    {
     "data": {
      "application/vnd.jupyter.widget-view+json": {
       "model_id": "4e9b69f89c874a68bd68e069feb93bdf",
       "version_major": 2,
       "version_minor": 0
      },
      "text/plain": [
       "Calculating likelihoods:   0%|          | 0/3 [00:00<?, ?it/s]"
      ]
     },
     "metadata": {},
     "output_type": "display_data"
    },
    {
     "data": {
      "application/vnd.jupyter.widget-view+json": {
       "model_id": "6f58db357a484b16a2d5dcd4faeebe98",
       "version_major": 2,
       "version_minor": 0
      },
      "text/plain": [
       "Calculating likelihoods:   0%|          | 0/3 [00:00<?, ?it/s]"
      ]
     },
     "metadata": {},
     "output_type": "display_data"
    },
    {
     "data": {
      "application/vnd.jupyter.widget-view+json": {
       "model_id": "fafcc9ac03f94573ac23503b50d62baa",
       "version_major": 2,
       "version_minor": 0
      },
      "text/plain": [
       "Calculating likelihoods:   0%|          | 0/3 [00:00<?, ?it/s]"
      ]
     },
     "metadata": {},
     "output_type": "display_data"
    },
    {
     "data": {
      "application/vnd.jupyter.widget-view+json": {
       "model_id": "11375c9ef0ae46bd8511270f8c640cd7",
       "version_major": 2,
       "version_minor": 0
      },
      "text/plain": [
       "Calculating likelihoods:   0%|          | 0/3 [00:00<?, ?it/s]"
      ]
     },
     "metadata": {},
     "output_type": "display_data"
    },
    {
     "data": {
      "application/vnd.jupyter.widget-view+json": {
       "model_id": "ff9ebf3dca224664b9f90596fde5da22",
       "version_major": 2,
       "version_minor": 0
      },
      "text/plain": [
       "Calculating likelihoods:   0%|          | 0/3 [00:00<?, ?it/s]"
      ]
     },
     "metadata": {},
     "output_type": "display_data"
    },
    {
     "data": {
      "application/vnd.jupyter.widget-view+json": {
       "model_id": "1bcee95de4754d659d3810191b78e17a",
       "version_major": 2,
       "version_minor": 0
      },
      "text/plain": [
       "Calculating likelihoods:   0%|          | 0/3 [00:00<?, ?it/s]"
      ]
     },
     "metadata": {},
     "output_type": "display_data"
    },
    {
     "data": {
      "application/vnd.jupyter.widget-view+json": {
       "model_id": "a4f9bfcf37b8472a9ee12329a47a2d84",
       "version_major": 2,
       "version_minor": 0
      },
      "text/plain": [
       "Calculating likelihoods:   0%|          | 0/3 [00:00<?, ?it/s]"
      ]
     },
     "metadata": {},
     "output_type": "display_data"
    },
    {
     "data": {
      "application/vnd.jupyter.widget-view+json": {
       "model_id": "63ecc3792b8045baae6cf62e3b0a6608",
       "version_major": 2,
       "version_minor": 0
      },
      "text/plain": [
       "Calculating likelihoods:   0%|          | 0/3 [00:00<?, ?it/s]"
      ]
     },
     "metadata": {},
     "output_type": "display_data"
    },
    {
     "data": {
      "application/vnd.jupyter.widget-view+json": {
       "model_id": "555300d19e0649b194c327c43356cc88",
       "version_major": 2,
       "version_minor": 0
      },
      "text/plain": [
       "Calculating likelihoods:   0%|          | 0/3 [00:00<?, ?it/s]"
      ]
     },
     "metadata": {},
     "output_type": "display_data"
    },
    {
     "data": {
      "application/vnd.jupyter.widget-view+json": {
       "model_id": "db7b54f5c7094efa806ad2327e52f27a",
       "version_major": 2,
       "version_minor": 0
      },
      "text/plain": [
       "Calculating likelihoods:   0%|          | 0/3 [00:00<?, ?it/s]"
      ]
     },
     "metadata": {},
     "output_type": "display_data"
    },
    {
     "data": {
      "application/vnd.jupyter.widget-view+json": {
       "model_id": "978ed248082a4db5a3eb82e3dcf4fdb0",
       "version_major": 2,
       "version_minor": 0
      },
      "text/plain": [
       "Calculating likelihoods:   0%|          | 0/3 [00:00<?, ?it/s]"
      ]
     },
     "metadata": {},
     "output_type": "display_data"
    },
    {
     "data": {
      "application/vnd.jupyter.widget-view+json": {
       "model_id": "97af0cdd091c4b86af91c061916b4b12",
       "version_major": 2,
       "version_minor": 0
      },
      "text/plain": [
       "Calculating likelihoods:   0%|          | 0/3 [00:00<?, ?it/s]"
      ]
     },
     "metadata": {},
     "output_type": "display_data"
    },
    {
     "data": {
      "application/vnd.jupyter.widget-view+json": {
       "model_id": "0682614586c340a08d81e55967ce25ad",
       "version_major": 2,
       "version_minor": 0
      },
      "text/plain": [
       "Calculating likelihoods:   0%|          | 0/3 [00:00<?, ?it/s]"
      ]
     },
     "metadata": {},
     "output_type": "display_data"
    },
    {
     "data": {
      "application/vnd.jupyter.widget-view+json": {
       "model_id": "89bf49651e8742ae984d569fb34aade2",
       "version_major": 2,
       "version_minor": 0
      },
      "text/plain": [
       "Calculating likelihoods:   0%|          | 0/3 [00:00<?, ?it/s]"
      ]
     },
     "metadata": {},
     "output_type": "display_data"
    },
    {
     "data": {
      "application/vnd.jupyter.widget-view+json": {
       "model_id": "9772305078a844d18e4db4a32a5b7875",
       "version_major": 2,
       "version_minor": 0
      },
      "text/plain": [
       "Calculating likelihoods:   0%|          | 0/3 [00:00<?, ?it/s]"
      ]
     },
     "metadata": {},
     "output_type": "display_data"
    },
    {
     "data": {
      "application/vnd.jupyter.widget-view+json": {
       "model_id": "5a96d457d0a2464b916a381db27ff204",
       "version_major": 2,
       "version_minor": 0
      },
      "text/plain": [
       "Calculating likelihoods:   0%|          | 0/3 [00:00<?, ?it/s]"
      ]
     },
     "metadata": {},
     "output_type": "display_data"
    },
    {
     "data": {
      "application/vnd.jupyter.widget-view+json": {
       "model_id": "e900b61ea56645f9b51b71dd52927799",
       "version_major": 2,
       "version_minor": 0
      },
      "text/plain": [
       "Calculating likelihoods:   0%|          | 0/3 [00:00<?, ?it/s]"
      ]
     },
     "metadata": {},
     "output_type": "display_data"
    },
    {
     "data": {
      "application/vnd.jupyter.widget-view+json": {
       "model_id": "d6d55dffa1a04a3681ae43c6cdffe4e9",
       "version_major": 2,
       "version_minor": 0
      },
      "text/plain": [
       "Calculating likelihoods:   0%|          | 0/3 [00:00<?, ?it/s]"
      ]
     },
     "metadata": {},
     "output_type": "display_data"
    },
    {
     "data": {
      "application/vnd.jupyter.widget-view+json": {
       "model_id": "e71d2839af4049b2b9c89c89c56a5c83",
       "version_major": 2,
       "version_minor": 0
      },
      "text/plain": [
       "Calculating likelihoods:   0%|          | 0/3 [00:00<?, ?it/s]"
      ]
     },
     "metadata": {},
     "output_type": "display_data"
    },
    {
     "data": {
      "application/vnd.jupyter.widget-view+json": {
       "model_id": "294696ac227a4fbea0a83e9a261b00cb",
       "version_major": 2,
       "version_minor": 0
      },
      "text/plain": [
       "Calculating likelihoods:   0%|          | 0/3 [00:00<?, ?it/s]"
      ]
     },
     "metadata": {},
     "output_type": "display_data"
    },
    {
     "data": {
      "application/vnd.jupyter.widget-view+json": {
       "model_id": "1edda0af24a4491ba4aba5469cc6f5aa",
       "version_major": 2,
       "version_minor": 0
      },
      "text/plain": [
       "Calculating likelihoods:   0%|          | 0/3 [00:00<?, ?it/s]"
      ]
     },
     "metadata": {},
     "output_type": "display_data"
    },
    {
     "data": {
      "application/vnd.jupyter.widget-view+json": {
       "model_id": "4796e022488549deae67f0a4fbf9132c",
       "version_major": 2,
       "version_minor": 0
      },
      "text/plain": [
       "Calculating likelihoods:   0%|          | 0/3 [00:00<?, ?it/s]"
      ]
     },
     "metadata": {},
     "output_type": "display_data"
    },
    {
     "data": {
      "application/vnd.jupyter.widget-view+json": {
       "model_id": "64dd74e0c4b64f439cf21707e37ae44c",
       "version_major": 2,
       "version_minor": 0
      },
      "text/plain": [
       "Calculating likelihoods:   0%|          | 0/3 [00:00<?, ?it/s]"
      ]
     },
     "metadata": {},
     "output_type": "display_data"
    },
    {
     "data": {
      "application/vnd.jupyter.widget-view+json": {
       "model_id": "9b1fb5c09f514cef9a8649d1eec2add4",
       "version_major": 2,
       "version_minor": 0
      },
      "text/plain": [
       "Calculating likelihoods:   0%|          | 0/3 [00:00<?, ?it/s]"
      ]
     },
     "metadata": {},
     "output_type": "display_data"
    },
    {
     "data": {
      "application/vnd.jupyter.widget-view+json": {
       "model_id": "2feda7c5b0ff494b89bc3be3be22262d",
       "version_major": 2,
       "version_minor": 0
      },
      "text/plain": [
       "Calculating likelihoods:   0%|          | 0/3 [00:00<?, ?it/s]"
      ]
     },
     "metadata": {},
     "output_type": "display_data"
    },
    {
     "data": {
      "application/vnd.jupyter.widget-view+json": {
       "model_id": "58dc6a472e834c2e8818b613db738f0b",
       "version_major": 2,
       "version_minor": 0
      },
      "text/plain": [
       "Calculating likelihoods:   0%|          | 0/3 [00:00<?, ?it/s]"
      ]
     },
     "metadata": {},
     "output_type": "display_data"
    },
    {
     "data": {
      "application/vnd.jupyter.widget-view+json": {
       "model_id": "d6251dfecc9e428f9743d3d73b97464f",
       "version_major": 2,
       "version_minor": 0
      },
      "text/plain": [
       "Calculating likelihoods:   0%|          | 0/3 [00:00<?, ?it/s]"
      ]
     },
     "metadata": {},
     "output_type": "display_data"
    },
    {
     "data": {
      "application/vnd.jupyter.widget-view+json": {
       "model_id": "e779ba97ffee4273984991c4b3fc82bd",
       "version_major": 2,
       "version_minor": 0
      },
      "text/plain": [
       "Calculating likelihoods:   0%|          | 0/3 [00:00<?, ?it/s]"
      ]
     },
     "metadata": {},
     "output_type": "display_data"
    },
    {
     "data": {
      "application/vnd.jupyter.widget-view+json": {
       "model_id": "b7911b0ff87a4c83be0339a114a888fb",
       "version_major": 2,
       "version_minor": 0
      },
      "text/plain": [
       "Calculating likelihoods:   0%|          | 0/3 [00:00<?, ?it/s]"
      ]
     },
     "metadata": {},
     "output_type": "display_data"
    },
    {
     "data": {
      "application/vnd.jupyter.widget-view+json": {
       "model_id": "a05c712251ca4fafa8bb932eb328edc7",
       "version_major": 2,
       "version_minor": 0
      },
      "text/plain": [
       "Calculating likelihoods:   0%|          | 0/3 [00:00<?, ?it/s]"
      ]
     },
     "metadata": {},
     "output_type": "display_data"
    },
    {
     "data": {
      "application/vnd.jupyter.widget-view+json": {
       "model_id": "8dcbe6d15e17417cad932a69bd66474d",
       "version_major": 2,
       "version_minor": 0
      },
      "text/plain": [
       "Calculating likelihoods:   0%|          | 0/3 [00:00<?, ?it/s]"
      ]
     },
     "metadata": {},
     "output_type": "display_data"
    },
    {
     "data": {
      "application/vnd.jupyter.widget-view+json": {
       "model_id": "fc09ee8fefb24f76b5ee46c177a41d8b",
       "version_major": 2,
       "version_minor": 0
      },
      "text/plain": [
       "Calculating likelihoods:   0%|          | 0/3 [00:00<?, ?it/s]"
      ]
     },
     "metadata": {},
     "output_type": "display_data"
    },
    {
     "data": {
      "application/vnd.jupyter.widget-view+json": {
       "model_id": "e59c7999a1c44e9ebb6befa4870c7072",
       "version_major": 2,
       "version_minor": 0
      },
      "text/plain": [
       "Calculating likelihoods:   0%|          | 0/3 [00:00<?, ?it/s]"
      ]
     },
     "metadata": {},
     "output_type": "display_data"
    },
    {
     "data": {
      "application/vnd.jupyter.widget-view+json": {
       "model_id": "04a29c71375e47cbb2b894312c500cc6",
       "version_major": 2,
       "version_minor": 0
      },
      "text/plain": [
       "Calculating likelihoods:   0%|          | 0/3 [00:00<?, ?it/s]"
      ]
     },
     "metadata": {},
     "output_type": "display_data"
    },
    {
     "data": {
      "application/vnd.jupyter.widget-view+json": {
       "model_id": "6da45e0c53d14898a7b82e87e23f1057",
       "version_major": 2,
       "version_minor": 0
      },
      "text/plain": [
       "Calculating likelihoods:   0%|          | 0/3 [00:00<?, ?it/s]"
      ]
     },
     "metadata": {},
     "output_type": "display_data"
    },
    {
     "data": {
      "application/vnd.jupyter.widget-view+json": {
       "model_id": "da151b6132c44393bd6b036fb5d71fe6",
       "version_major": 2,
       "version_minor": 0
      },
      "text/plain": [
       "Calculating likelihoods:   0%|          | 0/3 [00:00<?, ?it/s]"
      ]
     },
     "metadata": {},
     "output_type": "display_data"
    },
    {
     "data": {
      "application/vnd.jupyter.widget-view+json": {
       "model_id": "99ce883a40f74bb0b49237a50e308958",
       "version_major": 2,
       "version_minor": 0
      },
      "text/plain": [
       "Calculating likelihoods:   0%|          | 0/3 [00:00<?, ?it/s]"
      ]
     },
     "metadata": {},
     "output_type": "display_data"
    },
    {
     "data": {
      "application/vnd.jupyter.widget-view+json": {
       "model_id": "60cf23ec0f684027a18089cfd37b58dc",
       "version_major": 2,
       "version_minor": 0
      },
      "text/plain": [
       "Calculating likelihoods:   0%|          | 0/3 [00:00<?, ?it/s]"
      ]
     },
     "metadata": {},
     "output_type": "display_data"
    },
    {
     "data": {
      "application/vnd.jupyter.widget-view+json": {
       "model_id": "eb0dcf09b1434b6c8096dd370bb0052c",
       "version_major": 2,
       "version_minor": 0
      },
      "text/plain": [
       "Calculating likelihoods:   0%|          | 0/3 [00:00<?, ?it/s]"
      ]
     },
     "metadata": {},
     "output_type": "display_data"
    },
    {
     "data": {
      "application/vnd.jupyter.widget-view+json": {
       "model_id": "0e93afc87caa471b82f486797ae4d305",
       "version_major": 2,
       "version_minor": 0
      },
      "text/plain": [
       "Calculating likelihoods:   0%|          | 0/3 [00:00<?, ?it/s]"
      ]
     },
     "metadata": {},
     "output_type": "display_data"
    },
    {
     "data": {
      "application/vnd.jupyter.widget-view+json": {
       "model_id": "3c5b6137002a4992add7317a1fcc1ee5",
       "version_major": 2,
       "version_minor": 0
      },
      "text/plain": [
       "Calculating likelihoods:   0%|          | 0/3 [00:00<?, ?it/s]"
      ]
     },
     "metadata": {},
     "output_type": "display_data"
    },
    {
     "data": {
      "application/vnd.jupyter.widget-view+json": {
       "model_id": "87e310c82fee46368886ffd327176db6",
       "version_major": 2,
       "version_minor": 0
      },
      "text/plain": [
       "Calculating likelihoods:   0%|          | 0/3 [00:00<?, ?it/s]"
      ]
     },
     "metadata": {},
     "output_type": "display_data"
    },
    {
     "data": {
      "application/vnd.jupyter.widget-view+json": {
       "model_id": "14bda094d3ba4ab19bbd7c97bbb7b668",
       "version_major": 2,
       "version_minor": 0
      },
      "text/plain": [
       "Calculating likelihoods:   0%|          | 0/3 [00:00<?, ?it/s]"
      ]
     },
     "metadata": {},
     "output_type": "display_data"
    },
    {
     "data": {
      "application/vnd.jupyter.widget-view+json": {
       "model_id": "5089c900614e4f6896e593d9c6a236e1",
       "version_major": 2,
       "version_minor": 0
      },
      "text/plain": [
       "Calculating likelihoods:   0%|          | 0/3 [00:00<?, ?it/s]"
      ]
     },
     "metadata": {},
     "output_type": "display_data"
    },
    {
     "data": {
      "application/vnd.jupyter.widget-view+json": {
       "model_id": "150e80c6a367442992a7b1f64a0336c6",
       "version_major": 2,
       "version_minor": 0
      },
      "text/plain": [
       "Calculating likelihoods:   0%|          | 0/3 [00:00<?, ?it/s]"
      ]
     },
     "metadata": {},
     "output_type": "display_data"
    },
    {
     "data": {
      "application/vnd.jupyter.widget-view+json": {
       "model_id": "5b8bd5fdbbc64ecf8ffe99fab11c404c",
       "version_major": 2,
       "version_minor": 0
      },
      "text/plain": [
       "Calculating likelihoods:   0%|          | 0/3 [00:00<?, ?it/s]"
      ]
     },
     "metadata": {},
     "output_type": "display_data"
    },
    {
     "data": {
      "application/vnd.jupyter.widget-view+json": {
       "model_id": "09d11a2887614a29a593520239811995",
       "version_major": 2,
       "version_minor": 0
      },
      "text/plain": [
       "Calculating likelihoods:   0%|          | 0/3 [00:00<?, ?it/s]"
      ]
     },
     "metadata": {},
     "output_type": "display_data"
    },
    {
     "data": {
      "application/vnd.jupyter.widget-view+json": {
       "model_id": "92dcac0dad3b44d8b6744111cf7e057f",
       "version_major": 2,
       "version_minor": 0
      },
      "text/plain": [
       "Calculating likelihoods:   0%|          | 0/3 [00:00<?, ?it/s]"
      ]
     },
     "metadata": {},
     "output_type": "display_data"
    },
    {
     "data": {
      "application/vnd.jupyter.widget-view+json": {
       "model_id": "f7dc1d47f4af4778a5cd695ddea2c5f5",
       "version_major": 2,
       "version_minor": 0
      },
      "text/plain": [
       "Calculating likelihoods:   0%|          | 0/3 [00:00<?, ?it/s]"
      ]
     },
     "metadata": {},
     "output_type": "display_data"
    },
    {
     "data": {
      "application/vnd.jupyter.widget-view+json": {
       "model_id": "636edbae72da4eebb501187ca82fa4d2",
       "version_major": 2,
       "version_minor": 0
      },
      "text/plain": [
       "Calculating likelihoods:   0%|          | 0/3 [00:00<?, ?it/s]"
      ]
     },
     "metadata": {},
     "output_type": "display_data"
    },
    {
     "data": {
      "application/vnd.jupyter.widget-view+json": {
       "model_id": "b1f9e7a4c26a452bb020fe76945f3793",
       "version_major": 2,
       "version_minor": 0
      },
      "text/plain": [
       "Calculating likelihoods:   0%|          | 0/3 [00:00<?, ?it/s]"
      ]
     },
     "metadata": {},
     "output_type": "display_data"
    },
    {
     "data": {
      "application/vnd.jupyter.widget-view+json": {
       "model_id": "772f00d2182b419ab8e0df52f205be16",
       "version_major": 2,
       "version_minor": 0
      },
      "text/plain": [
       "Calculating likelihoods:   0%|          | 0/3 [00:00<?, ?it/s]"
      ]
     },
     "metadata": {},
     "output_type": "display_data"
    },
    {
     "data": {
      "application/vnd.jupyter.widget-view+json": {
       "model_id": "b743919cd95543b7941436ff0825a59b",
       "version_major": 2,
       "version_minor": 0
      },
      "text/plain": [
       "Calculating likelihoods:   0%|          | 0/3 [00:00<?, ?it/s]"
      ]
     },
     "metadata": {},
     "output_type": "display_data"
    },
    {
     "data": {
      "application/vnd.jupyter.widget-view+json": {
       "model_id": "c05278bccb5d4d87a2a12b2c71f6c072",
       "version_major": 2,
       "version_minor": 0
      },
      "text/plain": [
       "Calculating likelihoods:   0%|          | 0/3 [00:00<?, ?it/s]"
      ]
     },
     "metadata": {},
     "output_type": "display_data"
    },
    {
     "data": {
      "application/vnd.jupyter.widget-view+json": {
       "model_id": "fb38b4dd69984dd1960723fc18cab51d",
       "version_major": 2,
       "version_minor": 0
      },
      "text/plain": [
       "Calculating likelihoods:   0%|          | 0/3 [00:00<?, ?it/s]"
      ]
     },
     "metadata": {},
     "output_type": "display_data"
    },
    {
     "data": {
      "application/vnd.jupyter.widget-view+json": {
       "model_id": "b8ebfbb1e3424507a741390403e48488",
       "version_major": 2,
       "version_minor": 0
      },
      "text/plain": [
       "Calculating likelihoods:   0%|          | 0/3 [00:00<?, ?it/s]"
      ]
     },
     "metadata": {},
     "output_type": "display_data"
    },
    {
     "data": {
      "application/vnd.jupyter.widget-view+json": {
       "model_id": "afbfd0c4964944a1aad4b5138a861bad",
       "version_major": 2,
       "version_minor": 0
      },
      "text/plain": [
       "Calculating likelihoods:   0%|          | 0/3 [00:00<?, ?it/s]"
      ]
     },
     "metadata": {},
     "output_type": "display_data"
    },
    {
     "data": {
      "application/vnd.jupyter.widget-view+json": {
       "model_id": "01bec2ea6c5840f3bf85ab58b81ce8a9",
       "version_major": 2,
       "version_minor": 0
      },
      "text/plain": [
       "Calculating likelihoods:   0%|          | 0/3 [00:00<?, ?it/s]"
      ]
     },
     "metadata": {},
     "output_type": "display_data"
    },
    {
     "data": {
      "application/vnd.jupyter.widget-view+json": {
       "model_id": "009eda2d02fe4364b1ba5a5e792853d4",
       "version_major": 2,
       "version_minor": 0
      },
      "text/plain": [
       "Calculating likelihoods:   0%|          | 0/3 [00:00<?, ?it/s]"
      ]
     },
     "metadata": {},
     "output_type": "display_data"
    },
    {
     "data": {
      "application/vnd.jupyter.widget-view+json": {
       "model_id": "0579cd6b98764de08d2a893d7b6e2bf7",
       "version_major": 2,
       "version_minor": 0
      },
      "text/plain": [
       "Calculating likelihoods:   0%|          | 0/3 [00:00<?, ?it/s]"
      ]
     },
     "metadata": {},
     "output_type": "display_data"
    },
    {
     "data": {
      "application/vnd.jupyter.widget-view+json": {
       "model_id": "896fa4d975ea494db1ee485720dcd438",
       "version_major": 2,
       "version_minor": 0
      },
      "text/plain": [
       "Calculating likelihoods:   0%|          | 0/3 [00:00<?, ?it/s]"
      ]
     },
     "metadata": {},
     "output_type": "display_data"
    },
    {
     "data": {
      "application/vnd.jupyter.widget-view+json": {
       "model_id": "3d86695be6674579996e824485ac786d",
       "version_major": 2,
       "version_minor": 0
      },
      "text/plain": [
       "Calculating likelihoods:   0%|          | 0/3 [00:00<?, ?it/s]"
      ]
     },
     "metadata": {},
     "output_type": "display_data"
    },
    {
     "data": {
      "application/vnd.jupyter.widget-view+json": {
       "model_id": "e6b39ee58c914f9dbc49e461dacd88d6",
       "version_major": 2,
       "version_minor": 0
      },
      "text/plain": [
       "Calculating likelihoods:   0%|          | 0/3 [00:00<?, ?it/s]"
      ]
     },
     "metadata": {},
     "output_type": "display_data"
    },
    {
     "data": {
      "application/vnd.jupyter.widget-view+json": {
       "model_id": "1e3646acfe07425fadbdf74f77354fcd",
       "version_major": 2,
       "version_minor": 0
      },
      "text/plain": [
       "Calculating likelihoods:   0%|          | 0/3 [00:00<?, ?it/s]"
      ]
     },
     "metadata": {},
     "output_type": "display_data"
    },
    {
     "data": {
      "application/vnd.jupyter.widget-view+json": {
       "model_id": "b336b17f249b4a7c9b9a067ae732a764",
       "version_major": 2,
       "version_minor": 0
      },
      "text/plain": [
       "Calculating likelihoods:   0%|          | 0/3 [00:00<?, ?it/s]"
      ]
     },
     "metadata": {},
     "output_type": "display_data"
    },
    {
     "data": {
      "application/vnd.jupyter.widget-view+json": {
       "model_id": "ae6ba53bf87541fca6c0eef848178726",
       "version_major": 2,
       "version_minor": 0
      },
      "text/plain": [
       "Calculating likelihoods:   0%|          | 0/3 [00:00<?, ?it/s]"
      ]
     },
     "metadata": {},
     "output_type": "display_data"
    },
    {
     "data": {
      "application/vnd.jupyter.widget-view+json": {
       "model_id": "75385c401ed640c78d24bb9a10124f96",
       "version_major": 2,
       "version_minor": 0
      },
      "text/plain": [
       "Calculating likelihoods:   0%|          | 0/3 [00:00<?, ?it/s]"
      ]
     },
     "metadata": {},
     "output_type": "display_data"
    },
    {
     "data": {
      "application/vnd.jupyter.widget-view+json": {
       "model_id": "b9c7138b24704ee8954d03b3940e6199",
       "version_major": 2,
       "version_minor": 0
      },
      "text/plain": [
       "Calculating likelihoods:   0%|          | 0/3 [00:00<?, ?it/s]"
      ]
     },
     "metadata": {},
     "output_type": "display_data"
    },
    {
     "data": {
      "application/vnd.jupyter.widget-view+json": {
       "model_id": "8d530ccc6d0741e7a979b14ed29d05d6",
       "version_major": 2,
       "version_minor": 0
      },
      "text/plain": [
       "Calculating likelihoods:   0%|          | 0/3 [00:00<?, ?it/s]"
      ]
     },
     "metadata": {},
     "output_type": "display_data"
    },
    {
     "data": {
      "application/vnd.jupyter.widget-view+json": {
       "model_id": "e8a97ce57efb4472945736fb94793337",
       "version_major": 2,
       "version_minor": 0
      },
      "text/plain": [
       "Calculating likelihoods:   0%|          | 0/3 [00:00<?, ?it/s]"
      ]
     },
     "metadata": {},
     "output_type": "display_data"
    },
    {
     "data": {
      "application/vnd.jupyter.widget-view+json": {
       "model_id": "ddc2b86280cc44e180186d932d49b28b",
       "version_major": 2,
       "version_minor": 0
      },
      "text/plain": [
       "Calculating likelihoods:   0%|          | 0/3 [00:00<?, ?it/s]"
      ]
     },
     "metadata": {},
     "output_type": "display_data"
    },
    {
     "data": {
      "application/vnd.jupyter.widget-view+json": {
       "model_id": "9507597eac734223b34fba9105fe2558",
       "version_major": 2,
       "version_minor": 0
      },
      "text/plain": [
       "Calculating likelihoods:   0%|          | 0/3 [00:00<?, ?it/s]"
      ]
     },
     "metadata": {},
     "output_type": "display_data"
    },
    {
     "data": {
      "application/vnd.jupyter.widget-view+json": {
       "model_id": "5c307fa950f243bdae3156a72f7d154a",
       "version_major": 2,
       "version_minor": 0
      },
      "text/plain": [
       "Calculating likelihoods:   0%|          | 0/3 [00:00<?, ?it/s]"
      ]
     },
     "metadata": {},
     "output_type": "display_data"
    },
    {
     "data": {
      "application/vnd.jupyter.widget-view+json": {
       "model_id": "d2b3d94194e042d28e10b9a83f6d5825",
       "version_major": 2,
       "version_minor": 0
      },
      "text/plain": [
       "Calculating likelihoods:   0%|          | 0/3 [00:00<?, ?it/s]"
      ]
     },
     "metadata": {},
     "output_type": "display_data"
    },
    {
     "data": {
      "application/vnd.jupyter.widget-view+json": {
       "model_id": "2060afeff3f246cf85f13b232572ba4f",
       "version_major": 2,
       "version_minor": 0
      },
      "text/plain": [
       "Calculating likelihoods:   0%|          | 0/3 [00:00<?, ?it/s]"
      ]
     },
     "metadata": {},
     "output_type": "display_data"
    },
    {
     "data": {
      "application/vnd.jupyter.widget-view+json": {
       "model_id": "d6d49aa52650466987de339945d8628f",
       "version_major": 2,
       "version_minor": 0
      },
      "text/plain": [
       "Calculating likelihoods:   0%|          | 0/3 [00:00<?, ?it/s]"
      ]
     },
     "metadata": {},
     "output_type": "display_data"
    },
    {
     "data": {
      "application/vnd.jupyter.widget-view+json": {
       "model_id": "7609d0aa07d14f8cbdbf847d76ce3529",
       "version_major": 2,
       "version_minor": 0
      },
      "text/plain": [
       "Calculating likelihoods:   0%|          | 0/3 [00:00<?, ?it/s]"
      ]
     },
     "metadata": {},
     "output_type": "display_data"
    },
    {
     "data": {
      "application/vnd.jupyter.widget-view+json": {
       "model_id": "ee687a90e791472b85ffded087e5ad5a",
       "version_major": 2,
       "version_minor": 0
      },
      "text/plain": [
       "Calculating likelihoods:   0%|          | 0/3 [00:00<?, ?it/s]"
      ]
     },
     "metadata": {},
     "output_type": "display_data"
    },
    {
     "data": {
      "application/vnd.jupyter.widget-view+json": {
       "model_id": "a86a026ef2714f4d82040f92f37e55f6",
       "version_major": 2,
       "version_minor": 0
      },
      "text/plain": [
       "Calculating likelihoods:   0%|          | 0/3 [00:00<?, ?it/s]"
      ]
     },
     "metadata": {},
     "output_type": "display_data"
    },
    {
     "data": {
      "application/vnd.jupyter.widget-view+json": {
       "model_id": "7220eabbb2fc4beaac75443925663b65",
       "version_major": 2,
       "version_minor": 0
      },
      "text/plain": [
       "Calculating likelihoods:   0%|          | 0/3 [00:00<?, ?it/s]"
      ]
     },
     "metadata": {},
     "output_type": "display_data"
    },
    {
     "data": {
      "application/vnd.jupyter.widget-view+json": {
       "model_id": "fab525c3d6ff4f5e8c06f387579636fe",
       "version_major": 2,
       "version_minor": 0
      },
      "text/plain": [
       "Calculating likelihoods:   0%|          | 0/3 [00:00<?, ?it/s]"
      ]
     },
     "metadata": {},
     "output_type": "display_data"
    },
    {
     "data": {
      "application/vnd.jupyter.widget-view+json": {
       "model_id": "46a90cff8cca478ab227f09023a8a109",
       "version_major": 2,
       "version_minor": 0
      },
      "text/plain": [
       "Calculating likelihoods:   0%|          | 0/3 [00:00<?, ?it/s]"
      ]
     },
     "metadata": {},
     "output_type": "display_data"
    },
    {
     "data": {
      "application/vnd.jupyter.widget-view+json": {
       "model_id": "de85d5fc1d2e4f3aaed896ee7f9a7ee7",
       "version_major": 2,
       "version_minor": 0
      },
      "text/plain": [
       "Calculating likelihoods:   0%|          | 0/3 [00:00<?, ?it/s]"
      ]
     },
     "metadata": {},
     "output_type": "display_data"
    },
    {
     "data": {
      "application/vnd.jupyter.widget-view+json": {
       "model_id": "ab59f86898184b73a9f94adb89bf7561",
       "version_major": 2,
       "version_minor": 0
      },
      "text/plain": [
       "Calculating likelihoods:   0%|          | 0/3 [00:00<?, ?it/s]"
      ]
     },
     "metadata": {},
     "output_type": "display_data"
    },
    {
     "data": {
      "application/vnd.jupyter.widget-view+json": {
       "model_id": "c1a35b2f20934fb3b86b112bf3589c92",
       "version_major": 2,
       "version_minor": 0
      },
      "text/plain": [
       "Calculating likelihoods:   0%|          | 0/3 [00:00<?, ?it/s]"
      ]
     },
     "metadata": {},
     "output_type": "display_data"
    },
    {
     "data": {
      "application/vnd.jupyter.widget-view+json": {
       "model_id": "ee44bec9af9344bd89a3b8a776e3aa92",
       "version_major": 2,
       "version_minor": 0
      },
      "text/plain": [
       "Calculating likelihoods:   0%|          | 0/3 [00:00<?, ?it/s]"
      ]
     },
     "metadata": {},
     "output_type": "display_data"
    },
    {
     "data": {
      "application/vnd.jupyter.widget-view+json": {
       "model_id": "5c8a2be8b3e047d286360778da671d8e",
       "version_major": 2,
       "version_minor": 0
      },
      "text/plain": [
       "Calculating likelihoods:   0%|          | 0/3 [00:00<?, ?it/s]"
      ]
     },
     "metadata": {},
     "output_type": "display_data"
    },
    {
     "data": {
      "application/vnd.jupyter.widget-view+json": {
       "model_id": "d5ceb3b2785649d0bb8b42d259247164",
       "version_major": 2,
       "version_minor": 0
      },
      "text/plain": [
       "Calculating likelihoods:   0%|          | 0/3 [00:00<?, ?it/s]"
      ]
     },
     "metadata": {},
     "output_type": "display_data"
    },
    {
     "data": {
      "application/vnd.jupyter.widget-view+json": {
       "model_id": "98c1894eccbf4554bf7241f40b0502e5",
       "version_major": 2,
       "version_minor": 0
      },
      "text/plain": [
       "Calculating likelihoods:   0%|          | 0/3 [00:00<?, ?it/s]"
      ]
     },
     "metadata": {},
     "output_type": "display_data"
    },
    {
     "data": {
      "application/vnd.jupyter.widget-view+json": {
       "model_id": "185e32c8032544d3abe4673e8d4d545d",
       "version_major": 2,
       "version_minor": 0
      },
      "text/plain": [
       "Calculating likelihoods:   0%|          | 0/3 [00:00<?, ?it/s]"
      ]
     },
     "metadata": {},
     "output_type": "display_data"
    },
    {
     "data": {
      "application/vnd.jupyter.widget-view+json": {
       "model_id": "e27adf267e7f4083963380ad587e13a9",
       "version_major": 2,
       "version_minor": 0
      },
      "text/plain": [
       "Calculating likelihoods:   0%|          | 0/3 [00:00<?, ?it/s]"
      ]
     },
     "metadata": {},
     "output_type": "display_data"
    },
    {
     "data": {
      "application/vnd.jupyter.widget-view+json": {
       "model_id": "c3a697c21b074151aa7a907cc9f7fcee",
       "version_major": 2,
       "version_minor": 0
      },
      "text/plain": [
       "Calculating likelihoods:   0%|          | 0/3 [00:00<?, ?it/s]"
      ]
     },
     "metadata": {},
     "output_type": "display_data"
    },
    {
     "data": {
      "application/vnd.jupyter.widget-view+json": {
       "model_id": "25a2cb9ffe8f49d08729ea2945a9592e",
       "version_major": 2,
       "version_minor": 0
      },
      "text/plain": [
       "Calculating likelihoods:   0%|          | 0/3 [00:00<?, ?it/s]"
      ]
     },
     "metadata": {},
     "output_type": "display_data"
    },
    {
     "data": {
      "application/vnd.jupyter.widget-view+json": {
       "model_id": "8035b09b3dbc4434a23242c18bbe343d",
       "version_major": 2,
       "version_minor": 0
      },
      "text/plain": [
       "Calculating likelihoods:   0%|          | 0/3 [00:00<?, ?it/s]"
      ]
     },
     "metadata": {},
     "output_type": "display_data"
    },
    {
     "data": {
      "application/vnd.jupyter.widget-view+json": {
       "model_id": "f53d256af1cc4defb8bb2b82eb2ca1fa",
       "version_major": 2,
       "version_minor": 0
      },
      "text/plain": [
       "Calculating likelihoods:   0%|          | 0/3 [00:00<?, ?it/s]"
      ]
     },
     "metadata": {},
     "output_type": "display_data"
    },
    {
     "data": {
      "application/vnd.jupyter.widget-view+json": {
       "model_id": "13a4a48ef82044e4afc145215f982c00",
       "version_major": 2,
       "version_minor": 0
      },
      "text/plain": [
       "Calculating likelihoods:   0%|          | 0/3 [00:00<?, ?it/s]"
      ]
     },
     "metadata": {},
     "output_type": "display_data"
    },
    {
     "data": {
      "application/vnd.jupyter.widget-view+json": {
       "model_id": "09f1d98d7a004446ad6ec61498b458bd",
       "version_major": 2,
       "version_minor": 0
      },
      "text/plain": [
       "Calculating likelihoods:   0%|          | 0/3 [00:00<?, ?it/s]"
      ]
     },
     "metadata": {},
     "output_type": "display_data"
    },
    {
     "data": {
      "application/vnd.jupyter.widget-view+json": {
       "model_id": "82847450738c440191a461ef228f9133",
       "version_major": 2,
       "version_minor": 0
      },
      "text/plain": [
       "Calculating likelihoods:   0%|          | 0/3 [00:00<?, ?it/s]"
      ]
     },
     "metadata": {},
     "output_type": "display_data"
    },
    {
     "data": {
      "application/vnd.jupyter.widget-view+json": {
       "model_id": "6d82897b472b4f9388d88f89a05ae03f",
       "version_major": 2,
       "version_minor": 0
      },
      "text/plain": [
       "Calculating likelihoods:   0%|          | 0/3 [00:00<?, ?it/s]"
      ]
     },
     "metadata": {},
     "output_type": "display_data"
    },
    {
     "data": {
      "application/vnd.jupyter.widget-view+json": {
       "model_id": "1b226f7798a54771b90066fff45ab8fc",
       "version_major": 2,
       "version_minor": 0
      },
      "text/plain": [
       "Calculating likelihoods:   0%|          | 0/3 [00:00<?, ?it/s]"
      ]
     },
     "metadata": {},
     "output_type": "display_data"
    },
    {
     "data": {
      "application/vnd.jupyter.widget-view+json": {
       "model_id": "6bca8dc941a0426dbf2dcbaaace1b0b7",
       "version_major": 2,
       "version_minor": 0
      },
      "text/plain": [
       "Calculating likelihoods:   0%|          | 0/3 [00:00<?, ?it/s]"
      ]
     },
     "metadata": {},
     "output_type": "display_data"
    },
    {
     "data": {
      "application/vnd.jupyter.widget-view+json": {
       "model_id": "f16a165ea5ca4837872aa0ed25ae1af2",
       "version_major": 2,
       "version_minor": 0
      },
      "text/plain": [
       "Calculating likelihoods:   0%|          | 0/3 [00:00<?, ?it/s]"
      ]
     },
     "metadata": {},
     "output_type": "display_data"
    },
    {
     "data": {
      "application/vnd.jupyter.widget-view+json": {
       "model_id": "9eeda6be609140ce8d900c679d864e8a",
       "version_major": 2,
       "version_minor": 0
      },
      "text/plain": [
       "Calculating likelihoods:   0%|          | 0/3 [00:00<?, ?it/s]"
      ]
     },
     "metadata": {},
     "output_type": "display_data"
    },
    {
     "data": {
      "application/vnd.jupyter.widget-view+json": {
       "model_id": "c9361cec0ae1436f8d274a8fcd96e82f",
       "version_major": 2,
       "version_minor": 0
      },
      "text/plain": [
       "Calculating likelihoods:   0%|          | 0/3 [00:00<?, ?it/s]"
      ]
     },
     "metadata": {},
     "output_type": "display_data"
    },
    {
     "data": {
      "application/vnd.jupyter.widget-view+json": {
       "model_id": "587168f9400542039571a0c78082ee9e",
       "version_major": 2,
       "version_minor": 0
      },
      "text/plain": [
       "Calculating likelihoods:   0%|          | 0/3 [00:00<?, ?it/s]"
      ]
     },
     "metadata": {},
     "output_type": "display_data"
    },
    {
     "data": {
      "application/vnd.jupyter.widget-view+json": {
       "model_id": "823602452b3a4d52afa4999158550bd3",
       "version_major": 2,
       "version_minor": 0
      },
      "text/plain": [
       "Calculating likelihoods:   0%|          | 0/3 [00:00<?, ?it/s]"
      ]
     },
     "metadata": {},
     "output_type": "display_data"
    },
    {
     "data": {
      "application/vnd.jupyter.widget-view+json": {
       "model_id": "7a9bd27f8f1e49d685d81571f19649ab",
       "version_major": 2,
       "version_minor": 0
      },
      "text/plain": [
       "Calculating likelihoods:   0%|          | 0/3 [00:00<?, ?it/s]"
      ]
     },
     "metadata": {},
     "output_type": "display_data"
    },
    {
     "data": {
      "application/vnd.jupyter.widget-view+json": {
       "model_id": "b5cc9d61f91c493ebefc693761de3c63",
       "version_major": 2,
       "version_minor": 0
      },
      "text/plain": [
       "Calculating likelihoods:   0%|          | 0/3 [00:00<?, ?it/s]"
      ]
     },
     "metadata": {},
     "output_type": "display_data"
    },
    {
     "data": {
      "application/vnd.jupyter.widget-view+json": {
       "model_id": "c1d3f199e95444cead443796be8adaa9",
       "version_major": 2,
       "version_minor": 0
      },
      "text/plain": [
       "Calculating likelihoods:   0%|          | 0/3 [00:00<?, ?it/s]"
      ]
     },
     "metadata": {},
     "output_type": "display_data"
    },
    {
     "data": {
      "application/vnd.jupyter.widget-view+json": {
       "model_id": "86d2bfff14fc42dba7b1ea71953301f7",
       "version_major": 2,
       "version_minor": 0
      },
      "text/plain": [
       "Calculating likelihoods:   0%|          | 0/3 [00:00<?, ?it/s]"
      ]
     },
     "metadata": {},
     "output_type": "display_data"
    },
    {
     "data": {
      "application/vnd.jupyter.widget-view+json": {
       "model_id": "6fe12b09322c4cd88a004fa4c68b2738",
       "version_major": 2,
       "version_minor": 0
      },
      "text/plain": [
       "Calculating likelihoods:   0%|          | 0/3 [00:00<?, ?it/s]"
      ]
     },
     "metadata": {},
     "output_type": "display_data"
    },
    {
     "data": {
      "application/vnd.jupyter.widget-view+json": {
       "model_id": "11b02be668674d2899590d907babc05b",
       "version_major": 2,
       "version_minor": 0
      },
      "text/plain": [
       "Calculating likelihoods:   0%|          | 0/3 [00:00<?, ?it/s]"
      ]
     },
     "metadata": {},
     "output_type": "display_data"
    },
    {
     "data": {
      "application/vnd.jupyter.widget-view+json": {
       "model_id": "00e9494e596e4515b4d45e4aa17108e2",
       "version_major": 2,
       "version_minor": 0
      },
      "text/plain": [
       "Calculating likelihoods:   0%|          | 0/3 [00:00<?, ?it/s]"
      ]
     },
     "metadata": {},
     "output_type": "display_data"
    },
    {
     "data": {
      "application/vnd.jupyter.widget-view+json": {
       "model_id": "0472f486e79e4cbdbef5c460be57dadb",
       "version_major": 2,
       "version_minor": 0
      },
      "text/plain": [
       "Calculating likelihoods:   0%|          | 0/3 [00:00<?, ?it/s]"
      ]
     },
     "metadata": {},
     "output_type": "display_data"
    },
    {
     "data": {
      "application/vnd.jupyter.widget-view+json": {
       "model_id": "fc25ad97f6b445fba0dfc7cf78c0b3f8",
       "version_major": 2,
       "version_minor": 0
      },
      "text/plain": [
       "Calculating likelihoods:   0%|          | 0/3 [00:00<?, ?it/s]"
      ]
     },
     "metadata": {},
     "output_type": "display_data"
    },
    {
     "data": {
      "application/vnd.jupyter.widget-view+json": {
       "model_id": "c204bf2aeb5b410daa6cedd0a754484a",
       "version_major": 2,
       "version_minor": 0
      },
      "text/plain": [
       "Calculating likelihoods:   0%|          | 0/3 [00:00<?, ?it/s]"
      ]
     },
     "metadata": {},
     "output_type": "display_data"
    },
    {
     "data": {
      "application/vnd.jupyter.widget-view+json": {
       "model_id": "c713e1b8958443cdb29d078c1355f19b",
       "version_major": 2,
       "version_minor": 0
      },
      "text/plain": [
       "Calculating likelihoods:   0%|          | 0/3 [00:00<?, ?it/s]"
      ]
     },
     "metadata": {},
     "output_type": "display_data"
    },
    {
     "data": {
      "application/vnd.jupyter.widget-view+json": {
       "model_id": "cb6fd59cc7a3489785d984d3b1f51292",
       "version_major": 2,
       "version_minor": 0
      },
      "text/plain": [
       "Calculating likelihoods:   0%|          | 0/3 [00:00<?, ?it/s]"
      ]
     },
     "metadata": {},
     "output_type": "display_data"
    },
    {
     "data": {
      "application/vnd.jupyter.widget-view+json": {
       "model_id": "78272bdf4abb4c099c3d725290ea4e2a",
       "version_major": 2,
       "version_minor": 0
      },
      "text/plain": [
       "Calculating likelihoods:   0%|          | 0/3 [00:00<?, ?it/s]"
      ]
     },
     "metadata": {},
     "output_type": "display_data"
    },
    {
     "data": {
      "application/vnd.jupyter.widget-view+json": {
       "model_id": "b3dcabcd6aef4d74bcac8d16a2510516",
       "version_major": 2,
       "version_minor": 0
      },
      "text/plain": [
       "Calculating likelihoods:   0%|          | 0/3 [00:00<?, ?it/s]"
      ]
     },
     "metadata": {},
     "output_type": "display_data"
    },
    {
     "data": {
      "application/vnd.jupyter.widget-view+json": {
       "model_id": "3407bdf50127471bbff1e3da45f78e7f",
       "version_major": 2,
       "version_minor": 0
      },
      "text/plain": [
       "Calculating likelihoods:   0%|          | 0/3 [00:00<?, ?it/s]"
      ]
     },
     "metadata": {},
     "output_type": "display_data"
    },
    {
     "data": {
      "application/vnd.jupyter.widget-view+json": {
       "model_id": "97d2de4b268c4d688e47b930d3cb22b5",
       "version_major": 2,
       "version_minor": 0
      },
      "text/plain": [
       "Calculating likelihoods:   0%|          | 0/3 [00:00<?, ?it/s]"
      ]
     },
     "metadata": {},
     "output_type": "display_data"
    },
    {
     "data": {
      "application/vnd.jupyter.widget-view+json": {
       "model_id": "9770c33d06844d3283ca99545495c66d",
       "version_major": 2,
       "version_minor": 0
      },
      "text/plain": [
       "Calculating likelihoods:   0%|          | 0/3 [00:00<?, ?it/s]"
      ]
     },
     "metadata": {},
     "output_type": "display_data"
    },
    {
     "data": {
      "application/vnd.jupyter.widget-view+json": {
       "model_id": "00e4058b42e349f0a7d85b05d92454dd",
       "version_major": 2,
       "version_minor": 0
      },
      "text/plain": [
       "Calculating likelihoods:   0%|          | 0/3 [00:00<?, ?it/s]"
      ]
     },
     "metadata": {},
     "output_type": "display_data"
    },
    {
     "data": {
      "application/vnd.jupyter.widget-view+json": {
       "model_id": "0a77fe410e3842aaa51d08697d254890",
       "version_major": 2,
       "version_minor": 0
      },
      "text/plain": [
       "Calculating likelihoods:   0%|          | 0/3 [00:00<?, ?it/s]"
      ]
     },
     "metadata": {},
     "output_type": "display_data"
    },
    {
     "data": {
      "application/vnd.jupyter.widget-view+json": {
       "model_id": "80e0195557b9455b9f0d6b0b4094de0b",
       "version_major": 2,
       "version_minor": 0
      },
      "text/plain": [
       "Calculating likelihoods:   0%|          | 0/3 [00:00<?, ?it/s]"
      ]
     },
     "metadata": {},
     "output_type": "display_data"
    },
    {
     "data": {
      "application/vnd.jupyter.widget-view+json": {
       "model_id": "a0cc7e91de1f499e8c4c178978f64ded",
       "version_major": 2,
       "version_minor": 0
      },
      "text/plain": [
       "Calculating likelihoods:   0%|          | 0/3 [00:00<?, ?it/s]"
      ]
     },
     "metadata": {},
     "output_type": "display_data"
    },
    {
     "data": {
      "application/vnd.jupyter.widget-view+json": {
       "model_id": "810e2d09d8f441f29fe9ccc28b9b1958",
       "version_major": 2,
       "version_minor": 0
      },
      "text/plain": [
       "Calculating likelihoods:   0%|          | 0/3 [00:00<?, ?it/s]"
      ]
     },
     "metadata": {},
     "output_type": "display_data"
    },
    {
     "data": {
      "application/vnd.jupyter.widget-view+json": {
       "model_id": "6f1f8f2bb0f145fa85092892acb81a67",
       "version_major": 2,
       "version_minor": 0
      },
      "text/plain": [
       "Calculating likelihoods:   0%|          | 0/3 [00:00<?, ?it/s]"
      ]
     },
     "metadata": {},
     "output_type": "display_data"
    },
    {
     "data": {
      "application/vnd.jupyter.widget-view+json": {
       "model_id": "de7bec5df73c49789d8cbfc0283a09ce",
       "version_major": 2,
       "version_minor": 0
      },
      "text/plain": [
       "Calculating likelihoods:   0%|          | 0/3 [00:00<?, ?it/s]"
      ]
     },
     "metadata": {},
     "output_type": "display_data"
    },
    {
     "name": "stdout",
     "output_type": "stream",
     "text": [
      "Optimal parameters for 8 players and threshold 0.375:\n",
      "{'c': 0.58297163759318, 'inverse_temperature': 4.03052045924581, 'len_history': 2.1710175173686075}\n",
      "Deviance: -958.686982745578\n",
      "AIC: 1923.373965491156\n",
      "--------------------------------------------------\n",
      "Finding deviance for 8 players and threshold 0.875...\n"
     ]
    },
    {
     "data": {
      "application/vnd.jupyter.widget-view+json": {
       "model_id": "470dfc6d5c9c4ae3967e120e6e9000ad",
       "version_major": 2,
       "version_minor": 0
      },
      "text/plain": [
       "Calculating likelihoods:   0%|          | 0/3 [00:00<?, ?it/s]"
      ]
     },
     "metadata": {},
     "output_type": "display_data"
    },
    {
     "data": {
      "application/vnd.jupyter.widget-view+json": {
       "model_id": "ec9201a2d0204ef0b32dc57d343499bb",
       "version_major": 2,
       "version_minor": 0
      },
      "text/plain": [
       "Calculating likelihoods:   0%|          | 0/3 [00:00<?, ?it/s]"
      ]
     },
     "metadata": {},
     "output_type": "display_data"
    },
    {
     "data": {
      "application/vnd.jupyter.widget-view+json": {
       "model_id": "2f019be9bec9492eb992a0cc24ea8d48",
       "version_major": 2,
       "version_minor": 0
      },
      "text/plain": [
       "Calculating likelihoods:   0%|          | 0/3 [00:00<?, ?it/s]"
      ]
     },
     "metadata": {},
     "output_type": "display_data"
    },
    {
     "data": {
      "application/vnd.jupyter.widget-view+json": {
       "model_id": "ab08c738ce7e4f7eb061582370beec1d",
       "version_major": 2,
       "version_minor": 0
      },
      "text/plain": [
       "Calculating likelihoods:   0%|          | 0/3 [00:00<?, ?it/s]"
      ]
     },
     "metadata": {},
     "output_type": "display_data"
    },
    {
     "data": {
      "application/vnd.jupyter.widget-view+json": {
       "model_id": "5cac338e1c714ab0888eb0c77b381637",
       "version_major": 2,
       "version_minor": 0
      },
      "text/plain": [
       "Calculating likelihoods:   0%|          | 0/3 [00:00<?, ?it/s]"
      ]
     },
     "metadata": {},
     "output_type": "display_data"
    },
    {
     "data": {
      "application/vnd.jupyter.widget-view+json": {
       "model_id": "26a644e3c5ce47b5a12cc7b1f4642b1a",
       "version_major": 2,
       "version_minor": 0
      },
      "text/plain": [
       "Calculating likelihoods:   0%|          | 0/3 [00:00<?, ?it/s]"
      ]
     },
     "metadata": {},
     "output_type": "display_data"
    },
    {
     "data": {
      "application/vnd.jupyter.widget-view+json": {
       "model_id": "39573c2da8a6436c817c6b18758f715e",
       "version_major": 2,
       "version_minor": 0
      },
      "text/plain": [
       "Calculating likelihoods:   0%|          | 0/3 [00:00<?, ?it/s]"
      ]
     },
     "metadata": {},
     "output_type": "display_data"
    },
    {
     "data": {
      "application/vnd.jupyter.widget-view+json": {
       "model_id": "2f3777829e5144e7aa0e8591862de372",
       "version_major": 2,
       "version_minor": 0
      },
      "text/plain": [
       "Calculating likelihoods:   0%|          | 0/3 [00:00<?, ?it/s]"
      ]
     },
     "metadata": {},
     "output_type": "display_data"
    },
    {
     "data": {
      "application/vnd.jupyter.widget-view+json": {
       "model_id": "c0088bc25d2545daa9edbb1a96fbad39",
       "version_major": 2,
       "version_minor": 0
      },
      "text/plain": [
       "Calculating likelihoods:   0%|          | 0/3 [00:00<?, ?it/s]"
      ]
     },
     "metadata": {},
     "output_type": "display_data"
    },
    {
     "data": {
      "application/vnd.jupyter.widget-view+json": {
       "model_id": "e86556f9807746e3a735874d01ce289d",
       "version_major": 2,
       "version_minor": 0
      },
      "text/plain": [
       "Calculating likelihoods:   0%|          | 0/3 [00:00<?, ?it/s]"
      ]
     },
     "metadata": {},
     "output_type": "display_data"
    },
    {
     "data": {
      "application/vnd.jupyter.widget-view+json": {
       "model_id": "9460a21fcff84e7697f1b2d334a53617",
       "version_major": 2,
       "version_minor": 0
      },
      "text/plain": [
       "Calculating likelihoods:   0%|          | 0/3 [00:00<?, ?it/s]"
      ]
     },
     "metadata": {},
     "output_type": "display_data"
    },
    {
     "data": {
      "application/vnd.jupyter.widget-view+json": {
       "model_id": "cc0609318a0f4cb9b2b8a1134f2c7fc2",
       "version_major": 2,
       "version_minor": 0
      },
      "text/plain": [
       "Calculating likelihoods:   0%|          | 0/3 [00:00<?, ?it/s]"
      ]
     },
     "metadata": {},
     "output_type": "display_data"
    },
    {
     "data": {
      "application/vnd.jupyter.widget-view+json": {
       "model_id": "b63bf37515344313a42fbcd68f2e7c1b",
       "version_major": 2,
       "version_minor": 0
      },
      "text/plain": [
       "Calculating likelihoods:   0%|          | 0/3 [00:00<?, ?it/s]"
      ]
     },
     "metadata": {},
     "output_type": "display_data"
    },
    {
     "data": {
      "application/vnd.jupyter.widget-view+json": {
       "model_id": "dc12eab987bb49ffa7ae130860bc9f86",
       "version_major": 2,
       "version_minor": 0
      },
      "text/plain": [
       "Calculating likelihoods:   0%|          | 0/3 [00:00<?, ?it/s]"
      ]
     },
     "metadata": {},
     "output_type": "display_data"
    },
    {
     "data": {
      "application/vnd.jupyter.widget-view+json": {
       "model_id": "a67b9cb532ea4ed0ace8dd81d0e3335b",
       "version_major": 2,
       "version_minor": 0
      },
      "text/plain": [
       "Calculating likelihoods:   0%|          | 0/3 [00:00<?, ?it/s]"
      ]
     },
     "metadata": {},
     "output_type": "display_data"
    },
    {
     "data": {
      "application/vnd.jupyter.widget-view+json": {
       "model_id": "5d49228500944ad3bd9a07d5aebfce29",
       "version_major": 2,
       "version_minor": 0
      },
      "text/plain": [
       "Calculating likelihoods:   0%|          | 0/3 [00:00<?, ?it/s]"
      ]
     },
     "metadata": {},
     "output_type": "display_data"
    },
    {
     "data": {
      "application/vnd.jupyter.widget-view+json": {
       "model_id": "b726565eb61c49b98f90fe58ed3a8209",
       "version_major": 2,
       "version_minor": 0
      },
      "text/plain": [
       "Calculating likelihoods:   0%|          | 0/3 [00:00<?, ?it/s]"
      ]
     },
     "metadata": {},
     "output_type": "display_data"
    },
    {
     "data": {
      "application/vnd.jupyter.widget-view+json": {
       "model_id": "6efc33521efb4bda9d91b219178250fd",
       "version_major": 2,
       "version_minor": 0
      },
      "text/plain": [
       "Calculating likelihoods:   0%|          | 0/3 [00:00<?, ?it/s]"
      ]
     },
     "metadata": {},
     "output_type": "display_data"
    },
    {
     "data": {
      "application/vnd.jupyter.widget-view+json": {
       "model_id": "a00be9d5224f40568d1db2c77d04dd69",
       "version_major": 2,
       "version_minor": 0
      },
      "text/plain": [
       "Calculating likelihoods:   0%|          | 0/3 [00:00<?, ?it/s]"
      ]
     },
     "metadata": {},
     "output_type": "display_data"
    },
    {
     "data": {
      "application/vnd.jupyter.widget-view+json": {
       "model_id": "b4ba2d6eaa924614bf3b2d3a5f64f49f",
       "version_major": 2,
       "version_minor": 0
      },
      "text/plain": [
       "Calculating likelihoods:   0%|          | 0/3 [00:00<?, ?it/s]"
      ]
     },
     "metadata": {},
     "output_type": "display_data"
    },
    {
     "data": {
      "application/vnd.jupyter.widget-view+json": {
       "model_id": "f9ab12c666284493bc72e511f037ade4",
       "version_major": 2,
       "version_minor": 0
      },
      "text/plain": [
       "Calculating likelihoods:   0%|          | 0/3 [00:00<?, ?it/s]"
      ]
     },
     "metadata": {},
     "output_type": "display_data"
    },
    {
     "data": {
      "application/vnd.jupyter.widget-view+json": {
       "model_id": "e45cd3dcb85c47da8398be715b4d0fa1",
       "version_major": 2,
       "version_minor": 0
      },
      "text/plain": [
       "Calculating likelihoods:   0%|          | 0/3 [00:00<?, ?it/s]"
      ]
     },
     "metadata": {},
     "output_type": "display_data"
    },
    {
     "data": {
      "application/vnd.jupyter.widget-view+json": {
       "model_id": "59c5f643f98e4988926fc48c8118613c",
       "version_major": 2,
       "version_minor": 0
      },
      "text/plain": [
       "Calculating likelihoods:   0%|          | 0/3 [00:00<?, ?it/s]"
      ]
     },
     "metadata": {},
     "output_type": "display_data"
    },
    {
     "data": {
      "application/vnd.jupyter.widget-view+json": {
       "model_id": "7ac27f4a62ff426b81f536112ccbecd2",
       "version_major": 2,
       "version_minor": 0
      },
      "text/plain": [
       "Calculating likelihoods:   0%|          | 0/3 [00:00<?, ?it/s]"
      ]
     },
     "metadata": {},
     "output_type": "display_data"
    },
    {
     "data": {
      "application/vnd.jupyter.widget-view+json": {
       "model_id": "1dfecd6da9214233ba1e61b8acae7261",
       "version_major": 2,
       "version_minor": 0
      },
      "text/plain": [
       "Calculating likelihoods:   0%|          | 0/3 [00:00<?, ?it/s]"
      ]
     },
     "metadata": {},
     "output_type": "display_data"
    },
    {
     "data": {
      "application/vnd.jupyter.widget-view+json": {
       "model_id": "f48314001fda47ac90710ee7591e1c92",
       "version_major": 2,
       "version_minor": 0
      },
      "text/plain": [
       "Calculating likelihoods:   0%|          | 0/3 [00:00<?, ?it/s]"
      ]
     },
     "metadata": {},
     "output_type": "display_data"
    },
    {
     "data": {
      "application/vnd.jupyter.widget-view+json": {
       "model_id": "a3bc32e224d349d4ac26ee78d5b2eb33",
       "version_major": 2,
       "version_minor": 0
      },
      "text/plain": [
       "Calculating likelihoods:   0%|          | 0/3 [00:00<?, ?it/s]"
      ]
     },
     "metadata": {},
     "output_type": "display_data"
    },
    {
     "data": {
      "application/vnd.jupyter.widget-view+json": {
       "model_id": "abf77ba966614f7d87c10f69e2a9ab84",
       "version_major": 2,
       "version_minor": 0
      },
      "text/plain": [
       "Calculating likelihoods:   0%|          | 0/3 [00:00<?, ?it/s]"
      ]
     },
     "metadata": {},
     "output_type": "display_data"
    },
    {
     "data": {
      "application/vnd.jupyter.widget-view+json": {
       "model_id": "cf641ade4611474e93bd77ceec3b1dd5",
       "version_major": 2,
       "version_minor": 0
      },
      "text/plain": [
       "Calculating likelihoods:   0%|          | 0/3 [00:00<?, ?it/s]"
      ]
     },
     "metadata": {},
     "output_type": "display_data"
    },
    {
     "data": {
      "application/vnd.jupyter.widget-view+json": {
       "model_id": "74368cc7d5af4a11a2b802ad8a8f1e80",
       "version_major": 2,
       "version_minor": 0
      },
      "text/plain": [
       "Calculating likelihoods:   0%|          | 0/3 [00:00<?, ?it/s]"
      ]
     },
     "metadata": {},
     "output_type": "display_data"
    },
    {
     "data": {
      "application/vnd.jupyter.widget-view+json": {
       "model_id": "02a7a90724284eea9634067e949eab49",
       "version_major": 2,
       "version_minor": 0
      },
      "text/plain": [
       "Calculating likelihoods:   0%|          | 0/3 [00:00<?, ?it/s]"
      ]
     },
     "metadata": {},
     "output_type": "display_data"
    },
    {
     "data": {
      "application/vnd.jupyter.widget-view+json": {
       "model_id": "ddfb8bf05da5447aa54cc2a162daae51",
       "version_major": 2,
       "version_minor": 0
      },
      "text/plain": [
       "Calculating likelihoods:   0%|          | 0/3 [00:00<?, ?it/s]"
      ]
     },
     "metadata": {},
     "output_type": "display_data"
    },
    {
     "data": {
      "application/vnd.jupyter.widget-view+json": {
       "model_id": "c2c22df85f224e168964003f4fd39d12",
       "version_major": 2,
       "version_minor": 0
      },
      "text/plain": [
       "Calculating likelihoods:   0%|          | 0/3 [00:00<?, ?it/s]"
      ]
     },
     "metadata": {},
     "output_type": "display_data"
    },
    {
     "data": {
      "application/vnd.jupyter.widget-view+json": {
       "model_id": "43859e4c398d4e8d8867ca73076036ba",
       "version_major": 2,
       "version_minor": 0
      },
      "text/plain": [
       "Calculating likelihoods:   0%|          | 0/3 [00:00<?, ?it/s]"
      ]
     },
     "metadata": {},
     "output_type": "display_data"
    },
    {
     "data": {
      "application/vnd.jupyter.widget-view+json": {
       "model_id": "bc0c61aea6ca4d269f989be1c47d1f70",
       "version_major": 2,
       "version_minor": 0
      },
      "text/plain": [
       "Calculating likelihoods:   0%|          | 0/3 [00:00<?, ?it/s]"
      ]
     },
     "metadata": {},
     "output_type": "display_data"
    },
    {
     "data": {
      "application/vnd.jupyter.widget-view+json": {
       "model_id": "17442a4116624fab9ef41620245ba9d1",
       "version_major": 2,
       "version_minor": 0
      },
      "text/plain": [
       "Calculating likelihoods:   0%|          | 0/3 [00:00<?, ?it/s]"
      ]
     },
     "metadata": {},
     "output_type": "display_data"
    },
    {
     "data": {
      "application/vnd.jupyter.widget-view+json": {
       "model_id": "4a534e0f599d424098a405321f4eab21",
       "version_major": 2,
       "version_minor": 0
      },
      "text/plain": [
       "Calculating likelihoods:   0%|          | 0/3 [00:00<?, ?it/s]"
      ]
     },
     "metadata": {},
     "output_type": "display_data"
    },
    {
     "data": {
      "application/vnd.jupyter.widget-view+json": {
       "model_id": "f79dde8328734ef99eab27b171a9b640",
       "version_major": 2,
       "version_minor": 0
      },
      "text/plain": [
       "Calculating likelihoods:   0%|          | 0/3 [00:00<?, ?it/s]"
      ]
     },
     "metadata": {},
     "output_type": "display_data"
    },
    {
     "data": {
      "application/vnd.jupyter.widget-view+json": {
       "model_id": "7b99ba75320d4fb493ad69e267b59925",
       "version_major": 2,
       "version_minor": 0
      },
      "text/plain": [
       "Calculating likelihoods:   0%|          | 0/3 [00:00<?, ?it/s]"
      ]
     },
     "metadata": {},
     "output_type": "display_data"
    },
    {
     "data": {
      "application/vnd.jupyter.widget-view+json": {
       "model_id": "777d2767d3dc417da567d8f7c0441625",
       "version_major": 2,
       "version_minor": 0
      },
      "text/plain": [
       "Calculating likelihoods:   0%|          | 0/3 [00:00<?, ?it/s]"
      ]
     },
     "metadata": {},
     "output_type": "display_data"
    },
    {
     "data": {
      "application/vnd.jupyter.widget-view+json": {
       "model_id": "68369734ce0f45e49dcef39a6f7fb9da",
       "version_major": 2,
       "version_minor": 0
      },
      "text/plain": [
       "Calculating likelihoods:   0%|          | 0/3 [00:00<?, ?it/s]"
      ]
     },
     "metadata": {},
     "output_type": "display_data"
    },
    {
     "data": {
      "application/vnd.jupyter.widget-view+json": {
       "model_id": "7ef24b7a61214e9bb93ff488ace5bdb8",
       "version_major": 2,
       "version_minor": 0
      },
      "text/plain": [
       "Calculating likelihoods:   0%|          | 0/3 [00:00<?, ?it/s]"
      ]
     },
     "metadata": {},
     "output_type": "display_data"
    },
    {
     "data": {
      "application/vnd.jupyter.widget-view+json": {
       "model_id": "73afb34a5c4b40f080acbbe4fad9fed2",
       "version_major": 2,
       "version_minor": 0
      },
      "text/plain": [
       "Calculating likelihoods:   0%|          | 0/3 [00:00<?, ?it/s]"
      ]
     },
     "metadata": {},
     "output_type": "display_data"
    },
    {
     "data": {
      "application/vnd.jupyter.widget-view+json": {
       "model_id": "0602e7bb813f4848a66efc02976c2df6",
       "version_major": 2,
       "version_minor": 0
      },
      "text/plain": [
       "Calculating likelihoods:   0%|          | 0/3 [00:00<?, ?it/s]"
      ]
     },
     "metadata": {},
     "output_type": "display_data"
    },
    {
     "data": {
      "application/vnd.jupyter.widget-view+json": {
       "model_id": "b2a33c9b0d5748ba8eb39c58bf8f02ca",
       "version_major": 2,
       "version_minor": 0
      },
      "text/plain": [
       "Calculating likelihoods:   0%|          | 0/3 [00:00<?, ?it/s]"
      ]
     },
     "metadata": {},
     "output_type": "display_data"
    },
    {
     "data": {
      "application/vnd.jupyter.widget-view+json": {
       "model_id": "82e62431aee64dde8151e5298da40397",
       "version_major": 2,
       "version_minor": 0
      },
      "text/plain": [
       "Calculating likelihoods:   0%|          | 0/3 [00:00<?, ?it/s]"
      ]
     },
     "metadata": {},
     "output_type": "display_data"
    },
    {
     "data": {
      "application/vnd.jupyter.widget-view+json": {
       "model_id": "749e09d6b65d4971b262b178dcafd4cd",
       "version_major": 2,
       "version_minor": 0
      },
      "text/plain": [
       "Calculating likelihoods:   0%|          | 0/3 [00:00<?, ?it/s]"
      ]
     },
     "metadata": {},
     "output_type": "display_data"
    },
    {
     "data": {
      "application/vnd.jupyter.widget-view+json": {
       "model_id": "4a83052215374d4ab6e1ea83375b7622",
       "version_major": 2,
       "version_minor": 0
      },
      "text/plain": [
       "Calculating likelihoods:   0%|          | 0/3 [00:00<?, ?it/s]"
      ]
     },
     "metadata": {},
     "output_type": "display_data"
    },
    {
     "data": {
      "application/vnd.jupyter.widget-view+json": {
       "model_id": "5c53af45bd594705aa7f492361e8894f",
       "version_major": 2,
       "version_minor": 0
      },
      "text/plain": [
       "Calculating likelihoods:   0%|          | 0/3 [00:00<?, ?it/s]"
      ]
     },
     "metadata": {},
     "output_type": "display_data"
    },
    {
     "data": {
      "application/vnd.jupyter.widget-view+json": {
       "model_id": "48fc71e4529d401e936c7447cf8b5e43",
       "version_major": 2,
       "version_minor": 0
      },
      "text/plain": [
       "Calculating likelihoods:   0%|          | 0/3 [00:00<?, ?it/s]"
      ]
     },
     "metadata": {},
     "output_type": "display_data"
    },
    {
     "data": {
      "application/vnd.jupyter.widget-view+json": {
       "model_id": "d9624e51560a4e48a1768f8e211a77d3",
       "version_major": 2,
       "version_minor": 0
      },
      "text/plain": [
       "Calculating likelihoods:   0%|          | 0/3 [00:00<?, ?it/s]"
      ]
     },
     "metadata": {},
     "output_type": "display_data"
    },
    {
     "data": {
      "application/vnd.jupyter.widget-view+json": {
       "model_id": "fdb4a13c46334c9dae6a6b482a9f3896",
       "version_major": 2,
       "version_minor": 0
      },
      "text/plain": [
       "Calculating likelihoods:   0%|          | 0/3 [00:00<?, ?it/s]"
      ]
     },
     "metadata": {},
     "output_type": "display_data"
    },
    {
     "data": {
      "application/vnd.jupyter.widget-view+json": {
       "model_id": "962c2d16a5da4e54b4ae8a96ef56e06c",
       "version_major": 2,
       "version_minor": 0
      },
      "text/plain": [
       "Calculating likelihoods:   0%|          | 0/3 [00:00<?, ?it/s]"
      ]
     },
     "metadata": {},
     "output_type": "display_data"
    },
    {
     "data": {
      "application/vnd.jupyter.widget-view+json": {
       "model_id": "fee5fc603406467d9c8e83e7281a5b88",
       "version_major": 2,
       "version_minor": 0
      },
      "text/plain": [
       "Calculating likelihoods:   0%|          | 0/3 [00:00<?, ?it/s]"
      ]
     },
     "metadata": {},
     "output_type": "display_data"
    },
    {
     "data": {
      "application/vnd.jupyter.widget-view+json": {
       "model_id": "ee8e748dc34c40cdb8450f20c59b78f2",
       "version_major": 2,
       "version_minor": 0
      },
      "text/plain": [
       "Calculating likelihoods:   0%|          | 0/3 [00:00<?, ?it/s]"
      ]
     },
     "metadata": {},
     "output_type": "display_data"
    },
    {
     "data": {
      "application/vnd.jupyter.widget-view+json": {
       "model_id": "9ee52b5d94d14be4b49fe0cd4da0808b",
       "version_major": 2,
       "version_minor": 0
      },
      "text/plain": [
       "Calculating likelihoods:   0%|          | 0/3 [00:00<?, ?it/s]"
      ]
     },
     "metadata": {},
     "output_type": "display_data"
    },
    {
     "data": {
      "application/vnd.jupyter.widget-view+json": {
       "model_id": "9b058fe4994a4e04ba19bd2824204e8f",
       "version_major": 2,
       "version_minor": 0
      },
      "text/plain": [
       "Calculating likelihoods:   0%|          | 0/3 [00:00<?, ?it/s]"
      ]
     },
     "metadata": {},
     "output_type": "display_data"
    },
    {
     "data": {
      "application/vnd.jupyter.widget-view+json": {
       "model_id": "aa78483710ca4a0e98a304dff44b4b5c",
       "version_major": 2,
       "version_minor": 0
      },
      "text/plain": [
       "Calculating likelihoods:   0%|          | 0/3 [00:00<?, ?it/s]"
      ]
     },
     "metadata": {},
     "output_type": "display_data"
    },
    {
     "data": {
      "application/vnd.jupyter.widget-view+json": {
       "model_id": "d274e3d571814ea0bb7c5c19b897b58a",
       "version_major": 2,
       "version_minor": 0
      },
      "text/plain": [
       "Calculating likelihoods:   0%|          | 0/3 [00:00<?, ?it/s]"
      ]
     },
     "metadata": {},
     "output_type": "display_data"
    },
    {
     "data": {
      "application/vnd.jupyter.widget-view+json": {
       "model_id": "b90d5f4020db4a49a28e260d34ef538a",
       "version_major": 2,
       "version_minor": 0
      },
      "text/plain": [
       "Calculating likelihoods:   0%|          | 0/3 [00:00<?, ?it/s]"
      ]
     },
     "metadata": {},
     "output_type": "display_data"
    },
    {
     "data": {
      "application/vnd.jupyter.widget-view+json": {
       "model_id": "74ad726de7424e48913a23cf730d38d7",
       "version_major": 2,
       "version_minor": 0
      },
      "text/plain": [
       "Calculating likelihoods:   0%|          | 0/3 [00:00<?, ?it/s]"
      ]
     },
     "metadata": {},
     "output_type": "display_data"
    },
    {
     "data": {
      "application/vnd.jupyter.widget-view+json": {
       "model_id": "ded5ca3346594a25a7f236f8994308a0",
       "version_major": 2,
       "version_minor": 0
      },
      "text/plain": [
       "Calculating likelihoods:   0%|          | 0/3 [00:00<?, ?it/s]"
      ]
     },
     "metadata": {},
     "output_type": "display_data"
    },
    {
     "data": {
      "application/vnd.jupyter.widget-view+json": {
       "model_id": "ebf1eb545edc4a06a0fb90b27a1613fc",
       "version_major": 2,
       "version_minor": 0
      },
      "text/plain": [
       "Calculating likelihoods:   0%|          | 0/3 [00:00<?, ?it/s]"
      ]
     },
     "metadata": {},
     "output_type": "display_data"
    },
    {
     "data": {
      "application/vnd.jupyter.widget-view+json": {
       "model_id": "7f771b05d0ec470886b7b1a011b0b8bf",
       "version_major": 2,
       "version_minor": 0
      },
      "text/plain": [
       "Calculating likelihoods:   0%|          | 0/3 [00:00<?, ?it/s]"
      ]
     },
     "metadata": {},
     "output_type": "display_data"
    },
    {
     "data": {
      "application/vnd.jupyter.widget-view+json": {
       "model_id": "41b71613dca7452988767cb6f3746409",
       "version_major": 2,
       "version_minor": 0
      },
      "text/plain": [
       "Calculating likelihoods:   0%|          | 0/3 [00:00<?, ?it/s]"
      ]
     },
     "metadata": {},
     "output_type": "display_data"
    },
    {
     "data": {
      "application/vnd.jupyter.widget-view+json": {
       "model_id": "cbf8c0fbfacf47f089b64432e0d45545",
       "version_major": 2,
       "version_minor": 0
      },
      "text/plain": [
       "Calculating likelihoods:   0%|          | 0/3 [00:00<?, ?it/s]"
      ]
     },
     "metadata": {},
     "output_type": "display_data"
    },
    {
     "data": {
      "application/vnd.jupyter.widget-view+json": {
       "model_id": "b9487c66995b4c3d85892a06e8683868",
       "version_major": 2,
       "version_minor": 0
      },
      "text/plain": [
       "Calculating likelihoods:   0%|          | 0/3 [00:00<?, ?it/s]"
      ]
     },
     "metadata": {},
     "output_type": "display_data"
    },
    {
     "data": {
      "application/vnd.jupyter.widget-view+json": {
       "model_id": "65931b70e0544fc3a7b05b80a3a5cb28",
       "version_major": 2,
       "version_minor": 0
      },
      "text/plain": [
       "Calculating likelihoods:   0%|          | 0/3 [00:00<?, ?it/s]"
      ]
     },
     "metadata": {},
     "output_type": "display_data"
    },
    {
     "data": {
      "application/vnd.jupyter.widget-view+json": {
       "model_id": "80c3e656e0a64f58bc17634d238c44ea",
       "version_major": 2,
       "version_minor": 0
      },
      "text/plain": [
       "Calculating likelihoods:   0%|          | 0/3 [00:00<?, ?it/s]"
      ]
     },
     "metadata": {},
     "output_type": "display_data"
    },
    {
     "data": {
      "application/vnd.jupyter.widget-view+json": {
       "model_id": "104f785239f24244b01c1ac2eebb85a4",
       "version_major": 2,
       "version_minor": 0
      },
      "text/plain": [
       "Calculating likelihoods:   0%|          | 0/3 [00:00<?, ?it/s]"
      ]
     },
     "metadata": {},
     "output_type": "display_data"
    },
    {
     "data": {
      "application/vnd.jupyter.widget-view+json": {
       "model_id": "5f643f3ac3134971a8cdfbc78f787b24",
       "version_major": 2,
       "version_minor": 0
      },
      "text/plain": [
       "Calculating likelihoods:   0%|          | 0/3 [00:00<?, ?it/s]"
      ]
     },
     "metadata": {},
     "output_type": "display_data"
    },
    {
     "data": {
      "application/vnd.jupyter.widget-view+json": {
       "model_id": "94f0cc39a3bd444eb0555688cc75357e",
       "version_major": 2,
       "version_minor": 0
      },
      "text/plain": [
       "Calculating likelihoods:   0%|          | 0/3 [00:00<?, ?it/s]"
      ]
     },
     "metadata": {},
     "output_type": "display_data"
    },
    {
     "data": {
      "application/vnd.jupyter.widget-view+json": {
       "model_id": "cfe507946fa5466ab80ca9e15fd29565",
       "version_major": 2,
       "version_minor": 0
      },
      "text/plain": [
       "Calculating likelihoods:   0%|          | 0/3 [00:00<?, ?it/s]"
      ]
     },
     "metadata": {},
     "output_type": "display_data"
    },
    {
     "data": {
      "application/vnd.jupyter.widget-view+json": {
       "model_id": "752c34e392af4cb1bd2c0088e01c4678",
       "version_major": 2,
       "version_minor": 0
      },
      "text/plain": [
       "Calculating likelihoods:   0%|          | 0/3 [00:00<?, ?it/s]"
      ]
     },
     "metadata": {},
     "output_type": "display_data"
    },
    {
     "data": {
      "application/vnd.jupyter.widget-view+json": {
       "model_id": "2c8d79c6d2994c6b9fd0ab1b0a29f150",
       "version_major": 2,
       "version_minor": 0
      },
      "text/plain": [
       "Calculating likelihoods:   0%|          | 0/3 [00:00<?, ?it/s]"
      ]
     },
     "metadata": {},
     "output_type": "display_data"
    },
    {
     "data": {
      "application/vnd.jupyter.widget-view+json": {
       "model_id": "9a548a25a3d94ed2bd3295a5646c3874",
       "version_major": 2,
       "version_minor": 0
      },
      "text/plain": [
       "Calculating likelihoods:   0%|          | 0/3 [00:00<?, ?it/s]"
      ]
     },
     "metadata": {},
     "output_type": "display_data"
    },
    {
     "data": {
      "application/vnd.jupyter.widget-view+json": {
       "model_id": "94fc38242637430db226d3d90cbf2e1a",
       "version_major": 2,
       "version_minor": 0
      },
      "text/plain": [
       "Calculating likelihoods:   0%|          | 0/3 [00:00<?, ?it/s]"
      ]
     },
     "metadata": {},
     "output_type": "display_data"
    },
    {
     "data": {
      "application/vnd.jupyter.widget-view+json": {
       "model_id": "7c82ff8f0ddd432db2a9ba2e0dec9145",
       "version_major": 2,
       "version_minor": 0
      },
      "text/plain": [
       "Calculating likelihoods:   0%|          | 0/3 [00:00<?, ?it/s]"
      ]
     },
     "metadata": {},
     "output_type": "display_data"
    },
    {
     "data": {
      "application/vnd.jupyter.widget-view+json": {
       "model_id": "8d86943a846448f8bb7dbd249ae6d855",
       "version_major": 2,
       "version_minor": 0
      },
      "text/plain": [
       "Calculating likelihoods:   0%|          | 0/3 [00:00<?, ?it/s]"
      ]
     },
     "metadata": {},
     "output_type": "display_data"
    },
    {
     "data": {
      "application/vnd.jupyter.widget-view+json": {
       "model_id": "7a63a817d5f04ac085cd718118ec5914",
       "version_major": 2,
       "version_minor": 0
      },
      "text/plain": [
       "Calculating likelihoods:   0%|          | 0/3 [00:00<?, ?it/s]"
      ]
     },
     "metadata": {},
     "output_type": "display_data"
    },
    {
     "data": {
      "application/vnd.jupyter.widget-view+json": {
       "model_id": "0ffe981c998d4823a0247e4efdddbbfb",
       "version_major": 2,
       "version_minor": 0
      },
      "text/plain": [
       "Calculating likelihoods:   0%|          | 0/3 [00:00<?, ?it/s]"
      ]
     },
     "metadata": {},
     "output_type": "display_data"
    },
    {
     "data": {
      "application/vnd.jupyter.widget-view+json": {
       "model_id": "d72aef0db6284a8a9cc9fece70def02c",
       "version_major": 2,
       "version_minor": 0
      },
      "text/plain": [
       "Calculating likelihoods:   0%|          | 0/3 [00:00<?, ?it/s]"
      ]
     },
     "metadata": {},
     "output_type": "display_data"
    },
    {
     "data": {
      "application/vnd.jupyter.widget-view+json": {
       "model_id": "07d54009c7064e24a16ad2f79c5a3af5",
       "version_major": 2,
       "version_minor": 0
      },
      "text/plain": [
       "Calculating likelihoods:   0%|          | 0/3 [00:00<?, ?it/s]"
      ]
     },
     "metadata": {},
     "output_type": "display_data"
    },
    {
     "data": {
      "application/vnd.jupyter.widget-view+json": {
       "model_id": "ef4f9b23c2944946a12d05d37c656e1f",
       "version_major": 2,
       "version_minor": 0
      },
      "text/plain": [
       "Calculating likelihoods:   0%|          | 0/3 [00:00<?, ?it/s]"
      ]
     },
     "metadata": {},
     "output_type": "display_data"
    },
    {
     "data": {
      "application/vnd.jupyter.widget-view+json": {
       "model_id": "2d653e6325cc4792b16d4bda91e55e8a",
       "version_major": 2,
       "version_minor": 0
      },
      "text/plain": [
       "Calculating likelihoods:   0%|          | 0/3 [00:00<?, ?it/s]"
      ]
     },
     "metadata": {},
     "output_type": "display_data"
    },
    {
     "data": {
      "application/vnd.jupyter.widget-view+json": {
       "model_id": "0989e60f629149969225e2138a3a5f4a",
       "version_major": 2,
       "version_minor": 0
      },
      "text/plain": [
       "Calculating likelihoods:   0%|          | 0/3 [00:00<?, ?it/s]"
      ]
     },
     "metadata": {},
     "output_type": "display_data"
    },
    {
     "data": {
      "application/vnd.jupyter.widget-view+json": {
       "model_id": "aab5aadf48144f2da7cde791ab8247ad",
       "version_major": 2,
       "version_minor": 0
      },
      "text/plain": [
       "Calculating likelihoods:   0%|          | 0/3 [00:00<?, ?it/s]"
      ]
     },
     "metadata": {},
     "output_type": "display_data"
    },
    {
     "data": {
      "application/vnd.jupyter.widget-view+json": {
       "model_id": "62918b35bc1a426180c4b240503b9a2f",
       "version_major": 2,
       "version_minor": 0
      },
      "text/plain": [
       "Calculating likelihoods:   0%|          | 0/3 [00:00<?, ?it/s]"
      ]
     },
     "metadata": {},
     "output_type": "display_data"
    },
    {
     "data": {
      "application/vnd.jupyter.widget-view+json": {
       "model_id": "91ed231e65fa44758bae99061c84e5d6",
       "version_major": 2,
       "version_minor": 0
      },
      "text/plain": [
       "Calculating likelihoods:   0%|          | 0/3 [00:00<?, ?it/s]"
      ]
     },
     "metadata": {},
     "output_type": "display_data"
    },
    {
     "data": {
      "application/vnd.jupyter.widget-view+json": {
       "model_id": "1fbbc4ae3a94446fbeda80ddab8d9896",
       "version_major": 2,
       "version_minor": 0
      },
      "text/plain": [
       "Calculating likelihoods:   0%|          | 0/3 [00:00<?, ?it/s]"
      ]
     },
     "metadata": {},
     "output_type": "display_data"
    },
    {
     "data": {
      "application/vnd.jupyter.widget-view+json": {
       "model_id": "497753cc280b461ca83228a141cdb478",
       "version_major": 2,
       "version_minor": 0
      },
      "text/plain": [
       "Calculating likelihoods:   0%|          | 0/3 [00:00<?, ?it/s]"
      ]
     },
     "metadata": {},
     "output_type": "display_data"
    },
    {
     "data": {
      "application/vnd.jupyter.widget-view+json": {
       "model_id": "963e92734ffa41d7b3a73a5b428db5ed",
       "version_major": 2,
       "version_minor": 0
      },
      "text/plain": [
       "Calculating likelihoods:   0%|          | 0/3 [00:00<?, ?it/s]"
      ]
     },
     "metadata": {},
     "output_type": "display_data"
    },
    {
     "data": {
      "application/vnd.jupyter.widget-view+json": {
       "model_id": "6aaa81d19c0c43448eccc2179e25807b",
       "version_major": 2,
       "version_minor": 0
      },
      "text/plain": [
       "Calculating likelihoods:   0%|          | 0/3 [00:00<?, ?it/s]"
      ]
     },
     "metadata": {},
     "output_type": "display_data"
    },
    {
     "data": {
      "application/vnd.jupyter.widget-view+json": {
       "model_id": "529acff7188245098e42b15270d1aca7",
       "version_major": 2,
       "version_minor": 0
      },
      "text/plain": [
       "Calculating likelihoods:   0%|          | 0/3 [00:00<?, ?it/s]"
      ]
     },
     "metadata": {},
     "output_type": "display_data"
    },
    {
     "data": {
      "application/vnd.jupyter.widget-view+json": {
       "model_id": "083260828bec49dababc79940ede3dc5",
       "version_major": 2,
       "version_minor": 0
      },
      "text/plain": [
       "Calculating likelihoods:   0%|          | 0/3 [00:00<?, ?it/s]"
      ]
     },
     "metadata": {},
     "output_type": "display_data"
    },
    {
     "data": {
      "application/vnd.jupyter.widget-view+json": {
       "model_id": "4105e546fea54d26b0ad27d81e1d6b54",
       "version_major": 2,
       "version_minor": 0
      },
      "text/plain": [
       "Calculating likelihoods:   0%|          | 0/3 [00:00<?, ?it/s]"
      ]
     },
     "metadata": {},
     "output_type": "display_data"
    },
    {
     "data": {
      "application/vnd.jupyter.widget-view+json": {
       "model_id": "94ab2c6a54b240ceaa26c09f89d3a664",
       "version_major": 2,
       "version_minor": 0
      },
      "text/plain": [
       "Calculating likelihoods:   0%|          | 0/3 [00:00<?, ?it/s]"
      ]
     },
     "metadata": {},
     "output_type": "display_data"
    },
    {
     "data": {
      "application/vnd.jupyter.widget-view+json": {
       "model_id": "9288395d740540fb855c373e47fa6ccb",
       "version_major": 2,
       "version_minor": 0
      },
      "text/plain": [
       "Calculating likelihoods:   0%|          | 0/3 [00:00<?, ?it/s]"
      ]
     },
     "metadata": {},
     "output_type": "display_data"
    },
    {
     "data": {
      "application/vnd.jupyter.widget-view+json": {
       "model_id": "d47abbee3e2b4ff9a87c7a281a92c56e",
       "version_major": 2,
       "version_minor": 0
      },
      "text/plain": [
       "Calculating likelihoods:   0%|          | 0/3 [00:00<?, ?it/s]"
      ]
     },
     "metadata": {},
     "output_type": "display_data"
    },
    {
     "data": {
      "application/vnd.jupyter.widget-view+json": {
       "model_id": "ff55f95aceea45ce878e3103dfd8a8c3",
       "version_major": 2,
       "version_minor": 0
      },
      "text/plain": [
       "Calculating likelihoods:   0%|          | 0/3 [00:00<?, ?it/s]"
      ]
     },
     "metadata": {},
     "output_type": "display_data"
    },
    {
     "data": {
      "application/vnd.jupyter.widget-view+json": {
       "model_id": "43917c10644945f9a987411215e9bf17",
       "version_major": 2,
       "version_minor": 0
      },
      "text/plain": [
       "Calculating likelihoods:   0%|          | 0/3 [00:00<?, ?it/s]"
      ]
     },
     "metadata": {},
     "output_type": "display_data"
    },
    {
     "data": {
      "application/vnd.jupyter.widget-view+json": {
       "model_id": "83a2bb6e7cd14a88a5c5eb223e7e51c5",
       "version_major": 2,
       "version_minor": 0
      },
      "text/plain": [
       "Calculating likelihoods:   0%|          | 0/3 [00:00<?, ?it/s]"
      ]
     },
     "metadata": {},
     "output_type": "display_data"
    },
    {
     "data": {
      "application/vnd.jupyter.widget-view+json": {
       "model_id": "0ae895b7852b407fabce05cba466dc1d",
       "version_major": 2,
       "version_minor": 0
      },
      "text/plain": [
       "Calculating likelihoods:   0%|          | 0/3 [00:00<?, ?it/s]"
      ]
     },
     "metadata": {},
     "output_type": "display_data"
    },
    {
     "data": {
      "application/vnd.jupyter.widget-view+json": {
       "model_id": "c6dae1a5e7d44293ac0b28c98aacb1a3",
       "version_major": 2,
       "version_minor": 0
      },
      "text/plain": [
       "Calculating likelihoods:   0%|          | 0/3 [00:00<?, ?it/s]"
      ]
     },
     "metadata": {},
     "output_type": "display_data"
    },
    {
     "data": {
      "application/vnd.jupyter.widget-view+json": {
       "model_id": "75e08b9741174586b1ff63aa2ed4fb83",
       "version_major": 2,
       "version_minor": 0
      },
      "text/plain": [
       "Calculating likelihoods:   0%|          | 0/3 [00:00<?, ?it/s]"
      ]
     },
     "metadata": {},
     "output_type": "display_data"
    },
    {
     "data": {
      "application/vnd.jupyter.widget-view+json": {
       "model_id": "726daeff917341b2a355acdc296d64c4",
       "version_major": 2,
       "version_minor": 0
      },
      "text/plain": [
       "Calculating likelihoods:   0%|          | 0/3 [00:00<?, ?it/s]"
      ]
     },
     "metadata": {},
     "output_type": "display_data"
    },
    {
     "data": {
      "application/vnd.jupyter.widget-view+json": {
       "model_id": "359637040dd94ae5b6ec718bf9524124",
       "version_major": 2,
       "version_minor": 0
      },
      "text/plain": [
       "Calculating likelihoods:   0%|          | 0/3 [00:00<?, ?it/s]"
      ]
     },
     "metadata": {},
     "output_type": "display_data"
    },
    {
     "data": {
      "application/vnd.jupyter.widget-view+json": {
       "model_id": "cd1172e824694d8db6deef0cd5238683",
       "version_major": 2,
       "version_minor": 0
      },
      "text/plain": [
       "Calculating likelihoods:   0%|          | 0/3 [00:00<?, ?it/s]"
      ]
     },
     "metadata": {},
     "output_type": "display_data"
    },
    {
     "data": {
      "application/vnd.jupyter.widget-view+json": {
       "model_id": "e89ac8986013407ea401986e87a8d8bb",
       "version_major": 2,
       "version_minor": 0
      },
      "text/plain": [
       "Calculating likelihoods:   0%|          | 0/3 [00:00<?, ?it/s]"
      ]
     },
     "metadata": {},
     "output_type": "display_data"
    },
    {
     "data": {
      "application/vnd.jupyter.widget-view+json": {
       "model_id": "8d6c29c609e34819ae1bed77f4ce4aef",
       "version_major": 2,
       "version_minor": 0
      },
      "text/plain": [
       "Calculating likelihoods:   0%|          | 0/3 [00:00<?, ?it/s]"
      ]
     },
     "metadata": {},
     "output_type": "display_data"
    },
    {
     "data": {
      "application/vnd.jupyter.widget-view+json": {
       "model_id": "f807fdb29343499da3bacfa17e5950b1",
       "version_major": 2,
       "version_minor": 0
      },
      "text/plain": [
       "Calculating likelihoods:   0%|          | 0/3 [00:00<?, ?it/s]"
      ]
     },
     "metadata": {},
     "output_type": "display_data"
    },
    {
     "data": {
      "application/vnd.jupyter.widget-view+json": {
       "model_id": "6f5171806bcc470b9e541d853d1a1b4b",
       "version_major": 2,
       "version_minor": 0
      },
      "text/plain": [
       "Calculating likelihoods:   0%|          | 0/3 [00:00<?, ?it/s]"
      ]
     },
     "metadata": {},
     "output_type": "display_data"
    },
    {
     "data": {
      "application/vnd.jupyter.widget-view+json": {
       "model_id": "ef35c3611ab84cc3bdff1202839436b3",
       "version_major": 2,
       "version_minor": 0
      },
      "text/plain": [
       "Calculating likelihoods:   0%|          | 0/3 [00:00<?, ?it/s]"
      ]
     },
     "metadata": {},
     "output_type": "display_data"
    },
    {
     "data": {
      "application/vnd.jupyter.widget-view+json": {
       "model_id": "e7c34bf4bbc143d4a28abb82bacc29e4",
       "version_major": 2,
       "version_minor": 0
      },
      "text/plain": [
       "Calculating likelihoods:   0%|          | 0/3 [00:00<?, ?it/s]"
      ]
     },
     "metadata": {},
     "output_type": "display_data"
    },
    {
     "data": {
      "application/vnd.jupyter.widget-view+json": {
       "model_id": "079b487d428d4baf8160be900ca577ec",
       "version_major": 2,
       "version_minor": 0
      },
      "text/plain": [
       "Calculating likelihoods:   0%|          | 0/3 [00:00<?, ?it/s]"
      ]
     },
     "metadata": {},
     "output_type": "display_data"
    },
    {
     "data": {
      "application/vnd.jupyter.widget-view+json": {
       "model_id": "0b53851c32474d6d973789557eafbfab",
       "version_major": 2,
       "version_minor": 0
      },
      "text/plain": [
       "Calculating likelihoods:   0%|          | 0/3 [00:00<?, ?it/s]"
      ]
     },
     "metadata": {},
     "output_type": "display_data"
    },
    {
     "data": {
      "application/vnd.jupyter.widget-view+json": {
       "model_id": "8d6de22a0dd442639654bbfb738be950",
       "version_major": 2,
       "version_minor": 0
      },
      "text/plain": [
       "Calculating likelihoods:   0%|          | 0/3 [00:00<?, ?it/s]"
      ]
     },
     "metadata": {},
     "output_type": "display_data"
    },
    {
     "data": {
      "application/vnd.jupyter.widget-view+json": {
       "model_id": "63e13899b3084b3f963ee7dc36c6dd8a",
       "version_major": 2,
       "version_minor": 0
      },
      "text/plain": [
       "Calculating likelihoods:   0%|          | 0/3 [00:00<?, ?it/s]"
      ]
     },
     "metadata": {},
     "output_type": "display_data"
    },
    {
     "data": {
      "application/vnd.jupyter.widget-view+json": {
       "model_id": "af4e02aacdc24dd8934b7ef9ea0d2dd1",
       "version_major": 2,
       "version_minor": 0
      },
      "text/plain": [
       "Calculating likelihoods:   0%|          | 0/3 [00:00<?, ?it/s]"
      ]
     },
     "metadata": {},
     "output_type": "display_data"
    },
    {
     "data": {
      "application/vnd.jupyter.widget-view+json": {
       "model_id": "fd370060923042a7845a8ea330bab976",
       "version_major": 2,
       "version_minor": 0
      },
      "text/plain": [
       "Calculating likelihoods:   0%|          | 0/3 [00:00<?, ?it/s]"
      ]
     },
     "metadata": {},
     "output_type": "display_data"
    },
    {
     "data": {
      "application/vnd.jupyter.widget-view+json": {
       "model_id": "c7416089f4404619a66dadea7568c13a",
       "version_major": 2,
       "version_minor": 0
      },
      "text/plain": [
       "Calculating likelihoods:   0%|          | 0/3 [00:00<?, ?it/s]"
      ]
     },
     "metadata": {},
     "output_type": "display_data"
    },
    {
     "data": {
      "application/vnd.jupyter.widget-view+json": {
       "model_id": "5d573b6345e04d41b36e3d0d6549bfe7",
       "version_major": 2,
       "version_minor": 0
      },
      "text/plain": [
       "Calculating likelihoods:   0%|          | 0/3 [00:00<?, ?it/s]"
      ]
     },
     "metadata": {},
     "output_type": "display_data"
    },
    {
     "data": {
      "application/vnd.jupyter.widget-view+json": {
       "model_id": "9de9035385df4c5e9b91340045ba3dca",
       "version_major": 2,
       "version_minor": 0
      },
      "text/plain": [
       "Calculating likelihoods:   0%|          | 0/3 [00:00<?, ?it/s]"
      ]
     },
     "metadata": {},
     "output_type": "display_data"
    },
    {
     "data": {
      "application/vnd.jupyter.widget-view+json": {
       "model_id": "fba6c152bde345c6ada8eef0d471b7b4",
       "version_major": 2,
       "version_minor": 0
      },
      "text/plain": [
       "Calculating likelihoods:   0%|          | 0/3 [00:00<?, ?it/s]"
      ]
     },
     "metadata": {},
     "output_type": "display_data"
    },
    {
     "data": {
      "application/vnd.jupyter.widget-view+json": {
       "model_id": "c3554ffbc2164a018f82a52915331d32",
       "version_major": 2,
       "version_minor": 0
      },
      "text/plain": [
       "Calculating likelihoods:   0%|          | 0/3 [00:00<?, ?it/s]"
      ]
     },
     "metadata": {},
     "output_type": "display_data"
    },
    {
     "data": {
      "application/vnd.jupyter.widget-view+json": {
       "model_id": "a92ac38bef0e4b49b0fcfd22b146354b",
       "version_major": 2,
       "version_minor": 0
      },
      "text/plain": [
       "Calculating likelihoods:   0%|          | 0/3 [00:00<?, ?it/s]"
      ]
     },
     "metadata": {},
     "output_type": "display_data"
    },
    {
     "data": {
      "application/vnd.jupyter.widget-view+json": {
       "model_id": "c737a7f92e72461bb2c0fc3edf14d935",
       "version_major": 2,
       "version_minor": 0
      },
      "text/plain": [
       "Calculating likelihoods:   0%|          | 0/3 [00:00<?, ?it/s]"
      ]
     },
     "metadata": {},
     "output_type": "display_data"
    },
    {
     "data": {
      "application/vnd.jupyter.widget-view+json": {
       "model_id": "f9c91102a8bc4ea98e644dfac326cbb4",
       "version_major": 2,
       "version_minor": 0
      },
      "text/plain": [
       "Calculating likelihoods:   0%|          | 0/3 [00:00<?, ?it/s]"
      ]
     },
     "metadata": {},
     "output_type": "display_data"
    },
    {
     "data": {
      "application/vnd.jupyter.widget-view+json": {
       "model_id": "cc677534091e448ab316ab15c11787cf",
       "version_major": 2,
       "version_minor": 0
      },
      "text/plain": [
       "Calculating likelihoods:   0%|          | 0/3 [00:00<?, ?it/s]"
      ]
     },
     "metadata": {},
     "output_type": "display_data"
    },
    {
     "data": {
      "application/vnd.jupyter.widget-view+json": {
       "model_id": "3af2505f91ef49f38b9e57f09c9babf4",
       "version_major": 2,
       "version_minor": 0
      },
      "text/plain": [
       "Calculating likelihoods:   0%|          | 0/3 [00:00<?, ?it/s]"
      ]
     },
     "metadata": {},
     "output_type": "display_data"
    },
    {
     "data": {
      "application/vnd.jupyter.widget-view+json": {
       "model_id": "ba347dc9325d4bee8e023a5eb4b14222",
       "version_major": 2,
       "version_minor": 0
      },
      "text/plain": [
       "Calculating likelihoods:   0%|          | 0/3 [00:00<?, ?it/s]"
      ]
     },
     "metadata": {},
     "output_type": "display_data"
    },
    {
     "data": {
      "application/vnd.jupyter.widget-view+json": {
       "model_id": "87ea27ff33e04f01970213789dfda24d",
       "version_major": 2,
       "version_minor": 0
      },
      "text/plain": [
       "Calculating likelihoods:   0%|          | 0/3 [00:00<?, ?it/s]"
      ]
     },
     "metadata": {},
     "output_type": "display_data"
    },
    {
     "data": {
      "application/vnd.jupyter.widget-view+json": {
       "model_id": "b6a827fa76a24385bd637b537728fb53",
       "version_major": 2,
       "version_minor": 0
      },
      "text/plain": [
       "Calculating likelihoods:   0%|          | 0/3 [00:00<?, ?it/s]"
      ]
     },
     "metadata": {},
     "output_type": "display_data"
    },
    {
     "data": {
      "application/vnd.jupyter.widget-view+json": {
       "model_id": "ba086d9b778e4a32a9c5bdb878bc0b57",
       "version_major": 2,
       "version_minor": 0
      },
      "text/plain": [
       "Calculating likelihoods:   0%|          | 0/3 [00:00<?, ?it/s]"
      ]
     },
     "metadata": {},
     "output_type": "display_data"
    },
    {
     "data": {
      "application/vnd.jupyter.widget-view+json": {
       "model_id": "d26489bb6892429cb6c7f5c4817cbab1",
       "version_major": 2,
       "version_minor": 0
      },
      "text/plain": [
       "Calculating likelihoods:   0%|          | 0/3 [00:00<?, ?it/s]"
      ]
     },
     "metadata": {},
     "output_type": "display_data"
    },
    {
     "data": {
      "application/vnd.jupyter.widget-view+json": {
       "model_id": "f590781e2afd4af9ace8895a49ee52a6",
       "version_major": 2,
       "version_minor": 0
      },
      "text/plain": [
       "Calculating likelihoods:   0%|          | 0/3 [00:00<?, ?it/s]"
      ]
     },
     "metadata": {},
     "output_type": "display_data"
    },
    {
     "data": {
      "application/vnd.jupyter.widget-view+json": {
       "model_id": "8908b03d9d5f4c8ab93410263ec6eae3",
       "version_major": 2,
       "version_minor": 0
      },
      "text/plain": [
       "Calculating likelihoods:   0%|          | 0/3 [00:00<?, ?it/s]"
      ]
     },
     "metadata": {},
     "output_type": "display_data"
    },
    {
     "data": {
      "application/vnd.jupyter.widget-view+json": {
       "model_id": "48b7fbcc2ed04258b4c91db7064f68ac",
       "version_major": 2,
       "version_minor": 0
      },
      "text/plain": [
       "Calculating likelihoods:   0%|          | 0/3 [00:00<?, ?it/s]"
      ]
     },
     "metadata": {},
     "output_type": "display_data"
    },
    {
     "data": {
      "application/vnd.jupyter.widget-view+json": {
       "model_id": "bd377a81ec89477c8708d475d32cb385",
       "version_major": 2,
       "version_minor": 0
      },
      "text/plain": [
       "Calculating likelihoods:   0%|          | 0/3 [00:00<?, ?it/s]"
      ]
     },
     "metadata": {},
     "output_type": "display_data"
    },
    {
     "data": {
      "application/vnd.jupyter.widget-view+json": {
       "model_id": "06acaa1a85bc49f7bb45f98f98863f7b",
       "version_major": 2,
       "version_minor": 0
      },
      "text/plain": [
       "Calculating likelihoods:   0%|          | 0/3 [00:00<?, ?it/s]"
      ]
     },
     "metadata": {},
     "output_type": "display_data"
    },
    {
     "data": {
      "application/vnd.jupyter.widget-view+json": {
       "model_id": "9cd6faba294c459695b69358d76c7c23",
       "version_major": 2,
       "version_minor": 0
      },
      "text/plain": [
       "Calculating likelihoods:   0%|          | 0/3 [00:00<?, ?it/s]"
      ]
     },
     "metadata": {},
     "output_type": "display_data"
    },
    {
     "data": {
      "application/vnd.jupyter.widget-view+json": {
       "model_id": "972703e14a84492a9f22cf2c50b05e06",
       "version_major": 2,
       "version_minor": 0
      },
      "text/plain": [
       "Calculating likelihoods:   0%|          | 0/3 [00:00<?, ?it/s]"
      ]
     },
     "metadata": {},
     "output_type": "display_data"
    },
    {
     "data": {
      "application/vnd.jupyter.widget-view+json": {
       "model_id": "467ab930090f4d5ca1d93a161e6a485b",
       "version_major": 2,
       "version_minor": 0
      },
      "text/plain": [
       "Calculating likelihoods:   0%|          | 0/3 [00:00<?, ?it/s]"
      ]
     },
     "metadata": {},
     "output_type": "display_data"
    },
    {
     "data": {
      "application/vnd.jupyter.widget-view+json": {
       "model_id": "0ed44a5dfbbc4ceeb5966732362caa0e",
       "version_major": 2,
       "version_minor": 0
      },
      "text/plain": [
       "Calculating likelihoods:   0%|          | 0/3 [00:00<?, ?it/s]"
      ]
     },
     "metadata": {},
     "output_type": "display_data"
    },
    {
     "data": {
      "application/vnd.jupyter.widget-view+json": {
       "model_id": "c5e925db82144e739cf87cb05bae0fd1",
       "version_major": 2,
       "version_minor": 0
      },
      "text/plain": [
       "Calculating likelihoods:   0%|          | 0/3 [00:00<?, ?it/s]"
      ]
     },
     "metadata": {},
     "output_type": "display_data"
    },
    {
     "data": {
      "application/vnd.jupyter.widget-view+json": {
       "model_id": "d04a967c83534332b829bb0baa6fc6c1",
       "version_major": 2,
       "version_minor": 0
      },
      "text/plain": [
       "Calculating likelihoods:   0%|          | 0/3 [00:00<?, ?it/s]"
      ]
     },
     "metadata": {},
     "output_type": "display_data"
    },
    {
     "data": {
      "application/vnd.jupyter.widget-view+json": {
       "model_id": "db762b55960d47e1b1bcbaf73f2768a0",
       "version_major": 2,
       "version_minor": 0
      },
      "text/plain": [
       "Calculating likelihoods:   0%|          | 0/3 [00:00<?, ?it/s]"
      ]
     },
     "metadata": {},
     "output_type": "display_data"
    },
    {
     "data": {
      "application/vnd.jupyter.widget-view+json": {
       "model_id": "a767beb40129455e972e080b0d5b5f88",
       "version_major": 2,
       "version_minor": 0
      },
      "text/plain": [
       "Calculating likelihoods:   0%|          | 0/3 [00:00<?, ?it/s]"
      ]
     },
     "metadata": {},
     "output_type": "display_data"
    },
    {
     "data": {
      "application/vnd.jupyter.widget-view+json": {
       "model_id": "44f730f8fb104363bb953e221e2aacc7",
       "version_major": 2,
       "version_minor": 0
      },
      "text/plain": [
       "Calculating likelihoods:   0%|          | 0/3 [00:00<?, ?it/s]"
      ]
     },
     "metadata": {},
     "output_type": "display_data"
    },
    {
     "data": {
      "application/vnd.jupyter.widget-view+json": {
       "model_id": "89b743dd98fc42d3b6b38fa47ce77de3",
       "version_major": 2,
       "version_minor": 0
      },
      "text/plain": [
       "Calculating likelihoods:   0%|          | 0/3 [00:00<?, ?it/s]"
      ]
     },
     "metadata": {},
     "output_type": "display_data"
    },
    {
     "data": {
      "application/vnd.jupyter.widget-view+json": {
       "model_id": "3f03342b49074850a2632100b0730beb",
       "version_major": 2,
       "version_minor": 0
      },
      "text/plain": [
       "Calculating likelihoods:   0%|          | 0/3 [00:00<?, ?it/s]"
      ]
     },
     "metadata": {},
     "output_type": "display_data"
    },
    {
     "data": {
      "application/vnd.jupyter.widget-view+json": {
       "model_id": "ff17a2364ec5462698b475996e529166",
       "version_major": 2,
       "version_minor": 0
      },
      "text/plain": [
       "Calculating likelihoods:   0%|          | 0/3 [00:00<?, ?it/s]"
      ]
     },
     "metadata": {},
     "output_type": "display_data"
    },
    {
     "data": {
      "application/vnd.jupyter.widget-view+json": {
       "model_id": "4e29a02f37f642668929c15dcb4733bd",
       "version_major": 2,
       "version_minor": 0
      },
      "text/plain": [
       "Calculating likelihoods:   0%|          | 0/3 [00:00<?, ?it/s]"
      ]
     },
     "metadata": {},
     "output_type": "display_data"
    },
    {
     "data": {
      "application/vnd.jupyter.widget-view+json": {
       "model_id": "10d94564a6f04dd88e4ae6ae6f56a67e",
       "version_major": 2,
       "version_minor": 0
      },
      "text/plain": [
       "Calculating likelihoods:   0%|          | 0/3 [00:00<?, ?it/s]"
      ]
     },
     "metadata": {},
     "output_type": "display_data"
    },
    {
     "data": {
      "application/vnd.jupyter.widget-view+json": {
       "model_id": "39d5e9744f074738a75880d679897104",
       "version_major": 2,
       "version_minor": 0
      },
      "text/plain": [
       "Calculating likelihoods:   0%|          | 0/3 [00:00<?, ?it/s]"
      ]
     },
     "metadata": {},
     "output_type": "display_data"
    },
    {
     "data": {
      "application/vnd.jupyter.widget-view+json": {
       "model_id": "81cb6f54972e4da7b4d28b6107b98500",
       "version_major": 2,
       "version_minor": 0
      },
      "text/plain": [
       "Calculating likelihoods:   0%|          | 0/3 [00:00<?, ?it/s]"
      ]
     },
     "metadata": {},
     "output_type": "display_data"
    },
    {
     "data": {
      "application/vnd.jupyter.widget-view+json": {
       "model_id": "6ea823947b3943e195feca93283c3196",
       "version_major": 2,
       "version_minor": 0
      },
      "text/plain": [
       "Calculating likelihoods:   0%|          | 0/3 [00:00<?, ?it/s]"
      ]
     },
     "metadata": {},
     "output_type": "display_data"
    },
    {
     "data": {
      "application/vnd.jupyter.widget-view+json": {
       "model_id": "0e773b1b74ac47f6919754dd61583e9b",
       "version_major": 2,
       "version_minor": 0
      },
      "text/plain": [
       "Calculating likelihoods:   0%|          | 0/3 [00:00<?, ?it/s]"
      ]
     },
     "metadata": {},
     "output_type": "display_data"
    },
    {
     "data": {
      "application/vnd.jupyter.widget-view+json": {
       "model_id": "35ecea81870f41ea82aede6e769b7c0e",
       "version_major": 2,
       "version_minor": 0
      },
      "text/plain": [
       "Calculating likelihoods:   0%|          | 0/3 [00:00<?, ?it/s]"
      ]
     },
     "metadata": {},
     "output_type": "display_data"
    },
    {
     "data": {
      "application/vnd.jupyter.widget-view+json": {
       "model_id": "6622d57edb164979bad8dc6186046af6",
       "version_major": 2,
       "version_minor": 0
      },
      "text/plain": [
       "Calculating likelihoods:   0%|          | 0/3 [00:00<?, ?it/s]"
      ]
     },
     "metadata": {},
     "output_type": "display_data"
    },
    {
     "data": {
      "application/vnd.jupyter.widget-view+json": {
       "model_id": "e9dc8f79d23b4bc5bc707c0cd48b7087",
       "version_major": 2,
       "version_minor": 0
      },
      "text/plain": [
       "Calculating likelihoods:   0%|          | 0/3 [00:00<?, ?it/s]"
      ]
     },
     "metadata": {},
     "output_type": "display_data"
    },
    {
     "data": {
      "application/vnd.jupyter.widget-view+json": {
       "model_id": "cc0c77088463431783fdd3499c13ee86",
       "version_major": 2,
       "version_minor": 0
      },
      "text/plain": [
       "Calculating likelihoods:   0%|          | 0/3 [00:00<?, ?it/s]"
      ]
     },
     "metadata": {},
     "output_type": "display_data"
    },
    {
     "data": {
      "application/vnd.jupyter.widget-view+json": {
       "model_id": "bba3bde6c382434289cdb9e6dfb15127",
       "version_major": 2,
       "version_minor": 0
      },
      "text/plain": [
       "Calculating likelihoods:   0%|          | 0/3 [00:00<?, ?it/s]"
      ]
     },
     "metadata": {},
     "output_type": "display_data"
    },
    {
     "data": {
      "application/vnd.jupyter.widget-view+json": {
       "model_id": "74b85f9cfecc4e7cbc7df14fec413b1a",
       "version_major": 2,
       "version_minor": 0
      },
      "text/plain": [
       "Calculating likelihoods:   0%|          | 0/3 [00:00<?, ?it/s]"
      ]
     },
     "metadata": {},
     "output_type": "display_data"
    },
    {
     "data": {
      "application/vnd.jupyter.widget-view+json": {
       "model_id": "07d94a3f002c4869bfecec43468df58d",
       "version_major": 2,
       "version_minor": 0
      },
      "text/plain": [
       "Calculating likelihoods:   0%|          | 0/3 [00:00<?, ?it/s]"
      ]
     },
     "metadata": {},
     "output_type": "display_data"
    },
    {
     "data": {
      "application/vnd.jupyter.widget-view+json": {
       "model_id": "7cff81014df74ef38df4ebb9900a4e81",
       "version_major": 2,
       "version_minor": 0
      },
      "text/plain": [
       "Calculating likelihoods:   0%|          | 0/3 [00:00<?, ?it/s]"
      ]
     },
     "metadata": {},
     "output_type": "display_data"
    },
    {
     "data": {
      "application/vnd.jupyter.widget-view+json": {
       "model_id": "1ef77eeae7f744d3b8d613d133871af5",
       "version_major": 2,
       "version_minor": 0
      },
      "text/plain": [
       "Calculating likelihoods:   0%|          | 0/3 [00:00<?, ?it/s]"
      ]
     },
     "metadata": {},
     "output_type": "display_data"
    },
    {
     "data": {
      "application/vnd.jupyter.widget-view+json": {
       "model_id": "679092a0032c41c8a429d2e7111a16bd",
       "version_major": 2,
       "version_minor": 0
      },
      "text/plain": [
       "Calculating likelihoods:   0%|          | 0/3 [00:00<?, ?it/s]"
      ]
     },
     "metadata": {},
     "output_type": "display_data"
    },
    {
     "data": {
      "application/vnd.jupyter.widget-view+json": {
       "model_id": "0970505297cc4b99a4bbbd538e5b8f04",
       "version_major": 2,
       "version_minor": 0
      },
      "text/plain": [
       "Calculating likelihoods:   0%|          | 0/3 [00:00<?, ?it/s]"
      ]
     },
     "metadata": {},
     "output_type": "display_data"
    },
    {
     "data": {
      "application/vnd.jupyter.widget-view+json": {
       "model_id": "0f44730399d94245bc0fe7a8f41d43d3",
       "version_major": 2,
       "version_minor": 0
      },
      "text/plain": [
       "Calculating likelihoods:   0%|          | 0/3 [00:00<?, ?it/s]"
      ]
     },
     "metadata": {},
     "output_type": "display_data"
    },
    {
     "data": {
      "application/vnd.jupyter.widget-view+json": {
       "model_id": "0ed80ff1a3a94929b9dec00b04b9def6",
       "version_major": 2,
       "version_minor": 0
      },
      "text/plain": [
       "Calculating likelihoods:   0%|          | 0/3 [00:00<?, ?it/s]"
      ]
     },
     "metadata": {},
     "output_type": "display_data"
    },
    {
     "data": {
      "application/vnd.jupyter.widget-view+json": {
       "model_id": "5503afc74bd940b9822323451b08ff21",
       "version_major": 2,
       "version_minor": 0
      },
      "text/plain": [
       "Calculating likelihoods:   0%|          | 0/3 [00:00<?, ?it/s]"
      ]
     },
     "metadata": {},
     "output_type": "display_data"
    },
    {
     "data": {
      "application/vnd.jupyter.widget-view+json": {
       "model_id": "165978e2f2684e91a42c0a4b7a81a39f",
       "version_major": 2,
       "version_minor": 0
      },
      "text/plain": [
       "Calculating likelihoods:   0%|          | 0/3 [00:00<?, ?it/s]"
      ]
     },
     "metadata": {},
     "output_type": "display_data"
    },
    {
     "data": {
      "application/vnd.jupyter.widget-view+json": {
       "model_id": "ff0b2af238354af589b818f20e23828b",
       "version_major": 2,
       "version_minor": 0
      },
      "text/plain": [
       "Calculating likelihoods:   0%|          | 0/3 [00:00<?, ?it/s]"
      ]
     },
     "metadata": {},
     "output_type": "display_data"
    },
    {
     "data": {
      "application/vnd.jupyter.widget-view+json": {
       "model_id": "a2202040cd064e53a52c4591494b7592",
       "version_major": 2,
       "version_minor": 0
      },
      "text/plain": [
       "Calculating likelihoods:   0%|          | 0/3 [00:00<?, ?it/s]"
      ]
     },
     "metadata": {},
     "output_type": "display_data"
    },
    {
     "data": {
      "application/vnd.jupyter.widget-view+json": {
       "model_id": "c246e5ca2ba34c3d920266e84616a6e5",
       "version_major": 2,
       "version_minor": 0
      },
      "text/plain": [
       "Calculating likelihoods:   0%|          | 0/3 [00:00<?, ?it/s]"
      ]
     },
     "metadata": {},
     "output_type": "display_data"
    },
    {
     "data": {
      "application/vnd.jupyter.widget-view+json": {
       "model_id": "a01b494bf942416dbfb4ec774b6efb42",
       "version_major": 2,
       "version_minor": 0
      },
      "text/plain": [
       "Calculating likelihoods:   0%|          | 0/3 [00:00<?, ?it/s]"
      ]
     },
     "metadata": {},
     "output_type": "display_data"
    },
    {
     "data": {
      "application/vnd.jupyter.widget-view+json": {
       "model_id": "053afba441d942a9aebebd2883a064d7",
       "version_major": 2,
       "version_minor": 0
      },
      "text/plain": [
       "Calculating likelihoods:   0%|          | 0/3 [00:00<?, ?it/s]"
      ]
     },
     "metadata": {},
     "output_type": "display_data"
    },
    {
     "data": {
      "application/vnd.jupyter.widget-view+json": {
       "model_id": "23582f878412448ab150bb303de7a0a5",
       "version_major": 2,
       "version_minor": 0
      },
      "text/plain": [
       "Calculating likelihoods:   0%|          | 0/3 [00:00<?, ?it/s]"
      ]
     },
     "metadata": {},
     "output_type": "display_data"
    },
    {
     "data": {
      "application/vnd.jupyter.widget-view+json": {
       "model_id": "f19ee255308d4eb1a8a2353a87cc4025",
       "version_major": 2,
       "version_minor": 0
      },
      "text/plain": [
       "Calculating likelihoods:   0%|          | 0/3 [00:00<?, ?it/s]"
      ]
     },
     "metadata": {},
     "output_type": "display_data"
    },
    {
     "data": {
      "application/vnd.jupyter.widget-view+json": {
       "model_id": "14e512fb6fb947c29156b944d5b85cd0",
       "version_major": 2,
       "version_minor": 0
      },
      "text/plain": [
       "Calculating likelihoods:   0%|          | 0/3 [00:00<?, ?it/s]"
      ]
     },
     "metadata": {},
     "output_type": "display_data"
    },
    {
     "data": {
      "application/vnd.jupyter.widget-view+json": {
       "model_id": "ebbbdf3cc6734f4eba79a86a9f17b939",
       "version_major": 2,
       "version_minor": 0
      },
      "text/plain": [
       "Calculating likelihoods:   0%|          | 0/3 [00:00<?, ?it/s]"
      ]
     },
     "metadata": {},
     "output_type": "display_data"
    },
    {
     "data": {
      "application/vnd.jupyter.widget-view+json": {
       "model_id": "a058bd546dae44dcaea61fac8809721e",
       "version_major": 2,
       "version_minor": 0
      },
      "text/plain": [
       "Calculating likelihoods:   0%|          | 0/3 [00:00<?, ?it/s]"
      ]
     },
     "metadata": {},
     "output_type": "display_data"
    },
    {
     "data": {
      "application/vnd.jupyter.widget-view+json": {
       "model_id": "504d7c8629f248e6af8e8697c9cf3476",
       "version_major": 2,
       "version_minor": 0
      },
      "text/plain": [
       "Calculating likelihoods:   0%|          | 0/3 [00:00<?, ?it/s]"
      ]
     },
     "metadata": {},
     "output_type": "display_data"
    },
    {
     "data": {
      "application/vnd.jupyter.widget-view+json": {
       "model_id": "420e90d625054d71bd6c4951227340ac",
       "version_major": 2,
       "version_minor": 0
      },
      "text/plain": [
       "Calculating likelihoods:   0%|          | 0/3 [00:00<?, ?it/s]"
      ]
     },
     "metadata": {},
     "output_type": "display_data"
    },
    {
     "data": {
      "application/vnd.jupyter.widget-view+json": {
       "model_id": "7de310d55e0f4d049d9118eea0426549",
       "version_major": 2,
       "version_minor": 0
      },
      "text/plain": [
       "Calculating likelihoods:   0%|          | 0/3 [00:00<?, ?it/s]"
      ]
     },
     "metadata": {},
     "output_type": "display_data"
    },
    {
     "data": {
      "application/vnd.jupyter.widget-view+json": {
       "model_id": "e008ad968ef243e7bc8a811b5a61e4a4",
       "version_major": 2,
       "version_minor": 0
      },
      "text/plain": [
       "Calculating likelihoods:   0%|          | 0/3 [00:00<?, ?it/s]"
      ]
     },
     "metadata": {},
     "output_type": "display_data"
    },
    {
     "data": {
      "application/vnd.jupyter.widget-view+json": {
       "model_id": "1b742f5ca62c42209d031563cac3220d",
       "version_major": 2,
       "version_minor": 0
      },
      "text/plain": [
       "Calculating likelihoods:   0%|          | 0/3 [00:00<?, ?it/s]"
      ]
     },
     "metadata": {},
     "output_type": "display_data"
    },
    {
     "data": {
      "application/vnd.jupyter.widget-view+json": {
       "model_id": "30451d35b1ca40fc845a4efcc501b498",
       "version_major": 2,
       "version_minor": 0
      },
      "text/plain": [
       "Calculating likelihoods:   0%|          | 0/3 [00:00<?, ?it/s]"
      ]
     },
     "metadata": {},
     "output_type": "display_data"
    },
    {
     "data": {
      "application/vnd.jupyter.widget-view+json": {
       "model_id": "ee3fa32382c44f89a67ce3c32a59919e",
       "version_major": 2,
       "version_minor": 0
      },
      "text/plain": [
       "Calculating likelihoods:   0%|          | 0/3 [00:00<?, ?it/s]"
      ]
     },
     "metadata": {},
     "output_type": "display_data"
    },
    {
     "data": {
      "application/vnd.jupyter.widget-view+json": {
       "model_id": "d8684dfe7c324f6fac2eaf7ba2697aad",
       "version_major": 2,
       "version_minor": 0
      },
      "text/plain": [
       "Calculating likelihoods:   0%|          | 0/3 [00:00<?, ?it/s]"
      ]
     },
     "metadata": {},
     "output_type": "display_data"
    },
    {
     "data": {
      "application/vnd.jupyter.widget-view+json": {
       "model_id": "7cac619a7a4c468d9fabb7c3b815baa5",
       "version_major": 2,
       "version_minor": 0
      },
      "text/plain": [
       "Calculating likelihoods:   0%|          | 0/3 [00:00<?, ?it/s]"
      ]
     },
     "metadata": {},
     "output_type": "display_data"
    },
    {
     "name": "stdout",
     "output_type": "stream",
     "text": [
      "Optimal parameters for 8 players and threshold 0.875:\n",
      "{'c': 0.5, 'inverse_temperature': 9.799407815978253, 'len_history': 5.811097492088114}\n",
      "Deviance: -752.5866774468008\n",
      "AIC: 1511.1733548936015\n",
      "--------------------------------------------------\n",
      "Finding deviance for 8 players and threshold 0.625...\n"
     ]
    },
    {
     "data": {
      "application/vnd.jupyter.widget-view+json": {
       "model_id": "ae5f1e56202a42e1a86a033ed3c36ae5",
       "version_major": 2,
       "version_minor": 0
      },
      "text/plain": [
       "Calculating likelihoods:   0%|          | 0/3 [00:00<?, ?it/s]"
      ]
     },
     "metadata": {},
     "output_type": "display_data"
    },
    {
     "data": {
      "application/vnd.jupyter.widget-view+json": {
       "model_id": "ae4d041c817f43f292ce3868ca8cd398",
       "version_major": 2,
       "version_minor": 0
      },
      "text/plain": [
       "Calculating likelihoods:   0%|          | 0/3 [00:00<?, ?it/s]"
      ]
     },
     "metadata": {},
     "output_type": "display_data"
    },
    {
     "data": {
      "application/vnd.jupyter.widget-view+json": {
       "model_id": "2ae9b7ae90ef4215a23779d597a15410",
       "version_major": 2,
       "version_minor": 0
      },
      "text/plain": [
       "Calculating likelihoods:   0%|          | 0/3 [00:00<?, ?it/s]"
      ]
     },
     "metadata": {},
     "output_type": "display_data"
    },
    {
     "data": {
      "application/vnd.jupyter.widget-view+json": {
       "model_id": "1841a413ebbb49f59917964cf0c83ff3",
       "version_major": 2,
       "version_minor": 0
      },
      "text/plain": [
       "Calculating likelihoods:   0%|          | 0/3 [00:00<?, ?it/s]"
      ]
     },
     "metadata": {},
     "output_type": "display_data"
    },
    {
     "data": {
      "application/vnd.jupyter.widget-view+json": {
       "model_id": "effb0f1f7e854444b104673affbb3004",
       "version_major": 2,
       "version_minor": 0
      },
      "text/plain": [
       "Calculating likelihoods:   0%|          | 0/3 [00:00<?, ?it/s]"
      ]
     },
     "metadata": {},
     "output_type": "display_data"
    },
    {
     "data": {
      "application/vnd.jupyter.widget-view+json": {
       "model_id": "a870bfc1177a418bb4d8da0c71cd5ccd",
       "version_major": 2,
       "version_minor": 0
      },
      "text/plain": [
       "Calculating likelihoods:   0%|          | 0/3 [00:00<?, ?it/s]"
      ]
     },
     "metadata": {},
     "output_type": "display_data"
    },
    {
     "data": {
      "application/vnd.jupyter.widget-view+json": {
       "model_id": "1d3573b2f14347209db865fc3b2cee5e",
       "version_major": 2,
       "version_minor": 0
      },
      "text/plain": [
       "Calculating likelihoods:   0%|          | 0/3 [00:00<?, ?it/s]"
      ]
     },
     "metadata": {},
     "output_type": "display_data"
    },
    {
     "data": {
      "application/vnd.jupyter.widget-view+json": {
       "model_id": "884a5d91f9df45b28b3dd141ca9b75ce",
       "version_major": 2,
       "version_minor": 0
      },
      "text/plain": [
       "Calculating likelihoods:   0%|          | 0/3 [00:00<?, ?it/s]"
      ]
     },
     "metadata": {},
     "output_type": "display_data"
    },
    {
     "data": {
      "application/vnd.jupyter.widget-view+json": {
       "model_id": "1157b1b2efc74e50acce5f36e9600550",
       "version_major": 2,
       "version_minor": 0
      },
      "text/plain": [
       "Calculating likelihoods:   0%|          | 0/3 [00:00<?, ?it/s]"
      ]
     },
     "metadata": {},
     "output_type": "display_data"
    },
    {
     "data": {
      "application/vnd.jupyter.widget-view+json": {
       "model_id": "781b7d6ab9864773b32c94ceb07961f1",
       "version_major": 2,
       "version_minor": 0
      },
      "text/plain": [
       "Calculating likelihoods:   0%|          | 0/3 [00:00<?, ?it/s]"
      ]
     },
     "metadata": {},
     "output_type": "display_data"
    },
    {
     "data": {
      "application/vnd.jupyter.widget-view+json": {
       "model_id": "d6cdb6f10df043b599b9046926431579",
       "version_major": 2,
       "version_minor": 0
      },
      "text/plain": [
       "Calculating likelihoods:   0%|          | 0/3 [00:00<?, ?it/s]"
      ]
     },
     "metadata": {},
     "output_type": "display_data"
    },
    {
     "data": {
      "application/vnd.jupyter.widget-view+json": {
       "model_id": "08456559d30d4fb3b5f326e0ff47c990",
       "version_major": 2,
       "version_minor": 0
      },
      "text/plain": [
       "Calculating likelihoods:   0%|          | 0/3 [00:00<?, ?it/s]"
      ]
     },
     "metadata": {},
     "output_type": "display_data"
    },
    {
     "data": {
      "application/vnd.jupyter.widget-view+json": {
       "model_id": "7339bc1756ec467bba446be5c7b4704c",
       "version_major": 2,
       "version_minor": 0
      },
      "text/plain": [
       "Calculating likelihoods:   0%|          | 0/3 [00:00<?, ?it/s]"
      ]
     },
     "metadata": {},
     "output_type": "display_data"
    },
    {
     "data": {
      "application/vnd.jupyter.widget-view+json": {
       "model_id": "630279bb193241faa67f53ac7eedf030",
       "version_major": 2,
       "version_minor": 0
      },
      "text/plain": [
       "Calculating likelihoods:   0%|          | 0/3 [00:00<?, ?it/s]"
      ]
     },
     "metadata": {},
     "output_type": "display_data"
    },
    {
     "data": {
      "application/vnd.jupyter.widget-view+json": {
       "model_id": "9cdf89f5d3b94de091529786a61e3a84",
       "version_major": 2,
       "version_minor": 0
      },
      "text/plain": [
       "Calculating likelihoods:   0%|          | 0/3 [00:00<?, ?it/s]"
      ]
     },
     "metadata": {},
     "output_type": "display_data"
    },
    {
     "data": {
      "application/vnd.jupyter.widget-view+json": {
       "model_id": "d69b98a8d35346aca63153d641122d18",
       "version_major": 2,
       "version_minor": 0
      },
      "text/plain": [
       "Calculating likelihoods:   0%|          | 0/3 [00:00<?, ?it/s]"
      ]
     },
     "metadata": {},
     "output_type": "display_data"
    },
    {
     "data": {
      "application/vnd.jupyter.widget-view+json": {
       "model_id": "f736582ff558485c8eff4c600ad40d2f",
       "version_major": 2,
       "version_minor": 0
      },
      "text/plain": [
       "Calculating likelihoods:   0%|          | 0/3 [00:00<?, ?it/s]"
      ]
     },
     "metadata": {},
     "output_type": "display_data"
    },
    {
     "data": {
      "application/vnd.jupyter.widget-view+json": {
       "model_id": "05c7101a27924cfc90143b99d20f175d",
       "version_major": 2,
       "version_minor": 0
      },
      "text/plain": [
       "Calculating likelihoods:   0%|          | 0/3 [00:00<?, ?it/s]"
      ]
     },
     "metadata": {},
     "output_type": "display_data"
    },
    {
     "data": {
      "application/vnd.jupyter.widget-view+json": {
       "model_id": "f3bfbddfddfe44bdbf1fe85d2053a949",
       "version_major": 2,
       "version_minor": 0
      },
      "text/plain": [
       "Calculating likelihoods:   0%|          | 0/3 [00:00<?, ?it/s]"
      ]
     },
     "metadata": {},
     "output_type": "display_data"
    },
    {
     "data": {
      "application/vnd.jupyter.widget-view+json": {
       "model_id": "e703d6500c5d41c78c36069fa0a301db",
       "version_major": 2,
       "version_minor": 0
      },
      "text/plain": [
       "Calculating likelihoods:   0%|          | 0/3 [00:00<?, ?it/s]"
      ]
     },
     "metadata": {},
     "output_type": "display_data"
    },
    {
     "data": {
      "application/vnd.jupyter.widget-view+json": {
       "model_id": "77c37ab278264b1a8892101820470f14",
       "version_major": 2,
       "version_minor": 0
      },
      "text/plain": [
       "Calculating likelihoods:   0%|          | 0/3 [00:00<?, ?it/s]"
      ]
     },
     "metadata": {},
     "output_type": "display_data"
    },
    {
     "data": {
      "application/vnd.jupyter.widget-view+json": {
       "model_id": "40bd5e98383f4b32a6394734f9611dcf",
       "version_major": 2,
       "version_minor": 0
      },
      "text/plain": [
       "Calculating likelihoods:   0%|          | 0/3 [00:00<?, ?it/s]"
      ]
     },
     "metadata": {},
     "output_type": "display_data"
    },
    {
     "data": {
      "application/vnd.jupyter.widget-view+json": {
       "model_id": "e1a9a2f429ad409b877ec7cf2e6b7b3e",
       "version_major": 2,
       "version_minor": 0
      },
      "text/plain": [
       "Calculating likelihoods:   0%|          | 0/3 [00:00<?, ?it/s]"
      ]
     },
     "metadata": {},
     "output_type": "display_data"
    },
    {
     "data": {
      "application/vnd.jupyter.widget-view+json": {
       "model_id": "53745197e2b341cd833cfce8f7e8962b",
       "version_major": 2,
       "version_minor": 0
      },
      "text/plain": [
       "Calculating likelihoods:   0%|          | 0/3 [00:00<?, ?it/s]"
      ]
     },
     "metadata": {},
     "output_type": "display_data"
    },
    {
     "data": {
      "application/vnd.jupyter.widget-view+json": {
       "model_id": "af0586e28d3b4d16b1fff1557d5f1a51",
       "version_major": 2,
       "version_minor": 0
      },
      "text/plain": [
       "Calculating likelihoods:   0%|          | 0/3 [00:00<?, ?it/s]"
      ]
     },
     "metadata": {},
     "output_type": "display_data"
    },
    {
     "data": {
      "application/vnd.jupyter.widget-view+json": {
       "model_id": "945b3b11880a495f952c7abebdc134b0",
       "version_major": 2,
       "version_minor": 0
      },
      "text/plain": [
       "Calculating likelihoods:   0%|          | 0/3 [00:00<?, ?it/s]"
      ]
     },
     "metadata": {},
     "output_type": "display_data"
    },
    {
     "data": {
      "application/vnd.jupyter.widget-view+json": {
       "model_id": "b0dcbc6afdc9437e9b11c8defc14dc75",
       "version_major": 2,
       "version_minor": 0
      },
      "text/plain": [
       "Calculating likelihoods:   0%|          | 0/3 [00:00<?, ?it/s]"
      ]
     },
     "metadata": {},
     "output_type": "display_data"
    },
    {
     "data": {
      "application/vnd.jupyter.widget-view+json": {
       "model_id": "621a43b9be5547bc9766661a8a6de823",
       "version_major": 2,
       "version_minor": 0
      },
      "text/plain": [
       "Calculating likelihoods:   0%|          | 0/3 [00:00<?, ?it/s]"
      ]
     },
     "metadata": {},
     "output_type": "display_data"
    },
    {
     "data": {
      "application/vnd.jupyter.widget-view+json": {
       "model_id": "28bc48424e104b228c72e8c5b6b0faf2",
       "version_major": 2,
       "version_minor": 0
      },
      "text/plain": [
       "Calculating likelihoods:   0%|          | 0/3 [00:00<?, ?it/s]"
      ]
     },
     "metadata": {},
     "output_type": "display_data"
    },
    {
     "data": {
      "application/vnd.jupyter.widget-view+json": {
       "model_id": "917e343d8efd41f0b61a296d9853c85f",
       "version_major": 2,
       "version_minor": 0
      },
      "text/plain": [
       "Calculating likelihoods:   0%|          | 0/3 [00:00<?, ?it/s]"
      ]
     },
     "metadata": {},
     "output_type": "display_data"
    },
    {
     "data": {
      "application/vnd.jupyter.widget-view+json": {
       "model_id": "edca7b5cd4614b7ba1cf4f28d00bbe4c",
       "version_major": 2,
       "version_minor": 0
      },
      "text/plain": [
       "Calculating likelihoods:   0%|          | 0/3 [00:00<?, ?it/s]"
      ]
     },
     "metadata": {},
     "output_type": "display_data"
    },
    {
     "data": {
      "application/vnd.jupyter.widget-view+json": {
       "model_id": "0a3fe385b8e9438dbc21041bb9432b2d",
       "version_major": 2,
       "version_minor": 0
      },
      "text/plain": [
       "Calculating likelihoods:   0%|          | 0/3 [00:00<?, ?it/s]"
      ]
     },
     "metadata": {},
     "output_type": "display_data"
    },
    {
     "data": {
      "application/vnd.jupyter.widget-view+json": {
       "model_id": "006472ab88304e8a9a3d665112e93f60",
       "version_major": 2,
       "version_minor": 0
      },
      "text/plain": [
       "Calculating likelihoods:   0%|          | 0/3 [00:00<?, ?it/s]"
      ]
     },
     "metadata": {},
     "output_type": "display_data"
    },
    {
     "data": {
      "application/vnd.jupyter.widget-view+json": {
       "model_id": "9e3a715dc85443bcb3cad1e95063a367",
       "version_major": 2,
       "version_minor": 0
      },
      "text/plain": [
       "Calculating likelihoods:   0%|          | 0/3 [00:00<?, ?it/s]"
      ]
     },
     "metadata": {},
     "output_type": "display_data"
    },
    {
     "data": {
      "application/vnd.jupyter.widget-view+json": {
       "model_id": "9e29b68fa1884fdc980decfce0ed2713",
       "version_major": 2,
       "version_minor": 0
      },
      "text/plain": [
       "Calculating likelihoods:   0%|          | 0/3 [00:00<?, ?it/s]"
      ]
     },
     "metadata": {},
     "output_type": "display_data"
    },
    {
     "data": {
      "application/vnd.jupyter.widget-view+json": {
       "model_id": "0e36319677f64a3d8020ec3097d89925",
       "version_major": 2,
       "version_minor": 0
      },
      "text/plain": [
       "Calculating likelihoods:   0%|          | 0/3 [00:00<?, ?it/s]"
      ]
     },
     "metadata": {},
     "output_type": "display_data"
    },
    {
     "data": {
      "application/vnd.jupyter.widget-view+json": {
       "model_id": "4c61e67d899f4f0a881182fff8fd243e",
       "version_major": 2,
       "version_minor": 0
      },
      "text/plain": [
       "Calculating likelihoods:   0%|          | 0/3 [00:00<?, ?it/s]"
      ]
     },
     "metadata": {},
     "output_type": "display_data"
    },
    {
     "data": {
      "application/vnd.jupyter.widget-view+json": {
       "model_id": "29a8ead0e58d41fdb475dcf069808d13",
       "version_major": 2,
       "version_minor": 0
      },
      "text/plain": [
       "Calculating likelihoods:   0%|          | 0/3 [00:00<?, ?it/s]"
      ]
     },
     "metadata": {},
     "output_type": "display_data"
    },
    {
     "data": {
      "application/vnd.jupyter.widget-view+json": {
       "model_id": "7724113a426745b4b98ee96581780549",
       "version_major": 2,
       "version_minor": 0
      },
      "text/plain": [
       "Calculating likelihoods:   0%|          | 0/3 [00:00<?, ?it/s]"
      ]
     },
     "metadata": {},
     "output_type": "display_data"
    },
    {
     "data": {
      "application/vnd.jupyter.widget-view+json": {
       "model_id": "6530f47b58844eff9bf2f878b323eeec",
       "version_major": 2,
       "version_minor": 0
      },
      "text/plain": [
       "Calculating likelihoods:   0%|          | 0/3 [00:00<?, ?it/s]"
      ]
     },
     "metadata": {},
     "output_type": "display_data"
    },
    {
     "data": {
      "application/vnd.jupyter.widget-view+json": {
       "model_id": "79f296460cdc4312b4116a501e18bcd4",
       "version_major": 2,
       "version_minor": 0
      },
      "text/plain": [
       "Calculating likelihoods:   0%|          | 0/3 [00:00<?, ?it/s]"
      ]
     },
     "metadata": {},
     "output_type": "display_data"
    },
    {
     "data": {
      "application/vnd.jupyter.widget-view+json": {
       "model_id": "32a61e58ef3e444890c0b1f19e509073",
       "version_major": 2,
       "version_minor": 0
      },
      "text/plain": [
       "Calculating likelihoods:   0%|          | 0/3 [00:00<?, ?it/s]"
      ]
     },
     "metadata": {},
     "output_type": "display_data"
    },
    {
     "data": {
      "application/vnd.jupyter.widget-view+json": {
       "model_id": "859e77f3349840188d7b545b72e42944",
       "version_major": 2,
       "version_minor": 0
      },
      "text/plain": [
       "Calculating likelihoods:   0%|          | 0/3 [00:00<?, ?it/s]"
      ]
     },
     "metadata": {},
     "output_type": "display_data"
    },
    {
     "data": {
      "application/vnd.jupyter.widget-view+json": {
       "model_id": "cd31473990584298a4f61d87da492a02",
       "version_major": 2,
       "version_minor": 0
      },
      "text/plain": [
       "Calculating likelihoods:   0%|          | 0/3 [00:00<?, ?it/s]"
      ]
     },
     "metadata": {},
     "output_type": "display_data"
    },
    {
     "data": {
      "application/vnd.jupyter.widget-view+json": {
       "model_id": "20dfc7fd04d04c36abed00db00c7b688",
       "version_major": 2,
       "version_minor": 0
      },
      "text/plain": [
       "Calculating likelihoods:   0%|          | 0/3 [00:00<?, ?it/s]"
      ]
     },
     "metadata": {},
     "output_type": "display_data"
    },
    {
     "data": {
      "application/vnd.jupyter.widget-view+json": {
       "model_id": "ab640ce8074a405f95a620168b765493",
       "version_major": 2,
       "version_minor": 0
      },
      "text/plain": [
       "Calculating likelihoods:   0%|          | 0/3 [00:00<?, ?it/s]"
      ]
     },
     "metadata": {},
     "output_type": "display_data"
    },
    {
     "data": {
      "application/vnd.jupyter.widget-view+json": {
       "model_id": "0061d3ed7a394a3fa210b2acc5c42c18",
       "version_major": 2,
       "version_minor": 0
      },
      "text/plain": [
       "Calculating likelihoods:   0%|          | 0/3 [00:00<?, ?it/s]"
      ]
     },
     "metadata": {},
     "output_type": "display_data"
    },
    {
     "data": {
      "application/vnd.jupyter.widget-view+json": {
       "model_id": "6fe35b5e4807477692b46a3946bd0050",
       "version_major": 2,
       "version_minor": 0
      },
      "text/plain": [
       "Calculating likelihoods:   0%|          | 0/3 [00:00<?, ?it/s]"
      ]
     },
     "metadata": {},
     "output_type": "display_data"
    },
    {
     "data": {
      "application/vnd.jupyter.widget-view+json": {
       "model_id": "044a3d4d1d0e4b6cb4260081ed0fddba",
       "version_major": 2,
       "version_minor": 0
      },
      "text/plain": [
       "Calculating likelihoods:   0%|          | 0/3 [00:00<?, ?it/s]"
      ]
     },
     "metadata": {},
     "output_type": "display_data"
    },
    {
     "data": {
      "application/vnd.jupyter.widget-view+json": {
       "model_id": "385120b935d14669838b961f9a750be6",
       "version_major": 2,
       "version_minor": 0
      },
      "text/plain": [
       "Calculating likelihoods:   0%|          | 0/3 [00:00<?, ?it/s]"
      ]
     },
     "metadata": {},
     "output_type": "display_data"
    },
    {
     "data": {
      "application/vnd.jupyter.widget-view+json": {
       "model_id": "5be70c5698444d419b029766299d402c",
       "version_major": 2,
       "version_minor": 0
      },
      "text/plain": [
       "Calculating likelihoods:   0%|          | 0/3 [00:00<?, ?it/s]"
      ]
     },
     "metadata": {},
     "output_type": "display_data"
    },
    {
     "data": {
      "application/vnd.jupyter.widget-view+json": {
       "model_id": "ab0229512e2a4312bbda6681b6e88d5c",
       "version_major": 2,
       "version_minor": 0
      },
      "text/plain": [
       "Calculating likelihoods:   0%|          | 0/3 [00:00<?, ?it/s]"
      ]
     },
     "metadata": {},
     "output_type": "display_data"
    },
    {
     "data": {
      "application/vnd.jupyter.widget-view+json": {
       "model_id": "a00fa0fd35bd4626830c5b2e2b512b0b",
       "version_major": 2,
       "version_minor": 0
      },
      "text/plain": [
       "Calculating likelihoods:   0%|          | 0/3 [00:00<?, ?it/s]"
      ]
     },
     "metadata": {},
     "output_type": "display_data"
    },
    {
     "data": {
      "application/vnd.jupyter.widget-view+json": {
       "model_id": "49204900b73045f489edf2474232d0c0",
       "version_major": 2,
       "version_minor": 0
      },
      "text/plain": [
       "Calculating likelihoods:   0%|          | 0/3 [00:00<?, ?it/s]"
      ]
     },
     "metadata": {},
     "output_type": "display_data"
    },
    {
     "data": {
      "application/vnd.jupyter.widget-view+json": {
       "model_id": "2bfc12b67a7e43fbaade7eb0544ac61c",
       "version_major": 2,
       "version_minor": 0
      },
      "text/plain": [
       "Calculating likelihoods:   0%|          | 0/3 [00:00<?, ?it/s]"
      ]
     },
     "metadata": {},
     "output_type": "display_data"
    },
    {
     "data": {
      "application/vnd.jupyter.widget-view+json": {
       "model_id": "2eb1b9b9afd64b8db396a7c882b32a5e",
       "version_major": 2,
       "version_minor": 0
      },
      "text/plain": [
       "Calculating likelihoods:   0%|          | 0/3 [00:00<?, ?it/s]"
      ]
     },
     "metadata": {},
     "output_type": "display_data"
    },
    {
     "data": {
      "application/vnd.jupyter.widget-view+json": {
       "model_id": "b82ec0bec6774788bc8eca7928e44614",
       "version_major": 2,
       "version_minor": 0
      },
      "text/plain": [
       "Calculating likelihoods:   0%|          | 0/3 [00:00<?, ?it/s]"
      ]
     },
     "metadata": {},
     "output_type": "display_data"
    },
    {
     "data": {
      "application/vnd.jupyter.widget-view+json": {
       "model_id": "64a29529a63e44689c5eb0aa8ecda56a",
       "version_major": 2,
       "version_minor": 0
      },
      "text/plain": [
       "Calculating likelihoods:   0%|          | 0/3 [00:00<?, ?it/s]"
      ]
     },
     "metadata": {},
     "output_type": "display_data"
    },
    {
     "data": {
      "application/vnd.jupyter.widget-view+json": {
       "model_id": "f4804be43fa44ab497b3dc3edbc2c26b",
       "version_major": 2,
       "version_minor": 0
      },
      "text/plain": [
       "Calculating likelihoods:   0%|          | 0/3 [00:00<?, ?it/s]"
      ]
     },
     "metadata": {},
     "output_type": "display_data"
    },
    {
     "data": {
      "application/vnd.jupyter.widget-view+json": {
       "model_id": "9f311768eed247718c1b967aaed50b60",
       "version_major": 2,
       "version_minor": 0
      },
      "text/plain": [
       "Calculating likelihoods:   0%|          | 0/3 [00:00<?, ?it/s]"
      ]
     },
     "metadata": {},
     "output_type": "display_data"
    },
    {
     "data": {
      "application/vnd.jupyter.widget-view+json": {
       "model_id": "ec424dcd75f84d4990f3e7222daae317",
       "version_major": 2,
       "version_minor": 0
      },
      "text/plain": [
       "Calculating likelihoods:   0%|          | 0/3 [00:00<?, ?it/s]"
      ]
     },
     "metadata": {},
     "output_type": "display_data"
    },
    {
     "data": {
      "application/vnd.jupyter.widget-view+json": {
       "model_id": "92647bcdbb2543b3b26796185555206a",
       "version_major": 2,
       "version_minor": 0
      },
      "text/plain": [
       "Calculating likelihoods:   0%|          | 0/3 [00:00<?, ?it/s]"
      ]
     },
     "metadata": {},
     "output_type": "display_data"
    },
    {
     "data": {
      "application/vnd.jupyter.widget-view+json": {
       "model_id": "bf4bef936e284c58a984d2617b447be0",
       "version_major": 2,
       "version_minor": 0
      },
      "text/plain": [
       "Calculating likelihoods:   0%|          | 0/3 [00:00<?, ?it/s]"
      ]
     },
     "metadata": {},
     "output_type": "display_data"
    },
    {
     "data": {
      "application/vnd.jupyter.widget-view+json": {
       "model_id": "ee5b128ad22846b899f0a4e52fc11aae",
       "version_major": 2,
       "version_minor": 0
      },
      "text/plain": [
       "Calculating likelihoods:   0%|          | 0/3 [00:00<?, ?it/s]"
      ]
     },
     "metadata": {},
     "output_type": "display_data"
    },
    {
     "data": {
      "application/vnd.jupyter.widget-view+json": {
       "model_id": "74f123fff28243db9141e23007996e3e",
       "version_major": 2,
       "version_minor": 0
      },
      "text/plain": [
       "Calculating likelihoods:   0%|          | 0/3 [00:00<?, ?it/s]"
      ]
     },
     "metadata": {},
     "output_type": "display_data"
    },
    {
     "data": {
      "application/vnd.jupyter.widget-view+json": {
       "model_id": "2d94ebf4a70546d3926dbe1f681bb025",
       "version_major": 2,
       "version_minor": 0
      },
      "text/plain": [
       "Calculating likelihoods:   0%|          | 0/3 [00:00<?, ?it/s]"
      ]
     },
     "metadata": {},
     "output_type": "display_data"
    },
    {
     "data": {
      "application/vnd.jupyter.widget-view+json": {
       "model_id": "31a98f646ceb4632834b6334a93e1f93",
       "version_major": 2,
       "version_minor": 0
      },
      "text/plain": [
       "Calculating likelihoods:   0%|          | 0/3 [00:00<?, ?it/s]"
      ]
     },
     "metadata": {},
     "output_type": "display_data"
    },
    {
     "data": {
      "application/vnd.jupyter.widget-view+json": {
       "model_id": "842900749c0e476d9a996bf0b19f7a59",
       "version_major": 2,
       "version_minor": 0
      },
      "text/plain": [
       "Calculating likelihoods:   0%|          | 0/3 [00:00<?, ?it/s]"
      ]
     },
     "metadata": {},
     "output_type": "display_data"
    },
    {
     "data": {
      "application/vnd.jupyter.widget-view+json": {
       "model_id": "ef05db8c0b7242319c6822f457c74aa0",
       "version_major": 2,
       "version_minor": 0
      },
      "text/plain": [
       "Calculating likelihoods:   0%|          | 0/3 [00:00<?, ?it/s]"
      ]
     },
     "metadata": {},
     "output_type": "display_data"
    },
    {
     "data": {
      "application/vnd.jupyter.widget-view+json": {
       "model_id": "2e3c4cba592e4ae2865f03a9f9d7a7e0",
       "version_major": 2,
       "version_minor": 0
      },
      "text/plain": [
       "Calculating likelihoods:   0%|          | 0/3 [00:00<?, ?it/s]"
      ]
     },
     "metadata": {},
     "output_type": "display_data"
    },
    {
     "data": {
      "application/vnd.jupyter.widget-view+json": {
       "model_id": "c91e17f3f2b44c9f93f8eb34fca6b5a2",
       "version_major": 2,
       "version_minor": 0
      },
      "text/plain": [
       "Calculating likelihoods:   0%|          | 0/3 [00:00<?, ?it/s]"
      ]
     },
     "metadata": {},
     "output_type": "display_data"
    },
    {
     "data": {
      "application/vnd.jupyter.widget-view+json": {
       "model_id": "baaa6cfea73f4464a7f7e7230edabdce",
       "version_major": 2,
       "version_minor": 0
      },
      "text/plain": [
       "Calculating likelihoods:   0%|          | 0/3 [00:00<?, ?it/s]"
      ]
     },
     "metadata": {},
     "output_type": "display_data"
    },
    {
     "data": {
      "application/vnd.jupyter.widget-view+json": {
       "model_id": "ef36425bb0e9464bbf9bf3e98c23cb18",
       "version_major": 2,
       "version_minor": 0
      },
      "text/plain": [
       "Calculating likelihoods:   0%|          | 0/3 [00:00<?, ?it/s]"
      ]
     },
     "metadata": {},
     "output_type": "display_data"
    },
    {
     "data": {
      "application/vnd.jupyter.widget-view+json": {
       "model_id": "de9d5200334e47dfa549e56e95a5c89d",
       "version_major": 2,
       "version_minor": 0
      },
      "text/plain": [
       "Calculating likelihoods:   0%|          | 0/3 [00:00<?, ?it/s]"
      ]
     },
     "metadata": {},
     "output_type": "display_data"
    },
    {
     "data": {
      "application/vnd.jupyter.widget-view+json": {
       "model_id": "1f71e49c8df84d438605df7ab29a24e4",
       "version_major": 2,
       "version_minor": 0
      },
      "text/plain": [
       "Calculating likelihoods:   0%|          | 0/3 [00:00<?, ?it/s]"
      ]
     },
     "metadata": {},
     "output_type": "display_data"
    },
    {
     "data": {
      "application/vnd.jupyter.widget-view+json": {
       "model_id": "b5d377af77fc47e0a81e61e08a4f1671",
       "version_major": 2,
       "version_minor": 0
      },
      "text/plain": [
       "Calculating likelihoods:   0%|          | 0/3 [00:00<?, ?it/s]"
      ]
     },
     "metadata": {},
     "output_type": "display_data"
    },
    {
     "data": {
      "application/vnd.jupyter.widget-view+json": {
       "model_id": "2df21672cf044c7eb30cd26feddbf795",
       "version_major": 2,
       "version_minor": 0
      },
      "text/plain": [
       "Calculating likelihoods:   0%|          | 0/3 [00:00<?, ?it/s]"
      ]
     },
     "metadata": {},
     "output_type": "display_data"
    },
    {
     "data": {
      "application/vnd.jupyter.widget-view+json": {
       "model_id": "13f5cfde085444e5aabc899e4fc46f40",
       "version_major": 2,
       "version_minor": 0
      },
      "text/plain": [
       "Calculating likelihoods:   0%|          | 0/3 [00:00<?, ?it/s]"
      ]
     },
     "metadata": {},
     "output_type": "display_data"
    },
    {
     "data": {
      "application/vnd.jupyter.widget-view+json": {
       "model_id": "e6440e3850eb4f66879565ea70c6bd43",
       "version_major": 2,
       "version_minor": 0
      },
      "text/plain": [
       "Calculating likelihoods:   0%|          | 0/3 [00:00<?, ?it/s]"
      ]
     },
     "metadata": {},
     "output_type": "display_data"
    },
    {
     "data": {
      "application/vnd.jupyter.widget-view+json": {
       "model_id": "4c2f9b5bc22748659f670026baf9f8ae",
       "version_major": 2,
       "version_minor": 0
      },
      "text/plain": [
       "Calculating likelihoods:   0%|          | 0/3 [00:00<?, ?it/s]"
      ]
     },
     "metadata": {},
     "output_type": "display_data"
    },
    {
     "data": {
      "application/vnd.jupyter.widget-view+json": {
       "model_id": "ec1b276bf142429eacfc70e0df0697cc",
       "version_major": 2,
       "version_minor": 0
      },
      "text/plain": [
       "Calculating likelihoods:   0%|          | 0/3 [00:00<?, ?it/s]"
      ]
     },
     "metadata": {},
     "output_type": "display_data"
    },
    {
     "data": {
      "application/vnd.jupyter.widget-view+json": {
       "model_id": "8c868d7e1fbe4741a3b4ee8976ebd4c0",
       "version_major": 2,
       "version_minor": 0
      },
      "text/plain": [
       "Calculating likelihoods:   0%|          | 0/3 [00:00<?, ?it/s]"
      ]
     },
     "metadata": {},
     "output_type": "display_data"
    },
    {
     "data": {
      "application/vnd.jupyter.widget-view+json": {
       "model_id": "221a937c330c4d0a8349b9ac18efde0d",
       "version_major": 2,
       "version_minor": 0
      },
      "text/plain": [
       "Calculating likelihoods:   0%|          | 0/3 [00:00<?, ?it/s]"
      ]
     },
     "metadata": {},
     "output_type": "display_data"
    },
    {
     "data": {
      "application/vnd.jupyter.widget-view+json": {
       "model_id": "84e1971a3fe746cf921a161c94b05fae",
       "version_major": 2,
       "version_minor": 0
      },
      "text/plain": [
       "Calculating likelihoods:   0%|          | 0/3 [00:00<?, ?it/s]"
      ]
     },
     "metadata": {},
     "output_type": "display_data"
    },
    {
     "data": {
      "application/vnd.jupyter.widget-view+json": {
       "model_id": "25d672f80be34edc80c04cb1dabff1af",
       "version_major": 2,
       "version_minor": 0
      },
      "text/plain": [
       "Calculating likelihoods:   0%|          | 0/3 [00:00<?, ?it/s]"
      ]
     },
     "metadata": {},
     "output_type": "display_data"
    },
    {
     "data": {
      "application/vnd.jupyter.widget-view+json": {
       "model_id": "9fc73596124b47f0a45c7d53bef5a218",
       "version_major": 2,
       "version_minor": 0
      },
      "text/plain": [
       "Calculating likelihoods:   0%|          | 0/3 [00:00<?, ?it/s]"
      ]
     },
     "metadata": {},
     "output_type": "display_data"
    },
    {
     "data": {
      "application/vnd.jupyter.widget-view+json": {
       "model_id": "013b56eba35b47cdb6d1ed40f77f71a2",
       "version_major": 2,
       "version_minor": 0
      },
      "text/plain": [
       "Calculating likelihoods:   0%|          | 0/3 [00:00<?, ?it/s]"
      ]
     },
     "metadata": {},
     "output_type": "display_data"
    },
    {
     "data": {
      "application/vnd.jupyter.widget-view+json": {
       "model_id": "e54a64b0936a481b9d41a90e021a0a72",
       "version_major": 2,
       "version_minor": 0
      },
      "text/plain": [
       "Calculating likelihoods:   0%|          | 0/3 [00:00<?, ?it/s]"
      ]
     },
     "metadata": {},
     "output_type": "display_data"
    },
    {
     "data": {
      "application/vnd.jupyter.widget-view+json": {
       "model_id": "5e66f1204ec4478bb9fa45610d9c1c29",
       "version_major": 2,
       "version_minor": 0
      },
      "text/plain": [
       "Calculating likelihoods:   0%|          | 0/3 [00:00<?, ?it/s]"
      ]
     },
     "metadata": {},
     "output_type": "display_data"
    },
    {
     "data": {
      "application/vnd.jupyter.widget-view+json": {
       "model_id": "5dfc435cb3174f60a1a430103cecf613",
       "version_major": 2,
       "version_minor": 0
      },
      "text/plain": [
       "Calculating likelihoods:   0%|          | 0/3 [00:00<?, ?it/s]"
      ]
     },
     "metadata": {},
     "output_type": "display_data"
    },
    {
     "data": {
      "application/vnd.jupyter.widget-view+json": {
       "model_id": "a99ad86996054e888a716ff47dd30afb",
       "version_major": 2,
       "version_minor": 0
      },
      "text/plain": [
       "Calculating likelihoods:   0%|          | 0/3 [00:00<?, ?it/s]"
      ]
     },
     "metadata": {},
     "output_type": "display_data"
    },
    {
     "data": {
      "application/vnd.jupyter.widget-view+json": {
       "model_id": "db58967abde54ddbb453239cf7b4fa64",
       "version_major": 2,
       "version_minor": 0
      },
      "text/plain": [
       "Calculating likelihoods:   0%|          | 0/3 [00:00<?, ?it/s]"
      ]
     },
     "metadata": {},
     "output_type": "display_data"
    },
    {
     "data": {
      "application/vnd.jupyter.widget-view+json": {
       "model_id": "63c249ed2c854a34b48fb4722fe9ee1a",
       "version_major": 2,
       "version_minor": 0
      },
      "text/plain": [
       "Calculating likelihoods:   0%|          | 0/3 [00:00<?, ?it/s]"
      ]
     },
     "metadata": {},
     "output_type": "display_data"
    },
    {
     "data": {
      "application/vnd.jupyter.widget-view+json": {
       "model_id": "de7165b3c650414d81effef622cd14c6",
       "version_major": 2,
       "version_minor": 0
      },
      "text/plain": [
       "Calculating likelihoods:   0%|          | 0/3 [00:00<?, ?it/s]"
      ]
     },
     "metadata": {},
     "output_type": "display_data"
    },
    {
     "data": {
      "application/vnd.jupyter.widget-view+json": {
       "model_id": "ffd79ef3eed242bb9d9d7b48a58cc7a7",
       "version_major": 2,
       "version_minor": 0
      },
      "text/plain": [
       "Calculating likelihoods:   0%|          | 0/3 [00:00<?, ?it/s]"
      ]
     },
     "metadata": {},
     "output_type": "display_data"
    },
    {
     "data": {
      "application/vnd.jupyter.widget-view+json": {
       "model_id": "a5224889f68a491fad53acdeb52f53d8",
       "version_major": 2,
       "version_minor": 0
      },
      "text/plain": [
       "Calculating likelihoods:   0%|          | 0/3 [00:00<?, ?it/s]"
      ]
     },
     "metadata": {},
     "output_type": "display_data"
    },
    {
     "data": {
      "application/vnd.jupyter.widget-view+json": {
       "model_id": "ea9d7bf0a3e64c3a8e67fa0a6bab3307",
       "version_major": 2,
       "version_minor": 0
      },
      "text/plain": [
       "Calculating likelihoods:   0%|          | 0/3 [00:00<?, ?it/s]"
      ]
     },
     "metadata": {},
     "output_type": "display_data"
    },
    {
     "data": {
      "application/vnd.jupyter.widget-view+json": {
       "model_id": "6b6cb247db5e418e85b55f5a703ccf50",
       "version_major": 2,
       "version_minor": 0
      },
      "text/plain": [
       "Calculating likelihoods:   0%|          | 0/3 [00:00<?, ?it/s]"
      ]
     },
     "metadata": {},
     "output_type": "display_data"
    },
    {
     "data": {
      "application/vnd.jupyter.widget-view+json": {
       "model_id": "83cb57757baa41b7bcce5483eaefce4a",
       "version_major": 2,
       "version_minor": 0
      },
      "text/plain": [
       "Calculating likelihoods:   0%|          | 0/3 [00:00<?, ?it/s]"
      ]
     },
     "metadata": {},
     "output_type": "display_data"
    },
    {
     "data": {
      "application/vnd.jupyter.widget-view+json": {
       "model_id": "91542b6939cb4fb9891b675b07db65d5",
       "version_major": 2,
       "version_minor": 0
      },
      "text/plain": [
       "Calculating likelihoods:   0%|          | 0/3 [00:00<?, ?it/s]"
      ]
     },
     "metadata": {},
     "output_type": "display_data"
    },
    {
     "data": {
      "application/vnd.jupyter.widget-view+json": {
       "model_id": "b55c27bd7d35426d9c94881210200eea",
       "version_major": 2,
       "version_minor": 0
      },
      "text/plain": [
       "Calculating likelihoods:   0%|          | 0/3 [00:00<?, ?it/s]"
      ]
     },
     "metadata": {},
     "output_type": "display_data"
    },
    {
     "data": {
      "application/vnd.jupyter.widget-view+json": {
       "model_id": "edd9a5e65dfc450dbf40bfad64de4bb3",
       "version_major": 2,
       "version_minor": 0
      },
      "text/plain": [
       "Calculating likelihoods:   0%|          | 0/3 [00:00<?, ?it/s]"
      ]
     },
     "metadata": {},
     "output_type": "display_data"
    },
    {
     "data": {
      "application/vnd.jupyter.widget-view+json": {
       "model_id": "31a9c647e4f246179d4b4c855f1e7e26",
       "version_major": 2,
       "version_minor": 0
      },
      "text/plain": [
       "Calculating likelihoods:   0%|          | 0/3 [00:00<?, ?it/s]"
      ]
     },
     "metadata": {},
     "output_type": "display_data"
    },
    {
     "data": {
      "application/vnd.jupyter.widget-view+json": {
       "model_id": "b9ca3542f811452a8600189cd5cdb6fd",
       "version_major": 2,
       "version_minor": 0
      },
      "text/plain": [
       "Calculating likelihoods:   0%|          | 0/3 [00:00<?, ?it/s]"
      ]
     },
     "metadata": {},
     "output_type": "display_data"
    },
    {
     "data": {
      "application/vnd.jupyter.widget-view+json": {
       "model_id": "4fdcbb9bfceb4f128f537c177dd31945",
       "version_major": 2,
       "version_minor": 0
      },
      "text/plain": [
       "Calculating likelihoods:   0%|          | 0/3 [00:00<?, ?it/s]"
      ]
     },
     "metadata": {},
     "output_type": "display_data"
    },
    {
     "data": {
      "application/vnd.jupyter.widget-view+json": {
       "model_id": "e855c19032704261972d1ddf77be42ff",
       "version_major": 2,
       "version_minor": 0
      },
      "text/plain": [
       "Calculating likelihoods:   0%|          | 0/3 [00:00<?, ?it/s]"
      ]
     },
     "metadata": {},
     "output_type": "display_data"
    },
    {
     "data": {
      "application/vnd.jupyter.widget-view+json": {
       "model_id": "ada69f1ccdaa4a879cfb66de98f0d443",
       "version_major": 2,
       "version_minor": 0
      },
      "text/plain": [
       "Calculating likelihoods:   0%|          | 0/3 [00:00<?, ?it/s]"
      ]
     },
     "metadata": {},
     "output_type": "display_data"
    },
    {
     "data": {
      "application/vnd.jupyter.widget-view+json": {
       "model_id": "5e77b502875840f8a323d0824dc45845",
       "version_major": 2,
       "version_minor": 0
      },
      "text/plain": [
       "Calculating likelihoods:   0%|          | 0/3 [00:00<?, ?it/s]"
      ]
     },
     "metadata": {},
     "output_type": "display_data"
    },
    {
     "data": {
      "application/vnd.jupyter.widget-view+json": {
       "model_id": "829812c7548a43a18972a938df1d82ba",
       "version_major": 2,
       "version_minor": 0
      },
      "text/plain": [
       "Calculating likelihoods:   0%|          | 0/3 [00:00<?, ?it/s]"
      ]
     },
     "metadata": {},
     "output_type": "display_data"
    },
    {
     "data": {
      "application/vnd.jupyter.widget-view+json": {
       "model_id": "a7de8c32b7c34c43867acedbc27cfc13",
       "version_major": 2,
       "version_minor": 0
      },
      "text/plain": [
       "Calculating likelihoods:   0%|          | 0/3 [00:00<?, ?it/s]"
      ]
     },
     "metadata": {},
     "output_type": "display_data"
    },
    {
     "data": {
      "application/vnd.jupyter.widget-view+json": {
       "model_id": "fbe83575a62b4e3ab2f421db05d0fe87",
       "version_major": 2,
       "version_minor": 0
      },
      "text/plain": [
       "Calculating likelihoods:   0%|          | 0/3 [00:00<?, ?it/s]"
      ]
     },
     "metadata": {},
     "output_type": "display_data"
    },
    {
     "data": {
      "application/vnd.jupyter.widget-view+json": {
       "model_id": "d9d2d68ca3e940a09be0910df12a66f6",
       "version_major": 2,
       "version_minor": 0
      },
      "text/plain": [
       "Calculating likelihoods:   0%|          | 0/3 [00:00<?, ?it/s]"
      ]
     },
     "metadata": {},
     "output_type": "display_data"
    },
    {
     "data": {
      "application/vnd.jupyter.widget-view+json": {
       "model_id": "c3990c34b7e74eff9cb198ce3745c131",
       "version_major": 2,
       "version_minor": 0
      },
      "text/plain": [
       "Calculating likelihoods:   0%|          | 0/3 [00:00<?, ?it/s]"
      ]
     },
     "metadata": {},
     "output_type": "display_data"
    },
    {
     "data": {
      "application/vnd.jupyter.widget-view+json": {
       "model_id": "6049e788e06749fc85f41896ed4fcc97",
       "version_major": 2,
       "version_minor": 0
      },
      "text/plain": [
       "Calculating likelihoods:   0%|          | 0/3 [00:00<?, ?it/s]"
      ]
     },
     "metadata": {},
     "output_type": "display_data"
    },
    {
     "data": {
      "application/vnd.jupyter.widget-view+json": {
       "model_id": "1bf7ae28210d49efb23f71d1413bf2c9",
       "version_major": 2,
       "version_minor": 0
      },
      "text/plain": [
       "Calculating likelihoods:   0%|          | 0/3 [00:00<?, ?it/s]"
      ]
     },
     "metadata": {},
     "output_type": "display_data"
    },
    {
     "data": {
      "application/vnd.jupyter.widget-view+json": {
       "model_id": "0c868a3053954197b81b1f1f794ed292",
       "version_major": 2,
       "version_minor": 0
      },
      "text/plain": [
       "Calculating likelihoods:   0%|          | 0/3 [00:00<?, ?it/s]"
      ]
     },
     "metadata": {},
     "output_type": "display_data"
    },
    {
     "data": {
      "application/vnd.jupyter.widget-view+json": {
       "model_id": "1852fd72e8c8420996bf5d58107647ed",
       "version_major": 2,
       "version_minor": 0
      },
      "text/plain": [
       "Calculating likelihoods:   0%|          | 0/3 [00:00<?, ?it/s]"
      ]
     },
     "metadata": {},
     "output_type": "display_data"
    },
    {
     "data": {
      "application/vnd.jupyter.widget-view+json": {
       "model_id": "9136be2642cd47a295dbf53f6e0f75c5",
       "version_major": 2,
       "version_minor": 0
      },
      "text/plain": [
       "Calculating likelihoods:   0%|          | 0/3 [00:00<?, ?it/s]"
      ]
     },
     "metadata": {},
     "output_type": "display_data"
    },
    {
     "data": {
      "application/vnd.jupyter.widget-view+json": {
       "model_id": "1e8976602ac948718d217e198dbccf90",
       "version_major": 2,
       "version_minor": 0
      },
      "text/plain": [
       "Calculating likelihoods:   0%|          | 0/3 [00:00<?, ?it/s]"
      ]
     },
     "metadata": {},
     "output_type": "display_data"
    },
    {
     "data": {
      "application/vnd.jupyter.widget-view+json": {
       "model_id": "5d6dce2d889040928862a595566e1403",
       "version_major": 2,
       "version_minor": 0
      },
      "text/plain": [
       "Calculating likelihoods:   0%|          | 0/3 [00:00<?, ?it/s]"
      ]
     },
     "metadata": {},
     "output_type": "display_data"
    },
    {
     "data": {
      "application/vnd.jupyter.widget-view+json": {
       "model_id": "620484a89ce34ff4ae1e2160ae24a529",
       "version_major": 2,
       "version_minor": 0
      },
      "text/plain": [
       "Calculating likelihoods:   0%|          | 0/3 [00:00<?, ?it/s]"
      ]
     },
     "metadata": {},
     "output_type": "display_data"
    },
    {
     "data": {
      "application/vnd.jupyter.widget-view+json": {
       "model_id": "5c7cce6588e7482bb9f1367837258a1c",
       "version_major": 2,
       "version_minor": 0
      },
      "text/plain": [
       "Calculating likelihoods:   0%|          | 0/3 [00:00<?, ?it/s]"
      ]
     },
     "metadata": {},
     "output_type": "display_data"
    },
    {
     "data": {
      "application/vnd.jupyter.widget-view+json": {
       "model_id": "42fb5da53489442ea582bb3f98e9d2ea",
       "version_major": 2,
       "version_minor": 0
      },
      "text/plain": [
       "Calculating likelihoods:   0%|          | 0/3 [00:00<?, ?it/s]"
      ]
     },
     "metadata": {},
     "output_type": "display_data"
    },
    {
     "data": {
      "application/vnd.jupyter.widget-view+json": {
       "model_id": "4c4d2655a5e245a3a4ec5eee288b9908",
       "version_major": 2,
       "version_minor": 0
      },
      "text/plain": [
       "Calculating likelihoods:   0%|          | 0/3 [00:00<?, ?it/s]"
      ]
     },
     "metadata": {},
     "output_type": "display_data"
    },
    {
     "data": {
      "application/vnd.jupyter.widget-view+json": {
       "model_id": "50b9b5e0be3e49a3aec0b5745f2856bb",
       "version_major": 2,
       "version_minor": 0
      },
      "text/plain": [
       "Calculating likelihoods:   0%|          | 0/3 [00:00<?, ?it/s]"
      ]
     },
     "metadata": {},
     "output_type": "display_data"
    },
    {
     "data": {
      "application/vnd.jupyter.widget-view+json": {
       "model_id": "97022e95647a4549a73728e9cd3d1a0f",
       "version_major": 2,
       "version_minor": 0
      },
      "text/plain": [
       "Calculating likelihoods:   0%|          | 0/3 [00:00<?, ?it/s]"
      ]
     },
     "metadata": {},
     "output_type": "display_data"
    },
    {
     "data": {
      "application/vnd.jupyter.widget-view+json": {
       "model_id": "2c6f05305a8c418887d91765f575f545",
       "version_major": 2,
       "version_minor": 0
      },
      "text/plain": [
       "Calculating likelihoods:   0%|          | 0/3 [00:00<?, ?it/s]"
      ]
     },
     "metadata": {},
     "output_type": "display_data"
    },
    {
     "data": {
      "application/vnd.jupyter.widget-view+json": {
       "model_id": "a8f7c9e92c44491f849db043149123fe",
       "version_major": 2,
       "version_minor": 0
      },
      "text/plain": [
       "Calculating likelihoods:   0%|          | 0/3 [00:00<?, ?it/s]"
      ]
     },
     "metadata": {},
     "output_type": "display_data"
    },
    {
     "data": {
      "application/vnd.jupyter.widget-view+json": {
       "model_id": "5a474ec69444482086194f1258756834",
       "version_major": 2,
       "version_minor": 0
      },
      "text/plain": [
       "Calculating likelihoods:   0%|          | 0/3 [00:00<?, ?it/s]"
      ]
     },
     "metadata": {},
     "output_type": "display_data"
    },
    {
     "data": {
      "application/vnd.jupyter.widget-view+json": {
       "model_id": "baf32527e9b547688fd13ea5cd63e29b",
       "version_major": 2,
       "version_minor": 0
      },
      "text/plain": [
       "Calculating likelihoods:   0%|          | 0/3 [00:00<?, ?it/s]"
      ]
     },
     "metadata": {},
     "output_type": "display_data"
    },
    {
     "data": {
      "application/vnd.jupyter.widget-view+json": {
       "model_id": "73171eaccfea4d7690850de5c357777c",
       "version_major": 2,
       "version_minor": 0
      },
      "text/plain": [
       "Calculating likelihoods:   0%|          | 0/3 [00:00<?, ?it/s]"
      ]
     },
     "metadata": {},
     "output_type": "display_data"
    },
    {
     "data": {
      "application/vnd.jupyter.widget-view+json": {
       "model_id": "828b4ad5430a4b30ade25dfae91f4ff4",
       "version_major": 2,
       "version_minor": 0
      },
      "text/plain": [
       "Calculating likelihoods:   0%|          | 0/3 [00:00<?, ?it/s]"
      ]
     },
     "metadata": {},
     "output_type": "display_data"
    },
    {
     "data": {
      "application/vnd.jupyter.widget-view+json": {
       "model_id": "179ac4dc167a4c26b20df0c8698c8786",
       "version_major": 2,
       "version_minor": 0
      },
      "text/plain": [
       "Calculating likelihoods:   0%|          | 0/3 [00:00<?, ?it/s]"
      ]
     },
     "metadata": {},
     "output_type": "display_data"
    },
    {
     "data": {
      "application/vnd.jupyter.widget-view+json": {
       "model_id": "6f63038477d74c5b988079239cafec9b",
       "version_major": 2,
       "version_minor": 0
      },
      "text/plain": [
       "Calculating likelihoods:   0%|          | 0/3 [00:00<?, ?it/s]"
      ]
     },
     "metadata": {},
     "output_type": "display_data"
    },
    {
     "data": {
      "application/vnd.jupyter.widget-view+json": {
       "model_id": "891e6242acfd418f96c74a67ade6ad4b",
       "version_major": 2,
       "version_minor": 0
      },
      "text/plain": [
       "Calculating likelihoods:   0%|          | 0/3 [00:00<?, ?it/s]"
      ]
     },
     "metadata": {},
     "output_type": "display_data"
    },
    {
     "data": {
      "application/vnd.jupyter.widget-view+json": {
       "model_id": "9d67b374ebbd4805b307618cb4b09ed0",
       "version_major": 2,
       "version_minor": 0
      },
      "text/plain": [
       "Calculating likelihoods:   0%|          | 0/3 [00:00<?, ?it/s]"
      ]
     },
     "metadata": {},
     "output_type": "display_data"
    },
    {
     "data": {
      "application/vnd.jupyter.widget-view+json": {
       "model_id": "c80db1f67bc64097a5faf8f8da280e94",
       "version_major": 2,
       "version_minor": 0
      },
      "text/plain": [
       "Calculating likelihoods:   0%|          | 0/3 [00:00<?, ?it/s]"
      ]
     },
     "metadata": {},
     "output_type": "display_data"
    },
    {
     "data": {
      "application/vnd.jupyter.widget-view+json": {
       "model_id": "58c049563f8642e0947586bbe229c6eb",
       "version_major": 2,
       "version_minor": 0
      },
      "text/plain": [
       "Calculating likelihoods:   0%|          | 0/3 [00:00<?, ?it/s]"
      ]
     },
     "metadata": {},
     "output_type": "display_data"
    },
    {
     "data": {
      "application/vnd.jupyter.widget-view+json": {
       "model_id": "ca97b9f90b1a4010aa3088da7f42e074",
       "version_major": 2,
       "version_minor": 0
      },
      "text/plain": [
       "Calculating likelihoods:   0%|          | 0/3 [00:00<?, ?it/s]"
      ]
     },
     "metadata": {},
     "output_type": "display_data"
    },
    {
     "data": {
      "application/vnd.jupyter.widget-view+json": {
       "model_id": "64707090e55c43439a4418846a608821",
       "version_major": 2,
       "version_minor": 0
      },
      "text/plain": [
       "Calculating likelihoods:   0%|          | 0/3 [00:00<?, ?it/s]"
      ]
     },
     "metadata": {},
     "output_type": "display_data"
    },
    {
     "data": {
      "application/vnd.jupyter.widget-view+json": {
       "model_id": "d05bf0c8055f4bab97e39aeae2c15860",
       "version_major": 2,
       "version_minor": 0
      },
      "text/plain": [
       "Calculating likelihoods:   0%|          | 0/3 [00:00<?, ?it/s]"
      ]
     },
     "metadata": {},
     "output_type": "display_data"
    },
    {
     "data": {
      "application/vnd.jupyter.widget-view+json": {
       "model_id": "4b1a6fd7930a49bbb0d20dc3df4c6368",
       "version_major": 2,
       "version_minor": 0
      },
      "text/plain": [
       "Calculating likelihoods:   0%|          | 0/3 [00:00<?, ?it/s]"
      ]
     },
     "metadata": {},
     "output_type": "display_data"
    },
    {
     "data": {
      "application/vnd.jupyter.widget-view+json": {
       "model_id": "158651d35a614f2b82d6f3209268ad11",
       "version_major": 2,
       "version_minor": 0
      },
      "text/plain": [
       "Calculating likelihoods:   0%|          | 0/3 [00:00<?, ?it/s]"
      ]
     },
     "metadata": {},
     "output_type": "display_data"
    },
    {
     "data": {
      "application/vnd.jupyter.widget-view+json": {
       "model_id": "7fa91b1aab4540cca01e5e30855f16c9",
       "version_major": 2,
       "version_minor": 0
      },
      "text/plain": [
       "Calculating likelihoods:   0%|          | 0/3 [00:00<?, ?it/s]"
      ]
     },
     "metadata": {},
     "output_type": "display_data"
    },
    {
     "data": {
      "application/vnd.jupyter.widget-view+json": {
       "model_id": "c1239d76a7e2425bbe3fc78651bf59b9",
       "version_major": 2,
       "version_minor": 0
      },
      "text/plain": [
       "Calculating likelihoods:   0%|          | 0/3 [00:00<?, ?it/s]"
      ]
     },
     "metadata": {},
     "output_type": "display_data"
    },
    {
     "data": {
      "application/vnd.jupyter.widget-view+json": {
       "model_id": "7db2a90850e8479b9dcecae594fcfe38",
       "version_major": 2,
       "version_minor": 0
      },
      "text/plain": [
       "Calculating likelihoods:   0%|          | 0/3 [00:00<?, ?it/s]"
      ]
     },
     "metadata": {},
     "output_type": "display_data"
    },
    {
     "data": {
      "application/vnd.jupyter.widget-view+json": {
       "model_id": "01581c0c4d584115bd5eb4d72e2a1fe3",
       "version_major": 2,
       "version_minor": 0
      },
      "text/plain": [
       "Calculating likelihoods:   0%|          | 0/3 [00:00<?, ?it/s]"
      ]
     },
     "metadata": {},
     "output_type": "display_data"
    },
    {
     "data": {
      "application/vnd.jupyter.widget-view+json": {
       "model_id": "46d43f8f25664816a672b743cb368234",
       "version_major": 2,
       "version_minor": 0
      },
      "text/plain": [
       "Calculating likelihoods:   0%|          | 0/3 [00:00<?, ?it/s]"
      ]
     },
     "metadata": {},
     "output_type": "display_data"
    },
    {
     "data": {
      "application/vnd.jupyter.widget-view+json": {
       "model_id": "bb4ef7c53bac4f2d9d981d4de685a4cb",
       "version_major": 2,
       "version_minor": 0
      },
      "text/plain": [
       "Calculating likelihoods:   0%|          | 0/3 [00:00<?, ?it/s]"
      ]
     },
     "metadata": {},
     "output_type": "display_data"
    },
    {
     "data": {
      "application/vnd.jupyter.widget-view+json": {
       "model_id": "1f55870db67a4538a6470719780fe579",
       "version_major": 2,
       "version_minor": 0
      },
      "text/plain": [
       "Calculating likelihoods:   0%|          | 0/3 [00:00<?, ?it/s]"
      ]
     },
     "metadata": {},
     "output_type": "display_data"
    },
    {
     "data": {
      "application/vnd.jupyter.widget-view+json": {
       "model_id": "5752547003794bc59e5a2af80609290c",
       "version_major": 2,
       "version_minor": 0
      },
      "text/plain": [
       "Calculating likelihoods:   0%|          | 0/3 [00:00<?, ?it/s]"
      ]
     },
     "metadata": {},
     "output_type": "display_data"
    },
    {
     "data": {
      "application/vnd.jupyter.widget-view+json": {
       "model_id": "c52fc894498d40c6afb019b12c0fdedd",
       "version_major": 2,
       "version_minor": 0
      },
      "text/plain": [
       "Calculating likelihoods:   0%|          | 0/3 [00:00<?, ?it/s]"
      ]
     },
     "metadata": {},
     "output_type": "display_data"
    },
    {
     "data": {
      "application/vnd.jupyter.widget-view+json": {
       "model_id": "a48528ed71db4375ac4054d5933feedb",
       "version_major": 2,
       "version_minor": 0
      },
      "text/plain": [
       "Calculating likelihoods:   0%|          | 0/3 [00:00<?, ?it/s]"
      ]
     },
     "metadata": {},
     "output_type": "display_data"
    },
    {
     "data": {
      "application/vnd.jupyter.widget-view+json": {
       "model_id": "ee5b2e90c5a94269a2eff58d936c60b4",
       "version_major": 2,
       "version_minor": 0
      },
      "text/plain": [
       "Calculating likelihoods:   0%|          | 0/3 [00:00<?, ?it/s]"
      ]
     },
     "metadata": {},
     "output_type": "display_data"
    },
    {
     "data": {
      "application/vnd.jupyter.widget-view+json": {
       "model_id": "6ea7e8a4adc74f37a9a3978c8a68ce03",
       "version_major": 2,
       "version_minor": 0
      },
      "text/plain": [
       "Calculating likelihoods:   0%|          | 0/3 [00:00<?, ?it/s]"
      ]
     },
     "metadata": {},
     "output_type": "display_data"
    },
    {
     "data": {
      "application/vnd.jupyter.widget-view+json": {
       "model_id": "f5101e21e6ff4c7aba4a5556c8399688",
       "version_major": 2,
       "version_minor": 0
      },
      "text/plain": [
       "Calculating likelihoods:   0%|          | 0/3 [00:00<?, ?it/s]"
      ]
     },
     "metadata": {},
     "output_type": "display_data"
    },
    {
     "data": {
      "application/vnd.jupyter.widget-view+json": {
       "model_id": "1a2ccbb863304940a79b27f8098526a5",
       "version_major": 2,
       "version_minor": 0
      },
      "text/plain": [
       "Calculating likelihoods:   0%|          | 0/3 [00:00<?, ?it/s]"
      ]
     },
     "metadata": {},
     "output_type": "display_data"
    },
    {
     "data": {
      "application/vnd.jupyter.widget-view+json": {
       "model_id": "d38c99b5c34a4265be6b4b0c9b748784",
       "version_major": 2,
       "version_minor": 0
      },
      "text/plain": [
       "Calculating likelihoods:   0%|          | 0/3 [00:00<?, ?it/s]"
      ]
     },
     "metadata": {},
     "output_type": "display_data"
    },
    {
     "data": {
      "application/vnd.jupyter.widget-view+json": {
       "model_id": "f173a6b8df124df9aeb8ea8470800469",
       "version_major": 2,
       "version_minor": 0
      },
      "text/plain": [
       "Calculating likelihoods:   0%|          | 0/3 [00:00<?, ?it/s]"
      ]
     },
     "metadata": {},
     "output_type": "display_data"
    },
    {
     "data": {
      "application/vnd.jupyter.widget-view+json": {
       "model_id": "9c023136dd524ed4b2a3fb428b9053bb",
       "version_major": 2,
       "version_minor": 0
      },
      "text/plain": [
       "Calculating likelihoods:   0%|          | 0/3 [00:00<?, ?it/s]"
      ]
     },
     "metadata": {},
     "output_type": "display_data"
    },
    {
     "data": {
      "application/vnd.jupyter.widget-view+json": {
       "model_id": "0347deb9436a46669eea11cb3f05ca99",
       "version_major": 2,
       "version_minor": 0
      },
      "text/plain": [
       "Calculating likelihoods:   0%|          | 0/3 [00:00<?, ?it/s]"
      ]
     },
     "metadata": {},
     "output_type": "display_data"
    },
    {
     "data": {
      "application/vnd.jupyter.widget-view+json": {
       "model_id": "0a0a4a07cfce4f61827f2b773d46faa9",
       "version_major": 2,
       "version_minor": 0
      },
      "text/plain": [
       "Calculating likelihoods:   0%|          | 0/3 [00:00<?, ?it/s]"
      ]
     },
     "metadata": {},
     "output_type": "display_data"
    },
    {
     "data": {
      "application/vnd.jupyter.widget-view+json": {
       "model_id": "81a82fcd67674d6280e3004ae72db97f",
       "version_major": 2,
       "version_minor": 0
      },
      "text/plain": [
       "Calculating likelihoods:   0%|          | 0/3 [00:00<?, ?it/s]"
      ]
     },
     "metadata": {},
     "output_type": "display_data"
    },
    {
     "data": {
      "application/vnd.jupyter.widget-view+json": {
       "model_id": "e43be63d8a6d42ed9a856d14ceb74b64",
       "version_major": 2,
       "version_minor": 0
      },
      "text/plain": [
       "Calculating likelihoods:   0%|          | 0/3 [00:00<?, ?it/s]"
      ]
     },
     "metadata": {},
     "output_type": "display_data"
    },
    {
     "data": {
      "application/vnd.jupyter.widget-view+json": {
       "model_id": "d149925a4c6444cca34c8a55c51d94e4",
       "version_major": 2,
       "version_minor": 0
      },
      "text/plain": [
       "Calculating likelihoods:   0%|          | 0/3 [00:00<?, ?it/s]"
      ]
     },
     "metadata": {},
     "output_type": "display_data"
    },
    {
     "data": {
      "application/vnd.jupyter.widget-view+json": {
       "model_id": "c342fe1f636342168d5577c80f5c707c",
       "version_major": 2,
       "version_minor": 0
      },
      "text/plain": [
       "Calculating likelihoods:   0%|          | 0/3 [00:00<?, ?it/s]"
      ]
     },
     "metadata": {},
     "output_type": "display_data"
    },
    {
     "data": {
      "application/vnd.jupyter.widget-view+json": {
       "model_id": "96ca1eeb1a5b4055a1b0c3c6d99d7185",
       "version_major": 2,
       "version_minor": 0
      },
      "text/plain": [
       "Calculating likelihoods:   0%|          | 0/3 [00:00<?, ?it/s]"
      ]
     },
     "metadata": {},
     "output_type": "display_data"
    },
    {
     "data": {
      "application/vnd.jupyter.widget-view+json": {
       "model_id": "602205ce99bc413d973734b77ef40d54",
       "version_major": 2,
       "version_minor": 0
      },
      "text/plain": [
       "Calculating likelihoods:   0%|          | 0/3 [00:00<?, ?it/s]"
      ]
     },
     "metadata": {},
     "output_type": "display_data"
    },
    {
     "data": {
      "application/vnd.jupyter.widget-view+json": {
       "model_id": "a3ecca1f997548d5842dd0d9abbaa6e9",
       "version_major": 2,
       "version_minor": 0
      },
      "text/plain": [
       "Calculating likelihoods:   0%|          | 0/3 [00:00<?, ?it/s]"
      ]
     },
     "metadata": {},
     "output_type": "display_data"
    },
    {
     "data": {
      "application/vnd.jupyter.widget-view+json": {
       "model_id": "29cb3a9d653e4bfa99bf519be824a6db",
       "version_major": 2,
       "version_minor": 0
      },
      "text/plain": [
       "Calculating likelihoods:   0%|          | 0/3 [00:00<?, ?it/s]"
      ]
     },
     "metadata": {},
     "output_type": "display_data"
    },
    {
     "data": {
      "application/vnd.jupyter.widget-view+json": {
       "model_id": "082f4d827c6041e1bfc390b2f6bfede1",
       "version_major": 2,
       "version_minor": 0
      },
      "text/plain": [
       "Calculating likelihoods:   0%|          | 0/3 [00:00<?, ?it/s]"
      ]
     },
     "metadata": {},
     "output_type": "display_data"
    },
    {
     "data": {
      "application/vnd.jupyter.widget-view+json": {
       "model_id": "0fe785b9ee174c6eabb674ac6260329a",
       "version_major": 2,
       "version_minor": 0
      },
      "text/plain": [
       "Calculating likelihoods:   0%|          | 0/3 [00:00<?, ?it/s]"
      ]
     },
     "metadata": {},
     "output_type": "display_data"
    },
    {
     "data": {
      "application/vnd.jupyter.widget-view+json": {
       "model_id": "133e5c1fc20b47f88506972eb840cf70",
       "version_major": 2,
       "version_minor": 0
      },
      "text/plain": [
       "Calculating likelihoods:   0%|          | 0/3 [00:00<?, ?it/s]"
      ]
     },
     "metadata": {},
     "output_type": "display_data"
    },
    {
     "data": {
      "application/vnd.jupyter.widget-view+json": {
       "model_id": "013e5b9cd8f24b938fc9d2656f386f51",
       "version_major": 2,
       "version_minor": 0
      },
      "text/plain": [
       "Calculating likelihoods:   0%|          | 0/3 [00:00<?, ?it/s]"
      ]
     },
     "metadata": {},
     "output_type": "display_data"
    },
    {
     "data": {
      "application/vnd.jupyter.widget-view+json": {
       "model_id": "1ff4039a5a864f6ebd1f62e1bfb0ec33",
       "version_major": 2,
       "version_minor": 0
      },
      "text/plain": [
       "Calculating likelihoods:   0%|          | 0/3 [00:00<?, ?it/s]"
      ]
     },
     "metadata": {},
     "output_type": "display_data"
    },
    {
     "data": {
      "application/vnd.jupyter.widget-view+json": {
       "model_id": "9e801d182bcb4095bc2b32ee68802aa3",
       "version_major": 2,
       "version_minor": 0
      },
      "text/plain": [
       "Calculating likelihoods:   0%|          | 0/3 [00:00<?, ?it/s]"
      ]
     },
     "metadata": {},
     "output_type": "display_data"
    },
    {
     "data": {
      "application/vnd.jupyter.widget-view+json": {
       "model_id": "adb2eed138b643769b1f6d2cfc38606a",
       "version_major": 2,
       "version_minor": 0
      },
      "text/plain": [
       "Calculating likelihoods:   0%|          | 0/3 [00:00<?, ?it/s]"
      ]
     },
     "metadata": {},
     "output_type": "display_data"
    },
    {
     "data": {
      "application/vnd.jupyter.widget-view+json": {
       "model_id": "18d857eee9074a28b560101468851d46",
       "version_major": 2,
       "version_minor": 0
      },
      "text/plain": [
       "Calculating likelihoods:   0%|          | 0/3 [00:00<?, ?it/s]"
      ]
     },
     "metadata": {},
     "output_type": "display_data"
    },
    {
     "data": {
      "application/vnd.jupyter.widget-view+json": {
       "model_id": "1cde2fade90743d195aa28cbb06800a5",
       "version_major": 2,
       "version_minor": 0
      },
      "text/plain": [
       "Calculating likelihoods:   0%|          | 0/3 [00:00<?, ?it/s]"
      ]
     },
     "metadata": {},
     "output_type": "display_data"
    },
    {
     "data": {
      "application/vnd.jupyter.widget-view+json": {
       "model_id": "3e4f3d40797a40079b662e4a1a92163c",
       "version_major": 2,
       "version_minor": 0
      },
      "text/plain": [
       "Calculating likelihoods:   0%|          | 0/3 [00:00<?, ?it/s]"
      ]
     },
     "metadata": {},
     "output_type": "display_data"
    },
    {
     "data": {
      "application/vnd.jupyter.widget-view+json": {
       "model_id": "db5c166cab844f108408896422631c8b",
       "version_major": 2,
       "version_minor": 0
      },
      "text/plain": [
       "Calculating likelihoods:   0%|          | 0/3 [00:00<?, ?it/s]"
      ]
     },
     "metadata": {},
     "output_type": "display_data"
    },
    {
     "data": {
      "application/vnd.jupyter.widget-view+json": {
       "model_id": "45526072b4384e61880201025eaff11d",
       "version_major": 2,
       "version_minor": 0
      },
      "text/plain": [
       "Calculating likelihoods:   0%|          | 0/3 [00:00<?, ?it/s]"
      ]
     },
     "metadata": {},
     "output_type": "display_data"
    },
    {
     "data": {
      "application/vnd.jupyter.widget-view+json": {
       "model_id": "6c52019d610c4877ba8b027c6ea70904",
       "version_major": 2,
       "version_minor": 0
      },
      "text/plain": [
       "Calculating likelihoods:   0%|          | 0/3 [00:00<?, ?it/s]"
      ]
     },
     "metadata": {},
     "output_type": "display_data"
    },
    {
     "data": {
      "application/vnd.jupyter.widget-view+json": {
       "model_id": "7ff2c5266d6049248c812d7bafa57f5b",
       "version_major": 2,
       "version_minor": 0
      },
      "text/plain": [
       "Calculating likelihoods:   0%|          | 0/3 [00:00<?, ?it/s]"
      ]
     },
     "metadata": {},
     "output_type": "display_data"
    },
    {
     "data": {
      "application/vnd.jupyter.widget-view+json": {
       "model_id": "968a648c9b3b4175a033d256767bdcef",
       "version_major": 2,
       "version_minor": 0
      },
      "text/plain": [
       "Calculating likelihoods:   0%|          | 0/3 [00:00<?, ?it/s]"
      ]
     },
     "metadata": {},
     "output_type": "display_data"
    },
    {
     "data": {
      "application/vnd.jupyter.widget-view+json": {
       "model_id": "ce9365eaabf24c36ad3ba8434565afaf",
       "version_major": 2,
       "version_minor": 0
      },
      "text/plain": [
       "Calculating likelihoods:   0%|          | 0/3 [00:00<?, ?it/s]"
      ]
     },
     "metadata": {},
     "output_type": "display_data"
    },
    {
     "data": {
      "application/vnd.jupyter.widget-view+json": {
       "model_id": "9e84b6cc7eef46a7905d3ab7dfcbd6c0",
       "version_major": 2,
       "version_minor": 0
      },
      "text/plain": [
       "Calculating likelihoods:   0%|          | 0/3 [00:00<?, ?it/s]"
      ]
     },
     "metadata": {},
     "output_type": "display_data"
    },
    {
     "data": {
      "application/vnd.jupyter.widget-view+json": {
       "model_id": "20a7f8e078a24102a30ddc0bafa0f224",
       "version_major": 2,
       "version_minor": 0
      },
      "text/plain": [
       "Calculating likelihoods:   0%|          | 0/3 [00:00<?, ?it/s]"
      ]
     },
     "metadata": {},
     "output_type": "display_data"
    },
    {
     "data": {
      "application/vnd.jupyter.widget-view+json": {
       "model_id": "c4fee6efaa6240c1938e8b03a662c9d8",
       "version_major": 2,
       "version_minor": 0
      },
      "text/plain": [
       "Calculating likelihoods:   0%|          | 0/3 [00:00<?, ?it/s]"
      ]
     },
     "metadata": {},
     "output_type": "display_data"
    },
    {
     "data": {
      "application/vnd.jupyter.widget-view+json": {
       "model_id": "b7c3bbd6e14340a1b343bb3b87ddcb9f",
       "version_major": 2,
       "version_minor": 0
      },
      "text/plain": [
       "Calculating likelihoods:   0%|          | 0/3 [00:00<?, ?it/s]"
      ]
     },
     "metadata": {},
     "output_type": "display_data"
    },
    {
     "data": {
      "application/vnd.jupyter.widget-view+json": {
       "model_id": "1d5acd7fcb7b4caf968df6e90d107955",
       "version_major": 2,
       "version_minor": 0
      },
      "text/plain": [
       "Calculating likelihoods:   0%|          | 0/3 [00:00<?, ?it/s]"
      ]
     },
     "metadata": {},
     "output_type": "display_data"
    },
    {
     "data": {
      "application/vnd.jupyter.widget-view+json": {
       "model_id": "16246f30bdfc42709f494741ef130d1c",
       "version_major": 2,
       "version_minor": 0
      },
      "text/plain": [
       "Calculating likelihoods:   0%|          | 0/3 [00:00<?, ?it/s]"
      ]
     },
     "metadata": {},
     "output_type": "display_data"
    },
    {
     "name": "stdout",
     "output_type": "stream",
     "text": [
      "Optimal parameters for 8 players and threshold 0.625:\n",
      "{'c': 0.9593008889887629, 'inverse_temperature': 1.0253275681555183, 'len_history': 8.814073192248477}\n",
      "Deviance: -986.3255898275795\n",
      "AIC: 1978.651179655159\n",
      "--------------------------------------------------\n",
      "{'model_name': 'FRA', 'FRA_N=8_mu=0.375': {'model': 'FocalRegionAgent', 'fixed_parameters': {'num_agents': 8, 'threshold': 0.375}, 'free_parameters': {'c': 0.58297163759318, 'inverse_temperature': 4.03052045924581, 'len_history': 2.1710175173686075}, 'deviance': -958.686982745578, 'AIC': 1923.373965491156}, 'FRA_N=8_mu=0.875': {'model': 'FocalRegionAgent', 'fixed_parameters': {'num_agents': 8, 'threshold': 0.875}, 'free_parameters': {'c': 0.5, 'inverse_temperature': 9.799407815978253, 'len_history': 5.811097492088114}, 'deviance': -752.5866774468008, 'AIC': 1511.1733548936015}, 'FRA_N=8_mu=0.625': {'model': 'FocalRegionAgent', 'fixed_parameters': {'num_agents': 8, 'threshold': 0.625}, 'free_parameters': {'c': 0.9593008889887629, 'inverse_temperature': 1.0253275681555183, 'len_history': 8.814073192248477}, 'deviance': -986.3255898275795, 'AIC': 1978.651179655159}}\n"
     ]
    }
   ],
   "source": [
    "hyperparameters = {\n",
    "    'init_points':128,\n",
    "    'n_iter':64\n",
    "}\n",
    "\n",
    "ParameterFit.run(\n",
    "    data=data,\n",
    "    model_list=my_models,\n",
    "    best_fit_path=PATHS['parameter_fit_results'] / 'best_fit_Bayesian.json',\n",
    "    optimizer_type='bayesian',\n",
    "    hyperparameters=hyperparameters,\n",
    "    new_file=True\n",
    ")"
   ]
  },
  {
   "cell_type": "markdown",
   "metadata": {},
   "source": [
    "### Keep best fit from both optimizers"
   ]
  },
  {
   "cell_type": "code",
   "execution_count": 54,
   "metadata": {},
   "outputs": [
    {
     "name": "stdout",
     "output_type": "stream",
     "text": [
      "Otimizer with best results:\n"
     ]
    },
    {
     "data": {
      "text/html": [
       "<div>\n",
       "<style scoped>\n",
       "    .dataframe tbody tr th:only-of-type {\n",
       "        vertical-align: middle;\n",
       "    }\n",
       "\n",
       "    .dataframe tbody tr th {\n",
       "        vertical-align: top;\n",
       "    }\n",
       "\n",
       "    .dataframe thead th {\n",
       "        text-align: right;\n",
       "    }\n",
       "</style>\n",
       "<table border=\"1\" class=\"dataframe\">\n",
       "  <thead>\n",
       "    <tr style=\"text-align: right;\">\n",
       "      <th></th>\n",
       "      <th>optimizer</th>\n",
       "      <th>proportion</th>\n",
       "    </tr>\n",
       "  </thead>\n",
       "  <tbody>\n",
       "    <tr>\n",
       "      <th>0</th>\n",
       "      <td>Bayesian</td>\n",
       "      <td>1.0</td>\n",
       "    </tr>\n",
       "  </tbody>\n",
       "</table>\n",
       "</div>"
      ],
      "text/plain": [
       "  optimizer  proportion\n",
       "0  Bayesian         1.0"
      ]
     },
     "execution_count": 54,
     "metadata": {},
     "output_type": "execute_result"
    }
   ],
   "source": [
    "# Load the best fit results from both optimizers\n",
    "df_Scipy = pd.read_json(PATHS['parameter_fit_results'] / 'best_fit_Scipy.json', lines=True)\n",
    "df_Bayesian = pd.read_json(PATHS['parameter_fit_results'] / 'best_fit_Bayesian.json', lines=True)\n",
    "\n",
    "df_list = []\n",
    "best_optimizer = []\n",
    "# Iterate through each model and compare the deviance from both optimizers\n",
    "for model in my_models:\n",
    "    best_fits = {'model_name': model.name()}\n",
    "    # Filter the dataframes for the current model\n",
    "    df1_Scipy = df_Scipy[df_Scipy['model_name'] == model.name()]\n",
    "    df1_Bayesian = df_Bayesian[df_Bayesian['model_name'] == model.name()]\n",
    "    # Iterate through each num_agents and threshold combination\n",
    "    cols = [col for col in df1_Bayesian.columns if col != 'model_name']\n",
    "    for col in cols:\n",
    "        if not isinstance(df1_Scipy[col].values[0], dict):\n",
    "            continue\n",
    "        num_agents = df1_Scipy[col].values[0]['fixed_parameters']['num_agents']\n",
    "        threshold = df1_Scipy[col].values[0]['fixed_parameters']['threshold']\n",
    "        best_fits['num_agents'] = num_agents\n",
    "        best_fits['threshold'] = threshold\n",
    "        deviance_Scipy = df1_Scipy[col].values[0]['deviance']\n",
    "        deviance_Bayesian = df1_Bayesian[col].values[0]['deviance']\n",
    "        # Compare deviance from both optimizers\n",
    "        if deviance_Scipy > deviance_Bayesian:\n",
    "            best_optimizer.append('Scipy')\n",
    "            best_fits['deviance'] = deviance_Scipy\n",
    "            best_fits['AIC'] = df1_Scipy[col].values[0]['AIC']\n",
    "            best_fits['free_parameters'] = df1_Scipy[col].values[0]['free_parameters']\n",
    "        else:\n",
    "            best_optimizer.append('Bayesian')\n",
    "            best_fits['deviance'] = deviance_Bayesian\n",
    "            best_fits['AIC'] = df1_Bayesian[col].values[0]['AIC']\n",
    "            best_fits['free_parameters'] = df1_Bayesian[col].values[0]['free_parameters']\n",
    "        best_fits['fixed_parameters'] = df1_Scipy[col].values[0]['fixed_parameters']\n",
    "        df = pd.DataFrame().from_dict(best_fits, orient='index').T\n",
    "        df_list.append(df)\n",
    "df_best_fits = pd.concat(df_list, ignore_index=True)\n",
    "print('Otimizer with best results:')\n",
    "pd.Series(best_optimizer).value_counts(normalize=True).reset_index().rename(columns={'index': 'optimizer', 0: 'proportion'}).sort_values(by='proportion', ascending=False)\n"
   ]
  },
  {
   "cell_type": "markdown",
   "metadata": {},
   "source": [
    "### Save on file"
   ]
  },
  {
   "cell_type": "code",
   "execution_count": 55,
   "metadata": {},
   "outputs": [
    {
     "name": "stdout",
     "output_type": "stream",
     "text": [
      "Best fit results saved to C:\\Users\\andra\\Documents\\Cognitive_Models_El_Farol_Bar_Problem\\reports\\MLE\\best_fit_MP.json\n"
     ]
    }
   ],
   "source": [
    "new_file = False # Set to True if you want to create a new file, False to update the existing one\n",
    "\n",
    "if new_file:\n",
    "    df_best_fits.to_json(best_fits_file, orient='records', lines=True)\n",
    "else:\n",
    "    best_fit = pd.read_json(best_fits_file, lines=True)\n",
    "    for model_name in df_best_fits['model_name'].unique():\n",
    "        df_model = df_best_fits[df_best_fits['model_name'] == model_name]\n",
    "        if model_name not in best_fit['model_name'].unique():\n",
    "            print(f'Adding new model: {model_name}')\n",
    "            best_fit = pd.concat([best_fit, df_model], ignore_index=True)\n",
    "        else:\n",
    "            list_fixed_parameters_new = df_model['fixed_parameters'].values\n",
    "            for fixed_parameters_new in list_fixed_parameters_new:\n",
    "                df_parameters = df_model[df_model['fixed_parameters'] == fixed_parameters_new]\n",
    "                mask = (best_fit['model_name'] == model_name) & (best_fit['fixed_parameters'] == fixed_parameters_new)\n",
    "                if mask.sum() == 0:\n",
    "                    best_fit = pd.concat([best_fit, df_parameters], ignore_index=True)\n",
    "                else:\n",
    "                    # Update the existing entry with the new data\n",
    "                    best_fit = best_fit.copy()                    \n",
    "                    best_fit.loc[mask, df_parameters.columns] = df_parameters.values\n",
    "                \n",
    "\n",
    "    best_fit.to_json(best_fits_file, orient='records', lines=True)\n",
    "    \n",
    "print(f'Best fit results saved to {best_fits_file}')"
   ]
  },
  {
   "cell_type": "markdown",
   "metadata": {},
   "source": [
    "---"
   ]
  }
 ],
 "metadata": {
  "kernelspec": {
   "display_name": "base",
   "language": "python",
   "name": "python3"
  },
  "language_info": {
   "codemirror_mode": {
    "name": "ipython",
    "version": 3
   },
   "file_extension": ".py",
   "mimetype": "text/x-python",
   "name": "python",
   "nbconvert_exporter": "python",
   "pygments_lexer": "ipython3",
   "version": "3.11.5"
  }
 },
 "nbformat": 4,
 "nbformat_minor": 2
}
