{
 "cells": [
  {
   "cell_type": "markdown",
   "metadata": {},
   "source": [
    "# Fit models to human data"
   ]
  },
  {
   "cell_type": "code",
   "execution_count": 9,
   "metadata": {},
   "outputs": [],
   "source": [
    "import json\n",
    "import numpy as np\n",
    "import pandas as pd\n",
    "from pathlib import Path\n",
    "from tqdm.auto import tqdm\n",
    "\n",
    "import sys\n",
    "sys.path.append(\"../src\")\n",
    "\n",
    "import warnings\n",
    "warnings.filterwarnings(\"ignore\")"
   ]
  },
  {
   "cell_type": "code",
   "execution_count": 10,
   "metadata": {},
   "outputs": [],
   "source": [
    "from Config.config import PATHS\n",
    "from Classes.parameter_recovery import ParameterFit\n",
    "from Classes.cognitive_model_agents import MODELS"
   ]
  },
  {
   "cell_type": "markdown",
   "metadata": {},
   "source": [
    "### Load human data"
   ]
  },
  {
   "cell_type": "code",
   "execution_count": null,
   "metadata": {},
   "outputs": [
    {
     "name": "stdout",
     "output_type": "stream",
     "text": [
      "Loading data from /Users/edgar/Documents/GitHub/Cognitive_Models_El_Farol_Bar_Problem/data/human/all_data.csv...\n",
      "Number of data points: 111860\n"
     ]
    }
   ],
   "source": [
    "# Load data into a dataframe\n",
    "all_data = True\n",
    "two_player = True  # Set to True for 2-player UR experiment, False for multi-player IU experiment\n",
    "\n",
    "if all_data:\n",
    "    file_name = 'all_data.csv' # <= Data from all experiments combined\n",
    "    best_fits_file = PATHS['parameter_fit_results'] / Path('best_fit_all.json')\n",
    "elif two_player:\n",
    "\tfile_name = '2-player-UR.csv' # <= Data from 2-player UR experiment\n",
    "\tbest_fits_file = PATHS['parameter_fit_results'] / Path('best_fit_2P.json')\n",
    "else:\n",
    "\t# file_name = '3-player-IU.csv ' # <= Data from 3-player IU experiment\n",
    "\t# file_name = '4-player-IU.csv' # <= Data from 3-player IU experiment\n",
    "\t# file_name = '5-player-IU.csv' # <= Data from 3-player IU experiment\n",
    "\t# file_name = '6-player-IU.csv' # <= Data from 3-player IU experiment\n",
    "\tfile_name = '7-player-IU.csv' # <= Data from 3-player IU experiment\n",
    "\t# file_name = '8-player-IU.csv' # <= Data from 3-player IU experiment\n",
    "\t# file_name = '9-player-IU.csv' # <= Data from 3-player IU experiment\n",
    "\t# file_name = '11-player-IU.csv' # <= Data from 3-player IU experiment\n",
    "\t# file_name = '12-player-IU.csv' # <= Data from 3-player IU experiment\n",
    "\t# file_name = 'multi-player.csv' # <= Data from multi-player IU experiment\n",
    "\tbest_fits_file = PATHS['parameter_fit_results'] / Path('best_fit_MP.json')\n",
    "\n",
    "data_folder = PATHS['human_data']\n",
    "file = data_folder / Path(file_name)\n",
    "print(f'Loading data from {file}...')\n",
    "\n",
    "data = pd.read_csv(file)\n",
    "columns = ['threshold', 'num_players', 'group', 'round', 'player', 'score', 'decision']\n",
    "drop_columns = [col for col in data.columns if col not in columns]\n",
    "data.drop(columns=drop_columns, inplace=True)\n",
    "print(f\"Number of data points: {data.size}\")"
   ]
  },
  {
   "cell_type": "markdown",
   "metadata": {},
   "source": [
    "### Select models"
   ]
  },
  {
   "cell_type": "code",
   "execution_count": 16,
   "metadata": {},
   "outputs": [],
   "source": [
    "check_out_these = [model.name() for model in MODELS]\n",
    "# check_out_these = [model.name() for model in MODELS if 'Priors' not in model.name()]\n",
    "# check_out_these = ['WSLS-M1', 'WSLS-M2', 'WSLS-M3']\n",
    "# check_out_these = ['MFP-M1', 'MFP-M2', 'MFP-M3']\n",
    "# check_out_these = ['AvailableSpace-M1', 'AvailableSpace-M2', 'AvailableSpace-M3']\n",
    "# check_out_these = ['Payoff-M1', 'Payoff-M2', 'Payoff-M3']\n",
    "# check_out_these = ['Attendance-M1', 'Attendance-M2', 'Attendance-M3'] \n",
    "# check_out_these = ['Fairness-M1', 'Fairness-M2', 'Fairness-M3']\n",
    "# check_out_these = ['FRA']\n",
    "# check_out_these = ['FRA+Payoff+Attendance']\n",
    "# check_out_these = ['Payoff-M2', 'Fairness-M2', 'AvailableSpace-M2']\n",
    "# check_out_these = ['Attendance-M2', 'MFP-M2', 'Payoff-M2']\n",
    "# check_out_these = ['Payoff-M2', 'Fairness-M2']\n",
    "# check_out_these = ['Fairness-M2']\n",
    "# check_out_these = ['MFP-M3']\n",
    "# check_out_these = ['Priors-M3']\n",
    "my_models = [model for model in MODELS if model.name() in check_out_these]"
   ]
  },
  {
   "cell_type": "markdown",
   "metadata": {},
   "source": [
    "### Fit with scipy"
   ]
  },
  {
   "cell_type": "code",
   "execution_count": 7,
   "metadata": {},
   "outputs": [
    {
     "data": {
      "application/vnd.jupyter.widget-view+json": {
       "model_id": "e3940dd317b144ac8a595490377983d3",
       "version_major": 2,
       "version_minor": 0
      },
      "text/plain": [
       "Fitting models...:   0%|          | 0/1 [00:00<?, ?it/s]"
      ]
     },
     "metadata": {},
     "output_type": "display_data"
    },
    {
     "name": "stdout",
     "output_type": "stream",
     "text": [
      "Fitting data to model FRA+Payoff+Attendance...\n",
      "Creating parameter recovery class...\n",
      "Running optimizer...\n"
     ]
    },
    {
     "data": {
      "application/vnd.jupyter.widget-view+json": {
       "model_id": "d59d67f495454bb19860f720486b831c",
       "version_major": 2,
       "version_minor": 0
      },
      "text/plain": [
       "Calculating likelihoods:   0%|          | 0/23 [00:00<?, ?it/s]"
      ]
     },
     "metadata": {},
     "output_type": "display_data"
    },
    {
     "data": {
      "application/vnd.jupyter.widget-view+json": {
       "model_id": "dda3daf23d5c4f57af6215d5c5c6bd18",
       "version_major": 2,
       "version_minor": 0
      },
      "text/plain": [
       "Calculating likelihoods:   0%|          | 0/23 [00:00<?, ?it/s]"
      ]
     },
     "metadata": {},
     "output_type": "display_data"
    },
    {
     "data": {
      "application/vnd.jupyter.widget-view+json": {
       "model_id": "313b925ca2d24c0cbb9d2597a9906d0d",
       "version_major": 2,
       "version_minor": 0
      },
      "text/plain": [
       "Calculating likelihoods:   0%|          | 0/23 [00:00<?, ?it/s]"
      ]
     },
     "metadata": {},
     "output_type": "display_data"
    },
    {
     "data": {
      "application/vnd.jupyter.widget-view+json": {
       "model_id": "8f0d3ba0b3bb4902b8dedef7b377eeb0",
       "version_major": 2,
       "version_minor": 0
      },
      "text/plain": [
       "Calculating likelihoods:   0%|          | 0/23 [00:00<?, ?it/s]"
      ]
     },
     "metadata": {},
     "output_type": "display_data"
    },
    {
     "data": {
      "application/vnd.jupyter.widget-view+json": {
       "model_id": "3ba5991b928c4a6aa39d4cce7bb9d42f",
       "version_major": 2,
       "version_minor": 0
      },
      "text/plain": [
       "Calculating likelihoods:   0%|          | 0/23 [00:00<?, ?it/s]"
      ]
     },
     "metadata": {},
     "output_type": "display_data"
    },
    {
     "data": {
      "application/vnd.jupyter.widget-view+json": {
       "model_id": "568e2dc1502c4f73959226a2272c7d16",
       "version_major": 2,
       "version_minor": 0
      },
      "text/plain": [
       "Calculating likelihoods:   0%|          | 0/23 [00:00<?, ?it/s]"
      ]
     },
     "metadata": {},
     "output_type": "display_data"
    },
    {
     "data": {
      "application/vnd.jupyter.widget-view+json": {
       "model_id": "d6b217e5435d4df4ae6fc8c881a4b60b",
       "version_major": 2,
       "version_minor": 0
      },
      "text/plain": [
       "Calculating likelihoods:   0%|          | 0/23 [00:00<?, ?it/s]"
      ]
     },
     "metadata": {},
     "output_type": "display_data"
    },
    {
     "data": {
      "application/vnd.jupyter.widget-view+json": {
       "model_id": "48eb3f267b7c4f828b05ee8414cc1b77",
       "version_major": 2,
       "version_minor": 0
      },
      "text/plain": [
       "Calculating likelihoods:   0%|          | 0/23 [00:00<?, ?it/s]"
      ]
     },
     "metadata": {},
     "output_type": "display_data"
    },
    {
     "data": {
      "application/vnd.jupyter.widget-view+json": {
       "model_id": "1af0cd923c204f238a07bea9cb50c039",
       "version_major": 2,
       "version_minor": 0
      },
      "text/plain": [
       "Calculating likelihoods:   0%|          | 0/23 [00:00<?, ?it/s]"
      ]
     },
     "metadata": {},
     "output_type": "display_data"
    },
    {
     "data": {
      "application/vnd.jupyter.widget-view+json": {
       "model_id": "529c1d1387874351947cd1e5d7625520",
       "version_major": 2,
       "version_minor": 0
      },
      "text/plain": [
       "Calculating likelihoods:   0%|          | 0/23 [00:00<?, ?it/s]"
      ]
     },
     "metadata": {},
     "output_type": "display_data"
    },
    {
     "data": {
      "application/vnd.jupyter.widget-view+json": {
       "model_id": "32c5f3371fc247e3bb680f8807b52443",
       "version_major": 2,
       "version_minor": 0
      },
      "text/plain": [
       "Calculating likelihoods:   0%|          | 0/23 [00:00<?, ?it/s]"
      ]
     },
     "metadata": {},
     "output_type": "display_data"
    },
    {
     "data": {
      "application/vnd.jupyter.widget-view+json": {
       "model_id": "4c114523731f4538a41f0ccfd1b09a9c",
       "version_major": 2,
       "version_minor": 0
      },
      "text/plain": [
       "Calculating likelihoods:   0%|          | 0/23 [00:00<?, ?it/s]"
      ]
     },
     "metadata": {},
     "output_type": "display_data"
    },
    {
     "data": {
      "application/vnd.jupyter.widget-view+json": {
       "model_id": "4eeb277fee2947099c22ebfbc981caee",
       "version_major": 2,
       "version_minor": 0
      },
      "text/plain": [
       "Calculating likelihoods:   0%|          | 0/23 [00:00<?, ?it/s]"
      ]
     },
     "metadata": {},
     "output_type": "display_data"
    },
    {
     "data": {
      "application/vnd.jupyter.widget-view+json": {
       "model_id": "b396868b48d64224b8bc556a32c85afa",
       "version_major": 2,
       "version_minor": 0
      },
      "text/plain": [
       "Calculating likelihoods:   0%|          | 0/23 [00:00<?, ?it/s]"
      ]
     },
     "metadata": {},
     "output_type": "display_data"
    },
    {
     "data": {
      "application/vnd.jupyter.widget-view+json": {
       "model_id": "a5d9e9b32d4241bf80a166584bcbbf17",
       "version_major": 2,
       "version_minor": 0
      },
      "text/plain": [
       "Calculating likelihoods:   0%|          | 0/23 [00:00<?, ?it/s]"
      ]
     },
     "metadata": {},
     "output_type": "display_data"
    },
    {
     "data": {
      "application/vnd.jupyter.widget-view+json": {
       "model_id": "c266447c2b1a4620b53ef1ef8ca86776",
       "version_major": 2,
       "version_minor": 0
      },
      "text/plain": [
       "Calculating likelihoods:   0%|          | 0/23 [00:00<?, ?it/s]"
      ]
     },
     "metadata": {},
     "output_type": "display_data"
    },
    {
     "data": {
      "application/vnd.jupyter.widget-view+json": {
       "model_id": "8b94f385850541f28720fd5e5b52620b",
       "version_major": 2,
       "version_minor": 0
      },
      "text/plain": [
       "Calculating likelihoods:   0%|          | 0/23 [00:00<?, ?it/s]"
      ]
     },
     "metadata": {},
     "output_type": "display_data"
    },
    {
     "data": {
      "application/vnd.jupyter.widget-view+json": {
       "model_id": "0530c3e80ef149fc88152bf9d2bae302",
       "version_major": 2,
       "version_minor": 0
      },
      "text/plain": [
       "Calculating likelihoods:   0%|          | 0/23 [00:00<?, ?it/s]"
      ]
     },
     "metadata": {},
     "output_type": "display_data"
    },
    {
     "data": {
      "application/vnd.jupyter.widget-view+json": {
       "model_id": "0f0a9459a1bc48ecbfbd87b4be35f841",
       "version_major": 2,
       "version_minor": 0
      },
      "text/plain": [
       "Calculating likelihoods:   0%|          | 0/23 [00:00<?, ?it/s]"
      ]
     },
     "metadata": {},
     "output_type": "display_data"
    },
    {
     "data": {
      "application/vnd.jupyter.widget-view+json": {
       "model_id": "ae202b13c74f4db3a7d6b4411c0975e9",
       "version_major": 2,
       "version_minor": 0
      },
      "text/plain": [
       "Calculating likelihoods:   0%|          | 0/23 [00:00<?, ?it/s]"
      ]
     },
     "metadata": {},
     "output_type": "display_data"
    },
    {
     "data": {
      "application/vnd.jupyter.widget-view+json": {
       "model_id": "5ad1877082204821a962e58e423a1614",
       "version_major": 2,
       "version_minor": 0
      },
      "text/plain": [
       "Calculating likelihoods:   0%|          | 0/23 [00:00<?, ?it/s]"
      ]
     },
     "metadata": {},
     "output_type": "display_data"
    },
    {
     "data": {
      "application/vnd.jupyter.widget-view+json": {
       "model_id": "3df1d1c677da403eb8e06e3ec8147f63",
       "version_major": 2,
       "version_minor": 0
      },
      "text/plain": [
       "Calculating likelihoods:   0%|          | 0/23 [00:00<?, ?it/s]"
      ]
     },
     "metadata": {},
     "output_type": "display_data"
    },
    {
     "data": {
      "application/vnd.jupyter.widget-view+json": {
       "model_id": "a6b08ff6e5fa4ba38f1acc1ce92ca1cc",
       "version_major": 2,
       "version_minor": 0
      },
      "text/plain": [
       "Calculating likelihoods:   0%|          | 0/23 [00:00<?, ?it/s]"
      ]
     },
     "metadata": {},
     "output_type": "display_data"
    },
    {
     "data": {
      "application/vnd.jupyter.widget-view+json": {
       "model_id": "defa00008aba4cf1b97e8e21042fb18d",
       "version_major": 2,
       "version_minor": 0
      },
      "text/plain": [
       "Calculating likelihoods:   0%|          | 0/23 [00:00<?, ?it/s]"
      ]
     },
     "metadata": {},
     "output_type": "display_data"
    },
    {
     "data": {
      "application/vnd.jupyter.widget-view+json": {
       "model_id": "a1c1d1533d294299a7b2bf335ef15df1",
       "version_major": 2,
       "version_minor": 0
      },
      "text/plain": [
       "Calculating likelihoods:   0%|          | 0/23 [00:00<?, ?it/s]"
      ]
     },
     "metadata": {},
     "output_type": "display_data"
    },
    {
     "data": {
      "application/vnd.jupyter.widget-view+json": {
       "model_id": "45a2fcebefb846349ad280e16f312438",
       "version_major": 2,
       "version_minor": 0
      },
      "text/plain": [
       "Calculating likelihoods:   0%|          | 0/23 [00:00<?, ?it/s]"
      ]
     },
     "metadata": {},
     "output_type": "display_data"
    },
    {
     "data": {
      "application/vnd.jupyter.widget-view+json": {
       "model_id": "4cd3dcd414594d79b0a07506a89ecccc",
       "version_major": 2,
       "version_minor": 0
      },
      "text/plain": [
       "Calculating likelihoods:   0%|          | 0/23 [00:00<?, ?it/s]"
      ]
     },
     "metadata": {},
     "output_type": "display_data"
    },
    {
     "data": {
      "application/vnd.jupyter.widget-view+json": {
       "model_id": "568eadc3491f430ba70d4ed49a89f9c0",
       "version_major": 2,
       "version_minor": 0
      },
      "text/plain": [
       "Calculating likelihoods:   0%|          | 0/23 [00:00<?, ?it/s]"
      ]
     },
     "metadata": {},
     "output_type": "display_data"
    },
    {
     "data": {
      "application/vnd.jupyter.widget-view+json": {
       "model_id": "eb13b97c0f054b7aa866ba809d5ce767",
       "version_major": 2,
       "version_minor": 0
      },
      "text/plain": [
       "Calculating likelihoods:   0%|          | 0/23 [00:00<?, ?it/s]"
      ]
     },
     "metadata": {},
     "output_type": "display_data"
    },
    {
     "data": {
      "application/vnd.jupyter.widget-view+json": {
       "model_id": "2cac29b350b8480f9ab740d71dae1e86",
       "version_major": 2,
       "version_minor": 0
      },
      "text/plain": [
       "Calculating likelihoods:   0%|          | 0/23 [00:00<?, ?it/s]"
      ]
     },
     "metadata": {},
     "output_type": "display_data"
    },
    {
     "data": {
      "application/vnd.jupyter.widget-view+json": {
       "model_id": "80d9dbfb8c134d019b57f384d9fbf921",
       "version_major": 2,
       "version_minor": 0
      },
      "text/plain": [
       "Calculating likelihoods:   0%|          | 0/23 [00:00<?, ?it/s]"
      ]
     },
     "metadata": {},
     "output_type": "display_data"
    },
    {
     "data": {
      "application/vnd.jupyter.widget-view+json": {
       "model_id": "32332556796c4440984e109777130ee5",
       "version_major": 2,
       "version_minor": 0
      },
      "text/plain": [
       "Calculating likelihoods:   0%|          | 0/23 [00:00<?, ?it/s]"
      ]
     },
     "metadata": {},
     "output_type": "display_data"
    },
    {
     "data": {
      "application/vnd.jupyter.widget-view+json": {
       "model_id": "3ab654f38fb94686b39056e5044d061e",
       "version_major": 2,
       "version_minor": 0
      },
      "text/plain": [
       "Calculating likelihoods:   0%|          | 0/23 [00:00<?, ?it/s]"
      ]
     },
     "metadata": {},
     "output_type": "display_data"
    },
    {
     "data": {
      "application/vnd.jupyter.widget-view+json": {
       "model_id": "8d852462c31347aba94311631da6c9fc",
       "version_major": 2,
       "version_minor": 0
      },
      "text/plain": [
       "Calculating likelihoods:   0%|          | 0/23 [00:00<?, ?it/s]"
      ]
     },
     "metadata": {},
     "output_type": "display_data"
    },
    {
     "data": {
      "application/vnd.jupyter.widget-view+json": {
       "model_id": "c6f3298301e04b29b135e40535e1f1d1",
       "version_major": 2,
       "version_minor": 0
      },
      "text/plain": [
       "Calculating likelihoods:   0%|          | 0/23 [00:00<?, ?it/s]"
      ]
     },
     "metadata": {},
     "output_type": "display_data"
    },
    {
     "data": {
      "application/vnd.jupyter.widget-view+json": {
       "model_id": "66eae365456643dcbd0501a6c9326bf9",
       "version_major": 2,
       "version_minor": 0
      },
      "text/plain": [
       "Calculating likelihoods:   0%|          | 0/23 [00:00<?, ?it/s]"
      ]
     },
     "metadata": {},
     "output_type": "display_data"
    },
    {
     "data": {
      "application/vnd.jupyter.widget-view+json": {
       "model_id": "b006f5cdeb564759b7cffcdee8ef1aaa",
       "version_major": 2,
       "version_minor": 0
      },
      "text/plain": [
       "Calculating likelihoods:   0%|          | 0/23 [00:00<?, ?it/s]"
      ]
     },
     "metadata": {},
     "output_type": "display_data"
    },
    {
     "data": {
      "application/vnd.jupyter.widget-view+json": {
       "model_id": "6491eb9dde3c40b6b91a9dcee6596067",
       "version_major": 2,
       "version_minor": 0
      },
      "text/plain": [
       "Calculating likelihoods:   0%|          | 0/23 [00:00<?, ?it/s]"
      ]
     },
     "metadata": {},
     "output_type": "display_data"
    },
    {
     "data": {
      "application/vnd.jupyter.widget-view+json": {
       "model_id": "8726647190be45ebb74f1833641f5d12",
       "version_major": 2,
       "version_minor": 0
      },
      "text/plain": [
       "Calculating likelihoods:   0%|          | 0/23 [00:00<?, ?it/s]"
      ]
     },
     "metadata": {},
     "output_type": "display_data"
    },
    {
     "data": {
      "application/vnd.jupyter.widget-view+json": {
       "model_id": "b216732bae3747f3ae26c8e7c55fffd9",
       "version_major": 2,
       "version_minor": 0
      },
      "text/plain": [
       "Calculating likelihoods:   0%|          | 0/23 [00:00<?, ?it/s]"
      ]
     },
     "metadata": {},
     "output_type": "display_data"
    },
    {
     "data": {
      "application/vnd.jupyter.widget-view+json": {
       "model_id": "57bdff4037554a8d9abebe1368164e91",
       "version_major": 2,
       "version_minor": 0
      },
      "text/plain": [
       "Calculating likelihoods:   0%|          | 0/23 [00:00<?, ?it/s]"
      ]
     },
     "metadata": {},
     "output_type": "display_data"
    },
    {
     "data": {
      "application/vnd.jupyter.widget-view+json": {
       "model_id": "2e344c49a8f747adbcf8337aef8db83c",
       "version_major": 2,
       "version_minor": 0
      },
      "text/plain": [
       "Calculating likelihoods:   0%|          | 0/23 [00:00<?, ?it/s]"
      ]
     },
     "metadata": {},
     "output_type": "display_data"
    },
    {
     "data": {
      "application/vnd.jupyter.widget-view+json": {
       "model_id": "86ebf1a18ca04e09ae70990542b9c300",
       "version_major": 2,
       "version_minor": 0
      },
      "text/plain": [
       "Calculating likelihoods:   0%|          | 0/23 [00:00<?, ?it/s]"
      ]
     },
     "metadata": {},
     "output_type": "display_data"
    },
    {
     "data": {
      "application/vnd.jupyter.widget-view+json": {
       "model_id": "5ca843a4f14a434c9189a122602fa26d",
       "version_major": 2,
       "version_minor": 0
      },
      "text/plain": [
       "Calculating likelihoods:   0%|          | 0/23 [00:00<?, ?it/s]"
      ]
     },
     "metadata": {},
     "output_type": "display_data"
    },
    {
     "data": {
      "application/vnd.jupyter.widget-view+json": {
       "model_id": "882dda65300e45328ac37d31df6e9758",
       "version_major": 2,
       "version_minor": 0
      },
      "text/plain": [
       "Calculating likelihoods:   0%|          | 0/23 [00:00<?, ?it/s]"
      ]
     },
     "metadata": {},
     "output_type": "display_data"
    },
    {
     "data": {
      "application/vnd.jupyter.widget-view+json": {
       "model_id": "4d5a66137e614859a5d62611684ea93f",
       "version_major": 2,
       "version_minor": 0
      },
      "text/plain": [
       "Calculating likelihoods:   0%|          | 0/23 [00:00<?, ?it/s]"
      ]
     },
     "metadata": {},
     "output_type": "display_data"
    },
    {
     "data": {
      "application/vnd.jupyter.widget-view+json": {
       "model_id": "8db01d7bdf10416d9f50a9d7c605d10d",
       "version_major": 2,
       "version_minor": 0
      },
      "text/plain": [
       "Calculating likelihoods:   0%|          | 0/23 [00:00<?, ?it/s]"
      ]
     },
     "metadata": {},
     "output_type": "display_data"
    },
    {
     "data": {
      "application/vnd.jupyter.widget-view+json": {
       "model_id": "31f15b7ef7d14d47a8c20dc334cbe363",
       "version_major": 2,
       "version_minor": 0
      },
      "text/plain": [
       "Calculating likelihoods:   0%|          | 0/23 [00:00<?, ?it/s]"
      ]
     },
     "metadata": {},
     "output_type": "display_data"
    },
    {
     "data": {
      "application/vnd.jupyter.widget-view+json": {
       "model_id": "e0cd44fd98e8452eb4efcb0558528212",
       "version_major": 2,
       "version_minor": 0
      },
      "text/plain": [
       "Calculating likelihoods:   0%|          | 0/23 [00:00<?, ?it/s]"
      ]
     },
     "metadata": {},
     "output_type": "display_data"
    },
    {
     "data": {
      "application/vnd.jupyter.widget-view+json": {
       "model_id": "cea89da0bcc44078acfaf877af1c7961",
       "version_major": 2,
       "version_minor": 0
      },
      "text/plain": [
       "Calculating likelihoods:   0%|          | 0/23 [00:00<?, ?it/s]"
      ]
     },
     "metadata": {},
     "output_type": "display_data"
    },
    {
     "data": {
      "application/vnd.jupyter.widget-view+json": {
       "model_id": "43581c6c3748444a8fde962f7b403521",
       "version_major": 2,
       "version_minor": 0
      },
      "text/plain": [
       "Calculating likelihoods:   0%|          | 0/23 [00:00<?, ?it/s]"
      ]
     },
     "metadata": {},
     "output_type": "display_data"
    },
    {
     "data": {
      "application/vnd.jupyter.widget-view+json": {
       "model_id": "beaefa39572047e5825943a37f3e6800",
       "version_major": 2,
       "version_minor": 0
      },
      "text/plain": [
       "Calculating likelihoods:   0%|          | 0/23 [00:00<?, ?it/s]"
      ]
     },
     "metadata": {},
     "output_type": "display_data"
    },
    {
     "data": {
      "application/vnd.jupyter.widget-view+json": {
       "model_id": "6a6d1fa1d8624873bf64557b66aa0b23",
       "version_major": 2,
       "version_minor": 0
      },
      "text/plain": [
       "Calculating likelihoods:   0%|          | 0/23 [00:00<?, ?it/s]"
      ]
     },
     "metadata": {},
     "output_type": "display_data"
    },
    {
     "data": {
      "application/vnd.jupyter.widget-view+json": {
       "model_id": "98d59adc3f86408c8708f362d5c3bb9e",
       "version_major": 2,
       "version_minor": 0
      },
      "text/plain": [
       "Calculating likelihoods:   0%|          | 0/23 [00:00<?, ?it/s]"
      ]
     },
     "metadata": {},
     "output_type": "display_data"
    },
    {
     "data": {
      "application/vnd.jupyter.widget-view+json": {
       "model_id": "36e135b7476f4cc3ba13c8a80c0c6ef4",
       "version_major": 2,
       "version_minor": 0
      },
      "text/plain": [
       "Calculating likelihoods:   0%|          | 0/23 [00:00<?, ?it/s]"
      ]
     },
     "metadata": {},
     "output_type": "display_data"
    },
    {
     "data": {
      "application/vnd.jupyter.widget-view+json": {
       "model_id": "85a4350fc37844268bb2d9f0fd6c36fd",
       "version_major": 2,
       "version_minor": 0
      },
      "text/plain": [
       "Calculating likelihoods:   0%|          | 0/23 [00:00<?, ?it/s]"
      ]
     },
     "metadata": {},
     "output_type": "display_data"
    },
    {
     "data": {
      "application/vnd.jupyter.widget-view+json": {
       "model_id": "1ded235b2872478c88a54a2b104975b5",
       "version_major": 2,
       "version_minor": 0
      },
      "text/plain": [
       "Calculating likelihoods:   0%|          | 0/23 [00:00<?, ?it/s]"
      ]
     },
     "metadata": {},
     "output_type": "display_data"
    },
    {
     "data": {
      "application/vnd.jupyter.widget-view+json": {
       "model_id": "88ce7e6350314f58a56ddb7d98a96cd9",
       "version_major": 2,
       "version_minor": 0
      },
      "text/plain": [
       "Calculating likelihoods:   0%|          | 0/23 [00:00<?, ?it/s]"
      ]
     },
     "metadata": {},
     "output_type": "display_data"
    },
    {
     "data": {
      "application/vnd.jupyter.widget-view+json": {
       "model_id": "a5f57762479344fcb4411c8ff7aa4879",
       "version_major": 2,
       "version_minor": 0
      },
      "text/plain": [
       "Calculating likelihoods:   0%|          | 0/23 [00:00<?, ?it/s]"
      ]
     },
     "metadata": {},
     "output_type": "display_data"
    },
    {
     "data": {
      "application/vnd.jupyter.widget-view+json": {
       "model_id": "ccd33bb8746f4233a5483bcbfb00aa20",
       "version_major": 2,
       "version_minor": 0
      },
      "text/plain": [
       "Calculating likelihoods:   0%|          | 0/23 [00:00<?, ?it/s]"
      ]
     },
     "metadata": {},
     "output_type": "display_data"
    },
    {
     "data": {
      "application/vnd.jupyter.widget-view+json": {
       "model_id": "4df879394730430397d538859c8c5245",
       "version_major": 2,
       "version_minor": 0
      },
      "text/plain": [
       "Calculating likelihoods:   0%|          | 0/23 [00:00<?, ?it/s]"
      ]
     },
     "metadata": {},
     "output_type": "display_data"
    },
    {
     "data": {
      "application/vnd.jupyter.widget-view+json": {
       "model_id": "ae1c1d6246224a859ce9df50fdd493be",
       "version_major": 2,
       "version_minor": 0
      },
      "text/plain": [
       "Calculating likelihoods:   0%|          | 0/23 [00:00<?, ?it/s]"
      ]
     },
     "metadata": {},
     "output_type": "display_data"
    },
    {
     "data": {
      "application/vnd.jupyter.widget-view+json": {
       "model_id": "5afca1149912409d98db86555d98dd63",
       "version_major": 2,
       "version_minor": 0
      },
      "text/plain": [
       "Calculating likelihoods:   0%|          | 0/23 [00:00<?, ?it/s]"
      ]
     },
     "metadata": {},
     "output_type": "display_data"
    },
    {
     "data": {
      "application/vnd.jupyter.widget-view+json": {
       "model_id": "f5329017cacd4d95ad4db6bc28109a3c",
       "version_major": 2,
       "version_minor": 0
      },
      "text/plain": [
       "Calculating likelihoods:   0%|          | 0/23 [00:00<?, ?it/s]"
      ]
     },
     "metadata": {},
     "output_type": "display_data"
    },
    {
     "data": {
      "application/vnd.jupyter.widget-view+json": {
       "model_id": "faf387b064964bd4a07191dd3c8ad875",
       "version_major": 2,
       "version_minor": 0
      },
      "text/plain": [
       "Calculating likelihoods:   0%|          | 0/23 [00:00<?, ?it/s]"
      ]
     },
     "metadata": {},
     "output_type": "display_data"
    },
    {
     "data": {
      "application/vnd.jupyter.widget-view+json": {
       "model_id": "2d01518f979b43e698869f099f9e85ca",
       "version_major": 2,
       "version_minor": 0
      },
      "text/plain": [
       "Calculating likelihoods:   0%|          | 0/23 [00:00<?, ?it/s]"
      ]
     },
     "metadata": {},
     "output_type": "display_data"
    },
    {
     "data": {
      "application/vnd.jupyter.widget-view+json": {
       "model_id": "83360068b2cf4b89835853692b33d06e",
       "version_major": 2,
       "version_minor": 0
      },
      "text/plain": [
       "Calculating likelihoods:   0%|          | 0/23 [00:00<?, ?it/s]"
      ]
     },
     "metadata": {},
     "output_type": "display_data"
    },
    {
     "data": {
      "application/vnd.jupyter.widget-view+json": {
       "model_id": "cdbeb9b792ce4a00a0ce7d8ce4557db4",
       "version_major": 2,
       "version_minor": 0
      },
      "text/plain": [
       "Calculating likelihoods:   0%|          | 0/23 [00:00<?, ?it/s]"
      ]
     },
     "metadata": {},
     "output_type": "display_data"
    },
    {
     "data": {
      "application/vnd.jupyter.widget-view+json": {
       "model_id": "4b6b845d9a024065bf99cf9a90930a0c",
       "version_major": 2,
       "version_minor": 0
      },
      "text/plain": [
       "Calculating likelihoods:   0%|          | 0/23 [00:00<?, ?it/s]"
      ]
     },
     "metadata": {},
     "output_type": "display_data"
    },
    {
     "data": {
      "application/vnd.jupyter.widget-view+json": {
       "model_id": "6a349cdd2d8042c4a65fd0bffbe62375",
       "version_major": 2,
       "version_minor": 0
      },
      "text/plain": [
       "Calculating likelihoods:   0%|          | 0/23 [00:00<?, ?it/s]"
      ]
     },
     "metadata": {},
     "output_type": "display_data"
    },
    {
     "data": {
      "application/vnd.jupyter.widget-view+json": {
       "model_id": "1d63abb506794dbe8dbf7146dc16f770",
       "version_major": 2,
       "version_minor": 0
      },
      "text/plain": [
       "Calculating likelihoods:   0%|          | 0/23 [00:00<?, ?it/s]"
      ]
     },
     "metadata": {},
     "output_type": "display_data"
    },
    {
     "data": {
      "application/vnd.jupyter.widget-view+json": {
       "model_id": "19bd77a55d714a6fad206c548ad58dde",
       "version_major": 2,
       "version_minor": 0
      },
      "text/plain": [
       "Calculating likelihoods:   0%|          | 0/23 [00:00<?, ?it/s]"
      ]
     },
     "metadata": {},
     "output_type": "display_data"
    },
    {
     "data": {
      "application/vnd.jupyter.widget-view+json": {
       "model_id": "98498c8f153a4938939d7bd25a9bdd74",
       "version_major": 2,
       "version_minor": 0
      },
      "text/plain": [
       "Calculating likelihoods:   0%|          | 0/23 [00:00<?, ?it/s]"
      ]
     },
     "metadata": {},
     "output_type": "display_data"
    },
    {
     "data": {
      "application/vnd.jupyter.widget-view+json": {
       "model_id": "9af7ce4d3cf94610bbf6c75be2d60e8c",
       "version_major": 2,
       "version_minor": 0
      },
      "text/plain": [
       "Calculating likelihoods:   0%|          | 0/23 [00:00<?, ?it/s]"
      ]
     },
     "metadata": {},
     "output_type": "display_data"
    },
    {
     "data": {
      "application/vnd.jupyter.widget-view+json": {
       "model_id": "c6da4a9f1da14d5b9df6da7ac2aca57c",
       "version_major": 2,
       "version_minor": 0
      },
      "text/plain": [
       "Calculating likelihoods:   0%|          | 0/23 [00:00<?, ?it/s]"
      ]
     },
     "metadata": {},
     "output_type": "display_data"
    },
    {
     "data": {
      "application/vnd.jupyter.widget-view+json": {
       "model_id": "1ffc99efdf2e430483dbfeef208cbe39",
       "version_major": 2,
       "version_minor": 0
      },
      "text/plain": [
       "Calculating likelihoods:   0%|          | 0/23 [00:00<?, ?it/s]"
      ]
     },
     "metadata": {},
     "output_type": "display_data"
    },
    {
     "data": {
      "application/vnd.jupyter.widget-view+json": {
       "model_id": "e223e99676a7408aa8b3d5bf4ce2f7de",
       "version_major": 2,
       "version_minor": 0
      },
      "text/plain": [
       "Calculating likelihoods:   0%|          | 0/23 [00:00<?, ?it/s]"
      ]
     },
     "metadata": {},
     "output_type": "display_data"
    },
    {
     "data": {
      "application/vnd.jupyter.widget-view+json": {
       "model_id": "e08cfc295df547028747d9426ab15aeb",
       "version_major": 2,
       "version_minor": 0
      },
      "text/plain": [
       "Calculating likelihoods:   0%|          | 0/23 [00:00<?, ?it/s]"
      ]
     },
     "metadata": {},
     "output_type": "display_data"
    },
    {
     "data": {
      "application/vnd.jupyter.widget-view+json": {
       "model_id": "f8640f0aea874743b0a4be8043218b0d",
       "version_major": 2,
       "version_minor": 0
      },
      "text/plain": [
       "Calculating likelihoods:   0%|          | 0/23 [00:00<?, ?it/s]"
      ]
     },
     "metadata": {},
     "output_type": "display_data"
    },
    {
     "data": {
      "application/vnd.jupyter.widget-view+json": {
       "model_id": "42923f5f717847bca8d0ff070976e0df",
       "version_major": 2,
       "version_minor": 0
      },
      "text/plain": [
       "Calculating likelihoods:   0%|          | 0/23 [00:00<?, ?it/s]"
      ]
     },
     "metadata": {},
     "output_type": "display_data"
    },
    {
     "data": {
      "application/vnd.jupyter.widget-view+json": {
       "model_id": "b0143953a46f43c08d3868d6ac586ebe",
       "version_major": 2,
       "version_minor": 0
      },
      "text/plain": [
       "Calculating likelihoods:   0%|          | 0/23 [00:00<?, ?it/s]"
      ]
     },
     "metadata": {},
     "output_type": "display_data"
    },
    {
     "data": {
      "application/vnd.jupyter.widget-view+json": {
       "model_id": "08f8c5ca95bc4a24ae84dc75e626f257",
       "version_major": 2,
       "version_minor": 0
      },
      "text/plain": [
       "Calculating likelihoods:   0%|          | 0/23 [00:00<?, ?it/s]"
      ]
     },
     "metadata": {},
     "output_type": "display_data"
    },
    {
     "data": {
      "application/vnd.jupyter.widget-view+json": {
       "model_id": "0ba95256aabf4054b66e75b67941ec27",
       "version_major": 2,
       "version_minor": 0
      },
      "text/plain": [
       "Calculating likelihoods:   0%|          | 0/23 [00:00<?, ?it/s]"
      ]
     },
     "metadata": {},
     "output_type": "display_data"
    },
    {
     "data": {
      "application/vnd.jupyter.widget-view+json": {
       "model_id": "2e75473d53434b1ca54b1fc55ff68ed2",
       "version_major": 2,
       "version_minor": 0
      },
      "text/plain": [
       "Calculating likelihoods:   0%|          | 0/23 [00:00<?, ?it/s]"
      ]
     },
     "metadata": {},
     "output_type": "display_data"
    },
    {
     "data": {
      "application/vnd.jupyter.widget-view+json": {
       "model_id": "01b5863aa2d5425e89c31785b50c80fe",
       "version_major": 2,
       "version_minor": 0
      },
      "text/plain": [
       "Calculating likelihoods:   0%|          | 0/23 [00:00<?, ?it/s]"
      ]
     },
     "metadata": {},
     "output_type": "display_data"
    },
    {
     "data": {
      "application/vnd.jupyter.widget-view+json": {
       "model_id": "933c9d7c1055486183cbb43b631567c1",
       "version_major": 2,
       "version_minor": 0
      },
      "text/plain": [
       "Calculating likelihoods:   0%|          | 0/23 [00:00<?, ?it/s]"
      ]
     },
     "metadata": {},
     "output_type": "display_data"
    },
    {
     "data": {
      "application/vnd.jupyter.widget-view+json": {
       "model_id": "1f3e051fd93142128d45145234c70a54",
       "version_major": 2,
       "version_minor": 0
      },
      "text/plain": [
       "Calculating likelihoods:   0%|          | 0/23 [00:00<?, ?it/s]"
      ]
     },
     "metadata": {},
     "output_type": "display_data"
    },
    {
     "data": {
      "application/vnd.jupyter.widget-view+json": {
       "model_id": "94388a2b37874b9a92ed01162c627b4f",
       "version_major": 2,
       "version_minor": 0
      },
      "text/plain": [
       "Calculating likelihoods:   0%|          | 0/23 [00:00<?, ?it/s]"
      ]
     },
     "metadata": {},
     "output_type": "display_data"
    },
    {
     "data": {
      "application/vnd.jupyter.widget-view+json": {
       "model_id": "e58f4b935e2d41afb9ecda31eea60ba4",
       "version_major": 2,
       "version_minor": 0
      },
      "text/plain": [
       "Calculating likelihoods:   0%|          | 0/23 [00:00<?, ?it/s]"
      ]
     },
     "metadata": {},
     "output_type": "display_data"
    },
    {
     "data": {
      "application/vnd.jupyter.widget-view+json": {
       "model_id": "e54608be0b164878bc53c36891ef66f0",
       "version_major": 2,
       "version_minor": 0
      },
      "text/plain": [
       "Calculating likelihoods:   0%|          | 0/23 [00:00<?, ?it/s]"
      ]
     },
     "metadata": {},
     "output_type": "display_data"
    },
    {
     "data": {
      "application/vnd.jupyter.widget-view+json": {
       "model_id": "b289b74229bb4b50867d72ac71f08f1b",
       "version_major": 2,
       "version_minor": 0
      },
      "text/plain": [
       "Calculating likelihoods:   0%|          | 0/23 [00:00<?, ?it/s]"
      ]
     },
     "metadata": {},
     "output_type": "display_data"
    },
    {
     "data": {
      "application/vnd.jupyter.widget-view+json": {
       "model_id": "bb2a1f6541644009afec7865784edff1",
       "version_major": 2,
       "version_minor": 0
      },
      "text/plain": [
       "Calculating likelihoods:   0%|          | 0/23 [00:00<?, ?it/s]"
      ]
     },
     "metadata": {},
     "output_type": "display_data"
    },
    {
     "data": {
      "application/vnd.jupyter.widget-view+json": {
       "model_id": "984f67cb24ff435cbbdfa44a22394a47",
       "version_major": 2,
       "version_minor": 0
      },
      "text/plain": [
       "Calculating likelihoods:   0%|          | 0/23 [00:00<?, ?it/s]"
      ]
     },
     "metadata": {},
     "output_type": "display_data"
    },
    {
     "data": {
      "application/vnd.jupyter.widget-view+json": {
       "model_id": "9ba1486b9aec4d8db55da27e03a9217c",
       "version_major": 2,
       "version_minor": 0
      },
      "text/plain": [
       "Calculating likelihoods:   0%|          | 0/23 [00:00<?, ?it/s]"
      ]
     },
     "metadata": {},
     "output_type": "display_data"
    },
    {
     "data": {
      "application/vnd.jupyter.widget-view+json": {
       "model_id": "ca1c5b59478b48d28e18a9d224380e3b",
       "version_major": 2,
       "version_minor": 0
      },
      "text/plain": [
       "Calculating likelihoods:   0%|          | 0/23 [00:00<?, ?it/s]"
      ]
     },
     "metadata": {},
     "output_type": "display_data"
    },
    {
     "data": {
      "application/vnd.jupyter.widget-view+json": {
       "model_id": "debb55cb19b54d57adfd8b3942fd260d",
       "version_major": 2,
       "version_minor": 0
      },
      "text/plain": [
       "Calculating likelihoods:   0%|          | 0/23 [00:00<?, ?it/s]"
      ]
     },
     "metadata": {},
     "output_type": "display_data"
    },
    {
     "data": {
      "application/vnd.jupyter.widget-view+json": {
       "model_id": "7608f0ac39444761a295cbb9a6e22654",
       "version_major": 2,
       "version_minor": 0
      },
      "text/plain": [
       "Calculating likelihoods:   0%|          | 0/23 [00:00<?, ?it/s]"
      ]
     },
     "metadata": {},
     "output_type": "display_data"
    },
    {
     "data": {
      "application/vnd.jupyter.widget-view+json": {
       "model_id": "11f57f23518f44a48ae7360af49dc052",
       "version_major": 2,
       "version_minor": 0
      },
      "text/plain": [
       "Calculating likelihoods:   0%|          | 0/23 [00:00<?, ?it/s]"
      ]
     },
     "metadata": {},
     "output_type": "display_data"
    },
    {
     "data": {
      "application/vnd.jupyter.widget-view+json": {
       "model_id": "2cf5c7895b424c0fb0cabab88291c2cb",
       "version_major": 2,
       "version_minor": 0
      },
      "text/plain": [
       "Calculating likelihoods:   0%|          | 0/23 [00:00<?, ?it/s]"
      ]
     },
     "metadata": {},
     "output_type": "display_data"
    },
    {
     "data": {
      "application/vnd.jupyter.widget-view+json": {
       "model_id": "8e823dea4de04501913c968f86721765",
       "version_major": 2,
       "version_minor": 0
      },
      "text/plain": [
       "Calculating likelihoods:   0%|          | 0/23 [00:00<?, ?it/s]"
      ]
     },
     "metadata": {},
     "output_type": "display_data"
    },
    {
     "data": {
      "application/vnd.jupyter.widget-view+json": {
       "model_id": "64fe77c49e324e4cbce59da0d13cccaa",
       "version_major": 2,
       "version_minor": 0
      },
      "text/plain": [
       "Calculating likelihoods:   0%|          | 0/23 [00:00<?, ?it/s]"
      ]
     },
     "metadata": {},
     "output_type": "display_data"
    },
    {
     "data": {
      "application/vnd.jupyter.widget-view+json": {
       "model_id": "945a330e78304d269ab5e0b92b721a08",
       "version_major": 2,
       "version_minor": 0
      },
      "text/plain": [
       "Calculating likelihoods:   0%|          | 0/23 [00:00<?, ?it/s]"
      ]
     },
     "metadata": {},
     "output_type": "display_data"
    },
    {
     "data": {
      "application/vnd.jupyter.widget-view+json": {
       "model_id": "e4fb85d12aaa4ef69f80125c1b59fe62",
       "version_major": 2,
       "version_minor": 0
      },
      "text/plain": [
       "Calculating likelihoods:   0%|          | 0/23 [00:00<?, ?it/s]"
      ]
     },
     "metadata": {},
     "output_type": "display_data"
    },
    {
     "data": {
      "application/vnd.jupyter.widget-view+json": {
       "model_id": "4d98ec7bcea0437f85a44b2427132b0d",
       "version_major": 2,
       "version_minor": 0
      },
      "text/plain": [
       "Calculating likelihoods:   0%|          | 0/23 [00:00<?, ?it/s]"
      ]
     },
     "metadata": {},
     "output_type": "display_data"
    },
    {
     "data": {
      "application/vnd.jupyter.widget-view+json": {
       "model_id": "08ea3c589a5040f8aed21858a824679a",
       "version_major": 2,
       "version_minor": 0
      },
      "text/plain": [
       "Calculating likelihoods:   0%|          | 0/23 [00:00<?, ?it/s]"
      ]
     },
     "metadata": {},
     "output_type": "display_data"
    },
    {
     "data": {
      "application/vnd.jupyter.widget-view+json": {
       "model_id": "f5a9a43200f44e568697cb9e8c681fe4",
       "version_major": 2,
       "version_minor": 0
      },
      "text/plain": [
       "Calculating likelihoods:   0%|          | 0/23 [00:00<?, ?it/s]"
      ]
     },
     "metadata": {},
     "output_type": "display_data"
    },
    {
     "data": {
      "application/vnd.jupyter.widget-view+json": {
       "model_id": "27cfbed473aa4cc6a2ead92ce623e0ec",
       "version_major": 2,
       "version_minor": 0
      },
      "text/plain": [
       "Calculating likelihoods:   0%|          | 0/23 [00:00<?, ?it/s]"
      ]
     },
     "metadata": {},
     "output_type": "display_data"
    },
    {
     "data": {
      "application/vnd.jupyter.widget-view+json": {
       "model_id": "02fa2f1302ee48c29ddfd4f7c500be9e",
       "version_major": 2,
       "version_minor": 0
      },
      "text/plain": [
       "Calculating likelihoods:   0%|          | 0/23 [00:00<?, ?it/s]"
      ]
     },
     "metadata": {},
     "output_type": "display_data"
    },
    {
     "data": {
      "application/vnd.jupyter.widget-view+json": {
       "model_id": "9e9b9a2c075d43e78e31216e2a9f43a0",
       "version_major": 2,
       "version_minor": 0
      },
      "text/plain": [
       "Calculating likelihoods:   0%|          | 0/23 [00:00<?, ?it/s]"
      ]
     },
     "metadata": {},
     "output_type": "display_data"
    },
    {
     "data": {
      "application/vnd.jupyter.widget-view+json": {
       "model_id": "a169993dc47e4bec991ec6196df3e2b4",
       "version_major": 2,
       "version_minor": 0
      },
      "text/plain": [
       "Calculating likelihoods:   0%|          | 0/23 [00:00<?, ?it/s]"
      ]
     },
     "metadata": {},
     "output_type": "display_data"
    },
    {
     "data": {
      "application/vnd.jupyter.widget-view+json": {
       "model_id": "4dc670d2c91b4f7aa9c7e5227657171a",
       "version_major": 2,
       "version_minor": 0
      },
      "text/plain": [
       "Calculating likelihoods:   0%|          | 0/23 [00:00<?, ?it/s]"
      ]
     },
     "metadata": {},
     "output_type": "display_data"
    },
    {
     "data": {
      "application/vnd.jupyter.widget-view+json": {
       "model_id": "a24dc22946b246e598520d947037cb2e",
       "version_major": 2,
       "version_minor": 0
      },
      "text/plain": [
       "Calculating likelihoods:   0%|          | 0/23 [00:00<?, ?it/s]"
      ]
     },
     "metadata": {},
     "output_type": "display_data"
    },
    {
     "data": {
      "application/vnd.jupyter.widget-view+json": {
       "model_id": "8328219f1707435fac6566373e9af62c",
       "version_major": 2,
       "version_minor": 0
      },
      "text/plain": [
       "Calculating likelihoods:   0%|          | 0/23 [00:00<?, ?it/s]"
      ]
     },
     "metadata": {},
     "output_type": "display_data"
    },
    {
     "data": {
      "application/vnd.jupyter.widget-view+json": {
       "model_id": "631df02d2089443db229457c48f1f18a",
       "version_major": 2,
       "version_minor": 0
      },
      "text/plain": [
       "Calculating likelihoods:   0%|          | 0/23 [00:00<?, ?it/s]"
      ]
     },
     "metadata": {},
     "output_type": "display_data"
    },
    {
     "data": {
      "application/vnd.jupyter.widget-view+json": {
       "model_id": "3dcba1650c2643a3ac0035f6f43ce8e4",
       "version_major": 2,
       "version_minor": 0
      },
      "text/plain": [
       "Calculating likelihoods:   0%|          | 0/23 [00:00<?, ?it/s]"
      ]
     },
     "metadata": {},
     "output_type": "display_data"
    },
    {
     "data": {
      "application/vnd.jupyter.widget-view+json": {
       "model_id": "70016b21347f4c879170bad71bd9d9ed",
       "version_major": 2,
       "version_minor": 0
      },
      "text/plain": [
       "Calculating likelihoods:   0%|          | 0/23 [00:00<?, ?it/s]"
      ]
     },
     "metadata": {},
     "output_type": "display_data"
    },
    {
     "data": {
      "application/vnd.jupyter.widget-view+json": {
       "model_id": "55e9560935a2479f8c4c44aa28a98dc0",
       "version_major": 2,
       "version_minor": 0
      },
      "text/plain": [
       "Calculating likelihoods:   0%|          | 0/23 [00:00<?, ?it/s]"
      ]
     },
     "metadata": {},
     "output_type": "display_data"
    },
    {
     "data": {
      "application/vnd.jupyter.widget-view+json": {
       "model_id": "1748345c01ca4534a09f2fecfd3d299d",
       "version_major": 2,
       "version_minor": 0
      },
      "text/plain": [
       "Calculating likelihoods:   0%|          | 0/23 [00:00<?, ?it/s]"
      ]
     },
     "metadata": {},
     "output_type": "display_data"
    },
    {
     "data": {
      "application/vnd.jupyter.widget-view+json": {
       "model_id": "849e6405bdc24a3c962c36a739c27ebe",
       "version_major": 2,
       "version_minor": 0
      },
      "text/plain": [
       "Calculating likelihoods:   0%|          | 0/23 [00:00<?, ?it/s]"
      ]
     },
     "metadata": {},
     "output_type": "display_data"
    },
    {
     "data": {
      "application/vnd.jupyter.widget-view+json": {
       "model_id": "1d5cc965ed0944fca93966a28c43cc38",
       "version_major": 2,
       "version_minor": 0
      },
      "text/plain": [
       "Calculating likelihoods:   0%|          | 0/23 [00:00<?, ?it/s]"
      ]
     },
     "metadata": {},
     "output_type": "display_data"
    },
    {
     "data": {
      "application/vnd.jupyter.widget-view+json": {
       "model_id": "3bd9266b661b461390adb994f15fe3b6",
       "version_major": 2,
       "version_minor": 0
      },
      "text/plain": [
       "Calculating likelihoods:   0%|          | 0/23 [00:00<?, ?it/s]"
      ]
     },
     "metadata": {},
     "output_type": "display_data"
    },
    {
     "data": {
      "application/vnd.jupyter.widget-view+json": {
       "model_id": "10c5a7e4eea640ffb71ef030bea5fd48",
       "version_major": 2,
       "version_minor": 0
      },
      "text/plain": [
       "Calculating likelihoods:   0%|          | 0/23 [00:00<?, ?it/s]"
      ]
     },
     "metadata": {},
     "output_type": "display_data"
    },
    {
     "data": {
      "application/vnd.jupyter.widget-view+json": {
       "model_id": "5ffd1cda7b384a9fa955b0b767274472",
       "version_major": 2,
       "version_minor": 0
      },
      "text/plain": [
       "Calculating likelihoods:   0%|          | 0/23 [00:00<?, ?it/s]"
      ]
     },
     "metadata": {},
     "output_type": "display_data"
    },
    {
     "data": {
      "application/vnd.jupyter.widget-view+json": {
       "model_id": "5e984a3ba2624c779e17c8b91a0943b8",
       "version_major": 2,
       "version_minor": 0
      },
      "text/plain": [
       "Calculating likelihoods:   0%|          | 0/23 [00:00<?, ?it/s]"
      ]
     },
     "metadata": {},
     "output_type": "display_data"
    },
    {
     "data": {
      "application/vnd.jupyter.widget-view+json": {
       "model_id": "a74e181624354f9f8ff478a21ca66c40",
       "version_major": 2,
       "version_minor": 0
      },
      "text/plain": [
       "Calculating likelihoods:   0%|          | 0/23 [00:00<?, ?it/s]"
      ]
     },
     "metadata": {},
     "output_type": "display_data"
    },
    {
     "data": {
      "application/vnd.jupyter.widget-view+json": {
       "model_id": "589c1757b85b40e385331d131acdc621",
       "version_major": 2,
       "version_minor": 0
      },
      "text/plain": [
       "Calculating likelihoods:   0%|          | 0/23 [00:00<?, ?it/s]"
      ]
     },
     "metadata": {},
     "output_type": "display_data"
    },
    {
     "data": {
      "application/vnd.jupyter.widget-view+json": {
       "model_id": "78a76a4680a7493cabaca7ddfd814c2d",
       "version_major": 2,
       "version_minor": 0
      },
      "text/plain": [
       "Calculating likelihoods:   0%|          | 0/23 [00:00<?, ?it/s]"
      ]
     },
     "metadata": {},
     "output_type": "display_data"
    },
    {
     "data": {
      "application/vnd.jupyter.widget-view+json": {
       "model_id": "040e559b00b640c49fb493d969611b28",
       "version_major": 2,
       "version_minor": 0
      },
      "text/plain": [
       "Calculating likelihoods:   0%|          | 0/23 [00:00<?, ?it/s]"
      ]
     },
     "metadata": {},
     "output_type": "display_data"
    },
    {
     "data": {
      "application/vnd.jupyter.widget-view+json": {
       "model_id": "ec2f5b211af14ba1994d7e6421db7ef1",
       "version_major": 2,
       "version_minor": 0
      },
      "text/plain": [
       "Calculating likelihoods:   0%|          | 0/23 [00:00<?, ?it/s]"
      ]
     },
     "metadata": {},
     "output_type": "display_data"
    },
    {
     "data": {
      "application/vnd.jupyter.widget-view+json": {
       "model_id": "d72ccc883d3d4f16a6289de205e5f57c",
       "version_major": 2,
       "version_minor": 0
      },
      "text/plain": [
       "Calculating likelihoods:   0%|          | 0/23 [00:00<?, ?it/s]"
      ]
     },
     "metadata": {},
     "output_type": "display_data"
    },
    {
     "data": {
      "application/vnd.jupyter.widget-view+json": {
       "model_id": "55b31a2d04e44342b7a79467212257c6",
       "version_major": 2,
       "version_minor": 0
      },
      "text/plain": [
       "Calculating likelihoods:   0%|          | 0/23 [00:00<?, ?it/s]"
      ]
     },
     "metadata": {},
     "output_type": "display_data"
    },
    {
     "data": {
      "application/vnd.jupyter.widget-view+json": {
       "model_id": "78705ebc18034d1ba02713ed9b9a099c",
       "version_major": 2,
       "version_minor": 0
      },
      "text/plain": [
       "Calculating likelihoods:   0%|          | 0/23 [00:00<?, ?it/s]"
      ]
     },
     "metadata": {},
     "output_type": "display_data"
    },
    {
     "data": {
      "application/vnd.jupyter.widget-view+json": {
       "model_id": "3651316104ed4f76a11baacd72a6f4a1",
       "version_major": 2,
       "version_minor": 0
      },
      "text/plain": [
       "Calculating likelihoods:   0%|          | 0/23 [00:00<?, ?it/s]"
      ]
     },
     "metadata": {},
     "output_type": "display_data"
    },
    {
     "data": {
      "application/vnd.jupyter.widget-view+json": {
       "model_id": "659c4d413b3f45adbc3de1a82a930c92",
       "version_major": 2,
       "version_minor": 0
      },
      "text/plain": [
       "Calculating likelihoods:   0%|          | 0/23 [00:00<?, ?it/s]"
      ]
     },
     "metadata": {},
     "output_type": "display_data"
    },
    {
     "data": {
      "application/vnd.jupyter.widget-view+json": {
       "model_id": "f19647b69422472cb17e8c296e6532b2",
       "version_major": 2,
       "version_minor": 0
      },
      "text/plain": [
       "Calculating likelihoods:   0%|          | 0/23 [00:00<?, ?it/s]"
      ]
     },
     "metadata": {},
     "output_type": "display_data"
    },
    {
     "data": {
      "application/vnd.jupyter.widget-view+json": {
       "model_id": "35605d7c39e5429ba9a2e7554c937928",
       "version_major": 2,
       "version_minor": 0
      },
      "text/plain": [
       "Calculating likelihoods:   0%|          | 0/23 [00:00<?, ?it/s]"
      ]
     },
     "metadata": {},
     "output_type": "display_data"
    },
    {
     "data": {
      "application/vnd.jupyter.widget-view+json": {
       "model_id": "0d88e11ce9f4466caf8fa430d6e68f22",
       "version_major": 2,
       "version_minor": 0
      },
      "text/plain": [
       "Calculating likelihoods:   0%|          | 0/23 [00:00<?, ?it/s]"
      ]
     },
     "metadata": {},
     "output_type": "display_data"
    },
    {
     "data": {
      "application/vnd.jupyter.widget-view+json": {
       "model_id": "cf347576c1ff4e85a83c7e1e2c45d9c5",
       "version_major": 2,
       "version_minor": 0
      },
      "text/plain": [
       "Calculating likelihoods:   0%|          | 0/23 [00:00<?, ?it/s]"
      ]
     },
     "metadata": {},
     "output_type": "display_data"
    },
    {
     "data": {
      "application/vnd.jupyter.widget-view+json": {
       "model_id": "2db2a65e2c7442a3bbbf446b932e21a5",
       "version_major": 2,
       "version_minor": 0
      },
      "text/plain": [
       "Calculating likelihoods:   0%|          | 0/23 [00:00<?, ?it/s]"
      ]
     },
     "metadata": {},
     "output_type": "display_data"
    },
    {
     "data": {
      "application/vnd.jupyter.widget-view+json": {
       "model_id": "5a1857407a304e21938a25846592eec5",
       "version_major": 2,
       "version_minor": 0
      },
      "text/plain": [
       "Calculating likelihoods:   0%|          | 0/23 [00:00<?, ?it/s]"
      ]
     },
     "metadata": {},
     "output_type": "display_data"
    },
    {
     "data": {
      "application/vnd.jupyter.widget-view+json": {
       "model_id": "61600e10a5414516872ef945ed1729fb",
       "version_major": 2,
       "version_minor": 0
      },
      "text/plain": [
       "Calculating likelihoods:   0%|          | 0/23 [00:00<?, ?it/s]"
      ]
     },
     "metadata": {},
     "output_type": "display_data"
    },
    {
     "data": {
      "application/vnd.jupyter.widget-view+json": {
       "model_id": "21633f47994341cf89ee76e8ee711212",
       "version_major": 2,
       "version_minor": 0
      },
      "text/plain": [
       "Calculating likelihoods:   0%|          | 0/23 [00:00<?, ?it/s]"
      ]
     },
     "metadata": {},
     "output_type": "display_data"
    },
    {
     "data": {
      "application/vnd.jupyter.widget-view+json": {
       "model_id": "aad4ca273df64ebeb340f0d96cc05d2c",
       "version_major": 2,
       "version_minor": 0
      },
      "text/plain": [
       "Calculating likelihoods:   0%|          | 0/23 [00:00<?, ?it/s]"
      ]
     },
     "metadata": {},
     "output_type": "display_data"
    },
    {
     "data": {
      "application/vnd.jupyter.widget-view+json": {
       "model_id": "a92f01148d204e4a8dd13d7a3721dd43",
       "version_major": 2,
       "version_minor": 0
      },
      "text/plain": [
       "Calculating likelihoods:   0%|          | 0/23 [00:00<?, ?it/s]"
      ]
     },
     "metadata": {},
     "output_type": "display_data"
    },
    {
     "data": {
      "application/vnd.jupyter.widget-view+json": {
       "model_id": "eb4730fa3c1b4c5a9b3cccd6eeaf0cad",
       "version_major": 2,
       "version_minor": 0
      },
      "text/plain": [
       "Calculating likelihoods:   0%|          | 0/23 [00:00<?, ?it/s]"
      ]
     },
     "metadata": {},
     "output_type": "display_data"
    },
    {
     "data": {
      "application/vnd.jupyter.widget-view+json": {
       "model_id": "fa94ab86304740a99231299b73e06446",
       "version_major": 2,
       "version_minor": 0
      },
      "text/plain": [
       "Calculating likelihoods:   0%|          | 0/23 [00:00<?, ?it/s]"
      ]
     },
     "metadata": {},
     "output_type": "display_data"
    },
    {
     "data": {
      "application/vnd.jupyter.widget-view+json": {
       "model_id": "9b9534b3d3af4e948b6624cdef82dfdb",
       "version_major": 2,
       "version_minor": 0
      },
      "text/plain": [
       "Calculating likelihoods:   0%|          | 0/23 [00:00<?, ?it/s]"
      ]
     },
     "metadata": {},
     "output_type": "display_data"
    },
    {
     "data": {
      "application/vnd.jupyter.widget-view+json": {
       "model_id": "e86452c14b2242d0ba3466c426478d38",
       "version_major": 2,
       "version_minor": 0
      },
      "text/plain": [
       "Calculating likelihoods:   0%|          | 0/23 [00:00<?, ?it/s]"
      ]
     },
     "metadata": {},
     "output_type": "display_data"
    },
    {
     "data": {
      "application/vnd.jupyter.widget-view+json": {
       "model_id": "c973961b5fe84d179119795d303f1e24",
       "version_major": 2,
       "version_minor": 0
      },
      "text/plain": [
       "Calculating likelihoods:   0%|          | 0/23 [00:00<?, ?it/s]"
      ]
     },
     "metadata": {},
     "output_type": "display_data"
    },
    {
     "data": {
      "application/vnd.jupyter.widget-view+json": {
       "model_id": "4f972c643dec43e38557c19edf95954e",
       "version_major": 2,
       "version_minor": 0
      },
      "text/plain": [
       "Calculating likelihoods:   0%|          | 0/23 [00:00<?, ?it/s]"
      ]
     },
     "metadata": {},
     "output_type": "display_data"
    },
    {
     "data": {
      "application/vnd.jupyter.widget-view+json": {
       "model_id": "4f306112d5b3430eb22644c00ca08429",
       "version_major": 2,
       "version_minor": 0
      },
      "text/plain": [
       "Calculating likelihoods:   0%|          | 0/23 [00:00<?, ?it/s]"
      ]
     },
     "metadata": {},
     "output_type": "display_data"
    },
    {
     "data": {
      "application/vnd.jupyter.widget-view+json": {
       "model_id": "28225036fce246debbf4e05ef7c022fa",
       "version_major": 2,
       "version_minor": 0
      },
      "text/plain": [
       "Calculating likelihoods:   0%|          | 0/23 [00:00<?, ?it/s]"
      ]
     },
     "metadata": {},
     "output_type": "display_data"
    },
    {
     "data": {
      "application/vnd.jupyter.widget-view+json": {
       "model_id": "f5379a6e42424abd936018407ef2ae3a",
       "version_major": 2,
       "version_minor": 0
      },
      "text/plain": [
       "Calculating likelihoods:   0%|          | 0/23 [00:00<?, ?it/s]"
      ]
     },
     "metadata": {},
     "output_type": "display_data"
    },
    {
     "data": {
      "application/vnd.jupyter.widget-view+json": {
       "model_id": "374d250e171e4ee783219f6af9d06e75",
       "version_major": 2,
       "version_minor": 0
      },
      "text/plain": [
       "Calculating likelihoods:   0%|          | 0/23 [00:00<?, ?it/s]"
      ]
     },
     "metadata": {},
     "output_type": "display_data"
    },
    {
     "data": {
      "application/vnd.jupyter.widget-view+json": {
       "model_id": "dd1dc70434444ce8a85d3abe558e8ab9",
       "version_major": 2,
       "version_minor": 0
      },
      "text/plain": [
       "Calculating likelihoods:   0%|          | 0/23 [00:00<?, ?it/s]"
      ]
     },
     "metadata": {},
     "output_type": "display_data"
    },
    {
     "data": {
      "application/vnd.jupyter.widget-view+json": {
       "model_id": "0a6b30ad2e7b4c28b3e73344a84824b1",
       "version_major": 2,
       "version_minor": 0
      },
      "text/plain": [
       "Calculating likelihoods:   0%|          | 0/23 [00:00<?, ?it/s]"
      ]
     },
     "metadata": {},
     "output_type": "display_data"
    },
    {
     "data": {
      "application/vnd.jupyter.widget-view+json": {
       "model_id": "1cb14d8c2ba444a89a6817573fe61648",
       "version_major": 2,
       "version_minor": 0
      },
      "text/plain": [
       "Calculating likelihoods:   0%|          | 0/23 [00:00<?, ?it/s]"
      ]
     },
     "metadata": {},
     "output_type": "display_data"
    },
    {
     "data": {
      "application/vnd.jupyter.widget-view+json": {
       "model_id": "1019c0c888694f96a77d5eaeb0001c08",
       "version_major": 2,
       "version_minor": 0
      },
      "text/plain": [
       "Calculating likelihoods:   0%|          | 0/23 [00:00<?, ?it/s]"
      ]
     },
     "metadata": {},
     "output_type": "display_data"
    },
    {
     "data": {
      "application/vnd.jupyter.widget-view+json": {
       "model_id": "fe15bf31761d49c29b83709f72fd83d2",
       "version_major": 2,
       "version_minor": 0
      },
      "text/plain": [
       "Calculating likelihoods:   0%|          | 0/23 [00:00<?, ?it/s]"
      ]
     },
     "metadata": {},
     "output_type": "display_data"
    },
    {
     "data": {
      "application/vnd.jupyter.widget-view+json": {
       "model_id": "620908739f80438d87096860b5dc059a",
       "version_major": 2,
       "version_minor": 0
      },
      "text/plain": [
       "Calculating likelihoods:   0%|          | 0/23 [00:00<?, ?it/s]"
      ]
     },
     "metadata": {},
     "output_type": "display_data"
    },
    {
     "data": {
      "application/vnd.jupyter.widget-view+json": {
       "model_id": "a18f0e9e221d463bb7dcadce164f3ba1",
       "version_major": 2,
       "version_minor": 0
      },
      "text/plain": [
       "Calculating likelihoods:   0%|          | 0/23 [00:00<?, ?it/s]"
      ]
     },
     "metadata": {},
     "output_type": "display_data"
    },
    {
     "data": {
      "application/vnd.jupyter.widget-view+json": {
       "model_id": "5cce8e577f084442942a649f8d437325",
       "version_major": 2,
       "version_minor": 0
      },
      "text/plain": [
       "Calculating likelihoods:   0%|          | 0/23 [00:00<?, ?it/s]"
      ]
     },
     "metadata": {},
     "output_type": "display_data"
    },
    {
     "data": {
      "application/vnd.jupyter.widget-view+json": {
       "model_id": "aa487959299c4871a155bab21f62d53f",
       "version_major": 2,
       "version_minor": 0
      },
      "text/plain": [
       "Calculating likelihoods:   0%|          | 0/23 [00:00<?, ?it/s]"
      ]
     },
     "metadata": {},
     "output_type": "display_data"
    },
    {
     "data": {
      "application/vnd.jupyter.widget-view+json": {
       "model_id": "95d94a5c01e448cd96562b91332602d8",
       "version_major": 2,
       "version_minor": 0
      },
      "text/plain": [
       "Calculating likelihoods:   0%|          | 0/23 [00:00<?, ?it/s]"
      ]
     },
     "metadata": {},
     "output_type": "display_data"
    },
    {
     "data": {
      "application/vnd.jupyter.widget-view+json": {
       "model_id": "941e21688cd44ded85e641d5e8954970",
       "version_major": 2,
       "version_minor": 0
      },
      "text/plain": [
       "Calculating likelihoods:   0%|          | 0/23 [00:00<?, ?it/s]"
      ]
     },
     "metadata": {},
     "output_type": "display_data"
    },
    {
     "data": {
      "application/vnd.jupyter.widget-view+json": {
       "model_id": "bfde9a3810b54f2c9438b6f58d4d3a32",
       "version_major": 2,
       "version_minor": 0
      },
      "text/plain": [
       "Calculating likelihoods:   0%|          | 0/23 [00:00<?, ?it/s]"
      ]
     },
     "metadata": {},
     "output_type": "display_data"
    },
    {
     "data": {
      "application/vnd.jupyter.widget-view+json": {
       "model_id": "8a69834b12cb441a8bd1966e6885e6a6",
       "version_major": 2,
       "version_minor": 0
      },
      "text/plain": [
       "Calculating likelihoods:   0%|          | 0/23 [00:00<?, ?it/s]"
      ]
     },
     "metadata": {},
     "output_type": "display_data"
    },
    {
     "data": {
      "application/vnd.jupyter.widget-view+json": {
       "model_id": "1ad258694bbe4d2a8b3ae14e33301d8e",
       "version_major": 2,
       "version_minor": 0
      },
      "text/plain": [
       "Calculating likelihoods:   0%|          | 0/23 [00:00<?, ?it/s]"
      ]
     },
     "metadata": {},
     "output_type": "display_data"
    },
    {
     "data": {
      "application/vnd.jupyter.widget-view+json": {
       "model_id": "cecd739af5f944f8b6d28e5ba908de8e",
       "version_major": 2,
       "version_minor": 0
      },
      "text/plain": [
       "Calculating likelihoods:   0%|          | 0/23 [00:00<?, ?it/s]"
      ]
     },
     "metadata": {},
     "output_type": "display_data"
    },
    {
     "data": {
      "application/vnd.jupyter.widget-view+json": {
       "model_id": "f98af5aef8154b179541c8e7996babe2",
       "version_major": 2,
       "version_minor": 0
      },
      "text/plain": [
       "Calculating likelihoods:   0%|          | 0/23 [00:00<?, ?it/s]"
      ]
     },
     "metadata": {},
     "output_type": "display_data"
    },
    {
     "data": {
      "application/vnd.jupyter.widget-view+json": {
       "model_id": "bbb0b8ddbbb040d38a5e7d43969094b5",
       "version_major": 2,
       "version_minor": 0
      },
      "text/plain": [
       "Calculating likelihoods:   0%|          | 0/23 [00:00<?, ?it/s]"
      ]
     },
     "metadata": {},
     "output_type": "display_data"
    },
    {
     "data": {
      "application/vnd.jupyter.widget-view+json": {
       "model_id": "b566c8edd6724312bedc13949fd8a559",
       "version_major": 2,
       "version_minor": 0
      },
      "text/plain": [
       "Calculating likelihoods:   0%|          | 0/23 [00:00<?, ?it/s]"
      ]
     },
     "metadata": {},
     "output_type": "display_data"
    },
    {
     "data": {
      "application/vnd.jupyter.widget-view+json": {
       "model_id": "ba672e19d56748518167f5b117be5326",
       "version_major": 2,
       "version_minor": 0
      },
      "text/plain": [
       "Calculating likelihoods:   0%|          | 0/23 [00:00<?, ?it/s]"
      ]
     },
     "metadata": {},
     "output_type": "display_data"
    },
    {
     "data": {
      "application/vnd.jupyter.widget-view+json": {
       "model_id": "037243eef1fa4139946857f59097cae0",
       "version_major": 2,
       "version_minor": 0
      },
      "text/plain": [
       "Calculating likelihoods:   0%|          | 0/23 [00:00<?, ?it/s]"
      ]
     },
     "metadata": {},
     "output_type": "display_data"
    },
    {
     "data": {
      "application/vnd.jupyter.widget-view+json": {
       "model_id": "835fee1abfb7436fa6feb214f46548ef",
       "version_major": 2,
       "version_minor": 0
      },
      "text/plain": [
       "Calculating likelihoods:   0%|          | 0/23 [00:00<?, ?it/s]"
      ]
     },
     "metadata": {},
     "output_type": "display_data"
    },
    {
     "data": {
      "application/vnd.jupyter.widget-view+json": {
       "model_id": "05b0f6f2a24a4b3dafab92ba504cf69c",
       "version_major": 2,
       "version_minor": 0
      },
      "text/plain": [
       "Calculating likelihoods:   0%|          | 0/23 [00:00<?, ?it/s]"
      ]
     },
     "metadata": {},
     "output_type": "display_data"
    },
    {
     "data": {
      "application/vnd.jupyter.widget-view+json": {
       "model_id": "b9286f2e920b439da957c8501a12e28d",
       "version_major": 2,
       "version_minor": 0
      },
      "text/plain": [
       "Calculating likelihoods:   0%|          | 0/23 [00:00<?, ?it/s]"
      ]
     },
     "metadata": {},
     "output_type": "display_data"
    },
    {
     "data": {
      "application/vnd.jupyter.widget-view+json": {
       "model_id": "1768d5bf2fe14d57bb6e01dfa41d4259",
       "version_major": 2,
       "version_minor": 0
      },
      "text/plain": [
       "Calculating likelihoods:   0%|          | 0/23 [00:00<?, ?it/s]"
      ]
     },
     "metadata": {},
     "output_type": "display_data"
    },
    {
     "data": {
      "application/vnd.jupyter.widget-view+json": {
       "model_id": "5dba992ce0bd4ef49d1fea9691949c9f",
       "version_major": 2,
       "version_minor": 0
      },
      "text/plain": [
       "Calculating likelihoods:   0%|          | 0/23 [00:00<?, ?it/s]"
      ]
     },
     "metadata": {},
     "output_type": "display_data"
    },
    {
     "data": {
      "application/vnd.jupyter.widget-view+json": {
       "model_id": "d935bb902ffd46cc86c12a1783be7b77",
       "version_major": 2,
       "version_minor": 0
      },
      "text/plain": [
       "Calculating likelihoods:   0%|          | 0/23 [00:00<?, ?it/s]"
      ]
     },
     "metadata": {},
     "output_type": "display_data"
    },
    {
     "data": {
      "application/vnd.jupyter.widget-view+json": {
       "model_id": "6c1c0bbf653f41ce9565bf21c09bc256",
       "version_major": 2,
       "version_minor": 0
      },
      "text/plain": [
       "Calculating likelihoods:   0%|          | 0/23 [00:00<?, ?it/s]"
      ]
     },
     "metadata": {},
     "output_type": "display_data"
    },
    {
     "data": {
      "application/vnd.jupyter.widget-view+json": {
       "model_id": "0faa7cb1db3641d49bd3a324b3e2c703",
       "version_major": 2,
       "version_minor": 0
      },
      "text/plain": [
       "Calculating likelihoods:   0%|          | 0/23 [00:00<?, ?it/s]"
      ]
     },
     "metadata": {},
     "output_type": "display_data"
    },
    {
     "data": {
      "application/vnd.jupyter.widget-view+json": {
       "model_id": "e9793e73b8114e1ab266fe239939ca46",
       "version_major": 2,
       "version_minor": 0
      },
      "text/plain": [
       "Calculating likelihoods:   0%|          | 0/23 [00:00<?, ?it/s]"
      ]
     },
     "metadata": {},
     "output_type": "display_data"
    },
    {
     "data": {
      "application/vnd.jupyter.widget-view+json": {
       "model_id": "e2ac5c1405964d15b049a4fa8cd60c7c",
       "version_major": 2,
       "version_minor": 0
      },
      "text/plain": [
       "Calculating likelihoods:   0%|          | 0/23 [00:00<?, ?it/s]"
      ]
     },
     "metadata": {},
     "output_type": "display_data"
    },
    {
     "data": {
      "application/vnd.jupyter.widget-view+json": {
       "model_id": "3fc78268a83c43b5a4ed45739d7331e3",
       "version_major": 2,
       "version_minor": 0
      },
      "text/plain": [
       "Calculating likelihoods:   0%|          | 0/23 [00:00<?, ?it/s]"
      ]
     },
     "metadata": {},
     "output_type": "display_data"
    },
    {
     "data": {
      "application/vnd.jupyter.widget-view+json": {
       "model_id": "84c23088b08f43769bbf6f2384f81efc",
       "version_major": 2,
       "version_minor": 0
      },
      "text/plain": [
       "Calculating likelihoods:   0%|          | 0/23 [00:00<?, ?it/s]"
      ]
     },
     "metadata": {},
     "output_type": "display_data"
    },
    {
     "data": {
      "application/vnd.jupyter.widget-view+json": {
       "model_id": "1470f02134fe43b5a9042cb6d828faa3",
       "version_major": 2,
       "version_minor": 0
      },
      "text/plain": [
       "Calculating likelihoods:   0%|          | 0/23 [00:00<?, ?it/s]"
      ]
     },
     "metadata": {},
     "output_type": "display_data"
    },
    {
     "data": {
      "application/vnd.jupyter.widget-view+json": {
       "model_id": "4d62b833f4ae4408981fcef9312cfb56",
       "version_major": 2,
       "version_minor": 0
      },
      "text/plain": [
       "Calculating likelihoods:   0%|          | 0/23 [00:00<?, ?it/s]"
      ]
     },
     "metadata": {},
     "output_type": "display_data"
    },
    {
     "data": {
      "application/vnd.jupyter.widget-view+json": {
       "model_id": "b028165982d846cc983d7c95ce54452b",
       "version_major": 2,
       "version_minor": 0
      },
      "text/plain": [
       "Calculating likelihoods:   0%|          | 0/23 [00:00<?, ?it/s]"
      ]
     },
     "metadata": {},
     "output_type": "display_data"
    },
    {
     "data": {
      "application/vnd.jupyter.widget-view+json": {
       "model_id": "441ee18f0b0c41c0ab11fde576990d4e",
       "version_major": 2,
       "version_minor": 0
      },
      "text/plain": [
       "Calculating likelihoods:   0%|          | 0/23 [00:00<?, ?it/s]"
      ]
     },
     "metadata": {},
     "output_type": "display_data"
    },
    {
     "data": {
      "application/vnd.jupyter.widget-view+json": {
       "model_id": "16ef4ba8227149638335435603ae99f6",
       "version_major": 2,
       "version_minor": 0
      },
      "text/plain": [
       "Calculating likelihoods:   0%|          | 0/23 [00:00<?, ?it/s]"
      ]
     },
     "metadata": {},
     "output_type": "display_data"
    },
    {
     "data": {
      "application/vnd.jupyter.widget-view+json": {
       "model_id": "e974dacc0a2642aa94a422c5c732d050",
       "version_major": 2,
       "version_minor": 0
      },
      "text/plain": [
       "Calculating likelihoods:   0%|          | 0/23 [00:00<?, ?it/s]"
      ]
     },
     "metadata": {},
     "output_type": "display_data"
    },
    {
     "data": {
      "application/vnd.jupyter.widget-view+json": {
       "model_id": "b98d5e0a727f4e919d366324aec99eba",
       "version_major": 2,
       "version_minor": 0
      },
      "text/plain": [
       "Calculating likelihoods:   0%|          | 0/23 [00:00<?, ?it/s]"
      ]
     },
     "metadata": {},
     "output_type": "display_data"
    },
    {
     "data": {
      "application/vnd.jupyter.widget-view+json": {
       "model_id": "7dd4163578844e3e8c3d718407b5e68b",
       "version_major": 2,
       "version_minor": 0
      },
      "text/plain": [
       "Calculating likelihoods:   0%|          | 0/23 [00:00<?, ?it/s]"
      ]
     },
     "metadata": {},
     "output_type": "display_data"
    },
    {
     "data": {
      "application/vnd.jupyter.widget-view+json": {
       "model_id": "f5b36b4f25d546c9a2012a96463fe233",
       "version_major": 2,
       "version_minor": 0
      },
      "text/plain": [
       "Calculating likelihoods:   0%|          | 0/23 [00:00<?, ?it/s]"
      ]
     },
     "metadata": {},
     "output_type": "display_data"
    },
    {
     "data": {
      "application/vnd.jupyter.widget-view+json": {
       "model_id": "5bb2befb23a6445aa57af25753a70011",
       "version_major": 2,
       "version_minor": 0
      },
      "text/plain": [
       "Calculating likelihoods:   0%|          | 0/23 [00:00<?, ?it/s]"
      ]
     },
     "metadata": {},
     "output_type": "display_data"
    },
    {
     "data": {
      "application/vnd.jupyter.widget-view+json": {
       "model_id": "2f398280aee54745894b5f491329d60c",
       "version_major": 2,
       "version_minor": 0
      },
      "text/plain": [
       "Calculating likelihoods:   0%|          | 0/23 [00:00<?, ?it/s]"
      ]
     },
     "metadata": {},
     "output_type": "display_data"
    },
    {
     "data": {
      "application/vnd.jupyter.widget-view+json": {
       "model_id": "f548d5ef122b4336a250c419c9c75d58",
       "version_major": 2,
       "version_minor": 0
      },
      "text/plain": [
       "Calculating likelihoods:   0%|          | 0/23 [00:00<?, ?it/s]"
      ]
     },
     "metadata": {},
     "output_type": "display_data"
    },
    {
     "data": {
      "application/vnd.jupyter.widget-view+json": {
       "model_id": "012f7fc86e924f1f824cd0f939aa45b2",
       "version_major": 2,
       "version_minor": 0
      },
      "text/plain": [
       "Calculating likelihoods:   0%|          | 0/23 [00:00<?, ?it/s]"
      ]
     },
     "metadata": {},
     "output_type": "display_data"
    },
    {
     "data": {
      "application/vnd.jupyter.widget-view+json": {
       "model_id": "9f69ebeef1ef4144b88973bb5df35c3a",
       "version_major": 2,
       "version_minor": 0
      },
      "text/plain": [
       "Calculating likelihoods:   0%|          | 0/23 [00:00<?, ?it/s]"
      ]
     },
     "metadata": {},
     "output_type": "display_data"
    },
    {
     "data": {
      "application/vnd.jupyter.widget-view+json": {
       "model_id": "da51c10333a8405cafca434e67d48eaa",
       "version_major": 2,
       "version_minor": 0
      },
      "text/plain": [
       "Calculating likelihoods:   0%|          | 0/23 [00:00<?, ?it/s]"
      ]
     },
     "metadata": {},
     "output_type": "display_data"
    },
    {
     "data": {
      "application/vnd.jupyter.widget-view+json": {
       "model_id": "78b474f9a07041adb6deb587d2dce471",
       "version_major": 2,
       "version_minor": 0
      },
      "text/plain": [
       "Calculating likelihoods:   0%|          | 0/23 [00:00<?, ?it/s]"
      ]
     },
     "metadata": {},
     "output_type": "display_data"
    },
    {
     "data": {
      "application/vnd.jupyter.widget-view+json": {
       "model_id": "6399be64c0da4695ab96a12927b6eb40",
       "version_major": 2,
       "version_minor": 0
      },
      "text/plain": [
       "Calculating likelihoods:   0%|          | 0/23 [00:00<?, ?it/s]"
      ]
     },
     "metadata": {},
     "output_type": "display_data"
    },
    {
     "data": {
      "application/vnd.jupyter.widget-view+json": {
       "model_id": "d6f8b4e705144939899b3cd5cc911402",
       "version_major": 2,
       "version_minor": 0
      },
      "text/plain": [
       "Calculating likelihoods:   0%|          | 0/23 [00:00<?, ?it/s]"
      ]
     },
     "metadata": {},
     "output_type": "display_data"
    },
    {
     "data": {
      "application/vnd.jupyter.widget-view+json": {
       "model_id": "f61c0f470a40401c8552cc6fb8a76f9f",
       "version_major": 2,
       "version_minor": 0
      },
      "text/plain": [
       "Calculating likelihoods:   0%|          | 0/23 [00:00<?, ?it/s]"
      ]
     },
     "metadata": {},
     "output_type": "display_data"
    },
    {
     "data": {
      "application/vnd.jupyter.widget-view+json": {
       "model_id": "871b61d3e77f4e4e806f006e7af71763",
       "version_major": 2,
       "version_minor": 0
      },
      "text/plain": [
       "Calculating likelihoods:   0%|          | 0/23 [00:00<?, ?it/s]"
      ]
     },
     "metadata": {},
     "output_type": "display_data"
    },
    {
     "data": {
      "application/vnd.jupyter.widget-view+json": {
       "model_id": "2668f0011eed412f93bd25b0f1ba2cb0",
       "version_major": 2,
       "version_minor": 0
      },
      "text/plain": [
       "Calculating likelihoods:   0%|          | 0/23 [00:00<?, ?it/s]"
      ]
     },
     "metadata": {},
     "output_type": "display_data"
    },
    {
     "data": {
      "application/vnd.jupyter.widget-view+json": {
       "model_id": "c362166508ab4c64b14e25d217e4241a",
       "version_major": 2,
       "version_minor": 0
      },
      "text/plain": [
       "Calculating likelihoods:   0%|          | 0/23 [00:00<?, ?it/s]"
      ]
     },
     "metadata": {},
     "output_type": "display_data"
    },
    {
     "data": {
      "application/vnd.jupyter.widget-view+json": {
       "model_id": "444749751e224e0c8e7232d8065269f8",
       "version_major": 2,
       "version_minor": 0
      },
      "text/plain": [
       "Calculating likelihoods:   0%|          | 0/23 [00:00<?, ?it/s]"
      ]
     },
     "metadata": {},
     "output_type": "display_data"
    },
    {
     "data": {
      "application/vnd.jupyter.widget-view+json": {
       "model_id": "fb7b6d7d2be44acb96d4f0e940883cd6",
       "version_major": 2,
       "version_minor": 0
      },
      "text/plain": [
       "Calculating likelihoods:   0%|          | 0/23 [00:00<?, ?it/s]"
      ]
     },
     "metadata": {},
     "output_type": "display_data"
    },
    {
     "data": {
      "application/vnd.jupyter.widget-view+json": {
       "model_id": "bacedd3ac44d4f9094eb2c8ed3a42973",
       "version_major": 2,
       "version_minor": 0
      },
      "text/plain": [
       "Calculating likelihoods:   0%|          | 0/23 [00:00<?, ?it/s]"
      ]
     },
     "metadata": {},
     "output_type": "display_data"
    },
    {
     "data": {
      "application/vnd.jupyter.widget-view+json": {
       "model_id": "cf27fda8889b4c17836e3d44ecaf9624",
       "version_major": 2,
       "version_minor": 0
      },
      "text/plain": [
       "Calculating likelihoods:   0%|          | 0/23 [00:00<?, ?it/s]"
      ]
     },
     "metadata": {},
     "output_type": "display_data"
    },
    {
     "data": {
      "application/vnd.jupyter.widget-view+json": {
       "model_id": "ff6a620e461c49da91d4b696a4650544",
       "version_major": 2,
       "version_minor": 0
      },
      "text/plain": [
       "Calculating likelihoods:   0%|          | 0/23 [00:00<?, ?it/s]"
      ]
     },
     "metadata": {},
     "output_type": "display_data"
    },
    {
     "data": {
      "application/vnd.jupyter.widget-view+json": {
       "model_id": "8db1146926e541ee814407792513c4e2",
       "version_major": 2,
       "version_minor": 0
      },
      "text/plain": [
       "Calculating likelihoods:   0%|          | 0/23 [00:00<?, ?it/s]"
      ]
     },
     "metadata": {},
     "output_type": "display_data"
    },
    {
     "data": {
      "application/vnd.jupyter.widget-view+json": {
       "model_id": "6eb1df3b1e0b4ecebede7cffb14899a9",
       "version_major": 2,
       "version_minor": 0
      },
      "text/plain": [
       "Calculating likelihoods:   0%|          | 0/23 [00:00<?, ?it/s]"
      ]
     },
     "metadata": {},
     "output_type": "display_data"
    },
    {
     "data": {
      "application/vnd.jupyter.widget-view+json": {
       "model_id": "e94679d555d54b0bb10f04721dc8802b",
       "version_major": 2,
       "version_minor": 0
      },
      "text/plain": [
       "Calculating likelihoods:   0%|          | 0/23 [00:00<?, ?it/s]"
      ]
     },
     "metadata": {},
     "output_type": "display_data"
    },
    {
     "data": {
      "application/vnd.jupyter.widget-view+json": {
       "model_id": "50eb06d0b46d459dbe9bd20bd7d29d1b",
       "version_major": 2,
       "version_minor": 0
      },
      "text/plain": [
       "Calculating likelihoods:   0%|          | 0/23 [00:00<?, ?it/s]"
      ]
     },
     "metadata": {},
     "output_type": "display_data"
    },
    {
     "data": {
      "application/vnd.jupyter.widget-view+json": {
       "model_id": "f79fb473e02c4c51a19b8d1ce50f45f3",
       "version_major": 2,
       "version_minor": 0
      },
      "text/plain": [
       "Calculating likelihoods:   0%|          | 0/23 [00:00<?, ?it/s]"
      ]
     },
     "metadata": {},
     "output_type": "display_data"
    },
    {
     "data": {
      "application/vnd.jupyter.widget-view+json": {
       "model_id": "c3ebedd6b2c141178477fef5eac56141",
       "version_major": 2,
       "version_minor": 0
      },
      "text/plain": [
       "Calculating likelihoods:   0%|          | 0/23 [00:00<?, ?it/s]"
      ]
     },
     "metadata": {},
     "output_type": "display_data"
    },
    {
     "data": {
      "application/vnd.jupyter.widget-view+json": {
       "model_id": "8227582900fe4c269cc1ef7385eae90e",
       "version_major": 2,
       "version_minor": 0
      },
      "text/plain": [
       "Calculating likelihoods:   0%|          | 0/23 [00:00<?, ?it/s]"
      ]
     },
     "metadata": {},
     "output_type": "display_data"
    },
    {
     "data": {
      "application/vnd.jupyter.widget-view+json": {
       "model_id": "bcae4d04fbcb4097b252ce3302b00a8f",
       "version_major": 2,
       "version_minor": 0
      },
      "text/plain": [
       "Calculating likelihoods:   0%|          | 0/23 [00:00<?, ?it/s]"
      ]
     },
     "metadata": {},
     "output_type": "display_data"
    },
    {
     "data": {
      "application/vnd.jupyter.widget-view+json": {
       "model_id": "e20e5e55d63a4997978abf34daf23c7a",
       "version_major": 2,
       "version_minor": 0
      },
      "text/plain": [
       "Calculating likelihoods:   0%|          | 0/23 [00:00<?, ?it/s]"
      ]
     },
     "metadata": {},
     "output_type": "display_data"
    },
    {
     "data": {
      "application/vnd.jupyter.widget-view+json": {
       "model_id": "7251b54afd0e4ec09934502e48042997",
       "version_major": 2,
       "version_minor": 0
      },
      "text/plain": [
       "Calculating likelihoods:   0%|          | 0/23 [00:00<?, ?it/s]"
      ]
     },
     "metadata": {},
     "output_type": "display_data"
    },
    {
     "data": {
      "application/vnd.jupyter.widget-view+json": {
       "model_id": "35e90ae5d46846d895f3cf4c5773b7f4",
       "version_major": 2,
       "version_minor": 0
      },
      "text/plain": [
       "Calculating likelihoods:   0%|          | 0/23 [00:00<?, ?it/s]"
      ]
     },
     "metadata": {},
     "output_type": "display_data"
    },
    {
     "data": {
      "application/vnd.jupyter.widget-view+json": {
       "model_id": "b0218576cf534e9ebb4ab8661f92fab3",
       "version_major": 2,
       "version_minor": 0
      },
      "text/plain": [
       "Calculating likelihoods:   0%|          | 0/23 [00:00<?, ?it/s]"
      ]
     },
     "metadata": {},
     "output_type": "display_data"
    },
    {
     "data": {
      "application/vnd.jupyter.widget-view+json": {
       "model_id": "4d3b8f84a7444b3a86bf535b13f2e302",
       "version_major": 2,
       "version_minor": 0
      },
      "text/plain": [
       "Calculating likelihoods:   0%|          | 0/23 [00:00<?, ?it/s]"
      ]
     },
     "metadata": {},
     "output_type": "display_data"
    },
    {
     "data": {
      "application/vnd.jupyter.widget-view+json": {
       "model_id": "f1d3591b563c4fd8bc269acd4688c69a",
       "version_major": 2,
       "version_minor": 0
      },
      "text/plain": [
       "Calculating likelihoods:   0%|          | 0/23 [00:00<?, ?it/s]"
      ]
     },
     "metadata": {},
     "output_type": "display_data"
    },
    {
     "data": {
      "application/vnd.jupyter.widget-view+json": {
       "model_id": "7ac4d9f04c2b422c88defa1d3367bed5",
       "version_major": 2,
       "version_minor": 0
      },
      "text/plain": [
       "Calculating likelihoods:   0%|          | 0/23 [00:00<?, ?it/s]"
      ]
     },
     "metadata": {},
     "output_type": "display_data"
    },
    {
     "data": {
      "application/vnd.jupyter.widget-view+json": {
       "model_id": "a8b3b704b1434b549868eff58ab4dd64",
       "version_major": 2,
       "version_minor": 0
      },
      "text/plain": [
       "Calculating likelihoods:   0%|          | 0/23 [00:00<?, ?it/s]"
      ]
     },
     "metadata": {},
     "output_type": "display_data"
    },
    {
     "data": {
      "application/vnd.jupyter.widget-view+json": {
       "model_id": "3139231d995d48d0ac5a6d5d8ae36d30",
       "version_major": 2,
       "version_minor": 0
      },
      "text/plain": [
       "Calculating likelihoods:   0%|          | 0/23 [00:00<?, ?it/s]"
      ]
     },
     "metadata": {},
     "output_type": "display_data"
    },
    {
     "data": {
      "application/vnd.jupyter.widget-view+json": {
       "model_id": "35cba0cd9bd74344895ab97373afaf2d",
       "version_major": 2,
       "version_minor": 0
      },
      "text/plain": [
       "Calculating likelihoods:   0%|          | 0/23 [00:00<?, ?it/s]"
      ]
     },
     "metadata": {},
     "output_type": "display_data"
    },
    {
     "data": {
      "application/vnd.jupyter.widget-view+json": {
       "model_id": "275d71be9f80490f8f4af5c551ef9bf8",
       "version_major": 2,
       "version_minor": 0
      },
      "text/plain": [
       "Calculating likelihoods:   0%|          | 0/23 [00:00<?, ?it/s]"
      ]
     },
     "metadata": {},
     "output_type": "display_data"
    },
    {
     "data": {
      "application/vnd.jupyter.widget-view+json": {
       "model_id": "f6b0154a1ff047afb6eaef8b09d4b9cc",
       "version_major": 2,
       "version_minor": 0
      },
      "text/plain": [
       "Calculating likelihoods:   0%|          | 0/23 [00:00<?, ?it/s]"
      ]
     },
     "metadata": {},
     "output_type": "display_data"
    },
    {
     "data": {
      "application/vnd.jupyter.widget-view+json": {
       "model_id": "9d87dae9aafa41379c748d682e2399df",
       "version_major": 2,
       "version_minor": 0
      },
      "text/plain": [
       "Calculating likelihoods:   0%|          | 0/23 [00:00<?, ?it/s]"
      ]
     },
     "metadata": {},
     "output_type": "display_data"
    },
    {
     "data": {
      "application/vnd.jupyter.widget-view+json": {
       "model_id": "29ef3a3eca224070b23c938e68f9d9bd",
       "version_major": 2,
       "version_minor": 0
      },
      "text/plain": [
       "Calculating likelihoods:   0%|          | 0/23 [00:00<?, ?it/s]"
      ]
     },
     "metadata": {},
     "output_type": "display_data"
    },
    {
     "data": {
      "application/vnd.jupyter.widget-view+json": {
       "model_id": "3b8f4fd959bf4f8982fccdb99adea243",
       "version_major": 2,
       "version_minor": 0
      },
      "text/plain": [
       "Calculating likelihoods:   0%|          | 0/23 [00:00<?, ?it/s]"
      ]
     },
     "metadata": {},
     "output_type": "display_data"
    },
    {
     "data": {
      "application/vnd.jupyter.widget-view+json": {
       "model_id": "f89c0efa567e417cb84b5d821e3bbfac",
       "version_major": 2,
       "version_minor": 0
      },
      "text/plain": [
       "Calculating likelihoods:   0%|          | 0/23 [00:00<?, ?it/s]"
      ]
     },
     "metadata": {},
     "output_type": "display_data"
    },
    {
     "data": {
      "application/vnd.jupyter.widget-view+json": {
       "model_id": "2e4a35aad2964ec798fcd3c12dceb988",
       "version_major": 2,
       "version_minor": 0
      },
      "text/plain": [
       "Calculating likelihoods:   0%|          | 0/23 [00:00<?, ?it/s]"
      ]
     },
     "metadata": {},
     "output_type": "display_data"
    },
    {
     "name": "stdout",
     "output_type": "stream",
     "text": [
      "Optimal parameters:\n",
      "{'inverse_temperature': np.float64(6.386807212394981), 'bias': np.float64(0.7453717917114865), 'learning_rate': np.float64(0.19851269513755646), 'len_history': np.float64(1.921272147072866), 'c': np.float64(0.583130233572927), 'delta': np.float64(0.05752653543167503)}\n",
      "Deviance: -2224.2393932878185\n",
      "AIC: 4460.478786575637\n",
      "--------------------------------------------------\n"
     ]
    }
   ],
   "source": [
    "ParameterFit.run(\n",
    "    data=data,\n",
    "    model_list=my_models,\n",
    "    best_fit_path=PATHS['parameter_fit_results'] / 'best_fit_Scipy.json',\n",
    "    optimizer_type='scipy',\n",
    "    hyperparameters=None,\n",
    "    new_file=True\n",
    ")"
   ]
  },
  {
   "cell_type": "markdown",
   "metadata": {},
   "source": [
    "### Fit with Bayesian Optimizer"
   ]
  },
  {
   "cell_type": "code",
   "execution_count": null,
   "metadata": {},
   "outputs": [],
   "source": [
    "hyperparameters = {\n",
    "    'init_points':128,\n",
    "    'n_iter':64\n",
    "}\n",
    "\n",
    "ParameterFit.run(\n",
    "    data=data,\n",
    "    model_list=my_models,\n",
    "    best_fit_path=PATHS['parameter_fit_results'] / 'best_fit_Bayesian.json',\n",
    "    optimizer_type='bayesian',\n",
    "    hyperparameters=hyperparameters,\n",
    "    new_file=True\n",
    ")"
   ]
  },
  {
   "cell_type": "markdown",
   "metadata": {},
   "source": [
    "### Keep best fit from both optimizers"
   ]
  },
  {
   "cell_type": "code",
   "execution_count": null,
   "metadata": {},
   "outputs": [],
   "source": [
    "# Load the best fit results from both optimizers\n",
    "df_Scipy = pd.read_json(PATHS['parameter_fit_results'] / 'best_fit_Scipy.json', lines=True)\n",
    "df_Bayesian = pd.read_json(PATHS['parameter_fit_results'] / 'best_fit_Bayesian.json', lines=True)\n",
    "\n",
    "df_list = []\n",
    "best_optimizer = []\n",
    "# Iterate through each model and compare the deviance from both optimizers\n",
    "for model in my_models:\n",
    "    best_fits = {'model_name': model.name()}\n",
    "    # Filter the dataframes for the current model\n",
    "    df1_Scipy = df_Scipy[df_Scipy['model_name'] == model.name()]\n",
    "    df1_Bayesian = df_Bayesian[df_Bayesian['model_name'] == model.name()]\n",
    "    # Iterate through each num_agents and threshold combination\n",
    "    cols = [col for col in df1_Bayesian.columns if col != 'model_name']\n",
    "    for col in cols:\n",
    "        if not isinstance(df1_Scipy[col].values[0], dict):\n",
    "            continue\n",
    "        num_agents = df1_Scipy[col].values[0]['fixed_parameters']['num_agents']\n",
    "        threshold = df1_Scipy[col].values[0]['fixed_parameters']['threshold']\n",
    "        best_fits['num_agents'] = num_agents\n",
    "        best_fits['threshold'] = threshold\n",
    "        deviance_Scipy = df1_Scipy[col].values[0]['deviance']\n",
    "        deviance_Bayesian = df1_Bayesian[col].values[0]['deviance']\n",
    "        # Compare deviance from both optimizers\n",
    "        if deviance_Scipy > deviance_Bayesian:\n",
    "            best_optimizer.append('Scipy')\n",
    "            best_fits['deviance'] = deviance_Scipy\n",
    "            best_fits['AIC'] = df1_Scipy[col].values[0]['AIC']\n",
    "            best_fits['free_parameters'] = df1_Scipy[col].values[0]['free_parameters']\n",
    "        else:\n",
    "            best_optimizer.append('Bayesian')\n",
    "            best_fits['deviance'] = deviance_Bayesian\n",
    "            best_fits['AIC'] = df1_Bayesian[col].values[0]['AIC']\n",
    "            best_fits['free_parameters'] = df1_Bayesian[col].values[0]['free_parameters']\n",
    "        best_fits['fixed_parameters'] = df1_Scipy[col].values[0]['fixed_parameters']\n",
    "        df = pd.DataFrame().from_dict(best_fits, orient='index').T\n",
    "        df_list.append(df)\n",
    "df_best_fits = pd.concat(df_list, ignore_index=True)\n",
    "print('Otimizer with best results:')\n",
    "pd.Series(best_optimizer).value_counts(normalize=True).reset_index().rename(columns={'index': 'optimizer', 0: 'proportion'}).sort_values(by='proportion', ascending=False)\n"
   ]
  },
  {
   "cell_type": "markdown",
   "metadata": {},
   "source": [
    "### Save to file"
   ]
  },
  {
   "cell_type": "code",
   "execution_count": null,
   "metadata": {},
   "outputs": [],
   "source": [
    "new_file = False # Set to True if you want to create a new file, False to update the existing one\n",
    "\n",
    "if new_file:\n",
    "    df_best_fits.to_json(best_fits_file, orient='records', lines=True)\n",
    "else:\n",
    "    best_fit = pd.read_json(best_fits_file, lines=True)\n",
    "    for model_name in df_best_fits['model_name'].unique():\n",
    "        df_model = df_best_fits[df_best_fits['model_name'] == model_name]\n",
    "        if model_name not in best_fit['model_name'].unique():\n",
    "            print(f'Adding new model: {model_name}')\n",
    "            best_fit = pd.concat([best_fit, df_model], ignore_index=True)\n",
    "        else:\n",
    "            list_fixed_parameters_new = df_model['fixed_parameters'].values\n",
    "            for fixed_parameters_new in list_fixed_parameters_new:\n",
    "                df_parameters = df_model[df_model['fixed_parameters'] == fixed_parameters_new]\n",
    "                mask = (best_fit['model_name'] == model_name) & (best_fit['fixed_parameters'] == fixed_parameters_new)\n",
    "                if mask.sum() == 0:\n",
    "                    best_fit = pd.concat([best_fit, df_parameters], ignore_index=True)\n",
    "                else:\n",
    "                    # Update the existing entry with the new data\n",
    "                    best_fit = best_fit.copy()                    \n",
    "                    best_fit.loc[mask, df_parameters.columns] = df_parameters.values\n",
    "                \n",
    "\n",
    "    best_fit.to_json(best_fits_file, orient='records', lines=True)\n",
    "    \n",
    "print(f'Best fit results saved to {best_fits_file}')"
   ]
  },
  {
   "cell_type": "markdown",
   "metadata": {},
   "source": [
    "---"
   ]
  }
 ],
 "metadata": {
  "kernelspec": {
   "display_name": "Python 3 (ipykernel)",
   "language": "python",
   "name": "python3"
  }
 },
 "nbformat": 4,
 "nbformat_minor": 2
}
