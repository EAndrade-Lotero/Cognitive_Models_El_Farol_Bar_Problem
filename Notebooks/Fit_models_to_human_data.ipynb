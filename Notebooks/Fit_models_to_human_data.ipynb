{
 "cells": [
  {
   "cell_type": "code",
   "execution_count": 1,
   "metadata": {},
   "outputs": [],
   "source": [
    "import sys\n",
    "sys.path.append(\"../src\")\n",
    "\n",
    "import warnings\n",
    "warnings.filterwarnings(\"ignore\")\n",
    "\n",
    "import json\n",
    "import pandas as pd\n",
    "from pathlib import Path\n",
    "from tqdm.auto import tqdm"
   ]
  },
  {
   "cell_type": "code",
   "execution_count": 2,
   "metadata": {},
   "outputs": [],
   "source": [
    "from Classes.cognitive_model_agents import MODELS, MFPS\n",
    "from Classes.cognitive_model_agents import *\n",
    "from Classes.parameter_recovery import ParameterFit"
   ]
  },
  {
   "cell_type": "code",
   "execution_count": 3,
   "metadata": {},
   "outputs": [],
   "source": [
    "# Create paths for data and results\n",
    "data_folder = Path('..', 'data', 'human')\n",
    "folder_2P = Path('..', 'reports', 'MLE')\n",
    "folder_2P.mkdir(parents=True, exist_ok=True)\n",
    "best_fit_file_2P = Path(folder_2P, f'best_fit_2P.json')\n",
    "\n",
    "folder_all = Path('..', 'reports', 'MLE')\n",
    "folder_all.mkdir(parents=True, exist_ok=True)\n",
    "best_fit_file_all = Path(folder_all, f'best_fit_all.json')"
   ]
  },
  {
   "cell_type": "markdown",
   "metadata": {},
   "source": [
    "## Fit to 2-player data"
   ]
  },
  {
   "cell_type": "code",
   "execution_count": 4,
   "metadata": {},
   "outputs": [
    {
     "name": "stdout",
     "output_type": "stream",
     "text": [
      "Loading data from ..\\data\\human\\2-player-UR.csv...\n"
     ]
    },
    {
     "data": {
      "text/html": [
       "<div>\n",
       "<style scoped>\n",
       "    .dataframe tbody tr th:only-of-type {\n",
       "        vertical-align: middle;\n",
       "    }\n",
       "\n",
       "    .dataframe tbody tr th {\n",
       "        vertical-align: top;\n",
       "    }\n",
       "\n",
       "    .dataframe thead th {\n",
       "        text-align: right;\n",
       "    }\n",
       "</style>\n",
       "<table border=\"1\" class=\"dataframe\">\n",
       "  <thead>\n",
       "    <tr style=\"text-align: right;\">\n",
       "      <th></th>\n",
       "      <th>Unnamed: 0.4</th>\n",
       "      <th>Unnamed: 0.3</th>\n",
       "      <th>Unnamed: 0.2</th>\n",
       "      <th>Unnamed: 0.1</th>\n",
       "      <th>Unnamed: 0</th>\n",
       "      <th>source</th>\n",
       "      <th>treatment</th>\n",
       "      <th>group</th>\n",
       "      <th>round</th>\n",
       "      <th>player</th>\n",
       "      <th>choice</th>\n",
       "      <th>score</th>\n",
       "      <th>attendance</th>\n",
       "      <th>ac_score</th>\n",
       "      <th>threshold</th>\n",
       "      <th>num_players</th>\n",
       "      <th>room</th>\n",
       "      <th>decision</th>\n",
       "    </tr>\n",
       "  </thead>\n",
       "  <tbody>\n",
       "    <tr>\n",
       "      <th>0</th>\n",
       "      <td>0</td>\n",
       "      <td>0</td>\n",
       "      <td>0</td>\n",
       "      <td>0</td>\n",
       "      <td>0</td>\n",
       "      <td>human</td>\n",
       "      <td>score + grid</td>\n",
       "      <td>Grupo-0001</td>\n",
       "      <td>1</td>\n",
       "      <td>405186428721292</td>\n",
       "      <td>0</td>\n",
       "      <td>0</td>\n",
       "      <td>1</td>\n",
       "      <td>25</td>\n",
       "      <td>0.5</td>\n",
       "      <td>2</td>\n",
       "      <td>Grupo-0001</td>\n",
       "      <td>0</td>\n",
       "    </tr>\n",
       "    <tr>\n",
       "      <th>1</th>\n",
       "      <td>1</td>\n",
       "      <td>1</td>\n",
       "      <td>1</td>\n",
       "      <td>1</td>\n",
       "      <td>1</td>\n",
       "      <td>human</td>\n",
       "      <td>score + grid</td>\n",
       "      <td>Grupo-0001</td>\n",
       "      <td>1</td>\n",
       "      <td>728608683559397</td>\n",
       "      <td>1</td>\n",
       "      <td>1</td>\n",
       "      <td>1</td>\n",
       "      <td>25</td>\n",
       "      <td>0.5</td>\n",
       "      <td>2</td>\n",
       "      <td>Grupo-0001</td>\n",
       "      <td>1</td>\n",
       "    </tr>\n",
       "  </tbody>\n",
       "</table>\n",
       "</div>"
      ],
      "text/plain": [
       "   Unnamed: 0.4  Unnamed: 0.3  Unnamed: 0.2  Unnamed: 0.1  Unnamed: 0 source  \\\n",
       "0             0             0             0             0           0  human   \n",
       "1             1             1             1             1           1  human   \n",
       "\n",
       "      treatment       group  round           player  choice  score  \\\n",
       "0  score + grid  Grupo-0001      1  405186428721292       0      0   \n",
       "1  score + grid  Grupo-0001      1  728608683559397       1      1   \n",
       "\n",
       "   attendance  ac_score  threshold  num_players        room  decision  \n",
       "0           1        25        0.5            2  Grupo-0001         0  \n",
       "1           1        25        0.5            2  Grupo-0001         1  "
      ]
     },
     "execution_count": 4,
     "metadata": {},
     "output_type": "execute_result"
    }
   ],
   "source": [
    "#Load 2P data\n",
    "\n",
    "file_name = '2-player-UR.csv'\n",
    "file = data_folder / Path(file_name)\n",
    "print(f'Loading data from {file}...')\n",
    "data = pd.read_csv(file)\n",
    "data.head(2)"
   ]
  },
  {
   "cell_type": "code",
   "execution_count": 7,
   "metadata": {},
   "outputs": [],
   "source": [
    "# Create optimization hyperparameters\n",
    "hyperparameters = {\n",
    "    'init_points':4,\n",
    "    'n_iter':8\n",
    "}\n",
    "\n",
    "#Initialize records\n",
    "best_fit = {\n",
    "    'model_name': list(),\n",
    "    'deviance': list(),\n",
    "    'AIC': list(),\n",
    "    'free_parameters': list()\n",
    "}"
   ]
  },
  {
   "cell_type": "code",
   "execution_count": null,
   "metadata": {},
   "outputs": [
    {
     "data": {
      "application/vnd.jupyter.widget-view+json": {
       "model_id": "816a6af784a4470a801fa5bac1178e1b",
       "version_major": 2,
       "version_minor": 0
      },
      "text/plain": [
       "Models :   0%|          | 0/21 [00:00<?, ?it/s]"
      ]
     },
     "metadata": {},
     "output_type": "display_data"
    },
    {
     "name": "stdout",
     "output_type": "stream",
     "text": [
      "Fitting data to model Priors-M1...\n",
      "Creating parameter recovery class...\n",
      "Running bayesian optimizer...\n",
      "Finding deviance for 2 players and threshold 0.5...\n",
      "|   iter    |  target   | 0-go_p... | 1-go_p... | invers... |\n",
      "-------------------------------------------------------------\n",
      "| \u001b[39m1        \u001b[39m | \u001b[39m-3.465e+0\u001b[39m | \u001b[39m0.417    \u001b[39m | \u001b[39m0.7203   \u001b[39m | \u001b[39m1.007    \u001b[39m |\n",
      "| \u001b[39m2        \u001b[39m | \u001b[39m-4.498e+0\u001b[39m | \u001b[39m0.3023   \u001b[39m | \u001b[39m0.1468   \u001b[39m | \u001b[39m6.817    \u001b[39m |\n",
      "| \u001b[39m3        \u001b[39m | \u001b[39m-4.264e+0\u001b[39m | \u001b[39m0.1863   \u001b[39m | \u001b[39m0.3456   \u001b[39m | \u001b[39m26.0     \u001b[39m |\n",
      "| \u001b[35m4        \u001b[39m | \u001b[35m-3.215e+0\u001b[39m | \u001b[35m0.5388   \u001b[39m | \u001b[35m0.4192   \u001b[39m | \u001b[35m44.17    \u001b[39m |\n",
      "| \u001b[35m5        \u001b[39m | \u001b[35m-3.137e+0\u001b[39m | \u001b[35m0.629    \u001b[39m | \u001b[35m0.5267   \u001b[39m | \u001b[35m44.27    \u001b[39m |\n",
      "| \u001b[39m6        \u001b[39m | \u001b[39m-1.345e+0\u001b[39m | \u001b[39m1.0      \u001b[39m | \u001b[39m1.0      \u001b[39m | \u001b[39m46.17    \u001b[39m |\n",
      "| \u001b[39m7        \u001b[39m | \u001b[39m-1.345e+0\u001b[39m | \u001b[39m1.0      \u001b[39m | \u001b[39m1.0      \u001b[39m | \u001b[39m42.92    \u001b[39m |\n",
      "| \u001b[39m8        \u001b[39m | \u001b[39m-3.23e+03\u001b[39m | \u001b[39m0.5803   \u001b[39m | \u001b[39m0.6752   \u001b[39m | \u001b[39m2.14     \u001b[39m |\n",
      "| \u001b[39m9        \u001b[39m | \u001b[39m-1.782e+0\u001b[39m | \u001b[39m0.0      \u001b[39m | \u001b[39m0.0      \u001b[39m | \u001b[39m3.077    \u001b[39m |\n",
      "| \u001b[39m10       \u001b[39m | \u001b[39m-8.387e+0\u001b[39m | \u001b[39m1.0      \u001b[39m | \u001b[39m0.2038   \u001b[39m | \u001b[39m1.486    \u001b[39m |\n",
      "| \u001b[39m11       \u001b[39m | \u001b[39m-1.207e+0\u001b[39m | \u001b[39m0.03043  \u001b[39m | \u001b[39m1.0      \u001b[39m | \u001b[39m1.658    \u001b[39m |\n",
      "| \u001b[39m12       \u001b[39m | \u001b[39m-3.353e+0\u001b[39m | \u001b[39m0.4886   \u001b[39m | \u001b[39m0.3517   \u001b[39m | \u001b[39m31.37    \u001b[39m |\n",
      "=============================================================\n",
      "Optimal parameters for 2 players and threshold 0.5:\n",
      "{'0-go_prob_0': 0.6289963455872346, '1-go_prob_0': 0.5267130982860927, 'inverse_temperature': 44.273359485951495}\n",
      "Deviance: -3136.6019686739346\n",
      "AIC: 6279.203937347869\n",
      "--------------------------------------------------\n",
      "Fitting data to model Priors-M2...\n",
      "Creating parameter recovery class...\n",
      "Running bayesian optimizer...\n",
      "Finding deviance for 2 players and threshold 0.5...\n",
      "|   iter    |  target   | 0-go_p... | 0-go_p... | 0-go_p... | 0-go_p... | 0-go_p... | 0-go_p... | 1-go_p... | 1-go_p... | 1-go_p... | 1-go_p... | 1-go_p... | 1-go_p... | invers... |\n",
      "-------------------------------------------------------------------------------------------------------------------------------------------------------------------------------------\n",
      "| \u001b[39m1        \u001b[39m | \u001b[39m-3.701e+0\u001b[39m | \u001b[39m0.417    \u001b[39m | \u001b[39m0.7203   \u001b[39m | \u001b[39m0.0001144\u001b[39m | \u001b[39m0.3023   \u001b[39m | \u001b[39m0.1468   \u001b[39m | \u001b[39m0.09234  \u001b[39m | \u001b[39m0.1863   \u001b[39m | \u001b[39m0.3456   \u001b[39m | \u001b[39m0.3968   \u001b[39m | \u001b[39m0.5388   \u001b[39m | \u001b[39m0.4192   \u001b[39m | \u001b[39m0.6852   \u001b[39m | \u001b[39m13.88    \u001b[39m |\n"
     ]
    }
   ],
   "source": [
    "best_fit = dict()\n",
    "for model in tqdm(MODELS, desc='Models '):\n",
    "    # if model in COMPLEX_PARAMETER_MODELS:        \n",
    "    # \tcontinue\n",
    "    # if model not in MFPS:\n",
    "    #     continue\n",
    "    print(f'Fitting data to model {model.name()}...')\n",
    "    best_fit['model_name'] = model.name()\n",
    "    print('Creating parameter recovery class...')\n",
    "    pf = ParameterFit(\n",
    "        agent_class=model,\n",
    "        model_name=model.name(),\n",
    "        data=data,\n",
    "        optimizer_name='bayesian'\n",
    "    )\n",
    "    print('Running bayesian optimizer...')\n",
    "    res = pf.get_optimal_parameters(hyperparameters)\n",
    "    best_fit.update(res)\n",
    "print(best_fit)"
   ]
  },
  {
   "cell_type": "code",
   "execution_count": null,
   "metadata": {},
   "outputs": [],
   "source": [
    "list_lens = [len(val) for key, val in best_fit.items()]\n",
    "max_len = max(list_lens)\n",
    "assert(np.all(x == max_len for x in list_lens))\n",
    "with open(best_fit_file_2P, 'w') as f:\n",
    "    json.dump(best_fit, f)\n",
    "print(f'Model recovery data writen to file {best_fit_file_2P}')"
   ]
  },
  {
   "cell_type": "markdown",
   "metadata": {},
   "source": [
    "## Fit to all player data"
   ]
  },
  {
   "cell_type": "code",
   "execution_count": null,
   "metadata": {},
   "outputs": [],
   "source": [
    "# Load data into a dataframe\n",
    "file_names = [\n",
    "\t# '2-player-UR.csv',\n",
    "\t'3-player-IU.csv',\n",
    "\t'4-player-IU.csv',\n",
    "\t'5-player-IU.csv',\n",
    "\t'6-player-IU.csv',\n",
    "\t'7-player-IU.csv',\n",
    "\t'8-player-IU.csv',\n",
    "\t'9-player-IU.csv',\n",
    "\t'11-player-IU.csv',\n",
    "\t'12-player-IU.csv',\n",
    "]\n",
    "df_list = list()\n",
    "for file_name in file_names:\n",
    "\tfile = data_folder / Path(file_name)\n",
    "\tprint(f'Loading data from {file}...')\n",
    "\tdf = pd.read_csv(file)\n",
    "\tdf_list.append(df)\n",
    "data = pd.concat(df_list, ignore_index=True)\n",
    "columns = ['threshold', 'num_players', 'group', 'round', 'player', 'score', 'decision']\n",
    "drop_columns = [col for col in data.columns if col not in columns]\n",
    "data.drop(columns=drop_columns, inplace=True)\n",
    "data.head()"
   ]
  },
  {
   "cell_type": "code",
   "execution_count": null,
   "metadata": {},
   "outputs": [],
   "source": [
    "# Create optimization hyperparameters\n",
    "hyperparameters = {\n",
    "    'init_points':4,\n",
    "    'n_iter':8\n",
    "}\n",
    "\n",
    "#Initialize records\n",
    "best_fit = {\n",
    "    'model_name': list(),\n",
    "    'deviance': list(),\n",
    "    'num_parameters': list(),\n",
    "    'AIC': list(),\n",
    "    'free_parameters': list()\n",
    "}\n",
    "\n",
    "# MODELS is a dictionary with the free parameters for \n",
    "# each model and comes from Classes.cognitive_model_agents\n",
    "for model_name, model in tqdm(MODELS.items(), desc='Models '):\n",
    "    # if model_name not in ['QAttendance', 'QFairness']:\n",
    "    # \tcontinue\n",
    "    print(f'Fitting data to model {model_name}...')\n",
    "    best_fit['model_name'].append(model_name)\n",
    "    print('Creating parameter recovery class...')\n",
    "    pf = ParameterFit(\n",
    "        agent_class=model[\"class\"],\n",
    "        model_name=model_name,\n",
    "        free_parameters=model[\"free_parameters\"],\n",
    "        data=data,\n",
    "        optimizer_name='bayesian',\n",
    "        with_treatment=False\n",
    "    )\n",
    "    print('Running bayesian optimizer...')\n",
    "    res = pf.get_optimal_parameters(hyperparameters)\n",
    "    best_fit['deviance'].append(-res[\"target\"])\n",
    "    best_fit['num_parameters'].append(len(model[\"free_parameters\"]))\n",
    "    best_fit['AIC'].append(2*len(model[\"free_parameters\"]) - 2*res[\"target\"])\n",
    "    best_fit['free_parameters'].append(res[\"params\"])\n",
    "print(best_fit)\n",
    "with open(best_fit_file_all, 'w') as f:\n",
    "    json.dump(best_fit, f)\n",
    "print(f'Model recovery data writen to file {best_fit_file_all}')"
   ]
  },
  {
   "cell_type": "code",
   "execution_count": null,
   "metadata": {},
   "outputs": [],
   "source": [
    "list_lens = [len(val) for key, val in best_fit.items()]\n",
    "max_len = max(list_lens)\n",
    "assert(np.all(x == max_len for x in list_lens))\n",
    "with open(best_fit_file_all, 'w') as f:\n",
    "    json.dump(best_fit, f)\n",
    "print(f'Model recovery data writen to file {best_fit_file_all}')"
   ]
  },
  {
   "cell_type": "code",
   "execution_count": null,
   "metadata": {},
   "outputs": [],
   "source": []
  },
  {
   "cell_type": "code",
   "execution_count": null,
   "metadata": {},
   "outputs": [],
   "source": []
  }
 ],
 "metadata": {
  "kernelspec": {
   "display_name": "base",
   "language": "python",
   "name": "python3"
  },
  "language_info": {
   "codemirror_mode": {
    "name": "ipython",
    "version": 3
   },
   "file_extension": ".py",
   "mimetype": "text/x-python",
   "name": "python",
   "nbconvert_exporter": "python",
   "pygments_lexer": "ipython3",
   "version": "3.11.5"
  }
 },
 "nbformat": 4,
 "nbformat_minor": 2
}
