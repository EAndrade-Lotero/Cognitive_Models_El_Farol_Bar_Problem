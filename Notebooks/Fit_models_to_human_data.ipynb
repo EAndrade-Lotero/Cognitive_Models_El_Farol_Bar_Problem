{
 "cells": [
  {
   "cell_type": "code",
   "execution_count": 1,
   "metadata": {},
   "outputs": [],
   "source": [
    "import sys\n",
    "sys.path.append(\"../src\")\n",
    "\n",
    "import warnings\n",
    "warnings.filterwarnings(\"ignore\")\n",
    "\n",
    "import json\n",
    "import pandas as pd\n",
    "from pathlib import Path\n",
    "from tqdm.auto import tqdm"
   ]
  },
  {
   "cell_type": "code",
   "execution_count": 2,
   "metadata": {},
   "outputs": [],
   "source": [
    "from Classes.cognitive_model_agents import MODELS, M1_MODELS, M2_MODELS, M3_MODELS\n",
    "from Classes.parameter_recovery import ParameterFit"
   ]
  },
  {
   "cell_type": "markdown",
   "metadata": {},
   "source": [
    "## Fit to 2-player data"
   ]
  },
  {
   "cell_type": "code",
   "execution_count": 3,
   "metadata": {},
   "outputs": [],
   "source": [
    "# Create paths for data and results\n",
    "data_folder = Path('..', 'data', 'human')\n",
    "folder_2P = Path('..', 'reports', 'MLE')\n",
    "folder_2P.mkdir(parents=True, exist_ok=True)\n",
    "\n",
    "file_name = f'best_fit_2P_2.json'\n",
    "best_fit_file_2P = Path(folder_2P, file_name)"
   ]
  },
  {
   "cell_type": "code",
   "execution_count": 4,
   "metadata": {},
   "outputs": [
    {
     "name": "stdout",
     "output_type": "stream",
     "text": [
      "Loading data from ..\\data\\human\\2-player-UR.csv...\n"
     ]
    },
    {
     "data": {
      "text/html": [
       "<div>\n",
       "<style scoped>\n",
       "    .dataframe tbody tr th:only-of-type {\n",
       "        vertical-align: middle;\n",
       "    }\n",
       "\n",
       "    .dataframe tbody tr th {\n",
       "        vertical-align: top;\n",
       "    }\n",
       "\n",
       "    .dataframe thead th {\n",
       "        text-align: right;\n",
       "    }\n",
       "</style>\n",
       "<table border=\"1\" class=\"dataframe\">\n",
       "  <thead>\n",
       "    <tr style=\"text-align: right;\">\n",
       "      <th></th>\n",
       "      <th>Unnamed: 0.4</th>\n",
       "      <th>Unnamed: 0.3</th>\n",
       "      <th>Unnamed: 0.2</th>\n",
       "      <th>Unnamed: 0.1</th>\n",
       "      <th>Unnamed: 0</th>\n",
       "      <th>source</th>\n",
       "      <th>treatment</th>\n",
       "      <th>group</th>\n",
       "      <th>round</th>\n",
       "      <th>player</th>\n",
       "      <th>choice</th>\n",
       "      <th>score</th>\n",
       "      <th>attendance</th>\n",
       "      <th>ac_score</th>\n",
       "      <th>threshold</th>\n",
       "      <th>num_players</th>\n",
       "      <th>room</th>\n",
       "      <th>decision</th>\n",
       "    </tr>\n",
       "  </thead>\n",
       "  <tbody>\n",
       "    <tr>\n",
       "      <th>0</th>\n",
       "      <td>0</td>\n",
       "      <td>0</td>\n",
       "      <td>0</td>\n",
       "      <td>0</td>\n",
       "      <td>0</td>\n",
       "      <td>human</td>\n",
       "      <td>score + grid</td>\n",
       "      <td>Grupo-0001</td>\n",
       "      <td>1</td>\n",
       "      <td>405186428721292</td>\n",
       "      <td>0</td>\n",
       "      <td>0</td>\n",
       "      <td>1</td>\n",
       "      <td>25</td>\n",
       "      <td>0.5</td>\n",
       "      <td>2</td>\n",
       "      <td>Grupo-0001</td>\n",
       "      <td>0</td>\n",
       "    </tr>\n",
       "    <tr>\n",
       "      <th>1</th>\n",
       "      <td>1</td>\n",
       "      <td>1</td>\n",
       "      <td>1</td>\n",
       "      <td>1</td>\n",
       "      <td>1</td>\n",
       "      <td>human</td>\n",
       "      <td>score + grid</td>\n",
       "      <td>Grupo-0001</td>\n",
       "      <td>1</td>\n",
       "      <td>728608683559397</td>\n",
       "      <td>1</td>\n",
       "      <td>1</td>\n",
       "      <td>1</td>\n",
       "      <td>25</td>\n",
       "      <td>0.5</td>\n",
       "      <td>2</td>\n",
       "      <td>Grupo-0001</td>\n",
       "      <td>1</td>\n",
       "    </tr>\n",
       "  </tbody>\n",
       "</table>\n",
       "</div>"
      ],
      "text/plain": [
       "   Unnamed: 0.4  Unnamed: 0.3  Unnamed: 0.2  Unnamed: 0.1  Unnamed: 0 source  \\\n",
       "0             0             0             0             0           0  human   \n",
       "1             1             1             1             1           1  human   \n",
       "\n",
       "      treatment       group  round           player  choice  score  \\\n",
       "0  score + grid  Grupo-0001      1  405186428721292       0      0   \n",
       "1  score + grid  Grupo-0001      1  728608683559397       1      1   \n",
       "\n",
       "   attendance  ac_score  threshold  num_players        room  decision  \n",
       "0           1        25        0.5            2  Grupo-0001         0  \n",
       "1           1        25        0.5            2  Grupo-0001         1  "
      ]
     },
     "execution_count": 4,
     "metadata": {},
     "output_type": "execute_result"
    }
   ],
   "source": [
    "#Load 2P data\n",
    "\n",
    "file_name = '2-player-UR.csv'\n",
    "file = data_folder / Path(file_name)\n",
    "print(f'Loading data from {file}...')\n",
    "data = pd.read_csv(file)\n",
    "data.head(2)"
   ]
  },
  {
   "cell_type": "code",
   "execution_count": 5,
   "metadata": {},
   "outputs": [
    {
     "data": {
      "application/vnd.jupyter.widget-view+json": {
       "model_id": "9b4329bcc37c4bbcb97383d5f9eaf83c",
       "version_major": 2,
       "version_minor": 0
      },
      "text/plain": [
       "Fitting models...:   0%|          | 0/1 [00:00<?, ?it/s]"
      ]
     },
     "metadata": {},
     "output_type": "display_data"
    },
    {
     "name": "stdout",
     "output_type": "stream",
     "text": [
      "Fitting data to model Fairness-M2...\n",
      "Creating parameter recovery class...\n",
      "Running bayesian optimizer...\n",
      "Finding deviance for 2 players and threshold 0.5...\n",
      "|   iter    |  target   |   bias    | invers... | learni... |\n",
      "-------------------------------------------------------------\n",
      "| \u001b[39m1        \u001b[39m | \u001b[39m-3.172e+0\u001b[39m | \u001b[39m0.2085   \u001b[39m | \u001b[39m46.38    \u001b[39m | \u001b[39m0.0001144\u001b[39m |\n",
      "| \u001b[39m2        \u001b[39m | \u001b[39m-3.249e+0\u001b[39m | \u001b[39m0.1512   \u001b[39m | \u001b[39m10.25    \u001b[39m | \u001b[39m0.09234  \u001b[39m |\n",
      "| \u001b[39m3        \u001b[39m | \u001b[39m-7.475e+0\u001b[39m | \u001b[39m0.09313  \u001b[39m | \u001b[39m22.77    \u001b[39m | \u001b[39m0.3968   \u001b[39m |\n",
      "| \u001b[39m4        \u001b[39m | \u001b[39m-8.486e+0\u001b[39m | \u001b[39m0.2694   \u001b[39m | \u001b[39m27.41    \u001b[39m | \u001b[39m0.6852   \u001b[39m |\n",
      "| \u001b[39m5        \u001b[39m | \u001b[39m-4.472e+0\u001b[39m | \u001b[39m0.1022   \u001b[39m | \u001b[39m56.32    \u001b[39m | \u001b[39m0.02739  \u001b[39m |\n",
      "| \u001b[39m6        \u001b[39m | \u001b[39m-8.141e+0\u001b[39m | \u001b[39m0.3352   \u001b[39m | \u001b[39m27.29    \u001b[39m | \u001b[39m0.5587   \u001b[39m |\n",
      "| \u001b[39m7        \u001b[39m | \u001b[39m-8.417e+0\u001b[39m | \u001b[39m0.07019  \u001b[39m | \u001b[39m13.48    \u001b[39m | \u001b[39m0.8007   \u001b[39m |\n",
      "| \u001b[39m8        \u001b[39m | \u001b[39m-8.136e+0\u001b[39m | \u001b[39m0.4841   \u001b[39m | \u001b[39m20.75    \u001b[39m | \u001b[39m0.6923   \u001b[39m |\n",
      "| \u001b[39m9        \u001b[39m | \u001b[39m-3.188e+0\u001b[39m | \u001b[39m0.1883   \u001b[39m | \u001b[39m8.763    \u001b[39m | \u001b[39m0.0      \u001b[39m |\n",
      "| \u001b[35m10       \u001b[39m | \u001b[35m-2.86e+03\u001b[39m | \u001b[35m0.1827   \u001b[39m | \u001b[35m48.79    \u001b[39m | \u001b[35m0.00674  \u001b[39m |\n",
      "| \u001b[39m11       \u001b[39m | \u001b[39m-8.883e+0\u001b[39m | \u001b[39m0.5      \u001b[39m | \u001b[39m51.97    \u001b[39m | \u001b[39m1.0      \u001b[39m |\n",
      "| \u001b[39m12       \u001b[39m | \u001b[39m-8.86e+03\u001b[39m | \u001b[39m0.5      \u001b[39m | \u001b[39m47.65    \u001b[39m | \u001b[39m1.0      \u001b[39m |\n",
      "| \u001b[39m13       \u001b[39m | \u001b[39m-5.18e+03\u001b[39m | \u001b[39m0.5      \u001b[39m | \u001b[39m9.472    \u001b[39m | \u001b[39m0.5719   \u001b[39m |\n",
      "| \u001b[39m14       \u001b[39m | \u001b[39m-3.188e+0\u001b[39m | \u001b[39m0.0      \u001b[39m | \u001b[39m49.55    \u001b[39m | \u001b[39m0.0      \u001b[39m |\n",
      "| \u001b[39m15       \u001b[39m | \u001b[39m-3.188e+0\u001b[39m | \u001b[39m0.0      \u001b[39m | \u001b[39m45.37    \u001b[39m | \u001b[39m0.0      \u001b[39m |\n",
      "| \u001b[39m16       \u001b[39m | \u001b[39m-3.188e+0\u001b[39m | \u001b[39m0.0      \u001b[39m | \u001b[39m7.48     \u001b[39m | \u001b[39m0.0      \u001b[39m |\n",
      "| \u001b[39m17       \u001b[39m | \u001b[39m-5.045e+0\u001b[39m | \u001b[39m0.5      \u001b[39m | \u001b[39m6.444    \u001b[39m | \u001b[39m1.0      \u001b[39m |\n",
      "| \u001b[39m18       \u001b[39m | \u001b[39m-8.841e+0\u001b[39m | \u001b[39m0.5      \u001b[39m | \u001b[39m44.29    \u001b[39m | \u001b[39m1.0      \u001b[39m |\n",
      "| \u001b[39m19       \u001b[39m | \u001b[39m-8.409e+0\u001b[39m | \u001b[39m0.0      \u001b[39m | \u001b[39m7.989    \u001b[39m | \u001b[39m1.0      \u001b[39m |\n",
      "| \u001b[39m20       \u001b[39m | \u001b[39m-8.878e+0\u001b[39m | \u001b[39m0.5      \u001b[39m | \u001b[39m49.36    \u001b[39m | \u001b[39m0.6415   \u001b[39m |\n",
      "| \u001b[39m21       \u001b[39m | \u001b[39m-3.251e+0\u001b[39m | \u001b[39m0.1501   \u001b[39m | \u001b[39m10.26    \u001b[39m | \u001b[39m0.09239  \u001b[39m |\n",
      "| \u001b[39m22       \u001b[39m | \u001b[39m-8.378e+0\u001b[39m | \u001b[39m0.0      \u001b[39m | \u001b[39m45.91    \u001b[39m | \u001b[39m0.5597   \u001b[39m |\n",
      "| \u001b[39m23       \u001b[39m | \u001b[39m-3.188e+0\u001b[39m | \u001b[39m0.1345   \u001b[39m | \u001b[39m8.12     \u001b[39m | \u001b[39m0.0      \u001b[39m |\n",
      "| \u001b[39m24       \u001b[39m | \u001b[39m-3.188e+0\u001b[39m | \u001b[39m0.5      \u001b[39m | \u001b[39m7.638    \u001b[39m | \u001b[39m0.0      \u001b[39m |\n",
      "=============================================================\n",
      "Optimal parameters for 2 players and threshold 0.5:\n",
      "{'bias': 0.1826986574245296, 'inverse_temperature': 48.79424273649215, 'learning_rate': 0.006740086022223992}\n",
      "Deviance: -2859.577143586519\n",
      "AIC: 5725.154287173038\n",
      "--------------------------------------------------\n"
     ]
    }
   ],
   "source": [
    "# check_out_these = ['Attendance-M2', 'MFP-M2', 'Payoff-M2']\n",
    "check_out_these = ['Fairness-M2']\n",
    "my_models = [model for model in MODELS if model.name() in check_out_these]\n",
    "\n",
    "ParameterFit.run(\n",
    "    data=data,\n",
    "    model_list=my_models,\n",
    "    # model_list=M2_MODELS,\n",
    "    best_fit_path=best_fit_file_2P,\n",
    "    new_file=False\n",
    ")"
   ]
  },
  {
   "cell_type": "markdown",
   "metadata": {},
   "source": [
    "## Fit to all player data"
   ]
  },
  {
   "cell_type": "code",
   "execution_count": null,
   "metadata": {},
   "outputs": [],
   "source": [
    "# Create paths for data and results\n",
    "folder_all = Path('..', 'reports', 'MLE')\n",
    "folder_all.mkdir(parents=True, exist_ok=True)\n",
    "\n",
    "best_fit_file_all = Path(folder_all, f'best_fit_all.json')"
   ]
  },
  {
   "cell_type": "code",
   "execution_count": null,
   "metadata": {},
   "outputs": [],
   "source": [
    "# Load data into a dataframe\n",
    "file_names = [\n",
    "\t# '2-player-UR.csv',\n",
    "\t'3-player-IU.csv',\n",
    "\t'4-player-IU.csv',\n",
    "\t'5-player-IU.csv',\n",
    "\t'6-player-IU.csv',\n",
    "\t'7-player-IU.csv',\n",
    "\t'8-player-IU.csv',\n",
    "\t'9-player-IU.csv',\n",
    "\t'11-player-IU.csv',\n",
    "\t'12-player-IU.csv',\n",
    "]\n",
    "df_list = list()\n",
    "for file_name in file_names:\n",
    "\tfile = data_folder / Path(file_name)\n",
    "\tprint(f'Loading data from {file}...')\n",
    "\tdf = pd.read_csv(file)\n",
    "\tdf_list.append(df)\n",
    "data = pd.concat(df_list, ignore_index=True)\n",
    "columns = ['threshold', 'num_players', 'group', 'round', 'player', 'score', 'decision']\n",
    "drop_columns = [col for col in data.columns if col not in columns]\n",
    "data.drop(columns=drop_columns, inplace=True)\n",
    "data.head()"
   ]
  },
  {
   "cell_type": "code",
   "execution_count": null,
   "metadata": {},
   "outputs": [],
   "source": [
    "ParameterFit.run(\n",
    "    data=data,\n",
    "    model_list=MODELS,\n",
    "    best_fit_path=best_fit_file_2P,\n",
    "    new_file=True\n",
    ") "
   ]
  },
  {
   "cell_type": "code",
   "execution_count": null,
   "metadata": {},
   "outputs": [],
   "source": []
  },
  {
   "cell_type": "code",
   "execution_count": null,
   "metadata": {},
   "outputs": [],
   "source": []
  }
 ],
 "metadata": {
  "kernelspec": {
   "display_name": "base",
   "language": "python",
   "name": "python3"
  },
  "language_info": {
   "codemirror_mode": {
    "name": "ipython",
    "version": 3
   },
   "file_extension": ".py",
   "mimetype": "text/x-python",
   "name": "python",
   "nbconvert_exporter": "python",
   "pygments_lexer": "ipython3",
   "version": "3.11.5"
  }
 },
 "nbformat": 4,
 "nbformat_minor": 2
}
