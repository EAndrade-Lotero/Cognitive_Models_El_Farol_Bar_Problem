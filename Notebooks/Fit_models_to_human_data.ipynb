{
 "cells": [
  {
   "cell_type": "code",
   "execution_count": 1,
   "metadata": {},
   "outputs": [],
   "source": [
    "import sys\n",
    "sys.path.append(\"../src\")\n",
    "\n",
    "import warnings\n",
    "warnings.filterwarnings(\"ignore\")\n",
    "\n",
    "import json\n",
    "import pandas as pd\n",
    "from pathlib import Path\n",
    "from tqdm.auto import tqdm"
   ]
  },
  {
   "cell_type": "code",
   "execution_count": 2,
   "metadata": {},
   "outputs": [],
   "source": [
    "from Classes.cognitive_model_agents import MODELS, M1_MODELS, M2_MODELS, M3_MODELS\n",
    "from Classes.parameter_recovery import ParameterFit"
   ]
  },
  {
   "cell_type": "markdown",
   "metadata": {},
   "source": [
    "## Fit to 2-player data"
   ]
  },
  {
   "cell_type": "code",
   "execution_count": 3,
   "metadata": {},
   "outputs": [],
   "source": [
    "# Create paths for data and results\n",
    "data_folder = Path('..', 'data', 'human')\n",
    "folder_2P = Path('..', 'reports', 'MLE')\n",
    "folder_2P.mkdir(parents=True, exist_ok=True)\n",
    "\n",
    "file_name = f'best_fit_2P_with_FRA.json'\n",
    "best_fit_file_2P = Path(folder_2P, file_name)"
   ]
  },
  {
   "cell_type": "code",
   "execution_count": 4,
   "metadata": {},
   "outputs": [
    {
     "name": "stdout",
     "output_type": "stream",
     "text": [
      "Loading data from ../data/human/2-player-UR.csv...\n"
     ]
    },
    {
     "data": {
      "text/html": [
       "<div>\n",
       "<style scoped>\n",
       "    .dataframe tbody tr th:only-of-type {\n",
       "        vertical-align: middle;\n",
       "    }\n",
       "\n",
       "    .dataframe tbody tr th {\n",
       "        vertical-align: top;\n",
       "    }\n",
       "\n",
       "    .dataframe thead th {\n",
       "        text-align: right;\n",
       "    }\n",
       "</style>\n",
       "<table border=\"1\" class=\"dataframe\">\n",
       "  <thead>\n",
       "    <tr style=\"text-align: right;\">\n",
       "      <th></th>\n",
       "      <th>source</th>\n",
       "      <th>treatment</th>\n",
       "      <th>group</th>\n",
       "      <th>round</th>\n",
       "      <th>player</th>\n",
       "      <th>choice</th>\n",
       "      <th>score</th>\n",
       "      <th>attendance</th>\n",
       "      <th>ac_score</th>\n",
       "      <th>threshold</th>\n",
       "      <th>num_players</th>\n",
       "      <th>room</th>\n",
       "      <th>decision</th>\n",
       "    </tr>\n",
       "  </thead>\n",
       "  <tbody>\n",
       "    <tr>\n",
       "      <th>0</th>\n",
       "      <td>human</td>\n",
       "      <td>score + grid</td>\n",
       "      <td>Grupo-0001</td>\n",
       "      <td>1</td>\n",
       "      <td>405186428721292</td>\n",
       "      <td>0</td>\n",
       "      <td>0</td>\n",
       "      <td>1</td>\n",
       "      <td>25</td>\n",
       "      <td>0.5</td>\n",
       "      <td>2</td>\n",
       "      <td>Grupo-0001</td>\n",
       "      <td>0</td>\n",
       "    </tr>\n",
       "    <tr>\n",
       "      <th>1</th>\n",
       "      <td>human</td>\n",
       "      <td>score + grid</td>\n",
       "      <td>Grupo-0001</td>\n",
       "      <td>1</td>\n",
       "      <td>728608683559397</td>\n",
       "      <td>1</td>\n",
       "      <td>1</td>\n",
       "      <td>1</td>\n",
       "      <td>25</td>\n",
       "      <td>0.5</td>\n",
       "      <td>2</td>\n",
       "      <td>Grupo-0001</td>\n",
       "      <td>1</td>\n",
       "    </tr>\n",
       "  </tbody>\n",
       "</table>\n",
       "</div>"
      ],
      "text/plain": [
       "  source     treatment       group  round           player  choice  score  \\\n",
       "0  human  score + grid  Grupo-0001      1  405186428721292       0      0   \n",
       "1  human  score + grid  Grupo-0001      1  728608683559397       1      1   \n",
       "\n",
       "   attendance  ac_score  threshold  num_players        room  decision  \n",
       "0           1        25        0.5            2  Grupo-0001         0  \n",
       "1           1        25        0.5            2  Grupo-0001         1  "
      ]
     },
     "execution_count": 4,
     "metadata": {},
     "output_type": "execute_result"
    }
   ],
   "source": [
    "#Load 2P data\n",
    "\n",
    "file_name = '2-player-UR.csv'\n",
    "file = data_folder / Path(file_name)\n",
    "print(f'Loading data from {file}...')\n",
    "data = pd.read_csv(file)\n",
    "data.head(2)"
   ]
  },
  {
   "cell_type": "code",
   "execution_count": null,
   "metadata": {},
   "outputs": [
    {
     "name": "stderr",
     "output_type": "stream",
     "text": [
      "Fitting models...:   0%|                                 | 0/23 [00:00<?, ?it/s]"
     ]
    },
    {
     "name": "stdout",
     "output_type": "stream",
     "text": [
      "Fitting data to model Priors-M1...\n",
      "Creating parameter recovery class...\n",
      "Running bayesian optimizer...\n",
      "Finding deviance for 2 players and threshold 0.5...\n",
      "|   iter    |  target   | invers... | 0-go_p... | 1-go_p... |\n",
      "-------------------------------------------------------------\n",
      "| \u001b[39m1        \u001b[39m | \u001b[39m-9992.713\u001b[39m | \u001b[39m27.272386\u001b[39m | \u001b[39m0.7203244\u001b[39m | \u001b[39m0.0001143\u001b[39m |\n",
      "| \u001b[35m2        \u001b[39m | \u001b[35m-5798.146\u001b[39m | \u001b[35m20.046952\u001b[39m | \u001b[35m0.1467558\u001b[39m | \u001b[35m0.0923385\u001b[39m |\n",
      "| \u001b[35m3        \u001b[39m | \u001b[35m-3534.584\u001b[39m | \u001b[35m12.734393\u001b[39m | \u001b[35m0.3455607\u001b[39m | \u001b[35m0.3967674\u001b[39m |\n",
      "| \u001b[35m4        \u001b[39m | \u001b[35m-3398.272\u001b[39m | \u001b[35m34.945454\u001b[39m | \u001b[35m0.4191945\u001b[39m | \u001b[35m0.6852195\u001b[39m |\n",
      "| \u001b[39m5        \u001b[39m | \u001b[39m-6493.211\u001b[39m | \u001b[39m13.880491\u001b[39m | \u001b[39m0.8781174\u001b[39m | \u001b[39m0.0273875\u001b[39m |\n",
      "| \u001b[35m6        \u001b[39m | \u001b[35m-3294.720\u001b[39m | \u001b[35m43.239453\u001b[39m | \u001b[35m0.4173048\u001b[39m | \u001b[35m0.5586898\u001b[39m |\n",
      "| \u001b[39m7        \u001b[39m | \u001b[39m-4421.551\u001b[39m | \u001b[39m9.8443771\u001b[39m | \u001b[39m0.1981014\u001b[39m | \u001b[39m0.8007445\u001b[39m |\n",
      "| \u001b[39m8        \u001b[39m | \u001b[39m-3656.494\u001b[39m | \u001b[39m62.000479\u001b[39m | \u001b[39m0.3134241\u001b[39m | \u001b[39m0.6923226\u001b[39m |\n",
      "| \u001b[39m9        \u001b[39m | \u001b[39m-4075.571\u001b[39m | \u001b[39m56.322977\u001b[39m | \u001b[39m0.8540270\u001b[39m | \u001b[39m0.8303889\u001b[39m |\n"
     ]
    }
   ],
   "source": [
    "# check_out_these = ['Attendance-M2', 'MFP-M2', 'Payoff-M2']\n",
    "check_out_these = ['Fairness-M2']\n",
    "my_models = [model for model in MODELS if model.name() in check_out_these]\n",
    "\n",
    "ParameterFit.run(\n",
    "    data=data,\n",
    "    model_list=MODELS,\n",
    "    # model_list=my_models,\n",
    "    # model_list=M2_MODELS,\n",
    "    # model_list=M3_MODELS,\n",
    "    best_fit_path=best_fit_file_2P,\n",
    "    new_file=False\n",
    ")"
   ]
  },
  {
   "cell_type": "markdown",
   "metadata": {},
   "source": [
    "## Fit to all player data"
   ]
  },
  {
   "cell_type": "code",
   "execution_count": 10,
   "metadata": {},
   "outputs": [],
   "source": [
    "# Create paths for data and results\n",
    "folder_all = Path('..', 'reports', 'MLE')\n",
    "folder_all.mkdir(parents=True, exist_ok=True)\n",
    "\n",
    "best_fit_file_all = Path(folder_all, f'best_fit_all_with_FRA.json')"
   ]
  },
  {
   "cell_type": "code",
   "execution_count": null,
   "metadata": {},
   "outputs": [],
   "source": [
    "# Load data into a dataframe\n",
    "file_names = [\n",
    "\t# '2-player-UR.csv',\n",
    "\t'3-player-IU.csv',\n",
    "\t'4-player-IU.csv',\n",
    "\t'5-player-IU.csv',\n",
    "\t'6-player-IU.csv',\n",
    "\t'7-player-IU.csv',\n",
    "\t'8-player-IU.csv',\n",
    "\t'9-player-IU.csv',\n",
    "\t'11-player-IU.csv',\n",
    "\t'12-player-IU.csv',\n",
    "]\n",
    "df_list = list()\n",
    "for file_name in file_names:\n",
    "\tfile = data_folder / Path(file_name)\n",
    "\tprint(f'Loading data from {file}...')\n",
    "\tdf = pd.read_csv(file)\n",
    "\tdf_list.append(df)\n",
    "data = pd.concat(df_list, ignore_index=True)\n",
    "columns = ['threshold', 'num_players', 'group', 'round', 'player', 'score', 'decision']\n",
    "drop_columns = [col for col in data.columns if col not in columns]\n",
    "data.drop(columns=drop_columns, inplace=True)\n",
    "data.head()"
   ]
  },
  {
   "cell_type": "code",
   "execution_count": null,
   "metadata": {},
   "outputs": [],
   "source": [
    "ParameterFit.run(\n",
    "    data=data,\n",
    "    model_list=MODELS,\n",
    "    best_fit_path=best_fit_file_2P,\n",
    "    new_file=True\n",
    ") "
   ]
  },
  {
   "cell_type": "code",
   "execution_count": null,
   "metadata": {},
   "outputs": [],
   "source": []
  },
  {
   "cell_type": "code",
   "execution_count": null,
   "metadata": {},
   "outputs": [],
   "source": []
  }
 ],
 "metadata": {
  "kernelspec": {
   "display_name": "Python 3 (ipykernel)",
   "language": "python",
   "name": "python3"
  },
  "language_info": {
   "codemirror_mode": {
    "name": "ipython",
    "version": 3
   },
   "file_extension": ".py",
   "mimetype": "text/x-python",
   "name": "python",
   "nbconvert_exporter": "python",
   "pygments_lexer": "ipython3",
   "version": "3.13.3"
  }
 },
 "nbformat": 4,
 "nbformat_minor": 2
}
