{
 "cells": [
  {
   "cell_type": "markdown",
   "metadata": {},
   "source": [
    "# Fit models to human data"
   ]
  },
  {
   "cell_type": "code",
   "execution_count": 1,
   "metadata": {},
   "outputs": [],
   "source": [
    "import json\n",
    "import numpy as np\n",
    "import pandas as pd\n",
    "from pathlib import Path\n",
    "from tqdm.auto import tqdm\n",
    "\n",
    "import sys\n",
    "sys.path.append(\"../src\")\n",
    "\n",
    "import warnings\n",
    "warnings.filterwarnings(\"ignore\")"
   ]
  },
  {
   "cell_type": "code",
   "execution_count": 2,
   "metadata": {},
   "outputs": [],
   "source": [
    "from Config.config import PATHS\n",
    "from Classes.parameter_recovery import ParameterFit\n",
    "from Classes.cognitive_model_agents import MODELS"
   ]
  },
  {
   "cell_type": "markdown",
   "metadata": {},
   "source": [
    "### Load human data"
   ]
  },
  {
   "cell_type": "code",
   "execution_count": 3,
   "metadata": {},
   "outputs": [
    {
     "name": "stdout",
     "output_type": "stream",
     "text": [
      "Loading data from C:\\Users\\andra\\Documents\\Cognitive_Models_El_Farol_Bar_Problem\\data\\human\\11-player-IU.csv...\n"
     ]
    },
    {
     "data": {
      "text/html": [
       "<div>\n",
       "<style scoped>\n",
       "    .dataframe tbody tr th:only-of-type {\n",
       "        vertical-align: middle;\n",
       "    }\n",
       "\n",
       "    .dataframe tbody tr th {\n",
       "        vertical-align: top;\n",
       "    }\n",
       "\n",
       "    .dataframe thead th {\n",
       "        text-align: right;\n",
       "    }\n",
       "</style>\n",
       "<table border=\"1\" class=\"dataframe\">\n",
       "  <thead>\n",
       "    <tr style=\"text-align: right;\">\n",
       "      <th></th>\n",
       "      <th>threshold</th>\n",
       "      <th>round</th>\n",
       "      <th>player</th>\n",
       "      <th>decision</th>\n",
       "      <th>score</th>\n",
       "      <th>num_players</th>\n",
       "      <th>group</th>\n",
       "    </tr>\n",
       "  </thead>\n",
       "  <tbody>\n",
       "    <tr>\n",
       "      <th>0</th>\n",
       "      <td>0.272727</td>\n",
       "      <td>1.0</td>\n",
       "      <td>484130782214859</td>\n",
       "      <td>0.0</td>\n",
       "      <td>0.0</td>\n",
       "      <td>11</td>\n",
       "      <td>13</td>\n",
       "    </tr>\n",
       "    <tr>\n",
       "      <th>1</th>\n",
       "      <td>0.272727</td>\n",
       "      <td>1.0</td>\n",
       "      <td>324279369615055</td>\n",
       "      <td>0.0</td>\n",
       "      <td>0.0</td>\n",
       "      <td>11</td>\n",
       "      <td>13</td>\n",
       "    </tr>\n",
       "  </tbody>\n",
       "</table>\n",
       "</div>"
      ],
      "text/plain": [
       "   threshold  round           player  decision  score  num_players  group\n",
       "0   0.272727    1.0  484130782214859       0.0    0.0           11     13\n",
       "1   0.272727    1.0  324279369615055       0.0    0.0           11     13"
      ]
     },
     "execution_count": 3,
     "metadata": {},
     "output_type": "execute_result"
    }
   ],
   "source": [
    "# Load data into a dataframe\n",
    "\n",
    "two_player = False  # Set to True for 2-player UR experiment, False for multi-player IU experiment\n",
    "if two_player:\n",
    "\tfile_name = '2-player-UR.csv' # <= Data from 2-player UR experiment\n",
    "\tbest_fits_file = PATHS['parameter_fit_results'] / Path('best_fit_2P.json')\n",
    "else:\n",
    "\t# file_name = '3-player-IU.csv' # <= Data from 3-player IU experiment\n",
    "\t# file_name = '4-player-IU.csv' # <= Data from 3-player IU experiment\n",
    "\t# file_name = '5-player-IU.csv' # <= Data from 3-player IU experiment\n",
    "\t# file_name = '6-player-IU.csv' # <= Data from 3-player IU experiment\n",
    "\t# file_name = '7-player-IU.csv' # <= Data from 3-player IU experiment\n",
    "\t# file_name = '8-player-IU.csv' # <= Data from 3-player IU experiment\n",
    "\t# file_name = '9-player-IU.csv' # <= Data from 3-player IU experiment\n",
    "\tfile_name = '11-player-IU.csv' # <= Data from 3-player IU experiment\n",
    "\t# file_name = '12-player-IU.csv' # <= Data from 3-player IU experiment\n",
    "\t# file_name = 'multi-player.csv' # <= Data from multi-player IU experiment\n",
    "\tbest_fits_file = PATHS['parameter_fit_results'] / Path('best_fit_MP.json')\n",
    "\n",
    "data_folder = PATHS['human_data']\n",
    "file = data_folder / Path(file_name)\n",
    "print(f'Loading data from {file}...')\n",
    "\n",
    "data = pd.read_csv(file)\n",
    "columns = ['threshold', 'num_players', 'group', 'round', 'player', 'score', 'decision']\n",
    "drop_columns = [col for col in data.columns if col not in columns]\n",
    "data.drop(columns=drop_columns, inplace=True)\n",
    "data.head(2)"
   ]
  },
  {
   "cell_type": "markdown",
   "metadata": {},
   "source": [
    "### Select models"
   ]
  },
  {
   "cell_type": "code",
   "execution_count": 4,
   "metadata": {},
   "outputs": [],
   "source": [
    "# check_out_these = [model.name() for model in MODELS]\n",
    "# check_out_these = ['AvailableSpace-M1', 'AvailableSpace-M2', 'AvailableSpace-M3']\n",
    "# check_out_these = ['Attendance-M1', 'Attendance-M2', 'Attendance-M3'] \n",
    "# check_out_these = ['Payoff-M1', 'Payoff-M2', 'Payoff-M3']\n",
    "# check_out_these = ['Fairness-M1', 'Fairness-M2', 'Fairness-M3']\n",
    "# check_out_these = ['WSLS-M1', 'WSLS-M2', 'WSLS-M3']\n",
    "# check_out_these = ['Payoff-M2', 'Fairness-M2', 'AvailableSpace-M2']\n",
    "# check_out_these = ['Attendance-M2', 'MFP-M2', 'Payoff-M2']\n",
    "# check_out_these = ['Payoff-M2', 'Fairness-M2']\n",
    "# check_out_these = ['Fairness-M2']\n",
    "check_out_these = ['FRA']\n",
    "# check_out_these = ['FRA+Payoff+Attendance']\n",
    "my_models = [model for model in MODELS if model.name() in check_out_these]"
   ]
  },
  {
   "cell_type": "markdown",
   "metadata": {},
   "source": [
    "### Fit with scipy"
   ]
  },
  {
   "cell_type": "code",
   "execution_count": 5,
   "metadata": {},
   "outputs": [
    {
     "data": {
      "application/vnd.jupyter.widget-view+json": {
       "model_id": "0b6018be40774b528ff3ce4f8598117c",
       "version_major": 2,
       "version_minor": 0
      },
      "text/plain": [
       "Fitting models...:   0%|          | 0/1 [00:00<?, ?it/s]"
      ]
     },
     "metadata": {},
     "output_type": "display_data"
    },
    {
     "name": "stdout",
     "output_type": "stream",
     "text": [
      "Fitting data to model FRA...\n",
      "Creating parameter recovery class...\n",
      "Running optimizer...\n",
      "Finding deviance for 11 players and threshold 0.6363636363636364...\n"
     ]
    },
    {
     "data": {
      "application/vnd.jupyter.widget-view+json": {
       "model_id": "7efd92d58c1b40ea9651bfe05246c6e6",
       "version_major": 2,
       "version_minor": 0
      },
      "text/plain": [
       "Calculating likelihoods:   0%|          | 0/1 [00:00<?, ?it/s]"
      ]
     },
     "metadata": {},
     "output_type": "display_data"
    },
    {
     "name": "stdout",
     "output_type": "stream",
     "text": [
      "Initializing focal regions...\n",
      "Generating focal regions...\n",
      "self.from_file=True --- self.file.exists()=False\n"
     ]
    },
    {
     "ename": "Exception",
     "evalue": "WTFFFFF",
     "output_type": "error",
     "traceback": [
      "\u001b[1;31m---------------------------------------------------------------------------\u001b[0m",
      "\u001b[1;31mException\u001b[0m                                 Traceback (most recent call last)",
      "Cell \u001b[1;32mIn[5], line 1\u001b[0m\n\u001b[1;32m----> 1\u001b[0m ParameterFit\u001b[38;5;241m.\u001b[39mrun(\n\u001b[0;32m      2\u001b[0m     data\u001b[38;5;241m=\u001b[39mdata,\n\u001b[0;32m      3\u001b[0m     model_list\u001b[38;5;241m=\u001b[39mmy_models,\n\u001b[0;32m      4\u001b[0m     best_fit_path\u001b[38;5;241m=\u001b[39mPATHS[\u001b[38;5;124m'\u001b[39m\u001b[38;5;124mparameter_fit_results\u001b[39m\u001b[38;5;124m'\u001b[39m] \u001b[38;5;241m/\u001b[39m \u001b[38;5;124m'\u001b[39m\u001b[38;5;124mbest_fit_Scipy.json\u001b[39m\u001b[38;5;124m'\u001b[39m,\n\u001b[0;32m      5\u001b[0m     optimizer_type\u001b[38;5;241m=\u001b[39m\u001b[38;5;124m'\u001b[39m\u001b[38;5;124mscipy\u001b[39m\u001b[38;5;124m'\u001b[39m,\n\u001b[0;32m      6\u001b[0m     hyperparameters\u001b[38;5;241m=\u001b[39m\u001b[38;5;28;01mNone\u001b[39;00m,\n\u001b[0;32m      7\u001b[0m     new_file\u001b[38;5;241m=\u001b[39m\u001b[38;5;28;01mTrue\u001b[39;00m\n\u001b[0;32m      8\u001b[0m )\n",
      "File \u001b[1;32mc:\\Users\\andra\\Documents\\Cognitive_Models_El_Farol_Bar_Problem\\Notebooks\\../src\\Classes\\parameter_recovery.py:678\u001b[0m, in \u001b[0;36mParameterFit.run\u001b[1;34m(data, model_list, best_fit_path, optimizer_type, hyperparameters, new_file)\u001b[0m\n\u001b[0;32m    670\u001b[0m pf \u001b[38;5;241m=\u001b[39m ParameterFit(\n\u001b[0;32m    671\u001b[0m     agent_class\u001b[38;5;241m=\u001b[39mmodel,\n\u001b[0;32m    672\u001b[0m     model_name\u001b[38;5;241m=\u001b[39mmodel\u001b[38;5;241m.\u001b[39m\u001b[38;5;18m__name__\u001b[39m,\n\u001b[0;32m    673\u001b[0m     data\u001b[38;5;241m=\u001b[39mdata,\n\u001b[0;32m    674\u001b[0m     optimizer_type\u001b[38;5;241m=\u001b[39moptimizer_type\n\u001b[0;32m    675\u001b[0m )\n\u001b[0;32m    677\u001b[0m \u001b[38;5;28mprint\u001b[39m(\u001b[38;5;124m'\u001b[39m\u001b[38;5;124mRunning optimizer...\u001b[39m\u001b[38;5;124m'\u001b[39m)\n\u001b[1;32m--> 678\u001b[0m res \u001b[38;5;241m=\u001b[39m pf\u001b[38;5;241m.\u001b[39mget_optimal_parameters(hyperparameters)\n\u001b[0;32m    679\u001b[0m best_fit\u001b[38;5;241m.\u001b[39mupdate(res)\n\u001b[0;32m    681\u001b[0m \u001b[38;5;28mprint\u001b[39m(best_fit)\n",
      "File \u001b[1;32mc:\\Users\\andra\\Documents\\Cognitive_Models_El_Farol_Bar_Problem\\Notebooks\\../src\\Classes\\parameter_recovery.py:528\u001b[0m, in \u001b[0;36mParameterFit.get_optimal_parameters\u001b[1;34m(self, hyperparameters)\u001b[0m\n\u001b[0;32m    525\u001b[0m     optimizer\u001b[38;5;241m.\u001b[39mmaximize(\u001b[38;5;241m*\u001b[39m\u001b[38;5;241m*\u001b[39mhyperparameters)\n\u001b[0;32m    526\u001b[0m \u001b[38;5;28;01melif\u001b[39;00m \u001b[38;5;28mself\u001b[39m\u001b[38;5;241m.\u001b[39moptimizer_type \u001b[38;5;241m==\u001b[39m \u001b[38;5;124m'\u001b[39m\u001b[38;5;124mscipy\u001b[39m\u001b[38;5;124m'\u001b[39m:\n\u001b[0;32m    527\u001b[0m     \u001b[38;5;66;03m# Find optimal parameters\u001b[39;00m\n\u001b[1;32m--> 528\u001b[0m     result \u001b[38;5;241m=\u001b[39m \u001b[38;5;28mself\u001b[39m\u001b[38;5;241m.\u001b[39mcreate_scipy_optimizer(\n\u001b[0;32m    529\u001b[0m         data\u001b[38;5;241m=\u001b[39mdf,\n\u001b[0;32m    530\u001b[0m         free_parameters\u001b[38;5;241m=\u001b[39mfree_parameters, \n\u001b[0;32m    531\u001b[0m         pbounds\u001b[38;5;241m=\u001b[39mpbounds\n\u001b[0;32m    532\u001b[0m     )\n\u001b[0;32m    533\u001b[0m \u001b[38;5;28;01melse\u001b[39;00m:\n\u001b[0;32m    534\u001b[0m     \u001b[38;5;28;01mraise\u001b[39;00m \u001b[38;5;167;01mNotImplementedError\u001b[39;00m(\u001b[38;5;124mf\u001b[39m\u001b[38;5;124m'\u001b[39m\u001b[38;5;124mOptimizer \u001b[39m\u001b[38;5;132;01m{\u001b[39;00m\u001b[38;5;28mself\u001b[39m\u001b[38;5;241m.\u001b[39moptimizer_type\u001b[38;5;132;01m}\u001b[39;00m\u001b[38;5;124m not implemented!\u001b[39m\u001b[38;5;124m'\u001b[39m)\n",
      "File \u001b[1;32mc:\\Users\\andra\\Documents\\Cognitive_Models_El_Farol_Bar_Problem\\Notebooks\\../src\\Classes\\parameter_recovery.py:621\u001b[0m, in \u001b[0;36mParameterFit.create_scipy_optimizer\u001b[1;34m(self, data, free_parameters, pbounds)\u001b[0m\n\u001b[0;32m    619\u001b[0m x0 \u001b[38;5;241m=\u001b[39m \u001b[38;5;28mself\u001b[39m\u001b[38;5;241m.\u001b[39mrandom_init(pbounds)\n\u001b[0;32m    620\u001b[0m \u001b[38;5;66;03m# Define optimizer\u001b[39;00m\n\u001b[1;32m--> 621\u001b[0m optimizer \u001b[38;5;241m=\u001b[39m minimize(\n\u001b[0;32m    622\u001b[0m     black_box_function,\n\u001b[0;32m    623\u001b[0m     x0\u001b[38;5;241m=\u001b[39mx0,\n\u001b[0;32m    624\u001b[0m     bounds\u001b[38;5;241m=\u001b[39mBounds(lower_bounds, upper_bounds),\n\u001b[0;32m    625\u001b[0m     method\u001b[38;5;241m=\u001b[39m\u001b[38;5;124m'\u001b[39m\u001b[38;5;124mL-BFGS-B\u001b[39m\u001b[38;5;124m'\u001b[39m\n\u001b[0;32m    626\u001b[0m )\n\u001b[0;32m    627\u001b[0m \u001b[38;5;28;01mreturn\u001b[39;00m optimizer\n",
      "File \u001b[1;32mc:\\Users\\andra\\anaconda3\\Lib\\site-packages\\scipy\\optimize\\_minimize.py:710\u001b[0m, in \u001b[0;36mminimize\u001b[1;34m(fun, x0, args, method, jac, hess, hessp, bounds, constraints, tol, callback, options)\u001b[0m\n\u001b[0;32m    707\u001b[0m     res \u001b[38;5;241m=\u001b[39m _minimize_newtoncg(fun, x0, args, jac, hess, hessp, callback,\n\u001b[0;32m    708\u001b[0m                              \u001b[38;5;241m*\u001b[39m\u001b[38;5;241m*\u001b[39moptions)\n\u001b[0;32m    709\u001b[0m \u001b[38;5;28;01melif\u001b[39;00m meth \u001b[38;5;241m==\u001b[39m \u001b[38;5;124m'\u001b[39m\u001b[38;5;124ml-bfgs-b\u001b[39m\u001b[38;5;124m'\u001b[39m:\n\u001b[1;32m--> 710\u001b[0m     res \u001b[38;5;241m=\u001b[39m _minimize_lbfgsb(fun, x0, args, jac, bounds,\n\u001b[0;32m    711\u001b[0m                            callback\u001b[38;5;241m=\u001b[39mcallback, \u001b[38;5;241m*\u001b[39m\u001b[38;5;241m*\u001b[39moptions)\n\u001b[0;32m    712\u001b[0m \u001b[38;5;28;01melif\u001b[39;00m meth \u001b[38;5;241m==\u001b[39m \u001b[38;5;124m'\u001b[39m\u001b[38;5;124mtnc\u001b[39m\u001b[38;5;124m'\u001b[39m:\n\u001b[0;32m    713\u001b[0m     res \u001b[38;5;241m=\u001b[39m _minimize_tnc(fun, x0, args, jac, bounds, callback\u001b[38;5;241m=\u001b[39mcallback,\n\u001b[0;32m    714\u001b[0m                         \u001b[38;5;241m*\u001b[39m\u001b[38;5;241m*\u001b[39moptions)\n",
      "File \u001b[1;32mc:\\Users\\andra\\anaconda3\\Lib\\site-packages\\scipy\\optimize\\_lbfgsb_py.py:307\u001b[0m, in \u001b[0;36m_minimize_lbfgsb\u001b[1;34m(fun, x0, args, jac, bounds, disp, maxcor, ftol, gtol, eps, maxfun, maxiter, iprint, callback, maxls, finite_diff_rel_step, **unknown_options)\u001b[0m\n\u001b[0;32m    304\u001b[0m     \u001b[38;5;28;01melse\u001b[39;00m:\n\u001b[0;32m    305\u001b[0m         iprint \u001b[38;5;241m=\u001b[39m disp\n\u001b[1;32m--> 307\u001b[0m sf \u001b[38;5;241m=\u001b[39m _prepare_scalar_function(fun, x0, jac\u001b[38;5;241m=\u001b[39mjac, args\u001b[38;5;241m=\u001b[39margs, epsilon\u001b[38;5;241m=\u001b[39meps,\n\u001b[0;32m    308\u001b[0m                               bounds\u001b[38;5;241m=\u001b[39mnew_bounds,\n\u001b[0;32m    309\u001b[0m                               finite_diff_rel_step\u001b[38;5;241m=\u001b[39mfinite_diff_rel_step)\n\u001b[0;32m    311\u001b[0m func_and_grad \u001b[38;5;241m=\u001b[39m sf\u001b[38;5;241m.\u001b[39mfun_and_grad\n\u001b[0;32m    313\u001b[0m fortran_int \u001b[38;5;241m=\u001b[39m _lbfgsb\u001b[38;5;241m.\u001b[39mtypes\u001b[38;5;241m.\u001b[39mintvar\u001b[38;5;241m.\u001b[39mdtype\n",
      "File \u001b[1;32mc:\\Users\\andra\\anaconda3\\Lib\\site-packages\\scipy\\optimize\\_optimize.py:383\u001b[0m, in \u001b[0;36m_prepare_scalar_function\u001b[1;34m(fun, x0, jac, args, bounds, epsilon, finite_diff_rel_step, hess)\u001b[0m\n\u001b[0;32m    379\u001b[0m     bounds \u001b[38;5;241m=\u001b[39m (\u001b[38;5;241m-\u001b[39mnp\u001b[38;5;241m.\u001b[39minf, np\u001b[38;5;241m.\u001b[39minf)\n\u001b[0;32m    381\u001b[0m \u001b[38;5;66;03m# ScalarFunction caches. Reuse of fun(x) during grad\u001b[39;00m\n\u001b[0;32m    382\u001b[0m \u001b[38;5;66;03m# calculation reduces overall function evaluations.\u001b[39;00m\n\u001b[1;32m--> 383\u001b[0m sf \u001b[38;5;241m=\u001b[39m ScalarFunction(fun, x0, args, grad, hess,\n\u001b[0;32m    384\u001b[0m                     finite_diff_rel_step, bounds, epsilon\u001b[38;5;241m=\u001b[39mepsilon)\n\u001b[0;32m    386\u001b[0m \u001b[38;5;28;01mreturn\u001b[39;00m sf\n",
      "File \u001b[1;32mc:\\Users\\andra\\anaconda3\\Lib\\site-packages\\scipy\\optimize\\_differentiable_functions.py:158\u001b[0m, in \u001b[0;36mScalarFunction.__init__\u001b[1;34m(self, fun, x0, args, grad, hess, finite_diff_rel_step, finite_diff_bounds, epsilon)\u001b[0m\n\u001b[0;32m    155\u001b[0m     \u001b[38;5;28mself\u001b[39m\u001b[38;5;241m.\u001b[39mf \u001b[38;5;241m=\u001b[39m fun_wrapped(\u001b[38;5;28mself\u001b[39m\u001b[38;5;241m.\u001b[39mx)\n\u001b[0;32m    157\u001b[0m \u001b[38;5;28mself\u001b[39m\u001b[38;5;241m.\u001b[39m_update_fun_impl \u001b[38;5;241m=\u001b[39m update_fun\n\u001b[1;32m--> 158\u001b[0m \u001b[38;5;28mself\u001b[39m\u001b[38;5;241m.\u001b[39m_update_fun()\n\u001b[0;32m    160\u001b[0m \u001b[38;5;66;03m# Gradient evaluation\u001b[39;00m\n\u001b[0;32m    161\u001b[0m \u001b[38;5;28;01mif\u001b[39;00m \u001b[38;5;28mcallable\u001b[39m(grad):\n",
      "File \u001b[1;32mc:\\Users\\andra\\anaconda3\\Lib\\site-packages\\scipy\\optimize\\_differentiable_functions.py:251\u001b[0m, in \u001b[0;36mScalarFunction._update_fun\u001b[1;34m(self)\u001b[0m\n\u001b[0;32m    249\u001b[0m \u001b[38;5;28;01mdef\u001b[39;00m \u001b[38;5;21m_update_fun\u001b[39m(\u001b[38;5;28mself\u001b[39m):\n\u001b[0;32m    250\u001b[0m     \u001b[38;5;28;01mif\u001b[39;00m \u001b[38;5;129;01mnot\u001b[39;00m \u001b[38;5;28mself\u001b[39m\u001b[38;5;241m.\u001b[39mf_updated:\n\u001b[1;32m--> 251\u001b[0m         \u001b[38;5;28mself\u001b[39m\u001b[38;5;241m.\u001b[39m_update_fun_impl()\n\u001b[0;32m    252\u001b[0m         \u001b[38;5;28mself\u001b[39m\u001b[38;5;241m.\u001b[39mf_updated \u001b[38;5;241m=\u001b[39m \u001b[38;5;28;01mTrue\u001b[39;00m\n",
      "File \u001b[1;32mc:\\Users\\andra\\anaconda3\\Lib\\site-packages\\scipy\\optimize\\_differentiable_functions.py:155\u001b[0m, in \u001b[0;36mScalarFunction.__init__.<locals>.update_fun\u001b[1;34m()\u001b[0m\n\u001b[0;32m    154\u001b[0m \u001b[38;5;28;01mdef\u001b[39;00m \u001b[38;5;21mupdate_fun\u001b[39m():\n\u001b[1;32m--> 155\u001b[0m     \u001b[38;5;28mself\u001b[39m\u001b[38;5;241m.\u001b[39mf \u001b[38;5;241m=\u001b[39m fun_wrapped(\u001b[38;5;28mself\u001b[39m\u001b[38;5;241m.\u001b[39mx)\n",
      "File \u001b[1;32mc:\\Users\\andra\\anaconda3\\Lib\\site-packages\\scipy\\optimize\\_differentiable_functions.py:137\u001b[0m, in \u001b[0;36mScalarFunction.__init__.<locals>.fun_wrapped\u001b[1;34m(x)\u001b[0m\n\u001b[0;32m    133\u001b[0m \u001b[38;5;28mself\u001b[39m\u001b[38;5;241m.\u001b[39mnfev \u001b[38;5;241m+\u001b[39m\u001b[38;5;241m=\u001b[39m \u001b[38;5;241m1\u001b[39m\n\u001b[0;32m    134\u001b[0m \u001b[38;5;66;03m# Send a copy because the user may overwrite it.\u001b[39;00m\n\u001b[0;32m    135\u001b[0m \u001b[38;5;66;03m# Overwriting results in undefined behaviour because\u001b[39;00m\n\u001b[0;32m    136\u001b[0m \u001b[38;5;66;03m# fun(self.x) will change self.x, with the two no longer linked.\u001b[39;00m\n\u001b[1;32m--> 137\u001b[0m fx \u001b[38;5;241m=\u001b[39m fun(np\u001b[38;5;241m.\u001b[39mcopy(x), \u001b[38;5;241m*\u001b[39margs)\n\u001b[0;32m    138\u001b[0m \u001b[38;5;66;03m# Make sure the function returns a true scalar\u001b[39;00m\n\u001b[0;32m    139\u001b[0m \u001b[38;5;28;01mif\u001b[39;00m \u001b[38;5;129;01mnot\u001b[39;00m np\u001b[38;5;241m.\u001b[39misscalar(fx):\n",
      "File \u001b[1;32mc:\\Users\\andra\\Documents\\Cognitive_Models_El_Farol_Bar_Problem\\Notebooks\\../src\\Classes\\parameter_recovery.py:602\u001b[0m, in \u001b[0;36mParameterFit.create_scipy_optimizer.<locals>.black_box_function\u001b[1;34m(x)\u001b[0m\n\u001b[0;32m    600\u001b[0m \u001b[38;5;28;01mdef\u001b[39;00m \u001b[38;5;21mblack_box_function\u001b[39m(x) \u001b[38;5;241m-\u001b[39m\u001b[38;5;241m>\u001b[39m \u001b[38;5;28mfloat\u001b[39m:\n\u001b[0;32m    601\u001b[0m     input_dict \u001b[38;5;241m=\u001b[39m {parameter:x[i] \u001b[38;5;28;01mfor\u001b[39;00m i, parameter \u001b[38;5;129;01min\u001b[39;00m \u001b[38;5;28menumerate\u001b[39m(free_parameters\u001b[38;5;241m.\u001b[39mkeys())}\n\u001b[1;32m--> 602\u001b[0m     \u001b[38;5;28;01mreturn\u001b[39;00m \u001b[38;5;241m-\u001b[39mpr\u001b[38;5;241m.\u001b[39mblack_box_function(\u001b[38;5;241m*\u001b[39m\u001b[38;5;241m*\u001b[39minput_dict)\n",
      "File \u001b[1;32mc:\\Users\\andra\\Documents\\Cognitive_Models_El_Farol_Bar_Problem\\Notebooks\\../src\\Classes\\parameter_recovery.py:447\u001b[0m, in \u001b[0;36mGetDeviance.create_deviance_function.<locals>.deviance_function\u001b[1;34m(self, **kwargs)\u001b[0m\n\u001b[0;32m    444\u001b[0m     kwargs\u001b[38;5;241m.\u001b[39msetdefault(key, default)\n\u001b[0;32m    446\u001b[0m \u001b[38;5;66;03m# Compute and return negative deviance\u001b[39;00m\n\u001b[1;32m--> 447\u001b[0m deviance \u001b[38;5;241m=\u001b[39m \u001b[38;5;28mself\u001b[39m\u001b[38;5;241m.\u001b[39mget_deviance_from_data(kwargs)\n\u001b[0;32m    448\u001b[0m \u001b[38;5;28;01mreturn\u001b[39;00m \u001b[38;5;241m-\u001b[39mdeviance\n",
      "File \u001b[1;32mc:\\Users\\andra\\Documents\\Cognitive_Models_El_Farol_Bar_Problem\\Notebooks\\../src\\Classes\\parameter_recovery.py:386\u001b[0m, in \u001b[0;36mGetDeviance.get_deviance_from_data\u001b[1;34m(self, free_parameters, save)\u001b[0m\n\u001b[0;32m    384\u001b[0m         \u001b[38;5;28mprint\u001b[39m(\u001b[38;5;124m'\u001b[39m\u001b[38;5;124m=>\u001b[39m\u001b[38;5;124m'\u001b[39m, key)\n\u001b[0;32m    385\u001b[0m     \u001b[38;5;28;01mraise\u001b[39;00m \u001b[38;5;167;01mException\u001b[39;00m(e)\n\u001b[1;32m--> 386\u001b[0m deviance \u001b[38;5;241m=\u001b[39m \u001b[38;5;28mself\u001b[39m\u001b[38;5;241m.\u001b[39mget_deviance_given_parameters(\n\u001b[0;32m    387\u001b[0m     free_parameters\u001b[38;5;241m=\u001b[39mfree_parameters,\n\u001b[0;32m    388\u001b[0m     fixed_parameters\u001b[38;5;241m=\u001b[39mfixed_parameters, \n\u001b[0;32m    389\u001b[0m     data\u001b[38;5;241m=\u001b[39mdf\n\u001b[0;32m    390\u001b[0m )\n\u001b[0;32m    391\u001b[0m list_deviances\u001b[38;5;241m.\u001b[39mappend(deviance)\n\u001b[0;32m    392\u001b[0m deviance \u001b[38;5;241m=\u001b[39m \u001b[38;5;28msum\u001b[39m(list_deviances)\n",
      "File \u001b[1;32mc:\\Users\\andra\\Documents\\Cognitive_Models_El_Farol_Bar_Problem\\Notebooks\\../src\\Classes\\parameter_recovery.py:422\u001b[0m, in \u001b[0;36mGetDeviance.get_deviance_given_parameters\u001b[1;34m(self, free_parameters, fixed_parameters, data, save)\u001b[0m\n\u001b[0;32m    415\u001b[0m episode_data \u001b[38;5;241m=\u001b[39m data\u001b[38;5;241m.\u001b[39mgroupby(group_column)\u001b[38;5;241m.\u001b[39mget_group(episode)\n\u001b[0;32m    416\u001b[0m deviance_calculator \u001b[38;5;241m=\u001b[39m GetEpisodeLikelihood(\n\u001b[0;32m    417\u001b[0m     model\u001b[38;5;241m=\u001b[39m\u001b[38;5;28mself\u001b[39m\u001b[38;5;241m.\u001b[39mmodel,\n\u001b[0;32m    418\u001b[0m     fixed_parameters\u001b[38;5;241m=\u001b[39mfixed_parameters,\n\u001b[0;32m    419\u001b[0m     free_parameters\u001b[38;5;241m=\u001b[39mfree_parameters,\n\u001b[0;32m    420\u001b[0m     data\u001b[38;5;241m=\u001b[39mepisode_data\n\u001b[0;32m    421\u001b[0m )\n\u001b[1;32m--> 422\u001b[0m output_dict \u001b[38;5;241m=\u001b[39m deviance_calculator\u001b[38;5;241m.\u001b[39mget_deviance()\n\u001b[0;32m    423\u001b[0m \u001b[38;5;28mself\u001b[39m\u001b[38;5;241m.\u001b[39mprocess_log[\u001b[38;5;124m'\u001b[39m\u001b[38;5;124mnum_agents\u001b[39m\u001b[38;5;124m'\u001b[39m]\u001b[38;5;241m.\u001b[39mappend(output_dict[\u001b[38;5;124m'\u001b[39m\u001b[38;5;124mnum_agents\u001b[39m\u001b[38;5;124m'\u001b[39m])\n\u001b[0;32m    424\u001b[0m \u001b[38;5;28mself\u001b[39m\u001b[38;5;241m.\u001b[39mprocess_log[\u001b[38;5;124m'\u001b[39m\u001b[38;5;124mthreshold\u001b[39m\u001b[38;5;124m'\u001b[39m]\u001b[38;5;241m.\u001b[39mappend(output_dict[\u001b[38;5;124m'\u001b[39m\u001b[38;5;124mthreshold\u001b[39m\u001b[38;5;124m'\u001b[39m])\n",
      "File \u001b[1;32mc:\\Users\\andra\\Documents\\Cognitive_Models_El_Farol_Bar_Problem\\Notebooks\\../src\\Classes\\parameter_recovery.py:170\u001b[0m, in \u001b[0;36mGetEpisodeLikelihood.get_deviance\u001b[1;34m(self)\u001b[0m\n\u001b[0;32m    160\u001b[0m \u001b[38;5;250m\u001b[39m\u001b[38;5;124;03m'''\u001b[39;00m\n\u001b[0;32m    161\u001b[0m \u001b[38;5;124;03mObtains the deviance of the model given the data.\u001b[39;00m\n\u001b[0;32m    162\u001b[0m \n\u001b[1;32m   (...)\u001b[0m\n\u001b[0;32m    167\u001b[0m \u001b[38;5;124;03m        * threshold, float\u001b[39;00m\n\u001b[0;32m    168\u001b[0m \u001b[38;5;124;03m'''\u001b[39;00m\n\u001b[0;32m    169\u001b[0m \u001b[38;5;66;03m# Get log likelihood from data\u001b[39;00m\n\u001b[1;32m--> 170\u001b[0m \u001b[38;5;28mself\u001b[39m\u001b[38;5;241m.\u001b[39mget_episode_likelihoods()\n\u001b[0;32m    171\u001b[0m \u001b[38;5;66;03m# Calculate deviance\u001b[39;00m\n\u001b[0;32m    172\u001b[0m deviance \u001b[38;5;241m=\u001b[39m \u001b[38;5;241m-\u001b[39m\u001b[38;5;241m2\u001b[39m \u001b[38;5;241m*\u001b[39m np\u001b[38;5;241m.\u001b[39msum([\u001b[38;5;28mself\u001b[39m\u001b[38;5;241m.\u001b[39mlog_likelihoods[\u001b[38;5;28mid\u001b[39m] \u001b[38;5;28;01mfor\u001b[39;00m \u001b[38;5;28mid\u001b[39m \u001b[38;5;129;01min\u001b[39;00m \u001b[38;5;28mself\u001b[39m\u001b[38;5;241m.\u001b[39magent_numbers])\n",
      "File \u001b[1;32mc:\\Users\\andra\\Documents\\Cognitive_Models_El_Farol_Bar_Problem\\Notebooks\\../src\\Classes\\parameter_recovery.py:107\u001b[0m, in \u001b[0;36mGetEpisodeLikelihood.get_episode_likelihoods\u001b[1;34m(self)\u001b[0m\n\u001b[0;32m    105\u001b[0m \u001b[38;5;28;01massert\u001b[39;00m(num_episodes \u001b[38;5;241m==\u001b[39m \u001b[38;5;241m1\u001b[39m), \u001b[38;5;124mf\u001b[39m\u001b[38;5;124m'\u001b[39m\u001b[38;5;124mInvalid data: \u001b[39m\u001b[38;5;132;01m{\u001b[39;00mnum_episodes\u001b[38;5;132;01m}\u001b[39;00m\u001b[38;5;124m episodes where found but only one (1) is accepted!\u001b[39m\u001b[38;5;124m'\u001b[39m\n\u001b[0;32m    106\u001b[0m \u001b[38;5;66;03m# Create or update agents from model and parameters\u001b[39;00m\n\u001b[1;32m--> 107\u001b[0m \u001b[38;5;28mself\u001b[39m\u001b[38;5;241m.\u001b[39minitialize_agents()\n\u001b[0;32m    108\u001b[0m \u001b[38;5;66;03m# Check integrity of rounds\u001b[39;00m\n\u001b[0;32m    109\u001b[0m \u001b[38;5;28;01mif\u001b[39;00m \u001b[38;5;28mself\u001b[39m\u001b[38;5;241m.\u001b[39mdebug:\n",
      "File \u001b[1;32mc:\\Users\\andra\\Documents\\Cognitive_Models_El_Farol_Bar_Problem\\Notebooks\\../src\\Classes\\parameter_recovery.py:210\u001b[0m, in \u001b[0;36mGetEpisodeLikelihood.initialize_agents\u001b[1;34m(self)\u001b[0m\n\u001b[0;32m    208\u001b[0m         \u001b[38;5;28mprint\u001b[39m(\u001b[38;5;124m'\u001b[39m\u001b[38;5;124mAgents initialized for new episode!\u001b[39m\u001b[38;5;124m'\u001b[39m)\n\u001b[0;32m    209\u001b[0m \u001b[38;5;28;01melse\u001b[39;00m:\n\u001b[1;32m--> 210\u001b[0m     \u001b[38;5;28mself\u001b[39m\u001b[38;5;241m.\u001b[39magents \u001b[38;5;241m=\u001b[39m {\n\u001b[0;32m    211\u001b[0m         n:\u001b[38;5;28mself\u001b[39m\u001b[38;5;241m.\u001b[39mmodel(\n\u001b[0;32m    212\u001b[0m             fixed_parameters\u001b[38;5;241m=\u001b[39m\u001b[38;5;28mself\u001b[39m\u001b[38;5;241m.\u001b[39mfixed_parameters, \n\u001b[0;32m    213\u001b[0m             free_parameters\u001b[38;5;241m=\u001b[39m\u001b[38;5;28mself\u001b[39m\u001b[38;5;241m.\u001b[39mfree_parameters,\n\u001b[0;32m    214\u001b[0m             n\u001b[38;5;241m=\u001b[39mi\n\u001b[0;32m    215\u001b[0m         ) \u001b[38;5;28;01mfor\u001b[39;00m i, n \u001b[38;5;129;01min\u001b[39;00m \u001b[38;5;28menumerate\u001b[39m(\u001b[38;5;28mself\u001b[39m\u001b[38;5;241m.\u001b[39magent_numbers)\n\u001b[0;32m    216\u001b[0m     }\n\u001b[0;32m    217\u001b[0m     \u001b[38;5;28;01mif\u001b[39;00m \u001b[38;5;28mself\u001b[39m\u001b[38;5;241m.\u001b[39mdebug:\n\u001b[0;32m    218\u001b[0m         \u001b[38;5;28mprint\u001b[39m(\u001b[38;5;124m'\u001b[39m\u001b[38;5;124mFresh agents created!\u001b[39m\u001b[38;5;124m'\u001b[39m)\n",
      "File \u001b[1;32mc:\\Users\\andra\\Documents\\Cognitive_Models_El_Farol_Bar_Problem\\Notebooks\\../src\\Classes\\parameter_recovery.py:211\u001b[0m, in \u001b[0;36m<dictcomp>\u001b[1;34m(.0)\u001b[0m\n\u001b[0;32m    208\u001b[0m         \u001b[38;5;28mprint\u001b[39m(\u001b[38;5;124m'\u001b[39m\u001b[38;5;124mAgents initialized for new episode!\u001b[39m\u001b[38;5;124m'\u001b[39m)\n\u001b[0;32m    209\u001b[0m \u001b[38;5;28;01melse\u001b[39;00m:\n\u001b[0;32m    210\u001b[0m     \u001b[38;5;28mself\u001b[39m\u001b[38;5;241m.\u001b[39magents \u001b[38;5;241m=\u001b[39m {\n\u001b[1;32m--> 211\u001b[0m         n:\u001b[38;5;28mself\u001b[39m\u001b[38;5;241m.\u001b[39mmodel(\n\u001b[0;32m    212\u001b[0m             fixed_parameters\u001b[38;5;241m=\u001b[39m\u001b[38;5;28mself\u001b[39m\u001b[38;5;241m.\u001b[39mfixed_parameters, \n\u001b[0;32m    213\u001b[0m             free_parameters\u001b[38;5;241m=\u001b[39m\u001b[38;5;28mself\u001b[39m\u001b[38;5;241m.\u001b[39mfree_parameters,\n\u001b[0;32m    214\u001b[0m             n\u001b[38;5;241m=\u001b[39mi\n\u001b[0;32m    215\u001b[0m         ) \u001b[38;5;28;01mfor\u001b[39;00m i, n \u001b[38;5;129;01min\u001b[39;00m \u001b[38;5;28menumerate\u001b[39m(\u001b[38;5;28mself\u001b[39m\u001b[38;5;241m.\u001b[39magent_numbers)\n\u001b[0;32m    216\u001b[0m     }\n\u001b[0;32m    217\u001b[0m     \u001b[38;5;28;01mif\u001b[39;00m \u001b[38;5;28mself\u001b[39m\u001b[38;5;241m.\u001b[39mdebug:\n\u001b[0;32m    218\u001b[0m         \u001b[38;5;28mprint\u001b[39m(\u001b[38;5;124m'\u001b[39m\u001b[38;5;124mFresh agents created!\u001b[39m\u001b[38;5;124m'\u001b[39m)\n",
      "File \u001b[1;32mc:\\Users\\andra\\Documents\\Cognitive_Models_El_Farol_Bar_Problem\\Notebooks\\../src\\Classes\\cognitive_model_agents.py:1829\u001b[0m, in \u001b[0;36mFocalRegionAgent.__init__\u001b[1;34m(self, free_parameters, fixed_parameters, n)\u001b[0m\n\u001b[0;32m   1820\u001b[0m \u001b[38;5;28;01mdef\u001b[39;00m \u001b[38;5;21m__init__\u001b[39m(\n\u001b[0;32m   1821\u001b[0m             \u001b[38;5;28mself\u001b[39m,\n\u001b[0;32m   1822\u001b[0m             free_parameters: Optional[Dict[\u001b[38;5;28mstr\u001b[39m, \u001b[38;5;28many\u001b[39m]] \u001b[38;5;241m=\u001b[39m {},\n\u001b[1;32m   (...)\u001b[0m\n\u001b[0;32m   1827\u001b[0m     \u001b[38;5;66;03m# Initialize superclass\u001b[39;00m\n\u001b[0;32m   1828\u001b[0m     \u001b[38;5;66;03m#----------------------\u001b[39;00m\n\u001b[1;32m-> 1829\u001b[0m     \u001b[38;5;28msuper\u001b[39m()\u001b[38;5;241m.\u001b[39m\u001b[38;5;21m__init__\u001b[39m(free_parameters, fixed_parameters, n)\n\u001b[0;32m   1830\u001b[0m     \u001b[38;5;66;03m#----------------------\u001b[39;00m\n\u001b[0;32m   1831\u001b[0m     \u001b[38;5;66;03m# Bookkeeping for model parameters\u001b[39;00m\n\u001b[0;32m   1832\u001b[0m     \u001b[38;5;66;03m#----------------------\u001b[39;00m\n\u001b[0;32m   1833\u001b[0m     \u001b[38;5;28mself\u001b[39m\u001b[38;5;241m.\u001b[39mingest_parameters(fixed_parameters, free_parameters)\n",
      "File \u001b[1;32mc:\\Users\\andra\\Documents\\Cognitive_Models_El_Farol_Bar_Problem\\Notebooks\\../src\\Classes\\cognitive_model_agents.py:39\u001b[0m, in \u001b[0;36mCogMod.__init__\u001b[1;34m(self, free_parameters, fixed_parameters, n, fix_overflow)\u001b[0m\n\u001b[0;32m     35\u001b[0m \u001b[38;5;28mself\u001b[39m\u001b[38;5;241m.\u001b[39mnumber \u001b[38;5;241m=\u001b[39m n\n\u001b[0;32m     36\u001b[0m \u001b[38;5;66;03m#----------------------\u001b[39;00m\n\u001b[0;32m     37\u001b[0m \u001b[38;5;66;03m# Parameter bookkeeping\u001b[39;00m\n\u001b[0;32m     38\u001b[0m \u001b[38;5;66;03m#----------------------\u001b[39;00m\n\u001b[1;32m---> 39\u001b[0m \u001b[38;5;28mself\u001b[39m\u001b[38;5;241m.\u001b[39mingest_parameters(fixed_parameters, free_parameters)\n\u001b[0;32m     40\u001b[0m \u001b[38;5;66;03m#----------------------\u001b[39;00m\n\u001b[0;32m     41\u001b[0m \u001b[38;5;66;03m# Dealing with softmax overflow\u001b[39;00m\n\u001b[0;32m     42\u001b[0m \u001b[38;5;66;03m#----------------------\u001b[39;00m\n\u001b[0;32m     43\u001b[0m \u001b[38;5;28mself\u001b[39m\u001b[38;5;241m.\u001b[39mfix_overflow \u001b[38;5;241m=\u001b[39m fix_overflow\n",
      "File \u001b[1;32mc:\\Users\\andra\\Documents\\Cognitive_Models_El_Farol_Bar_Problem\\Notebooks\\../src\\Classes\\cognitive_model_agents.py:1859\u001b[0m, in \u001b[0;36mFocalRegionAgent.ingest_parameters\u001b[1;34m(self, fixed_parameters, free_parameters)\u001b[0m\n\u001b[0;32m   1857\u001b[0m     sfr\u001b[38;5;241m.\u001b[39msteepness \u001b[38;5;241m=\u001b[39m free_parameters[\u001b[38;5;124m'\u001b[39m\u001b[38;5;124msteepness\u001b[39m\u001b[38;5;124m'\u001b[39m]\n\u001b[0;32m   1858\u001b[0m \u001b[38;5;28mprint\u001b[39m(\u001b[38;5;124m'\u001b[39m\u001b[38;5;124mGenerating focal regions...\u001b[39m\u001b[38;5;124m'\u001b[39m)\n\u001b[1;32m-> 1859\u001b[0m sfr\u001b[38;5;241m.\u001b[39mgenerate_focal_regions()\n\u001b[0;32m   1860\u001b[0m \u001b[38;5;28mprint\u001b[39m(\u001b[38;5;124m'\u001b[39m\u001b[38;5;124mFocal regions generated.\u001b[39m\u001b[38;5;124m'\u001b[39m)\n\u001b[0;32m   1861\u001b[0m \u001b[38;5;28mself\u001b[39m\u001b[38;5;241m.\u001b[39msfr \u001b[38;5;241m=\u001b[39m sfr\n",
      "File \u001b[1;32mc:\\Users\\andra\\Documents\\Cognitive_Models_El_Farol_Bar_Problem\\Notebooks\\../src\\Classes\\focal_regions.py:280\u001b[0m, in \u001b[0;36mSetFocalRegions.generate_focal_regions\u001b[1;34m(self)\u001b[0m\n\u001b[0;32m    278\u001b[0m \u001b[38;5;28;01melse\u001b[39;00m:\n\u001b[0;32m    279\u001b[0m     \u001b[38;5;28mprint\u001b[39m(\u001b[38;5;124mf\u001b[39m\u001b[38;5;124m'\u001b[39m\u001b[38;5;132;01m{\u001b[39;00m\u001b[38;5;28mself\u001b[39m\u001b[38;5;241m.\u001b[39mfrom_file\u001b[38;5;132;01m=}\u001b[39;00m\u001b[38;5;124m --- \u001b[39m\u001b[38;5;132;01m{\u001b[39;00m\u001b[38;5;28mself\u001b[39m\u001b[38;5;241m.\u001b[39mfile\u001b[38;5;241m.\u001b[39mexists()\u001b[38;5;132;01m=}\u001b[39;00m\u001b[38;5;124m'\u001b[39m)\n\u001b[1;32m--> 280\u001b[0m     \u001b[38;5;28;01mraise\u001b[39;00m \u001b[38;5;167;01mException\u001b[39;00m(\u001b[38;5;124m'\u001b[39m\u001b[38;5;124mWTFFFFF\u001b[39m\u001b[38;5;124m'\u001b[39m)\n\u001b[0;32m    281\u001b[0m \u001b[38;5;28;01mif\u001b[39;00m \u001b[38;5;28mself\u001b[39m\u001b[38;5;241m.\u001b[39mdebug:\n\u001b[0;32m    282\u001b[0m     \u001b[38;5;28mprint\u001b[39m(\u001b[38;5;124mf\u001b[39m\u001b[38;5;124m'\u001b[39m\u001b[38;5;124mGenerating focal regions for \u001b[39m\u001b[38;5;132;01m{\u001b[39;00m\u001b[38;5;28mself\u001b[39m\u001b[38;5;241m.\u001b[39mnum_agents\u001b[38;5;132;01m}\u001b[39;00m\u001b[38;5;124m agents and \u001b[39m\u001b[38;5;132;01m{\u001b[39;00m\u001b[38;5;28mself\u001b[39m\u001b[38;5;241m.\u001b[39mthreshold\u001b[38;5;132;01m}\u001b[39;00m\u001b[38;5;124m threshold\u001b[39m\u001b[38;5;124m'\u001b[39m)\n",
      "\u001b[1;31mException\u001b[0m: WTFFFFF"
     ]
    }
   ],
   "source": [
    "ParameterFit.run(\n",
    "    data=data,\n",
    "    model_list=my_models,\n",
    "    best_fit_path=PATHS['parameter_fit_results'] / 'best_fit_Scipy.json',\n",
    "    optimizer_type='scipy',\n",
    "    hyperparameters=None,\n",
    "    new_file=True\n",
    ")"
   ]
  },
  {
   "cell_type": "markdown",
   "metadata": {},
   "source": [
    "### Fit with Bayesian Optimizer"
   ]
  },
  {
   "cell_type": "code",
   "execution_count": null,
   "metadata": {},
   "outputs": [],
   "source": [
    "hyperparameters = {\n",
    "    'init_points':128,\n",
    "    'n_iter':64\n",
    "}\n",
    "\n",
    "ParameterFit.run(\n",
    "    data=data,\n",
    "    model_list=my_models,\n",
    "    best_fit_path=PATHS['parameter_fit_results'] / 'best_fit_Bayesian.json',\n",
    "    optimizer_type='bayesian',\n",
    "    hyperparameters=hyperparameters,\n",
    "    new_file=True\n",
    ")"
   ]
  },
  {
   "cell_type": "markdown",
   "metadata": {},
   "source": [
    "### Keep best fit from both optimizers"
   ]
  },
  {
   "cell_type": "code",
   "execution_count": null,
   "metadata": {},
   "outputs": [],
   "source": [
    "# Load the best fit results from both optimizers\n",
    "df_Scipy = pd.read_json(PATHS['parameter_fit_results'] / 'best_fit_Scipy.json', lines=True)\n",
    "df_Bayesian = pd.read_json(PATHS['parameter_fit_results'] / 'best_fit_Bayesian.json', lines=True)\n",
    "\n",
    "df_list = []\n",
    "best_optimizer = []\n",
    "# Iterate through each model and compare the deviance from both optimizers\n",
    "for model in my_models:\n",
    "    best_fits = {'model_name': model.name()}\n",
    "    # Filter the dataframes for the current model\n",
    "    df1_Scipy = df_Scipy[df_Scipy['model_name'] == model.name()]\n",
    "    df1_Bayesian = df_Bayesian[df_Bayesian['model_name'] == model.name()]\n",
    "    # Iterate through each num_agents and threshold combination\n",
    "    cols = [col for col in df1_Bayesian.columns if col != 'model_name']\n",
    "    for col in cols:\n",
    "        if not isinstance(df1_Scipy[col].values[0], dict):\n",
    "            continue\n",
    "        num_agents = df1_Scipy[col].values[0]['fixed_parameters']['num_agents']\n",
    "        threshold = df1_Scipy[col].values[0]['fixed_parameters']['threshold']\n",
    "        best_fits['num_agents'] = num_agents\n",
    "        best_fits['threshold'] = threshold\n",
    "        deviance_Scipy = df1_Scipy[col].values[0]['deviance']\n",
    "        deviance_Bayesian = df1_Bayesian[col].values[0]['deviance']\n",
    "        # Compare deviance from both optimizers\n",
    "        if deviance_Scipy > deviance_Bayesian:\n",
    "            best_optimizer.append('Scipy')\n",
    "            best_fits['deviance'] = deviance_Scipy\n",
    "            best_fits['AIC'] = df1_Scipy[col].values[0]['AIC']\n",
    "            best_fits['free_parameters'] = df1_Scipy[col].values[0]['free_parameters']\n",
    "        else:\n",
    "            best_optimizer.append('Bayesian')\n",
    "            best_fits['deviance'] = deviance_Bayesian\n",
    "            best_fits['AIC'] = df1_Bayesian[col].values[0]['AIC']\n",
    "            best_fits['free_parameters'] = df1_Bayesian[col].values[0]['free_parameters']\n",
    "        best_fits['fixed_parameters'] = df1_Scipy[col].values[0]['fixed_parameters']\n",
    "        df = pd.DataFrame().from_dict(best_fits, orient='index').T\n",
    "        df_list.append(df)\n",
    "df_best_fits = pd.concat(df_list, ignore_index=True)\n",
    "print('Otimizer with best results:')\n",
    "pd.Series(best_optimizer).value_counts(normalize=True).reset_index().rename(columns={'index': 'optimizer', 0: 'proportion'}).sort_values(by='proportion', ascending=False)\n"
   ]
  },
  {
   "cell_type": "markdown",
   "metadata": {},
   "source": [
    "### Save on file"
   ]
  },
  {
   "cell_type": "code",
   "execution_count": null,
   "metadata": {},
   "outputs": [],
   "source": [
    "new_file = False # Set to True if you want to create a new file, False to update the existing one\n",
    "\n",
    "if new_file:\n",
    "    df_best_fits.to_json(best_fits_file, orient='records', lines=True)\n",
    "else:\n",
    "    best_fit = pd.read_json(best_fits_file, lines=True)\n",
    "    for model_name in df_best_fits['model_name'].unique():\n",
    "        df_model = df_best_fits[df_best_fits['model_name'] == model_name]\n",
    "        if model_name not in best_fit['model_name'].unique():\n",
    "            print(f'Adding new model: {model_name}')\n",
    "            best_fit = pd.concat([best_fit, df_model], ignore_index=True)\n",
    "        else:\n",
    "            list_fixed_parameters_new = df_model['fixed_parameters'].values\n",
    "            for fixed_parameters_new in list_fixed_parameters_new:\n",
    "                df_parameters = df_model[df_model['fixed_parameters'] == fixed_parameters_new]\n",
    "                mask = (best_fit['model_name'] == model_name) & (best_fit['fixed_parameters'] == fixed_parameters_new)\n",
    "                if mask.sum() == 0:\n",
    "                    best_fit = pd.concat([best_fit, df_parameters], ignore_index=True)\n",
    "                else:\n",
    "                    # Update the existing entry with the new data\n",
    "                    best_fit = best_fit.copy()                    \n",
    "                    best_fit.loc[mask, df_parameters.columns] = df_parameters.values\n",
    "                \n",
    "\n",
    "    best_fit.to_json(best_fits_file, orient='records', lines=True)\n",
    "    \n",
    "print(f'Best fit results saved to {best_fits_file}')"
   ]
  },
  {
   "cell_type": "markdown",
   "metadata": {},
   "source": [
    "---"
   ]
  }
 ],
 "metadata": {
  "kernelspec": {
   "display_name": "base",
   "language": "python",
   "name": "python3"
  },
  "language_info": {
   "codemirror_mode": {
    "name": "ipython",
    "version": 3
   },
   "file_extension": ".py",
   "mimetype": "text/x-python",
   "name": "python",
   "nbconvert_exporter": "python",
   "pygments_lexer": "ipython3",
   "version": "3.11.5"
  }
 },
 "nbformat": 4,
 "nbformat_minor": 2
}
