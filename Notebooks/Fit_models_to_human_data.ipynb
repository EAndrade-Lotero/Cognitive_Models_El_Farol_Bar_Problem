{
 "cells": [
  {
   "cell_type": "markdown",
   "metadata": {},
   "source": [
    "# Fit models to human data"
   ]
  },
  {
   "cell_type": "code",
   "execution_count": 113,
   "metadata": {},
   "outputs": [],
   "source": [
    "import json\n",
    "import numpy as np\n",
    "import pandas as pd\n",
    "from pathlib import Path\n",
    "from tqdm.auto import tqdm\n",
    "\n",
    "import sys\n",
    "sys.path.append(\"../src\")\n",
    "\n",
    "import warnings\n",
    "warnings.filterwarnings(\"ignore\")"
   ]
  },
  {
   "cell_type": "code",
   "execution_count": 114,
   "metadata": {},
   "outputs": [],
   "source": [
    "from Config.config import PATHS\n",
    "from Classes.parameter_recovery import ParameterFit\n",
    "from Classes.cognitive_model_agents import MODELS"
   ]
  },
  {
   "cell_type": "markdown",
   "metadata": {},
   "source": [
    "### Load human data"
   ]
  },
  {
   "cell_type": "code",
   "execution_count": 115,
   "metadata": {},
   "outputs": [
    {
     "name": "stdout",
     "output_type": "stream",
     "text": [
      "Loading data from C:\\Users\\andra\\Documents\\Cognitive_Models_El_Farol_Bar_Problem\\data\\human\\12-player-IU.csv...\n"
     ]
    },
    {
     "data": {
      "text/html": [
       "<div>\n",
       "<style scoped>\n",
       "    .dataframe tbody tr th:only-of-type {\n",
       "        vertical-align: middle;\n",
       "    }\n",
       "\n",
       "    .dataframe tbody tr th {\n",
       "        vertical-align: top;\n",
       "    }\n",
       "\n",
       "    .dataframe thead th {\n",
       "        text-align: right;\n",
       "    }\n",
       "</style>\n",
       "<table border=\"1\" class=\"dataframe\">\n",
       "  <thead>\n",
       "    <tr style=\"text-align: right;\">\n",
       "      <th></th>\n",
       "      <th>threshold</th>\n",
       "      <th>round</th>\n",
       "      <th>player</th>\n",
       "      <th>decision</th>\n",
       "      <th>score</th>\n",
       "      <th>num_players</th>\n",
       "      <th>group</th>\n",
       "    </tr>\n",
       "  </thead>\n",
       "  <tbody>\n",
       "    <tr>\n",
       "      <th>0</th>\n",
       "      <td>0.25</td>\n",
       "      <td>1.0</td>\n",
       "      <td>594500453971380</td>\n",
       "      <td>1.0</td>\n",
       "      <td>-1.0</td>\n",
       "      <td>12</td>\n",
       "      <td>9</td>\n",
       "    </tr>\n",
       "    <tr>\n",
       "      <th>1</th>\n",
       "      <td>0.25</td>\n",
       "      <td>1.0</td>\n",
       "      <td>145986093109735</td>\n",
       "      <td>0.0</td>\n",
       "      <td>0.0</td>\n",
       "      <td>12</td>\n",
       "      <td>9</td>\n",
       "    </tr>\n",
       "  </tbody>\n",
       "</table>\n",
       "</div>"
      ],
      "text/plain": [
       "   threshold  round           player  decision  score  num_players  group\n",
       "0       0.25    1.0  594500453971380       1.0   -1.0           12      9\n",
       "1       0.25    1.0  145986093109735       0.0    0.0           12      9"
      ]
     },
     "execution_count": 115,
     "metadata": {},
     "output_type": "execute_result"
    }
   ],
   "source": [
    "# Load data into a dataframe\n",
    "\n",
    "two_player = False  # Set to True for 2-player UR experiment, False for multi-player IU experiment\n",
    "if two_player:\n",
    "\tfile_name = '2-player-UR.csv' # <= Data from 2-player UR experiment\n",
    "\tbest_fits_file = PATHS['parameter_fit_results'] / Path('best_fit_2P.json')\n",
    "else:\n",
    "\t# file_name = '3-player-IU.csv' # <= Data from 3-player IU experiment\n",
    "\t# file_name = '4-player-IU.csv' # <= Data from 3-player IU experiment\n",
    "\t# file_name = '5-player-IU.csv' # <= Data from 3-player IU experiment\n",
    "\t# file_name = '6-player-IU.csv' # <= Data from 3-player IU experiment\n",
    "\t# file_name = '7-player-IU.csv' # <= Data from 3-player IU experiment\n",
    "\t# file_name = '8-player-IU.csv' # <= Data from 3-player IU experiment\n",
    "\t# file_name = '9-player-IU.csv' # <= Data from 3-player IU experiment\n",
    "\t# file_name = '11-player-IU.csv' # <= Data from 3-player IU experiment\n",
    "\tfile_name = '12-player-IU.csv' # <= Data from 3-player IU experiment\n",
    "\t# file_name = 'multi-player.csv' # <= Data from multi-player IU experiment\n",
    "\tbest_fits_file = PATHS['parameter_fit_results'] / Path('best_fit_MP.json')\n",
    "\n",
    "data_folder = PATHS['human_data']\n",
    "file = data_folder / Path(file_name)\n",
    "print(f'Loading data from {file}...')\n",
    "\n",
    "data = pd.read_csv(file)\n",
    "columns = ['threshold', 'num_players', 'group', 'round', 'player', 'score', 'decision']\n",
    "drop_columns = [col for col in data.columns if col not in columns]\n",
    "data.drop(columns=drop_columns, inplace=True)\n",
    "data.head(2)"
   ]
  },
  {
   "cell_type": "markdown",
   "metadata": {},
   "source": [
    "### Select models"
   ]
  },
  {
   "cell_type": "code",
   "execution_count": 116,
   "metadata": {},
   "outputs": [],
   "source": [
    "# check_out_these = [model.name() for model in MODELS]\n",
    "# check_out_these = ['AvailableSpace-M1', 'AvailableSpace-M2', 'AvailableSpace-M3']\n",
    "# check_out_these = ['Attendance-M1', 'Attendance-M2', 'Attendance-M3'] \n",
    "# check_out_these = ['Payoff-M1', 'Payoff-M2', 'Payoff-M3']\n",
    "# check_out_these = ['Fairness-M1', 'Fairness-M2', 'Fairness-M3']\n",
    "# check_out_these = ['WSLS-M1', 'WSLS-M2', 'WSLS-M3']\n",
    "# check_out_these = ['Payoff-M2', 'Fairness-M2', 'AvailableSpace-M2']\n",
    "# check_out_these = ['Attendance-M2', 'MFP-M2', 'Payoff-M2']\n",
    "# check_out_these = ['Payoff-M2', 'Fairness-M2']\n",
    "# check_out_these = ['Fairness-M2']\n",
    "# check_out_these = ['FRA']\n",
    "# check_out_these = ['MFP-M3']\n",
    "check_out_these = ['FRA+Payoff+Attendance']\n",
    "my_models = [model for model in MODELS if model.name() in check_out_these]"
   ]
  },
  {
   "cell_type": "markdown",
   "metadata": {},
   "source": [
    "### Fit with scipy"
   ]
  },
  {
   "cell_type": "code",
   "execution_count": null,
   "metadata": {},
   "outputs": [
    {
     "data": {
      "application/vnd.jupyter.widget-view+json": {
       "model_id": "dbcd815b797e42629996b93a4f79e5e8",
       "version_major": 2,
       "version_minor": 0
      },
      "text/plain": [
       "Fitting models...:   0%|          | 0/1 [00:00<?, ?it/s]"
      ]
     },
     "metadata": {},
     "output_type": "display_data"
    },
    {
     "name": "stdout",
     "output_type": "stream",
     "text": [
      "Fitting data to model FRA+Payoff+Attendance...\n",
      "Creating parameter recovery class...\n",
      "Running optimizer...\n",
      "Finding deviance for 12 players and threshold 0.5...\n"
     ]
    },
    {
     "data": {
      "application/vnd.jupyter.widget-view+json": {
       "model_id": "d27188ad6d7646f2babe0980560f1cab",
       "version_major": 2,
       "version_minor": 0
      },
      "text/plain": [
       "Calculating likelihoods:   0%|          | 0/1 [00:00<?, ?it/s]"
      ]
     },
     "metadata": {},
     "output_type": "display_data"
    },
    {
     "data": {
      "application/vnd.jupyter.widget-view+json": {
       "model_id": "44461f90ccb6405dad576d725fe34f45",
       "version_major": 2,
       "version_minor": 0
      },
      "text/plain": [
       "Calculating likelihoods:   0%|          | 0/1 [00:00<?, ?it/s]"
      ]
     },
     "metadata": {},
     "output_type": "display_data"
    },
    {
     "data": {
      "application/vnd.jupyter.widget-view+json": {
       "model_id": "6632006f9e864b3aaba2310afb60c22c",
       "version_major": 2,
       "version_minor": 0
      },
      "text/plain": [
       "Calculating likelihoods:   0%|          | 0/1 [00:00<?, ?it/s]"
      ]
     },
     "metadata": {},
     "output_type": "display_data"
    },
    {
     "data": {
      "application/vnd.jupyter.widget-view+json": {
       "model_id": "93c536fdd9334de6b378c71b72f609c8",
       "version_major": 2,
       "version_minor": 0
      },
      "text/plain": [
       "Calculating likelihoods:   0%|          | 0/1 [00:00<?, ?it/s]"
      ]
     },
     "metadata": {},
     "output_type": "display_data"
    }
   ],
   "source": [
    "ParameterFit.run(\n",
    "    data=data,\n",
    "    model_list=my_models,\n",
    "    best_fit_path=PATHS['parameter_fit_results'] / 'best_fit_Scipy.json',\n",
    "    optimizer_type='scipy',\n",
    "    hyperparameters=None,\n",
    "    new_file=True\n",
    ")"
   ]
  },
  {
   "cell_type": "markdown",
   "metadata": {},
   "source": [
    "### Fit with Bayesian Optimizer"
   ]
  },
  {
   "cell_type": "code",
   "execution_count": null,
   "metadata": {},
   "outputs": [],
   "source": [
    "hyperparameters = {\n",
    "    'init_points':128,\n",
    "    'n_iter':64\n",
    "}\n",
    "\n",
    "ParameterFit.run(\n",
    "    data=data,\n",
    "    model_list=my_models,\n",
    "    best_fit_path=PATHS['parameter_fit_results'] / 'best_fit_Bayesian.json',\n",
    "    optimizer_type='bayesian',\n",
    "    hyperparameters=hyperparameters,\n",
    "    new_file=True\n",
    ")"
   ]
  },
  {
   "cell_type": "markdown",
   "metadata": {},
   "source": [
    "### Keep best fit from both optimizers"
   ]
  },
  {
   "cell_type": "code",
   "execution_count": null,
   "metadata": {},
   "outputs": [],
   "source": [
    "# Load the best fit results from both optimizers\n",
    "df_Scipy = pd.read_json(PATHS['parameter_fit_results'] / 'best_fit_Scipy.json', lines=True)\n",
    "df_Bayesian = pd.read_json(PATHS['parameter_fit_results'] / 'best_fit_Bayesian.json', lines=True)\n",
    "\n",
    "df_list = []\n",
    "best_optimizer = []\n",
    "# Iterate through each model and compare the deviance from both optimizers\n",
    "for model in my_models:\n",
    "    best_fits = {'model_name': model.name()}\n",
    "    # Filter the dataframes for the current model\n",
    "    df1_Scipy = df_Scipy[df_Scipy['model_name'] == model.name()]\n",
    "    df1_Bayesian = df_Bayesian[df_Bayesian['model_name'] == model.name()]\n",
    "    # Iterate through each num_agents and threshold combination\n",
    "    cols = [col for col in df1_Bayesian.columns if col != 'model_name']\n",
    "    for col in cols:\n",
    "        if not isinstance(df1_Scipy[col].values[0], dict):\n",
    "            continue\n",
    "        num_agents = df1_Scipy[col].values[0]['fixed_parameters']['num_agents']\n",
    "        threshold = df1_Scipy[col].values[0]['fixed_parameters']['threshold']\n",
    "        best_fits['num_agents'] = num_agents\n",
    "        best_fits['threshold'] = threshold\n",
    "        deviance_Scipy = df1_Scipy[col].values[0]['deviance']\n",
    "        deviance_Bayesian = df1_Bayesian[col].values[0]['deviance']\n",
    "        # Compare deviance from both optimizers\n",
    "        if deviance_Scipy > deviance_Bayesian:\n",
    "            best_optimizer.append('Scipy')\n",
    "            best_fits['deviance'] = deviance_Scipy\n",
    "            best_fits['AIC'] = df1_Scipy[col].values[0]['AIC']\n",
    "            best_fits['free_parameters'] = df1_Scipy[col].values[0]['free_parameters']\n",
    "        else:\n",
    "            best_optimizer.append('Bayesian')\n",
    "            best_fits['deviance'] = deviance_Bayesian\n",
    "            best_fits['AIC'] = df1_Bayesian[col].values[0]['AIC']\n",
    "            best_fits['free_parameters'] = df1_Bayesian[col].values[0]['free_parameters']\n",
    "        best_fits['fixed_parameters'] = df1_Scipy[col].values[0]['fixed_parameters']\n",
    "        df = pd.DataFrame().from_dict(best_fits, orient='index').T\n",
    "        df_list.append(df)\n",
    "df_best_fits = pd.concat(df_list, ignore_index=True)\n",
    "print('Otimizer with best results:')\n",
    "pd.Series(best_optimizer).value_counts(normalize=True).reset_index().rename(columns={'index': 'optimizer', 0: 'proportion'}).sort_values(by='proportion', ascending=False)\n"
   ]
  },
  {
   "cell_type": "markdown",
   "metadata": {},
   "source": [
    "### Save to file"
   ]
  },
  {
   "cell_type": "code",
   "execution_count": null,
   "metadata": {},
   "outputs": [],
   "source": [
    "new_file = False # Set to True if you want to create a new file, False to update the existing one\n",
    "\n",
    "if new_file:\n",
    "    df_best_fits.to_json(best_fits_file, orient='records', lines=True)\n",
    "else:\n",
    "    best_fit = pd.read_json(best_fits_file, lines=True)\n",
    "    for model_name in df_best_fits['model_name'].unique():\n",
    "        df_model = df_best_fits[df_best_fits['model_name'] == model_name]\n",
    "        if model_name not in best_fit['model_name'].unique():\n",
    "            print(f'Adding new model: {model_name}')\n",
    "            best_fit = pd.concat([best_fit, df_model], ignore_index=True)\n",
    "        else:\n",
    "            list_fixed_parameters_new = df_model['fixed_parameters'].values\n",
    "            for fixed_parameters_new in list_fixed_parameters_new:\n",
    "                df_parameters = df_model[df_model['fixed_parameters'] == fixed_parameters_new]\n",
    "                mask = (best_fit['model_name'] == model_name) & (best_fit['fixed_parameters'] == fixed_parameters_new)\n",
    "                if mask.sum() == 0:\n",
    "                    best_fit = pd.concat([best_fit, df_parameters], ignore_index=True)\n",
    "                else:\n",
    "                    # Update the existing entry with the new data\n",
    "                    best_fit = best_fit.copy()                    \n",
    "                    best_fit.loc[mask, df_parameters.columns] = df_parameters.values\n",
    "                \n",
    "\n",
    "    best_fit.to_json(best_fits_file, orient='records', lines=True)\n",
    "    \n",
    "print(f'Best fit results saved to {best_fits_file}')"
   ]
  },
  {
   "cell_type": "markdown",
   "metadata": {},
   "source": [
    "---"
   ]
  }
 ],
 "metadata": {
  "kernelspec": {
   "display_name": "base",
   "language": "python",
   "name": "python3"
  },
  "language_info": {
   "codemirror_mode": {
    "name": "ipython",
    "version": 3
   },
   "file_extension": ".py",
   "mimetype": "text/x-python",
   "name": "python",
   "nbconvert_exporter": "python",
   "pygments_lexer": "ipython3",
   "version": "3.11.5"
  }
 },
 "nbformat": 4,
 "nbformat_minor": 2
}
