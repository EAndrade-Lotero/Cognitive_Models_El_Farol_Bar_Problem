{
 "cells": [
  {
   "cell_type": "code",
   "execution_count": 1,
   "metadata": {},
   "outputs": [],
   "source": [
    "import sys\n",
    "sys.path.append(\"../src\")"
   ]
  },
  {
   "cell_type": "code",
   "execution_count": 2,
   "metadata": {},
   "outputs": [],
   "source": [
    "import json\n",
    "import pandas as pd\n",
    "from pathlib import Path\n",
    "from tqdm.auto import tqdm"
   ]
  },
  {
   "cell_type": "code",
   "execution_count": null,
   "metadata": {},
   "outputs": [],
   "source": [
    "from Classes.bar import Bar\n",
    "from Config.config import PATHS\n",
    "\n",
    "data_folder = PATHS[\"human_data\"]\n",
    "\n",
    "# Load data into a dataframe\n",
    "file_names = [\n",
    "\t'2-player-UR.csv',\n",
    "\t'3-player-IU.csv',\n",
    "\t'4-player-IU.csv',\n",
    "\t'5-player-IU.csv',\n",
    "\t'6-player-IU.csv',\n",
    "\t'7-player-IU.csv',\n",
    "\t'8-player-IU.csv',\n",
    "\t'9-player-IU.csv',\n",
    "\t'11-player-IU.csv',\n",
    "\t'12-player-IU.csv',\n",
    "]\n",
    "# Columns to use\n",
    "columns1 = ['threshold', 'num_players']\n",
    "columns2 = ['group', 'round']"
   ]
  },
  {
   "cell_type": "code",
   "execution_count": null,
   "metadata": {},
   "outputs": [
    {
     "data": {
      "application/vnd.jupyter.widget-view+json": {
       "model_id": "176ad9f1814541ee8ce279b668c7a4db",
       "version_major": 2,
       "version_minor": 0
      },
      "text/plain": [
       "  0%|          | 0/10 [00:00<?, ?it/s]"
      ]
     },
     "metadata": {},
     "output_type": "display_data"
    }
   ],
   "source": [
    "# Iterate over files\n",
    "for file_name in tqdm(file_names):\n",
    "     # Load dataframe\n",
    "\tfile = data_folder / Path(file_name)\n",
    "\tdata = pd.read_csv(file)\n",
    "\tfor key1, grp in data.groupby(columns1):\n",
    "\t\tthreshold, num_players = key1\n",
    "\t\tbar = Bar(num_agents=num_players, threshold=threshold)\n",
    "\t\tfor key2, grp2 in grp.groupby(columns2):\n",
    "\t\t\tgroup, round_ = key2\n",
    "\t\t\t_, scores = bar.step(grp2['decision'].values)\n",
    "\t\t\tgrp2['score'] = scores\n",
    "\t\t\tdata.loc[grp2.index, 'score'] = scores\n",
    "\t# Save dataframe\n",
    "\tdata.to_csv(file, index=False)"
   ]
  },
  {
   "cell_type": "code",
   "execution_count": null,
   "metadata": {},
   "outputs": [],
   "source": []
  }
 ],
 "metadata": {
  "kernelspec": {
   "display_name": "venv_repositorios",
   "language": "python",
   "name": "python3"
  },
  "language_info": {
   "codemirror_mode": {
    "name": "ipython",
    "version": 3
   },
   "file_extension": ".py",
   "mimetype": "text/x-python",
   "name": "python",
   "nbconvert_exporter": "python",
   "pygments_lexer": "ipython3",
   "version": "3.12.8"
  }
 },
 "nbformat": 4,
 "nbformat_minor": 2
}
