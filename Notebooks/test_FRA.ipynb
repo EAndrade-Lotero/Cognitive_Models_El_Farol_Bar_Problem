{
 "cells": [
  {
   "cell_type": "code",
   "execution_count": 1,
   "metadata": {},
   "outputs": [],
   "source": [
    "import numpy as np\n",
    "import pandas as pd\n",
    "import seaborn as sns\n",
    "import matplotlib.pyplot as plt\n",
    "\n",
    "from pathlib import Path\n",
    "\n",
    "import sys\n",
    "\n",
    "sys.path.append('../src')\n",
    "\n",
    "from Config.config import PATHS\n",
    "\n",
    "import warnings\n",
    "warnings.filterwarnings(\"ignore\")"
   ]
  },
  {
   "cell_type": "markdown",
   "metadata": {},
   "source": [
    "### Test focal region similarity"
   ]
  },
  {
   "cell_type": "code",
   "execution_count": null,
   "metadata": {},
   "outputs": [],
   "source": [
    "from Classes.focal_regions import FocalRegion"
   ]
  },
  {
   "cell_type": "code",
   "execution_count": null,
   "metadata": {},
   "outputs": [],
   "source": [
    "region = np.array([[1, 0, 1], [1, 1, 0], [0, 1, 1]])\n",
    "fra = FocalRegion(region)\n",
    "fra.debug = True\n",
    "print('Focal region:')\n",
    "print(fra)\n",
    "\n",
    "# history = np.array([[1, 0], [0, 1], [0, 1]])\n",
    "history = np.array([[0], [1], [1]])\n",
    "print('History:\\n', history)\n",
    "print('-'*60)\n",
    "fra.get_action_preferences(history, 0)"
   ]
  },
  {
   "cell_type": "code",
   "execution_count": null,
   "metadata": {},
   "outputs": [],
   "source": [
    "file_name = Path('..', 'LaTeX', 'FRA_region_1.png')\n",
    "FocalRegion.draw_region(region, file=file_name)"
   ]
  },
  {
   "cell_type": "code",
   "execution_count": null,
   "metadata": {},
   "outputs": [],
   "source": [
    "file_name = Path('..', 'LaTeX', 'history_2.png')\n",
    "FocalRegion.draw_region(history, file=file_name)"
   ]
  },
  {
   "cell_type": "markdown",
   "metadata": {},
   "source": [
    "### Test Focal Regions"
   ]
  },
  {
   "cell_type": "code",
   "execution_count": 2,
   "metadata": {},
   "outputs": [],
   "source": [
    "from Classes.focal_regions import SetFocalRegions"
   ]
  },
  {
   "cell_type": "code",
   "execution_count": 14,
   "metadata": {},
   "outputs": [],
   "source": [
    "sfr = SetFocalRegions(\n",
    "    num_agents=2,\n",
    "    threshold=0.5,\n",
    "    len_history=2,\n",
    "    c=0.9,\n",
    "    steepness=20,\n",
    "    max_regions=4,\n",
    ")"
   ]
  },
  {
   "cell_type": "code",
   "execution_count": 15,
   "metadata": {},
   "outputs": [
    {
     "name": "stdout",
     "output_type": "stream",
     "text": [
      "============================================================\n",
      "Region 0\n",
      "------------------------------------------------------------\n",
      "[[0. 1.]\n",
      " [1. 0.]]\n",
      "------------------------------------------------------------\n",
      "============================================================\n",
      "Region 1\n",
      "------------------------------------------------------------\n",
      "[[0. 1.]\n",
      " [1. 0.]]\n",
      "------------------------------------------------------------\n",
      "============================================================\n",
      "Region 2\n",
      "------------------------------------------------------------\n",
      "[[1. 1.]\n",
      " [0. 0.]]\n",
      "------------------------------------------------------------\n",
      "============================================================\n",
      "Region 3\n",
      "------------------------------------------------------------\n",
      "[[0. 0.]\n",
      " [1. 1.]]\n",
      "------------------------------------------------------------\n",
      "\n"
     ]
    }
   ],
   "source": [
    "sfr.generate_focal_regions()\n",
    "print(sfr)"
   ]
  },
  {
   "cell_type": "code",
   "execution_count": null,
   "metadata": {},
   "outputs": [],
   "source": [
    "history = np.array([1, 0, 0])\n",
    "sfr.add_history(history)\n",
    "history = np.array([0, 1, 1])\n",
    "sfr.add_history(history)\n",
    "print('History')\n",
    "print(sfr.history)\n",
    "sfr.debug = True\n",
    "for region in sfr.focal_regions:\n",
    "    region.debug = True\n",
    "sfr.get_action_preferences(agent_id=0)"
   ]
  },
  {
   "cell_type": "code",
   "execution_count": null,
   "metadata": {},
   "outputs": [],
   "source": [
    "sfr.normalized_logistic(np.array([0.83, 0.17]))"
   ]
  },
  {
   "cell_type": "code",
   "execution_count": null,
   "metadata": {},
   "outputs": [],
   "source": [
    "X = np.linspace(0, 1, 1000)\n",
    "Y = sfr.normalized_logistic(X)\n",
    "\n",
    "fig, ax = plt.subplots(1, 1, figsize=(3,3))\n",
    "sns.lineplot(x=X, y=Y, ax=ax)\n",
    "ax.axvline(x=sfr.c, color='red', linestyle='--', linewidth=1)\n",
    "ax.set_title(f'Normalized logistic')\n",
    "ax.grid()\n",
    "\n",
    "fig.savefig(PATHS['LaTeX'] / 'logistic.png', dpi=300)"
   ]
  },
  {
   "cell_type": "markdown",
   "metadata": {},
   "source": [
    "### Test FRA agents"
   ]
  },
  {
   "cell_type": "code",
   "execution_count": null,
   "metadata": {},
   "outputs": [],
   "source": [
    "from Classes.bar import Bar\n",
    "from Utils.interaction import Episode\n",
    "from Classes.focal_regions import SetFocalRegions\n",
    "from Classes.cognitive_model_agents import FocalRegionAgent"
   ]
  },
  {
   "cell_type": "code",
   "execution_count": null,
   "metadata": {},
   "outputs": [],
   "source": [
    "free_parameters = {\n",
    "    'inverse_temperature': 6,\n",
    "    'len_history': 2,\n",
    "}\n",
    "fixed_parameters = {\n",
    "    'num_agents': 2,\n",
    "    'threshold': 0.5,\n",
    "}\n",
    "n = 1"
   ]
  },
  {
   "cell_type": "code",
   "execution_count": null,
   "metadata": {},
   "outputs": [],
   "source": [
    "# Create the environment\n",
    "bar = Bar(\n",
    "    num_agents=fixed_parameters['num_agents'],\n",
    "    threshold=fixed_parameters['threshold']\n",
    ")\n",
    "# Create the agents\n",
    "agents = [\n",
    "    FocalRegionAgent(\n",
    "        free_parameters, \n",
    "        fixed_parameters, \n",
    "        n\n",
    "    ) for n in range(fixed_parameters['num_agents'])\n",
    "]\n",
    "# Create the episode\n",
    "episode = Episode(\n",
    "    model='FRA',\n",
    "    agents=agents,\n",
    "    environment=bar,\n",
    "    num_rounds=13\n",
    ")\n",
    "\n",
    "episode.run()\n",
    "\n",
    "bar.render()"
   ]
  },
  {
   "cell_type": "markdown",
   "metadata": {},
   "source": [
    "# Test simulations"
   ]
  },
  {
   "cell_type": "code",
   "execution_count": null,
   "metadata": {},
   "outputs": [],
   "source": [
    "from Utils.interaction import Performer\n",
    "from Utils.utils import GetMeasurements\n",
    "from Classes.cognitive_model_agents import FRAplus"
   ]
  },
  {
   "cell_type": "code",
   "execution_count": null,
   "metadata": {},
   "outputs": [],
   "source": [
    "fixed_parameters = {\n",
    "\t\"num_agents\":2,\n",
    "\t\"threshold\":0.5,\n",
    "}\n",
    "free_parameters = {\n",
    "    'inverse_temperature': 6, \n",
    "    'bias': 0.75, \n",
    "    'learning_rate': 0.2, \n",
    "    'len_history': 2, \n",
    "    'delta': 0.4\n",
    "}\n",
    "simulation_parameters = {\n",
    "\t'num_rounds': 50,\n",
    "    'num_episodes': 23,\n",
    "\t'verbose':False\n",
    "}"
   ]
  },
  {
   "cell_type": "code",
   "execution_count": null,
   "metadata": {},
   "outputs": [],
   "source": [
    "df = Performer.sim(\n",
    "    agent_class=FocalRegionAgent,\n",
    "    fixed_parameters=fixed_parameters,\n",
    "    free_parameters=free_parameters,\n",
    "    simulation_parameters=simulation_parameters\n",
    ")\n",
    "gm = GetMeasurements(\n",
    "    data=df, measures=['efficiency', 'inequality']\n",
    ")\n",
    "data = gm.get_measurements()\n",
    "ax = sns.scatterplot(\n",
    "    x='inequality', y='efficiency',\n",
    "    data=data\n",
    ")\n",
    "ax.set_xlim([-0.05, 0.6])\n",
    "ax.set_ylim([-0.05, .55])"
   ]
  },
  {
   "cell_type": "code",
   "execution_count": null,
   "metadata": {},
   "outputs": [],
   "source": [
    "sns.lineplot(\n",
    "    x='round', y='score',\n",
    "    data=df\n",
    ")"
   ]
  },
  {
   "cell_type": "markdown",
   "metadata": {},
   "source": [
    "# Test parameter fit"
   ]
  },
  {
   "cell_type": "code",
   "execution_count": null,
   "metadata": {},
   "outputs": [],
   "source": [
    "from Classes.cognitive_model_agents import FRAplus\n",
    "from Classes.parameter_recovery import ParameterFit"
   ]
  },
  {
   "cell_type": "code",
   "execution_count": null,
   "metadata": {},
   "outputs": [],
   "source": [
    "# my_models = [FocalRegionAgent]\n",
    "my_models = [FRAplus]\n",
    "\n",
    "best_fit_file_2P = PATHS['parameter_fit_results'] / 'best_fit_2P_3.json'\n",
    "\n",
    "#Load 2P data\n",
    "file = PATHS['human_data'] / '2-player-UR.csv'\n",
    "print(f'Loading data from {file}...')\n",
    "data = pd.read_csv(file)\n",
    "data.head(2)"
   ]
  },
  {
   "cell_type": "code",
   "execution_count": null,
   "metadata": {},
   "outputs": [],
   "source": [
    "hyperparameters = {\n",
    "    'n_iter': 128,\n",
    "    'init_points': 64,\n",
    "}\n",
    "\n",
    "ParameterFit.run(\n",
    "    data=data,\n",
    "    model_list=my_models,\n",
    "    best_fit_path=best_fit_file_2P,\n",
    "    optimizer_type='bayesian',\n",
    "    hyperparameters=hyperparameters,\n",
    "    new_file=False\n",
    ")"
   ]
  },
  {
   "cell_type": "code",
   "execution_count": null,
   "metadata": {},
   "outputs": [],
   "source": [
    "ParameterFit.run(\n",
    "    data=data,\n",
    "    model_list=my_models,\n",
    "    best_fit_path=best_fit_file_2P,\n",
    "    optimizer_type='scipy',\n",
    "    hyperparameters={},\n",
    "    new_file=False\n",
    ")"
   ]
  },
  {
   "cell_type": "markdown",
   "metadata": {},
   "source": [
    "{'inverse_temperature': np.float64(5.939793200426039), 'bias': np.float64(0.7908615558239465), 'learning_rate': np.float64(0.18051110357718222), 'len_history': np.float64(2.4724091615619512), 'c': np.float64(1.0), 'delta': np.float64(0.1)}\n",
    "Deviance: -2181.1293794903972\n",
    "AIC: 4374.2587589807945"
   ]
  },
  {
   "cell_type": "markdown",
   "metadata": {},
   "source": []
  },
  {
   "cell_type": "code",
   "execution_count": null,
   "metadata": {},
   "outputs": [],
   "source": [
    "from Classes.parameter_recovery import GetDeviance\n",
    "\n",
    "free_parameters = {\n",
    "    'inverse_temperature': 6, \n",
    "    'bias': 0.79, \n",
    "    'learning_rate': 0.18, \n",
    "    'len_history': 2, \n",
    "    'c': 0.1, \n",
    "    'delta': 0.1\n",
    "}\n",
    "g_dev = GetDeviance(\n",
    "    model=FRAplus,\n",
    "    free_parameters=free_parameters,\n",
    "    data=data\n",
    ")\n",
    "\n",
    "g_dev.get_deviance_from_data(free_parameters)"
   ]
  },
  {
   "cell_type": "markdown",
   "metadata": {},
   "source": [
    "---"
   ]
  }
 ],
 "metadata": {
  "kernelspec": {
   "display_name": "Python 3 (ipykernel)",
   "language": "python",
   "name": "python3"
  },
  "language_info": {
   "codemirror_mode": {
    "name": "ipython",
    "version": 3
   },
   "file_extension": ".py",
   "mimetype": "text/x-python",
   "name": "python",
   "nbconvert_exporter": "python",
   "pygments_lexer": "ipython3",
   "version": "3.13.3"
  }
 },
 "nbformat": 4,
 "nbformat_minor": 2
}
