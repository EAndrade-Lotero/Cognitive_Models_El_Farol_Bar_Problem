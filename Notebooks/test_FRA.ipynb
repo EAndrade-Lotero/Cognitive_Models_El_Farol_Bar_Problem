{
 "cells": [
  {
   "cell_type": "code",
   "execution_count": 1,
   "metadata": {},
   "outputs": [],
   "source": [
    "import numpy as np\n",
    "import pandas as pd\n",
    "\n",
    "from pathlib import Path\n",
    "\n",
    "import sys\n",
    "\n",
    "sys.path.append('../src')\n",
    "\n",
    "import warnings\n",
    "warnings.filterwarnings(\"ignore\")"
   ]
  },
  {
   "cell_type": "markdown",
   "metadata": {},
   "source": [
    "### Test focal region similarity"
   ]
  },
  {
   "cell_type": "code",
   "execution_count": 2,
   "metadata": {},
   "outputs": [],
   "source": [
    "from Config.config import PATHS\n",
    "from Classes.focal_regions import FocalRegion"
   ]
  },
  {
   "cell_type": "code",
   "execution_count": 3,
   "metadata": {},
   "outputs": [
    {
     "name": "stdout",
     "output_type": "stream",
     "text": [
      "History:\n",
      " [[0]\n",
      " [1]\n",
      " [1]]\n",
      "------------------------------------------------------------\n",
      "\tCicle from column 0:\n",
      "[[1]\n",
      " [1]\n",
      " [0]]\n",
      "\tSimilarity score: 0.3333333333333333\n",
      "\tCicle from column 1:\n",
      "[[0]\n",
      " [1]\n",
      " [1]]\n",
      "\tSimilarity score: 1.0\n",
      "\tCicle from column 2:\n",
      "[[1]\n",
      " [0]\n",
      " [1]]\n",
      "\tSimilarity score: 0.3333333333333333\n",
      "Scores:\n",
      " [np.float64(0.3333333333333333), np.float64(1.0), np.float64(0.3333333333333333)]\n",
      "------------------------------------------------------------\n"
     ]
    }
   ],
   "source": [
    "region = np.array([[1, 0, 1], [1, 1, 0], [0, 1, 1]])\n",
    "fra = FocalRegion(region)\n",
    "fra.debug = True\n",
    "\n",
    "# history = np.array([[1, 0], [0, 1], [0, 1]])\n",
    "history = np.array([[0], [1], [1]])\n",
    "print('History:\\n', history)\n",
    "print('-'*60)\n",
    "scores = fra.get_similarity_scores(history)\n",
    "print('Scores:\\n', scores)\n",
    "print('-'*60)"
   ]
  },
  {
   "cell_type": "code",
   "execution_count": 4,
   "metadata": {},
   "outputs": [
    {
     "data": {
      "text/plain": [
       "<Axes: >"
      ]
     },
     "execution_count": 4,
     "metadata": {},
     "output_type": "execute_result"
    },
    {
     "data": {
      "image/png": "[encoded data removed]",
      "text/plain": [
       "<Figure size 300x300 with 1 Axes>"
      ]
     },
     "metadata": {},
     "output_type": "display_data"
    }
   ],
   "source": [
    "file_name = Path('..', 'LaTeX', 'FRA_region_1.png')\n",
    "FocalRegion.draw_region(region, file=file_name)"
   ]
  },
  {
   "cell_type": "code",
   "execution_count": 5,
   "metadata": {},
   "outputs": [
    {
     "data": {
      "text/plain": [
       "<Axes: >"
      ]
     },
     "execution_count": 5,
     "metadata": {},
     "output_type": "execute_result"
    },
    {
     "data": {
      "image/png": "[encoded data removed]",
      "text/plain": [
       "<Figure size 100x300 with 1 Axes>"
      ]
     },
     "metadata": {},
     "output_type": "display_data"
    }
   ],
   "source": [
    "file_name = Path('..', 'LaTeX', 'history_2.png')\n",
    "FocalRegion.draw_region(history, file=file_name)"
   ]
  },
  {
   "cell_type": "markdown",
   "metadata": {},
   "source": [
    "### Test Focal Regions"
   ]
  },
  {
   "cell_type": "code",
   "execution_count": 6,
   "metadata": {},
   "outputs": [],
   "source": [
    "from Classes.focal_regions import SetFocalRegions"
   ]
  },
  {
   "cell_type": "code",
   "execution_count": 7,
   "metadata": {},
   "outputs": [
    {
     "name": "stdout",
     "output_type": "stream",
     "text": [
      "------------------------------------------------------------\n",
      "[[1. 1.]\n",
      " [0. 0.]]\n",
      "------------------------------------------------------------------------------------------------------------------------\n",
      "[[0. 0.]\n",
      " [1. 1.]]\n",
      "------------------------------------------------------------------------------------------------------------------------\n",
      "[[0. 1.]\n",
      " [1. 0.]]\n",
      "------------------------------------------------------------\n"
     ]
    }
   ],
   "source": [
    "sfr = SetFocalRegions(\n",
    "    num_agents=2,\n",
    "    threshold=0.5,\n",
    "    len_history=2,\n",
    "    max_regions=3,\n",
    ")\n",
    "sfr.generate_focal_regions()\n",
    "print(sfr)"
   ]
  },
  {
   "cell_type": "code",
   "execution_count": 8,
   "metadata": {},
   "outputs": [
    {
     "name": "stdout",
     "output_type": "stream",
     "text": [
      "Region 0: [0.  0.5]\n",
      "Region 1: [0.5 0. ]\n",
      "Region 2: [0. 1.]\n"
     ]
    },
    {
     "data": {
      "text/plain": [
       "array([0.5, 1.5])"
      ]
     },
     "execution_count": 8,
     "metadata": {},
     "output_type": "execute_result"
    }
   ],
   "source": [
    "history = np.array([1, 0])\n",
    "sfr.add_history(history)\n",
    "history = np.array([0, 1])\n",
    "sfr.add_history(history)\n",
    "sfr.debug = True\n",
    "sfr.get_action_preferences(0)"
   ]
  },
  {
   "cell_type": "markdown",
   "metadata": {},
   "source": [
    "### Test FRA agents"
   ]
  },
  {
   "cell_type": "code",
   "execution_count": 9,
   "metadata": {},
   "outputs": [],
   "source": [
    "from Classes.bar import Bar\n",
    "from Utils.interaction import Episode\n",
    "from Classes.cognitive_model_agents import FocalRegionAgent"
   ]
  },
  {
   "cell_type": "code",
   "execution_count": 10,
   "metadata": {},
   "outputs": [],
   "source": [
    "free_parameters = {\n",
    "    'inverse_temperature': 30,\n",
    "    'len_history': 2,\n",
    "    'max_regions': 5\n",
    "}\n",
    "fixed_parameters = {\n",
    "    'num_agents': 2,\n",
    "    'threshold': 0.5,\n",
    "}\n",
    "n = 1"
   ]
  },
  {
   "cell_type": "code",
   "execution_count": 11,
   "metadata": {},
   "outputs": [
    {
     "data": {
      "text/plain": [
       "<Axes: >"
      ]
     },
     "execution_count": 11,
     "metadata": {},
     "output_type": "execute_result"
    },
    {
     "data": {
      "image/png": "[encoded data removed]",
      "text/plain": [
       "<Figure size 750x200 with 1 Axes>"
      ]
     },
     "metadata": {},
     "output_type": "display_data"
    }
   ],
   "source": [
    "# Create the environment\n",
    "bar = Bar(\n",
    "    num_agents=fixed_parameters['num_agents'],\n",
    "    threshold=fixed_parameters['threshold']\n",
    ")\n",
    "# Create the agents\n",
    "agents = [FocalRegionAgent(free_parameters, fixed_parameters, n) for n in range(fixed_parameters['num_agents'])]\n",
    "# Create the episode\n",
    "episode = Episode(\n",
    "    model='FRA',\n",
    "    agents=agents,\n",
    "    environment=bar,\n",
    "    num_rounds=20\n",
    ")\n",
    "\n",
    "episode.run()\n",
    "\n",
    "bar.render()"
   ]
  },
  {
   "cell_type": "markdown",
   "metadata": {},
   "source": [
    "# Test parameter fit"
   ]
  },
  {
   "cell_type": "code",
   "execution_count": 12,
   "metadata": {},
   "outputs": [],
   "source": [
    "from Classes.cognitive_model_agents import Titan\n",
    "from Classes.parameter_recovery import ParameterFit"
   ]
  },
  {
   "cell_type": "code",
   "execution_count": 13,
   "metadata": {},
   "outputs": [
    {
     "name": "stdout",
     "output_type": "stream",
     "text": [
      "Loading data from /Users/edgar/Documents/GitHub/Cognitive_Models_El_Farol_Bar_Problem/data/human/2-player-UR.csv...\n"
     ]
    },
    {
     "data": {
      "text/html": [
       "<div>\n",
       "<style scoped>\n",
       "    .dataframe tbody tr th:only-of-type {\n",
       "        vertical-align: middle;\n",
       "    }\n",
       "\n",
       "    .dataframe tbody tr th {\n",
       "        vertical-align: top;\n",
       "    }\n",
       "\n",
       "    .dataframe thead th {\n",
       "        text-align: right;\n",
       "    }\n",
       "</style>\n",
       "<table border=\"1\" class=\"dataframe\">\n",
       "  <thead>\n",
       "    <tr style=\"text-align: right;\">\n",
       "      <th></th>\n",
       "      <th>source</th>\n",
       "      <th>treatment</th>\n",
       "      <th>group</th>\n",
       "      <th>round</th>\n",
       "      <th>player</th>\n",
       "      <th>choice</th>\n",
       "      <th>score</th>\n",
       "      <th>attendance</th>\n",
       "      <th>ac_score</th>\n",
       "      <th>threshold</th>\n",
       "      <th>num_players</th>\n",
       "      <th>room</th>\n",
       "      <th>decision</th>\n",
       "    </tr>\n",
       "  </thead>\n",
       "  <tbody>\n",
       "    <tr>\n",
       "      <th>0</th>\n",
       "      <td>human</td>\n",
       "      <td>score + grid</td>\n",
       "      <td>Grupo-0001</td>\n",
       "      <td>1</td>\n",
       "      <td>405186428721292</td>\n",
       "      <td>0</td>\n",
       "      <td>0</td>\n",
       "      <td>1</td>\n",
       "      <td>25</td>\n",
       "      <td>0.5</td>\n",
       "      <td>2</td>\n",
       "      <td>Grupo-0001</td>\n",
       "      <td>0</td>\n",
       "    </tr>\n",
       "    <tr>\n",
       "      <th>1</th>\n",
       "      <td>human</td>\n",
       "      <td>score + grid</td>\n",
       "      <td>Grupo-0001</td>\n",
       "      <td>1</td>\n",
       "      <td>728608683559397</td>\n",
       "      <td>1</td>\n",
       "      <td>1</td>\n",
       "      <td>1</td>\n",
       "      <td>25</td>\n",
       "      <td>0.5</td>\n",
       "      <td>2</td>\n",
       "      <td>Grupo-0001</td>\n",
       "      <td>1</td>\n",
       "    </tr>\n",
       "  </tbody>\n",
       "</table>\n",
       "</div>"
      ],
      "text/plain": [
       "  source     treatment       group  round           player  choice  score  \\\n",
       "0  human  score + grid  Grupo-0001      1  405186428721292       0      0   \n",
       "1  human  score + grid  Grupo-0001      1  728608683559397       1      1   \n",
       "\n",
       "   attendance  ac_score  threshold  num_players        room  decision  \n",
       "0           1        25        0.5            2  Grupo-0001         0  \n",
       "1           1        25        0.5            2  Grupo-0001         1  "
      ]
     },
     "execution_count": 13,
     "metadata": {},
     "output_type": "execute_result"
    }
   ],
   "source": [
    "best_fit_file_2P = PATHS['parameter_fit_results'] / 'best_fit_2P_3.json'\n",
    "\n",
    "#Load 2P data\n",
    "file = PATHS['human_data'] / '2-player-UR.csv'\n",
    "print(f'Loading data from {file}...')\n",
    "data = pd.read_csv(file)\n",
    "data.head(2)"
   ]
  },
  {
   "cell_type": "code",
   "execution_count": 16,
   "metadata": {},
   "outputs": [
    {
     "name": "stderr",
     "output_type": "stream",
     "text": [
      "Fitting models...:   0%|                                  | 0/1 [00:00<?, ?it/s]"
     ]
    },
    {
     "name": "stdout",
     "output_type": "stream",
     "text": [
      "Fitting data to model FRA...\n",
      "Creating parameter recovery class...\n",
      "Running optimizer...\n",
      "Finding deviance for 2 players and threshold 0.5...\n"
     ]
    },
    {
     "name": "stderr",
     "output_type": "stream",
     "text": [
      "Fitting models...: 100%|██████████████████████████| 1/1 [00:02<00:00,  2.17s/it]"
     ]
    },
    {
     "name": "stdout",
     "output_type": "stream",
     "text": [
      "Optimal parameters for 2 players and threshold 0.5:\n",
      "{'inverse_temperature': np.float64(32.189919027220455), 'len_history': np.float64(1.5872886208605057), 'max_regions': np.float64(4.5902382956695185)}\n",
      "Deviance: -7004.424310430994\n",
      "AIC: 14014.848620861989\n",
      "--------------------------------------------------\n"
     ]
    },
    {
     "name": "stderr",
     "output_type": "stream",
     "text": [
      "\n"
     ]
    }
   ],
   "source": [
    "# check_out_these = ['Attendance-M2', 'MFP-M2', 'Payoff-M2']\n",
    "my_models = [FocalRegionAgent]\n",
    "# my_models = [Titan]\n",
    "\n",
    "ParameterFit.run(\n",
    "    data=data,\n",
    "    model_list=my_models,\n",
    "    best_fit_path=best_fit_file_2P,\n",
    "    optimizer_type='scipy',\n",
    "    hyperparameters={},\n",
    "    new_file=False\n",
    ")"
   ]
  },
  {
   "cell_type": "code",
   "execution_count": 17,
   "metadata": {},
   "outputs": [
    {
     "name": "stderr",
     "output_type": "stream",
     "text": [
      "Fitting models...:   0%|                                  | 0/1 [00:00<?, ?it/s]"
     ]
    },
    {
     "name": "stdout",
     "output_type": "stream",
     "text": [
      "Fitting data to model FRA...\n",
      "Creating parameter recovery class...\n",
      "Running optimizer...\n",
      "Finding deviance for 2 players and threshold 0.5...\n",
      "|   iter    |  target   | invers... | len_hi... | max_re... |\n",
      "-------------------------------------------------------------\n",
      "| \u001b[39m1        \u001b[39m | \u001b[39m-13204.62\u001b[39m | \u001b[39m27.272386\u001b[39m | \u001b[39m2.4406489\u001b[39m | \u001b[39m1.0010293\u001b[39m |\n",
      "| \u001b[35m2        \u001b[39m | \u001b[35m-12908.15\u001b[39m | \u001b[35m20.046952\u001b[39m | \u001b[35m1.2935117\u001b[39m | \u001b[35m1.8310473\u001b[39m |\n",
      "| \u001b[35m3        \u001b[39m | \u001b[35m-6629.915\u001b[39m | \u001b[35m12.734393\u001b[39m | \u001b[35m1.6911214\u001b[39m | \u001b[35m4.5709072\u001b[39m |\n",
      "| \u001b[39m4        \u001b[39m | \u001b[39m-7004.424\u001b[39m | \u001b[39m34.945454\u001b[39m | \u001b[39m1.8383890\u001b[39m | \u001b[39m7.1669755\u001b[39m |\n",
      "| \u001b[39m5        \u001b[39m | \u001b[39m-12571.36\u001b[39m | \u001b[39m13.880491\u001b[39m | \u001b[39m2.7562348\u001b[39m | \u001b[39m1.2464883\u001b[39m |\n",
      "| \u001b[39m6        \u001b[39m | \u001b[39m-7004.424\u001b[39m | \u001b[39m43.239453\u001b[39m | \u001b[39m1.8346096\u001b[39m | \u001b[39m6.0282084\u001b[39m |\n",
      "| \u001b[35m7        \u001b[39m | \u001b[35m-5632.125\u001b[39m | \u001b[35m9.8443771\u001b[39m | \u001b[35m1.3962029\u001b[39m | \u001b[35m8.2067011\u001b[39m |\n",
      "| \u001b[39m8        \u001b[39m | \u001b[39m-7004.424\u001b[39m | \u001b[39m62.000479\u001b[39m | \u001b[39m1.6268483\u001b[39m | \u001b[39m7.2309035\u001b[39m |\n",
      "| \u001b[39m9        \u001b[39m | \u001b[39m-13651.46\u001b[39m | \u001b[39m56.212516\u001b[39m | \u001b[39m2.7892133\u001b[39m | \u001b[39m1.7653979\u001b[39m |\n",
      "| \u001b[35m10       \u001b[39m | \u001b[35m-3633.796\u001b[39m | \u001b[35m3.4604513\u001b[39m | \u001b[35m1.3396608\u001b[39m | \u001b[35m8.9032825\u001b[39m |\n",
      "| \u001b[39m11       \u001b[39m | \u001b[39m-4738.727\u001b[39m | \u001b[39m7.1958505\u001b[39m | \u001b[39m1.8422152\u001b[39m | \u001b[39m9.6210057\u001b[39m |\n",
      "| \u001b[39m12       \u001b[39m | \u001b[39m-9348.277\u001b[39m | \u001b[39m34.589412\u001b[39m | \u001b[39m2.3837542\u001b[39m | \u001b[39m3.8396406\u001b[39m |\n",
      "| \u001b[39m13       \u001b[39m | \u001b[39m-13833.75\u001b[39m | \u001b[39m44.249558\u001b[39m | \u001b[39m2.6692513\u001b[39m | \u001b[39m1.1645944\u001b[39m |\n",
      "| \u001b[39m14       \u001b[39m | \u001b[39m-9348.277\u001b[39m | \u001b[39m48.259091\u001b[39m | \u001b[39m2.9777221\u001b[39m | \u001b[39m7.7334908\u001b[39m |\n",
      "| \u001b[39m15       \u001b[39m | \u001b[39m-13704.82\u001b[39m | \u001b[39m18.667971\u001b[39m | \u001b[39m2.5785586\u001b[39m | \u001b[39m1.9290340\u001b[39m |\n",
      "| \u001b[39m16       \u001b[39m | \u001b[39m-9348.277\u001b[39m | \u001b[39m29.217292\u001b[39m | \u001b[39m2.8171910\u001b[39m | \u001b[39m3.6425273\u001b[39m |\n",
      "| \u001b[39m17       \u001b[39m | \u001b[39m-11376.06\u001b[39m | \u001b[39m19.129846\u001b[39m | \u001b[39m1.2600571\u001b[39m | \u001b[39m1.1743026\u001b[39m |\n",
      "| \u001b[39m18       \u001b[39m | \u001b[39m-7004.424\u001b[39m | \u001b[39m43.766638\u001b[39m | \u001b[39m1.4232562\u001b[39m | \u001b[39m3.3899199\u001b[39m |\n",
      "| \u001b[39m19       \u001b[39m | \u001b[39m-7004.424\u001b[39m | \u001b[39m31.969109\u001b[39m | \u001b[39m1.1067250\u001b[39m | \u001b[39m6.1670584\u001b[39m |\n",
      "| \u001b[39m20       \u001b[39m | \u001b[39m-6826.740\u001b[39m | \u001b[39m10.243900\u001b[39m | \u001b[39m2.1786110\u001b[39m | \u001b[39m7.2978252\u001b[39m |\n",
      "| \u001b[39m21       \u001b[39m | \u001b[39m-4821.639\u001b[39m | \u001b[39m7.4470690\u001b[39m | \u001b[39m1.8281119\u001b[39m | \u001b[39m7.2496014\u001b[39m |\n",
      "| \u001b[39m22       \u001b[39m | \u001b[39m-7004.424\u001b[39m | \u001b[39m27.093293\u001b[39m | \u001b[39m1.0999069\u001b[39m | \u001b[39m5.8230676\u001b[39m |\n",
      "| \u001b[39m23       \u001b[39m | \u001b[39m-9348.277\u001b[39m | \u001b[39m42.819062\u001b[39m | \u001b[39m2.0297782\u001b[39m | \u001b[39m9.5013528\u001b[39m |\n",
      "| \u001b[39m24       \u001b[39m | \u001b[39m-7298.781\u001b[39m | \u001b[39m37.952967\u001b[39m | \u001b[39m2.8068038\u001b[39m | \u001b[39m2.2372723\u001b[39m |\n",
      "| \u001b[39m25       \u001b[39m | \u001b[39m-6674.652\u001b[39m | \u001b[39m9.7744098\u001b[39m | \u001b[39m2.6147825\u001b[39m | \u001b[39m4.5790915\u001b[39m |\n",
      "| \u001b[39m26       \u001b[39m | \u001b[39m-7211.159\u001b[39m | \u001b[39m11.417314\u001b[39m | \u001b[39m2.8550171\u001b[39m | \u001b[39m4.1298927\u001b[39m |\n",
      "| \u001b[39m27       \u001b[39m | \u001b[39m-9348.277\u001b[39m | \u001b[39m48.301162\u001b[39m | \u001b[39m2.4519959\u001b[39m | \u001b[39m8.9497548\u001b[39m |\n",
      "| \u001b[39m28       \u001b[39m | \u001b[39m-9348.277\u001b[39m | \u001b[39m40.291349\u001b[39m | \u001b[39m2.5018848\u001b[39m | \u001b[39m4.1400850\u001b[39m |\n",
      "| \u001b[39m29       \u001b[39m | \u001b[39m-8407.656\u001b[39m | \u001b[39m18.005457\u001b[39m | \u001b[39m2.7917724\u001b[39m | \u001b[39m4.8528207\u001b[39m |\n",
      "| \u001b[39m30       \u001b[39m | \u001b[39m-9348.277\u001b[39m | \u001b[39m61.784922\u001b[39m | \u001b[39m2.3268829\u001b[39m | \u001b[39m6.5952614\u001b[39m |\n",
      "| \u001b[39m31       \u001b[39m | \u001b[39m-6183.891\u001b[39m | \u001b[39m8.2289962\u001b[39m | \u001b[39m2.8989785\u001b[39m | \u001b[39m5.0492092\u001b[39m |\n",
      "| \u001b[39m32       \u001b[39m | \u001b[39m-7004.424\u001b[39m | \u001b[39m37.438545\u001b[39m | \u001b[39m1.8162736\u001b[39m | \u001b[39m3.1332428\u001b[39m |\n",
      "| \u001b[39m33       \u001b[39m | \u001b[39m-12858.64\u001b[39m | \u001b[39m57.912909\u001b[39m | \u001b[39m2.1473589\u001b[39m | \u001b[39m1.0258329\u001b[39m |\n",
      "| \u001b[39m34       \u001b[39m | \u001b[39m-7004.424\u001b[39m | \u001b[39m39.880129\u001b[39m | \u001b[39m1.6532898\u001b[39m | \u001b[39m5.7435229\u001b[39m |\n",
      "| \u001b[39m35       \u001b[39m | \u001b[39m-7004.424\u001b[39m | \u001b[39m56.814352\u001b[39m | \u001b[39m1.7145395\u001b[39m | \u001b[39m9.1768163\u001b[39m |\n",
      "| \u001b[39m36       \u001b[39m | \u001b[39m-7004.424\u001b[39m | \u001b[39m40.271687\u001b[39m | \u001b[39m1.0316424\u001b[39m | \u001b[39m9.3649351\u001b[39m |\n",
      "| \u001b[39m37       \u001b[39m | \u001b[39m-7934.555\u001b[39m | \u001b[39m44.526505\u001b[39m | \u001b[39m2.9946457\u001b[39m | \u001b[39m2.5510645\u001b[39m |\n",
      "| \u001b[39m38       \u001b[39m | \u001b[39m-6631.185\u001b[39m | \u001b[39m9.6395522\u001b[39m | \u001b[39m2.8651909\u001b[39m | \u001b[39m7.2713634\u001b[39m |\n",
      "| \u001b[39m39       \u001b[39m | \u001b[39m-4960.164\u001b[39m | \u001b[39m5.1580108\u001b[39m | \u001b[39m2.5109261\u001b[39m | \u001b[39m7.7848856\u001b[39m |\n",
      "| \u001b[39m40       \u001b[39m | \u001b[39m-7635.548\u001b[39m | \u001b[39m59.150545\u001b[39m | \u001b[39m2.4230495\u001b[39m | \u001b[39m2.1184386\u001b[39m |\n",
      "| \u001b[39m41       \u001b[39m | \u001b[39m-4765.648\u001b[39m | \u001b[39m2.2524484\u001b[39m | \u001b[39m1.0524219\u001b[39m | \u001b[39m1.2547583\u001b[39m |\n",
      "| \u001b[39m42       \u001b[39m | \u001b[39m-8263.991\u001b[39m | \u001b[39m16.511297\u001b[39m | \u001b[39m2.7200558\u001b[39m | \u001b[39m5.8494795\u001b[39m |\n",
      "| \u001b[39m43       \u001b[39m | \u001b[39m-7934.320\u001b[39m | \u001b[39m35.827784\u001b[39m | \u001b[39m2.6840617\u001b[39m | \u001b[39m2.1175598\u001b[39m |\n",
      "| \u001b[39m44       \u001b[39m | \u001b[39m-8464.039\u001b[39m | \u001b[39m18.588571\u001b[39m | \u001b[39m2.1715185\u001b[39m | \u001b[39m9.7263617\u001b[39m |\n",
      "| \u001b[39m45       \u001b[39m | \u001b[39m-7004.424\u001b[39m | \u001b[39m36.344903\u001b[39m | \u001b[39m1.0372945\u001b[39m | \u001b[39m8.2056940\u001b[39m |\n",
      "| \u001b[39m46       \u001b[39m | \u001b[39m-8184.449\u001b[39m | \u001b[39m15.677379\u001b[39m | \u001b[39m2.6142103\u001b[39m | \u001b[39m4.4907457\u001b[39m |\n",
      "| \u001b[39m47       \u001b[39m | \u001b[39m-9348.277\u001b[39m | \u001b[39m55.403136\u001b[39m | \u001b[39m2.4942432\u001b[39m | \u001b[39m6.0061621\u001b[39m |\n",
      "| \u001b[39m48       \u001b[39m | \u001b[39m-10534.58\u001b[39m | \u001b[39m9.5966792\u001b[39m | \u001b[39m1.1198353\u001b[39m | \u001b[39m2.0920911\u001b[39m |\n",
      "| \u001b[39m49       \u001b[39m | \u001b[39m-3719.617\u001b[39m | \u001b[39m3.8067683\u001b[39m | \u001b[39m1.2149882\u001b[39m | \u001b[39m3.0313840\u001b[39m |\n",
      "| \u001b[39m50       \u001b[39m | \u001b[39m-12366.75\u001b[39m | \u001b[39m45.918305\u001b[39m | \u001b[39m2.1194339\u001b[39m | \u001b[39m1.1130038\u001b[39m |\n",
      "| \u001b[39m51       \u001b[39m | \u001b[39m-5227.082\u001b[39m | \u001b[39m5.5343796\u001b[39m | \u001b[39m2.9345526\u001b[39m | \u001b[39m6.1129041\u001b[39m |\n",
      "| \u001b[39m52       \u001b[39m | \u001b[39m-7002.328\u001b[39m | \u001b[39m13.807473\u001b[39m | \u001b[39m1.5046514\u001b[39m | \u001b[39m7.6944326\u001b[39m |\n",
      "| \u001b[39m53       \u001b[39m | \u001b[39m-7840.994\u001b[39m | \u001b[39m13.312057\u001b[39m | \u001b[39m2.1627178\u001b[39m | \u001b[39m9.7301799\u001b[39m |\n",
      "| \u001b[39m54       \u001b[39m | \u001b[39m-7004.424\u001b[39m | \u001b[39m54.350214\u001b[39m | \u001b[39m1.4796955\u001b[39m | \u001b[39m5.4439274\u001b[39m |\n",
      "| \u001b[39m55       \u001b[39m | \u001b[39m-7676.134\u001b[39m | \u001b[39m40.057210\u001b[39m | \u001b[39m2.6579617\u001b[39m | \u001b[39m2.4111225\u001b[39m |\n",
      "| \u001b[35m56       \u001b[39m | \u001b[35m-3367.959\u001b[39m | \u001b[35m2.1703007\u001b[39m | \u001b[35m1.1400442\u001b[39m | \u001b[35m5.3771059\u001b[39m |\n",
      "| \u001b[39m57       \u001b[39m | \u001b[39m-9348.277\u001b[39m | \u001b[39m39.198756\u001b[39m | \u001b[39m2.1377028\u001b[39m | \u001b[39m3.8562616\u001b[39m |\n",
      "| \u001b[39m58       \u001b[39m | \u001b[39m-9348.277\u001b[39m | \u001b[39m63.282817\u001b[39m | \u001b[39m2.1594904\u001b[39m | \u001b[39m4.4212705\u001b[39m |\n",
      "| \u001b[39m59       \u001b[39m | \u001b[39m-9348.277\u001b[39m | \u001b[39m35.709737\u001b[39m | \u001b[39m2.4906688\u001b[39m | \u001b[39m7.0230960\u001b[39m |\n",
      "| \u001b[39m60       \u001b[39m | \u001b[39m-7004.424\u001b[39m | \u001b[39m17.689932\u001b[39m | \u001b[39m1.1326696\u001b[39m | \u001b[39m4.3307577\u001b[39m |\n",
      "| \u001b[39m61       \u001b[39m | \u001b[39m-7004.424\u001b[39m | \u001b[39m40.672202\u001b[39m | \u001b[39m1.4203480\u001b[39m | \u001b[39m7.7747999\u001b[39m |\n",
      "| \u001b[39m62       \u001b[39m | \u001b[39m-4105.638\u001b[39m | \u001b[39m5.1917983\u001b[39m | \u001b[39m1.5206301\u001b[39m | \u001b[39m8.2427910\u001b[39m |\n",
      "| \u001b[39m63       \u001b[39m | \u001b[39m-7798.954\u001b[39m | \u001b[39m13.186359\u001b[39m | \u001b[39m2.2789217\u001b[39m | \u001b[39m5.7220327\u001b[39m |\n",
      "| \u001b[39m64       \u001b[39m | \u001b[39m-11971.57\u001b[39m | \u001b[39m59.262902\u001b[39m | \u001b[39m1.5265935\u001b[39m | \u001b[39m1.5936498\u001b[39m |\n",
      "| \u001b[39m65       \u001b[39m | \u001b[39m-3760.095\u001b[39m | \u001b[39m3.9635208\u001b[39m | \u001b[39m1.0      \u001b[39m | \u001b[39m6.0818657\u001b[39m |\n",
      "| \u001b[35m66       \u001b[39m | \u001b[35m-3150.915\u001b[39m | \u001b[35m2.5428728\u001b[39m | \u001b[35m2.8742273\u001b[39m | \u001b[35m3.9570575\u001b[39m |\n",
      "| \u001b[35m67       \u001b[39m | \u001b[35m-2813.105\u001b[39m | \u001b[35m2.0299852\u001b[39m | \u001b[35m3.0      \u001b[39m | \u001b[35m6.6894695\u001b[39m |\n",
      "| \u001b[39m68       \u001b[39m | \u001b[39m-3222.768\u001b[39m | \u001b[39m1.0      \u001b[39m | \u001b[39m1.3463954\u001b[39m | \u001b[39m7.8571233\u001b[39m |\n",
      "| \u001b[35m69       \u001b[39m | \u001b[35m-2770.056\u001b[39m | \u001b[35m1.2456061\u001b[39m | \u001b[35m3.0      \u001b[39m | \u001b[35m9.3996953\u001b[39m |\n",
      "| \u001b[39m70       \u001b[39m | \u001b[39m-3222.768\u001b[39m | \u001b[39m1.0      \u001b[39m | \u001b[39m1.0      \u001b[39m | \u001b[39m10.0     \u001b[39m |\n",
      "| \u001b[39m71       \u001b[39m | \u001b[39m-2799.808\u001b[39m | \u001b[39m1.0      \u001b[39m | \u001b[39m3.0      \u001b[39m | \u001b[39m5.0380355\u001b[39m |\n",
      "| \u001b[39m72       \u001b[39m | \u001b[39m-3222.768\u001b[39m | \u001b[39m1.0      \u001b[39m | \u001b[39m1.1459577\u001b[39m | \u001b[39m3.3573077\u001b[39m |\n",
      "| \u001b[39m73       \u001b[39m | \u001b[39m-7004.424\u001b[39m | \u001b[39m63.907916\u001b[39m | \u001b[39m1.0      \u001b[39m | \u001b[39m10.0     \u001b[39m |\n",
      "| \u001b[39m74       \u001b[39m | \u001b[39m-3229.791\u001b[39m | \u001b[39m1.0      \u001b[39m | \u001b[39m3.0      \u001b[39m | \u001b[39m2.1211978\u001b[39m |\n",
      "| \u001b[39m75       \u001b[39m | \u001b[39m-7004.424\u001b[39m | \u001b[39m32.456723\u001b[39m | \u001b[39m1.0      \u001b[39m | \u001b[39m10.0     \u001b[39m |\n",
      "| \u001b[39m76       \u001b[39m | \u001b[39m-5303.909\u001b[39m | \u001b[39m4.1623041\u001b[39m | \u001b[39m3.0      \u001b[39m | \u001b[39m1.0959698\u001b[39m |\n",
      "| \u001b[39m77       \u001b[39m | \u001b[39m-3136.769\u001b[39m | \u001b[39m3.1467041\u001b[39m | \u001b[39m3.0      \u001b[39m | \u001b[39m10.0     \u001b[39m |\n",
      "| \u001b[39m78       \u001b[39m | \u001b[39m-8579.814\u001b[39m | \u001b[39m26.308896\u001b[39m | \u001b[39m3.0      \u001b[39m | \u001b[39m10.0     \u001b[39m |\n",
      "| \u001b[39m79       \u001b[39m | \u001b[39m-7004.424\u001b[39m | \u001b[39m60.293432\u001b[39m | \u001b[39m1.0      \u001b[39m | \u001b[39m10.0     \u001b[39m |\n",
      "| \u001b[39m80       \u001b[39m | \u001b[39m-2799.808\u001b[39m | \u001b[39m1.0      \u001b[39m | \u001b[39m3.0      \u001b[39m | \u001b[39m7.5812955\u001b[39m |\n",
      "| \u001b[39m81       \u001b[39m | \u001b[39m-7004.424\u001b[39m | \u001b[39m53.006517\u001b[39m | \u001b[39m1.0      \u001b[39m | \u001b[39m10.0     \u001b[39m |\n",
      "| \u001b[39m82       \u001b[39m | \u001b[39m-2899.051\u001b[39m | \u001b[39m2.4250021\u001b[39m | \u001b[39m3.0      \u001b[39m | \u001b[39m8.4291082\u001b[39m |\n",
      "| \u001b[39m83       \u001b[39m | \u001b[39m-7004.424\u001b[39m | \u001b[39m50.716455\u001b[39m | \u001b[39m1.0      \u001b[39m | \u001b[39m4.3376074\u001b[39m |\n",
      "| \u001b[39m84       \u001b[39m | \u001b[39m-3361.764\u001b[39m | \u001b[39m2.1329637\u001b[39m | \u001b[39m1.9291501\u001b[39m | \u001b[39m10.0     \u001b[39m |\n",
      "| \u001b[39m85       \u001b[39m | \u001b[39m-4049.250\u001b[39m | \u001b[39m5.0013297\u001b[39m | \u001b[39m1.0      \u001b[39m | \u001b[39m10.0     \u001b[39m |\n",
      "| \u001b[39m86       \u001b[39m | \u001b[39m-4291.762\u001b[39m | \u001b[39m5.8024787\u001b[39m | \u001b[39m1.0      \u001b[39m | \u001b[39m4.5268941\u001b[39m |\n",
      "| \u001b[39m87       \u001b[39m | \u001b[39m-2799.808\u001b[39m | \u001b[39m1.0      \u001b[39m | \u001b[39m3.0      \u001b[39m | \u001b[39m3.5500038\u001b[39m |\n",
      "| \u001b[39m88       \u001b[39m | \u001b[39m-7004.424\u001b[39m | \u001b[39m22.732201\u001b[39m | \u001b[39m1.0      \u001b[39m | \u001b[39m7.9842158\u001b[39m |\n",
      "| \u001b[39m89       \u001b[39m | \u001b[39m-9072.007\u001b[39m | \u001b[39m45.885474\u001b[39m | \u001b[39m3.0      \u001b[39m | \u001b[39m4.6604485\u001b[39m |\n",
      "| \u001b[39m90       \u001b[39m | \u001b[39m-3222.768\u001b[39m | \u001b[39m1.0      \u001b[39m | \u001b[39m1.8410158\u001b[39m | \u001b[39m6.0366426\u001b[39m |\n",
      "| \u001b[39m91       \u001b[39m | \u001b[39m-3912.457\u001b[39m | \u001b[39m4.7696702\u001b[39m | \u001b[39m3.0      \u001b[39m | \u001b[39m3.5972002\u001b[39m |\n",
      "| \u001b[39m92       \u001b[39m | \u001b[39m-13354.31\u001b[39m | \u001b[39m64.0     \u001b[39m | \u001b[39m3.0      \u001b[39m | \u001b[39m1.0      \u001b[39m |\n",
      "| \u001b[39m93       \u001b[39m | \u001b[39m-12637.59\u001b[39m | \u001b[39m37.873512\u001b[39m | \u001b[39m1.0      \u001b[39m | \u001b[39m1.0      \u001b[39m |\n",
      "| \u001b[39m94       \u001b[39m | \u001b[39m-3195.578\u001b[39m | \u001b[39m3.2941329\u001b[39m | \u001b[39m3.0      \u001b[39m | \u001b[39m5.4461219\u001b[39m |\n",
      "| \u001b[39m95       \u001b[39m | \u001b[39m-4166.382\u001b[39m | \u001b[39m5.2242281\u001b[39m | \u001b[39m3.0      \u001b[39m | \u001b[39m10.0     \u001b[39m |\n"
     ]
    },
    {
     "name": "stderr",
     "output_type": "stream",
     "text": [
      "Fitting models...: 100%|██████████████████████████| 1/1 [00:52<00:00, 52.12s/it]"
     ]
    },
    {
     "name": "stdout",
     "output_type": "stream",
     "text": [
      "| \u001b[39m96       \u001b[39m | \u001b[39m-7004.424\u001b[39m | \u001b[39m52.096514\u001b[39m | \u001b[39m1.0      \u001b[39m | \u001b[39m6.9957644\u001b[39m |\n",
      "=============================================================\n",
      "Optimal parameters for 2 players and threshold 0.5:\n",
      "{'inverse_temperature': np.float64(1.2456061656136663), 'len_history': np.float64(3.0), 'max_regions': np.float64(9.399695388695413)}\n",
      "Deviance: -2770.05621258761\n",
      "AIC: 5546.11242517522\n",
      "--------------------------------------------------\n"
     ]
    },
    {
     "name": "stderr",
     "output_type": "stream",
     "text": [
      "\n"
     ]
    }
   ],
   "source": [
    "hyperparameters = {\n",
    "    'n_iter': 32,\n",
    "    'init_points': 64,\n",
    "}\n",
    "\n",
    "ParameterFit.run(\n",
    "    data=data,\n",
    "    model_list=my_models,\n",
    "    best_fit_path=best_fit_file_2P,\n",
    "    optimizer_type='bayesian',\n",
    "    hyperparameters=hyperparameters,\n",
    "    new_file=False\n",
    ")"
   ]
  },
  {
   "cell_type": "markdown",
   "metadata": {},
   "source": []
  }
 ],
 "metadata": {
  "kernelspec": {
   "display_name": "Python 3 (ipykernel)",
   "language": "python",
   "name": "python3"
  },
  "language_info": {
   "codemirror_mode": {
    "name": "ipython",
    "version": 3
   },
   "file_extension": ".py",
   "mimetype": "text/x-python",
   "name": "python",
   "nbconvert_exporter": "python",
   "pygments_lexer": "ipython3",
   "version": "3.13.3"
  }
 },
 "nbformat": 4,
 "nbformat_minor": 2
}
