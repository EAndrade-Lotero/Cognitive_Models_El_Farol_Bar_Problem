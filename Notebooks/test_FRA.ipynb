{
 "cells": [
  {
   "cell_type": "code",
   "execution_count": 1,
   "metadata": {},
   "outputs": [],
   "source": [
    "import numpy as np\n",
    "import pandas as pd\n",
    "\n",
    "from pathlib import Path\n",
    "\n",
    "import sys\n",
    "\n",
    "sys.path.append('../src')\n",
    "\n",
    "import warnings\n",
    "warnings.filterwarnings(\"ignore\")"
   ]
  },
  {
   "cell_type": "markdown",
   "metadata": {},
   "source": [
    "### Test focal region similarity"
   ]
  },
  {
   "cell_type": "code",
   "execution_count": 27,
   "metadata": {},
   "outputs": [],
   "source": [
    "from Classes.focal_regions import FocalRegion"
   ]
  },
  {
   "cell_type": "code",
   "execution_count": null,
   "metadata": {},
   "outputs": [],
   "source": [
    "region = np.array([[1, 0, 1], [1, 1, 0], [0, 1, 1]])\n",
    "fra = FocalRegion(region)\n",
    "fra.debug = True\n",
    "\n",
    "# history = np.array([[1, 0], [0, 1], [0, 1]])\n",
    "history = np.array([[0], [1], [1]])\n",
    "print('History:\\n', history)\n",
    "print('-'*60)\n",
    "scores = fra.get_similarity_scores(history)\n",
    "print('Scores:\\n', scores)\n",
    "print('-'*60)"
   ]
  },
  {
   "cell_type": "code",
   "execution_count": null,
   "metadata": {},
   "outputs": [],
   "source": [
    "file_name = Path('..', 'LaTeX', 'FRA_region_1.png')\n",
    "FocalRegion.draw_region(region, file=file_name)"
   ]
  },
  {
   "cell_type": "code",
   "execution_count": null,
   "metadata": {},
   "outputs": [],
   "source": [
    "file_name = Path('..', 'LaTeX', 'history_2.png')\n",
    "FocalRegion.draw_region(history, file=file_name)"
   ]
  },
  {
   "cell_type": "markdown",
   "metadata": {},
   "source": [
    "### Test Focal Regions"
   ]
  },
  {
   "cell_type": "code",
   "execution_count": 2,
   "metadata": {},
   "outputs": [],
   "source": [
    "from Classes.focal_regions import SetFocalRegions"
   ]
  },
  {
   "cell_type": "code",
   "execution_count": 3,
   "metadata": {},
   "outputs": [
    {
     "name": "stdout",
     "output_type": "stream",
     "text": [
      "------------------------------------------------------------\n",
      "[[1. 1. 1.]\n",
      " [0. 0. 0.]\n",
      " [1. 1. 1.]]\n",
      "------------------------------------------------------------------------------------------------------------------------\n",
      "[[0. 1. 1.]\n",
      " [1. 0. 1.]\n",
      " [1. 1. 0.]]\n",
      "------------------------------------------------------------------------------------------------------------------------\n",
      "[[1. 1. 1.]\n",
      " [1. 1. 1.]\n",
      " [0. 0. 0.]]\n",
      "------------------------------------------------------------------------------------------------------------------------\n",
      "[[0. 0. 0.]\n",
      " [1. 1. 1.]\n",
      " [1. 1. 1.]]\n",
      "------------------------------------------------------------------------------------------------------------------------\n",
      "[[0. 1. 1.]\n",
      " [1. 1. 0.]\n",
      " [1. 0. 1.]]\n",
      "------------------------------------------------------------\n"
     ]
    }
   ],
   "source": [
    "sfr = SetFocalRegions(\n",
    "    num_agents=3,\n",
    "    threshold=0.7,\n",
    "    len_history=2,\n",
    "    max_regions=10,\n",
    "    seed=1\n",
    ")\n",
    "sfr.generate_focal_regions()\n",
    "print(sfr)"
   ]
  },
  {
   "cell_type": "markdown",
   "metadata": {},
   "source": [
    "### Test FRA agents"
   ]
  },
  {
   "cell_type": "code",
   "execution_count": 5,
   "metadata": {},
   "outputs": [],
   "source": [
    "from Classes.bar import Bar\n",
    "from Utils.interaction import Episode\n",
    "from Classes.cognitive_model_agents import FocalRegionAgent"
   ]
  },
  {
   "cell_type": "code",
   "execution_count": 6,
   "metadata": {},
   "outputs": [],
   "source": [
    "free_parameters = {\n",
    "    'inverse_temperature': 10,\n",
    "    'len_history': 2,\n",
    "    'max_regions': 5\n",
    "}\n",
    "fixed_parameters = {\n",
    "    'num_agents': 7,\n",
    "    'threshold': 0.7,\n",
    "}\n",
    "n = 1"
   ]
  },
  {
   "cell_type": "code",
   "execution_count": 7,
   "metadata": {},
   "outputs": [],
   "source": [
    "# Create the environment\n",
    "bar = Bar(\n",
    "    num_agents=fixed_parameters['num_agents'],\n",
    "    threshold=fixed_parameters['threshold']\n",
    ")\n",
    "# Create the agents\n",
    "agents = [FocalRegionAgent(free_parameters, fixed_parameters, n) for n in range(fixed_parameters['num_agents'])]\n",
    "# Create the episode\n",
    "episode = Episode(\n",
    "    model='FRA',\n",
    "    agents=agents,\n",
    "    environment=bar,\n",
    "    num_rounds=20\n",
    ")"
   ]
  },
  {
   "cell_type": "code",
   "execution_count": 8,
   "metadata": {},
   "outputs": [
    {
     "name": "stdout",
     "output_type": "stream",
     "text": [
      "Focal regions:\n",
      "------------------------------------------------------------\n",
      "[[0. 1. 1. 0. 0. 1. 1.]\n",
      " [0. 1. 0. 1. 0. 1. 1.]\n",
      " [0. 0. 0. 1. 1. 1. 1.]\n",
      " [1. 0. 0. 1. 1. 1. 0.]\n",
      " [1. 0. 1. 1. 1. 0. 0.]\n",
      " [1. 1. 1. 0. 1. 0. 0.]\n",
      " [1. 1. 1. 0. 0. 0. 1.]]\n",
      "------------------------------------------------------------------------------------------------------------------------\n",
      "[[0. 1. 1. 1. 0. 0. 1.]\n",
      " [0. 1. 1. 0. 0. 1. 1.]\n",
      " [0. 1. 0. 0. 1. 1. 1.]\n",
      " [1. 1. 0. 0. 1. 1. 0.]\n",
      " [1. 0. 0. 1. 1. 1. 0.]\n",
      " [1. 0. 1. 1. 1. 0. 0.]\n",
      " [1. 0. 1. 1. 0. 0. 1.]]\n",
      "------------------------------------------------------------------------------------------------------------------------\n",
      "[[0. 1. 0. 1. 0. 1. 1.]\n",
      " [0. 1. 0. 1. 1. 1. 0.]\n",
      " [0. 0. 1. 1. 1. 1. 0.]\n",
      " [1. 0. 1. 0. 1. 1. 0.]\n",
      " [1. 0. 1. 0. 1. 0. 1.]\n",
      " [1. 1. 1. 0. 0. 0. 1.]\n",
      " [1. 1. 0. 1. 0. 0. 1.]]\n",
      "------------------------------------------------------------------------------------------------------------------------\n",
      "[[0. 0. 1. 1. 0. 1. 1.]\n",
      " [0. 0. 1. 0. 1. 1. 1.]\n",
      " [0. 1. 1. 0. 1. 0. 1.]\n",
      " [1. 1. 0. 0. 1. 0. 1.]\n",
      " [1. 1. 0. 1. 1. 0. 0.]\n",
      " [1. 1. 0. 1. 0. 1. 0.]\n",
      " [1. 0. 1. 1. 0. 1. 0.]]\n",
      "------------------------------------------------------------------------------------------------------------------------\n",
      "[[0. 1. 1. 1. 0. 0. 1.]\n",
      " [0. 1. 1. 1. 1. 0. 0.]\n",
      " [0. 1. 0. 1. 1. 1. 0.]\n",
      " [1. 1. 0. 0. 1. 1. 0.]\n",
      " [1. 0. 0. 0. 1. 1. 1.]\n",
      " [1. 0. 1. 0. 0. 1. 1.]\n",
      " [1. 0. 1. 1. 0. 0. 1.]]\n",
      "------------------------------------------------------------\n"
     ]
    }
   ],
   "source": [
    "print('Focal regions:')\n",
    "print(episode.agents[0].sfr)"
   ]
  },
  {
   "cell_type": "code",
   "execution_count": 9,
   "metadata": {},
   "outputs": [],
   "source": [
    "# episode.agents[0].debug = True\n",
    "# episode.agents[1].debug = True\n",
    "episode.run()"
   ]
  },
  {
   "cell_type": "code",
   "execution_count": 10,
   "metadata": {},
   "outputs": [
    {
     "data": {
      "text/plain": [
       "<Axes: >"
      ]
     },
     "execution_count": 10,
     "metadata": {},
     "output_type": "execute_result"
    },
    {
     "data": {
      "image/png": "[encoded data removed]",
      "text/plain": [
       "<Figure size 750x700 with 1 Axes>"
      ]
     },
     "metadata": {},
     "output_type": "display_data"
    }
   ],
   "source": [
    "bar.render()"
   ]
  },
  {
   "cell_type": "markdown",
   "metadata": {},
   "source": [
    "# Test parameter fit"
   ]
  },
  {
   "cell_type": "code",
   "execution_count": 17,
   "metadata": {},
   "outputs": [],
   "source": [
    "from Classes.parameter_recovery import ParameterFit\n",
    "from Classes.cognitive_model_agents import Titan"
   ]
  },
  {
   "cell_type": "code",
   "execution_count": 16,
   "metadata": {},
   "outputs": [],
   "source": [
    "# Create paths for data and results\n",
    "data_folder = Path('..', 'data', 'human')\n",
    "folder_2P = Path('..', 'reports', 'MLE')\n",
    "folder_2P.mkdir(parents=True, exist_ok=True)\n",
    "\n",
    "file_name = f'best_fit_2P_3.json'\n",
    "best_fit_file_2P = Path(folder_2P, file_name)"
   ]
  },
  {
   "cell_type": "code",
   "execution_count": 18,
   "metadata": {},
   "outputs": [
    {
     "name": "stdout",
     "output_type": "stream",
     "text": [
      "Loading data from ../data/human/2-player-UR.csv...\n"
     ]
    },
    {
     "data": {
      "text/html": [
       "<div>\n",
       "<style scoped>\n",
       "    .dataframe tbody tr th:only-of-type {\n",
       "        vertical-align: middle;\n",
       "    }\n",
       "\n",
       "    .dataframe tbody tr th {\n",
       "        vertical-align: top;\n",
       "    }\n",
       "\n",
       "    .dataframe thead th {\n",
       "        text-align: right;\n",
       "    }\n",
       "</style>\n",
       "<table border=\"1\" class=\"dataframe\">\n",
       "  <thead>\n",
       "    <tr style=\"text-align: right;\">\n",
       "      <th></th>\n",
       "      <th>source</th>\n",
       "      <th>treatment</th>\n",
       "      <th>group</th>\n",
       "      <th>round</th>\n",
       "      <th>player</th>\n",
       "      <th>choice</th>\n",
       "      <th>score</th>\n",
       "      <th>attendance</th>\n",
       "      <th>ac_score</th>\n",
       "      <th>threshold</th>\n",
       "      <th>num_players</th>\n",
       "      <th>room</th>\n",
       "      <th>decision</th>\n",
       "    </tr>\n",
       "  </thead>\n",
       "  <tbody>\n",
       "    <tr>\n",
       "      <th>0</th>\n",
       "      <td>human</td>\n",
       "      <td>score + grid</td>\n",
       "      <td>Grupo-0001</td>\n",
       "      <td>1</td>\n",
       "      <td>405186428721292</td>\n",
       "      <td>0</td>\n",
       "      <td>0</td>\n",
       "      <td>1</td>\n",
       "      <td>25</td>\n",
       "      <td>0.5</td>\n",
       "      <td>2</td>\n",
       "      <td>Grupo-0001</td>\n",
       "      <td>0</td>\n",
       "    </tr>\n",
       "    <tr>\n",
       "      <th>1</th>\n",
       "      <td>human</td>\n",
       "      <td>score + grid</td>\n",
       "      <td>Grupo-0001</td>\n",
       "      <td>1</td>\n",
       "      <td>728608683559397</td>\n",
       "      <td>1</td>\n",
       "      <td>1</td>\n",
       "      <td>1</td>\n",
       "      <td>25</td>\n",
       "      <td>0.5</td>\n",
       "      <td>2</td>\n",
       "      <td>Grupo-0001</td>\n",
       "      <td>1</td>\n",
       "    </tr>\n",
       "  </tbody>\n",
       "</table>\n",
       "</div>"
      ],
      "text/plain": [
       "  source     treatment       group  round           player  choice  score  \\\n",
       "0  human  score + grid  Grupo-0001      1  405186428721292       0      0   \n",
       "1  human  score + grid  Grupo-0001      1  728608683559397       1      1   \n",
       "\n",
       "   attendance  ac_score  threshold  num_players        room  decision  \n",
       "0           1        25        0.5            2  Grupo-0001         0  \n",
       "1           1        25        0.5            2  Grupo-0001         1  "
      ]
     },
     "execution_count": 18,
     "metadata": {},
     "output_type": "execute_result"
    }
   ],
   "source": [
    "#Load 2P data\n",
    "\n",
    "file_name = '2-player-UR.csv'\n",
    "file = data_folder / Path(file_name)\n",
    "print(f'Loading data from {file}...')\n",
    "data = pd.read_csv(file)\n",
    "data.head(2)"
   ]
  },
  {
   "cell_type": "code",
   "execution_count": 19,
   "metadata": {},
   "outputs": [
    {
     "name": "stderr",
     "output_type": "stream",
     "text": [
      "Fitting models...:   0%|                                  | 0/1 [00:00<?, ?it/s]"
     ]
    },
    {
     "name": "stdout",
     "output_type": "stream",
     "text": [
      "Fitting data to model FRA+Payoff+Attendance...\n",
      "Creating parameter recovery class...\n",
      "Running optimizer...\n",
      "Finding deviance for 2 players and threshold 0.5...\n"
     ]
    },
    {
     "name": "stderr",
     "output_type": "stream",
     "text": [
      "Fitting models...: 100%|██████████████████████████| 1/1 [01:29<00:00, 89.04s/it]"
     ]
    },
    {
     "name": "stdout",
     "output_type": "stream",
     "text": [
      "Optimal parameters for 2 players and threshold 0.5:\n",
      "{'inverse_temperature': np.float64(6.395882345829693), 'bias': np.float64(0.7482822357561224), 'learning_rate': np.float64(0.2026014149443162), 'len_history': np.float64(1.55113965413542), 'max_regions': np.float64(2.1288555518982184), 'delta': np.float64(0.045007794968442545)}\n",
      "Deviance: -2243.4695936700286\n",
      "AIC: 4498.939187340057\n",
      "--------------------------------------------------\n"
     ]
    },
    {
     "name": "stderr",
     "output_type": "stream",
     "text": [
      "\n"
     ]
    }
   ],
   "source": [
    "# check_out_these = ['Attendance-M2', 'MFP-M2', 'Payoff-M2']\n",
    "# my_models = [FocalRegionAgent]\n",
    "my_models = [Titan]\n",
    "\n",
    "ParameterFit.run(\n",
    "    data=data,\n",
    "    model_list=my_models,\n",
    "    best_fit_path=best_fit_file_2P,\n",
    "    optimizer_type='scipy',\n",
    "    hyperparameters={},\n",
    "    new_file=False\n",
    ")"
   ]
  },
  {
   "cell_type": "code",
   "execution_count": null,
   "metadata": {},
   "outputs": [
    {
     "name": "stderr",
     "output_type": "stream",
     "text": [
      "Fitting models...:   0%|                                  | 0/1 [00:00<?, ?it/s]"
     ]
    },
    {
     "name": "stdout",
     "output_type": "stream",
     "text": [
      "Fitting data to model FRA+Payoff+Attendance...\n",
      "Creating parameter recovery class...\n",
      "Running optimizer...\n",
      "Finding deviance for 2 players and threshold 0.5...\n",
      "|   iter    |  target   | invers... |   bias    | learni... | len_hi... | max_re... |   delta   |\n",
      "-------------------------------------------------------------------------------------------------\n",
      "| \u001b[39m1        \u001b[39m | \u001b[39m-3144.443\u001b[39m | \u001b[39m27.272386\u001b[39m | \u001b[39m0.7203244\u001b[39m | \u001b[39m0.0001143\u001b[39m | \u001b[39m1.3023325\u001b[39m | \u001b[39m2.3208030\u001b[39m | \u001b[39m0.0092338\u001b[39m |\n",
      "| \u001b[39m2        \u001b[39m | \u001b[39m-4445.302\u001b[39m | \u001b[39m12.734393\u001b[39m | \u001b[39m0.3455607\u001b[39m | \u001b[39m0.3967674\u001b[39m | \u001b[39m1.5388167\u001b[39m | \u001b[39m4.7727506\u001b[39m | \u001b[39m0.0685219\u001b[39m |\n",
      "| \u001b[35m3        \u001b[39m | \u001b[35m-2386.740\u001b[39m | \u001b[35m13.880491\u001b[39m | \u001b[35m0.8781174\u001b[39m | \u001b[35m0.0273875\u001b[39m | \u001b[35m1.6704675\u001b[39m | \u001b[35m4.7557432\u001b[39m | \u001b[35m0.0558689\u001b[39m |\n",
      "| \u001b[39m4        \u001b[39m | \u001b[39m-6961.277\u001b[39m | \u001b[39m9.8443771\u001b[39m | \u001b[39m0.1981014\u001b[39m | \u001b[39m0.8007445\u001b[39m | \u001b[39m1.9682615\u001b[39m | \u001b[39m3.8208176\u001b[39m | \u001b[39m0.0692322\u001b[39m |\n",
      "| \u001b[39m5        \u001b[39m | \u001b[39m-4770.002\u001b[39m | \u001b[39m56.212516\u001b[39m | \u001b[39m0.8946066\u001b[39m | \u001b[39m0.0850442\u001b[39m | \u001b[39m1.0390547\u001b[39m | \u001b[39m2.5284737\u001b[39m | \u001b[39m0.0878142\u001b[39m |\n",
      "| \u001b[39m6        \u001b[39m | \u001b[39m-4447.359\u001b[39m | \u001b[39m7.1958505\u001b[39m | \u001b[39m0.4211076\u001b[39m | \u001b[39m0.9578895\u001b[39m | \u001b[39m1.5331652\u001b[39m | \u001b[39m7.2268940\u001b[39m | \u001b[39m0.0315515\u001b[39m |\n",
      "| \u001b[39m7        \u001b[39m | \u001b[39m-2648.073\u001b[39m | \u001b[39m44.249558\u001b[39m | \u001b[39m0.8346256\u001b[39m | \u001b[39m0.0182882\u001b[39m | \u001b[39m1.7501443\u001b[39m | \u001b[39m9.8997498\u001b[39m | \u001b[39m0.0748165\u001b[39m |\n",
      "| \u001b[39m8        \u001b[39m | \u001b[39m-2598.139\u001b[39m | \u001b[39m18.667971\u001b[39m | \u001b[39m0.7892793\u001b[39m | \u001b[39m0.1032260\u001b[39m | \u001b[39m1.4478935\u001b[39m | \u001b[39m9.1773595\u001b[39m | \u001b[39m0.0293614\u001b[39m |\n",
      "| \u001b[39m9        \u001b[39m | \u001b[39m-2666.106\u001b[39m | \u001b[39m19.129846\u001b[39m | \u001b[39m0.1300285\u001b[39m | \u001b[39m0.0193669\u001b[39m | \u001b[39m1.6788355\u001b[39m | \u001b[39m2.9046530\u001b[39m | \u001b[39m0.0265546\u001b[39m |\n",
      "| \u001b[39m10       \u001b[39m | \u001b[39m-8141.684\u001b[39m | \u001b[39m31.969109\u001b[39m | \u001b[39m0.0533625\u001b[39m | \u001b[39m0.5741176\u001b[39m | \u001b[39m1.1467285\u001b[39m | \u001b[39m6.3037498\u001b[39m | \u001b[39m0.0699758\u001b[39m |\n",
      "| \u001b[39m11       \u001b[39m | \u001b[39m-4916.570\u001b[39m | \u001b[39m34.761473\u001b[39m | \u001b[39m0.9943096\u001b[39m | \u001b[39m0.3472322\u001b[39m | \u001b[39m1.2014396\u001b[39m | \u001b[39m6.5517429\u001b[39m | \u001b[39m0.0430284\u001b[39m |\n",
      "| \u001b[39m12       \u001b[39m | \u001b[39m-3201.936\u001b[39m | \u001b[39m16.144080\u001b[39m | \u001b[39m0.8240314\u001b[39m | \u001b[39m0.0      \u001b[39m | \u001b[39m1.6891456\u001b[39m | \u001b[39m4.4964935\u001b[39m | \u001b[39m0.0417067\u001b[39m |\n",
      "| \u001b[39m13       \u001b[39m | \u001b[39m-3200.031\u001b[39m | \u001b[39m15.020878\u001b[39m | \u001b[39m1.0      \u001b[39m | \u001b[39m0.0      \u001b[39m | \u001b[39m1.7409580\u001b[39m | \u001b[39m7.0684107\u001b[39m | \u001b[39m0.0421820\u001b[39m |\n",
      "| \u001b[39m14       \u001b[39m | \u001b[39m-2843.305\u001b[39m | \u001b[39m19.733794\u001b[39m | \u001b[39m0.2823129\u001b[39m | \u001b[39m0.0557875\u001b[39m | \u001b[39m1.5229024\u001b[39m | \u001b[39m6.2606834\u001b[39m | \u001b[39m0.0243575\u001b[39m |\n",
      "| \u001b[39m15       \u001b[39m | \u001b[39m-2753.049\u001b[39m | \u001b[39m22.334742\u001b[39m | \u001b[39m0.4509873\u001b[39m | \u001b[39m0.0056234\u001b[39m | \u001b[39m1.4945187\u001b[39m | \u001b[39m3.4219527\u001b[39m | \u001b[39m0.0181877\u001b[39m |\n",
      "| \u001b[39m16       \u001b[39m | \u001b[39m-3188.477\u001b[39m | \u001b[39m21.982594\u001b[39m | \u001b[39m1.0      \u001b[39m | \u001b[39m0.0      \u001b[39m | \u001b[39m1.0      \u001b[39m | \u001b[39m8.9244889\u001b[39m | \u001b[39m0.0      \u001b[39m |\n",
      "| \u001b[39m17       \u001b[39m | \u001b[39m-3188.477\u001b[39m | \u001b[39m41.961927\u001b[39m | \u001b[39m1.0      \u001b[39m | \u001b[39m0.0      \u001b[39m | \u001b[39m1.3891722\u001b[39m | \u001b[39m7.5072303\u001b[39m | \u001b[39m0.0      \u001b[39m |\n",
      "| \u001b[39m18       \u001b[39m | \u001b[39m-8555.344\u001b[39m | \u001b[39m46.003368\u001b[39m | \u001b[39m0.0      \u001b[39m | \u001b[39m1.0      \u001b[39m | \u001b[39m2.0      \u001b[39m | \u001b[39m7.3251339\u001b[39m | \u001b[39m0.1      \u001b[39m |\n",
      "| \u001b[39m19       \u001b[39m | \u001b[39m-4234.700\u001b[39m | \u001b[39m41.633887\u001b[39m | \u001b[39m1.0      \u001b[39m | \u001b[39m0.0      \u001b[39m | \u001b[39m2.0      \u001b[39m | \u001b[39m10.0     \u001b[39m | \u001b[39m0.1      \u001b[39m |\n",
      "| \u001b[39m20       \u001b[39m | \u001b[39m-4457.205\u001b[39m | \u001b[39m22.271378\u001b[39m | \u001b[39m1.0      \u001b[39m | \u001b[39m1.0      \u001b[39m | \u001b[39m2.0      \u001b[39m | \u001b[39m5.8887606\u001b[39m | \u001b[39m0.1      \u001b[39m |\n",
      "| \u001b[39m21       \u001b[39m | \u001b[39m-3188.477\u001b[39m | \u001b[39m21.093389\u001b[39m | \u001b[39m0.0      \u001b[39m | \u001b[39m0.0      \u001b[39m | \u001b[39m1.0      \u001b[39m | \u001b[39m1.3041382\u001b[39m | \u001b[39m0.0      \u001b[39m |\n",
      "| \u001b[39m22       \u001b[39m | \u001b[39m-8285.519\u001b[39m | \u001b[39m17.659139\u001b[39m | \u001b[39m0.0      \u001b[39m | \u001b[39m1.0      \u001b[39m | \u001b[39m2.0      \u001b[39m | \u001b[39m7.3620757\u001b[39m | \u001b[39m0.1      \u001b[39m |\n",
      "| \u001b[39m23       \u001b[39m | \u001b[39m-7634.259\u001b[39m | \u001b[39m49.114704\u001b[39m | \u001b[39m0.2226585\u001b[39m | \u001b[39m0.4829668\u001b[39m | \u001b[39m1.1535004\u001b[39m | \u001b[39m4.1538768\u001b[39m | \u001b[39m0.0590270\u001b[39m |\n",
      "| \u001b[39m24       \u001b[39m | \u001b[39m-5307.242\u001b[39m | \u001b[39m52.549785\u001b[39m | \u001b[39m0.9325687\u001b[39m | \u001b[39m0.4037509\u001b[39m | \u001b[39m1.9765267\u001b[39m | \u001b[39m7.7941278\u001b[39m | \u001b[39m0.0370674\u001b[39m |\n",
      "| \u001b[39m25       \u001b[39m | \u001b[39m-2465.132\u001b[39m | \u001b[39m14.506485\u001b[39m | \u001b[39m0.8656475\u001b[39m | \u001b[39m0.0192075\u001b[39m | \u001b[39m1.6765154\u001b[39m | \u001b[39m4.7136223\u001b[39m | \u001b[39m0.0518662\u001b[39m |\n",
      "| \u001b[39m26       \u001b[39m | \u001b[39m-3188.477\u001b[39m | \u001b[39m20.460806\u001b[39m | \u001b[39m0.0      \u001b[39m | \u001b[39m0.0      \u001b[39m | \u001b[39m1.0      \u001b[39m | \u001b[39m4.2688929\u001b[39m | \u001b[39m0.0      \u001b[39m |\n",
      "| \u001b[39m27       \u001b[39m | \u001b[39m-3188.477\u001b[39m | \u001b[39m20.061386\u001b[39m | \u001b[39m1.0      \u001b[39m | \u001b[39m0.0      \u001b[39m | \u001b[39m1.0      \u001b[39m | \u001b[39m10.0     \u001b[39m | \u001b[39m0.0      \u001b[39m |\n",
      "| \u001b[39m28       \u001b[39m | \u001b[39m-3188.477\u001b[39m | \u001b[39m24.342371\u001b[39m | \u001b[39m0.3749354\u001b[39m | \u001b[39m0.0      \u001b[39m | \u001b[39m1.2160597\u001b[39m | \u001b[39m1.9817032\u001b[39m | \u001b[39m0.0      \u001b[39m |\n",
      "| \u001b[39m29       \u001b[39m | \u001b[39m-3188.477\u001b[39m | \u001b[39m17.144767\u001b[39m | \u001b[39m1.0      \u001b[39m | \u001b[39m0.0      \u001b[39m | \u001b[39m1.0      \u001b[39m | \u001b[39m1.8807158\u001b[39m | \u001b[39m0.0      \u001b[39m |\n",
      "| \u001b[39m30       \u001b[39m | \u001b[39m-3188.477\u001b[39m | \u001b[39m14.525465\u001b[39m | \u001b[39m1.0      \u001b[39m | \u001b[39m0.0      \u001b[39m | \u001b[39m2.0      \u001b[39m | \u001b[39m2.4183541\u001b[39m | \u001b[39m0.0      \u001b[39m |\n",
      "| \u001b[39m31       \u001b[39m | \u001b[39m-3188.477\u001b[39m | \u001b[39m25.409591\u001b[39m | \u001b[39m0.0      \u001b[39m | \u001b[39m0.0      \u001b[39m | \u001b[39m1.0      \u001b[39m | \u001b[39m4.4602559\u001b[39m | \u001b[39m0.0      \u001b[39m |\n",
      "| \u001b[39m32       \u001b[39m | \u001b[39m-3188.477\u001b[39m | \u001b[39m13.001827\u001b[39m | \u001b[39m1.0      \u001b[39m | \u001b[39m0.0      \u001b[39m | \u001b[39m1.0      \u001b[39m | \u001b[39m8.7682238\u001b[39m | \u001b[39m0.0      \u001b[39m |\n",
      "| \u001b[39m33       \u001b[39m | \u001b[39m-3188.477\u001b[39m | \u001b[39m39.940482\u001b[39m | \u001b[39m1.0      \u001b[39m | \u001b[39m0.0      \u001b[39m | \u001b[39m1.0      \u001b[39m | \u001b[39m5.3256595\u001b[39m | \u001b[39m0.0      \u001b[39m |\n",
      "| \u001b[39m34       \u001b[39m | \u001b[39m-3188.477\u001b[39m | \u001b[39m40.525853\u001b[39m | \u001b[39m1.0      \u001b[39m | \u001b[39m0.0      \u001b[39m | \u001b[39m2.0      \u001b[39m | \u001b[39m2.4078760\u001b[39m | \u001b[39m0.0      \u001b[39m |\n",
      "| \u001b[39m35       \u001b[39m | \u001b[39m-8517.062\u001b[39m | \u001b[39m38.247951\u001b[39m | \u001b[39m0.0      \u001b[39m | \u001b[39m1.0      \u001b[39m | \u001b[39m1.0      \u001b[39m | \u001b[39m2.9294603\u001b[39m | \u001b[39m0.1      \u001b[39m |\n",
      "| \u001b[39m36       \u001b[39m | \u001b[39m-3188.477\u001b[39m | \u001b[39m42.084491\u001b[39m | \u001b[39m1.0      \u001b[39m | \u001b[39m0.0      \u001b[39m | \u001b[39m2.0      \u001b[39m | \u001b[39m4.3530705\u001b[39m | \u001b[39m0.0      \u001b[39m |\n",
      "| \u001b[39m37       \u001b[39m | \u001b[39m-3188.477\u001b[39m | \u001b[39m42.792970\u001b[39m | \u001b[39m1.0      \u001b[39m | \u001b[39m0.0      \u001b[39m | \u001b[39m2.0      \u001b[39m | \u001b[39m1.2369899\u001b[39m | \u001b[39m0.0      \u001b[39m |\n",
      "| \u001b[39m38       \u001b[39m | \u001b[39m-8310.197\u001b[39m | \u001b[39m18.762486\u001b[39m | \u001b[39m0.0      \u001b[39m | \u001b[39m1.0      \u001b[39m | \u001b[39m2.0      \u001b[39m | \u001b[39m1.0      \u001b[39m | \u001b[39m0.1      \u001b[39m |\n",
      "| \u001b[39m39       \u001b[39m | \u001b[39m-3188.477\u001b[39m | \u001b[39m18.490994\u001b[39m | \u001b[39m1.0      \u001b[39m | \u001b[39m0.0      \u001b[39m | \u001b[39m1.0      \u001b[39m | \u001b[39m4.0268420\u001b[39m | \u001b[39m0.0      \u001b[39m |\n",
      "| \u001b[39m40       \u001b[39m | \u001b[39m-3188.477\u001b[39m | \u001b[39m20.203871\u001b[39m | \u001b[39m1.0      \u001b[39m | \u001b[39m0.0      \u001b[39m | \u001b[39m1.0      \u001b[39m | \u001b[39m7.9154280\u001b[39m | \u001b[39m0.0      \u001b[39m |\n",
      "| \u001b[39m41       \u001b[39m | \u001b[39m-5009.193\u001b[39m | \u001b[39m22.525379\u001b[39m | \u001b[39m1.0      \u001b[39m | \u001b[39m1.0      \u001b[39m | \u001b[39m1.0      \u001b[39m | \u001b[39m1.9124412\u001b[39m | \u001b[39m0.0      \u001b[39m |\n",
      "| \u001b[39m42       \u001b[39m | \u001b[39m-8441.306\u001b[39m | \u001b[39m25.782834\u001b[39m | \u001b[39m0.0      \u001b[39m | \u001b[39m1.0      \u001b[39m | \u001b[39m2.0      \u001b[39m | \u001b[39m2.8930293\u001b[39m | \u001b[39m0.1      \u001b[39m |\n",
      "| \u001b[39m43       \u001b[39m | \u001b[39m-3188.477\u001b[39m | \u001b[39m20.728491\u001b[39m | \u001b[39m0.3884513\u001b[39m | \u001b[39m0.0      \u001b[39m | \u001b[39m1.7433705\u001b[39m | \u001b[39m2.9571333\u001b[39m | \u001b[39m0.0      \u001b[39m |\n",
      "| \u001b[39m44       \u001b[39m | \u001b[39m-2863.542\u001b[39m | \u001b[39m19.206333\u001b[39m | \u001b[39m0.0      \u001b[39m | \u001b[39m0.0      \u001b[39m | \u001b[39m2.0      \u001b[39m | \u001b[39m4.3928973\u001b[39m | \u001b[39m0.1      \u001b[39m |\n",
      "| \u001b[39m45       \u001b[39m | \u001b[39m-3188.477\u001b[39m | \u001b[39m14.042029\u001b[39m | \u001b[39m1.0      \u001b[39m | \u001b[39m0.0      \u001b[39m | \u001b[39m1.0      \u001b[39m | \u001b[39m6.0103549\u001b[39m | \u001b[39m0.0      \u001b[39m |\n",
      "| \u001b[39m46       \u001b[39m | \u001b[39m-4226.982\u001b[39m | \u001b[39m14.718926\u001b[39m | \u001b[39m1.0      \u001b[39m | \u001b[39m1.0      \u001b[39m | \u001b[39m1.0      \u001b[39m | \u001b[39m3.6371270\u001b[39m | \u001b[39m0.1      \u001b[39m |\n",
      "| \u001b[39m47       \u001b[39m | \u001b[39m-2902.721\u001b[39m | \u001b[39m20.226611\u001b[39m | \u001b[39m0.0      \u001b[39m | \u001b[39m0.0      \u001b[39m | \u001b[39m2.0      \u001b[39m | \u001b[39m9.0637773\u001b[39m | \u001b[39m0.1      \u001b[39m |\n",
      "| \u001b[39m48       \u001b[39m | \u001b[39m-6165.202\u001b[39m | \u001b[39m41.160275\u001b[39m | \u001b[39m1.0      \u001b[39m | \u001b[39m1.0      \u001b[39m | \u001b[39m2.0      \u001b[39m | \u001b[39m6.0215108\u001b[39m | \u001b[39m0.0      \u001b[39m |\n",
      "| \u001b[39m49       \u001b[39m | \u001b[39m-3188.477\u001b[39m | \u001b[39m42.116775\u001b[39m | \u001b[39m1.0      \u001b[39m | \u001b[39m0.0      \u001b[39m | \u001b[39m1.1673393\u001b[39m | \u001b[39m2.7787895\u001b[39m | \u001b[39m0.0      \u001b[39m |\n",
      "| \u001b[39m50       \u001b[39m | \u001b[39m-3188.477\u001b[39m | \u001b[39m17.498896\u001b[39m | \u001b[39m0.0      \u001b[39m | \u001b[39m0.0      \u001b[39m | \u001b[39m1.9494000\u001b[39m | \u001b[39m3.4525693\u001b[39m | \u001b[39m0.0      \u001b[39m |\n",
      "| \u001b[39m51       \u001b[39m | \u001b[39m-3188.477\u001b[39m | \u001b[39m43.268294\u001b[39m | \u001b[39m1.0      \u001b[39m | \u001b[39m0.0      \u001b[39m | \u001b[39m1.0      \u001b[39m | \u001b[39m8.8134883\u001b[39m | \u001b[39m0.0      \u001b[39m |\n",
      "| \u001b[39m52       \u001b[39m | \u001b[39m-3188.477\u001b[39m | \u001b[39m28.813177\u001b[39m | \u001b[39m1.0      \u001b[39m | \u001b[39m0.0      \u001b[39m | \u001b[39m1.0      \u001b[39m | \u001b[39m1.4655588\u001b[39m | \u001b[39m0.0      \u001b[39m |\n",
      "| \u001b[39m53       \u001b[39m | \u001b[39m-3188.477\u001b[39m | \u001b[39m23.502891\u001b[39m | \u001b[39m0.0      \u001b[39m | \u001b[39m0.0      \u001b[39m | \u001b[39m1.0      \u001b[39m | \u001b[39m4.6342612\u001b[39m | \u001b[39m0.0      \u001b[39m |\n",
      "| \u001b[39m54       \u001b[39m | \u001b[39m-3188.477\u001b[39m | \u001b[39m25.227006\u001b[39m | \u001b[39m0.0      \u001b[39m | \u001b[39m0.0      \u001b[39m | \u001b[39m1.0      \u001b[39m | \u001b[39m6.4612754\u001b[39m | \u001b[39m0.0      \u001b[39m |\n",
      "| \u001b[39m55       \u001b[39m | \u001b[39m-3188.477\u001b[39m | \u001b[39m43.728434\u001b[39m | \u001b[39m0.0      \u001b[39m | \u001b[39m0.0      \u001b[39m | \u001b[39m2.0      \u001b[39m | \u001b[39m3.0447040\u001b[39m | \u001b[39m0.0      \u001b[39m |\n",
      "| \u001b[39m56       \u001b[39m | \u001b[39m-3411.989\u001b[39m | \u001b[39m24.212004\u001b[39m | \u001b[39m0.0      \u001b[39m | \u001b[39m0.0      \u001b[39m | \u001b[39m1.0      \u001b[39m | \u001b[39m8.8629778\u001b[39m | \u001b[39m0.1      \u001b[39m |\n",
      "| \u001b[39m57       \u001b[39m | \u001b[39m-3188.477\u001b[39m | \u001b[39m14.966109\u001b[39m | \u001b[39m1.0      \u001b[39m | \u001b[39m0.0      \u001b[39m | \u001b[39m1.0      \u001b[39m | \u001b[39m10.0     \u001b[39m | \u001b[39m0.0      \u001b[39m |\n",
      "| \u001b[39m58       \u001b[39m | \u001b[39m-8307.754\u001b[39m | \u001b[39m22.123302\u001b[39m | \u001b[39m0.0      \u001b[39m | \u001b[39m1.0      \u001b[39m | \u001b[39m2.0      \u001b[39m | \u001b[39m10.0     \u001b[39m | \u001b[39m0.1      \u001b[39m |\n",
      "| \u001b[39m59       \u001b[39m | \u001b[39m-2730.230\u001b[39m | \u001b[39m14.157061\u001b[39m | \u001b[39m0.0      \u001b[39m | \u001b[39m0.0      \u001b[39m | \u001b[39m2.0      \u001b[39m | \u001b[39m8.7483857\u001b[39m | \u001b[39m0.1      \u001b[39m |\n",
      "| \u001b[39m60       \u001b[39m | \u001b[39m-8006.577\u001b[39m | \u001b[39m13.424563\u001b[39m | \u001b[39m0.3281563\u001b[39m | \u001b[39m1.0      \u001b[39m | \u001b[39m2.0      \u001b[39m | \u001b[39m10.0     \u001b[39m | \u001b[39m0.0      \u001b[39m |\n",
      "| \u001b[39m61       \u001b[39m | \u001b[39m-3260.960\u001b[39m | \u001b[39m14.045945\u001b[39m | \u001b[39m0.0      \u001b[39m | \u001b[39m0.0      \u001b[39m | \u001b[39m1.0      \u001b[39m | \u001b[39m7.7593009\u001b[39m | \u001b[39m0.1      \u001b[39m |\n",
      "| \u001b[39m62       \u001b[39m | \u001b[39m-2719.994\u001b[39m | \u001b[39m13.358380\u001b[39m | \u001b[39m1.0      \u001b[39m | \u001b[39m0.0      \u001b[39m | \u001b[39m2.0      \u001b[39m | \u001b[39m7.4632179\u001b[39m | \u001b[39m0.1      \u001b[39m |\n",
      "| \u001b[39m63       \u001b[39m | \u001b[39m-3188.477\u001b[39m | \u001b[39m17.223956\u001b[39m | \u001b[39m1.0      \u001b[39m | \u001b[39m0.0      \u001b[39m | \u001b[39m1.0      \u001b[39m | \u001b[39m10.0     \u001b[39m | \u001b[39m0.0      \u001b[39m |\n",
      "| \u001b[39m64       \u001b[39m | \u001b[39m-3188.477\u001b[39m | \u001b[39m21.356565\u001b[39m | \u001b[39m0.0      \u001b[39m | \u001b[39m0.0      \u001b[39m | \u001b[39m1.0      \u001b[39m | \u001b[39m6.9467272\u001b[39m | \u001b[39m0.0      \u001b[39m |\n",
      "| \u001b[39m65       \u001b[39m | \u001b[39m-3188.477\u001b[39m | \u001b[39m28.666783\u001b[39m | \u001b[39m1.0      \u001b[39m | \u001b[39m0.0      \u001b[39m | \u001b[39m1.0      \u001b[39m | \u001b[39m3.4267028\u001b[39m | \u001b[39m0.0      \u001b[39m |\n",
      "| \u001b[39m66       \u001b[39m | \u001b[39m-3188.477\u001b[39m | \u001b[39m26.906547\u001b[39m | \u001b[39m1.0      \u001b[39m | \u001b[39m0.0      \u001b[39m | \u001b[39m1.0      \u001b[39m | \u001b[39m5.6007429\u001b[39m | \u001b[39m0.0      \u001b[39m |\n",
      "| \u001b[39m67       \u001b[39m | \u001b[39m-3451.300\u001b[39m | \u001b[39m26.280605\u001b[39m | \u001b[39m1.0      \u001b[39m | \u001b[39m0.0      \u001b[39m | \u001b[39m1.0      \u001b[39m | \u001b[39m8.0739342\u001b[39m | \u001b[39m0.1      \u001b[39m |\n",
      "| \u001b[39m68       \u001b[39m | \u001b[39m-7554.555\u001b[39m | \u001b[39m44.189696\u001b[39m | \u001b[39m1.0      \u001b[39m | \u001b[39m1.0      \u001b[39m | \u001b[39m1.0      \u001b[39m | \u001b[39m1.9546747\u001b[39m | \u001b[39m0.1      \u001b[39m |\n",
      "| \u001b[39m69       \u001b[39m | \u001b[39m-5913.614\u001b[39m | \u001b[39m41.833998\u001b[39m | \u001b[39m0.0      \u001b[39m | \u001b[39m0.0      \u001b[39m | \u001b[39m2.0      \u001b[39m | \u001b[39m2.1215348\u001b[39m | \u001b[39m0.1      \u001b[39m |\n",
      "| \u001b[39m70       \u001b[39m | \u001b[39m-2733.476\u001b[39m | \u001b[39m14.367563\u001b[39m | \u001b[39m0.0      \u001b[39m | \u001b[39m0.0      \u001b[39m | \u001b[39m2.0      \u001b[39m | \u001b[39m5.7407233\u001b[39m | \u001b[39m0.1      \u001b[39m |\n",
      "| \u001b[39m71       \u001b[39m | \u001b[39m-3851.109\u001b[39m | \u001b[39m14.310563\u001b[39m | \u001b[39m1.0      \u001b[39m | \u001b[39m1.0      \u001b[39m | \u001b[39m2.0      \u001b[39m | \u001b[39m5.6494664\u001b[39m | \u001b[39m0.1      \u001b[39m |\n",
      "| \u001b[39m72       \u001b[39m | \u001b[39m-3188.477\u001b[39m | \u001b[39m18.852394\u001b[39m | \u001b[39m0.0      \u001b[39m | \u001b[39m0.0      \u001b[39m | \u001b[39m1.0      \u001b[39m | \u001b[39m10.0     \u001b[39m | \u001b[39m0.0      \u001b[39m |\n",
      "| \u001b[39m73       \u001b[39m | \u001b[39m-3188.477\u001b[39m | \u001b[39m20.337358\u001b[39m | \u001b[39m1.0      \u001b[39m | \u001b[39m0.0      \u001b[39m | \u001b[39m2.0      \u001b[39m | \u001b[39m5.0339532\u001b[39m | \u001b[39m0.0      \u001b[39m |\n",
      "| \u001b[39m74       \u001b[39m | \u001b[39m-8408.810\u001b[39m | \u001b[39m19.169848\u001b[39m | \u001b[39m0.0      \u001b[39m | \u001b[39m1.0      \u001b[39m | \u001b[39m1.0      \u001b[39m | \u001b[39m3.7931274\u001b[39m | \u001b[39m0.0      \u001b[39m |\n",
      "| \u001b[39m75       \u001b[39m | \u001b[39m-3188.477\u001b[39m | \u001b[39m14.332885\u001b[39m | \u001b[39m1.0      \u001b[39m | \u001b[39m0.0      \u001b[39m | \u001b[39m1.6212365\u001b[39m | \u001b[39m8.3048724\u001b[39m | \u001b[39m0.0      \u001b[39m |\n",
      "| \u001b[39m76       \u001b[39m | \u001b[39m-3246.409\u001b[39m | \u001b[39m21.554598\u001b[39m | \u001b[39m0.0      \u001b[39m | \u001b[39m0.0      \u001b[39m | \u001b[39m1.8986076\u001b[39m | \u001b[39m4.3543411\u001b[39m | \u001b[39m0.0587512\u001b[39m |\n",
      "| \u001b[39m77       \u001b[39m | \u001b[39m-6937.603\u001b[39m | \u001b[39m19.641301\u001b[39m | \u001b[39m0.3532355\u001b[39m | \u001b[39m0.6656842\u001b[39m | \u001b[39m1.0      \u001b[39m | \u001b[39m8.9633257\u001b[39m | \u001b[39m0.1      \u001b[39m |\n",
      "| \u001b[39m78       \u001b[39m | \u001b[39m-2840.284\u001b[39m | \u001b[39m18.636132\u001b[39m | \u001b[39m0.8049807\u001b[39m | \u001b[39m0.1680496\u001b[39m | \u001b[39m1.5002646\u001b[39m | \u001b[39m9.1006020\u001b[39m | \u001b[39m0.0618350\u001b[39m |\n",
      "| \u001b[39m79       \u001b[39m | \u001b[39m-3188.477\u001b[39m | \u001b[39m18.477944\u001b[39m | \u001b[39m1.0      \u001b[39m | \u001b[39m0.0      \u001b[39m | \u001b[39m1.7999698\u001b[39m | \u001b[39m10.0     \u001b[39m | \u001b[39m0.0      \u001b[39m |\n",
      "| \u001b[39m80       \u001b[39m | \u001b[39m-3188.477\u001b[39m | \u001b[39m14.012167\u001b[39m | \u001b[39m0.1044890\u001b[39m | \u001b[39m0.0      \u001b[39m | \u001b[39m2.0      \u001b[39m | \u001b[39m7.0118541\u001b[39m | \u001b[39m0.0      \u001b[39m |\n",
      "| \u001b[39m81       \u001b[39m | \u001b[39m-3188.477\u001b[39m | \u001b[39m14.386153\u001b[39m | \u001b[39m0.0028416\u001b[39m | \u001b[39m0.0      \u001b[39m | \u001b[39m1.0242748\u001b[39m | \u001b[39m4.9752194\u001b[39m | \u001b[39m0.0      \u001b[39m |\n",
      "| \u001b[39m82       \u001b[39m | \u001b[39m-3188.477\u001b[39m | \u001b[39m20.610539\u001b[39m | \u001b[39m0.7889790\u001b[39m | \u001b[39m0.0      \u001b[39m | \u001b[39m2.0      \u001b[39m | \u001b[39m7.0639968\u001b[39m | \u001b[39m0.0      \u001b[39m |\n",
      "| \u001b[39m83       \u001b[39m | \u001b[39m-3352.869\u001b[39m | \u001b[39m20.783185\u001b[39m | \u001b[39m0.2649366\u001b[39m | \u001b[39m0.0      \u001b[39m | \u001b[39m1.0      \u001b[39m | \u001b[39m5.6572496\u001b[39m | \u001b[39m0.1      \u001b[39m |\n",
      "| \u001b[39m84       \u001b[39m | \u001b[39m-2867.516\u001b[39m | \u001b[39m19.314283\u001b[39m | \u001b[39m1.0      \u001b[39m | \u001b[39m0.0      \u001b[39m | \u001b[39m2.0      \u001b[39m | \u001b[39m3.4891123\u001b[39m | \u001b[39m0.1      \u001b[39m |\n",
      "| \u001b[39m85       \u001b[39m | \u001b[39m-3188.477\u001b[39m | \u001b[39m16.246080\u001b[39m | \u001b[39m1.0      \u001b[39m | \u001b[39m0.0      \u001b[39m | \u001b[39m2.0      \u001b[39m | \u001b[39m2.8482605\u001b[39m | \u001b[39m0.0      \u001b[39m |\n",
      "| \u001b[39m86       \u001b[39m | \u001b[39m-3188.477\u001b[39m | \u001b[39m24.822047\u001b[39m | \u001b[39m1.0      \u001b[39m | \u001b[39m0.0      \u001b[39m | \u001b[39m1.0      \u001b[39m | \u001b[39m5.3762776\u001b[39m | \u001b[39m0.0      \u001b[39m |\n",
      "| \u001b[39m87       \u001b[39m | \u001b[39m-8358.634\u001b[39m | \u001b[39m43.674833\u001b[39m | \u001b[39m0.0      \u001b[39m | \u001b[39m0.5574367\u001b[39m | \u001b[39m1.0      \u001b[39m | \u001b[39m10.0     \u001b[39m | \u001b[39m0.0      \u001b[39m |\n",
      "| \u001b[39m88       \u001b[39m | \u001b[39m-3188.477\u001b[39m | \u001b[39m18.117113\u001b[39m | \u001b[39m1.0      \u001b[39m | \u001b[39m0.0      \u001b[39m | \u001b[39m1.9053133\u001b[39m | \u001b[39m2.9469027\u001b[39m | \u001b[39m0.0      \u001b[39m |\n",
      "| \u001b[39m89       \u001b[39m | \u001b[39m-2733.308\u001b[39m | \u001b[39m14.357010\u001b[39m | \u001b[39m0.0604267\u001b[39m | \u001b[39m0.0      \u001b[39m | \u001b[39m2.0      \u001b[39m | \u001b[39m3.9235065\u001b[39m | \u001b[39m0.1      \u001b[39m |\n",
      "| \u001b[39m90       \u001b[39m | \u001b[39m-3188.477\u001b[39m | \u001b[39m12.539384\u001b[39m | \u001b[39m0.7334449\u001b[39m | \u001b[39m0.0      \u001b[39m | \u001b[39m1.0      \u001b[39m | \u001b[39m7.3156618\u001b[39m | \u001b[39m0.0      \u001b[39m |\n",
      "| \u001b[39m91       \u001b[39m | \u001b[39m-3175.911\u001b[39m | \u001b[39m25.884411\u001b[39m | \u001b[39m1.0      \u001b[39m | \u001b[39m0.0      \u001b[39m | \u001b[39m2.0      \u001b[39m | \u001b[39m6.3286858\u001b[39m | \u001b[39m0.1      \u001b[39m |\n",
      "| \u001b[39m92       \u001b[39m | \u001b[39m-3188.477\u001b[39m | \u001b[39m21.516746\u001b[39m | \u001b[39m1.0      \u001b[39m | \u001b[39m0.0      \u001b[39m | \u001b[39m1.0      \u001b[39m | \u001b[39m4.0906851\u001b[39m | \u001b[39m0.0      \u001b[39m |\n",
      "| \u001b[39m93       \u001b[39m | \u001b[39m-4520.085\u001b[39m | \u001b[39m45.359112\u001b[39m | \u001b[39m1.0      \u001b[39m | \u001b[39m0.0      \u001b[39m | \u001b[39m2.0      \u001b[39m | \u001b[39m10.0     \u001b[39m | \u001b[39m0.1      \u001b[39m |\n",
      "| \u001b[39m94       \u001b[39m | \u001b[39m-3276.272\u001b[39m | \u001b[39m15.366133\u001b[39m | \u001b[39m0.0      \u001b[39m | \u001b[39m0.0      \u001b[39m | \u001b[39m1.3053179\u001b[39m | \u001b[39m8.8857143\u001b[39m | \u001b[39m0.1      \u001b[39m |\n",
      "| \u001b[39m95       \u001b[39m | \u001b[39m-7990.555\u001b[39m | \u001b[39m25.902964\u001b[39m | \u001b[39m0.4513132\u001b[39m | \u001b[39m1.0      \u001b[39m | \u001b[39m1.0      \u001b[39m | \u001b[39m5.7514342\u001b[39m | \u001b[39m0.1      \u001b[39m |\n",
      "| \u001b[39m96       \u001b[39m | \u001b[39m-3188.477\u001b[39m | \u001b[39m15.230395\u001b[39m | \u001b[39m0.0      \u001b[39m | \u001b[39m0.0      \u001b[39m | \u001b[39m2.0      \u001b[39m | \u001b[39m4.8287532\u001b[39m | \u001b[39m0.0      \u001b[39m |\n",
      "| \u001b[39m97       \u001b[39m | \u001b[39m-2825.279\u001b[39m | \u001b[39m18.100324\u001b[39m | \u001b[39m0.9916686\u001b[39m | \u001b[39m0.0      \u001b[39m | \u001b[39m2.0      \u001b[39m | \u001b[39m4.5567477\u001b[39m | \u001b[39m0.1      \u001b[39m |\n",
      "| \u001b[39m98       \u001b[39m | \u001b[39m-3326.248\u001b[39m | \u001b[39m19.064369\u001b[39m | \u001b[39m1.0      \u001b[39m | \u001b[39m0.0      \u001b[39m | \u001b[39m1.7109696\u001b[39m | \u001b[39m5.3549265\u001b[39m | \u001b[39m0.1      \u001b[39m |\n",
      "| \u001b[39m99       \u001b[39m | \u001b[39m-3188.477\u001b[39m | \u001b[39m24.619033\u001b[39m | \u001b[39m0.7605738\u001b[39m | \u001b[39m0.0      \u001b[39m | \u001b[39m1.6016941\u001b[39m | \u001b[39m7.3090593\u001b[39m | \u001b[39m0.0      \u001b[39m |\n",
      "| \u001b[39m100      \u001b[39m | \u001b[39m-3188.477\u001b[39m | \u001b[39m23.786444\u001b[39m | \u001b[39m0.0      \u001b[39m | \u001b[39m0.0      \u001b[39m | \u001b[39m1.0      \u001b[39m | \u001b[39m6.3131493\u001b[39m | \u001b[39m0.0      \u001b[39m |\n",
      "| \u001b[39m101      \u001b[39m | \u001b[39m-3297.838\u001b[39m | \u001b[39m17.055996\u001b[39m | \u001b[39m1.0      \u001b[39m | \u001b[39m0.0      \u001b[39m | \u001b[39m1.0      \u001b[39m | \u001b[39m3.5624432\u001b[39m | \u001b[39m0.1      \u001b[39m |\n",
      "| \u001b[39m102      \u001b[39m | \u001b[39m-3188.477\u001b[39m | \u001b[39m40.945120\u001b[39m | \u001b[39m1.0      \u001b[39m | \u001b[39m0.0      \u001b[39m | \u001b[39m1.0      \u001b[39m | \u001b[39m3.7985816\u001b[39m | \u001b[39m0.0      \u001b[39m |\n",
      "| \u001b[39m103      \u001b[39m | \u001b[39m-3188.477\u001b[39m | \u001b[39m23.782812\u001b[39m | \u001b[39m1.0      \u001b[39m | \u001b[39m0.0      \u001b[39m | \u001b[39m1.0      \u001b[39m | \u001b[39m3.5973572\u001b[39m | \u001b[39m0.0      \u001b[39m |\n",
      "| \u001b[39m104      \u001b[39m | \u001b[39m-3188.477\u001b[39m | \u001b[39m28.699441\u001b[39m | \u001b[39m0.2246042\u001b[39m | \u001b[39m0.0      \u001b[39m | \u001b[39m2.0      \u001b[39m | \u001b[39m2.3924171\u001b[39m | \u001b[39m0.0      \u001b[39m |\n",
      "| \u001b[39m105      \u001b[39m | \u001b[39m-3188.477\u001b[39m | \u001b[39m22.805176\u001b[39m | \u001b[39m1.0      \u001b[39m | \u001b[39m0.0      \u001b[39m | \u001b[39m1.0      \u001b[39m | \u001b[39m7.5873534\u001b[39m | \u001b[39m0.0      \u001b[39m |\n",
      "| \u001b[39m106      \u001b[39m | \u001b[39m-3188.477\u001b[39m | \u001b[39m28.217777\u001b[39m | \u001b[39m1.0      \u001b[39m | \u001b[39m0.0      \u001b[39m | \u001b[39m1.6775554\u001b[39m | \u001b[39m5.1312525\u001b[39m | \u001b[39m0.0      \u001b[39m |\n",
      "| \u001b[39m107      \u001b[39m | \u001b[39m-3188.477\u001b[39m | \u001b[39m15.654956\u001b[39m | \u001b[39m0.0      \u001b[39m | \u001b[39m0.0      \u001b[39m | \u001b[39m1.0      \u001b[39m | \u001b[39m2.2642510\u001b[39m | \u001b[39m0.0      \u001b[39m |\n",
      "| \u001b[39m108      \u001b[39m | \u001b[39m-3188.477\u001b[39m | \u001b[39m27.615939\u001b[39m | \u001b[39m1.0      \u001b[39m | \u001b[39m0.0      \u001b[39m | \u001b[39m2.0      \u001b[39m | \u001b[39m6.7752032\u001b[39m | \u001b[39m0.0      \u001b[39m |\n",
      "| \u001b[39m109      \u001b[39m | \u001b[39m-3188.477\u001b[39m | \u001b[39m43.037123\u001b[39m | \u001b[39m0.1387724\u001b[39m | \u001b[39m0.0      \u001b[39m | \u001b[39m1.0      \u001b[39m | \u001b[39m4.3029980\u001b[39m | \u001b[39m0.0      \u001b[39m |\n"
     ]
    },
    {
     "name": "stderr",
     "output_type": "stream",
     "text": [
      "Fitting models...: 100%|██████████████████████████| 1/1 [01:14<00:00, 74.14s/it]"
     ]
    },
    {
     "name": "stdout",
     "output_type": "stream",
     "text": [
      "| \u001b[39m110      \u001b[39m | \u001b[39m-3188.477\u001b[39m | \u001b[39m15.562513\u001b[39m | \u001b[39m1.0      \u001b[39m | \u001b[39m0.0      \u001b[39m | \u001b[39m1.5138704\u001b[39m | \u001b[39m1.0      \u001b[39m | \u001b[39m0.0      \u001b[39m |\n",
      "=================================================================================================\n",
      "Optimal parameters for 2 players and threshold 0.5:\n",
      "{'inverse_temperature': np.float64(13.880491733085599), 'bias': np.float64(0.8781174363909454), 'learning_rate': np.float64(0.027387593197926163), 'len_history': np.float64(1.6704675101784021), 'max_regions': np.float64(4.755743221304143), 'delta': np.float64(0.05586898284457517)}\n",
      "Deviance: -2386.7407843159963\n",
      "AIC: 4785.481568631993\n",
      "--------------------------------------------------\n"
     ]
    },
    {
     "name": "stderr",
     "output_type": "stream",
     "text": [
      "\n"
     ]
    }
   ],
   "source": [
    "hyperparameters = {\n",
    "    'n_iter': 32,\n",
    "    'init_points': 64,\n",
    "}\n",
    "\n",
    "ParameterFit.run(\n",
    "    data=data,\n",
    "    model_list=my_models,\n",
    "    best_fit_path=best_fit_file_2P,\n",
    "    optimizer_type='bayesian',\n",
    "    hyperparameters=hyperparameters,\n",
    "    new_file=False\n",
    ")"
   ]
  },
  {
   "cell_type": "markdown",
   "metadata": {},
   "source": []
  }
 ],
 "metadata": {
  "kernelspec": {
   "display_name": "Python 3 (ipykernel)",
   "language": "python",
   "name": "python3"
  },
  "language_info": {
   "codemirror_mode": {
    "name": "ipython",
    "version": 3
   },
   "file_extension": ".py",
   "mimetype": "text/x-python",
   "name": "python",
   "nbconvert_exporter": "python",
   "pygments_lexer": "ipython3",
   "version": "3.13.3"
  }
 },
 "nbformat": 4,
 "nbformat_minor": 2
}
