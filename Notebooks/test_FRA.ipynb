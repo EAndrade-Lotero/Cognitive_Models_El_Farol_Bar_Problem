{
 "cells": [
  {
   "cell_type": "code",
   "execution_count": 1,
   "metadata": {},
   "outputs": [],
   "source": [
    "import numpy as np\n",
    "import pandas as pd\n",
    "\n",
    "from pathlib import Path\n",
    "\n",
    "import sys\n",
    "\n",
    "sys.path.append('../src')\n",
    "\n",
    "import warnings\n",
    "warnings.filterwarnings(\"ignore\")"
   ]
  },
  {
   "cell_type": "markdown",
   "metadata": {},
   "source": [
    "### Test focal region similarity"
   ]
  },
  {
   "cell_type": "code",
   "execution_count": 2,
   "metadata": {},
   "outputs": [],
   "source": [
    "from Config.config import PATHS\n",
    "from Classes.focal_regions import FocalRegion"
   ]
  },
  {
   "cell_type": "code",
   "execution_count": 3,
   "metadata": {},
   "outputs": [
    {
     "name": "stdout",
     "output_type": "stream",
     "text": [
      "History:\n",
      " [[0]\n",
      " [1]\n",
      " [1]]\n",
      "------------------------------------------------------------\n",
      "\tCicle from column 0:\n",
      "[[1]\n",
      " [1]\n",
      " [0]]\n",
      "\tSimilarity score: 0.3333333333333333\n",
      "\tCicle from column 1:\n",
      "[[0]\n",
      " [1]\n",
      " [1]]\n",
      "\tSimilarity score: 1.0\n",
      "\tCicle from column 2:\n",
      "[[1]\n",
      " [0]\n",
      " [1]]\n",
      "\tSimilarity score: 0.3333333333333333\n",
      "Scores:\n",
      " [np.float64(0.3333333333333333), np.float64(1.0), np.float64(0.3333333333333333)]\n",
      "------------------------------------------------------------\n"
     ]
    }
   ],
   "source": [
    "region = np.array([[1, 0, 1], [1, 1, 0], [0, 1, 1]])\n",
    "fra = FocalRegion(region)\n",
    "fra.debug = True\n",
    "\n",
    "# history = np.array([[1, 0], [0, 1], [0, 1]])\n",
    "history = np.array([[0], [1], [1]])\n",
    "print('History:\\n', history)\n",
    "print('-'*60)\n",
    "scores = fra.get_similarity_scores(history)\n",
    "print('Scores:\\n', scores)\n",
    "print('-'*60)"
   ]
  },
  {
   "cell_type": "code",
   "execution_count": 4,
   "metadata": {},
   "outputs": [
    {
     "data": {
      "text/plain": [
       "<Axes: >"
      ]
     },
     "execution_count": 4,
     "metadata": {},
     "output_type": "execute_result"
    },
    {
     "data": {
      "image/png": "[encoded data removed]",
      "text/plain": [
       "<Figure size 300x300 with 1 Axes>"
      ]
     },
     "metadata": {},
     "output_type": "display_data"
    }
   ],
   "source": [
    "file_name = Path('..', 'LaTeX', 'FRA_region_1.png')\n",
    "FocalRegion.draw_region(region, file=file_name)"
   ]
  },
  {
   "cell_type": "code",
   "execution_count": 5,
   "metadata": {},
   "outputs": [
    {
     "data": {
      "text/plain": [
       "<Axes: >"
      ]
     },
     "execution_count": 5,
     "metadata": {},
     "output_type": "execute_result"
    },
    {
     "data": {
      "image/png": "[encoded data removed]",
      "text/plain": [
       "<Figure size 100x300 with 1 Axes>"
      ]
     },
     "metadata": {},
     "output_type": "display_data"
    }
   ],
   "source": [
    "file_name = Path('..', 'LaTeX', 'history_2.png')\n",
    "FocalRegion.draw_region(history, file=file_name)"
   ]
  },
  {
   "cell_type": "markdown",
   "metadata": {},
   "source": [
    "### Test Focal Regions"
   ]
  },
  {
   "cell_type": "code",
   "execution_count": 6,
   "metadata": {},
   "outputs": [],
   "source": [
    "from Classes.focal_regions import SetFocalRegions"
   ]
  },
  {
   "cell_type": "code",
   "execution_count": 7,
   "metadata": {},
   "outputs": [
    {
     "name": "stdout",
     "output_type": "stream",
     "text": [
      "------------------------------------------------------------\n",
      "[[0. 1.]\n",
      " [1. 0.]]\n",
      "------------------------------------------------------------------------------------------------------------------------\n",
      "[[0. 0.]\n",
      " [1. 1.]]\n",
      "------------------------------------------------------------------------------------------------------------------------\n",
      "[[1. 1.]\n",
      " [0. 0.]]\n",
      "------------------------------------------------------------\n"
     ]
    }
   ],
   "source": [
    "sfr = SetFocalRegions(\n",
    "    num_agents=2,\n",
    "    threshold=0.5,\n",
    "    len_history=2,\n",
    "    max_regions=3,\n",
    ")\n",
    "sfr.generate_focal_regions()\n",
    "print(sfr)"
   ]
  },
  {
   "cell_type": "code",
   "execution_count": 8,
   "metadata": {},
   "outputs": [
    {
     "name": "stdout",
     "output_type": "stream",
     "text": [
      "Region 0: [0. 1.]\n",
      "Region 1: [0.5 0. ]\n",
      "Region 2: [0.  0.5]\n"
     ]
    },
    {
     "data": {
      "text/plain": [
       "array([0.5, 1.5])"
      ]
     },
     "execution_count": 8,
     "metadata": {},
     "output_type": "execute_result"
    }
   ],
   "source": [
    "history = np.array([1, 0])\n",
    "sfr.add_history(history)\n",
    "history = np.array([0, 1])\n",
    "sfr.add_history(history)\n",
    "sfr.debug = True\n",
    "sfr.get_action_preferences(0)"
   ]
  },
  {
   "cell_type": "markdown",
   "metadata": {},
   "source": [
    "### Test FRA agents"
   ]
  },
  {
   "cell_type": "code",
   "execution_count": 9,
   "metadata": {},
   "outputs": [],
   "source": [
    "from Classes.bar import Bar\n",
    "from Utils.interaction import Episode\n",
    "from Classes.cognitive_model_agents import FocalRegionAgent"
   ]
  },
  {
   "cell_type": "code",
   "execution_count": 10,
   "metadata": {},
   "outputs": [],
   "source": [
    "free_parameters = {\n",
    "    'inverse_temperature': 30,\n",
    "    'len_history': 2,\n",
    "    'max_regions': 5,\n",
    "    'c': 0.1\n",
    "}\n",
    "fixed_parameters = {\n",
    "    'num_agents': 2,\n",
    "    'threshold': 0.5,\n",
    "}\n",
    "n = 1"
   ]
  },
  {
   "cell_type": "code",
   "execution_count": 11,
   "metadata": {},
   "outputs": [
    {
     "data": {
      "text/plain": [
       "<Axes: >"
      ]
     },
     "execution_count": 11,
     "metadata": {},
     "output_type": "execute_result"
    },
    {
     "data": {
      "image/png": "[encoded data removed]",
      "text/plain": [
       "<Figure size 750x200 with 1 Axes>"
      ]
     },
     "metadata": {},
     "output_type": "display_data"
    }
   ],
   "source": [
    "# Create the environment\n",
    "bar = Bar(\n",
    "    num_agents=fixed_parameters['num_agents'],\n",
    "    threshold=fixed_parameters['threshold']\n",
    ")\n",
    "# Create the agents\n",
    "agents = [FocalRegionAgent(free_parameters, fixed_parameters, n) for n in range(fixed_parameters['num_agents'])]\n",
    "# Create the episode\n",
    "episode = Episode(\n",
    "    model='FRA',\n",
    "    agents=agents,\n",
    "    environment=bar,\n",
    "    num_rounds=20\n",
    ")\n",
    "\n",
    "episode.run()\n",
    "\n",
    "bar.render()"
   ]
  },
  {
   "cell_type": "markdown",
   "metadata": {},
   "source": [
    "# Test parameter fit"
   ]
  },
  {
   "cell_type": "code",
   "execution_count": 12,
   "metadata": {},
   "outputs": [],
   "source": [
    "from Classes.cognitive_model_agents import Titan\n",
    "from Classes.parameter_recovery import ParameterFit"
   ]
  },
  {
   "cell_type": "code",
   "execution_count": 13,
   "metadata": {},
   "outputs": [
    {
     "name": "stdout",
     "output_type": "stream",
     "text": [
      "Loading data from /Users/edgar/Documents/GitHub/Cognitive_Models_El_Farol_Bar_Problem/data/human/2-player-UR.csv...\n"
     ]
    },
    {
     "data": {
      "text/html": [
       "<div>\n",
       "<style scoped>\n",
       "    .dataframe tbody tr th:only-of-type {\n",
       "        vertical-align: middle;\n",
       "    }\n",
       "\n",
       "    .dataframe tbody tr th {\n",
       "        vertical-align: top;\n",
       "    }\n",
       "\n",
       "    .dataframe thead th {\n",
       "        text-align: right;\n",
       "    }\n",
       "</style>\n",
       "<table border=\"1\" class=\"dataframe\">\n",
       "  <thead>\n",
       "    <tr style=\"text-align: right;\">\n",
       "      <th></th>\n",
       "      <th>source</th>\n",
       "      <th>treatment</th>\n",
       "      <th>group</th>\n",
       "      <th>round</th>\n",
       "      <th>player</th>\n",
       "      <th>choice</th>\n",
       "      <th>score</th>\n",
       "      <th>attendance</th>\n",
       "      <th>ac_score</th>\n",
       "      <th>threshold</th>\n",
       "      <th>num_players</th>\n",
       "      <th>room</th>\n",
       "      <th>decision</th>\n",
       "    </tr>\n",
       "  </thead>\n",
       "  <tbody>\n",
       "    <tr>\n",
       "      <th>0</th>\n",
       "      <td>human</td>\n",
       "      <td>score + grid</td>\n",
       "      <td>Grupo-0001</td>\n",
       "      <td>1</td>\n",
       "      <td>405186428721292</td>\n",
       "      <td>0</td>\n",
       "      <td>0</td>\n",
       "      <td>1</td>\n",
       "      <td>25</td>\n",
       "      <td>0.5</td>\n",
       "      <td>2</td>\n",
       "      <td>Grupo-0001</td>\n",
       "      <td>0</td>\n",
       "    </tr>\n",
       "    <tr>\n",
       "      <th>1</th>\n",
       "      <td>human</td>\n",
       "      <td>score + grid</td>\n",
       "      <td>Grupo-0001</td>\n",
       "      <td>1</td>\n",
       "      <td>728608683559397</td>\n",
       "      <td>1</td>\n",
       "      <td>1</td>\n",
       "      <td>1</td>\n",
       "      <td>25</td>\n",
       "      <td>0.5</td>\n",
       "      <td>2</td>\n",
       "      <td>Grupo-0001</td>\n",
       "      <td>1</td>\n",
       "    </tr>\n",
       "  </tbody>\n",
       "</table>\n",
       "</div>"
      ],
      "text/plain": [
       "  source     treatment       group  round           player  choice  score  \\\n",
       "0  human  score + grid  Grupo-0001      1  405186428721292       0      0   \n",
       "1  human  score + grid  Grupo-0001      1  728608683559397       1      1   \n",
       "\n",
       "   attendance  ac_score  threshold  num_players        room  decision  \n",
       "0           1        25        0.5            2  Grupo-0001         0  \n",
       "1           1        25        0.5            2  Grupo-0001         1  "
      ]
     },
     "execution_count": 13,
     "metadata": {},
     "output_type": "execute_result"
    }
   ],
   "source": [
    "best_fit_file_2P = PATHS['parameter_fit_results'] / 'best_fit_2P_3.json'\n",
    "\n",
    "#Load 2P data\n",
    "file = PATHS['human_data'] / '2-player-UR.csv'\n",
    "print(f'Loading data from {file}...')\n",
    "data = pd.read_csv(file)\n",
    "data.head(2)"
   ]
  },
  {
   "cell_type": "code",
   "execution_count": 14,
   "metadata": {},
   "outputs": [
    {
     "name": "stderr",
     "output_type": "stream",
     "text": [
      "Fitting models...:   0%|                                  | 0/1 [00:00<?, ?it/s]"
     ]
    },
    {
     "name": "stdout",
     "output_type": "stream",
     "text": [
      "Fitting data to model FRA+Payoff+Attendance...\n",
      "Creating parameter recovery class...\n",
      "Running optimizer...\n",
      "Finding deviance for 2 players and threshold 0.5...\n"
     ]
    },
    {
     "name": "stderr",
     "output_type": "stream",
     "text": [
      "Fitting models...: 100%|██████████████████████████| 1/1 [00:31<00:00, 31.37s/it]"
     ]
    },
    {
     "name": "stdout",
     "output_type": "stream",
     "text": [
      "Optimal parameters for 2 players and threshold 0.5:\n",
      "{'inverse_temperature': np.float64(8.989297112656626), 'bias': np.float64(1.0), 'learning_rate': np.float64(0.0), 'len_history': np.float64(1.2185610225019845), 'max_regions': np.float64(3.3476545044280956), 'c': np.float64(0.012318058838274646), 'delta': np.float64(1.0)}\n",
      "Deviance: -3187.918298686422\n",
      "AIC: 6389.836597372844\n",
      "--------------------------------------------------\n"
     ]
    },
    {
     "name": "stderr",
     "output_type": "stream",
     "text": [
      "\n"
     ]
    }
   ],
   "source": [
    "# check_out_these = ['Attendance-M2', 'MFP-M2', 'Payoff-M2']\n",
    "# my_models = [FocalRegionAgent]\n",
    "my_models = [Titan]\n",
    "\n",
    "ParameterFit.run(\n",
    "    data=data,\n",
    "    model_list=my_models,\n",
    "    best_fit_path=best_fit_file_2P,\n",
    "    optimizer_type='scipy',\n",
    "    hyperparameters={},\n",
    "    new_file=False\n",
    ")"
   ]
  },
  {
   "cell_type": "code",
   "execution_count": 15,
   "metadata": {},
   "outputs": [
    {
     "name": "stderr",
     "output_type": "stream",
     "text": [
      "Fitting models...:   0%|                                  | 0/1 [00:00<?, ?it/s]"
     ]
    },
    {
     "name": "stdout",
     "output_type": "stream",
     "text": [
      "Fitting data to model FRA+Payoff+Attendance...\n",
      "Creating parameter recovery class...\n",
      "Running optimizer...\n",
      "Finding deviance for 2 players and threshold 0.5...\n",
      "|   iter    |  target   | invers... |   bias    | learni... | len_hi... | max_re... |     c     |   delta   |\n",
      "-------------------------------------------------------------------------------------------------------------\n",
      "| \u001b[39m1        \u001b[39m | \u001b[39m-3917.762\u001b[39m | \u001b[39m27.272386\u001b[39m | \u001b[39m0.7203244\u001b[39m | \u001b[39m0.0001143\u001b[39m | \u001b[39m1.6046651\u001b[39m | \u001b[39m2.3208030\u001b[39m | \u001b[39m0.2770157\u001b[39m | \u001b[39m0.1862602\u001b[39m |\n",
      "| \u001b[39m2        \u001b[39m | \u001b[39m-6363.186\u001b[39m | \u001b[39m22.770325\u001b[39m | \u001b[39m0.3967674\u001b[39m | \u001b[39m0.5388167\u001b[39m | \u001b[39m1.8383890\u001b[39m | \u001b[39m7.1669755\u001b[39m | \u001b[39m0.6133567\u001b[39m | \u001b[39m0.8781174\u001b[39m |\n",
      "| \u001b[35m3        \u001b[39m | \u001b[35m-2889.561\u001b[39m | \u001b[35m2.7254183\u001b[39m | \u001b[35m0.6704675\u001b[39m | \u001b[35m0.4173048\u001b[39m | \u001b[35m2.1173796\u001b[39m | \u001b[35m2.2634824\u001b[39m | \u001b[35m0.5943044\u001b[39m | \u001b[35m0.8007445\u001b[39m |\n",
      "| \u001b[39m4        \u001b[39m | \u001b[39m-8432.344\u001b[39m | \u001b[39m62.000479\u001b[39m | \u001b[39m0.3134241\u001b[39m | \u001b[39m0.6923226\u001b[39m | \u001b[39m2.7527783\u001b[39m | \u001b[39m9.0514599\u001b[39m | \u001b[39m0.2551326\u001b[39m | \u001b[39m0.0390547\u001b[39m |\n",
      "| \u001b[39m5        \u001b[39m | \u001b[39m-6375.928\u001b[39m | \u001b[39m11.699316\u001b[39m | \u001b[39m0.8781425\u001b[39m | \u001b[39m0.0983468\u001b[39m | \u001b[39m1.8422152\u001b[39m | \u001b[39m9.6210057\u001b[39m | \u001b[39m1.5994958\u001b[39m | \u001b[39m0.6918771\u001b[39m |\n",
      "| \u001b[39m6        \u001b[39m | \u001b[39m-6229.665\u001b[39m | \u001b[39m20.877484\u001b[39m | \u001b[39m0.6865009\u001b[39m | \u001b[39m0.8346256\u001b[39m | \u001b[39m1.0365765\u001b[39m | \u001b[39m7.7512988\u001b[39m | \u001b[39m2.9665832\u001b[39m | \u001b[39m0.7481656\u001b[39m |\n",
      "| \u001b[39m7        \u001b[39m | \u001b[39m-4130.874\u001b[39m | \u001b[39m18.667971\u001b[39m | \u001b[39m0.7892793\u001b[39m | \u001b[39m0.1032260\u001b[39m | \u001b[39m1.8957870\u001b[39m | \u001b[39m9.1773595\u001b[39m | \u001b[39m0.8808424\u001b[39m | \u001b[39m0.2877753\u001b[39m |\n",
      "| \u001b[39m8        \u001b[39m | \u001b[39m-7095.931\u001b[39m | \u001b[39m9.1918000\u001b[39m | \u001b[39m0.0193669\u001b[39m | \u001b[39m0.6788355\u001b[39m | \u001b[39m1.4232562\u001b[39m | \u001b[39m3.3899199\u001b[39m | \u001b[39m1.4747194\u001b[39m | \u001b[39m0.0533625\u001b[39m |\n",
      "| \u001b[39m9        \u001b[39m | \u001b[39m-13528.40\u001b[39m | \u001b[39m37.169409\u001b[39m | \u001b[39m0.1467285\u001b[39m | \u001b[39m0.5893055\u001b[39m | \u001b[39m2.3995167\u001b[39m | \u001b[39m1.9210098\u001b[39m | \u001b[39m1.2421679\u001b[39m | \u001b[39m0.6944001\u001b[39m |\n",
      "| \u001b[39m10       \u001b[39m | \u001b[39m-9348.277\u001b[39m | \u001b[39m27.093293\u001b[39m | \u001b[39m0.0499534\u001b[39m | \u001b[39m0.5358964\u001b[39m | \u001b[39m2.3275892\u001b[39m | \u001b[39m5.6340020\u001b[39m | \u001b[39m2.8337842\u001b[39m | \u001b[39m0.5865550\u001b[39m |\n",
      "| \u001b[39m11       \u001b[39m | \u001b[39m-9348.277\u001b[39m | \u001b[39m57.914320\u001b[39m | \u001b[39m0.1374747\u001b[39m | \u001b[39m0.1392763\u001b[39m | \u001b[39m2.6147825\u001b[39m | \u001b[39m4.5790915\u001b[39m | \u001b[39m0.4960625\u001b[39m | \u001b[39m0.9275085\u001b[39m |\n",
      "| \u001b[39m12       \u001b[39m | \u001b[39m-9348.277\u001b[39m | \u001b[39m22.909249\u001b[39m | \u001b[39m0.7508121\u001b[39m | \u001b[39m0.7259979\u001b[39m | \u001b[39m2.7666121\u001b[39m | \u001b[39m6.6130498\u001b[39m | \u001b[39m2.2528273\u001b[39m | \u001b[39m0.3488983\u001b[39m |\n",
      "| \u001b[39m13       \u001b[39m | \u001b[39m-7775.160\u001b[39m | \u001b[39m18.005457\u001b[39m | \u001b[39m0.8958862\u001b[39m | \u001b[39m0.4280911\u001b[39m | \u001b[39m2.9296800\u001b[39m | \u001b[39m6.9709734\u001b[39m | \u001b[39m1.8650871\u001b[39m | \u001b[39m0.1147459\u001b[39m |\n",
      "| \u001b[39m14       \u001b[39m | \u001b[39m-8211.050\u001b[39m | \u001b[39m60.817823\u001b[39m | \u001b[39m0.4499121\u001b[39m | \u001b[39m0.5783896\u001b[39m | \u001b[39m1.8162736\u001b[39m | \u001b[39m3.1332428\u001b[39m | \u001b[39m2.7101385\u001b[39m | \u001b[39m0.5736794\u001b[39m |\n",
      "| \u001b[39m15       \u001b[39m | \u001b[39m-3434.593\u001b[39m | \u001b[39m1.1808306\u001b[39m | \u001b[39m0.6171449\u001b[39m | \u001b[39m0.3266449\u001b[39m | \u001b[39m2.0541162\u001b[39m | \u001b[39m8.9734788\u001b[39m | \u001b[39m1.0718092\u001b[39m | \u001b[39m0.9085351\u001b[39m |\n",
      "| \u001b[39m16       \u001b[39m | \u001b[39m-8553.426\u001b[39m | \u001b[39m40.271687\u001b[39m | \u001b[39m0.0158212\u001b[39m | \u001b[39m0.9294372\u001b[39m | \u001b[39m2.3817938\u001b[39m | \u001b[39m9.9759056\u001b[39m | \u001b[39m0.5170215\u001b[39m | \u001b[39m0.1371357\u001b[39m |\n",
      "| \u001b[39m17       \u001b[39m | \u001b[39m-9348.277\u001b[39m | \u001b[39m59.753514\u001b[39m | \u001b[39m0.6968181\u001b[39m | \u001b[39m0.0660001\u001b[39m | \u001b[39m2.5109261\u001b[39m | \u001b[39m7.7848856\u001b[39m | \u001b[39m2.7690736\u001b[39m | \u001b[39m0.7115247\u001b[39m |\n",
      "| \u001b[39m18       \u001b[39m | \u001b[39m-6715.671\u001b[39m | \u001b[39m8.8290706\u001b[39m | \u001b[39m0.0198801\u001b[39m | \u001b[39m0.0262109\u001b[39m | \u001b[39m1.0566129\u001b[39m | \u001b[39m3.2158996\u001b[39m | \u001b[39m2.5800838\u001b[39m | \u001b[39m0.5388310\u001b[39m |\n",
      "| \u001b[39m19       \u001b[39m | \u001b[39m-6314.319\u001b[39m | \u001b[39m35.827784\u001b[39m | \u001b[39m0.8420308\u001b[39m | \u001b[39m0.1241733\u001b[39m | \u001b[39m1.5583673\u001b[39m | \u001b[39m6.2718334\u001b[39m | \u001b[39m2.9087872\u001b[39m | \u001b[39m0.5610302\u001b[39m |\n",
      "| \u001b[39m20       \u001b[39m | \u001b[39m-9348.277\u001b[39m | \u001b[39m2.1747792\u001b[39m | \u001b[39m0.8006326\u001b[39m | \u001b[39m0.2329742\u001b[39m | \u001b[39m2.6142103\u001b[39m | \u001b[39m4.4907457\u001b[39m | \u001b[39m2.5906255\u001b[39m | \u001b[39m0.7471216\u001b[39m |\n",
      "| \u001b[39m21       \u001b[39m | \u001b[39m-4480.464\u001b[39m | \u001b[39m36.043134\u001b[39m | \u001b[39m0.1364552\u001b[39m | \u001b[39m0.0599176\u001b[39m | \u001b[39m1.2426869\u001b[39m | \u001b[39m1.4009669\u001b[39m | \u001b[39m0.3224823\u001b[39m | \u001b[39m0.2257093\u001b[39m |\n",
      "| \u001b[39m22       \u001b[39m | \u001b[39m-6245.342\u001b[39m | \u001b[39m45.918305\u001b[39m | \u001b[39m0.5597169\u001b[39m | \u001b[39m0.0125559\u001b[39m | \u001b[39m1.1439485\u001b[39m | \u001b[39m9.7054869\u001b[39m | \u001b[39m1.7043013\u001b[39m | \u001b[39m0.2032932\u001b[39m |\n",
      "| \u001b[39m23       \u001b[39m | \u001b[39m-9348.277\u001b[39m | \u001b[39m16.896521\u001b[39m | \u001b[39m0.7438258\u001b[39m | \u001b[39m0.1954294\u001b[39m | \u001b[39m2.1627178\u001b[39m | \u001b[39m9.7301799\u001b[39m | \u001b[39m2.5404864\u001b[39m | \u001b[39m0.2398477\u001b[39m |\n",
      "| \u001b[39m24       \u001b[39m | \u001b[39m-5431.701\u001b[39m | \u001b[39m32.107491\u001b[39m | \u001b[39m0.6199557\u001b[39m | \u001b[39m0.8289808\u001b[39m | \u001b[39m1.3135827\u001b[39m | \u001b[39m1.1671858\u001b[39m | \u001b[39m0.2100664\u001b[39m | \u001b[39m0.4863451\u001b[39m |\n",
      "| \u001b[39m25       \u001b[39m | \u001b[39m-9348.022\u001b[39m | \u001b[39m39.198756\u001b[39m | \u001b[39m0.5688514\u001b[39m | \u001b[39m0.3173624\u001b[39m | \u001b[39m2.9772323\u001b[39m | \u001b[39m6.2177069\u001b[39m | \u001b[39m1.1404235\u001b[39m | \u001b[39m0.5509482\u001b[39m |\n",
      "| \u001b[39m26       \u001b[39m | \u001b[39m-7367.619\u001b[39m | \u001b[39m47.956069\u001b[39m | \u001b[39m0.6692328\u001b[39m | \u001b[39m0.2649195\u001b[39m | \u001b[39m1.1326696\u001b[39m | \u001b[39m4.3307577\u001b[39m | \u001b[39m1.8891525\u001b[39m | \u001b[39m0.2101740\u001b[39m |\n",
      "| \u001b[39m27       \u001b[39m | \u001b[39m-9626.665\u001b[39m | \u001b[39m48.423599\u001b[39m | \u001b[39m0.0665364\u001b[39m | \u001b[39m0.2603150\u001b[39m | \u001b[39m2.6095091\u001b[39m | \u001b[39m2.7409085\u001b[39m | \u001b[39m1.9183826\u001b[39m | \u001b[39m0.5246703\u001b[39m |\n",
      "| \u001b[39m28       \u001b[39m | \u001b[39m-9348.277\u001b[39m | \u001b[39m59.262902\u001b[39m | \u001b[39m0.2632967\u001b[39m | \u001b[39m0.0659610\u001b[39m | \u001b[39m2.4701319\u001b[39m | \u001b[39m7.9496022\u001b[39m | \u001b[39m2.7234475\u001b[39m | \u001b[39m0.9319720\u001b[39m |\n",
      "| \u001b[39m29       \u001b[39m | \u001b[39m-7055.120\u001b[39m | \u001b[39m1.8789490\u001b[39m | \u001b[39m0.2343620\u001b[39m | \u001b[39m0.6167783\u001b[39m | \u001b[39m2.8980326\u001b[39m | \u001b[39m9.5515850\u001b[39m | \u001b[39m1.6699595\u001b[39m | \u001b[39m0.9156063\u001b[39m |\n",
      "| \u001b[39m30       \u001b[39m | \u001b[39m-9348.277\u001b[39m | \u001b[39m41.418671\u001b[39m | \u001b[39m0.3900077\u001b[39m | \u001b[39m0.4859906\u001b[39m | \u001b[39m2.2086209\u001b[39m | \u001b[39m5.9459312\u001b[39m | \u001b[39m2.7785442\u001b[39m | \u001b[39m0.9187334\u001b[39m |\n",
      "| \u001b[39m31       \u001b[39m | \u001b[39m-4071.627\u001b[39m | \u001b[39m25.877163\u001b[39m | \u001b[39m0.9632625\u001b[39m | \u001b[39m0.1739556\u001b[39m | \u001b[39m1.2526590\u001b[39m | \u001b[39m2.2157124\u001b[39m | \u001b[39m1.5169864\u001b[39m | \u001b[39m0.0215248\u001b[39m |\n",
      "| \u001b[39m32       \u001b[39m | \u001b[39m-6475.266\u001b[39m | \u001b[39m60.722123\u001b[39m | \u001b[39m0.8271154\u001b[39m | \u001b[39m0.0150189\u001b[39m | \u001b[39m1.3523925\u001b[39m | \u001b[39m3.9885721\u001b[39m | \u001b[39m0.3929905\u001b[39m | \u001b[39m0.8094906\u001b[39m |\n",
      "| \u001b[39m33       \u001b[39m | \u001b[39m-9348.277\u001b[39m | \u001b[39m22.718409\u001b[39m | \u001b[39m0.9401074\u001b[39m | \u001b[39m0.5820141\u001b[39m | \u001b[39m2.7576639\u001b[39m | \u001b[39m8.6026100\u001b[39m | \u001b[39m2.7161769\u001b[39m | \u001b[39m0.4598802\u001b[39m |\n",
      "| \u001b[35m34       \u001b[39m | \u001b[35m-2847.084\u001b[39m | \u001b[35m35.419849\u001b[39m | \u001b[35m0.7986035\u001b[39m | \u001b[35m0.2857188\u001b[39m | \u001b[35m1.9805070\u001b[39m | \u001b[35m6.3919927\u001b[39m | \u001b[35m0.0465998\u001b[39m | \u001b[35m0.5934814\u001b[39m |\n",
      "| \u001b[39m35       \u001b[39m | \u001b[39m-8324.041\u001b[39m | \u001b[39m28.321609\u001b[39m | \u001b[39m0.8073605\u001b[39m | \u001b[39m0.3152448\u001b[39m | \u001b[39m2.7857774\u001b[39m | \u001b[39m6.2007149\u001b[39m | \u001b[39m0.5520306\u001b[39m | \u001b[39m0.7879292\u001b[39m |\n",
      "| \u001b[35m36       \u001b[39m | \u001b[35m-2830.011\u001b[39m | \u001b[35m39.557964\u001b[39m | \u001b[35m0.0539092\u001b[39m | \u001b[35m0.4201936\u001b[39m | \u001b[35m2.3581376\u001b[39m | \u001b[35m9.2674160\u001b[39m | \u001b[35m0.0012060\u001b[39m | \u001b[35m0.9767591\u001b[39m |\n",
      "| \u001b[39m37       \u001b[39m | \u001b[39m-9230.590\u001b[39m | \u001b[39m24.724559\u001b[39m | \u001b[39m0.9737835\u001b[39m | \u001b[39m0.6047161\u001b[39m | \u001b[39m2.6576916\u001b[39m | \u001b[39m6.1724035\u001b[39m | \u001b[39m1.8842285\u001b[39m | \u001b[39m0.2855762\u001b[39m |\n",
      "| \u001b[39m38       \u001b[39m | \u001b[39m-9348.277\u001b[39m | \u001b[39m37.970500\u001b[39m | \u001b[39m0.7500217\u001b[39m | \u001b[39m0.8583138\u001b[39m | \u001b[39m2.5101643\u001b[39m | \u001b[39m7.2825152\u001b[39m | \u001b[39m2.5934382\u001b[39m | \u001b[39m0.3226809\u001b[39m |\n",
      "| \u001b[39m39       \u001b[39m | \u001b[39m-7294.074\u001b[39m | \u001b[39m43.259693\u001b[39m | \u001b[39m0.4508739\u001b[39m | \u001b[39m0.3821027\u001b[39m | \u001b[39m1.8216226\u001b[39m | \u001b[39m4.6133162\u001b[39m | \u001b[39m0.9521518\u001b[39m | \u001b[39m0.6219193\u001b[39m |\n",
      "| \u001b[39m40       \u001b[39m | \u001b[39m-6441.768\u001b[39m | \u001b[39m28.105578\u001b[39m | \u001b[39m0.9738020\u001b[39m | \u001b[39m0.6778008\u001b[39m | \u001b[39m1.3971397\u001b[39m | \u001b[39m4.8403090\u001b[39m | \u001b[39m1.0300387\u001b[39m | \u001b[39m0.7976388\u001b[39m |\n",
      "| \u001b[39m41       \u001b[39m | \u001b[39m-7194.884\u001b[39m | \u001b[39m56.439892\u001b[39m | \u001b[39m0.9038419\u001b[39m | \u001b[39m0.6627198\u001b[39m | \u001b[39m1.5404165\u001b[39m | \u001b[39m3.2713003\u001b[39m | \u001b[39m2.5646938\u001b[39m | \u001b[39m0.5277146\u001b[39m |\n",
      "| \u001b[39m42       \u001b[39m | \u001b[39m-9348.277\u001b[39m | \u001b[39m51.536148\u001b[39m | \u001b[39m0.5724885\u001b[39m | \u001b[39m0.7331425\u001b[39m | \u001b[39m2.0380232\u001b[39m | \u001b[39m7.9379551\u001b[39m | \u001b[39m1.7065739\u001b[39m | \u001b[39m0.4657098\u001b[39m |\n",
      "| \u001b[39m43       \u001b[39m | \u001b[39m-6301.250\u001b[39m | \u001b[39m22.589401\u001b[39m | \u001b[39m0.0682093\u001b[39m | \u001b[39m0.3779241\u001b[39m | \u001b[39m1.1592521\u001b[39m | \u001b[39m9.8453540\u001b[39m | \u001b[39m0.5448385\u001b[39m | \u001b[39m0.8118586\u001b[39m |\n",
      "| \u001b[39m44       \u001b[39m | \u001b[39m-6818.161\u001b[39m | \u001b[39m56.122583\u001b[39m | \u001b[39m0.6884132\u001b[39m | \u001b[39m0.5694944\u001b[39m | \u001b[39m1.3219428\u001b[39m | \u001b[39m5.2019202\u001b[39m | \u001b[39m1.0355161\u001b[39m | \u001b[39m0.2250399\u001b[39m |\n",
      "| \u001b[39m45       \u001b[39m | \u001b[39m-8604.699\u001b[39m | \u001b[39m38.328247\u001b[39m | \u001b[39m0.3122698\u001b[39m | \u001b[39m0.9163055\u001b[39m | \u001b[39m2.8192710\u001b[39m | \u001b[39m3.3140646\u001b[39m | \u001b[39m0.3326739\u001b[39m | \u001b[39m0.1929627\u001b[39m |\n",
      "| \u001b[39m46       \u001b[39m | \u001b[39m-6284.291\u001b[39m | \u001b[39m32.473802\u001b[39m | \u001b[39m0.7285856\u001b[39m | \u001b[39m0.2081944\u001b[39m | \u001b[39m1.4960671\u001b[39m | \u001b[39m8.6650468\u001b[39m | \u001b[39m1.2475461\u001b[39m | \u001b[39m0.6166850\u001b[39m |\n",
      "| \u001b[39m47       \u001b[39m | \u001b[39m-12353.53\u001b[39m | \u001b[39m15.720966\u001b[39m | \u001b[39m0.1019672\u001b[39m | \u001b[39m0.5158570\u001b[39m | \u001b[39m1.9542819\u001b[39m | \u001b[39m2.3740447\u001b[39m | \u001b[39m1.8654186\u001b[39m | \u001b[39m0.5440101\u001b[39m |\n",
      "| \u001b[39m48       \u001b[39m | \u001b[39m-8861.929\u001b[39m | \u001b[39m42.210652\u001b[39m | \u001b[39m0.1445455\u001b[39m | \u001b[39m0.7515278\u001b[39m | \u001b[39m1.4440982\u001b[39m | \u001b[39m5.6741664\u001b[39m | \u001b[39m2.3558880\u001b[39m | \u001b[39m0.0223304\u001b[39m |\n",
      "| \u001b[39m49       \u001b[39m | \u001b[39m-9348.277\u001b[39m | \u001b[39m21.434834\u001b[39m | \u001b[39m0.8729223\u001b[39m | \u001b[39m0.8447096\u001b[39m | \u001b[39m2.0768811\u001b[39m | \u001b[39m8.7994744\u001b[39m | \u001b[39m2.8494179\u001b[39m | \u001b[39m0.8264069\u001b[39m |\n",
      "| \u001b[39m50       \u001b[39m | \u001b[39m-8958.758\u001b[39m | \u001b[39m54.809272\u001b[39m | \u001b[39m0.0987434\u001b[39m | \u001b[39m0.6513043\u001b[39m | \u001b[39m2.4070339\u001b[39m | \u001b[39m6.4921673\u001b[39m | \u001b[39m2.3988457\u001b[39m | \u001b[39m0.0345712\u001b[39m |\n",
      "| \u001b[39m51       \u001b[39m | \u001b[39m-6225.256\u001b[39m | \u001b[39m49.525040\u001b[39m | \u001b[39m0.7317286\u001b[39m | \u001b[39m0.2596983\u001b[39m | \u001b[39m1.5141385\u001b[39m | \u001b[39m6.6907298\u001b[39m | \u001b[39m1.0358923\u001b[39m | \u001b[39m0.7965886\u001b[39m |\n",
      "| \u001b[39m52       \u001b[39m | \u001b[39m-12519.32\u001b[39m | \u001b[39m29.107212\u001b[39m | \u001b[39m0.7827494\u001b[39m | \u001b[39m0.9904717\u001b[39m | \u001b[39m1.6004966\u001b[39m | \u001b[39m2.2870524\u001b[39m | \u001b[39m2.7039253\u001b[39m | \u001b[39m0.5415593\u001b[39m |\n",
      "| \u001b[39m53       \u001b[39m | \u001b[39m-7422.966\u001b[39m | \u001b[39m62.408643\u001b[39m | \u001b[39m0.6366044\u001b[39m | \u001b[39m0.9939130\u001b[39m | \u001b[39m2.0921416\u001b[39m | \u001b[39m5.7378334\u001b[39m | \u001b[39m0.4062837\u001b[39m | \u001b[39m0.3557051\u001b[39m |\n",
      "| \u001b[39m54       \u001b[39m | \u001b[39m-6667.760\u001b[39m | \u001b[39m2.6517697\u001b[39m | \u001b[39m0.1603951\u001b[39m | \u001b[39m0.7456371\u001b[39m | \u001b[39m1.0607993\u001b[39m | \u001b[39m4.2988878\u001b[39m | \u001b[39m2.5870387\u001b[39m | \u001b[39m0.6926777\u001b[39m |\n",
      "| \u001b[39m55       \u001b[39m | \u001b[39m-7696.426\u001b[39m | \u001b[39m44.529354\u001b[39m | \u001b[39m0.1886368\u001b[39m | \u001b[39m0.4419042\u001b[39m | \u001b[39m2.1631548\u001b[39m | \u001b[39m9.9077653\u001b[39m | \u001b[39m0.6117186\u001b[39m | \u001b[39m0.2477329\u001b[39m |\n",
      "| \u001b[39m56       \u001b[39m | \u001b[39m-5989.237\u001b[39m | \u001b[39m17.516904\u001b[39m | \u001b[39m0.7501724\u001b[39m | \u001b[39m0.4569753\u001b[39m | \u001b[39m1.1138588\u001b[39m | \u001b[39m5.5766461\u001b[39m | \u001b[39m0.6358804\u001b[39m | \u001b[39m0.7986042\u001b[39m |\n",
      "| \u001b[39m57       \u001b[39m | \u001b[39m-9348.277\u001b[39m | \u001b[39m19.731877\u001b[39m | \u001b[39m0.0276060\u001b[39m | \u001b[39m0.5934324\u001b[39m | \u001b[39m2.6876808\u001b[39m | \u001b[39m4.4291451\u001b[39m | \u001b[39m2.2495749\u001b[39m | \u001b[39m0.5111414\u001b[39m |\n",
      "| \u001b[39m58       \u001b[39m | \u001b[39m-6565.860\u001b[39m | \u001b[39m35.079963\u001b[39m | \u001b[39m0.9594343\u001b[39m | \u001b[39m0.8039608\u001b[39m | \u001b[39m1.0646461\u001b[39m | \u001b[39m7.3844852\u001b[39m | \u001b[39m1.3950044\u001b[39m | \u001b[39m0.9475489\u001b[39m |\n",
      "| \u001b[39m59       \u001b[39m | \u001b[39m-12276.05\u001b[39m | \u001b[39m14.950262\u001b[39m | \u001b[39m0.2670720\u001b[39m | \u001b[39m0.0814739\u001b[39m | \u001b[39m1.8572376\u001b[39m | \u001b[39m1.9811688\u001b[39m | \u001b[39m1.9013602\u001b[39m | \u001b[39m0.8029632\u001b[39m |\n",
      "| \u001b[39m60       \u001b[39m | \u001b[39m-9348.277\u001b[39m | \u001b[39m44.898431\u001b[39m | \u001b[39m0.7662113\u001b[39m | \u001b[39m0.3424541\u001b[39m | \u001b[39m2.6917029\u001b[39m | \u001b[39m4.8589189\u001b[39m | \u001b[39m2.4720296\u001b[39m | \u001b[39m0.6264961\u001b[39m |\n",
      "| \u001b[35m61       \u001b[39m | \u001b[35m-2782.685\u001b[39m | \u001b[35m10.035652\u001b[39m | \u001b[35m0.0783868\u001b[39m | \u001b[35m0.0183326\u001b[39m | \u001b[35m1.1334499\u001b[39m | \u001b[35m5.1272543\u001b[39m | \u001b[35m0.3400257\u001b[39m | \u001b[35m0.0277833\u001b[39m |\n",
      "| \u001b[39m62       \u001b[39m | \u001b[39m-8818.126\u001b[39m | \u001b[39m48.556273\u001b[39m | \u001b[39m0.3948504\u001b[39m | \u001b[39m0.7469384\u001b[39m | \u001b[39m1.9048096\u001b[39m | \u001b[39m5.0507807\u001b[39m | \u001b[39m1.4342175\u001b[39m | \u001b[39m0.4740039\u001b[39m |\n",
      "| \u001b[39m63       \u001b[39m | \u001b[39m-7400.666\u001b[39m | \u001b[39m51.599290\u001b[39m | \u001b[39m0.4023925\u001b[39m | \u001b[39m0.9046861\u001b[39m | \u001b[39m1.0741220\u001b[39m | \u001b[39m7.9648690\u001b[39m | \u001b[39m0.3769241\u001b[39m | \u001b[39m0.6185135\u001b[39m |\n",
      "| \u001b[39m64       \u001b[39m | \u001b[39m-9348.277\u001b[39m | \u001b[39m1.6529484\u001b[39m | \u001b[39m0.5386272\u001b[39m | \u001b[39m0.0030179\u001b[39m | \u001b[39m2.9023875\u001b[39m | \u001b[39m9.1486183\u001b[39m | \u001b[39m2.3879008\u001b[39m | \u001b[39m0.9152743\u001b[39m |\n",
      "| \u001b[39m65       \u001b[39m | \u001b[39m-6218.930\u001b[39m | \u001b[39m35.300548\u001b[39m | \u001b[39m0.7899260\u001b[39m | \u001b[39m0.0265635\u001b[39m | \u001b[39m1.9335534\u001b[39m | \u001b[39m6.1636072\u001b[39m | \u001b[39m0.7840663\u001b[39m | \u001b[39m0.5067000\u001b[39m |\n",
      "| \u001b[35m66       \u001b[39m | \u001b[35m-2683.424\u001b[39m | \u001b[35m35.555796\u001b[39m | \u001b[35m0.8234409\u001b[39m | \u001b[35m0.7798747\u001b[39m | \u001b[35m1.9871476\u001b[39m | \u001b[35m6.8853193\u001b[39m | \u001b[35m0.0      \u001b[39m | \u001b[35m0.7805042\u001b[39m |\n",
      "| \u001b[35m67       \u001b[39m | \u001b[35m-2471.601\u001b[39m | \u001b[35m35.642298\u001b[39m | \u001b[35m0.5166427\u001b[39m | \u001b[35m0.1133004\u001b[39m | \u001b[35m2.3662254\u001b[39m | \u001b[35m7.0983561\u001b[39m | \u001b[35m0.0      \u001b[39m | \u001b[35m0.6687803\u001b[39m |\n",
      "| \u001b[39m68       \u001b[39m | \u001b[39m-3881.477\u001b[39m | \u001b[39m35.146817\u001b[39m | \u001b[39m0.8025344\u001b[39m | \u001b[39m0.6287507\u001b[39m | \u001b[39m2.8107011\u001b[39m | \u001b[39m6.8113180\u001b[39m | \u001b[39m0.0      \u001b[39m | \u001b[39m0.4329903\u001b[39m |\n",
      "| \u001b[39m69       \u001b[39m | \u001b[39m-8408.810\u001b[39m | \u001b[39m35.769731\u001b[39m | \u001b[39m0.0      \u001b[39m | \u001b[39m0.6250872\u001b[39m | \u001b[39m1.9677759\u001b[39m | \u001b[39m6.7850469\u001b[39m | \u001b[39m0.0      \u001b[39m | \u001b[39m0.2178831\u001b[39m |\n",
      "| \u001b[39m70       \u001b[39m | \u001b[39m-3188.477\u001b[39m | \u001b[39m35.208009\u001b[39m | \u001b[39m1.0      \u001b[39m | \u001b[39m0.1192293\u001b[39m | \u001b[39m2.1816930\u001b[39m | \u001b[39m7.0271272\u001b[39m | \u001b[39m0.0      \u001b[39m | \u001b[39m1.0      \u001b[39m |\n",
      "| \u001b[39m71       \u001b[39m | \u001b[39m-2872.669\u001b[39m | \u001b[39m35.933267\u001b[39m | \u001b[39m1.0      \u001b[39m | \u001b[39m0.3200220\u001b[39m | \u001b[39m2.5087584\u001b[39m | \u001b[39m6.6590065\u001b[39m | \u001b[39m0.0      \u001b[39m | \u001b[39m0.9764725\u001b[39m |\n",
      "| \u001b[39m72       \u001b[39m | \u001b[39m-3802.875\u001b[39m | \u001b[39m10.153743\u001b[39m | \u001b[39m0.1783297\u001b[39m | \u001b[39m0.0      \u001b[39m | \u001b[39m1.0172969\u001b[39m | \u001b[39m5.8441047\u001b[39m | \u001b[39m0.7684506\u001b[39m | \u001b[39m0.2952936\u001b[39m |\n",
      "| \u001b[39m73       \u001b[39m | \u001b[39m-3298.892\u001b[39m | \u001b[39m35.921424\u001b[39m | \u001b[39m1.0      \u001b[39m | \u001b[39m0.3068512\u001b[39m | \u001b[39m2.4155080\u001b[39m | \u001b[39m7.6430063\u001b[39m | \u001b[39m0.0      \u001b[39m | \u001b[39m0.6069219\u001b[39m |\n",
      "| \u001b[39m74       \u001b[39m | \u001b[39m-3188.477\u001b[39m | \u001b[39m10.731994\u001b[39m | \u001b[39m0.0      \u001b[39m | \u001b[39m0.0      \u001b[39m | \u001b[39m1.6464455\u001b[39m | \u001b[39m5.5037758\u001b[39m | \u001b[39m0.0      \u001b[39m | \u001b[39m0.0      \u001b[39m |\n",
      "| \u001b[39m75       \u001b[39m | \u001b[39m-3188.477\u001b[39m | \u001b[39m10.561153\u001b[39m | \u001b[39m0.9396771\u001b[39m | \u001b[39m0.0      \u001b[39m | \u001b[39m1.0      \u001b[39m | \u001b[39m5.2593253\u001b[39m | \u001b[39m0.0      \u001b[39m | \u001b[39m0.0      \u001b[39m |\n",
      "| \u001b[39m76       \u001b[39m | \u001b[39m-3188.477\u001b[39m | \u001b[39m9.7358958\u001b[39m | \u001b[39m0.7130405\u001b[39m | \u001b[39m0.0      \u001b[39m | \u001b[39m1.8567608\u001b[39m | \u001b[39m5.5484001\u001b[39m | \u001b[39m0.0      \u001b[39m | \u001b[39m0.0      \u001b[39m |\n",
      "| \u001b[39m77       \u001b[39m | \u001b[39m-3188.477\u001b[39m | \u001b[39m10.244352\u001b[39m | \u001b[39m0.4555812\u001b[39m | \u001b[39m0.0      \u001b[39m | \u001b[39m1.5385138\u001b[39m | \u001b[39m5.0502067\u001b[39m | \u001b[39m0.0      \u001b[39m | \u001b[39m1.0      \u001b[39m |\n",
      "| \u001b[39m78       \u001b[39m | \u001b[39m-4931.032\u001b[39m | \u001b[39m10.179859\u001b[39m | \u001b[39m0.4005941\u001b[39m | \u001b[39m1.0      \u001b[39m | \u001b[39m1.3491179\u001b[39m | \u001b[39m5.3828877\u001b[39m | \u001b[39m0.0      \u001b[39m | \u001b[39m0.2846271\u001b[39m |\n",
      "| \u001b[39m79       \u001b[39m | \u001b[39m-2938.521\u001b[39m | \u001b[39m3.0602407\u001b[39m | \u001b[39m0.3704969\u001b[39m | \u001b[39m0.6751076\u001b[39m | \u001b[39m1.3417855\u001b[39m | \u001b[39m1.6489726\u001b[39m | \u001b[39m0.0991056\u001b[39m | \u001b[39m0.7924021\u001b[39m |\n",
      "| \u001b[39m80       \u001b[39m | \u001b[39m-3010.086\u001b[39m | \u001b[39m2.8417111\u001b[39m | \u001b[39m0.8337657\u001b[39m | \u001b[39m0.3303547\u001b[39m | \u001b[39m2.4180138\u001b[39m | \u001b[39m1.1469316\u001b[39m | \u001b[39m0.0      \u001b[39m | \u001b[39m0.8485222\u001b[39m |\n",
      "| \u001b[39m81       \u001b[39m | \u001b[39m-3188.477\u001b[39m | \u001b[39m3.8261939\u001b[39m | \u001b[39m0.9519318\u001b[39m | \u001b[39m0.0      \u001b[39m | \u001b[39m1.9866854\u001b[39m | \u001b[39m2.0091259\u001b[39m | \u001b[39m0.0      \u001b[39m | \u001b[39m1.0      \u001b[39m |\n",
      "| \u001b[39m82       \u001b[39m | \u001b[39m-3188.477\u001b[39m | \u001b[39m3.2348788\u001b[39m | \u001b[39m0.0      \u001b[39m | \u001b[39m0.0      \u001b[39m | \u001b[39m2.2484183\u001b[39m | \u001b[39m1.8371739\u001b[39m | \u001b[39m0.0      \u001b[39m | \u001b[39m0.0      \u001b[39m |\n",
      "| \u001b[39m83       \u001b[39m | \u001b[39m-3336.681\u001b[39m | \u001b[39m3.6604235\u001b[39m | \u001b[39m0.0173770\u001b[39m | \u001b[39m1.0      \u001b[39m | \u001b[39m2.5754005\u001b[39m | \u001b[39m1.7137488\u001b[39m | \u001b[39m0.4059826\u001b[39m | \u001b[39m1.0      \u001b[39m |\n",
      "| \u001b[39m84       \u001b[39m | \u001b[39m-2606.035\u001b[39m | \u001b[39m3.5707489\u001b[39m | \u001b[39m1.0      \u001b[39m | \u001b[39m0.6616973\u001b[39m | \u001b[39m1.9627975\u001b[39m | \u001b[39m1.4034880\u001b[39m | \u001b[39m0.8937801\u001b[39m | \u001b[39m0.0081926\u001b[39m |\n",
      "| \u001b[39m85       \u001b[39m | \u001b[39m-9945.887\u001b[39m | \u001b[39m3.3531151\u001b[39m | \u001b[39m0.2088015\u001b[39m | \u001b[39m0.0      \u001b[39m | \u001b[39m1.8424912\u001b[39m | \u001b[39m1.1479363\u001b[39m | \u001b[39m1.2379677\u001b[39m | \u001b[39m0.9173389\u001b[39m |\n",
      "| \u001b[39m86       \u001b[39m | \u001b[39m-2759.406\u001b[39m | \u001b[39m3.2951468\u001b[39m | \u001b[39m1.0      \u001b[39m | \u001b[39m1.0      \u001b[39m | \u001b[39m2.2450922\u001b[39m | \u001b[39m2.0632630\u001b[39m | \u001b[39m0.0      \u001b[39m | \u001b[39m0.0826091\u001b[39m |\n",
      "| \u001b[39m87       \u001b[39m | \u001b[39m-2745.823\u001b[39m | \u001b[39m4.2150360\u001b[39m | \u001b[39m0.9713431\u001b[39m | \u001b[39m1.0      \u001b[39m | \u001b[39m2.0784905\u001b[39m | \u001b[39m1.0      \u001b[39m | \u001b[39m0.0      \u001b[39m | \u001b[39m0.0930076\u001b[39m |\n",
      "| \u001b[39m88       \u001b[39m | \u001b[39m-2982.055\u001b[39m | \u001b[39m4.2648043\u001b[39m | \u001b[39m0.5108196\u001b[39m | \u001b[39m1.0      \u001b[39m | \u001b[39m1.3557487\u001b[39m | \u001b[39m2.2754294\u001b[39m | \u001b[39m0.2764405\u001b[39m | \u001b[39m0.0      \u001b[39m |\n",
      "| \u001b[39m89       \u001b[39m | \u001b[39m-2553.895\u001b[39m | \u001b[39m2.8945328\u001b[39m | \u001b[39m1.0      \u001b[39m | \u001b[39m0.1022833\u001b[39m | \u001b[39m1.1171678\u001b[39m | \u001b[39m2.3063421\u001b[39m | \u001b[39m0.0      \u001b[39m | \u001b[39m0.0      \u001b[39m |\n",
      "| \u001b[39m90       \u001b[39m | \u001b[39m-2767.489\u001b[39m | \u001b[39m1.9800331\u001b[39m | \u001b[39m1.0      \u001b[39m | \u001b[39m1.0      \u001b[39m | \u001b[39m1.5726132\u001b[39m | \u001b[39m1.3898249\u001b[39m | \u001b[39m0.0      \u001b[39m | \u001b[39m0.0      \u001b[39m |\n",
      "| \u001b[39m91       \u001b[39m | \u001b[39m-3528.336\u001b[39m | \u001b[39m2.2535855\u001b[39m | \u001b[39m0.0      \u001b[39m | \u001b[39m1.0      \u001b[39m | \u001b[39m1.4164722\u001b[39m | \u001b[39m2.7551816\u001b[39m | \u001b[39m0.0      \u001b[39m | \u001b[39m0.0205477\u001b[39m |\n",
      "| \u001b[39m92       \u001b[39m | \u001b[39m-3188.477\u001b[39m | \u001b[39m38.138505\u001b[39m | \u001b[39m0.1738549\u001b[39m | \u001b[39m0.0      \u001b[39m | \u001b[39m2.3638009\u001b[39m | \u001b[39m9.3638557\u001b[39m | \u001b[39m0.0      \u001b[39m | \u001b[39m1.0      \u001b[39m |\n",
      "| \u001b[39m93       \u001b[39m | \u001b[39m-3139.562\u001b[39m | \u001b[39m1.0      \u001b[39m | \u001b[39m0.5781113\u001b[39m | \u001b[39m0.9369588\u001b[39m | \u001b[39m1.0488432\u001b[39m | \u001b[39m9.0289661\u001b[39m | \u001b[39m0.0      \u001b[39m | \u001b[39m0.9020679\u001b[39m |\n",
      "| \u001b[39m94       \u001b[39m | \u001b[39m-3188.477\u001b[39m | \u001b[39m1.0      \u001b[39m | \u001b[39m0.0451919\u001b[39m | \u001b[39m0.0      \u001b[39m | \u001b[39m1.7272971\u001b[39m | \u001b[39m8.3603472\u001b[39m | \u001b[39m0.0      \u001b[39m | \u001b[39m0.0      \u001b[39m |\n",
      "| \u001b[39m95       \u001b[39m | \u001b[39m-3188.477\u001b[39m | \u001b[39m1.0      \u001b[39m | \u001b[39m1.0      \u001b[39m | \u001b[39m0.0      \u001b[39m | \u001b[39m1.7116133\u001b[39m | \u001b[39m9.8992637\u001b[39m | \u001b[39m0.0      \u001b[39m | \u001b[39m0.0579228\u001b[39m |\n",
      "| \u001b[39m96       \u001b[39m | \u001b[39m-3188.477\u001b[39m | \u001b[39m2.3133647\u001b[39m | \u001b[39m1.0      \u001b[39m | \u001b[39m0.0      \u001b[39m | \u001b[39m1.3073852\u001b[39m | \u001b[39m8.7502319\u001b[39m | \u001b[39m0.0      \u001b[39m | \u001b[39m0.6624905\u001b[39m |\n",
      "| \u001b[39m97       \u001b[39m | \u001b[39m-2839.937\u001b[39m | \u001b[39m1.4098156\u001b[39m | \u001b[39m1.0      \u001b[39m | \u001b[39m1.0      \u001b[39m | \u001b[39m2.4273441\u001b[39m | \u001b[39m8.6286689\u001b[39m | \u001b[39m0.0      \u001b[39m | \u001b[39m0.0712843\u001b[39m |\n",
      "| \u001b[39m98       \u001b[39m | \u001b[39m-2833.266\u001b[39m | \u001b[39m1.2344021\u001b[39m | \u001b[39m1.0      \u001b[39m | \u001b[39m0.8703087\u001b[39m | \u001b[39m1.0      \u001b[39m | \u001b[39m8.1749251\u001b[39m | \u001b[39m0.9225271\u001b[39m | \u001b[39m0.0      \u001b[39m |\n",
      "| \u001b[39m99       \u001b[39m | \u001b[39m-3188.477\u001b[39m | \u001b[39m1.0      \u001b[39m | \u001b[39m1.0      \u001b[39m | \u001b[39m0.4444748\u001b[39m | \u001b[39m1.6748521\u001b[39m | \u001b[39m7.3725273\u001b[39m | \u001b[39m0.0      \u001b[39m | \u001b[39m1.0      \u001b[39m |\n",
      "| \u001b[39m100      \u001b[39m | \u001b[39m-3327.175\u001b[39m | \u001b[39m2.4369095\u001b[39m | \u001b[39m0.0      \u001b[39m | \u001b[39m1.0      \u001b[39m | \u001b[39m1.1674712\u001b[39m | \u001b[39m7.4265236\u001b[39m | \u001b[39m0.0      \u001b[39m | \u001b[39m0.2103979\u001b[39m |\n",
      "| \u001b[39m101      \u001b[39m | \u001b[39m-3654.161\u001b[39m | \u001b[39m2.3676378\u001b[39m | \u001b[39m0.0      \u001b[39m | \u001b[39m1.0      \u001b[39m | \u001b[39m1.0      \u001b[39m | \u001b[39m9.6537174\u001b[39m | \u001b[39m0.3253083\u001b[39m | \u001b[39m0.0      \u001b[39m |\n",
      "| \u001b[39m102      \u001b[39m | \u001b[39m-3188.477\u001b[39m | \u001b[39m1.2608006\u001b[39m | \u001b[39m0.7239146\u001b[39m | \u001b[39m1.0      \u001b[39m | \u001b[39m3.0      \u001b[39m | \u001b[39m2.0284593\u001b[39m | \u001b[39m0.0      \u001b[39m | \u001b[39m1.0      \u001b[39m |\n",
      "| \u001b[39m103      \u001b[39m | \u001b[39m-3188.477\u001b[39m | \u001b[39m3.3681375\u001b[39m | \u001b[39m1.0      \u001b[39m | \u001b[39m1.0      \u001b[39m | \u001b[39m1.0      \u001b[39m | \u001b[39m3.6706698\u001b[39m | \u001b[39m0.0      \u001b[39m | \u001b[39m1.0      \u001b[39m |\n",
      "| \u001b[39m104      \u001b[39m | \u001b[39m-3188.477\u001b[39m | \u001b[39m4.1943044\u001b[39m | \u001b[39m0.0      \u001b[39m | \u001b[39m1.0      \u001b[39m | \u001b[39m2.9263547\u001b[39m | \u001b[39m3.6809336\u001b[39m | \u001b[39m0.0      \u001b[39m | \u001b[39m1.0      \u001b[39m |\n",
      "| \u001b[39m105      \u001b[39m | \u001b[39m-2537.920\u001b[39m | \u001b[39m5.4885479\u001b[39m | \u001b[39m1.0      \u001b[39m | \u001b[39m0.4384424\u001b[39m | \u001b[39m3.0      \u001b[39m | \u001b[39m2.5278678\u001b[39m | \u001b[39m0.0      \u001b[39m | \u001b[39m0.0      \u001b[39m |\n",
      "| \u001b[39m106      \u001b[39m | \u001b[39m-3188.477\u001b[39m | \u001b[39m5.2538472\u001b[39m | \u001b[39m1.0      \u001b[39m | \u001b[39m0.0      \u001b[39m | \u001b[39m1.8069981\u001b[39m | \u001b[39m4.2067935\u001b[39m | \u001b[39m0.0      \u001b[39m | \u001b[39m0.0      \u001b[39m |\n",
      "| \u001b[39m107      \u001b[39m | \u001b[39m-3188.477\u001b[39m | \u001b[39m6.0023640\u001b[39m | \u001b[39m1.0      \u001b[39m | \u001b[39m1.0      \u001b[39m | \u001b[39m1.7939902\u001b[39m | \u001b[39m3.0556161\u001b[39m | \u001b[39m0.0      \u001b[39m | \u001b[39m1.0      \u001b[39m |\n",
      "| \u001b[39m108      \u001b[39m | \u001b[39m-3188.477\u001b[39m | \u001b[39m6.5160636\u001b[39m | \u001b[39m0.0      \u001b[39m | \u001b[39m0.0      \u001b[39m | \u001b[39m3.0      \u001b[39m | \u001b[39m4.1083249\u001b[39m | \u001b[39m0.0      \u001b[39m | \u001b[39m0.8997149\u001b[39m |\n",
      "| \u001b[39m109      \u001b[39m | \u001b[39m-3071.465\u001b[39m | \u001b[39m5.7271307\u001b[39m | \u001b[39m1.0      \u001b[39m | \u001b[39m1.0      \u001b[39m | \u001b[39m3.0      \u001b[39m | \u001b[39m3.6965268\u001b[39m | \u001b[39m1.4073227\u001b[39m | \u001b[39m0.0      \u001b[39m |\n",
      "| \u001b[39m110      \u001b[39m | \u001b[39m-3188.477\u001b[39m | \u001b[39m5.7165268\u001b[39m | \u001b[39m1.0      \u001b[39m | \u001b[39m1.0      \u001b[39m | \u001b[39m3.0      \u001b[39m | \u001b[39m5.5747649\u001b[39m | \u001b[39m0.0      \u001b[39m | \u001b[39m1.0      \u001b[39m |\n",
      "| \u001b[39m111      \u001b[39m | \u001b[39m-3188.477\u001b[39m | \u001b[39m5.3625257\u001b[39m | \u001b[39m0.0      \u001b[39m | \u001b[39m1.0      \u001b[39m | \u001b[39m1.0      \u001b[39m | \u001b[39m5.5711942\u001b[39m | \u001b[39m0.0      \u001b[39m | \u001b[39m1.0      \u001b[39m |\n",
      "| \u001b[39m112      \u001b[39m | \u001b[39m-3188.477\u001b[39m | \u001b[39m7.2617370\u001b[39m | \u001b[39m1.0      \u001b[39m | \u001b[39m0.0      \u001b[39m | \u001b[39m1.2497373\u001b[39m | \u001b[39m5.5777419\u001b[39m | \u001b[39m0.0      \u001b[39m | \u001b[39m1.0      \u001b[39m |\n",
      "| \u001b[39m113      \u001b[39m | \u001b[39m-3188.477\u001b[39m | \u001b[39m6.4474769\u001b[39m | \u001b[39m0.0      \u001b[39m | \u001b[39m0.0      \u001b[39m | \u001b[39m2.3285140\u001b[39m | \u001b[39m6.7339106\u001b[39m | \u001b[39m0.0      \u001b[39m | \u001b[39m0.0      \u001b[39m |\n",
      "| \u001b[39m114      \u001b[39m | \u001b[39m-2967.088\u001b[39m | \u001b[39m5.0608029\u001b[39m | \u001b[39m1.0      \u001b[39m | \u001b[39m1.0      \u001b[39m | \u001b[39m1.0075956\u001b[39m | \u001b[39m7.5418282\u001b[39m | \u001b[39m0.0      \u001b[39m | \u001b[39m0.0      \u001b[39m |\n",
      "| \u001b[39m115      \u001b[39m | \u001b[39m-3143.006\u001b[39m | \u001b[39m6.1477732\u001b[39m | \u001b[39m1.0      \u001b[39m | \u001b[39m1.0      \u001b[39m | \u001b[39m1.4592223\u001b[39m | \u001b[39m6.1868843\u001b[39m | \u001b[39m1.6146225\u001b[39m | \u001b[39m0.0      \u001b[39m |\n",
      "| \u001b[39m116      \u001b[39m | \u001b[39m-5520.573\u001b[39m | \u001b[39m6.6799868\u001b[39m | \u001b[39m0.0      \u001b[39m | \u001b[39m1.0      \u001b[39m | \u001b[39m1.0      \u001b[39m | \u001b[39m7.9242491\u001b[39m | \u001b[39m0.7855092\u001b[39m | \u001b[39m1.0      \u001b[39m |\n",
      "| \u001b[39m117      \u001b[39m | \u001b[39m-3188.477\u001b[39m | \u001b[39m4.1502615\u001b[39m | \u001b[39m1.0      \u001b[39m | \u001b[39m0.0      \u001b[39m | \u001b[39m2.2417497\u001b[39m | \u001b[39m6.5514489\u001b[39m | \u001b[39m0.0      \u001b[39m | \u001b[39m0.0      \u001b[39m |\n",
      "| \u001b[39m118      \u001b[39m | \u001b[39m-3188.477\u001b[39m | \u001b[39m7.2669364\u001b[39m | \u001b[39m1.0      \u001b[39m | \u001b[39m0.0      \u001b[39m | \u001b[39m3.0      \u001b[39m | \u001b[39m5.4987295\u001b[39m | \u001b[39m1.2495702\u001b[39m | \u001b[39m0.0      \u001b[39m |\n",
      "| \u001b[39m119      \u001b[39m | \u001b[39m-2922.115\u001b[39m | \u001b[39m4.7434941\u001b[39m | \u001b[39m1.0      \u001b[39m | \u001b[39m1.0      \u001b[39m | \u001b[39m3.0      \u001b[39m | \u001b[39m8.4430862\u001b[39m | \u001b[39m0.0      \u001b[39m | \u001b[39m0.0      \u001b[39m |\n",
      "| \u001b[39m120      \u001b[39m | \u001b[39m-6368.366\u001b[39m | \u001b[39m5.0645493\u001b[39m | \u001b[39m0.0      \u001b[39m | \u001b[39m1.0      \u001b[39m | \u001b[39m3.0      \u001b[39m | \u001b[39m6.6495624\u001b[39m | \u001b[39m1.2171335\u001b[39m | \u001b[39m0.0      \u001b[39m |\n",
      "| \u001b[39m121      \u001b[39m | \u001b[39m-3188.477\u001b[39m | \u001b[39m4.9993802\u001b[39m | \u001b[39m1.0      \u001b[39m | \u001b[39m0.0      \u001b[39m | \u001b[39m1.6638701\u001b[39m | \u001b[39m9.8869409\u001b[39m | \u001b[39m0.0      \u001b[39m | \u001b[39m0.0      \u001b[39m |\n",
      "| \u001b[39m122      \u001b[39m | \u001b[39m-3188.477\u001b[39m | \u001b[39m6.9320861\u001b[39m | \u001b[39m1.0      \u001b[39m | \u001b[39m0.0      \u001b[39m | \u001b[39m3.0      \u001b[39m | \u001b[39m8.8243184\u001b[39m | \u001b[39m0.0      \u001b[39m | \u001b[39m0.0      \u001b[39m |\n",
      "| \u001b[39m123      \u001b[39m | \u001b[39m-3188.477\u001b[39m | \u001b[39m25.223932\u001b[39m | \u001b[39m0.0      \u001b[39m | \u001b[39m0.0      \u001b[39m | \u001b[39m1.0      \u001b[39m | \u001b[39m1.0      \u001b[39m | \u001b[39m0.0      \u001b[39m | \u001b[39m0.7300232\u001b[39m |\n",
      "| \u001b[39m124      \u001b[39m | \u001b[39m-3188.477\u001b[39m | \u001b[39m25.378036\u001b[39m | \u001b[39m1.0      \u001b[39m | \u001b[39m0.0      \u001b[39m | \u001b[39m3.0      \u001b[39m | \u001b[39m1.0      \u001b[39m | \u001b[39m0.0      \u001b[39m | \u001b[39m0.0      \u001b[39m |\n",
      "| \u001b[39m125      \u001b[39m | \u001b[39m-5092.261\u001b[39m | \u001b[39m23.596052\u001b[39m | \u001b[39m1.0      \u001b[39m | \u001b[39m1.0      \u001b[39m | \u001b[39m1.4962114\u001b[39m | \u001b[39m1.0      \u001b[39m | \u001b[39m0.0      \u001b[39m | \u001b[39m0.0      \u001b[39m |\n",
      "| \u001b[39m126      \u001b[39m | \u001b[39m-3188.477\u001b[39m | \u001b[39m25.325686\u001b[39m | \u001b[39m0.0      \u001b[39m | \u001b[39m0.0      \u001b[39m | \u001b[39m2.5591100\u001b[39m | \u001b[39m2.5435245\u001b[39m | \u001b[39m0.0      \u001b[39m | \u001b[39m1.0      \u001b[39m |\n",
      "| \u001b[39m127      \u001b[39m | \u001b[39m-13151.26\u001b[39m | \u001b[39m24.740690\u001b[39m | \u001b[39m0.0      \u001b[39m | \u001b[39m0.0      \u001b[39m | \u001b[39m3.0      \u001b[39m | \u001b[39m1.0      \u001b[39m | \u001b[39m1.7076780\u001b[39m | \u001b[39m1.0      \u001b[39m |\n",
      "| \u001b[39m128      \u001b[39m | \u001b[39m-3188.477\u001b[39m | \u001b[39m25.262518\u001b[39m | \u001b[39m1.0      \u001b[39m | \u001b[39m0.0      \u001b[39m | \u001b[39m1.0      \u001b[39m | \u001b[39m2.8145907\u001b[39m | \u001b[39m0.0      \u001b[39m | \u001b[39m0.0      \u001b[39m |\n",
      "| \u001b[39m129      \u001b[39m | \u001b[39m-3188.477\u001b[39m | \u001b[39m8.0835247\u001b[39m | \u001b[39m1.0      \u001b[39m | \u001b[39m0.0      \u001b[39m | \u001b[39m3.0      \u001b[39m | \u001b[39m6.9364209\u001b[39m | \u001b[39m0.0      \u001b[39m | \u001b[39m1.0      \u001b[39m |\n",
      "| \u001b[39m130      \u001b[39m | \u001b[39m-5275.129\u001b[39m | \u001b[39m26.190719\u001b[39m | \u001b[39m1.0      \u001b[39m | \u001b[39m1.0      \u001b[39m | \u001b[39m1.0      \u001b[39m | \u001b[39m1.0      \u001b[39m | \u001b[39m0.0      \u001b[39m | \u001b[39m0.0      \u001b[39m |\n",
      "| \u001b[39m131      \u001b[39m | \u001b[39m-3159.127\u001b[39m | \u001b[39m6.2396823\u001b[39m | \u001b[39m1.0      \u001b[39m | \u001b[39m1.0      \u001b[39m | \u001b[39m3.0      \u001b[39m | \u001b[39m1.1040771\u001b[39m | \u001b[39m1.3203190\u001b[39m | \u001b[39m0.0      \u001b[39m |\n",
      "| \u001b[39m132      \u001b[39m | \u001b[39m-3188.477\u001b[39m | \u001b[39m7.4717375\u001b[39m | \u001b[39m1.0      \u001b[39m | \u001b[39m0.0      \u001b[39m | \u001b[39m3.0      \u001b[39m | \u001b[39m1.5209275\u001b[39m | \u001b[39m0.0      \u001b[39m | \u001b[39m1.0      \u001b[39m |\n",
      "| \u001b[39m133      \u001b[39m | \u001b[39m-8343.558\u001b[39m | \u001b[39m6.8481948\u001b[39m | \u001b[39m0.0      \u001b[39m | \u001b[39m1.0      \u001b[39m | \u001b[39m3.0      \u001b[39m | \u001b[39m2.1501260\u001b[39m | \u001b[39m0.0      \u001b[39m | \u001b[39m0.0      \u001b[39m |\n",
      "| \u001b[39m134      \u001b[39m | \u001b[39m-7004.424\u001b[39m | \u001b[39m6.0566190\u001b[39m | \u001b[39m1.0      \u001b[39m | \u001b[39m0.0      \u001b[39m | \u001b[39m1.6310106\u001b[39m | \u001b[39m4.4585954\u001b[39m | \u001b[39m1.6612002\u001b[39m | \u001b[39m1.0      \u001b[39m |\n",
      "| \u001b[39m135      \u001b[39m | \u001b[39m-3188.477\u001b[39m | \u001b[39m8.0086288\u001b[39m | \u001b[39m1.0      \u001b[39m | \u001b[39m0.0      \u001b[39m | \u001b[39m3.0      \u001b[39m | \u001b[39m7.7369975\u001b[39m | \u001b[39m2.1558585\u001b[39m | \u001b[39m0.0      \u001b[39m |\n",
      "| \u001b[39m136      \u001b[39m | \u001b[39m-3192.452\u001b[39m | \u001b[39m6.4268632\u001b[39m | \u001b[39m1.0      \u001b[39m | \u001b[39m1.0      \u001b[39m | \u001b[39m3.0      \u001b[39m | \u001b[39m10.0     \u001b[39m | \u001b[39m1.7907230\u001b[39m | \u001b[39m0.0      \u001b[39m |\n",
      "| \u001b[39m137      \u001b[39m | \u001b[39m-3188.477\u001b[39m | \u001b[39m5.5727951\u001b[39m | \u001b[39m0.0      \u001b[39m | \u001b[39m1.0      \u001b[39m | \u001b[39m3.0      \u001b[39m | \u001b[39m10.0     \u001b[39m | \u001b[39m0.0      \u001b[39m | \u001b[39m1.0      \u001b[39m |\n",
      "| \u001b[39m138      \u001b[39m | \u001b[39m-8958.364\u001b[39m | \u001b[39m7.9883007\u001b[39m | \u001b[39m0.0      \u001b[39m | \u001b[39m0.0      \u001b[39m | \u001b[39m3.0      \u001b[39m | \u001b[39m10.0     \u001b[39m | \u001b[39m1.3996935\u001b[39m | \u001b[39m1.0      \u001b[39m |\n",
      "| \u001b[39m139      \u001b[39m | \u001b[39m-3188.477\u001b[39m | \u001b[39m5.7004520\u001b[39m | \u001b[39m1.0      \u001b[39m | \u001b[39m0.0      \u001b[39m | \u001b[39m1.9754905\u001b[39m | \u001b[39m8.4441845\u001b[39m | \u001b[39m1.6230600\u001b[39m | \u001b[39m0.0      \u001b[39m |\n",
      "| \u001b[39m140      \u001b[39m | \u001b[39m-2936.882\u001b[39m | \u001b[39m4.8504123\u001b[39m | \u001b[39m1.0      \u001b[39m | \u001b[39m1.0      \u001b[39m | \u001b[39m1.0      \u001b[39m | \u001b[39m10.0     \u001b[39m | \u001b[39m1.9114455\u001b[39m | \u001b[39m0.0      \u001b[39m |\n",
      "| \u001b[39m141      \u001b[39m | \u001b[39m-3345.894\u001b[39m | \u001b[39m7.2994164\u001b[39m | \u001b[39m1.0      \u001b[39m | \u001b[39m1.0      \u001b[39m | \u001b[39m2.1708203\u001b[39m | \u001b[39m6.4768572\u001b[39m | \u001b[39m0.0      \u001b[39m | \u001b[39m0.0      \u001b[39m |\n",
      "| \u001b[39m142      \u001b[39m | \u001b[39m-2900.284\u001b[39m | \u001b[39m4.5794841\u001b[39m | \u001b[39m1.0      \u001b[39m | \u001b[39m1.0      \u001b[39m | \u001b[39m3.0      \u001b[39m | \u001b[39m10.0     \u001b[39m | \u001b[39m1.0594571\u001b[39m | \u001b[39m0.0      \u001b[39m |\n",
      "| \u001b[39m143      \u001b[39m | \u001b[39m-3188.477\u001b[39m | \u001b[39m4.1681789\u001b[39m | \u001b[39m1.0      \u001b[39m | \u001b[39m1.0      \u001b[39m | \u001b[39m1.6082667\u001b[39m | \u001b[39m9.1971238\u001b[39m | \u001b[39m0.0      \u001b[39m | \u001b[39m1.0      \u001b[39m |\n",
      "| \u001b[39m144      \u001b[39m | \u001b[39m-3188.477\u001b[39m | \u001b[39m1.0      \u001b[39m | \u001b[39m1.0      \u001b[39m | \u001b[39m0.0      \u001b[39m | \u001b[39m1.0      \u001b[39m | \u001b[39m2.6554112\u001b[39m | \u001b[39m0.0      \u001b[39m | \u001b[39m1.0      \u001b[39m |\n",
      "| \u001b[39m145      \u001b[39m | \u001b[39m-3297.002\u001b[39m | \u001b[39m7.0065346\u001b[39m | \u001b[39m1.0      \u001b[39m | \u001b[39m1.0      \u001b[39m | \u001b[39m1.0      \u001b[39m | \u001b[39m8.0086782\u001b[39m | \u001b[39m3.0      \u001b[39m | \u001b[39m0.0      \u001b[39m |\n",
      "| \u001b[39m146      \u001b[39m | \u001b[39m-3559.161\u001b[39m | \u001b[39m8.5702415\u001b[39m | \u001b[39m1.0      \u001b[39m | \u001b[39m1.0      \u001b[39m | \u001b[39m3.0      \u001b[39m | \u001b[39m6.2149840\u001b[39m | \u001b[39m3.0      \u001b[39m | \u001b[39m0.0      \u001b[39m |\n",
      "| \u001b[39m147      \u001b[39m | \u001b[39m-3188.477\u001b[39m | \u001b[39m7.9922403\u001b[39m | \u001b[39m1.0      \u001b[39m | \u001b[39m0.0      \u001b[39m | \u001b[39m1.0      \u001b[39m | \u001b[39m6.7621073\u001b[39m | \u001b[39m1.8756947\u001b[39m | \u001b[39m0.0      \u001b[39m |\n",
      "| \u001b[39m148      \u001b[39m | \u001b[39m-3188.477\u001b[39m | \u001b[39m10.773066\u001b[39m | \u001b[39m1.0      \u001b[39m | \u001b[39m0.0      \u001b[39m | \u001b[39m3.0      \u001b[39m | \u001b[39m5.8278116\u001b[39m | \u001b[39m2.2252587\u001b[39m | \u001b[39m0.0      \u001b[39m |\n",
      "| \u001b[39m149      \u001b[39m | \u001b[39m-3188.477\u001b[39m | \u001b[39m8.4649780\u001b[39m | \u001b[39m1.0      \u001b[39m | \u001b[39m0.0      \u001b[39m | \u001b[39m3.0      \u001b[39m | \u001b[39m4.4388913\u001b[39m | \u001b[39m0.0      \u001b[39m | \u001b[39m1.0      \u001b[39m |\n",
      "| \u001b[39m150      \u001b[39m | \u001b[39m-3188.477\u001b[39m | \u001b[39m3.4927841\u001b[39m | \u001b[39m1.0      \u001b[39m | \u001b[39m1.0      \u001b[39m | \u001b[39m1.0      \u001b[39m | \u001b[39m6.1876504\u001b[39m | \u001b[39m0.0      \u001b[39m | \u001b[39m1.0      \u001b[39m |\n",
      "| \u001b[39m151      \u001b[39m | \u001b[39m-3188.477\u001b[39m | \u001b[39m1.0      \u001b[39m | \u001b[39m1.0      \u001b[39m | \u001b[39m0.0      \u001b[39m | \u001b[39m3.0      \u001b[39m | \u001b[39m1.0      \u001b[39m | \u001b[39m0.0      \u001b[39m | \u001b[39m0.0      \u001b[39m |\n",
      "| \u001b[39m152      \u001b[39m | \u001b[39m-3188.477\u001b[39m | \u001b[39m64.0     \u001b[39m | \u001b[39m1.0      \u001b[39m | \u001b[39m0.0      \u001b[39m | \u001b[39m3.0      \u001b[39m | \u001b[39m1.0      \u001b[39m | \u001b[39m0.0      \u001b[39m | \u001b[39m1.0      \u001b[39m |\n",
      "| \u001b[39m153      \u001b[39m | \u001b[39m-3188.477\u001b[39m | \u001b[39m64.0     \u001b[39m | \u001b[39m0.0      \u001b[39m | \u001b[39m0.0      \u001b[39m | \u001b[39m1.0      \u001b[39m | \u001b[39m1.0      \u001b[39m | \u001b[39m0.0      \u001b[39m | \u001b[39m0.0      \u001b[39m |\n",
      "| \u001b[39m154      \u001b[39m | \u001b[39m-8408.810\u001b[39m | \u001b[39m64.0     \u001b[39m | \u001b[39m0.0      \u001b[39m | \u001b[39m1.0      \u001b[39m | \u001b[39m2.9254611\u001b[39m | \u001b[39m1.0      \u001b[39m | \u001b[39m1.6378858\u001b[39m | \u001b[39m0.0      \u001b[39m |\n",
      "| \u001b[39m155      \u001b[39m | \u001b[39m-3188.477\u001b[39m | \u001b[39m64.0     \u001b[39m | \u001b[39m1.0      \u001b[39m | \u001b[39m0.0      \u001b[39m | \u001b[39m1.0      \u001b[39m | \u001b[39m1.0      \u001b[39m | \u001b[39m0.0      \u001b[39m | \u001b[39m1.0      \u001b[39m |\n",
      "| \u001b[39m156      \u001b[39m | \u001b[39m-3188.477\u001b[39m | \u001b[39m11.181807\u001b[39m | \u001b[39m1.0      \u001b[39m | \u001b[39m0.0      \u001b[39m | \u001b[39m3.0      \u001b[39m | \u001b[39m3.9272725\u001b[39m | \u001b[39m0.0      \u001b[39m | \u001b[39m0.0      \u001b[39m |\n",
      "| \u001b[39m157      \u001b[39m | \u001b[39m-3188.477\u001b[39m | \u001b[39m12.426357\u001b[39m | \u001b[39m1.0      \u001b[39m | \u001b[39m0.0      \u001b[39m | \u001b[39m3.0      \u001b[39m | \u001b[39m5.9492699\u001b[39m | \u001b[39m0.0      \u001b[39m | \u001b[39m1.0      \u001b[39m |\n",
      "| \u001b[39m158      \u001b[39m | \u001b[39m-9072.007\u001b[39m | \u001b[39m12.252901\u001b[39m | \u001b[39m0.0      \u001b[39m | \u001b[39m1.0      \u001b[39m | \u001b[39m3.0      \u001b[39m | \u001b[39m6.3905855\u001b[39m | \u001b[39m3.0      \u001b[39m | \u001b[39m1.0      \u001b[39m |\n",
      "| \u001b[39m159      \u001b[39m | \u001b[39m-3188.477\u001b[39m | \u001b[39m10.079115\u001b[39m | \u001b[39m1.0      \u001b[39m | \u001b[39m0.0      \u001b[39m | \u001b[39m3.0      \u001b[39m | \u001b[39m1.0      \u001b[39m | \u001b[39m0.0      \u001b[39m | \u001b[39m1.0      \u001b[39m |\n",
      "| \u001b[39m160      \u001b[39m | \u001b[39m-10708.26\u001b[39m | \u001b[39m8.3725865\u001b[39m | \u001b[39m1.0      \u001b[39m | \u001b[39m0.0      \u001b[39m | \u001b[39m3.0      \u001b[39m | \u001b[39m1.0      \u001b[39m | \u001b[39m2.2832269\u001b[39m | \u001b[39m1.0      \u001b[39m |\n",
      "| \u001b[39m161      \u001b[39m | \u001b[39m-3188.477\u001b[39m | \u001b[39m11.015554\u001b[39m | \u001b[39m1.0      \u001b[39m | \u001b[39m0.0      \u001b[39m | \u001b[39m1.0      \u001b[39m | \u001b[39m2.4110876\u001b[39m | \u001b[39m0.0      \u001b[39m | \u001b[39m1.0      \u001b[39m |\n",
      "| \u001b[39m162      \u001b[39m | \u001b[39m-3188.477\u001b[39m | \u001b[39m34.434404\u001b[39m | \u001b[39m1.0      \u001b[39m | \u001b[39m0.0      \u001b[39m | \u001b[39m1.0      \u001b[39m | \u001b[39m1.0      \u001b[39m | \u001b[39m0.0      \u001b[39m | \u001b[39m0.0      \u001b[39m |\n",
      "| \u001b[39m163      \u001b[39m | \u001b[39m-3188.477\u001b[39m | \u001b[39m61.729860\u001b[39m | \u001b[39m1.0      \u001b[39m | \u001b[39m0.0      \u001b[39m | \u001b[39m1.0      \u001b[39m | \u001b[39m1.0      \u001b[39m | \u001b[39m0.0      \u001b[39m | \u001b[39m1.0      \u001b[39m |\n",
      "| \u001b[39m164      \u001b[39m | \u001b[39m-3188.477\u001b[39m | \u001b[39m9.2717964\u001b[39m | \u001b[39m1.0      \u001b[39m | \u001b[39m0.0      \u001b[39m | \u001b[39m3.0      \u001b[39m | \u001b[39m6.3917256\u001b[39m | \u001b[39m1.2882806\u001b[39m | \u001b[39m0.0      \u001b[39m |\n",
      "| \u001b[39m165      \u001b[39m | \u001b[39m-3188.477\u001b[39m | \u001b[39m53.291593\u001b[39m | \u001b[39m1.0      \u001b[39m | \u001b[39m0.0      \u001b[39m | \u001b[39m1.0      \u001b[39m | \u001b[39m1.0      \u001b[39m | \u001b[39m0.0      \u001b[39m | \u001b[39m0.0      \u001b[39m |\n",
      "| \u001b[39m166      \u001b[39m | \u001b[39m-3188.477\u001b[39m | \u001b[39m53.432135\u001b[39m | \u001b[39m1.0      \u001b[39m | \u001b[39m1.0      \u001b[39m | \u001b[39m3.0      \u001b[39m | \u001b[39m1.0      \u001b[39m | \u001b[39m0.0      \u001b[39m | \u001b[39m1.0      \u001b[39m |\n",
      "| \u001b[39m167      \u001b[39m | \u001b[39m-14332.09\u001b[39m | \u001b[39m52.977043\u001b[39m | \u001b[39m1.0      \u001b[39m | \u001b[39m1.0      \u001b[39m | \u001b[39m1.0846834\u001b[39m | \u001b[39m1.0      \u001b[39m | \u001b[39m2.0039143\u001b[39m | \u001b[39m1.0      \u001b[39m |\n",
      "| \u001b[39m168      \u001b[39m | \u001b[39m-3188.477\u001b[39m | \u001b[39m54.911512\u001b[39m | \u001b[39m1.0      \u001b[39m | \u001b[39m0.0      \u001b[39m | \u001b[39m3.0      \u001b[39m | \u001b[39m1.0      \u001b[39m | \u001b[39m0.0      \u001b[39m | \u001b[39m0.0      \u001b[39m |\n",
      "| \u001b[39m169      \u001b[39m | \u001b[39m-3188.477\u001b[39m | \u001b[39m53.194298\u001b[39m | \u001b[39m1.0      \u001b[39m | \u001b[39m0.0      \u001b[39m | \u001b[39m3.0      \u001b[39m | \u001b[39m2.4537045\u001b[39m | \u001b[39m0.0      \u001b[39m | \u001b[39m0.0      \u001b[39m |\n",
      "| \u001b[39m170      \u001b[39m | \u001b[39m-3188.477\u001b[39m | \u001b[39m55.499699\u001b[39m | \u001b[39m0.0      \u001b[39m | \u001b[39m0.0      \u001b[39m | \u001b[39m1.0      \u001b[39m | \u001b[39m1.0      \u001b[39m | \u001b[39m0.0      \u001b[39m | \u001b[39m0.0      \u001b[39m |\n",
      "| \u001b[39m171      \u001b[39m | \u001b[39m-4001.543\u001b[39m | \u001b[39m11.770302\u001b[39m | \u001b[39m1.0      \u001b[39m | \u001b[39m1.0      \u001b[39m | \u001b[39m3.0      \u001b[39m | \u001b[39m1.0      \u001b[39m | \u001b[39m0.0      \u001b[39m | \u001b[39m0.0      \u001b[39m |\n",
      "| \u001b[39m172      \u001b[39m | \u001b[39m-3188.477\u001b[39m | \u001b[39m61.511202\u001b[39m | \u001b[39m0.0      \u001b[39m | \u001b[39m0.0      \u001b[39m | \u001b[39m3.0      \u001b[39m | \u001b[39m1.0      \u001b[39m | \u001b[39m0.0      \u001b[39m | \u001b[39m1.0      \u001b[39m |\n",
      "| \u001b[39m173      \u001b[39m | \u001b[39m-3188.477\u001b[39m | \u001b[39m59.050378\u001b[39m | \u001b[39m0.0      \u001b[39m | \u001b[39m0.0      \u001b[39m | \u001b[39m1.0      \u001b[39m | \u001b[39m1.0      \u001b[39m | \u001b[39m0.0      \u001b[39m | \u001b[39m0.0      \u001b[39m |\n",
      "| \u001b[39m174      \u001b[39m | \u001b[39m-3188.477\u001b[39m | \u001b[39m57.714831\u001b[39m | \u001b[39m0.0      \u001b[39m | \u001b[39m0.0      \u001b[39m | \u001b[39m3.0      \u001b[39m | \u001b[39m1.0      \u001b[39m | \u001b[39m0.0      \u001b[39m | \u001b[39m0.0      \u001b[39m |\n",
      "| \u001b[39m175      \u001b[39m | \u001b[39m-6996.330\u001b[39m | \u001b[39m59.757747\u001b[39m | \u001b[39m1.0      \u001b[39m | \u001b[39m1.0      \u001b[39m | \u001b[39m3.0      \u001b[39m | \u001b[39m1.0      \u001b[39m | \u001b[39m0.0      \u001b[39m | \u001b[39m0.0      \u001b[39m |\n",
      "| \u001b[39m176      \u001b[39m | \u001b[39m-3188.477\u001b[39m | \u001b[39m57.270525\u001b[39m | \u001b[39m1.0      \u001b[39m | \u001b[39m0.0      \u001b[39m | \u001b[39m1.0      \u001b[39m | \u001b[39m1.0      \u001b[39m | \u001b[39m0.0      \u001b[39m | \u001b[39m1.0      \u001b[39m |\n",
      "| \u001b[39m177      \u001b[39m | \u001b[39m-3188.477\u001b[39m | \u001b[39m64.0     \u001b[39m | \u001b[39m0.0      \u001b[39m | \u001b[39m0.0      \u001b[39m | \u001b[39m1.0      \u001b[39m | \u001b[39m3.0225036\u001b[39m | \u001b[39m0.0      \u001b[39m | \u001b[39m1.0      \u001b[39m |\n",
      "| \u001b[39m178      \u001b[39m | \u001b[39m-3188.477\u001b[39m | \u001b[39m12.578705\u001b[39m | \u001b[39m1.0      \u001b[39m | \u001b[39m0.0      \u001b[39m | \u001b[39m1.0      \u001b[39m | \u001b[39m4.4870996\u001b[39m | \u001b[39m0.0      \u001b[39m | \u001b[39m1.0      \u001b[39m |\n",
      "| \u001b[39m179      \u001b[39m | \u001b[39m-3188.477\u001b[39m | \u001b[39m13.597039\u001b[39m | \u001b[39m1.0      \u001b[39m | \u001b[39m0.0      \u001b[39m | \u001b[39m1.0      \u001b[39m | \u001b[39m6.6785354\u001b[39m | \u001b[39m0.0      \u001b[39m | \u001b[39m0.0      \u001b[39m |\n",
      "| \u001b[39m180      \u001b[39m | \u001b[39m-6276.971\u001b[39m | \u001b[39m43.348764\u001b[39m | \u001b[39m1.0      \u001b[39m | \u001b[39m1.0      \u001b[39m | \u001b[39m1.0      \u001b[39m | \u001b[39m1.0      \u001b[39m | \u001b[39m0.0      \u001b[39m | \u001b[39m0.0      \u001b[39m |\n",
      "| \u001b[39m181      \u001b[39m | \u001b[39m-3188.477\u001b[39m | \u001b[39m14.092689\u001b[39m | \u001b[39m0.0      \u001b[39m | \u001b[39m0.0      \u001b[39m | \u001b[39m3.0      \u001b[39m | \u001b[39m7.2984978\u001b[39m | \u001b[39m0.0      \u001b[39m | \u001b[39m0.0      \u001b[39m |\n",
      "| \u001b[39m182      \u001b[39m | \u001b[39m-3188.477\u001b[39m | \u001b[39m52.928495\u001b[39m | \u001b[39m0.0      \u001b[39m | \u001b[39m0.0      \u001b[39m | \u001b[39m3.0      \u001b[39m | \u001b[39m1.0      \u001b[39m | \u001b[39m0.0      \u001b[39m | \u001b[39m0.0      \u001b[39m |\n",
      "| \u001b[39m183      \u001b[39m | \u001b[39m-3188.477\u001b[39m | \u001b[39m26.087467\u001b[39m | \u001b[39m1.0      \u001b[39m | \u001b[39m0.0      \u001b[39m | \u001b[39m3.0      \u001b[39m | \u001b[39m2.9728911\u001b[39m | \u001b[39m0.0      \u001b[39m | \u001b[39m0.0      \u001b[39m |\n",
      "| \u001b[39m184      \u001b[39m | \u001b[39m-3188.477\u001b[39m | \u001b[39m14.901201\u001b[39m | \u001b[39m0.0      \u001b[39m | \u001b[39m1.0      \u001b[39m | \u001b[39m1.0      \u001b[39m | \u001b[39m7.9677242\u001b[39m | \u001b[39m0.0      \u001b[39m | \u001b[39m1.0      \u001b[39m |\n",
      "| \u001b[39m185      \u001b[39m | \u001b[39m-3188.477\u001b[39m | \u001b[39m14.024341\u001b[39m | \u001b[39m0.0      \u001b[39m | \u001b[39m0.0      \u001b[39m | \u001b[39m1.0      \u001b[39m | \u001b[39m9.4410343\u001b[39m | \u001b[39m0.0      \u001b[39m | \u001b[39m0.0      \u001b[39m |\n",
      "| \u001b[39m186      \u001b[39m | \u001b[39m-3188.477\u001b[39m | \u001b[39m14.129697\u001b[39m | \u001b[39m1.0      \u001b[39m | \u001b[39m1.0      \u001b[39m | \u001b[39m3.0      \u001b[39m | \u001b[39m9.0131854\u001b[39m | \u001b[39m0.0      \u001b[39m | \u001b[39m1.0      \u001b[39m |\n",
      "| \u001b[39m187      \u001b[39m | \u001b[39m-3188.477\u001b[39m | \u001b[39m16.268189\u001b[39m | \u001b[39m1.0      \u001b[39m | \u001b[39m0.0      \u001b[39m | \u001b[39m1.0      \u001b[39m | \u001b[39m9.0228938\u001b[39m | \u001b[39m0.0      \u001b[39m | \u001b[39m1.0      \u001b[39m |\n",
      "| \u001b[39m188      \u001b[39m | \u001b[39m-8408.810\u001b[39m | \u001b[39m17.723266\u001b[39m | \u001b[39m0.0      \u001b[39m | \u001b[39m1.0      \u001b[39m | \u001b[39m1.0      \u001b[39m | \u001b[39m8.6527979\u001b[39m | \u001b[39m0.0      \u001b[39m | \u001b[39m0.0      \u001b[39m |\n",
      "| \u001b[39m189      \u001b[39m | \u001b[39m-3188.477\u001b[39m | \u001b[39m14.149768\u001b[39m | \u001b[39m1.0      \u001b[39m | \u001b[39m0.0      \u001b[39m | \u001b[39m1.5243021\u001b[39m | \u001b[39m8.2548199\u001b[39m | \u001b[39m0.0      \u001b[39m | \u001b[39m1.0      \u001b[39m |\n",
      "| \u001b[39m190      \u001b[39m | \u001b[39m-3188.477\u001b[39m | \u001b[39m39.167560\u001b[39m | \u001b[39m1.0      \u001b[39m | \u001b[39m0.0      \u001b[39m | \u001b[39m1.0      \u001b[39m | \u001b[39m8.9603853\u001b[39m | \u001b[39m0.0      \u001b[39m | \u001b[39m1.0      \u001b[39m |\n",
      "| \u001b[39m191      \u001b[39m | \u001b[39m-4075.410\u001b[39m | \u001b[39m12.400298\u001b[39m | \u001b[39m1.0      \u001b[39m | \u001b[39m1.0      \u001b[39m | \u001b[39m3.0      \u001b[39m | \u001b[39m7.8084972\u001b[39m | \u001b[39m0.0      \u001b[39m | \u001b[39m0.0      \u001b[39m |\n"
     ]
    },
    {
     "name": "stderr",
     "output_type": "stream",
     "text": [
      "Fitting models...: 100%|█████████████████████████| 1/1 [02:19<00:00, 139.82s/it]"
     ]
    },
    {
     "name": "stdout",
     "output_type": "stream",
     "text": [
      "| \u001b[39m192      \u001b[39m | \u001b[39m-3188.477\u001b[39m | \u001b[39m14.781958\u001b[39m | \u001b[39m1.0      \u001b[39m | \u001b[39m1.0      \u001b[39m | \u001b[39m3.0      \u001b[39m | \u001b[39m6.4837894\u001b[39m | \u001b[39m0.0      \u001b[39m | \u001b[39m1.0      \u001b[39m |\n",
      "=============================================================================================================\n",
      "Optimal parameters for 2 players and threshold 0.5:\n",
      "{'inverse_temperature': np.float64(35.64229809023723), 'bias': np.float64(0.5166427322794532), 'learning_rate': np.float64(0.1133004916756931), 'len_history': np.float64(2.3662254967165475), 'max_regions': np.float64(7.098356129470242), 'c': np.float64(0.0), 'delta': np.float64(0.6687803066320682)}\n",
      "Deviance: -2471.6010497120865\n",
      "AIC: 4957.202099424173\n",
      "--------------------------------------------------\n"
     ]
    },
    {
     "name": "stderr",
     "output_type": "stream",
     "text": [
      "\n"
     ]
    }
   ],
   "source": [
    "hyperparameters = {\n",
    "    'n_iter': 128,\n",
    "    'init_points': 64,\n",
    "}\n",
    "\n",
    "ParameterFit.run(\n",
    "    data=data,\n",
    "    model_list=my_models,\n",
    "    best_fit_path=best_fit_file_2P,\n",
    "    optimizer_type='bayesian',\n",
    "    hyperparameters=hyperparameters,\n",
    "    new_file=False\n",
    ")"
   ]
  },
  {
   "cell_type": "markdown",
   "metadata": {},
   "source": []
  }
 ],
 "metadata": {
  "kernelspec": {
   "display_name": "Python 3 (ipykernel)",
   "language": "python",
   "name": "python3"
  },
  "language_info": {
   "codemirror_mode": {
    "name": "ipython",
    "version": 3
   },
   "file_extension": ".py",
   "mimetype": "text/x-python",
   "name": "python",
   "nbconvert_exporter": "python",
   "pygments_lexer": "ipython3",
   "version": "3.13.3"
  }
 },
 "nbformat": 4,
 "nbformat_minor": 2
}
