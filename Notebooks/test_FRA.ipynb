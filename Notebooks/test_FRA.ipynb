{
 "cells": [
  {
   "cell_type": "code",
   "execution_count": 1,
   "metadata": {},
   "outputs": [],
   "source": [
    "import numpy as np\n",
    "import pandas as pd\n",
    "\n",
    "from pathlib import Path\n",
    "\n",
    "import sys\n",
    "\n",
    "sys.path.append('../src')\n",
    "\n",
    "import warnings\n",
    "warnings.filterwarnings(\"ignore\")"
   ]
  },
  {
   "cell_type": "markdown",
   "metadata": {},
   "source": [
    "### Test focal region similarity"
   ]
  },
  {
   "cell_type": "code",
   "execution_count": 2,
   "metadata": {},
   "outputs": [],
   "source": [
    "from Classes.focal_regions import FocalRegion"
   ]
  },
  {
   "cell_type": "code",
   "execution_count": 24,
   "metadata": {},
   "outputs": [
    {
     "name": "stdout",
     "output_type": "stream",
     "text": [
      "History:\n",
      " [[0]\n",
      " [1]\n",
      " [1]]\n",
      "------------------------------------------------------------\n",
      "Cicle from column 0:\n",
      "[[1]\n",
      " [1]\n",
      " [0]]\n",
      "Similarity score: 0.3333333333333333\n",
      "Cicle from column 1:\n",
      "[[0]\n",
      " [1]\n",
      " [1]]\n",
      "Similarity score: 1.0\n",
      "Cicle from column 2:\n",
      "[[1]\n",
      " [0]\n",
      " [1]]\n",
      "Similarity score: 0.3333333333333333\n",
      "Scores:\n",
      " [np.float64(0.3333333333333333), np.float64(1.0), np.float64(0.3333333333333333)]\n",
      "------------------------------------------------------------\n"
     ]
    }
   ],
   "source": [
    "region = np.array([[1, 0, 1], [1, 1, 0], [0, 1, 1]])\n",
    "fra = FocalRegion(region)\n",
    "fra.debug = True\n",
    "\n",
    "# history = np.array([[1, 0], [0, 1], [0, 1]])\n",
    "history = np.array([[0], [1], [1]])\n",
    "print('History:\\n', history)\n",
    "print('-'*60)\n",
    "scores = fra.get_similarity_scores(history)\n",
    "print('Scores:\\n', scores)\n",
    "print('-'*60)"
   ]
  },
  {
   "cell_type": "code",
   "execution_count": 9,
   "metadata": {},
   "outputs": [
    {
     "data": {
      "text/plain": [
       "<Axes: >"
      ]
     },
     "execution_count": 9,
     "metadata": {},
     "output_type": "execute_result"
    },
    {
     "data": {
      "image/png": "[encoded data removed]",
      "text/plain": [
       "<Figure size 300x300 with 1 Axes>"
      ]
     },
     "metadata": {},
     "output_type": "display_data"
    }
   ],
   "source": [
    "file_name = Path('..', 'LaTeX', 'FRA_region_1.png')\n",
    "FocalRegion.draw_region(region, file=file_name)"
   ]
  },
  {
   "cell_type": "code",
   "execution_count": 25,
   "metadata": {},
   "outputs": [
    {
     "data": {
      "text/plain": [
       "<Axes: >"
      ]
     },
     "execution_count": 25,
     "metadata": {},
     "output_type": "execute_result"
    },
    {
     "data": {
      "image/png": "[encoded data removed]",
      "text/plain": [
       "<Figure size 100x300 with 1 Axes>"
      ]
     },
     "metadata": {},
     "output_type": "display_data"
    }
   ],
   "source": [
    "file_name = Path('..', 'LaTeX', 'history_2.png')\n",
    "FocalRegion.draw_region(history, file=file_name)"
   ]
  },
  {
   "cell_type": "markdown",
   "metadata": {},
   "source": [
    "### Test FRA agents"
   ]
  },
  {
   "cell_type": "code",
   "execution_count": 4,
   "metadata": {},
   "outputs": [],
   "source": [
    "from Classes.bar import Bar\n",
    "from Utils.interaction import Episode\n",
    "from Classes.experimental import FocalRegionAgent, SetFocalRegions"
   ]
  },
  {
   "cell_type": "code",
   "execution_count": 5,
   "metadata": {},
   "outputs": [],
   "source": [
    "free_parameters = {\n",
    "    'inverse_temperature': 10,\n",
    "    'len_history': 2,\n",
    "    'max_regions': 5\n",
    "}\n",
    "fixed_parameters = {\n",
    "    'num_agents': 7,\n",
    "    'threshold': 0.7,\n",
    "}\n",
    "n = 1"
   ]
  },
  {
   "cell_type": "code",
   "execution_count": 6,
   "metadata": {},
   "outputs": [],
   "source": [
    "# Create the environment\n",
    "bar = Bar(\n",
    "    num_agents=fixed_parameters['num_agents'],\n",
    "    threshold=fixed_parameters['threshold']\n",
    ")\n",
    "# Create the agents\n",
    "agents = [FocalRegionAgent(free_parameters, fixed_parameters, n) for n in range(fixed_parameters['num_agents'])]\n",
    "# Create the episode\n",
    "episode = Episode(\n",
    "    model='FRA',\n",
    "    agents=agents,\n",
    "    environment=bar,\n",
    "    num_rounds=20\n",
    ")"
   ]
  },
  {
   "cell_type": "code",
   "execution_count": null,
   "metadata": {},
   "outputs": [],
   "source": [
    "print('Focal regions:')\n",
    "print(episode.agents[0].sfr)"
   ]
  },
  {
   "cell_type": "code",
   "execution_count": 8,
   "metadata": {},
   "outputs": [],
   "source": [
    "# episode.agents[0].debug = True\n",
    "# episode.agents[1].debug = True\n",
    "episode.run()"
   ]
  },
  {
   "cell_type": "code",
   "execution_count": null,
   "metadata": {},
   "outputs": [],
   "source": [
    "bar.render()"
   ]
  },
  {
   "cell_type": "markdown",
   "metadata": {},
   "source": [
    "# Test parameter fit"
   ]
  },
  {
   "cell_type": "code",
   "execution_count": 10,
   "metadata": {},
   "outputs": [],
   "source": [
    "from Classes.parameter_recovery import ParameterFit"
   ]
  },
  {
   "cell_type": "code",
   "execution_count": 11,
   "metadata": {},
   "outputs": [],
   "source": [
    "# Create paths for data and results\n",
    "data_folder = Path('..', 'data', 'human')\n",
    "folder_2P = Path('..', 'reports', 'MLE')\n",
    "folder_2P.mkdir(parents=True, exist_ok=True)\n",
    "\n",
    "file_name = f'best_fit_2P_3.json'\n",
    "best_fit_file_2P = Path(folder_2P, file_name)"
   ]
  },
  {
   "cell_type": "code",
   "execution_count": null,
   "metadata": {},
   "outputs": [],
   "source": [
    "#Load 2P data\n",
    "\n",
    "file_name = '2-player-UR.csv'\n",
    "file = data_folder / Path(file_name)\n",
    "print(f'Loading data from {file}...')\n",
    "data = pd.read_csv(file)\n",
    "data.head(2)"
   ]
  },
  {
   "cell_type": "code",
   "execution_count": null,
   "metadata": {},
   "outputs": [],
   "source": [
    "# check_out_these = ['Attendance-M2', 'MFP-M2', 'Payoff-M2']\n",
    "my_models = [FocalRegionAgent]\n",
    "\n",
    "ParameterFit.run(\n",
    "    data=data,\n",
    "    model_list=my_models,\n",
    "    best_fit_path=best_fit_file_2P,\n",
    "    new_file=False\n",
    ")"
   ]
  },
  {
   "cell_type": "markdown",
   "metadata": {},
   "source": []
  }
 ],
 "metadata": {
  "kernelspec": {
   "display_name": "Python 3 (ipykernel)",
   "language": "python",
   "name": "python3"
  },
  "language_info": {
   "codemirror_mode": {
    "name": "ipython",
    "version": 3
   },
   "file_extension": ".py",
   "mimetype": "text/x-python",
   "name": "python",
   "nbconvert_exporter": "python",
   "pygments_lexer": "ipython3",
   "version": "3.13.3"
  }
 },
 "nbformat": 4,
 "nbformat_minor": 2
}
