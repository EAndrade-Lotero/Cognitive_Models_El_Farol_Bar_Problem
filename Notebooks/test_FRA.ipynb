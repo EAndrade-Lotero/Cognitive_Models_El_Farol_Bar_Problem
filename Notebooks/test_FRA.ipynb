{
 "cells": [
  {
   "cell_type": "code",
   "execution_count": 1,
   "metadata": {},
   "outputs": [],
   "source": [
    "import numpy as np\n",
    "import pandas as pd\n",
    "import seaborn as sns\n",
    "\n",
    "from pathlib import Path\n",
    "\n",
    "import sys\n",
    "\n",
    "sys.path.append('../src')\n",
    "\n",
    "from Config.config import PATHS\n",
    "\n",
    "import warnings\n",
    "warnings.filterwarnings(\"ignore\")"
   ]
  },
  {
   "cell_type": "markdown",
   "metadata": {},
   "source": [
    "### Test focal region similarity"
   ]
  },
  {
   "cell_type": "code",
   "execution_count": 2,
   "metadata": {},
   "outputs": [],
   "source": [
    "from Classes.focal_regions import FocalRegion"
   ]
  },
  {
   "cell_type": "code",
   "execution_count": 3,
   "metadata": {},
   "outputs": [
    {
     "name": "stdout",
     "output_type": "stream",
     "text": [
      "Focal region:\n",
      "------------------------------------------------------------\n",
      "[[1 0 1]\n",
      " [1 1 0]\n",
      " [0 1 1]]\n",
      "------------------------------------------------------------\n",
      "History:\n",
      " [[0]\n",
      " [1]\n",
      " [1]]\n",
      "------------------------------------------------------------\n",
      "\tCicle from column 0:\n",
      "[[1]\n",
      " [1]\n",
      " [0]]\n",
      "\tSimilarity score: 0.3333333333333333\n",
      "\tCicle from column 1:\n",
      "[[0]\n",
      " [1]\n",
      " [1]]\n",
      "\tSimilarity score: 1.0\n",
      "\tCicle from column 2:\n",
      "[[1]\n",
      " [0]\n",
      " [1]]\n",
      "\tSimilarity score: 0.3333333333333333\n",
      "Scores:\n",
      " [np.float64(0.3333333333333333), np.float64(1.0), np.float64(0.3333333333333333)]\n",
      "------------------------------------------------------------\n"
     ]
    }
   ],
   "source": [
    "region = np.array([[1, 0, 1], [1, 1, 0], [0, 1, 1]])\n",
    "fra = FocalRegion(region)\n",
    "fra.debug = True\n",
    "print('Focal region:')\n",
    "print(fra)\n",
    "\n",
    "# history = np.array([[1, 0], [0, 1], [0, 1]])\n",
    "history = np.array([[0], [1], [1]])\n",
    "print('History:\\n', history)\n",
    "print('-'*60)\n",
    "scores = fra.get_similarity_scores(history)\n",
    "print('Scores:\\n', scores)\n",
    "print('-'*60)"
   ]
  },
  {
   "cell_type": "code",
   "execution_count": 4,
   "metadata": {},
   "outputs": [
    {
     "data": {
      "text/plain": [
       "<Axes: >"
      ]
     },
     "execution_count": 4,
     "metadata": {},
     "output_type": "execute_result"
    },
    {
     "data": {
      "image/png": "[encoded data removed]",
      "text/plain": [
       "<Figure size 300x300 with 1 Axes>"
      ]
     },
     "metadata": {},
     "output_type": "display_data"
    }
   ],
   "source": [
    "file_name = Path('..', 'LaTeX', 'FRA_region_1.png')\n",
    "FocalRegion.draw_region(region, file=file_name)"
   ]
  },
  {
   "cell_type": "code",
   "execution_count": 5,
   "metadata": {},
   "outputs": [
    {
     "data": {
      "text/plain": [
       "<Axes: >"
      ]
     },
     "execution_count": 5,
     "metadata": {},
     "output_type": "execute_result"
    },
    {
     "data": {
      "image/png": "[encoded data removed]",
      "text/plain": [
       "<Figure size 100x300 with 1 Axes>"
      ]
     },
     "metadata": {},
     "output_type": "display_data"
    }
   ],
   "source": [
    "file_name = Path('..', 'LaTeX', 'history_2.png')\n",
    "FocalRegion.draw_region(history, file=file_name)"
   ]
  },
  {
   "cell_type": "markdown",
   "metadata": {},
   "source": [
    "### Test Focal Regions"
   ]
  },
  {
   "cell_type": "code",
   "execution_count": 2,
   "metadata": {},
   "outputs": [],
   "source": [
    "from Classes.focal_regions import SetFocalRegions"
   ]
  },
  {
   "cell_type": "code",
   "execution_count": 7,
   "metadata": {},
   "outputs": [
    {
     "name": "stdout",
     "output_type": "stream",
     "text": [
      "Num. fair regions: 120\n",
      "Num. segmented regions: 20\n",
      "============================================================\n",
      "Region 0\n",
      "------------------------------------------------------------\n",
      "[[0. 0. 0. 1. 1. 1.]\n",
      " [0. 1. 0. 0. 1. 1.]\n",
      " [0. 1. 1. 0. 0. 1.]\n",
      " [1. 1. 1. 0. 0. 0.]\n",
      " [1. 0. 1. 1. 0. 0.]\n",
      " [1. 0. 0. 1. 1. 0.]]\n",
      "------------------------------------------------------------\n",
      "============================================================\n",
      "Region 1\n",
      "------------------------------------------------------------\n",
      "[[1. 1. 1. 1. 1. 1.]\n",
      " [0. 0. 0. 0. 0. 0.]\n",
      " [1. 1. 1. 1. 1. 1.]\n",
      " [0. 0. 0. 0. 0. 0.]\n",
      " [1. 1. 1. 1. 1. 1.]\n",
      " [0. 0. 0. 0. 0. 0.]]\n",
      "------------------------------------------------------------\n",
      "============================================================\n",
      "Region 2\n",
      "------------------------------------------------------------\n",
      "[[0. 1. 0. 1. 0. 1.]\n",
      " [0. 1. 0. 1. 1. 0.]\n",
      " [0. 0. 1. 1. 1. 0.]\n",
      " [1. 0. 1. 0. 1. 0.]\n",
      " [1. 0. 1. 0. 0. 1.]\n",
      " [1. 1. 0. 0. 0. 1.]]\n",
      "------------------------------------------------------------\n",
      "\n"
     ]
    }
   ],
   "source": [
    "sfr = SetFocalRegions(\n",
    "    num_agents=6,\n",
    "    threshold=0.5,\n",
    "    len_history=2,\n",
    "    c=0.75,\n",
    "    steepness=10,\n",
    "    max_regions=3,\n",
    ")\n",
    "sfr.generate_focal_regions()\n",
    "print(sfr)"
   ]
  },
  {
   "cell_type": "code",
   "execution_count": 4,
   "metadata": {},
   "outputs": [
    {
     "name": "stdout",
     "output_type": "stream",
     "text": [
      "============================================================\n",
      "Considering preferences from the viewpoint of agent 0\n",
      "------------------------------------------------------------\n",
      "Similarities according to region 0: [0. 1.]\n",
      "\tSigmoid similarities: [0. 1.]\n",
      "Similarities according to region 1: [0.  0.5]\n",
      "\tSigmoid similarities: [0.         0.08153562]\n",
      "Similarities according to region 2: [0.5 0. ]\n",
      "\tSigmoid similarities: [0.08153562 0.        ]\n",
      "Aggregated preferences: (no go=0.0815356159649889; go=1.081535615964989)\n"
     ]
    },
    {
     "data": {
      "text/plain": [
       "array([0.08153562, 1.08153562])"
      ]
     },
     "execution_count": 4,
     "metadata": {},
     "output_type": "execute_result"
    }
   ],
   "source": [
    "history = np.array([1, 0])\n",
    "sfr.add_history(history)\n",
    "history = np.array([0, 1])\n",
    "sfr.add_history(history)\n",
    "sfr.debug = True\n",
    "sfr.get_action_preferences(0)"
   ]
  },
  {
   "cell_type": "markdown",
   "metadata": {},
   "source": [
    "### Test FRA agents"
   ]
  },
  {
   "cell_type": "code",
   "execution_count": 12,
   "metadata": {},
   "outputs": [],
   "source": [
    "from Classes.bar import Bar\n",
    "from Utils.interaction import Episode\n",
    "from Classes.focal_regions import SetFocalRegions\n",
    "from Classes.cognitive_model_agents import FocalRegionAgent"
   ]
  },
  {
   "cell_type": "code",
   "execution_count": 25,
   "metadata": {},
   "outputs": [],
   "source": [
    "free_parameters = {\n",
    "    'inverse_temperature': 6,\n",
    "    'len_history': 2,\n",
    "    'c': 0.7\n",
    "}\n",
    "fixed_parameters = {\n",
    "    'num_agents': 2,\n",
    "    'threshold': 0.5,\n",
    "}\n",
    "n = 1"
   ]
  },
  {
   "cell_type": "code",
   "execution_count": 30,
   "metadata": {},
   "outputs": [
    {
     "data": {
      "text/plain": [
       "<Axes: >"
      ]
     },
     "execution_count": 30,
     "metadata": {},
     "output_type": "execute_result"
    },
    {
     "data": {
      "image/png": "[encoded data removed]",
      "text/plain": [
       "<Figure size 750x200 with 1 Axes>"
      ]
     },
     "metadata": {},
     "output_type": "display_data"
    }
   ],
   "source": [
    "# Create the environment\n",
    "bar = Bar(\n",
    "    num_agents=fixed_parameters['num_agents'],\n",
    "    threshold=fixed_parameters['threshold']\n",
    ")\n",
    "# Create the agents\n",
    "agents = [FocalRegionAgent(free_parameters, fixed_parameters, n) for n in range(fixed_parameters['num_agents'])]\n",
    "# Create the episode\n",
    "episode = Episode(\n",
    "    model='FRA',\n",
    "    agents=agents,\n",
    "    environment=bar,\n",
    "    num_rounds=50\n",
    ")\n",
    "\n",
    "episode.run()\n",
    "\n",
    "bar.render()"
   ]
  },
  {
   "cell_type": "markdown",
   "metadata": {},
   "source": [
    "# Test simulations"
   ]
  },
  {
   "cell_type": "code",
   "execution_count": 9,
   "metadata": {},
   "outputs": [],
   "source": [
    "from Utils.interaction import Performer\n",
    "from Utils.utils import GetMeasurements\n",
    "from Classes.cognitive_model_agents import Titan"
   ]
  },
  {
   "cell_type": "code",
   "execution_count": 10,
   "metadata": {},
   "outputs": [],
   "source": [
    "fixed_parameters = {\n",
    "\t\"num_agents\":2,\n",
    "\t\"threshold\":0.5,\n",
    "}\n",
    "free_parameters = {\n",
    "    'inverse_temperature': 6, \n",
    "    'learning_rate': 0.16, \n",
    "    'bias': 0.78, \n",
    "    'len_history': 2, \n",
    "    'c': 0.9, \n",
    "    'delta': 1\n",
    "}\n",
    "simulation_parameters = {\n",
    "\t'num_rounds': 50,\n",
    "    'num_episodes': 23,\n",
    "\t'verbose':False\n",
    "}"
   ]
  },
  {
   "cell_type": "code",
   "execution_count": 11,
   "metadata": {},
   "outputs": [
    {
     "name": "stdout",
     "output_type": "stream",
     "text": [
      "Num. fair regions: 1\n",
      "Num. segmented regions: 2\n",
      "Num. fair regions: 1\n",
      "Num. segmented regions: 2\n",
      "Num. fair regions: 1\n",
      "Num. segmented regions: 2\n",
      "Num. fair regions: 1\n",
      "Num. segmented regions: 2\n",
      "Num. fair regions: 1\n",
      "Num. segmented regions: 2\n",
      "Num. fair regions: 1\n",
      "Num. segmented regions: 2\n"
     ]
    },
    {
     "data": {
      "application/vnd.jupyter.widget-view+json": {
       "model_id": "65d6de89c3d841929b9f4dc09bbd2426",
       "version_major": 2,
       "version_minor": 0
      },
      "text/plain": [
       "  0%|          | 0/23 [00:00<?, ?it/s]"
      ]
     },
     "metadata": {},
     "output_type": "display_data"
    },
    {
     "name": "stdout",
     "output_type": "stream",
     "text": [
      "Num. fair regions: 1\n",
      "Num. segmented regions: 2\n",
      "Num. fair regions: 1\n",
      "Num. segmented regions: 2\n",
      "Num. fair regions: 1\n",
      "Num. segmented regions: 2\n",
      "Num. fair regions: 1\n",
      "Num. segmented regions: 2\n",
      "Num. fair regions: 1\n",
      "Num. segmented regions: 2\n",
      "Num. fair regions: 1\n",
      "Num. segmented regions: 2\n",
      "Num. fair regions: 1\n",
      "Num. segmented regions: 2\n",
      "Num. fair regions: 1\n",
      "Num. segmented regions: 2\n",
      "Num. fair regions: 1\n",
      "Num. segmented regions: 2\n",
      "Num. fair regions: 1\n",
      "Num. segmented regions: 2\n",
      "Num. fair regions: 1\n",
      "Num. segmented regions: 2\n",
      "Num. fair regions: 1\n",
      "Num. segmented regions: 2\n",
      "Num. fair regions: 1\n",
      "Num. segmented regions: 2\n",
      "Num. fair regions: 1\n",
      "Num. segmented regions: 2\n",
      "Num. fair regions: 1\n",
      "Num. segmented regions: 2\n",
      "Num. fair regions: 1\n",
      "Num. segmented regions: 2\n",
      "Num. fair regions: 1\n",
      "Num. segmented regions: 2\n",
      "Num. fair regions: 1\n",
      "Num. segmented regions: 2\n",
      "Num. fair regions: 1\n",
      "Num. segmented regions: 2\n",
      "Num. fair regions: 1\n",
      "Num. segmented regions: 2\n",
      "Num. fair regions: 1\n",
      "Num. segmented regions: 2\n",
      "Num. fair regions: 1\n",
      "Num. segmented regions: 2\n",
      "Num. fair regions: 1\n",
      "Num. segmented regions: 2\n"
     ]
    },
    {
     "data": {
      "text/plain": [
       "(-0.05, 0.55)"
      ]
     },
     "execution_count": 11,
     "metadata": {},
     "output_type": "execute_result"
    },
    {
     "data": {
      "image/png": "[encoded data removed]",
      "text/plain": [
       "<Figure size 640x480 with 1 Axes>"
      ]
     },
     "metadata": {},
     "output_type": "display_data"
    }
   ],
   "source": [
    "df = Performer.sim(\n",
    "    agent_class=Titan,\n",
    "    fixed_parameters=fixed_parameters,\n",
    "    free_parameters=free_parameters,\n",
    "    simulation_parameters=simulation_parameters\n",
    ")\n",
    "gm = GetMeasurements(\n",
    "    data=df, measures=['efficiency', 'inequality']\n",
    ")\n",
    "data = gm.get_measurements()\n",
    "ax = sns.scatterplot(\n",
    "    x='inequality', y='efficiency',\n",
    "    data=data\n",
    ")\n",
    "ax.set_ylim([-0.05, .55])"
   ]
  },
  {
   "cell_type": "markdown",
   "metadata": {},
   "source": [
    "# Test parameter fit"
   ]
  },
  {
   "cell_type": "code",
   "execution_count": 2,
   "metadata": {},
   "outputs": [],
   "source": [
    "from Classes.cognitive_model_agents import Titan\n",
    "from Classes.parameter_recovery import ParameterFit"
   ]
  },
  {
   "cell_type": "code",
   "execution_count": 3,
   "metadata": {},
   "outputs": [
    {
     "name": "stdout",
     "output_type": "stream",
     "text": [
      "Loading data from /Users/edgar/Documents/GitHub/Cognitive_Models_El_Farol_Bar_Problem/data/human/2-player-UR.csv...\n"
     ]
    },
    {
     "data": {
      "text/html": [
       "<div>\n",
       "<style scoped>\n",
       "    .dataframe tbody tr th:only-of-type {\n",
       "        vertical-align: middle;\n",
       "    }\n",
       "\n",
       "    .dataframe tbody tr th {\n",
       "        vertical-align: top;\n",
       "    }\n",
       "\n",
       "    .dataframe thead th {\n",
       "        text-align: right;\n",
       "    }\n",
       "</style>\n",
       "<table border=\"1\" class=\"dataframe\">\n",
       "  <thead>\n",
       "    <tr style=\"text-align: right;\">\n",
       "      <th></th>\n",
       "      <th>source</th>\n",
       "      <th>treatment</th>\n",
       "      <th>group</th>\n",
       "      <th>round</th>\n",
       "      <th>player</th>\n",
       "      <th>choice</th>\n",
       "      <th>score</th>\n",
       "      <th>attendance</th>\n",
       "      <th>ac_score</th>\n",
       "      <th>threshold</th>\n",
       "      <th>num_players</th>\n",
       "      <th>room</th>\n",
       "      <th>decision</th>\n",
       "    </tr>\n",
       "  </thead>\n",
       "  <tbody>\n",
       "    <tr>\n",
       "      <th>0</th>\n",
       "      <td>human</td>\n",
       "      <td>score + grid</td>\n",
       "      <td>Grupo-0001</td>\n",
       "      <td>1</td>\n",
       "      <td>405186428721292</td>\n",
       "      <td>0</td>\n",
       "      <td>0</td>\n",
       "      <td>1</td>\n",
       "      <td>25</td>\n",
       "      <td>0.5</td>\n",
       "      <td>2</td>\n",
       "      <td>Grupo-0001</td>\n",
       "      <td>0</td>\n",
       "    </tr>\n",
       "    <tr>\n",
       "      <th>1</th>\n",
       "      <td>human</td>\n",
       "      <td>score + grid</td>\n",
       "      <td>Grupo-0001</td>\n",
       "      <td>1</td>\n",
       "      <td>728608683559397</td>\n",
       "      <td>1</td>\n",
       "      <td>1</td>\n",
       "      <td>1</td>\n",
       "      <td>25</td>\n",
       "      <td>0.5</td>\n",
       "      <td>2</td>\n",
       "      <td>Grupo-0001</td>\n",
       "      <td>1</td>\n",
       "    </tr>\n",
       "  </tbody>\n",
       "</table>\n",
       "</div>"
      ],
      "text/plain": [
       "  source     treatment       group  round           player  choice  score  \\\n",
       "0  human  score + grid  Grupo-0001      1  405186428721292       0      0   \n",
       "1  human  score + grid  Grupo-0001      1  728608683559397       1      1   \n",
       "\n",
       "   attendance  ac_score  threshold  num_players        room  decision  \n",
       "0           1        25        0.5            2  Grupo-0001         0  \n",
       "1           1        25        0.5            2  Grupo-0001         1  "
      ]
     },
     "execution_count": 3,
     "metadata": {},
     "output_type": "execute_result"
    }
   ],
   "source": [
    "# my_models = [FocalRegionAgent]\n",
    "my_models = [Titan]\n",
    "\n",
    "best_fit_file_2P = PATHS['parameter_fit_results'] / 'best_fit_2P_3.json'\n",
    "\n",
    "#Load 2P data\n",
    "file = PATHS['human_data'] / '2-player-UR.csv'\n",
    "print(f'Loading data from {file}...')\n",
    "data = pd.read_csv(file)\n",
    "data.head(2)"
   ]
  },
  {
   "cell_type": "code",
   "execution_count": 4,
   "metadata": {},
   "outputs": [
    {
     "data": {
      "application/vnd.jupyter.widget-view+json": {
       "model_id": "c00217e6cf2e4f64a7700a6f3301f264",
       "version_major": 2,
       "version_minor": 0
      },
      "text/plain": [
       "Fitting models...:   0%|          | 0/1 [00:00<?, ?it/s]"
      ]
     },
     "metadata": {},
     "output_type": "display_data"
    },
    {
     "name": "stdout",
     "output_type": "stream",
     "text": [
      "Fitting data to model FRA+Payoff+Attendance...\n",
      "Creating parameter recovery class...\n",
      "Running optimizer...\n",
      "Finding deviance for 2 players and threshold 0.5...\n",
      "|   iter    |  target   | invers... |   bias    | learni... | len_hi... |     c     |   delta   |\n",
      "-------------------------------------------------------------------------------------------------\n",
      "| \u001b[39m1        \u001b[39m | \u001b[39m-3171.170\u001b[39m | \u001b[39m27.272386\u001b[39m | \u001b[39m0.7203244\u001b[39m | \u001b[39m0.0001143\u001b[39m | \u001b[39m1.6046651\u001b[39m | \u001b[39m0.5733779\u001b[39m | \u001b[39m0.0092338\u001b[39m |\n",
      "| \u001b[39m2        \u001b[39m | \u001b[39m-4464.421\u001b[39m | \u001b[39m12.734393\u001b[39m | \u001b[39m0.3455607\u001b[39m | \u001b[39m0.3967674\u001b[39m | \u001b[39m2.0776334\u001b[39m | \u001b[39m0.7095972\u001b[39m | \u001b[39m0.0685219\u001b[39m |\n",
      "| \u001b[35m3        \u001b[39m | \u001b[35m-2237.168\u001b[39m | \u001b[35m13.880491\u001b[39m | \u001b[35m0.8781174\u001b[39m | \u001b[35m0.0273875\u001b[39m | \u001b[35m2.3409350\u001b[39m | \u001b[35m0.7086524\u001b[39m | \u001b[35m0.0558689\u001b[39m |\n",
      "| \u001b[39m4        \u001b[39m | \u001b[39m-6891.395\u001b[39m | \u001b[39m9.8443771\u001b[39m | \u001b[39m0.1981014\u001b[39m | \u001b[39m0.8007445\u001b[39m | \u001b[39m2.9365231\u001b[39m | \u001b[39m0.6567120\u001b[39m | \u001b[39m0.0692322\u001b[39m |\n",
      "| \u001b[39m5        \u001b[39m | \u001b[39m-4045.177\u001b[39m | \u001b[39m56.212516\u001b[39m | \u001b[39m0.8946066\u001b[39m | \u001b[39m0.0850442\u001b[39m | \u001b[39m1.0781095\u001b[39m | \u001b[39m0.5849152\u001b[39m | \u001b[39m0.0878142\u001b[39m |\n",
      "| \u001b[39m6        \u001b[39m | \u001b[39m-4455.549\u001b[39m | \u001b[39m7.1958505\u001b[39m | \u001b[39m0.4211076\u001b[39m | \u001b[39m0.9578895\u001b[39m | \u001b[39m2.0663305\u001b[39m | \u001b[39m0.8459385\u001b[39m | \u001b[39m0.0315515\u001b[39m |\n",
      "| \u001b[39m7        \u001b[39m | \u001b[39m-2754.958\u001b[39m | \u001b[39m44.249558\u001b[39m | \u001b[39m0.8346256\u001b[39m | \u001b[39m0.0182882\u001b[39m | \u001b[39m2.5002886\u001b[39m | \u001b[39m0.9944305\u001b[39m | \u001b[39m0.0748165\u001b[39m |\n",
      "| \u001b[39m8        \u001b[39m | \u001b[39m-2601.265\u001b[39m | \u001b[39m18.667971\u001b[39m | \u001b[39m0.7892793\u001b[39m | \u001b[39m0.1032260\u001b[39m | \u001b[39m1.8957870\u001b[39m | \u001b[39m0.9542977\u001b[39m | \u001b[39m0.0293614\u001b[39m |\n",
      "| \u001b[39m9        \u001b[39m | \u001b[39m-2548.789\u001b[39m | \u001b[39m19.129846\u001b[39m | \u001b[39m0.1300285\u001b[39m | \u001b[39m0.0193669\u001b[39m | \u001b[39m2.3576710\u001b[39m | \u001b[39m0.6058140\u001b[39m | \u001b[39m0.0265546\u001b[39m |\n",
      "| \u001b[39m10       \u001b[39m | \u001b[39m-8116.939\u001b[39m | \u001b[39m31.969109\u001b[39m | \u001b[39m0.0533625\u001b[39m | \u001b[39m0.5741176\u001b[39m | \u001b[39m1.2934571\u001b[39m | \u001b[39m0.7946527\u001b[39m | \u001b[39m0.0699758\u001b[39m |\n",
      "| \u001b[39m11       \u001b[39m | \u001b[39m-3709.267\u001b[39m | \u001b[39m7.4470690\u001b[39m | \u001b[39m0.4140559\u001b[39m | \u001b[39m0.6944001\u001b[39m | \u001b[39m1.8283585\u001b[39m | \u001b[39m0.5249767\u001b[39m | \u001b[39m0.0535896\u001b[39m |\n",
      "| \u001b[39m12       \u001b[39m | \u001b[39m-7897.833\u001b[39m | \u001b[39m42.819062\u001b[39m | \u001b[39m0.5148891\u001b[39m | \u001b[39m0.9445947\u001b[39m | \u001b[39m2.1731100\u001b[39m | \u001b[39m0.9517009\u001b[39m | \u001b[39m0.0137474\u001b[39m |\n",
      "| \u001b[39m13       \u001b[39m | \u001b[39m-2531.533\u001b[39m | \u001b[39m9.7744098\u001b[39m | \u001b[39m0.8073912\u001b[39m | \u001b[39m0.3976768\u001b[39m | \u001b[39m1.3307083\u001b[39m | \u001b[39m0.9637542\u001b[39m | \u001b[39m0.0347765\u001b[39m |\n",
      "| \u001b[39m14       \u001b[39m | \u001b[39m-6993.808\u001b[39m | \u001b[39m48.301162\u001b[39m | \u001b[39m0.7259979\u001b[39m | \u001b[39m0.8833060\u001b[39m | \u001b[39m2.2473444\u001b[39m | \u001b[39m0.8754712\u001b[39m | \u001b[39m0.0348898\u001b[39m |\n",
      "| \u001b[39m15       \u001b[39m | \u001b[39m-3350.577\u001b[39m | \u001b[39m18.005457\u001b[39m | \u001b[39m0.8958862\u001b[39m | \u001b[39m0.4280911\u001b[39m | \u001b[39m2.9296800\u001b[39m | \u001b[39m0.8317207\u001b[39m | \u001b[39m0.0621695\u001b[39m |\n",
      "| \u001b[39m16       \u001b[39m | \u001b[39m-2622.106\u001b[39m | \u001b[39m8.2289962\u001b[39m | \u001b[39m0.9494892\u001b[39m | \u001b[39m0.4499121\u001b[39m | \u001b[39m2.1567792\u001b[39m | \u001b[39m0.7040684\u001b[39m | \u001b[39m0.0237026\u001b[39m |\n",
      "| \u001b[39m17       \u001b[39m | \u001b[39m-3268.259\u001b[39m | \u001b[39m57.912909\u001b[39m | \u001b[39m0.5736794\u001b[39m | \u001b[39m0.0028703\u001b[39m | \u001b[39m2.2342898\u001b[39m | \u001b[39m0.6633224\u001b[39m | \u001b[39m0.0527058\u001b[39m |\n",
      "| \u001b[39m18       \u001b[39m | \u001b[39m-8815.871\u001b[39m | \u001b[39m56.814352\u001b[39m | \u001b[39m0.3572697\u001b[39m | \u001b[39m0.9085351\u001b[39m | \u001b[39m2.2467202\u001b[39m | \u001b[39m0.5079106\u001b[39m | \u001b[39m0.0929437\u001b[39m |\n",
      "| \u001b[39m19       \u001b[39m | \u001b[39m-4843.413\u001b[39m | \u001b[39m44.526505\u001b[39m | \u001b[39m0.9973228\u001b[39m | \u001b[39m0.1723405\u001b[39m | \u001b[39m1.2742714\u001b[39m | \u001b[39m0.9662977\u001b[39m | \u001b[39m0.0696818\u001b[39m |\n",
      "| \u001b[39m20       \u001b[39m | \u001b[39m-2422.816\u001b[39m | \u001b[39m5.1580108\u001b[39m | \u001b[39m0.7554630\u001b[39m | \u001b[39m0.7538761\u001b[39m | \u001b[39m2.8460490\u001b[39m | \u001b[39m0.8557623\u001b[39m | \u001b[39m0.0124270\u001b[39m |\n",
      "| \u001b[39m21       \u001b[39m | \u001b[39m-2997.383\u001b[39m | \u001b[39m2.2524484\u001b[39m | \u001b[39m0.0262109\u001b[39m | \u001b[39m0.0283064\u001b[39m | \u001b[39m1.4924221\u001b[39m | \u001b[39m0.9300139\u001b[39m | \u001b[39m0.0538831\u001b[39m |\n",
      "| \u001b[39m22       \u001b[39m | \u001b[39m-3549.201\u001b[39m | \u001b[39m35.827784\u001b[39m | \u001b[39m0.8420308\u001b[39m | \u001b[39m0.1241733\u001b[39m | \u001b[39m1.5583673\u001b[39m | \u001b[39m0.7928796\u001b[39m | \u001b[39m0.0969595\u001b[39m |\n",
      "| \u001b[39m23       \u001b[39m | \u001b[39m-8357.238\u001b[39m | \u001b[39m36.344903\u001b[39m | \u001b[39m0.0186472\u001b[39m | \u001b[39m0.8006326\u001b[39m | \u001b[39m1.4659485\u001b[39m | \u001b[39m0.9035525\u001b[39m | \u001b[39m0.0387860\u001b[39m |\n",
      "| \u001b[39m24       \u001b[39m | \u001b[39m-6087.605\u001b[39m | \u001b[39m55.403136\u001b[39m | \u001b[39m0.7471216\u001b[39m | \u001b[39m0.5562402\u001b[39m | \u001b[39m1.2729104\u001b[39m | \u001b[39m0.5299588\u001b[39m | \u001b[39m0.0121343\u001b[39m |\n",
      "| \u001b[39m25       \u001b[39m | \u001b[39m-2822.575\u001b[39m | \u001b[39m3.8067683\u001b[39m | \u001b[39m0.1074941\u001b[39m | \u001b[39m0.2257093\u001b[39m | \u001b[39m2.4259779\u001b[39m | \u001b[39m0.7798584\u001b[39m | \u001b[39m0.0012555\u001b[39m |\n",
      "| \u001b[39m26       \u001b[39m | \u001b[39m-2550.292\u001b[39m | \u001b[39m5.5343796\u001b[39m | \u001b[39m0.9672763\u001b[39m | \u001b[39m0.5681004\u001b[39m | \u001b[39m1.4065864\u001b[39m | \u001b[39m0.6261628\u001b[39m | \u001b[39m0.0743825\u001b[39m |\n",
      "| \u001b[39m27       \u001b[39m | \u001b[39m-5250.016\u001b[39m | \u001b[39m13.312057\u001b[39m | \u001b[39m0.5813589\u001b[39m | \u001b[39m0.9700199\u001b[39m | \u001b[39m2.6936576\u001b[39m | \u001b[39m0.6199238\u001b[39m | \u001b[39m0.0493769\u001b[39m |\n",
      "| \u001b[39m28       \u001b[39m | \u001b[39m-4091.135\u001b[39m | \u001b[39m40.057210\u001b[39m | \u001b[39m0.8289808\u001b[39m | \u001b[39m0.1567913\u001b[39m | \u001b[39m1.0371524\u001b[39m | \u001b[39m0.5350110\u001b[39m | \u001b[39m0.0486345\u001b[39m |\n",
      "| \u001b[39m29       \u001b[39m | \u001b[39m-5362.699\u001b[39m | \u001b[39m39.198756\u001b[39m | \u001b[39m0.5688514\u001b[39m | \u001b[39m0.3173624\u001b[39m | \u001b[39m2.9772323\u001b[39m | \u001b[39m0.7898726\u001b[39m | \u001b[39m0.0380141\u001b[39m |\n",
      "| \u001b[39m30       \u001b[39m | \u001b[39m-5710.443\u001b[39m | \u001b[39m35.709737\u001b[39m | \u001b[39m0.7453344\u001b[39m | \u001b[39m0.6692328\u001b[39m | \u001b[39m1.5298391\u001b[39m | \u001b[39m0.5331674\u001b[39m | \u001b[39m0.0370084\u001b[39m |\n",
      "| \u001b[39m31       \u001b[39m | \u001b[39m-8342.627\u001b[39m | \u001b[39m40.672202\u001b[39m | \u001b[39m0.2101740\u001b[39m | \u001b[39m0.7527555\u001b[39m | \u001b[39m1.1330729\u001b[39m | \u001b[39m0.6301575\u001b[39m | \u001b[39m0.0804754\u001b[39m |\n",
      "| \u001b[39m32       \u001b[39m | \u001b[39m-3432.688\u001b[39m | \u001b[39m13.186359\u001b[39m | \u001b[39m0.6394608\u001b[39m | \u001b[39m0.5246703\u001b[39m | \u001b[39m2.8496159\u001b[39m | \u001b[39m0.6316483\u001b[39m | \u001b[39m0.0065961\u001b[39m |\n",
      "| \u001b[39m33       \u001b[39m | \u001b[39m-6839.221\u001b[39m | \u001b[39m47.309155\u001b[39m | \u001b[39m0.7721780\u001b[39m | \u001b[39m0.9078158\u001b[39m | \u001b[39m2.8639441\u001b[39m | \u001b[39m0.5069757\u001b[39m | \u001b[39m0.0234362\u001b[39m |\n",
      "| \u001b[39m34       \u001b[39m | \u001b[39m-4779.349\u001b[39m | \u001b[39m39.857036\u001b[39m | \u001b[39m0.9490163\u001b[39m | \u001b[39m0.9501761\u001b[39m | \u001b[39m2.1133063\u001b[39m | \u001b[39m0.9578031\u001b[39m | \u001b[39m0.0641566\u001b[39m |\n",
      "| \u001b[39m35       \u001b[39m | \u001b[39m-6254.567\u001b[39m | \u001b[39m25.570485\u001b[39m | \u001b[39m0.4859906\u001b[39m | \u001b[39m0.6043104\u001b[39m | \u001b[39m2.0990958\u001b[39m | \u001b[39m0.9630907\u001b[39m | \u001b[39m0.0918733\u001b[39m |\n",
      "| \u001b[39m36       \u001b[39m | \u001b[39m-3705.368\u001b[39m | \u001b[39m25.877163\u001b[39m | \u001b[39m0.9632625\u001b[39m | \u001b[39m0.1739556\u001b[39m | \u001b[39m1.2526590\u001b[39m | \u001b[39m0.5675395\u001b[39m | \u001b[39m0.0505662\u001b[39m |\n",
      "| \u001b[39m37       \u001b[39m | \u001b[39m-2645.536\u001b[39m | \u001b[39m2.3560627\u001b[39m | \u001b[39m0.9479702\u001b[39m | \u001b[39m0.8271154\u001b[39m | \u001b[39m1.0300379\u001b[39m | \u001b[39m0.5880981\u001b[39m | \u001b[39m0.0332063\u001b[39m |\n",
      "| \u001b[39m38       \u001b[39m | \u001b[39m-2413.217\u001b[39m | \u001b[39m9.2528012\u001b[39m | \u001b[39m0.8094906\u001b[39m | \u001b[39m0.3447366\u001b[39m | \u001b[39m2.8802149\u001b[39m | \u001b[39m0.7910070\u001b[39m | \u001b[39m0.0878831\u001b[39m |\n",
      "| \u001b[39m39       \u001b[39m | \u001b[39m-5201.249\u001b[39m | \u001b[39m54.218270\u001b[39m | \u001b[39m0.9053923\u001b[39m | \u001b[39m0.4598802\u001b[39m | \u001b[39m2.0926936\u001b[39m | \u001b[39m0.8993017\u001b[39m | \u001b[39m0.0285718\u001b[39m |\n",
      "| \u001b[39m40       \u001b[39m | \u001b[39m-2853.998\u001b[39m | \u001b[39m31.885971\u001b[39m | \u001b[39m0.5991103\u001b[39m | \u001b[39m0.0155332\u001b[39m | \u001b[39m2.1869628\u001b[39m | \u001b[39m0.7168381\u001b[39m | \u001b[39m0.0807360\u001b[39m |\n",
      "| \u001b[39m41       \u001b[39m | \u001b[39m-3700.545\u001b[39m | \u001b[39m20.860422\u001b[39m | \u001b[39m0.8928887\u001b[39m | \u001b[39m0.5778572\u001b[39m | \u001b[39m1.3680204\u001b[39m | \u001b[39m0.8939646\u001b[39m | \u001b[39m0.0612031\u001b[39m |\n",
      "| \u001b[39m42       \u001b[39m | \u001b[39m-2769.587\u001b[39m | \u001b[39m4.3962841\u001b[39m | \u001b[39m0.4201936\u001b[39m | \u001b[39m0.6790688\u001b[39m | \u001b[39m2.8372035\u001b[39m | \u001b[39m0.5002010\u001b[39m | \u001b[39m0.0976759\u001b[39m |\n",
      "| \u001b[39m43       \u001b[39m | \u001b[39m-4113.535\u001b[39m | \u001b[39m24.724559\u001b[39m | \u001b[39m0.9737835\u001b[39m | \u001b[39m0.6047161\u001b[39m | \u001b[39m2.6576916\u001b[39m | \u001b[39m0.7873557\u001b[39m | \u001b[39m0.0628076\u001b[39m |\n",
      "| \u001b[39m44       \u001b[39m | \u001b[39m-5521.136\u001b[39m | \u001b[39m18.991305\u001b[39m | \u001b[39m0.5868333\u001b[39m | \u001b[39m0.7500217\u001b[39m | \u001b[39m2.7166276\u001b[39m | \u001b[39m0.8775410\u001b[39m | \u001b[39m0.0698057\u001b[39m |\n",
      "| \u001b[39m45       \u001b[39m | \u001b[39m-8307.072\u001b[39m | \u001b[39m55.462204\u001b[39m | \u001b[39m0.3226809\u001b[39m | \u001b[39m0.6707887\u001b[39m | \u001b[39m1.9017478\u001b[39m | \u001b[39m0.6910513\u001b[39m | \u001b[39m0.0410811\u001b[39m |\n",
      "| \u001b[39m46       \u001b[39m | \u001b[39m-7478.005\u001b[39m | \u001b[39m26.293213\u001b[39m | \u001b[39m0.3173839\u001b[39m | \u001b[39m0.6219193\u001b[39m | \u001b[39m1.8604945\u001b[39m | \u001b[39m0.9869010\u001b[39m | \u001b[39m0.0677800\u001b[39m |\n",
      "| \u001b[39m47       \u001b[39m | \u001b[39m-3849.294\u001b[39m | \u001b[39m13.509902\u001b[39m | \u001b[39m0.4267010\u001b[39m | \u001b[39m0.3433462\u001b[39m | \u001b[39m2.5952776\u001b[39m | \u001b[39m0.9399991\u001b[39m | \u001b[39m0.0903841\u001b[39m |\n",
      "| \u001b[39m48       \u001b[39m | \u001b[39m-6782.007\u001b[39m | \u001b[39m42.751348\u001b[39m | \u001b[39m0.2702082\u001b[39m | \u001b[39m0.2523667\u001b[39m | \u001b[39m2.7097958\u001b[39m | \u001b[39m0.7638573\u001b[39m | \u001b[39m0.0802161\u001b[39m |\n",
      "| \u001b[39m49       \u001b[39m | \u001b[39m-5334.722\u001b[39m | \u001b[39m37.066776\u001b[39m | \u001b[39m0.7331425\u001b[39m | \u001b[39m0.5190116\u001b[39m | \u001b[39m2.5417678\u001b[39m | \u001b[39m0.7844289\u001b[39m | \u001b[39m0.0465709\u001b[39m |\n",
      "| \u001b[39m50       \u001b[39m | \u001b[39m-7210.771\u001b[39m | \u001b[39m22.589401\u001b[39m | \u001b[39m0.0682093\u001b[39m | \u001b[39m0.3779241\u001b[39m | \u001b[39m1.1592521\u001b[39m | \u001b[39m0.9914085\u001b[39m | \u001b[39m0.0181612\u001b[39m |\n",
      "| \u001b[39m51       \u001b[39m | \u001b[39m-5421.424\u001b[39m | \u001b[39m52.147097\u001b[39m | \u001b[39m0.8749616\u001b[39m | \u001b[39m0.6884132\u001b[39m | \u001b[39m2.1389888\u001b[39m | \u001b[39m0.5804857\u001b[39m | \u001b[39m0.0466880\u001b[39m |\n",
      "| \u001b[39m52       \u001b[39m | \u001b[39m-7438.751\u001b[39m | \u001b[39m22.745839\u001b[39m | \u001b[39m0.2250399\u001b[39m | \u001b[39m0.5925118\u001b[39m | \u001b[39m1.6245396\u001b[39m | \u001b[39m0.9581527\u001b[39m | \u001b[39m0.0909635\u001b[39m |\n",
      "| \u001b[39m53       \u001b[39m | \u001b[39m-5260.599\u001b[39m | \u001b[39m17.198452\u001b[39m | \u001b[39m0.1108913\u001b[39m | \u001b[39m0.1929627\u001b[39m | \u001b[39m1.9991683\u001b[39m | \u001b[39m0.8642928\u001b[39m | \u001b[39m0.0208194\u001b[39m |\n",
      "| \u001b[39m54       \u001b[39m | \u001b[39m-3239.640\u001b[39m | \u001b[39m16.626114\u001b[39m | \u001b[39m0.8516718\u001b[39m | \u001b[39m0.4158487\u001b[39m | \u001b[39m2.2333701\u001b[39m | \u001b[39m0.6168330\u001b[39m | \u001b[39m0.0101967\u001b[39m |\n",
      "| \u001b[39m55       \u001b[39m | \u001b[39m-4410.596\u001b[39m | \u001b[39m33.498992\u001b[39m | \u001b[39m0.4771409\u001b[39m | \u001b[39m0.1526716\u001b[39m | \u001b[39m2.2436124\u001b[39m | \u001b[39m0.7720050\u001b[39m | \u001b[39m0.0654137\u001b[39m |\n",
      "| \u001b[39m56       \u001b[39m | \u001b[39m-2405.995\u001b[39m | \u001b[39m10.106369\u001b[39m | \u001b[39m0.7515278\u001b[39m | \u001b[39m0.2220491\u001b[39m | \u001b[39m2.0387036\u001b[39m | \u001b[39m0.8926480\u001b[39m | \u001b[39m0.0022330\u001b[39m |\n",
      "| \u001b[39m57       \u001b[39m | \u001b[39m-3885.806\u001b[39m | \u001b[39m21.434834\u001b[39m | \u001b[39m0.8729223\u001b[39m | \u001b[39m0.8447096\u001b[39m | \u001b[39m2.0768811\u001b[39m | \u001b[39m0.9333041\u001b[39m | \u001b[39m0.0949805\u001b[39m |\n",
      "| \u001b[39m58       \u001b[39m | \u001b[39m-4268.391\u001b[39m | \u001b[39m53.063640\u001b[39m | \u001b[39m0.8541154\u001b[39m | \u001b[39m0.0987434\u001b[39m | \u001b[39m2.3026086\u001b[39m | \u001b[39m0.8517584\u001b[39m | \u001b[39m0.0610240\u001b[39m |\n",
      "| \u001b[39m59       \u001b[39m | \u001b[39m-8259.159\u001b[39m | \u001b[39m51.375761\u001b[39m | \u001b[39m0.0345712\u001b[39m | \u001b[39m0.7702387\u001b[39m | \u001b[39m2.4634572\u001b[39m | \u001b[39m0.6298491\u001b[39m | \u001b[39m0.0257069\u001b[39m |\n",
      "| \u001b[39m60       \u001b[39m | \u001b[39m-8391.199\u001b[39m | \u001b[39m40.835108\u001b[39m | \u001b[39m0.3452974\u001b[39m | \u001b[39m0.7965886\u001b[39m | \u001b[39m1.8922924\u001b[39m | \u001b[39m0.8913747\u001b[39m | \u001b[39m0.0990471\u001b[39m |\n",
      "| \u001b[39m61       \u001b[39m | \u001b[39m-8224.581\u001b[39m | \u001b[39m19.915645\u001b[39m | \u001b[39m0.1430058\u001b[39m | \u001b[39m0.9013084\u001b[39m | \u001b[39m2.0831187\u001b[39m | \u001b[39m0.9873701\u001b[39m | \u001b[39m0.0636604\u001b[39m |\n",
      "| \u001b[39m62       \u001b[39m | \u001b[39m-7015.629\u001b[39m | \u001b[39m63.616520\u001b[39m | \u001b[39m0.5460708\u001b[39m | \u001b[39m0.5264259\u001b[39m | \u001b[39m1.2708558\u001b[39m | \u001b[39m0.6778525\u001b[39m | \u001b[39m0.0026218\u001b[39m |\n",
      "| \u001b[39m63       \u001b[39m | \u001b[39m-2420.791\u001b[39m | \u001b[39m11.104896\u001b[39m | \u001b[39m0.7456371\u001b[39m | \u001b[39m0.0303996\u001b[39m | \u001b[39m1.7330861\u001b[39m | \u001b[39m0.9311731\u001b[39m | \u001b[39m0.0692677\u001b[39m |\n",
      "| \u001b[39m64       \u001b[39m | \u001b[39m-7471.366\u001b[39m | \u001b[39m44.529354\u001b[39m | \u001b[39m0.1886368\u001b[39m | \u001b[39m0.4419042\u001b[39m | \u001b[39m2.1631548\u001b[39m | \u001b[39m0.9948758\u001b[39m | \u001b[39m0.0203906\u001b[39m |\n",
      "| \u001b[39m65       \u001b[39m | \u001b[39m-2368.344\u001b[39m | \u001b[39m4.5756450\u001b[39m | \u001b[39m0.8412242\u001b[39m | \u001b[39m0.5587910\u001b[39m | \u001b[39m1.9052295\u001b[39m | \u001b[39m0.9324291\u001b[39m | \u001b[39m0.0      \u001b[39m |\n",
      "| \u001b[39m66       \u001b[39m | \u001b[39m-2619.101\u001b[39m | \u001b[39m9.1262762\u001b[39m | \u001b[39m1.0      \u001b[39m | \u001b[39m0.0      \u001b[39m | \u001b[39m2.0771361\u001b[39m | \u001b[39m1.0      \u001b[39m | \u001b[39m0.1      \u001b[39m |\n",
      "| \u001b[39m67       \u001b[39m | \u001b[39m-3169.890\u001b[39m | \u001b[39m5.1764149\u001b[39m | \u001b[39m0.3175780\u001b[39m | \u001b[39m0.0      \u001b[39m | \u001b[39m2.1658195\u001b[39m | \u001b[39m0.5066842\u001b[39m | \u001b[39m0.0038711\u001b[39m |\n",
      "| \u001b[39m68       \u001b[39m | \u001b[39m-2510.121\u001b[39m | \u001b[39m3.4646679\u001b[39m | \u001b[39m0.5171434\u001b[39m | \u001b[39m0.6250757\u001b[39m | \u001b[39m1.3388422\u001b[39m | \u001b[39m0.5      \u001b[39m | \u001b[39m0.1      \u001b[39m |\n",
      "| \u001b[39m69       \u001b[39m | \u001b[39m-2628.130\u001b[39m | \u001b[39m2.9730468\u001b[39m | \u001b[39m1.0      \u001b[39m | \u001b[39m0.7093443\u001b[39m | \u001b[39m2.1323886\u001b[39m | \u001b[39m1.0      \u001b[39m | \u001b[39m0.0      \u001b[39m |\n",
      "| \u001b[39m70       \u001b[39m | \u001b[39m-3188.477\u001b[39m | \u001b[39m14.987164\u001b[39m | \u001b[39m1.0      \u001b[39m | \u001b[39m0.0      \u001b[39m | \u001b[39m2.7465557\u001b[39m | \u001b[39m0.5      \u001b[39m | \u001b[39m0.0      \u001b[39m |\n",
      "| \u001b[39m71       \u001b[39m | \u001b[39m-3188.477\u001b[39m | \u001b[39m8.3973471\u001b[39m | \u001b[39m1.0      \u001b[39m | \u001b[39m0.0      \u001b[39m | \u001b[39m3.0      \u001b[39m | \u001b[39m0.5      \u001b[39m | \u001b[39m0.0      \u001b[39m |\n",
      "| \u001b[39m72       \u001b[39m | \u001b[39m-3623.678\u001b[39m | \u001b[39m2.6452355\u001b[39m | \u001b[39m0.0      \u001b[39m | \u001b[39m1.0      \u001b[39m | \u001b[39m2.0433623\u001b[39m | \u001b[39m0.5      \u001b[39m | \u001b[39m0.1      \u001b[39m |\n",
      "| \u001b[39m73       \u001b[39m | \u001b[39m-3688.283\u001b[39m | \u001b[39m31.434633\u001b[39m | \u001b[39m1.0      \u001b[39m | \u001b[39m0.0      \u001b[39m | \u001b[39m3.0      \u001b[39m | \u001b[39m0.5      \u001b[39m | \u001b[39m0.1      \u001b[39m |\n",
      "| \u001b[39m74       \u001b[39m | \u001b[39m-5687.834\u001b[39m | \u001b[39m4.9314743\u001b[39m | \u001b[39m0.0      \u001b[39m | \u001b[39m1.0      \u001b[39m | \u001b[39m1.7119878\u001b[39m | \u001b[39m1.0      \u001b[39m | \u001b[39m0.1      \u001b[39m |\n",
      "| \u001b[39m75       \u001b[39m | \u001b[39m-2912.036\u001b[39m | \u001b[39m3.8446314\u001b[39m | \u001b[39m1.0      \u001b[39m | \u001b[39m0.0      \u001b[39m | \u001b[39m2.0760381\u001b[39m | \u001b[39m0.5      \u001b[39m | \u001b[39m0.1      \u001b[39m |\n",
      "| \u001b[39m76       \u001b[39m | \u001b[39m-3188.477\u001b[39m | \u001b[39m10.579720\u001b[39m | \u001b[39m1.0      \u001b[39m | \u001b[39m0.0      \u001b[39m | \u001b[39m1.0      \u001b[39m | \u001b[39m0.5      \u001b[39m | \u001b[39m0.0      \u001b[39m |\n",
      "| \u001b[39m77       \u001b[39m | \u001b[39m-3188.477\u001b[39m | \u001b[39m4.5854794\u001b[39m | \u001b[39m1.0      \u001b[39m | \u001b[39m0.0      \u001b[39m | \u001b[39m3.0      \u001b[39m | \u001b[39m1.0      \u001b[39m | \u001b[39m0.0      \u001b[39m |\n",
      "| \u001b[39m78       \u001b[39m | \u001b[39m-3188.477\u001b[39m | \u001b[39m3.1090941\u001b[39m | \u001b[39m1.0      \u001b[39m | \u001b[39m0.0      \u001b[39m | \u001b[39m1.0      \u001b[39m | \u001b[39m1.0      \u001b[39m | \u001b[39m0.0      \u001b[39m |\n",
      "| \u001b[39m79       \u001b[39m | \u001b[39m-3188.477\u001b[39m | \u001b[39m14.654711\u001b[39m | \u001b[39m1.0      \u001b[39m | \u001b[39m0.0      \u001b[39m | \u001b[39m1.3712258\u001b[39m | \u001b[39m0.5      \u001b[39m | \u001b[39m0.0      \u001b[39m |\n",
      "| \u001b[39m80       \u001b[39m | \u001b[39m-3188.477\u001b[39m | \u001b[39m1.9355322\u001b[39m | \u001b[39m1.0      \u001b[39m | \u001b[39m0.0      \u001b[39m | \u001b[39m2.0795335\u001b[39m | \u001b[39m0.5      \u001b[39m | \u001b[39m0.0      \u001b[39m |\n",
      "| \u001b[39m81       \u001b[39m | \u001b[39m-3188.477\u001b[39m | \u001b[39m12.015482\u001b[39m | \u001b[39m1.0      \u001b[39m | \u001b[39m0.0      \u001b[39m | \u001b[39m3.0      \u001b[39m | \u001b[39m1.0      \u001b[39m | \u001b[39m0.0      \u001b[39m |\n",
      "| \u001b[39m82       \u001b[39m | \u001b[39m-2823.067\u001b[39m | \u001b[39m6.1351086\u001b[39m | \u001b[39m1.0      \u001b[39m | \u001b[39m0.0      \u001b[39m | \u001b[39m2.5597703\u001b[39m | \u001b[39m0.5      \u001b[39m | \u001b[39m0.1      \u001b[39m |\n",
      "| \u001b[39m83       \u001b[39m | \u001b[39m-3188.232\u001b[39m | \u001b[39m59.124500\u001b[39m | \u001b[39m1.0      \u001b[39m | \u001b[39m0.0      \u001b[39m | \u001b[39m1.8528318\u001b[39m | \u001b[39m0.8632781\u001b[39m | \u001b[39m0.0073719\u001b[39m |\n",
      "| \u001b[39m84       \u001b[39m | \u001b[39m-3188.477\u001b[39m | \u001b[39m6.6409373\u001b[39m | \u001b[39m1.0      \u001b[39m | \u001b[39m0.0      \u001b[39m | \u001b[39m1.0      \u001b[39m | \u001b[39m0.5      \u001b[39m | \u001b[39m0.0      \u001b[39m |\n",
      "| \u001b[39m85       \u001b[39m | \u001b[39m-3188.477\u001b[39m | \u001b[39m28.434336\u001b[39m | \u001b[39m1.0      \u001b[39m | \u001b[39m0.0      \u001b[39m | \u001b[39m1.0      \u001b[39m | \u001b[39m0.5      \u001b[39m | \u001b[39m0.0      \u001b[39m |\n",
      "| \u001b[39m86       \u001b[39m | \u001b[39m-3568.728\u001b[39m | \u001b[39m8.6283862\u001b[39m | \u001b[39m1.0      \u001b[39m | \u001b[39m1.0      \u001b[39m | \u001b[39m1.0      \u001b[39m | \u001b[39m0.5      \u001b[39m | \u001b[39m0.0      \u001b[39m |\n",
      "| \u001b[39m87       \u001b[39m | \u001b[39m-2947.450\u001b[39m | \u001b[39m59.130785\u001b[39m | \u001b[39m0.0663974\u001b[39m | \u001b[39m0.0      \u001b[39m | \u001b[39m3.0      \u001b[39m | \u001b[39m0.6265080\u001b[39m | \u001b[39m0.0378254\u001b[39m |\n",
      "| \u001b[39m88       \u001b[39m | \u001b[39m-2835.706\u001b[39m | \u001b[39m1.0      \u001b[39m | \u001b[39m0.7755688\u001b[39m | \u001b[39m0.6007116\u001b[39m | \u001b[39m1.0      \u001b[39m | \u001b[39m1.0      \u001b[39m | \u001b[39m0.1      \u001b[39m |\n",
      "| \u001b[39m89       \u001b[39m | \u001b[39m-2895.654\u001b[39m | \u001b[39m1.0      \u001b[39m | \u001b[39m1.0      \u001b[39m | \u001b[39m1.0      \u001b[39m | \u001b[39m2.3788881\u001b[39m | \u001b[39m1.0      \u001b[39m | \u001b[39m0.0      \u001b[39m |\n",
      "| \u001b[39m90       \u001b[39m | \u001b[39m-3102.901\u001b[39m | \u001b[39m1.0      \u001b[39m | \u001b[39m0.0      \u001b[39m | \u001b[39m0.0      \u001b[39m | \u001b[39m2.4312828\u001b[39m | \u001b[39m1.0      \u001b[39m | \u001b[39m0.1      \u001b[39m |\n",
      "| \u001b[39m91       \u001b[39m | \u001b[39m-3188.477\u001b[39m | \u001b[39m28.544302\u001b[39m | \u001b[39m1.0      \u001b[39m | \u001b[39m0.0      \u001b[39m | \u001b[39m2.5701324\u001b[39m | \u001b[39m0.5      \u001b[39m | \u001b[39m0.0      \u001b[39m |\n",
      "| \u001b[39m92       \u001b[39m | \u001b[39m-7155.720\u001b[39m | \u001b[39m59.847206\u001b[39m | \u001b[39m1.0      \u001b[39m | \u001b[39m1.0      \u001b[39m | \u001b[39m3.0      \u001b[39m | \u001b[39m0.5      \u001b[39m | \u001b[39m0.1      \u001b[39m |\n",
      "| \u001b[39m93       \u001b[39m | \u001b[39m-3188.477\u001b[39m | \u001b[39m58.678035\u001b[39m | \u001b[39m0.0      \u001b[39m | \u001b[39m0.0      \u001b[39m | \u001b[39m1.1282587\u001b[39m | \u001b[39m1.0      \u001b[39m | \u001b[39m0.0      \u001b[39m |\n",
      "| \u001b[39m94       \u001b[39m | \u001b[39m-3188.477\u001b[39m | \u001b[39m19.033078\u001b[39m | \u001b[39m1.0      \u001b[39m | \u001b[39m0.0      \u001b[39m | \u001b[39m1.0      \u001b[39m | \u001b[39m0.5      \u001b[39m | \u001b[39m0.0      \u001b[39m |\n",
      "| \u001b[39m95       \u001b[39m | \u001b[39m-3188.477\u001b[39m | \u001b[39m8.6448833\u001b[39m | \u001b[39m0.0      \u001b[39m | \u001b[39m0.0      \u001b[39m | \u001b[39m1.0      \u001b[39m | \u001b[39m1.0      \u001b[39m | \u001b[39m0.0      \u001b[39m |\n",
      "| \u001b[39m96       \u001b[39m | \u001b[39m-3187.972\u001b[39m | \u001b[39m28.968487\u001b[39m | \u001b[39m0.0      \u001b[39m | \u001b[39m0.0      \u001b[39m | \u001b[39m1.8154094\u001b[39m | \u001b[39m1.0      \u001b[39m | \u001b[39m0.1      \u001b[39m |\n",
      "| \u001b[39m97       \u001b[39m | \u001b[39m-3896.503\u001b[39m | \u001b[39m10.907800\u001b[39m | \u001b[39m1.0      \u001b[39m | \u001b[39m1.0      \u001b[39m | \u001b[39m1.3104399\u001b[39m | \u001b[39m1.0      \u001b[39m | \u001b[39m0.0      \u001b[39m |\n",
      "| \u001b[39m98       \u001b[39m | \u001b[39m-3188.477\u001b[39m | \u001b[39m4.6717056\u001b[39m | \u001b[39m1.0      \u001b[39m | \u001b[39m0.0      \u001b[39m | \u001b[39m1.0      \u001b[39m | \u001b[39m0.5      \u001b[39m | \u001b[39m0.0      \u001b[39m |\n",
      "| \u001b[39m99       \u001b[39m | \u001b[39m-3188.234\u001b[39m | \u001b[39m10.411383\u001b[39m | \u001b[39m0.0      \u001b[39m | \u001b[39m0.0      \u001b[39m | \u001b[39m1.1173341\u001b[39m | \u001b[39m1.0      \u001b[39m | \u001b[39m0.1      \u001b[39m |\n",
      "| \u001b[39m100      \u001b[39m | \u001b[39m-3188.477\u001b[39m | \u001b[39m30.061927\u001b[39m | \u001b[39m1.0      \u001b[39m | \u001b[39m0.0      \u001b[39m | \u001b[39m2.0781877\u001b[39m | \u001b[39m1.0      \u001b[39m | \u001b[39m0.0      \u001b[39m |\n",
      "| \u001b[39m101      \u001b[39m | \u001b[39m-8408.810\u001b[39m | \u001b[39m29.466007\u001b[39m | \u001b[39m0.0      \u001b[39m | \u001b[39m1.0      \u001b[39m | \u001b[39m3.0      \u001b[39m | \u001b[39m0.5      \u001b[39m | \u001b[39m0.0      \u001b[39m |\n",
      "| \u001b[39m102      \u001b[39m | \u001b[39m-2933.570\u001b[39m | \u001b[39m1.0      \u001b[39m | \u001b[39m0.0      \u001b[39m | \u001b[39m1.0      \u001b[39m | \u001b[39m1.5640222\u001b[39m | \u001b[39m0.5      \u001b[39m | \u001b[39m0.0      \u001b[39m |\n",
      "| \u001b[39m103      \u001b[39m | \u001b[39m-3011.763\u001b[39m | \u001b[39m2.4817398\u001b[39m | \u001b[39m0.0152076\u001b[39m | \u001b[39m0.0      \u001b[39m | \u001b[39m3.0      \u001b[39m | \u001b[39m1.0      \u001b[39m | \u001b[39m0.1      \u001b[39m |\n",
      "| \u001b[39m104      \u001b[39m | \u001b[39m-4292.936\u001b[39m | \u001b[39m58.062580\u001b[39m | \u001b[39m1.0      \u001b[39m | \u001b[39m0.0      \u001b[39m | \u001b[39m1.0      \u001b[39m | \u001b[39m0.5      \u001b[39m | \u001b[39m0.1      \u001b[39m |\n",
      "| \u001b[39m105      \u001b[39m | \u001b[39m-2633.037\u001b[39m | \u001b[39m3.7294001\u001b[39m | \u001b[39m1.0      \u001b[39m | \u001b[39m1.0      \u001b[39m | \u001b[39m3.0      \u001b[39m | \u001b[39m1.0      \u001b[39m | \u001b[39m0.1      \u001b[39m |\n",
      "| \u001b[39m106      \u001b[39m | \u001b[39m-3188.477\u001b[39m | \u001b[39m60.278681\u001b[39m | \u001b[39m0.0      \u001b[39m | \u001b[39m0.0      \u001b[39m | \u001b[39m1.0      \u001b[39m | \u001b[39m1.0      \u001b[39m | \u001b[39m0.0      \u001b[39m |\n",
      "| \u001b[39m107      \u001b[39m | \u001b[39m-4282.563\u001b[39m | \u001b[39m15.844264\u001b[39m | \u001b[39m1.0      \u001b[39m | \u001b[39m1.0      \u001b[39m | \u001b[39m1.0      \u001b[39m | \u001b[39m1.0      \u001b[39m | \u001b[39m0.1      \u001b[39m |\n",
      "| \u001b[39m108      \u001b[39m | \u001b[39m-2718.539\u001b[39m | \u001b[39m2.1317904\u001b[39m | \u001b[39m1.0      \u001b[39m | \u001b[39m1.0      \u001b[39m | \u001b[39m3.0      \u001b[39m | \u001b[39m0.5      \u001b[39m | \u001b[39m0.1      \u001b[39m |\n",
      "| \u001b[39m109      \u001b[39m | \u001b[39m-2421.392\u001b[39m | \u001b[39m35.167377\u001b[39m | \u001b[39m1.0      \u001b[39m | \u001b[39m0.0      \u001b[39m | \u001b[39m3.0      \u001b[39m | \u001b[39m1.0      \u001b[39m | \u001b[39m0.1      \u001b[39m |\n",
      "| \u001b[39m110      \u001b[39m | \u001b[39m-2933.570\u001b[39m | \u001b[39m1.0      \u001b[39m | \u001b[39m0.0      \u001b[39m | \u001b[39m1.0      \u001b[39m | \u001b[39m3.0      \u001b[39m | \u001b[39m0.5      \u001b[39m | \u001b[39m-.176e-18\u001b[39m |\n",
      "| \u001b[39m111      \u001b[39m | \u001b[39m-3188.477\u001b[39m | \u001b[39m38.679808\u001b[39m | \u001b[39m1.0      \u001b[39m | \u001b[39m0.0      \u001b[39m | \u001b[39m1.0      \u001b[39m | \u001b[39m0.5      \u001b[39m | \u001b[39m0.0      \u001b[39m |\n",
      "| \u001b[39m112      \u001b[39m | \u001b[39m-3873.733\u001b[39m | \u001b[39m16.072766\u001b[39m | \u001b[39m1.0      \u001b[39m | \u001b[39m1.0      \u001b[39m | \u001b[39m3.0      \u001b[39m | \u001b[39m1.0      \u001b[39m | \u001b[39m0.1      \u001b[39m |\n",
      "| \u001b[39m113      \u001b[39m | \u001b[39m-3188.477\u001b[39m | \u001b[39m32.588049\u001b[39m | \u001b[39m1.0      \u001b[39m | \u001b[39m0.0      \u001b[39m | \u001b[39m3.0      \u001b[39m | \u001b[39m1.0      \u001b[39m | \u001b[39m0.0      \u001b[39m |\n",
      "| \u001b[39m114      \u001b[39m | \u001b[39m-3188.477\u001b[39m | \u001b[39m13.273813\u001b[39m | \u001b[39m1.0      \u001b[39m | \u001b[39m0.0      \u001b[39m | \u001b[39m1.0      \u001b[39m | \u001b[39m1.0      \u001b[39m | \u001b[39m0.0      \u001b[39m |\n",
      "| \u001b[39m115      \u001b[39m | \u001b[39m-3188.477\u001b[39m | \u001b[39m1.0      \u001b[39m | \u001b[39m0.0      \u001b[39m | \u001b[39m0.0      \u001b[39m | \u001b[39m1.0      \u001b[39m | \u001b[39m0.5      \u001b[39m | \u001b[39m0.0      \u001b[39m |\n",
      "| \u001b[39m116      \u001b[39m | \u001b[39m-2831.529\u001b[39m | \u001b[39m3.9932224\u001b[39m | \u001b[39m1.0      \u001b[39m | \u001b[39m1.0      \u001b[39m | \u001b[39m1.9842347\u001b[39m | \u001b[39m0.5      \u001b[39m | \u001b[39m0.0      \u001b[39m |\n",
      "| \u001b[39m117      \u001b[39m | \u001b[39m-4338.317\u001b[39m | \u001b[39m44.682161\u001b[39m | \u001b[39m1.0      \u001b[39m | \u001b[39m0.0      \u001b[39m | \u001b[39m3.0      \u001b[39m | \u001b[39m0.5      \u001b[39m | \u001b[39m0.1      \u001b[39m |\n",
      "| \u001b[39m118      \u001b[39m | \u001b[39m-3148.668\u001b[39m | \u001b[39m1.0      \u001b[39m | \u001b[39m1.0      \u001b[39m | \u001b[39m0.0      \u001b[39m | \u001b[39m3.0      \u001b[39m | \u001b[39m0.5      \u001b[39m | \u001b[39m0.1      \u001b[39m |\n",
      "| \u001b[39m119      \u001b[39m | \u001b[39m-3851.903\u001b[39m | \u001b[39m34.887407\u001b[39m | \u001b[39m0.0      \u001b[39m | \u001b[39m0.0      \u001b[39m | \u001b[39m3.0      \u001b[39m | \u001b[39m0.5      \u001b[39m | \u001b[39m0.1      \u001b[39m |\n",
      "| \u001b[39m120      \u001b[39m | \u001b[39m-3173.470\u001b[39m | \u001b[39m8.5252725\u001b[39m | \u001b[39m1.0      \u001b[39m | \u001b[39m1.0      \u001b[39m | \u001b[39m3.0      \u001b[39m | \u001b[39m1.0      \u001b[39m | \u001b[39m0.1      \u001b[39m |\n",
      "| \u001b[39m121      \u001b[39m | \u001b[39m-3187.935\u001b[39m | \u001b[39m34.684581\u001b[39m | \u001b[39m1.0      \u001b[39m | \u001b[39m0.0      \u001b[39m | \u001b[39m1.0      \u001b[39m | \u001b[39m1.0      \u001b[39m | \u001b[39m0.1      \u001b[39m |\n",
      "| \u001b[39m122      \u001b[39m | \u001b[39m-3188.477\u001b[39m | \u001b[39m58.782460\u001b[39m | \u001b[39m0.0      \u001b[39m | \u001b[39m0.0      \u001b[39m | \u001b[39m2.2205638\u001b[39m | \u001b[39m1.0      \u001b[39m | \u001b[39m0.0      \u001b[39m |\n",
      "| \u001b[39m123      \u001b[39m | \u001b[39m-3319.908\u001b[39m | \u001b[39m18.633751\u001b[39m | \u001b[39m0.0      \u001b[39m | \u001b[39m0.0      \u001b[39m | \u001b[39m1.4721091\u001b[39m | \u001b[39m0.5      \u001b[39m | \u001b[39m0.1      \u001b[39m |\n",
      "| \u001b[39m124      \u001b[39m | \u001b[39m-3525.683\u001b[39m | \u001b[39m29.878805\u001b[39m | \u001b[39m1.0      \u001b[39m | \u001b[39m0.0      \u001b[39m | \u001b[39m1.0      \u001b[39m | \u001b[39m0.5      \u001b[39m | \u001b[39m0.1      \u001b[39m |\n",
      "| \u001b[39m125      \u001b[39m | \u001b[39m-3046.993\u001b[39m | \u001b[39m18.700017\u001b[39m | \u001b[39m1.0      \u001b[39m | \u001b[39m0.0      \u001b[39m | \u001b[39m2.4525569\u001b[39m | \u001b[39m0.5      \u001b[39m | \u001b[39m0.1      \u001b[39m |\n",
      "| \u001b[39m126      \u001b[39m | \u001b[39m-3188.477\u001b[39m | \u001b[39m2.9795003\u001b[39m | \u001b[39m1.0      \u001b[39m | \u001b[39m0.0      \u001b[39m | \u001b[39m3.0      \u001b[39m | \u001b[39m0.5      \u001b[39m | \u001b[39m0.0      \u001b[39m |\n",
      "| \u001b[39m127      \u001b[39m | \u001b[39m-8408.810\u001b[39m | \u001b[39m59.544312\u001b[39m | \u001b[39m0.0      \u001b[39m | \u001b[39m1.0      \u001b[39m | \u001b[39m1.0      \u001b[39m | \u001b[39m0.5      \u001b[39m | \u001b[39m0.0      \u001b[39m |\n",
      "| \u001b[39m128      \u001b[39m | \u001b[39m-3188.034\u001b[39m | \u001b[39m61.188865\u001b[39m | \u001b[39m1.0      \u001b[39m | \u001b[39m0.0      \u001b[39m | \u001b[39m1.0      \u001b[39m | \u001b[39m1.0      \u001b[39m | \u001b[39m0.1      \u001b[39m |\n",
      "| \u001b[39m129      \u001b[39m | \u001b[39m-3188.477\u001b[39m | \u001b[39m13.538076\u001b[39m | \u001b[39m1.0      \u001b[39m | \u001b[39m0.0      \u001b[39m | \u001b[39m3.0      \u001b[39m | \u001b[39m1.0      \u001b[39m | \u001b[39m0.0      \u001b[39m |\n",
      "| \u001b[39m130      \u001b[39m | \u001b[39m-3188.477\u001b[39m | \u001b[39m61.268224\u001b[39m | \u001b[39m0.0      \u001b[39m | \u001b[39m0.0      \u001b[39m | \u001b[39m2.2073939\u001b[39m | \u001b[39m1.0      \u001b[39m | \u001b[39m0.0      \u001b[39m |\n",
      "| \u001b[39m131      \u001b[39m | \u001b[39m-3188.477\u001b[39m | \u001b[39m5.5213493\u001b[39m | \u001b[39m1.0      \u001b[39m | \u001b[39m0.0      \u001b[39m | \u001b[39m1.9021052\u001b[39m | \u001b[39m1.0      \u001b[39m | \u001b[39m0.0      \u001b[39m |\n",
      "| \u001b[39m132      \u001b[39m | \u001b[39m-3188.477\u001b[39m | \u001b[39m14.635588\u001b[39m | \u001b[39m0.0      \u001b[39m | \u001b[39m0.0      \u001b[39m | \u001b[39m2.0595514\u001b[39m | \u001b[39m0.5      \u001b[39m | \u001b[39m0.0      \u001b[39m |\n",
      "| \u001b[39m133      \u001b[39m | \u001b[39m-3188.477\u001b[39m | \u001b[39m28.048451\u001b[39m | \u001b[39m0.0      \u001b[39m | \u001b[39m0.0      \u001b[39m | \u001b[39m1.0      \u001b[39m | \u001b[39m1.0      \u001b[39m | \u001b[39m0.0      \u001b[39m |\n",
      "| \u001b[39m134      \u001b[39m | \u001b[39m-3188.477\u001b[39m | \u001b[39m34.912677\u001b[39m | \u001b[39m1.0      \u001b[39m | \u001b[39m0.0      \u001b[39m | \u001b[39m2.1078341\u001b[39m | \u001b[39m1.0      \u001b[39m | \u001b[39m0.0      \u001b[39m |\n",
      "| \u001b[39m135      \u001b[39m | \u001b[39m-2648.708\u001b[39m | \u001b[39m8.3808101\u001b[39m | \u001b[39m0.0      \u001b[39m | \u001b[39m0.0      \u001b[39m | \u001b[39m2.5354189\u001b[39m | \u001b[39m1.0      \u001b[39m | \u001b[39m0.1      \u001b[39m |\n",
      "| \u001b[39m136      \u001b[39m | \u001b[39m-3022.969\u001b[39m | \u001b[39m6.8134585\u001b[39m | \u001b[39m0.0      \u001b[39m | \u001b[39m0.0      \u001b[39m | \u001b[39m3.0      \u001b[39m | \u001b[39m0.5      \u001b[39m | \u001b[39m0.1      \u001b[39m |\n",
      "| \u001b[39m137      \u001b[39m | \u001b[39m-3320.002\u001b[39m | \u001b[39m1.9132441\u001b[39m | \u001b[39m0.0      \u001b[39m | \u001b[39m1.0      \u001b[39m | \u001b[39m1.0      \u001b[39m | \u001b[39m1.0      \u001b[39m | \u001b[39m0.0      \u001b[39m |\n",
      "| \u001b[39m138      \u001b[39m | \u001b[39m-2960.953\u001b[39m | \u001b[39m6.0458478\u001b[39m | \u001b[39m1.0      \u001b[39m | \u001b[39m1.0      \u001b[39m | \u001b[39m3.0      \u001b[39m | \u001b[39m0.5      \u001b[39m | \u001b[39m0.1      \u001b[39m |\n",
      "| \u001b[39m139      \u001b[39m | \u001b[39m-3188.477\u001b[39m | \u001b[39m21.273974\u001b[39m | \u001b[39m1.0      \u001b[39m | \u001b[39m0.0      \u001b[39m | \u001b[39m3.0      \u001b[39m | \u001b[39m0.5      \u001b[39m | \u001b[39m0.0      \u001b[39m |\n",
      "| \u001b[39m140      \u001b[39m | \u001b[39m-2830.710\u001b[39m | \u001b[39m62.189237\u001b[39m | \u001b[39m1.0      \u001b[39m | \u001b[39m0.0      \u001b[39m | \u001b[39m3.0      \u001b[39m | \u001b[39m1.0      \u001b[39m | \u001b[39m0.1      \u001b[39m |\n",
      "| \u001b[39m141      \u001b[39m | \u001b[39m-3188.477\u001b[39m | \u001b[39m62.501923\u001b[39m | \u001b[39m0.0      \u001b[39m | \u001b[39m0.0      \u001b[39m | \u001b[39m3.0      \u001b[39m | \u001b[39m0.5      \u001b[39m | \u001b[39m0.0      \u001b[39m |\n",
      "| \u001b[39m142      \u001b[39m | \u001b[39m-8277.331\u001b[39m | \u001b[39m62.128977\u001b[39m | \u001b[39m0.0      \u001b[39m | \u001b[39m1.0      \u001b[39m | \u001b[39m3.0      \u001b[39m | \u001b[39m1.0      \u001b[39m | \u001b[39m0.1      \u001b[39m |\n",
      "| \u001b[39m143      \u001b[39m | \u001b[39m-2571.599\u001b[39m | \u001b[39m10.498938\u001b[39m | \u001b[39m1.0      \u001b[39m | \u001b[39m0.0      \u001b[39m | \u001b[39m2.8979511\u001b[39m | \u001b[39m1.0      \u001b[39m | \u001b[39m0.1      \u001b[39m |\n",
      "| \u001b[39m144      \u001b[39m | \u001b[39m-4825.504\u001b[39m | \u001b[39m34.364383\u001b[39m | \u001b[39m1.0      \u001b[39m | \u001b[39m1.0      \u001b[39m | \u001b[39m3.0      \u001b[39m | \u001b[39m1.0      \u001b[39m | \u001b[39m0.1      \u001b[39m |\n",
      "| \u001b[39m145      \u001b[39m | \u001b[39m-3188.477\u001b[39m | \u001b[39m61.717882\u001b[39m | \u001b[39m1.0      \u001b[39m | \u001b[39m0.0      \u001b[39m | \u001b[39m2.1413276\u001b[39m | \u001b[39m0.5      \u001b[39m | \u001b[39m0.0      \u001b[39m |\n",
      "| \u001b[39m146      \u001b[39m | \u001b[39m-3188.477\u001b[39m | \u001b[39m61.572084\u001b[39m | \u001b[39m0.0      \u001b[39m | \u001b[39m0.0      \u001b[39m | \u001b[39m1.0      \u001b[39m | \u001b[39m0.5      \u001b[39m | \u001b[39m0.0      \u001b[39m |\n",
      "| \u001b[39m147      \u001b[39m | \u001b[39m-3188.477\u001b[39m | \u001b[39m63.436911\u001b[39m | \u001b[39m1.0      \u001b[39m | \u001b[39m0.0      \u001b[39m | \u001b[39m3.0      \u001b[39m | \u001b[39m0.5      \u001b[39m | \u001b[39m0.0      \u001b[39m |\n",
      "| \u001b[39m148      \u001b[39m | \u001b[39m-3188.477\u001b[39m | \u001b[39m17.822176\u001b[39m | \u001b[39m1.0      \u001b[39m | \u001b[39m0.0      \u001b[39m | \u001b[39m1.0      \u001b[39m | \u001b[39m1.0      \u001b[39m | \u001b[39m0.0      \u001b[39m |\n",
      "| \u001b[39m149      \u001b[39m | \u001b[39m-5256.689\u001b[39m | \u001b[39m28.777668\u001b[39m | \u001b[39m1.0      \u001b[39m | \u001b[39m1.0      \u001b[39m | \u001b[39m1.0      \u001b[39m | \u001b[39m1.0      \u001b[39m | \u001b[39m0.1      \u001b[39m |\n",
      "| \u001b[39m150      \u001b[39m | \u001b[39m-3188.286\u001b[39m | \u001b[39m7.9049309\u001b[39m | \u001b[39m1.0      \u001b[39m | \u001b[39m0.0      \u001b[39m | \u001b[39m1.0      \u001b[39m | \u001b[39m1.0      \u001b[39m | \u001b[39m0.1      \u001b[39m |\n",
      "| \u001b[39m151      \u001b[39m | \u001b[39m-2776.502\u001b[39m | \u001b[39m3.7188029\u001b[39m | \u001b[39m1.0      \u001b[39m | \u001b[39m1.0      \u001b[39m | \u001b[39m1.0      \u001b[39m | \u001b[39m1.0      \u001b[39m | \u001b[39m0.1      \u001b[39m |\n",
      "| \u001b[39m152      \u001b[39m | \u001b[39m-2761.559\u001b[39m | \u001b[39m58.406318\u001b[39m | \u001b[39m1.0      \u001b[39m | \u001b[39m0.0      \u001b[39m | \u001b[39m3.0      \u001b[39m | \u001b[39m1.0      \u001b[39m | \u001b[39m0.1      \u001b[39m |\n",
      "| \u001b[39m153      \u001b[39m | \u001b[39m-3258.829\u001b[39m | \u001b[39m13.852238\u001b[39m | \u001b[39m0.0      \u001b[39m | \u001b[39m0.0      \u001b[39m | \u001b[39m1.0      \u001b[39m | \u001b[39m0.5      \u001b[39m | \u001b[39m0.1      \u001b[39m |\n",
      "| \u001b[39m154      \u001b[39m | \u001b[39m-2746.412\u001b[39m | \u001b[39m7.1687499\u001b[39m | \u001b[39m1.0      \u001b[39m | \u001b[39m0.0      \u001b[39m | \u001b[39m3.0      \u001b[39m | \u001b[39m1.0      \u001b[39m | \u001b[39m0.1      \u001b[39m |\n",
      "| \u001b[39m155      \u001b[39m | \u001b[39m-4141.008\u001b[39m | \u001b[39m53.098388\u001b[39m | \u001b[39m1.0      \u001b[39m | \u001b[39m0.0      \u001b[39m | \u001b[39m1.0      \u001b[39m | \u001b[39m0.5      \u001b[39m | \u001b[39m0.1      \u001b[39m |\n",
      "| \u001b[39m156      \u001b[39m | \u001b[39m-3188.477\u001b[39m | \u001b[39m10.983093\u001b[39m | \u001b[39m1.0      \u001b[39m | \u001b[39m0.0      \u001b[39m | \u001b[39m2.3152696\u001b[39m | \u001b[39m0.5      \u001b[39m | \u001b[39m0.0      \u001b[39m |\n",
      "| \u001b[39m157      \u001b[39m | \u001b[39m-3902.556\u001b[39m | \u001b[39m35.920665\u001b[39m | \u001b[39m1.0      \u001b[39m | \u001b[39m0.0      \u001b[39m | \u001b[39m3.0      \u001b[39m | \u001b[39m0.5      \u001b[39m | \u001b[39m0.1      \u001b[39m |\n",
      "| \u001b[39m158      \u001b[39m | \u001b[39m-3727.430\u001b[39m | \u001b[39m32.278685\u001b[39m | \u001b[39m0.0      \u001b[39m | \u001b[39m0.0      \u001b[39m | \u001b[39m3.0      \u001b[39m | \u001b[39m0.5      \u001b[39m | \u001b[39m0.1      \u001b[39m |\n",
      "| \u001b[39m159      \u001b[39m | \u001b[39m-3188.477\u001b[39m | \u001b[39m18.430330\u001b[39m | \u001b[39m0.0      \u001b[39m | \u001b[39m0.0      \u001b[39m | \u001b[39m3.0      \u001b[39m | \u001b[39m0.5      \u001b[39m | \u001b[39m0.0      \u001b[39m |\n",
      "| \u001b[39m160      \u001b[39m | \u001b[39m-3188.205\u001b[39m | \u001b[39m11.879177\u001b[39m | \u001b[39m1.0      \u001b[39m | \u001b[39m0.0      \u001b[39m | \u001b[39m1.0      \u001b[39m | \u001b[39m1.0      \u001b[39m | \u001b[39m0.1      \u001b[39m |\n",
      "| \u001b[39m161      \u001b[39m | \u001b[39m-3340.015\u001b[39m | \u001b[39m1.9436000\u001b[39m | \u001b[39m0.0      \u001b[39m | \u001b[39m1.0      \u001b[39m | \u001b[39m3.0      \u001b[39m | \u001b[39m1.0      \u001b[39m | \u001b[39m0.0      \u001b[39m |\n",
      "| \u001b[39m162      \u001b[39m | \u001b[39m-3138.393\u001b[39m | \u001b[39m16.854951\u001b[39m | \u001b[39m1.0      \u001b[39m | \u001b[39m0.0      \u001b[39m | \u001b[39m3.0      \u001b[39m | \u001b[39m0.5      \u001b[39m | \u001b[39m0.1      \u001b[39m |\n",
      "| \u001b[39m163      \u001b[39m | \u001b[39m-2758.484\u001b[39m | \u001b[39m5.1459826\u001b[39m | \u001b[39m1.0      \u001b[39m | \u001b[39m1.0      \u001b[39m | \u001b[39m2.2545036\u001b[39m | \u001b[39m0.5      \u001b[39m | \u001b[39m0.1      \u001b[39m |\n",
      "| \u001b[39m164      \u001b[39m | \u001b[39m-2844.135\u001b[39m | \u001b[39m1.4231942\u001b[39m | \u001b[39m1.0      \u001b[39m | \u001b[39m1.0      \u001b[39m | \u001b[39m1.5707443\u001b[39m | \u001b[39m0.5      \u001b[39m | \u001b[39m0.1      \u001b[39m |\n",
      "| \u001b[39m165      \u001b[39m | \u001b[39m-3188.477\u001b[39m | \u001b[39m27.307746\u001b[39m | \u001b[39m1.0      \u001b[39m | \u001b[39m0.0      \u001b[39m | \u001b[39m3.0      \u001b[39m | \u001b[39m0.5      \u001b[39m | \u001b[39m0.0      \u001b[39m |\n",
      "| \u001b[39m166      \u001b[39m | \u001b[39m-3188.477\u001b[39m | \u001b[39m3.3256457\u001b[39m | \u001b[39m0.0      \u001b[39m | \u001b[39m0.0      \u001b[39m | \u001b[39m1.0      \u001b[39m | \u001b[39m0.5      \u001b[39m | \u001b[39m0.0      \u001b[39m |\n",
      "| \u001b[39m167      \u001b[39m | \u001b[39m-3188.477\u001b[39m | \u001b[39m22.883746\u001b[39m | \u001b[39m1.0      \u001b[39m | \u001b[39m0.0      \u001b[39m | \u001b[39m3.0      \u001b[39m | \u001b[39m0.5      \u001b[39m | \u001b[39m0.0      \u001b[39m |\n",
      "| \u001b[39m168      \u001b[39m | \u001b[39m-3188.477\u001b[39m | \u001b[39m5.7001168\u001b[39m | \u001b[39m0.0      \u001b[39m | \u001b[39m0.0      \u001b[39m | \u001b[39m3.0      \u001b[39m | \u001b[39m1.0      \u001b[39m | \u001b[39m0.0      \u001b[39m |\n",
      "| \u001b[39m169      \u001b[39m | \u001b[39m-4610.742\u001b[39m | \u001b[39m17.819605\u001b[39m | \u001b[39m1.0      \u001b[39m | \u001b[39m1.0      \u001b[39m | \u001b[39m1.0      \u001b[39m | \u001b[39m0.5      \u001b[39m | \u001b[39m0.0      \u001b[39m |\n",
      "| \u001b[39m170      \u001b[39m | \u001b[39m-3188.235\u001b[39m | \u001b[39m10.356595\u001b[39m | \u001b[39m1.0      \u001b[39m | \u001b[39m0.0      \u001b[39m | \u001b[39m1.6843885\u001b[39m | \u001b[39m1.0      \u001b[39m | \u001b[39m0.1      \u001b[39m |\n",
      "| \u001b[39m171      \u001b[39m | \u001b[39m-3188.477\u001b[39m | \u001b[39m9.3027332\u001b[39m | \u001b[39m0.2671101\u001b[39m | \u001b[39m0.0      \u001b[39m | \u001b[39m1.7169791\u001b[39m | \u001b[39m0.5      \u001b[39m | \u001b[39m0.0      \u001b[39m |\n",
      "| \u001b[39m172      \u001b[39m | \u001b[39m-3188.477\u001b[39m | \u001b[39m11.629200\u001b[39m | \u001b[39m0.0      \u001b[39m | \u001b[39m0.0      \u001b[39m | \u001b[39m1.0      \u001b[39m | \u001b[39m0.5      \u001b[39m | \u001b[39m0.0      \u001b[39m |\n",
      "| \u001b[39m173      \u001b[39m | \u001b[39m-3188.477\u001b[39m | \u001b[39m11.307972\u001b[39m | \u001b[39m0.0      \u001b[39m | \u001b[39m0.0      \u001b[39m | \u001b[39m2.2786363\u001b[39m | \u001b[39m1.0      \u001b[39m | \u001b[39m0.0      \u001b[39m |\n",
      "| \u001b[39m174      \u001b[39m | \u001b[39m-3630.432\u001b[39m | \u001b[39m9.2814441\u001b[39m | \u001b[39m1.0      \u001b[39m | \u001b[39m0.9723034\u001b[39m | \u001b[39m1.9823530\u001b[39m | \u001b[39m1.0      \u001b[39m | \u001b[39m0.0      \u001b[39m |\n",
      "| \u001b[39m175      \u001b[39m | \u001b[39m-3188.477\u001b[39m | \u001b[39m24.627437\u001b[39m | \u001b[39m1.0      \u001b[39m | \u001b[39m0.0      \u001b[39m | \u001b[39m1.0      \u001b[39m | \u001b[39m0.5      \u001b[39m | \u001b[39m0.0      \u001b[39m |\n",
      "| \u001b[39m176      \u001b[39m | \u001b[39m-3204.897\u001b[39m | \u001b[39m7.3007874\u001b[39m | \u001b[39m0.0      \u001b[39m | \u001b[39m0.0      \u001b[39m | \u001b[39m1.0      \u001b[39m | \u001b[39m0.5      \u001b[39m | \u001b[39m0.1      \u001b[39m |\n",
      "| \u001b[39m177      \u001b[39m | \u001b[39m-3187.979\u001b[39m | \u001b[39m28.060717\u001b[39m | \u001b[39m1.0      \u001b[39m | \u001b[39m0.0      \u001b[39m | \u001b[39m1.9379095\u001b[39m | \u001b[39m1.0      \u001b[39m | \u001b[39m0.1      \u001b[39m |\n",
      "| \u001b[39m178      \u001b[39m | \u001b[39m-3188.477\u001b[39m | \u001b[39m13.838776\u001b[39m | \u001b[39m0.0      \u001b[39m | \u001b[39m0.0      \u001b[39m | \u001b[39m3.0      \u001b[39m | \u001b[39m0.5      \u001b[39m | \u001b[39m0.0      \u001b[39m |\n",
      "| \u001b[39m179      \u001b[39m | \u001b[39m-3188.477\u001b[39m | \u001b[39m9.4955251\u001b[39m | \u001b[39m1.0      \u001b[39m | \u001b[39m0.0      \u001b[39m | \u001b[39m3.0      \u001b[39m | \u001b[39m1.0      \u001b[39m | \u001b[39m0.0      \u001b[39m |\n",
      "| \u001b[39m180      \u001b[39m | \u001b[39m-2864.593\u001b[39m | \u001b[39m64.0     \u001b[39m | \u001b[39m0.0      \u001b[39m | \u001b[39m0.0      \u001b[39m | \u001b[39m3.0      \u001b[39m | \u001b[39m1.0      \u001b[39m | \u001b[39m0.1      \u001b[39m |\n",
      "| \u001b[39m181      \u001b[39m | \u001b[39m-3188.030\u001b[39m | \u001b[39m1.6182284\u001b[39m | \u001b[39m1.0      \u001b[39m | \u001b[39m0.0      \u001b[39m | \u001b[39m1.0      \u001b[39m | \u001b[39m0.5      \u001b[39m | \u001b[39m0.1      \u001b[39m |\n",
      "| \u001b[39m182      \u001b[39m | \u001b[39m-3188.477\u001b[39m | \u001b[39m13.166318\u001b[39m | \u001b[39m1.0      \u001b[39m | \u001b[39m0.0      \u001b[39m | \u001b[39m2.3240157\u001b[39m | \u001b[39m0.5      \u001b[39m | \u001b[39m0.0      \u001b[39m |\n",
      "| \u001b[39m183      \u001b[39m | \u001b[39m-4777.298\u001b[39m | \u001b[39m22.170619\u001b[39m | \u001b[39m1.0      \u001b[39m | \u001b[39m1.0      \u001b[39m | \u001b[39m3.0      \u001b[39m | \u001b[39m0.5      \u001b[39m | \u001b[39m0.1      \u001b[39m |\n",
      "| \u001b[39m184      \u001b[39m | \u001b[39m-3188.477\u001b[39m | \u001b[39m24.083898\u001b[39m | \u001b[39m0.0      \u001b[39m | \u001b[39m0.0      \u001b[39m | \u001b[39m3.0      \u001b[39m | \u001b[39m0.5      \u001b[39m | \u001b[39m0.0      \u001b[39m |\n",
      "| \u001b[39m185      \u001b[39m | \u001b[39m-4631.182\u001b[39m | \u001b[39m3.4278180\u001b[39m | \u001b[39m0.0      \u001b[39m | \u001b[39m1.0      \u001b[39m | \u001b[39m3.0      \u001b[39m | \u001b[39m1.0      \u001b[39m | \u001b[39m0.0      \u001b[39m |\n",
      "| \u001b[39m186      \u001b[39m | \u001b[39m-2579.044\u001b[39m | \u001b[39m1.9189379\u001b[39m | \u001b[39m1.0      \u001b[39m | \u001b[39m0.1651188\u001b[39m | \u001b[39m3.0      \u001b[39m | \u001b[39m1.0      \u001b[39m | \u001b[39m0.1      \u001b[39m |\n",
      "| \u001b[39m187      \u001b[39m | \u001b[39m-3188.477\u001b[39m | \u001b[39m1.6508255\u001b[39m | \u001b[39m0.0      \u001b[39m | \u001b[39m0.0      \u001b[39m | \u001b[39m3.0      \u001b[39m | \u001b[39m0.5      \u001b[39m | \u001b[39m0.0      \u001b[39m |\n",
      "| \u001b[39m188      \u001b[39m | \u001b[39m-5820.055\u001b[39m | \u001b[39m38.796062\u001b[39m | \u001b[39m1.0      \u001b[39m | \u001b[39m1.0      \u001b[39m | \u001b[39m1.0      \u001b[39m | \u001b[39m1.0      \u001b[39m | \u001b[39m0.1      \u001b[39m |\n",
      "| \u001b[39m189      \u001b[39m | \u001b[39m-3160.442\u001b[39m | \u001b[39m6.2471354\u001b[39m | \u001b[39m1.0      \u001b[39m | \u001b[39m1.0      \u001b[39m | \u001b[39m1.0      \u001b[39m | \u001b[39m1.0      \u001b[39m | \u001b[39m0.0      \u001b[39m |\n",
      "| \u001b[39m190      \u001b[39m | \u001b[39m-8416.178\u001b[39m | \u001b[39m9.8469575\u001b[39m | \u001b[39m0.0      \u001b[39m | \u001b[39m1.0      \u001b[39m | \u001b[39m1.0      \u001b[39m | \u001b[39m0.5      \u001b[39m | \u001b[39m0.1      \u001b[39m |\n",
      "| \u001b[39m191      \u001b[39m | \u001b[39m-3111.282\u001b[39m | \u001b[39m15.766112\u001b[39m | \u001b[39m0.0      \u001b[39m | \u001b[39m0.0      \u001b[39m | \u001b[39m3.0      \u001b[39m | \u001b[39m0.5      \u001b[39m | \u001b[39m0.1      \u001b[39m |\n",
      "| \u001b[39m192      \u001b[39m | \u001b[39m-3188.477\u001b[39m | \u001b[39m9.0713749\u001b[39m | \u001b[39m1.0      \u001b[39m | \u001b[39m0.0      \u001b[39m | \u001b[39m1.0      \u001b[39m | \u001b[39m0.5      \u001b[39m | \u001b[39m0.0      \u001b[39m |\n",
      "=================================================================================================\n",
      "Optimal parameters for 2 players and threshold 0.5:\n",
      "{'inverse_temperature': np.float64(13.880491733085599), 'bias': np.float64(0.8781174363909454), 'learning_rate': np.float64(0.027387593197926163), 'len_history': np.float64(2.3409350203568042), 'c': np.float64(0.7086524011835635), 'delta': np.float64(0.05586898284457517)}\n",
      "Deviance: -2237.1683794667506\n",
      "AIC: 4486.336758933501\n",
      "--------------------------------------------------\n"
     ]
    }
   ],
   "source": [
    "hyperparameters = {\n",
    "    'n_iter': 128,\n",
    "    'init_points': 64,\n",
    "}\n",
    "\n",
    "ParameterFit.run(\n",
    "    data=data,\n",
    "    model_list=my_models,\n",
    "    best_fit_path=best_fit_file_2P,\n",
    "    optimizer_type='bayesian',\n",
    "    hyperparameters=hyperparameters,\n",
    "    new_file=False\n",
    ")"
   ]
  },
  {
   "cell_type": "code",
   "execution_count": 7,
   "metadata": {},
   "outputs": [
    {
     "data": {
      "application/vnd.jupyter.widget-view+json": {
       "model_id": "30a8525a2fea429f818b4ebfc224d225",
       "version_major": 2,
       "version_minor": 0
      },
      "text/plain": [
       "Fitting models...:   0%|          | 0/1 [00:00<?, ?it/s]"
      ]
     },
     "metadata": {},
     "output_type": "display_data"
    },
    {
     "name": "stdout",
     "output_type": "stream",
     "text": [
      "Fitting data to model FRA+Payoff+Attendance...\n",
      "Creating parameter recovery class...\n",
      "Running optimizer...\n",
      "Finding deviance for 2 players and threshold 0.5...\n",
      "Optimal parameters for 2 players and threshold 0.5:\n",
      "{'inverse_temperature': np.float64(6.318130859975263), 'bias': np.float64(0.7860624859587133), 'learning_rate': np.float64(0.1612130477882558), 'len_history': np.float64(2.0712403283503287), 'c': np.float64(0.9173537687429141), 'delta': np.float64(0.1)}\n",
      "Deviance: -2175.1644782663743\n",
      "AIC: 4362.328956532749\n",
      "--------------------------------------------------\n"
     ]
    }
   ],
   "source": [
    "ParameterFit.run(\n",
    "    data=data,\n",
    "    model_list=my_models,\n",
    "    best_fit_path=best_fit_file_2P,\n",
    "    optimizer_type='scipy',\n",
    "    hyperparameters={},\n",
    "    new_file=False\n",
    ")"
   ]
  },
  {
   "cell_type": "markdown",
   "metadata": {},
   "source": [
    "---"
   ]
  },
  {
   "cell_type": "code",
   "execution_count": 10,
   "metadata": {},
   "outputs": [
    {
     "data": {
      "text/plain": [
       "np.float64(2176.6420997516866)"
      ]
     },
     "execution_count": 10,
     "metadata": {},
     "output_type": "execute_result"
    }
   ],
   "source": [
    "from Classes.parameter_recovery import GetDeviance\n",
    "\n",
    "free_parameters = {\n",
    "    'inverse_temperature': 6, \n",
    "    'learning_rate': 0.16, \n",
    "    'bias': 0.78, \n",
    "    'len_history': 2, \n",
    "    'c': 0.91, \n",
    "    'delta': 0.1\n",
    "}\n",
    "g_dev = GetDeviance(\n",
    "    model=Titan,\n",
    "    free_parameters=free_parameters,\n",
    "    data=data\n",
    ")\n",
    "\n",
    "g_dev.get_deviance_from_data(free_parameters)"
   ]
  },
  {
   "cell_type": "code",
   "execution_count": null,
   "metadata": {},
   "outputs": [],
   "source": []
  }
 ],
 "metadata": {
  "kernelspec": {
   "display_name": "Python 3 (ipykernel)",
   "language": "python",
   "name": "python3"
  },
  "language_info": {
   "codemirror_mode": {
    "name": "ipython",
    "version": 3
   },
   "file_extension": ".py",
   "mimetype": "text/x-python",
   "name": "python",
   "nbconvert_exporter": "python",
   "pygments_lexer": "ipython3",
   "version": "3.13.3"
  }
 },
 "nbformat": 4,
 "nbformat_minor": 2
}
