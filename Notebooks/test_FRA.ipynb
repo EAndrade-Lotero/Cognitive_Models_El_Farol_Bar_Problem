{
 "cells": [
  {
   "cell_type": "code",
   "execution_count": 1,
   "metadata": {},
   "outputs": [],
   "source": [
    "import numpy as np\n",
    "\n",
    "import sys\n",
    "\n",
    "sys.path.append('../src')\n",
    "\n",
    "import warnings\n",
    "warnings.filterwarnings(\"ignore\")"
   ]
  },
  {
   "cell_type": "markdown",
   "metadata": {},
   "source": [
    "### Test focal region similarity"
   ]
  },
  {
   "cell_type": "code",
   "execution_count": 2,
   "metadata": {},
   "outputs": [],
   "source": [
    "from Classes.experimental import FocalRegion"
   ]
  },
  {
   "cell_type": "code",
   "execution_count": 12,
   "metadata": {},
   "outputs": [
    {
     "name": "stdout",
     "output_type": "stream",
     "text": [
      "History:\n",
      " [[1 0]\n",
      " [0 1]]\n",
      "------------------------------------------------------------\n",
      "Cicle from column 0:\n",
      "[[1 0]\n",
      " [0 1]]\n",
      "Similarity score: 1.0\n",
      "Cicle from column 1:\n",
      "[[0 1]\n",
      " [1 0]]\n",
      "Similarity score: 0.0\n",
      "Scores:\n",
      " [1.0, 0.0]\n",
      "------------------------------------------------------------\n"
     ]
    }
   ],
   "source": [
    "region = np.array([[1, 0], [0, 1]])\n",
    "fra = FocalRegion(region)\n",
    "fra.debug = True\n",
    "\n",
    "history = np.array([[1, 0], [0, 1]])\n",
    "print('History:\\n', history)\n",
    "print('-'*60)\n",
    "scores = fra.get_similarity_scores(history)\n",
    "print('Scores:\\n', scores)\n",
    "print('-'*60)\n",
    "\n",
    "\n",
    "\n",
    "\n",
    "\n",
    "\n"
   ]
  },
  {
   "cell_type": "markdown",
   "metadata": {},
   "source": [
    "### Test FRA agents"
   ]
  },
  {
   "cell_type": "code",
   "execution_count": 4,
   "metadata": {},
   "outputs": [],
   "source": [
    "from Classes.bar import Bar\n",
    "from Utils.interaction import Episode\n",
    "from Classes.experimental import FocalRegionAgent, SetFocalRegions"
   ]
  },
  {
   "cell_type": "code",
   "execution_count": 5,
   "metadata": {},
   "outputs": [],
   "source": [
    "free_parameters = {\n",
    "    'inverse_temperature': 10,\n",
    "    'len_history': 2\n",
    "}\n",
    "fixed_parameters = {\n",
    "    'num_agents': 7,\n",
    "    'threshold': 0.7,\n",
    "    'max_regions': 5\n",
    "}\n",
    "n = 1"
   ]
  },
  {
   "cell_type": "code",
   "execution_count": 6,
   "metadata": {},
   "outputs": [],
   "source": [
    "# Create the environment\n",
    "bar = Bar(\n",
    "    num_agents=fixed_parameters['num_agents'],\n",
    "    threshold=fixed_parameters['threshold']\n",
    ")\n",
    "# Create the agents\n",
    "agents = [FocalRegionAgent(free_parameters, fixed_parameters, n) for n in range(fixed_parameters['num_agents'])]\n",
    "# Create the episode\n",
    "episode = Episode(\n",
    "    model='FRA',\n",
    "    agents=agents,\n",
    "    environment=bar,\n",
    "    num_rounds=20\n",
    ")"
   ]
  },
  {
   "cell_type": "code",
   "execution_count": 7,
   "metadata": {},
   "outputs": [
    {
     "name": "stdout",
     "output_type": "stream",
     "text": [
      "Focal regions:\n",
      "------------------------------------------------------------\n",
      "[[0. 0. 0. 1. 1. 1. 1.]\n",
      " [0. 0. 1. 1. 1. 1. 0.]\n",
      " [0. 1. 1. 1. 1. 0. 0.]\n",
      " [1. 1. 1. 1. 0. 0. 0.]\n",
      " [1. 1. 1. 0. 0. 0. 1.]\n",
      " [1. 1. 0. 0. 0. 1. 1.]\n",
      " [1. 0. 0. 0. 1. 1. 1.]]\n",
      "------------------------------------------------------------------------------------------------------------------------\n",
      "[[0. 0. 0. 1. 1. 1. 1.]\n",
      " [0. 0. 1. 1. 1. 0. 1.]\n",
      " [0. 1. 1. 1. 1. 0. 0.]\n",
      " [1. 1. 1. 1. 0. 0. 0.]\n",
      " [1. 1. 1. 0. 0. 1. 0.]\n",
      " [1. 1. 0. 0. 0. 1. 1.]\n",
      " [1. 0. 0. 0. 1. 1. 1.]]\n",
      "------------------------------------------------------------------------------------------------------------------------\n",
      "[[0. 0. 0. 1. 1. 1. 1.]\n",
      " [0. 0. 1. 1. 1. 1. 0.]\n",
      " [0. 1. 1. 1. 0. 1. 0.]\n",
      " [1. 1. 1. 1. 0. 0. 0.]\n",
      " [1. 1. 1. 0. 0. 0. 1.]\n",
      " [1. 1. 0. 0. 1. 0. 1.]\n",
      " [1. 0. 0. 0. 1. 1. 1.]]\n",
      "------------------------------------------------------------------------------------------------------------------------\n",
      "[[0. 0. 0. 1. 1. 1. 1.]\n",
      " [0. 0. 1. 1. 1. 0. 1.]\n",
      " [0. 1. 1. 1. 0. 0. 1.]\n",
      " [1. 1. 1. 1. 0. 0. 0.]\n",
      " [1. 1. 1. 0. 0. 1. 0.]\n",
      " [1. 1. 0. 0. 1. 1. 0.]\n",
      " [1. 0. 0. 0. 1. 1. 1.]]\n",
      "------------------------------------------------------------------------------------------------------------------------\n",
      "[[0. 0. 0. 1. 1. 1. 1.]\n",
      " [0. 0. 1. 1. 0. 1. 1.]\n",
      " [0. 1. 1. 1. 0. 1. 0.]\n",
      " [1. 1. 1. 1. 0. 0. 0.]\n",
      " [1. 1. 1. 0. 1. 0. 0.]\n",
      " [1. 1. 0. 0. 1. 0. 1.]\n",
      " [1. 0. 0. 0. 1. 1. 1.]]\n",
      "------------------------------------------------------------\n"
     ]
    }
   ],
   "source": [
    "print('Focal regions:')\n",
    "print(episode.agents[0].sfr)"
   ]
  },
  {
   "cell_type": "code",
   "execution_count": 8,
   "metadata": {},
   "outputs": [],
   "source": [
    "# episode.agents[0].debug = True\n",
    "# episode.agents[1].debug = True\n",
    "episode.run()"
   ]
  },
  {
   "cell_type": "code",
   "execution_count": 9,
   "metadata": {},
   "outputs": [
    {
     "data": {
      "text/plain": [
       "<Axes: >"
      ]
     },
     "execution_count": 9,
     "metadata": {},
     "output_type": "execute_result"
    },
    {
     "data": {
      "image/png": "[encoded data removed]",
      "text/plain": [
       "<Figure size 750x700 with 1 Axes>"
      ]
     },
     "metadata": {},
     "output_type": "display_data"
    }
   ],
   "source": [
    "bar.render()"
   ]
  },
  {
   "cell_type": "code",
   "execution_count": null,
   "metadata": {},
   "outputs": [],
   "source": []
  },
  {
   "cell_type": "markdown",
   "metadata": {},
   "source": []
  }
 ],
 "metadata": {
  "kernelspec": {
   "display_name": "Python 3",
   "language": "python",
   "name": "python3"
  },
  "language_info": {
   "codemirror_mode": {
    "name": "ipython",
    "version": 3
   },
   "file_extension": ".py",
   "mimetype": "text/x-python",
   "name": "python",
   "nbconvert_exporter": "python",
   "pygments_lexer": "ipython3",
   "version": "3.9.6"
  }
 },
 "nbformat": 4,
 "nbformat_minor": 2
}
