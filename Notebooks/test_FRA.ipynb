{
 "cells": [
  {
   "cell_type": "code",
   "execution_count": 25,
   "metadata": {},
   "outputs": [],
   "source": [
    "import numpy as np\n",
    "import pandas as pd\n",
    "import seaborn as sns\n",
    "import matplotlib.pyplot as plt\n",
    "\n",
    "from pathlib import Path\n",
    "\n",
    "import sys\n",
    "\n",
    "sys.path.append('../src')\n",
    "\n",
    "from Config.config import PATHS\n",
    "\n",
    "import warnings\n",
    "warnings.filterwarnings(\"ignore\")"
   ]
  },
  {
   "cell_type": "markdown",
   "metadata": {},
   "source": [
    "### Test focal region similarity"
   ]
  },
  {
   "cell_type": "code",
   "execution_count": 26,
   "metadata": {},
   "outputs": [],
   "source": [
    "from Classes.focal_regions import FocalRegion"
   ]
  },
  {
   "cell_type": "code",
   "execution_count": 27,
   "metadata": {},
   "outputs": [
    {
     "name": "stdout",
     "output_type": "stream",
     "text": [
      "Focal region:\n",
      "------------------------------------------------------------\n",
      "[[1 0 1]\n",
      " [1 1 0]\n",
      " [0 1 1]]\n",
      "------------------------------------------------------------\n",
      "History:\n",
      " [[0]\n",
      " [1]\n",
      " [1]]\n",
      "------------------------------------------------------------\n",
      "============================================================\n",
      "\tCicle from column 0:\n",
      "[[1]\n",
      " [1]\n",
      " [0]]\n",
      "\tSimilarity score: 0.3333333333333333\n",
      "------------------------------------------------------------\n",
      "\tCicle from column 1:\n",
      "[[0]\n",
      " [1]\n",
      " [1]]\n",
      "\tSimilarity score: 1.0\n",
      "------------------------------------------------------------\n",
      "\tCicle from column 2:\n",
      "[[1]\n",
      " [0]\n",
      " [1]]\n",
      "\tSimilarity score: 0.3333333333333333\n",
      "------------------------------------------------------------\n",
      "------------------------------------------------------------\n",
      "Scores: [np.float64(0.3333333333333333), np.float64(1.0), np.float64(0.3333333333333333)]\n",
      "Finding preferences for player 0 according to region\n",
      "Pattern at column 0 assigns similarity 0.3333333333333333 to action=no-go\n",
      "\tRaw preferences: [0.33333333 0.66666667]\n",
      "\tLogistic preferences: [0.01593173 0.32740529]\n",
      "Pattern at column 1 assigns similarity 1.0 to action=go\n",
      "\tRaw preferences: [0. 1.]\n",
      "\tLogistic preferences: [0. 1.]\n",
      "Pattern at column 2 assigns similarity 0.3333333333333333 to action=go\n",
      "\tRaw preferences: [0.66666667 0.33333333]\n",
      "\tLogistic preferences: [0.32740529 0.01593173]\n",
      "Added and normalized preferences: [0.34333702 1.34333702]\n",
      "------------------------------------------------------------\n"
     ]
    },
    {
     "data": {
      "text/plain": [
       "array([0.34333702, 1.34333702])"
      ]
     },
     "execution_count": 27,
     "metadata": {},
     "output_type": "execute_result"
    }
   ],
   "source": [
    "region = np.array([[1, 0, 1], [1, 1, 0], [0, 1, 1]])\n",
    "fra = FocalRegion(region)\n",
    "fra.debug = True\n",
    "print('Focal region:')\n",
    "print(fra)\n",
    "\n",
    "# history = np.array([[1, 0], [0, 1], [0, 1]])\n",
    "history = np.array([[0], [1], [1]])\n",
    "print('History:\\n', history)\n",
    "print('-'*60)\n",
    "fra.get_action_preferences(history, 0)"
   ]
  },
  {
   "cell_type": "code",
   "execution_count": 28,
   "metadata": {},
   "outputs": [
    {
     "data": {
      "text/plain": [
       "<Axes: >"
      ]
     },
     "execution_count": 28,
     "metadata": {},
     "output_type": "execute_result"
    },
    {
     "data": {
      "image/png": "[encoded data removed]",
      "text/plain": [
       "<Figure size 300x300 with 1 Axes>"
      ]
     },
     "metadata": {},
     "output_type": "display_data"
    }
   ],
   "source": [
    "file_name = Path('..', 'LaTeX', 'FRA_region_1.png')\n",
    "FocalRegion.draw_region(region, file=file_name)"
   ]
  },
  {
   "cell_type": "code",
   "execution_count": 29,
   "metadata": {},
   "outputs": [
    {
     "data": {
      "text/plain": [
       "<Axes: >"
      ]
     },
     "execution_count": 29,
     "metadata": {},
     "output_type": "execute_result"
    },
    {
     "data": {
      "image/png": "[encoded data removed]",
      "text/plain": [
       "<Figure size 100x300 with 1 Axes>"
      ]
     },
     "metadata": {},
     "output_type": "display_data"
    }
   ],
   "source": [
    "file_name = Path('..', 'LaTeX', 'history_2.png')\n",
    "FocalRegion.draw_region(history, file=file_name)"
   ]
  },
  {
   "cell_type": "markdown",
   "metadata": {},
   "source": [
    "### Test Focal Regions"
   ]
  },
  {
   "cell_type": "code",
   "execution_count": 30,
   "metadata": {},
   "outputs": [],
   "source": [
    "from Classes.focal_regions import SetFocalRegions"
   ]
  },
  {
   "cell_type": "code",
   "execution_count": 31,
   "metadata": {},
   "outputs": [
    {
     "name": "stdout",
     "output_type": "stream",
     "text": [
      "============================================================\n",
      "Region 0\n",
      "------------------------------------------------------------\n",
      "[[0. 1. 1.]\n",
      " [1. 1. 0.]\n",
      " [1. 0. 1.]]\n",
      "------------------------------------------------------------\n",
      "============================================================\n",
      "Region 1\n",
      "------------------------------------------------------------\n",
      "[[0. 1. 1.]\n",
      " [1. 0. 1.]\n",
      " [1. 1. 0.]]\n",
      "------------------------------------------------------------\n",
      "============================================================\n",
      "Region 2\n",
      "------------------------------------------------------------\n",
      "[[1. 1. 1.]\n",
      " [0. 0. 0.]\n",
      " [1. 1. 1.]]\n",
      "------------------------------------------------------------\n",
      "============================================================\n",
      "Region 3\n",
      "------------------------------------------------------------\n",
      "[[1. 1. 1.]\n",
      " [1. 1. 1.]\n",
      " [0. 0. 0.]]\n",
      "------------------------------------------------------------\n",
      "\n"
     ]
    }
   ],
   "source": [
    "sfr = SetFocalRegions(\n",
    "    num_agents=3,\n",
    "    threshold=0.7,\n",
    "    len_history=2,\n",
    "    c=0.9,\n",
    "    steepness=20,\n",
    "    max_regions=4,\n",
    ")\n",
    "sfr.generate_focal_regions()\n",
    "print(sfr)"
   ]
  },
  {
   "cell_type": "code",
   "execution_count": 32,
   "metadata": {},
   "outputs": [
    {
     "name": "stdout",
     "output_type": "stream",
     "text": [
      "History\n",
      "[[1 0]\n",
      " [0 1]\n",
      " [0 1]]\n",
      "============================================================\n",
      "Considering preferences from the viewpoint of agent 0\n",
      "------------------------------------------------------------\n",
      "============================================================\n",
      "\tCicle from column 0:\n",
      "[[0. 1.]\n",
      " [1. 1.]\n",
      " [1. 0.]]\n",
      "\tSimilarity score: 0.16666666666666666\n",
      "------------------------------------------------------------\n",
      "\tCicle from column 1:\n",
      "[[1. 1.]\n",
      " [1. 0.]\n",
      " [0. 1.]]\n",
      "\tSimilarity score: 0.5\n",
      "------------------------------------------------------------\n",
      "\tCicle from column 2:\n",
      "[[1. 0.]\n",
      " [0. 1.]\n",
      " [1. 1.]]\n",
      "\tSimilarity score: 0.8333333333333334\n",
      "------------------------------------------------------------\n",
      "------------------------------------------------------------\n",
      "Scores: [np.float64(0.16666666666666666), np.float64(0.5), np.float64(0.8333333333333334)]\n",
      "Finding preferences for player 0 according to region\n",
      "Pattern at column 0 assigns similarity 0.16666666666666666 to action=go\n",
      "\tRaw preferences: [0.83333333 0.16666667]\n",
      "\tLogistic preferences: [2.36840608e-01 4.67407233e-07]\n",
      "Pattern at column 1 assigns similarity 0.5 to action=no-go\n",
      "\tRaw preferences: [0.5 0.5]\n",
      "\tLogistic preferences: [0.00038072 0.00038072]\n",
      "Pattern at column 2 assigns similarity 0.8333333333333334 to action=go\n",
      "\tRaw preferences: [0.16666667 0.83333333]\n",
      "\tLogistic preferences: [4.67407233e-07 2.36840608e-01]\n",
      "Added and normalized preferences: [0.23722179 0.23722179]\n",
      "------------------------------------------------------------\n",
      "Similarities according to region 0: [0.23722179 0.23722179]\n",
      "\tSigmoid similarities: [1.97019919e-06 1.97019919e-06]\n",
      "============================================================\n",
      "\tCicle from column 0:\n",
      "[[0. 1.]\n",
      " [1. 0.]\n",
      " [1. 1.]]\n",
      "\tSimilarity score: 0.16666666666666666\n",
      "------------------------------------------------------------\n",
      "\tCicle from column 1:\n",
      "[[1. 1.]\n",
      " [0. 1.]\n",
      " [1. 0.]]\n",
      "\tSimilarity score: 0.5\n",
      "------------------------------------------------------------\n",
      "\tCicle from column 2:\n",
      "[[1. 0.]\n",
      " [1. 1.]\n",
      " [0. 1.]]\n",
      "\tSimilarity score: 0.8333333333333334\n",
      "------------------------------------------------------------\n",
      "------------------------------------------------------------\n",
      "Scores: [np.float64(0.16666666666666666), np.float64(0.5), np.float64(0.8333333333333334)]\n",
      "Finding preferences for player 0 according to region\n",
      "Pattern at column 0 assigns similarity 0.16666666666666666 to action=go\n",
      "\tRaw preferences: [0.83333333 0.16666667]\n",
      "\tLogistic preferences: [2.36840608e-01 4.67407233e-07]\n",
      "Pattern at column 1 assigns similarity 0.5 to action=no-go\n",
      "\tRaw preferences: [0.5 0.5]\n",
      "\tLogistic preferences: [0.00038072 0.00038072]\n",
      "Pattern at column 2 assigns similarity 0.8333333333333334 to action=go\n",
      "\tRaw preferences: [0.16666667 0.83333333]\n",
      "\tLogistic preferences: [4.67407233e-07 2.36840608e-01]\n",
      "Added and normalized preferences: [0.23722179 0.23722179]\n",
      "------------------------------------------------------------\n",
      "Similarities according to region 1: [0.23722179 0.23722179]\n",
      "\tSigmoid similarities: [1.97019919e-06 1.97019919e-06]\n",
      "============================================================\n",
      "\tCicle from column 0:\n",
      "[[1. 1.]\n",
      " [0. 0.]\n",
      " [1. 1.]]\n",
      "\tSimilarity score: 0.5\n",
      "------------------------------------------------------------\n",
      "\tCicle from column 1:\n",
      "[[1. 1.]\n",
      " [0. 0.]\n",
      " [1. 1.]]\n",
      "\tSimilarity score: 0.5\n",
      "------------------------------------------------------------\n",
      "\tCicle from column 2:\n",
      "[[1. 1.]\n",
      " [0. 0.]\n",
      " [1. 1.]]\n",
      "\tSimilarity score: 0.5\n",
      "------------------------------------------------------------\n",
      "------------------------------------------------------------\n",
      "Scores: [np.float64(0.5), np.float64(0.5), np.float64(0.5)]\n",
      "Finding preferences for player 0 according to region\n",
      "Pattern at column 0 assigns similarity 0.5 to action=go\n",
      "\tRaw preferences: [0.5 0.5]\n",
      "\tLogistic preferences: [0.00038072 0.00038072]\n",
      "Pattern at column 1 assigns similarity 0.5 to action=go\n",
      "\tRaw preferences: [0.5 0.5]\n",
      "\tLogistic preferences: [0.00038072 0.00038072]\n",
      "Pattern at column 2 assigns similarity 0.5 to action=go\n",
      "\tRaw preferences: [0.5 0.5]\n",
      "\tLogistic preferences: [0.00038072 0.00038072]\n",
      "Added and normalized preferences: [0.00114215 0.00114215]\n",
      "------------------------------------------------------------\n",
      "Similarities according to region 2: [0.00114215 0.00114215]\n",
      "\tSigmoid similarities: [3.9952812e-10 3.9952812e-10]\n",
      "============================================================\n",
      "\tCicle from column 0:\n",
      "[[1. 1.]\n",
      " [1. 1.]\n",
      " [0. 0.]]\n",
      "\tSimilarity score: 0.5\n",
      "------------------------------------------------------------\n",
      "\tCicle from column 1:\n",
      "[[1. 1.]\n",
      " [1. 1.]\n",
      " [0. 0.]]\n",
      "\tSimilarity score: 0.5\n",
      "------------------------------------------------------------\n",
      "\tCicle from column 2:\n",
      "[[1. 1.]\n",
      " [1. 1.]\n",
      " [0. 0.]]\n",
      "\tSimilarity score: 0.5\n",
      "------------------------------------------------------------\n",
      "------------------------------------------------------------\n",
      "Scores: [np.float64(0.5), np.float64(0.5), np.float64(0.5)]\n",
      "Finding preferences for player 0 according to region\n",
      "Pattern at column 0 assigns similarity 0.5 to action=go\n",
      "\tRaw preferences: [0.5 0.5]\n",
      "\tLogistic preferences: [0.00038072 0.00038072]\n",
      "Pattern at column 1 assigns similarity 0.5 to action=go\n",
      "\tRaw preferences: [0.5 0.5]\n",
      "\tLogistic preferences: [0.00038072 0.00038072]\n",
      "Pattern at column 2 assigns similarity 0.5 to action=go\n",
      "\tRaw preferences: [0.5 0.5]\n",
      "\tLogistic preferences: [0.00038072 0.00038072]\n",
      "Added and normalized preferences: [0.00114215 0.00114215]\n",
      "------------------------------------------------------------\n",
      "Similarities according to region 3: [0.00114215 0.00114215]\n",
      "\tSigmoid similarities: [3.9952812e-10 3.9952812e-10]\n",
      "Aggregated preferences: (no go=3.941197441420988e-06; go=3.941197441420988e-06)\n",
      "Normalized preferences: (no go=0.5; go=0.5)\n"
     ]
    },
    {
     "data": {
      "text/plain": [
       "array([0.5, 0.5])"
      ]
     },
     "execution_count": 32,
     "metadata": {},
     "output_type": "execute_result"
    }
   ],
   "source": [
    "history = np.array([1, 0, 0])\n",
    "sfr.add_history(history)\n",
    "history = np.array([0, 1, 1])\n",
    "sfr.add_history(history)\n",
    "print('History')\n",
    "print(sfr.history)\n",
    "sfr.debug = True\n",
    "for region in sfr.focal_regions:\n",
    "    region.debug = True\n",
    "sfr.get_action_preferences(agent_id=0)"
   ]
  },
  {
   "cell_type": "code",
   "execution_count": 33,
   "metadata": {},
   "outputs": [
    {
     "data": {
      "text/plain": [
       "array([2.24587598e-01, 5.00821889e-07])"
      ]
     },
     "execution_count": 33,
     "metadata": {},
     "output_type": "execute_result"
    }
   ],
   "source": [
    "sfr.normalized_logistic(np.array([0.83, 0.17]))"
   ]
  },
  {
   "cell_type": "code",
   "execution_count": 34,
   "metadata": {},
   "outputs": [
    {
     "data": {
      "image/png": "[encoded data removed]",
      "text/plain": [
       "<Figure size 300x300 with 1 Axes>"
      ]
     },
     "metadata": {},
     "output_type": "display_data"
    }
   ],
   "source": [
    "X = np.linspace(0, 1, 1000)\n",
    "Y = sfr.normalized_logistic(X)\n",
    "\n",
    "fig, ax = plt.subplots(1, 1, figsize=(3,3))\n",
    "sns.lineplot(x=X, y=Y, ax=ax)\n",
    "ax.axvline(x=sfr.c, color='red', linestyle='--', linewidth=1)\n",
    "ax.set_title(f'Normalized logistic')\n",
    "ax.grid()\n",
    "\n",
    "fig.savefig(PATHS['LaTeX'] / 'logistic.png', dpi=300)"
   ]
  },
  {
   "cell_type": "markdown",
   "metadata": {},
   "source": [
    "### Test FRA agents"
   ]
  },
  {
   "cell_type": "code",
   "execution_count": 35,
   "metadata": {},
   "outputs": [],
   "source": [
    "from Classes.bar import Bar\n",
    "from Utils.interaction import Episode\n",
    "from Classes.focal_regions import SetFocalRegions\n",
    "from Classes.cognitive_model_agents import FocalRegionAgent"
   ]
  },
  {
   "cell_type": "code",
   "execution_count": 36,
   "metadata": {},
   "outputs": [],
   "source": [
    "free_parameters = {\n",
    "    'inverse_temperature': 6,\n",
    "    'len_history': 2,\n",
    "}\n",
    "fixed_parameters = {\n",
    "    'num_agents': 2,\n",
    "    'threshold': 0.5,\n",
    "}\n",
    "n = 1"
   ]
  },
  {
   "cell_type": "code",
   "execution_count": 37,
   "metadata": {},
   "outputs": [
    {
     "data": {
      "text/plain": [
       "<Axes: >"
      ]
     },
     "execution_count": 37,
     "metadata": {},
     "output_type": "execute_result"
    },
    {
     "data": {
      "image/png": "[encoded data removed]",
      "text/plain": [
       "<Figure size 750x200 with 1 Axes>"
      ]
     },
     "metadata": {},
     "output_type": "display_data"
    }
   ],
   "source": [
    "# Create the environment\n",
    "bar = Bar(\n",
    "    num_agents=fixed_parameters['num_agents'],\n",
    "    threshold=fixed_parameters['threshold']\n",
    ")\n",
    "# Create the agents\n",
    "agents = [\n",
    "    FocalRegionAgent(\n",
    "        free_parameters, \n",
    "        fixed_parameters, \n",
    "        n\n",
    "    ) for n in range(fixed_parameters['num_agents'])\n",
    "]\n",
    "# Create the episode\n",
    "episode = Episode(\n",
    "    model='FRA',\n",
    "    agents=agents,\n",
    "    environment=bar,\n",
    "    num_rounds=13\n",
    ")\n",
    "\n",
    "episode.run()\n",
    "\n",
    "bar.render()"
   ]
  },
  {
   "cell_type": "markdown",
   "metadata": {},
   "source": [
    "# Test simulations"
   ]
  },
  {
   "cell_type": "code",
   "execution_count": null,
   "metadata": {},
   "outputs": [],
   "source": [
    "from Utils.interaction import Performer\n",
    "from Utils.utils import GetMeasurements\n",
    "from Classes.cognitive_model_agents import FRAplus"
   ]
  },
  {
   "cell_type": "code",
   "execution_count": 39,
   "metadata": {},
   "outputs": [],
   "source": [
    "fixed_parameters = {\n",
    "\t\"num_agents\":2,\n",
    "\t\"threshold\":0.5,\n",
    "}\n",
    "free_parameters = {\n",
    "    'inverse_temperature': 6, \n",
    "    'bias': 0.75, \n",
    "    'learning_rate': 0.2, \n",
    "    'len_history': 2, \n",
    "    'delta': 0.4\n",
    "}\n",
    "simulation_parameters = {\n",
    "\t'num_rounds': 50,\n",
    "    'num_episodes': 23,\n",
    "\t'verbose':False\n",
    "}"
   ]
  },
  {
   "cell_type": "code",
   "execution_count": 40,
   "metadata": {},
   "outputs": [
    {
     "data": {
      "application/vnd.jupyter.widget-view+json": {
       "model_id": "9c529684921e4cb9af778666c8bda200",
       "version_major": 2,
       "version_minor": 0
      },
      "text/plain": [
       "  0%|          | 0/23 [00:00<?, ?it/s]"
      ]
     },
     "metadata": {},
     "output_type": "display_data"
    },
    {
     "data": {
      "text/plain": [
       "(-0.05, 0.55)"
      ]
     },
     "execution_count": 40,
     "metadata": {},
     "output_type": "execute_result"
    },
    {
     "data": {
      "image/png": "[encoded data removed]",
      "text/plain": [
       "<Figure size 640x480 with 1 Axes>"
      ]
     },
     "metadata": {},
     "output_type": "display_data"
    }
   ],
   "source": [
    "df = Performer.sim(\n",
    "    agent_class=FocalRegionAgent,\n",
    "    fixed_parameters=fixed_parameters,\n",
    "    free_parameters=free_parameters,\n",
    "    simulation_parameters=simulation_parameters\n",
    ")\n",
    "gm = GetMeasurements(\n",
    "    data=df, measures=['efficiency', 'inequality']\n",
    ")\n",
    "data = gm.get_measurements()\n",
    "ax = sns.scatterplot(\n",
    "    x='inequality', y='efficiency',\n",
    "    data=data\n",
    ")\n",
    "ax.set_xlim([-0.05, 0.6])\n",
    "ax.set_ylim([-0.05, .55])"
   ]
  },
  {
   "cell_type": "code",
   "execution_count": 41,
   "metadata": {},
   "outputs": [
    {
     "data": {
      "text/plain": [
       "<Axes: xlabel='round', ylabel='score'>"
      ]
     },
     "execution_count": 41,
     "metadata": {},
     "output_type": "execute_result"
    },
    {
     "data": {
      "image/png": "[encoded data removed]",
      "text/plain": [
       "<Figure size 640x480 with 1 Axes>"
      ]
     },
     "metadata": {},
     "output_type": "display_data"
    }
   ],
   "source": [
    "sns.lineplot(\n",
    "    x='round', y='score',\n",
    "    data=df\n",
    ")"
   ]
  },
  {
   "cell_type": "markdown",
   "metadata": {},
   "source": [
    "# Test parameter fit"
   ]
  },
  {
   "cell_type": "code",
   "execution_count": null,
   "metadata": {},
   "outputs": [],
   "source": [
    "from Classes.cognitive_model_agents import FRAplus\n",
    "from Classes.parameter_recovery import ParameterFit"
   ]
  },
  {
   "cell_type": "code",
   "execution_count": null,
   "metadata": {},
   "outputs": [
    {
     "name": "stdout",
     "output_type": "stream",
     "text": [
      "Loading data from /Users/edgar/Documents/GitHub/Cognitive_Models_El_Farol_Bar_Problem/data/human/2-player-UR.csv...\n"
     ]
    },
    {
     "data": {
      "text/html": [
       "<div>\n",
       "<style scoped>\n",
       "    .dataframe tbody tr th:only-of-type {\n",
       "        vertical-align: middle;\n",
       "    }\n",
       "\n",
       "    .dataframe tbody tr th {\n",
       "        vertical-align: top;\n",
       "    }\n",
       "\n",
       "    .dataframe thead th {\n",
       "        text-align: right;\n",
       "    }\n",
       "</style>\n",
       "<table border=\"1\" class=\"dataframe\">\n",
       "  <thead>\n",
       "    <tr style=\"text-align: right;\">\n",
       "      <th></th>\n",
       "      <th>source</th>\n",
       "      <th>treatment</th>\n",
       "      <th>group</th>\n",
       "      <th>round</th>\n",
       "      <th>player</th>\n",
       "      <th>choice</th>\n",
       "      <th>score</th>\n",
       "      <th>attendance</th>\n",
       "      <th>ac_score</th>\n",
       "      <th>threshold</th>\n",
       "      <th>num_players</th>\n",
       "      <th>room</th>\n",
       "      <th>decision</th>\n",
       "    </tr>\n",
       "  </thead>\n",
       "  <tbody>\n",
       "    <tr>\n",
       "      <th>0</th>\n",
       "      <td>human</td>\n",
       "      <td>score + grid</td>\n",
       "      <td>Grupo-0001</td>\n",
       "      <td>1</td>\n",
       "      <td>405186428721292</td>\n",
       "      <td>0</td>\n",
       "      <td>0</td>\n",
       "      <td>1</td>\n",
       "      <td>25</td>\n",
       "      <td>0.5</td>\n",
       "      <td>2</td>\n",
       "      <td>Grupo-0001</td>\n",
       "      <td>0</td>\n",
       "    </tr>\n",
       "    <tr>\n",
       "      <th>1</th>\n",
       "      <td>human</td>\n",
       "      <td>score + grid</td>\n",
       "      <td>Grupo-0001</td>\n",
       "      <td>1</td>\n",
       "      <td>728608683559397</td>\n",
       "      <td>1</td>\n",
       "      <td>1</td>\n",
       "      <td>1</td>\n",
       "      <td>25</td>\n",
       "      <td>0.5</td>\n",
       "      <td>2</td>\n",
       "      <td>Grupo-0001</td>\n",
       "      <td>1</td>\n",
       "    </tr>\n",
       "  </tbody>\n",
       "</table>\n",
       "</div>"
      ],
      "text/plain": [
       "  source     treatment       group  round           player  choice  score  \\\n",
       "0  human  score + grid  Grupo-0001      1  405186428721292       0      0   \n",
       "1  human  score + grid  Grupo-0001      1  728608683559397       1      1   \n",
       "\n",
       "   attendance  ac_score  threshold  num_players        room  decision  \n",
       "0           1        25        0.5            2  Grupo-0001         0  \n",
       "1           1        25        0.5            2  Grupo-0001         1  "
      ]
     },
     "execution_count": 43,
     "metadata": {},
     "output_type": "execute_result"
    }
   ],
   "source": [
    "# my_models = [FocalRegionAgent]\n",
    "my_models = [FRAplus]\n",
    "\n",
    "best_fit_file_2P = PATHS['parameter_fit_results'] / 'best_fit_2P_3.json'\n",
    "\n",
    "#Load 2P data\n",
    "file = PATHS['human_data'] / '2-player-UR.csv'\n",
    "print(f'Loading data from {file}...')\n",
    "data = pd.read_csv(file)\n",
    "data.head(2)"
   ]
  },
  {
   "cell_type": "code",
   "execution_count": 44,
   "metadata": {},
   "outputs": [
    {
     "data": {
      "application/vnd.jupyter.widget-view+json": {
       "model_id": "636d29852ea84a8a8fb2c2ba3cbe6927",
       "version_major": 2,
       "version_minor": 0
      },
      "text/plain": [
       "Fitting models...:   0%|          | 0/1 [00:00<?, ?it/s]"
      ]
     },
     "metadata": {},
     "output_type": "display_data"
    },
    {
     "name": "stdout",
     "output_type": "stream",
     "text": [
      "Fitting data to model FRA+Payoff+Attendance...\n",
      "Creating parameter recovery class...\n",
      "Running optimizer...\n",
      "Finding deviance for 2 players and threshold 0.5...\n",
      "|   iter    |  target   | invers... |   bias    | learni... | len_hi... |     c     |   delta   |\n",
      "-------------------------------------------------------------------------------------------------\n",
      "| \u001b[39m1        \u001b[39m | \u001b[39m-3171.614\u001b[39m | \u001b[39m27.272386\u001b[39m | \u001b[39m0.7203244\u001b[39m | \u001b[39m0.0001143\u001b[39m | \u001b[39m1.6046651\u001b[39m | \u001b[39m0.5733779\u001b[39m | \u001b[39m0.0092338\u001b[39m |\n",
      "| \u001b[39m2        \u001b[39m | \u001b[39m-4454.435\u001b[39m | \u001b[39m12.734393\u001b[39m | \u001b[39m0.3455607\u001b[39m | \u001b[39m0.3967674\u001b[39m | \u001b[39m2.0776334\u001b[39m | \u001b[39m0.7095972\u001b[39m | \u001b[39m0.0685219\u001b[39m |\n",
      "| \u001b[35m3        \u001b[39m | \u001b[35m-2219.046\u001b[39m | \u001b[35m13.880491\u001b[39m | \u001b[35m0.8781174\u001b[39m | \u001b[35m0.0273875\u001b[39m | \u001b[35m2.3409350\u001b[39m | \u001b[35m0.7086524\u001b[39m | \u001b[35m0.0558689\u001b[39m |\n",
      "| \u001b[39m4        \u001b[39m | \u001b[39m-6895.387\u001b[39m | \u001b[39m9.8443771\u001b[39m | \u001b[39m0.1981014\u001b[39m | \u001b[39m0.8007445\u001b[39m | \u001b[39m2.9365231\u001b[39m | \u001b[39m0.6567120\u001b[39m | \u001b[39m0.0692322\u001b[39m |\n",
      "| \u001b[39m5        \u001b[39m | \u001b[39m-4014.304\u001b[39m | \u001b[39m56.212516\u001b[39m | \u001b[39m0.8946066\u001b[39m | \u001b[39m0.0850442\u001b[39m | \u001b[39m1.0781095\u001b[39m | \u001b[39m0.5849152\u001b[39m | \u001b[39m0.0878142\u001b[39m |\n",
      "| \u001b[39m6        \u001b[39m | \u001b[39m-4456.585\u001b[39m | \u001b[39m7.1958505\u001b[39m | \u001b[39m0.4211076\u001b[39m | \u001b[39m0.9578895\u001b[39m | \u001b[39m2.0663305\u001b[39m | \u001b[39m0.8459385\u001b[39m | \u001b[39m0.0315515\u001b[39m |\n",
      "| \u001b[39m7        \u001b[39m | \u001b[39m-3131.948\u001b[39m | \u001b[39m44.249558\u001b[39m | \u001b[39m0.8346256\u001b[39m | \u001b[39m0.0182882\u001b[39m | \u001b[39m2.5002886\u001b[39m | \u001b[39m0.9944305\u001b[39m | \u001b[39m0.0748165\u001b[39m |\n",
      "| \u001b[39m8        \u001b[39m | \u001b[39m-2601.654\u001b[39m | \u001b[39m18.667971\u001b[39m | \u001b[39m0.7892793\u001b[39m | \u001b[39m0.1032260\u001b[39m | \u001b[39m1.8957870\u001b[39m | \u001b[39m0.9542977\u001b[39m | \u001b[39m0.0293614\u001b[39m |\n",
      "| \u001b[39m9        \u001b[39m | \u001b[39m-2529.411\u001b[39m | \u001b[39m19.129846\u001b[39m | \u001b[39m0.1300285\u001b[39m | \u001b[39m0.0193669\u001b[39m | \u001b[39m2.3576710\u001b[39m | \u001b[39m0.6058140\u001b[39m | \u001b[39m0.0265546\u001b[39m |\n",
      "| \u001b[39m10       \u001b[39m | \u001b[39m-8117.772\u001b[39m | \u001b[39m31.969109\u001b[39m | \u001b[39m0.0533625\u001b[39m | \u001b[39m0.5741176\u001b[39m | \u001b[39m1.2934571\u001b[39m | \u001b[39m0.7946527\u001b[39m | \u001b[39m0.0699758\u001b[39m |\n",
      "| \u001b[39m11       \u001b[39m | \u001b[39m-3710.646\u001b[39m | \u001b[39m7.4470690\u001b[39m | \u001b[39m0.4140559\u001b[39m | \u001b[39m0.6944001\u001b[39m | \u001b[39m1.8283585\u001b[39m | \u001b[39m0.5249767\u001b[39m | \u001b[39m0.0535896\u001b[39m |\n",
      "| \u001b[39m12       \u001b[39m | \u001b[39m-7898.317\u001b[39m | \u001b[39m42.819062\u001b[39m | \u001b[39m0.5148891\u001b[39m | \u001b[39m0.9445947\u001b[39m | \u001b[39m2.1731100\u001b[39m | \u001b[39m0.9517009\u001b[39m | \u001b[39m0.0137474\u001b[39m |\n",
      "| \u001b[39m13       \u001b[39m | \u001b[39m-2531.728\u001b[39m | \u001b[39m9.7744098\u001b[39m | \u001b[39m0.8073912\u001b[39m | \u001b[39m0.3976768\u001b[39m | \u001b[39m1.3307083\u001b[39m | \u001b[39m0.9637542\u001b[39m | \u001b[39m0.0347765\u001b[39m |\n",
      "| \u001b[39m14       \u001b[39m | \u001b[39m-7001.611\u001b[39m | \u001b[39m48.301162\u001b[39m | \u001b[39m0.7259979\u001b[39m | \u001b[39m0.8833060\u001b[39m | \u001b[39m2.2473444\u001b[39m | \u001b[39m0.8754712\u001b[39m | \u001b[39m0.0348898\u001b[39m |\n",
      "| \u001b[39m15       \u001b[39m | \u001b[39m-3356.913\u001b[39m | \u001b[39m18.005457\u001b[39m | \u001b[39m0.8958862\u001b[39m | \u001b[39m0.4280911\u001b[39m | \u001b[39m2.9296800\u001b[39m | \u001b[39m0.8317207\u001b[39m | \u001b[39m0.0621695\u001b[39m |\n",
      "| \u001b[39m16       \u001b[39m | \u001b[39m-2620.729\u001b[39m | \u001b[39m8.2289962\u001b[39m | \u001b[39m0.9494892\u001b[39m | \u001b[39m0.4499121\u001b[39m | \u001b[39m2.1567792\u001b[39m | \u001b[39m0.7040684\u001b[39m | \u001b[39m0.0237026\u001b[39m |\n",
      "| \u001b[39m17       \u001b[39m | \u001b[39m-2908.822\u001b[39m | \u001b[39m57.912909\u001b[39m | \u001b[39m0.5736794\u001b[39m | \u001b[39m0.0028703\u001b[39m | \u001b[39m2.2342898\u001b[39m | \u001b[39m0.6633224\u001b[39m | \u001b[39m0.0527058\u001b[39m |\n",
      "| \u001b[39m18       \u001b[39m | \u001b[39m-8689.636\u001b[39m | \u001b[39m56.814352\u001b[39m | \u001b[39m0.3572697\u001b[39m | \u001b[39m0.9085351\u001b[39m | \u001b[39m2.2467202\u001b[39m | \u001b[39m0.5079106\u001b[39m | \u001b[39m0.0929437\u001b[39m |\n",
      "| \u001b[39m19       \u001b[39m | \u001b[39m-4846.033\u001b[39m | \u001b[39m44.526505\u001b[39m | \u001b[39m0.9973228\u001b[39m | \u001b[39m0.1723405\u001b[39m | \u001b[39m1.2742714\u001b[39m | \u001b[39m0.9662977\u001b[39m | \u001b[39m0.0696818\u001b[39m |\n",
      "| \u001b[39m20       \u001b[39m | \u001b[39m-2422.412\u001b[39m | \u001b[39m5.1580108\u001b[39m | \u001b[39m0.7554630\u001b[39m | \u001b[39m0.7538761\u001b[39m | \u001b[39m2.8460490\u001b[39m | \u001b[39m0.8557623\u001b[39m | \u001b[39m0.0124270\u001b[39m |\n",
      "| \u001b[39m21       \u001b[39m | \u001b[39m-2997.434\u001b[39m | \u001b[39m2.2524484\u001b[39m | \u001b[39m0.0262109\u001b[39m | \u001b[39m0.0283064\u001b[39m | \u001b[39m1.4924221\u001b[39m | \u001b[39m0.9300139\u001b[39m | \u001b[39m0.0538831\u001b[39m |\n",
      "| \u001b[39m22       \u001b[39m | \u001b[39m-3558.218\u001b[39m | \u001b[39m35.827784\u001b[39m | \u001b[39m0.8420308\u001b[39m | \u001b[39m0.1241733\u001b[39m | \u001b[39m1.5583673\u001b[39m | \u001b[39m0.7928796\u001b[39m | \u001b[39m0.0969595\u001b[39m |\n",
      "| \u001b[39m23       \u001b[39m | \u001b[39m-8357.280\u001b[39m | \u001b[39m36.344903\u001b[39m | \u001b[39m0.0186472\u001b[39m | \u001b[39m0.8006326\u001b[39m | \u001b[39m1.4659485\u001b[39m | \u001b[39m0.9035525\u001b[39m | \u001b[39m0.0387860\u001b[39m |\n",
      "| \u001b[39m24       \u001b[39m | \u001b[39m-6098.588\u001b[39m | \u001b[39m55.403136\u001b[39m | \u001b[39m0.7471216\u001b[39m | \u001b[39m0.5562402\u001b[39m | \u001b[39m1.2729104\u001b[39m | \u001b[39m0.5299588\u001b[39m | \u001b[39m0.0121343\u001b[39m |\n",
      "| \u001b[39m25       \u001b[39m | \u001b[39m-2822.554\u001b[39m | \u001b[39m3.8067683\u001b[39m | \u001b[39m0.1074941\u001b[39m | \u001b[39m0.2257093\u001b[39m | \u001b[39m2.4259779\u001b[39m | \u001b[39m0.7798584\u001b[39m | \u001b[39m0.0012555\u001b[39m |\n",
      "| \u001b[39m26       \u001b[39m | \u001b[39m-2552.570\u001b[39m | \u001b[39m5.5343796\u001b[39m | \u001b[39m0.9672763\u001b[39m | \u001b[39m0.5681004\u001b[39m | \u001b[39m1.4065864\u001b[39m | \u001b[39m0.6261628\u001b[39m | \u001b[39m0.0743825\u001b[39m |\n",
      "| \u001b[39m27       \u001b[39m | \u001b[39m-5239.552\u001b[39m | \u001b[39m13.312057\u001b[39m | \u001b[39m0.5813589\u001b[39m | \u001b[39m0.9700199\u001b[39m | \u001b[39m2.6936576\u001b[39m | \u001b[39m0.6199238\u001b[39m | \u001b[39m0.0493769\u001b[39m |\n",
      "| \u001b[39m28       \u001b[39m | \u001b[39m-4097.095\u001b[39m | \u001b[39m40.057210\u001b[39m | \u001b[39m0.8289808\u001b[39m | \u001b[39m0.1567913\u001b[39m | \u001b[39m1.0371524\u001b[39m | \u001b[39m0.5350110\u001b[39m | \u001b[39m0.0486345\u001b[39m |\n",
      "| \u001b[39m29       \u001b[39m | \u001b[39m-5361.833\u001b[39m | \u001b[39m39.198756\u001b[39m | \u001b[39m0.5688514\u001b[39m | \u001b[39m0.3173624\u001b[39m | \u001b[39m2.9772323\u001b[39m | \u001b[39m0.7898726\u001b[39m | \u001b[39m0.0380141\u001b[39m |\n",
      "| \u001b[39m30       \u001b[39m | \u001b[39m-5718.809\u001b[39m | \u001b[39m35.709737\u001b[39m | \u001b[39m0.7453344\u001b[39m | \u001b[39m0.6692328\u001b[39m | \u001b[39m1.5298391\u001b[39m | \u001b[39m0.5331674\u001b[39m | \u001b[39m0.0370084\u001b[39m |\n",
      "| \u001b[39m31       \u001b[39m | \u001b[39m-8336.667\u001b[39m | \u001b[39m40.672202\u001b[39m | \u001b[39m0.2101740\u001b[39m | \u001b[39m0.7527555\u001b[39m | \u001b[39m1.1330729\u001b[39m | \u001b[39m0.6301575\u001b[39m | \u001b[39m0.0804754\u001b[39m |\n",
      "| \u001b[39m32       \u001b[39m | \u001b[39m-3432.359\u001b[39m | \u001b[39m13.186359\u001b[39m | \u001b[39m0.6394608\u001b[39m | \u001b[39m0.5246703\u001b[39m | \u001b[39m2.8496159\u001b[39m | \u001b[39m0.6316483\u001b[39m | \u001b[39m0.0065961\u001b[39m |\n",
      "| \u001b[39m33       \u001b[39m | \u001b[39m-6837.631\u001b[39m | \u001b[39m47.309155\u001b[39m | \u001b[39m0.7721780\u001b[39m | \u001b[39m0.9078158\u001b[39m | \u001b[39m2.8639441\u001b[39m | \u001b[39m0.5069757\u001b[39m | \u001b[39m0.0234362\u001b[39m |\n",
      "| \u001b[39m34       \u001b[39m | \u001b[39m-4843.107\u001b[39m | \u001b[39m39.857036\u001b[39m | \u001b[39m0.9490163\u001b[39m | \u001b[39m0.9501761\u001b[39m | \u001b[39m2.1133063\u001b[39m | \u001b[39m0.9578031\u001b[39m | \u001b[39m0.0641566\u001b[39m |\n",
      "| \u001b[39m35       \u001b[39m | \u001b[39m-6263.821\u001b[39m | \u001b[39m25.570485\u001b[39m | \u001b[39m0.4859906\u001b[39m | \u001b[39m0.6043104\u001b[39m | \u001b[39m2.0990958\u001b[39m | \u001b[39m0.9630907\u001b[39m | \u001b[39m0.0918733\u001b[39m |\n",
      "| \u001b[39m36       \u001b[39m | \u001b[39m-3726.134\u001b[39m | \u001b[39m25.877163\u001b[39m | \u001b[39m0.9632625\u001b[39m | \u001b[39m0.1739556\u001b[39m | \u001b[39m1.2526590\u001b[39m | \u001b[39m0.5675395\u001b[39m | \u001b[39m0.0505662\u001b[39m |\n",
      "| \u001b[39m37       \u001b[39m | \u001b[39m-2645.912\u001b[39m | \u001b[39m2.3560627\u001b[39m | \u001b[39m0.9479702\u001b[39m | \u001b[39m0.8271154\u001b[39m | \u001b[39m1.0300379\u001b[39m | \u001b[39m0.5880981\u001b[39m | \u001b[39m0.0332063\u001b[39m |\n",
      "| \u001b[39m38       \u001b[39m | \u001b[39m-2416.387\u001b[39m | \u001b[39m9.2528012\u001b[39m | \u001b[39m0.8094906\u001b[39m | \u001b[39m0.3447366\u001b[39m | \u001b[39m2.8802149\u001b[39m | \u001b[39m0.7910070\u001b[39m | \u001b[39m0.0878831\u001b[39m |\n",
      "| \u001b[39m39       \u001b[39m | \u001b[39m-5204.781\u001b[39m | \u001b[39m54.218270\u001b[39m | \u001b[39m0.9053923\u001b[39m | \u001b[39m0.4598802\u001b[39m | \u001b[39m2.0926936\u001b[39m | \u001b[39m0.8993017\u001b[39m | \u001b[39m0.0285718\u001b[39m |\n",
      "| \u001b[39m40       \u001b[39m | \u001b[39m-2718.390\u001b[39m | \u001b[39m31.885971\u001b[39m | \u001b[39m0.5991103\u001b[39m | \u001b[39m0.0155332\u001b[39m | \u001b[39m2.1869628\u001b[39m | \u001b[39m0.7168381\u001b[39m | \u001b[39m0.0807360\u001b[39m |\n",
      "| \u001b[39m41       \u001b[39m | \u001b[39m-3701.231\u001b[39m | \u001b[39m20.860422\u001b[39m | \u001b[39m0.8928887\u001b[39m | \u001b[39m0.5778572\u001b[39m | \u001b[39m1.3680204\u001b[39m | \u001b[39m0.8939646\u001b[39m | \u001b[39m0.0612031\u001b[39m |\n",
      "| \u001b[39m42       \u001b[39m | \u001b[39m-2769.350\u001b[39m | \u001b[39m4.3962841\u001b[39m | \u001b[39m0.4201936\u001b[39m | \u001b[39m0.6790688\u001b[39m | \u001b[39m2.8372035\u001b[39m | \u001b[39m0.5002010\u001b[39m | \u001b[39m0.0976759\u001b[39m |\n",
      "| \u001b[39m43       \u001b[39m | \u001b[39m-4112.942\u001b[39m | \u001b[39m24.724559\u001b[39m | \u001b[39m0.9737835\u001b[39m | \u001b[39m0.6047161\u001b[39m | \u001b[39m2.6576916\u001b[39m | \u001b[39m0.7873557\u001b[39m | \u001b[39m0.0628076\u001b[39m |\n",
      "| \u001b[39m44       \u001b[39m | \u001b[39m-5525.037\u001b[39m | \u001b[39m18.991305\u001b[39m | \u001b[39m0.5868333\u001b[39m | \u001b[39m0.7500217\u001b[39m | \u001b[39m2.7166276\u001b[39m | \u001b[39m0.8775410\u001b[39m | \u001b[39m0.0698057\u001b[39m |\n",
      "| \u001b[39m45       \u001b[39m | \u001b[39m-8307.992\u001b[39m | \u001b[39m55.462204\u001b[39m | \u001b[39m0.3226809\u001b[39m | \u001b[39m0.6707887\u001b[39m | \u001b[39m1.9017478\u001b[39m | \u001b[39m0.6910513\u001b[39m | \u001b[39m0.0410811\u001b[39m |\n",
      "| \u001b[39m46       \u001b[39m | \u001b[39m-7478.144\u001b[39m | \u001b[39m26.293213\u001b[39m | \u001b[39m0.3173839\u001b[39m | \u001b[39m0.6219193\u001b[39m | \u001b[39m1.8604945\u001b[39m | \u001b[39m0.9869010\u001b[39m | \u001b[39m0.0677800\u001b[39m |\n",
      "| \u001b[39m47       \u001b[39m | \u001b[39m-3878.499\u001b[39m | \u001b[39m13.509902\u001b[39m | \u001b[39m0.4267010\u001b[39m | \u001b[39m0.3433462\u001b[39m | \u001b[39m2.5952776\u001b[39m | \u001b[39m0.9399991\u001b[39m | \u001b[39m0.0903841\u001b[39m |\n",
      "| \u001b[39m48       \u001b[39m | \u001b[39m-6778.684\u001b[39m | \u001b[39m42.751348\u001b[39m | \u001b[39m0.2702082\u001b[39m | \u001b[39m0.2523667\u001b[39m | \u001b[39m2.7097958\u001b[39m | \u001b[39m0.7638573\u001b[39m | \u001b[39m0.0802161\u001b[39m |\n",
      "| \u001b[39m49       \u001b[39m | \u001b[39m-5334.732\u001b[39m | \u001b[39m37.066776\u001b[39m | \u001b[39m0.7331425\u001b[39m | \u001b[39m0.5190116\u001b[39m | \u001b[39m2.5417678\u001b[39m | \u001b[39m0.7844289\u001b[39m | \u001b[39m0.0465709\u001b[39m |\n",
      "| \u001b[39m50       \u001b[39m | \u001b[39m-7210.722\u001b[39m | \u001b[39m22.589401\u001b[39m | \u001b[39m0.0682093\u001b[39m | \u001b[39m0.3779241\u001b[39m | \u001b[39m1.1592521\u001b[39m | \u001b[39m0.9914085\u001b[39m | \u001b[39m0.0181612\u001b[39m |\n",
      "| \u001b[39m51       \u001b[39m | \u001b[39m-5314.433\u001b[39m | \u001b[39m52.147097\u001b[39m | \u001b[39m0.8749616\u001b[39m | \u001b[39m0.6884132\u001b[39m | \u001b[39m2.1389888\u001b[39m | \u001b[39m0.5804857\u001b[39m | \u001b[39m0.0466880\u001b[39m |\n",
      "| \u001b[39m52       \u001b[39m | \u001b[39m-7438.764\u001b[39m | \u001b[39m22.745839\u001b[39m | \u001b[39m0.2250399\u001b[39m | \u001b[39m0.5925118\u001b[39m | \u001b[39m1.6245396\u001b[39m | \u001b[39m0.9581527\u001b[39m | \u001b[39m0.0909635\u001b[39m |\n",
      "| \u001b[39m53       \u001b[39m | \u001b[39m-5261.403\u001b[39m | \u001b[39m17.198452\u001b[39m | \u001b[39m0.1108913\u001b[39m | \u001b[39m0.1929627\u001b[39m | \u001b[39m1.9991683\u001b[39m | \u001b[39m0.8642928\u001b[39m | \u001b[39m0.0208194\u001b[39m |\n",
      "| \u001b[39m54       \u001b[39m | \u001b[39m-3238.459\u001b[39m | \u001b[39m16.626114\u001b[39m | \u001b[39m0.8516718\u001b[39m | \u001b[39m0.4158487\u001b[39m | \u001b[39m2.2333701\u001b[39m | \u001b[39m0.6168330\u001b[39m | \u001b[39m0.0101967\u001b[39m |\n",
      "| \u001b[39m55       \u001b[39m | \u001b[39m-4410.509\u001b[39m | \u001b[39m33.498992\u001b[39m | \u001b[39m0.4771409\u001b[39m | \u001b[39m0.1526716\u001b[39m | \u001b[39m2.2436124\u001b[39m | \u001b[39m0.7720050\u001b[39m | \u001b[39m0.0654137\u001b[39m |\n",
      "| \u001b[39m56       \u001b[39m | \u001b[39m-2405.692\u001b[39m | \u001b[39m10.106369\u001b[39m | \u001b[39m0.7515278\u001b[39m | \u001b[39m0.2220491\u001b[39m | \u001b[39m2.0387036\u001b[39m | \u001b[39m0.8926480\u001b[39m | \u001b[39m0.0022330\u001b[39m |\n",
      "| \u001b[39m57       \u001b[39m | \u001b[39m-3937.350\u001b[39m | \u001b[39m21.434834\u001b[39m | \u001b[39m0.8729223\u001b[39m | \u001b[39m0.8447096\u001b[39m | \u001b[39m2.0768811\u001b[39m | \u001b[39m0.9333041\u001b[39m | \u001b[39m0.0949805\u001b[39m |\n",
      "| \u001b[39m58       \u001b[39m | \u001b[39m-4361.972\u001b[39m | \u001b[39m53.063640\u001b[39m | \u001b[39m0.8541154\u001b[39m | \u001b[39m0.0987434\u001b[39m | \u001b[39m2.3026086\u001b[39m | \u001b[39m0.8517584\u001b[39m | \u001b[39m0.0610240\u001b[39m |\n",
      "| \u001b[39m59       \u001b[39m | \u001b[39m-8230.229\u001b[39m | \u001b[39m51.375761\u001b[39m | \u001b[39m0.0345712\u001b[39m | \u001b[39m0.7702387\u001b[39m | \u001b[39m2.4634572\u001b[39m | \u001b[39m0.6298491\u001b[39m | \u001b[39m0.0257069\u001b[39m |\n",
      "| \u001b[39m60       \u001b[39m | \u001b[39m-8392.443\u001b[39m | \u001b[39m40.835108\u001b[39m | \u001b[39m0.3452974\u001b[39m | \u001b[39m0.7965886\u001b[39m | \u001b[39m1.8922924\u001b[39m | \u001b[39m0.8913747\u001b[39m | \u001b[39m0.0990471\u001b[39m |\n",
      "| \u001b[39m61       \u001b[39m | \u001b[39m-8239.154\u001b[39m | \u001b[39m19.915645\u001b[39m | \u001b[39m0.1430058\u001b[39m | \u001b[39m0.9013084\u001b[39m | \u001b[39m2.0831187\u001b[39m | \u001b[39m0.9873701\u001b[39m | \u001b[39m0.0636604\u001b[39m |\n",
      "| \u001b[39m62       \u001b[39m | \u001b[39m-7015.903\u001b[39m | \u001b[39m63.616520\u001b[39m | \u001b[39m0.5460708\u001b[39m | \u001b[39m0.5264259\u001b[39m | \u001b[39m1.2708558\u001b[39m | \u001b[39m0.6778525\u001b[39m | \u001b[39m0.0026218\u001b[39m |\n",
      "| \u001b[39m63       \u001b[39m | \u001b[39m-2421.177\u001b[39m | \u001b[39m11.104896\u001b[39m | \u001b[39m0.7456371\u001b[39m | \u001b[39m0.0303996\u001b[39m | \u001b[39m1.7330861\u001b[39m | \u001b[39m0.9311731\u001b[39m | \u001b[39m0.0692677\u001b[39m |\n",
      "| \u001b[39m64       \u001b[39m | \u001b[39m-7471.372\u001b[39m | \u001b[39m44.529354\u001b[39m | \u001b[39m0.1886368\u001b[39m | \u001b[39m0.4419042\u001b[39m | \u001b[39m2.1631548\u001b[39m | \u001b[39m0.9948758\u001b[39m | \u001b[39m0.0203906\u001b[39m |\n",
      "| \u001b[39m65       \u001b[39m | \u001b[39m-2384.724\u001b[39m | \u001b[39m4.5597626\u001b[39m | \u001b[39m0.8566842\u001b[39m | \u001b[39m0.5705180\u001b[39m | \u001b[39m1.8987212\u001b[39m | \u001b[39m0.9357736\u001b[39m | \u001b[39m0.0      \u001b[39m |\n",
      "| \u001b[39m66       \u001b[39m | \u001b[39m-2925.885\u001b[39m | \u001b[39m5.1554465\u001b[39m | \u001b[39m0.3299960\u001b[39m | \u001b[39m0.0118065\u001b[39m | \u001b[39m2.1588537\u001b[39m | \u001b[39m0.5392105\u001b[39m | \u001b[39m0.0170043\u001b[39m |\n",
      "| \u001b[39m67       \u001b[39m | \u001b[39m-2633.164\u001b[39m | \u001b[39m9.1229660\u001b[39m | \u001b[39m1.0      \u001b[39m | \u001b[39m0.0      \u001b[39m | \u001b[39m2.0740521\u001b[39m | \u001b[39m1.0      \u001b[39m | \u001b[39m0.1      \u001b[39m |\n",
      "| \u001b[39m68       \u001b[39m | \u001b[39m-2520.143\u001b[39m | \u001b[39m3.4843496\u001b[39m | \u001b[39m0.4820190\u001b[39m | \u001b[39m0.5616588\u001b[39m | \u001b[39m1.2629124\u001b[39m | \u001b[39m0.5      \u001b[39m | \u001b[39m0.1      \u001b[39m |\n",
      "| \u001b[39m69       \u001b[39m | \u001b[39m-2538.880\u001b[39m | \u001b[39m3.0084057\u001b[39m | \u001b[39m1.0      \u001b[39m | \u001b[39m0.7451891\u001b[39m | \u001b[39m2.0897419\u001b[39m | \u001b[39m1.0      \u001b[39m | \u001b[39m0.0722707\u001b[39m |\n",
      "| \u001b[39m70       \u001b[39m | \u001b[39m-3188.477\u001b[39m | \u001b[39m14.985722\u001b[39m | \u001b[39m1.0      \u001b[39m | \u001b[39m0.0      \u001b[39m | \u001b[39m2.7627033\u001b[39m | \u001b[39m0.5      \u001b[39m | \u001b[39m0.0      \u001b[39m |\n",
      "| \u001b[39m71       \u001b[39m | \u001b[39m-3407.724\u001b[39m | \u001b[39m31.505634\u001b[39m | \u001b[39m1.0      \u001b[39m | \u001b[39m0.0      \u001b[39m | \u001b[39m3.0      \u001b[39m | \u001b[39m0.5      \u001b[39m | \u001b[39m0.1      \u001b[39m |\n",
      "| \u001b[39m72       \u001b[39m | \u001b[39m-5562.463\u001b[39m | \u001b[39m4.8015684\u001b[39m | \u001b[39m0.0      \u001b[39m | \u001b[39m1.0      \u001b[39m | \u001b[39m1.5673984\u001b[39m | \u001b[39m0.5      \u001b[39m | \u001b[39m0.1      \u001b[39m |\n",
      "| \u001b[39m73       \u001b[39m | \u001b[39m-3069.972\u001b[39m | \u001b[39m3.6996241\u001b[39m | \u001b[39m1.0      \u001b[39m | \u001b[39m0.0      \u001b[39m | \u001b[39m2.0095286\u001b[39m | \u001b[39m0.5      \u001b[39m | \u001b[39m0.1      \u001b[39m |\n",
      "| \u001b[39m74       \u001b[39m | \u001b[39m-3160.763\u001b[39m | \u001b[39m8.3944972\u001b[39m | \u001b[39m1.0      \u001b[39m | \u001b[39m0.0      \u001b[39m | \u001b[39m3.0      \u001b[39m | \u001b[39m0.5      \u001b[39m | \u001b[39m0.1      \u001b[39m |\n",
      "| \u001b[39m75       \u001b[39m | \u001b[39m-3660.561\u001b[39m | \u001b[39m2.6116217\u001b[39m | \u001b[39m0.0663205\u001b[39m | \u001b[39m1.0      \u001b[39m | \u001b[39m1.9777000\u001b[39m | \u001b[39m0.5      \u001b[39m | \u001b[39m0.0      \u001b[39m |\n",
      "| \u001b[39m76       \u001b[39m | \u001b[39m-2836.491\u001b[39m | \u001b[39m4.5725828\u001b[39m | \u001b[39m1.0      \u001b[39m | \u001b[39m0.0      \u001b[39m | \u001b[39m2.9906676\u001b[39m | \u001b[39m1.0      \u001b[39m | \u001b[39m0.1      \u001b[39m |\n",
      "| \u001b[39m77       \u001b[39m | \u001b[39m-3188.477\u001b[39m | \u001b[39m3.0479033\u001b[39m | \u001b[39m1.0      \u001b[39m | \u001b[39m0.0      \u001b[39m | \u001b[39m1.0      \u001b[39m | \u001b[39m1.0      \u001b[39m | \u001b[39m0.0      \u001b[39m |\n",
      "| \u001b[39m78       \u001b[39m | \u001b[39m-3188.477\u001b[39m | \u001b[39m10.581918\u001b[39m | \u001b[39m1.0      \u001b[39m | \u001b[39m0.0      \u001b[39m | \u001b[39m1.0      \u001b[39m | \u001b[39m0.5      \u001b[39m | \u001b[39m0.1      \u001b[39m |\n",
      "| \u001b[39m79       \u001b[39m | \u001b[39m-3188.477\u001b[39m | \u001b[39m5.9390029\u001b[39m | \u001b[39m1.0      \u001b[39m | \u001b[39m0.0      \u001b[39m | \u001b[39m2.2645248\u001b[39m | \u001b[39m1.0      \u001b[39m | \u001b[39m0.0      \u001b[39m |\n",
      "| \u001b[39m80       \u001b[39m | \u001b[39m-3188.477\u001b[39m | \u001b[39m59.013258\u001b[39m | \u001b[39m0.9836669\u001b[39m | \u001b[39m0.0      \u001b[39m | \u001b[39m1.8984836\u001b[39m | \u001b[39m0.8385219\u001b[39m | \u001b[39m0.0127444\u001b[39m |\n",
      "| \u001b[39m81       \u001b[39m | \u001b[39m-3188.477\u001b[39m | \u001b[39m14.674069\u001b[39m | \u001b[39m1.0      \u001b[39m | \u001b[39m0.0      \u001b[39m | \u001b[39m1.3294429\u001b[39m | \u001b[39m0.5      \u001b[39m | \u001b[39m0.0      \u001b[39m |\n",
      "| \u001b[39m82       \u001b[39m | \u001b[39m-3387.006\u001b[39m | \u001b[39m58.929050\u001b[39m | \u001b[39m0.0879503\u001b[39m | \u001b[39m0.0      \u001b[39m | \u001b[39m3.0      \u001b[39m | \u001b[39m0.6648293\u001b[39m | \u001b[39m0.0356875\u001b[39m |\n",
      "| \u001b[39m83       \u001b[39m | \u001b[39m-3188.477\u001b[39m | \u001b[39m28.426568\u001b[39m | \u001b[39m1.0      \u001b[39m | \u001b[39m0.0      \u001b[39m | \u001b[39m1.0      \u001b[39m | \u001b[39m0.5      \u001b[39m | \u001b[39m0.0      \u001b[39m |\n",
      "| \u001b[39m84       \u001b[39m | \u001b[39m-2656.752\u001b[39m | \u001b[39m1.4134157\u001b[39m | \u001b[39m1.0      \u001b[39m | \u001b[39m0.3480503\u001b[39m | \u001b[39m2.0540854\u001b[39m | \u001b[39m1.0      \u001b[39m | \u001b[39m0.1      \u001b[39m |\n",
      "| \u001b[39m85       \u001b[39m | \u001b[39m-3188.477\u001b[39m | \u001b[39m2.3150353\u001b[39m | \u001b[39m0.8216434\u001b[39m | \u001b[39m0.0      \u001b[39m | \u001b[39m3.0      \u001b[39m | \u001b[39m1.0      \u001b[39m | \u001b[39m0.0      \u001b[39m |\n",
      "| \u001b[39m86       \u001b[39m | \u001b[39m-3188.477\u001b[39m | \u001b[39m1.0      \u001b[39m | \u001b[39m0.9283719\u001b[39m | \u001b[39m0.0      \u001b[39m | \u001b[39m1.0      \u001b[39m | \u001b[39m0.5      \u001b[39m | \u001b[39m0.0      \u001b[39m |\n",
      "| \u001b[39m87       \u001b[39m | \u001b[39m-3188.477\u001b[39m | \u001b[39m58.522599\u001b[39m | \u001b[39m0.0      \u001b[39m | \u001b[39m0.0      \u001b[39m | \u001b[39m1.0033265\u001b[39m | \u001b[39m0.5      \u001b[39m | \u001b[39m0.1      \u001b[39m |\n",
      "| \u001b[39m88       \u001b[39m | \u001b[39m-3188.477\u001b[39m | \u001b[39m11.992691\u001b[39m | \u001b[39m1.0      \u001b[39m | \u001b[39m0.0      \u001b[39m | \u001b[39m3.0      \u001b[39m | \u001b[39m1.0      \u001b[39m | \u001b[39m0.0      \u001b[39m |\n",
      "| \u001b[39m89       \u001b[39m | \u001b[39m-3567.727\u001b[39m | \u001b[39m8.6223146\u001b[39m | \u001b[39m1.0      \u001b[39m | \u001b[39m1.0      \u001b[39m | \u001b[39m1.0      \u001b[39m | \u001b[39m0.5      \u001b[39m | \u001b[39m0.0      \u001b[39m |\n",
      "| \u001b[39m90       \u001b[39m | \u001b[39m-3188.477\u001b[39m | \u001b[39m28.581535\u001b[39m | \u001b[39m1.0      \u001b[39m | \u001b[39m0.0      \u001b[39m | \u001b[39m2.5672703\u001b[39m | \u001b[39m0.5      \u001b[39m | \u001b[39m0.0      \u001b[39m |\n",
      "| \u001b[39m91       \u001b[39m | \u001b[39m-2917.634\u001b[39m | \u001b[39m1.0      \u001b[39m | \u001b[39m0.0133043\u001b[39m | \u001b[39m1.0      \u001b[39m | \u001b[39m1.0716554\u001b[39m | \u001b[39m1.0      \u001b[39m | \u001b[39m0.1      \u001b[39m |\n",
      "| \u001b[39m92       \u001b[39m | \u001b[39m-3153.262\u001b[39m | \u001b[39m1.0      \u001b[39m | \u001b[39m0.0      \u001b[39m | \u001b[39m0.0      \u001b[39m | \u001b[39m2.4986637\u001b[39m | \u001b[39m0.5      \u001b[39m | \u001b[39m0.1      \u001b[39m |\n",
      "| \u001b[39m93       \u001b[39m | \u001b[39m-2895.654\u001b[39m | \u001b[39m1.0      \u001b[39m | \u001b[39m1.0      \u001b[39m | \u001b[39m1.0      \u001b[39m | \u001b[39m3.0      \u001b[39m | \u001b[39m0.5      \u001b[39m | \u001b[39m0.0      \u001b[39m |\n",
      "| \u001b[39m94       \u001b[39m | \u001b[39m-3188.477\u001b[39m | \u001b[39m30.135623\u001b[39m | \u001b[39m1.0      \u001b[39m | \u001b[39m0.0      \u001b[39m | \u001b[39m2.1642916\u001b[39m | \u001b[39m1.0      \u001b[39m | \u001b[39m0.0      \u001b[39m |\n",
      "| \u001b[39m95       \u001b[39m | \u001b[39m-3188.477\u001b[39m | \u001b[39m19.046698\u001b[39m | \u001b[39m1.0      \u001b[39m | \u001b[39m0.0      \u001b[39m | \u001b[39m1.0      \u001b[39m | \u001b[39m0.5      \u001b[39m | \u001b[39m0.0      \u001b[39m |\n",
      "| \u001b[39m96       \u001b[39m | \u001b[39m-3188.477\u001b[39m | \u001b[39m28.889079\u001b[39m | \u001b[39m0.0      \u001b[39m | \u001b[39m0.0      \u001b[39m | \u001b[39m1.7843487\u001b[39m | \u001b[39m1.0      \u001b[39m | \u001b[39m0.0      \u001b[39m |\n",
      "| \u001b[39m97       \u001b[39m | \u001b[39m-8408.810\u001b[39m | \u001b[39m29.533357\u001b[39m | \u001b[39m0.0      \u001b[39m | \u001b[39m1.0      \u001b[39m | \u001b[39m3.0      \u001b[39m | \u001b[39m0.5      \u001b[39m | \u001b[39m0.0      \u001b[39m |\n",
      "| \u001b[39m98       \u001b[39m | \u001b[39m-3188.477\u001b[39m | \u001b[39m4.7897581\u001b[39m | \u001b[39m1.0      \u001b[39m | \u001b[39m0.0      \u001b[39m | \u001b[39m1.0      \u001b[39m | \u001b[39m1.0      \u001b[39m | \u001b[39m0.1      \u001b[39m |\n",
      "| \u001b[39m99       \u001b[39m | \u001b[39m-3188.477\u001b[39m | \u001b[39m6.7191132\u001b[39m | \u001b[39m1.0      \u001b[39m | \u001b[39m0.0      \u001b[39m | \u001b[39m1.0      \u001b[39m | \u001b[39m0.5      \u001b[39m | \u001b[39m0.0      \u001b[39m |\n",
      "| \u001b[39m100      \u001b[39m | \u001b[39m-8408.810\u001b[39m | \u001b[39m59.988375\u001b[39m | \u001b[39m0.0      \u001b[39m | \u001b[39m1.0      \u001b[39m | \u001b[39m1.4514726\u001b[39m | \u001b[39m0.5      \u001b[39m | \u001b[39m0.1      \u001b[39m |\n",
      "| \u001b[39m101      \u001b[39m | \u001b[39m-3188.477\u001b[39m | \u001b[39m57.879937\u001b[39m | \u001b[39m1.0      \u001b[39m | \u001b[39m0.0      \u001b[39m | \u001b[39m1.0      \u001b[39m | \u001b[39m1.0      \u001b[39m | \u001b[39m0.0      \u001b[39m |\n",
      "| \u001b[39m102      \u001b[39m | \u001b[39m-3188.477\u001b[39m | \u001b[39m8.5691993\u001b[39m | \u001b[39m0.0      \u001b[39m | \u001b[39m0.0      \u001b[39m | \u001b[39m1.0      \u001b[39m | \u001b[39m1.0      \u001b[39m | \u001b[39m0.0      \u001b[39m |\n",
      "| \u001b[39m103      \u001b[39m | \u001b[39m-3188.477\u001b[39m | \u001b[39m10.472017\u001b[39m | \u001b[39m0.0      \u001b[39m | \u001b[39m0.0      \u001b[39m | \u001b[39m1.0      \u001b[39m | \u001b[39m1.0      \u001b[39m | \u001b[39m0.0      \u001b[39m |\n",
      "| \u001b[39m104      \u001b[39m | \u001b[39m-3909.097\u001b[39m | \u001b[39m11.007944\u001b[39m | \u001b[39m1.0      \u001b[39m | \u001b[39m1.0      \u001b[39m | \u001b[39m1.1316248\u001b[39m | \u001b[39m1.0      \u001b[39m | \u001b[39m0.0      \u001b[39m |\n",
      "| \u001b[39m105      \u001b[39m | \u001b[39m-2809.549\u001b[39m | \u001b[39m3.7675856\u001b[39m | \u001b[39m1.0      \u001b[39m | \u001b[39m1.0      \u001b[39m | \u001b[39m3.0      \u001b[39m | \u001b[39m1.0      \u001b[39m | \u001b[39m0.0      \u001b[39m |\n",
      "| \u001b[39m106      \u001b[39m | \u001b[39m-4283.852\u001b[39m | \u001b[39m15.863888\u001b[39m | \u001b[39m1.0      \u001b[39m | \u001b[39m1.0      \u001b[39m | \u001b[39m1.0      \u001b[39m | \u001b[39m1.0      \u001b[39m | \u001b[39m0.1      \u001b[39m |\n",
      "| \u001b[39m107      \u001b[39m | \u001b[39m-3169.121\u001b[39m | \u001b[39m35.170131\u001b[39m | \u001b[39m1.0      \u001b[39m | \u001b[39m0.0      \u001b[39m | \u001b[39m3.0      \u001b[39m | \u001b[39m1.0      \u001b[39m | \u001b[39m0.1      \u001b[39m |\n",
      "| \u001b[39m108      \u001b[39m | \u001b[39m-2932.119\u001b[39m | \u001b[39m1.3867799\u001b[39m | \u001b[39m0.0      \u001b[39m | \u001b[39m1.0      \u001b[39m | \u001b[39m3.0      \u001b[39m | \u001b[39m1.0      \u001b[39m | \u001b[39m0.1      \u001b[39m |\n",
      "| \u001b[39m109      \u001b[39m | \u001b[39m-3188.477\u001b[39m | \u001b[39m38.661646\u001b[39m | \u001b[39m1.0      \u001b[39m | \u001b[39m0.0      \u001b[39m | \u001b[39m1.0      \u001b[39m | \u001b[39m0.5      \u001b[39m | \u001b[39m0.1      \u001b[39m |\n",
      "| \u001b[39m110      \u001b[39m | \u001b[39m-3049.191\u001b[39m | \u001b[39m32.579659\u001b[39m | \u001b[39m1.0      \u001b[39m | \u001b[39m0.0      \u001b[39m | \u001b[39m3.0      \u001b[39m | \u001b[39m1.0      \u001b[39m | \u001b[39m0.1      \u001b[39m |\n",
      "| \u001b[39m111      \u001b[39m | \u001b[39m-2895.654\u001b[39m | \u001b[39m1.0      \u001b[39m | \u001b[39m1.0      \u001b[39m | \u001b[39m1.0      \u001b[39m | \u001b[39m1.6173375\u001b[39m | \u001b[39m0.5      \u001b[39m | \u001b[39m0.0      \u001b[39m |\n",
      "| \u001b[39m112      \u001b[39m | \u001b[39m-3872.159\u001b[39m | \u001b[39m16.083443\u001b[39m | \u001b[39m1.0      \u001b[39m | \u001b[39m1.0      \u001b[39m | \u001b[39m3.0      \u001b[39m | \u001b[39m1.0      \u001b[39m | \u001b[39m0.1      \u001b[39m |\n",
      "| \u001b[39m113      \u001b[39m | \u001b[39m-3188.477\u001b[39m | \u001b[39m13.276975\u001b[39m | \u001b[39m1.0      \u001b[39m | \u001b[39m0.0      \u001b[39m | \u001b[39m1.0      \u001b[39m | \u001b[39m1.0      \u001b[39m | \u001b[39m0.0      \u001b[39m |\n",
      "| \u001b[39m114      \u001b[39m | \u001b[39m-3188.477\u001b[39m | \u001b[39m29.907491\u001b[39m | \u001b[39m1.0      \u001b[39m | \u001b[39m0.0      \u001b[39m | \u001b[39m1.0      \u001b[39m | \u001b[39m0.5      \u001b[39m | \u001b[39m0.1      \u001b[39m |\n",
      "| \u001b[39m115      \u001b[39m | \u001b[39m-3158.733\u001b[39m | \u001b[39m8.5354155\u001b[39m | \u001b[39m1.0      \u001b[39m | \u001b[39m1.0      \u001b[39m | \u001b[39m3.0      \u001b[39m | \u001b[39m1.0      \u001b[39m | \u001b[39m0.1      \u001b[39m |\n",
      "| \u001b[39m116      \u001b[39m | \u001b[39m-3188.477\u001b[39m | \u001b[39m17.707947\u001b[39m | \u001b[39m1.0      \u001b[39m | \u001b[39m0.0      \u001b[39m | \u001b[39m1.0      \u001b[39m | \u001b[39m0.5      \u001b[39m | \u001b[39m0.1      \u001b[39m |\n",
      "| \u001b[39m117      \u001b[39m | \u001b[39m-2799.012\u001b[39m | \u001b[39m3.6474326\u001b[39m | \u001b[39m1.0      \u001b[39m | \u001b[39m1.0      \u001b[39m | \u001b[39m1.0      \u001b[39m | \u001b[39m1.0      \u001b[39m | \u001b[39m0.0      \u001b[39m |\n",
      "| \u001b[39m118      \u001b[39m | \u001b[39m-3188.477\u001b[39m | \u001b[39m34.690707\u001b[39m | \u001b[39m1.0      \u001b[39m | \u001b[39m0.0      \u001b[39m | \u001b[39m1.0      \u001b[39m | \u001b[39m1.0      \u001b[39m | \u001b[39m0.1      \u001b[39m |\n",
      "| \u001b[39m119      \u001b[39m | \u001b[39m-4394.366\u001b[39m | \u001b[39m58.402386\u001b[39m | \u001b[39m1.0      \u001b[39m | \u001b[39m0.0      \u001b[39m | \u001b[39m3.0      \u001b[39m | \u001b[39m1.0      \u001b[39m | \u001b[39m0.1      \u001b[39m |\n",
      "| \u001b[39m120      \u001b[39m | \u001b[39m-2752.257\u001b[39m | \u001b[39m2.2970358\u001b[39m | \u001b[39m1.0      \u001b[39m | \u001b[39m1.0      \u001b[39m | \u001b[39m3.0      \u001b[39m | \u001b[39m0.5      \u001b[39m | \u001b[39m0.1      \u001b[39m |\n",
      "| \u001b[39m121      \u001b[39m | \u001b[39m-3188.477\u001b[39m | \u001b[39m18.635141\u001b[39m | \u001b[39m0.0      \u001b[39m | \u001b[39m0.0      \u001b[39m | \u001b[39m1.4572442\u001b[39m | \u001b[39m0.5      \u001b[39m | \u001b[39m0.0      \u001b[39m |\n",
      "| \u001b[39m122      \u001b[39m | \u001b[39m-2790.805\u001b[39m | \u001b[39m5.3680618\u001b[39m | \u001b[39m0.0      \u001b[39m | \u001b[39m0.0      \u001b[39m | \u001b[39m3.0      \u001b[39m | \u001b[39m1.0      \u001b[39m | \u001b[39m0.1      \u001b[39m |\n",
      "| \u001b[39m123      \u001b[39m | \u001b[39m-3188.477\u001b[39m | \u001b[39m18.656626\u001b[39m | \u001b[39m1.0      \u001b[39m | \u001b[39m0.0      \u001b[39m | \u001b[39m2.4471989\u001b[39m | \u001b[39m0.5      \u001b[39m | \u001b[39m0.0      \u001b[39m |\n",
      "| \u001b[39m124      \u001b[39m | \u001b[39m-3182.420\u001b[39m | \u001b[39m13.562579\u001b[39m | \u001b[39m1.0      \u001b[39m | \u001b[39m0.0      \u001b[39m | \u001b[39m3.0      \u001b[39m | \u001b[39m0.5      \u001b[39m | \u001b[39m0.1      \u001b[39m |\n",
      "| \u001b[39m125      \u001b[39m | \u001b[39m-3188.477\u001b[39m | \u001b[39m14.819993\u001b[39m | \u001b[39m0.0      \u001b[39m | \u001b[39m0.0      \u001b[39m | \u001b[39m1.9209972\u001b[39m | \u001b[39m1.0      \u001b[39m | \u001b[39m0.0      \u001b[39m |\n",
      "| \u001b[39m126      \u001b[39m | \u001b[39m-2603.996\u001b[39m | \u001b[39m10.215332\u001b[39m | \u001b[39m1.0      \u001b[39m | \u001b[39m0.0      \u001b[39m | \u001b[39m3.0      \u001b[39m | \u001b[39m1.0      \u001b[39m | \u001b[39m0.1      \u001b[39m |\n",
      "| \u001b[39m127      \u001b[39m | \u001b[39m-3656.151\u001b[39m | \u001b[39m44.834154\u001b[39m | \u001b[39m1.0      \u001b[39m | \u001b[39m0.0      \u001b[39m | \u001b[39m3.0      \u001b[39m | \u001b[39m0.5      \u001b[39m | \u001b[39m0.1      \u001b[39m |\n",
      "| \u001b[39m128      \u001b[39m | \u001b[39m-5269.891\u001b[39m | \u001b[39m29.015051\u001b[39m | \u001b[39m1.0      \u001b[39m | \u001b[39m1.0      \u001b[39m | \u001b[39m1.0      \u001b[39m | \u001b[39m1.0      \u001b[39m | \u001b[39m0.1      \u001b[39m |\n",
      "| \u001b[39m129      \u001b[39m | \u001b[39m-3188.477\u001b[39m | \u001b[39m1.0      \u001b[39m | \u001b[39m1.0      \u001b[39m | \u001b[39m0.0      \u001b[39m | \u001b[39m3.0      \u001b[39m | \u001b[39m1.0      \u001b[39m | \u001b[39m0.0      \u001b[39m |\n",
      "| \u001b[39m130      \u001b[39m | \u001b[39m-3188.477\u001b[39m | \u001b[39m32.000540\u001b[39m | \u001b[39m0.0      \u001b[39m | \u001b[39m0.0      \u001b[39m | \u001b[39m3.0      \u001b[39m | \u001b[39m1.0      \u001b[39m | \u001b[39m0.0      \u001b[39m |\n",
      "| \u001b[39m131      \u001b[39m | \u001b[39m-3188.477\u001b[39m | \u001b[39m21.279146\u001b[39m | \u001b[39m1.0      \u001b[39m | \u001b[39m0.0      \u001b[39m | \u001b[39m3.0      \u001b[39m | \u001b[39m0.5      \u001b[39m | \u001b[39m0.0      \u001b[39m |\n",
      "| \u001b[39m132      \u001b[39m | \u001b[39m-3224.207\u001b[39m | \u001b[39m18.413472\u001b[39m | \u001b[39m0.0      \u001b[39m | \u001b[39m0.0      \u001b[39m | \u001b[39m3.0      \u001b[39m | \u001b[39m0.5      \u001b[39m | \u001b[39m0.1      \u001b[39m |\n",
      "| \u001b[39m133      \u001b[39m | \u001b[39m-3188.477\u001b[39m | \u001b[39m13.938907\u001b[39m | \u001b[39m0.0      \u001b[39m | \u001b[39m0.0      \u001b[39m | \u001b[39m1.0      \u001b[39m | \u001b[39m0.5      \u001b[39m | \u001b[39m0.0      \u001b[39m |\n",
      "| \u001b[39m134      \u001b[39m | \u001b[39m-3783.600\u001b[39m | \u001b[39m2.8040854\u001b[39m | \u001b[39m0.0      \u001b[39m | \u001b[39m1.0      \u001b[39m | \u001b[39m1.0      \u001b[39m | \u001b[39m1.0      \u001b[39m | \u001b[39m0.1      \u001b[39m |\n",
      "| \u001b[39m135      \u001b[39m | \u001b[39m-3188.477\u001b[39m | \u001b[39m8.3283306\u001b[39m | \u001b[39m0.0      \u001b[39m | \u001b[39m0.0      \u001b[39m | \u001b[39m2.5626865\u001b[39m | \u001b[39m1.0      \u001b[39m | \u001b[39m0.0      \u001b[39m |\n",
      "| \u001b[39m136      \u001b[39m | \u001b[39m-3188.477\u001b[39m | \u001b[39m6.6248702\u001b[39m | \u001b[39m0.0      \u001b[39m | \u001b[39m0.0      \u001b[39m | \u001b[39m3.0      \u001b[39m | \u001b[39m0.5      \u001b[39m | \u001b[39m0.0      \u001b[39m |\n",
      "| \u001b[39m137      \u001b[39m | \u001b[39m-3188.477\u001b[39m | \u001b[39m61.559191\u001b[39m | \u001b[39m1.0      \u001b[39m | \u001b[39m0.0      \u001b[39m | \u001b[39m3.0      \u001b[39m | \u001b[39m1.0      \u001b[39m | \u001b[39m0.0      \u001b[39m |\n",
      "| \u001b[39m138      \u001b[39m | \u001b[39m-3188.477\u001b[39m | \u001b[39m5.5383572\u001b[39m | \u001b[39m1.0      \u001b[39m | \u001b[39m0.0      \u001b[39m | \u001b[39m3.0      \u001b[39m | \u001b[39m0.5      \u001b[39m | \u001b[39m0.0      \u001b[39m |\n",
      "| \u001b[39m139      \u001b[39m | \u001b[39m-8545.017\u001b[39m | \u001b[39m62.329395\u001b[39m | \u001b[39m0.0      \u001b[39m | \u001b[39m1.0      \u001b[39m | \u001b[39m3.0      \u001b[39m | \u001b[39m1.0      \u001b[39m | \u001b[39m0.1      \u001b[39m |\n",
      "| \u001b[39m140      \u001b[39m | \u001b[39m-3188.477\u001b[39m | \u001b[39m60.352049\u001b[39m | \u001b[39m1.0      \u001b[39m | \u001b[39m0.0      \u001b[39m | \u001b[39m3.0      \u001b[39m | \u001b[39m0.5      \u001b[39m | \u001b[39m0.0      \u001b[39m |\n",
      "| \u001b[39m141      \u001b[39m | \u001b[39m-3188.477\u001b[39m | \u001b[39m27.945347\u001b[39m | \u001b[39m0.0      \u001b[39m | \u001b[39m0.0      \u001b[39m | \u001b[39m1.0      \u001b[39m | \u001b[39m0.5      \u001b[39m | \u001b[39m0.1      \u001b[39m |\n",
      "| \u001b[39m142      \u001b[39m | \u001b[39m-3188.477\u001b[39m | \u001b[39m7.9348277\u001b[39m | \u001b[39m1.0      \u001b[39m | \u001b[39m0.0      \u001b[39m | \u001b[39m1.0      \u001b[39m | \u001b[39m1.0      \u001b[39m | \u001b[39m0.1      \u001b[39m |\n",
      "| \u001b[39m143      \u001b[39m | \u001b[39m-3188.477\u001b[39m | \u001b[39m2.2049350\u001b[39m | \u001b[39m1.0      \u001b[39m | \u001b[39m0.0      \u001b[39m | \u001b[39m1.8658452\u001b[39m | \u001b[39m0.5      \u001b[39m | \u001b[39m0.1      \u001b[39m |\n",
      "| \u001b[39m144      \u001b[39m | \u001b[39m-3188.477\u001b[39m | \u001b[39m1.0      \u001b[39m | \u001b[39m0.0      \u001b[39m | \u001b[39m0.0      \u001b[39m | \u001b[39m1.0      \u001b[39m | \u001b[39m1.0      \u001b[39m | \u001b[39m0.1      \u001b[39m |\n",
      "| \u001b[39m145      \u001b[39m | \u001b[39m-3188.477\u001b[39m | \u001b[39m6.3431806\u001b[39m | \u001b[39m0.0      \u001b[39m | \u001b[39m0.0      \u001b[39m | \u001b[39m1.0      \u001b[39m | \u001b[39m1.0      \u001b[39m | \u001b[39m0.0      \u001b[39m |\n",
      "| \u001b[39m146      \u001b[39m | \u001b[39m-3188.477\u001b[39m | \u001b[39m10.884084\u001b[39m | \u001b[39m1.0      \u001b[39m | \u001b[39m0.0      \u001b[39m | \u001b[39m2.3497449\u001b[39m | \u001b[39m0.5      \u001b[39m | \u001b[39m0.0      \u001b[39m |\n",
      "| \u001b[39m147      \u001b[39m | \u001b[39m-3188.477\u001b[39m | \u001b[39m27.332985\u001b[39m | \u001b[39m1.0      \u001b[39m | \u001b[39m0.0      \u001b[39m | \u001b[39m3.0      \u001b[39m | \u001b[39m0.5      \u001b[39m | \u001b[39m0.0      \u001b[39m |\n",
      "| \u001b[39m148      \u001b[39m | \u001b[39m-3188.477\u001b[39m | \u001b[39m52.987648\u001b[39m | \u001b[39m1.0      \u001b[39m | \u001b[39m0.0      \u001b[39m | \u001b[39m1.0      \u001b[39m | \u001b[39m1.0      \u001b[39m | \u001b[39m0.0      \u001b[39m |\n",
      "| \u001b[39m149      \u001b[39m | \u001b[39m-3169.237\u001b[39m | \u001b[39m2.9183100\u001b[39m | \u001b[39m0.0      \u001b[39m | \u001b[39m0.0      \u001b[39m | \u001b[39m3.0      \u001b[39m | \u001b[39m0.5      \u001b[39m | \u001b[39m0.1      \u001b[39m |\n",
      "| \u001b[39m150      \u001b[39m | \u001b[39m-3051.786\u001b[39m | \u001b[39m6.2300827\u001b[39m | \u001b[39m1.0      \u001b[39m | \u001b[39m1.0      \u001b[39m | \u001b[39m1.0      \u001b[39m | \u001b[39m1.0      \u001b[39m | \u001b[39m0.1      \u001b[39m |\n",
      "| \u001b[39m151      \u001b[39m | \u001b[39m-3188.477\u001b[39m | \u001b[39m11.885446\u001b[39m | \u001b[39m1.0      \u001b[39m | \u001b[39m0.0      \u001b[39m | \u001b[39m1.0      \u001b[39m | \u001b[39m1.0      \u001b[39m | \u001b[39m0.0      \u001b[39m |\n",
      "| \u001b[39m152      \u001b[39m | \u001b[39m-2818.015\u001b[39m | \u001b[39m1.4611057\u001b[39m | \u001b[39m1.0      \u001b[39m | \u001b[39m1.0      \u001b[39m | \u001b[39m1.0      \u001b[39m | \u001b[39m1.0      \u001b[39m | \u001b[39m0.0      \u001b[39m |\n",
      "| \u001b[39m153      \u001b[39m | \u001b[39m-3188.477\u001b[39m | \u001b[39m28.061979\u001b[39m | \u001b[39m1.0      \u001b[39m | \u001b[39m0.0      \u001b[39m | \u001b[39m1.9576987\u001b[39m | \u001b[39m1.0      \u001b[39m | \u001b[39m0.1      \u001b[39m |\n",
      "| \u001b[39m154      \u001b[39m | \u001b[39m-4623.987\u001b[39m | \u001b[39m17.965202\u001b[39m | \u001b[39m1.0      \u001b[39m | \u001b[39m1.0      \u001b[39m | \u001b[39m1.0      \u001b[39m | \u001b[39m1.0      \u001b[39m | \u001b[39m0.0      \u001b[39m |\n",
      "| \u001b[39m155      \u001b[39m | \u001b[39m-2809.149\u001b[39m | \u001b[39m3.7632013\u001b[39m | \u001b[39m1.0      \u001b[39m | \u001b[39m1.0      \u001b[39m | \u001b[39m1.9586573\u001b[39m | \u001b[39m0.5      \u001b[39m | \u001b[39m0.0      \u001b[39m |\n",
      "| \u001b[39m156      \u001b[39m | \u001b[39m-2563.553\u001b[39m | \u001b[39m16.824233\u001b[39m | \u001b[39m1.0      \u001b[39m | \u001b[39m0.0      \u001b[39m | \u001b[39m3.0      \u001b[39m | \u001b[39m1.0      \u001b[39m | \u001b[39m0.1      \u001b[39m |\n",
      "| \u001b[39m157      \u001b[39m | \u001b[39m-3188.477\u001b[39m | \u001b[39m58.312487\u001b[39m | \u001b[39m0.0      \u001b[39m | \u001b[39m0.0      \u001b[39m | \u001b[39m1.8702745\u001b[39m | \u001b[39m1.0      \u001b[39m | \u001b[39m0.0      \u001b[39m |\n",
      "| \u001b[39m158      \u001b[39m | \u001b[39m-3188.477\u001b[39m | \u001b[39m15.869534\u001b[39m | \u001b[39m0.0      \u001b[39m | \u001b[39m0.0      \u001b[39m | \u001b[39m3.0      \u001b[39m | \u001b[39m0.5      \u001b[39m | \u001b[39m0.0      \u001b[39m |\n",
      "| \u001b[39m159      \u001b[39m | \u001b[39m-3188.477\u001b[39m | \u001b[39m31.342720\u001b[39m | \u001b[39m1.0      \u001b[39m | \u001b[39m0.0      \u001b[39m | \u001b[39m2.1453916\u001b[39m | \u001b[39m1.0      \u001b[39m | \u001b[39m0.0      \u001b[39m |\n",
      "| \u001b[39m160      \u001b[39m | \u001b[39m-6499.643\u001b[39m | \u001b[39m53.196138\u001b[39m | \u001b[39m1.0      \u001b[39m | \u001b[39m1.0      \u001b[39m | \u001b[39m1.0      \u001b[39m | \u001b[39m0.5      \u001b[39m | \u001b[39m0.1      \u001b[39m |\n",
      "| \u001b[39m161      \u001b[39m | \u001b[39m-3188.477\u001b[39m | \u001b[39m51.514426\u001b[39m | \u001b[39m1.0      \u001b[39m | \u001b[39m0.0      \u001b[39m | \u001b[39m1.0      \u001b[39m | \u001b[39m1.0      \u001b[39m | \u001b[39m0.0      \u001b[39m |\n",
      "| \u001b[39m162      \u001b[39m | \u001b[39m-4019.429\u001b[39m | \u001b[39m3.1519185\u001b[39m | \u001b[39m0.0      \u001b[39m | \u001b[39m1.0      \u001b[39m | \u001b[39m3.0      \u001b[39m | \u001b[39m1.0      \u001b[39m | \u001b[39m0.1      \u001b[39m |\n",
      "| \u001b[39m163      \u001b[39m | \u001b[39m-3188.477\u001b[39m | \u001b[39m22.934165\u001b[39m | \u001b[39m1.0      \u001b[39m | \u001b[39m0.0      \u001b[39m | \u001b[39m3.0      \u001b[39m | \u001b[39m0.5      \u001b[39m | \u001b[39m0.0      \u001b[39m |\n",
      "| \u001b[39m164      \u001b[39m | \u001b[39m-2773.141\u001b[39m | \u001b[39m1.8977510\u001b[39m | \u001b[39m1.0      \u001b[39m | \u001b[39m1.0      \u001b[39m | \u001b[39m2.2417899\u001b[39m | \u001b[39m1.0      \u001b[39m | \u001b[39m0.0      \u001b[39m |\n",
      "| \u001b[39m165      \u001b[39m | \u001b[39m-3188.477\u001b[39m | \u001b[39m10.360583\u001b[39m | \u001b[39m1.0      \u001b[39m | \u001b[39m0.0      \u001b[39m | \u001b[39m1.6522817\u001b[39m | \u001b[39m1.0      \u001b[39m | \u001b[39m0.0      \u001b[39m |\n",
      "| \u001b[39m166      \u001b[39m | \u001b[39m-3188.477\u001b[39m | \u001b[39m11.651931\u001b[39m | \u001b[39m0.0      \u001b[39m | \u001b[39m0.0      \u001b[39m | \u001b[39m1.0      \u001b[39m | \u001b[39m0.5      \u001b[39m | \u001b[39m0.1      \u001b[39m |\n",
      "| \u001b[39m167      \u001b[39m | \u001b[39m-3188.477\u001b[39m | \u001b[39m9.4415392\u001b[39m | \u001b[39m0.2405047\u001b[39m | \u001b[39m0.0      \u001b[39m | \u001b[39m1.5846052\u001b[39m | \u001b[39m0.5      \u001b[39m | \u001b[39m0.1      \u001b[39m |\n",
      "| \u001b[39m168      \u001b[39m | \u001b[39m-3675.744\u001b[39m | \u001b[39m9.3072515\u001b[39m | \u001b[39m1.0      \u001b[39m | \u001b[39m1.0      \u001b[39m | \u001b[39m1.9781296\u001b[39m | \u001b[39m1.0      \u001b[39m | \u001b[39m0.0      \u001b[39m |\n",
      "| \u001b[39m169      \u001b[39m | \u001b[39m-2582.629\u001b[39m | \u001b[39m11.275979\u001b[39m | \u001b[39m0.0      \u001b[39m | \u001b[39m0.0      \u001b[39m | \u001b[39m2.2252494\u001b[39m | \u001b[39m1.0      \u001b[39m | \u001b[39m0.1      \u001b[39m |\n",
      "| \u001b[39m170      \u001b[39m | \u001b[39m-4984.342\u001b[39m | \u001b[39m22.218410\u001b[39m | \u001b[39m1.0      \u001b[39m | \u001b[39m1.0      \u001b[39m | \u001b[39m3.0      \u001b[39m | \u001b[39m0.5      \u001b[39m | \u001b[39m0.0      \u001b[39m |\n",
      "| \u001b[39m171      \u001b[39m | \u001b[39m-3188.477\u001b[39m | \u001b[39m49.929817\u001b[39m | \u001b[39m1.0      \u001b[39m | \u001b[39m0.0      \u001b[39m | \u001b[39m1.0      \u001b[39m | \u001b[39m1.0      \u001b[39m | \u001b[39m0.0      \u001b[39m |\n",
      "| \u001b[39m172      \u001b[39m | \u001b[39m-5682.249\u001b[39m | \u001b[39m32.592119\u001b[39m | \u001b[39m1.0      \u001b[39m | \u001b[39m1.0      \u001b[39m | \u001b[39m3.0      \u001b[39m | \u001b[39m0.5      \u001b[39m | \u001b[39m0.0      \u001b[39m |\n",
      "| \u001b[39m173      \u001b[39m | \u001b[39m-2933.570\u001b[39m | \u001b[39m1.0      \u001b[39m | \u001b[39m0.0      \u001b[39m | \u001b[39m1.0      \u001b[39m | \u001b[39m2.1012666\u001b[39m | \u001b[39m1.0      \u001b[39m | \u001b[39m0.0      \u001b[39m |\n",
      "| \u001b[39m174      \u001b[39m | \u001b[39m-3188.477\u001b[39m | \u001b[39m24.605075\u001b[39m | \u001b[39m1.0      \u001b[39m | \u001b[39m0.0      \u001b[39m | \u001b[39m1.0      \u001b[39m | \u001b[39m0.5      \u001b[39m | \u001b[39m0.0      \u001b[39m |\n",
      "| \u001b[39m175      \u001b[39m | \u001b[39m-3188.477\u001b[39m | \u001b[39m24.123808\u001b[39m | \u001b[39m0.0      \u001b[39m | \u001b[39m0.0      \u001b[39m | \u001b[39m3.0      \u001b[39m | \u001b[39m0.5      \u001b[39m | \u001b[39m0.0      \u001b[39m |\n",
      "| \u001b[39m176      \u001b[39m | \u001b[39m-3188.477\u001b[39m | \u001b[39m12.355921\u001b[39m | \u001b[39m0.0      \u001b[39m | \u001b[39m0.0      \u001b[39m | \u001b[39m3.0      \u001b[39m | \u001b[39m0.5      \u001b[39m | \u001b[39m0.0      \u001b[39m |\n",
      "| \u001b[39m177      \u001b[39m | \u001b[39m-3188.477\u001b[39m | \u001b[39m14.292660\u001b[39m | \u001b[39m1.0      \u001b[39m | \u001b[39m0.0      \u001b[39m | \u001b[39m1.9453355\u001b[39m | \u001b[39m1.0      \u001b[39m | \u001b[39m0.0      \u001b[39m |\n",
      "| \u001b[39m178      \u001b[39m | \u001b[39m-3188.477\u001b[39m | \u001b[39m14.408772\u001b[39m | \u001b[39m0.0      \u001b[39m | \u001b[39m0.0      \u001b[39m | \u001b[39m3.0      \u001b[39m | \u001b[39m0.5      \u001b[39m | \u001b[39m0.0      \u001b[39m |\n",
      "| \u001b[39m179      \u001b[39m | \u001b[39m-3188.477\u001b[39m | \u001b[39m15.534663\u001b[39m | \u001b[39m0.0      \u001b[39m | \u001b[39m0.0      \u001b[39m | \u001b[39m1.0      \u001b[39m | \u001b[39m0.5      \u001b[39m | \u001b[39m0.1      \u001b[39m |\n",
      "| \u001b[39m180      \u001b[39m | \u001b[39m-3188.477\u001b[39m | \u001b[39m21.214330\u001b[39m | \u001b[39m1.0      \u001b[39m | \u001b[39m0.0      \u001b[39m | \u001b[39m1.7782197\u001b[39m | \u001b[39m0.5      \u001b[39m | \u001b[39m0.1      \u001b[39m |\n",
      "| \u001b[39m181      \u001b[39m | \u001b[39m-3188.477\u001b[39m | \u001b[39m9.5446430\u001b[39m | \u001b[39m1.0      \u001b[39m | \u001b[39m0.0      \u001b[39m | \u001b[39m2.5892252\u001b[39m | \u001b[39m0.5      \u001b[39m | \u001b[39m0.0      \u001b[39m |\n",
      "| \u001b[39m182      \u001b[39m | \u001b[39m-8408.810\u001b[39m | \u001b[39m14.803735\u001b[39m | \u001b[39m0.0      \u001b[39m | \u001b[39m1.0      \u001b[39m | \u001b[39m1.0      \u001b[39m | \u001b[39m0.5      \u001b[39m | \u001b[39m0.0      \u001b[39m |\n",
      "| \u001b[39m183      \u001b[39m | \u001b[39m-3188.477\u001b[39m | \u001b[39m16.208223\u001b[39m | \u001b[39m1.0      \u001b[39m | \u001b[39m0.0      \u001b[39m | \u001b[39m1.0      \u001b[39m | \u001b[39m0.5      \u001b[39m | \u001b[39m0.1      \u001b[39m |\n",
      "| \u001b[39m184      \u001b[39m | \u001b[39m-8408.810\u001b[39m | \u001b[39m9.6026935\u001b[39m | \u001b[39m0.0      \u001b[39m | \u001b[39m1.0      \u001b[39m | \u001b[39m1.0      \u001b[39m | \u001b[39m1.0      \u001b[39m | \u001b[39m0.1      \u001b[39m |\n",
      "| \u001b[39m185      \u001b[39m | \u001b[39m-3188.477\u001b[39m | \u001b[39m9.1157149\u001b[39m | \u001b[39m1.0      \u001b[39m | \u001b[39m0.0      \u001b[39m | \u001b[39m1.0      \u001b[39m | \u001b[39m0.5      \u001b[39m | \u001b[39m0.0      \u001b[39m |\n",
      "| \u001b[39m186      \u001b[39m | \u001b[39m-3188.477\u001b[39m | \u001b[39m7.5702941\u001b[39m | \u001b[39m0.0      \u001b[39m | \u001b[39m0.0      \u001b[39m | \u001b[39m1.0      \u001b[39m | \u001b[39m0.5      \u001b[39m | \u001b[39m0.0      \u001b[39m |\n",
      "| \u001b[39m187      \u001b[39m | \u001b[39m-3188.477\u001b[39m | \u001b[39m3.7517758\u001b[39m | \u001b[39m0.0      \u001b[39m | \u001b[39m0.0      \u001b[39m | \u001b[39m1.0      \u001b[39m | \u001b[39m1.0      \u001b[39m | \u001b[39m0.0      \u001b[39m |\n",
      "| \u001b[39m188      \u001b[39m | \u001b[39m-2557.175\u001b[39m | \u001b[39m15.870365\u001b[39m | \u001b[39m1.0      \u001b[39m | \u001b[39m0.0      \u001b[39m | \u001b[39m2.0733908\u001b[39m | \u001b[39m1.0      \u001b[39m | \u001b[39m0.1      \u001b[39m |\n",
      "| \u001b[39m189      \u001b[39m | \u001b[39m-3032.317\u001b[39m | \u001b[39m6.1750770\u001b[39m | \u001b[39m1.0      \u001b[39m | \u001b[39m1.0      \u001b[39m | \u001b[39m3.0      \u001b[39m | \u001b[39m0.5      \u001b[39m | \u001b[39m0.1      \u001b[39m |\n",
      "| \u001b[39m190      \u001b[39m | \u001b[39m-3188.477\u001b[39m | \u001b[39m13.395699\u001b[39m | \u001b[39m1.0      \u001b[39m | \u001b[39m0.0      \u001b[39m | \u001b[39m1.8572977\u001b[39m | \u001b[39m0.5      \u001b[39m | \u001b[39m0.1      \u001b[39m |\n",
      "| \u001b[39m191      \u001b[39m | \u001b[39m-2744.563\u001b[39m | \u001b[39m5.4034905\u001b[39m | \u001b[39m1.0      \u001b[39m | \u001b[39m1.0      \u001b[39m | \u001b[39m2.0920844\u001b[39m | \u001b[39m1.0      \u001b[39m | \u001b[39m0.1      \u001b[39m |\n",
      "| \u001b[39m192      \u001b[39m | \u001b[39m-6036.144\u001b[39m | \u001b[39m38.803748\u001b[39m | \u001b[39m1.0      \u001b[39m | \u001b[39m1.0      \u001b[39m | \u001b[39m1.0      \u001b[39m | \u001b[39m1.0      \u001b[39m | \u001b[39m0.0      \u001b[39m |\n",
      "=================================================================================================\n",
      "Optimal parameters for 2 players and threshold 0.5:\n",
      "{'inverse_temperature': np.float64(13.880491733085599), 'bias': np.float64(0.8781174363909454), 'learning_rate': np.float64(0.027387593197926163), 'len_history': np.float64(2.3409350203568042), 'c': np.float64(0.7086524011835635), 'delta': np.float64(0.05586898284457517)}\n",
      "Deviance: -2219.0469339337315\n",
      "AIC: 4450.093867867463\n",
      "--------------------------------------------------\n"
     ]
    }
   ],
   "source": [
    "hyperparameters = {\n",
    "    'n_iter': 128,\n",
    "    'init_points': 64,\n",
    "}\n",
    "\n",
    "ParameterFit.run(\n",
    "    data=data,\n",
    "    model_list=my_models,\n",
    "    best_fit_path=best_fit_file_2P,\n",
    "    optimizer_type='bayesian',\n",
    "    hyperparameters=hyperparameters,\n",
    "    new_file=False\n",
    ")"
   ]
  },
  {
   "cell_type": "code",
   "execution_count": 45,
   "metadata": {},
   "outputs": [
    {
     "data": {
      "application/vnd.jupyter.widget-view+json": {
       "model_id": "0a79c7c02ceb4072af6b738800fbec8e",
       "version_major": 2,
       "version_minor": 0
      },
      "text/plain": [
       "Fitting models...:   0%|          | 0/1 [00:00<?, ?it/s]"
      ]
     },
     "metadata": {},
     "output_type": "display_data"
    },
    {
     "name": "stdout",
     "output_type": "stream",
     "text": [
      "Fitting data to model FRA+Payoff+Attendance...\n",
      "Creating parameter recovery class...\n",
      "Running optimizer...\n",
      "Finding deviance for 2 players and threshold 0.5...\n",
      "Optimal parameters for 2 players and threshold 0.5:\n",
      "{'inverse_temperature': np.float64(5.939632216877658), 'bias': np.float64(0.790865723560385), 'learning_rate': np.float64(0.18051230480334346), 'len_history': np.float64(2.8265064258992583), 'c': np.float64(0.8006637357861819), 'delta': np.float64(0.1)}\n",
      "Deviance: -2181.1225488549694\n",
      "AIC: 4374.245097709939\n",
      "--------------------------------------------------\n"
     ]
    }
   ],
   "source": [
    "ParameterFit.run(\n",
    "    data=data,\n",
    "    model_list=my_models,\n",
    "    best_fit_path=best_fit_file_2P,\n",
    "    optimizer_type='scipy',\n",
    "    hyperparameters={},\n",
    "    new_file=False\n",
    ")"
   ]
  },
  {
   "cell_type": "markdown",
   "metadata": {},
   "source": [
    "{'inverse_temperature': np.float64(5.939793200426039), 'bias': np.float64(0.7908615558239465), 'learning_rate': np.float64(0.18051110357718222), 'len_history': np.float64(2.4724091615619512), 'c': np.float64(1.0), 'delta': np.float64(0.1)}\n",
    "Deviance: -2181.1293794903972\n",
    "AIC: 4374.2587589807945"
   ]
  },
  {
   "cell_type": "code",
   "execution_count": null,
   "metadata": {},
   "outputs": [
    {
     "data": {
      "text/plain": [
       "np.float64(2226.7871212191335)"
      ]
     },
     "execution_count": 46,
     "metadata": {},
     "output_type": "execute_result"
    }
   ],
   "source": [
    "from Classes.parameter_recovery import GetDeviance\n",
    "\n",
    "free_parameters = {\n",
    "    'inverse_temperature': 6, \n",
    "    'bias': 0.79, \n",
    "    'learning_rate': 0.18, \n",
    "    'len_history': 2, \n",
    "    'c': 0.1, \n",
    "    'delta': 0.1\n",
    "}\n",
    "g_dev = GetDeviance(\n",
    "    model=FRAplus,\n",
    "    free_parameters=free_parameters,\n",
    "    data=data\n",
    ")\n",
    "\n",
    "g_dev.get_deviance_from_data(free_parameters)"
   ]
  },
  {
   "cell_type": "markdown",
   "metadata": {},
   "source": [
    "---"
   ]
  }
 ],
 "metadata": {
  "kernelspec": {
   "display_name": "Python 3 (ipykernel)",
   "language": "python",
   "name": "python3"
  },
  "language_info": {
   "codemirror_mode": {
    "name": "ipython",
    "version": 3
   },
   "file_extension": ".py",
   "mimetype": "text/x-python",
   "name": "python",
   "nbconvert_exporter": "python",
   "pygments_lexer": "ipython3",
   "version": "3.13.3"
  }
 },
 "nbformat": 4,
 "nbformat_minor": 2
}
