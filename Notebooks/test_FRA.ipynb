{
 "cells": [
  {
   "cell_type": "code",
   "execution_count": 1,
   "metadata": {},
   "outputs": [],
   "source": [
    "import numpy as np\n",
    "import pandas as pd\n",
    "\n",
    "from pathlib import Path\n",
    "\n",
    "import sys\n",
    "\n",
    "sys.path.append('../src')\n",
    "\n",
    "import warnings\n",
    "warnings.filterwarnings(\"ignore\")"
   ]
  },
  {
   "cell_type": "markdown",
   "metadata": {},
   "source": [
    "### Test focal region similarity"
   ]
  },
  {
   "cell_type": "code",
   "execution_count": 2,
   "metadata": {},
   "outputs": [],
   "source": [
    "from Classes.experimental import FocalRegion"
   ]
  },
  {
   "cell_type": "code",
   "execution_count": 3,
   "metadata": {},
   "outputs": [
    {
     "name": "stdout",
     "output_type": "stream",
     "text": [
      "History:\n",
      " [[1 0]\n",
      " [0 1]]\n",
      "------------------------------------------------------------\n",
      "Cicle from column 0:\n",
      "[[1 0]\n",
      " [0 1]]\n",
      "Similarity score: 1.0\n",
      "Cicle from column 1:\n",
      "[[0 1]\n",
      " [1 0]]\n",
      "Similarity score: 0.0\n",
      "Scores:\n",
      " [np.float64(1.0), np.float64(0.0)]\n",
      "------------------------------------------------------------\n"
     ]
    }
   ],
   "source": [
    "region = np.array([[1, 0], [0, 1]])\n",
    "fra = FocalRegion(region)\n",
    "fra.debug = True\n",
    "\n",
    "history = np.array([[1, 0], [0, 1]])\n",
    "print('History:\\n', history)\n",
    "print('-'*60)\n",
    "scores = fra.get_similarity_scores(history)\n",
    "print('Scores:\\n', scores)\n",
    "print('-'*60)"
   ]
  },
  {
   "cell_type": "markdown",
   "metadata": {},
   "source": [
    "### Test FRA agents"
   ]
  },
  {
   "cell_type": "code",
   "execution_count": 4,
   "metadata": {},
   "outputs": [],
   "source": [
    "from Classes.bar import Bar\n",
    "from Utils.interaction import Episode\n",
    "from Classes.experimental import FocalRegionAgent, SetFocalRegions"
   ]
  },
  {
   "cell_type": "code",
   "execution_count": 5,
   "metadata": {},
   "outputs": [],
   "source": [
    "free_parameters = {\n",
    "    'inverse_temperature': 10,\n",
    "    'len_history': 2,\n",
    "    'max_regions': 5\n",
    "}\n",
    "fixed_parameters = {\n",
    "    'num_agents': 7,\n",
    "    'threshold': 0.7,\n",
    "}\n",
    "n = 1"
   ]
  },
  {
   "cell_type": "code",
   "execution_count": 6,
   "metadata": {},
   "outputs": [],
   "source": [
    "# Create the environment\n",
    "bar = Bar(\n",
    "    num_agents=fixed_parameters['num_agents'],\n",
    "    threshold=fixed_parameters['threshold']\n",
    ")\n",
    "# Create the agents\n",
    "agents = [FocalRegionAgent(free_parameters, fixed_parameters, n) for n in range(fixed_parameters['num_agents'])]\n",
    "# Create the episode\n",
    "episode = Episode(\n",
    "    model='FRA',\n",
    "    agents=agents,\n",
    "    environment=bar,\n",
    "    num_rounds=20\n",
    ")"
   ]
  },
  {
   "cell_type": "code",
   "execution_count": 7,
   "metadata": {},
   "outputs": [
    {
     "name": "stdout",
     "output_type": "stream",
     "text": [
      "Focal regions:\n",
      "------------------------------------------------------------\n",
      "[[0. 0. 0. 1. 1. 1. 1.]\n",
      " [0. 0. 1. 1. 1. 1. 0.]\n",
      " [0. 1. 1. 1. 1. 0. 0.]\n",
      " [1. 1. 1. 1. 0. 0. 0.]\n",
      " [1. 1. 1. 0. 0. 0. 1.]\n",
      " [1. 1. 0. 0. 0. 1. 1.]\n",
      " [1. 0. 0. 0. 1. 1. 1.]]\n",
      "------------------------------------------------------------------------------------------------------------------------\n",
      "[[0. 0. 0. 1. 1. 1. 1.]\n",
      " [0. 0. 1. 1. 1. 0. 1.]\n",
      " [0. 1. 1. 1. 1. 0. 0.]\n",
      " [1. 1. 1. 1. 0. 0. 0.]\n",
      " [1. 1. 1. 0. 0. 1. 0.]\n",
      " [1. 1. 0. 0. 0. 1. 1.]\n",
      " [1. 0. 0. 0. 1. 1. 1.]]\n",
      "------------------------------------------------------------------------------------------------------------------------\n",
      "[[0. 0. 0. 1. 1. 1. 1.]\n",
      " [0. 0. 1. 1. 1. 1. 0.]\n",
      " [0. 1. 1. 1. 0. 1. 0.]\n",
      " [1. 1. 1. 1. 0. 0. 0.]\n",
      " [1. 1. 1. 0. 0. 0. 1.]\n",
      " [1. 1. 0. 0. 1. 0. 1.]\n",
      " [1. 0. 0. 0. 1. 1. 1.]]\n",
      "------------------------------------------------------------------------------------------------------------------------\n",
      "[[0. 0. 0. 1. 1. 1. 1.]\n",
      " [0. 0. 1. 1. 1. 0. 1.]\n",
      " [0. 1. 1. 1. 0. 0. 1.]\n",
      " [1. 1. 1. 1. 0. 0. 0.]\n",
      " [1. 1. 1. 0. 0. 1. 0.]\n",
      " [1. 1. 0. 0. 1. 1. 0.]\n",
      " [1. 0. 0. 0. 1. 1. 1.]]\n",
      "------------------------------------------------------------------------------------------------------------------------\n",
      "[[0. 0. 0. 1. 1. 1. 1.]\n",
      " [0. 0. 1. 1. 0. 1. 1.]\n",
      " [0. 1. 1. 1. 0. 1. 0.]\n",
      " [1. 1. 1. 1. 0. 0. 0.]\n",
      " [1. 1. 1. 0. 1. 0. 0.]\n",
      " [1. 1. 0. 0. 1. 0. 1.]\n",
      " [1. 0. 0. 0. 1. 1. 1.]]\n",
      "------------------------------------------------------------\n"
     ]
    }
   ],
   "source": [
    "print('Focal regions:')\n",
    "print(episode.agents[0].sfr)"
   ]
  },
  {
   "cell_type": "code",
   "execution_count": 8,
   "metadata": {},
   "outputs": [],
   "source": [
    "# episode.agents[0].debug = True\n",
    "# episode.agents[1].debug = True\n",
    "episode.run()"
   ]
  },
  {
   "cell_type": "code",
   "execution_count": 9,
   "metadata": {},
   "outputs": [
    {
     "data": {
      "text/plain": [
       "<Axes: >"
      ]
     },
     "execution_count": 9,
     "metadata": {},
     "output_type": "execute_result"
    },
    {
     "data": {
      "image/png": "[encoded data removed]",
      "text/plain": [
       "<Figure size 750x700 with 1 Axes>"
      ]
     },
     "metadata": {},
     "output_type": "display_data"
    }
   ],
   "source": [
    "bar.render()"
   ]
  },
  {
   "cell_type": "markdown",
   "metadata": {},
   "source": [
    "# Test parameter fit"
   ]
  },
  {
   "cell_type": "code",
   "execution_count": 10,
   "metadata": {},
   "outputs": [],
   "source": [
    "from Classes.parameter_recovery import ParameterFit"
   ]
  },
  {
   "cell_type": "code",
   "execution_count": 11,
   "metadata": {},
   "outputs": [],
   "source": [
    "# Create paths for data and results\n",
    "data_folder = Path('..', 'data', 'human')\n",
    "folder_2P = Path('..', 'reports', 'MLE')\n",
    "folder_2P.mkdir(parents=True, exist_ok=True)\n",
    "\n",
    "file_name = f'best_fit_2P_3.json'\n",
    "best_fit_file_2P = Path(folder_2P, file_name)"
   ]
  },
  {
   "cell_type": "code",
   "execution_count": 12,
   "metadata": {},
   "outputs": [
    {
     "name": "stdout",
     "output_type": "stream",
     "text": [
      "Loading data from ..\\data\\human\\2-player-UR.csv...\n"
     ]
    },
    {
     "data": {
      "text/html": [
       "<div>\n",
       "<style scoped>\n",
       "    .dataframe tbody tr th:only-of-type {\n",
       "        vertical-align: middle;\n",
       "    }\n",
       "\n",
       "    .dataframe tbody tr th {\n",
       "        vertical-align: top;\n",
       "    }\n",
       "\n",
       "    .dataframe thead th {\n",
       "        text-align: right;\n",
       "    }\n",
       "</style>\n",
       "<table border=\"1\" class=\"dataframe\">\n",
       "  <thead>\n",
       "    <tr style=\"text-align: right;\">\n",
       "      <th></th>\n",
       "      <th>source</th>\n",
       "      <th>treatment</th>\n",
       "      <th>group</th>\n",
       "      <th>round</th>\n",
       "      <th>player</th>\n",
       "      <th>choice</th>\n",
       "      <th>score</th>\n",
       "      <th>attendance</th>\n",
       "      <th>ac_score</th>\n",
       "      <th>threshold</th>\n",
       "      <th>num_players</th>\n",
       "      <th>room</th>\n",
       "      <th>decision</th>\n",
       "    </tr>\n",
       "  </thead>\n",
       "  <tbody>\n",
       "    <tr>\n",
       "      <th>0</th>\n",
       "      <td>human</td>\n",
       "      <td>score + grid</td>\n",
       "      <td>Grupo-0001</td>\n",
       "      <td>1</td>\n",
       "      <td>405186428721292</td>\n",
       "      <td>0</td>\n",
       "      <td>0</td>\n",
       "      <td>1</td>\n",
       "      <td>25</td>\n",
       "      <td>0.5</td>\n",
       "      <td>2</td>\n",
       "      <td>Grupo-0001</td>\n",
       "      <td>0</td>\n",
       "    </tr>\n",
       "    <tr>\n",
       "      <th>1</th>\n",
       "      <td>human</td>\n",
       "      <td>score + grid</td>\n",
       "      <td>Grupo-0001</td>\n",
       "      <td>1</td>\n",
       "      <td>728608683559397</td>\n",
       "      <td>1</td>\n",
       "      <td>1</td>\n",
       "      <td>1</td>\n",
       "      <td>25</td>\n",
       "      <td>0.5</td>\n",
       "      <td>2</td>\n",
       "      <td>Grupo-0001</td>\n",
       "      <td>1</td>\n",
       "    </tr>\n",
       "  </tbody>\n",
       "</table>\n",
       "</div>"
      ],
      "text/plain": [
       "  source     treatment       group  round           player  choice  score  \\\n",
       "0  human  score + grid  Grupo-0001      1  405186428721292       0      0   \n",
       "1  human  score + grid  Grupo-0001      1  728608683559397       1      1   \n",
       "\n",
       "   attendance  ac_score  threshold  num_players        room  decision  \n",
       "0           1        25        0.5            2  Grupo-0001         0  \n",
       "1           1        25        0.5            2  Grupo-0001         1  "
      ]
     },
     "execution_count": 12,
     "metadata": {},
     "output_type": "execute_result"
    }
   ],
   "source": [
    "#Load 2P data\n",
    "\n",
    "file_name = '2-player-UR.csv'\n",
    "file = data_folder / Path(file_name)\n",
    "print(f'Loading data from {file}...')\n",
    "data = pd.read_csv(file)\n",
    "data.head(2)"
   ]
  },
  {
   "cell_type": "code",
   "execution_count": 13,
   "metadata": {},
   "outputs": [
    {
     "name": "stderr",
     "output_type": "stream",
     "text": [
      "Fitting models...:   0%|          | 0/1 [00:00<?, ?it/s]"
     ]
    },
    {
     "name": "stdout",
     "output_type": "stream",
     "text": [
      "Fitting data to model FRA...\n",
      "Creating parameter recovery class...\n",
      "Running bayesian optimizer...\n",
      "Finding deviance for 2 players and threshold 0.5...\n",
      "|   iter    |  target   | invers... | len_hi... | max_re... |\n",
      "-------------------------------------------------------------\n",
      "| \u001b[39m1        \u001b[39m | \u001b[39m-12334.67\u001b[39m | \u001b[39m27.272386\u001b[39m | \u001b[39m1.7203244\u001b[39m | \u001b[39m1.0010293\u001b[39m |\n",
      "| \u001b[39m2        \u001b[39m | \u001b[39m-12334.67\u001b[39m | \u001b[39m20.046952\u001b[39m | \u001b[39m1.1467558\u001b[39m | \u001b[39m1.8310473\u001b[39m |\n",
      "| \u001b[35m3        \u001b[39m | \u001b[35m-11960.16\u001b[39m | \u001b[35m12.734393\u001b[39m | \u001b[35m1.3455607\u001b[39m | \u001b[35m4.5709072\u001b[39m |\n",
      "| \u001b[39m4        \u001b[39m | \u001b[39m-12334.67\u001b[39m | \u001b[39m34.945454\u001b[39m | \u001b[39m1.4191945\u001b[39m | \u001b[39m7.1669755\u001b[39m |\n",
      "| \u001b[39m5        \u001b[39m | \u001b[39m-12334.67\u001b[39m | \u001b[39m13.880491\u001b[39m | \u001b[39m1.8781174\u001b[39m | \u001b[39m1.2464883\u001b[39m |\n",
      "| \u001b[39m6        \u001b[39m | \u001b[39m-12334.67\u001b[39m | \u001b[39m43.239453\u001b[39m | \u001b[39m1.4173048\u001b[39m | \u001b[39m6.0282084\u001b[39m |\n",
      "| \u001b[35m7        \u001b[39m | \u001b[35m-10962.37\u001b[39m | \u001b[35m9.8443771\u001b[39m | \u001b[35m1.1981014\u001b[39m | \u001b[35m8.2067011\u001b[39m |\n",
      "| \u001b[39m8        \u001b[39m | \u001b[39m-12334.67\u001b[39m | \u001b[39m62.000479\u001b[39m | \u001b[39m1.3134241\u001b[39m | \u001b[39m7.2309035\u001b[39m |\n",
      "| \u001b[35m9        \u001b[39m | \u001b[35m-10216.40\u001b[39m | \u001b[35m7.6414502\u001b[39m | \u001b[35m1.0      \u001b[39m | \u001b[35m10.0     \u001b[39m |\n",
      "| \u001b[35m10       \u001b[39m | \u001b[35m-3134.240\u001b[39m | \u001b[35m1.0      \u001b[39m | \u001b[35m1.0      \u001b[39m | \u001b[35m10.0     \u001b[39m |\n",
      "| \u001b[35m11       \u001b[39m | \u001b[35m-2875.510\u001b[39m | \u001b[35m1.0      \u001b[39m | \u001b[35m2.0      \u001b[39m | \u001b[35m5.9629482\u001b[39m |\n",
      "| \u001b[39m12       \u001b[39m | \u001b[39m-3134.240\u001b[39m | \u001b[39m1.0      \u001b[39m | \u001b[39m1.0      \u001b[39m | \u001b[39m1.0      \u001b[39m |\n",
      "| \u001b[39m13       \u001b[39m | \u001b[39m-3134.240\u001b[39m | \u001b[39m1.0      \u001b[39m | \u001b[39m1.0      \u001b[39m | \u001b[39m5.2125627\u001b[39m |\n",
      "| \u001b[39m14       \u001b[39m | \u001b[39m-2875.510\u001b[39m | \u001b[39m1.0      \u001b[39m | \u001b[39m2.0      \u001b[39m | \u001b[39m2.5407289\u001b[39m |\n",
      "| \u001b[39m15       \u001b[39m | \u001b[39m-2875.510\u001b[39m | \u001b[39m1.0      \u001b[39m | \u001b[39m2.0      \u001b[39m | \u001b[39m10.0     \u001b[39m |\n",
      "| \u001b[39m16       \u001b[39m | \u001b[39m-2875.510\u001b[39m | \u001b[39m1.0      \u001b[39m | \u001b[39m2.0      \u001b[39m | \u001b[39m8.2959515\u001b[39m |\n",
      "| \u001b[39m17       \u001b[39m | \u001b[39m-2875.510\u001b[39m | \u001b[39m1.0      \u001b[39m | \u001b[39m2.0      \u001b[39m | \u001b[39m1.0      \u001b[39m |\n",
      "| \u001b[39m18       \u001b[39m | \u001b[39m-2875.510\u001b[39m | \u001b[39m1.0      \u001b[39m | \u001b[39m2.0      \u001b[39m | \u001b[39m4.2772020\u001b[39m |\n",
      "| \u001b[39m19       \u001b[39m | \u001b[39m-2875.510\u001b[39m | \u001b[39m1.0      \u001b[39m | \u001b[39m2.0      \u001b[39m | \u001b[39m9.2506171\u001b[39m |\n",
      "| \u001b[39m20       \u001b[39m | \u001b[39m-2875.510\u001b[39m | \u001b[39m1.0      \u001b[39m | \u001b[39m2.0      \u001b[39m | \u001b[39m7.1063280\u001b[39m |\n",
      "| \u001b[39m21       \u001b[39m | \u001b[39m-2875.510\u001b[39m | \u001b[39m1.0      \u001b[39m | \u001b[39m2.0      \u001b[39m | \u001b[39m3.4041046\u001b[39m |\n",
      "| \u001b[39m22       \u001b[39m | \u001b[39m-2875.510\u001b[39m | \u001b[39m1.0      \u001b[39m | \u001b[39m2.0      \u001b[39m | \u001b[39m5.1123854\u001b[39m |\n",
      "| \u001b[39m23       \u001b[39m | \u001b[39m-2875.510\u001b[39m | \u001b[39m1.0      \u001b[39m | \u001b[39m2.0      \u001b[39m | \u001b[39m5.1123854\u001b[39m |\n"
     ]
    },
    {
     "name": "stderr",
     "output_type": "stream",
     "text": [
      "Fitting models...: 100%|██████████| 1/1 [00:30<00:00, 30.26s/it]"
     ]
    },
    {
     "name": "stdout",
     "output_type": "stream",
     "text": [
      "| \u001b[39m24       \u001b[39m | \u001b[39m-2875.510\u001b[39m | \u001b[39m1.0      \u001b[39m | \u001b[39m2.0      \u001b[39m | \u001b[39m7.6809372\u001b[39m |\n",
      "=============================================================\n",
      "Optimal parameters for 2 players and threshold 0.5:\n",
      "{'inverse_temperature': np.float64(1.0), 'len_history': np.float64(2.0), 'max_regions': np.float64(5.962948231613764)}\n",
      "Deviance: -2875.51008473207\n",
      "AIC: 5757.02016946414\n",
      "--------------------------------------------------\n"
     ]
    },
    {
     "name": "stderr",
     "output_type": "stream",
     "text": [
      "\n"
     ]
    }
   ],
   "source": [
    "# check_out_these = ['Attendance-M2', 'MFP-M2', 'Payoff-M2']\n",
    "my_models = [FocalRegionAgent]\n",
    "\n",
    "ParameterFit.run(\n",
    "    data=data,\n",
    "    model_list=my_models,\n",
    "    best_fit_path=best_fit_file_2P,\n",
    "    new_file=False\n",
    ")"
   ]
  },
  {
   "cell_type": "markdown",
   "metadata": {},
   "source": []
  }
 ],
 "metadata": {
  "kernelspec": {
   "display_name": "venv",
   "language": "python",
   "name": "python3"
  },
  "language_info": {
   "codemirror_mode": {
    "name": "ipython",
    "version": 3
   },
   "file_extension": ".py",
   "mimetype": "text/x-python",
   "name": "python",
   "nbconvert_exporter": "python",
   "pygments_lexer": "ipython3",
   "version": "3.13.5"
  }
 },
 "nbformat": 4,
 "nbformat_minor": 2
}
