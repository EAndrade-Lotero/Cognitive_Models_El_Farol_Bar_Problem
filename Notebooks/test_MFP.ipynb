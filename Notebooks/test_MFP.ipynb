{
 "cells": [
  {
   "cell_type": "markdown",
   "metadata": {},
   "source": [
    "# Markov Fictitious Play"
   ]
  },
  {
   "cell_type": "code",
   "execution_count": 1,
   "metadata": {},
   "outputs": [],
   "source": [
    "import sys\n",
    "sys.path.append(\"../src\")\n",
    "\n",
    "import warnings\n",
    "warnings.filterwarnings(\"ignore\")"
   ]
  },
  {
   "cell_type": "code",
   "execution_count": 2,
   "metadata": {},
   "outputs": [],
   "source": [
    "from Classes.cognitive_model_agents import MFPM1, MFPM2, MFPM3\n",
    "from Utils.unit_tests import (\n",
    "    test_bar_is_full, \n",
    "    test_bar_has_capacity,\n",
    "    test_alternation\n",
    ")"
   ]
  },
  {
   "cell_type": "code",
   "execution_count": 3,
   "metadata": {},
   "outputs": [],
   "source": [
    "fixed_parameters = {\n",
    "\t\"threshold\":0.5,\n",
    "\t\"num_agents\":2,\n",
    "}\n",
    "free_parameters = {\n",
    "    \"bias\":1,\n",
    "\t\"inverse_temperature\":16\n",
    "}"
   ]
  },
  {
   "cell_type": "code",
   "execution_count": 4,
   "metadata": {},
   "outputs": [],
   "source": [
    "from pathlib import Path\n",
    "\n",
    "image_folder_all = Path('../images/MFP')\n",
    "image_folder_all.mkdir(parents=True, exist_ok=True)\n",
    "image_folder_M1 = Path('../images/MFP/M1')\n",
    "image_folder_M1.mkdir(parents=True, exist_ok=True)\n",
    "image_folder_M2 = Path('../images/MFP/M2')\n",
    "image_folder_M2.mkdir(parents=True, exist_ok=True)\n",
    "image_folder_M3 = Path('../images/MFP/M3')\n",
    "image_folder_M3.mkdir(parents=True, exist_ok=True)"
   ]
  },
  {
   "cell_type": "markdown",
   "metadata": {},
   "source": [
    "1. [M1](#m1)\n",
    "2. [M2](#m2)\n",
    "3. [M3](#m3)"
   ]
  },
  {
   "cell_type": "markdown",
   "metadata": {},
   "source": [
    "## M1 <a class=\"anchor\" id=\"m1\"></a>"
   ]
  },
  {
   "cell_type": "code",
   "execution_count": 8,
   "metadata": {},
   "outputs": [
    {
     "name": "stdout",
     "output_type": "stream",
     "text": [
      "\n",
      "------------------------------------------------------------\n",
      "Test bar has capacity\n",
      "------------------------------------------------------------\n",
      "Initial state: [0, 0]\n",
      "---------- Round 0 ----------\n",
      "prob_capacity=0.5 --- prob_crowded=0.5\n",
      "Expected utilities:\n",
      "no go:0 ---- go:0.0\n",
      "Action preferences in state (0, 0): [0, 0.0]\n",
      "prob_capacity=0.5 --- prob_crowded=0.5\n",
      "Expected utilities:\n",
      "no go:0 ---- go:0.0\n",
      "Action probabilities:\n",
      "no go:0.5 ---- go:0.5\n",
      "Chosen action: 0\n",
      "State arrived: [0, 0]\n",
      "Payoff action 0: 0\n",
      "I see the previous state: 0\n",
      "I recall the following frequencies of states:\n",
      "+---+\n",
      "| 0 |\n",
      "+---+\n",
      "| 1 |\n",
      "+---+\n",
      "I recall the following frequencies of bar with capacity:\n",
      "+---+\n",
      "| 0 |\n",
      "+---+\n",
      "| 1 |\n",
      "+---+\n",
      "---------- Round 1 ----------\n",
      "prob_capacity=0.6666666666666666 --- prob_crowded=0.33333333333333337\n",
      "Expected utilities:\n",
      "no go:0 ---- go:0.33333333333333326\n",
      "Action preferences in state [0, 0]: [0, 0.33333333333333326]\n",
      "prob_capacity=0.6666666666666666 --- prob_crowded=0.33333333333333337\n",
      "Expected utilities:\n",
      "no go:0 ---- go:0.33333333333333326\n",
      "Action probabilities:\n",
      "no go:0.004804752887159521 ---- go:0.9951952471128405\n",
      "Chosen action: 1\n",
      "State arrived: [1, 0]\n",
      "Payoff action 1: 1\n",
      "I see the previous state: 0\n",
      "I recall the following frequencies of states:\n",
      "+---+\n",
      "| 0 |\n",
      "+---+\n",
      "| 2 |\n",
      "+---+\n",
      "I recall the following frequencies of bar with capacity:\n",
      "+---+\n",
      "| 0 |\n",
      "+---+\n",
      "| 2 |\n",
      "+---+\n",
      "---------- Round 2 ----------\n",
      "prob_capacity=0.75 --- prob_crowded=0.25\n",
      "Expected utilities:\n",
      "no go:0 ---- go:0.5\n",
      "Action preferences in state [1, 0]: [0, 0.5]\n",
      "prob_capacity=0.75 --- prob_crowded=0.25\n",
      "Expected utilities:\n",
      "no go:0 ---- go:0.5\n",
      "Action probabilities:\n",
      "no go:0.0003353501304664781 ---- go:0.9996646498695335\n",
      "Chosen action: 1\n",
      "State arrived: [1, 0]\n",
      "Payoff action 1: 1\n",
      "I see the previous state: 0\n",
      "I recall the following frequencies of states:\n",
      "+---+\n",
      "| 0 |\n",
      "+---+\n",
      "| 3 |\n",
      "+---+\n",
      "I recall the following frequencies of bar with capacity:\n",
      "+---+\n",
      "| 0 |\n",
      "+---+\n",
      "| 3 |\n",
      "+---+\n",
      "---------- Round 3 ----------\n",
      "prob_capacity=0.8 --- prob_crowded=0.19999999999999996\n",
      "Expected utilities:\n",
      "no go:0 ---- go:0.6000000000000001\n",
      "Action preferences in state [1, 0]: [0, 0.6000000000000001]\n",
      "prob_capacity=0.8 --- prob_crowded=0.19999999999999996\n",
      "Expected utilities:\n",
      "no go:0 ---- go:0.6000000000000001\n",
      "Action probabilities:\n",
      "no go:6.772414961977008e-05 ---- go:0.9999322758503802\n",
      "Chosen action: 1\n",
      "State arrived: [1, 0]\n",
      "Payoff action 1: 1\n",
      "I see the previous state: 0\n",
      "I recall the following frequencies of states:\n",
      "+---+\n",
      "| 0 |\n",
      "+---+\n",
      "| 4 |\n",
      "+---+\n",
      "I recall the following frequencies of bar with capacity:\n",
      "+---+\n",
      "| 0 |\n",
      "+---+\n",
      "| 4 |\n",
      "+---+\n",
      "---------- Round 4 ----------\n",
      "prob_capacity=0.8333333333333334 --- prob_crowded=0.16666666666666663\n",
      "Expected utilities:\n",
      "no go:0 ---- go:0.6666666666666667\n",
      "Action preferences in state [1, 0]: [0, 0.6666666666666667]\n",
      "prob_capacity=0.8333333333333334 --- prob_crowded=0.16666666666666663\n",
      "Expected utilities:\n",
      "no go:0 ---- go:0.6666666666666667\n",
      "Action probabilities:\n",
      "no go:2.330855784140474e-05 ---- go:0.9999766914421586\n",
      "Chosen action: 1\n",
      "State arrived: [1, 0]\n",
      "Payoff action 1: 1\n",
      "I see the previous state: 0\n",
      "I recall the following frequencies of states:\n",
      "+---+\n",
      "| 0 |\n",
      "+---+\n",
      "| 5 |\n",
      "+---+\n",
      "I recall the following frequencies of bar with capacity:\n",
      "+---+\n",
      "| 0 |\n",
      "+---+\n",
      "| 5 |\n",
      "+---+\n",
      "---------- Round 5 ----------\n",
      "prob_capacity=0.8571428571428571 --- prob_crowded=0.1428571428571429\n",
      "Expected utilities:\n",
      "no go:0 ---- go:0.7142857142857142\n",
      "Action preferences in state [1, 0]: [0, 0.7142857142857142]\n",
      "prob_capacity=0.8571428571428571 --- prob_crowded=0.1428571428571429\n",
      "Expected utilities:\n",
      "no go:0 ---- go:0.7142857142857142\n",
      "Action probabilities:\n",
      "no go:1.0880021845800028e-05 ---- go:0.9999891199781543\n",
      "Chosen action: 1\n",
      "State arrived: [1, 0]\n",
      "Payoff action 1: 1\n",
      "I see the previous state: 0\n",
      "I recall the following frequencies of states:\n",
      "+---+\n",
      "| 0 |\n",
      "+---+\n",
      "| 6 |\n",
      "+---+\n",
      "I recall the following frequencies of bar with capacity:\n",
      "+---+\n",
      "| 0 |\n",
      "+---+\n",
      "| 6 |\n",
      "+---+\n",
      "---------- Round 6 ----------\n",
      "prob_capacity=0.875 --- prob_crowded=0.125\n",
      "Expected utilities:\n",
      "no go:0 ---- go:0.75\n",
      "Action preferences in state [1, 0]: [0, 0.75]\n",
      "prob_capacity=0.875 --- prob_crowded=0.125\n",
      "Expected utilities:\n",
      "no go:0 ---- go:0.75\n",
      "Action probabilities:\n",
      "no go:6.144174602214717e-06 ---- go:0.9999938558253978\n",
      "Chosen action: 1\n",
      "State arrived: [1, 0]\n",
      "Payoff action 1: 1\n",
      "I see the previous state: 0\n",
      "I recall the following frequencies of states:\n",
      "+---+\n",
      "| 0 |\n",
      "+---+\n",
      "| 7 |\n",
      "+---+\n",
      "I recall the following frequencies of bar with capacity:\n",
      "+---+\n",
      "| 0 |\n",
      "+---+\n",
      "| 7 |\n",
      "+---+\n",
      "---------- Round 7 ----------\n",
      "prob_capacity=0.8888888888888888 --- prob_crowded=0.11111111111111116\n",
      "Expected utilities:\n",
      "no go:0 ---- go:0.7777777777777777\n",
      "Action preferences in state [1, 0]: [0, 0.7777777777777777]\n",
      "prob_capacity=0.8888888888888888 --- prob_crowded=0.11111111111111116\n",
      "Expected utilities:\n",
      "no go:0 ---- go:0.7777777777777777\n",
      "Action probabilities:\n",
      "no go:3.939532943322164e-06 ---- go:0.9999960604670567\n",
      "Chosen action: 1\n",
      "State arrived: [1, 0]\n",
      "Payoff action 1: 1\n",
      "I see the previous state: 0\n",
      "I recall the following frequencies of states:\n",
      "+---+\n",
      "| 0 |\n",
      "+---+\n",
      "| 8 |\n",
      "+---+\n",
      "I recall the following frequencies of bar with capacity:\n",
      "+---+\n",
      "| 0 |\n",
      "+---+\n",
      "| 8 |\n",
      "+---+\n",
      "---------- Round 8 ----------\n",
      "prob_capacity=0.9 --- prob_crowded=0.09999999999999998\n",
      "Expected utilities:\n",
      "no go:0 ---- go:0.8\n",
      "Action preferences in state [1, 0]: [0, 0.8]\n",
      "prob_capacity=0.9 --- prob_crowded=0.09999999999999998\n",
      "Expected utilities:\n",
      "no go:0 ---- go:0.8\n",
      "Action probabilities:\n",
      "no go:2.7607649501930486e-06 ---- go:0.9999972392350498\n",
      "Chosen action: 1\n",
      "State arrived: [1, 0]\n",
      "Payoff action 1: 1\n",
      "I see the previous state: 0\n",
      "I recall the following frequencies of states:\n",
      "+---+\n",
      "| 0 |\n",
      "+---+\n",
      "| 9 |\n",
      "+---+\n",
      "I recall the following frequencies of bar with capacity:\n",
      "+---+\n",
      "| 0 |\n",
      "+---+\n",
      "| 9 |\n",
      "+---+\n",
      "---------- Round 9 ----------\n",
      "prob_capacity=0.9090909090909091 --- prob_crowded=0.09090909090909094\n",
      "Expected utilities:\n",
      "no go:0 ---- go:0.8181818181818181\n",
      "Action preferences in state [1, 0]: [0, 0.8181818181818181]\n",
      "prob_capacity=0.9090909090909091 --- prob_crowded=0.09090909090909094\n",
      "Expected utilities:\n",
      "no go:0 ---- go:0.8181818181818181\n",
      "Action probabilities:\n",
      "no go:2.06390414083917e-06 ---- go:0.9999979360958591\n",
      "Chosen action: 1\n",
      "State arrived: [1, 0]\n",
      "Payoff action 1: 1\n",
      "I see the previous state: 0\n",
      "I recall the following frequencies of states:\n",
      "+----+\n",
      "| 0  |\n",
      "+----+\n",
      "| 10 |\n",
      "+----+\n",
      "I recall the following frequencies of bar with capacity:\n",
      "+----+\n",
      "| 0  |\n",
      "+----+\n",
      "| 10 |\n",
      "+----+\n"
     ]
    }
   ],
   "source": [
    "agent = MFPM1(\n",
    "\tfixed_parameters=fixed_parameters,\n",
    "\tfree_parameters=free_parameters,\n",
    "\tn=0\n",
    ")\n",
    "agent.debug = True\n",
    "test_bar_has_capacity(agent)"
   ]
  },
  {
   "cell_type": "code",
   "execution_count": 9,
   "metadata": {},
   "outputs": [
    {
     "name": "stdout",
     "output_type": "stream",
     "text": [
      "\n",
      "------------------------------------------------------------\n",
      "Test bar is full\n",
      "------------------------------------------------------------\n",
      "Initial state: [1, 1]\n",
      "---------- Round 0 ----------\n",
      "prob_capacity=0.5 --- prob_crowded=0.5\n",
      "Expected utilities:\n",
      "no go:0 ---- go:0.0\n",
      "Action preferences in state (1, 1): [0, 0.0]\n",
      "prob_capacity=0.5 --- prob_crowded=0.5\n",
      "Expected utilities:\n",
      "no go:0 ---- go:0.0\n",
      "Action probabilities:\n",
      "no go:0.5 ---- go:0.5\n",
      "Chosen action: 1\n",
      "State arrived: [1, 1]\n",
      "Payoff action 1: -1\n",
      "I see the previous state: 0\n",
      "I recall the following frequencies of states:\n",
      "+---+\n",
      "| 0 |\n",
      "+---+\n",
      "| 1 |\n",
      "+---+\n",
      "I recall the following frequencies of bar with capacity:\n",
      "+---+\n",
      "| 0 |\n",
      "+---+\n",
      "| 0 |\n",
      "+---+\n",
      "---------- Round 1 ----------\n",
      "prob_capacity=0.3333333333333333 --- prob_crowded=0.6666666666666667\n",
      "Expected utilities:\n",
      "no go:0 ---- go:-0.3333333333333334\n",
      "Action preferences in state [1, 1]: [0, -0.3333333333333334]\n",
      "prob_capacity=0.3333333333333333 --- prob_crowded=0.6666666666666667\n",
      "Expected utilities:\n",
      "no go:0 ---- go:-0.3333333333333334\n",
      "Action probabilities:\n",
      "no go:0.9951952471128405 ---- go:0.004804752887159509\n",
      "Chosen action: 0\n",
      "State arrived: [0, 1]\n",
      "Payoff action 0: 0\n",
      "I see the previous state: 0\n",
      "I recall the following frequencies of states:\n",
      "+---+\n",
      "| 0 |\n",
      "+---+\n",
      "| 2 |\n",
      "+---+\n",
      "I recall the following frequencies of bar with capacity:\n",
      "+---+\n",
      "| 0 |\n",
      "+---+\n",
      "| 0 |\n",
      "+---+\n",
      "---------- Round 2 ----------\n",
      "prob_capacity=0.25 --- prob_crowded=0.75\n",
      "Expected utilities:\n",
      "no go:0 ---- go:-0.5\n",
      "Action preferences in state [0, 1]: [0, -0.5]\n",
      "prob_capacity=0.25 --- prob_crowded=0.75\n",
      "Expected utilities:\n",
      "no go:0 ---- go:-0.5\n",
      "Action probabilities:\n",
      "no go:0.9996646498695336 ---- go:0.00033535013046647816\n",
      "Chosen action: 0\n",
      "State arrived: [0, 1]\n",
      "Payoff action 0: 0\n",
      "I see the previous state: 0\n",
      "I recall the following frequencies of states:\n",
      "+---+\n",
      "| 0 |\n",
      "+---+\n",
      "| 3 |\n",
      "+---+\n",
      "I recall the following frequencies of bar with capacity:\n",
      "+---+\n",
      "| 0 |\n",
      "+---+\n",
      "| 0 |\n",
      "+---+\n",
      "---------- Round 3 ----------\n",
      "prob_capacity=0.2 --- prob_crowded=0.8\n",
      "Expected utilities:\n",
      "no go:0 ---- go:-0.6000000000000001\n",
      "Action preferences in state [0, 1]: [0, -0.6000000000000001]\n",
      "prob_capacity=0.2 --- prob_crowded=0.8\n",
      "Expected utilities:\n",
      "no go:0 ---- go:-0.6000000000000001\n",
      "Action probabilities:\n",
      "no go:0.9999322758503804 ---- go:6.772414961977012e-05\n",
      "Chosen action: 0\n",
      "State arrived: [0, 1]\n",
      "Payoff action 0: 0\n",
      "I see the previous state: 0\n",
      "I recall the following frequencies of states:\n",
      "+---+\n",
      "| 0 |\n",
      "+---+\n",
      "| 4 |\n",
      "+---+\n",
      "I recall the following frequencies of bar with capacity:\n",
      "+---+\n",
      "| 0 |\n",
      "+---+\n",
      "| 0 |\n",
      "+---+\n",
      "---------- Round 4 ----------\n",
      "prob_capacity=0.16666666666666666 --- prob_crowded=0.8333333333333334\n",
      "Expected utilities:\n",
      "no go:0 ---- go:-0.6666666666666667\n",
      "Action preferences in state [0, 1]: [0, -0.6666666666666667]\n",
      "prob_capacity=0.16666666666666666 --- prob_crowded=0.8333333333333334\n",
      "Expected utilities:\n",
      "no go:0 ---- go:-0.6666666666666667\n",
      "Action probabilities:\n",
      "no go:0.9999766914421585 ---- go:2.3308557841404754e-05\n",
      "Chosen action: 0\n",
      "State arrived: [0, 1]\n",
      "Payoff action 0: 0\n",
      "I see the previous state: 0\n",
      "I recall the following frequencies of states:\n",
      "+---+\n",
      "| 0 |\n",
      "+---+\n",
      "| 5 |\n",
      "+---+\n",
      "I recall the following frequencies of bar with capacity:\n",
      "+---+\n",
      "| 0 |\n",
      "+---+\n",
      "| 0 |\n",
      "+---+\n",
      "---------- Round 5 ----------\n",
      "prob_capacity=0.14285714285714285 --- prob_crowded=0.8571428571428572\n",
      "Expected utilities:\n",
      "no go:0 ---- go:-0.7142857142857144\n",
      "Action preferences in state [0, 1]: [0, -0.7142857142857144]\n",
      "prob_capacity=0.14285714285714285 --- prob_crowded=0.8571428571428572\n",
      "Expected utilities:\n",
      "no go:0 ---- go:-0.7142857142857144\n",
      "Action probabilities:\n",
      "no go:0.9999891199781543 ---- go:1.0880021845799998e-05\n",
      "Chosen action: 0\n",
      "State arrived: [0, 1]\n",
      "Payoff action 0: 0\n",
      "I see the previous state: 0\n",
      "I recall the following frequencies of states:\n",
      "+---+\n",
      "| 0 |\n",
      "+---+\n",
      "| 6 |\n",
      "+---+\n",
      "I recall the following frequencies of bar with capacity:\n",
      "+---+\n",
      "| 0 |\n",
      "+---+\n",
      "| 0 |\n",
      "+---+\n",
      "---------- Round 6 ----------\n",
      "prob_capacity=0.125 --- prob_crowded=0.875\n",
      "Expected utilities:\n",
      "no go:0 ---- go:-0.75\n",
      "Action preferences in state [0, 1]: [0, -0.75]\n",
      "prob_capacity=0.125 --- prob_crowded=0.875\n",
      "Expected utilities:\n",
      "no go:0 ---- go:-0.75\n",
      "Action probabilities:\n",
      "no go:0.9999938558253978 ---- go:6.144174602214718e-06\n",
      "Chosen action: 0\n",
      "State arrived: [0, 1]\n",
      "Payoff action 0: 0\n",
      "I see the previous state: 0\n",
      "I recall the following frequencies of states:\n",
      "+---+\n",
      "| 0 |\n",
      "+---+\n",
      "| 7 |\n",
      "+---+\n",
      "I recall the following frequencies of bar with capacity:\n",
      "+---+\n",
      "| 0 |\n",
      "+---+\n",
      "| 0 |\n",
      "+---+\n",
      "---------- Round 7 ----------\n",
      "prob_capacity=0.1111111111111111 --- prob_crowded=0.8888888888888888\n",
      "Expected utilities:\n",
      "no go:0 ---- go:-0.7777777777777777\n",
      "Action preferences in state [0, 1]: [0, -0.7777777777777777]\n",
      "prob_capacity=0.1111111111111111 --- prob_crowded=0.8888888888888888\n",
      "Expected utilities:\n",
      "no go:0 ---- go:-0.7777777777777777\n",
      "Action probabilities:\n",
      "no go:0.9999960604670568 ---- go:3.93953294332216e-06\n",
      "Chosen action: 0\n",
      "State arrived: [0, 1]\n",
      "Payoff action 0: 0\n",
      "I see the previous state: 0\n",
      "I recall the following frequencies of states:\n",
      "+---+\n",
      "| 0 |\n",
      "+---+\n",
      "| 8 |\n",
      "+---+\n",
      "I recall the following frequencies of bar with capacity:\n",
      "+---+\n",
      "| 0 |\n",
      "+---+\n",
      "| 0 |\n",
      "+---+\n",
      "---------- Round 8 ----------\n",
      "prob_capacity=0.1 --- prob_crowded=0.9\n",
      "Expected utilities:\n",
      "no go:0 ---- go:-0.8\n",
      "Action preferences in state [0, 1]: [0, -0.8]\n",
      "prob_capacity=0.1 --- prob_crowded=0.9\n",
      "Expected utilities:\n",
      "no go:0 ---- go:-0.8\n",
      "Action probabilities:\n",
      "no go:0.9999972392350497 ---- go:2.760764950193046e-06\n",
      "Chosen action: 0\n",
      "State arrived: [0, 1]\n",
      "Payoff action 0: 0\n",
      "I see the previous state: 0\n",
      "I recall the following frequencies of states:\n",
      "+---+\n",
      "| 0 |\n",
      "+---+\n",
      "| 9 |\n",
      "+---+\n",
      "I recall the following frequencies of bar with capacity:\n",
      "+---+\n",
      "| 0 |\n",
      "+---+\n",
      "| 0 |\n",
      "+---+\n",
      "---------- Round 9 ----------\n",
      "prob_capacity=0.09090909090909091 --- prob_crowded=0.9090909090909091\n",
      "Expected utilities:\n",
      "no go:0 ---- go:-0.8181818181818181\n",
      "Action preferences in state [0, 1]: [0, -0.8181818181818181]\n",
      "prob_capacity=0.09090909090909091 --- prob_crowded=0.9090909090909091\n",
      "Expected utilities:\n",
      "no go:0 ---- go:-0.8181818181818181\n",
      "Action probabilities:\n",
      "no go:0.9999979360958591 ---- go:2.0639041408391696e-06\n",
      "Chosen action: 0\n",
      "State arrived: [0, 1]\n",
      "Payoff action 0: 0\n",
      "I see the previous state: 0\n",
      "I recall the following frequencies of states:\n",
      "+----+\n",
      "| 0  |\n",
      "+----+\n",
      "| 10 |\n",
      "+----+\n",
      "I recall the following frequencies of bar with capacity:\n",
      "+---+\n",
      "| 0 |\n",
      "+---+\n",
      "| 0 |\n",
      "+---+\n"
     ]
    }
   ],
   "source": [
    "agent = MFPM1(\n",
    "\tfixed_parameters=fixed_parameters,\n",
    "\tfree_parameters=free_parameters,\n",
    "\tn=0\n",
    ")\n",
    "agent.debug = True\n",
    "test_bar_is_full(agent)"
   ]
  },
  {
   "cell_type": "code",
   "execution_count": 10,
   "metadata": {},
   "outputs": [
    {
     "name": "stdout",
     "output_type": "stream",
     "text": [
      "\n",
      "------------------------------------------------------------\n",
      "Test other player alternates\n",
      "------------------------------------------------------------\n",
      "Initial state: [0, 0]\n",
      "---------- Round 0 ----------\n",
      "prob_capacity=0.5 --- prob_crowded=0.5\n",
      "Expected utilities:\n",
      "no go:0 ---- go:0.0\n",
      "Action preferences in state (0, 0): [0, 0.0]\n",
      "prob_capacity=0.5 --- prob_crowded=0.5\n",
      "Expected utilities:\n",
      "no go:0 ---- go:0.0\n",
      "Action probabilities:\n",
      "no go:0.5 ---- go:0.5\n",
      "Chosen action: 1\n",
      "State arrived: [1, 0]\n",
      "Payoff action 1: 1\n",
      "I see the previous state: 0\n",
      "I recall the following frequencies of states:\n",
      "+---+\n",
      "| 0 |\n",
      "+---+\n",
      "| 1 |\n",
      "+---+\n",
      "I recall the following frequencies of bar with capacity:\n",
      "+---+\n",
      "| 0 |\n",
      "+---+\n",
      "| 1 |\n",
      "+---+\n",
      "---------- Round 1 ----------\n",
      "prob_capacity=0.6666666666666666 --- prob_crowded=0.33333333333333337\n",
      "Expected utilities:\n",
      "no go:0 ---- go:0.33333333333333326\n",
      "Action preferences in state [1, 0]: [0, 0.33333333333333326]\n",
      "prob_capacity=0.6666666666666666 --- prob_crowded=0.33333333333333337\n",
      "Expected utilities:\n",
      "no go:0 ---- go:0.33333333333333326\n",
      "Action probabilities:\n",
      "no go:0.004804752887159521 ---- go:0.9951952471128405\n",
      "Chosen action: 1\n",
      "State arrived: [1, 1]\n",
      "Payoff action 1: -1\n",
      "I see the previous state: 0\n",
      "I recall the following frequencies of states:\n",
      "+---+\n",
      "| 0 |\n",
      "+---+\n",
      "| 2 |\n",
      "+---+\n",
      "I recall the following frequencies of bar with capacity:\n",
      "+---+\n",
      "| 0 |\n",
      "+---+\n",
      "| 1 |\n",
      "+---+\n",
      "---------- Round 2 ----------\n",
      "prob_capacity=0.5 --- prob_crowded=0.5\n",
      "Expected utilities:\n",
      "no go:0 ---- go:0.0\n",
      "Action preferences in state [1, 1]: [0, 0.0]\n",
      "prob_capacity=0.5 --- prob_crowded=0.5\n",
      "Expected utilities:\n",
      "no go:0 ---- go:0.0\n",
      "Action probabilities:\n",
      "no go:0.5 ---- go:0.5\n",
      "Chosen action: 0\n",
      "State arrived: [0, 0]\n",
      "Payoff action 0: 0\n",
      "I see the previous state: 0\n",
      "I recall the following frequencies of states:\n",
      "+---+\n",
      "| 0 |\n",
      "+---+\n",
      "| 3 |\n",
      "+---+\n",
      "I recall the following frequencies of bar with capacity:\n",
      "+---+\n",
      "| 0 |\n",
      "+---+\n",
      "| 2 |\n",
      "+---+\n",
      "---------- Round 3 ----------\n",
      "prob_capacity=0.6 --- prob_crowded=0.4\n",
      "Expected utilities:\n",
      "no go:0 ---- go:0.19999999999999996\n",
      "Action preferences in state [0, 0]: [0, 0.19999999999999996]\n",
      "prob_capacity=0.6 --- prob_crowded=0.4\n",
      "Expected utilities:\n",
      "no go:0 ---- go:0.19999999999999996\n",
      "Action probabilities:\n",
      "no go:0.03916572279676439 ---- go:0.9608342772032356\n",
      "Chosen action: 1\n",
      "State arrived: [1, 1]\n",
      "Payoff action 1: -1\n",
      "I see the previous state: 0\n",
      "I recall the following frequencies of states:\n",
      "+---+\n",
      "| 0 |\n",
      "+---+\n",
      "| 4 |\n",
      "+---+\n",
      "I recall the following frequencies of bar with capacity:\n",
      "+---+\n",
      "| 0 |\n",
      "+---+\n",
      "| 2 |\n",
      "+---+\n",
      "---------- Round 4 ----------\n",
      "prob_capacity=0.5 --- prob_crowded=0.5\n",
      "Expected utilities:\n",
      "no go:0 ---- go:0.0\n",
      "Action preferences in state [1, 1]: [0, 0.0]\n",
      "prob_capacity=0.5 --- prob_crowded=0.5\n",
      "Expected utilities:\n",
      "no go:0 ---- go:0.0\n",
      "Action probabilities:\n",
      "no go:0.5 ---- go:0.5\n",
      "Chosen action: 0\n",
      "State arrived: [0, 0]\n",
      "Payoff action 0: 0\n",
      "I see the previous state: 0\n",
      "I recall the following frequencies of states:\n",
      "+---+\n",
      "| 0 |\n",
      "+---+\n",
      "| 5 |\n",
      "+---+\n",
      "I recall the following frequencies of bar with capacity:\n",
      "+---+\n",
      "| 0 |\n",
      "+---+\n",
      "| 3 |\n",
      "+---+\n",
      "---------- Round 5 ----------\n",
      "prob_capacity=0.5714285714285714 --- prob_crowded=0.4285714285714286\n",
      "Expected utilities:\n",
      "no go:0 ---- go:0.1428571428571428\n",
      "Action preferences in state [0, 0]: [0, 0.1428571428571428]\n",
      "prob_capacity=0.5714285714285714 --- prob_crowded=0.4285714285714286\n",
      "Expected utilities:\n",
      "no go:0 ---- go:0.1428571428571428\n",
      "Action probabilities:\n",
      "no go:0.09231302875229808 ---- go:0.9076869712477018\n",
      "Chosen action: 1\n",
      "State arrived: [1, 1]\n",
      "Payoff action 1: -1\n",
      "I see the previous state: 0\n",
      "I recall the following frequencies of states:\n",
      "+---+\n",
      "| 0 |\n",
      "+---+\n",
      "| 6 |\n",
      "+---+\n",
      "I recall the following frequencies of bar with capacity:\n",
      "+---+\n",
      "| 0 |\n",
      "+---+\n",
      "| 3 |\n",
      "+---+\n",
      "---------- Round 6 ----------\n",
      "prob_capacity=0.5 --- prob_crowded=0.5\n",
      "Expected utilities:\n",
      "no go:0 ---- go:0.0\n",
      "Action preferences in state [1, 1]: [0, 0.0]\n",
      "prob_capacity=0.5 --- prob_crowded=0.5\n",
      "Expected utilities:\n",
      "no go:0 ---- go:0.0\n",
      "Action probabilities:\n",
      "no go:0.5 ---- go:0.5\n",
      "Chosen action: 1\n",
      "State arrived: [1, 0]\n",
      "Payoff action 1: 1\n",
      "I see the previous state: 0\n",
      "I recall the following frequencies of states:\n",
      "+---+\n",
      "| 0 |\n",
      "+---+\n",
      "| 7 |\n",
      "+---+\n",
      "I recall the following frequencies of bar with capacity:\n",
      "+---+\n",
      "| 0 |\n",
      "+---+\n",
      "| 4 |\n",
      "+---+\n",
      "---------- Round 7 ----------\n",
      "prob_capacity=0.5555555555555556 --- prob_crowded=0.4444444444444444\n",
      "Expected utilities:\n",
      "no go:0 ---- go:0.11111111111111116\n",
      "Action preferences in state [1, 0]: [0, 0.11111111111111116]\n",
      "prob_capacity=0.5555555555555556 --- prob_crowded=0.4444444444444444\n",
      "Expected utilities:\n",
      "no go:0 ---- go:0.11111111111111116\n",
      "Action probabilities:\n",
      "no go:0.14457775046587715 ---- go:0.8554222495341228\n",
      "Chosen action: 1\n",
      "State arrived: [1, 1]\n",
      "Payoff action 1: -1\n",
      "I see the previous state: 0\n",
      "I recall the following frequencies of states:\n",
      "+---+\n",
      "| 0 |\n",
      "+---+\n",
      "| 8 |\n",
      "+---+\n",
      "I recall the following frequencies of bar with capacity:\n",
      "+---+\n",
      "| 0 |\n",
      "+---+\n",
      "| 4 |\n",
      "+---+\n",
      "---------- Round 8 ----------\n",
      "prob_capacity=0.5 --- prob_crowded=0.5\n",
      "Expected utilities:\n",
      "no go:0 ---- go:0.0\n",
      "Action preferences in state [1, 1]: [0, 0.0]\n",
      "prob_capacity=0.5 --- prob_crowded=0.5\n",
      "Expected utilities:\n",
      "no go:0 ---- go:0.0\n",
      "Action probabilities:\n",
      "no go:0.5 ---- go:0.5\n",
      "Chosen action: 1\n",
      "State arrived: [1, 0]\n",
      "Payoff action 1: 1\n",
      "I see the previous state: 0\n",
      "I recall the following frequencies of states:\n",
      "+---+\n",
      "| 0 |\n",
      "+---+\n",
      "| 9 |\n",
      "+---+\n",
      "I recall the following frequencies of bar with capacity:\n",
      "+---+\n",
      "| 0 |\n",
      "+---+\n",
      "| 5 |\n",
      "+---+\n",
      "---------- Round 9 ----------\n",
      "prob_capacity=0.5454545454545454 --- prob_crowded=0.4545454545454546\n",
      "Expected utilities:\n",
      "no go:0 ---- go:0.09090909090909083\n",
      "Action preferences in state [1, 0]: [0, 0.09090909090909083]\n",
      "prob_capacity=0.5454545454545454 --- prob_crowded=0.4545454545454546\n",
      "Expected utilities:\n",
      "no go:0 ---- go:0.09090909090909083\n",
      "Action probabilities:\n",
      "no go:0.18930300168589828 ---- go:0.8106969983141017\n",
      "Chosen action: 1\n",
      "State arrived: [1, 1]\n",
      "Payoff action 1: -1\n",
      "I see the previous state: 0\n",
      "I recall the following frequencies of states:\n",
      "+----+\n",
      "| 0  |\n",
      "+----+\n",
      "| 10 |\n",
      "+----+\n",
      "I recall the following frequencies of bar with capacity:\n",
      "+---+\n",
      "| 0 |\n",
      "+---+\n",
      "| 5 |\n",
      "+---+\n"
     ]
    }
   ],
   "source": [
    "agent = MFPM1(\n",
    "\tfixed_parameters=fixed_parameters,\n",
    "\tfree_parameters=free_parameters,\n",
    "\tn=0\n",
    ")\n",
    "agent.debug = True\n",
    "test_alternation(agent)"
   ]
  },
  {
   "cell_type": "code",
   "execution_count": 6,
   "metadata": {},
   "outputs": [],
   "source": [
    "fixed_parameters = {\n",
    "\t\"threshold\":0.5,\n",
    "\t\"num_agents\":6,\n",
    "}\n",
    "free_parameters = {\n",
    "    \"belief_bias\":1,\n",
    "\t\"inverse_temperature\":16\n",
    "}\n",
    "simulation_parameters = {\n",
    "\t'num_episodes':1,\n",
    "\t'num_rounds':1,\n",
    "\t'verbose':False\n",
    "}"
   ]
  },
  {
   "cell_type": "code",
   "execution_count": null,
   "metadata": {},
   "outputs": [
    {
     "data": {
      "application/vnd.jupyter.widget-view+json": {
       "model_id": "fdcea4c9c6794c44944c2df67ee9eacb",
       "version_major": 2,
       "version_minor": 0
      },
      "text/plain": [
       "Running models for each bias:   0%|          | 0/7 [00:00<?, ?it/s]"
      ]
     },
     "metadata": {},
     "output_type": "display_data"
    },
    {
     "data": {
      "application/vnd.jupyter.widget-view+json": {
       "model_id": "f9820a99018844b09cfd36a45e650f8e",
       "version_major": 2,
       "version_minor": 0
      },
      "text/plain": [
       "  0%|          | 0/100 [00:00<?, ?it/s]"
      ]
     },
     "metadata": {},
     "output_type": "display_data"
    },
    {
     "data": {
      "application/vnd.jupyter.widget-view+json": {
       "model_id": "1842314dddf747e5911c47b3d3b72374",
       "version_major": 2,
       "version_minor": 0
      },
      "text/plain": [
       "  0%|          | 0/100 [00:00<?, ?it/s]"
      ]
     },
     "metadata": {},
     "output_type": "display_data"
    },
    {
     "data": {
      "application/vnd.jupyter.widget-view+json": {
       "model_id": "4113a09b9c6e42acae77dd5171a19288",
       "version_major": 2,
       "version_minor": 0
      },
      "text/plain": [
       "  0%|          | 0/100 [00:00<?, ?it/s]"
      ]
     },
     "metadata": {},
     "output_type": "display_data"
    },
    {
     "data": {
      "application/vnd.jupyter.widget-view+json": {
       "model_id": "eeded32934534b618db7c3db543d6ac2",
       "version_major": 2,
       "version_minor": 0
      },
      "text/plain": [
       "  0%|          | 0/100 [00:00<?, ?it/s]"
      ]
     },
     "metadata": {},
     "output_type": "display_data"
    },
    {
     "data": {
      "application/vnd.jupyter.widget-view+json": {
       "model_id": "b5f17bc10a35448ba53dbabac73830c0",
       "version_major": 2,
       "version_minor": 0
      },
      "text/plain": [
       "  0%|          | 0/100 [00:00<?, ?it/s]"
      ]
     },
     "metadata": {},
     "output_type": "display_data"
    },
    {
     "data": {
      "application/vnd.jupyter.widget-view+json": {
       "model_id": "4362c0cdc41844e48aeaa13eaa154d8c",
       "version_major": 2,
       "version_minor": 0
      },
      "text/plain": [
       "  0%|          | 0/100 [00:00<?, ?it/s]"
      ]
     },
     "metadata": {},
     "output_type": "display_data"
    },
    {
     "data": {
      "application/vnd.jupyter.widget-view+json": {
       "model_id": "6944833bfa244364819d37974834afe4",
       "version_major": 2,
       "version_minor": 0
      },
      "text/plain": [
       "  0%|          | 0/100 [00:00<?, ?it/s]"
      ]
     },
     "metadata": {},
     "output_type": "display_data"
    },
    {
     "name": "stdout",
     "output_type": "stream",
     "text": [
      "Plotting entropy...\n",
      "Plot saved to ..\\images\\MFP\\M1\\entropy_bias.png\n",
      "Plotting efficiency...\n",
      "Plot saved to ..\\images\\MFP\\M1\\efficiency_bias.png\n"
     ]
    }
   ],
   "source": [
    "from Utils.interaction import Performer\n",
    "\n",
    "LaTeX_string = Performer.sweep(\n",
    "    agent_class=MFPM1,\n",
    "    fixed_parameters=fixed_parameters,\n",
    "    free_parameters=free_parameters,\n",
    "    simulation_parameters=simulation_parameters,\n",
    "    sweep_parameter='belief_bias',\n",
    "    values=[2**x for x in range(0, 7)],\n",
    "    image_folder=image_folder_M1,\n",
    "    measures=['entropy', 'efficiency']\n",
    ")"
   ]
  },
  {
   "cell_type": "code",
   "execution_count": 13,
   "metadata": {},
   "outputs": [
    {
     "data": {
      "application/vnd.jupyter.widget-view+json": {
       "model_id": "9e98bce8c84b4ab3a1bc225ac73cd052",
       "version_major": 2,
       "version_minor": 0
      },
      "text/plain": [
       "Running models for each inverse_temperature:   0%|          | 0/7 [00:00<?, ?it/s]"
      ]
     },
     "metadata": {},
     "output_type": "display_data"
    },
    {
     "data": {
      "application/vnd.jupyter.widget-view+json": {
       "model_id": "ad15debdf1b64936afc4f72877a93ad2",
       "version_major": 2,
       "version_minor": 0
      },
      "text/plain": [
       "  0%|          | 0/100 [00:00<?, ?it/s]"
      ]
     },
     "metadata": {},
     "output_type": "display_data"
    },
    {
     "data": {
      "application/vnd.jupyter.widget-view+json": {
       "model_id": "cccf6da3819444cb8eb52d438733a9b1",
       "version_major": 2,
       "version_minor": 0
      },
      "text/plain": [
       "  0%|          | 0/100 [00:00<?, ?it/s]"
      ]
     },
     "metadata": {},
     "output_type": "display_data"
    },
    {
     "data": {
      "application/vnd.jupyter.widget-view+json": {
       "model_id": "d6384e08ab2b4146bfb6a96967663725",
       "version_major": 2,
       "version_minor": 0
      },
      "text/plain": [
       "  0%|          | 0/100 [00:00<?, ?it/s]"
      ]
     },
     "metadata": {},
     "output_type": "display_data"
    },
    {
     "data": {
      "application/vnd.jupyter.widget-view+json": {
       "model_id": "b21e15080904414ca4b7831a6091f916",
       "version_major": 2,
       "version_minor": 0
      },
      "text/plain": [
       "  0%|          | 0/100 [00:00<?, ?it/s]"
      ]
     },
     "metadata": {},
     "output_type": "display_data"
    },
    {
     "data": {
      "application/vnd.jupyter.widget-view+json": {
       "model_id": "fff8ec0ad40d4e1abd73a77c26b312a2",
       "version_major": 2,
       "version_minor": 0
      },
      "text/plain": [
       "  0%|          | 0/100 [00:00<?, ?it/s]"
      ]
     },
     "metadata": {},
     "output_type": "display_data"
    },
    {
     "data": {
      "application/vnd.jupyter.widget-view+json": {
       "model_id": "96ed66da1ee04a33835571c475c6c18b",
       "version_major": 2,
       "version_minor": 0
      },
      "text/plain": [
       "  0%|          | 0/100 [00:00<?, ?it/s]"
      ]
     },
     "metadata": {},
     "output_type": "display_data"
    },
    {
     "data": {
      "application/vnd.jupyter.widget-view+json": {
       "model_id": "47615e1730784581a42554bda8334a6f",
       "version_major": 2,
       "version_minor": 0
      },
      "text/plain": [
       "  0%|          | 0/100 [00:00<?, ?it/s]"
      ]
     },
     "metadata": {},
     "output_type": "display_data"
    },
    {
     "name": "stdout",
     "output_type": "stream",
     "text": [
      "Plotting entropy...\n",
      "Plot saved to ..\\images\\MFP\\M1\\entropy_inverse_temperature.png\n",
      "Plotting efficiency...\n",
      "Plot saved to ..\\images\\MFP\\M1\\efficiency_inverse_temperature.png\n"
     ]
    }
   ],
   "source": [
    "LaTeX_string = Performer.sweep(\n",
    "    agent_class=MFPM1,\n",
    "    fixed_parameters=fixed_parameters,\n",
    "    free_parameters=free_parameters,\n",
    "    simulation_parameters=simulation_parameters,\n",
    "    sweep_parameter='inverse_temperature',\n",
    "    values=[2**x for x in range(0, 7)],\n",
    "    image_folder=image_folder_M1,\n",
    "    measures=['entropy', 'efficiency']\n",
    ")"
   ]
  },
  {
   "cell_type": "code",
   "execution_count": 7,
   "metadata": {},
   "outputs": [],
   "source": [
    "from Utils.interaction import Experiment\n",
    "\n",
    "exp = Experiment(\n",
    "    agent_class=MFPM1,\n",
    "    fixed_parameters=fixed_parameters,\n",
    "    free_parameters=free_parameters,\n",
    "    simulation_parameters=simulation_parameters,\n",
    "    measures=['efficiency', 'inequality', 'entropy', 'conditional_entropy']\n",
    ")"
   ]
  },
  {
   "cell_type": "code",
   "execution_count": 8,
   "metadata": {},
   "outputs": [
    {
     "data": {
      "application/vnd.jupyter.widget-view+json": {
       "model_id": "fa63eb7587b8431982a37901d1de1210",
       "version_major": 2,
       "version_minor": 0
      },
      "text/plain": [
       "  0%|          | 0/7 [00:00<?, ?it/s]"
      ]
     },
     "metadata": {},
     "output_type": "display_data"
    },
    {
     "data": {
      "application/vnd.jupyter.widget-view+json": {
       "model_id": "25338d3326664ffdb9fc95b62e367446",
       "version_major": 2,
       "version_minor": 0
      },
      "text/plain": [
       "  0%|          | 0/6 [00:00<?, ?it/s]"
      ]
     },
     "metadata": {},
     "output_type": "display_data"
    },
    {
     "data": {
      "application/vnd.jupyter.widget-view+json": {
       "model_id": "9693e4115d7841568b6cb9964cec8547",
       "version_major": 2,
       "version_minor": 0
      },
      "text/plain": [
       "  0%|          | 0/1 [00:00<?, ?it/s]"
      ]
     },
     "metadata": {},
     "output_type": "display_data"
    },
    {
     "data": {
      "application/vnd.jupyter.widget-view+json": {
       "model_id": "1d646d83277e44a59f5976d3ed8b1364",
       "version_major": 2,
       "version_minor": 0
      },
      "text/plain": [
       "  0%|          | 0/1 [00:00<?, ?it/s]"
      ]
     },
     "metadata": {},
     "output_type": "display_data"
    },
    {
     "data": {
      "application/vnd.jupyter.widget-view+json": {
       "model_id": "6a8476e18d244114a1646e96f060922b",
       "version_major": 2,
       "version_minor": 0
      },
      "text/plain": [
       "  0%|          | 0/1 [00:00<?, ?it/s]"
      ]
     },
     "metadata": {},
     "output_type": "display_data"
    },
    {
     "data": {
      "application/vnd.jupyter.widget-view+json": {
       "model_id": "d7645b0ae2564b408da6fa167201081b",
       "version_major": 2,
       "version_minor": 0
      },
      "text/plain": [
       "  0%|          | 0/1 [00:00<?, ?it/s]"
      ]
     },
     "metadata": {},
     "output_type": "display_data"
    },
    {
     "data": {
      "application/vnd.jupyter.widget-view+json": {
       "model_id": "d5eed855019d47048852e2bbea0af03c",
       "version_major": 2,
       "version_minor": 0
      },
      "text/plain": [
       "  0%|          | 0/1 [00:00<?, ?it/s]"
      ]
     },
     "metadata": {},
     "output_type": "display_data"
    },
    {
     "data": {
      "application/vnd.jupyter.widget-view+json": {
       "model_id": "4b9f3d6ac6224eadbfd87e843b1f15be",
       "version_major": 2,
       "version_minor": 0
      },
      "text/plain": [
       "  0%|          | 0/1 [00:00<?, ?it/s]"
      ]
     },
     "metadata": {},
     "output_type": "display_data"
    },
    {
     "data": {
      "application/vnd.jupyter.widget-view+json": {
       "model_id": "342ab5bebd1a4d868da51f0d47ddec19",
       "version_major": 2,
       "version_minor": 0
      },
      "text/plain": [
       "  0%|          | 0/6 [00:00<?, ?it/s]"
      ]
     },
     "metadata": {},
     "output_type": "display_data"
    },
    {
     "data": {
      "application/vnd.jupyter.widget-view+json": {
       "model_id": "0e6f2300d92741dbb070dfd2abb4dfeb",
       "version_major": 2,
       "version_minor": 0
      },
      "text/plain": [
       "  0%|          | 0/1 [00:00<?, ?it/s]"
      ]
     },
     "metadata": {},
     "output_type": "display_data"
    },
    {
     "data": {
      "application/vnd.jupyter.widget-view+json": {
       "model_id": "be90bcc87d584e6c8e5d59f1ae0eb66a",
       "version_major": 2,
       "version_minor": 0
      },
      "text/plain": [
       "  0%|          | 0/1 [00:00<?, ?it/s]"
      ]
     },
     "metadata": {},
     "output_type": "display_data"
    },
    {
     "data": {
      "application/vnd.jupyter.widget-view+json": {
       "model_id": "eedbb659479b40fea908aeb917343c0c",
       "version_major": 2,
       "version_minor": 0
      },
      "text/plain": [
       "  0%|          | 0/1 [00:00<?, ?it/s]"
      ]
     },
     "metadata": {},
     "output_type": "display_data"
    },
    {
     "data": {
      "application/vnd.jupyter.widget-view+json": {
       "model_id": "bb5b8952387e419cb7f09c2ca50e539c",
       "version_major": 2,
       "version_minor": 0
      },
      "text/plain": [
       "  0%|          | 0/1 [00:00<?, ?it/s]"
      ]
     },
     "metadata": {},
     "output_type": "display_data"
    },
    {
     "data": {
      "application/vnd.jupyter.widget-view+json": {
       "model_id": "14ac103ab1194dbb9340e045ddf81b0d",
       "version_major": 2,
       "version_minor": 0
      },
      "text/plain": [
       "  0%|          | 0/1 [00:00<?, ?it/s]"
      ]
     },
     "metadata": {},
     "output_type": "display_data"
    },
    {
     "data": {
      "application/vnd.jupyter.widget-view+json": {
       "model_id": "56dba3fcf29a4e47bb814c2ee52158ce",
       "version_major": 2,
       "version_minor": 0
      },
      "text/plain": [
       "  0%|          | 0/1 [00:00<?, ?it/s]"
      ]
     },
     "metadata": {},
     "output_type": "display_data"
    },
    {
     "data": {
      "application/vnd.jupyter.widget-view+json": {
       "model_id": "481aea7eb045413486f73a697997f78e",
       "version_major": 2,
       "version_minor": 0
      },
      "text/plain": [
       "  0%|          | 0/6 [00:00<?, ?it/s]"
      ]
     },
     "metadata": {},
     "output_type": "display_data"
    },
    {
     "data": {
      "application/vnd.jupyter.widget-view+json": {
       "model_id": "4e2ba48901924e85b28ca88c63f79996",
       "version_major": 2,
       "version_minor": 0
      },
      "text/plain": [
       "  0%|          | 0/1 [00:00<?, ?it/s]"
      ]
     },
     "metadata": {},
     "output_type": "display_data"
    },
    {
     "data": {
      "application/vnd.jupyter.widget-view+json": {
       "model_id": "c32893f4a67a423ab7666bd8115dba00",
       "version_major": 2,
       "version_minor": 0
      },
      "text/plain": [
       "  0%|          | 0/1 [00:00<?, ?it/s]"
      ]
     },
     "metadata": {},
     "output_type": "display_data"
    },
    {
     "data": {
      "application/vnd.jupyter.widget-view+json": {
       "model_id": "3b3d6d2424fc43cb8b2c54d7aaca599c",
       "version_major": 2,
       "version_minor": 0
      },
      "text/plain": [
       "  0%|          | 0/1 [00:00<?, ?it/s]"
      ]
     },
     "metadata": {},
     "output_type": "display_data"
    },
    {
     "data": {
      "application/vnd.jupyter.widget-view+json": {
       "model_id": "fa2d99525dc745a59d5e4dd55854db21",
       "version_major": 2,
       "version_minor": 0
      },
      "text/plain": [
       "  0%|          | 0/1 [00:00<?, ?it/s]"
      ]
     },
     "metadata": {},
     "output_type": "display_data"
    },
    {
     "data": {
      "application/vnd.jupyter.widget-view+json": {
       "model_id": "c12922a62a5d431a8a37b1a1aaebbd82",
       "version_major": 2,
       "version_minor": 0
      },
      "text/plain": [
       "  0%|          | 0/1 [00:00<?, ?it/s]"
      ]
     },
     "metadata": {},
     "output_type": "display_data"
    },
    {
     "data": {
      "application/vnd.jupyter.widget-view+json": {
       "model_id": "8819c97bf5904be1afb07d9aef6a6843",
       "version_major": 2,
       "version_minor": 0
      },
      "text/plain": [
       "  0%|          | 0/1 [00:00<?, ?it/s]"
      ]
     },
     "metadata": {},
     "output_type": "display_data"
    },
    {
     "data": {
      "application/vnd.jupyter.widget-view+json": {
       "model_id": "5134a7c3c4b94af2b45236005f98147e",
       "version_major": 2,
       "version_minor": 0
      },
      "text/plain": [
       "  0%|          | 0/6 [00:00<?, ?it/s]"
      ]
     },
     "metadata": {},
     "output_type": "display_data"
    },
    {
     "data": {
      "application/vnd.jupyter.widget-view+json": {
       "model_id": "8585cddbca224c7e91175d420cd566ce",
       "version_major": 2,
       "version_minor": 0
      },
      "text/plain": [
       "  0%|          | 0/1 [00:00<?, ?it/s]"
      ]
     },
     "metadata": {},
     "output_type": "display_data"
    },
    {
     "data": {
      "application/vnd.jupyter.widget-view+json": {
       "model_id": "cafd73f1699e4754906743fd42a80028",
       "version_major": 2,
       "version_minor": 0
      },
      "text/plain": [
       "  0%|          | 0/1 [00:00<?, ?it/s]"
      ]
     },
     "metadata": {},
     "output_type": "display_data"
    },
    {
     "data": {
      "application/vnd.jupyter.widget-view+json": {
       "model_id": "4816c58b63654add9350800730ac13ae",
       "version_major": 2,
       "version_minor": 0
      },
      "text/plain": [
       "  0%|          | 0/1 [00:00<?, ?it/s]"
      ]
     },
     "metadata": {},
     "output_type": "display_data"
    },
    {
     "data": {
      "application/vnd.jupyter.widget-view+json": {
       "model_id": "2fb31bb3f787401a8da0f630d41a6a13",
       "version_major": 2,
       "version_minor": 0
      },
      "text/plain": [
       "  0%|          | 0/1 [00:00<?, ?it/s]"
      ]
     },
     "metadata": {},
     "output_type": "display_data"
    },
    {
     "data": {
      "application/vnd.jupyter.widget-view+json": {
       "model_id": "21da06a239454c36b995b64f8491bd87",
       "version_major": 2,
       "version_minor": 0
      },
      "text/plain": [
       "  0%|          | 0/1 [00:00<?, ?it/s]"
      ]
     },
     "metadata": {},
     "output_type": "display_data"
    },
    {
     "data": {
      "application/vnd.jupyter.widget-view+json": {
       "model_id": "666d4fd7eaf74b7d88980bbacbb7325a",
       "version_major": 2,
       "version_minor": 0
      },
      "text/plain": [
       "  0%|          | 0/1 [00:00<?, ?it/s]"
      ]
     },
     "metadata": {},
     "output_type": "display_data"
    },
    {
     "data": {
      "application/vnd.jupyter.widget-view+json": {
       "model_id": "e1fb2f652b814b59ab69f140def46076",
       "version_major": 2,
       "version_minor": 0
      },
      "text/plain": [
       "  0%|          | 0/6 [00:00<?, ?it/s]"
      ]
     },
     "metadata": {},
     "output_type": "display_data"
    },
    {
     "data": {
      "application/vnd.jupyter.widget-view+json": {
       "model_id": "99bdd439f89c4720b6ca525496f79c62",
       "version_major": 2,
       "version_minor": 0
      },
      "text/plain": [
       "  0%|          | 0/1 [00:00<?, ?it/s]"
      ]
     },
     "metadata": {},
     "output_type": "display_data"
    },
    {
     "data": {
      "application/vnd.jupyter.widget-view+json": {
       "model_id": "96c7346eca484aee8b808f92ba7495c2",
       "version_major": 2,
       "version_minor": 0
      },
      "text/plain": [
       "  0%|          | 0/1 [00:00<?, ?it/s]"
      ]
     },
     "metadata": {},
     "output_type": "display_data"
    },
    {
     "data": {
      "application/vnd.jupyter.widget-view+json": {
       "model_id": "0127b29890ec4c9fb31146bb72f3d28a",
       "version_major": 2,
       "version_minor": 0
      },
      "text/plain": [
       "  0%|          | 0/1 [00:00<?, ?it/s]"
      ]
     },
     "metadata": {},
     "output_type": "display_data"
    },
    {
     "data": {
      "application/vnd.jupyter.widget-view+json": {
       "model_id": "3f64af81c0dc4380b4c994fc304ad00b",
       "version_major": 2,
       "version_minor": 0
      },
      "text/plain": [
       "  0%|          | 0/1 [00:00<?, ?it/s]"
      ]
     },
     "metadata": {},
     "output_type": "display_data"
    },
    {
     "data": {
      "application/vnd.jupyter.widget-view+json": {
       "model_id": "38a6be706ade4738b17fdc427f6e738d",
       "version_major": 2,
       "version_minor": 0
      },
      "text/plain": [
       "  0%|          | 0/1 [00:00<?, ?it/s]"
      ]
     },
     "metadata": {},
     "output_type": "display_data"
    },
    {
     "data": {
      "application/vnd.jupyter.widget-view+json": {
       "model_id": "1853b053ee4e43398a4b813b30bf76e0",
       "version_major": 2,
       "version_minor": 0
      },
      "text/plain": [
       "  0%|          | 0/1 [00:00<?, ?it/s]"
      ]
     },
     "metadata": {},
     "output_type": "display_data"
    },
    {
     "data": {
      "application/vnd.jupyter.widget-view+json": {
       "model_id": "e68fec5c834e493f85606b6f0ef03585",
       "version_major": 2,
       "version_minor": 0
      },
      "text/plain": [
       "  0%|          | 0/6 [00:00<?, ?it/s]"
      ]
     },
     "metadata": {},
     "output_type": "display_data"
    },
    {
     "data": {
      "application/vnd.jupyter.widget-view+json": {
       "model_id": "44c63a7d7930411882182e5769c031ed",
       "version_major": 2,
       "version_minor": 0
      },
      "text/plain": [
       "  0%|          | 0/1 [00:00<?, ?it/s]"
      ]
     },
     "metadata": {},
     "output_type": "display_data"
    },
    {
     "data": {
      "application/vnd.jupyter.widget-view+json": {
       "model_id": "b7d61b99ca4e46c5995332e96f459d5e",
       "version_major": 2,
       "version_minor": 0
      },
      "text/plain": [
       "  0%|          | 0/1 [00:00<?, ?it/s]"
      ]
     },
     "metadata": {},
     "output_type": "display_data"
    },
    {
     "data": {
      "application/vnd.jupyter.widget-view+json": {
       "model_id": "1f41c89dab7f4428b86277f2247fbfa4",
       "version_major": 2,
       "version_minor": 0
      },
      "text/plain": [
       "  0%|          | 0/1 [00:00<?, ?it/s]"
      ]
     },
     "metadata": {},
     "output_type": "display_data"
    },
    {
     "data": {
      "application/vnd.jupyter.widget-view+json": {
       "model_id": "002b6cb1be2e4b9d9f6416e96235ade1",
       "version_major": 2,
       "version_minor": 0
      },
      "text/plain": [
       "  0%|          | 0/1 [00:00<?, ?it/s]"
      ]
     },
     "metadata": {},
     "output_type": "display_data"
    },
    {
     "data": {
      "application/vnd.jupyter.widget-view+json": {
       "model_id": "9ca1e58927494a0fa283f10d4521778b",
       "version_major": 2,
       "version_minor": 0
      },
      "text/plain": [
       "  0%|          | 0/1 [00:00<?, ?it/s]"
      ]
     },
     "metadata": {},
     "output_type": "display_data"
    },
    {
     "data": {
      "application/vnd.jupyter.widget-view+json": {
       "model_id": "b8762b75ff794bd4b53b9c714184e830",
       "version_major": 2,
       "version_minor": 0
      },
      "text/plain": [
       "  0%|          | 0/1 [00:00<?, ?it/s]"
      ]
     },
     "metadata": {},
     "output_type": "display_data"
    },
    {
     "data": {
      "application/vnd.jupyter.widget-view+json": {
       "model_id": "5ff1e8b7a40d493da17659c243bbd20a",
       "version_major": 2,
       "version_minor": 0
      },
      "text/plain": [
       "  0%|          | 0/6 [00:00<?, ?it/s]"
      ]
     },
     "metadata": {},
     "output_type": "display_data"
    },
    {
     "data": {
      "application/vnd.jupyter.widget-view+json": {
       "model_id": "68265076615647c3b2e276f061cab3f0",
       "version_major": 2,
       "version_minor": 0
      },
      "text/plain": [
       "  0%|          | 0/1 [00:00<?, ?it/s]"
      ]
     },
     "metadata": {},
     "output_type": "display_data"
    },
    {
     "data": {
      "application/vnd.jupyter.widget-view+json": {
       "model_id": "5f1c7bf8529b43399af38c950f1a14ef",
       "version_major": 2,
       "version_minor": 0
      },
      "text/plain": [
       "  0%|          | 0/1 [00:00<?, ?it/s]"
      ]
     },
     "metadata": {},
     "output_type": "display_data"
    },
    {
     "data": {
      "application/vnd.jupyter.widget-view+json": {
       "model_id": "75d07a1e982247e08835a65ea0d99998",
       "version_major": 2,
       "version_minor": 0
      },
      "text/plain": [
       "  0%|          | 0/1 [00:00<?, ?it/s]"
      ]
     },
     "metadata": {},
     "output_type": "display_data"
    },
    {
     "data": {
      "application/vnd.jupyter.widget-view+json": {
       "model_id": "574b4db44f3a46e2a9d191864b15b167",
       "version_major": 2,
       "version_minor": 0
      },
      "text/plain": [
       "  0%|          | 0/1 [00:00<?, ?it/s]"
      ]
     },
     "metadata": {},
     "output_type": "display_data"
    },
    {
     "data": {
      "application/vnd.jupyter.widget-view+json": {
       "model_id": "d0c1c2290f8c4786bde869dd570b114b",
       "version_major": 2,
       "version_minor": 0
      },
      "text/plain": [
       "  0%|          | 0/1 [00:00<?, ?it/s]"
      ]
     },
     "metadata": {},
     "output_type": "display_data"
    },
    {
     "data": {
      "application/vnd.jupyter.widget-view+json": {
       "model_id": "b7de0f673f6c44cab4e36cdd334ae58a",
       "version_major": 2,
       "version_minor": 0
      },
      "text/plain": [
       "  0%|          | 0/1 [00:00<?, ?it/s]"
      ]
     },
     "metadata": {},
     "output_type": "display_data"
    }
   ],
   "source": [
    "exp.run_sweep2(\n",
    "    parameter1='inverse_temperature',\n",
    "    values1=[2**x for x in range(0, 7)],\n",
    "    parameter2='learning_rate',\n",
    "    values2=[0, 0.05, 0.1, 0.2, 0.4, 0.8],\n",
    "    file=image_folder_M2 / 'sweep_inverse_temp_vs_learning_rate'\n",
    ")"
   ]
  },
  {
   "cell_type": "code",
   "execution_count": 9,
   "metadata": {},
   "outputs": [],
   "source": [
    "from Utils.plot_utils import PlotStandardMeasures\n",
    "\n",
    "p = PlotStandardMeasures(exp.data)"
   ]
  },
  {
   "cell_type": "code",
   "execution_count": 10,
   "metadata": {},
   "outputs": [
    {
     "ename": "KeyError",
     "evalue": "'belief_bias'",
     "output_type": "error",
     "traceback": [
      "\u001b[1;31m---------------------------------------------------------------------------\u001b[0m",
      "\u001b[1;31mKeyError\u001b[0m                                  Traceback (most recent call last)",
      "Cell \u001b[1;32mIn[10], line 1\u001b[0m\n\u001b[1;32m----> 1\u001b[0m p\u001b[38;5;241m.\u001b[39mplot_sweep2(\n\u001b[0;32m      2\u001b[0m     parameter1\u001b[38;5;241m=\u001b[39m\u001b[38;5;124m'\u001b[39m\u001b[38;5;124minverse_temperature\u001b[39m\u001b[38;5;124m'\u001b[39m, \n\u001b[0;32m      3\u001b[0m     parameter2\u001b[38;5;241m=\u001b[39m\u001b[38;5;124m'\u001b[39m\u001b[38;5;124mbelief_bias\u001b[39m\u001b[38;5;124m'\u001b[39m,\n\u001b[0;32m      4\u001b[0m     measure\u001b[38;5;241m=\u001b[39m\u001b[38;5;124m'\u001b[39m\u001b[38;5;124mefficiency\u001b[39m\u001b[38;5;124m'\u001b[39m,\n\u001b[0;32m      5\u001b[0m     file\u001b[38;5;241m=\u001b[39mimage_folder_M2 \u001b[38;5;241m/\u001b[39m Path(\u001b[38;5;124m'\u001b[39m\u001b[38;5;124mefficiency_sweep_inverse_temp_vs_belief_bias.png\u001b[39m\u001b[38;5;124m'\u001b[39m)\n\u001b[0;32m      6\u001b[0m )\n",
      "File \u001b[1;32mc:\\Users\\andra\\Documents\\Cognitive_Models_El_Farol_Bar_Problem\\Notebooks\\../src\\Utils\\plot_utils.py:244\u001b[0m, in \u001b[0;36mPlotStandardMeasures.plot_sweep2\u001b[1;34m(self, parameter1, parameter2, measure, T, file, kwargs)\u001b[0m\n\u001b[0;32m    241\u001b[0m get_meas \u001b[38;5;241m=\u001b[39m GetMeasurements(\n\u001b[0;32m    242\u001b[0m \t\u001b[38;5;28mself\u001b[39m\u001b[38;5;241m.\u001b[39mdata, measures\u001b[38;5;241m=\u001b[39m[measure], T\u001b[38;5;241m=\u001b[39mT)\n\u001b[0;32m    243\u001b[0m get_meas\u001b[38;5;241m.\u001b[39mcolumns \u001b[38;5;241m+\u001b[39m\u001b[38;5;241m=\u001b[39m [parameter2, parameter1]\n\u001b[1;32m--> 244\u001b[0m df \u001b[38;5;241m=\u001b[39m get_meas\u001b[38;5;241m.\u001b[39mget_measurements()\n\u001b[0;32m    245\u001b[0m df \u001b[38;5;241m=\u001b[39m df\u001b[38;5;241m.\u001b[39mgroupby([parameter2, parameter1])[measure]\u001b[38;5;241m.\u001b[39mmean()\u001b[38;5;241m.\u001b[39mreset_index()\n\u001b[0;32m    246\u001b[0m values1 \u001b[38;5;241m=\u001b[39m df[parameter1]\u001b[38;5;241m.\u001b[39munique()\n",
      "File \u001b[1;32mc:\\Users\\andra\\Documents\\Cognitive_Models_El_Farol_Bar_Problem\\Notebooks\\../src\\Utils\\utils.py:371\u001b[0m, in \u001b[0;36mGetMeasurements.get_measurements\u001b[1;34m(self)\u001b[0m\n\u001b[0;32m    369\u001b[0m fun \u001b[38;5;241m=\u001b[39m \u001b[38;5;28meval\u001b[39m(\u001b[38;5;124mf\u001b[39m\u001b[38;5;124m'\u001b[39m\u001b[38;5;124mGetMeasurements.\u001b[39m\u001b[38;5;132;01m{\u001b[39;00mmeasure\u001b[38;5;132;01m}\u001b[39;00m\u001b[38;5;124m'\u001b[39m)\n\u001b[0;32m    370\u001b[0m \u001b[38;5;28;01mif\u001b[39;00m init:\n\u001b[1;32m--> 371\u001b[0m \tdf \u001b[38;5;241m=\u001b[39m \u001b[38;5;28mself\u001b[39m\u001b[38;5;241m.\u001b[39mdata\u001b[38;5;241m.\u001b[39mgroupby(\u001b[38;5;28mself\u001b[39m\u001b[38;5;241m.\u001b[39mcolumns)\u001b[38;5;241m.\u001b[39mapply(fun)\u001b[38;5;241m.\u001b[39mreset_index()\n\u001b[0;32m    372\u001b[0m \tdf\u001b[38;5;241m.\u001b[39mrename(columns\u001b[38;5;241m=\u001b[39m{\u001b[38;5;241m0\u001b[39m:measure}, inplace\u001b[38;5;241m=\u001b[39m\u001b[38;5;28;01mTrue\u001b[39;00m)\n\u001b[0;32m    373\u001b[0m \t\u001b[38;5;28;01mif\u001b[39;00m \u001b[38;5;28mself\u001b[39m\u001b[38;5;241m.\u001b[39mnormalize:\n",
      "File \u001b[1;32m~\\AppData\\Roaming\\Python\\Python311\\site-packages\\pandas\\core\\frame.py:8402\u001b[0m, in \u001b[0;36mDataFrame.groupby\u001b[1;34m(self, by, axis, level, as_index, sort, group_keys, squeeze, observed, dropna)\u001b[0m\n\u001b[0;32m   8399\u001b[0m     \u001b[38;5;28;01mraise\u001b[39;00m \u001b[38;5;167;01mTypeError\u001b[39;00m(\u001b[38;5;124m\"\u001b[39m\u001b[38;5;124mYou have to supply one of \u001b[39m\u001b[38;5;124m'\u001b[39m\u001b[38;5;124mby\u001b[39m\u001b[38;5;124m'\u001b[39m\u001b[38;5;124m and \u001b[39m\u001b[38;5;124m'\u001b[39m\u001b[38;5;124mlevel\u001b[39m\u001b[38;5;124m'\u001b[39m\u001b[38;5;124m\"\u001b[39m)\n\u001b[0;32m   8400\u001b[0m axis \u001b[38;5;241m=\u001b[39m \u001b[38;5;28mself\u001b[39m\u001b[38;5;241m.\u001b[39m_get_axis_number(axis)\n\u001b[1;32m-> 8402\u001b[0m \u001b[38;5;28;01mreturn\u001b[39;00m DataFrameGroupBy(\n\u001b[0;32m   8403\u001b[0m     obj\u001b[38;5;241m=\u001b[39m\u001b[38;5;28mself\u001b[39m,\n\u001b[0;32m   8404\u001b[0m     keys\u001b[38;5;241m=\u001b[39mby,\n\u001b[0;32m   8405\u001b[0m     axis\u001b[38;5;241m=\u001b[39maxis,\n\u001b[0;32m   8406\u001b[0m     level\u001b[38;5;241m=\u001b[39mlevel,\n\u001b[0;32m   8407\u001b[0m     as_index\u001b[38;5;241m=\u001b[39mas_index,\n\u001b[0;32m   8408\u001b[0m     sort\u001b[38;5;241m=\u001b[39msort,\n\u001b[0;32m   8409\u001b[0m     group_keys\u001b[38;5;241m=\u001b[39mgroup_keys,\n\u001b[0;32m   8410\u001b[0m     squeeze\u001b[38;5;241m=\u001b[39msqueeze,\n\u001b[0;32m   8411\u001b[0m     observed\u001b[38;5;241m=\u001b[39mobserved,\n\u001b[0;32m   8412\u001b[0m     dropna\u001b[38;5;241m=\u001b[39mdropna,\n\u001b[0;32m   8413\u001b[0m )\n",
      "File \u001b[1;32m~\\AppData\\Roaming\\Python\\Python311\\site-packages\\pandas\\core\\groupby\\groupby.py:965\u001b[0m, in \u001b[0;36mGroupBy.__init__\u001b[1;34m(self, obj, keys, axis, level, grouper, exclusions, selection, as_index, sort, group_keys, squeeze, observed, mutated, dropna)\u001b[0m\n\u001b[0;32m    962\u001b[0m \u001b[38;5;28;01mif\u001b[39;00m grouper \u001b[38;5;129;01mis\u001b[39;00m \u001b[38;5;28;01mNone\u001b[39;00m:\n\u001b[0;32m    963\u001b[0m     \u001b[38;5;28;01mfrom\u001b[39;00m \u001b[38;5;21;01mpandas\u001b[39;00m\u001b[38;5;21;01m.\u001b[39;00m\u001b[38;5;21;01mcore\u001b[39;00m\u001b[38;5;21;01m.\u001b[39;00m\u001b[38;5;21;01mgroupby\u001b[39;00m\u001b[38;5;21;01m.\u001b[39;00m\u001b[38;5;21;01mgrouper\u001b[39;00m \u001b[38;5;28;01mimport\u001b[39;00m get_grouper\n\u001b[1;32m--> 965\u001b[0m     grouper, exclusions, obj \u001b[38;5;241m=\u001b[39m get_grouper(\n\u001b[0;32m    966\u001b[0m         obj,\n\u001b[0;32m    967\u001b[0m         keys,\n\u001b[0;32m    968\u001b[0m         axis\u001b[38;5;241m=\u001b[39maxis,\n\u001b[0;32m    969\u001b[0m         level\u001b[38;5;241m=\u001b[39mlevel,\n\u001b[0;32m    970\u001b[0m         sort\u001b[38;5;241m=\u001b[39msort,\n\u001b[0;32m    971\u001b[0m         observed\u001b[38;5;241m=\u001b[39mobserved,\n\u001b[0;32m    972\u001b[0m         mutated\u001b[38;5;241m=\u001b[39m\u001b[38;5;28mself\u001b[39m\u001b[38;5;241m.\u001b[39mmutated,\n\u001b[0;32m    973\u001b[0m         dropna\u001b[38;5;241m=\u001b[39m\u001b[38;5;28mself\u001b[39m\u001b[38;5;241m.\u001b[39mdropna,\n\u001b[0;32m    974\u001b[0m     )\n\u001b[0;32m    976\u001b[0m \u001b[38;5;28mself\u001b[39m\u001b[38;5;241m.\u001b[39mobj \u001b[38;5;241m=\u001b[39m obj\n\u001b[0;32m    977\u001b[0m \u001b[38;5;28mself\u001b[39m\u001b[38;5;241m.\u001b[39maxis \u001b[38;5;241m=\u001b[39m obj\u001b[38;5;241m.\u001b[39m_get_axis_number(axis)\n",
      "File \u001b[1;32m~\\AppData\\Roaming\\Python\\Python311\\site-packages\\pandas\\core\\groupby\\grouper.py:888\u001b[0m, in \u001b[0;36mget_grouper\u001b[1;34m(obj, key, axis, level, sort, observed, mutated, validate, dropna)\u001b[0m\n\u001b[0;32m    886\u001b[0m         in_axis, level, gpr \u001b[38;5;241m=\u001b[39m \u001b[38;5;28;01mFalse\u001b[39;00m, gpr, \u001b[38;5;28;01mNone\u001b[39;00m\n\u001b[0;32m    887\u001b[0m     \u001b[38;5;28;01melse\u001b[39;00m:\n\u001b[1;32m--> 888\u001b[0m         \u001b[38;5;28;01mraise\u001b[39;00m \u001b[38;5;167;01mKeyError\u001b[39;00m(gpr)\n\u001b[0;32m    889\u001b[0m \u001b[38;5;28;01melif\u001b[39;00m \u001b[38;5;28misinstance\u001b[39m(gpr, Grouper) \u001b[38;5;129;01mand\u001b[39;00m gpr\u001b[38;5;241m.\u001b[39mkey \u001b[38;5;129;01mis\u001b[39;00m \u001b[38;5;129;01mnot\u001b[39;00m \u001b[38;5;28;01mNone\u001b[39;00m:\n\u001b[0;32m    890\u001b[0m     \u001b[38;5;66;03m# Add key to exclusions\u001b[39;00m\n\u001b[0;32m    891\u001b[0m     exclusions\u001b[38;5;241m.\u001b[39madd(gpr\u001b[38;5;241m.\u001b[39mkey)\n",
      "\u001b[1;31mKeyError\u001b[0m: 'belief_bias'"
     ]
    }
   ],
   "source": [
    "p.plot_sweep2(\n",
    "    parameter1='inverse_temperature', \n",
    "    parameter2='belief_bias',\n",
    "    measure='efficiency',\n",
    "    file=image_folder_M2 / Path('efficiency_sweep_inverse_temp_vs_belief_bias.png')\n",
    ")"
   ]
  },
  {
   "cell_type": "code",
   "execution_count": null,
   "metadata": {},
   "outputs": [],
   "source": [
    "p.plot_sweep2(\n",
    "    parameter1='inverse_temperature', \n",
    "    parameter2='bias',\n",
    "    measure='entropy',\n",
    "    file=image_folder_M2 / Path('efficiency_sweep_inverse_temp_vs_bias.png')\n",
    ")"
   ]
  },
  {
   "cell_type": "markdown",
   "metadata": {},
   "source": [
    "---"
   ]
  },
  {
   "cell_type": "markdown",
   "metadata": {},
   "source": [
    "## M2 <a class=\"anchor\" id=\"m2\"></a>"
   ]
  },
  {
   "cell_type": "code",
   "execution_count": null,
   "metadata": {},
   "outputs": [],
   "source": [
    "fixed_parameters = {\n",
    "\t\"threshold\":0.5,\n",
    "\t\"num_agents\":2,\n",
    "}\n",
    "free_parameters = {\n",
    "\t\"inverse_temperature\":16\n",
    "}\n",
    "agent = MFPM2(\n",
    "\tfixed_parameters=fixed_parameters,\n",
    "\tfree_parameters=free_parameters,\n",
    "\tn=0\n",
    ")\n",
    "agent.debug = True\n",
    "test_bar_has_capacity(agent)"
   ]
  },
  {
   "cell_type": "code",
   "execution_count": null,
   "metadata": {},
   "outputs": [],
   "source": [
    "agent = PayoffM2(\n",
    "\tfixed_parameters=fixed_parameters,\n",
    "\tfree_parameters=free_parameters,\n",
    "\tn=0\n",
    ")\n",
    "agent.debug = True\n",
    "test_bar_is_full(agent)"
   ]
  },
  {
   "cell_type": "code",
   "execution_count": null,
   "metadata": {},
   "outputs": [],
   "source": [
    "agent = PayoffM2(\n",
    "\tfixed_parameters=fixed_parameters,\n",
    "\tfree_parameters=free_parameters,\n",
    "\tn=0\n",
    ")\n",
    "agent.debug = True\n",
    "test_alternation(agent)"
   ]
  },
  {
   "cell_type": "code",
   "execution_count": null,
   "metadata": {},
   "outputs": [],
   "source": [
    "fixed_parameters = {\n",
    "\t\"threshold\":0.5,\n",
    "\t\"num_agents\":6,\n",
    "}\n",
    "free_parameters = {\n",
    "\t\"learning_rate\": 0.2,\n",
    "\t\"inverse_temperature\":16\n",
    "}\n",
    "simulation_parameters = {\n",
    "\t'num_episodes':100,\n",
    "\t'num_rounds':1000,\n",
    "\t'verbose':False\n",
    "}"
   ]
  },
  {
   "cell_type": "code",
   "execution_count": null,
   "metadata": {},
   "outputs": [],
   "source": [
    "from Utils.interaction import Performer\n",
    "\n",
    "LaTeX_string = Performer.sweep(\n",
    "    agent_class=PayoffM2,\n",
    "    fixed_parameters=fixed_parameters,\n",
    "    free_parameters=free_parameters,\n",
    "    simulation_parameters=simulation_parameters,\n",
    "    sweep_parameter='learning_rate',\n",
    "    values=[0, 0.05, 0.1, 0.2, 0.4, 0.8],\n",
    "    image_folder=image_folder_M2,\n",
    "    measures=['efficiency', 'inequality', 'entropy', 'conditional_entropy']\n",
    ")"
   ]
  },
  {
   "cell_type": "code",
   "execution_count": null,
   "metadata": {},
   "outputs": [],
   "source": [
    "LaTeX_string = Performer.sweep(\n",
    "    agent_class=PayoffM2,\n",
    "    fixed_parameters=fixed_parameters,\n",
    "    free_parameters=free_parameters,\n",
    "    simulation_parameters=simulation_parameters,\n",
    "    sweep_parameter='inverse_temperature',\n",
    "    values=[2**x for x in range(0, 7)],\n",
    "    image_folder=image_folder_M2,\n",
    "    measures=['entropy', 'efficiency']\n",
    ")"
   ]
  },
  {
   "cell_type": "code",
   "execution_count": null,
   "metadata": {},
   "outputs": [],
   "source": [
    "from Utils.interaction import Experiment\n",
    "\n",
    "exp = Experiment(\n",
    "    agent_class=PayoffM2,\n",
    "    fixed_parameters=fixed_parameters,\n",
    "    free_parameters=free_parameters,\n",
    "    simulation_parameters=simulation_parameters,\n",
    "    measures=['efficiency', 'inequality', 'entropy', 'conditional_entropy']\n",
    ")"
   ]
  },
  {
   "cell_type": "code",
   "execution_count": null,
   "metadata": {},
   "outputs": [],
   "source": [
    "exp.run_sweep2(\n",
    "    parameter1='inverse_temperature',\n",
    "    values1=[2**x for x in range(0, 7)],\n",
    "    parameter2='learning_rate',\n",
    "    values2=[0, 0.05, 0.1, 0.2, 0.4, 0.8],\n",
    "    file=image_folder_M2 / 'sweep_inverse_temp_vs_learning_rate'\n",
    ")"
   ]
  },
  {
   "cell_type": "code",
   "execution_count": null,
   "metadata": {},
   "outputs": [],
   "source": [
    "from Utils.plot_utils import PlotStandardMeasures\n",
    "\n",
    "p = PlotStandardMeasures(exp.data)"
   ]
  },
  {
   "cell_type": "code",
   "execution_count": null,
   "metadata": {},
   "outputs": [],
   "source": [
    "p.plot_sweep2(\n",
    "    parameter1='inverse_temperature', \n",
    "    parameter2='learning_rate',\n",
    "    measure='efficiency',\n",
    "    file=image_folder_M2 / Path('efficiency_sweep_inverse_temp_vs_learning_rate.png')\n",
    ")"
   ]
  },
  {
   "cell_type": "code",
   "execution_count": null,
   "metadata": {},
   "outputs": [],
   "source": [
    "p.plot_sweep2(\n",
    "    parameter1='inverse_temperature', \n",
    "    parameter2='learning_rate',\n",
    "    measure='entropy',\n",
    "    file=image_folder_M2 / Path('entropy_sweep_inverse_temp_vs_learning_rate.png')\n",
    ")"
   ]
  },
  {
   "cell_type": "markdown",
   "metadata": {},
   "source": [
    "---"
   ]
  },
  {
   "cell_type": "markdown",
   "metadata": {},
   "source": [
    "## M3 <a class=\"anchor\" id=\"m3\"></a>"
   ]
  },
  {
   "cell_type": "code",
   "execution_count": null,
   "metadata": {},
   "outputs": [],
   "source": [
    "fixed_parameters = {\n",
    "\t\"threshold\":0.5,\n",
    "\t\"num_agents\":2,\n",
    "}\n",
    "free_parameters = {\n",
    "\t\"learning_rate\": 0.2,\n",
    "\t\"inverse_temperature\":16\n",
    "}\n",
    "agent = PayoffM3(\n",
    "\tfixed_parameters=fixed_parameters,\n",
    "\tfree_parameters=free_parameters,\n",
    "\tn=0\n",
    ")\n",
    "agent.debug = True\n",
    "test_bar_has_capacity(agent)"
   ]
  },
  {
   "cell_type": "code",
   "execution_count": null,
   "metadata": {},
   "outputs": [],
   "source": [
    "agent = PayoffM3(\n",
    "\tfixed_parameters=fixed_parameters,\n",
    "\tfree_parameters=free_parameters,\n",
    "\tn=0\n",
    ")\n",
    "agent.debug = True\n",
    "test_bar_is_full(agent)"
   ]
  },
  {
   "cell_type": "code",
   "execution_count": null,
   "metadata": {},
   "outputs": [],
   "source": [
    "agent = PayoffM3(\n",
    "\tfixed_parameters=fixed_parameters,\n",
    "\tfree_parameters=free_parameters,\n",
    "\tn=0\n",
    ")\n",
    "agent.debug = True\n",
    "test_alternation(agent)"
   ]
  },
  {
   "cell_type": "code",
   "execution_count": null,
   "metadata": {},
   "outputs": [],
   "source": [
    "fixed_parameters = {\n",
    "\t\"threshold\":0.5,\n",
    "\t\"num_agents\":6,\n",
    "}\n",
    "free_parameters = {\n",
    "\t\"learning_rate\": 0.2,\n",
    "\t\"inverse_temperature\":16\n",
    "}\n",
    "simulation_parameters = {\n",
    "\t'num_episodes':100,\n",
    "\t'num_rounds':1000,\n",
    "\t'verbose':False\n",
    "}"
   ]
  },
  {
   "cell_type": "code",
   "execution_count": null,
   "metadata": {},
   "outputs": [],
   "source": [
    "import numpy as np\n",
    "from Utils.interaction import Performer\n",
    "\n",
    "LaTeX_string = Performer.sweep(\n",
    "    agent_class=PayoffM3,\n",
    "    fixed_parameters=fixed_parameters,\n",
    "    free_parameters=free_parameters,\n",
    "    simulation_parameters=simulation_parameters,\n",
    "    sweep_parameter='learning_rate',\n",
    "    values=[0, 0.05, 0.1, 0.2, 0.4, 0.8],\n",
    "    image_folder=image_folder,\n",
    "    measures=['efficiency', 'inequality', 'entropy', 'conditional_entropy']\n",
    ")"
   ]
  },
  {
   "cell_type": "code",
   "execution_count": null,
   "metadata": {},
   "outputs": [],
   "source": [
    "LaTeX_string = Performer.sweep(\n",
    "    agent_class=PayoffM3,\n",
    "    fixed_parameters=fixed_parameters,\n",
    "    free_parameters=free_parameters,\n",
    "    simulation_parameters=simulation_parameters,\n",
    "    sweep_parameter='inverse_temperature',\n",
    "    values=[2**x for x in range(0, 7)],\n",
    "    image_folder=image_folder,\n",
    "    measures=['entropy', 'efficiency']\n",
    ")"
   ]
  },
  {
   "cell_type": "code",
   "execution_count": null,
   "metadata": {},
   "outputs": [],
   "source": [
    "from Utils.interaction import Experiment\n",
    "\n",
    "exp = Experiment(\n",
    "    agent_class=PayoffM3,\n",
    "    fixed_parameters=fixed_parameters,\n",
    "    free_parameters=free_parameters,\n",
    "    simulation_parameters=simulation_parameters,\n",
    "    measures=['efficiency', 'inequality', 'entropy', 'conditional_entropy']\n",
    ")"
   ]
  },
  {
   "cell_type": "code",
   "execution_count": null,
   "metadata": {},
   "outputs": [],
   "source": [
    "exp.run_sweep2(\n",
    "    parameter1='inverse_temperature',\n",
    "    values1=[2**x for x in range(0, 7)],\n",
    "    parameter2='learning_rate',\n",
    "    values2=[0, 0.05, 0.1, 0.2, 0.4, 0.8],\n",
    "    file=image_folder / 'sweep_inverse_temp_vs_learning_rate'\n",
    ")"
   ]
  },
  {
   "cell_type": "code",
   "execution_count": null,
   "metadata": {},
   "outputs": [],
   "source": [
    "from Utils.plot_utils import PlotStandardMeasures\n",
    "\n",
    "p = PlotStandardMeasures(exp.data)"
   ]
  },
  {
   "cell_type": "code",
   "execution_count": null,
   "metadata": {},
   "outputs": [],
   "source": [
    "p.plot_sweep2(\n",
    "    parameter1='inverse_temperature', \n",
    "    parameter2='learning_rate',\n",
    "    measure='efficiency',\n",
    "    file=image_folder / Path('efficiency_sweep_inverse_temp_vs_learning_rate.png')\n",
    ")"
   ]
  },
  {
   "cell_type": "code",
   "execution_count": null,
   "metadata": {},
   "outputs": [],
   "source": [
    "p.plot_sweep2(\n",
    "    parameter1='inverse_temperature', \n",
    "    parameter2='learning_rate',\n",
    "    measure='entropy',\n",
    "    file=image_folder / Path('entropy_sweep_inverse_temp_vs_learning_rate.png')\n",
    ")"
   ]
  },
  {
   "cell_type": "markdown",
   "metadata": {},
   "source": [
    "---"
   ]
  },
  {
   "cell_type": "code",
   "execution_count": null,
   "metadata": {},
   "outputs": [],
   "source": [
    "from Utils.interaction import Performer\n",
    "\n",
    "fixed_parameters = {\n",
    "\t\"threshold\":0.5,\n",
    "\t\"num_agents\":6,\n",
    "}\n",
    "free_parameters = {\n",
    "\t\"learning_rate\": 0.2,\n",
    "\t\"inverse_temperature\":16\n",
    "}\n",
    "simulation_parameters = {\n",
    "\t'num_episodes':100,\n",
    "\t'num_rounds':1000,\n",
    "\t'verbose':False\n",
    "}\n",
    "\n",
    "list_dicts = [\n",
    "    {\n",
    "        'agent_class': PayoffM1,\n",
    "        'fixed_parameters': fixed_parameters,\n",
    "        'free_parameters': free_parameters,\n",
    "        'simulation_parameters': simulation_parameters,\n",
    "        'seed': 7\n",
    "    },\n",
    "    {\n",
    "        'agent_class': PayoffM2,\n",
    "        'fixed_parameters': fixed_parameters,\n",
    "        'free_parameters': free_parameters,\n",
    "        'simulation_parameters': simulation_parameters,\n",
    "        'seed': 9\n",
    "    },\n",
    "    {\n",
    "        'agent_class': PayoffM3,\n",
    "        'fixed_parameters': fixed_parameters,\n",
    "        'free_parameters': free_parameters,\n",
    "        'simulation_parameters': simulation_parameters,\n",
    "        'seed': 0\n",
    "    }\n",
    "]"
   ]
  },
  {
   "cell_type": "code",
   "execution_count": null,
   "metadata": {},
   "outputs": [],
   "source": [
    "#-------------------------------\n",
    "# Create plots\n",
    "#-------------------------------\n",
    "perf = Performer.simple_vs(\n",
    "    list_dicts=list_dicts,\n",
    "    image_folder=image_folder_all,\n",
    "    measures=['efficiency', 'inequality', 'entropy', 'conditional_entropy'],\n",
    "    kwargs={\n",
    "        'T': 20,\n",
    "        'model_names': {\n",
    "            'Payoff-M1-7': 'M1',\n",
    "            'Payoff-M2-9': 'M2',\n",
    "            'Payoff-M3-0': 'M3'\n",
    "        },\n",
    "        'figsize': (3.5, 3)\n",
    "    }\n",
    ")"
   ]
  },
  {
   "cell_type": "markdown",
   "metadata": {},
   "source": [
    "---"
   ]
  },
  {
   "cell_type": "code",
   "execution_count": null,
   "metadata": {},
   "outputs": [],
   "source": [
    "from Utils.interaction import Performer\n",
    "\n",
    "fixed_parameters = {\n",
    "\t\"threshold\":0.5,\n",
    "\t\"num_agents\":6,\n",
    "}\n",
    "free_parameters = {\n",
    "\t'inverse_temperature':16,\n",
    "\t'learning_rate':1.2\n",
    "}\n",
    "simulation_parameters = {\n",
    "\t'num_episodes':1,\n",
    "\t'num_rounds':1000,\n",
    "\t'verbose':False\n",
    "}"
   ]
  },
  {
   "cell_type": "code",
   "execution_count": null,
   "metadata": {},
   "outputs": [],
   "source": [
    "LaTeX_string = Performer.simple_run(\n",
    "    agent_class=PayoffM1,\n",
    "    fixed_parameters=fixed_parameters,\n",
    "    free_parameters=free_parameters,\n",
    "    simulation_parameters=simulation_parameters,\n",
    "    image_folder=image_folder_M1,\n",
    "    measures=['render']\n",
    ")"
   ]
  },
  {
   "cell_type": "code",
   "execution_count": null,
   "metadata": {},
   "outputs": [],
   "source": [
    "LaTeX_string = Performer.simple_run(\n",
    "    agent_class=PayoffM2,\n",
    "    fixed_parameters=fixed_parameters,\n",
    "    free_parameters=free_parameters,\n",
    "    simulation_parameters=simulation_parameters,\n",
    "    image_folder=image_folder_M2,\n",
    "    measures=['render']\n",
    ")"
   ]
  },
  {
   "cell_type": "code",
   "execution_count": null,
   "metadata": {},
   "outputs": [],
   "source": [
    "LaTeX_string = Performer.simple_run(\n",
    "    agent_class=PayoffM3,\n",
    "    fixed_parameters=fixed_parameters,\n",
    "    free_parameters=free_parameters,\n",
    "    simulation_parameters=simulation_parameters,\n",
    "    image_folder=image_folder_M3,\n",
    "    measures=['render']\n",
    ")"
   ]
  },
  {
   "cell_type": "code",
   "execution_count": null,
   "metadata": {},
   "outputs": [],
   "source": []
  }
 ],
 "metadata": {
  "kernelspec": {
   "display_name": "base",
   "language": "python",
   "name": "python3"
  },
  "language_info": {
   "codemirror_mode": {
    "name": "ipython",
    "version": 3
   },
   "file_extension": ".py",
   "mimetype": "text/x-python",
   "name": "python",
   "nbconvert_exporter": "python",
   "pygments_lexer": "ipython3",
   "version": "3.11.5"
  }
 },
 "nbformat": 4,
 "nbformat_minor": 2
}
