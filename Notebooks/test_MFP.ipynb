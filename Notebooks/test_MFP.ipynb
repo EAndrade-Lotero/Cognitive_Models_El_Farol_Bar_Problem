{
 "cells": [
  {
   "cell_type": "markdown",
   "metadata": {},
   "source": [
    "# Markov Fictitious Play"
   ]
  },
  {
   "cell_type": "code",
   "execution_count": null,
   "metadata": {},
   "outputs": [],
   "source": [
    "import sys\n",
    "sys.path.append(\"../src\")\n",
    "\n",
    "import warnings\n",
    "warnings.filterwarnings(\"ignore\")"
   ]
  },
  {
   "cell_type": "code",
   "execution_count": null,
   "metadata": {},
   "outputs": [],
   "source": [
    "from Classes.cognitive_model_agents import MFPM1, MFPM2, MFPM3\n",
    "from Utils.unit_tests import (\n",
    "    test_bar_is_full, \n",
    "    test_bar_has_capacity,\n",
    "    test_alternation\n",
    ")"
   ]
  },
  {
   "cell_type": "code",
   "execution_count": null,
   "metadata": {},
   "outputs": [],
   "source": [
    "fixed_parameters = {\n",
    "\t\"threshold\":0.5,\n",
    "\t\"num_agents\":2,\n",
    "}\n",
    "free_parameters = {\n",
    "    \"belief_strength\":1,\n",
    "\t\"inverse_temperature\":16\n",
    "}"
   ]
  },
  {
   "cell_type": "code",
   "execution_count": null,
   "metadata": {},
   "outputs": [],
   "source": [
    "from pathlib import Path\n",
    "\n",
    "image_folder_all = Path('../images/MFP')\n",
    "image_folder_all.mkdir(parents=True, exist_ok=True)\n",
    "image_folder_M1 = Path('../images/MFP/M1')\n",
    "image_folder_M1.mkdir(parents=True, exist_ok=True)\n",
    "image_folder_M2 = Path('../images/MFP/M2')\n",
    "image_folder_M2.mkdir(parents=True, exist_ok=True)\n",
    "image_folder_M3 = Path('../images/MFP/M3')\n",
    "image_folder_M3.mkdir(parents=True, exist_ok=True)"
   ]
  },
  {
   "cell_type": "markdown",
   "metadata": {},
   "source": [
    "1. [M1](#m1)\n",
    "2. [M2](#m2)\n",
    "3. [M3](#m3)"
   ]
  },
  {
   "cell_type": "markdown",
   "metadata": {},
   "source": [
    "## M1 <a class=\"anchor\" id=\"m1\"></a>"
   ]
  },
  {
   "cell_type": "code",
   "execution_count": null,
   "metadata": {},
   "outputs": [],
   "source": [
    "agent = MFPM1(\n",
    "\tfixed_parameters=fixed_parameters,\n",
    "\tfree_parameters=free_parameters,\n",
    "\tn=0\n",
    ")\n",
    "agent.debug = True\n",
    "test_bar_has_capacity(agent)"
   ]
  },
  {
   "cell_type": "code",
   "execution_count": null,
   "metadata": {},
   "outputs": [],
   "source": [
    "agent = MFPM1(\n",
    "\tfixed_parameters=fixed_parameters,\n",
    "\tfree_parameters=free_parameters,\n",
    "\tn=0\n",
    ")\n",
    "agent.debug = True\n",
    "test_bar_is_full(agent)"
   ]
  },
  {
   "cell_type": "code",
   "execution_count": null,
   "metadata": {},
   "outputs": [],
   "source": [
    "agent = MFPM1(\n",
    "\tfixed_parameters=fixed_parameters,\n",
    "\tfree_parameters=free_parameters,\n",
    "\tn=0\n",
    ")\n",
    "agent.debug = True\n",
    "test_alternation(agent)"
   ]
  },
  {
   "cell_type": "code",
   "execution_count": null,
   "metadata": {},
   "outputs": [],
   "source": [
    "fixed_parameters = {\n",
    "\t\"threshold\":0.5,\n",
    "\t\"num_agents\":6,\n",
    "}\n",
    "free_parameters = {\n",
    "    \"belief_strength\":1,\n",
    "\t\"inverse_temperature\":16\n",
    "}\n",
    "simulation_parameters = {\n",
    "\t'num_episodes':100,\n",
    "\t'num_rounds':1000,\n",
    "\t'verbose':False\n",
    "}"
   ]
  },
  {
   "cell_type": "code",
   "execution_count": null,
   "metadata": {},
   "outputs": [],
   "source": [
    "from Utils.interaction import Performer\n",
    "\n",
    "LaTeX_string = Performer.sweep(\n",
    "    agent_class=MFPM1,\n",
    "    fixed_parameters=fixed_parameters,\n",
    "    free_parameters=free_parameters,\n",
    "    simulation_parameters=simulation_parameters,\n",
    "    sweep_parameter='belief_strength',\n",
    "    values=[2**x for x in range(0, 7)],\n",
    "    image_folder=image_folder_M1,\n",
    "    measures=['entropy', 'efficiency']\n",
    ")"
   ]
  },
  {
   "cell_type": "code",
   "execution_count": null,
   "metadata": {},
   "outputs": [],
   "source": [
    "LaTeX_string = Performer.sweep(\n",
    "    agent_class=MFPM1,\n",
    "    fixed_parameters=fixed_parameters,\n",
    "    free_parameters=free_parameters,\n",
    "    simulation_parameters=simulation_parameters,\n",
    "    sweep_parameter='inverse_temperature',\n",
    "    values=[2**x for x in range(0, 7)],\n",
    "    image_folder=image_folder_M1,\n",
    "    measures=['entropy', 'efficiency']\n",
    ")"
   ]
  },
  {
   "cell_type": "code",
   "execution_count": 16,
   "metadata": {},
   "outputs": [],
   "source": [
    "from Utils.interaction import Experiment\n",
    "\n",
    "exp = Experiment(\n",
    "    agent_class=MFPM1,\n",
    "    fixed_parameters=fixed_parameters,\n",
    "    free_parameters=free_parameters,\n",
    "    simulation_parameters=simulation_parameters,\n",
    "    measures=['efficiency', 'inequality', 'entropy', 'conditional_entropy']\n",
    ")"
   ]
  },
  {
   "cell_type": "code",
   "execution_count": 17,
   "metadata": {},
   "outputs": [
    {
     "data": {
      "application/vnd.jupyter.widget-view+json": {
       "model_id": "81a0c8e509d7499a9d34df667715d3b0",
       "version_major": 2,
       "version_minor": 0
      },
      "text/plain": [
       "  0%|          | 0/7 [00:00<?, ?it/s]"
      ]
     },
     "metadata": {},
     "output_type": "display_data"
    },
    {
     "data": {
      "application/vnd.jupyter.widget-view+json": {
       "model_id": "3df58696dd92403dbf439f4e31aa62ac",
       "version_major": 2,
       "version_minor": 0
      },
      "text/plain": [
       "  0%|          | 0/7 [00:00<?, ?it/s]"
      ]
     },
     "metadata": {},
     "output_type": "display_data"
    },
    {
     "data": {
      "application/vnd.jupyter.widget-view+json": {
       "model_id": "9e95ab20980a482fb828e06bf63dc66f",
       "version_major": 2,
       "version_minor": 0
      },
      "text/plain": [
       "  0%|          | 0/100 [00:00<?, ?it/s]"
      ]
     },
     "metadata": {},
     "output_type": "display_data"
    },
    {
     "data": {
      "application/vnd.jupyter.widget-view+json": {
       "model_id": "2870857485e04801841e5a453f6fd033",
       "version_major": 2,
       "version_minor": 0
      },
      "text/plain": [
       "  0%|          | 0/100 [00:00<?, ?it/s]"
      ]
     },
     "metadata": {},
     "output_type": "display_data"
    },
    {
     "data": {
      "application/vnd.jupyter.widget-view+json": {
       "model_id": "6808c65470324d398f7f1d824f0fdbb2",
       "version_major": 2,
       "version_minor": 0
      },
      "text/plain": [
       "  0%|          | 0/100 [00:00<?, ?it/s]"
      ]
     },
     "metadata": {},
     "output_type": "display_data"
    },
    {
     "data": {
      "application/vnd.jupyter.widget-view+json": {
       "model_id": "2bfa7b72cdc3402fa3bad89755a2354e",
       "version_major": 2,
       "version_minor": 0
      },
      "text/plain": [
       "  0%|          | 0/100 [00:00<?, ?it/s]"
      ]
     },
     "metadata": {},
     "output_type": "display_data"
    },
    {
     "data": {
      "application/vnd.jupyter.widget-view+json": {
       "model_id": "d1df6a2515cc48c99b2df4e987aa8097",
       "version_major": 2,
       "version_minor": 0
      },
      "text/plain": [
       "  0%|          | 0/100 [00:00<?, ?it/s]"
      ]
     },
     "metadata": {},
     "output_type": "display_data"
    },
    {
     "data": {
      "application/vnd.jupyter.widget-view+json": {
       "model_id": "7c291b98e1b64c7787445224870f7d6f",
       "version_major": 2,
       "version_minor": 0
      },
      "text/plain": [
       "  0%|          | 0/100 [00:00<?, ?it/s]"
      ]
     },
     "metadata": {},
     "output_type": "display_data"
    },
    {
     "data": {
      "application/vnd.jupyter.widget-view+json": {
       "model_id": "a0b11a0597e641b8b6f61006382cba7f",
       "version_major": 2,
       "version_minor": 0
      },
      "text/plain": [
       "  0%|          | 0/100 [00:00<?, ?it/s]"
      ]
     },
     "metadata": {},
     "output_type": "display_data"
    },
    {
     "data": {
      "application/vnd.jupyter.widget-view+json": {
       "model_id": "9a16b69a51534917a10150630b887ac8",
       "version_major": 2,
       "version_minor": 0
      },
      "text/plain": [
       "  0%|          | 0/7 [00:00<?, ?it/s]"
      ]
     },
     "metadata": {},
     "output_type": "display_data"
    },
    {
     "data": {
      "application/vnd.jupyter.widget-view+json": {
       "model_id": "8cf10aee9e8844c39994390a708ec559",
       "version_major": 2,
       "version_minor": 0
      },
      "text/plain": [
       "  0%|          | 0/100 [00:00<?, ?it/s]"
      ]
     },
     "metadata": {},
     "output_type": "display_data"
    },
    {
     "data": {
      "application/vnd.jupyter.widget-view+json": {
       "model_id": "63a9c5051fc7485eb207640b16879562",
       "version_major": 2,
       "version_minor": 0
      },
      "text/plain": [
       "  0%|          | 0/100 [00:00<?, ?it/s]"
      ]
     },
     "metadata": {},
     "output_type": "display_data"
    },
    {
     "data": {
      "application/vnd.jupyter.widget-view+json": {
       "model_id": "c1e2901362bd4ab59888fc11edcc31da",
       "version_major": 2,
       "version_minor": 0
      },
      "text/plain": [
       "  0%|          | 0/100 [00:00<?, ?it/s]"
      ]
     },
     "metadata": {},
     "output_type": "display_data"
    },
    {
     "data": {
      "application/vnd.jupyter.widget-view+json": {
       "model_id": "e37a27c50f2f44e1b284b34a156bba99",
       "version_major": 2,
       "version_minor": 0
      },
      "text/plain": [
       "  0%|          | 0/100 [00:00<?, ?it/s]"
      ]
     },
     "metadata": {},
     "output_type": "display_data"
    },
    {
     "data": {
      "application/vnd.jupyter.widget-view+json": {
       "model_id": "fbedc0b320904a078fceb8343d5f1ca6",
       "version_major": 2,
       "version_minor": 0
      },
      "text/plain": [
       "  0%|          | 0/100 [00:00<?, ?it/s]"
      ]
     },
     "metadata": {},
     "output_type": "display_data"
    },
    {
     "data": {
      "application/vnd.jupyter.widget-view+json": {
       "model_id": "725935bd2f7a4eb9a93edc97299e8105",
       "version_major": 2,
       "version_minor": 0
      },
      "text/plain": [
       "  0%|          | 0/100 [00:00<?, ?it/s]"
      ]
     },
     "metadata": {},
     "output_type": "display_data"
    },
    {
     "data": {
      "application/vnd.jupyter.widget-view+json": {
       "model_id": "872518b9169045ea956653bb7f0f3601",
       "version_major": 2,
       "version_minor": 0
      },
      "text/plain": [
       "  0%|          | 0/100 [00:00<?, ?it/s]"
      ]
     },
     "metadata": {},
     "output_type": "display_data"
    },
    {
     "data": {
      "application/vnd.jupyter.widget-view+json": {
       "model_id": "be45fca0fabc4e5395246512ef79263f",
       "version_major": 2,
       "version_minor": 0
      },
      "text/plain": [
       "  0%|          | 0/7 [00:00<?, ?it/s]"
      ]
     },
     "metadata": {},
     "output_type": "display_data"
    },
    {
     "data": {
      "application/vnd.jupyter.widget-view+json": {
       "model_id": "3477171c8d18491487d303b3dd799b2c",
       "version_major": 2,
       "version_minor": 0
      },
      "text/plain": [
       "  0%|          | 0/100 [00:00<?, ?it/s]"
      ]
     },
     "metadata": {},
     "output_type": "display_data"
    },
    {
     "data": {
      "application/vnd.jupyter.widget-view+json": {
       "model_id": "c0b380623b9d468a80ecd5a10feb3991",
       "version_major": 2,
       "version_minor": 0
      },
      "text/plain": [
       "  0%|          | 0/100 [00:00<?, ?it/s]"
      ]
     },
     "metadata": {},
     "output_type": "display_data"
    },
    {
     "data": {
      "application/vnd.jupyter.widget-view+json": {
       "model_id": "5aa8797e6eca424ba567936c90d7e02f",
       "version_major": 2,
       "version_minor": 0
      },
      "text/plain": [
       "  0%|          | 0/100 [00:00<?, ?it/s]"
      ]
     },
     "metadata": {},
     "output_type": "display_data"
    },
    {
     "data": {
      "application/vnd.jupyter.widget-view+json": {
       "model_id": "e288f589f8a446ec9206cd8a0792627c",
       "version_major": 2,
       "version_minor": 0
      },
      "text/plain": [
       "  0%|          | 0/100 [00:00<?, ?it/s]"
      ]
     },
     "metadata": {},
     "output_type": "display_data"
    },
    {
     "data": {
      "application/vnd.jupyter.widget-view+json": {
       "model_id": "2b3983ae3bb14b04804f561dc57a3b46",
       "version_major": 2,
       "version_minor": 0
      },
      "text/plain": [
       "  0%|          | 0/100 [00:00<?, ?it/s]"
      ]
     },
     "metadata": {},
     "output_type": "display_data"
    },
    {
     "data": {
      "application/vnd.jupyter.widget-view+json": {
       "model_id": "ad2774878709406e96b1de2c59ccfe82",
       "version_major": 2,
       "version_minor": 0
      },
      "text/plain": [
       "  0%|          | 0/100 [00:00<?, ?it/s]"
      ]
     },
     "metadata": {},
     "output_type": "display_data"
    },
    {
     "data": {
      "application/vnd.jupyter.widget-view+json": {
       "model_id": "6e6b7d71fdb64b7ba19cb96106746d7b",
       "version_major": 2,
       "version_minor": 0
      },
      "text/plain": [
       "  0%|          | 0/100 [00:00<?, ?it/s]"
      ]
     },
     "metadata": {},
     "output_type": "display_data"
    },
    {
     "data": {
      "application/vnd.jupyter.widget-view+json": {
       "model_id": "685406283f5f4ed7a716003fb7097c82",
       "version_major": 2,
       "version_minor": 0
      },
      "text/plain": [
       "  0%|          | 0/7 [00:00<?, ?it/s]"
      ]
     },
     "metadata": {},
     "output_type": "display_data"
    },
    {
     "data": {
      "application/vnd.jupyter.widget-view+json": {
       "model_id": "d8a88f5f5a524cb6a693e6f35eab729a",
       "version_major": 2,
       "version_minor": 0
      },
      "text/plain": [
       "  0%|          | 0/100 [00:00<?, ?it/s]"
      ]
     },
     "metadata": {},
     "output_type": "display_data"
    },
    {
     "data": {
      "application/vnd.jupyter.widget-view+json": {
       "model_id": "d6f9e48bf8e94aba878812d79ac112f8",
       "version_major": 2,
       "version_minor": 0
      },
      "text/plain": [
       "  0%|          | 0/100 [00:00<?, ?it/s]"
      ]
     },
     "metadata": {},
     "output_type": "display_data"
    },
    {
     "data": {
      "application/vnd.jupyter.widget-view+json": {
       "model_id": "17e50679ccb043cf913a3fc5a5fb2361",
       "version_major": 2,
       "version_minor": 0
      },
      "text/plain": [
       "  0%|          | 0/100 [00:00<?, ?it/s]"
      ]
     },
     "metadata": {},
     "output_type": "display_data"
    },
    {
     "data": {
      "application/vnd.jupyter.widget-view+json": {
       "model_id": "14edd423a3be44a59f2f30216613184f",
       "version_major": 2,
       "version_minor": 0
      },
      "text/plain": [
       "  0%|          | 0/100 [00:00<?, ?it/s]"
      ]
     },
     "metadata": {},
     "output_type": "display_data"
    },
    {
     "data": {
      "application/vnd.jupyter.widget-view+json": {
       "model_id": "a69672b045c14f38a734d479ac3f7441",
       "version_major": 2,
       "version_minor": 0
      },
      "text/plain": [
       "  0%|          | 0/100 [00:00<?, ?it/s]"
      ]
     },
     "metadata": {},
     "output_type": "display_data"
    },
    {
     "data": {
      "application/vnd.jupyter.widget-view+json": {
       "model_id": "cba0a833299648cabfe40a7a536c5b32",
       "version_major": 2,
       "version_minor": 0
      },
      "text/plain": [
       "  0%|          | 0/100 [00:00<?, ?it/s]"
      ]
     },
     "metadata": {},
     "output_type": "display_data"
    },
    {
     "data": {
      "application/vnd.jupyter.widget-view+json": {
       "model_id": "bc6bf49542034ab29cba5495e47b8e06",
       "version_major": 2,
       "version_minor": 0
      },
      "text/plain": [
       "  0%|          | 0/100 [00:00<?, ?it/s]"
      ]
     },
     "metadata": {},
     "output_type": "display_data"
    },
    {
     "data": {
      "application/vnd.jupyter.widget-view+json": {
       "model_id": "7d6bcc0018dd4b06b5049c7927120247",
       "version_major": 2,
       "version_minor": 0
      },
      "text/plain": [
       "  0%|          | 0/7 [00:00<?, ?it/s]"
      ]
     },
     "metadata": {},
     "output_type": "display_data"
    },
    {
     "data": {
      "application/vnd.jupyter.widget-view+json": {
       "model_id": "9cf9cd66dce3456eb02f59ece575a63e",
       "version_major": 2,
       "version_minor": 0
      },
      "text/plain": [
       "  0%|          | 0/100 [00:00<?, ?it/s]"
      ]
     },
     "metadata": {},
     "output_type": "display_data"
    },
    {
     "data": {
      "application/vnd.jupyter.widget-view+json": {
       "model_id": "e7d6c633b3ee43caa2d21ee12bc09548",
       "version_major": 2,
       "version_minor": 0
      },
      "text/plain": [
       "  0%|          | 0/100 [00:00<?, ?it/s]"
      ]
     },
     "metadata": {},
     "output_type": "display_data"
    },
    {
     "data": {
      "application/vnd.jupyter.widget-view+json": {
       "model_id": "43c10c57bb2043ff88ea23e8e26a91cc",
       "version_major": 2,
       "version_minor": 0
      },
      "text/plain": [
       "  0%|          | 0/100 [00:00<?, ?it/s]"
      ]
     },
     "metadata": {},
     "output_type": "display_data"
    },
    {
     "data": {
      "application/vnd.jupyter.widget-view+json": {
       "model_id": "6db4b96471b84e369d3002945e578a8b",
       "version_major": 2,
       "version_minor": 0
      },
      "text/plain": [
       "  0%|          | 0/100 [00:00<?, ?it/s]"
      ]
     },
     "metadata": {},
     "output_type": "display_data"
    },
    {
     "data": {
      "application/vnd.jupyter.widget-view+json": {
       "model_id": "3751c6fbbfd042878d112d1b22b7c179",
       "version_major": 2,
       "version_minor": 0
      },
      "text/plain": [
       "  0%|          | 0/100 [00:00<?, ?it/s]"
      ]
     },
     "metadata": {},
     "output_type": "display_data"
    },
    {
     "data": {
      "application/vnd.jupyter.widget-view+json": {
       "model_id": "f909ba5ef1e84781b95d84d2591580ae",
       "version_major": 2,
       "version_minor": 0
      },
      "text/plain": [
       "  0%|          | 0/100 [00:00<?, ?it/s]"
      ]
     },
     "metadata": {},
     "output_type": "display_data"
    },
    {
     "data": {
      "application/vnd.jupyter.widget-view+json": {
       "model_id": "4074c8a672a04c2b9e0db81a2533e4d8",
       "version_major": 2,
       "version_minor": 0
      },
      "text/plain": [
       "  0%|          | 0/100 [00:00<?, ?it/s]"
      ]
     },
     "metadata": {},
     "output_type": "display_data"
    },
    {
     "data": {
      "application/vnd.jupyter.widget-view+json": {
       "model_id": "8c73d190e87a4d4197d78b308dc2ccda",
       "version_major": 2,
       "version_minor": 0
      },
      "text/plain": [
       "  0%|          | 0/7 [00:00<?, ?it/s]"
      ]
     },
     "metadata": {},
     "output_type": "display_data"
    },
    {
     "data": {
      "application/vnd.jupyter.widget-view+json": {
       "model_id": "b28e044b2660405c8ea3724470829bd2",
       "version_major": 2,
       "version_minor": 0
      },
      "text/plain": [
       "  0%|          | 0/100 [00:00<?, ?it/s]"
      ]
     },
     "metadata": {},
     "output_type": "display_data"
    },
    {
     "data": {
      "application/vnd.jupyter.widget-view+json": {
       "model_id": "fb921e83301c476cbe4d8924a0c0e82e",
       "version_major": 2,
       "version_minor": 0
      },
      "text/plain": [
       "  0%|          | 0/100 [00:00<?, ?it/s]"
      ]
     },
     "metadata": {},
     "output_type": "display_data"
    },
    {
     "data": {
      "application/vnd.jupyter.widget-view+json": {
       "model_id": "3e4a546035a244159307c420cc097f88",
       "version_major": 2,
       "version_minor": 0
      },
      "text/plain": [
       "  0%|          | 0/100 [00:00<?, ?it/s]"
      ]
     },
     "metadata": {},
     "output_type": "display_data"
    },
    {
     "data": {
      "application/vnd.jupyter.widget-view+json": {
       "model_id": "018dec8528f6455c903fcf2068a4c119",
       "version_major": 2,
       "version_minor": 0
      },
      "text/plain": [
       "  0%|          | 0/100 [00:00<?, ?it/s]"
      ]
     },
     "metadata": {},
     "output_type": "display_data"
    },
    {
     "data": {
      "application/vnd.jupyter.widget-view+json": {
       "model_id": "c203effb1a8c43d48ee38fe5fce0d30f",
       "version_major": 2,
       "version_minor": 0
      },
      "text/plain": [
       "  0%|          | 0/100 [00:00<?, ?it/s]"
      ]
     },
     "metadata": {},
     "output_type": "display_data"
    },
    {
     "data": {
      "application/vnd.jupyter.widget-view+json": {
       "model_id": "b884d8eb22b34e578c3cd254bb3367a5",
       "version_major": 2,
       "version_minor": 0
      },
      "text/plain": [
       "  0%|          | 0/100 [00:00<?, ?it/s]"
      ]
     },
     "metadata": {},
     "output_type": "display_data"
    },
    {
     "data": {
      "application/vnd.jupyter.widget-view+json": {
       "model_id": "297a0c63b5f949d084fd4a68a5a2e643",
       "version_major": 2,
       "version_minor": 0
      },
      "text/plain": [
       "  0%|          | 0/100 [00:00<?, ?it/s]"
      ]
     },
     "metadata": {},
     "output_type": "display_data"
    },
    {
     "data": {
      "application/vnd.jupyter.widget-view+json": {
       "model_id": "29c37055171a41dbacde522e6317692a",
       "version_major": 2,
       "version_minor": 0
      },
      "text/plain": [
       "  0%|          | 0/7 [00:00<?, ?it/s]"
      ]
     },
     "metadata": {},
     "output_type": "display_data"
    },
    {
     "data": {
      "application/vnd.jupyter.widget-view+json": {
       "model_id": "07cf77545e094adda55e6b65c3bd6d05",
       "version_major": 2,
       "version_minor": 0
      },
      "text/plain": [
       "  0%|          | 0/100 [00:00<?, ?it/s]"
      ]
     },
     "metadata": {},
     "output_type": "display_data"
    },
    {
     "data": {
      "application/vnd.jupyter.widget-view+json": {
       "model_id": "61b611a288fa41bf87ae8451b29acd4e",
       "version_major": 2,
       "version_minor": 0
      },
      "text/plain": [
       "  0%|          | 0/100 [00:00<?, ?it/s]"
      ]
     },
     "metadata": {},
     "output_type": "display_data"
    },
    {
     "data": {
      "application/vnd.jupyter.widget-view+json": {
       "model_id": "d46c4f06f45f4bd1a710ef3c1d2a2d50",
       "version_major": 2,
       "version_minor": 0
      },
      "text/plain": [
       "  0%|          | 0/100 [00:00<?, ?it/s]"
      ]
     },
     "metadata": {},
     "output_type": "display_data"
    },
    {
     "data": {
      "application/vnd.jupyter.widget-view+json": {
       "model_id": "24bbcfb910cd4495af8aef08ae7fa6d6",
       "version_major": 2,
       "version_minor": 0
      },
      "text/plain": [
       "  0%|          | 0/100 [00:00<?, ?it/s]"
      ]
     },
     "metadata": {},
     "output_type": "display_data"
    },
    {
     "data": {
      "application/vnd.jupyter.widget-view+json": {
       "model_id": "ae0fb8bd1bbe4f6eb65765f47ae3bfae",
       "version_major": 2,
       "version_minor": 0
      },
      "text/plain": [
       "  0%|          | 0/100 [00:00<?, ?it/s]"
      ]
     },
     "metadata": {},
     "output_type": "display_data"
    },
    {
     "data": {
      "application/vnd.jupyter.widget-view+json": {
       "model_id": "9ada3cf9f6374a92926c4149ca2a124d",
       "version_major": 2,
       "version_minor": 0
      },
      "text/plain": [
       "  0%|          | 0/100 [00:00<?, ?it/s]"
      ]
     },
     "metadata": {},
     "output_type": "display_data"
    },
    {
     "data": {
      "application/vnd.jupyter.widget-view+json": {
       "model_id": "30107a2f7f794d3cab90ce3dcfd943f6",
       "version_major": 2,
       "version_minor": 0
      },
      "text/plain": [
       "  0%|          | 0/100 [00:00<?, ?it/s]"
      ]
     },
     "metadata": {},
     "output_type": "display_data"
    }
   ],
   "source": [
    "exp.run_sweep2(\n",
    "    parameter1='inverse_temperature',\n",
    "    values1=[2**x for x in range(0, 7)],\n",
    "    parameter2='belief_strength',\n",
    "    values2=[2**x for x in range(0, 7)],\n",
    "    file=image_folder_M2 / 'sweep_inverse_temp_vs_belief_strength'\n",
    ")"
   ]
  },
  {
   "cell_type": "code",
   "execution_count": 18,
   "metadata": {},
   "outputs": [],
   "source": [
    "from Utils.plot_utils import PlotStandardMeasures\n",
    "\n",
    "p = PlotStandardMeasures(exp.data)"
   ]
  },
  {
   "cell_type": "code",
   "execution_count": 21,
   "metadata": {},
   "outputs": [
    {
     "name": "stdout",
     "output_type": "stream",
     "text": [
      "Plot saved to ..\\images\\MFP\\M1\\efficiency_sweep_inverse_temp_vs_belief_strength.png\n"
     ]
    }
   ],
   "source": [
    "p.plot_sweep2(\n",
    "    parameter1='inverse_temperature', \n",
    "    parameter2='belief_strength',\n",
    "    measure='efficiency',\n",
    "    file=image_folder_M1 / Path('efficiency_sweep_inverse_temp_vs_belief_strength.png')\n",
    ")"
   ]
  },
  {
   "cell_type": "code",
   "execution_count": 22,
   "metadata": {},
   "outputs": [
    {
     "name": "stdout",
     "output_type": "stream",
     "text": [
      "Plot saved to ..\\images\\MFP\\M1\\entropy_sweep_inverse_temp_vs_belief_strength.png\n"
     ]
    }
   ],
   "source": [
    "p.plot_sweep2(\n",
    "    parameter1='inverse_temperature', \n",
    "    parameter2='belief_strength',\n",
    "    measure='entropy',\n",
    "    file=image_folder_M1 / Path('entropy_sweep_inverse_temp_vs_belief_strength.png')\n",
    ")"
   ]
  },
  {
   "cell_type": "markdown",
   "metadata": {},
   "source": [
    "---"
   ]
  },
  {
   "cell_type": "markdown",
   "metadata": {},
   "source": [
    "## M2 <a class=\"anchor\" id=\"m2\"></a>"
   ]
  },
  {
   "cell_type": "code",
   "execution_count": 24,
   "metadata": {},
   "outputs": [
    {
     "name": "stdout",
     "output_type": "stream",
     "text": [
      "\n",
      "------------------------------------------------------------\n",
      "Test bar has capacity\n",
      "------------------------------------------------------------\n",
      "Initial state: [0, 0]\n",
      "---------- Round 0 ----------\n",
      "prob_capacity=0.5 --- prob_crowded=0.5\n",
      "Expected utilities:\n",
      "no go:0 ---- go:0.0\n",
      "Action preferences in state (0, 0): [0, 0.0]\n",
      "prob_capacity=0.5 --- prob_crowded=0.5\n",
      "Expected utilities:\n",
      "no go:0 ---- go:0.0\n",
      "Action probabilities:\n",
      "no go:0.5 ---- go:0.5\n",
      "Chosen action: 1\n",
      "State arrived: [1, 0]\n",
      "Payoff action 1: 1\n",
      "I see the previous state: (0, 0)\n",
      "I recall the following frequencies of states:\n",
      "+--------+--------+--------+--------+\n",
      "| (0, 0) | (0, 1) | (1, 0) | (1, 1) |\n",
      "+--------+--------+--------+--------+\n",
      "|   1    |   0    |   0    |   0    |\n",
      "+--------+--------+--------+--------+\n",
      "I recall the following frequencies of bar with capacity:\n",
      "+--------+--------+--------+--------+\n",
      "| (0, 0) | (0, 1) | (1, 0) | (1, 1) |\n",
      "+--------+--------+--------+--------+\n",
      "|   1    |   0    |   0    |   0    |\n",
      "+--------+--------+--------+--------+\n",
      "---------- Round 1 ----------\n",
      "prob_capacity=0.5 --- prob_crowded=0.5\n",
      "Expected utilities:\n",
      "no go:0 ---- go:0.0\n",
      "Action preferences in state [1, 0]: [0, 0.0]\n",
      "prob_capacity=0.5 --- prob_crowded=0.5\n",
      "Expected utilities:\n",
      "no go:0 ---- go:0.0\n",
      "Action probabilities:\n",
      "no go:0.5 ---- go:0.5\n",
      "Chosen action: 0\n",
      "State arrived: [0, 0]\n",
      "Payoff action 0: 0\n",
      "I see the previous state: (1, 0)\n",
      "I recall the following frequencies of states:\n",
      "+--------+--------+--------+--------+\n",
      "| (0, 0) | (0, 1) | (1, 0) | (1, 1) |\n",
      "+--------+--------+--------+--------+\n",
      "|   1    |   0    |   1    |   0    |\n",
      "+--------+--------+--------+--------+\n",
      "I recall the following frequencies of bar with capacity:\n",
      "+--------+--------+--------+--------+\n",
      "| (0, 0) | (0, 1) | (1, 0) | (1, 1) |\n",
      "+--------+--------+--------+--------+\n",
      "|   1    |   0    |   1    |   0    |\n",
      "+--------+--------+--------+--------+\n",
      "---------- Round 2 ----------\n",
      "prob_capacity=0.6666666666666666 --- prob_crowded=0.33333333333333337\n",
      "Expected utilities:\n",
      "no go:0 ---- go:0.33333333333333326\n",
      "Action preferences in state [0, 0]: [0, 0.33333333333333326]\n",
      "prob_capacity=0.6666666666666666 --- prob_crowded=0.33333333333333337\n",
      "Expected utilities:\n",
      "no go:0 ---- go:0.33333333333333326\n",
      "Action probabilities:\n",
      "no go:0.004804752887159521 ---- go:0.9951952471128405\n",
      "Chosen action: 1\n",
      "State arrived: [1, 0]\n",
      "Payoff action 1: 1\n",
      "I see the previous state: (0, 0)\n",
      "I recall the following frequencies of states:\n",
      "+--------+--------+--------+--------+\n",
      "| (0, 0) | (0, 1) | (1, 0) | (1, 1) |\n",
      "+--------+--------+--------+--------+\n",
      "|   2    |   0    |   1    |   0    |\n",
      "+--------+--------+--------+--------+\n",
      "I recall the following frequencies of bar with capacity:\n",
      "+--------+--------+--------+--------+\n",
      "| (0, 0) | (0, 1) | (1, 0) | (1, 1) |\n",
      "+--------+--------+--------+--------+\n",
      "|   2    |   0    |   1    |   0    |\n",
      "+--------+--------+--------+--------+\n",
      "---------- Round 3 ----------\n",
      "prob_capacity=0.6666666666666666 --- prob_crowded=0.33333333333333337\n",
      "Expected utilities:\n",
      "no go:0 ---- go:0.33333333333333326\n",
      "Action preferences in state [1, 0]: [0, 0.33333333333333326]\n",
      "prob_capacity=0.6666666666666666 --- prob_crowded=0.33333333333333337\n",
      "Expected utilities:\n",
      "no go:0 ---- go:0.33333333333333326\n",
      "Action probabilities:\n",
      "no go:0.004804752887159521 ---- go:0.9951952471128405\n",
      "Chosen action: 1\n",
      "State arrived: [1, 0]\n",
      "Payoff action 1: 1\n",
      "I see the previous state: (1, 0)\n",
      "I recall the following frequencies of states:\n",
      "+--------+--------+--------+--------+\n",
      "| (0, 0) | (0, 1) | (1, 0) | (1, 1) |\n",
      "+--------+--------+--------+--------+\n",
      "|   2    |   0    |   2    |   0    |\n",
      "+--------+--------+--------+--------+\n",
      "I recall the following frequencies of bar with capacity:\n",
      "+--------+--------+--------+--------+\n",
      "| (0, 0) | (0, 1) | (1, 0) | (1, 1) |\n",
      "+--------+--------+--------+--------+\n",
      "|   2    |   0    |   2    |   0    |\n",
      "+--------+--------+--------+--------+\n",
      "---------- Round 4 ----------\n",
      "prob_capacity=0.75 --- prob_crowded=0.25\n",
      "Expected utilities:\n",
      "no go:0 ---- go:0.5\n",
      "Action preferences in state [1, 0]: [0, 0.5]\n",
      "prob_capacity=0.75 --- prob_crowded=0.25\n",
      "Expected utilities:\n",
      "no go:0 ---- go:0.5\n",
      "Action probabilities:\n",
      "no go:0.0003353501304664781 ---- go:0.9996646498695335\n",
      "Chosen action: 1\n",
      "State arrived: [1, 0]\n",
      "Payoff action 1: 1\n",
      "I see the previous state: (1, 0)\n",
      "I recall the following frequencies of states:\n",
      "+--------+--------+--------+--------+\n",
      "| (0, 0) | (0, 1) | (1, 0) | (1, 1) |\n",
      "+--------+--------+--------+--------+\n",
      "|   2    |   0    |   3    |   0    |\n",
      "+--------+--------+--------+--------+\n",
      "I recall the following frequencies of bar with capacity:\n",
      "+--------+--------+--------+--------+\n",
      "| (0, 0) | (0, 1) | (1, 0) | (1, 1) |\n",
      "+--------+--------+--------+--------+\n",
      "|   2    |   0    |   3    |   0    |\n",
      "+--------+--------+--------+--------+\n",
      "---------- Round 5 ----------\n",
      "prob_capacity=0.8 --- prob_crowded=0.19999999999999996\n",
      "Expected utilities:\n",
      "no go:0 ---- go:0.6000000000000001\n",
      "Action preferences in state [1, 0]: [0, 0.6000000000000001]\n",
      "prob_capacity=0.8 --- prob_crowded=0.19999999999999996\n",
      "Expected utilities:\n",
      "no go:0 ---- go:0.6000000000000001\n",
      "Action probabilities:\n",
      "no go:6.772414961977008e-05 ---- go:0.9999322758503802\n",
      "Chosen action: 1\n",
      "State arrived: [1, 0]\n",
      "Payoff action 1: 1\n",
      "I see the previous state: (1, 0)\n",
      "I recall the following frequencies of states:\n",
      "+--------+--------+--------+--------+\n",
      "| (0, 0) | (0, 1) | (1, 0) | (1, 1) |\n",
      "+--------+--------+--------+--------+\n",
      "|   2    |   0    |   4    |   0    |\n",
      "+--------+--------+--------+--------+\n",
      "I recall the following frequencies of bar with capacity:\n",
      "+--------+--------+--------+--------+\n",
      "| (0, 0) | (0, 1) | (1, 0) | (1, 1) |\n",
      "+--------+--------+--------+--------+\n",
      "|   2    |   0    |   4    |   0    |\n",
      "+--------+--------+--------+--------+\n",
      "---------- Round 6 ----------\n",
      "prob_capacity=0.8333333333333334 --- prob_crowded=0.16666666666666663\n",
      "Expected utilities:\n",
      "no go:0 ---- go:0.6666666666666667\n",
      "Action preferences in state [1, 0]: [0, 0.6666666666666667]\n",
      "prob_capacity=0.8333333333333334 --- prob_crowded=0.16666666666666663\n",
      "Expected utilities:\n",
      "no go:0 ---- go:0.6666666666666667\n",
      "Action probabilities:\n",
      "no go:2.330855784140474e-05 ---- go:0.9999766914421586\n",
      "Chosen action: 1\n",
      "State arrived: [1, 0]\n",
      "Payoff action 1: 1\n",
      "I see the previous state: (1, 0)\n",
      "I recall the following frequencies of states:\n",
      "+--------+--------+--------+--------+\n",
      "| (0, 0) | (0, 1) | (1, 0) | (1, 1) |\n",
      "+--------+--------+--------+--------+\n",
      "|   2    |   0    |   5    |   0    |\n",
      "+--------+--------+--------+--------+\n",
      "I recall the following frequencies of bar with capacity:\n",
      "+--------+--------+--------+--------+\n",
      "| (0, 0) | (0, 1) | (1, 0) | (1, 1) |\n",
      "+--------+--------+--------+--------+\n",
      "|   2    |   0    |   5    |   0    |\n",
      "+--------+--------+--------+--------+\n",
      "---------- Round 7 ----------\n",
      "prob_capacity=0.8571428571428571 --- prob_crowded=0.1428571428571429\n",
      "Expected utilities:\n",
      "no go:0 ---- go:0.7142857142857142\n",
      "Action preferences in state [1, 0]: [0, 0.7142857142857142]\n",
      "prob_capacity=0.8571428571428571 --- prob_crowded=0.1428571428571429\n",
      "Expected utilities:\n",
      "no go:0 ---- go:0.7142857142857142\n",
      "Action probabilities:\n",
      "no go:1.0880021845800028e-05 ---- go:0.9999891199781543\n",
      "Chosen action: 1\n",
      "State arrived: [1, 0]\n",
      "Payoff action 1: 1\n",
      "I see the previous state: (1, 0)\n",
      "I recall the following frequencies of states:\n",
      "+--------+--------+--------+--------+\n",
      "| (0, 0) | (0, 1) | (1, 0) | (1, 1) |\n",
      "+--------+--------+--------+--------+\n",
      "|   2    |   0    |   6    |   0    |\n",
      "+--------+--------+--------+--------+\n",
      "I recall the following frequencies of bar with capacity:\n",
      "+--------+--------+--------+--------+\n",
      "| (0, 0) | (0, 1) | (1, 0) | (1, 1) |\n",
      "+--------+--------+--------+--------+\n",
      "|   2    |   0    |   6    |   0    |\n",
      "+--------+--------+--------+--------+\n",
      "---------- Round 8 ----------\n",
      "prob_capacity=0.875 --- prob_crowded=0.125\n",
      "Expected utilities:\n",
      "no go:0 ---- go:0.75\n",
      "Action preferences in state [1, 0]: [0, 0.75]\n",
      "prob_capacity=0.875 --- prob_crowded=0.125\n",
      "Expected utilities:\n",
      "no go:0 ---- go:0.75\n",
      "Action probabilities:\n",
      "no go:6.144174602214717e-06 ---- go:0.9999938558253978\n",
      "Chosen action: 1\n",
      "State arrived: [1, 0]\n",
      "Payoff action 1: 1\n",
      "I see the previous state: (1, 0)\n",
      "I recall the following frequencies of states:\n",
      "+--------+--------+--------+--------+\n",
      "| (0, 0) | (0, 1) | (1, 0) | (1, 1) |\n",
      "+--------+--------+--------+--------+\n",
      "|   2    |   0    |   7    |   0    |\n",
      "+--------+--------+--------+--------+\n",
      "I recall the following frequencies of bar with capacity:\n",
      "+--------+--------+--------+--------+\n",
      "| (0, 0) | (0, 1) | (1, 0) | (1, 1) |\n",
      "+--------+--------+--------+--------+\n",
      "|   2    |   0    |   7    |   0    |\n",
      "+--------+--------+--------+--------+\n",
      "---------- Round 9 ----------\n",
      "prob_capacity=0.8888888888888888 --- prob_crowded=0.11111111111111116\n",
      "Expected utilities:\n",
      "no go:0 ---- go:0.7777777777777777\n",
      "Action preferences in state [1, 0]: [0, 0.7777777777777777]\n",
      "prob_capacity=0.8888888888888888 --- prob_crowded=0.11111111111111116\n",
      "Expected utilities:\n",
      "no go:0 ---- go:0.7777777777777777\n",
      "Action probabilities:\n",
      "no go:3.939532943322164e-06 ---- go:0.9999960604670567\n",
      "Chosen action: 1\n",
      "State arrived: [1, 0]\n",
      "Payoff action 1: 1\n",
      "I see the previous state: (1, 0)\n",
      "I recall the following frequencies of states:\n",
      "+--------+--------+--------+--------+\n",
      "| (0, 0) | (0, 1) | (1, 0) | (1, 1) |\n",
      "+--------+--------+--------+--------+\n",
      "|   2    |   0    |   8    |   0    |\n",
      "+--------+--------+--------+--------+\n",
      "I recall the following frequencies of bar with capacity:\n",
      "+--------+--------+--------+--------+\n",
      "| (0, 0) | (0, 1) | (1, 0) | (1, 1) |\n",
      "+--------+--------+--------+--------+\n",
      "|   2    |   0    |   8    |   0    |\n",
      "+--------+--------+--------+--------+\n"
     ]
    }
   ],
   "source": [
    "fixed_parameters = {\n",
    "\t\"threshold\":0.5,\n",
    "\t\"num_agents\":2,\n",
    "}\n",
    "free_parameters = {\n",
    "    \"belief_strength\":1,\n",
    "\t\"inverse_temperature\":16\n",
    "}\n",
    "agent = MFPM2(\n",
    "\tfixed_parameters=fixed_parameters,\n",
    "\tfree_parameters=free_parameters,\n",
    "\tn=0\n",
    ")\n",
    "agent.debug = True\n",
    "test_bar_has_capacity(agent)"
   ]
  },
  {
   "cell_type": "code",
   "execution_count": 25,
   "metadata": {},
   "outputs": [
    {
     "name": "stdout",
     "output_type": "stream",
     "text": [
      "\n",
      "------------------------------------------------------------\n",
      "Test bar is full\n",
      "------------------------------------------------------------\n",
      "Initial state: [1, 1]\n",
      "---------- Round 0 ----------\n",
      "prob_capacity=0.5 --- prob_crowded=0.5\n",
      "Expected utilities:\n",
      "no go:0 ---- go:0.0\n",
      "Action preferences in state (1, 1): [0, 0.0]\n",
      "prob_capacity=0.5 --- prob_crowded=0.5\n",
      "Expected utilities:\n",
      "no go:0 ---- go:0.0\n",
      "Action probabilities:\n",
      "no go:0.5 ---- go:0.5\n",
      "Chosen action: 0\n",
      "State arrived: [0, 1]\n",
      "Payoff action 0: 0\n",
      "I see the previous state: (1, 1)\n",
      "I recall the following frequencies of states:\n",
      "+--------+--------+--------+--------+\n",
      "| (0, 0) | (0, 1) | (1, 0) | (1, 1) |\n",
      "+--------+--------+--------+--------+\n",
      "|   0    |   0    |   0    |   1    |\n",
      "+--------+--------+--------+--------+\n",
      "I recall the following frequencies of bar with capacity:\n",
      "+--------+--------+--------+--------+\n",
      "| (0, 0) | (0, 1) | (1, 0) | (1, 1) |\n",
      "+--------+--------+--------+--------+\n",
      "|   0    |   0    |   0    |   0    |\n",
      "+--------+--------+--------+--------+\n",
      "---------- Round 1 ----------\n",
      "prob_capacity=0.5 --- prob_crowded=0.5\n",
      "Expected utilities:\n",
      "no go:0 ---- go:0.0\n",
      "Action preferences in state [0, 1]: [0, 0.0]\n",
      "prob_capacity=0.5 --- prob_crowded=0.5\n",
      "Expected utilities:\n",
      "no go:0 ---- go:0.0\n",
      "Action probabilities:\n",
      "no go:0.5 ---- go:0.5\n",
      "Chosen action: 1\n",
      "State arrived: [1, 1]\n",
      "Payoff action 1: -1\n",
      "I see the previous state: (0, 1)\n",
      "I recall the following frequencies of states:\n",
      "+--------+--------+--------+--------+\n",
      "| (0, 0) | (0, 1) | (1, 0) | (1, 1) |\n",
      "+--------+--------+--------+--------+\n",
      "|   0    |   1    |   0    |   1    |\n",
      "+--------+--------+--------+--------+\n",
      "I recall the following frequencies of bar with capacity:\n",
      "+--------+--------+--------+--------+\n",
      "| (0, 0) | (0, 1) | (1, 0) | (1, 1) |\n",
      "+--------+--------+--------+--------+\n",
      "|   0    |   0    |   0    |   0    |\n",
      "+--------+--------+--------+--------+\n",
      "---------- Round 2 ----------\n",
      "prob_capacity=0.3333333333333333 --- prob_crowded=0.6666666666666667\n",
      "Expected utilities:\n",
      "no go:0 ---- go:-0.3333333333333334\n",
      "Action preferences in state [1, 1]: [0, -0.3333333333333334]\n",
      "prob_capacity=0.3333333333333333 --- prob_crowded=0.6666666666666667\n",
      "Expected utilities:\n",
      "no go:0 ---- go:-0.3333333333333334\n",
      "Action probabilities:\n",
      "no go:0.9951952471128405 ---- go:0.004804752887159509\n",
      "Chosen action: 0\n",
      "State arrived: [0, 1]\n",
      "Payoff action 0: 0\n",
      "I see the previous state: (1, 1)\n",
      "I recall the following frequencies of states:\n",
      "+--------+--------+--------+--------+\n",
      "| (0, 0) | (0, 1) | (1, 0) | (1, 1) |\n",
      "+--------+--------+--------+--------+\n",
      "|   0    |   1    |   0    |   2    |\n",
      "+--------+--------+--------+--------+\n",
      "I recall the following frequencies of bar with capacity:\n",
      "+--------+--------+--------+--------+\n",
      "| (0, 0) | (0, 1) | (1, 0) | (1, 1) |\n",
      "+--------+--------+--------+--------+\n",
      "|   0    |   0    |   0    |   0    |\n",
      "+--------+--------+--------+--------+\n",
      "---------- Round 3 ----------\n",
      "prob_capacity=0.3333333333333333 --- prob_crowded=0.6666666666666667\n",
      "Expected utilities:\n",
      "no go:0 ---- go:-0.3333333333333334\n",
      "Action preferences in state [0, 1]: [0, -0.3333333333333334]\n",
      "prob_capacity=0.3333333333333333 --- prob_crowded=0.6666666666666667\n",
      "Expected utilities:\n",
      "no go:0 ---- go:-0.3333333333333334\n",
      "Action probabilities:\n",
      "no go:0.9951952471128405 ---- go:0.004804752887159509\n",
      "Chosen action: 0\n",
      "State arrived: [0, 1]\n",
      "Payoff action 0: 0\n",
      "I see the previous state: (0, 1)\n",
      "I recall the following frequencies of states:\n",
      "+--------+--------+--------+--------+\n",
      "| (0, 0) | (0, 1) | (1, 0) | (1, 1) |\n",
      "+--------+--------+--------+--------+\n",
      "|   0    |   2    |   0    |   2    |\n",
      "+--------+--------+--------+--------+\n",
      "I recall the following frequencies of bar with capacity:\n",
      "+--------+--------+--------+--------+\n",
      "| (0, 0) | (0, 1) | (1, 0) | (1, 1) |\n",
      "+--------+--------+--------+--------+\n",
      "|   0    |   0    |   0    |   0    |\n",
      "+--------+--------+--------+--------+\n",
      "---------- Round 4 ----------\n",
      "prob_capacity=0.25 --- prob_crowded=0.75\n",
      "Expected utilities:\n",
      "no go:0 ---- go:-0.5\n",
      "Action preferences in state [0, 1]: [0, -0.5]\n",
      "prob_capacity=0.25 --- prob_crowded=0.75\n",
      "Expected utilities:\n",
      "no go:0 ---- go:-0.5\n",
      "Action probabilities:\n",
      "no go:0.9996646498695336 ---- go:0.00033535013046647816\n",
      "Chosen action: 0\n",
      "State arrived: [0, 1]\n",
      "Payoff action 0: 0\n",
      "I see the previous state: (0, 1)\n",
      "I recall the following frequencies of states:\n",
      "+--------+--------+--------+--------+\n",
      "| (0, 0) | (0, 1) | (1, 0) | (1, 1) |\n",
      "+--------+--------+--------+--------+\n",
      "|   0    |   3    |   0    |   2    |\n",
      "+--------+--------+--------+--------+\n",
      "I recall the following frequencies of bar with capacity:\n",
      "+--------+--------+--------+--------+\n",
      "| (0, 0) | (0, 1) | (1, 0) | (1, 1) |\n",
      "+--------+--------+--------+--------+\n",
      "|   0    |   0    |   0    |   0    |\n",
      "+--------+--------+--------+--------+\n",
      "---------- Round 5 ----------\n",
      "prob_capacity=0.2 --- prob_crowded=0.8\n",
      "Expected utilities:\n",
      "no go:0 ---- go:-0.6000000000000001\n",
      "Action preferences in state [0, 1]: [0, -0.6000000000000001]\n",
      "prob_capacity=0.2 --- prob_crowded=0.8\n",
      "Expected utilities:\n",
      "no go:0 ---- go:-0.6000000000000001\n",
      "Action probabilities:\n",
      "no go:0.9999322758503804 ---- go:6.772414961977012e-05\n",
      "Chosen action: 0\n",
      "State arrived: [0, 1]\n",
      "Payoff action 0: 0\n",
      "I see the previous state: (0, 1)\n",
      "I recall the following frequencies of states:\n",
      "+--------+--------+--------+--------+\n",
      "| (0, 0) | (0, 1) | (1, 0) | (1, 1) |\n",
      "+--------+--------+--------+--------+\n",
      "|   0    |   4    |   0    |   2    |\n",
      "+--------+--------+--------+--------+\n",
      "I recall the following frequencies of bar with capacity:\n",
      "+--------+--------+--------+--------+\n",
      "| (0, 0) | (0, 1) | (1, 0) | (1, 1) |\n",
      "+--------+--------+--------+--------+\n",
      "|   0    |   0    |   0    |   0    |\n",
      "+--------+--------+--------+--------+\n",
      "---------- Round 6 ----------\n",
      "prob_capacity=0.16666666666666666 --- prob_crowded=0.8333333333333334\n",
      "Expected utilities:\n",
      "no go:0 ---- go:-0.6666666666666667\n",
      "Action preferences in state [0, 1]: [0, -0.6666666666666667]\n",
      "prob_capacity=0.16666666666666666 --- prob_crowded=0.8333333333333334\n",
      "Expected utilities:\n",
      "no go:0 ---- go:-0.6666666666666667\n",
      "Action probabilities:\n",
      "no go:0.9999766914421585 ---- go:2.3308557841404754e-05\n",
      "Chosen action: 0\n",
      "State arrived: [0, 1]\n",
      "Payoff action 0: 0\n",
      "I see the previous state: (0, 1)\n",
      "I recall the following frequencies of states:\n",
      "+--------+--------+--------+--------+\n",
      "| (0, 0) | (0, 1) | (1, 0) | (1, 1) |\n",
      "+--------+--------+--------+--------+\n",
      "|   0    |   5    |   0    |   2    |\n",
      "+--------+--------+--------+--------+\n",
      "I recall the following frequencies of bar with capacity:\n",
      "+--------+--------+--------+--------+\n",
      "| (0, 0) | (0, 1) | (1, 0) | (1, 1) |\n",
      "+--------+--------+--------+--------+\n",
      "|   0    |   0    |   0    |   0    |\n",
      "+--------+--------+--------+--------+\n",
      "---------- Round 7 ----------\n",
      "prob_capacity=0.14285714285714285 --- prob_crowded=0.8571428571428572\n",
      "Expected utilities:\n",
      "no go:0 ---- go:-0.7142857142857144\n",
      "Action preferences in state [0, 1]: [0, -0.7142857142857144]\n",
      "prob_capacity=0.14285714285714285 --- prob_crowded=0.8571428571428572\n",
      "Expected utilities:\n",
      "no go:0 ---- go:-0.7142857142857144\n",
      "Action probabilities:\n",
      "no go:0.9999891199781543 ---- go:1.0880021845799998e-05\n",
      "Chosen action: 0\n",
      "State arrived: [0, 1]\n",
      "Payoff action 0: 0\n",
      "I see the previous state: (0, 1)\n",
      "I recall the following frequencies of states:\n",
      "+--------+--------+--------+--------+\n",
      "| (0, 0) | (0, 1) | (1, 0) | (1, 1) |\n",
      "+--------+--------+--------+--------+\n",
      "|   0    |   6    |   0    |   2    |\n",
      "+--------+--------+--------+--------+\n",
      "I recall the following frequencies of bar with capacity:\n",
      "+--------+--------+--------+--------+\n",
      "| (0, 0) | (0, 1) | (1, 0) | (1, 1) |\n",
      "+--------+--------+--------+--------+\n",
      "|   0    |   0    |   0    |   0    |\n",
      "+--------+--------+--------+--------+\n",
      "---------- Round 8 ----------\n",
      "prob_capacity=0.125 --- prob_crowded=0.875\n",
      "Expected utilities:\n",
      "no go:0 ---- go:-0.75\n",
      "Action preferences in state [0, 1]: [0, -0.75]\n",
      "prob_capacity=0.125 --- prob_crowded=0.875\n",
      "Expected utilities:\n",
      "no go:0 ---- go:-0.75\n",
      "Action probabilities:\n",
      "no go:0.9999938558253978 ---- go:6.144174602214718e-06\n",
      "Chosen action: 0\n",
      "State arrived: [0, 1]\n",
      "Payoff action 0: 0\n",
      "I see the previous state: (0, 1)\n",
      "I recall the following frequencies of states:\n",
      "+--------+--------+--------+--------+\n",
      "| (0, 0) | (0, 1) | (1, 0) | (1, 1) |\n",
      "+--------+--------+--------+--------+\n",
      "|   0    |   7    |   0    |   2    |\n",
      "+--------+--------+--------+--------+\n",
      "I recall the following frequencies of bar with capacity:\n",
      "+--------+--------+--------+--------+\n",
      "| (0, 0) | (0, 1) | (1, 0) | (1, 1) |\n",
      "+--------+--------+--------+--------+\n",
      "|   0    |   0    |   0    |   0    |\n",
      "+--------+--------+--------+--------+\n",
      "---------- Round 9 ----------\n",
      "prob_capacity=0.1111111111111111 --- prob_crowded=0.8888888888888888\n",
      "Expected utilities:\n",
      "no go:0 ---- go:-0.7777777777777777\n",
      "Action preferences in state [0, 1]: [0, -0.7777777777777777]\n",
      "prob_capacity=0.1111111111111111 --- prob_crowded=0.8888888888888888\n",
      "Expected utilities:\n",
      "no go:0 ---- go:-0.7777777777777777\n",
      "Action probabilities:\n",
      "no go:0.9999960604670568 ---- go:3.93953294332216e-06\n",
      "Chosen action: 0\n",
      "State arrived: [0, 1]\n",
      "Payoff action 0: 0\n",
      "I see the previous state: (0, 1)\n",
      "I recall the following frequencies of states:\n",
      "+--------+--------+--------+--------+\n",
      "| (0, 0) | (0, 1) | (1, 0) | (1, 1) |\n",
      "+--------+--------+--------+--------+\n",
      "|   0    |   8    |   0    |   2    |\n",
      "+--------+--------+--------+--------+\n",
      "I recall the following frequencies of bar with capacity:\n",
      "+--------+--------+--------+--------+\n",
      "| (0, 0) | (0, 1) | (1, 0) | (1, 1) |\n",
      "+--------+--------+--------+--------+\n",
      "|   0    |   0    |   0    |   0    |\n",
      "+--------+--------+--------+--------+\n"
     ]
    }
   ],
   "source": [
    "agent = MFPM2(\n",
    "\tfixed_parameters=fixed_parameters,\n",
    "\tfree_parameters=free_parameters,\n",
    "\tn=0\n",
    ")\n",
    "agent.debug = True\n",
    "test_bar_is_full(agent)"
   ]
  },
  {
   "cell_type": "code",
   "execution_count": 26,
   "metadata": {},
   "outputs": [
    {
     "name": "stdout",
     "output_type": "stream",
     "text": [
      "\n",
      "------------------------------------------------------------\n",
      "Test other player alternates\n",
      "------------------------------------------------------------\n",
      "Initial state: [0, 0]\n",
      "---------- Round 0 ----------\n",
      "prob_capacity=0.5 --- prob_crowded=0.5\n",
      "Expected utilities:\n",
      "no go:0 ---- go:0.0\n",
      "Action preferences in state (0, 0): [0, 0.0]\n",
      "prob_capacity=0.5 --- prob_crowded=0.5\n",
      "Expected utilities:\n",
      "no go:0 ---- go:0.0\n",
      "Action probabilities:\n",
      "no go:0.5 ---- go:0.5\n",
      "Chosen action: 1\n",
      "State arrived: [1, 0]\n",
      "Payoff action 1: 1\n",
      "I see the previous state: (0, 0)\n",
      "I recall the following frequencies of states:\n",
      "+--------+--------+--------+--------+\n",
      "| (0, 0) | (0, 1) | (1, 0) | (1, 1) |\n",
      "+--------+--------+--------+--------+\n",
      "|   1    |   0    |   0    |   0    |\n",
      "+--------+--------+--------+--------+\n",
      "I recall the following frequencies of bar with capacity:\n",
      "+--------+--------+--------+--------+\n",
      "| (0, 0) | (0, 1) | (1, 0) | (1, 1) |\n",
      "+--------+--------+--------+--------+\n",
      "|   1    |   0    |   0    |   0    |\n",
      "+--------+--------+--------+--------+\n",
      "---------- Round 1 ----------\n",
      "prob_capacity=0.5 --- prob_crowded=0.5\n",
      "Expected utilities:\n",
      "no go:0 ---- go:0.0\n",
      "Action preferences in state [1, 0]: [0, 0.0]\n",
      "prob_capacity=0.5 --- prob_crowded=0.5\n",
      "Expected utilities:\n",
      "no go:0 ---- go:0.0\n",
      "Action probabilities:\n",
      "no go:0.5 ---- go:0.5\n",
      "Chosen action: 0\n",
      "State arrived: [0, 1]\n",
      "Payoff action 0: 0\n",
      "I see the previous state: (1, 0)\n",
      "I recall the following frequencies of states:\n",
      "+--------+--------+--------+--------+\n",
      "| (0, 0) | (0, 1) | (1, 0) | (1, 1) |\n",
      "+--------+--------+--------+--------+\n",
      "|   1    |   0    |   1    |   0    |\n",
      "+--------+--------+--------+--------+\n",
      "I recall the following frequencies of bar with capacity:\n",
      "+--------+--------+--------+--------+\n",
      "| (0, 0) | (0, 1) | (1, 0) | (1, 1) |\n",
      "+--------+--------+--------+--------+\n",
      "|   1    |   0    |   0    |   0    |\n",
      "+--------+--------+--------+--------+\n",
      "---------- Round 2 ----------\n",
      "prob_capacity=0.5 --- prob_crowded=0.5\n",
      "Expected utilities:\n",
      "no go:0 ---- go:0.0\n",
      "Action preferences in state [0, 1]: [0, 0.0]\n",
      "prob_capacity=0.5 --- prob_crowded=0.5\n",
      "Expected utilities:\n",
      "no go:0 ---- go:0.0\n",
      "Action probabilities:\n",
      "no go:0.5 ---- go:0.5\n",
      "Chosen action: 0\n",
      "State arrived: [0, 0]\n",
      "Payoff action 0: 0\n",
      "I see the previous state: (0, 1)\n",
      "I recall the following frequencies of states:\n",
      "+--------+--------+--------+--------+\n",
      "| (0, 0) | (0, 1) | (1, 0) | (1, 1) |\n",
      "+--------+--------+--------+--------+\n",
      "|   1    |   1    |   1    |   0    |\n",
      "+--------+--------+--------+--------+\n",
      "I recall the following frequencies of bar with capacity:\n",
      "+--------+--------+--------+--------+\n",
      "| (0, 0) | (0, 1) | (1, 0) | (1, 1) |\n",
      "+--------+--------+--------+--------+\n",
      "|   1    |   1    |   0    |   0    |\n",
      "+--------+--------+--------+--------+\n",
      "---------- Round 3 ----------\n",
      "prob_capacity=0.6666666666666666 --- prob_crowded=0.33333333333333337\n",
      "Expected utilities:\n",
      "no go:0 ---- go:0.33333333333333326\n",
      "Action preferences in state [0, 0]: [0, 0.33333333333333326]\n",
      "prob_capacity=0.6666666666666666 --- prob_crowded=0.33333333333333337\n",
      "Expected utilities:\n",
      "no go:0 ---- go:0.33333333333333326\n",
      "Action probabilities:\n",
      "no go:0.004804752887159521 ---- go:0.9951952471128405\n",
      "Chosen action: 1\n",
      "State arrived: [1, 1]\n",
      "Payoff action 1: -1\n",
      "I see the previous state: (0, 0)\n",
      "I recall the following frequencies of states:\n",
      "+--------+--------+--------+--------+\n",
      "| (0, 0) | (0, 1) | (1, 0) | (1, 1) |\n",
      "+--------+--------+--------+--------+\n",
      "|   2    |   1    |   1    |   0    |\n",
      "+--------+--------+--------+--------+\n",
      "I recall the following frequencies of bar with capacity:\n",
      "+--------+--------+--------+--------+\n",
      "| (0, 0) | (0, 1) | (1, 0) | (1, 1) |\n",
      "+--------+--------+--------+--------+\n",
      "|   1    |   1    |   0    |   0    |\n",
      "+--------+--------+--------+--------+\n",
      "---------- Round 4 ----------\n",
      "prob_capacity=0.5 --- prob_crowded=0.5\n",
      "Expected utilities:\n",
      "no go:0 ---- go:0.0\n",
      "Action preferences in state [1, 1]: [0, 0.0]\n",
      "prob_capacity=0.5 --- prob_crowded=0.5\n",
      "Expected utilities:\n",
      "no go:0 ---- go:0.0\n",
      "Action probabilities:\n",
      "no go:0.5 ---- go:0.5\n",
      "Chosen action: 1\n",
      "State arrived: [1, 0]\n",
      "Payoff action 1: 1\n",
      "I see the previous state: (1, 1)\n",
      "I recall the following frequencies of states:\n",
      "+--------+--------+--------+--------+\n",
      "| (0, 0) | (0, 1) | (1, 0) | (1, 1) |\n",
      "+--------+--------+--------+--------+\n",
      "|   2    |   1    |   1    |   1    |\n",
      "+--------+--------+--------+--------+\n",
      "I recall the following frequencies of bar with capacity:\n",
      "+--------+--------+--------+--------+\n",
      "| (0, 0) | (0, 1) | (1, 0) | (1, 1) |\n",
      "+--------+--------+--------+--------+\n",
      "|   1    |   1    |   0    |   1    |\n",
      "+--------+--------+--------+--------+\n",
      "---------- Round 5 ----------\n",
      "prob_capacity=0.3333333333333333 --- prob_crowded=0.6666666666666667\n",
      "Expected utilities:\n",
      "no go:0 ---- go:-0.3333333333333334\n",
      "Action preferences in state [1, 0]: [0, -0.3333333333333334]\n",
      "prob_capacity=0.3333333333333333 --- prob_crowded=0.6666666666666667\n",
      "Expected utilities:\n",
      "no go:0 ---- go:-0.3333333333333334\n",
      "Action probabilities:\n",
      "no go:0.9951952471128405 ---- go:0.004804752887159509\n",
      "Chosen action: 0\n",
      "State arrived: [0, 1]\n",
      "Payoff action 0: 0\n",
      "I see the previous state: (1, 0)\n",
      "I recall the following frequencies of states:\n",
      "+--------+--------+--------+--------+\n",
      "| (0, 0) | (0, 1) | (1, 0) | (1, 1) |\n",
      "+--------+--------+--------+--------+\n",
      "|   2    |   1    |   2    |   1    |\n",
      "+--------+--------+--------+--------+\n",
      "I recall the following frequencies of bar with capacity:\n",
      "+--------+--------+--------+--------+\n",
      "| (0, 0) | (0, 1) | (1, 0) | (1, 1) |\n",
      "+--------+--------+--------+--------+\n",
      "|   1    |   1    |   0    |   1    |\n",
      "+--------+--------+--------+--------+\n",
      "---------- Round 6 ----------\n",
      "prob_capacity=0.6666666666666666 --- prob_crowded=0.33333333333333337\n",
      "Expected utilities:\n",
      "no go:0 ---- go:0.33333333333333326\n",
      "Action preferences in state [0, 1]: [0, 0.33333333333333326]\n",
      "prob_capacity=0.6666666666666666 --- prob_crowded=0.33333333333333337\n",
      "Expected utilities:\n",
      "no go:0 ---- go:0.33333333333333326\n",
      "Action probabilities:\n",
      "no go:0.004804752887159521 ---- go:0.9951952471128405\n",
      "Chosen action: 1\n",
      "State arrived: [1, 0]\n",
      "Payoff action 1: 1\n",
      "I see the previous state: (0, 1)\n",
      "I recall the following frequencies of states:\n",
      "+--------+--------+--------+--------+\n",
      "| (0, 0) | (0, 1) | (1, 0) | (1, 1) |\n",
      "+--------+--------+--------+--------+\n",
      "|   2    |   2    |   2    |   1    |\n",
      "+--------+--------+--------+--------+\n",
      "I recall the following frequencies of bar with capacity:\n",
      "+--------+--------+--------+--------+\n",
      "| (0, 0) | (0, 1) | (1, 0) | (1, 1) |\n",
      "+--------+--------+--------+--------+\n",
      "|   1    |   2    |   0    |   1    |\n",
      "+--------+--------+--------+--------+\n",
      "---------- Round 7 ----------\n",
      "prob_capacity=0.25 --- prob_crowded=0.75\n",
      "Expected utilities:\n",
      "no go:0 ---- go:-0.5\n",
      "Action preferences in state [1, 0]: [0, -0.5]\n",
      "prob_capacity=0.25 --- prob_crowded=0.75\n",
      "Expected utilities:\n",
      "no go:0 ---- go:-0.5\n",
      "Action probabilities:\n",
      "no go:0.9996646498695336 ---- go:0.00033535013046647816\n",
      "Chosen action: 0\n",
      "State arrived: [0, 1]\n",
      "Payoff action 0: 0\n",
      "I see the previous state: (1, 0)\n",
      "I recall the following frequencies of states:\n",
      "+--------+--------+--------+--------+\n",
      "| (0, 0) | (0, 1) | (1, 0) | (1, 1) |\n",
      "+--------+--------+--------+--------+\n",
      "|   2    |   2    |   3    |   1    |\n",
      "+--------+--------+--------+--------+\n",
      "I recall the following frequencies of bar with capacity:\n",
      "+--------+--------+--------+--------+\n",
      "| (0, 0) | (0, 1) | (1, 0) | (1, 1) |\n",
      "+--------+--------+--------+--------+\n",
      "|   1    |   2    |   0    |   1    |\n",
      "+--------+--------+--------+--------+\n",
      "---------- Round 8 ----------\n",
      "prob_capacity=0.75 --- prob_crowded=0.25\n",
      "Expected utilities:\n",
      "no go:0 ---- go:0.5\n",
      "Action preferences in state [0, 1]: [0, 0.5]\n",
      "prob_capacity=0.75 --- prob_crowded=0.25\n",
      "Expected utilities:\n",
      "no go:0 ---- go:0.5\n",
      "Action probabilities:\n",
      "no go:0.0003353501304664781 ---- go:0.9996646498695335\n",
      "Chosen action: 1\n",
      "State arrived: [1, 0]\n",
      "Payoff action 1: 1\n",
      "I see the previous state: (0, 1)\n",
      "I recall the following frequencies of states:\n",
      "+--------+--------+--------+--------+\n",
      "| (0, 0) | (0, 1) | (1, 0) | (1, 1) |\n",
      "+--------+--------+--------+--------+\n",
      "|   2    |   3    |   3    |   1    |\n",
      "+--------+--------+--------+--------+\n",
      "I recall the following frequencies of bar with capacity:\n",
      "+--------+--------+--------+--------+\n",
      "| (0, 0) | (0, 1) | (1, 0) | (1, 1) |\n",
      "+--------+--------+--------+--------+\n",
      "|   1    |   3    |   0    |   1    |\n",
      "+--------+--------+--------+--------+\n",
      "---------- Round 9 ----------\n",
      "prob_capacity=0.2 --- prob_crowded=0.8\n",
      "Expected utilities:\n",
      "no go:0 ---- go:-0.6000000000000001\n",
      "Action preferences in state [1, 0]: [0, -0.6000000000000001]\n",
      "prob_capacity=0.2 --- prob_crowded=0.8\n",
      "Expected utilities:\n",
      "no go:0 ---- go:-0.6000000000000001\n",
      "Action probabilities:\n",
      "no go:0.9999322758503804 ---- go:6.772414961977012e-05\n",
      "Chosen action: 0\n",
      "State arrived: [0, 1]\n",
      "Payoff action 0: 0\n",
      "I see the previous state: (1, 0)\n",
      "I recall the following frequencies of states:\n",
      "+--------+--------+--------+--------+\n",
      "| (0, 0) | (0, 1) | (1, 0) | (1, 1) |\n",
      "+--------+--------+--------+--------+\n",
      "|   2    |   3    |   4    |   1    |\n",
      "+--------+--------+--------+--------+\n",
      "I recall the following frequencies of bar with capacity:\n",
      "+--------+--------+--------+--------+\n",
      "| (0, 0) | (0, 1) | (1, 0) | (1, 1) |\n",
      "+--------+--------+--------+--------+\n",
      "|   1    |   3    |   0    |   1    |\n",
      "+--------+--------+--------+--------+\n"
     ]
    }
   ],
   "source": [
    "agent = MFPM2(\n",
    "\tfixed_parameters=fixed_parameters,\n",
    "\tfree_parameters=free_parameters,\n",
    "\tn=0\n",
    ")\n",
    "agent.debug = True\n",
    "test_alternation(agent)"
   ]
  },
  {
   "cell_type": "code",
   "execution_count": 27,
   "metadata": {},
   "outputs": [],
   "source": [
    "fixed_parameters = {\n",
    "\t\"threshold\":0.5,\n",
    "\t\"num_agents\":6,\n",
    "}\n",
    "free_parameters = {\n",
    "    \"belief_strength\":1,\n",
    "\t\"inverse_temperature\":16\n",
    "}\n",
    "simulation_parameters = {\n",
    "\t'num_episodes':100,\n",
    "\t'num_rounds':1000,\n",
    "\t'verbose':False\n",
    "}"
   ]
  },
  {
   "cell_type": "code",
   "execution_count": 28,
   "metadata": {},
   "outputs": [],
   "source": [
    "from Utils.interaction import Experiment\n",
    "\n",
    "exp = Experiment(\n",
    "    agent_class=MFPM2,\n",
    "    fixed_parameters=fixed_parameters,\n",
    "    free_parameters=free_parameters,\n",
    "    simulation_parameters=simulation_parameters,\n",
    "    measures=['efficiency', 'inequality', 'entropy', 'conditional_entropy']\n",
    ")"
   ]
  },
  {
   "cell_type": "code",
   "execution_count": 29,
   "metadata": {},
   "outputs": [
    {
     "data": {
      "application/vnd.jupyter.widget-view+json": {
       "model_id": "5d7708b45f534cc7abb33365b6fc9743",
       "version_major": 2,
       "version_minor": 0
      },
      "text/plain": [
       "  0%|          | 0/7 [00:00<?, ?it/s]"
      ]
     },
     "metadata": {},
     "output_type": "display_data"
    },
    {
     "data": {
      "application/vnd.jupyter.widget-view+json": {
       "model_id": "bbc95c577606422a8bd1a5114419eee8",
       "version_major": 2,
       "version_minor": 0
      },
      "text/plain": [
       "  0%|          | 0/7 [00:00<?, ?it/s]"
      ]
     },
     "metadata": {},
     "output_type": "display_data"
    },
    {
     "data": {
      "application/vnd.jupyter.widget-view+json": {
       "model_id": "0e74355c1bdb4bc68475dae6fa00295a",
       "version_major": 2,
       "version_minor": 0
      },
      "text/plain": [
       "  0%|          | 0/100 [00:00<?, ?it/s]"
      ]
     },
     "metadata": {},
     "output_type": "display_data"
    },
    {
     "data": {
      "application/vnd.jupyter.widget-view+json": {
       "model_id": "d94d98b5d54d41d59dcee4d7207dbe8a",
       "version_major": 2,
       "version_minor": 0
      },
      "text/plain": [
       "  0%|          | 0/100 [00:00<?, ?it/s]"
      ]
     },
     "metadata": {},
     "output_type": "display_data"
    },
    {
     "data": {
      "application/vnd.jupyter.widget-view+json": {
       "model_id": "ff2c0d2cef13467095fd9e8f0f513711",
       "version_major": 2,
       "version_minor": 0
      },
      "text/plain": [
       "  0%|          | 0/100 [00:00<?, ?it/s]"
      ]
     },
     "metadata": {},
     "output_type": "display_data"
    },
    {
     "data": {
      "application/vnd.jupyter.widget-view+json": {
       "model_id": "beb6d1919fce41aeb3b1b749f93a3209",
       "version_major": 2,
       "version_minor": 0
      },
      "text/plain": [
       "  0%|          | 0/100 [00:00<?, ?it/s]"
      ]
     },
     "metadata": {},
     "output_type": "display_data"
    },
    {
     "data": {
      "application/vnd.jupyter.widget-view+json": {
       "model_id": "8583c30263ad4528b17eee4c47bb6fab",
       "version_major": 2,
       "version_minor": 0
      },
      "text/plain": [
       "  0%|          | 0/100 [00:00<?, ?it/s]"
      ]
     },
     "metadata": {},
     "output_type": "display_data"
    },
    {
     "data": {
      "application/vnd.jupyter.widget-view+json": {
       "model_id": "fe4b266d4076471da4bcfd9059552db5",
       "version_major": 2,
       "version_minor": 0
      },
      "text/plain": [
       "  0%|          | 0/100 [00:00<?, ?it/s]"
      ]
     },
     "metadata": {},
     "output_type": "display_data"
    },
    {
     "data": {
      "application/vnd.jupyter.widget-view+json": {
       "model_id": "a7cf77a152e745289c4ae29e34fd89eb",
       "version_major": 2,
       "version_minor": 0
      },
      "text/plain": [
       "  0%|          | 0/100 [00:00<?, ?it/s]"
      ]
     },
     "metadata": {},
     "output_type": "display_data"
    },
    {
     "data": {
      "application/vnd.jupyter.widget-view+json": {
       "model_id": "1dade817ee77456c94d78e5ced2e7dc5",
       "version_major": 2,
       "version_minor": 0
      },
      "text/plain": [
       "  0%|          | 0/7 [00:00<?, ?it/s]"
      ]
     },
     "metadata": {},
     "output_type": "display_data"
    },
    {
     "data": {
      "application/vnd.jupyter.widget-view+json": {
       "model_id": "dd33b357c9cf4584b86d237297099264",
       "version_major": 2,
       "version_minor": 0
      },
      "text/plain": [
       "  0%|          | 0/100 [00:00<?, ?it/s]"
      ]
     },
     "metadata": {},
     "output_type": "display_data"
    },
    {
     "data": {
      "application/vnd.jupyter.widget-view+json": {
       "model_id": "a76d6686b41247b5858b302d1ce8bac0",
       "version_major": 2,
       "version_minor": 0
      },
      "text/plain": [
       "  0%|          | 0/100 [00:00<?, ?it/s]"
      ]
     },
     "metadata": {},
     "output_type": "display_data"
    },
    {
     "data": {
      "application/vnd.jupyter.widget-view+json": {
       "model_id": "838a42bbdd8641c69ec0a5bb817302eb",
       "version_major": 2,
       "version_minor": 0
      },
      "text/plain": [
       "  0%|          | 0/100 [00:00<?, ?it/s]"
      ]
     },
     "metadata": {},
     "output_type": "display_data"
    },
    {
     "data": {
      "application/vnd.jupyter.widget-view+json": {
       "model_id": "de6ae1a23ce047ac9a692cd677d3d609",
       "version_major": 2,
       "version_minor": 0
      },
      "text/plain": [
       "  0%|          | 0/100 [00:00<?, ?it/s]"
      ]
     },
     "metadata": {},
     "output_type": "display_data"
    },
    {
     "data": {
      "application/vnd.jupyter.widget-view+json": {
       "model_id": "d92417d01e6042fca2432871dcecb688",
       "version_major": 2,
       "version_minor": 0
      },
      "text/plain": [
       "  0%|          | 0/100 [00:00<?, ?it/s]"
      ]
     },
     "metadata": {},
     "output_type": "display_data"
    },
    {
     "data": {
      "application/vnd.jupyter.widget-view+json": {
       "model_id": "c1a1be02f3bb409695ca1fdec5b2387b",
       "version_major": 2,
       "version_minor": 0
      },
      "text/plain": [
       "  0%|          | 0/100 [00:00<?, ?it/s]"
      ]
     },
     "metadata": {},
     "output_type": "display_data"
    },
    {
     "data": {
      "application/vnd.jupyter.widget-view+json": {
       "model_id": "69fefadc39424beaad2db874ac151886",
       "version_major": 2,
       "version_minor": 0
      },
      "text/plain": [
       "  0%|          | 0/100 [00:00<?, ?it/s]"
      ]
     },
     "metadata": {},
     "output_type": "display_data"
    },
    {
     "data": {
      "application/vnd.jupyter.widget-view+json": {
       "model_id": "57f1a4e13d8349ae8b9599ce83437a35",
       "version_major": 2,
       "version_minor": 0
      },
      "text/plain": [
       "  0%|          | 0/7 [00:00<?, ?it/s]"
      ]
     },
     "metadata": {},
     "output_type": "display_data"
    },
    {
     "data": {
      "application/vnd.jupyter.widget-view+json": {
       "model_id": "3b17b2370dd747abb7d7510b540e3964",
       "version_major": 2,
       "version_minor": 0
      },
      "text/plain": [
       "  0%|          | 0/100 [00:00<?, ?it/s]"
      ]
     },
     "metadata": {},
     "output_type": "display_data"
    },
    {
     "data": {
      "application/vnd.jupyter.widget-view+json": {
       "model_id": "06d2c96bdf5348e98b4999f8d3620e63",
       "version_major": 2,
       "version_minor": 0
      },
      "text/plain": [
       "  0%|          | 0/100 [00:00<?, ?it/s]"
      ]
     },
     "metadata": {},
     "output_type": "display_data"
    },
    {
     "data": {
      "application/vnd.jupyter.widget-view+json": {
       "model_id": "013bc411d1e84c688c18fdd4888d6b02",
       "version_major": 2,
       "version_minor": 0
      },
      "text/plain": [
       "  0%|          | 0/100 [00:00<?, ?it/s]"
      ]
     },
     "metadata": {},
     "output_type": "display_data"
    },
    {
     "data": {
      "application/vnd.jupyter.widget-view+json": {
       "model_id": "96624c0bf512494ca2adaf344342a29a",
       "version_major": 2,
       "version_minor": 0
      },
      "text/plain": [
       "  0%|          | 0/100 [00:00<?, ?it/s]"
      ]
     },
     "metadata": {},
     "output_type": "display_data"
    },
    {
     "data": {
      "application/vnd.jupyter.widget-view+json": {
       "model_id": "be37715028f94759b433c4f41574b73f",
       "version_major": 2,
       "version_minor": 0
      },
      "text/plain": [
       "  0%|          | 0/100 [00:00<?, ?it/s]"
      ]
     },
     "metadata": {},
     "output_type": "display_data"
    },
    {
     "data": {
      "application/vnd.jupyter.widget-view+json": {
       "model_id": "fa53bcb8d94540fc955fcbc0ed2eafff",
       "version_major": 2,
       "version_minor": 0
      },
      "text/plain": [
       "  0%|          | 0/100 [00:00<?, ?it/s]"
      ]
     },
     "metadata": {},
     "output_type": "display_data"
    },
    {
     "data": {
      "application/vnd.jupyter.widget-view+json": {
       "model_id": "6221da0f481d45bdb9950f50cf1f6a43",
       "version_major": 2,
       "version_minor": 0
      },
      "text/plain": [
       "  0%|          | 0/100 [00:00<?, ?it/s]"
      ]
     },
     "metadata": {},
     "output_type": "display_data"
    },
    {
     "data": {
      "application/vnd.jupyter.widget-view+json": {
       "model_id": "a76499227f4f46bd9b68c3fc6b7e666c",
       "version_major": 2,
       "version_minor": 0
      },
      "text/plain": [
       "  0%|          | 0/7 [00:00<?, ?it/s]"
      ]
     },
     "metadata": {},
     "output_type": "display_data"
    },
    {
     "data": {
      "application/vnd.jupyter.widget-view+json": {
       "model_id": "82b81e614ab14b679639f43abbe0a184",
       "version_major": 2,
       "version_minor": 0
      },
      "text/plain": [
       "  0%|          | 0/100 [00:00<?, ?it/s]"
      ]
     },
     "metadata": {},
     "output_type": "display_data"
    },
    {
     "data": {
      "application/vnd.jupyter.widget-view+json": {
       "model_id": "2209461fd3d04ba78d505662fe0ad3b3",
       "version_major": 2,
       "version_minor": 0
      },
      "text/plain": [
       "  0%|          | 0/100 [00:00<?, ?it/s]"
      ]
     },
     "metadata": {},
     "output_type": "display_data"
    },
    {
     "data": {
      "application/vnd.jupyter.widget-view+json": {
       "model_id": "82565f7f6bca46da9dbf15970a48689e",
       "version_major": 2,
       "version_minor": 0
      },
      "text/plain": [
       "  0%|          | 0/100 [00:00<?, ?it/s]"
      ]
     },
     "metadata": {},
     "output_type": "display_data"
    },
    {
     "data": {
      "application/vnd.jupyter.widget-view+json": {
       "model_id": "6182e82e3a8b429983c2a29f63fea7e4",
       "version_major": 2,
       "version_minor": 0
      },
      "text/plain": [
       "  0%|          | 0/100 [00:00<?, ?it/s]"
      ]
     },
     "metadata": {},
     "output_type": "display_data"
    },
    {
     "data": {
      "application/vnd.jupyter.widget-view+json": {
       "model_id": "b61ea4f3a30f49b4af19f9995bc85608",
       "version_major": 2,
       "version_minor": 0
      },
      "text/plain": [
       "  0%|          | 0/100 [00:00<?, ?it/s]"
      ]
     },
     "metadata": {},
     "output_type": "display_data"
    },
    {
     "data": {
      "application/vnd.jupyter.widget-view+json": {
       "model_id": "5455114bb2894d3db58b6e2086f54518",
       "version_major": 2,
       "version_minor": 0
      },
      "text/plain": [
       "  0%|          | 0/100 [00:00<?, ?it/s]"
      ]
     },
     "metadata": {},
     "output_type": "display_data"
    },
    {
     "data": {
      "application/vnd.jupyter.widget-view+json": {
       "model_id": "a0ad3b7aca4b441f85b389bdd8ba15e5",
       "version_major": 2,
       "version_minor": 0
      },
      "text/plain": [
       "  0%|          | 0/100 [00:00<?, ?it/s]"
      ]
     },
     "metadata": {},
     "output_type": "display_data"
    },
    {
     "data": {
      "application/vnd.jupyter.widget-view+json": {
       "model_id": "850d2937fb204d74b731e8a59f116fe5",
       "version_major": 2,
       "version_minor": 0
      },
      "text/plain": [
       "  0%|          | 0/7 [00:00<?, ?it/s]"
      ]
     },
     "metadata": {},
     "output_type": "display_data"
    },
    {
     "data": {
      "application/vnd.jupyter.widget-view+json": {
       "model_id": "82442e9fcf0d43aab4680a09a7cb96e0",
       "version_major": 2,
       "version_minor": 0
      },
      "text/plain": [
       "  0%|          | 0/100 [00:00<?, ?it/s]"
      ]
     },
     "metadata": {},
     "output_type": "display_data"
    },
    {
     "data": {
      "application/vnd.jupyter.widget-view+json": {
       "model_id": "d1f5bb1604e54b06874a5545179d642b",
       "version_major": 2,
       "version_minor": 0
      },
      "text/plain": [
       "  0%|          | 0/100 [00:00<?, ?it/s]"
      ]
     },
     "metadata": {},
     "output_type": "display_data"
    },
    {
     "data": {
      "application/vnd.jupyter.widget-view+json": {
       "model_id": "4a7a66c5a7f6478f914462b33483bfff",
       "version_major": 2,
       "version_minor": 0
      },
      "text/plain": [
       "  0%|          | 0/100 [00:00<?, ?it/s]"
      ]
     },
     "metadata": {},
     "output_type": "display_data"
    },
    {
     "data": {
      "application/vnd.jupyter.widget-view+json": {
       "model_id": "ca21c031f07241129a07ca10e54b24fb",
       "version_major": 2,
       "version_minor": 0
      },
      "text/plain": [
       "  0%|          | 0/100 [00:00<?, ?it/s]"
      ]
     },
     "metadata": {},
     "output_type": "display_data"
    },
    {
     "data": {
      "application/vnd.jupyter.widget-view+json": {
       "model_id": "d60e80307433441e8d5001ed0b846871",
       "version_major": 2,
       "version_minor": 0
      },
      "text/plain": [
       "  0%|          | 0/100 [00:00<?, ?it/s]"
      ]
     },
     "metadata": {},
     "output_type": "display_data"
    },
    {
     "data": {
      "application/vnd.jupyter.widget-view+json": {
       "model_id": "8430acd882b44e5bb513476f189fe0ce",
       "version_major": 2,
       "version_minor": 0
      },
      "text/plain": [
       "  0%|          | 0/100 [00:00<?, ?it/s]"
      ]
     },
     "metadata": {},
     "output_type": "display_data"
    },
    {
     "data": {
      "application/vnd.jupyter.widget-view+json": {
       "model_id": "eaf8e7f537f947c8aa0ff42231acf8fd",
       "version_major": 2,
       "version_minor": 0
      },
      "text/plain": [
       "  0%|          | 0/100 [00:00<?, ?it/s]"
      ]
     },
     "metadata": {},
     "output_type": "display_data"
    },
    {
     "data": {
      "application/vnd.jupyter.widget-view+json": {
       "model_id": "ef57172625f041bbab2ee4fbaec21c67",
       "version_major": 2,
       "version_minor": 0
      },
      "text/plain": [
       "  0%|          | 0/7 [00:00<?, ?it/s]"
      ]
     },
     "metadata": {},
     "output_type": "display_data"
    },
    {
     "data": {
      "application/vnd.jupyter.widget-view+json": {
       "model_id": "5c29b020618a4a6282018b8aa671efa6",
       "version_major": 2,
       "version_minor": 0
      },
      "text/plain": [
       "  0%|          | 0/100 [00:00<?, ?it/s]"
      ]
     },
     "metadata": {},
     "output_type": "display_data"
    },
    {
     "data": {
      "application/vnd.jupyter.widget-view+json": {
       "model_id": "00990ce6c13844ddbe1b8b2928e76269",
       "version_major": 2,
       "version_minor": 0
      },
      "text/plain": [
       "  0%|          | 0/100 [00:00<?, ?it/s]"
      ]
     },
     "metadata": {},
     "output_type": "display_data"
    },
    {
     "data": {
      "application/vnd.jupyter.widget-view+json": {
       "model_id": "85f925fbff454f09bb003e6954e3dddf",
       "version_major": 2,
       "version_minor": 0
      },
      "text/plain": [
       "  0%|          | 0/100 [00:00<?, ?it/s]"
      ]
     },
     "metadata": {},
     "output_type": "display_data"
    },
    {
     "data": {
      "application/vnd.jupyter.widget-view+json": {
       "model_id": "4e2e09d752f04aee8d92ca0680625d6b",
       "version_major": 2,
       "version_minor": 0
      },
      "text/plain": [
       "  0%|          | 0/100 [00:00<?, ?it/s]"
      ]
     },
     "metadata": {},
     "output_type": "display_data"
    },
    {
     "data": {
      "application/vnd.jupyter.widget-view+json": {
       "model_id": "228be383e23c4e48ab1b1619ff18b259",
       "version_major": 2,
       "version_minor": 0
      },
      "text/plain": [
       "  0%|          | 0/100 [00:00<?, ?it/s]"
      ]
     },
     "metadata": {},
     "output_type": "display_data"
    },
    {
     "data": {
      "application/vnd.jupyter.widget-view+json": {
       "model_id": "a694327fc1e24a6283399c772212b9d8",
       "version_major": 2,
       "version_minor": 0
      },
      "text/plain": [
       "  0%|          | 0/100 [00:00<?, ?it/s]"
      ]
     },
     "metadata": {},
     "output_type": "display_data"
    },
    {
     "data": {
      "application/vnd.jupyter.widget-view+json": {
       "model_id": "52e099203b98485d96efec5f467fa8b3",
       "version_major": 2,
       "version_minor": 0
      },
      "text/plain": [
       "  0%|          | 0/100 [00:00<?, ?it/s]"
      ]
     },
     "metadata": {},
     "output_type": "display_data"
    },
    {
     "data": {
      "application/vnd.jupyter.widget-view+json": {
       "model_id": "3b11f69486544e8dae887cb7d49020c2",
       "version_major": 2,
       "version_minor": 0
      },
      "text/plain": [
       "  0%|          | 0/7 [00:00<?, ?it/s]"
      ]
     },
     "metadata": {},
     "output_type": "display_data"
    },
    {
     "data": {
      "application/vnd.jupyter.widget-view+json": {
       "model_id": "162c3bc99a9c4fa690f96f24bd278e5d",
       "version_major": 2,
       "version_minor": 0
      },
      "text/plain": [
       "  0%|          | 0/100 [00:00<?, ?it/s]"
      ]
     },
     "metadata": {},
     "output_type": "display_data"
    },
    {
     "data": {
      "application/vnd.jupyter.widget-view+json": {
       "model_id": "f43c8791706c445d97d7d63c61b05fb8",
       "version_major": 2,
       "version_minor": 0
      },
      "text/plain": [
       "  0%|          | 0/100 [00:00<?, ?it/s]"
      ]
     },
     "metadata": {},
     "output_type": "display_data"
    },
    {
     "data": {
      "application/vnd.jupyter.widget-view+json": {
       "model_id": "c42d4267f46943dcbb939abcf6ea55cc",
       "version_major": 2,
       "version_minor": 0
      },
      "text/plain": [
       "  0%|          | 0/100 [00:00<?, ?it/s]"
      ]
     },
     "metadata": {},
     "output_type": "display_data"
    },
    {
     "data": {
      "application/vnd.jupyter.widget-view+json": {
       "model_id": "f9666abd299c4356a84a5a45bb8903d1",
       "version_major": 2,
       "version_minor": 0
      },
      "text/plain": [
       "  0%|          | 0/100 [00:00<?, ?it/s]"
      ]
     },
     "metadata": {},
     "output_type": "display_data"
    },
    {
     "data": {
      "application/vnd.jupyter.widget-view+json": {
       "model_id": "41e9c0bbbb104bdb9a12a534df7e1bf5",
       "version_major": 2,
       "version_minor": 0
      },
      "text/plain": [
       "  0%|          | 0/100 [00:00<?, ?it/s]"
      ]
     },
     "metadata": {},
     "output_type": "display_data"
    },
    {
     "data": {
      "application/vnd.jupyter.widget-view+json": {
       "model_id": "1993ba5e19f84f75a08dd6c29b72cc52",
       "version_major": 2,
       "version_minor": 0
      },
      "text/plain": [
       "  0%|          | 0/100 [00:00<?, ?it/s]"
      ]
     },
     "metadata": {},
     "output_type": "display_data"
    },
    {
     "data": {
      "application/vnd.jupyter.widget-view+json": {
       "model_id": "6fa20eaeea6d468c84790c2fbb05732f",
       "version_major": 2,
       "version_minor": 0
      },
      "text/plain": [
       "  0%|          | 0/100 [00:00<?, ?it/s]"
      ]
     },
     "metadata": {},
     "output_type": "display_data"
    }
   ],
   "source": [
    "exp.run_sweep2(\n",
    "    parameter1='inverse_temperature',\n",
    "    values1=[2**x for x in range(0, 7)],\n",
    "    parameter2='belief_strength',\n",
    "    values2=[2**x for x in range(0, 7)],\n",
    "    file=image_folder_M2 / 'sweep_inverse_temp_vs_belief_strength'\n",
    ")"
   ]
  },
  {
   "cell_type": "code",
   "execution_count": 30,
   "metadata": {},
   "outputs": [],
   "source": [
    "from Utils.plot_utils import PlotStandardMeasures\n",
    "\n",
    "p = PlotStandardMeasures(exp.data)"
   ]
  },
  {
   "cell_type": "code",
   "execution_count": null,
   "metadata": {},
   "outputs": [
    {
     "ename": "KeyError",
     "evalue": "'learning_rate'",
     "output_type": "error",
     "traceback": [
      "\u001b[1;31m---------------------------------------------------------------------------\u001b[0m",
      "\u001b[1;31mKeyError\u001b[0m                                  Traceback (most recent call last)",
      "Cell \u001b[1;32mIn[31], line 1\u001b[0m\n\u001b[1;32m----> 1\u001b[0m p\u001b[38;5;241m.\u001b[39mplot_sweep2(\n\u001b[0;32m      2\u001b[0m     parameter1\u001b[38;5;241m=\u001b[39m\u001b[38;5;124m'\u001b[39m\u001b[38;5;124minverse_temperature\u001b[39m\u001b[38;5;124m'\u001b[39m, \n\u001b[0;32m      3\u001b[0m     parameter2\u001b[38;5;241m=\u001b[39m\u001b[38;5;124m'\u001b[39m\u001b[38;5;124mlearning_rate\u001b[39m\u001b[38;5;124m'\u001b[39m,\n\u001b[0;32m      4\u001b[0m     measure\u001b[38;5;241m=\u001b[39m\u001b[38;5;124m'\u001b[39m\u001b[38;5;124mefficiency\u001b[39m\u001b[38;5;124m'\u001b[39m,\n\u001b[0;32m      5\u001b[0m     file\u001b[38;5;241m=\u001b[39mimage_folder_M2 \u001b[38;5;241m/\u001b[39m Path(\u001b[38;5;124m'\u001b[39m\u001b[38;5;124mefficiency_sweep_inverse_temp_vs_belief_strength.png\u001b[39m\u001b[38;5;124m'\u001b[39m)\n\u001b[0;32m      6\u001b[0m )\n",
      "File \u001b[1;32mc:\\Users\\andra\\Documents\\Cognitive_Models_El_Farol_Bar_Problem\\Notebooks\\../src\\Utils\\plot_utils.py:244\u001b[0m, in \u001b[0;36mPlotStandardMeasures.plot_sweep2\u001b[1;34m(self, parameter1, parameter2, measure, T, file, kwargs)\u001b[0m\n\u001b[0;32m    241\u001b[0m get_meas \u001b[38;5;241m=\u001b[39m GetMeasurements(\n\u001b[0;32m    242\u001b[0m \t\u001b[38;5;28mself\u001b[39m\u001b[38;5;241m.\u001b[39mdata, measures\u001b[38;5;241m=\u001b[39m[measure], T\u001b[38;5;241m=\u001b[39mT)\n\u001b[0;32m    243\u001b[0m get_meas\u001b[38;5;241m.\u001b[39mcolumns \u001b[38;5;241m+\u001b[39m\u001b[38;5;241m=\u001b[39m [parameter2, parameter1]\n\u001b[1;32m--> 244\u001b[0m df \u001b[38;5;241m=\u001b[39m get_meas\u001b[38;5;241m.\u001b[39mget_measurements()\n\u001b[0;32m    245\u001b[0m df \u001b[38;5;241m=\u001b[39m df\u001b[38;5;241m.\u001b[39mgroupby([parameter2, parameter1])[measure]\u001b[38;5;241m.\u001b[39mmean()\u001b[38;5;241m.\u001b[39mreset_index()\n\u001b[0;32m    246\u001b[0m values1 \u001b[38;5;241m=\u001b[39m df[parameter1]\u001b[38;5;241m.\u001b[39munique()\n",
      "File \u001b[1;32mc:\\Users\\andra\\Documents\\Cognitive_Models_El_Farol_Bar_Problem\\Notebooks\\../src\\Utils\\utils.py:371\u001b[0m, in \u001b[0;36mGetMeasurements.get_measurements\u001b[1;34m(self)\u001b[0m\n\u001b[0;32m    369\u001b[0m fun \u001b[38;5;241m=\u001b[39m \u001b[38;5;28meval\u001b[39m(\u001b[38;5;124mf\u001b[39m\u001b[38;5;124m'\u001b[39m\u001b[38;5;124mGetMeasurements.\u001b[39m\u001b[38;5;132;01m{\u001b[39;00mmeasure\u001b[38;5;132;01m}\u001b[39;00m\u001b[38;5;124m'\u001b[39m)\n\u001b[0;32m    370\u001b[0m \u001b[38;5;28;01mif\u001b[39;00m init:\n\u001b[1;32m--> 371\u001b[0m \tdf \u001b[38;5;241m=\u001b[39m \u001b[38;5;28mself\u001b[39m\u001b[38;5;241m.\u001b[39mdata\u001b[38;5;241m.\u001b[39mgroupby(\u001b[38;5;28mself\u001b[39m\u001b[38;5;241m.\u001b[39mcolumns)\u001b[38;5;241m.\u001b[39mapply(fun)\u001b[38;5;241m.\u001b[39mreset_index()\n\u001b[0;32m    372\u001b[0m \tdf\u001b[38;5;241m.\u001b[39mrename(columns\u001b[38;5;241m=\u001b[39m{\u001b[38;5;241m0\u001b[39m:measure}, inplace\u001b[38;5;241m=\u001b[39m\u001b[38;5;28;01mTrue\u001b[39;00m)\n\u001b[0;32m    373\u001b[0m \t\u001b[38;5;28;01mif\u001b[39;00m \u001b[38;5;28mself\u001b[39m\u001b[38;5;241m.\u001b[39mnormalize:\n",
      "File \u001b[1;32m~\\AppData\\Roaming\\Python\\Python311\\site-packages\\pandas\\core\\frame.py:8402\u001b[0m, in \u001b[0;36mDataFrame.groupby\u001b[1;34m(self, by, axis, level, as_index, sort, group_keys, squeeze, observed, dropna)\u001b[0m\n\u001b[0;32m   8399\u001b[0m     \u001b[38;5;28;01mraise\u001b[39;00m \u001b[38;5;167;01mTypeError\u001b[39;00m(\u001b[38;5;124m\"\u001b[39m\u001b[38;5;124mYou have to supply one of \u001b[39m\u001b[38;5;124m'\u001b[39m\u001b[38;5;124mby\u001b[39m\u001b[38;5;124m'\u001b[39m\u001b[38;5;124m and \u001b[39m\u001b[38;5;124m'\u001b[39m\u001b[38;5;124mlevel\u001b[39m\u001b[38;5;124m'\u001b[39m\u001b[38;5;124m\"\u001b[39m)\n\u001b[0;32m   8400\u001b[0m axis \u001b[38;5;241m=\u001b[39m \u001b[38;5;28mself\u001b[39m\u001b[38;5;241m.\u001b[39m_get_axis_number(axis)\n\u001b[1;32m-> 8402\u001b[0m \u001b[38;5;28;01mreturn\u001b[39;00m DataFrameGroupBy(\n\u001b[0;32m   8403\u001b[0m     obj\u001b[38;5;241m=\u001b[39m\u001b[38;5;28mself\u001b[39m,\n\u001b[0;32m   8404\u001b[0m     keys\u001b[38;5;241m=\u001b[39mby,\n\u001b[0;32m   8405\u001b[0m     axis\u001b[38;5;241m=\u001b[39maxis,\n\u001b[0;32m   8406\u001b[0m     level\u001b[38;5;241m=\u001b[39mlevel,\n\u001b[0;32m   8407\u001b[0m     as_index\u001b[38;5;241m=\u001b[39mas_index,\n\u001b[0;32m   8408\u001b[0m     sort\u001b[38;5;241m=\u001b[39msort,\n\u001b[0;32m   8409\u001b[0m     group_keys\u001b[38;5;241m=\u001b[39mgroup_keys,\n\u001b[0;32m   8410\u001b[0m     squeeze\u001b[38;5;241m=\u001b[39msqueeze,\n\u001b[0;32m   8411\u001b[0m     observed\u001b[38;5;241m=\u001b[39mobserved,\n\u001b[0;32m   8412\u001b[0m     dropna\u001b[38;5;241m=\u001b[39mdropna,\n\u001b[0;32m   8413\u001b[0m )\n",
      "File \u001b[1;32m~\\AppData\\Roaming\\Python\\Python311\\site-packages\\pandas\\core\\groupby\\groupby.py:965\u001b[0m, in \u001b[0;36mGroupBy.__init__\u001b[1;34m(self, obj, keys, axis, level, grouper, exclusions, selection, as_index, sort, group_keys, squeeze, observed, mutated, dropna)\u001b[0m\n\u001b[0;32m    962\u001b[0m \u001b[38;5;28;01mif\u001b[39;00m grouper \u001b[38;5;129;01mis\u001b[39;00m \u001b[38;5;28;01mNone\u001b[39;00m:\n\u001b[0;32m    963\u001b[0m     \u001b[38;5;28;01mfrom\u001b[39;00m \u001b[38;5;21;01mpandas\u001b[39;00m\u001b[38;5;21;01m.\u001b[39;00m\u001b[38;5;21;01mcore\u001b[39;00m\u001b[38;5;21;01m.\u001b[39;00m\u001b[38;5;21;01mgroupby\u001b[39;00m\u001b[38;5;21;01m.\u001b[39;00m\u001b[38;5;21;01mgrouper\u001b[39;00m \u001b[38;5;28;01mimport\u001b[39;00m get_grouper\n\u001b[1;32m--> 965\u001b[0m     grouper, exclusions, obj \u001b[38;5;241m=\u001b[39m get_grouper(\n\u001b[0;32m    966\u001b[0m         obj,\n\u001b[0;32m    967\u001b[0m         keys,\n\u001b[0;32m    968\u001b[0m         axis\u001b[38;5;241m=\u001b[39maxis,\n\u001b[0;32m    969\u001b[0m         level\u001b[38;5;241m=\u001b[39mlevel,\n\u001b[0;32m    970\u001b[0m         sort\u001b[38;5;241m=\u001b[39msort,\n\u001b[0;32m    971\u001b[0m         observed\u001b[38;5;241m=\u001b[39mobserved,\n\u001b[0;32m    972\u001b[0m         mutated\u001b[38;5;241m=\u001b[39m\u001b[38;5;28mself\u001b[39m\u001b[38;5;241m.\u001b[39mmutated,\n\u001b[0;32m    973\u001b[0m         dropna\u001b[38;5;241m=\u001b[39m\u001b[38;5;28mself\u001b[39m\u001b[38;5;241m.\u001b[39mdropna,\n\u001b[0;32m    974\u001b[0m     )\n\u001b[0;32m    976\u001b[0m \u001b[38;5;28mself\u001b[39m\u001b[38;5;241m.\u001b[39mobj \u001b[38;5;241m=\u001b[39m obj\n\u001b[0;32m    977\u001b[0m \u001b[38;5;28mself\u001b[39m\u001b[38;5;241m.\u001b[39maxis \u001b[38;5;241m=\u001b[39m obj\u001b[38;5;241m.\u001b[39m_get_axis_number(axis)\n",
      "File \u001b[1;32m~\\AppData\\Roaming\\Python\\Python311\\site-packages\\pandas\\core\\groupby\\grouper.py:888\u001b[0m, in \u001b[0;36mget_grouper\u001b[1;34m(obj, key, axis, level, sort, observed, mutated, validate, dropna)\u001b[0m\n\u001b[0;32m    886\u001b[0m         in_axis, level, gpr \u001b[38;5;241m=\u001b[39m \u001b[38;5;28;01mFalse\u001b[39;00m, gpr, \u001b[38;5;28;01mNone\u001b[39;00m\n\u001b[0;32m    887\u001b[0m     \u001b[38;5;28;01melse\u001b[39;00m:\n\u001b[1;32m--> 888\u001b[0m         \u001b[38;5;28;01mraise\u001b[39;00m \u001b[38;5;167;01mKeyError\u001b[39;00m(gpr)\n\u001b[0;32m    889\u001b[0m \u001b[38;5;28;01melif\u001b[39;00m \u001b[38;5;28misinstance\u001b[39m(gpr, Grouper) \u001b[38;5;129;01mand\u001b[39;00m gpr\u001b[38;5;241m.\u001b[39mkey \u001b[38;5;129;01mis\u001b[39;00m \u001b[38;5;129;01mnot\u001b[39;00m \u001b[38;5;28;01mNone\u001b[39;00m:\n\u001b[0;32m    890\u001b[0m     \u001b[38;5;66;03m# Add key to exclusions\u001b[39;00m\n\u001b[0;32m    891\u001b[0m     exclusions\u001b[38;5;241m.\u001b[39madd(gpr\u001b[38;5;241m.\u001b[39mkey)\n",
      "\u001b[1;31mKeyError\u001b[0m: 'learning_rate'"
     ]
    }
   ],
   "source": [
    "p.plot_sweep2(\n",
    "    parameter1='inverse_temperature', \n",
    "    parameter2='belief_strength',\n",
    "    measure='efficiency',\n",
    "    file=image_folder_M2 / Path('efficiency_sweep_inverse_temp_vs_belief_strength.png')\n",
    ")"
   ]
  },
  {
   "cell_type": "code",
   "execution_count": null,
   "metadata": {},
   "outputs": [],
   "source": [
    "p.plot_sweep2(\n",
    "    parameter1='inverse_temperature', \n",
    "    parameter2='learning_rate',\n",
    "    measure='entropy',\n",
    "    file=image_folder_M2 / Path('entropy_sweep_inverse_temp_vs_belief_strength.png')\n",
    ")"
   ]
  },
  {
   "cell_type": "markdown",
   "metadata": {},
   "source": [
    "---"
   ]
  },
  {
   "cell_type": "markdown",
   "metadata": {},
   "source": [
    "## M3 <a class=\"anchor\" id=\"m3\"></a>"
   ]
  },
  {
   "cell_type": "code",
   "execution_count": null,
   "metadata": {},
   "outputs": [],
   "source": [
    "fixed_parameters = {\n",
    "\t\"threshold\":0.5,\n",
    "\t\"num_agents\":2,\n",
    "}\n",
    "free_parameters = {\n",
    "    \"belief_strength\":1,\n",
    "\t\"inverse_temperature\":16\n",
    "}\n",
    "agent = MFPM3(\n",
    "\tfixed_parameters=fixed_parameters,\n",
    "\tfree_parameters=free_parameters,\n",
    "\tn=0\n",
    ")\n",
    "agent.debug = True\n",
    "test_bar_has_capacity(agent)"
   ]
  },
  {
   "cell_type": "code",
   "execution_count": null,
   "metadata": {},
   "outputs": [],
   "source": [
    "agent = MFPM3(\n",
    "\tfixed_parameters=fixed_parameters,\n",
    "\tfree_parameters=free_parameters,\n",
    "\tn=0\n",
    ")\n",
    "agent.debug = True\n",
    "test_bar_is_full(agent)"
   ]
  },
  {
   "cell_type": "code",
   "execution_count": null,
   "metadata": {},
   "outputs": [],
   "source": [
    "agent = MFPM3(\n",
    "\tfixed_parameters=fixed_parameters,\n",
    "\tfree_parameters=free_parameters,\n",
    "\tn=0\n",
    ")\n",
    "agent.debug = True\n",
    "test_alternation(agent)"
   ]
  },
  {
   "cell_type": "code",
   "execution_count": null,
   "metadata": {},
   "outputs": [],
   "source": [
    "fixed_parameters = {\n",
    "\t\"threshold\":0.5,\n",
    "\t\"num_agents\":6,\n",
    "}\n",
    "free_parameters = {\n",
    "    \"belief_strength\":1,\n",
    "\t\"inverse_temperature\":16\n",
    "}\n",
    "simulation_parameters = {\n",
    "\t'num_episodes':100,\n",
    "\t'num_rounds':1000,\n",
    "\t'verbose':False\n",
    "}"
   ]
  },
  {
   "cell_type": "code",
   "execution_count": null,
   "metadata": {},
   "outputs": [],
   "source": [
    "import numpy as np\n",
    "from Utils.interaction import Performer\n",
    "\n",
    "LaTeX_string = Performer.sweep(\n",
    "    agent_class=MFPM3,\n",
    "    fixed_parameters=fixed_parameters,\n",
    "    free_parameters=free_parameters,\n",
    "    simulation_parameters=simulation_parameters,\n",
    "    sweep_parameter='learning_rate',\n",
    "    values=[0, 0.05, 0.1, 0.2, 0.4, 0.8],\n",
    "    image_folder=image_folder,\n",
    "    measures=['efficiency', 'inequality', 'entropy', 'conditional_entropy']\n",
    ")"
   ]
  },
  {
   "cell_type": "code",
   "execution_count": null,
   "metadata": {},
   "outputs": [],
   "source": [
    "LaTeX_string = Performer.sweep(\n",
    "    agent_class=MFPM3,\n",
    "    fixed_parameters=fixed_parameters,\n",
    "    free_parameters=free_parameters,\n",
    "    simulation_parameters=simulation_parameters,\n",
    "    sweep_parameter='inverse_temperature',\n",
    "    values=[2**x for x in range(0, 7)],\n",
    "    image_folder=image_folder,\n",
    "    measures=['entropy', 'efficiency']\n",
    ")"
   ]
  },
  {
   "cell_type": "code",
   "execution_count": null,
   "metadata": {},
   "outputs": [],
   "source": [
    "from Utils.interaction import Experiment\n",
    "\n",
    "exp = Experiment(\n",
    "    agent_class=MFPM3,\n",
    "    fixed_parameters=fixed_parameters,\n",
    "    free_parameters=free_parameters,\n",
    "    simulation_parameters=simulation_parameters,\n",
    "    measures=['efficiency', 'inequality', 'entropy', 'conditional_entropy']\n",
    ")"
   ]
  },
  {
   "cell_type": "code",
   "execution_count": null,
   "metadata": {},
   "outputs": [],
   "source": [
    "exp.run_sweep2(\n",
    "    parameter1='inverse_temperature',\n",
    "    values1=[2**x for x in range(0, 7)],\n",
    "    parameter2='learning_rate',\n",
    "    values2=[0, 0.05, 0.1, 0.2, 0.4, 0.8],\n",
    "    file=image_folder_M3 / 'sweep_inverse_temp_vs_learning_rate'\n",
    ")"
   ]
  },
  {
   "cell_type": "code",
   "execution_count": null,
   "metadata": {},
   "outputs": [],
   "source": [
    "from Utils.plot_utils import PlotStandardMeasures\n",
    "\n",
    "p = PlotStandardMeasures(exp.data)"
   ]
  },
  {
   "cell_type": "code",
   "execution_count": null,
   "metadata": {},
   "outputs": [],
   "source": [
    "p.plot_sweep2(\n",
    "    parameter1='inverse_temperature', \n",
    "    parameter2='learning_rate',\n",
    "    measure='efficiency',\n",
    "    file=image_folder_M3 / Path('efficiency_sweep_inverse_temp_vs_learning_rate.png')\n",
    ")"
   ]
  },
  {
   "cell_type": "code",
   "execution_count": null,
   "metadata": {},
   "outputs": [],
   "source": [
    "p.plot_sweep2(\n",
    "    parameter1='inverse_temperature', \n",
    "    parameter2='learning_rate',\n",
    "    measure='entropy',\n",
    "    file=image_folder_M3 / Path('entropy_sweep_inverse_temp_vs_learning_rate.png')\n",
    ")"
   ]
  },
  {
   "cell_type": "markdown",
   "metadata": {},
   "source": [
    "---"
   ]
  },
  {
   "cell_type": "code",
   "execution_count": null,
   "metadata": {},
   "outputs": [],
   "source": [
    "from Utils.interaction import Performer\n",
    "\n",
    "fixed_parameters = {\n",
    "\t\"threshold\":0.5,\n",
    "\t\"num_agents\":6,\n",
    "}\n",
    "free_parameters = {\n",
    "\t\"learning_rate\": 0.2,\n",
    "\t\"inverse_temperature\":16\n",
    "}\n",
    "simulation_parameters = {\n",
    "\t'num_episodes':100,\n",
    "\t'num_rounds':1000,\n",
    "\t'verbose':False\n",
    "}\n",
    "\n",
    "list_dicts = [\n",
    "    {\n",
    "        'agent_class': PayoffM1,\n",
    "        'fixed_parameters': fixed_parameters,\n",
    "        'free_parameters': free_parameters,\n",
    "        'simulation_parameters': simulation_parameters,\n",
    "        'seed': 7\n",
    "    },\n",
    "    {\n",
    "        'agent_class': PayoffM2,\n",
    "        'fixed_parameters': fixed_parameters,\n",
    "        'free_parameters': free_parameters,\n",
    "        'simulation_parameters': simulation_parameters,\n",
    "        'seed': 9\n",
    "    },\n",
    "    {\n",
    "        'agent_class': PayoffM3,\n",
    "        'fixed_parameters': fixed_parameters,\n",
    "        'free_parameters': free_parameters,\n",
    "        'simulation_parameters': simulation_parameters,\n",
    "        'seed': 0\n",
    "    }\n",
    "]"
   ]
  },
  {
   "cell_type": "code",
   "execution_count": null,
   "metadata": {},
   "outputs": [],
   "source": [
    "#-------------------------------\n",
    "# Create plots\n",
    "#-------------------------------\n",
    "perf = Performer.simple_vs(\n",
    "    list_dicts=list_dicts,\n",
    "    image_folder=image_folder_all,\n",
    "    measures=['efficiency', 'inequality', 'entropy', 'conditional_entropy'],\n",
    "    kwargs={\n",
    "        'T': 20,\n",
    "        'model_names': {\n",
    "            'Payoff-M1-7': 'M1',\n",
    "            'Payoff-M2-9': 'M2',\n",
    "            'Payoff-M3-0': 'M3'\n",
    "        },\n",
    "        'figsize': (3.5, 3)\n",
    "    }\n",
    ")"
   ]
  },
  {
   "cell_type": "markdown",
   "metadata": {},
   "source": [
    "---"
   ]
  },
  {
   "cell_type": "code",
   "execution_count": null,
   "metadata": {},
   "outputs": [],
   "source": [
    "from Utils.interaction import Performer\n",
    "\n",
    "fixed_parameters = {\n",
    "\t\"threshold\":0.5,\n",
    "\t\"num_agents\":6,\n",
    "}\n",
    "free_parameters = {\n",
    "\t'inverse_temperature':16,\n",
    "\t'learning_rate':1.2\n",
    "}\n",
    "simulation_parameters = {\n",
    "\t'num_episodes':1,\n",
    "\t'num_rounds':1000,\n",
    "\t'verbose':False\n",
    "}"
   ]
  },
  {
   "cell_type": "code",
   "execution_count": null,
   "metadata": {},
   "outputs": [],
   "source": [
    "LaTeX_string = Performer.simple_run(\n",
    "    agent_class=PayoffM1,\n",
    "    fixed_parameters=fixed_parameters,\n",
    "    free_parameters=free_parameters,\n",
    "    simulation_parameters=simulation_parameters,\n",
    "    image_folder=image_folder_M1,\n",
    "    measures=['render']\n",
    ")"
   ]
  },
  {
   "cell_type": "code",
   "execution_count": null,
   "metadata": {},
   "outputs": [],
   "source": [
    "LaTeX_string = Performer.simple_run(\n",
    "    agent_class=PayoffM2,\n",
    "    fixed_parameters=fixed_parameters,\n",
    "    free_parameters=free_parameters,\n",
    "    simulation_parameters=simulation_parameters,\n",
    "    image_folder=image_folder_M2,\n",
    "    measures=['render']\n",
    ")"
   ]
  },
  {
   "cell_type": "code",
   "execution_count": null,
   "metadata": {},
   "outputs": [],
   "source": [
    "LaTeX_string = Performer.simple_run(\n",
    "    agent_class=PayoffM3,\n",
    "    fixed_parameters=fixed_parameters,\n",
    "    free_parameters=free_parameters,\n",
    "    simulation_parameters=simulation_parameters,\n",
    "    image_folder=image_folder_M3,\n",
    "    measures=['render']\n",
    ")"
   ]
  },
  {
   "cell_type": "code",
   "execution_count": null,
   "metadata": {},
   "outputs": [],
   "source": []
  }
 ],
 "metadata": {
  "kernelspec": {
   "display_name": "base",
   "language": "python",
   "name": "python3"
  },
  "language_info": {
   "codemirror_mode": {
    "name": "ipython",
    "version": 3
   },
   "file_extension": ".py",
   "mimetype": "text/x-python",
   "name": "python",
   "nbconvert_exporter": "python",
   "pygments_lexer": "ipython3",
   "version": "3.11.5"
  }
 },
 "nbformat": 4,
 "nbformat_minor": 2
}
