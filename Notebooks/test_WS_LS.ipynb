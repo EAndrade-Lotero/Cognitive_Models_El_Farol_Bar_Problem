{
 "cells": [
  {
   "cell_type": "markdown",
   "metadata": {},
   "source": [
    "# Win-Stay Lose-Shift"
   ]
  },
  {
   "cell_type": "code",
   "execution_count": 1,
   "metadata": {},
   "outputs": [],
   "source": [
    "import sys\n",
    "sys.path.append(\"../src/\")\n",
    "\n",
    "import warnings\n",
    "warnings.filterwarnings(\"ignore\")"
   ]
  },
  {
   "cell_type": "code",
   "execution_count": 2,
   "metadata": {},
   "outputs": [],
   "source": [
    "from Classes.cognitive_model_agents import WSLS\n",
    "from Utils.unit_tests import (\n",
    "    test_bar_is_full, \n",
    "    test_bar_has_capacity,\n",
    "    test_alternation\n",
    ")"
   ]
  },
  {
   "cell_type": "code",
   "execution_count": 3,
   "metadata": {},
   "outputs": [],
   "source": [
    "fixed_parameters = {\n",
    "\t\"threshold\":0.5,\n",
    "\t\"num_agents\":2,\n",
    "}\n",
    "free_parameters = {\n",
    "\t'inverse_temperature':10,\n",
    "\t'go_drive':0.4,\n",
    "\t'wsls_strength':1\n",
    "}"
   ]
  },
  {
   "cell_type": "code",
   "execution_count": 4,
   "metadata": {},
   "outputs": [
    {
     "name": "stdout",
     "output_type": "stream",
     "text": [
      "\n",
      "------------------------------------------------------------\n",
      "Test bar has capacity\n",
      "------------------------------------------------------------\n",
      "Initial state: [0, 0]\n",
      "---------- Round 0 ----------\n",
      "payoff: 0\n",
      "go_preference = 0.4 + 1 * 0\n",
      "Action preferences in state [0, 0]: [0.6, 0.4]\n",
      "payoff: 0\n",
      "go_preference = 0.4 + 1 * 0\n",
      "Action probabilities:\n",
      "no go:0.8807970779778825 ---- go:0.1192029220221175\n",
      "Chosen action: 0\n",
      "State arrived: [0, 0]\n",
      "Payoff action 0: 0\n",
      "---------- Round 1 ----------\n",
      "payoff: 0\n",
      "go_preference = 0.4 + 1 * 0\n",
      "Action preferences in state [0, 0]: [0.6, 0.4]\n",
      "payoff: 0\n",
      "go_preference = 0.4 + 1 * 0\n",
      "Action probabilities:\n",
      "no go:0.8807970779778825 ---- go:0.1192029220221175\n",
      "Chosen action: 0\n",
      "State arrived: [0, 0]\n",
      "Payoff action 0: 0\n",
      "---------- Round 2 ----------\n",
      "payoff: 0\n",
      "go_preference = 0.4 + 1 * 0\n",
      "Action preferences in state [0, 0]: [0.6, 0.4]\n",
      "payoff: 0\n",
      "go_preference = 0.4 + 1 * 0\n",
      "Action probabilities:\n",
      "no go:0.8807970779778825 ---- go:0.1192029220221175\n",
      "Chosen action: 0\n",
      "State arrived: [0, 0]\n",
      "Payoff action 0: 0\n",
      "---------- Round 3 ----------\n",
      "payoff: 0\n",
      "go_preference = 0.4 + 1 * 0\n",
      "Action preferences in state [0, 0]: [0.6, 0.4]\n",
      "payoff: 0\n",
      "go_preference = 0.4 + 1 * 0\n",
      "Action probabilities:\n",
      "no go:0.8807970779778825 ---- go:0.1192029220221175\n",
      "Chosen action: 1\n",
      "State arrived: [1, 0]\n",
      "Payoff action 1: 1\n",
      "---------- Round 4 ----------\n",
      "payoff: 1\n",
      "go_preference = 0.4 + 1 * 1\n",
      "Action preferences in state [1, 0]: [0.6, 1.4]\n",
      "payoff: 1\n",
      "go_preference = 0.4 + 1 * 1\n",
      "Action probabilities:\n",
      "no go:0.00033535013046647816 ---- go:0.9996646498695335\n",
      "Chosen action: 1\n",
      "State arrived: [1, 0]\n",
      "Payoff action 1: 1\n",
      "---------- Round 5 ----------\n",
      "payoff: 1\n",
      "go_preference = 0.4 + 1 * 1\n",
      "Action preferences in state [1, 0]: [0.6, 1.4]\n",
      "payoff: 1\n",
      "go_preference = 0.4 + 1 * 1\n",
      "Action probabilities:\n",
      "no go:0.00033535013046647816 ---- go:0.9996646498695335\n",
      "Chosen action: 1\n",
      "State arrived: [1, 0]\n",
      "Payoff action 1: 1\n",
      "---------- Round 6 ----------\n",
      "payoff: 1\n",
      "go_preference = 0.4 + 1 * 1\n",
      "Action preferences in state [1, 0]: [0.6, 1.4]\n",
      "payoff: 1\n",
      "go_preference = 0.4 + 1 * 1\n",
      "Action probabilities:\n",
      "no go:0.00033535013046647816 ---- go:0.9996646498695335\n",
      "Chosen action: 1\n",
      "State arrived: [1, 0]\n",
      "Payoff action 1: 1\n",
      "---------- Round 7 ----------\n",
      "payoff: 1\n",
      "go_preference = 0.4 + 1 * 1\n",
      "Action preferences in state [1, 0]: [0.6, 1.4]\n",
      "payoff: 1\n",
      "go_preference = 0.4 + 1 * 1\n",
      "Action probabilities:\n",
      "no go:0.00033535013046647816 ---- go:0.9996646498695335\n",
      "Chosen action: 1\n",
      "State arrived: [1, 0]\n",
      "Payoff action 1: 1\n",
      "---------- Round 8 ----------\n",
      "payoff: 1\n",
      "go_preference = 0.4 + 1 * 1\n",
      "Action preferences in state [1, 0]: [0.6, 1.4]\n",
      "payoff: 1\n",
      "go_preference = 0.4 + 1 * 1\n",
      "Action probabilities:\n",
      "no go:0.00033535013046647816 ---- go:0.9996646498695335\n",
      "Chosen action: 1\n",
      "State arrived: [1, 0]\n",
      "Payoff action 1: 1\n",
      "---------- Round 9 ----------\n",
      "payoff: 1\n",
      "go_preference = 0.4 + 1 * 1\n",
      "Action preferences in state [1, 0]: [0.6, 1.4]\n",
      "payoff: 1\n",
      "go_preference = 0.4 + 1 * 1\n",
      "Action probabilities:\n",
      "no go:0.00033535013046647816 ---- go:0.9996646498695335\n",
      "Chosen action: 1\n",
      "State arrived: [1, 0]\n",
      "Payoff action 1: 1\n"
     ]
    }
   ],
   "source": [
    "agent = WSLS(\n",
    "\tfixed_parameters=fixed_parameters,\n",
    "\tfree_parameters=free_parameters,\n",
    "\tn=0\n",
    ")\n",
    "agent.debug = True\n",
    "test_bar_has_capacity(agent)"
   ]
  },
  {
   "cell_type": "code",
   "execution_count": 5,
   "metadata": {},
   "outputs": [
    {
     "name": "stdout",
     "output_type": "stream",
     "text": [
      "\n",
      "------------------------------------------------------------\n",
      "Test bar is full\n",
      "------------------------------------------------------------\n",
      "Initial state: [1, 1]\n",
      "---------- Round 0 ----------\n",
      "payoff: -1\n",
      "go_preference = 0.4 + 1 * -1\n",
      "Action preferences in state [1, 1]: [0.6, -0.6]\n",
      "payoff: -1\n",
      "go_preference = 0.4 + 1 * -1\n",
      "Action probabilities:\n",
      "no go:0.9999938558253978 ---- go:6.144174602214717e-06\n",
      "Chosen action: 0\n",
      "State arrived: [0, 1]\n",
      "Payoff action 0: 0\n",
      "---------- Round 1 ----------\n",
      "payoff: 0\n",
      "go_preference = 0.4 + 1 * 0\n",
      "Action preferences in state [0, 1]: [0.6, 0.4]\n",
      "payoff: 0\n",
      "go_preference = 0.4 + 1 * 0\n",
      "Action probabilities:\n",
      "no go:0.8807970779778825 ---- go:0.1192029220221175\n",
      "Chosen action: 0\n",
      "State arrived: [0, 1]\n",
      "Payoff action 0: 0\n",
      "---------- Round 2 ----------\n",
      "payoff: 0\n",
      "go_preference = 0.4 + 1 * 0\n",
      "Action preferences in state [0, 1]: [0.6, 0.4]\n",
      "payoff: 0\n",
      "go_preference = 0.4 + 1 * 0\n",
      "Action probabilities:\n",
      "no go:0.8807970779778825 ---- go:0.1192029220221175\n",
      "Chosen action: 1\n",
      "State arrived: [1, 1]\n",
      "Payoff action 1: -1\n",
      "---------- Round 3 ----------\n",
      "payoff: -1\n",
      "go_preference = 0.4 + 1 * -1\n",
      "Action preferences in state [1, 1]: [0.6, -0.6]\n",
      "payoff: -1\n",
      "go_preference = 0.4 + 1 * -1\n",
      "Action probabilities:\n",
      "no go:0.9999938558253978 ---- go:6.144174602214717e-06\n",
      "Chosen action: 0\n",
      "State arrived: [0, 1]\n",
      "Payoff action 0: 0\n",
      "---------- Round 4 ----------\n",
      "payoff: 0\n",
      "go_preference = 0.4 + 1 * 0\n",
      "Action preferences in state [0, 1]: [0.6, 0.4]\n",
      "payoff: 0\n",
      "go_preference = 0.4 + 1 * 0\n",
      "Action probabilities:\n",
      "no go:0.8807970779778825 ---- go:0.1192029220221175\n",
      "Chosen action: 1\n",
      "State arrived: [1, 1]\n",
      "Payoff action 1: -1\n",
      "---------- Round 5 ----------\n",
      "payoff: -1\n",
      "go_preference = 0.4 + 1 * -1\n",
      "Action preferences in state [1, 1]: [0.6, -0.6]\n",
      "payoff: -1\n",
      "go_preference = 0.4 + 1 * -1\n",
      "Action probabilities:\n",
      "no go:0.9999938558253978 ---- go:6.144174602214717e-06\n",
      "Chosen action: 0\n",
      "State arrived: [0, 1]\n",
      "Payoff action 0: 0\n",
      "---------- Round 6 ----------\n",
      "payoff: 0\n",
      "go_preference = 0.4 + 1 * 0\n",
      "Action preferences in state [0, 1]: [0.6, 0.4]\n",
      "payoff: 0\n",
      "go_preference = 0.4 + 1 * 0\n",
      "Action probabilities:\n",
      "no go:0.8807970779778825 ---- go:0.1192029220221175\n",
      "Chosen action: 0\n",
      "State arrived: [0, 1]\n",
      "Payoff action 0: 0\n",
      "---------- Round 7 ----------\n",
      "payoff: 0\n",
      "go_preference = 0.4 + 1 * 0\n",
      "Action preferences in state [0, 1]: [0.6, 0.4]\n",
      "payoff: 0\n",
      "go_preference = 0.4 + 1 * 0\n",
      "Action probabilities:\n",
      "no go:0.8807970779778825 ---- go:0.1192029220221175\n",
      "Chosen action: 0\n",
      "State arrived: [0, 1]\n",
      "Payoff action 0: 0\n",
      "---------- Round 8 ----------\n",
      "payoff: 0\n",
      "go_preference = 0.4 + 1 * 0\n",
      "Action preferences in state [0, 1]: [0.6, 0.4]\n",
      "payoff: 0\n",
      "go_preference = 0.4 + 1 * 0\n",
      "Action probabilities:\n",
      "no go:0.8807970779778825 ---- go:0.1192029220221175\n",
      "Chosen action: 0\n",
      "State arrived: [0, 1]\n",
      "Payoff action 0: 0\n",
      "---------- Round 9 ----------\n",
      "payoff: 0\n",
      "go_preference = 0.4 + 1 * 0\n",
      "Action preferences in state [0, 1]: [0.6, 0.4]\n",
      "payoff: 0\n",
      "go_preference = 0.4 + 1 * 0\n",
      "Action probabilities:\n",
      "no go:0.8807970779778825 ---- go:0.1192029220221175\n",
      "Chosen action: 0\n",
      "State arrived: [0, 1]\n",
      "Payoff action 0: 0\n"
     ]
    }
   ],
   "source": [
    "agent = WSLS(\n",
    "\tfixed_parameters=fixed_parameters,\n",
    "\tfree_parameters=free_parameters,\n",
    "\tn=0\n",
    ")\n",
    "agent.debug = True\n",
    "test_bar_is_full(agent)"
   ]
  },
  {
   "cell_type": "code",
   "execution_count": 6,
   "metadata": {},
   "outputs": [
    {
     "name": "stdout",
     "output_type": "stream",
     "text": [
      "\n",
      "------------------------------------------------------------\n",
      "Test other player alternates\n",
      "------------------------------------------------------------\n",
      "Initial state: [0, 0]\n",
      "---------- Round 0 ----------\n",
      "payoff: 0\n",
      "go_preference = 0.4 + 1 * 0\n",
      "Action preferences in state [0, 0]: [0.6, 0.4]\n",
      "payoff: 0\n",
      "go_preference = 0.4 + 1 * 0\n",
      "Action probabilities:\n",
      "no go:0.8807970779778825 ---- go:0.1192029220221175\n",
      "Chosen action: 1\n",
      "State arrived: [1, 1]\n",
      "Payoff action 1: -1\n",
      "---------- Round 1 ----------\n",
      "payoff: -1\n",
      "go_preference = 0.4 + 1 * -1\n",
      "Action preferences in state [1, 1]: [0.6, -0.6]\n",
      "payoff: -1\n",
      "go_preference = 0.4 + 1 * -1\n",
      "Action probabilities:\n",
      "no go:0.9999938558253978 ---- go:6.144174602214717e-06\n",
      "Chosen action: 0\n",
      "State arrived: [0, 0]\n",
      "Payoff action 0: 0\n",
      "---------- Round 2 ----------\n",
      "payoff: 0\n",
      "go_preference = 0.4 + 1 * 0\n",
      "Action preferences in state [0, 0]: [0.6, 0.4]\n",
      "payoff: 0\n",
      "go_preference = 0.4 + 1 * 0\n",
      "Action probabilities:\n",
      "no go:0.8807970779778825 ---- go:0.1192029220221175\n",
      "Chosen action: 0\n",
      "State arrived: [0, 1]\n",
      "Payoff action 0: 0\n",
      "---------- Round 3 ----------\n",
      "payoff: 0\n",
      "go_preference = 0.4 + 1 * 0\n",
      "Action preferences in state [0, 1]: [0.6, 0.4]\n",
      "payoff: 0\n",
      "go_preference = 0.4 + 1 * 0\n",
      "Action probabilities:\n",
      "no go:0.8807970779778825 ---- go:0.1192029220221175\n",
      "Chosen action: 0\n",
      "State arrived: [0, 0]\n",
      "Payoff action 0: 0\n",
      "---------- Round 4 ----------\n",
      "payoff: 0\n",
      "go_preference = 0.4 + 1 * 0\n",
      "Action preferences in state [0, 0]: [0.6, 0.4]\n",
      "payoff: 0\n",
      "go_preference = 0.4 + 1 * 0\n",
      "Action probabilities:\n",
      "no go:0.8807970779778825 ---- go:0.1192029220221175\n",
      "Chosen action: 1\n",
      "State arrived: [1, 1]\n",
      "Payoff action 1: -1\n",
      "---------- Round 5 ----------\n",
      "payoff: -1\n",
      "go_preference = 0.4 + 1 * -1\n",
      "Action preferences in state [1, 1]: [0.6, -0.6]\n",
      "payoff: -1\n",
      "go_preference = 0.4 + 1 * -1\n",
      "Action probabilities:\n",
      "no go:0.9999938558253978 ---- go:6.144174602214717e-06\n",
      "Chosen action: 0\n",
      "State arrived: [0, 0]\n",
      "Payoff action 0: 0\n",
      "---------- Round 6 ----------\n",
      "payoff: 0\n",
      "go_preference = 0.4 + 1 * 0\n",
      "Action preferences in state [0, 0]: [0.6, 0.4]\n",
      "payoff: 0\n",
      "go_preference = 0.4 + 1 * 0\n",
      "Action probabilities:\n",
      "no go:0.8807970779778825 ---- go:0.1192029220221175\n",
      "Chosen action: 0\n",
      "State arrived: [0, 1]\n",
      "Payoff action 0: 0\n",
      "---------- Round 7 ----------\n",
      "payoff: 0\n",
      "go_preference = 0.4 + 1 * 0\n",
      "Action preferences in state [0, 1]: [0.6, 0.4]\n",
      "payoff: 0\n",
      "go_preference = 0.4 + 1 * 0\n",
      "Action probabilities:\n",
      "no go:0.8807970779778825 ---- go:0.1192029220221175\n",
      "Chosen action: 0\n",
      "State arrived: [0, 0]\n",
      "Payoff action 0: 0\n",
      "---------- Round 8 ----------\n",
      "payoff: 0\n",
      "go_preference = 0.4 + 1 * 0\n",
      "Action preferences in state [0, 0]: [0.6, 0.4]\n",
      "payoff: 0\n",
      "go_preference = 0.4 + 1 * 0\n",
      "Action probabilities:\n",
      "no go:0.8807970779778825 ---- go:0.1192029220221175\n",
      "Chosen action: 0\n",
      "State arrived: [0, 1]\n",
      "Payoff action 0: 0\n",
      "---------- Round 9 ----------\n",
      "payoff: 0\n",
      "go_preference = 0.4 + 1 * 0\n",
      "Action preferences in state [0, 1]: [0.6, 0.4]\n",
      "payoff: 0\n",
      "go_preference = 0.4 + 1 * 0\n",
      "Action probabilities:\n",
      "no go:0.8807970779778825 ---- go:0.1192029220221175\n",
      "Chosen action: 0\n",
      "State arrived: [0, 0]\n",
      "Payoff action 0: 0\n"
     ]
    }
   ],
   "source": [
    "agent = WSLS(\n",
    "\tfixed_parameters=fixed_parameters,\n",
    "\tfree_parameters=free_parameters,\n",
    "\tn=0\n",
    ")\n",
    "agent.debug = True\n",
    "test_alternation(agent)"
   ]
  },
  {
   "cell_type": "code",
   "execution_count": 7,
   "metadata": {},
   "outputs": [],
   "source": [
    "from pathlib import Path\n",
    "\n",
    "image_folder = Path('../images/WSLS')\n",
    "image_folder.mkdir(parents=True, exist_ok=True)\n",
    "data_folder = Path('../data/WSLS')\n",
    "image_folder.mkdir(parents=True, exist_ok=True)\n",
    "\n",
    "fixed_parameters = {\n",
    "\t\"threshold\":0.5,\n",
    "\t\"num_agents\":6,\n",
    "}\n",
    "free_parameters = {\n",
    "\t'inverse_temperature':32,\n",
    "\t'go_drive':0.4,\n",
    "\t'wsls_strength':1\n",
    "}\n",
    "simulation_parameters = {\n",
    "\t'num_episodes':100,\n",
    "\t'num_rounds':1000,\n",
    "\t'verbose':False\n",
    "}"
   ]
  },
  {
   "cell_type": "code",
   "execution_count": 5,
   "metadata": {},
   "outputs": [
    {
     "data": {
      "application/vnd.jupyter.widget-view+json": {
       "model_id": "c6d49f087df24849ac76290524949b44",
       "version_major": 2,
       "version_minor": 0
      },
      "text/plain": [
       "Running models for each wsls_strength:   0%|          | 0/5 [00:00<?, ?it/s]"
      ]
     },
     "metadata": {},
     "output_type": "display_data"
    },
    {
     "data": {
      "application/vnd.jupyter.widget-view+json": {
       "model_id": "a244824039f54985bf8b29bbeb9dbcca",
       "version_major": 2,
       "version_minor": 0
      },
      "text/plain": [
       "  0%|          | 0/100 [00:00<?, ?it/s]"
      ]
     },
     "metadata": {},
     "output_type": "display_data"
    },
    {
     "data": {
      "application/vnd.jupyter.widget-view+json": {
       "model_id": "5cd1c86c388647b28738d39530b9a353",
       "version_major": 2,
       "version_minor": 0
      },
      "text/plain": [
       "  0%|          | 0/100 [00:00<?, ?it/s]"
      ]
     },
     "metadata": {},
     "output_type": "display_data"
    },
    {
     "data": {
      "application/vnd.jupyter.widget-view+json": {
       "model_id": "22eadd888f804c52b6b67c5561a61042",
       "version_major": 2,
       "version_minor": 0
      },
      "text/plain": [
       "  0%|          | 0/100 [00:00<?, ?it/s]"
      ]
     },
     "metadata": {},
     "output_type": "display_data"
    },
    {
     "ename": "KeyboardInterrupt",
     "evalue": "",
     "output_type": "error",
     "traceback": [
      "\u001b[1;31m---------------------------------------------------------------------------\u001b[0m",
      "\u001b[1;31mKeyboardInterrupt\u001b[0m                         Traceback (most recent call last)",
      "Cell \u001b[1;32mIn[5], line 4\u001b[0m\n\u001b[0;32m      1\u001b[0m \u001b[38;5;28;01mfrom\u001b[39;00m \u001b[38;5;21;01mUtils\u001b[39;00m\u001b[38;5;21;01m.\u001b[39;00m\u001b[38;5;21;01minteraction\u001b[39;00m \u001b[38;5;28;01mimport\u001b[39;00m Performer\n\u001b[0;32m      3\u001b[0m kwargs \u001b[38;5;241m=\u001b[39m {\u001b[38;5;124m'\u001b[39m\u001b[38;5;124mfigsize\u001b[39m\u001b[38;5;124m'\u001b[39m: (\u001b[38;5;241m4\u001b[39m, \u001b[38;5;241m3\u001b[39m)}\n\u001b[1;32m----> 4\u001b[0m LaTeX_string \u001b[38;5;241m=\u001b[39m \u001b[43mPerformer\u001b[49m\u001b[38;5;241;43m.\u001b[39;49m\u001b[43msweep\u001b[49m\u001b[43m(\u001b[49m\n\u001b[0;32m      5\u001b[0m \u001b[43m    \u001b[49m\u001b[43magent_class\u001b[49m\u001b[38;5;241;43m=\u001b[39;49m\u001b[43mWSLS\u001b[49m\u001b[43m,\u001b[49m\n\u001b[0;32m      6\u001b[0m \u001b[43m    \u001b[49m\u001b[43mfixed_parameters\u001b[49m\u001b[38;5;241;43m=\u001b[39;49m\u001b[43mfixed_parameters\u001b[49m\u001b[43m,\u001b[49m\n\u001b[0;32m      7\u001b[0m \u001b[43m    \u001b[49m\u001b[43mfree_parameters\u001b[49m\u001b[38;5;241;43m=\u001b[39;49m\u001b[43mfree_parameters\u001b[49m\u001b[43m,\u001b[49m\n\u001b[0;32m      8\u001b[0m \u001b[43m    \u001b[49m\u001b[43msimulation_parameters\u001b[49m\u001b[38;5;241;43m=\u001b[39;49m\u001b[43msimulation_parameters\u001b[49m\u001b[43m,\u001b[49m\n\u001b[0;32m      9\u001b[0m \u001b[43m    \u001b[49m\u001b[43msweep_parameter\u001b[49m\u001b[38;5;241;43m=\u001b[39;49m\u001b[38;5;124;43m'\u001b[39;49m\u001b[38;5;124;43mwsls_strength\u001b[39;49m\u001b[38;5;124;43m'\u001b[39;49m\u001b[43m,\u001b[49m\n\u001b[0;32m     10\u001b[0m \u001b[43m    \u001b[49m\u001b[43mvalues\u001b[49m\u001b[38;5;241;43m=\u001b[39;49m\u001b[43m[\u001b[49m\u001b[38;5;241;43m0\u001b[39;49m\u001b[43m,\u001b[49m\u001b[43m \u001b[49m\u001b[38;5;241;43m0.4\u001b[39;49m\u001b[43m,\u001b[49m\u001b[43m \u001b[49m\u001b[38;5;241;43m0.8\u001b[39;49m\u001b[43m,\u001b[49m\u001b[43m \u001b[49m\u001b[38;5;241;43m1.2\u001b[39;49m\u001b[43m,\u001b[49m\u001b[43m \u001b[49m\u001b[38;5;241;43m1.6\u001b[39;49m\u001b[43m]\u001b[49m\u001b[43m,\u001b[49m\n\u001b[0;32m     11\u001b[0m \u001b[43m    \u001b[49m\u001b[43mimage_folder\u001b[49m\u001b[38;5;241;43m=\u001b[39;49m\u001b[43mimage_folder\u001b[49m\u001b[43m,\u001b[49m\n\u001b[0;32m     12\u001b[0m \u001b[43m    \u001b[49m\u001b[43mmeasures\u001b[49m\u001b[38;5;241;43m=\u001b[39;49m\u001b[43m[\u001b[49m\u001b[38;5;124;43m'\u001b[39;49m\u001b[38;5;124;43mconditional_entropy\u001b[39;49m\u001b[38;5;124;43m'\u001b[39;49m\u001b[43m,\u001b[49m\u001b[43m \u001b[49m\u001b[38;5;124;43m'\u001b[39;49m\u001b[38;5;124;43mentropy\u001b[39;49m\u001b[38;5;124;43m'\u001b[39;49m\u001b[43m,\u001b[49m\u001b[43m \u001b[49m\u001b[38;5;124;43m'\u001b[39;49m\u001b[38;5;124;43mefficiency\u001b[39;49m\u001b[38;5;124;43m'\u001b[39;49m\u001b[43m,\u001b[49m\u001b[43m \u001b[49m\u001b[38;5;124;43m'\u001b[39;49m\u001b[38;5;124;43minequality\u001b[39;49m\u001b[38;5;124;43m'\u001b[39;49m\u001b[43m]\u001b[49m\u001b[43m,\u001b[49m\n\u001b[0;32m     13\u001b[0m \u001b[43m    \u001b[49m\u001b[43mkwargs\u001b[49m\u001b[38;5;241;43m=\u001b[39;49m\u001b[43mkwargs\u001b[49m\n\u001b[0;32m     14\u001b[0m \u001b[43m)\u001b[49m\n",
      "File \u001b[1;32mc:\\Users\\andra\\Documents\\Cognitive_Models_El_Farol_Bar_Problem\\Notebooks\\../src\\Utils\\interaction.py:554\u001b[0m, in \u001b[0;36mPerformer.sweep\u001b[1;34m(agent_class, fixed_parameters, free_parameters, simulation_parameters, sweep_parameter, values, image_folder, measures, kwargs)\u001b[0m\n\u001b[0;32m    552\u001b[0m \u001b[38;5;28;01mif\u001b[39;00m kwargs \u001b[38;5;129;01mis\u001b[39;00m \u001b[38;5;129;01mnot\u001b[39;00m \u001b[38;5;28;01mNone\u001b[39;00m:\n\u001b[0;32m    553\u001b[0m \tkwargs_\u001b[38;5;241m.\u001b[39mupdate(kwargs)\n\u001b[1;32m--> 554\u001b[0m \u001b[43mexperiment\u001b[49m\u001b[38;5;241;43m.\u001b[39;49m\u001b[43mrun_sweep1\u001b[49m\u001b[43m(\u001b[49m\n\u001b[0;32m    555\u001b[0m \u001b[43m\t\u001b[49m\u001b[43mparameter\u001b[49m\u001b[38;5;241;43m=\u001b[39;49m\u001b[43msweep_parameter\u001b[49m\u001b[43m,\u001b[49m\n\u001b[0;32m    556\u001b[0m \u001b[43m\t\u001b[49m\u001b[43mvalues\u001b[49m\u001b[38;5;241;43m=\u001b[39;49m\u001b[43mvalues\u001b[49m\u001b[43m,\u001b[49m\n\u001b[0;32m    557\u001b[0m \u001b[43m\t\u001b[49m\u001b[43mfolder_plots\u001b[49m\u001b[38;5;241;43m=\u001b[39;49m\u001b[43mimage_folder\u001b[49m\u001b[43m,\u001b[49m\n\u001b[0;32m    558\u001b[0m \u001b[43m\t\u001b[49m\u001b[43mkwargs\u001b[49m\u001b[38;5;241;43m=\u001b[39;49m\u001b[43mkwargs_\u001b[49m\n\u001b[0;32m    559\u001b[0m \u001b[43m\u001b[49m\u001b[43m)\u001b[49m\n\u001b[0;32m    560\u001b[0m \u001b[38;5;66;03m# Clean plot memory\u001b[39;00m\n\u001b[0;32m    561\u001b[0m plt\u001b[38;5;241m.\u001b[39mclose()\n",
      "File \u001b[1;32mc:\\Users\\andra\\Documents\\Cognitive_Models_El_Farol_Bar_Problem\\Notebooks\\../src\\Utils\\interaction.py:298\u001b[0m, in \u001b[0;36mExperiment.run_sweep1\u001b[1;34m(self, parameter, values, folder_plots, file_data, kwargs)\u001b[0m\n\u001b[0;32m    291\u001b[0m episode \u001b[38;5;241m=\u001b[39m Episode(\n\u001b[0;32m    292\u001b[0m \tenvironment\u001b[38;5;241m=\u001b[39m\u001b[38;5;28mself\u001b[39m\u001b[38;5;241m.\u001b[39menvironment,\\\n\u001b[0;32m    293\u001b[0m \tagents\u001b[38;5;241m=\u001b[39m\u001b[38;5;28mself\u001b[39m\u001b[38;5;241m.\u001b[39magents,\\\n\u001b[0;32m    294\u001b[0m \tmodel\u001b[38;5;241m=\u001b[39mname,\\\n\u001b[0;32m    295\u001b[0m \tnum_rounds\u001b[38;5;241m=\u001b[39m\u001b[38;5;28mself\u001b[39m\u001b[38;5;241m.\u001b[39mnum_rounds\n\u001b[0;32m    296\u001b[0m )\n\u001b[0;32m    297\u001b[0m \u001b[38;5;66;03m# Run simulation\u001b[39;00m\n\u001b[1;32m--> 298\u001b[0m df \u001b[38;5;241m=\u001b[39m \u001b[43mepisode\u001b[49m\u001b[38;5;241;43m.\u001b[39;49m\u001b[43msimulate\u001b[49m\u001b[43m(\u001b[49m\n\u001b[0;32m    299\u001b[0m \u001b[43m\t\u001b[49m\u001b[43mnum_episodes\u001b[49m\u001b[38;5;241;43m=\u001b[39;49m\u001b[38;5;28;43mself\u001b[39;49m\u001b[38;5;241;43m.\u001b[39;49m\u001b[43mnum_episodes\u001b[49m\u001b[43m,\u001b[49m\u001b[43m \u001b[49m\n\u001b[0;32m    300\u001b[0m \u001b[43m\t\u001b[49m\u001b[43mverbose\u001b[49m\u001b[38;5;241;43m=\u001b[39;49m\u001b[38;5;241;43m0\u001b[39;49m\n\u001b[0;32m    301\u001b[0m \u001b[43m\u001b[49m\u001b[43m)\u001b[49m\n\u001b[0;32m    302\u001b[0m \u001b[38;5;66;03m# Append dataframe\u001b[39;00m\n\u001b[0;32m    303\u001b[0m df_list\u001b[38;5;241m.\u001b[39mappend(df)\n",
      "File \u001b[1;32mc:\\Users\\andra\\Documents\\Cognitive_Models_El_Farol_Bar_Problem\\Notebooks\\../src\\Utils\\interaction.py:161\u001b[0m, in \u001b[0;36mEpisode.simulate\u001b[1;34m(self, num_episodes, file, verbose)\u001b[0m\n\u001b[0;32m    159\u001b[0m \t\u001b[38;5;28mself\u001b[39m\u001b[38;5;241m.\u001b[39menvironment\u001b[38;5;241m.\u001b[39mreset()\n\u001b[0;32m    160\u001b[0m \t\u001b[38;5;66;03m# Run the episode\u001b[39;00m\n\u001b[1;32m--> 161\u001b[0m \t\u001b[38;5;28;43mself\u001b[39;49m\u001b[38;5;241;43m.\u001b[39;49m\u001b[43mrun\u001b[49m\u001b[43m(\u001b[49m\u001b[43mverbose\u001b[49m\u001b[38;5;241;43m=\u001b[39;49m\u001b[43mverbose\u001b[49m\u001b[43m)\u001b[49m\n\u001b[0;32m    162\u001b[0m \tdata_frames\u001b[38;5;241m.\u001b[39mappend(\u001b[38;5;28mself\u001b[39m\u001b[38;5;241m.\u001b[39mto_pandas())\n\u001b[0;32m    163\u001b[0m data \u001b[38;5;241m=\u001b[39m pd\u001b[38;5;241m.\u001b[39mconcat(data_frames, ignore_index\u001b[38;5;241m=\u001b[39m\u001b[38;5;28;01mTrue\u001b[39;00m)\n",
      "File \u001b[1;32mc:\\Users\\andra\\Documents\\Cognitive_Models_El_Farol_Bar_Problem\\Notebooks\\../src\\Utils\\interaction.py:83\u001b[0m, in \u001b[0;36mEpisode.run\u001b[1;34m(self, verbose)\u001b[0m\n\u001b[0;32m     81\u001b[0m \u001b[38;5;28;01mif\u001b[39;00m verbose:\n\u001b[0;32m     82\u001b[0m \t\u001b[38;5;28mprint\u001b[39m(\u001b[38;5;124m'\u001b[39m\u001b[38;5;130;01m\\n\u001b[39;00m\u001b[38;5;124m'\u001b[39m \u001b[38;5;241m+\u001b[39m \u001b[38;5;124m'\u001b[39m\u001b[38;5;124m-\u001b[39m\u001b[38;5;124m'\u001b[39m\u001b[38;5;241m*\u001b[39m\u001b[38;5;241m10\u001b[39m \u001b[38;5;241m+\u001b[39m \u001b[38;5;124mf\u001b[39m\u001b[38;5;124m'\u001b[39m\u001b[38;5;124mRound \u001b[39m\u001b[38;5;132;01m{\u001b[39;00m\u001b[38;5;28mround\u001b[39m\u001b[38;5;132;01m}\u001b[39;00m\u001b[38;5;124m'\u001b[39m \u001b[38;5;241m+\u001b[39m \u001b[38;5;124m'\u001b[39m\u001b[38;5;124m-\u001b[39m\u001b[38;5;124m'\u001b[39m\u001b[38;5;241m*\u001b[39m\u001b[38;5;241m10\u001b[39m \u001b[38;5;241m+\u001b[39m \u001b[38;5;124m'\u001b[39m\u001b[38;5;130;01m\\n\u001b[39;00m\u001b[38;5;124m'\u001b[39m)\n\u001b[1;32m---> 83\u001b[0m \u001b[38;5;28;43mself\u001b[39;49m\u001b[38;5;241;43m.\u001b[39;49m\u001b[43mplay_round\u001b[49m\u001b[43m(\u001b[49m\u001b[43mverbose\u001b[49m\u001b[38;5;241;43m=\u001b[39;49m\u001b[43mverbose\u001b[49m\u001b[43m)\u001b[49m\n",
      "File \u001b[1;32mc:\\Users\\andra\\Documents\\Cognitive_Models_El_Farol_Bar_Problem\\Notebooks\\../src\\Utils\\interaction.py:55\u001b[0m, in \u001b[0;36mEpisode.play_round\u001b[1;34m(self, verbose)\u001b[0m\n\u001b[0;32m     52\u001b[0m \u001b[38;5;66;03m# Ask each agent to make a decision\u001b[39;00m\n\u001b[0;32m     53\u001b[0m \u001b[38;5;28;01mfor\u001b[39;00m i, agent \u001b[38;5;129;01min\u001b[39;00m \u001b[38;5;28menumerate\u001b[39m(\u001b[38;5;28mself\u001b[39m\u001b[38;5;241m.\u001b[39magents):\n\u001b[0;32m     54\u001b[0m \t\u001b[38;5;66;03m# Make decision\u001b[39;00m\n\u001b[1;32m---> 55\u001b[0m \tdecision \u001b[38;5;241m=\u001b[39m \u001b[43magent\u001b[49m\u001b[38;5;241;43m.\u001b[39;49m\u001b[43mmake_decision\u001b[49m\u001b[43m(\u001b[49m\u001b[43m)\u001b[49m\n\u001b[0;32m     56\u001b[0m \t\u001b[38;5;66;03m# Add to list of attendances\u001b[39;00m\n\u001b[0;32m     57\u001b[0m \tattendances\u001b[38;5;241m.\u001b[39mappend(decision)\n",
      "File \u001b[1;32mc:\\Users\\andra\\Documents\\Cognitive_Models_El_Farol_Bar_Problem\\Notebooks\\../src\\Classes\\cognitive_model_agents.py:59\u001b[0m, in \u001b[0;36mCogMod.make_decision\u001b[1;34m(self)\u001b[0m\n\u001b[0;32m     57\u001b[0m go_prob \u001b[38;5;241m=\u001b[39m \u001b[38;5;28mself\u001b[39m\u001b[38;5;241m.\u001b[39mgo_probability()\n\u001b[0;32m     58\u001b[0m probabilities \u001b[38;5;241m=\u001b[39m [\u001b[38;5;241m1\u001b[39m \u001b[38;5;241m-\u001b[39m go_prob, go_prob]\n\u001b[1;32m---> 59\u001b[0m decision \u001b[38;5;241m=\u001b[39m \u001b[43mnp\u001b[49m\u001b[38;5;241;43m.\u001b[39;49m\u001b[43mrandom\u001b[49m\u001b[38;5;241;43m.\u001b[39;49m\u001b[43mchoice\u001b[49m\u001b[43m(\u001b[49m\n\u001b[0;32m     60\u001b[0m \u001b[43m\t\u001b[49m\u001b[43ma\u001b[49m\u001b[38;5;241;43m=\u001b[39;49m\u001b[43m[\u001b[49m\u001b[38;5;241;43m0\u001b[39;49m\u001b[43m,\u001b[49m\u001b[38;5;241;43m1\u001b[39;49m\u001b[43m]\u001b[49m\u001b[43m,\u001b[49m\n\u001b[0;32m     61\u001b[0m \u001b[43m\t\u001b[49m\u001b[43msize\u001b[49m\u001b[38;5;241;43m=\u001b[39;49m\u001b[38;5;241;43m1\u001b[39;49m\u001b[43m,\u001b[49m\n\u001b[0;32m     62\u001b[0m \u001b[43m\t\u001b[49m\u001b[43mp\u001b[49m\u001b[38;5;241;43m=\u001b[39;49m\u001b[43mprobabilities\u001b[49m\n\u001b[0;32m     63\u001b[0m \u001b[43m\u001b[49m\u001b[43m)\u001b[49m[\u001b[38;5;241m0\u001b[39m]\n\u001b[0;32m     64\u001b[0m \u001b[38;5;28;01mif\u001b[39;00m \u001b[38;5;28misinstance\u001b[39m(decision, np\u001b[38;5;241m.\u001b[39mint64):\n\u001b[0;32m     65\u001b[0m \tdecision \u001b[38;5;241m=\u001b[39m \u001b[38;5;28mint\u001b[39m(decision)\n",
      "\u001b[1;31mKeyboardInterrupt\u001b[0m: "
     ]
    }
   ],
   "source": [
    "from Utils.interaction import Performer\n",
    "\n",
    "kwargs = {'figsize': (4, 3)}\n",
    "LaTeX_string = Performer.sweep(\n",
    "    agent_class=WSLS,\n",
    "    fixed_parameters=fixed_parameters,\n",
    "    free_parameters=free_parameters,\n",
    "    simulation_parameters=simulation_parameters,\n",
    "    sweep_parameter='wsls_strength',\n",
    "    values=[0, 0.4, 0.8, 1.2, 1.6],\n",
    "    image_folder=image_folder,\n",
    "    measures=['conditional_entropy', 'entropy', 'efficiency', 'inequality'],\n",
    "    kwargs=kwargs\n",
    ")"
   ]
  },
  {
   "cell_type": "code",
   "execution_count": 10,
   "metadata": {},
   "outputs": [
    {
     "data": {
      "application/vnd.jupyter.widget-view+json": {
       "model_id": "02c7e4998d43497fbd4758d08d4136e7",
       "version_major": 2,
       "version_minor": 0
      },
      "text/plain": [
       "Running models for each go_drive:   0%|          | 0/5 [00:00<?, ?it/s]"
      ]
     },
     "metadata": {},
     "output_type": "display_data"
    },
    {
     "data": {
      "application/vnd.jupyter.widget-view+json": {
       "model_id": "7cdf920dbc8749b8841c9e3f3bc623d1",
       "version_major": 2,
       "version_minor": 0
      },
      "text/plain": [
       "  0%|          | 0/100 [00:00<?, ?it/s]"
      ]
     },
     "metadata": {},
     "output_type": "display_data"
    },
    {
     "data": {
      "application/vnd.jupyter.widget-view+json": {
       "model_id": "efc4e7471a0d4ab5a5323edbda4e2faf",
       "version_major": 2,
       "version_minor": 0
      },
      "text/plain": [
       "  0%|          | 0/100 [00:00<?, ?it/s]"
      ]
     },
     "metadata": {},
     "output_type": "display_data"
    },
    {
     "data": {
      "application/vnd.jupyter.widget-view+json": {
       "model_id": "f7e8345db4fc45f0a79725cf9221c47b",
       "version_major": 2,
       "version_minor": 0
      },
      "text/plain": [
       "  0%|          | 0/100 [00:00<?, ?it/s]"
      ]
     },
     "metadata": {},
     "output_type": "display_data"
    },
    {
     "data": {
      "application/vnd.jupyter.widget-view+json": {
       "model_id": "fbc39f1345984f7991f34a833d9a22b5",
       "version_major": 2,
       "version_minor": 0
      },
      "text/plain": [
       "  0%|          | 0/100 [00:00<?, ?it/s]"
      ]
     },
     "metadata": {},
     "output_type": "display_data"
    },
    {
     "data": {
      "application/vnd.jupyter.widget-view+json": {
       "model_id": "91df69724fed48969571c53d53d359ed",
       "version_major": 2,
       "version_minor": 0
      },
      "text/plain": [
       "  0%|          | 0/100 [00:00<?, ?it/s]"
      ]
     },
     "metadata": {},
     "output_type": "display_data"
    },
    {
     "name": "stdout",
     "output_type": "stream",
     "text": [
      "Plotting conditional_entropy...\n",
      "Plot saved to ..\\images\\WSLS\\conditional_entropy_go_drive.png\n",
      "Plotting entropy...\n",
      "Plot saved to ..\\images\\WSLS\\entropy_go_drive.png\n",
      "Plotting efficiency...\n",
      "Plot saved to ..\\images\\WSLS\\efficiency_go_drive.png\n",
      "Plotting inequality...\n",
      "Plot saved to ..\\images\\WSLS\\inequality_go_drive.png\n"
     ]
    }
   ],
   "source": [
    "from Utils.interaction import Performer\n",
    "\n",
    "LaTeX_string = Performer.sweep(\n",
    "    agent_class=WSLS,\n",
    "    fixed_parameters=fixed_parameters,\n",
    "    free_parameters=free_parameters,\n",
    "    simulation_parameters=simulation_parameters,\n",
    "    sweep_parameter='go_drive',\n",
    "    values=[0, 0.2, 0.4, 0.6, 0.8],\n",
    "    image_folder=image_folder,\n",
    "    measures=['conditional_entropy', 'entropy', 'efficiency', 'inequality']\n",
    ")"
   ]
  },
  {
   "cell_type": "code",
   "execution_count": 11,
   "metadata": {},
   "outputs": [
    {
     "data": {
      "application/vnd.jupyter.widget-view+json": {
       "model_id": "c4f11a638ca44b508385664fff127f2e",
       "version_major": 2,
       "version_minor": 0
      },
      "text/plain": [
       "Running models for each inverse_temperature:   0%|          | 0/7 [00:00<?, ?it/s]"
      ]
     },
     "metadata": {},
     "output_type": "display_data"
    },
    {
     "data": {
      "application/vnd.jupyter.widget-view+json": {
       "model_id": "1b9b3add4342482b948639c10c691f95",
       "version_major": 2,
       "version_minor": 0
      },
      "text/plain": [
       "  0%|          | 0/100 [00:00<?, ?it/s]"
      ]
     },
     "metadata": {},
     "output_type": "display_data"
    },
    {
     "data": {
      "application/vnd.jupyter.widget-view+json": {
       "model_id": "cbdfb3f1902d4e018fe7ad0c887e300b",
       "version_major": 2,
       "version_minor": 0
      },
      "text/plain": [
       "  0%|          | 0/100 [00:00<?, ?it/s]"
      ]
     },
     "metadata": {},
     "output_type": "display_data"
    },
    {
     "data": {
      "application/vnd.jupyter.widget-view+json": {
       "model_id": "75e7d618326e4828a97f0c05a53292d5",
       "version_major": 2,
       "version_minor": 0
      },
      "text/plain": [
       "  0%|          | 0/100 [00:00<?, ?it/s]"
      ]
     },
     "metadata": {},
     "output_type": "display_data"
    },
    {
     "data": {
      "application/vnd.jupyter.widget-view+json": {
       "model_id": "0b2ad2ecd3c14e8d944e86892ac3b9b2",
       "version_major": 2,
       "version_minor": 0
      },
      "text/plain": [
       "  0%|          | 0/100 [00:00<?, ?it/s]"
      ]
     },
     "metadata": {},
     "output_type": "display_data"
    },
    {
     "data": {
      "application/vnd.jupyter.widget-view+json": {
       "model_id": "f0001444b70544c4b203e1ec919e1613",
       "version_major": 2,
       "version_minor": 0
      },
      "text/plain": [
       "  0%|          | 0/100 [00:00<?, ?it/s]"
      ]
     },
     "metadata": {},
     "output_type": "display_data"
    },
    {
     "data": {
      "application/vnd.jupyter.widget-view+json": {
       "model_id": "141b0b70571b4731a4aeb5d48d9eeed4",
       "version_major": 2,
       "version_minor": 0
      },
      "text/plain": [
       "  0%|          | 0/100 [00:00<?, ?it/s]"
      ]
     },
     "metadata": {},
     "output_type": "display_data"
    },
    {
     "data": {
      "application/vnd.jupyter.widget-view+json": {
       "model_id": "02a3931358ba489ea24d3e059c80014f",
       "version_major": 2,
       "version_minor": 0
      },
      "text/plain": [
       "  0%|          | 0/100 [00:00<?, ?it/s]"
      ]
     },
     "metadata": {},
     "output_type": "display_data"
    },
    {
     "name": "stdout",
     "output_type": "stream",
     "text": [
      "Plotting conditional_entropy...\n",
      "Plot saved to ..\\images\\WSLS\\conditional_entropy_inverse_temperature.png\n",
      "Plotting entropy...\n",
      "Plot saved to ..\\images\\WSLS\\entropy_inverse_temperature.png\n",
      "Plotting efficiency...\n",
      "Plot saved to ..\\images\\WSLS\\efficiency_inverse_temperature.png\n",
      "Plotting inequality...\n",
      "Plot saved to ..\\images\\WSLS\\inequality_inverse_temperature.png\n"
     ]
    }
   ],
   "source": [
    "from Utils.interaction import Performer\n",
    "\n",
    "LaTeX_string = Performer.sweep(\n",
    "    agent_class=WSLS,\n",
    "    fixed_parameters=fixed_parameters,\n",
    "    free_parameters=free_parameters,\n",
    "    simulation_parameters=simulation_parameters,\n",
    "    sweep_parameter='inverse_temperature',\n",
    "    values=[2**x for x in range(0, 7)],\n",
    "    image_folder=image_folder,\n",
    "    measures=['conditional_entropy', 'entropy', 'efficiency', 'inequality']\n",
    ")"
   ]
  },
  {
   "cell_type": "code",
   "execution_count": 8,
   "metadata": {},
   "outputs": [],
   "source": [
    "from Utils.interaction import Experiment\n",
    "\n",
    "exp = Experiment(\n",
    "    agent_class=WSLS,\n",
    "    fixed_parameters=fixed_parameters,\n",
    "    free_parameters=free_parameters,\n",
    "    simulation_parameters=simulation_parameters,\n",
    "    measures=['efficiency', 'inequality', 'entropy', 'conditional_entropy']\n",
    ")"
   ]
  },
  {
   "cell_type": "code",
   "execution_count": 9,
   "metadata": {},
   "outputs": [
    {
     "data": {
      "application/vnd.jupyter.widget-view+json": {
       "model_id": "bacb2e445b9b421fba3c66fd9dc264bb",
       "version_major": 2,
       "version_minor": 0
      },
      "text/plain": [
       "  0%|          | 0/5 [00:00<?, ?it/s]"
      ]
     },
     "metadata": {},
     "output_type": "display_data"
    },
    {
     "data": {
      "application/vnd.jupyter.widget-view+json": {
       "model_id": "67b718696e494619a0263e06ac63b744",
       "version_major": 2,
       "version_minor": 0
      },
      "text/plain": [
       "  0%|          | 0/5 [00:00<?, ?it/s]"
      ]
     },
     "metadata": {},
     "output_type": "display_data"
    },
    {
     "data": {
      "application/vnd.jupyter.widget-view+json": {
       "model_id": "205cb54137db4028b2dde10321d2df84",
       "version_major": 2,
       "version_minor": 0
      },
      "text/plain": [
       "  0%|          | 0/100 [00:00<?, ?it/s]"
      ]
     },
     "metadata": {},
     "output_type": "display_data"
    },
    {
     "data": {
      "application/vnd.jupyter.widget-view+json": {
       "model_id": "cb7c4616953940159c11de326ec5e644",
       "version_major": 2,
       "version_minor": 0
      },
      "text/plain": [
       "  0%|          | 0/100 [00:00<?, ?it/s]"
      ]
     },
     "metadata": {},
     "output_type": "display_data"
    },
    {
     "data": {
      "application/vnd.jupyter.widget-view+json": {
       "model_id": "08bf06da560541cdbe779513799c76c6",
       "version_major": 2,
       "version_minor": 0
      },
      "text/plain": [
       "  0%|          | 0/100 [00:00<?, ?it/s]"
      ]
     },
     "metadata": {},
     "output_type": "display_data"
    },
    {
     "data": {
      "application/vnd.jupyter.widget-view+json": {
       "model_id": "a19e1396df444c00a33ae711e3123406",
       "version_major": 2,
       "version_minor": 0
      },
      "text/plain": [
       "  0%|          | 0/100 [00:00<?, ?it/s]"
      ]
     },
     "metadata": {},
     "output_type": "display_data"
    },
    {
     "data": {
      "application/vnd.jupyter.widget-view+json": {
       "model_id": "185033d1fcce4ecdbdfb2e059604a2d2",
       "version_major": 2,
       "version_minor": 0
      },
      "text/plain": [
       "  0%|          | 0/100 [00:00<?, ?it/s]"
      ]
     },
     "metadata": {},
     "output_type": "display_data"
    },
    {
     "data": {
      "application/vnd.jupyter.widget-view+json": {
       "model_id": "a272f75e70924f53b4804422b1bda7e0",
       "version_major": 2,
       "version_minor": 0
      },
      "text/plain": [
       "  0%|          | 0/5 [00:00<?, ?it/s]"
      ]
     },
     "metadata": {},
     "output_type": "display_data"
    },
    {
     "data": {
      "application/vnd.jupyter.widget-view+json": {
       "model_id": "d61cf68e63f7459bae9947698449483d",
       "version_major": 2,
       "version_minor": 0
      },
      "text/plain": [
       "  0%|          | 0/100 [00:00<?, ?it/s]"
      ]
     },
     "metadata": {},
     "output_type": "display_data"
    },
    {
     "data": {
      "application/vnd.jupyter.widget-view+json": {
       "model_id": "2cf0a3e4245d4ce18596b298ca02ec5a",
       "version_major": 2,
       "version_minor": 0
      },
      "text/plain": [
       "  0%|          | 0/100 [00:00<?, ?it/s]"
      ]
     },
     "metadata": {},
     "output_type": "display_data"
    },
    {
     "data": {
      "application/vnd.jupyter.widget-view+json": {
       "model_id": "bf0369f1d2914869854baa8a3f936db2",
       "version_major": 2,
       "version_minor": 0
      },
      "text/plain": [
       "  0%|          | 0/100 [00:00<?, ?it/s]"
      ]
     },
     "metadata": {},
     "output_type": "display_data"
    },
    {
     "data": {
      "application/vnd.jupyter.widget-view+json": {
       "model_id": "7b1f3da08e5942fc98b05f765adac0fb",
       "version_major": 2,
       "version_minor": 0
      },
      "text/plain": [
       "  0%|          | 0/100 [00:00<?, ?it/s]"
      ]
     },
     "metadata": {},
     "output_type": "display_data"
    },
    {
     "data": {
      "application/vnd.jupyter.widget-view+json": {
       "model_id": "f71f4ccb5ea04a62b9115a8ffc98fe7a",
       "version_major": 2,
       "version_minor": 0
      },
      "text/plain": [
       "  0%|          | 0/100 [00:00<?, ?it/s]"
      ]
     },
     "metadata": {},
     "output_type": "display_data"
    },
    {
     "data": {
      "application/vnd.jupyter.widget-view+json": {
       "model_id": "219a6ce184f3433f874948e4b5b195ab",
       "version_major": 2,
       "version_minor": 0
      },
      "text/plain": [
       "  0%|          | 0/5 [00:00<?, ?it/s]"
      ]
     },
     "metadata": {},
     "output_type": "display_data"
    },
    {
     "data": {
      "application/vnd.jupyter.widget-view+json": {
       "model_id": "4740c4041eb94f5da67da968f4e86b86",
       "version_major": 2,
       "version_minor": 0
      },
      "text/plain": [
       "  0%|          | 0/100 [00:00<?, ?it/s]"
      ]
     },
     "metadata": {},
     "output_type": "display_data"
    },
    {
     "data": {
      "application/vnd.jupyter.widget-view+json": {
       "model_id": "783d4a3e920e4a9ca0faa0036945f4cb",
       "version_major": 2,
       "version_minor": 0
      },
      "text/plain": [
       "  0%|          | 0/100 [00:00<?, ?it/s]"
      ]
     },
     "metadata": {},
     "output_type": "display_data"
    },
    {
     "data": {
      "application/vnd.jupyter.widget-view+json": {
       "model_id": "6d7c09ad243745f39d704a2e4b2cde3b",
       "version_major": 2,
       "version_minor": 0
      },
      "text/plain": [
       "  0%|          | 0/100 [00:00<?, ?it/s]"
      ]
     },
     "metadata": {},
     "output_type": "display_data"
    },
    {
     "data": {
      "application/vnd.jupyter.widget-view+json": {
       "model_id": "e18342b2c05b4960b2dd91263c4fd288",
       "version_major": 2,
       "version_minor": 0
      },
      "text/plain": [
       "  0%|          | 0/100 [00:00<?, ?it/s]"
      ]
     },
     "metadata": {},
     "output_type": "display_data"
    },
    {
     "data": {
      "application/vnd.jupyter.widget-view+json": {
       "model_id": "cd1febf9a78d47c3ba44c1fe8082951d",
       "version_major": 2,
       "version_minor": 0
      },
      "text/plain": [
       "  0%|          | 0/100 [00:00<?, ?it/s]"
      ]
     },
     "metadata": {},
     "output_type": "display_data"
    },
    {
     "data": {
      "application/vnd.jupyter.widget-view+json": {
       "model_id": "74f66d7432ae4e0d9c87f602c5e8f48d",
       "version_major": 2,
       "version_minor": 0
      },
      "text/plain": [
       "  0%|          | 0/5 [00:00<?, ?it/s]"
      ]
     },
     "metadata": {},
     "output_type": "display_data"
    },
    {
     "data": {
      "application/vnd.jupyter.widget-view+json": {
       "model_id": "484049c409e746dbb57f400e8041d2d5",
       "version_major": 2,
       "version_minor": 0
      },
      "text/plain": [
       "  0%|          | 0/100 [00:00<?, ?it/s]"
      ]
     },
     "metadata": {},
     "output_type": "display_data"
    },
    {
     "data": {
      "application/vnd.jupyter.widget-view+json": {
       "model_id": "08783f3802f842a3876020e6b3abf8f9",
       "version_major": 2,
       "version_minor": 0
      },
      "text/plain": [
       "  0%|          | 0/100 [00:00<?, ?it/s]"
      ]
     },
     "metadata": {},
     "output_type": "display_data"
    },
    {
     "data": {
      "application/vnd.jupyter.widget-view+json": {
       "model_id": "495b8513e3574596bbd149027f81b0b2",
       "version_major": 2,
       "version_minor": 0
      },
      "text/plain": [
       "  0%|          | 0/100 [00:00<?, ?it/s]"
      ]
     },
     "metadata": {},
     "output_type": "display_data"
    },
    {
     "data": {
      "application/vnd.jupyter.widget-view+json": {
       "model_id": "10b910e2db674ddb97cf4d000cb3bd17",
       "version_major": 2,
       "version_minor": 0
      },
      "text/plain": [
       "  0%|          | 0/100 [00:00<?, ?it/s]"
      ]
     },
     "metadata": {},
     "output_type": "display_data"
    },
    {
     "data": {
      "application/vnd.jupyter.widget-view+json": {
       "model_id": "d6fd99b5b4b249868d6b9810c1bf65e4",
       "version_major": 2,
       "version_minor": 0
      },
      "text/plain": [
       "  0%|          | 0/100 [00:00<?, ?it/s]"
      ]
     },
     "metadata": {},
     "output_type": "display_data"
    },
    {
     "data": {
      "application/vnd.jupyter.widget-view+json": {
       "model_id": "601b56e86dd34815805fd6507eb92417",
       "version_major": 2,
       "version_minor": 0
      },
      "text/plain": [
       "  0%|          | 0/5 [00:00<?, ?it/s]"
      ]
     },
     "metadata": {},
     "output_type": "display_data"
    },
    {
     "data": {
      "application/vnd.jupyter.widget-view+json": {
       "model_id": "844b868305b84d50b1c1e30bb9ec37c8",
       "version_major": 2,
       "version_minor": 0
      },
      "text/plain": [
       "  0%|          | 0/100 [00:00<?, ?it/s]"
      ]
     },
     "metadata": {},
     "output_type": "display_data"
    },
    {
     "data": {
      "application/vnd.jupyter.widget-view+json": {
       "model_id": "e4700133dde54a15a0c6ee08ecdbaf28",
       "version_major": 2,
       "version_minor": 0
      },
      "text/plain": [
       "  0%|          | 0/100 [00:00<?, ?it/s]"
      ]
     },
     "metadata": {},
     "output_type": "display_data"
    },
    {
     "data": {
      "application/vnd.jupyter.widget-view+json": {
       "model_id": "ef6394a016234ab2b08e99e0c53a76df",
       "version_major": 2,
       "version_minor": 0
      },
      "text/plain": [
       "  0%|          | 0/100 [00:00<?, ?it/s]"
      ]
     },
     "metadata": {},
     "output_type": "display_data"
    },
    {
     "data": {
      "application/vnd.jupyter.widget-view+json": {
       "model_id": "aa518a2fe4c546e8b788ef2a76962f4e",
       "version_major": 2,
       "version_minor": 0
      },
      "text/plain": [
       "  0%|          | 0/100 [00:00<?, ?it/s]"
      ]
     },
     "metadata": {},
     "output_type": "display_data"
    },
    {
     "data": {
      "application/vnd.jupyter.widget-view+json": {
       "model_id": "4e694338f2a64552b3267bc7893f4102",
       "version_major": 2,
       "version_minor": 0
      },
      "text/plain": [
       "  0%|          | 0/100 [00:00<?, ?it/s]"
      ]
     },
     "metadata": {},
     "output_type": "display_data"
    }
   ],
   "source": [
    "exp.run_sweep2(\n",
    "    parameter1='go_drive',\n",
    "    values1=[0, 0.2, 0.4, 0.6, 0.8],\n",
    "    parameter2='wsls_strength',\n",
    "    values2=[0, 0.4, 0.8, 1.2, 1.6],\n",
    "    file=image_folder / 'sweep_go_drive_vs_wsls_strength'\n",
    ")"
   ]
  },
  {
   "cell_type": "code",
   "execution_count": 10,
   "metadata": {},
   "outputs": [],
   "source": [
    "from Utils.plot_utils import PlotStandardMeasures\n",
    "\n",
    "p = PlotStandardMeasures(exp.data)"
   ]
  },
  {
   "cell_type": "code",
   "execution_count": 15,
   "metadata": {},
   "outputs": [
    {
     "name": "stdout",
     "output_type": "stream",
     "text": [
      "Plot saved to ..\\images\\WSLS\\entropy_sweep_go_drive_vs_wsls_strength.png\n"
     ]
    }
   ],
   "source": [
    "p.plot_sweep2(\n",
    "    parameter1='go_drive', \n",
    "    parameter2='wsls_strength',\n",
    "    measure='entropy',\n",
    "    file=image_folder / Path('entropy_sweep_go_drive_vs_wsls_strength.png')\n",
    ")"
   ]
  },
  {
   "cell_type": "code",
   "execution_count": 14,
   "metadata": {},
   "outputs": [
    {
     "name": "stdout",
     "output_type": "stream",
     "text": [
      "Plot saved to ..\\images\\WSLS\\conditional_entropy_sweep_go_drive_vs_wsls_strength.png\n"
     ]
    }
   ],
   "source": [
    "p.plot_sweep2(\n",
    "    parameter1='go_drive', \n",
    "    parameter2='wsls_strength',\n",
    "    measure='conditional_entropy',\n",
    "    file=image_folder / Path('conditional_entropy_sweep_go_drive_vs_wsls_strength.png')\n",
    ")"
   ]
  },
  {
   "cell_type": "code",
   "execution_count": 12,
   "metadata": {},
   "outputs": [
    {
     "name": "stdout",
     "output_type": "stream",
     "text": [
      "Plot saved to ..\\images\\WSLS\\efficiency_sweep_go_drive_vs_wsls_strength.png\n"
     ]
    }
   ],
   "source": [
    "p.plot_sweep2(\n",
    "    parameter1='go_drive', \n",
    "    parameter2='wsls_strength',\n",
    "    measure='efficiency',\n",
    "    file=image_folder / Path('efficiency_sweep_go_drive_vs_wsls_strength.png')\n",
    ")"
   ]
  },
  {
   "cell_type": "code",
   "execution_count": null,
   "metadata": {},
   "outputs": [],
   "source": [
    "from Utils.interaction import Experiment\n",
    "\n",
    "exp = Experiment(\n",
    "    agent_class=WSLS,\n",
    "    fixed_parameters=fixed_parameters,\n",
    "    free_parameters=free_parameters,\n",
    "    simulation_parameters=simulation_parameters,\n",
    "    measures=['efficiency', 'inequality', 'entropy', 'conditional_entropy']\n",
    ")"
   ]
  },
  {
   "cell_type": "code",
   "execution_count": null,
   "metadata": {},
   "outputs": [],
   "source": [
    "exp.run_sweep2(\n",
    "    parameter1='go_drive',\n",
    "    values1=[0, 0.2, 0.4, 0.6, 0.8],\n",
    "    parameter2='inverse_temperature',\n",
    "    values2=[2**x for x in range(0, 7)],\n",
    "    file=image_folder / 'sweep_go_drive_vs_inverse_temperature'\n",
    ")"
   ]
  },
  {
   "cell_type": "code",
   "execution_count": null,
   "metadata": {},
   "outputs": [],
   "source": [
    "from Utils.plot_utils import PlotStandardMeasures\n",
    "\n",
    "p = PlotStandardMeasures(exp.data)"
   ]
  },
  {
   "cell_type": "code",
   "execution_count": null,
   "metadata": {},
   "outputs": [],
   "source": [
    "p.plot_sweep2(\n",
    "    parameter1='go_drive', \n",
    "    parameter2='inverse_temperature',\n",
    "    measure='entropy',\n",
    "    file=image_folder / Path('entropy_sweep_go_drive_vs_inverse_temperature.png')\n",
    ")"
   ]
  },
  {
   "cell_type": "code",
   "execution_count": null,
   "metadata": {},
   "outputs": [],
   "source": [
    "p.plot_sweep2(\n",
    "    parameter1='go_drive', \n",
    "    parameter2='inverse_temperature',\n",
    "    measure='efficiency',\n",
    "    file=image_folder / Path('efficiency_sweep_go_drive_vs_inverse_temperature.png')\n",
    ")"
   ]
  },
  {
   "cell_type": "code",
   "execution_count": null,
   "metadata": {},
   "outputs": [],
   "source": [
    "from Utils.interaction import Experiment\n",
    "\n",
    "exp = Experiment(\n",
    "    agent_class=WSLS,\n",
    "    fixed_parameters=fixed_parameters,\n",
    "    free_parameters=free_parameters,\n",
    "    simulation_parameters=simulation_parameters,\n",
    "    measures=['efficiency', 'inequality', 'entropy', 'conditional_entropy']\n",
    ")"
   ]
  },
  {
   "cell_type": "code",
   "execution_count": null,
   "metadata": {},
   "outputs": [],
   "source": [
    "exp.run_sweep2(\n",
    "    parameter1='wsls_strength',\n",
    "    values1=[0, 0.4, 0.8, 1.2, 1.6],\n",
    "    parameter2='inverse_temperature',\n",
    "    values2=[2**x for x in range(0, 7)],\n",
    "    file=image_folder / 'sweep_go_drive_vs_inverse_temperature'\n",
    ")"
   ]
  },
  {
   "cell_type": "code",
   "execution_count": null,
   "metadata": {},
   "outputs": [],
   "source": [
    "from Utils.plot_utils import PlotStandardMeasures\n",
    "\n",
    "p = PlotStandardMeasures(exp.data)"
   ]
  },
  {
   "cell_type": "code",
   "execution_count": null,
   "metadata": {},
   "outputs": [],
   "source": [
    "p.plot_sweep2(\n",
    "    parameter1='wsls_strength', \n",
    "    parameter2='inverse_temperature',\n",
    "    measure='entropy',\n",
    "    file=image_folder / Path('entropy_sweep_wsls_strength_vs_inverse_temperature.png')\n",
    ")"
   ]
  },
  {
   "cell_type": "code",
   "execution_count": null,
   "metadata": {},
   "outputs": [],
   "source": [
    "p.plot_sweep2(\n",
    "    parameter1='wsls_strength', \n",
    "    parameter2='inverse_temperature',\n",
    "    measure='efficiency',\n",
    "    file=image_folder / Path('efficiency_sweep_wsls_strength_vs_inverse_temperature.png')\n",
    ")"
   ]
  },
  {
   "cell_type": "code",
   "execution_count": null,
   "metadata": {},
   "outputs": [],
   "source": [
    "from Utils.interaction import Performer\n",
    "\n",
    "fixed_parameters = {\n",
    "\t\"threshold\":0.5,\n",
    "\t\"num_agents\":6,\n",
    "}\n",
    "free_parameters = {\n",
    "\t'inverse_temperature':32,\n",
    "\t'go_drive':0.4,\n",
    "\t'wsls_strength':1.2\n",
    "}\n",
    "simulation_parameters = {\n",
    "\t'num_episodes':1,\n",
    "\t'num_rounds':1000,\n",
    "\t'verbose':False\n",
    "}"
   ]
  },
  {
   "cell_type": "code",
   "execution_count": 17,
   "metadata": {},
   "outputs": [
    {
     "name": "stdout",
     "output_type": "stream",
     "text": [
      "Seeds chosen for simple simulation: [1, 3, 84, 65]\n"
     ]
    },
    {
     "data": {
      "application/vnd.jupyter.widget-view+json": {
       "model_id": "b8cb83f2cac34a7e92bc929a63321ef7",
       "version_major": 2,
       "version_minor": 0
      },
      "text/plain": [
       "Running seeds...:   0%|          | 0/4 [00:00<?, ?it/s]"
      ]
     },
     "metadata": {},
     "output_type": "display_data"
    },
    {
     "data": {
      "application/vnd.jupyter.widget-view+json": {
       "model_id": "aa42bb5cf84545dda6da1b9d05dc54d1",
       "version_major": 2,
       "version_minor": 0
      },
      "text/plain": [
       "  0%|          | 0/1 [00:00<?, ?it/s]"
      ]
     },
     "metadata": {},
     "output_type": "display_data"
    },
    {
     "data": {
      "application/vnd.jupyter.widget-view+json": {
       "model_id": "2a0929c0e70b4abab72e3f46826a32cf",
       "version_major": 2,
       "version_minor": 0
      },
      "text/plain": [
       "  0%|          | 0/1 [00:00<?, ?it/s]"
      ]
     },
     "metadata": {},
     "output_type": "display_data"
    },
    {
     "data": {
      "application/vnd.jupyter.widget-view+json": {
       "model_id": "efca66dd967340c3925d145144c60775",
       "version_major": 2,
       "version_minor": 0
      },
      "text/plain": [
       "  0%|          | 0/1 [00:00<?, ?it/s]"
      ]
     },
     "metadata": {},
     "output_type": "display_data"
    },
    {
     "data": {
      "application/vnd.jupyter.widget-view+json": {
       "model_id": "c3e2e95a5d0e49ac9c55722341913481",
       "version_major": 2,
       "version_minor": 0
      },
      "text/plain": [
       "  0%|          | 0/1 [00:00<?, ?it/s]"
      ]
     },
     "metadata": {},
     "output_type": "display_data"
    }
   ],
   "source": [
    "LaTeX_string = Performer.simple_run(\n",
    "    agent_class=WSLS,\n",
    "    fixed_parameters=fixed_parameters,\n",
    "    free_parameters=free_parameters,\n",
    "    simulation_parameters=simulation_parameters,\n",
    "    image_folder=image_folder,\n",
    "    measures=['render']\n",
    ")"
   ]
  },
  {
   "cell_type": "code",
   "execution_count": null,
   "metadata": {},
   "outputs": [],
   "source": []
  }
 ],
 "metadata": {
  "kernelspec": {
   "display_name": "venv_repositorios",
   "language": "python",
   "name": "python3"
  },
  "language_info": {
   "codemirror_mode": {
    "name": "ipython",
    "version": 3
   },
   "file_extension": ".py",
   "mimetype": "text/x-python",
   "name": "python",
   "nbconvert_exporter": "python",
   "pygments_lexer": "ipython3",
   "version": "3.12.8"
  }
 },
 "nbformat": 4,
 "nbformat_minor": 2
}
