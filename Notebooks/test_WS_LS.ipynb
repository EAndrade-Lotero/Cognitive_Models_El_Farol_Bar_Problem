{
 "cells": [
  {
   "cell_type": "markdown",
   "metadata": {},
   "source": [
    "# Win-Stay Lose-Shift"
   ]
  },
  {
   "cell_type": "code",
   "execution_count": 1,
   "metadata": {},
   "outputs": [],
   "source": [
    "import sys\n",
    "sys.path.append(\"../src/\")\n",
    "\n",
    "import warnings\n",
    "warnings.filterwarnings(\"ignore\")"
   ]
  },
  {
   "cell_type": "code",
   "execution_count": null,
   "metadata": {},
   "outputs": [],
   "source": [
    "from Classes.cognitive_model_agents import WSLSM1, WSLSM2, WSLSM3\n",
    "from Utils.unit_tests import (\n",
    "    test_bar_is_full, \n",
    "    test_bar_has_capacity,\n",
    "    test_alternation\n",
    ")\n",
    "\n",
    "MODEL = WSLSM1\n",
    "# MODEL = WSLSM2\n",
    "# MODEL = WSLSM3"
   ]
  },
  {
   "cell_type": "code",
   "execution_count": 3,
   "metadata": {},
   "outputs": [],
   "source": [
    "fixed_parameters = {\n",
    "\t\"threshold\":0.5,\n",
    "\t\"num_agents\":2,\n",
    "}\n",
    "free_parameters = {\n",
    "\t'inverse_temperature':10,\n",
    "\t'wsls_strength':1,\n",
    "    'heuristic_strength':0.5,\n",
    "}"
   ]
  },
  {
   "cell_type": "code",
   "execution_count": 4,
   "metadata": {},
   "outputs": [
    {
     "name": "stdout",
     "output_type": "stream",
     "text": [
      "\n",
      "------------------------------------------------------------\n",
      "Test bar has capacity\n",
      "------------------------------------------------------------\n",
      "Initial state: [0, 0]\n",
      "---------- Round 0 ----------\n",
      "Previous state: (0, 0)\n",
      "Average payoff in previous state: 0\n",
      "go_preference = 0\n",
      "Action preferences in state (0, 0): [0, 0]\n",
      "Previous state: (0, 0)\n",
      "Average payoff in previous state: 0\n",
      "go_preference = 0\n",
      "Action probabilities:\n",
      "no go:0.5 ---- go:0.5\n",
      "Chosen action: 0\n",
      "State arrived: [0, 0]\n",
      "Payoff action 0: 0\n",
      "I see the previous state: (0, 0)\n",
      "I recall the following average payoff:\n",
      "0.0\n",
      "---------- Round 1 ----------\n",
      "Previous state: (0, 0)\n",
      "Average payoff in previous state: 0.0\n",
      "go_preference = 0\n",
      "Action preferences in state [0, 0]: [0, 0]\n",
      "Previous state: (0, 0)\n",
      "Average payoff in previous state: 0.0\n",
      "go_preference = 0\n",
      "Action probabilities:\n",
      "no go:0.5 ---- go:0.5\n",
      "Chosen action: 0\n",
      "State arrived: [0, 0]\n",
      "Payoff action 0: 0\n",
      "I see the previous state: (0, 0)\n",
      "I recall the following average payoff:\n",
      "0.0\n",
      "---------- Round 2 ----------\n",
      "Previous state: (0, 0)\n",
      "Average payoff in previous state: 0.0\n",
      "go_preference = 0\n",
      "Action preferences in state [0, 0]: [0, 0]\n",
      "Previous state: (0, 0)\n",
      "Average payoff in previous state: 0.0\n",
      "go_preference = 0\n",
      "Action probabilities:\n",
      "no go:0.5 ---- go:0.5\n",
      "Chosen action: 1\n",
      "State arrived: [1, 0]\n",
      "Payoff action 1: 1\n",
      "I see the previous state: (0, 0)\n",
      "I recall the following average payoff:\n",
      "0.5\n",
      "---------- Round 3 ----------\n",
      "Previous state: (1, 0)\n",
      "Average payoff in previous state: 0\n",
      "go_preference = 0\n",
      "Action preferences in state [1, 0]: [0, 0]\n",
      "Previous state: (1, 0)\n",
      "Average payoff in previous state: 0\n",
      "go_preference = 0\n",
      "Action probabilities:\n",
      "no go:0.5 ---- go:0.5\n",
      "Chosen action: 0\n",
      "State arrived: [0, 0]\n",
      "Payoff action 0: 0\n",
      "I see the previous state: (1, 0)\n",
      "I recall the following average payoff:\n",
      "0.0\n",
      "---------- Round 4 ----------\n",
      "Previous state: (0, 0)\n",
      "Average payoff in previous state: 0.5\n",
      "go_preference = 1\n",
      "Action preferences in state [0, 0]: [0, 1]\n",
      "Previous state: (0, 0)\n",
      "Average payoff in previous state: 0.5\n",
      "go_preference = 1\n",
      "Action probabilities:\n",
      "no go:4.5397868702434395e-05 ---- go:0.9999546021312975\n",
      "Chosen action: 1\n",
      "State arrived: [1, 0]\n",
      "Payoff action 1: 1\n",
      "I see the previous state: (0, 0)\n",
      "I recall the following average payoff:\n",
      "0.75\n",
      "---------- Round 5 ----------\n",
      "Previous state: (1, 0)\n",
      "Average payoff in previous state: 0.0\n",
      "go_preference = 0\n",
      "Action preferences in state [1, 0]: [0, 0]\n",
      "Previous state: (1, 0)\n",
      "Average payoff in previous state: 0.0\n",
      "go_preference = 0\n",
      "Action probabilities:\n",
      "no go:0.5 ---- go:0.5\n",
      "Chosen action: 0\n",
      "State arrived: [0, 0]\n",
      "Payoff action 0: 0\n",
      "I see the previous state: (1, 0)\n",
      "I recall the following average payoff:\n",
      "0.0\n",
      "---------- Round 6 ----------\n",
      "Previous state: (0, 0)\n",
      "Average payoff in previous state: 0.75\n",
      "go_preference = 1\n",
      "Action preferences in state [0, 0]: [0, 1]\n",
      "Previous state: (0, 0)\n",
      "Average payoff in previous state: 0.75\n",
      "go_preference = 1\n",
      "Action probabilities:\n",
      "no go:4.5397868702434395e-05 ---- go:0.9999546021312975\n",
      "Chosen action: 1\n",
      "State arrived: [1, 0]\n",
      "Payoff action 1: 1\n",
      "I see the previous state: (0, 0)\n",
      "I recall the following average payoff:\n",
      "0.875\n",
      "---------- Round 7 ----------\n",
      "Previous state: (1, 0)\n",
      "Average payoff in previous state: 0.0\n",
      "go_preference = 0\n",
      "Action preferences in state [1, 0]: [0, 0]\n",
      "Previous state: (1, 0)\n",
      "Average payoff in previous state: 0.0\n",
      "go_preference = 0\n",
      "Action probabilities:\n",
      "no go:0.5 ---- go:0.5\n",
      "Chosen action: 1\n",
      "State arrived: [1, 0]\n",
      "Payoff action 1: 1\n",
      "I see the previous state: (1, 0)\n",
      "I recall the following average payoff:\n",
      "0.5\n",
      "---------- Round 8 ----------\n",
      "Previous state: (1, 0)\n",
      "Average payoff in previous state: 0.5\n",
      "go_preference = 1\n",
      "Action preferences in state [1, 0]: [0, 1]\n",
      "Previous state: (1, 0)\n",
      "Average payoff in previous state: 0.5\n",
      "go_preference = 1\n",
      "Action probabilities:\n",
      "no go:4.5397868702434395e-05 ---- go:0.9999546021312975\n",
      "Chosen action: 1\n",
      "State arrived: [1, 0]\n",
      "Payoff action 1: 1\n",
      "I see the previous state: (1, 0)\n",
      "I recall the following average payoff:\n",
      "0.75\n",
      "---------- Round 9 ----------\n",
      "Previous state: (1, 0)\n",
      "Average payoff in previous state: 0.75\n",
      "go_preference = 1\n",
      "Action preferences in state [1, 0]: [0, 1]\n",
      "Previous state: (1, 0)\n",
      "Average payoff in previous state: 0.75\n",
      "go_preference = 1\n",
      "Action probabilities:\n",
      "no go:4.5397868702434395e-05 ---- go:0.9999546021312975\n",
      "Chosen action: 1\n",
      "State arrived: [1, 0]\n",
      "Payoff action 1: 1\n",
      "I see the previous state: (1, 0)\n",
      "I recall the following average payoff:\n",
      "0.875\n"
     ]
    }
   ],
   "source": [
    "agent = MODEL(\n",
    "\tfixed_parameters=fixed_parameters,\n",
    "\tfree_parameters=free_parameters,\n",
    "\tn=0\n",
    ")\n",
    "agent.debug = True\n",
    "test_bar_has_capacity(agent)"
   ]
  },
  {
   "cell_type": "code",
   "execution_count": 5,
   "metadata": {},
   "outputs": [
    {
     "name": "stdout",
     "output_type": "stream",
     "text": [
      "\n",
      "------------------------------------------------------------\n",
      "Test bar is full\n",
      "------------------------------------------------------------\n",
      "Initial state: [1, 1]\n",
      "---------- Round 0 ----------\n",
      "Previous state: (1, 1)\n",
      "Average payoff in previous state: 0\n",
      "go_preference = 0\n",
      "Action preferences in state (1, 1): [0, 0]\n",
      "Previous state: (1, 1)\n",
      "Average payoff in previous state: 0\n",
      "go_preference = 0\n",
      "Action probabilities:\n",
      "no go:0.5 ---- go:0.5\n",
      "Chosen action: 0\n",
      "State arrived: [0, 1]\n",
      "Payoff action 0: 0\n",
      "I see the previous state: (1, 1)\n",
      "I recall the following average payoff:\n",
      "0.0\n",
      "---------- Round 1 ----------\n",
      "Previous state: (0, 1)\n",
      "Average payoff in previous state: 0\n",
      "go_preference = 0\n",
      "Action preferences in state [0, 1]: [0, 0]\n",
      "Previous state: (0, 1)\n",
      "Average payoff in previous state: 0\n",
      "go_preference = 0\n",
      "Action probabilities:\n",
      "no go:0.5 ---- go:0.5\n",
      "Chosen action: 0\n",
      "State arrived: [0, 1]\n",
      "Payoff action 0: 0\n",
      "I see the previous state: (0, 1)\n",
      "I recall the following average payoff:\n",
      "0.0\n",
      "---------- Round 2 ----------\n",
      "Previous state: (0, 1)\n",
      "Average payoff in previous state: 0.0\n",
      "go_preference = 0\n",
      "Action preferences in state [0, 1]: [0, 0]\n",
      "Previous state: (0, 1)\n",
      "Average payoff in previous state: 0.0\n",
      "go_preference = 0\n",
      "Action probabilities:\n",
      "no go:0.5 ---- go:0.5\n",
      "Chosen action: 0\n",
      "State arrived: [0, 1]\n",
      "Payoff action 0: 0\n",
      "I see the previous state: (0, 1)\n",
      "I recall the following average payoff:\n",
      "0.0\n",
      "---------- Round 3 ----------\n",
      "Previous state: (0, 1)\n",
      "Average payoff in previous state: 0.0\n",
      "go_preference = 0\n",
      "Action preferences in state [0, 1]: [0, 0]\n",
      "Previous state: (0, 1)\n",
      "Average payoff in previous state: 0.0\n",
      "go_preference = 0\n",
      "Action probabilities:\n",
      "no go:0.5 ---- go:0.5\n",
      "Chosen action: 0\n",
      "State arrived: [0, 1]\n",
      "Payoff action 0: 0\n",
      "I see the previous state: (0, 1)\n",
      "I recall the following average payoff:\n",
      "0.0\n",
      "---------- Round 4 ----------\n",
      "Previous state: (0, 1)\n",
      "Average payoff in previous state: 0.0\n",
      "go_preference = 0\n",
      "Action preferences in state [0, 1]: [0, 0]\n",
      "Previous state: (0, 1)\n",
      "Average payoff in previous state: 0.0\n",
      "go_preference = 0\n",
      "Action probabilities:\n",
      "no go:0.5 ---- go:0.5\n",
      "Chosen action: 0\n",
      "State arrived: [0, 1]\n",
      "Payoff action 0: 0\n",
      "I see the previous state: (0, 1)\n",
      "I recall the following average payoff:\n",
      "0.0\n",
      "---------- Round 5 ----------\n",
      "Previous state: (0, 1)\n",
      "Average payoff in previous state: 0.0\n",
      "go_preference = 0\n",
      "Action preferences in state [0, 1]: [0, 0]\n",
      "Previous state: (0, 1)\n",
      "Average payoff in previous state: 0.0\n",
      "go_preference = 0\n",
      "Action probabilities:\n",
      "no go:0.5 ---- go:0.5\n",
      "Chosen action: 1\n",
      "State arrived: [1, 1]\n",
      "Payoff action 1: -1\n",
      "I see the previous state: (0, 1)\n",
      "I recall the following average payoff:\n",
      "-0.5\n",
      "---------- Round 6 ----------\n",
      "Previous state: (1, 1)\n",
      "Average payoff in previous state: 0.0\n",
      "go_preference = 0\n",
      "Action preferences in state [1, 1]: [0, 0]\n",
      "Previous state: (1, 1)\n",
      "Average payoff in previous state: 0.0\n",
      "go_preference = 0\n",
      "Action probabilities:\n",
      "no go:0.5 ---- go:0.5\n",
      "Chosen action: 1\n",
      "State arrived: [1, 1]\n",
      "Payoff action 1: -1\n",
      "I see the previous state: (1, 1)\n",
      "I recall the following average payoff:\n",
      "-0.5\n",
      "---------- Round 7 ----------\n",
      "Previous state: (1, 1)\n",
      "Average payoff in previous state: -0.5\n",
      "go_preference = 0\n",
      "Action preferences in state [1, 1]: [1, 0]\n",
      "Previous state: (1, 1)\n",
      "Average payoff in previous state: -0.5\n",
      "go_preference = 0\n",
      "Action probabilities:\n",
      "no go:0.9999546021312975 ---- go:4.5397868702434395e-05\n",
      "Chosen action: 0\n",
      "State arrived: [0, 1]\n",
      "Payoff action 0: 0\n",
      "I see the previous state: (1, 1)\n",
      "I recall the following average payoff:\n",
      "-0.25\n",
      "---------- Round 8 ----------\n",
      "Previous state: (0, 1)\n",
      "Average payoff in previous state: -0.5\n",
      "go_preference = 0\n",
      "Action preferences in state [0, 1]: [1, 0]\n",
      "Previous state: (0, 1)\n",
      "Average payoff in previous state: -0.5\n",
      "go_preference = 0\n",
      "Action probabilities:\n",
      "no go:0.9999546021312975 ---- go:4.5397868702434395e-05\n",
      "Chosen action: 0\n",
      "State arrived: [0, 1]\n",
      "Payoff action 0: 0\n",
      "I see the previous state: (0, 1)\n",
      "I recall the following average payoff:\n",
      "-0.25\n",
      "---------- Round 9 ----------\n",
      "Previous state: (0, 1)\n",
      "Average payoff in previous state: -0.25\n",
      "go_preference = 0\n",
      "Action preferences in state [0, 1]: [1, 0]\n",
      "Previous state: (0, 1)\n",
      "Average payoff in previous state: -0.25\n",
      "go_preference = 0\n",
      "Action probabilities:\n",
      "no go:0.9999546021312975 ---- go:4.5397868702434395e-05\n",
      "Chosen action: 0\n",
      "State arrived: [0, 1]\n",
      "Payoff action 0: 0\n",
      "I see the previous state: (0, 1)\n",
      "I recall the following average payoff:\n",
      "-0.125\n"
     ]
    }
   ],
   "source": [
    "agent = MODEL(\n",
    "\tfixed_parameters=fixed_parameters,\n",
    "\tfree_parameters=free_parameters,\n",
    "\tn=0\n",
    ")\n",
    "agent.debug = True\n",
    "test_bar_is_full(agent)"
   ]
  },
  {
   "cell_type": "code",
   "execution_count": 6,
   "metadata": {},
   "outputs": [
    {
     "name": "stdout",
     "output_type": "stream",
     "text": [
      "\n",
      "------------------------------------------------------------\n",
      "Test other player alternates\n",
      "------------------------------------------------------------\n",
      "Initial state: [0, 0]\n",
      "---------- Round 0 ----------\n",
      "Previous state: (0, 0)\n",
      "Average payoff in previous state: 0\n",
      "go_preference = 0\n",
      "Action preferences in state (0, 0): [0, 0]\n",
      "Previous state: (0, 0)\n",
      "Average payoff in previous state: 0\n",
      "go_preference = 0\n",
      "Action probabilities:\n",
      "no go:0.5 ---- go:0.5\n",
      "Chosen action: 0\n",
      "State arrived: [0, 0]\n",
      "Payoff action 0: 0\n",
      "I see the previous state: (0, 0)\n",
      "I recall the following average payoff:\n",
      "0.0\n",
      "---------- Round 1 ----------\n",
      "Previous state: (0, 0)\n",
      "Average payoff in previous state: 0.0\n",
      "go_preference = 0\n",
      "Action preferences in state [0, 0]: [0, 0]\n",
      "Previous state: (0, 0)\n",
      "Average payoff in previous state: 0.0\n",
      "go_preference = 0\n",
      "Action probabilities:\n",
      "no go:0.5 ---- go:0.5\n",
      "Chosen action: 1\n",
      "State arrived: [1, 1]\n",
      "Payoff action 1: -1\n",
      "I see the previous state: (0, 0)\n",
      "I recall the following average payoff:\n",
      "-0.5\n",
      "---------- Round 2 ----------\n",
      "Previous state: (1, 1)\n",
      "Average payoff in previous state: 0\n",
      "go_preference = 0\n",
      "Action preferences in state [1, 1]: [0, 0]\n",
      "Previous state: (1, 1)\n",
      "Average payoff in previous state: 0\n",
      "go_preference = 0\n",
      "Action probabilities:\n",
      "no go:0.5 ---- go:0.5\n",
      "Chosen action: 1\n",
      "State arrived: [1, 0]\n",
      "Payoff action 1: 1\n",
      "I see the previous state: (1, 1)\n",
      "I recall the following average payoff:\n",
      "0.5\n",
      "---------- Round 3 ----------\n",
      "Previous state: (1, 0)\n",
      "Average payoff in previous state: 0\n",
      "go_preference = 0\n",
      "Action preferences in state [1, 0]: [0, 0]\n",
      "Previous state: (1, 0)\n",
      "Average payoff in previous state: 0\n",
      "go_preference = 0\n",
      "Action probabilities:\n",
      "no go:0.5 ---- go:0.5\n",
      "Chosen action: 1\n",
      "State arrived: [1, 1]\n",
      "Payoff action 1: -1\n",
      "I see the previous state: (1, 0)\n",
      "I recall the following average payoff:\n",
      "-0.5\n",
      "---------- Round 4 ----------\n",
      "Previous state: (1, 1)\n",
      "Average payoff in previous state: 0.5\n",
      "go_preference = 1\n",
      "Action preferences in state [1, 1]: [0, 1]\n",
      "Previous state: (1, 1)\n",
      "Average payoff in previous state: 0.5\n",
      "go_preference = 1\n",
      "Action probabilities:\n",
      "no go:4.5397868702434395e-05 ---- go:0.9999546021312975\n",
      "Chosen action: 1\n",
      "State arrived: [1, 0]\n",
      "Payoff action 1: 1\n",
      "I see the previous state: (1, 1)\n",
      "I recall the following average payoff:\n",
      "0.75\n",
      "---------- Round 5 ----------\n",
      "Previous state: (1, 0)\n",
      "Average payoff in previous state: -0.5\n",
      "go_preference = 0\n",
      "Action preferences in state [1, 0]: [1, 0]\n",
      "Previous state: (1, 0)\n",
      "Average payoff in previous state: -0.5\n",
      "go_preference = 0\n",
      "Action probabilities:\n",
      "no go:0.9999546021312975 ---- go:4.5397868702434395e-05\n",
      "Chosen action: 0\n",
      "State arrived: [0, 1]\n",
      "Payoff action 0: 0\n",
      "I see the previous state: (1, 0)\n",
      "I recall the following average payoff:\n",
      "-0.25\n",
      "---------- Round 6 ----------\n",
      "Previous state: (0, 1)\n",
      "Average payoff in previous state: 0\n",
      "go_preference = 0\n",
      "Action preferences in state [0, 1]: [0, 0]\n",
      "Previous state: (0, 1)\n",
      "Average payoff in previous state: 0\n",
      "go_preference = 0\n",
      "Action probabilities:\n",
      "no go:0.5 ---- go:0.5\n",
      "Chosen action: 1\n",
      "State arrived: [1, 0]\n",
      "Payoff action 1: 1\n",
      "I see the previous state: (0, 1)\n",
      "I recall the following average payoff:\n",
      "0.5\n",
      "---------- Round 7 ----------\n",
      "Previous state: (1, 0)\n",
      "Average payoff in previous state: -0.25\n",
      "go_preference = 0\n",
      "Action preferences in state [1, 0]: [1, 0]\n",
      "Previous state: (1, 0)\n",
      "Average payoff in previous state: -0.25\n",
      "go_preference = 0\n",
      "Action probabilities:\n",
      "no go:0.9999546021312975 ---- go:4.5397868702434395e-05\n",
      "Chosen action: 0\n",
      "State arrived: [0, 1]\n",
      "Payoff action 0: 0\n",
      "I see the previous state: (1, 0)\n",
      "I recall the following average payoff:\n",
      "-0.125\n",
      "---------- Round 8 ----------\n",
      "Previous state: (0, 1)\n",
      "Average payoff in previous state: 0.5\n",
      "go_preference = 1\n",
      "Action preferences in state [0, 1]: [0, 1]\n",
      "Previous state: (0, 1)\n",
      "Average payoff in previous state: 0.5\n",
      "go_preference = 1\n",
      "Action probabilities:\n",
      "no go:4.5397868702434395e-05 ---- go:0.9999546021312975\n",
      "Chosen action: 1\n",
      "State arrived: [1, 0]\n",
      "Payoff action 1: 1\n",
      "I see the previous state: (0, 1)\n",
      "I recall the following average payoff:\n",
      "0.75\n",
      "---------- Round 9 ----------\n",
      "Previous state: (1, 0)\n",
      "Average payoff in previous state: -0.125\n",
      "go_preference = 0\n",
      "Action preferences in state [1, 0]: [1, 0]\n",
      "Previous state: (1, 0)\n",
      "Average payoff in previous state: -0.125\n",
      "go_preference = 0\n",
      "Action probabilities:\n",
      "no go:0.9999546021312975 ---- go:4.5397868702434395e-05\n",
      "Chosen action: 0\n",
      "State arrived: [0, 1]\n",
      "Payoff action 0: 0\n",
      "I see the previous state: (1, 0)\n",
      "I recall the following average payoff:\n",
      "-0.0625\n"
     ]
    }
   ],
   "source": [
    "agent = MODEL(\n",
    "\tfixed_parameters=fixed_parameters,\n",
    "\tfree_parameters=free_parameters,\n",
    "\tn=0\n",
    ")\n",
    "agent.debug = True\n",
    "test_alternation(agent)"
   ]
  },
  {
   "cell_type": "code",
   "execution_count": 8,
   "metadata": {},
   "outputs": [],
   "source": [
    "from pathlib import Path\n",
    "\n",
    "folder = MODEL.name().replace('-', '/')\n",
    "image_folder = Path('../images', folder)\n",
    "image_folder.mkdir(parents=True, exist_ok=True)\n",
    "data_folder = Path('../data/', folder)\n",
    "image_folder.mkdir(parents=True, exist_ok=True)\n",
    "\n",
    "fixed_parameters = {\n",
    "\t\"threshold\":0.5,\n",
    "\t\"num_agents\":6,\n",
    "}\n",
    "free_parameters = {\n",
    "\t'inverse_temperature':32,\n",
    "\t'wsls_strength':1,\n",
    "\t'heuristic_strength':0.5,\n",
    "}\n",
    "simulation_parameters = {\n",
    "\t'num_episodes':100,\n",
    "\t'num_rounds':1000,\n",
    "\t'verbose':False\n",
    "}"
   ]
  },
  {
   "cell_type": "code",
   "execution_count": 9,
   "metadata": {},
   "outputs": [
    {
     "data": {
      "application/vnd.jupyter.widget-view+json": {
       "model_id": "7793a35ff8c44aa5bf6f1b4b8ccb9ff6",
       "version_major": 2,
       "version_minor": 0
      },
      "text/plain": [
       "Running models for each heuristic_strength:   0%|          | 0/5 [00:00<?, ?it/s]"
      ]
     },
     "metadata": {},
     "output_type": "display_data"
    },
    {
     "data": {
      "application/vnd.jupyter.widget-view+json": {
       "model_id": "2ca1e8b411f1466ab00caa014c01320d",
       "version_major": 2,
       "version_minor": 0
      },
      "text/plain": [
       "  0%|          | 0/100 [00:00<?, ?it/s]"
      ]
     },
     "metadata": {},
     "output_type": "display_data"
    },
    {
     "data": {
      "application/vnd.jupyter.widget-view+json": {
       "model_id": "d5a223576a1e4cfa926209298f987cf7",
       "version_major": 2,
       "version_minor": 0
      },
      "text/plain": [
       "  0%|          | 0/100 [00:00<?, ?it/s]"
      ]
     },
     "metadata": {},
     "output_type": "display_data"
    },
    {
     "data": {
      "application/vnd.jupyter.widget-view+json": {
       "model_id": "8ae1f4ac0f0e4308892d6a823ac7c6d0",
       "version_major": 2,
       "version_minor": 0
      },
      "text/plain": [
       "  0%|          | 0/100 [00:00<?, ?it/s]"
      ]
     },
     "metadata": {},
     "output_type": "display_data"
    },
    {
     "data": {
      "application/vnd.jupyter.widget-view+json": {
       "model_id": "b574d1237b80417aa9c007c57a0f6bfc",
       "version_major": 2,
       "version_minor": 0
      },
      "text/plain": [
       "  0%|          | 0/100 [00:00<?, ?it/s]"
      ]
     },
     "metadata": {},
     "output_type": "display_data"
    },
    {
     "data": {
      "application/vnd.jupyter.widget-view+json": {
       "model_id": "dc89461d823a494c87ae26008332da12",
       "version_major": 2,
       "version_minor": 0
      },
      "text/plain": [
       "  0%|          | 0/100 [00:00<?, ?it/s]"
      ]
     },
     "metadata": {},
     "output_type": "display_data"
    },
    {
     "name": "stdout",
     "output_type": "stream",
     "text": [
      "Plotting conditional_entropy...\n",
      "Plot saved to ../images/WSLS/M3/conditional_entropy_heuristic_strength.png\n",
      "Plotting entropy...\n",
      "Plot saved to ../images/WSLS/M3/entropy_heuristic_strength.png\n",
      "Plotting efficiency...\n",
      "Plot saved to ../images/WSLS/M3/efficiency_heuristic_strength.png\n",
      "Plotting inequality...\n",
      "Plot saved to ../images/WSLS/M3/inequality_heuristic_strength.png\n",
      "Plotting alternation_index...\n",
      "Plot saved to ../images/WSLS/M3/alternation_index_heuristic_strength.png\n"
     ]
    }
   ],
   "source": [
    "from Utils.interaction import Performer\n",
    "\n",
    "kwargs = {'figsize': (4, 3)}\n",
    "LaTeX_string = Performer.sweep(\n",
    "    agent_class=MODEL,\n",
    "    fixed_parameters=fixed_parameters,\n",
    "    free_parameters=free_parameters,\n",
    "    simulation_parameters=simulation_parameters,\n",
    "    sweep_parameter='heuristic_strength',\n",
    "    values=[0, 0.25, 0.5, 0.75, 1],\n",
    "    image_folder=image_folder,\n",
    "    measures=['conditional_entropy', 'entropy', 'efficiency', 'inequality', 'alternation_index'],\n",
    "    kwargs=kwargs\n",
    ")"
   ]
  },
  {
   "cell_type": "code",
   "execution_count": 10,
   "metadata": {},
   "outputs": [
    {
     "data": {
      "application/vnd.jupyter.widget-view+json": {
       "model_id": "f2c59b74bfa1491695ad1fc6373b087d",
       "version_major": 2,
       "version_minor": 0
      },
      "text/plain": [
       "Running models for each wsls_strength:   0%|          | 0/5 [00:00<?, ?it/s]"
      ]
     },
     "metadata": {},
     "output_type": "display_data"
    },
    {
     "data": {
      "application/vnd.jupyter.widget-view+json": {
       "model_id": "c5587030eeb549599dcebfc3fa499059",
       "version_major": 2,
       "version_minor": 0
      },
      "text/plain": [
       "  0%|          | 0/100 [00:00<?, ?it/s]"
      ]
     },
     "metadata": {},
     "output_type": "display_data"
    },
    {
     "data": {
      "application/vnd.jupyter.widget-view+json": {
       "model_id": "5516d5b068144bac93fce74c45c28844",
       "version_major": 2,
       "version_minor": 0
      },
      "text/plain": [
       "  0%|          | 0/100 [00:00<?, ?it/s]"
      ]
     },
     "metadata": {},
     "output_type": "display_data"
    },
    {
     "data": {
      "application/vnd.jupyter.widget-view+json": {
       "model_id": "83986d9cdd994c599438461803079b2d",
       "version_major": 2,
       "version_minor": 0
      },
      "text/plain": [
       "  0%|          | 0/100 [00:00<?, ?it/s]"
      ]
     },
     "metadata": {},
     "output_type": "display_data"
    },
    {
     "data": {
      "application/vnd.jupyter.widget-view+json": {
       "model_id": "636055f3a02c4195b2a3464bfe8a8343",
       "version_major": 2,
       "version_minor": 0
      },
      "text/plain": [
       "  0%|          | 0/100 [00:00<?, ?it/s]"
      ]
     },
     "metadata": {},
     "output_type": "display_data"
    },
    {
     "data": {
      "application/vnd.jupyter.widget-view+json": {
       "model_id": "2a52874b23bb4b67b5edc6a1fc5776c4",
       "version_major": 2,
       "version_minor": 0
      },
      "text/plain": [
       "  0%|          | 0/100 [00:00<?, ?it/s]"
      ]
     },
     "metadata": {},
     "output_type": "display_data"
    },
    {
     "name": "stdout",
     "output_type": "stream",
     "text": [
      "Plotting conditional_entropy...\n",
      "Plot saved to ../images/WSLS/M3/conditional_entropy_wsls_strength.png\n",
      "Plotting entropy...\n",
      "Plot saved to ../images/WSLS/M3/entropy_wsls_strength.png\n",
      "Plotting efficiency...\n",
      "Plot saved to ../images/WSLS/M3/efficiency_wsls_strength.png\n",
      "Plotting inequality...\n",
      "Plot saved to ../images/WSLS/M3/inequality_wsls_strength.png\n",
      "Plotting alternation_index...\n",
      "Plot saved to ../images/WSLS/M3/alternation_index_wsls_strength.png\n"
     ]
    }
   ],
   "source": [
    "from Utils.interaction import Performer\n",
    "\n",
    "kwargs = {'figsize': (4, 3)}\n",
    "LaTeX_string = Performer.sweep(\n",
    "    agent_class=MODEL,\n",
    "    fixed_parameters=fixed_parameters,\n",
    "    free_parameters=free_parameters,\n",
    "    simulation_parameters=simulation_parameters,\n",
    "    sweep_parameter='wsls_strength',\n",
    "    values=[0, 0.4, 0.8, 1.2, 1.6],\n",
    "    image_folder=image_folder,\n",
    "    measures=['conditional_entropy', 'entropy', 'efficiency', 'inequality', 'alternation_index'],\n",
    "    kwargs=kwargs\n",
    ")"
   ]
  },
  {
   "cell_type": "code",
   "execution_count": 11,
   "metadata": {},
   "outputs": [
    {
     "data": {
      "application/vnd.jupyter.widget-view+json": {
       "model_id": "50bb3b86efde498d848a65ac612ad4b5",
       "version_major": 2,
       "version_minor": 0
      },
      "text/plain": [
       "Running models for each inverse_temperature:   0%|          | 0/7 [00:00<?, ?it/s]"
      ]
     },
     "metadata": {},
     "output_type": "display_data"
    },
    {
     "data": {
      "application/vnd.jupyter.widget-view+json": {
       "model_id": "3d2b452d4bef46738696c91a20c1cf32",
       "version_major": 2,
       "version_minor": 0
      },
      "text/plain": [
       "  0%|          | 0/100 [00:00<?, ?it/s]"
      ]
     },
     "metadata": {},
     "output_type": "display_data"
    },
    {
     "data": {
      "application/vnd.jupyter.widget-view+json": {
       "model_id": "cdb716e49c14464ab901374539eefede",
       "version_major": 2,
       "version_minor": 0
      },
      "text/plain": [
       "  0%|          | 0/100 [00:00<?, ?it/s]"
      ]
     },
     "metadata": {},
     "output_type": "display_data"
    },
    {
     "data": {
      "application/vnd.jupyter.widget-view+json": {
       "model_id": "7ac6003f09204500912e7f2c0e73769e",
       "version_major": 2,
       "version_minor": 0
      },
      "text/plain": [
       "  0%|          | 0/100 [00:00<?, ?it/s]"
      ]
     },
     "metadata": {},
     "output_type": "display_data"
    },
    {
     "data": {
      "application/vnd.jupyter.widget-view+json": {
       "model_id": "5196e895b98b4368801e75797717a00e",
       "version_major": 2,
       "version_minor": 0
      },
      "text/plain": [
       "  0%|          | 0/100 [00:00<?, ?it/s]"
      ]
     },
     "metadata": {},
     "output_type": "display_data"
    },
    {
     "data": {
      "application/vnd.jupyter.widget-view+json": {
       "model_id": "c6f34237eaca4b66a8b94676a35741a8",
       "version_major": 2,
       "version_minor": 0
      },
      "text/plain": [
       "  0%|          | 0/100 [00:00<?, ?it/s]"
      ]
     },
     "metadata": {},
     "output_type": "display_data"
    },
    {
     "data": {
      "application/vnd.jupyter.widget-view+json": {
       "model_id": "14c69eb6bea24454b5e0580e9d82cd49",
       "version_major": 2,
       "version_minor": 0
      },
      "text/plain": [
       "  0%|          | 0/100 [00:00<?, ?it/s]"
      ]
     },
     "metadata": {},
     "output_type": "display_data"
    },
    {
     "data": {
      "application/vnd.jupyter.widget-view+json": {
       "model_id": "bd102f4103a040ed979c135cf1f16642",
       "version_major": 2,
       "version_minor": 0
      },
      "text/plain": [
       "  0%|          | 0/100 [00:00<?, ?it/s]"
      ]
     },
     "metadata": {},
     "output_type": "display_data"
    },
    {
     "name": "stdout",
     "output_type": "stream",
     "text": [
      "Plotting conditional_entropy...\n",
      "Plot saved to ../images/WSLS/M3/conditional_entropy_inverse_temperature.png\n",
      "Plotting entropy...\n",
      "Plot saved to ../images/WSLS/M3/entropy_inverse_temperature.png\n",
      "Plotting efficiency...\n",
      "Plot saved to ../images/WSLS/M3/efficiency_inverse_temperature.png\n",
      "Plotting inequality...\n",
      "Plot saved to ../images/WSLS/M3/inequality_inverse_temperature.png\n",
      "Plotting alternation_index...\n",
      "Plot saved to ../images/WSLS/M3/alternation_index_inverse_temperature.png\n"
     ]
    }
   ],
   "source": [
    "from Utils.interaction import Performer\n",
    "\n",
    "LaTeX_string = Performer.sweep(\n",
    "    agent_class=MODEL,\n",
    "    fixed_parameters=fixed_parameters,\n",
    "    free_parameters=free_parameters,\n",
    "    simulation_parameters=simulation_parameters,\n",
    "    sweep_parameter='inverse_temperature',\n",
    "    values=[2**x for x in range(0, 7)],\n",
    "    image_folder=image_folder,\n",
    "    measures=['conditional_entropy', 'entropy', 'efficiency', 'inequality', 'alternation_index']\n",
    ")"
   ]
  },
  {
   "cell_type": "code",
   "execution_count": 12,
   "metadata": {},
   "outputs": [],
   "source": [
    "from Utils.interaction import Experiment\n",
    "\n",
    "exp = Experiment(\n",
    "    agent_class=MODEL,\n",
    "    fixed_parameters=fixed_parameters,\n",
    "    free_parameters=free_parameters,\n",
    "    simulation_parameters=simulation_parameters,\n",
    "    measures=['efficiency', 'inequality', 'entropy', 'conditional_entropy']\n",
    ")"
   ]
  },
  {
   "cell_type": "code",
   "execution_count": 13,
   "metadata": {},
   "outputs": [
    {
     "data": {
      "application/vnd.jupyter.widget-view+json": {
       "model_id": "a32bfd6f52ff47b6ba8456e9d7d54e0f",
       "version_major": 2,
       "version_minor": 0
      },
      "text/plain": [
       "  0%|          | 0/5 [00:00<?, ?it/s]"
      ]
     },
     "metadata": {},
     "output_type": "display_data"
    },
    {
     "data": {
      "application/vnd.jupyter.widget-view+json": {
       "model_id": "5acbb17d6954409fa821786e23e82fe3",
       "version_major": 2,
       "version_minor": 0
      },
      "text/plain": [
       "  0%|          | 0/7 [00:00<?, ?it/s]"
      ]
     },
     "metadata": {},
     "output_type": "display_data"
    },
    {
     "data": {
      "application/vnd.jupyter.widget-view+json": {
       "model_id": "50a944688d864244b7cf758dff9fe865",
       "version_major": 2,
       "version_minor": 0
      },
      "text/plain": [
       "  0%|          | 0/100 [00:00<?, ?it/s]"
      ]
     },
     "metadata": {},
     "output_type": "display_data"
    },
    {
     "data": {
      "application/vnd.jupyter.widget-view+json": {
       "model_id": "f492a88432424043931f97fd9d810d09",
       "version_major": 2,
       "version_minor": 0
      },
      "text/plain": [
       "  0%|          | 0/100 [00:00<?, ?it/s]"
      ]
     },
     "metadata": {},
     "output_type": "display_data"
    },
    {
     "data": {
      "application/vnd.jupyter.widget-view+json": {
       "model_id": "c58235f6078e42ed968133e81e2783f8",
       "version_major": 2,
       "version_minor": 0
      },
      "text/plain": [
       "  0%|          | 0/100 [00:00<?, ?it/s]"
      ]
     },
     "metadata": {},
     "output_type": "display_data"
    },
    {
     "data": {
      "application/vnd.jupyter.widget-view+json": {
       "model_id": "8a013c128bb546adb5b9b537b9503f45",
       "version_major": 2,
       "version_minor": 0
      },
      "text/plain": [
       "  0%|          | 0/100 [00:00<?, ?it/s]"
      ]
     },
     "metadata": {},
     "output_type": "display_data"
    },
    {
     "data": {
      "application/vnd.jupyter.widget-view+json": {
       "model_id": "2c8d93494c6d4f1ba7e655a3c27fafe4",
       "version_major": 2,
       "version_minor": 0
      },
      "text/plain": [
       "  0%|          | 0/100 [00:00<?, ?it/s]"
      ]
     },
     "metadata": {},
     "output_type": "display_data"
    },
    {
     "data": {
      "application/vnd.jupyter.widget-view+json": {
       "model_id": "3f4ec6816f8947ddb8d84ba6068327e8",
       "version_major": 2,
       "version_minor": 0
      },
      "text/plain": [
       "  0%|          | 0/100 [00:00<?, ?it/s]"
      ]
     },
     "metadata": {},
     "output_type": "display_data"
    },
    {
     "data": {
      "application/vnd.jupyter.widget-view+json": {
       "model_id": "02551a621a1b4fc6ac5272275459cc5a",
       "version_major": 2,
       "version_minor": 0
      },
      "text/plain": [
       "  0%|          | 0/100 [00:00<?, ?it/s]"
      ]
     },
     "metadata": {},
     "output_type": "display_data"
    },
    {
     "data": {
      "application/vnd.jupyter.widget-view+json": {
       "model_id": "3bae94e3364449f8aeb839e0f61f5d97",
       "version_major": 2,
       "version_minor": 0
      },
      "text/plain": [
       "  0%|          | 0/7 [00:00<?, ?it/s]"
      ]
     },
     "metadata": {},
     "output_type": "display_data"
    },
    {
     "data": {
      "application/vnd.jupyter.widget-view+json": {
       "model_id": "0182da14a25548e5a9d5acf89718c40e",
       "version_major": 2,
       "version_minor": 0
      },
      "text/plain": [
       "  0%|          | 0/100 [00:00<?, ?it/s]"
      ]
     },
     "metadata": {},
     "output_type": "display_data"
    },
    {
     "data": {
      "application/vnd.jupyter.widget-view+json": {
       "model_id": "c22b2204b0f145a8826efe458b5f0e23",
       "version_major": 2,
       "version_minor": 0
      },
      "text/plain": [
       "  0%|          | 0/100 [00:00<?, ?it/s]"
      ]
     },
     "metadata": {},
     "output_type": "display_data"
    },
    {
     "data": {
      "application/vnd.jupyter.widget-view+json": {
       "model_id": "52ae377354df40c2bd54bab31199477c",
       "version_major": 2,
       "version_minor": 0
      },
      "text/plain": [
       "  0%|          | 0/100 [00:00<?, ?it/s]"
      ]
     },
     "metadata": {},
     "output_type": "display_data"
    },
    {
     "data": {
      "application/vnd.jupyter.widget-view+json": {
       "model_id": "182a82ebd1be4f8b8351900ce199c1aa",
       "version_major": 2,
       "version_minor": 0
      },
      "text/plain": [
       "  0%|          | 0/100 [00:00<?, ?it/s]"
      ]
     },
     "metadata": {},
     "output_type": "display_data"
    },
    {
     "data": {
      "application/vnd.jupyter.widget-view+json": {
       "model_id": "8b9768dae0f5460bb9c27c6c8ea5cc6c",
       "version_major": 2,
       "version_minor": 0
      },
      "text/plain": [
       "  0%|          | 0/100 [00:00<?, ?it/s]"
      ]
     },
     "metadata": {},
     "output_type": "display_data"
    },
    {
     "data": {
      "application/vnd.jupyter.widget-view+json": {
       "model_id": "66186f35394f43afa2d0bce125c40a92",
       "version_major": 2,
       "version_minor": 0
      },
      "text/plain": [
       "  0%|          | 0/100 [00:00<?, ?it/s]"
      ]
     },
     "metadata": {},
     "output_type": "display_data"
    },
    {
     "data": {
      "application/vnd.jupyter.widget-view+json": {
       "model_id": "63375a6c39f1474d9fbecba02e595b73",
       "version_major": 2,
       "version_minor": 0
      },
      "text/plain": [
       "  0%|          | 0/100 [00:00<?, ?it/s]"
      ]
     },
     "metadata": {},
     "output_type": "display_data"
    },
    {
     "data": {
      "application/vnd.jupyter.widget-view+json": {
       "model_id": "58a35d28c6bc436b9fcf527165752a24",
       "version_major": 2,
       "version_minor": 0
      },
      "text/plain": [
       "  0%|          | 0/7 [00:00<?, ?it/s]"
      ]
     },
     "metadata": {},
     "output_type": "display_data"
    },
    {
     "data": {
      "application/vnd.jupyter.widget-view+json": {
       "model_id": "aba4ffc55c7c447fa348094a39f413c2",
       "version_major": 2,
       "version_minor": 0
      },
      "text/plain": [
       "  0%|          | 0/100 [00:00<?, ?it/s]"
      ]
     },
     "metadata": {},
     "output_type": "display_data"
    },
    {
     "data": {
      "application/vnd.jupyter.widget-view+json": {
       "model_id": "36a04a50433f482d933883c00aae1b67",
       "version_major": 2,
       "version_minor": 0
      },
      "text/plain": [
       "  0%|          | 0/100 [00:00<?, ?it/s]"
      ]
     },
     "metadata": {},
     "output_type": "display_data"
    },
    {
     "data": {
      "application/vnd.jupyter.widget-view+json": {
       "model_id": "1f048733165d407891676f742e942b2b",
       "version_major": 2,
       "version_minor": 0
      },
      "text/plain": [
       "  0%|          | 0/100 [00:00<?, ?it/s]"
      ]
     },
     "metadata": {},
     "output_type": "display_data"
    },
    {
     "data": {
      "application/vnd.jupyter.widget-view+json": {
       "model_id": "2d6afabddccc4f9286169b429d4871c2",
       "version_major": 2,
       "version_minor": 0
      },
      "text/plain": [
       "  0%|          | 0/100 [00:00<?, ?it/s]"
      ]
     },
     "metadata": {},
     "output_type": "display_data"
    },
    {
     "data": {
      "application/vnd.jupyter.widget-view+json": {
       "model_id": "b357b4ce468144e18d6dc001bac87116",
       "version_major": 2,
       "version_minor": 0
      },
      "text/plain": [
       "  0%|          | 0/100 [00:00<?, ?it/s]"
      ]
     },
     "metadata": {},
     "output_type": "display_data"
    },
    {
     "data": {
      "application/vnd.jupyter.widget-view+json": {
       "model_id": "8bd9068215c64cba870fe5b98e90a09d",
       "version_major": 2,
       "version_minor": 0
      },
      "text/plain": [
       "  0%|          | 0/100 [00:00<?, ?it/s]"
      ]
     },
     "metadata": {},
     "output_type": "display_data"
    },
    {
     "data": {
      "application/vnd.jupyter.widget-view+json": {
       "model_id": "b66dea7009b241ef87d7cb6d6effbdfd",
       "version_major": 2,
       "version_minor": 0
      },
      "text/plain": [
       "  0%|          | 0/100 [00:00<?, ?it/s]"
      ]
     },
     "metadata": {},
     "output_type": "display_data"
    },
    {
     "data": {
      "application/vnd.jupyter.widget-view+json": {
       "model_id": "1f12772f4fe24bd29f031fbd321269a5",
       "version_major": 2,
       "version_minor": 0
      },
      "text/plain": [
       "  0%|          | 0/7 [00:00<?, ?it/s]"
      ]
     },
     "metadata": {},
     "output_type": "display_data"
    },
    {
     "data": {
      "application/vnd.jupyter.widget-view+json": {
       "model_id": "9c13d0d6f2b84f6290b814642d9c7543",
       "version_major": 2,
       "version_minor": 0
      },
      "text/plain": [
       "  0%|          | 0/100 [00:00<?, ?it/s]"
      ]
     },
     "metadata": {},
     "output_type": "display_data"
    },
    {
     "data": {
      "application/vnd.jupyter.widget-view+json": {
       "model_id": "006fa4d4d32e456ab4192162c2e0e159",
       "version_major": 2,
       "version_minor": 0
      },
      "text/plain": [
       "  0%|          | 0/100 [00:00<?, ?it/s]"
      ]
     },
     "metadata": {},
     "output_type": "display_data"
    },
    {
     "data": {
      "application/vnd.jupyter.widget-view+json": {
       "model_id": "cb89f9105f444368b97514ddc4f49d40",
       "version_major": 2,
       "version_minor": 0
      },
      "text/plain": [
       "  0%|          | 0/100 [00:00<?, ?it/s]"
      ]
     },
     "metadata": {},
     "output_type": "display_data"
    },
    {
     "data": {
      "application/vnd.jupyter.widget-view+json": {
       "model_id": "4700f32939dd45cb8d41e69adf93b748",
       "version_major": 2,
       "version_minor": 0
      },
      "text/plain": [
       "  0%|          | 0/100 [00:00<?, ?it/s]"
      ]
     },
     "metadata": {},
     "output_type": "display_data"
    },
    {
     "data": {
      "application/vnd.jupyter.widget-view+json": {
       "model_id": "38730c10f1a64f628ac18b072d86dc70",
       "version_major": 2,
       "version_minor": 0
      },
      "text/plain": [
       "  0%|          | 0/100 [00:00<?, ?it/s]"
      ]
     },
     "metadata": {},
     "output_type": "display_data"
    },
    {
     "data": {
      "application/vnd.jupyter.widget-view+json": {
       "model_id": "ba7c96f08e014e83956cc7bb76bc0a32",
       "version_major": 2,
       "version_minor": 0
      },
      "text/plain": [
       "  0%|          | 0/100 [00:00<?, ?it/s]"
      ]
     },
     "metadata": {},
     "output_type": "display_data"
    },
    {
     "data": {
      "application/vnd.jupyter.widget-view+json": {
       "model_id": "9971e1287a014158a55f6d4c6db29f1c",
       "version_major": 2,
       "version_minor": 0
      },
      "text/plain": [
       "  0%|          | 0/100 [00:00<?, ?it/s]"
      ]
     },
     "metadata": {},
     "output_type": "display_data"
    },
    {
     "data": {
      "application/vnd.jupyter.widget-view+json": {
       "model_id": "68e682c7777d420b9b77c7575a4a29cd",
       "version_major": 2,
       "version_minor": 0
      },
      "text/plain": [
       "  0%|          | 0/7 [00:00<?, ?it/s]"
      ]
     },
     "metadata": {},
     "output_type": "display_data"
    },
    {
     "data": {
      "application/vnd.jupyter.widget-view+json": {
       "model_id": "146e748ba40b45dc8fd2b9729178f6d6",
       "version_major": 2,
       "version_minor": 0
      },
      "text/plain": [
       "  0%|          | 0/100 [00:00<?, ?it/s]"
      ]
     },
     "metadata": {},
     "output_type": "display_data"
    },
    {
     "data": {
      "application/vnd.jupyter.widget-view+json": {
       "model_id": "a8604332ae1f47a6a1d76a35a533b1c4",
       "version_major": 2,
       "version_minor": 0
      },
      "text/plain": [
       "  0%|          | 0/100 [00:00<?, ?it/s]"
      ]
     },
     "metadata": {},
     "output_type": "display_data"
    },
    {
     "data": {
      "application/vnd.jupyter.widget-view+json": {
       "model_id": "0fa55c3fe868497abc0d6b17f66123e1",
       "version_major": 2,
       "version_minor": 0
      },
      "text/plain": [
       "  0%|          | 0/100 [00:00<?, ?it/s]"
      ]
     },
     "metadata": {},
     "output_type": "display_data"
    },
    {
     "data": {
      "application/vnd.jupyter.widget-view+json": {
       "model_id": "31434fa3710f48f1858a0aef425efe08",
       "version_major": 2,
       "version_minor": 0
      },
      "text/plain": [
       "  0%|          | 0/100 [00:00<?, ?it/s]"
      ]
     },
     "metadata": {},
     "output_type": "display_data"
    },
    {
     "data": {
      "application/vnd.jupyter.widget-view+json": {
       "model_id": "1017b8d466c74f6bba86c12300260afc",
       "version_major": 2,
       "version_minor": 0
      },
      "text/plain": [
       "  0%|          | 0/100 [00:00<?, ?it/s]"
      ]
     },
     "metadata": {},
     "output_type": "display_data"
    },
    {
     "data": {
      "application/vnd.jupyter.widget-view+json": {
       "model_id": "2997356c340d43b1ab82411ea894d224",
       "version_major": 2,
       "version_minor": 0
      },
      "text/plain": [
       "  0%|          | 0/100 [00:00<?, ?it/s]"
      ]
     },
     "metadata": {},
     "output_type": "display_data"
    },
    {
     "data": {
      "application/vnd.jupyter.widget-view+json": {
       "model_id": "f585a86a568746d4bc559cd47f2ebfa4",
       "version_major": 2,
       "version_minor": 0
      },
      "text/plain": [
       "  0%|          | 0/100 [00:00<?, ?it/s]"
      ]
     },
     "metadata": {},
     "output_type": "display_data"
    }
   ],
   "source": [
    "exp.run_sweep2(\n",
    "    parameter1='wsls_strength',\n",
    "    values1=[0, 0.4, 0.8, 1.2, 1.6],\n",
    "    parameter2='inverse_temperature',\n",
    "    values2=[2**x for x in range(0, 7)],\n",
    "    file=image_folder / 'sweep_go_drive_vs_inverse_temperature'\n",
    ")"
   ]
  },
  {
   "cell_type": "code",
   "execution_count": 14,
   "metadata": {},
   "outputs": [],
   "source": [
    "from Utils.plot_utils import PlotStandardMeasures\n",
    "\n",
    "p = PlotStandardMeasures(exp.data)"
   ]
  },
  {
   "cell_type": "code",
   "execution_count": 15,
   "metadata": {},
   "outputs": [
    {
     "name": "stdout",
     "output_type": "stream",
     "text": [
      "Plot saved to ../images/WSLS/M3/sweep_wsls_strength_vs_inverse_temperature_efficiency\n"
     ]
    }
   ],
   "source": [
    "p.plot_sweep2(\n",
    "    parameter1='wsls_strength',\n",
    "    parameter2='inverse_temperature',\n",
    "    measure='efficiency',\n",
    "    file=image_folder / 'sweep_wsls_strength_vs_inverse_temperature_efficiency'\n",
    ")"
   ]
  },
  {
   "cell_type": "code",
   "execution_count": 16,
   "metadata": {},
   "outputs": [
    {
     "name": "stdout",
     "output_type": "stream",
     "text": [
      "Plot saved to ../images/WSLS/M3/sweep_wsls_strength_vs_inverse_temperature_alternation\n"
     ]
    }
   ],
   "source": [
    "p.plot_sweep2(\n",
    "    parameter1='wsls_strength',\n",
    "    parameter2='inverse_temperature',\n",
    "    measure='alternation_index',\n",
    "    file=image_folder / 'sweep_wsls_strength_vs_inverse_temperature_alternation'\n",
    ")"
   ]
  },
  {
   "cell_type": "code",
   "execution_count": 17,
   "metadata": {},
   "outputs": [
    {
     "data": {
      "application/vnd.jupyter.widget-view+json": {
       "model_id": "2e290eaeb2174c20abdc0053a96c42f1",
       "version_major": 2,
       "version_minor": 0
      },
      "text/plain": [
       "  0%|          | 0/5 [00:00<?, ?it/s]"
      ]
     },
     "metadata": {},
     "output_type": "display_data"
    },
    {
     "data": {
      "application/vnd.jupyter.widget-view+json": {
       "model_id": "2d784df0c67d424c87b183239a253ce8",
       "version_major": 2,
       "version_minor": 0
      },
      "text/plain": [
       "  0%|          | 0/5 [00:00<?, ?it/s]"
      ]
     },
     "metadata": {},
     "output_type": "display_data"
    },
    {
     "data": {
      "application/vnd.jupyter.widget-view+json": {
       "model_id": "0b96c067d2a349bcb80d661457276cf1",
       "version_major": 2,
       "version_minor": 0
      },
      "text/plain": [
       "  0%|          | 0/100 [00:00<?, ?it/s]"
      ]
     },
     "metadata": {},
     "output_type": "display_data"
    },
    {
     "data": {
      "application/vnd.jupyter.widget-view+json": {
       "model_id": "5a29f4ecfbc44d1eacea6b930dc6b049",
       "version_major": 2,
       "version_minor": 0
      },
      "text/plain": [
       "  0%|          | 0/100 [00:00<?, ?it/s]"
      ]
     },
     "metadata": {},
     "output_type": "display_data"
    },
    {
     "data": {
      "application/vnd.jupyter.widget-view+json": {
       "model_id": "aa5b20c3f3b94726aa99e083a4b2f9d6",
       "version_major": 2,
       "version_minor": 0
      },
      "text/plain": [
       "  0%|          | 0/100 [00:00<?, ?it/s]"
      ]
     },
     "metadata": {},
     "output_type": "display_data"
    },
    {
     "data": {
      "application/vnd.jupyter.widget-view+json": {
       "model_id": "3cc3961c4dfa4581b45d992141d13573",
       "version_major": 2,
       "version_minor": 0
      },
      "text/plain": [
       "  0%|          | 0/100 [00:00<?, ?it/s]"
      ]
     },
     "metadata": {},
     "output_type": "display_data"
    },
    {
     "data": {
      "application/vnd.jupyter.widget-view+json": {
       "model_id": "7537730c196340e1807c40e97f4b6298",
       "version_major": 2,
       "version_minor": 0
      },
      "text/plain": [
       "  0%|          | 0/100 [00:00<?, ?it/s]"
      ]
     },
     "metadata": {},
     "output_type": "display_data"
    },
    {
     "data": {
      "application/vnd.jupyter.widget-view+json": {
       "model_id": "f9ad59c9dd0e4ffabb9757851728e8b4",
       "version_major": 2,
       "version_minor": 0
      },
      "text/plain": [
       "  0%|          | 0/5 [00:00<?, ?it/s]"
      ]
     },
     "metadata": {},
     "output_type": "display_data"
    },
    {
     "data": {
      "application/vnd.jupyter.widget-view+json": {
       "model_id": "df7ddd6fa4ed4ca98e534a786ce28639",
       "version_major": 2,
       "version_minor": 0
      },
      "text/plain": [
       "  0%|          | 0/100 [00:00<?, ?it/s]"
      ]
     },
     "metadata": {},
     "output_type": "display_data"
    },
    {
     "data": {
      "application/vnd.jupyter.widget-view+json": {
       "model_id": "f567a990b6464a28b0adc141d82372f4",
       "version_major": 2,
       "version_minor": 0
      },
      "text/plain": [
       "  0%|          | 0/100 [00:00<?, ?it/s]"
      ]
     },
     "metadata": {},
     "output_type": "display_data"
    },
    {
     "data": {
      "application/vnd.jupyter.widget-view+json": {
       "model_id": "bf97ac09a1274775ae8cd00e708e34c9",
       "version_major": 2,
       "version_minor": 0
      },
      "text/plain": [
       "  0%|          | 0/100 [00:00<?, ?it/s]"
      ]
     },
     "metadata": {},
     "output_type": "display_data"
    },
    {
     "data": {
      "application/vnd.jupyter.widget-view+json": {
       "model_id": "d890f007fb704034893ecaeebe7518e4",
       "version_major": 2,
       "version_minor": 0
      },
      "text/plain": [
       "  0%|          | 0/100 [00:00<?, ?it/s]"
      ]
     },
     "metadata": {},
     "output_type": "display_data"
    },
    {
     "data": {
      "application/vnd.jupyter.widget-view+json": {
       "model_id": "223fd010356642d297bbbb77551b1d3d",
       "version_major": 2,
       "version_minor": 0
      },
      "text/plain": [
       "  0%|          | 0/100 [00:00<?, ?it/s]"
      ]
     },
     "metadata": {},
     "output_type": "display_data"
    },
    {
     "data": {
      "application/vnd.jupyter.widget-view+json": {
       "model_id": "260cb6ca4c044f4398962341612cf896",
       "version_major": 2,
       "version_minor": 0
      },
      "text/plain": [
       "  0%|          | 0/5 [00:00<?, ?it/s]"
      ]
     },
     "metadata": {},
     "output_type": "display_data"
    },
    {
     "data": {
      "application/vnd.jupyter.widget-view+json": {
       "model_id": "667c9b1f6716478ebad13e72dfcc8db4",
       "version_major": 2,
       "version_minor": 0
      },
      "text/plain": [
       "  0%|          | 0/100 [00:00<?, ?it/s]"
      ]
     },
     "metadata": {},
     "output_type": "display_data"
    },
    {
     "data": {
      "application/vnd.jupyter.widget-view+json": {
       "model_id": "c36891ac16c94574a2c9c8859649bc0c",
       "version_major": 2,
       "version_minor": 0
      },
      "text/plain": [
       "  0%|          | 0/100 [00:00<?, ?it/s]"
      ]
     },
     "metadata": {},
     "output_type": "display_data"
    },
    {
     "data": {
      "application/vnd.jupyter.widget-view+json": {
       "model_id": "fa8759081d4948b183829b0c564a9afa",
       "version_major": 2,
       "version_minor": 0
      },
      "text/plain": [
       "  0%|          | 0/100 [00:00<?, ?it/s]"
      ]
     },
     "metadata": {},
     "output_type": "display_data"
    },
    {
     "data": {
      "application/vnd.jupyter.widget-view+json": {
       "model_id": "bb3567595db544f0a2a557965511425d",
       "version_major": 2,
       "version_minor": 0
      },
      "text/plain": [
       "  0%|          | 0/100 [00:00<?, ?it/s]"
      ]
     },
     "metadata": {},
     "output_type": "display_data"
    },
    {
     "data": {
      "application/vnd.jupyter.widget-view+json": {
       "model_id": "17e2528ae77f442ab11f11354721873e",
       "version_major": 2,
       "version_minor": 0
      },
      "text/plain": [
       "  0%|          | 0/100 [00:00<?, ?it/s]"
      ]
     },
     "metadata": {},
     "output_type": "display_data"
    },
    {
     "data": {
      "application/vnd.jupyter.widget-view+json": {
       "model_id": "ea0996f4c7ad4d25becba6139868b908",
       "version_major": 2,
       "version_minor": 0
      },
      "text/plain": [
       "  0%|          | 0/5 [00:00<?, ?it/s]"
      ]
     },
     "metadata": {},
     "output_type": "display_data"
    },
    {
     "data": {
      "application/vnd.jupyter.widget-view+json": {
       "model_id": "3ad79feaccd447739b619edda05d21ed",
       "version_major": 2,
       "version_minor": 0
      },
      "text/plain": [
       "  0%|          | 0/100 [00:00<?, ?it/s]"
      ]
     },
     "metadata": {},
     "output_type": "display_data"
    },
    {
     "data": {
      "application/vnd.jupyter.widget-view+json": {
       "model_id": "2fff4e0943804c5baa000ebd79319503",
       "version_major": 2,
       "version_minor": 0
      },
      "text/plain": [
       "  0%|          | 0/100 [00:00<?, ?it/s]"
      ]
     },
     "metadata": {},
     "output_type": "display_data"
    },
    {
     "data": {
      "application/vnd.jupyter.widget-view+json": {
       "model_id": "242e04a527294d70aca3d99b93d4c45a",
       "version_major": 2,
       "version_minor": 0
      },
      "text/plain": [
       "  0%|          | 0/100 [00:00<?, ?it/s]"
      ]
     },
     "metadata": {},
     "output_type": "display_data"
    },
    {
     "data": {
      "application/vnd.jupyter.widget-view+json": {
       "model_id": "e5032cfdabd841649c562bbaf1bd7073",
       "version_major": 2,
       "version_minor": 0
      },
      "text/plain": [
       "  0%|          | 0/100 [00:00<?, ?it/s]"
      ]
     },
     "metadata": {},
     "output_type": "display_data"
    },
    {
     "data": {
      "application/vnd.jupyter.widget-view+json": {
       "model_id": "0fe7c3ba9e574b12bc35fe89cc0bec81",
       "version_major": 2,
       "version_minor": 0
      },
      "text/plain": [
       "  0%|          | 0/100 [00:00<?, ?it/s]"
      ]
     },
     "metadata": {},
     "output_type": "display_data"
    },
    {
     "data": {
      "application/vnd.jupyter.widget-view+json": {
       "model_id": "c2a0747274094c31ad7d29e660eb1f7b",
       "version_major": 2,
       "version_minor": 0
      },
      "text/plain": [
       "  0%|          | 0/5 [00:00<?, ?it/s]"
      ]
     },
     "metadata": {},
     "output_type": "display_data"
    },
    {
     "data": {
      "application/vnd.jupyter.widget-view+json": {
       "model_id": "213863ff3cd44328a8738844841f1fc4",
       "version_major": 2,
       "version_minor": 0
      },
      "text/plain": [
       "  0%|          | 0/100 [00:00<?, ?it/s]"
      ]
     },
     "metadata": {},
     "output_type": "display_data"
    },
    {
     "data": {
      "application/vnd.jupyter.widget-view+json": {
       "model_id": "0725cf964a9047409860706c0afb9885",
       "version_major": 2,
       "version_minor": 0
      },
      "text/plain": [
       "  0%|          | 0/100 [00:00<?, ?it/s]"
      ]
     },
     "metadata": {},
     "output_type": "display_data"
    },
    {
     "data": {
      "application/vnd.jupyter.widget-view+json": {
       "model_id": "85697a41fbd64ed49382b7be8e63bc86",
       "version_major": 2,
       "version_minor": 0
      },
      "text/plain": [
       "  0%|          | 0/100 [00:00<?, ?it/s]"
      ]
     },
     "metadata": {},
     "output_type": "display_data"
    },
    {
     "data": {
      "application/vnd.jupyter.widget-view+json": {
       "model_id": "83ce075d448d4b719714f34d84edcdf0",
       "version_major": 2,
       "version_minor": 0
      },
      "text/plain": [
       "  0%|          | 0/100 [00:00<?, ?it/s]"
      ]
     },
     "metadata": {},
     "output_type": "display_data"
    },
    {
     "data": {
      "application/vnd.jupyter.widget-view+json": {
       "model_id": "fdf28f49540e461ebf10a63f5adabcf1",
       "version_major": 2,
       "version_minor": 0
      },
      "text/plain": [
       "  0%|          | 0/100 [00:00<?, ?it/s]"
      ]
     },
     "metadata": {},
     "output_type": "display_data"
    }
   ],
   "source": [
    "exp.run_sweep2(\n",
    "    parameter1='wsls_strength',\n",
    "    values1=[0, 0.4, 0.8, 1.2, 1.6],\n",
    "    parameter2='heuristic_strength',\n",
    "    values2=[0, 0.25, 0.5, 0.75, 1],\n",
    "    file=image_folder / 'sweep_go_drive_vs_inverse_temperature'\n",
    ")"
   ]
  },
  {
   "cell_type": "code",
   "execution_count": 18,
   "metadata": {},
   "outputs": [],
   "source": [
    "from Utils.plot_utils import PlotStandardMeasures\n",
    "\n",
    "p = PlotStandardMeasures(exp.data)"
   ]
  },
  {
   "cell_type": "code",
   "execution_count": 19,
   "metadata": {},
   "outputs": [
    {
     "name": "stdout",
     "output_type": "stream",
     "text": [
      "Plot saved to ../images/WSLS/M3/sweep_wsls_strength_vs_inverse_temperature_efficiency\n"
     ]
    }
   ],
   "source": [
    "p.plot_sweep2(\n",
    "    parameter1='wsls_strength',\n",
    "    parameter2='heuristic_strength',\n",
    "    measure='efficiency',\n",
    "    file=image_folder / 'sweep_wsls_strength_vs_inverse_temperature_efficiency'\n",
    ")"
   ]
  },
  {
   "cell_type": "code",
   "execution_count": 20,
   "metadata": {},
   "outputs": [
    {
     "name": "stdout",
     "output_type": "stream",
     "text": [
      "Plot saved to ../images/WSLS/M3/sweep_wsls_strength_vs_inverse_temperature_alternation\n"
     ]
    }
   ],
   "source": [
    "p.plot_sweep2(\n",
    "    parameter1='wsls_strength',\n",
    "    parameter2='heuristic_strength',\n",
    "    measure='alternation_index',\n",
    "    file=image_folder / 'sweep_wsls_strength_vs_inverse_temperature_alternation'\n",
    ")"
   ]
  },
  {
   "cell_type": "code",
   "execution_count": 21,
   "metadata": {},
   "outputs": [
    {
     "name": "stdout",
     "output_type": "stream",
     "text": [
      "Seeds chosen for simple simulation: [11, 9, 14, 71]\n"
     ]
    },
    {
     "data": {
      "application/vnd.jupyter.widget-view+json": {
       "model_id": "e05c990e870d4bbfac601406ac9027b5",
       "version_major": 2,
       "version_minor": 0
      },
      "text/plain": [
       "Running seeds...:   0%|          | 0/4 [00:00<?, ?it/s]"
      ]
     },
     "metadata": {},
     "output_type": "display_data"
    },
    {
     "data": {
      "application/vnd.jupyter.widget-view+json": {
       "model_id": "6a74896610484e74886a2a2518a90e83",
       "version_major": 2,
       "version_minor": 0
      },
      "text/plain": [
       "  0%|          | 0/1 [00:00<?, ?it/s]"
      ]
     },
     "metadata": {},
     "output_type": "display_data"
    },
    {
     "data": {
      "application/vnd.jupyter.widget-view+json": {
       "model_id": "65e701c74650428db7bbf3906060ee16",
       "version_major": 2,
       "version_minor": 0
      },
      "text/plain": [
       "  0%|          | 0/1 [00:00<?, ?it/s]"
      ]
     },
     "metadata": {},
     "output_type": "display_data"
    },
    {
     "data": {
      "application/vnd.jupyter.widget-view+json": {
       "model_id": "ce491b8956ee47b8924887700e5b0a97",
       "version_major": 2,
       "version_minor": 0
      },
      "text/plain": [
       "  0%|          | 0/1 [00:00<?, ?it/s]"
      ]
     },
     "metadata": {},
     "output_type": "display_data"
    },
    {
     "data": {
      "application/vnd.jupyter.widget-view+json": {
       "model_id": "4bb55f3c7ed349b48cc5c9364d7dcdeb",
       "version_major": 2,
       "version_minor": 0
      },
      "text/plain": [
       "  0%|          | 0/1 [00:00<?, ?it/s]"
      ]
     },
     "metadata": {},
     "output_type": "display_data"
    }
   ],
   "source": [
    "from Utils.interaction import Performer\n",
    "\n",
    "LaTeX_string = Performer.simple_run(\n",
    "    agent_class=MODEL,\n",
    "    fixed_parameters=fixed_parameters,\n",
    "    free_parameters=free_parameters,\n",
    "    simulation_parameters=simulation_parameters,\n",
    "    image_folder=image_folder,\n",
    "    measures=['render']\n",
    ")"
   ]
  }
 ],
 "metadata": {
  "kernelspec": {
   "display_name": "venv_repositorios",
   "language": "python",
   "name": "python3"
  },
  "language_info": {
   "codemirror_mode": {
    "name": "ipython",
    "version": 3
   },
   "file_extension": ".py",
   "mimetype": "text/x-python",
   "name": "python",
   "nbconvert_exporter": "python",
   "pygments_lexer": "ipython3",
   "version": "3.12.8"
  }
 },
 "nbformat": 4,
 "nbformat_minor": 2
}
