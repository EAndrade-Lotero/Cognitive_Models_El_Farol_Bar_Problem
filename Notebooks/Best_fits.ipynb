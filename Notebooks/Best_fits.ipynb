{
 "cells": [
  {
   "cell_type": "code",
   "execution_count": 1,
   "metadata": {},
   "outputs": [],
   "source": [
    "import sys\n",
    "sys.path.append(\"../src\")\n",
    "\n",
    "import warnings\n",
    "warnings.filterwarnings(\"ignore\")\n",
    "\n",
    "from pprint import PrettyPrinter\n",
    "# Configure pretty printer\n",
    "pp = PrettyPrinter(compact=True)\n",
    "print_ = lambda x: pp.pprint(x)"
   ]
  },
  {
   "cell_type": "code",
   "execution_count": 2,
   "metadata": {},
   "outputs": [],
   "source": [
    "import json\n",
    "import random\n",
    "import numpy as np\n",
    "import pandas as pd\n",
    "import seaborn as sns\n",
    "\n",
    "from pathlib import Path\n",
    "\n",
    "from Utils.utils import PPT\n",
    "from Config.config import PATHS\n",
    "from Utils.utils import GetMeasurements\n",
    "from Utils.interaction import Performer\n",
    "from Utils.indices import AlternationIndex\n",
    "from Utils.plot_utils import PlotVSMeasures\n",
    "from Classes.cognitive_model_agents import (\n",
    "    AttendanceM2, AttendanceM3, \n",
    "    MFPM2\n",
    ")\n",
    "\n"
   ]
  },
  {
   "cell_type": "markdown",
   "metadata": {},
   "source": [
    "## 2 Players"
   ]
  },
  {
   "cell_type": "markdown",
   "metadata": {},
   "source": [
    "### Show AIC"
   ]
  },
  {
   "cell_type": "code",
   "execution_count": 3,
   "metadata": {},
   "outputs": [
    {
     "data": {
      "text/html": [
       "<div>\n",
       "<style scoped>\n",
       "    .dataframe tbody tr th:only-of-type {\n",
       "        vertical-align: middle;\n",
       "    }\n",
       "\n",
       "    .dataframe tbody tr th {\n",
       "        vertical-align: top;\n",
       "    }\n",
       "\n",
       "    .dataframe thead th {\n",
       "        text-align: right;\n",
       "    }\n",
       "</style>\n",
       "<table border=\"1\" class=\"dataframe\">\n",
       "  <thead>\n",
       "    <tr style=\"text-align: right;\">\n",
       "      <th></th>\n",
       "      <th>deviance</th>\n",
       "      <th>AIC</th>\n",
       "      <th>AIC_diff</th>\n",
       "    </tr>\n",
       "    <tr>\n",
       "      <th>model_name</th>\n",
       "      <th></th>\n",
       "      <th></th>\n",
       "      <th></th>\n",
       "    </tr>\n",
       "  </thead>\n",
       "  <tbody>\n",
       "    <tr>\n",
       "      <th>FRA+Payoff+Attendance</th>\n",
       "      <td>2223</td>\n",
       "      <td>4458</td>\n",
       "      <td>0</td>\n",
       "    </tr>\n",
       "    <tr>\n",
       "      <th>Attendance-M2</th>\n",
       "      <td>2253</td>\n",
       "      <td>4512</td>\n",
       "      <td>54</td>\n",
       "    </tr>\n",
       "    <tr>\n",
       "      <th>Attendance-M3</th>\n",
       "      <td>2253</td>\n",
       "      <td>4512</td>\n",
       "      <td>54</td>\n",
       "    </tr>\n",
       "    <tr>\n",
       "      <th>MFP-M2</th>\n",
       "      <td>2560</td>\n",
       "      <td>5125</td>\n",
       "      <td>667</td>\n",
       "    </tr>\n",
       "    <tr>\n",
       "      <th>MFP-M3</th>\n",
       "      <td>2560</td>\n",
       "      <td>5125</td>\n",
       "      <td>667</td>\n",
       "    </tr>\n",
       "    <tr>\n",
       "      <th>AvailableSpace-M2</th>\n",
       "      <td>2566</td>\n",
       "      <td>5138</td>\n",
       "      <td>680</td>\n",
       "    </tr>\n",
       "    <tr>\n",
       "      <th>AvailableSpace-M3</th>\n",
       "      <td>2566</td>\n",
       "      <td>5138</td>\n",
       "      <td>680</td>\n",
       "    </tr>\n",
       "    <tr>\n",
       "      <th>FRA</th>\n",
       "      <td>2716</td>\n",
       "      <td>5439</td>\n",
       "      <td>981</td>\n",
       "    </tr>\n",
       "    <tr>\n",
       "      <th>Fairness-M2</th>\n",
       "      <td>2791</td>\n",
       "      <td>5589</td>\n",
       "      <td>1131</td>\n",
       "    </tr>\n",
       "    <tr>\n",
       "      <th>Fairness-M3</th>\n",
       "      <td>2791</td>\n",
       "      <td>5589</td>\n",
       "      <td>1131</td>\n",
       "    </tr>\n",
       "    <tr>\n",
       "      <th>Payoff-M2</th>\n",
       "      <td>2796</td>\n",
       "      <td>5597</td>\n",
       "      <td>1139</td>\n",
       "    </tr>\n",
       "    <tr>\n",
       "      <th>Payoff-M3</th>\n",
       "      <td>2796</td>\n",
       "      <td>5597</td>\n",
       "      <td>1139</td>\n",
       "    </tr>\n",
       "    <tr>\n",
       "      <th>WSLS-M2</th>\n",
       "      <td>2918</td>\n",
       "      <td>5843</td>\n",
       "      <td>1385</td>\n",
       "    </tr>\n",
       "    <tr>\n",
       "      <th>WSLS-M3</th>\n",
       "      <td>2918</td>\n",
       "      <td>5843</td>\n",
       "      <td>1385</td>\n",
       "    </tr>\n",
       "    <tr>\n",
       "      <th>Priors-M3</th>\n",
       "      <td>2968</td>\n",
       "      <td>5954</td>\n",
       "      <td>1496</td>\n",
       "    </tr>\n",
       "    <tr>\n",
       "      <th>Priors-M2</th>\n",
       "      <td>2968</td>\n",
       "      <td>5962</td>\n",
       "      <td>1504</td>\n",
       "    </tr>\n",
       "    <tr>\n",
       "      <th>Attendance-M1</th>\n",
       "      <td>3062</td>\n",
       "      <td>6130</td>\n",
       "      <td>1672</td>\n",
       "    </tr>\n",
       "    <tr>\n",
       "      <th>Priors-M1</th>\n",
       "      <td>3133</td>\n",
       "      <td>6272</td>\n",
       "      <td>1814</td>\n",
       "    </tr>\n",
       "    <tr>\n",
       "      <th>AvailableSpace-M1</th>\n",
       "      <td>3164</td>\n",
       "      <td>6335</td>\n",
       "      <td>1877</td>\n",
       "    </tr>\n",
       "    <tr>\n",
       "      <th>MFP-M1</th>\n",
       "      <td>3166</td>\n",
       "      <td>6336</td>\n",
       "      <td>1878</td>\n",
       "    </tr>\n",
       "    <tr>\n",
       "      <th>Payoff-M1</th>\n",
       "      <td>3177</td>\n",
       "      <td>6358</td>\n",
       "      <td>1900</td>\n",
       "    </tr>\n",
       "    <tr>\n",
       "      <th>WSLS-M1</th>\n",
       "      <td>3182</td>\n",
       "      <td>6371</td>\n",
       "      <td>1913</td>\n",
       "    </tr>\n",
       "    <tr>\n",
       "      <th>Fairness-M1</th>\n",
       "      <td>3188</td>\n",
       "      <td>6382</td>\n",
       "      <td>1924</td>\n",
       "    </tr>\n",
       "  </tbody>\n",
       "</table>\n",
       "</div>"
      ],
      "text/plain": [
       "                       deviance   AIC  AIC_diff\n",
       "model_name                                     \n",
       "FRA+Payoff+Attendance      2223  4458         0\n",
       "Attendance-M2              2253  4512        54\n",
       "Attendance-M3              2253  4512        54\n",
       "MFP-M2                     2560  5125       667\n",
       "MFP-M3                     2560  5125       667\n",
       "AvailableSpace-M2          2566  5138       680\n",
       "AvailableSpace-M3          2566  5138       680\n",
       "FRA                        2716  5439       981\n",
       "Fairness-M2                2791  5589      1131\n",
       "Fairness-M3                2791  5589      1131\n",
       "Payoff-M2                  2796  5597      1139\n",
       "Payoff-M3                  2796  5597      1139\n",
       "WSLS-M2                    2918  5843      1385\n",
       "WSLS-M3                    2918  5843      1385\n",
       "Priors-M3                  2968  5954      1496\n",
       "Priors-M2                  2968  5962      1504\n",
       "Attendance-M1              3062  6130      1672\n",
       "Priors-M1                  3133  6272      1814\n",
       "AvailableSpace-M1          3164  6335      1877\n",
       "MFP-M1                     3166  6336      1878\n",
       "Payoff-M1                  3177  6358      1900\n",
       "WSLS-M1                    3182  6371      1913\n",
       "Fairness-M1                3188  6382      1924"
      ]
     },
     "execution_count": 3,
     "metadata": {},
     "output_type": "execute_result"
    }
   ],
   "source": [
    "file_2PL = PATHS['parameter_fit_results'] / Path('best_fit_2P.json')\n",
    "df_2P = pd.read_json(file_2PL, lines=True)\n",
    "df_2P.index = df_2P.model_name\n",
    "df_parameters_2P = df_2P[['model_name', 'free_parameters']]\n",
    "df_2P.drop(columns=['model', 'model_name', 'free_parameters', 'fixed_parameters'], inplace=True)\n",
    "df_2P.sort_values(by='AIC', inplace=True)\n",
    "# df_2P.sort_values(by='model_name', inplace=True)\n",
    "df_2P['deviance'] = df_2P['deviance'].apply(lambda x: int(-x))\n",
    "df_2P['AIC'] = df_2P['AIC'].apply(lambda x: int(x))\n",
    "df_2P['AIC_diff'] = df_2P['AIC'] - df_2P['AIC'].min()\n",
    "df_2P"
   ]
  },
  {
   "cell_type": "code",
   "execution_count": 4,
   "metadata": {},
   "outputs": [
    {
     "name": "stdout",
     "output_type": "stream",
     "text": [
      "\\begin{tabular}{lrrr}\n",
      "\\toprule\n",
      " & deviance & AIC & AIC_diff \\\\\n",
      "model_name &  &  &  \\\\\n",
      "\\midrule\n",
      "FRA+Payoff+Attendance & 2223 & 4458 & 0 \\\\\n",
      "Attendance-M2 & 2253 & 4512 & 54 \\\\\n",
      "Attendance-M3 & 2253 & 4512 & 54 \\\\\n",
      "MFP-M2 & 2560 & 5125 & 667 \\\\\n",
      "MFP-M3 & 2560 & 5125 & 667 \\\\\n",
      "AvailableSpace-M2 & 2566 & 5138 & 680 \\\\\n",
      "AvailableSpace-M3 & 2566 & 5138 & 680 \\\\\n",
      "FRA & 2716 & 5439 & 981 \\\\\n",
      "Fairness-M2 & 2791 & 5589 & 1131 \\\\\n",
      "Fairness-M3 & 2791 & 5589 & 1131 \\\\\n",
      "Payoff-M2 & 2796 & 5597 & 1139 \\\\\n",
      "Payoff-M3 & 2796 & 5597 & 1139 \\\\\n",
      "WSLS-M2 & 2918 & 5843 & 1385 \\\\\n",
      "WSLS-M3 & 2918 & 5843 & 1385 \\\\\n",
      "Priors-M3 & 2968 & 5954 & 1496 \\\\\n",
      "Priors-M2 & 2968 & 5962 & 1504 \\\\\n",
      "Attendance-M1 & 3062 & 6130 & 1672 \\\\\n",
      "Priors-M1 & 3133 & 6272 & 1814 \\\\\n",
      "AvailableSpace-M1 & 3164 & 6335 & 1877 \\\\\n",
      "MFP-M1 & 3166 & 6336 & 1878 \\\\\n",
      "Payoff-M1 & 3177 & 6358 & 1900 \\\\\n",
      "WSLS-M1 & 3182 & 6371 & 1913 \\\\\n",
      "Fairness-M1 & 3188 & 6382 & 1924 \\\\\n",
      "\\bottomrule\n",
      "\\end{tabular}\n",
      "\n"
     ]
    }
   ],
   "source": [
    "latex_string = df_2P.to_latex()\n",
    "print(latex_string)"
   ]
  },
  {
   "cell_type": "code",
   "execution_count": 4,
   "metadata": {},
   "outputs": [
    {
     "name": "stdout",
     "output_type": "stream",
     "text": [
      "------------------------------------------------------------\n",
      "Payoff-M2\n",
      "{'inverse_temperature': 6.3577853163, 'learning_rate': 0.0390547832}\n",
      "------------------------------------------------------------\n",
      "Attendance-M2\n",
      "{'inverse_temperature': 6.154017841, 'learning_rate': 0.20037471880000002, 'bias': 0.7566579015}\n",
      "------------------------------------------------------------\n",
      "Fairness-M2\n",
      "{'inverse_temperature': 3.4313704595, 'learning_rate': 0.0958919596, 'bias': 0.0}\n"
     ]
    }
   ],
   "source": [
    "from Utils.LaTeX_utils import PrintLaTeX\n",
    "\n",
    "latex_string_parameters = ''\n",
    "\n",
    "for model, row in df_parameters_2P.iterrows():\n",
    "    if model in ['Attendance-M2', 'Fairness-M2', 'Payoff-M2']:\n",
    "        parameters = row['free_parameters']\n",
    "        print('-'*60)\n",
    "        print(model)\n",
    "        print(parameters)\n",
    "        # latex_string_parameters += r'\\textbf\\{' + model + '\\}\\n'\n",
    "        # latex_string_parameters += PrintLaTeX.print_parameters(parameters)\n",
    "\n",
    "# print(latex_string_parameters)"
   ]
  },
  {
   "cell_type": "markdown",
   "metadata": {},
   "source": [
    "### Simulate best fit model"
   ]
  },
  {
   "cell_type": "code",
   "execution_count": 35,
   "metadata": {},
   "outputs": [],
   "source": [
    "from Classes.cognitive_model_agents import Titan\n",
    "\n",
    "\n",
    "def get_free_parameters(model_name, params_dict):\n",
    "    model_names = df_parameters_2P['model_name'].tolist()\n",
    "    idx = model_names.index(model_name)\n",
    "    return df_parameters_2P['free_parameters'][idx]\n",
    "\n",
    "# BEST_MODEL = MFPM2\n",
    "# BEST_MODEL = AttendanceM2\n",
    "BEST_MODEL = Titan\n",
    "\n",
    "fixed_parameters = {\n",
    "\t\"num_agents\":2,\n",
    "\t\"threshold\":0.5,\n",
    "}\n",
    "free_parameters = {\n",
    "    'inverse_temperature': 6, \n",
    "    'bias': 0.75, \n",
    "    'learning_rate': 0.2, \n",
    "    'len_history': 1, \n",
    "    'c': 0.7, \n",
    "    'delta': 0.02\n",
    "}\n",
    "simulation_parameters = {\n",
    "\t'num_rounds':50,\n",
    "\t'verbose':False\n",
    "}"
   ]
  },
  {
   "cell_type": "code",
   "execution_count": 38,
   "metadata": {},
   "outputs": [
    {
     "data": {
      "application/vnd.jupyter.widget-view+json": {
       "model_id": "f7deb004bfd44450ba229b042a091cf8",
       "version_major": 2,
       "version_minor": 0
      },
      "text/plain": [
       "Running seeds...:   0%|          | 0/23 [00:00<?, ?it/s]"
      ]
     },
     "metadata": {},
     "output_type": "display_data"
    },
    {
     "data": {
      "application/vnd.jupyter.widget-view+json": {
       "model_id": "4327d5f9ae2c4f1cb37db2a348116eac",
       "version_major": 2,
       "version_minor": 0
      },
      "text/plain": [
       "  0%|          | 0/1 [00:00<?, ?it/s]"
      ]
     },
     "metadata": {},
     "output_type": "display_data"
    },
    {
     "data": {
      "application/vnd.jupyter.widget-view+json": {
       "model_id": "fd0029a43ff740f7851ddfb40874f34a",
       "version_major": 2,
       "version_minor": 0
      },
      "text/plain": [
       "  0%|          | 0/1 [00:00<?, ?it/s]"
      ]
     },
     "metadata": {},
     "output_type": "display_data"
    },
    {
     "data": {
      "application/vnd.jupyter.widget-view+json": {
       "model_id": "9c0c40730c24459299ee7c6f6bd3b74a",
       "version_major": 2,
       "version_minor": 0
      },
      "text/plain": [
       "  0%|          | 0/1 [00:00<?, ?it/s]"
      ]
     },
     "metadata": {},
     "output_type": "display_data"
    },
    {
     "data": {
      "application/vnd.jupyter.widget-view+json": {
       "model_id": "110268bcbbd844ad89c8bc21522e6131",
       "version_major": 2,
       "version_minor": 0
      },
      "text/plain": [
       "  0%|          | 0/1 [00:00<?, ?it/s]"
      ]
     },
     "metadata": {},
     "output_type": "display_data"
    },
    {
     "data": {
      "application/vnd.jupyter.widget-view+json": {
       "model_id": "c99231afe56f41c5a853fc581fecc5ec",
       "version_major": 2,
       "version_minor": 0
      },
      "text/plain": [
       "  0%|          | 0/1 [00:00<?, ?it/s]"
      ]
     },
     "metadata": {},
     "output_type": "display_data"
    },
    {
     "data": {
      "application/vnd.jupyter.widget-view+json": {
       "model_id": "164c01b78c044b8984b77a09da04a8cf",
       "version_major": 2,
       "version_minor": 0
      },
      "text/plain": [
       "  0%|          | 0/1 [00:00<?, ?it/s]"
      ]
     },
     "metadata": {},
     "output_type": "display_data"
    },
    {
     "data": {
      "application/vnd.jupyter.widget-view+json": {
       "model_id": "308b08f7733446d094821561e422b1f8",
       "version_major": 2,
       "version_minor": 0
      },
      "text/plain": [
       "  0%|          | 0/1 [00:00<?, ?it/s]"
      ]
     },
     "metadata": {},
     "output_type": "display_data"
    },
    {
     "data": {
      "application/vnd.jupyter.widget-view+json": {
       "model_id": "31df6e6185bf40e9a60a51773f0e70a1",
       "version_major": 2,
       "version_minor": 0
      },
      "text/plain": [
       "  0%|          | 0/1 [00:00<?, ?it/s]"
      ]
     },
     "metadata": {},
     "output_type": "display_data"
    },
    {
     "data": {
      "application/vnd.jupyter.widget-view+json": {
       "model_id": "71126ac1716e42098cd5f9a926b8d66c",
       "version_major": 2,
       "version_minor": 0
      },
      "text/plain": [
       "  0%|          | 0/1 [00:00<?, ?it/s]"
      ]
     },
     "metadata": {},
     "output_type": "display_data"
    },
    {
     "data": {
      "application/vnd.jupyter.widget-view+json": {
       "model_id": "f8b6e86c1ccc47b4b192a1df6ad89ad9",
       "version_major": 2,
       "version_minor": 0
      },
      "text/plain": [
       "  0%|          | 0/1 [00:00<?, ?it/s]"
      ]
     },
     "metadata": {},
     "output_type": "display_data"
    },
    {
     "data": {
      "application/vnd.jupyter.widget-view+json": {
       "model_id": "94bd0340ba104f718709fb9f1e961d75",
       "version_major": 2,
       "version_minor": 0
      },
      "text/plain": [
       "  0%|          | 0/1 [00:00<?, ?it/s]"
      ]
     },
     "metadata": {},
     "output_type": "display_data"
    },
    {
     "data": {
      "application/vnd.jupyter.widget-view+json": {
       "model_id": "d61be0cee36f408f8f5a65a62a6270df",
       "version_major": 2,
       "version_minor": 0
      },
      "text/plain": [
       "  0%|          | 0/1 [00:00<?, ?it/s]"
      ]
     },
     "metadata": {},
     "output_type": "display_data"
    },
    {
     "data": {
      "application/vnd.jupyter.widget-view+json": {
       "model_id": "ecab7a49072f4f028941d20e442b74b4",
       "version_major": 2,
       "version_minor": 0
      },
      "text/plain": [
       "  0%|          | 0/1 [00:00<?, ?it/s]"
      ]
     },
     "metadata": {},
     "output_type": "display_data"
    },
    {
     "data": {
      "application/vnd.jupyter.widget-view+json": {
       "model_id": "b7a9fa9d9881465dbabe8cfab9a36bd3",
       "version_major": 2,
       "version_minor": 0
      },
      "text/plain": [
       "  0%|          | 0/1 [00:00<?, ?it/s]"
      ]
     },
     "metadata": {},
     "output_type": "display_data"
    },
    {
     "data": {
      "application/vnd.jupyter.widget-view+json": {
       "model_id": "86d79176efa74c568a4cf0eb96ae6f82",
       "version_major": 2,
       "version_minor": 0
      },
      "text/plain": [
       "  0%|          | 0/1 [00:00<?, ?it/s]"
      ]
     },
     "metadata": {},
     "output_type": "display_data"
    },
    {
     "data": {
      "application/vnd.jupyter.widget-view+json": {
       "model_id": "74cf8059ff1442fe9b5d6656be3c3a3d",
       "version_major": 2,
       "version_minor": 0
      },
      "text/plain": [
       "  0%|          | 0/1 [00:00<?, ?it/s]"
      ]
     },
     "metadata": {},
     "output_type": "display_data"
    },
    {
     "data": {
      "application/vnd.jupyter.widget-view+json": {
       "model_id": "4163551a4db24d91a13dfbd6a8d0cd8f",
       "version_major": 2,
       "version_minor": 0
      },
      "text/plain": [
       "  0%|          | 0/1 [00:00<?, ?it/s]"
      ]
     },
     "metadata": {},
     "output_type": "display_data"
    },
    {
     "data": {
      "application/vnd.jupyter.widget-view+json": {
       "model_id": "afdad3ccc8b44ad198ef5e10eef0ab86",
       "version_major": 2,
       "version_minor": 0
      },
      "text/plain": [
       "  0%|          | 0/1 [00:00<?, ?it/s]"
      ]
     },
     "metadata": {},
     "output_type": "display_data"
    },
    {
     "data": {
      "application/vnd.jupyter.widget-view+json": {
       "model_id": "139ca5adf7b0405d9b426558a66181c0",
       "version_major": 2,
       "version_minor": 0
      },
      "text/plain": [
       "  0%|          | 0/1 [00:00<?, ?it/s]"
      ]
     },
     "metadata": {},
     "output_type": "display_data"
    },
    {
     "data": {
      "application/vnd.jupyter.widget-view+json": {
       "model_id": "5aca304eca5b43d2b6a83e9c01b189b5",
       "version_major": 2,
       "version_minor": 0
      },
      "text/plain": [
       "  0%|          | 0/1 [00:00<?, ?it/s]"
      ]
     },
     "metadata": {},
     "output_type": "display_data"
    },
    {
     "data": {
      "application/vnd.jupyter.widget-view+json": {
       "model_id": "7a7f21731aa741d3b2923fe2a4c1410d",
       "version_major": 2,
       "version_minor": 0
      },
      "text/plain": [
       "  0%|          | 0/1 [00:00<?, ?it/s]"
      ]
     },
     "metadata": {},
     "output_type": "display_data"
    },
    {
     "data": {
      "application/vnd.jupyter.widget-view+json": {
       "model_id": "b4aa1bdfc6b941238ce7003f320aa68b",
       "version_major": 2,
       "version_minor": 0
      },
      "text/plain": [
       "  0%|          | 0/1 [00:00<?, ?it/s]"
      ]
     },
     "metadata": {},
     "output_type": "display_data"
    },
    {
     "data": {
      "application/vnd.jupyter.widget-view+json": {
       "model_id": "b41c07ad041a488eb3573a5ccad4b922",
       "version_major": 2,
       "version_minor": 0
      },
      "text/plain": [
       "  0%|          | 0/1 [00:00<?, ?it/s]"
      ]
     },
     "metadata": {},
     "output_type": "display_data"
    },
    {
     "name": "stdout",
     "output_type": "stream",
     "text": [
      "Data saved to /Users/edgar/Documents/GitHub/Cognitive_Models_El_Farol_Bar_Problem/data/simulated/FRA+Payoff+Attendance.csv\n"
     ]
    }
   ],
   "source": [
    "data_folder = PATHS['simulated_data']\n",
    "num_episodes = 23 # same as human groups\n",
    "random.seed(2)\n",
    "seeds = [random.randint(0, 1000) for _ in range(num_episodes)]\n",
    "\n",
    "Performer.simple_run(\n",
    "    agent_class=BEST_MODEL,\n",
    "    fixed_parameters=fixed_parameters,\n",
    "    free_parameters=free_parameters,\n",
    "    simulation_parameters=simulation_parameters,\n",
    "    measures=[],\n",
    "    data_folder=data_folder,\n",
    "    new_file=False,\n",
    "    seeds=seeds\n",
    ")\n"
   ]
  },
  {
   "cell_type": "markdown",
   "metadata": {},
   "source": [
    "### Comparing with human data"
   ]
  },
  {
   "cell_type": "code",
   "execution_count": 39,
   "metadata": {},
   "outputs": [
    {
     "data": {
      "text/plain": [
       "<Axes: xlabel='inequality', ylabel='efficiency'>"
      ]
     },
     "execution_count": 39,
     "metadata": {},
     "output_type": "execute_result"
    },
    {
     "data": {
      "image/png": "[encoded data removed]",
      "text/plain": [
       "<Figure size 640x480 with 1 Axes>"
      ]
     },
     "metadata": {},
     "output_type": "display_data"
    }
   ],
   "source": [
    "#Load 2P data\n",
    "file_name = PATHS['human_data'] / '2-player-UR.csv'\n",
    "data_human = pd.read_csv(file_name)\n",
    "data_human['model'] = 'human'\n",
    "\n",
    "\n",
    "file1 = PATHS['simulated_data'] / Path(f'{Titan.name()}.csv')\n",
    "data_sim1 = pd.read_csv(file1)\n",
    "data_sim1['model'] = Titan.name()\n",
    "\n",
    "df = PPT.concat_dfs(data_human, data_sim1)\n",
    "\n",
    "# Calculate alternation index per group\n",
    "gm = GetMeasurements(\n",
    "    data=df,\n",
    "    measures=['efficiency', 'bounded_efficiency', 'inequality'],\n",
    "    T=np.inf\n",
    ")\n",
    "df = gm.get_measurements()\n",
    "\n",
    "alt_index = AlternationIndex.from_file(priority='sklearn')\n",
    "df['alternation_index'] = alt_index(df)\n",
    "\n",
    "image_file = PATHS['parameter_fit_results'] / 'two_way_comparisons_both.png'\n",
    "\n",
    "df_jitter = df.copy()\n",
    "df_jitter['efficiency'] = df['efficiency'] + np.random.normal(0, 0.01, len(df_jitter['efficiency']))\n",
    "df_jitter['inequality'] = df['inequality'] + np.random.normal(0, 0.01, len(df_jitter['inequality']))\n",
    "\n",
    "sns.scatterplot(\n",
    "    x='inequality', y='efficiency',\n",
    "    hue='model',style='model',\n",
    "    data=df_jitter\n",
    ")"
   ]
  },
  {
   "cell_type": "code",
   "execution_count": 34,
   "metadata": {},
   "outputs": [
    {
     "data": {
      "text/plain": [
       "[0, 1, 2, 0, 1, 2, 0, 1, 2, 0]"
      ]
     },
     "execution_count": 34,
     "metadata": {},
     "output_type": "execute_result"
    }
   ],
   "source": [
    "[i % 3 for i in range(10)]"
   ]
  },
  {
   "cell_type": "code",
   "execution_count": 12,
   "metadata": {},
   "outputs": [
    {
     "ename": "FileNotFoundError",
     "evalue": "[Errno 2] No such file or directory: '/Users/edgar/Documents/GitHub/Cognitive_Models_El_Farol_Bar_Problem/data/simulated/Attendance-M2.csv'",
     "output_type": "error",
     "traceback": [
      "\u001b[31m---------------------------------------------------------------------------\u001b[39m",
      "\u001b[31mFileNotFoundError\u001b[39m                         Traceback (most recent call last)",
      "\u001b[36mCell\u001b[39m\u001b[36m \u001b[39m\u001b[32mIn[12]\u001b[39m\u001b[32m, line 5\u001b[39m\n\u001b[32m      3\u001b[39m data_sim1[\u001b[33m'\u001b[39m\u001b[33mmodel\u001b[39m\u001b[33m'\u001b[39m] = Titan.name()\n\u001b[32m      4\u001b[39m file2 = data_folder / Path(\u001b[33mf\u001b[39m\u001b[33m'\u001b[39m\u001b[38;5;132;01m{\u001b[39;00mAttendanceM2.name()\u001b[38;5;132;01m}\u001b[39;00m\u001b[33m.csv\u001b[39m\u001b[33m'\u001b[39m)\n\u001b[32m----> \u001b[39m\u001b[32m5\u001b[39m data_sim2 = \u001b[43mpd\u001b[49m\u001b[43m.\u001b[49m\u001b[43mread_csv\u001b[49m\u001b[43m(\u001b[49m\u001b[43mfile2\u001b[49m\u001b[43m)\u001b[49m\n\u001b[32m      6\u001b[39m data_sim2[\u001b[33m'\u001b[39m\u001b[33mmodel\u001b[39m\u001b[33m'\u001b[39m] = AttendanceM2.name()\n\u001b[32m      8\u001b[39m df = PPT.concat_dfs(data_human, data_sim1)\n",
      "\u001b[36mFile \u001b[39m\u001b[32m~/virtualenvs/venv-3.13/lib/python3.13/site-packages/pandas/io/parsers/readers.py:1026\u001b[39m, in \u001b[36mread_csv\u001b[39m\u001b[34m(filepath_or_buffer, sep, delimiter, header, names, index_col, usecols, dtype, engine, converters, true_values, false_values, skipinitialspace, skiprows, skipfooter, nrows, na_values, keep_default_na, na_filter, verbose, skip_blank_lines, parse_dates, infer_datetime_format, keep_date_col, date_parser, date_format, dayfirst, cache_dates, iterator, chunksize, compression, thousands, decimal, lineterminator, quotechar, quoting, doublequote, escapechar, comment, encoding, encoding_errors, dialect, on_bad_lines, delim_whitespace, low_memory, memory_map, float_precision, storage_options, dtype_backend)\u001b[39m\n\u001b[32m   1013\u001b[39m kwds_defaults = _refine_defaults_read(\n\u001b[32m   1014\u001b[39m     dialect,\n\u001b[32m   1015\u001b[39m     delimiter,\n\u001b[32m   (...)\u001b[39m\u001b[32m   1022\u001b[39m     dtype_backend=dtype_backend,\n\u001b[32m   1023\u001b[39m )\n\u001b[32m   1024\u001b[39m kwds.update(kwds_defaults)\n\u001b[32m-> \u001b[39m\u001b[32m1026\u001b[39m \u001b[38;5;28;01mreturn\u001b[39;00m \u001b[43m_read\u001b[49m\u001b[43m(\u001b[49m\u001b[43mfilepath_or_buffer\u001b[49m\u001b[43m,\u001b[49m\u001b[43m \u001b[49m\u001b[43mkwds\u001b[49m\u001b[43m)\u001b[49m\n",
      "\u001b[36mFile \u001b[39m\u001b[32m~/virtualenvs/venv-3.13/lib/python3.13/site-packages/pandas/io/parsers/readers.py:620\u001b[39m, in \u001b[36m_read\u001b[39m\u001b[34m(filepath_or_buffer, kwds)\u001b[39m\n\u001b[32m    617\u001b[39m _validate_names(kwds.get(\u001b[33m\"\u001b[39m\u001b[33mnames\u001b[39m\u001b[33m\"\u001b[39m, \u001b[38;5;28;01mNone\u001b[39;00m))\n\u001b[32m    619\u001b[39m \u001b[38;5;66;03m# Create the parser.\u001b[39;00m\n\u001b[32m--> \u001b[39m\u001b[32m620\u001b[39m parser = \u001b[43mTextFileReader\u001b[49m\u001b[43m(\u001b[49m\u001b[43mfilepath_or_buffer\u001b[49m\u001b[43m,\u001b[49m\u001b[43m \u001b[49m\u001b[43m*\u001b[49m\u001b[43m*\u001b[49m\u001b[43mkwds\u001b[49m\u001b[43m)\u001b[49m\n\u001b[32m    622\u001b[39m \u001b[38;5;28;01mif\u001b[39;00m chunksize \u001b[38;5;129;01mor\u001b[39;00m iterator:\n\u001b[32m    623\u001b[39m     \u001b[38;5;28;01mreturn\u001b[39;00m parser\n",
      "\u001b[36mFile \u001b[39m\u001b[32m~/virtualenvs/venv-3.13/lib/python3.13/site-packages/pandas/io/parsers/readers.py:1620\u001b[39m, in \u001b[36mTextFileReader.__init__\u001b[39m\u001b[34m(self, f, engine, **kwds)\u001b[39m\n\u001b[32m   1617\u001b[39m     \u001b[38;5;28mself\u001b[39m.options[\u001b[33m\"\u001b[39m\u001b[33mhas_index_names\u001b[39m\u001b[33m\"\u001b[39m] = kwds[\u001b[33m\"\u001b[39m\u001b[33mhas_index_names\u001b[39m\u001b[33m\"\u001b[39m]\n\u001b[32m   1619\u001b[39m \u001b[38;5;28mself\u001b[39m.handles: IOHandles | \u001b[38;5;28;01mNone\u001b[39;00m = \u001b[38;5;28;01mNone\u001b[39;00m\n\u001b[32m-> \u001b[39m\u001b[32m1620\u001b[39m \u001b[38;5;28mself\u001b[39m._engine = \u001b[38;5;28;43mself\u001b[39;49m\u001b[43m.\u001b[49m\u001b[43m_make_engine\u001b[49m\u001b[43m(\u001b[49m\u001b[43mf\u001b[49m\u001b[43m,\u001b[49m\u001b[43m \u001b[49m\u001b[38;5;28;43mself\u001b[39;49m\u001b[43m.\u001b[49m\u001b[43mengine\u001b[49m\u001b[43m)\u001b[49m\n",
      "\u001b[36mFile \u001b[39m\u001b[32m~/virtualenvs/venv-3.13/lib/python3.13/site-packages/pandas/io/parsers/readers.py:1880\u001b[39m, in \u001b[36mTextFileReader._make_engine\u001b[39m\u001b[34m(self, f, engine)\u001b[39m\n\u001b[32m   1878\u001b[39m     \u001b[38;5;28;01mif\u001b[39;00m \u001b[33m\"\u001b[39m\u001b[33mb\u001b[39m\u001b[33m\"\u001b[39m \u001b[38;5;129;01mnot\u001b[39;00m \u001b[38;5;129;01min\u001b[39;00m mode:\n\u001b[32m   1879\u001b[39m         mode += \u001b[33m\"\u001b[39m\u001b[33mb\u001b[39m\u001b[33m\"\u001b[39m\n\u001b[32m-> \u001b[39m\u001b[32m1880\u001b[39m \u001b[38;5;28mself\u001b[39m.handles = \u001b[43mget_handle\u001b[49m\u001b[43m(\u001b[49m\n\u001b[32m   1881\u001b[39m \u001b[43m    \u001b[49m\u001b[43mf\u001b[49m\u001b[43m,\u001b[49m\n\u001b[32m   1882\u001b[39m \u001b[43m    \u001b[49m\u001b[43mmode\u001b[49m\u001b[43m,\u001b[49m\n\u001b[32m   1883\u001b[39m \u001b[43m    \u001b[49m\u001b[43mencoding\u001b[49m\u001b[43m=\u001b[49m\u001b[38;5;28;43mself\u001b[39;49m\u001b[43m.\u001b[49m\u001b[43moptions\u001b[49m\u001b[43m.\u001b[49m\u001b[43mget\u001b[49m\u001b[43m(\u001b[49m\u001b[33;43m\"\u001b[39;49m\u001b[33;43mencoding\u001b[39;49m\u001b[33;43m\"\u001b[39;49m\u001b[43m,\u001b[49m\u001b[43m \u001b[49m\u001b[38;5;28;43;01mNone\u001b[39;49;00m\u001b[43m)\u001b[49m\u001b[43m,\u001b[49m\n\u001b[32m   1884\u001b[39m \u001b[43m    \u001b[49m\u001b[43mcompression\u001b[49m\u001b[43m=\u001b[49m\u001b[38;5;28;43mself\u001b[39;49m\u001b[43m.\u001b[49m\u001b[43moptions\u001b[49m\u001b[43m.\u001b[49m\u001b[43mget\u001b[49m\u001b[43m(\u001b[49m\u001b[33;43m\"\u001b[39;49m\u001b[33;43mcompression\u001b[39;49m\u001b[33;43m\"\u001b[39;49m\u001b[43m,\u001b[49m\u001b[43m \u001b[49m\u001b[38;5;28;43;01mNone\u001b[39;49;00m\u001b[43m)\u001b[49m\u001b[43m,\u001b[49m\n\u001b[32m   1885\u001b[39m \u001b[43m    \u001b[49m\u001b[43mmemory_map\u001b[49m\u001b[43m=\u001b[49m\u001b[38;5;28;43mself\u001b[39;49m\u001b[43m.\u001b[49m\u001b[43moptions\u001b[49m\u001b[43m.\u001b[49m\u001b[43mget\u001b[49m\u001b[43m(\u001b[49m\u001b[33;43m\"\u001b[39;49m\u001b[33;43mmemory_map\u001b[39;49m\u001b[33;43m\"\u001b[39;49m\u001b[43m,\u001b[49m\u001b[43m \u001b[49m\u001b[38;5;28;43;01mFalse\u001b[39;49;00m\u001b[43m)\u001b[49m\u001b[43m,\u001b[49m\n\u001b[32m   1886\u001b[39m \u001b[43m    \u001b[49m\u001b[43mis_text\u001b[49m\u001b[43m=\u001b[49m\u001b[43mis_text\u001b[49m\u001b[43m,\u001b[49m\n\u001b[32m   1887\u001b[39m \u001b[43m    \u001b[49m\u001b[43merrors\u001b[49m\u001b[43m=\u001b[49m\u001b[38;5;28;43mself\u001b[39;49m\u001b[43m.\u001b[49m\u001b[43moptions\u001b[49m\u001b[43m.\u001b[49m\u001b[43mget\u001b[49m\u001b[43m(\u001b[49m\u001b[33;43m\"\u001b[39;49m\u001b[33;43mencoding_errors\u001b[39;49m\u001b[33;43m\"\u001b[39;49m\u001b[43m,\u001b[49m\u001b[43m \u001b[49m\u001b[33;43m\"\u001b[39;49m\u001b[33;43mstrict\u001b[39;49m\u001b[33;43m\"\u001b[39;49m\u001b[43m)\u001b[49m\u001b[43m,\u001b[49m\n\u001b[32m   1888\u001b[39m \u001b[43m    \u001b[49m\u001b[43mstorage_options\u001b[49m\u001b[43m=\u001b[49m\u001b[38;5;28;43mself\u001b[39;49m\u001b[43m.\u001b[49m\u001b[43moptions\u001b[49m\u001b[43m.\u001b[49m\u001b[43mget\u001b[49m\u001b[43m(\u001b[49m\u001b[33;43m\"\u001b[39;49m\u001b[33;43mstorage_options\u001b[39;49m\u001b[33;43m\"\u001b[39;49m\u001b[43m,\u001b[49m\u001b[43m \u001b[49m\u001b[38;5;28;43;01mNone\u001b[39;49;00m\u001b[43m)\u001b[49m\u001b[43m,\u001b[49m\n\u001b[32m   1889\u001b[39m \u001b[43m\u001b[49m\u001b[43m)\u001b[49m\n\u001b[32m   1890\u001b[39m \u001b[38;5;28;01massert\u001b[39;00m \u001b[38;5;28mself\u001b[39m.handles \u001b[38;5;129;01mis\u001b[39;00m \u001b[38;5;129;01mnot\u001b[39;00m \u001b[38;5;28;01mNone\u001b[39;00m\n\u001b[32m   1891\u001b[39m f = \u001b[38;5;28mself\u001b[39m.handles.handle\n",
      "\u001b[36mFile \u001b[39m\u001b[32m~/virtualenvs/venv-3.13/lib/python3.13/site-packages/pandas/io/common.py:873\u001b[39m, in \u001b[36mget_handle\u001b[39m\u001b[34m(path_or_buf, mode, encoding, compression, memory_map, is_text, errors, storage_options)\u001b[39m\n\u001b[32m    868\u001b[39m \u001b[38;5;28;01melif\u001b[39;00m \u001b[38;5;28misinstance\u001b[39m(handle, \u001b[38;5;28mstr\u001b[39m):\n\u001b[32m    869\u001b[39m     \u001b[38;5;66;03m# Check whether the filename is to be opened in binary mode.\u001b[39;00m\n\u001b[32m    870\u001b[39m     \u001b[38;5;66;03m# Binary mode does not support 'encoding' and 'newline'.\u001b[39;00m\n\u001b[32m    871\u001b[39m     \u001b[38;5;28;01mif\u001b[39;00m ioargs.encoding \u001b[38;5;129;01mand\u001b[39;00m \u001b[33m\"\u001b[39m\u001b[33mb\u001b[39m\u001b[33m\"\u001b[39m \u001b[38;5;129;01mnot\u001b[39;00m \u001b[38;5;129;01min\u001b[39;00m ioargs.mode:\n\u001b[32m    872\u001b[39m         \u001b[38;5;66;03m# Encoding\u001b[39;00m\n\u001b[32m--> \u001b[39m\u001b[32m873\u001b[39m         handle = \u001b[38;5;28;43mopen\u001b[39;49m\u001b[43m(\u001b[49m\n\u001b[32m    874\u001b[39m \u001b[43m            \u001b[49m\u001b[43mhandle\u001b[49m\u001b[43m,\u001b[49m\n\u001b[32m    875\u001b[39m \u001b[43m            \u001b[49m\u001b[43mioargs\u001b[49m\u001b[43m.\u001b[49m\u001b[43mmode\u001b[49m\u001b[43m,\u001b[49m\n\u001b[32m    876\u001b[39m \u001b[43m            \u001b[49m\u001b[43mencoding\u001b[49m\u001b[43m=\u001b[49m\u001b[43mioargs\u001b[49m\u001b[43m.\u001b[49m\u001b[43mencoding\u001b[49m\u001b[43m,\u001b[49m\n\u001b[32m    877\u001b[39m \u001b[43m            \u001b[49m\u001b[43merrors\u001b[49m\u001b[43m=\u001b[49m\u001b[43merrors\u001b[49m\u001b[43m,\u001b[49m\n\u001b[32m    878\u001b[39m \u001b[43m            \u001b[49m\u001b[43mnewline\u001b[49m\u001b[43m=\u001b[49m\u001b[33;43m\"\u001b[39;49m\u001b[33;43m\"\u001b[39;49m\u001b[43m,\u001b[49m\n\u001b[32m    879\u001b[39m \u001b[43m        \u001b[49m\u001b[43m)\u001b[49m\n\u001b[32m    880\u001b[39m     \u001b[38;5;28;01melse\u001b[39;00m:\n\u001b[32m    881\u001b[39m         \u001b[38;5;66;03m# Binary mode\u001b[39;00m\n\u001b[32m    882\u001b[39m         handle = \u001b[38;5;28mopen\u001b[39m(handle, ioargs.mode)\n",
      "\u001b[31mFileNotFoundError\u001b[39m: [Errno 2] No such file or directory: '/Users/edgar/Documents/GitHub/Cognitive_Models_El_Farol_Bar_Problem/data/simulated/Attendance-M2.csv'"
     ]
    }
   ],
   "source": [
    "file1 = data_folder / Path(f'{Titan.name()}.csv')\n",
    "data_sim1 = pd.read_csv(file1)\n",
    "data_sim1['model'] = Titan.name()\n",
    "file2 = data_folder / Path(f'{AttendanceM2.name()}.csv')\n",
    "data_sim2 = pd.read_csv(file2)\n",
    "data_sim2['model'] = AttendanceM2.name()\n",
    "\n",
    "df = PPT.concat_dfs(data_human, data_sim1)\n",
    "df = PPT.concat_dfs(df, data_sim2)\n",
    "\n",
    "# Calculate alternation index per group\n",
    "gm = GetMeasurements(\n",
    "    data=df,\n",
    "    measures=['efficiency', 'bounded_efficiency', 'inequality'],\n",
    "    T=np.inf\n",
    ")\n",
    "df = gm.get_measurements()\n",
    "\n",
    "alt_index = AlternationIndex.from_file(priority='sklearn')\n",
    "df['alternation_index'] = alt_index(df)\n",
    "\n",
    "image_file = PATHS['parameter_fit_results'] / 'two_way_comparisons_both.png'\n",
    "\n",
    "df_jitter = df.copy()\n",
    "df_jitter['efficiency'] = df['efficiency'] + np.random.normal(0, 0.01, len(df_jitter['efficiency']))\n",
    "df_jitter['inequality'] = df['inequality'] + np.random.normal(0, 0.01, len(df_jitter['inequality']))\n",
    "\n",
    "sns.scatterplot(\n",
    "    x='inequality', y='efficiency',\n",
    "    hue='model',style='model',\n",
    "    data=df_jitter\n",
    ")"
   ]
  },
  {
   "cell_type": "markdown",
   "metadata": {},
   "source": [
    "## All sizes"
   ]
  },
  {
   "cell_type": "markdown",
   "metadata": {},
   "source": [
    "### Show AIC"
   ]
  },
  {
   "cell_type": "code",
   "execution_count": null,
   "metadata": {},
   "outputs": [],
   "source": [
    "# Loading all models\n",
    "file_all = Path(PATHS['parameter_fit_results'], 'MLE/best_fit_all_with_treatment.json')\n",
    "df_all = pd.read_json(file_all)\n",
    "df_all.index = df_all.model_name\n",
    "\n",
    "# Create a dictionary with model names as keys and free parameters as values\n",
    "df_parameters_all = dict(zip(df_all['model_name'], df_all['free_parameters']))\n",
    "\n",
    "# Keep only deviance and AIC columns\n",
    "df_all.drop(columns=['model_name', 'free_parameters'], inplace=True)\n",
    "# df_all.sort_values(by='model_name', inplace=True)\n",
    "df_all.sort_values(by='AIC', inplace=True)\n",
    "df_all['deviance'] = df_all['deviance'].apply(lambda x: int(x))\n",
    "df_all['AIC'] = df_all['AIC'].apply(lambda x: int(x))\n",
    "df_all['diff'] = df_all['AIC'] - df_all['AIC'].min()\n",
    "df_all"
   ]
  },
  {
   "cell_type": "code",
   "execution_count": null,
   "metadata": {},
   "outputs": [],
   "source": [
    "# Loading all models\n",
    "file_all = Path(PATHS['parameter_fit_results'], 'MLE/best_fit_all.json')\n",
    "df_all = pd.read_json(file_all)\n",
    "df_all.index = df_all.model_name\n",
    "\n",
    "# Create a dictionary with model names as keys and free parameters as values\n",
    "df_parameters_all = dict(zip(df_all['model_name'], df_all['free_parameters']))\n",
    "\n",
    "# Keep only deviance and AIC columns\n",
    "df_all.drop(columns=['model_name', 'free_parameters'], inplace=True)\n",
    "# df_all.sort_values(by='model_name', inplace=True)\n",
    "df_all.sort_values(by='AIC', inplace=True)\n",
    "df_all['deviance'] = df_all['deviance'].apply(lambda x: int(x))\n",
    "df_all['AIC'] = df_all['AIC'].apply(lambda x: int(x))\n",
    "df_all['diff'] = df_all['AIC'] - df_all['AIC'].min()\n",
    "df_all"
   ]
  },
  {
   "cell_type": "markdown",
   "metadata": {},
   "source": [
    "### Simulate best fit model"
   ]
  },
  {
   "cell_type": "code",
   "execution_count": null,
   "metadata": {},
   "outputs": [],
   "source": [
    "# Load data into a dataframe\n",
    "data_folder = Path('..', 'data', 'human')\n",
    "file_names = [\n",
    "\t'2-player-UR.csv',\n",
    "\t'3-player-IU.csv',\n",
    "\t'4-player-IU.csv',\n",
    "\t'5-player-IU.csv',\n",
    "\t'6-player-IU.csv',\n",
    "\t'7-player-IU.csv',\n",
    "\t'8-player-IU.csv',\n",
    "\t'9-player-IU.csv',\n",
    "\t'11-player-IU.csv',\n",
    "\t'12-player-IU.csv',\n",
    "]\n",
    "df_list = list()\n",
    "for file_name in file_names:\n",
    "\tfile = data_folder / Path(file_name)\n",
    "\tprint(f'Loading data from {file}...')\n",
    "\tdf = pd.read_csv(file)\n",
    "\tdf_list.append(df)\n",
    "data_human = pd.concat(df_list, ignore_index=True)\n",
    "columns = ['threshold', 'num_players', 'group', 'round', 'player', 'score', 'decision']\n",
    "drop_columns = [col for col in data_human.columns if col not in columns]\n",
    "data_human.drop(columns=drop_columns, inplace=True)\n",
    "data_human['model'] = 'human'"
   ]
  },
  {
   "cell_type": "code",
   "execution_count": null,
   "metadata": {},
   "outputs": [],
   "source": [
    "list_fixed_parameters = PPT.get_fixed_parameters(data_human)\n",
    "list_simulation_parameters = PPT.get_number_of_groups(data_human)\n",
    "dict_update = {\n",
    "    'num_rounds':50,\n",
    "    'verbose':False\n",
    "}\n",
    "for sim_p in list_simulation_parameters:\n",
    "    sim_p.update(dict_update)\n",
    "num_groups = len(list_simulation_parameters)\n",
    "print(f'{len(list_fixed_parameters)} fixed parameters and {len(list_simulation_parameters)} simulation parameters')"
   ]
  },
  {
   "cell_type": "code",
   "execution_count": null,
   "metadata": {},
   "outputs": [],
   "source": [
    "file_all = Path(PATHS['parameter_fit_results'], 'MLE/best_fit_all.json')\n",
    "\n",
    "with open(file_all, 'r') as f:\n",
    "    params_dict = json.load(f)\n",
    "\n",
    "def get_free_parameters(model_name, params_dict):\n",
    "    model_names = params_dict['model_name']\n",
    "    idx = model_names.index(model_name)\n",
    "    return params_dict['free_parameters'][idx]\n",
    "\n",
    "# BEST_MODEL = MFPM2\n",
    "BEST_MODEL = AttendanceM2\n",
    "\n",
    "free_parameters = get_free_parameters(BEST_MODEL.name(), params_dict)\n",
    "print_(free_parameters)"
   ]
  },
  {
   "cell_type": "code",
   "execution_count": null,
   "metadata": {},
   "outputs": [],
   "source": [
    "data_folder = PATHS['parameter_fit_results'] / Path('MLE')\n",
    "\n",
    "for i in range(num_groups):\n",
    "    fixed_parameters = list_fixed_parameters[i]\n",
    "    simulation_parameters = list_simulation_parameters[i]\n",
    "    print(f'Running {BEST_MODEL.name()} with')\n",
    "    print('Fixed parameters:')\n",
    "    print_(fixed_parameters)\n",
    "    print('Simulation parameters:')\n",
    "    print_(simulation_parameters)\n",
    "    random.seed(1)\n",
    "    num_episodes = simulation_parameters['num_episodes']    \n",
    "    seeds = [random.randint(0, 1000) for _ in range(num_episodes)]\n",
    "    Performer.simple_run(\n",
    "        agent_class=BEST_MODEL,\n",
    "        fixed_parameters=fixed_parameters,\n",
    "        free_parameters=free_parameters,\n",
    "        simulation_parameters=simulation_parameters,\n",
    "        measures=[],\n",
    "        data_folder=data_folder,\n",
    "        seeds=seeds\n",
    "    )"
   ]
  },
  {
   "cell_type": "markdown",
   "metadata": {},
   "source": [
    "### Compare with human data"
   ]
  },
  {
   "cell_type": "code",
   "execution_count": null,
   "metadata": {},
   "outputs": [],
   "source": [
    "# Loading simulated data\n",
    "\n",
    "# BEST_MODEL = MFPM2\n",
    "BEST_MODEL = AttendanceM2\n",
    "\n",
    "data_folder = PATHS['parameter_fit_results'] / Path('MLE')\n",
    "\n",
    "df_list = list()\n",
    "for i in range(num_groups):\n",
    "    file = data_folder / Path(f'{BEST_MODEL.name()}_{i+1}.csv')\n",
    "    # print(f'Loading data from {file}...')\n",
    "    data_sim = pd.read_csv(file)\n",
    "    data_sim['model'] = BEST_MODEL.name()\n",
    "    df_list.append(data_sim)\n",
    "\n",
    "data_sim = pd.concat(df_list, ignore_index=True)\n",
    "\n",
    "df = PPT.concat_dfs(data_human, data_sim)"
   ]
  },
  {
   "cell_type": "code",
   "execution_count": null,
   "metadata": {},
   "outputs": [],
   "source": [
    "p = PlotVSMeasures(df)\n",
    "image_file = PATHS['parameter_fit_results'] / Path('MLE', f'two_way_comparisons_all.png')\n",
    "measure_pairs = [['efficiency', 'attendance'], ['efficiency', 'inequality']]\n",
    "p.two_way_comparisons(measure_pairs, image_file)"
   ]
  },
  {
   "cell_type": "markdown",
   "metadata": {},
   "source": [
    "### Simulate treatments"
   ]
  },
  {
   "cell_type": "code",
   "execution_count": null,
   "metadata": {},
   "outputs": [],
   "source": [
    "# Loading all models\n",
    "file_all = Path(PATHS['parameter_fit_results'], 'MLE/best_fit_all.json')\n",
    "df_all = pd.read_json(file_all)\n",
    "df_all.index = df_all.model_name\n",
    "\n",
    "# Create a dictionary with model names as keys and free parameters as values\n",
    "df_parameters_all = dict(zip(df_all['model_name'], df_all['free_parameters']))"
   ]
  },
  {
   "cell_type": "code",
   "execution_count": null,
   "metadata": {},
   "outputs": [],
   "source": [
    "# BEST_MODEL = MFPM2\n",
    "BEST_MODEL = AttendanceM2\n",
    "# BEST_MODEL = AttendanceM3\n",
    "free_parameters = df_parameters_all[BEST_MODEL.name()]\n",
    "free_parameters"
   ]
  },
  {
   "cell_type": "code",
   "execution_count": null,
   "metadata": {},
   "outputs": [],
   "source": [
    "fixed_parameters = {\n",
    "    'num_agents': 8, \n",
    "    'threshold': 0 # to be filled\n",
    "}\n",
    "simulation_parameters = {\n",
    "    'num_episodes': 30, \n",
    "    'num_rounds': 50, \n",
    "    'verbose': 0\n",
    "}\n",
    "thresholds = [0.25, 0.5, 0.75]\n",
    "data_folder = PATHS['parameter_fit_results'] / Path('MLE')\n",
    "kwargs = {\n",
    "    'model_name': BEST_MODEL.name(),\n",
    "}"
   ]
  },
  {
   "cell_type": "code",
   "execution_count": null,
   "metadata": {},
   "outputs": [],
   "source": []
  },
  {
   "cell_type": "code",
   "execution_count": null,
   "metadata": {},
   "outputs": [],
   "source": [
    "thresholds = [0.25, 0.5, 0.75]\n",
    "kwargs = {\n",
    "    'model_name': BEST_MODEL.name(),\n",
    "    'with_treatment': True\n",
    "}\n",
    "Performer.increase_threshold(\n",
    "    agent_class=BEST_MODEL,\n",
    "    fixed_parameters=fixed_parameters,\n",
    "    free_parameters=free_parameters,\n",
    "    simulation_parameters=simulation_parameters,\n",
    "    thresholds=thresholds,\n",
    "    measures=['efficiency'],\n",
    "    image_folder=data_folder,\n",
    "    kwargs=kwargs\n",
    ")"
   ]
  },
  {
   "cell_type": "code",
   "execution_count": null,
   "metadata": {},
   "outputs": [],
   "source": []
  },
  {
   "cell_type": "code",
   "execution_count": null,
   "metadata": {},
   "outputs": [],
   "source": []
  },
  {
   "cell_type": "code",
   "execution_count": null,
   "metadata": {},
   "outputs": [],
   "source": [
    "# Load data into a dataframe\n",
    "data_folder = Path('..', 'data', 'human')\n",
    "file_names = [\n",
    "#\t'2-player-UR.csv',\n",
    "\t'3-player-IU.csv',\n",
    "\t'4-player-IU.csv',\n",
    "\t'5-player-IU.csv',\n",
    "\t'6-player-IU.csv',\n",
    "\t'7-player-IU.csv',\n",
    "\t'8-player-IU.csv',\n",
    "\t'9-player-IU.csv',\n",
    "\t'11-player-IU.csv',\n",
    "\t'12-player-IU.csv',\n",
    "]\n",
    "df_list = list()\n",
    "for file_name in file_names:\n",
    "\tfile = data_folder / Path(file_name)\n",
    "\tprint(f'Loading data from {file}...')\n",
    "\tdf = pd.read_csv(file)\n",
    "\tdf_list.append(df)\n",
    "data = pd.concat(df_list, ignore_index=True)\n",
    "columns = ['threshold', 'num_players', 'group', 'round', 'player', 'score', 'decision']\n",
    "drop_columns = [col for col in data.columns if col not in columns]\n",
    "data.drop(columns=drop_columns, inplace=True)\n",
    "data.head()"
   ]
  },
  {
   "cell_type": "code",
   "execution_count": null,
   "metadata": {},
   "outputs": [],
   "source": [
    "for key, grp in data.groupby('group'):\n",
    "    print(f'Group {key}')\n",
    "    print(f'Threshold: {grp[\"threshold\"].unique()}')"
   ]
  },
  {
   "cell_type": "code",
   "execution_count": null,
   "metadata": {},
   "outputs": [],
   "source": []
  }
 ],
 "metadata": {
  "kernelspec": {
   "display_name": "Python 3 (ipykernel)",
   "language": "python",
   "name": "python3"
  },
  "language_info": {
   "codemirror_mode": {
    "name": "ipython",
    "version": 3
   },
   "file_extension": ".py",
   "mimetype": "text/x-python",
   "name": "python",
   "nbconvert_exporter": "python",
   "pygments_lexer": "ipython3",
   "version": "3.13.3"
  }
 },
 "nbformat": 4,
 "nbformat_minor": 2
}
