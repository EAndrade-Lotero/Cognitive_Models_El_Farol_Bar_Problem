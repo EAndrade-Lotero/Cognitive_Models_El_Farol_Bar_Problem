{
 "cells": [
  {
   "cell_type": "code",
   "execution_count": 1,
   "metadata": {},
   "outputs": [],
   "source": [
    "import sys\n",
    "sys.path.append(\"../src\")\n",
    "\n",
    "import warnings\n",
    "warnings.filterwarnings(\"ignore\")\n",
    "\n",
    "from pprint import PrettyPrinter\n",
    "# Configure pretty printer\n",
    "pp = PrettyPrinter(compact=True)\n",
    "print_ = lambda x: pp.pprint(x)"
   ]
  },
  {
   "cell_type": "code",
   "execution_count": 2,
   "metadata": {},
   "outputs": [],
   "source": [
    "import json\n",
    "import random\n",
    "import pandas as pd\n",
    "\n",
    "from pathlib import Path\n",
    "\n",
    "from Utils.utils import PPT\n",
    "from Config.config import PATHS\n",
    "from Utils.interaction import Performer\n",
    "from Utils.plot_utils import PlotVSMeasures\n",
    "from Classes.cognitive_model_agents import (\n",
    "    AttendanceM2, AttendanceM3, \n",
    "    MFPM2\n",
    ")\n"
   ]
  },
  {
   "cell_type": "markdown",
   "metadata": {},
   "source": [
    "## 2 Players"
   ]
  },
  {
   "cell_type": "markdown",
   "metadata": {},
   "source": [
    "### Show AIC"
   ]
  },
  {
   "cell_type": "code",
   "execution_count": 3,
   "metadata": {},
   "outputs": [
    {
     "data": {
      "text/html": [
       "<div>\n",
       "<style scoped>\n",
       "    .dataframe tbody tr th:only-of-type {\n",
       "        vertical-align: middle;\n",
       "    }\n",
       "\n",
       "    .dataframe tbody tr th {\n",
       "        vertical-align: top;\n",
       "    }\n",
       "\n",
       "    .dataframe thead th {\n",
       "        text-align: right;\n",
       "    }\n",
       "</style>\n",
       "<table border=\"1\" class=\"dataframe\">\n",
       "  <thead>\n",
       "    <tr style=\"text-align: right;\">\n",
       "      <th></th>\n",
       "      <th>deviance</th>\n",
       "      <th>AIC</th>\n",
       "    </tr>\n",
       "    <tr>\n",
       "      <th>model_name</th>\n",
       "      <th></th>\n",
       "      <th></th>\n",
       "    </tr>\n",
       "  </thead>\n",
       "  <tbody>\n",
       "    <tr>\n",
       "      <th>FRA+Payoff+Attendance</th>\n",
       "      <td>2298</td>\n",
       "      <td>4608</td>\n",
       "    </tr>\n",
       "    <tr>\n",
       "      <th>Attendance-M2</th>\n",
       "      <td>2378</td>\n",
       "      <td>4763</td>\n",
       "    </tr>\n",
       "    <tr>\n",
       "      <th>Attendance-M3</th>\n",
       "      <td>2378</td>\n",
       "      <td>4763</td>\n",
       "    </tr>\n",
       "    <tr>\n",
       "      <th>MFP-M3</th>\n",
       "      <td>2563</td>\n",
       "      <td>5130</td>\n",
       "    </tr>\n",
       "    <tr>\n",
       "      <th>MFP-M2</th>\n",
       "      <td>2563</td>\n",
       "      <td>5130</td>\n",
       "    </tr>\n",
       "    <tr>\n",
       "      <th>Payoff-M2</th>\n",
       "      <td>2863</td>\n",
       "      <td>5730</td>\n",
       "    </tr>\n",
       "    <tr>\n",
       "      <th>Payoff-M3</th>\n",
       "      <td>2863</td>\n",
       "      <td>5730</td>\n",
       "    </tr>\n",
       "    <tr>\n",
       "      <th>FRA</th>\n",
       "      <td>2875</td>\n",
       "      <td>5757</td>\n",
       "    </tr>\n",
       "    <tr>\n",
       "      <th>Fairness-M3</th>\n",
       "      <td>2920</td>\n",
       "      <td>5846</td>\n",
       "    </tr>\n",
       "    <tr>\n",
       "      <th>AvailableSpace-M2</th>\n",
       "      <td>2924</td>\n",
       "      <td>5855</td>\n",
       "    </tr>\n",
       "    <tr>\n",
       "      <th>AvailableSpace-M3</th>\n",
       "      <td>2924</td>\n",
       "      <td>5855</td>\n",
       "    </tr>\n",
       "    <tr>\n",
       "      <th>Attendance-M1</th>\n",
       "      <td>3132</td>\n",
       "      <td>6271</td>\n",
       "    </tr>\n",
       "    <tr>\n",
       "      <th>Priors-M3</th>\n",
       "      <td>3138</td>\n",
       "      <td>6295</td>\n",
       "    </tr>\n",
       "    <tr>\n",
       "      <th>MFP-M1</th>\n",
       "      <td>3166</td>\n",
       "      <td>6336</td>\n",
       "    </tr>\n",
       "    <tr>\n",
       "      <th>Payoff-M1</th>\n",
       "      <td>3188</td>\n",
       "      <td>6380</td>\n",
       "    </tr>\n",
       "    <tr>\n",
       "      <th>WSLS-M1</th>\n",
       "      <td>3188</td>\n",
       "      <td>6382</td>\n",
       "    </tr>\n",
       "    <tr>\n",
       "      <th>AvailableSpace-M1</th>\n",
       "      <td>3188</td>\n",
       "      <td>6382</td>\n",
       "    </tr>\n",
       "    <tr>\n",
       "      <th>Fairness-M1</th>\n",
       "      <td>3188</td>\n",
       "      <td>6382</td>\n",
       "    </tr>\n",
       "    <tr>\n",
       "      <th>WSLS-M3</th>\n",
       "      <td>3188</td>\n",
       "      <td>6382</td>\n",
       "    </tr>\n",
       "    <tr>\n",
       "      <th>WSLS-M2</th>\n",
       "      <td>3188</td>\n",
       "      <td>6382</td>\n",
       "    </tr>\n",
       "    <tr>\n",
       "      <th>Fairness-M2</th>\n",
       "      <td>3188</td>\n",
       "      <td>6382</td>\n",
       "    </tr>\n",
       "    <tr>\n",
       "      <th>Priors-M1</th>\n",
       "      <td>3276</td>\n",
       "      <td>6559</td>\n",
       "    </tr>\n",
       "    <tr>\n",
       "      <th>Priors-M2</th>\n",
       "      <td>3500</td>\n",
       "      <td>7026</td>\n",
       "    </tr>\n",
       "  </tbody>\n",
       "</table>\n",
       "</div>"
      ],
      "text/plain": [
       "                       deviance   AIC\n",
       "model_name                           \n",
       "FRA+Payoff+Attendance      2298  4608\n",
       "Attendance-M2              2378  4763\n",
       "Attendance-M3              2378  4763\n",
       "MFP-M3                     2563  5130\n",
       "MFP-M2                     2563  5130\n",
       "Payoff-M2                  2863  5730\n",
       "Payoff-M3                  2863  5730\n",
       "FRA                        2875  5757\n",
       "Fairness-M3                2920  5846\n",
       "AvailableSpace-M2          2924  5855\n",
       "AvailableSpace-M3          2924  5855\n",
       "Attendance-M1              3132  6271\n",
       "Priors-M3                  3138  6295\n",
       "MFP-M1                     3166  6336\n",
       "Payoff-M1                  3188  6380\n",
       "WSLS-M1                    3188  6382\n",
       "AvailableSpace-M1          3188  6382\n",
       "Fairness-M1                3188  6382\n",
       "WSLS-M3                    3188  6382\n",
       "WSLS-M2                    3188  6382\n",
       "Fairness-M2                3188  6382\n",
       "Priors-M1                  3276  6559\n",
       "Priors-M2                  3500  7026"
      ]
     },
     "execution_count": 3,
     "metadata": {},
     "output_type": "execute_result"
    }
   ],
   "source": [
    "file_2PL = Path(PATHS['parameter_fit_results'], 'MLE/best_fit_2P_with_FRA.json')\n",
    "df_2P = pd.read_json(file_2PL, lines=True)\n",
    "df_2P.index = df_2P.model_name\n",
    "df_parameters_2P = df_2P[['model_name', 'free_parameters']]\n",
    "df_2P.drop(columns=['model', 'model_name', 'free_parameters', 'fixed_parameters'], inplace=True)\n",
    "df_2P.sort_values(by='AIC', inplace=True)\n",
    "# df_2P.sort_values(by='model_name', inplace=True)\n",
    "df_2P['deviance'] = df_2P['deviance'].apply(lambda x: int(-x))\n",
    "df_2P['AIC'] = df_2P['AIC'].apply(lambda x: int(x))\n",
    "df_2P"
   ]
  },
  {
   "cell_type": "markdown",
   "metadata": {},
   "source": [
    "file_2PL = Path(PATHS['parameter_fit_results'], 'MLE/best_fit_2P_2.json')\n",
    "df_2P = pd.read_json(file_2PL, lines=True)\n",
    "df_2P.index = df_2P.model_name\n",
    "df_parameters_2P = df_2P[['model_name', 'free_parameters']]\n",
    "df_2P.drop(columns=['model', 'model_name', 'free_parameters', 'fixed_parameters'], inplace=True)\n",
    "df_2P.sort_values(by='AIC', inplace=True)\n",
    "# df_2P.sort_values(by='model_name', inplace=True)\n",
    "df_2P['deviance'] = df_2P['deviance'].apply(lambda x: int(-x))\n",
    "df_2P['AIC'] = df_2P['AIC'].apply(lambda x: int(x))\n",
    "df_2P"
   ]
  },
  {
   "cell_type": "markdown",
   "metadata": {},
   "source": [
    "file_2PL = Path(PATHS['parameter_fit_results'], 'MLE/best_fit_2P_3.json')\n",
    "df_2P = pd.read_json(file_2PL, lines=True)\n",
    "df_2P.index = df_2P.model_name\n",
    "df_parameters_2P = df_2P[['model_name', 'free_parameters']]\n",
    "df_2P.drop(columns=['model', 'model_name', 'free_parameters', 'fixed_parameters'], inplace=True)\n",
    "df_2P.sort_values(by='AIC', inplace=True)\n",
    "# df_2P.sort_values(by='model_name', inplace=True)\n",
    "df_2P['deviance'] = df_2P['deviance'].apply(lambda x: int(-x))\n",
    "df_2P['AIC'] = df_2P['AIC'].apply(lambda x: int(x))\n",
    "df_2P"
   ]
  },
  {
   "cell_type": "markdown",
   "metadata": {},
   "source": [
    "latex_string = df_2P.to_latex()\n",
    "print(latex_string)"
   ]
  },
  {
   "cell_type": "code",
   "execution_count": 4,
   "metadata": {},
   "outputs": [
    {
     "name": "stdout",
     "output_type": "stream",
     "text": [
      "------------------------------------------------------------\n",
      "Priors-M1\n",
      "{'inverse_temperature': 41.15644356178236, '0-go_prob_0': 0.43800445566336405, '1-go_prob_0': 0.598400688016493}\n",
      "------------------------------------------------------------\n",
      "Priors-M2\n",
      "{'inverse_temperature': 48.43112050518811, '0-go_prob_(0, np.int64(0))': 0.832961293535029, '0-go_prob_(0, np.int64(1))': 0.894190081414968, '0-go_prob_(0, np.int64(2))': 0.6909165315639151, '0-go_prob_(1, np.int64(0))': 0.5501877243790101, '0-go_prob_(1, np.int64(1))': 0.23169067715462202, '0-go_prob_(1, np.int64(2))': 0.5400306551287051, '1-go_prob_(0, np.int64(0))': 0.587007121779765, '1-go_prob_(0, np.int64(1))': 0.367461931052165, '1-go_prob_(0, np.int64(2))': 0.7705520385416921, '1-go_prob_(1, np.int64(0))': 0.511972112102664, '1-go_prob_(1, np.int64(1))': 0.8086687605049521, '1-go_prob_(1, np.int64(2))': 0.22047965027563202}\n",
      "------------------------------------------------------------\n",
      "Priors-M3\n",
      "{'inverse_temperature': 32.27296175358639, '0-go_prob_0': 0.451747900695082, '0-go_prob_1': 0.515184164808378, '0-go_prob_2': 0.40271689873277805, '0-go_prob_3': 0.42001792037111, '1-go_prob_0': 0.603558834336392, '1-go_prob_1': 0.25750186918038204, '1-go_prob_2': 0.698810609589809, '1-go_prob_3': 0.5345712974960071}\n",
      "------------------------------------------------------------\n",
      "WSLS-M1\n",
      "{'inverse_temperature': 38.720998770201106, 'wsls_strength': 0.0, 'heuristic_strength': 1.0}\n",
      "------------------------------------------------------------\n",
      "WSLS-M2\n",
      "{'inverse_temperature': 1.4472104856962391, 'wsls_strength': 0.0, 'heuristic_strength': 1.0}\n",
      "------------------------------------------------------------\n",
      "WSLS-M3\n",
      "{'inverse_temperature': 1.4472104856962391, 'wsls_strength': 0.0, 'heuristic_strength': 1.0}\n",
      "------------------------------------------------------------\n",
      "Payoff-M1\n",
      "{'inverse_temperature': 42.27553285360497, 'learning_rate': 0.0}\n",
      "------------------------------------------------------------\n",
      "Payoff-M2\n",
      "{'inverse_temperature': 1.812305867408788, 'learning_rate': 0.47389221461344405}\n",
      "------------------------------------------------------------\n",
      "Payoff-M3\n",
      "{'inverse_temperature': 1.812305867408788, 'learning_rate': 0.47389221461344405}\n",
      "------------------------------------------------------------\n",
      "Attendance-M1\n",
      "{'inverse_temperature': 2.2920216764250982, 'learning_rate': 0.9293546704315201, 'bias': 1.0}\n",
      "------------------------------------------------------------\n",
      "Attendance-M2\n",
      "{'inverse_temperature': 10.101730164626296, 'learning_rate': 0.15870634243947201, 'bias': 0.6306669930566361}\n",
      "------------------------------------------------------------\n",
      "Attendance-M3\n",
      "{'inverse_temperature': 10.101730164626296, 'learning_rate': 0.15870634243947201, 'bias': 0.6306669930566361}\n",
      "------------------------------------------------------------\n",
      "AvailableSpace-M1\n",
      "{'inverse_temperature': 3.173025764013354, 'learning_rate': 0.0, 'bias': 1.0}\n",
      "------------------------------------------------------------\n",
      "AvailableSpace-M2\n",
      "{'inverse_temperature': 1.998353444777224, 'learning_rate': 1.0, 'bias': 0.0}\n",
      "------------------------------------------------------------\n",
      "AvailableSpace-M3\n",
      "{'inverse_temperature': 1.998353444777224, 'learning_rate': 1.0, 'bias': 0.0}\n",
      "------------------------------------------------------------\n",
      "Fairness-M1\n",
      "{'inverse_temperature': 9.941873935926306, 'learning_rate': 0.0, 'bias': 0.125484797329585}\n",
      "------------------------------------------------------------\n",
      "Fairness-M2\n",
      "{'inverse_temperature': 9.871570808926174, 'learning_rate': 0.0, 'bias': 0.0}\n",
      "------------------------------------------------------------\n",
      "Fairness-M3\n",
      "{'inverse_temperature': 1.4757328870920041, 'learning_rate': 0.731119809157959, 'bias': 0.22506148451266303}\n",
      "------------------------------------------------------------\n",
      "MFP-M1\n",
      "{'inverse_temperature': 4.737149345836001, 'belief_strength': 100.0}\n",
      "------------------------------------------------------------\n",
      "MFP-M2\n",
      "{'inverse_temperature': 27.409254407407573, 'belief_strength': 68.83673053927919}\n",
      "------------------------------------------------------------\n",
      "MFP-M3\n",
      "{'inverse_temperature': 27.409254407407573, 'belief_strength': 68.83673053927919}\n",
      "------------------------------------------------------------\n",
      "FRA\n",
      "{'inverse_temperature': 1.0, 'len_history': 2.0, 'max_regions': 5.962948361835496}\n",
      "------------------------------------------------------------\n",
      "FRA+Payoff+Attendance\n",
      "{'inverse_temperature': 55.46199207915088, 'bias': 0.63395564117971, 'learning_rate': 0.00817174765553, 'len_history': 1.216593754825388, 'max_regions': 2.120556077471169, 'delta': 0.006445347468755001}\n"
     ]
    }
   ],
   "source": [
    "from Utils.LaTeX_utils import PrintLaTeX\n",
    "\n",
    "latex_string_parameters = ''\n",
    "\n",
    "for model, row in df_parameters_2P.iterrows():\n",
    "    # if model in ['Attendance-M2', 'Fairness-M2', 'Payoff-M2']:\n",
    "    parameters = row['free_parameters']\n",
    "    print('-'*60)\n",
    "    print(model)\n",
    "    print(parameters)\n",
    "    # latex_string_parameters += r'\\textbf\\{' + model + '\\}\\n'\n",
    "    # latex_string_parameters += PrintLaTeX.print_parameters(parameters)\n",
    "\n",
    "# print(latex_string_parameters)"
   ]
  },
  {
   "cell_type": "markdown",
   "metadata": {},
   "source": [
    "### Simulate best fit model"
   ]
  },
  {
   "cell_type": "code",
   "execution_count": 5,
   "metadata": {},
   "outputs": [
    {
     "name": "stdout",
     "output_type": "stream",
     "text": [
      "{'inverse_temperature': 55.46199207915088, 'bias': 0.63395564117971, 'learning_rate': 0.00817174765553, 'len_history': 1.216593754825388, 'max_regions': 2.120556077471169, 'delta': 0.006445347468755001}\n"
     ]
    }
   ],
   "source": [
    "from Classes.cognitive_model_agents import Titan\n",
    "\n",
    "\n",
    "def get_free_parameters(model_name, params_dict):\n",
    "    model_names = df_parameters_2P['model_name'].tolist()\n",
    "    idx = model_names.index(model_name)\n",
    "    return df_parameters_2P['free_parameters'][idx]\n",
    "\n",
    "# BEST_MODEL = MFPM2\n",
    "# BEST_MODEL = AttendanceM2\n",
    "BEST_MODEL = Titan\n",
    "\n",
    "fixed_parameters = {\n",
    "\t\"threshold\":0.5,\n",
    "\t\"num_agents\":2,\n",
    "}\n",
    "free_parameters = get_free_parameters(BEST_MODEL.name(), df_parameters_2P)\n",
    "print(free_parameters)\n",
    "simulation_parameters = {\n",
    "\t'num_rounds':50,\n",
    "\t'verbose':False\n",
    "}"
   ]
  },
  {
   "cell_type": "code",
   "execution_count": 6,
   "metadata": {},
   "outputs": [
    {
     "name": "stderr",
     "output_type": "stream",
     "text": [
      "Running seeds...:   0%|                                  | 0/23 [00:00<?, ?it/s]"
     ]
    },
    {
     "name": "stderr",
     "output_type": "stream",
     "text": [
      "                                                                                "
     ]
    },
    {
     "name": "stdout",
     "output_type": "stream",
     "text": [
      "Data saved to /Users/edgar/Documents/GitHub/Cognitive_Models_El_Farol_Bar_Problem/reports/MLE/FRA+Payoff+Attendance_10.csv\n"
     ]
    },
    {
     "name": "stderr",
     "output_type": "stream",
     "text": [
      "\r"
     ]
    }
   ],
   "source": [
    "data_folder = PATHS['parameter_fit_results'] / Path('MLE')\n",
    "num_episodes = 23 # same as human groups\n",
    "random.seed(1)\n",
    "seeds = [random.randint(0, 1000) for _ in range(num_episodes)]\n",
    "\n",
    "Performer.simple_run(\n",
    "    agent_class=BEST_MODEL,\n",
    "    fixed_parameters=fixed_parameters,\n",
    "    free_parameters=free_parameters,\n",
    "    simulation_parameters=simulation_parameters,\n",
    "    measures=[],\n",
    "    data_folder=data_folder,\n",
    "    seeds=seeds\n",
    ")\n"
   ]
  },
  {
   "cell_type": "markdown",
   "metadata": {},
   "source": [
    "### Comparing with human data"
   ]
  },
  {
   "cell_type": "code",
   "execution_count": 10,
   "metadata": {},
   "outputs": [
    {
     "name": "stdout",
     "output_type": "stream",
     "text": [
      "Loading data from ../data/human/2-player-UR.csv...\n",
      "Loading data from /Users/edgar/Documents/GitHub/Cognitive_Models_El_Farol_Bar_Problem/reports/MLE/Attendance-M2.csv...\n"
     ]
    }
   ],
   "source": [
    "# Loading human data\n",
    "file_name = '2-player-UR.csv'\n",
    "data_folder = Path('..', 'data', 'human')\n",
    "file = data_folder / Path(file_name)\n",
    "print(f'Loading data from {file}...')\n",
    "data_human = pd.read_csv(file)\n",
    "data_human.drop(columns=['room', 'choice'], inplace=True)\n",
    "data_human['model'] = 'human'\n",
    "\n",
    "# Loading simulated data\n",
    "\n",
    "# BEST_MODEL = MFPM2\n",
    "BEST_MODEL = AttendanceM2\n",
    "\n",
    "data_folder = PATHS['parameter_fit_results'] / Path('MLE')\n",
    "file = data_folder / Path(f'{BEST_MODEL.name()}.csv')\n",
    "print(f'Loading data from {file}...')\n",
    "data_sim = pd.read_csv(file)\n",
    "data_sim['model'] = BEST_MODEL.name()\n",
    "\n",
    "df = PPT.concat_dfs(data_human, data_sim)\n",
    "# df.head()"
   ]
  },
  {
   "cell_type": "code",
   "execution_count": 8,
   "metadata": {},
   "outputs": [
    {
     "name": "stdout",
     "output_type": "stream",
     "text": [
      "Warning: No plot saved. To save plot, provide file name.\n",
      "Plot saved to /Users/edgar/Documents/GitHub/Cognitive_Models_El_Farol_Bar_Problem/reports/MLE/two_way_comparisons_Titan.png\n"
     ]
    }
   ],
   "source": [
    "p = PlotVSMeasures(df)\n",
    "# p = PlotVSMeasures(data_human)\n",
    "# p = PlotVSMeasures(data_sim)\n",
    "image_file = PATHS['parameter_fit_results'] / Path('MLE', f'two_way_comparisons_Titan.png')\n",
    "measure_pairs = [['inequality', 'efficiency']]\n",
    "p.two_way_comparisons(measure_pairs, image_file)"
   ]
  },
  {
   "cell_type": "code",
   "execution_count": 14,
   "metadata": {},
   "outputs": [
    {
     "name": "stdout",
     "output_type": "stream",
     "text": [
      "Warning: No plot saved. To save plot, provide file name.\n",
      "Plot saved to /Users/edgar/Documents/GitHub/Cognitive_Models_El_Farol_Bar_Problem/reports/MLE/two_way_comparisons_both.png\n"
     ]
    }
   ],
   "source": [
    "file1 = data_folder / Path(f'{Titan.name()}.csv')\n",
    "data_sim1 = pd.read_csv(file1)\n",
    "data_sim1['model'] = Titan.name()\n",
    "file2 = data_folder / Path(f'{AttendanceM2.name()}.csv')\n",
    "data_sim2 = pd.read_csv(file)\n",
    "data_sim2['model'] = AttendanceM2.name()\n",
    "\n",
    "df = PPT.concat_dfs(data_human, data_sim1)\n",
    "df = PPT.concat_dfs(df, data_sim2)\n",
    "p = PlotVSMeasures(df)\n",
    "# p = PlotVSMeasures(data_human)\n",
    "# p = PlotVSMeasures(data_sim)\n",
    "image_file = PATHS['parameter_fit_results'] / Path('MLE', f'two_way_comparisons_both.png')\n",
    "measure_pairs = [['inequality', 'efficiency']]\n",
    "p.two_way_comparisons(measure_pairs, image_file)\n"
   ]
  },
  {
   "cell_type": "code",
   "execution_count": null,
   "metadata": {},
   "outputs": [],
   "source": []
  },
  {
   "cell_type": "markdown",
   "metadata": {},
   "source": [
    "## All sizes"
   ]
  },
  {
   "cell_type": "markdown",
   "metadata": {},
   "source": [
    "### Show AIC"
   ]
  },
  {
   "cell_type": "code",
   "execution_count": 9,
   "metadata": {},
   "outputs": [
    {
     "data": {
      "text/html": [
       "<div>\n",
       "<style scoped>\n",
       "    .dataframe tbody tr th:only-of-type {\n",
       "        vertical-align: middle;\n",
       "    }\n",
       "\n",
       "    .dataframe tbody tr th {\n",
       "        vertical-align: top;\n",
       "    }\n",
       "\n",
       "    .dataframe thead th {\n",
       "        text-align: right;\n",
       "    }\n",
       "</style>\n",
       "<table border=\"1\" class=\"dataframe\">\n",
       "  <thead>\n",
       "    <tr style=\"text-align: right;\">\n",
       "      <th></th>\n",
       "      <th>deviance</th>\n",
       "      <th>AIC</th>\n",
       "      <th>diff</th>\n",
       "    </tr>\n",
       "    <tr>\n",
       "      <th>model_name</th>\n",
       "      <th></th>\n",
       "      <th></th>\n",
       "      <th></th>\n",
       "    </tr>\n",
       "  </thead>\n",
       "  <tbody>\n",
       "    <tr>\n",
       "      <th>Attendance-M3</th>\n",
       "      <td>18129</td>\n",
       "      <td>36265</td>\n",
       "      <td>0</td>\n",
       "    </tr>\n",
       "    <tr>\n",
       "      <th>MFP-M2</th>\n",
       "      <td>18327</td>\n",
       "      <td>36659</td>\n",
       "      <td>394</td>\n",
       "    </tr>\n",
       "    <tr>\n",
       "      <th>MFP-M3</th>\n",
       "      <td>18370</td>\n",
       "      <td>36745</td>\n",
       "      <td>480</td>\n",
       "    </tr>\n",
       "    <tr>\n",
       "      <th>AvailableSpace-M3</th>\n",
       "      <td>18591</td>\n",
       "      <td>37186</td>\n",
       "      <td>921</td>\n",
       "    </tr>\n",
       "    <tr>\n",
       "      <th>Random</th>\n",
       "      <td>18609</td>\n",
       "      <td>37221</td>\n",
       "      <td>956</td>\n",
       "    </tr>\n",
       "    <tr>\n",
       "      <th>MFP-M1</th>\n",
       "      <td>18708</td>\n",
       "      <td>37421</td>\n",
       "      <td>1156</td>\n",
       "    </tr>\n",
       "    <tr>\n",
       "      <th>Attendance-M2</th>\n",
       "      <td>18834</td>\n",
       "      <td>37674</td>\n",
       "      <td>1409</td>\n",
       "    </tr>\n",
       "    <tr>\n",
       "      <th>Attendance-M1</th>\n",
       "      <td>18865</td>\n",
       "      <td>37737</td>\n",
       "      <td>1472</td>\n",
       "    </tr>\n",
       "    <tr>\n",
       "      <th>Fairness-M1</th>\n",
       "      <td>18955</td>\n",
       "      <td>37917</td>\n",
       "      <td>1652</td>\n",
       "    </tr>\n",
       "    <tr>\n",
       "      <th>Fairness-M2</th>\n",
       "      <td>18955</td>\n",
       "      <td>37917</td>\n",
       "      <td>1652</td>\n",
       "    </tr>\n",
       "    <tr>\n",
       "      <th>Fairness-M3</th>\n",
       "      <td>18956</td>\n",
       "      <td>37918</td>\n",
       "      <td>1653</td>\n",
       "    </tr>\n",
       "    <tr>\n",
       "      <th>AvailableSpace-M1</th>\n",
       "      <td>18964</td>\n",
       "      <td>37933</td>\n",
       "      <td>1668</td>\n",
       "    </tr>\n",
       "    <tr>\n",
       "      <th>AvailableSpace-M2</th>\n",
       "      <td>18964</td>\n",
       "      <td>37933</td>\n",
       "      <td>1668</td>\n",
       "    </tr>\n",
       "    <tr>\n",
       "      <th>Payoff-M2</th>\n",
       "      <td>18964</td>\n",
       "      <td>37933</td>\n",
       "      <td>1668</td>\n",
       "    </tr>\n",
       "    <tr>\n",
       "      <th>Payoff-M1</th>\n",
       "      <td>18964</td>\n",
       "      <td>37933</td>\n",
       "      <td>1668</td>\n",
       "    </tr>\n",
       "    <tr>\n",
       "      <th>Payoff-M3</th>\n",
       "      <td>18964</td>\n",
       "      <td>37933</td>\n",
       "      <td>1668</td>\n",
       "    </tr>\n",
       "    <tr>\n",
       "      <th>WSLS</th>\n",
       "      <td>29297</td>\n",
       "      <td>58601</td>\n",
       "      <td>22336</td>\n",
       "    </tr>\n",
       "  </tbody>\n",
       "</table>\n",
       "</div>"
      ],
      "text/plain": [
       "                   deviance    AIC   diff\n",
       "model_name                               \n",
       "Attendance-M3         18129  36265      0\n",
       "MFP-M2                18327  36659    394\n",
       "MFP-M3                18370  36745    480\n",
       "AvailableSpace-M3     18591  37186    921\n",
       "Random                18609  37221    956\n",
       "MFP-M1                18708  37421   1156\n",
       "Attendance-M2         18834  37674   1409\n",
       "Attendance-M1         18865  37737   1472\n",
       "Fairness-M1           18955  37917   1652\n",
       "Fairness-M2           18955  37917   1652\n",
       "Fairness-M3           18956  37918   1653\n",
       "AvailableSpace-M1     18964  37933   1668\n",
       "AvailableSpace-M2     18964  37933   1668\n",
       "Payoff-M2             18964  37933   1668\n",
       "Payoff-M1             18964  37933   1668\n",
       "Payoff-M3             18964  37933   1668\n",
       "WSLS                  29297  58601  22336"
      ]
     },
     "execution_count": 9,
     "metadata": {},
     "output_type": "execute_result"
    }
   ],
   "source": [
    "# Loading all models\n",
    "file_all = Path(PATHS['parameter_fit_results'], 'MLE/best_fit_all_with_treatment.json')\n",
    "df_all = pd.read_json(file_all)\n",
    "df_all.index = df_all.model_name\n",
    "\n",
    "# Create a dictionary with model names as keys and free parameters as values\n",
    "df_parameters_all = dict(zip(df_all['model_name'], df_all['free_parameters']))\n",
    "\n",
    "# Keep only deviance and AIC columns\n",
    "df_all.drop(columns=['model_name', 'free_parameters'], inplace=True)\n",
    "# df_all.sort_values(by='model_name', inplace=True)\n",
    "df_all.sort_values(by='AIC', inplace=True)\n",
    "df_all['deviance'] = df_all['deviance'].apply(lambda x: int(x))\n",
    "df_all['AIC'] = df_all['AIC'].apply(lambda x: int(x))\n",
    "df_all['diff'] = df_all['AIC'] - df_all['AIC'].min()\n",
    "df_all"
   ]
  },
  {
   "cell_type": "code",
   "execution_count": 10,
   "metadata": {},
   "outputs": [
    {
     "data": {
      "text/html": [
       "<div>\n",
       "<style scoped>\n",
       "    .dataframe tbody tr th:only-of-type {\n",
       "        vertical-align: middle;\n",
       "    }\n",
       "\n",
       "    .dataframe tbody tr th {\n",
       "        vertical-align: top;\n",
       "    }\n",
       "\n",
       "    .dataframe thead th {\n",
       "        text-align: right;\n",
       "    }\n",
       "</style>\n",
       "<table border=\"1\" class=\"dataframe\">\n",
       "  <thead>\n",
       "    <tr style=\"text-align: right;\">\n",
       "      <th></th>\n",
       "      <th>deviance</th>\n",
       "      <th>AIC</th>\n",
       "      <th>diff</th>\n",
       "    </tr>\n",
       "    <tr>\n",
       "      <th>model_name</th>\n",
       "      <th></th>\n",
       "      <th></th>\n",
       "      <th></th>\n",
       "    </tr>\n",
       "  </thead>\n",
       "  <tbody>\n",
       "    <tr>\n",
       "      <th>Attendance-M2</th>\n",
       "      <td>17626</td>\n",
       "      <td>35258</td>\n",
       "      <td>0</td>\n",
       "    </tr>\n",
       "    <tr>\n",
       "      <th>Attendance-M3</th>\n",
       "      <td>17947</td>\n",
       "      <td>35901</td>\n",
       "      <td>643</td>\n",
       "    </tr>\n",
       "    <tr>\n",
       "      <th>MFP-M2</th>\n",
       "      <td>18051</td>\n",
       "      <td>36106</td>\n",
       "      <td>848</td>\n",
       "    </tr>\n",
       "    <tr>\n",
       "      <th>MFP-M3</th>\n",
       "      <td>18148</td>\n",
       "      <td>36300</td>\n",
       "      <td>1042</td>\n",
       "    </tr>\n",
       "    <tr>\n",
       "      <th>MFP-M1</th>\n",
       "      <td>18187</td>\n",
       "      <td>36378</td>\n",
       "      <td>1120</td>\n",
       "    </tr>\n",
       "    <tr>\n",
       "      <th>Payoff-M1</th>\n",
       "      <td>18217</td>\n",
       "      <td>36438</td>\n",
       "      <td>1180</td>\n",
       "    </tr>\n",
       "    <tr>\n",
       "      <th>AvailableSpace-M3</th>\n",
       "      <td>18319</td>\n",
       "      <td>36643</td>\n",
       "      <td>1385</td>\n",
       "    </tr>\n",
       "    <tr>\n",
       "      <th>Payoff-M2</th>\n",
       "      <td>18339</td>\n",
       "      <td>36683</td>\n",
       "      <td>1425</td>\n",
       "    </tr>\n",
       "    <tr>\n",
       "      <th>Fairness-M3</th>\n",
       "      <td>18431</td>\n",
       "      <td>36869</td>\n",
       "      <td>1611</td>\n",
       "    </tr>\n",
       "    <tr>\n",
       "      <th>AvailableSpace-M2</th>\n",
       "      <td>18450</td>\n",
       "      <td>36905</td>\n",
       "      <td>1647</td>\n",
       "    </tr>\n",
       "    <tr>\n",
       "      <th>Random</th>\n",
       "      <td>18609</td>\n",
       "      <td>37221</td>\n",
       "      <td>1963</td>\n",
       "    </tr>\n",
       "    <tr>\n",
       "      <th>Payoff-M3</th>\n",
       "      <td>18777</td>\n",
       "      <td>37559</td>\n",
       "      <td>2301</td>\n",
       "    </tr>\n",
       "    <tr>\n",
       "      <th>Attendance-M1</th>\n",
       "      <td>18872</td>\n",
       "      <td>37750</td>\n",
       "      <td>2492</td>\n",
       "    </tr>\n",
       "    <tr>\n",
       "      <th>Fairness-M1</th>\n",
       "      <td>18942</td>\n",
       "      <td>37890</td>\n",
       "      <td>2632</td>\n",
       "    </tr>\n",
       "    <tr>\n",
       "      <th>Fairness-M2</th>\n",
       "      <td>18954</td>\n",
       "      <td>37915</td>\n",
       "      <td>2657</td>\n",
       "    </tr>\n",
       "    <tr>\n",
       "      <th>AvailableSpace-M1</th>\n",
       "      <td>18964</td>\n",
       "      <td>37933</td>\n",
       "      <td>2675</td>\n",
       "    </tr>\n",
       "    <tr>\n",
       "      <th>WSLS</th>\n",
       "      <td>29297</td>\n",
       "      <td>58601</td>\n",
       "      <td>23343</td>\n",
       "    </tr>\n",
       "  </tbody>\n",
       "</table>\n",
       "</div>"
      ],
      "text/plain": [
       "                   deviance    AIC   diff\n",
       "model_name                               \n",
       "Attendance-M2         17626  35258      0\n",
       "Attendance-M3         17947  35901    643\n",
       "MFP-M2                18051  36106    848\n",
       "MFP-M3                18148  36300   1042\n",
       "MFP-M1                18187  36378   1120\n",
       "Payoff-M1             18217  36438   1180\n",
       "AvailableSpace-M3     18319  36643   1385\n",
       "Payoff-M2             18339  36683   1425\n",
       "Fairness-M3           18431  36869   1611\n",
       "AvailableSpace-M2     18450  36905   1647\n",
       "Random                18609  37221   1963\n",
       "Payoff-M3             18777  37559   2301\n",
       "Attendance-M1         18872  37750   2492\n",
       "Fairness-M1           18942  37890   2632\n",
       "Fairness-M2           18954  37915   2657\n",
       "AvailableSpace-M1     18964  37933   2675\n",
       "WSLS                  29297  58601  23343"
      ]
     },
     "execution_count": 10,
     "metadata": {},
     "output_type": "execute_result"
    }
   ],
   "source": [
    "# Loading all models\n",
    "file_all = Path(PATHS['parameter_fit_results'], 'MLE/best_fit_all.json')\n",
    "df_all = pd.read_json(file_all)\n",
    "df_all.index = df_all.model_name\n",
    "\n",
    "# Create a dictionary with model names as keys and free parameters as values\n",
    "df_parameters_all = dict(zip(df_all['model_name'], df_all['free_parameters']))\n",
    "\n",
    "# Keep only deviance and AIC columns\n",
    "df_all.drop(columns=['model_name', 'free_parameters'], inplace=True)\n",
    "# df_all.sort_values(by='model_name', inplace=True)\n",
    "df_all.sort_values(by='AIC', inplace=True)\n",
    "df_all['deviance'] = df_all['deviance'].apply(lambda x: int(x))\n",
    "df_all['AIC'] = df_all['AIC'].apply(lambda x: int(x))\n",
    "df_all['diff'] = df_all['AIC'] - df_all['AIC'].min()\n",
    "df_all"
   ]
  },
  {
   "cell_type": "markdown",
   "metadata": {},
   "source": [
    "### Simulate best fit model"
   ]
  },
  {
   "cell_type": "code",
   "execution_count": 11,
   "metadata": {},
   "outputs": [
    {
     "name": "stdout",
     "output_type": "stream",
     "text": [
      "Loading data from ../data/human/2-player-UR.csv...\n",
      "Loading data from ../data/human/3-player-IU.csv...\n",
      "Loading data from ../data/human/4-player-IU.csv...\n",
      "Loading data from ../data/human/5-player-IU.csv...\n",
      "Loading data from ../data/human/6-player-IU.csv...\n",
      "Loading data from ../data/human/7-player-IU.csv...\n",
      "Loading data from ../data/human/8-player-IU.csv...\n",
      "Loading data from ../data/human/9-player-IU.csv...\n",
      "Loading data from ../data/human/11-player-IU.csv...\n",
      "Loading data from ../data/human/12-player-IU.csv...\n"
     ]
    }
   ],
   "source": [
    "# Load data into a dataframe\n",
    "data_folder = Path('..', 'data', 'human')\n",
    "file_names = [\n",
    "\t'2-player-UR.csv',\n",
    "\t'3-player-IU.csv',\n",
    "\t'4-player-IU.csv',\n",
    "\t'5-player-IU.csv',\n",
    "\t'6-player-IU.csv',\n",
    "\t'7-player-IU.csv',\n",
    "\t'8-player-IU.csv',\n",
    "\t'9-player-IU.csv',\n",
    "\t'11-player-IU.csv',\n",
    "\t'12-player-IU.csv',\n",
    "]\n",
    "df_list = list()\n",
    "for file_name in file_names:\n",
    "\tfile = data_folder / Path(file_name)\n",
    "\tprint(f'Loading data from {file}...')\n",
    "\tdf = pd.read_csv(file)\n",
    "\tdf_list.append(df)\n",
    "data_human = pd.concat(df_list, ignore_index=True)\n",
    "columns = ['threshold', 'num_players', 'group', 'round', 'player', 'score', 'decision']\n",
    "drop_columns = [col for col in data_human.columns if col not in columns]\n",
    "data_human.drop(columns=drop_columns, inplace=True)\n",
    "data_human['model'] = 'human'"
   ]
  },
  {
   "cell_type": "code",
   "execution_count": 12,
   "metadata": {},
   "outputs": [
    {
     "name": "stdout",
     "output_type": "stream",
     "text": [
      "27 fixed parameters and 27 simulation parameters\n"
     ]
    }
   ],
   "source": [
    "list_fixed_parameters = PPT.get_fixed_parameters(data_human)\n",
    "list_simulation_parameters = PPT.get_number_of_groups(data_human)\n",
    "dict_update = {\n",
    "    'num_rounds':50,\n",
    "    'verbose':False\n",
    "}\n",
    "for sim_p in list_simulation_parameters:\n",
    "    sim_p.update(dict_update)\n",
    "num_groups = len(list_simulation_parameters)\n",
    "print(f'{len(list_fixed_parameters)} fixed parameters and {len(list_simulation_parameters)} simulation parameters')"
   ]
  },
  {
   "cell_type": "code",
   "execution_count": 13,
   "metadata": {},
   "outputs": [
    {
     "name": "stdout",
     "output_type": "stream",
     "text": [
      "{'bias': 0.38169685922788676,\n",
      " 'inverse_temperature': 6.258188362859529,\n",
      " 'learning_rate': 0.13429655887547165}\n"
     ]
    }
   ],
   "source": [
    "file_all = Path(PATHS['parameter_fit_results'], 'MLE/best_fit_all.json')\n",
    "\n",
    "with open(file_all, 'r') as f:\n",
    "    params_dict = json.load(f)\n",
    "\n",
    "def get_free_parameters(model_name, params_dict):\n",
    "    model_names = params_dict['model_name']\n",
    "    idx = model_names.index(model_name)\n",
    "    return params_dict['free_parameters'][idx]\n",
    "\n",
    "# BEST_MODEL = MFPM2\n",
    "BEST_MODEL = AttendanceM2\n",
    "\n",
    "free_parameters = get_free_parameters(BEST_MODEL.name(), params_dict)\n",
    "print_(free_parameters)"
   ]
  },
  {
   "cell_type": "code",
   "execution_count": 14,
   "metadata": {},
   "outputs": [
    {
     "name": "stdout",
     "output_type": "stream",
     "text": [
      "Running Attendance-M2 with\n",
      "Fixed parameters:\n",
      "{'num_agents': 4, 'threshold': 0.25}\n",
      "Simulation parameters:\n",
      "{'num_episodes': 23, 'num_rounds': 50, 'verbose': False}\n"
     ]
    },
    {
     "name": "stderr",
     "output_type": "stream",
     "text": [
      "                                                                                \r"
     ]
    },
    {
     "name": "stdout",
     "output_type": "stream",
     "text": [
      "Data saved to /Users/edgar/Documents/GitHub/Cognitive_Models_El_Farol_Bar_Problem/reports/MLE/Attendance-M2_83.csv\n",
      "Running Attendance-M2 with\n",
      "Fixed parameters:\n",
      "{'num_agents': 4, 'threshold': 0.5}\n",
      "Simulation parameters:\n",
      "{'num_episodes': 6, 'num_rounds': 50, 'verbose': False}\n"
     ]
    },
    {
     "name": "stderr",
     "output_type": "stream",
     "text": [
      "                                                                                \r"
     ]
    },
    {
     "name": "stdout",
     "output_type": "stream",
     "text": [
      "Data saved to /Users/edgar/Documents/GitHub/Cognitive_Models_El_Farol_Bar_Problem/reports/MLE/Attendance-M2_84.csv\n",
      "Running Attendance-M2 with\n",
      "Fixed parameters:\n",
      "{'num_agents': 4, 'threshold': 0.75}\n",
      "Simulation parameters:\n",
      "{'num_episodes': 6, 'num_rounds': 50, 'verbose': False}\n"
     ]
    },
    {
     "name": "stderr",
     "output_type": "stream",
     "text": [
      "                                                                                \r"
     ]
    },
    {
     "name": "stdout",
     "output_type": "stream",
     "text": [
      "Data saved to /Users/edgar/Documents/GitHub/Cognitive_Models_El_Farol_Bar_Problem/reports/MLE/Attendance-M2_85.csv\n",
      "Running Attendance-M2 with\n",
      "Fixed parameters:\n",
      "{'num_agents': 8, 'threshold': 0.875}\n",
      "Simulation parameters:\n",
      "{'num_episodes': 8, 'num_rounds': 50, 'verbose': False}\n"
     ]
    },
    {
     "name": "stderr",
     "output_type": "stream",
     "text": [
      "                                                                                \r"
     ]
    },
    {
     "name": "stdout",
     "output_type": "stream",
     "text": [
      "Data saved to /Users/edgar/Documents/GitHub/Cognitive_Models_El_Farol_Bar_Problem/reports/MLE/Attendance-M2_86.csv\n",
      "Running Attendance-M2 with\n",
      "Fixed parameters:\n",
      "{'num_agents': 8, 'threshold': 0.625}\n",
      "Simulation parameters:\n",
      "{'num_episodes': 8, 'num_rounds': 50, 'verbose': False}\n"
     ]
    },
    {
     "name": "stderr",
     "output_type": "stream",
     "text": [
      "                                                                                \r"
     ]
    },
    {
     "name": "stdout",
     "output_type": "stream",
     "text": [
      "Data saved to /Users/edgar/Documents/GitHub/Cognitive_Models_El_Farol_Bar_Problem/reports/MLE/Attendance-M2_87.csv\n",
      "Running Attendance-M2 with\n",
      "Fixed parameters:\n",
      "{'num_agents': 8, 'threshold': 0.375}\n",
      "Simulation parameters:\n",
      "{'num_episodes': 8, 'num_rounds': 50, 'verbose': False}\n"
     ]
    },
    {
     "name": "stderr",
     "output_type": "stream",
     "text": [
      "                                                                                \r"
     ]
    },
    {
     "name": "stdout",
     "output_type": "stream",
     "text": [
      "Data saved to /Users/edgar/Documents/GitHub/Cognitive_Models_El_Farol_Bar_Problem/reports/MLE/Attendance-M2_88.csv\n",
      "Running Attendance-M2 with\n",
      "Fixed parameters:\n",
      "{'num_agents': 9, 'threshold': 0.7777777777777778}\n",
      "Simulation parameters:\n",
      "{'num_episodes': 4, 'num_rounds': 50, 'verbose': False}\n"
     ]
    },
    {
     "name": "stderr",
     "output_type": "stream",
     "text": [
      "                                                                                \r"
     ]
    },
    {
     "name": "stdout",
     "output_type": "stream",
     "text": [
      "Data saved to /Users/edgar/Documents/GitHub/Cognitive_Models_El_Farol_Bar_Problem/reports/MLE/Attendance-M2_89.csv\n",
      "Running Attendance-M2 with\n",
      "Fixed parameters:\n",
      "{'num_agents': 5, 'threshold': 0.6}\n",
      "Simulation parameters:\n",
      "{'num_episodes': 4, 'num_rounds': 50, 'verbose': False}\n"
     ]
    },
    {
     "name": "stderr",
     "output_type": "stream",
     "text": [
      "                                                                                \r"
     ]
    },
    {
     "name": "stdout",
     "output_type": "stream",
     "text": [
      "Data saved to /Users/edgar/Documents/GitHub/Cognitive_Models_El_Farol_Bar_Problem/reports/MLE/Attendance-M2_90.csv\n",
      "Running Attendance-M2 with\n",
      "Fixed parameters:\n",
      "{'num_agents': 11, 'threshold': 0.6363636363636364}\n",
      "Simulation parameters:\n",
      "{'num_episodes': 4, 'num_rounds': 50, 'verbose': False}\n"
     ]
    },
    {
     "name": "stderr",
     "output_type": "stream",
     "text": [
      "                                                                                \r"
     ]
    },
    {
     "name": "stdout",
     "output_type": "stream",
     "text": [
      "Data saved to /Users/edgar/Documents/GitHub/Cognitive_Models_El_Farol_Bar_Problem/reports/MLE/Attendance-M2_91.csv\n",
      "Running Attendance-M2 with\n",
      "Fixed parameters:\n",
      "{'num_agents': 7, 'threshold': 1.0}\n",
      "Simulation parameters:\n",
      "{'num_episodes': 2, 'num_rounds': 50, 'verbose': False}\n"
     ]
    },
    {
     "name": "stderr",
     "output_type": "stream",
     "text": [
      "                                                                                \r"
     ]
    },
    {
     "name": "stdout",
     "output_type": "stream",
     "text": [
      "Data saved to /Users/edgar/Documents/GitHub/Cognitive_Models_El_Farol_Bar_Problem/reports/MLE/Attendance-M2_92.csv\n",
      "Running Attendance-M2 with\n",
      "Fixed parameters:\n",
      "{'num_agents': 12, 'threshold': 0.25}\n",
      "Simulation parameters:\n",
      "{'num_episodes': 2, 'num_rounds': 50, 'verbose': False}\n"
     ]
    },
    {
     "name": "stderr",
     "output_type": "stream",
     "text": [
      "                                                                                \r"
     ]
    },
    {
     "name": "stdout",
     "output_type": "stream",
     "text": [
      "Data saved to /Users/edgar/Documents/GitHub/Cognitive_Models_El_Farol_Bar_Problem/reports/MLE/Attendance-M2_93.csv\n",
      "Running Attendance-M2 with\n",
      "Fixed parameters:\n",
      "{'num_agents': 3, 'threshold': 0.6666666666666666}\n",
      "Simulation parameters:\n",
      "{'num_episodes': 2, 'num_rounds': 50, 'verbose': False}\n"
     ]
    },
    {
     "name": "stderr",
     "output_type": "stream",
     "text": [
      "                                                                                \r"
     ]
    },
    {
     "name": "stdout",
     "output_type": "stream",
     "text": [
      "Data saved to /Users/edgar/Documents/GitHub/Cognitive_Models_El_Farol_Bar_Problem/reports/MLE/Attendance-M2_94.csv\n",
      "Running Attendance-M2 with\n",
      "Fixed parameters:\n",
      "{'num_agents': 12, 'threshold': 0.5}\n",
      "Simulation parameters:\n",
      "{'num_episodes': 2, 'num_rounds': 50, 'verbose': False}\n"
     ]
    },
    {
     "name": "stderr",
     "output_type": "stream",
     "text": [
      "                                                                                \r"
     ]
    },
    {
     "name": "stdout",
     "output_type": "stream",
     "text": [
      "Data saved to /Users/edgar/Documents/GitHub/Cognitive_Models_El_Farol_Bar_Problem/reports/MLE/Attendance-M2_95.csv\n",
      "Running Attendance-M2 with\n",
      "Fixed parameters:\n",
      "{'num_agents': 3, 'threshold': 0.3333333333333333}\n",
      "Simulation parameters:\n",
      "{'num_episodes': 2, 'num_rounds': 50, 'verbose': False}\n"
     ]
    },
    {
     "name": "stderr",
     "output_type": "stream",
     "text": [
      "                                                                                \r"
     ]
    },
    {
     "name": "stdout",
     "output_type": "stream",
     "text": [
      "Data saved to /Users/edgar/Documents/GitHub/Cognitive_Models_El_Farol_Bar_Problem/reports/MLE/Attendance-M2_96.csv\n",
      "Running Attendance-M2 with\n",
      "Fixed parameters:\n",
      "{'num_agents': 12, 'threshold': 0.75}\n",
      "Simulation parameters:\n",
      "{'num_episodes': 2, 'num_rounds': 50, 'verbose': False}\n"
     ]
    },
    {
     "name": "stderr",
     "output_type": "stream",
     "text": [
      "                                                                                \r"
     ]
    },
    {
     "name": "stdout",
     "output_type": "stream",
     "text": [
      "Data saved to /Users/edgar/Documents/GitHub/Cognitive_Models_El_Farol_Bar_Problem/reports/MLE/Attendance-M2_97.csv\n",
      "Running Attendance-M2 with\n",
      "Fixed parameters:\n",
      "{'num_agents': 9, 'threshold': 0.5555555555555556}\n",
      "Simulation parameters:\n",
      "{'num_episodes': 3, 'num_rounds': 50, 'verbose': False}\n"
     ]
    },
    {
     "name": "stderr",
     "output_type": "stream",
     "text": [
      "                                                                                \r"
     ]
    },
    {
     "name": "stdout",
     "output_type": "stream",
     "text": [
      "Data saved to /Users/edgar/Documents/GitHub/Cognitive_Models_El_Farol_Bar_Problem/reports/MLE/Attendance-M2_98.csv\n",
      "Running Attendance-M2 with\n",
      "Fixed parameters:\n",
      "{'num_agents': 5, 'threshold': 0.4}\n",
      "Simulation parameters:\n",
      "{'num_episodes': 3, 'num_rounds': 50, 'verbose': False}\n"
     ]
    },
    {
     "name": "stderr",
     "output_type": "stream",
     "text": [
      "                                                                                \r"
     ]
    },
    {
     "name": "stdout",
     "output_type": "stream",
     "text": [
      "Data saved to /Users/edgar/Documents/GitHub/Cognitive_Models_El_Farol_Bar_Problem/reports/MLE/Attendance-M2_99.csv\n",
      "Running Attendance-M2 with\n",
      "Fixed parameters:\n",
      "{'num_agents': 11, 'threshold': 0.2727272727272727}\n",
      "Simulation parameters:\n",
      "{'num_episodes': 3, 'num_rounds': 50, 'verbose': False}\n"
     ]
    },
    {
     "name": "stderr",
     "output_type": "stream",
     "text": [
      "                                                                                \r"
     ]
    },
    {
     "name": "stdout",
     "output_type": "stream",
     "text": [
      "Data saved to /Users/edgar/Documents/GitHub/Cognitive_Models_El_Farol_Bar_Problem/reports/MLE/Attendance-M2_100.csv\n",
      "Running Attendance-M2 with\n",
      "Fixed parameters:\n",
      "{'num_agents': 7, 'threshold': 0.7142857142857143}\n",
      "Simulation parameters:\n",
      "{'num_episodes': 1, 'num_rounds': 50, 'verbose': False}\n"
     ]
    },
    {
     "name": "stderr",
     "output_type": "stream",
     "text": [
      "                                                                                \r"
     ]
    },
    {
     "name": "stdout",
     "output_type": "stream",
     "text": [
      "Data saved to /Users/edgar/Documents/GitHub/Cognitive_Models_El_Farol_Bar_Problem/reports/MLE/Attendance-M2_101.csv\n",
      "Running Attendance-M2 with\n",
      "Fixed parameters:\n",
      "{'num_agents': 9, 'threshold': 0.3333333333333333}\n",
      "Simulation parameters:\n",
      "{'num_episodes': 1, 'num_rounds': 50, 'verbose': False}\n"
     ]
    },
    {
     "name": "stderr",
     "output_type": "stream",
     "text": [
      "                                                                                \r"
     ]
    },
    {
     "name": "stdout",
     "output_type": "stream",
     "text": [
      "Data saved to /Users/edgar/Documents/GitHub/Cognitive_Models_El_Farol_Bar_Problem/reports/MLE/Attendance-M2_102.csv\n",
      "Running Attendance-M2 with\n",
      "Fixed parameters:\n",
      "{'num_agents': 7, 'threshold': 0.4285714285714285}\n",
      "Simulation parameters:\n",
      "{'num_episodes': 1, 'num_rounds': 50, 'verbose': False}\n"
     ]
    },
    {
     "name": "stderr",
     "output_type": "stream",
     "text": [
      "                                                                                \r"
     ]
    },
    {
     "name": "stdout",
     "output_type": "stream",
     "text": [
      "Data saved to /Users/edgar/Documents/GitHub/Cognitive_Models_El_Farol_Bar_Problem/reports/MLE/Attendance-M2_103.csv\n",
      "Running Attendance-M2 with\n",
      "Fixed parameters:\n",
      "{'num_agents': 2, 'threshold': 0.5}\n",
      "Simulation parameters:\n",
      "{'num_episodes': 1, 'num_rounds': 50, 'verbose': False}\n"
     ]
    },
    {
     "name": "stderr",
     "output_type": "stream",
     "text": [
      "                                                                                \r"
     ]
    },
    {
     "name": "stdout",
     "output_type": "stream",
     "text": [
      "Data saved to /Users/edgar/Documents/GitHub/Cognitive_Models_El_Farol_Bar_Problem/reports/MLE/Attendance-M2_104.csv\n",
      "Running Attendance-M2 with\n",
      "Fixed parameters:\n",
      "{'num_agents': 5, 'threshold': 0.8}\n",
      "Simulation parameters:\n",
      "{'num_episodes': 1, 'num_rounds': 50, 'verbose': False}\n"
     ]
    },
    {
     "name": "stderr",
     "output_type": "stream",
     "text": [
      "                                                                                \r"
     ]
    },
    {
     "name": "stdout",
     "output_type": "stream",
     "text": [
      "Data saved to /Users/edgar/Documents/GitHub/Cognitive_Models_El_Farol_Bar_Problem/reports/MLE/Attendance-M2_105.csv\n",
      "Running Attendance-M2 with\n",
      "Fixed parameters:\n",
      "{'num_agents': 6, 'threshold': 0.6666666666666666}\n",
      "Simulation parameters:\n",
      "{'num_episodes': 1, 'num_rounds': 50, 'verbose': False}\n"
     ]
    },
    {
     "name": "stderr",
     "output_type": "stream",
     "text": [
      "                                                                                \r"
     ]
    },
    {
     "name": "stdout",
     "output_type": "stream",
     "text": [
      "Data saved to /Users/edgar/Documents/GitHub/Cognitive_Models_El_Farol_Bar_Problem/reports/MLE/Attendance-M2_106.csv\n",
      "Running Attendance-M2 with\n",
      "Fixed parameters:\n",
      "{'num_agents': 6, 'threshold': 0.3333333333333333}\n",
      "Simulation parameters:\n",
      "{'num_episodes': 1, 'num_rounds': 50, 'verbose': False}\n"
     ]
    },
    {
     "name": "stderr",
     "output_type": "stream",
     "text": [
      "                                                                                \r"
     ]
    },
    {
     "name": "stdout",
     "output_type": "stream",
     "text": [
      "Data saved to /Users/edgar/Documents/GitHub/Cognitive_Models_El_Farol_Bar_Problem/reports/MLE/Attendance-M2_107.csv\n",
      "Running Attendance-M2 with\n",
      "Fixed parameters:\n",
      "{'num_agents': 11, 'threshold': 0.4545454545454545}\n",
      "Simulation parameters:\n",
      "{'num_episodes': 1, 'num_rounds': 50, 'verbose': False}\n"
     ]
    },
    {
     "name": "stderr",
     "output_type": "stream",
     "text": [
      "                                                                                \r"
     ]
    },
    {
     "name": "stdout",
     "output_type": "stream",
     "text": [
      "Data saved to /Users/edgar/Documents/GitHub/Cognitive_Models_El_Farol_Bar_Problem/reports/MLE/Attendance-M2_108.csv\n",
      "Running Attendance-M2 with\n",
      "Fixed parameters:\n",
      "{'num_agents': 6, 'threshold': 0.5}\n",
      "Simulation parameters:\n",
      "{'num_episodes': 1, 'num_rounds': 50, 'verbose': False}\n"
     ]
    },
    {
     "name": "stderr",
     "output_type": "stream",
     "text": [
      "                                                                                "
     ]
    },
    {
     "name": "stdout",
     "output_type": "stream",
     "text": [
      "Data saved to /Users/edgar/Documents/GitHub/Cognitive_Models_El_Farol_Bar_Problem/reports/MLE/Attendance-M2_109.csv\n"
     ]
    },
    {
     "name": "stderr",
     "output_type": "stream",
     "text": [
      "\r"
     ]
    }
   ],
   "source": [
    "data_folder = PATHS['parameter_fit_results'] / Path('MLE')\n",
    "\n",
    "for i in range(num_groups):\n",
    "    fixed_parameters = list_fixed_parameters[i]\n",
    "    simulation_parameters = list_simulation_parameters[i]\n",
    "    print(f'Running {BEST_MODEL.name()} with')\n",
    "    print('Fixed parameters:')\n",
    "    print_(fixed_parameters)\n",
    "    print('Simulation parameters:')\n",
    "    print_(simulation_parameters)\n",
    "    random.seed(1)\n",
    "    num_episodes = simulation_parameters['num_episodes']    \n",
    "    seeds = [random.randint(0, 1000) for _ in range(num_episodes)]\n",
    "    Performer.simple_run(\n",
    "        agent_class=BEST_MODEL,\n",
    "        fixed_parameters=fixed_parameters,\n",
    "        free_parameters=free_parameters,\n",
    "        simulation_parameters=simulation_parameters,\n",
    "        measures=[],\n",
    "        data_folder=data_folder,\n",
    "        seeds=seeds\n",
    "    )"
   ]
  },
  {
   "cell_type": "markdown",
   "metadata": {},
   "source": [
    "### Compare with human data"
   ]
  },
  {
   "cell_type": "code",
   "execution_count": 15,
   "metadata": {},
   "outputs": [],
   "source": [
    "# Loading simulated data\n",
    "\n",
    "# BEST_MODEL = MFPM2\n",
    "BEST_MODEL = AttendanceM2\n",
    "\n",
    "data_folder = PATHS['parameter_fit_results'] / Path('MLE')\n",
    "\n",
    "df_list = list()\n",
    "for i in range(num_groups):\n",
    "    file = data_folder / Path(f'{BEST_MODEL.name()}_{i+1}.csv')\n",
    "    # print(f'Loading data from {file}...')\n",
    "    data_sim = pd.read_csv(file)\n",
    "    data_sim['model'] = BEST_MODEL.name()\n",
    "    df_list.append(data_sim)\n",
    "\n",
    "data_sim = pd.concat(df_list, ignore_index=True)\n",
    "\n",
    "df = PPT.concat_dfs(data_human, data_sim)"
   ]
  },
  {
   "cell_type": "code",
   "execution_count": 16,
   "metadata": {},
   "outputs": [
    {
     "name": "stdout",
     "output_type": "stream",
     "text": [
      "Warning: No plot saved. To save plot, provide file name.\n",
      "Warning: No plot saved. To save plot, provide file name.\n",
      "Plot saved to /Users/edgar/Documents/GitHub/Cognitive_Models_El_Farol_Bar_Problem/reports/MLE/two_way_comparisons_all.png\n"
     ]
    }
   ],
   "source": [
    "p = PlotVSMeasures(df)\n",
    "image_file = PATHS['parameter_fit_results'] / Path('MLE', f'two_way_comparisons_all.png')\n",
    "measure_pairs = [['efficiency', 'attendance'], ['efficiency', 'inequality']]\n",
    "p.two_way_comparisons(measure_pairs, image_file)"
   ]
  },
  {
   "cell_type": "markdown",
   "metadata": {},
   "source": [
    "### Simulate treatments"
   ]
  },
  {
   "cell_type": "code",
   "execution_count": 17,
   "metadata": {},
   "outputs": [],
   "source": [
    "# Loading all models\n",
    "file_all = Path(PATHS['parameter_fit_results'], 'MLE/best_fit_all.json')\n",
    "df_all = pd.read_json(file_all)\n",
    "df_all.index = df_all.model_name\n",
    "\n",
    "# Create a dictionary with model names as keys and free parameters as values\n",
    "df_parameters_all = dict(zip(df_all['model_name'], df_all['free_parameters']))"
   ]
  },
  {
   "cell_type": "code",
   "execution_count": 18,
   "metadata": {},
   "outputs": [
    {
     "data": {
      "text/plain": [
       "{'bias': 0.38169685922788604,\n",
       " 'inverse_temperature': 6.258188362859529,\n",
       " 'learning_rate': 0.134296558875471}"
      ]
     },
     "execution_count": 18,
     "metadata": {},
     "output_type": "execute_result"
    }
   ],
   "source": [
    "# BEST_MODEL = MFPM2\n",
    "BEST_MODEL = AttendanceM2\n",
    "# BEST_MODEL = AttendanceM3\n",
    "free_parameters = df_parameters_all[BEST_MODEL.name()]\n",
    "free_parameters"
   ]
  },
  {
   "cell_type": "code",
   "execution_count": 19,
   "metadata": {},
   "outputs": [],
   "source": [
    "fixed_parameters = {\n",
    "    'num_agents': 8, \n",
    "    'threshold': 0 # to be filled\n",
    "}\n",
    "simulation_parameters = {\n",
    "    'num_episodes': 30, \n",
    "    'num_rounds': 50, \n",
    "    'verbose': 0\n",
    "}\n",
    "thresholds = [0.25, 0.5, 0.75]\n",
    "data_folder = PATHS['parameter_fit_results'] / Path('MLE')\n",
    "kwargs = {\n",
    "    'model_name': BEST_MODEL.name(),\n",
    "}"
   ]
  },
  {
   "cell_type": "code",
   "execution_count": null,
   "metadata": {},
   "outputs": [],
   "source": []
  },
  {
   "cell_type": "code",
   "execution_count": 20,
   "metadata": {},
   "outputs": [
    {
     "name": "stderr",
     "output_type": "stream",
     "text": [
      "Running models for each threshold: 100%|██████████| 6/6 [00:03<00:00,  1.67it/s]\n"
     ]
    },
    {
     "name": "stdout",
     "output_type": "stream",
     "text": [
      "Plotting efficiency...\n",
      "Plot saved to /Users/edgar/Documents/GitHub/Cognitive_Models_El_Farol_Bar_Problem/reports/MLE/efficiency_threshold_2.png\n"
     ]
    },
    {
     "data": {
      "text/plain": [
       "'\\n\\\\vspace{\\\\baselineskip}\\n\\n\\n\\nFree parameters:\\n\\n\\\\scalebox{0.8}{\\n\\\\begin{minipage}{\\\\textwidth}\\n\\\\begin{tabular}{ccc}\\n\\\\toprule\\nbias & inverse\\\\_temperature & learning\\\\_rate \\\\\\\\\\n\\\\midrule\\n0.38 & 6.26 & 0.13 \\\\\\\\\\n\\\\bottomrule\\n\\\\end{tabular}\\n\\\\end{minipage}\\n}\\n\\n\\\\vspace{\\\\baselineskip}\\n\\n\\\\begin{tabular}{cc}\\\\toprule\\n\\n\\\\multicolumn{2}{c}{Parameter sweep}\\\\\\\\\\n\\nParameter & Values\\\\\\\\\\\\midrule\\n\\nthreshold & [0.25, 0.5, 0.75]\\\\\\\\\\\\bottomrule\\n\\n\\\\end{tabular}\\n\\n\\n\\\\vspace{\\\\baselineskip}\\n\\n\\\\begin{tabular}{c}\\n\\\\includegraphics[width=\\\\textwidth]{efficiency_threshold_2.png}\\n\\\\end{tabular}\\n'"
      ]
     },
     "execution_count": 20,
     "metadata": {},
     "output_type": "execute_result"
    }
   ],
   "source": [
    "thresholds = [0.25, 0.5, 0.75]\n",
    "kwargs = {\n",
    "    'model_name': BEST_MODEL.name(),\n",
    "    'with_treatment': True\n",
    "}\n",
    "Performer.increase_threshold(\n",
    "    agent_class=BEST_MODEL,\n",
    "    fixed_parameters=fixed_parameters,\n",
    "    free_parameters=free_parameters,\n",
    "    simulation_parameters=simulation_parameters,\n",
    "    thresholds=thresholds,\n",
    "    measures=['efficiency'],\n",
    "    image_folder=data_folder,\n",
    "    kwargs=kwargs\n",
    ")"
   ]
  },
  {
   "cell_type": "code",
   "execution_count": null,
   "metadata": {},
   "outputs": [],
   "source": []
  },
  {
   "cell_type": "code",
   "execution_count": null,
   "metadata": {},
   "outputs": [],
   "source": []
  },
  {
   "cell_type": "code",
   "execution_count": 21,
   "metadata": {},
   "outputs": [
    {
     "name": "stdout",
     "output_type": "stream",
     "text": [
      "Loading data from ../data/human/3-player-IU.csv...\n",
      "Loading data from ../data/human/4-player-IU.csv...\n",
      "Loading data from ../data/human/5-player-IU.csv...\n",
      "Loading data from ../data/human/6-player-IU.csv...\n",
      "Loading data from ../data/human/7-player-IU.csv...\n",
      "Loading data from ../data/human/8-player-IU.csv...\n",
      "Loading data from ../data/human/9-player-IU.csv...\n",
      "Loading data from ../data/human/11-player-IU.csv...\n",
      "Loading data from ../data/human/12-player-IU.csv...\n"
     ]
    },
    {
     "data": {
      "text/html": [
       "<div>\n",
       "<style scoped>\n",
       "    .dataframe tbody tr th:only-of-type {\n",
       "        vertical-align: middle;\n",
       "    }\n",
       "\n",
       "    .dataframe tbody tr th {\n",
       "        vertical-align: top;\n",
       "    }\n",
       "\n",
       "    .dataframe thead th {\n",
       "        text-align: right;\n",
       "    }\n",
       "</style>\n",
       "<table border=\"1\" class=\"dataframe\">\n",
       "  <thead>\n",
       "    <tr style=\"text-align: right;\">\n",
       "      <th></th>\n",
       "      <th>threshold</th>\n",
       "      <th>round</th>\n",
       "      <th>player</th>\n",
       "      <th>decision</th>\n",
       "      <th>score</th>\n",
       "      <th>num_players</th>\n",
       "      <th>group</th>\n",
       "    </tr>\n",
       "  </thead>\n",
       "  <tbody>\n",
       "    <tr>\n",
       "      <th>0</th>\n",
       "      <td>0.333333</td>\n",
       "      <td>1.0</td>\n",
       "      <td>406360458182849</td>\n",
       "      <td>1.0</td>\n",
       "      <td>-1.0</td>\n",
       "      <td>3</td>\n",
       "      <td>17</td>\n",
       "    </tr>\n",
       "    <tr>\n",
       "      <th>1</th>\n",
       "      <td>0.333333</td>\n",
       "      <td>1.0</td>\n",
       "      <td>679877000681823</td>\n",
       "      <td>1.0</td>\n",
       "      <td>-1.0</td>\n",
       "      <td>3</td>\n",
       "      <td>17</td>\n",
       "    </tr>\n",
       "    <tr>\n",
       "      <th>2</th>\n",
       "      <td>0.333333</td>\n",
       "      <td>1.0</td>\n",
       "      <td>740425726975861</td>\n",
       "      <td>1.0</td>\n",
       "      <td>-1.0</td>\n",
       "      <td>3</td>\n",
       "      <td>17</td>\n",
       "    </tr>\n",
       "    <tr>\n",
       "      <th>3</th>\n",
       "      <td>0.333333</td>\n",
       "      <td>2.0</td>\n",
       "      <td>406360458182849</td>\n",
       "      <td>1.0</td>\n",
       "      <td>-1.0</td>\n",
       "      <td>3</td>\n",
       "      <td>17</td>\n",
       "    </tr>\n",
       "    <tr>\n",
       "      <th>4</th>\n",
       "      <td>0.333333</td>\n",
       "      <td>2.0</td>\n",
       "      <td>679877000681823</td>\n",
       "      <td>1.0</td>\n",
       "      <td>-1.0</td>\n",
       "      <td>3</td>\n",
       "      <td>17</td>\n",
       "    </tr>\n",
       "  </tbody>\n",
       "</table>\n",
       "</div>"
      ],
      "text/plain": [
       "   threshold  round           player  decision  score  num_players  group\n",
       "0   0.333333    1.0  406360458182849       1.0   -1.0            3     17\n",
       "1   0.333333    1.0  679877000681823       1.0   -1.0            3     17\n",
       "2   0.333333    1.0  740425726975861       1.0   -1.0            3     17\n",
       "3   0.333333    2.0  406360458182849       1.0   -1.0            3     17\n",
       "4   0.333333    2.0  679877000681823       1.0   -1.0            3     17"
      ]
     },
     "execution_count": 21,
     "metadata": {},
     "output_type": "execute_result"
    }
   ],
   "source": [
    "# Load data into a dataframe\n",
    "data_folder = Path('..', 'data', 'human')\n",
    "file_names = [\n",
    "#\t'2-player-UR.csv',\n",
    "\t'3-player-IU.csv',\n",
    "\t'4-player-IU.csv',\n",
    "\t'5-player-IU.csv',\n",
    "\t'6-player-IU.csv',\n",
    "\t'7-player-IU.csv',\n",
    "\t'8-player-IU.csv',\n",
    "\t'9-player-IU.csv',\n",
    "\t'11-player-IU.csv',\n",
    "\t'12-player-IU.csv',\n",
    "]\n",
    "df_list = list()\n",
    "for file_name in file_names:\n",
    "\tfile = data_folder / Path(file_name)\n",
    "\tprint(f'Loading data from {file}...')\n",
    "\tdf = pd.read_csv(file)\n",
    "\tdf_list.append(df)\n",
    "data = pd.concat(df_list, ignore_index=True)\n",
    "columns = ['threshold', 'num_players', 'group', 'round', 'player', 'score', 'decision']\n",
    "drop_columns = [col for col in data.columns if col not in columns]\n",
    "data.drop(columns=drop_columns, inplace=True)\n",
    "data.head()"
   ]
  },
  {
   "cell_type": "code",
   "execution_count": 22,
   "metadata": {},
   "outputs": [
    {
     "name": "stdout",
     "output_type": "stream",
     "text": [
      "Group 5\n",
      "Threshold: [0.25 0.5  0.75]\n",
      "Group 7\n",
      "Threshold: [0.875 0.625 0.375]\n",
      "Group 9\n",
      "Threshold: [0.25 0.5  0.75]\n",
      "Group 11\n",
      "Threshold: [0.875 0.625 0.375]\n",
      "Group 12\n",
      "Threshold: [0.8 0.6 0.4]\n",
      "Group 13\n",
      "Threshold: [0.27272727 0.45454545 0.63636364]\n",
      "Group 14\n",
      "Threshold: [0.4 0.6 0.8]\n",
      "Group 15\n",
      "Threshold: [0.25 0.5  0.75]\n",
      "Group 17\n",
      "Threshold: [0.33333333 0.66666667]\n",
      "Group 18\n",
      "Threshold: [0.75 0.5  0.25]\n",
      "Group 22\n",
      "Threshold: [0.33333333 0.66666667]\n",
      "Group 23\n",
      "Threshold: [0.4 0.6 0.8]\n",
      "Group 24\n",
      "Threshold: [0.33333333 0.66666667]\n",
      "Group 25\n",
      "Threshold: [0.75 0.5  0.25]\n",
      "Group 26\n",
      "Threshold: [0.8 0.6 0.4]\n",
      "Group 27\n",
      "Threshold: [0.25 0.5  0.75]\n",
      "Group 29\n",
      "Threshold: [0.25 0.5  0.75]\n",
      "Group 30\n",
      "Threshold: [0.66666667 0.33333333]\n",
      "Group 31\n",
      "Threshold: [0.25 0.5  0.75]\n",
      "Group 32\n",
      "Threshold: [0.42857143 0.71428571 1.        ]\n",
      "Group 33\n",
      "Threshold: [0.25 0.5  0.75]\n",
      "Group 34\n",
      "Threshold: [0.33333333 0.66666667]\n",
      "Group 35\n",
      "Threshold: [0.33333333 0.5        0.66666667]\n",
      "Group 37\n",
      "Threshold: [0.42857143 0.71428571 1.        ]\n",
      "Group 38\n",
      "Threshold: [0.33333333 0.55555556 0.77777778]\n",
      "Group 39\n",
      "Threshold: [0.375 0.625 0.875]\n",
      "Group 40\n",
      "Threshold: [0.33333333 0.5        0.66666667]\n",
      "Group 41\n",
      "Threshold: [0.33333333 0.66666667]\n"
     ]
    }
   ],
   "source": [
    "for key, grp in data.groupby('group'):\n",
    "    print(f'Group {key}')\n",
    "    print(f'Threshold: {grp[\"threshold\"].unique()}')"
   ]
  },
  {
   "cell_type": "code",
   "execution_count": null,
   "metadata": {},
   "outputs": [],
   "source": []
  }
 ],
 "metadata": {
  "kernelspec": {
   "display_name": "Python 3 (ipykernel)",
   "language": "python",
   "name": "python3"
  },
  "language_info": {
   "codemirror_mode": {
    "name": "ipython",
    "version": 3
   },
   "file_extension": ".py",
   "mimetype": "text/x-python",
   "name": "python",
   "nbconvert_exporter": "python",
   "pygments_lexer": "ipython3",
   "version": "3.13.3"
  }
 },
 "nbformat": 4,
 "nbformat_minor": 2
}
