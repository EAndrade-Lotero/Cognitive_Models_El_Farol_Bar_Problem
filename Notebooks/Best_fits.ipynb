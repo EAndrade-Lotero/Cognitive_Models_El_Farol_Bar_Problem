{
 "cells": [
  {
   "cell_type": "code",
   "execution_count": 1,
   "metadata": {},
   "outputs": [],
   "source": [
    "import sys\n",
    "sys.path.append(\"../src\")\n",
    "\n",
    "import warnings\n",
    "warnings.filterwarnings(\"ignore\")\n",
    "\n",
    "from pprint import PrettyPrinter\n",
    "# Configure pretty printer\n",
    "pp = PrettyPrinter(compact=True)\n",
    "print_ = lambda x: pp.pprint(x)"
   ]
  },
  {
   "cell_type": "code",
   "execution_count": 2,
   "metadata": {},
   "outputs": [],
   "source": [
    "import json\n",
    "import random\n",
    "import pandas as pd\n",
    "from pathlib import Path\n",
    "\n",
    "from Utils.utils import PPT\n",
    "from Config.config import PATHS\n",
    "from Utils.interaction import Performer\n",
    "from Utils.plot_utils import PlotVSMeasures\n",
    "from Utils.utils import Grid\n",
    "\n",
    "from Classes.cognitive_model_agents import AttendanceM2, FairnessM3, MFPM2, AvailableSpaceM2\n"
   ]
  },
  {
   "cell_type": "markdown",
   "metadata": {},
   "source": [
    "## 2 Players"
   ]
  },
  {
   "cell_type": "markdown",
   "metadata": {},
   "source": [
    "### Show AIC"
   ]
  },
  {
   "cell_type": "code",
   "execution_count": null,
   "metadata": {},
   "outputs": [],
   "source": [
    "file_2PL = Path(PATHS['parameter_fit_results'], 'MLE/best_fit_2P.json')\n",
    "df_2P = pd.read_json(file_2PL)\n",
    "df_2P.index = df_2P.model_name\n",
    "df_parameters_2P = df_2P[['model_name', 'free_parameters']]\n",
    "df_2P.drop(columns=['model_name', 'free_parameters'], inplace=True)\n",
    "df_2P.sort_values(by='model_name', inplace=True)\n",
    "df_2P['deviance'] = df_2P['deviance'].apply(lambda x: int(x))\n",
    "df_2P['AIC'] = df_2P['AIC'].apply(lambda x: int(x))\n",
    "df_2P"
   ]
  },
  {
   "cell_type": "code",
   "execution_count": null,
   "metadata": {},
   "outputs": [],
   "source": [
    "latex_string = df_2P.to_latex()\n",
    "print(latex_string)"
   ]
  },
  {
   "cell_type": "code",
   "execution_count": null,
   "metadata": {},
   "outputs": [],
   "source": [
    "from Utils.LaTeX_utils import PrintLaTeX\n",
    "\n",
    "latex_string_parameters = ''\n",
    "\n",
    "for model, row in df_parameters_2P.iterrows():\n",
    "    if model in ['Attendance-M2', 'MFP-M2']:\n",
    "        parameters = row['free_parameters']\n",
    "        latex_string_parameters += r'\\textbf\\{' + model + '\\}\\n'\n",
    "        latex_string_parameters += PrintLaTeX.print_parameters(parameters)\n",
    "\n",
    "print(latex_string_parameters)"
   ]
  },
  {
   "cell_type": "markdown",
   "metadata": {},
   "source": [
    "### Simulate best fit model"
   ]
  },
  {
   "cell_type": "code",
   "execution_count": null,
   "metadata": {},
   "outputs": [],
   "source": [
    "with open(file_2PL, 'r') as f:\n",
    "    params_dict = json.load(f)\n",
    "\n",
    "def get_free_parameters(model_name, params_dict):\n",
    "    model_names = params_dict['model_name']\n",
    "    idx = model_names.index(model_name)\n",
    "    return params_dict['free_parameters'][idx]\n",
    "\n",
    "# BEST_MODEL = AttendanceM2\n",
    "# BEST_MODEL = FairnessM3\n",
    "BEST_MODEL = FairnessM3\n",
    "\n",
    "fixed_parameters = {\n",
    "\t\"threshold\":0.5,\n",
    "\t\"num_agents\":2,\n",
    "}\n",
    "free_parameters = get_free_parameters(BEST_MODEL.name(), params_dict)\n",
    "simulation_parameters = {\n",
    "\t'num_rounds':50,\n",
    "\t'verbose':False\n",
    "}"
   ]
  },
  {
   "cell_type": "code",
   "execution_count": null,
   "metadata": {},
   "outputs": [],
   "source": [
    "data_folder = PATHS['parameter_fit_results'] / Path('MLE')\n",
    "num_episodes = 23 # same as human groups\n",
    "random.seed(1)\n",
    "seeds = [random.randint(0, 1000) for _ in range(num_episodes)]\n",
    "\n",
    "\n",
    "Performer.simple_run(\n",
    "    agent_class=BEST_MODEL,\n",
    "    fixed_parameters=fixed_parameters,\n",
    "    free_parameters=free_parameters,\n",
    "    simulation_parameters=simulation_parameters,\n",
    "    measures=[],\n",
    "    data_folder=data_folder,\n",
    "    seeds=seeds\n",
    ")\n"
   ]
  },
  {
   "cell_type": "markdown",
   "metadata": {},
   "source": [
    "### Comparing with human data"
   ]
  },
  {
   "cell_type": "code",
   "execution_count": 3,
   "metadata": {},
   "outputs": [
    {
     "name": "stdout",
     "output_type": "stream",
     "text": [
      "Loading data from ..\\data\\human\\2-player-UR.csv...\n",
      "Loading data from C:\\Users\\andra\\Documents\\Cognitive_Models_El_Farol_Bar_Problem\\reports\\MLE\\AvailableSpace-M2.csv...\n"
     ]
    }
   ],
   "source": [
    "# Loading human data\n",
    "file_name = '2-player-UR.csv'\n",
    "data_folder = Path('..', 'data', 'human')\n",
    "file = data_folder / Path(file_name)\n",
    "print(f'Loading data from {file}...')\n",
    "data_human = pd.read_csv(file)\n",
    "data_human.drop(columns=['room', 'choice'], inplace=True)\n",
    "data_human['model'] = 'human'\n",
    "\n",
    "# Loading simulated data\n",
    "\n",
    "BEST_MODEL = AvailableSpaceM2\n",
    "\n",
    "data_folder = PATHS['parameter_fit_results'] / Path('MLE')\n",
    "file = data_folder / Path(f'{BEST_MODEL.name()}.csv')\n",
    "print(f'Loading data from {file}...')\n",
    "data_sim = pd.read_csv(file)\n",
    "data_sim['model'] = BEST_MODEL.name()\n",
    "\n",
    "df = PPT.concat_dfs(data_human, data_sim)\n",
    "\n",
    "p = PlotVSMeasures(df)"
   ]
  },
  {
   "cell_type": "code",
   "execution_count": null,
   "metadata": {},
   "outputs": [],
   "source": [
    "image_file = PATHS['parameter_fit_results'] / Path('MLE', f'two_way_comparisons.png')\n",
    "measure_pairs = [['efficiency', 'inequality'], ['efficiency', 'attendance']]\n",
    "p.two_way_comparisons(measure_pairs, image_file)"
   ]
  },
  {
   "cell_type": "code",
   "execution_count": null,
   "metadata": {},
   "outputs": [],
   "source": [
    "# measures=['efficiency', 'entropy']\n",
    "# image_file = PATHS['parameter_fit_results'] / Path('MLE', f'{measures[0]}_vs_{measures[1]}.png')\n",
    "# p.plot_vs(\n",
    "#     pair_measures=measures,\n",
    "#     file=image_file\n",
    "# )\n",
    "measures = ['efficiency', 'inequality']\n",
    "image_file = PATHS['parameter_fit_results'] / Path('MLE', f'{measures[0]}_vs_{measures[1]}.png')\n",
    "p.plot_vs(\n",
    "    pair_measures=measures,\n",
    "    file=image_file\n",
    ")\n",
    "measures = ['efficiency', 'attendance']\n",
    "image_file = PATHS['parameter_fit_results'] / Path('MLE', f'{measures[0]}_vs_{measures[1]}.png')\n",
    "p.plot_vs(\n",
    "    pair_measures=measures,\n",
    "    file=image_file\n",
    ")"
   ]
  },
  {
   "cell_type": "markdown",
   "metadata": {},
   "source": [
    "## All sizes"
   ]
  },
  {
   "cell_type": "code",
   "execution_count": null,
   "metadata": {},
   "outputs": [],
   "source": [
    "file_all = Path(PATHS['parameter_fit_results'], 'MLE/best_fit_all.json')\n",
    "df_all = pd.read_json(file_all)\n",
    "df_all.index = df_all.model_name\n",
    "df_parameters_all = df_all[['model_name', 'free_parameters']]\n",
    "df_all.drop(columns=['model_name', 'free_parameters'], inplace=True)\n",
    "df_all.sort_values(by='model_name', inplace=True)\n",
    "df_all['deviance'] = df_all['deviance'].apply(lambda x: int(x))\n",
    "df_all['AIC'] = df_all['AIC'].apply(lambda x: int(x))\n",
    "df_all"
   ]
  },
  {
   "cell_type": "code",
   "execution_count": null,
   "metadata": {},
   "outputs": [],
   "source": [
    "latex_string = df_all.to_latex()\n",
    "print(latex_string)"
   ]
  },
  {
   "cell_type": "code",
   "execution_count": null,
   "metadata": {},
   "outputs": [],
   "source": [
    "from Utils.LaTeX_utils import PrintLaTeX\n",
    "\n",
    "latex_string_parameters = ''\n",
    "\n",
    "for model, row in df_parameters_all.iterrows():\n",
    "    if model in ['Attendance-M2']:\n",
    "        parameters = row['free_parameters']\n",
    "        latex_string_parameters += r'\\textbf\\{' + model + '\\}\\n'\n",
    "        latex_string_parameters += PrintLaTeX.print_parameters(parameters)\n",
    "\n",
    "print(latex_string_parameters)"
   ]
  },
  {
   "cell_type": "code",
   "execution_count": null,
   "metadata": {},
   "outputs": [],
   "source": []
  }
 ],
 "metadata": {
  "kernelspec": {
   "display_name": "base",
   "language": "python",
   "name": "python3"
  },
  "language_info": {
   "codemirror_mode": {
    "name": "ipython",
    "version": 3
   },
   "file_extension": ".py",
   "mimetype": "text/x-python",
   "name": "python",
   "nbconvert_exporter": "python",
   "pygments_lexer": "ipython3",
   "version": "3.11.5"
  }
 },
 "nbformat": 4,
 "nbformat_minor": 2
}
