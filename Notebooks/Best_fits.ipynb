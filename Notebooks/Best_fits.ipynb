{
 "cells": [
  {
   "cell_type": "code",
   "execution_count": 1,
   "metadata": {},
   "outputs": [],
   "source": [
    "import sys\n",
    "sys.path.append(\"../src\")\n",
    "\n",
    "import warnings\n",
    "warnings.filterwarnings(\"ignore\")\n",
    "\n",
    "from pprint import PrettyPrinter\n",
    "# Configure pretty printer\n",
    "pp = PrettyPrinter(compact=True)\n",
    "print_ = lambda x: pp.pprint(x)"
   ]
  },
  {
   "cell_type": "code",
   "execution_count": 2,
   "metadata": {},
   "outputs": [],
   "source": [
    "import json\n",
    "import random\n",
    "import pandas as pd\n",
    "\n",
    "from pathlib import Path\n",
    "\n",
    "from Utils.utils import PPT\n",
    "from Config.config import PATHS\n",
    "from Utils.interaction import Performer\n",
    "from Utils.plot_utils import PlotVSMeasures\n",
    "from Classes.cognitive_model_agents import (\n",
    "    AttendanceM2, AttendanceM3, \n",
    "    MFPM2\n",
    ")\n"
   ]
  },
  {
   "cell_type": "markdown",
   "metadata": {},
   "source": [
    "## 2 Players"
   ]
  },
  {
   "cell_type": "markdown",
   "metadata": {},
   "source": [
    "### Show AIC"
   ]
  },
  {
   "cell_type": "code",
   "execution_count": 12,
   "metadata": {},
   "outputs": [
    {
     "data": {
      "text/html": [
       "<div>\n",
       "<style scoped>\n",
       "    .dataframe tbody tr th:only-of-type {\n",
       "        vertical-align: middle;\n",
       "    }\n",
       "\n",
       "    .dataframe tbody tr th {\n",
       "        vertical-align: top;\n",
       "    }\n",
       "\n",
       "    .dataframe thead th {\n",
       "        text-align: right;\n",
       "    }\n",
       "</style>\n",
       "<table border=\"1\" class=\"dataframe\">\n",
       "  <thead>\n",
       "    <tr style=\"text-align: right;\">\n",
       "      <th></th>\n",
       "      <th>deviance</th>\n",
       "      <th>AIC</th>\n",
       "    </tr>\n",
       "    <tr>\n",
       "      <th>model_name</th>\n",
       "      <th></th>\n",
       "      <th></th>\n",
       "    </tr>\n",
       "  </thead>\n",
       "  <tbody>\n",
       "    <tr>\n",
       "      <th>Payoff-M3</th>\n",
       "      <td>2867</td>\n",
       "      <td>5739</td>\n",
       "    </tr>\n",
       "    <tr>\n",
       "      <th>Payoff-M2</th>\n",
       "      <td>2867</td>\n",
       "      <td>5739</td>\n",
       "    </tr>\n",
       "    <tr>\n",
       "      <th>MFP-M1</th>\n",
       "      <td>3085</td>\n",
       "      <td>6174</td>\n",
       "    </tr>\n",
       "    <tr>\n",
       "      <th>Attendance-M2</th>\n",
       "      <td>3135</td>\n",
       "      <td>6276</td>\n",
       "    </tr>\n",
       "    <tr>\n",
       "      <th>Attendance-M3</th>\n",
       "      <td>3135</td>\n",
       "      <td>6276</td>\n",
       "    </tr>\n",
       "    <tr>\n",
       "      <th>Attendance-M1</th>\n",
       "      <td>3135</td>\n",
       "      <td>6276</td>\n",
       "    </tr>\n",
       "    <tr>\n",
       "      <th>Priors-M1</th>\n",
       "      <td>3136</td>\n",
       "      <td>6279</td>\n",
       "    </tr>\n",
       "    <tr>\n",
       "      <th>Priors-M3</th>\n",
       "      <td>3138</td>\n",
       "      <td>6295</td>\n",
       "    </tr>\n",
       "    <tr>\n",
       "      <th>WSLS-M3</th>\n",
       "      <td>3154</td>\n",
       "      <td>6315</td>\n",
       "    </tr>\n",
       "    <tr>\n",
       "      <th>WSLS-M2</th>\n",
       "      <td>3154</td>\n",
       "      <td>6315</td>\n",
       "    </tr>\n",
       "    <tr>\n",
       "      <th>WSLS-M1</th>\n",
       "      <td>3182</td>\n",
       "      <td>6370</td>\n",
       "    </tr>\n",
       "    <tr>\n",
       "      <th>AvailableSpace-M1</th>\n",
       "      <td>3182</td>\n",
       "      <td>6371</td>\n",
       "    </tr>\n",
       "    <tr>\n",
       "      <th>AvailableSpace-M2</th>\n",
       "      <td>3182</td>\n",
       "      <td>6371</td>\n",
       "    </tr>\n",
       "    <tr>\n",
       "      <th>AvailableSpace-M3</th>\n",
       "      <td>3182</td>\n",
       "      <td>6371</td>\n",
       "    </tr>\n",
       "    <tr>\n",
       "      <th>Payoff-M1</th>\n",
       "      <td>3188</td>\n",
       "      <td>6380</td>\n",
       "    </tr>\n",
       "    <tr>\n",
       "      <th>Fairness-M1</th>\n",
       "      <td>3188</td>\n",
       "      <td>6382</td>\n",
       "    </tr>\n",
       "    <tr>\n",
       "      <th>Fairness-M2</th>\n",
       "      <td>3188</td>\n",
       "      <td>6382</td>\n",
       "    </tr>\n",
       "    <tr>\n",
       "      <th>Fairness-M3</th>\n",
       "      <td>3188</td>\n",
       "      <td>6382</td>\n",
       "    </tr>\n",
       "    <tr>\n",
       "      <th>MFP-M3</th>\n",
       "      <td>3294</td>\n",
       "      <td>6592</td>\n",
       "    </tr>\n",
       "    <tr>\n",
       "      <th>MFP-M2</th>\n",
       "      <td>3556</td>\n",
       "      <td>7116</td>\n",
       "    </tr>\n",
       "    <tr>\n",
       "      <th>Priors-M2</th>\n",
       "      <td>3700</td>\n",
       "      <td>7427</td>\n",
       "    </tr>\n",
       "  </tbody>\n",
       "</table>\n",
       "</div>"
      ],
      "text/plain": [
       "                   deviance   AIC\n",
       "model_name                       \n",
       "Payoff-M3              2867  5739\n",
       "Payoff-M2              2867  5739\n",
       "MFP-M1                 3085  6174\n",
       "Attendance-M2          3135  6276\n",
       "Attendance-M3          3135  6276\n",
       "Attendance-M1          3135  6276\n",
       "Priors-M1              3136  6279\n",
       "Priors-M3              3138  6295\n",
       "WSLS-M3                3154  6315\n",
       "WSLS-M2                3154  6315\n",
       "WSLS-M1                3182  6370\n",
       "AvailableSpace-M1      3182  6371\n",
       "AvailableSpace-M2      3182  6371\n",
       "AvailableSpace-M3      3182  6371\n",
       "Payoff-M1              3188  6380\n",
       "Fairness-M1            3188  6382\n",
       "Fairness-M2            3188  6382\n",
       "Fairness-M3            3188  6382\n",
       "MFP-M3                 3294  6592\n",
       "MFP-M2                 3556  7116\n",
       "Priors-M2              3700  7427"
      ]
     },
     "execution_count": 12,
     "metadata": {},
     "output_type": "execute_result"
    }
   ],
   "source": [
    "file_2PL = Path(PATHS['parameter_fit_results'], 'MLE/best_fit_2P.json')\n",
    "df_2P = pd.read_json(file_2PL, lines=True)\n",
    "df_2P.index = df_2P.model_name\n",
    "df_parameters_2P = df_2P[['model_name', 'free_parameters']]\n",
    "df_2P.drop(columns=['model', 'model_name', 'free_parameters', 'fixed_parameters'], inplace=True)\n",
    "df_2P.sort_values(by='AIC', inplace=True)\n",
    "# df_2P.sort_values(by='model_name', inplace=True)\n",
    "df_2P['deviance'] = df_2P['deviance'].apply(lambda x: int(-x))\n",
    "df_2P['AIC'] = df_2P['AIC'].apply(lambda x: int(x))\n",
    "df_2P"
   ]
  },
  {
   "cell_type": "code",
   "execution_count": 15,
   "metadata": {},
   "outputs": [
    {
     "data": {
      "text/html": [
       "<div>\n",
       "<style scoped>\n",
       "    .dataframe tbody tr th:only-of-type {\n",
       "        vertical-align: middle;\n",
       "    }\n",
       "\n",
       "    .dataframe tbody tr th {\n",
       "        vertical-align: top;\n",
       "    }\n",
       "\n",
       "    .dataframe thead th {\n",
       "        text-align: right;\n",
       "    }\n",
       "</style>\n",
       "<table border=\"1\" class=\"dataframe\">\n",
       "  <thead>\n",
       "    <tr style=\"text-align: right;\">\n",
       "      <th></th>\n",
       "      <th>deviance</th>\n",
       "      <th>AIC</th>\n",
       "    </tr>\n",
       "    <tr>\n",
       "      <th>model_name</th>\n",
       "      <th></th>\n",
       "      <th></th>\n",
       "    </tr>\n",
       "  </thead>\n",
       "  <tbody>\n",
       "    <tr>\n",
       "      <th>Attendance-M2</th>\n",
       "      <td>2333</td>\n",
       "      <td>4672</td>\n",
       "    </tr>\n",
       "    <tr>\n",
       "      <th>MFP-M2</th>\n",
       "      <td>2563</td>\n",
       "      <td>5131</td>\n",
       "    </tr>\n",
       "    <tr>\n",
       "      <th>AvailableSpace-M2</th>\n",
       "      <td>2785</td>\n",
       "      <td>5576</td>\n",
       "    </tr>\n",
       "    <tr>\n",
       "      <th>Fairness-M2</th>\n",
       "      <td>2859</td>\n",
       "      <td>5725</td>\n",
       "    </tr>\n",
       "    <tr>\n",
       "      <th>Payoff-M2</th>\n",
       "      <td>2867</td>\n",
       "      <td>5739</td>\n",
       "    </tr>\n",
       "    <tr>\n",
       "      <th>WSLS-M2</th>\n",
       "      <td>3154</td>\n",
       "      <td>6315</td>\n",
       "    </tr>\n",
       "    <tr>\n",
       "      <th>Priors-M2</th>\n",
       "      <td>3208</td>\n",
       "      <td>6442</td>\n",
       "    </tr>\n",
       "  </tbody>\n",
       "</table>\n",
       "</div>"
      ],
      "text/plain": [
       "                   deviance   AIC\n",
       "model_name                       \n",
       "Attendance-M2          2333  4672\n",
       "MFP-M2                 2563  5131\n",
       "AvailableSpace-M2      2785  5576\n",
       "Fairness-M2            2859  5725\n",
       "Payoff-M2              2867  5739\n",
       "WSLS-M2                3154  6315\n",
       "Priors-M2              3208  6442"
      ]
     },
     "execution_count": 15,
     "metadata": {},
     "output_type": "execute_result"
    }
   ],
   "source": [
    "file_2PL = Path(PATHS['parameter_fit_results'], 'MLE/best_fit_2P_2.json')\n",
    "df_2P = pd.read_json(file_2PL, lines=True)\n",
    "df_2P.index = df_2P.model_name\n",
    "df_parameters_2P = df_2P[['model_name', 'free_parameters']]\n",
    "df_2P.drop(columns=['model', 'model_name', 'free_parameters', 'fixed_parameters'], inplace=True)\n",
    "df_2P.sort_values(by='AIC', inplace=True)\n",
    "# df_2P.sort_values(by='model_name', inplace=True)\n",
    "df_2P['deviance'] = df_2P['deviance'].apply(lambda x: int(-x))\n",
    "df_2P['AIC'] = df_2P['AIC'].apply(lambda x: int(x))\n",
    "df_2P"
   ]
  },
  {
   "cell_type": "code",
   "execution_count": 14,
   "metadata": {},
   "outputs": [
    {
     "data": {
      "text/html": [
       "<div>\n",
       "<style scoped>\n",
       "    .dataframe tbody tr th:only-of-type {\n",
       "        vertical-align: middle;\n",
       "    }\n",
       "\n",
       "    .dataframe tbody tr th {\n",
       "        vertical-align: top;\n",
       "    }\n",
       "\n",
       "    .dataframe thead th {\n",
       "        text-align: right;\n",
       "    }\n",
       "</style>\n",
       "<table border=\"1\" class=\"dataframe\">\n",
       "  <thead>\n",
       "    <tr style=\"text-align: right;\">\n",
       "      <th></th>\n",
       "      <th>deviance</th>\n",
       "      <th>AIC</th>\n",
       "    </tr>\n",
       "    <tr>\n",
       "      <th>model_name</th>\n",
       "      <th></th>\n",
       "      <th></th>\n",
       "    </tr>\n",
       "  </thead>\n",
       "  <tbody>\n",
       "    <tr>\n",
       "      <th>Attendance-M3</th>\n",
       "      <td>2333</td>\n",
       "      <td>4672</td>\n",
       "    </tr>\n",
       "    <tr>\n",
       "      <th>MFP-M3</th>\n",
       "      <td>2563</td>\n",
       "      <td>5131</td>\n",
       "    </tr>\n",
       "    <tr>\n",
       "      <th>AvailableSpace-M3</th>\n",
       "      <td>2785</td>\n",
       "      <td>5576</td>\n",
       "    </tr>\n",
       "    <tr>\n",
       "      <th>Payoff-M3</th>\n",
       "      <td>2867</td>\n",
       "      <td>5739</td>\n",
       "    </tr>\n",
       "    <tr>\n",
       "      <th>Fairness-M3</th>\n",
       "      <td>3075</td>\n",
       "      <td>6156</td>\n",
       "    </tr>\n",
       "    <tr>\n",
       "      <th>WSLS-M3</th>\n",
       "      <td>3154</td>\n",
       "      <td>6315</td>\n",
       "    </tr>\n",
       "    <tr>\n",
       "      <th>Priors-M3</th>\n",
       "      <td>3369</td>\n",
       "      <td>6756</td>\n",
       "    </tr>\n",
       "  </tbody>\n",
       "</table>\n",
       "</div>"
      ],
      "text/plain": [
       "                   deviance   AIC\n",
       "model_name                       \n",
       "Attendance-M3          2333  4672\n",
       "MFP-M3                 2563  5131\n",
       "AvailableSpace-M3      2785  5576\n",
       "Payoff-M3              2867  5739\n",
       "Fairness-M3            3075  6156\n",
       "WSLS-M3                3154  6315\n",
       "Priors-M3              3369  6756"
      ]
     },
     "execution_count": 14,
     "metadata": {},
     "output_type": "execute_result"
    }
   ],
   "source": [
    "file_2PL = Path(PATHS['parameter_fit_results'], 'MLE/best_fit_2P_3.json')\n",
    "df_2P = pd.read_json(file_2PL, lines=True)\n",
    "df_2P.index = df_2P.model_name\n",
    "df_parameters_2P = df_2P[['model_name', 'free_parameters']]\n",
    "df_2P.drop(columns=['model', 'model_name', 'free_parameters', 'fixed_parameters'], inplace=True)\n",
    "df_2P.sort_values(by='AIC', inplace=True)\n",
    "# df_2P.sort_values(by='model_name', inplace=True)\n",
    "df_2P['deviance'] = df_2P['deviance'].apply(lambda x: int(-x))\n",
    "df_2P['AIC'] = df_2P['AIC'].apply(lambda x: int(x))\n",
    "df_2P"
   ]
  },
  {
   "cell_type": "code",
   "execution_count": 9,
   "metadata": {},
   "outputs": [
    {
     "name": "stdout",
     "output_type": "stream",
     "text": [
      "\\begin{tabular}{lrr}\n",
      "\\toprule\n",
      " & deviance & AIC \\\\\n",
      "model_name &  &  \\\\\n",
      "\\midrule\n",
      "Attendance-M2 & 2333 & 4672 \\\\\n",
      "MFP-M2 & 2563 & 5131 \\\\\n",
      "AvailableSpace-M2 & 2785 & 5576 \\\\\n",
      "Fairness-M2 & 2859 & 5725 \\\\\n",
      "Payoff-M2 & 2867 & 5739 \\\\\n",
      "WSLS-M2 & 3154 & 6315 \\\\\n",
      "Priors-M2 & 3208 & 6442 \\\\\n",
      "\\bottomrule\n",
      "\\end{tabular}\n",
      "\n"
     ]
    }
   ],
   "source": [
    "latex_string = df_2P.to_latex()\n",
    "print(latex_string)"
   ]
  },
  {
   "cell_type": "code",
   "execution_count": 16,
   "metadata": {},
   "outputs": [
    {
     "name": "stdout",
     "output_type": "stream",
     "text": [
      "------------------------------------------------------------\n",
      "Payoff-M2\n",
      "{'inverse_temperature': 1.007205613492727, 'learning_rate': 0.30233257263183905}\n",
      "------------------------------------------------------------\n",
      "Attendance-M2\n",
      "{'bias': 0.6582749870298511, 'inverse_temperature': 10.222250020841022, 'learning_rate': 0.135407345049286}\n",
      "------------------------------------------------------------\n",
      "Fairness-M2\n",
      "{'bias': 0.182698657424529, 'inverse_temperature': 48.79424273649215, 'learning_rate': 0.0067400860222230005}\n"
     ]
    }
   ],
   "source": [
    "from Utils.LaTeX_utils import PrintLaTeX\n",
    "\n",
    "latex_string_parameters = ''\n",
    "\n",
    "for model, row in df_parameters_2P.iterrows():\n",
    "    if model in ['Attendance-M2', 'Fairness-M2', 'Payoff-M2']:\n",
    "        parameters = row['free_parameters']\n",
    "        print('-'*60)\n",
    "        print(model)\n",
    "        print(parameters)\n",
    "        # latex_string_parameters += r'\\textbf\\{' + model + '\\}\\n'\n",
    "        # latex_string_parameters += PrintLaTeX.print_parameters(parameters)\n",
    "\n",
    "# print(latex_string_parameters)"
   ]
  },
  {
   "cell_type": "markdown",
   "metadata": {},
   "source": [
    "### Simulate best fit model"
   ]
  },
  {
   "cell_type": "code",
   "execution_count": 21,
   "metadata": {},
   "outputs": [
    {
     "name": "stdout",
     "output_type": "stream",
     "text": [
      "{'bias': 0.6582749870298511, 'inverse_temperature': 10.222250020841022, 'learning_rate': 0.135407345049286}\n"
     ]
    }
   ],
   "source": [
    "def get_free_parameters(model_name, params_dict):\n",
    "    model_names = df_parameters_2P['model_name'].tolist()\n",
    "    idx = model_names.index(model_name)\n",
    "    return df_parameters_2P['free_parameters'][idx]\n",
    "\n",
    "# BEST_MODEL = MFPM2\n",
    "BEST_MODEL = AttendanceM2\n",
    "\n",
    "fixed_parameters = {\n",
    "\t\"threshold\":0.5,\n",
    "\t\"num_agents\":2,\n",
    "}\n",
    "free_parameters = get_free_parameters(BEST_MODEL.name(), df_parameters_2P)\n",
    "print(free_parameters)\n",
    "simulation_parameters = {\n",
    "\t'num_rounds':50,\n",
    "\t'verbose':False\n",
    "}"
   ]
  },
  {
   "cell_type": "code",
   "execution_count": 22,
   "metadata": {},
   "outputs": [
    {
     "data": {
      "application/vnd.jupyter.widget-view+json": {
       "model_id": "b87af56d8eb441e0a9414c4e818e532e",
       "version_major": 2,
       "version_minor": 0
      },
      "text/plain": [
       "Running seeds...:   0%|          | 0/23 [00:00<?, ?it/s]"
      ]
     },
     "metadata": {},
     "output_type": "display_data"
    },
    {
     "data": {
      "application/vnd.jupyter.widget-view+json": {
       "model_id": "cdfe397f31154dba93cd9e166a9a4a8c",
       "version_major": 2,
       "version_minor": 0
      },
      "text/plain": [
       "  0%|          | 0/1 [00:00<?, ?it/s]"
      ]
     },
     "metadata": {},
     "output_type": "display_data"
    },
    {
     "data": {
      "application/vnd.jupyter.widget-view+json": {
       "model_id": "e95bf29a36ce4f85b6dce6febdb72407",
       "version_major": 2,
       "version_minor": 0
      },
      "text/plain": [
       "  0%|          | 0/1 [00:00<?, ?it/s]"
      ]
     },
     "metadata": {},
     "output_type": "display_data"
    },
    {
     "data": {
      "application/vnd.jupyter.widget-view+json": {
       "model_id": "6123cd19207d4372bd88418b87a1ffa8",
       "version_major": 2,
       "version_minor": 0
      },
      "text/plain": [
       "  0%|          | 0/1 [00:00<?, ?it/s]"
      ]
     },
     "metadata": {},
     "output_type": "display_data"
    },
    {
     "data": {
      "application/vnd.jupyter.widget-view+json": {
       "model_id": "04409ae1974a46ae8773332543d5ae1e",
       "version_major": 2,
       "version_minor": 0
      },
      "text/plain": [
       "  0%|          | 0/1 [00:00<?, ?it/s]"
      ]
     },
     "metadata": {},
     "output_type": "display_data"
    },
    {
     "data": {
      "application/vnd.jupyter.widget-view+json": {
       "model_id": "cdbcf4eabb014ff29b51e3cbf7b89913",
       "version_major": 2,
       "version_minor": 0
      },
      "text/plain": [
       "  0%|          | 0/1 [00:00<?, ?it/s]"
      ]
     },
     "metadata": {},
     "output_type": "display_data"
    },
    {
     "data": {
      "application/vnd.jupyter.widget-view+json": {
       "model_id": "d4aba288b91b4f32a03df02a30ccaf9c",
       "version_major": 2,
       "version_minor": 0
      },
      "text/plain": [
       "  0%|          | 0/1 [00:00<?, ?it/s]"
      ]
     },
     "metadata": {},
     "output_type": "display_data"
    },
    {
     "data": {
      "application/vnd.jupyter.widget-view+json": {
       "model_id": "0e6a8566d3ca4c998abd21e28cec446b",
       "version_major": 2,
       "version_minor": 0
      },
      "text/plain": [
       "  0%|          | 0/1 [00:00<?, ?it/s]"
      ]
     },
     "metadata": {},
     "output_type": "display_data"
    },
    {
     "data": {
      "application/vnd.jupyter.widget-view+json": {
       "model_id": "b7689faac40f4a0c8152bfc99b9c79a0",
       "version_major": 2,
       "version_minor": 0
      },
      "text/plain": [
       "  0%|          | 0/1 [00:00<?, ?it/s]"
      ]
     },
     "metadata": {},
     "output_type": "display_data"
    },
    {
     "data": {
      "application/vnd.jupyter.widget-view+json": {
       "model_id": "8a803edda3c547d9a213eeac031bcd5c",
       "version_major": 2,
       "version_minor": 0
      },
      "text/plain": [
       "  0%|          | 0/1 [00:00<?, ?it/s]"
      ]
     },
     "metadata": {},
     "output_type": "display_data"
    },
    {
     "data": {
      "application/vnd.jupyter.widget-view+json": {
       "model_id": "e7cee8e268a240d692b139ab63d9d366",
       "version_major": 2,
       "version_minor": 0
      },
      "text/plain": [
       "  0%|          | 0/1 [00:00<?, ?it/s]"
      ]
     },
     "metadata": {},
     "output_type": "display_data"
    },
    {
     "data": {
      "application/vnd.jupyter.widget-view+json": {
       "model_id": "4642e38239a24315a919ec0ef7bff5d2",
       "version_major": 2,
       "version_minor": 0
      },
      "text/plain": [
       "  0%|          | 0/1 [00:00<?, ?it/s]"
      ]
     },
     "metadata": {},
     "output_type": "display_data"
    },
    {
     "data": {
      "application/vnd.jupyter.widget-view+json": {
       "model_id": "e04ec1682a4344a29744edf92edf2a88",
       "version_major": 2,
       "version_minor": 0
      },
      "text/plain": [
       "  0%|          | 0/1 [00:00<?, ?it/s]"
      ]
     },
     "metadata": {},
     "output_type": "display_data"
    },
    {
     "data": {
      "application/vnd.jupyter.widget-view+json": {
       "model_id": "1598e95bfffa4f4ab615b6af9b5a5a7d",
       "version_major": 2,
       "version_minor": 0
      },
      "text/plain": [
       "  0%|          | 0/1 [00:00<?, ?it/s]"
      ]
     },
     "metadata": {},
     "output_type": "display_data"
    },
    {
     "data": {
      "application/vnd.jupyter.widget-view+json": {
       "model_id": "52bbb5ee9b56487182e33e2ddd98dbbb",
       "version_major": 2,
       "version_minor": 0
      },
      "text/plain": [
       "  0%|          | 0/1 [00:00<?, ?it/s]"
      ]
     },
     "metadata": {},
     "output_type": "display_data"
    },
    {
     "data": {
      "application/vnd.jupyter.widget-view+json": {
       "model_id": "739775a36f1d4b3ea61f267f3f5521cf",
       "version_major": 2,
       "version_minor": 0
      },
      "text/plain": [
       "  0%|          | 0/1 [00:00<?, ?it/s]"
      ]
     },
     "metadata": {},
     "output_type": "display_data"
    },
    {
     "data": {
      "application/vnd.jupyter.widget-view+json": {
       "model_id": "7f3903028609437f9f76013ef2fc1582",
       "version_major": 2,
       "version_minor": 0
      },
      "text/plain": [
       "  0%|          | 0/1 [00:00<?, ?it/s]"
      ]
     },
     "metadata": {},
     "output_type": "display_data"
    },
    {
     "data": {
      "application/vnd.jupyter.widget-view+json": {
       "model_id": "1e682f836ef04b0188dd03eb6f139c1b",
       "version_major": 2,
       "version_minor": 0
      },
      "text/plain": [
       "  0%|          | 0/1 [00:00<?, ?it/s]"
      ]
     },
     "metadata": {},
     "output_type": "display_data"
    },
    {
     "data": {
      "application/vnd.jupyter.widget-view+json": {
       "model_id": "a93a8e638e7840378943da5b7dc0cb49",
       "version_major": 2,
       "version_minor": 0
      },
      "text/plain": [
       "  0%|          | 0/1 [00:00<?, ?it/s]"
      ]
     },
     "metadata": {},
     "output_type": "display_data"
    },
    {
     "data": {
      "application/vnd.jupyter.widget-view+json": {
       "model_id": "384cd296f8ba4238bdf3976cc335b2f4",
       "version_major": 2,
       "version_minor": 0
      },
      "text/plain": [
       "  0%|          | 0/1 [00:00<?, ?it/s]"
      ]
     },
     "metadata": {},
     "output_type": "display_data"
    },
    {
     "data": {
      "application/vnd.jupyter.widget-view+json": {
       "model_id": "ac3519d803504950ac0ae0871f0a88fd",
       "version_major": 2,
       "version_minor": 0
      },
      "text/plain": [
       "  0%|          | 0/1 [00:00<?, ?it/s]"
      ]
     },
     "metadata": {},
     "output_type": "display_data"
    },
    {
     "data": {
      "application/vnd.jupyter.widget-view+json": {
       "model_id": "1a21a517cd714f928f69800bf29f9491",
       "version_major": 2,
       "version_minor": 0
      },
      "text/plain": [
       "  0%|          | 0/1 [00:00<?, ?it/s]"
      ]
     },
     "metadata": {},
     "output_type": "display_data"
    },
    {
     "data": {
      "application/vnd.jupyter.widget-view+json": {
       "model_id": "b1bcaec14f744ddabeb30f6bb2eef4a7",
       "version_major": 2,
       "version_minor": 0
      },
      "text/plain": [
       "  0%|          | 0/1 [00:00<?, ?it/s]"
      ]
     },
     "metadata": {},
     "output_type": "display_data"
    },
    {
     "data": {
      "application/vnd.jupyter.widget-view+json": {
       "model_id": "5bc826882ffa42fc9b00ae06b5cf4a8e",
       "version_major": 2,
       "version_minor": 0
      },
      "text/plain": [
       "  0%|          | 0/1 [00:00<?, ?it/s]"
      ]
     },
     "metadata": {},
     "output_type": "display_data"
    },
    {
     "name": "stdout",
     "output_type": "stream",
     "text": [
      "Data saved to /Users/edgar/Repositorios/Cognitive_Models_El_Farol_Bar_Problem/reports/MLE/Attendance-M2_55.csv\n"
     ]
    }
   ],
   "source": [
    "data_folder = PATHS['parameter_fit_results'] / Path('MLE')\n",
    "num_episodes = 23 # same as human groups\n",
    "random.seed(1)\n",
    "seeds = [random.randint(0, 1000) for _ in range(num_episodes)]\n",
    "\n",
    "Performer.simple_run(\n",
    "    agent_class=BEST_MODEL,\n",
    "    fixed_parameters=fixed_parameters,\n",
    "    free_parameters=free_parameters,\n",
    "    simulation_parameters=simulation_parameters,\n",
    "    measures=[],\n",
    "    data_folder=data_folder,\n",
    "    seeds=seeds\n",
    ")\n"
   ]
  },
  {
   "cell_type": "markdown",
   "metadata": {},
   "source": [
    "### Comparing with human data"
   ]
  },
  {
   "cell_type": "code",
   "execution_count": 23,
   "metadata": {},
   "outputs": [
    {
     "name": "stdout",
     "output_type": "stream",
     "text": [
      "Loading data from ../data/human/2-player-UR.csv...\n",
      "Loading data from /Users/edgar/Repositorios/Cognitive_Models_El_Farol_Bar_Problem/reports/MLE/Attendance-M2.csv...\n"
     ]
    }
   ],
   "source": [
    "# Loading human data\n",
    "file_name = '2-player-UR.csv'\n",
    "data_folder = Path('..', 'data', 'human')\n",
    "file = data_folder / Path(file_name)\n",
    "print(f'Loading data from {file}...')\n",
    "data_human = pd.read_csv(file)\n",
    "data_human.drop(columns=['room', 'choice'], inplace=True)\n",
    "data_human['model'] = 'human'\n",
    "\n",
    "# Loading simulated data\n",
    "\n",
    "# BEST_MODEL = MFPM2\n",
    "BEST_MODEL = AttendanceM2\n",
    "\n",
    "data_folder = PATHS['parameter_fit_results'] / Path('MLE')\n",
    "file = data_folder / Path(f'{BEST_MODEL.name()}.csv')\n",
    "print(f'Loading data from {file}...')\n",
    "data_sim = pd.read_csv(file)\n",
    "data_sim['model'] = BEST_MODEL.name()\n",
    "\n",
    "df = PPT.concat_dfs(data_human, data_sim)\n",
    "# df.head()"
   ]
  },
  {
   "cell_type": "code",
   "execution_count": 24,
   "metadata": {},
   "outputs": [
    {
     "ename": "AttributeError",
     "evalue": "'numpy.ndarray' object has no attribute 'set_xlabel'",
     "output_type": "error",
     "traceback": [
      "\u001b[0;31m---------------------------------------------------------------------------\u001b[0m",
      "\u001b[0;31mAttributeError\u001b[0m                            Traceback (most recent call last)",
      "Cell \u001b[0;32mIn[24], line 6\u001b[0m\n\u001b[1;32m      4\u001b[0m image_file \u001b[38;5;241m=\u001b[39m PATHS[\u001b[38;5;124m'\u001b[39m\u001b[38;5;124mparameter_fit_results\u001b[39m\u001b[38;5;124m'\u001b[39m] \u001b[38;5;241m/\u001b[39m Path(\u001b[38;5;124m'\u001b[39m\u001b[38;5;124mMLE\u001b[39m\u001b[38;5;124m'\u001b[39m, \u001b[38;5;124mf\u001b[39m\u001b[38;5;124m'\u001b[39m\u001b[38;5;124mtwo_way_comparisons.png\u001b[39m\u001b[38;5;124m'\u001b[39m)\n\u001b[1;32m      5\u001b[0m measure_pairs \u001b[38;5;241m=\u001b[39m [[\u001b[38;5;124m'\u001b[39m\u001b[38;5;124mefficiency\u001b[39m\u001b[38;5;124m'\u001b[39m, \u001b[38;5;124m'\u001b[39m\u001b[38;5;124mattendance\u001b[39m\u001b[38;5;124m'\u001b[39m], [\u001b[38;5;124m'\u001b[39m\u001b[38;5;124mefficiency\u001b[39m\u001b[38;5;124m'\u001b[39m, \u001b[38;5;124m'\u001b[39m\u001b[38;5;124minequality\u001b[39m\u001b[38;5;124m'\u001b[39m]]\n\u001b[0;32m----> 6\u001b[0m \u001b[43mp\u001b[49m\u001b[38;5;241;43m.\u001b[39;49m\u001b[43mtwo_way_comparisons\u001b[49m\u001b[43m(\u001b[49m\u001b[43mmeasure_pairs\u001b[49m\u001b[43m,\u001b[49m\u001b[43m \u001b[49m\u001b[43mimage_file\u001b[49m\u001b[43m)\u001b[49m\n",
      "File \u001b[0;32m~/Repositorios/Cognitive_Models_El_Farol_Bar_Problem/Notebooks/../src/Utils/plot_utils.py:451\u001b[0m, in \u001b[0;36mPlotVSMeasures.two_way_comparisons\u001b[0;34m(self, measure_pairs, file, kwargs)\u001b[0m\n\u001b[1;32m    449\u001b[0m         measures\u001b[38;5;241m.\u001b[39mappend(pair_measures[\u001b[38;5;241m1\u001b[39m])\n\u001b[1;32m    450\u001b[0m     \u001b[38;5;66;03m# Get plot and plot's info\u001b[39;00m\n\u001b[0;32m--> 451\u001b[0m     info \u001b[38;5;241m=\u001b[39m \u001b[38;5;28;43mself\u001b[39;49m\u001b[38;5;241;43m.\u001b[39;49m\u001b[43mplot_vs\u001b[49m\u001b[43m(\u001b[49m\n\u001b[1;32m    452\u001b[0m \u001b[43m        \u001b[49m\u001b[43mpair_measures\u001b[49m\u001b[38;5;241;43m=\u001b[39;49m\u001b[43mpair_measures\u001b[49m\u001b[43m,\u001b[49m\n\u001b[1;32m    453\u001b[0m \u001b[43m        \u001b[49m\u001b[43max\u001b[49m\u001b[38;5;241;43m=\u001b[39;49m\u001b[43max\u001b[49m\u001b[43m,\u001b[49m\n\u001b[1;32m    454\u001b[0m \u001b[43m        \u001b[49m\u001b[43mfile\u001b[49m\u001b[38;5;241;43m=\u001b[39;49m\u001b[38;5;28;43;01mNone\u001b[39;49;00m\u001b[43m,\u001b[49m\u001b[43m \u001b[49m\u001b[43mkwargs\u001b[49m\u001b[38;5;241;43m=\u001b[39;49m\u001b[43mkwargs\u001b[49m\n\u001b[1;32m    455\u001b[0m \u001b[43m    \u001b[49m\u001b[43m)\u001b[49m\n\u001b[1;32m    456\u001b[0m     info_list\u001b[38;5;241m.\u001b[39mappend(info)\n\u001b[1;32m    457\u001b[0m \u001b[38;5;66;03m# Get max and min values for each measure\u001b[39;00m\n",
      "File \u001b[0;32m~/Repositorios/Cognitive_Models_El_Farol_Bar_Problem/Notebooks/../src/Utils/plot_utils.py:531\u001b[0m, in \u001b[0;36mPlotVSMeasures.plot_vs\u001b[0;34m(self, pair_measures, ax, file, kwargs)\u001b[0m\n\u001b[1;32m    529\u001b[0m \u001b[38;5;28;01mif\u001b[39;00m ax \u001b[38;5;129;01mis\u001b[39;00m \u001b[38;5;28;01mNone\u001b[39;00m:\n\u001b[1;32m    530\u001b[0m     fig, ax \u001b[38;5;241m=\u001b[39m plt\u001b[38;5;241m.\u001b[39msubplots(figsize\u001b[38;5;241m=\u001b[39m(\u001b[38;5;28mself\u001b[39m\u001b[38;5;241m.\u001b[39mwidth, \u001b[38;5;28mself\u001b[39m\u001b[38;5;241m.\u001b[39mheight))\n\u001b[0;32m--> 531\u001b[0m \u001b[43max\u001b[49m\u001b[38;5;241;43m.\u001b[39;49m\u001b[43mset_xlabel\u001b[49m(\u001b[38;5;124mf\u001b[39m\u001b[38;5;124m'\u001b[39m\u001b[38;5;132;01m{\u001b[39;00mmeasure1[\u001b[38;5;241m0\u001b[39m]\u001b[38;5;241m.\u001b[39mupper()\u001b[38;5;132;01m}\u001b[39;00m\u001b[38;5;132;01m{\u001b[39;00mmeasure1[\u001b[38;5;241m1\u001b[39m:]\u001b[38;5;132;01m}\u001b[39;00m\u001b[38;5;124m'\u001b[39m)\n\u001b[1;32m    532\u001b[0m ax\u001b[38;5;241m.\u001b[39mset_ylabel(\u001b[38;5;124mf\u001b[39m\u001b[38;5;124m'\u001b[39m\u001b[38;5;132;01m{\u001b[39;00mmeasure2[\u001b[38;5;241m0\u001b[39m]\u001b[38;5;241m.\u001b[39mupper()\u001b[38;5;132;01m}\u001b[39;00m\u001b[38;5;132;01m{\u001b[39;00mmeasure2[\u001b[38;5;241m1\u001b[39m:]\u001b[38;5;132;01m}\u001b[39;00m\u001b[38;5;124m'\u001b[39m)\n\u001b[1;32m    533\u001b[0m \u001b[38;5;66;03m# Plotting...\u001b[39;00m\n",
      "\u001b[0;31mAttributeError\u001b[0m: 'numpy.ndarray' object has no attribute 'set_xlabel'"
     ]
    },
    {
     "data": {
      "image/png": "[encoded data removed]",
      "text/plain": [
       "<Figure size 300x700 with 2 Axes>"
      ]
     },
     "metadata": {},
     "output_type": "display_data"
    }
   ],
   "source": [
    "p = PlotVSMeasures(df)\n",
    "# p = PlotVSMeasures(data_human)\n",
    "# p = PlotVSMeasures(data_sim)\n",
    "image_file = PATHS['parameter_fit_results'] / Path('MLE', f'two_way_comparisons.png')\n",
    "measure_pairs = [['efficiency', 'attendance'], ['efficiency', 'inequality']]\n",
    "p.two_way_comparisons(measure_pairs, image_file)"
   ]
  },
  {
   "cell_type": "code",
   "execution_count": null,
   "metadata": {},
   "outputs": [],
   "source": []
  },
  {
   "cell_type": "code",
   "execution_count": null,
   "metadata": {},
   "outputs": [],
   "source": []
  },
  {
   "cell_type": "markdown",
   "metadata": {},
   "source": [
    "## All sizes"
   ]
  },
  {
   "cell_type": "markdown",
   "metadata": {},
   "source": [
    "### Show AIC"
   ]
  },
  {
   "cell_type": "code",
   "execution_count": null,
   "metadata": {},
   "outputs": [
    {
     "data": {
      "text/html": [
       "<div>\n",
       "<style scoped>\n",
       "    .dataframe tbody tr th:only-of-type {\n",
       "        vertical-align: middle;\n",
       "    }\n",
       "\n",
       "    .dataframe tbody tr th {\n",
       "        vertical-align: top;\n",
       "    }\n",
       "\n",
       "    .dataframe thead th {\n",
       "        text-align: right;\n",
       "    }\n",
       "</style>\n",
       "<table border=\"1\" class=\"dataframe\">\n",
       "  <thead>\n",
       "    <tr style=\"text-align: right;\">\n",
       "      <th></th>\n",
       "      <th>deviance</th>\n",
       "      <th>AIC</th>\n",
       "      <th>diff</th>\n",
       "    </tr>\n",
       "    <tr>\n",
       "      <th>model_name</th>\n",
       "      <th></th>\n",
       "      <th></th>\n",
       "      <th></th>\n",
       "    </tr>\n",
       "  </thead>\n",
       "  <tbody>\n",
       "    <tr>\n",
       "      <th>Attendance-M3</th>\n",
       "      <td>18129</td>\n",
       "      <td>36265</td>\n",
       "      <td>0</td>\n",
       "    </tr>\n",
       "    <tr>\n",
       "      <th>MFP-M2</th>\n",
       "      <td>18327</td>\n",
       "      <td>36659</td>\n",
       "      <td>394</td>\n",
       "    </tr>\n",
       "    <tr>\n",
       "      <th>MFP-M3</th>\n",
       "      <td>18370</td>\n",
       "      <td>36745</td>\n",
       "      <td>480</td>\n",
       "    </tr>\n",
       "    <tr>\n",
       "      <th>AvailableSpace-M3</th>\n",
       "      <td>18591</td>\n",
       "      <td>37186</td>\n",
       "      <td>921</td>\n",
       "    </tr>\n",
       "    <tr>\n",
       "      <th>Random</th>\n",
       "      <td>18609</td>\n",
       "      <td>37221</td>\n",
       "      <td>956</td>\n",
       "    </tr>\n",
       "    <tr>\n",
       "      <th>MFP-M1</th>\n",
       "      <td>18708</td>\n",
       "      <td>37421</td>\n",
       "      <td>1156</td>\n",
       "    </tr>\n",
       "    <tr>\n",
       "      <th>Attendance-M2</th>\n",
       "      <td>18834</td>\n",
       "      <td>37674</td>\n",
       "      <td>1409</td>\n",
       "    </tr>\n",
       "    <tr>\n",
       "      <th>Attendance-M1</th>\n",
       "      <td>18865</td>\n",
       "      <td>37737</td>\n",
       "      <td>1472</td>\n",
       "    </tr>\n",
       "    <tr>\n",
       "      <th>Fairness-M1</th>\n",
       "      <td>18955</td>\n",
       "      <td>37917</td>\n",
       "      <td>1652</td>\n",
       "    </tr>\n",
       "    <tr>\n",
       "      <th>Fairness-M2</th>\n",
       "      <td>18955</td>\n",
       "      <td>37917</td>\n",
       "      <td>1652</td>\n",
       "    </tr>\n",
       "    <tr>\n",
       "      <th>Fairness-M3</th>\n",
       "      <td>18956</td>\n",
       "      <td>37918</td>\n",
       "      <td>1653</td>\n",
       "    </tr>\n",
       "    <tr>\n",
       "      <th>AvailableSpace-M1</th>\n",
       "      <td>18964</td>\n",
       "      <td>37933</td>\n",
       "      <td>1668</td>\n",
       "    </tr>\n",
       "    <tr>\n",
       "      <th>AvailableSpace-M2</th>\n",
       "      <td>18964</td>\n",
       "      <td>37933</td>\n",
       "      <td>1668</td>\n",
       "    </tr>\n",
       "    <tr>\n",
       "      <th>Payoff-M2</th>\n",
       "      <td>18964</td>\n",
       "      <td>37933</td>\n",
       "      <td>1668</td>\n",
       "    </tr>\n",
       "    <tr>\n",
       "      <th>Payoff-M1</th>\n",
       "      <td>18964</td>\n",
       "      <td>37933</td>\n",
       "      <td>1668</td>\n",
       "    </tr>\n",
       "    <tr>\n",
       "      <th>Payoff-M3</th>\n",
       "      <td>18964</td>\n",
       "      <td>37933</td>\n",
       "      <td>1668</td>\n",
       "    </tr>\n",
       "    <tr>\n",
       "      <th>WSLS</th>\n",
       "      <td>29297</td>\n",
       "      <td>58601</td>\n",
       "      <td>22336</td>\n",
       "    </tr>\n",
       "  </tbody>\n",
       "</table>\n",
       "</div>"
      ],
      "text/plain": [
       "                   deviance    AIC   diff\n",
       "model_name                               \n",
       "Attendance-M3         18129  36265      0\n",
       "MFP-M2                18327  36659    394\n",
       "MFP-M3                18370  36745    480\n",
       "AvailableSpace-M3     18591  37186    921\n",
       "Random                18609  37221    956\n",
       "MFP-M1                18708  37421   1156\n",
       "Attendance-M2         18834  37674   1409\n",
       "Attendance-M1         18865  37737   1472\n",
       "Fairness-M1           18955  37917   1652\n",
       "Fairness-M2           18955  37917   1652\n",
       "Fairness-M3           18956  37918   1653\n",
       "AvailableSpace-M1     18964  37933   1668\n",
       "AvailableSpace-M2     18964  37933   1668\n",
       "Payoff-M2             18964  37933   1668\n",
       "Payoff-M1             18964  37933   1668\n",
       "Payoff-M3             18964  37933   1668\n",
       "WSLS                  29297  58601  22336"
      ]
     },
     "execution_count": 19,
     "metadata": {},
     "output_type": "execute_result"
    }
   ],
   "source": [
    "# Loading all models\n",
    "file_all = Path(PATHS['parameter_fit_results'], 'MLE/best_fit_all_with_treatment.json')\n",
    "df_all = pd.read_json(file_all)\n",
    "df_all.index = df_all.model_name\n",
    "\n",
    "# Create a dictionary with model names as keys and free parameters as values\n",
    "df_parameters_all = dict(zip(df_all['model_name'], df_all['free_parameters']))\n",
    "\n",
    "# Keep only deviance and AIC columns\n",
    "df_all.drop(columns=['model_name', 'free_parameters'], inplace=True)\n",
    "# df_all.sort_values(by='model_name', inplace=True)\n",
    "df_all.sort_values(by='AIC', inplace=True)\n",
    "df_all['deviance'] = df_all['deviance'].apply(lambda x: int(x))\n",
    "df_all['AIC'] = df_all['AIC'].apply(lambda x: int(x))\n",
    "df_all['diff'] = df_all['AIC'] - df_all['AIC'].min()\n",
    "df_all"
   ]
  },
  {
   "cell_type": "code",
   "execution_count": 32,
   "metadata": {},
   "outputs": [
    {
     "data": {
      "text/html": [
       "<div>\n",
       "<style scoped>\n",
       "    .dataframe tbody tr th:only-of-type {\n",
       "        vertical-align: middle;\n",
       "    }\n",
       "\n",
       "    .dataframe tbody tr th {\n",
       "        vertical-align: top;\n",
       "    }\n",
       "\n",
       "    .dataframe thead th {\n",
       "        text-align: right;\n",
       "    }\n",
       "</style>\n",
       "<table border=\"1\" class=\"dataframe\">\n",
       "  <thead>\n",
       "    <tr style=\"text-align: right;\">\n",
       "      <th></th>\n",
       "      <th>deviance</th>\n",
       "      <th>AIC</th>\n",
       "      <th>diff</th>\n",
       "    </tr>\n",
       "    <tr>\n",
       "      <th>model_name</th>\n",
       "      <th></th>\n",
       "      <th></th>\n",
       "      <th></th>\n",
       "    </tr>\n",
       "  </thead>\n",
       "  <tbody>\n",
       "    <tr>\n",
       "      <th>Attendance-M2</th>\n",
       "      <td>17626</td>\n",
       "      <td>35258</td>\n",
       "      <td>0</td>\n",
       "    </tr>\n",
       "    <tr>\n",
       "      <th>Attendance-M3</th>\n",
       "      <td>17947</td>\n",
       "      <td>35901</td>\n",
       "      <td>643</td>\n",
       "    </tr>\n",
       "    <tr>\n",
       "      <th>MFP-M2</th>\n",
       "      <td>18051</td>\n",
       "      <td>36106</td>\n",
       "      <td>848</td>\n",
       "    </tr>\n",
       "    <tr>\n",
       "      <th>MFP-M3</th>\n",
       "      <td>18148</td>\n",
       "      <td>36300</td>\n",
       "      <td>1042</td>\n",
       "    </tr>\n",
       "    <tr>\n",
       "      <th>MFP-M1</th>\n",
       "      <td>18187</td>\n",
       "      <td>36378</td>\n",
       "      <td>1120</td>\n",
       "    </tr>\n",
       "    <tr>\n",
       "      <th>Payoff-M1</th>\n",
       "      <td>18217</td>\n",
       "      <td>36438</td>\n",
       "      <td>1180</td>\n",
       "    </tr>\n",
       "    <tr>\n",
       "      <th>AvailableSpace-M3</th>\n",
       "      <td>18319</td>\n",
       "      <td>36643</td>\n",
       "      <td>1385</td>\n",
       "    </tr>\n",
       "    <tr>\n",
       "      <th>Payoff-M2</th>\n",
       "      <td>18339</td>\n",
       "      <td>36683</td>\n",
       "      <td>1425</td>\n",
       "    </tr>\n",
       "    <tr>\n",
       "      <th>Fairness-M3</th>\n",
       "      <td>18431</td>\n",
       "      <td>36869</td>\n",
       "      <td>1611</td>\n",
       "    </tr>\n",
       "    <tr>\n",
       "      <th>AvailableSpace-M2</th>\n",
       "      <td>18450</td>\n",
       "      <td>36905</td>\n",
       "      <td>1647</td>\n",
       "    </tr>\n",
       "    <tr>\n",
       "      <th>Random</th>\n",
       "      <td>18609</td>\n",
       "      <td>37221</td>\n",
       "      <td>1963</td>\n",
       "    </tr>\n",
       "    <tr>\n",
       "      <th>Payoff-M3</th>\n",
       "      <td>18777</td>\n",
       "      <td>37559</td>\n",
       "      <td>2301</td>\n",
       "    </tr>\n",
       "    <tr>\n",
       "      <th>Attendance-M1</th>\n",
       "      <td>18872</td>\n",
       "      <td>37750</td>\n",
       "      <td>2492</td>\n",
       "    </tr>\n",
       "    <tr>\n",
       "      <th>Fairness-M1</th>\n",
       "      <td>18942</td>\n",
       "      <td>37890</td>\n",
       "      <td>2632</td>\n",
       "    </tr>\n",
       "    <tr>\n",
       "      <th>Fairness-M2</th>\n",
       "      <td>18954</td>\n",
       "      <td>37915</td>\n",
       "      <td>2657</td>\n",
       "    </tr>\n",
       "    <tr>\n",
       "      <th>AvailableSpace-M1</th>\n",
       "      <td>18964</td>\n",
       "      <td>37933</td>\n",
       "      <td>2675</td>\n",
       "    </tr>\n",
       "    <tr>\n",
       "      <th>WSLS</th>\n",
       "      <td>29297</td>\n",
       "      <td>58601</td>\n",
       "      <td>23343</td>\n",
       "    </tr>\n",
       "  </tbody>\n",
       "</table>\n",
       "</div>"
      ],
      "text/plain": [
       "                   deviance    AIC   diff\n",
       "model_name                               \n",
       "Attendance-M2         17626  35258      0\n",
       "Attendance-M3         17947  35901    643\n",
       "MFP-M2                18051  36106    848\n",
       "MFP-M3                18148  36300   1042\n",
       "MFP-M1                18187  36378   1120\n",
       "Payoff-M1             18217  36438   1180\n",
       "AvailableSpace-M3     18319  36643   1385\n",
       "Payoff-M2             18339  36683   1425\n",
       "Fairness-M3           18431  36869   1611\n",
       "AvailableSpace-M2     18450  36905   1647\n",
       "Random                18609  37221   1963\n",
       "Payoff-M3             18777  37559   2301\n",
       "Attendance-M1         18872  37750   2492\n",
       "Fairness-M1           18942  37890   2632\n",
       "Fairness-M2           18954  37915   2657\n",
       "AvailableSpace-M1     18964  37933   2675\n",
       "WSLS                  29297  58601  23343"
      ]
     },
     "execution_count": 32,
     "metadata": {},
     "output_type": "execute_result"
    }
   ],
   "source": [
    "# Loading all models\n",
    "file_all = Path(PATHS['parameter_fit_results'], 'MLE/best_fit_all.json')\n",
    "df_all = pd.read_json(file_all)\n",
    "df_all.index = df_all.model_name\n",
    "\n",
    "# Create a dictionary with model names as keys and free parameters as values\n",
    "df_parameters_all = dict(zip(df_all['model_name'], df_all['free_parameters']))\n",
    "\n",
    "# Keep only deviance and AIC columns\n",
    "df_all.drop(columns=['model_name', 'free_parameters'], inplace=True)\n",
    "# df_all.sort_values(by='model_name', inplace=True)\n",
    "df_all.sort_values(by='AIC', inplace=True)\n",
    "df_all['deviance'] = df_all['deviance'].apply(lambda x: int(x))\n",
    "df_all['AIC'] = df_all['AIC'].apply(lambda x: int(x))\n",
    "df_all['diff'] = df_all['AIC'] - df_all['AIC'].min()\n",
    "df_all"
   ]
  },
  {
   "cell_type": "markdown",
   "metadata": {},
   "source": [
    "### Simulate best fit model"
   ]
  },
  {
   "cell_type": "code",
   "execution_count": null,
   "metadata": {},
   "outputs": [],
   "source": [
    "# Load data into a dataframe\n",
    "data_folder = Path('..', 'data', 'human')\n",
    "file_names = [\n",
    "\t'2-player-UR.csv',\n",
    "\t'3-player-IU.csv',\n",
    "\t'4-player-IU.csv',\n",
    "\t'5-player-IU.csv',\n",
    "\t'6-player-IU.csv',\n",
    "\t'7-player-IU.csv',\n",
    "\t'8-player-IU.csv',\n",
    "\t'9-player-IU.csv',\n",
    "\t'11-player-IU.csv',\n",
    "\t'12-player-IU.csv',\n",
    "]\n",
    "df_list = list()\n",
    "for file_name in file_names:\n",
    "\tfile = data_folder / Path(file_name)\n",
    "\tprint(f'Loading data from {file}...')\n",
    "\tdf = pd.read_csv(file)\n",
    "\tdf_list.append(df)\n",
    "data_human = pd.concat(df_list, ignore_index=True)\n",
    "columns = ['threshold', 'num_players', 'group', 'round', 'player', 'score', 'decision']\n",
    "drop_columns = [col for col in data_human.columns if col not in columns]\n",
    "data_human.drop(columns=drop_columns, inplace=True)\n",
    "data_human['model'] = 'human'"
   ]
  },
  {
   "cell_type": "code",
   "execution_count": null,
   "metadata": {},
   "outputs": [],
   "source": [
    "list_fixed_parameters = PPT.get_fixed_parameters(data_human)\n",
    "list_simulation_parameters = PPT.get_number_of_groups(data_human)\n",
    "dict_update = {\n",
    "    'num_rounds':50,\n",
    "    'verbose':False\n",
    "}\n",
    "for sim_p in list_simulation_parameters:\n",
    "    sim_p.update(dict_update)\n",
    "num_groups = len(list_simulation_parameters)\n",
    "print(f'{len(list_fixed_parameters)} fixed parameters and {len(list_simulation_parameters)} simulation parameters')"
   ]
  },
  {
   "cell_type": "code",
   "execution_count": null,
   "metadata": {},
   "outputs": [],
   "source": [
    "file_all = Path(PATHS['parameter_fit_results'], 'MLE/best_fit_all.json')\n",
    "\n",
    "with open(file_all, 'r') as f:\n",
    "    params_dict = json.load(f)\n",
    "\n",
    "def get_free_parameters(model_name, params_dict):\n",
    "    model_names = params_dict['model_name']\n",
    "    idx = model_names.index(model_name)\n",
    "    return params_dict['free_parameters'][idx]\n",
    "\n",
    "# BEST_MODEL = MFPM2\n",
    "BEST_MODEL = AttendanceM2\n",
    "\n",
    "free_parameters = get_free_parameters(BEST_MODEL.name(), params_dict)\n",
    "print_(free_parameters)"
   ]
  },
  {
   "cell_type": "code",
   "execution_count": null,
   "metadata": {},
   "outputs": [],
   "source": [
    "data_folder = PATHS['parameter_fit_results'] / Path('MLE')\n",
    "\n",
    "for i in range(num_groups):\n",
    "    fixed_parameters = list_fixed_parameters[i]\n",
    "    simulation_parameters = list_simulation_parameters[i]\n",
    "    print(f'Running {BEST_MODEL.name()} with')\n",
    "    print('Fixed parameters:')\n",
    "    print_(fixed_parameters)\n",
    "    print('Simulation parameters:')\n",
    "    print_(simulation_parameters)\n",
    "    random.seed(1)\n",
    "    num_episodes = simulation_parameters['num_episodes']    \n",
    "    seeds = [random.randint(0, 1000) for _ in range(num_episodes)]\n",
    "    Performer.simple_run(\n",
    "        agent_class=BEST_MODEL,\n",
    "        fixed_parameters=fixed_parameters,\n",
    "        free_parameters=free_parameters,\n",
    "        simulation_parameters=simulation_parameters,\n",
    "        measures=[],\n",
    "        data_folder=data_folder,\n",
    "        seeds=seeds\n",
    "    )"
   ]
  },
  {
   "cell_type": "markdown",
   "metadata": {},
   "source": [
    "### Compare with human data"
   ]
  },
  {
   "cell_type": "code",
   "execution_count": null,
   "metadata": {},
   "outputs": [],
   "source": [
    "# Loading simulated data\n",
    "\n",
    "# BEST_MODEL = MFPM2\n",
    "BEST_MODEL = AttendanceM2\n",
    "\n",
    "data_folder = PATHS['parameter_fit_results'] / Path('MLE')\n",
    "\n",
    "df_list = list()\n",
    "for i in range(num_groups):\n",
    "    file = data_folder / Path(f'{BEST_MODEL.name()}_{i+1}.csv')\n",
    "    # print(f'Loading data from {file}...')\n",
    "    data_sim = pd.read_csv(file)\n",
    "    data_sim['model'] = BEST_MODEL.name()\n",
    "    df_list.append(data_sim)\n",
    "\n",
    "data_sim = pd.concat(df_list, ignore_index=True)\n",
    "\n",
    "df = PPT.concat_dfs(data_human, data_sim)"
   ]
  },
  {
   "cell_type": "code",
   "execution_count": null,
   "metadata": {},
   "outputs": [],
   "source": [
    "p = PlotVSMeasures(df)\n",
    "image_file = PATHS['parameter_fit_results'] / Path('MLE', f'two_way_comparisons_all.png')\n",
    "measure_pairs = [['efficiency', 'attendance'], ['efficiency', 'inequality']]\n",
    "p.two_way_comparisons(measure_pairs, image_file)"
   ]
  },
  {
   "cell_type": "markdown",
   "metadata": {},
   "source": [
    "### Simulate treatments"
   ]
  },
  {
   "cell_type": "code",
   "execution_count": 33,
   "metadata": {},
   "outputs": [],
   "source": [
    "# Loading all models\n",
    "file_all = Path(PATHS['parameter_fit_results'], 'MLE/best_fit_all.json')\n",
    "df_all = pd.read_json(file_all)\n",
    "df_all.index = df_all.model_name\n",
    "\n",
    "# Create a dictionary with model names as keys and free parameters as values\n",
    "df_parameters_all = dict(zip(df_all['model_name'], df_all['free_parameters']))"
   ]
  },
  {
   "cell_type": "code",
   "execution_count": 34,
   "metadata": {},
   "outputs": [
    {
     "data": {
      "text/plain": [
       "{'bias': 0.38169685922788604,\n",
       " 'inverse_temperature': 6.258188362859529,\n",
       " 'learning_rate': 0.134296558875471}"
      ]
     },
     "execution_count": 34,
     "metadata": {},
     "output_type": "execute_result"
    }
   ],
   "source": [
    "# BEST_MODEL = MFPM2\n",
    "BEST_MODEL = AttendanceM2\n",
    "# BEST_MODEL = AttendanceM3\n",
    "free_parameters = df_parameters_all[BEST_MODEL.name()]\n",
    "free_parameters"
   ]
  },
  {
   "cell_type": "code",
   "execution_count": 35,
   "metadata": {},
   "outputs": [],
   "source": [
    "fixed_parameters = {\n",
    "    'num_agents': 8, \n",
    "    'threshold': 0 # to be filled\n",
    "}\n",
    "simulation_parameters = {\n",
    "    'num_episodes': 30, \n",
    "    'num_rounds': 50, \n",
    "    'verbose': 0\n",
    "}\n",
    "thresholds = [0.25, 0.5, 0.75]\n",
    "data_folder = PATHS['parameter_fit_results'] / Path('MLE')\n",
    "kwargs = {\n",
    "    'model_name': BEST_MODEL.name(),\n",
    "}"
   ]
  },
  {
   "cell_type": "code",
   "execution_count": null,
   "metadata": {},
   "outputs": [],
   "source": []
  },
  {
   "cell_type": "code",
   "execution_count": 36,
   "metadata": {},
   "outputs": [
    {
     "data": {
      "application/vnd.jupyter.widget-view+json": {
       "model_id": "79015dcd14e9427da656feb65d3d51cf",
       "version_major": 2,
       "version_minor": 0
      },
      "text/plain": [
       "Running models for each threshold:   0%|          | 0/6 [00:00<?, ?it/s]"
      ]
     },
     "metadata": {},
     "output_type": "display_data"
    },
    {
     "data": {
      "application/vnd.jupyter.widget-view+json": {
       "model_id": "9ba734f3e082461881ceeabd562b64d7",
       "version_major": 2,
       "version_minor": 0
      },
      "text/plain": [
       "  0%|          | 0/30 [00:00<?, ?it/s]"
      ]
     },
     "metadata": {},
     "output_type": "display_data"
    },
    {
     "data": {
      "application/vnd.jupyter.widget-view+json": {
       "model_id": "bb2ee8e9cf174a0e965b5fa73f9cfeac",
       "version_major": 2,
       "version_minor": 0
      },
      "text/plain": [
       "  0%|          | 0/30 [00:00<?, ?it/s]"
      ]
     },
     "metadata": {},
     "output_type": "display_data"
    },
    {
     "data": {
      "application/vnd.jupyter.widget-view+json": {
       "model_id": "b5597d57dceb42828b33d2847405eec1",
       "version_major": 2,
       "version_minor": 0
      },
      "text/plain": [
       "  0%|          | 0/30 [00:00<?, ?it/s]"
      ]
     },
     "metadata": {},
     "output_type": "display_data"
    },
    {
     "data": {
      "application/vnd.jupyter.widget-view+json": {
       "model_id": "fd653ef267b648beb03666fa4be4107b",
       "version_major": 2,
       "version_minor": 0
      },
      "text/plain": [
       "  0%|          | 0/30 [00:00<?, ?it/s]"
      ]
     },
     "metadata": {},
     "output_type": "display_data"
    },
    {
     "data": {
      "application/vnd.jupyter.widget-view+json": {
       "model_id": "d5a09ecdf6ba4db4a55faf5a26ae0b9c",
       "version_major": 2,
       "version_minor": 0
      },
      "text/plain": [
       "  0%|          | 0/30 [00:00<?, ?it/s]"
      ]
     },
     "metadata": {},
     "output_type": "display_data"
    },
    {
     "data": {
      "application/vnd.jupyter.widget-view+json": {
       "model_id": "9787725d616b4820bc51fdc0401590bb",
       "version_major": 2,
       "version_minor": 0
      },
      "text/plain": [
       "  0%|          | 0/30 [00:00<?, ?it/s]"
      ]
     },
     "metadata": {},
     "output_type": "display_data"
    },
    {
     "name": "stdout",
     "output_type": "stream",
     "text": [
      "Plotting efficiency...\n",
      "Plot saved to /Users/edgar/Repositorios/Cognitive_Models_El_Farol_Bar_Problem/reports/MLE/efficiency_threshold.png\n"
     ]
    },
    {
     "data": {
      "text/plain": [
       "'\\n\\\\vspace{\\\\baselineskip}\\n\\n\\n\\nFree parameters:\\n\\n\\\\scalebox{0.8}{\\n\\\\begin{minipage}{\\\\textwidth}\\n\\\\begin{tabular}{ccc}\\n\\\\toprule\\nbias & inverse\\\\_temperature & learning\\\\_rate \\\\\\\\\\n\\\\midrule\\n0.38 & 6.26 & 0.13 \\\\\\\\\\n\\\\bottomrule\\n\\\\end{tabular}\\n\\\\end{minipage}\\n}\\n\\n\\\\vspace{\\\\baselineskip}\\n\\n\\\\begin{tabular}{cc}\\\\toprule\\n\\n\\\\multicolumn{2}{c}{Parameter sweep}\\\\\\\\\\n\\nParameter & Values\\\\\\\\\\\\midrule\\n\\nthreshold & [0.25, 0.5, 0.75]\\\\\\\\\\\\bottomrule\\n\\n\\\\end{tabular}\\n\\n\\n\\\\vspace{\\\\baselineskip}\\n\\n\\\\begin{tabular}{c}\\n\\\\includegraphics[width=\\\\textwidth]{efficiency_threshold.png}\\n\\\\end{tabular}\\n'"
      ]
     },
     "execution_count": 36,
     "metadata": {},
     "output_type": "execute_result"
    }
   ],
   "source": [
    "thresholds = [0.25, 0.5, 0.75]\n",
    "kwargs = {\n",
    "    'model_name': BEST_MODEL.name(),\n",
    "    'with_treatment': True\n",
    "}\n",
    "Performer.increase_threshold(\n",
    "    agent_class=BEST_MODEL,\n",
    "    fixed_parameters=fixed_parameters,\n",
    "    free_parameters=free_parameters,\n",
    "    simulation_parameters=simulation_parameters,\n",
    "    thresholds=thresholds,\n",
    "    measures=['efficiency'],\n",
    "    image_folder=data_folder,\n",
    "    kwargs=kwargs\n",
    ")"
   ]
  },
  {
   "cell_type": "code",
   "execution_count": null,
   "metadata": {},
   "outputs": [],
   "source": []
  },
  {
   "cell_type": "code",
   "execution_count": null,
   "metadata": {},
   "outputs": [],
   "source": []
  },
  {
   "cell_type": "code",
   "execution_count": 10,
   "metadata": {},
   "outputs": [
    {
     "name": "stdout",
     "output_type": "stream",
     "text": [
      "Loading data from ../data/human/3-player-IU.csv...\n",
      "Loading data from ../data/human/4-player-IU.csv...\n",
      "Loading data from ../data/human/5-player-IU.csv...\n",
      "Loading data from ../data/human/6-player-IU.csv...\n",
      "Loading data from ../data/human/7-player-IU.csv...\n",
      "Loading data from ../data/human/8-player-IU.csv...\n",
      "Loading data from ../data/human/9-player-IU.csv...\n",
      "Loading data from ../data/human/11-player-IU.csv...\n",
      "Loading data from ../data/human/12-player-IU.csv...\n"
     ]
    },
    {
     "data": {
      "text/html": [
       "<div>\n",
       "<style scoped>\n",
       "    .dataframe tbody tr th:only-of-type {\n",
       "        vertical-align: middle;\n",
       "    }\n",
       "\n",
       "    .dataframe tbody tr th {\n",
       "        vertical-align: top;\n",
       "    }\n",
       "\n",
       "    .dataframe thead th {\n",
       "        text-align: right;\n",
       "    }\n",
       "</style>\n",
       "<table border=\"1\" class=\"dataframe\">\n",
       "  <thead>\n",
       "    <tr style=\"text-align: right;\">\n",
       "      <th></th>\n",
       "      <th>threshold</th>\n",
       "      <th>round</th>\n",
       "      <th>player</th>\n",
       "      <th>decision</th>\n",
       "      <th>score</th>\n",
       "      <th>num_players</th>\n",
       "      <th>group</th>\n",
       "    </tr>\n",
       "  </thead>\n",
       "  <tbody>\n",
       "    <tr>\n",
       "      <th>0</th>\n",
       "      <td>0.333333</td>\n",
       "      <td>1.0</td>\n",
       "      <td>406360458182849</td>\n",
       "      <td>1.0</td>\n",
       "      <td>-1.0</td>\n",
       "      <td>3</td>\n",
       "      <td>17</td>\n",
       "    </tr>\n",
       "    <tr>\n",
       "      <th>1</th>\n",
       "      <td>0.333333</td>\n",
       "      <td>1.0</td>\n",
       "      <td>679877000681823</td>\n",
       "      <td>1.0</td>\n",
       "      <td>-1.0</td>\n",
       "      <td>3</td>\n",
       "      <td>17</td>\n",
       "    </tr>\n",
       "    <tr>\n",
       "      <th>2</th>\n",
       "      <td>0.333333</td>\n",
       "      <td>1.0</td>\n",
       "      <td>740425726975861</td>\n",
       "      <td>1.0</td>\n",
       "      <td>-1.0</td>\n",
       "      <td>3</td>\n",
       "      <td>17</td>\n",
       "    </tr>\n",
       "    <tr>\n",
       "      <th>3</th>\n",
       "      <td>0.333333</td>\n",
       "      <td>2.0</td>\n",
       "      <td>406360458182849</td>\n",
       "      <td>1.0</td>\n",
       "      <td>-1.0</td>\n",
       "      <td>3</td>\n",
       "      <td>17</td>\n",
       "    </tr>\n",
       "    <tr>\n",
       "      <th>4</th>\n",
       "      <td>0.333333</td>\n",
       "      <td>2.0</td>\n",
       "      <td>679877000681823</td>\n",
       "      <td>1.0</td>\n",
       "      <td>-1.0</td>\n",
       "      <td>3</td>\n",
       "      <td>17</td>\n",
       "    </tr>\n",
       "  </tbody>\n",
       "</table>\n",
       "</div>"
      ],
      "text/plain": [
       "   threshold  round           player  decision  score  num_players  group\n",
       "0   0.333333    1.0  406360458182849       1.0   -1.0            3     17\n",
       "1   0.333333    1.0  679877000681823       1.0   -1.0            3     17\n",
       "2   0.333333    1.0  740425726975861       1.0   -1.0            3     17\n",
       "3   0.333333    2.0  406360458182849       1.0   -1.0            3     17\n",
       "4   0.333333    2.0  679877000681823       1.0   -1.0            3     17"
      ]
     },
     "execution_count": 10,
     "metadata": {},
     "output_type": "execute_result"
    }
   ],
   "source": [
    "# Load data into a dataframe\n",
    "data_folder = Path('..', 'data', 'human')\n",
    "file_names = [\n",
    "#\t'2-player-UR.csv',\n",
    "\t'3-player-IU.csv',\n",
    "\t'4-player-IU.csv',\n",
    "\t'5-player-IU.csv',\n",
    "\t'6-player-IU.csv',\n",
    "\t'7-player-IU.csv',\n",
    "\t'8-player-IU.csv',\n",
    "\t'9-player-IU.csv',\n",
    "\t'11-player-IU.csv',\n",
    "\t'12-player-IU.csv',\n",
    "]\n",
    "df_list = list()\n",
    "for file_name in file_names:\n",
    "\tfile = data_folder / Path(file_name)\n",
    "\tprint(f'Loading data from {file}...')\n",
    "\tdf = pd.read_csv(file)\n",
    "\tdf_list.append(df)\n",
    "data = pd.concat(df_list, ignore_index=True)\n",
    "columns = ['threshold', 'num_players', 'group', 'round', 'player', 'score', 'decision']\n",
    "drop_columns = [col for col in data.columns if col not in columns]\n",
    "data.drop(columns=drop_columns, inplace=True)\n",
    "data.head()"
   ]
  },
  {
   "cell_type": "code",
   "execution_count": 11,
   "metadata": {},
   "outputs": [
    {
     "name": "stdout",
     "output_type": "stream",
     "text": [
      "Group 5\n",
      "Threshold: [0.25 0.5  0.75]\n",
      "Group 7\n",
      "Threshold: [0.875 0.625 0.375]\n",
      "Group 9\n",
      "Threshold: [0.25 0.5  0.75]\n",
      "Group 11\n",
      "Threshold: [0.875 0.625 0.375]\n",
      "Group 12\n",
      "Threshold: [0.8 0.6 0.4]\n",
      "Group 13\n",
      "Threshold: [0.27272727 0.45454545 0.63636364]\n",
      "Group 14\n",
      "Threshold: [0.4 0.6 0.8]\n",
      "Group 15\n",
      "Threshold: [0.25 0.5  0.75]\n",
      "Group 17\n",
      "Threshold: [0.33333333 0.66666667]\n",
      "Group 18\n",
      "Threshold: [0.75 0.5  0.25]\n",
      "Group 22\n",
      "Threshold: [0.33333333 0.66666667]\n",
      "Group 23\n",
      "Threshold: [0.4 0.6 0.8]\n",
      "Group 24\n",
      "Threshold: [0.33333333 0.66666667]\n",
      "Group 25\n",
      "Threshold: [0.75 0.5  0.25]\n",
      "Group 26\n",
      "Threshold: [0.8 0.6 0.4]\n",
      "Group 27\n",
      "Threshold: [0.25 0.5  0.75]\n",
      "Group 29\n",
      "Threshold: [0.25 0.5  0.75]\n",
      "Group 30\n",
      "Threshold: [0.66666667 0.33333333]\n",
      "Group 31\n",
      "Threshold: [0.25 0.5  0.75]\n",
      "Group 32\n",
      "Threshold: [0.42857143 0.71428571 1.        ]\n",
      "Group 33\n",
      "Threshold: [0.25 0.5  0.75]\n",
      "Group 34\n",
      "Threshold: [0.33333333 0.66666667]\n",
      "Group 35\n",
      "Threshold: [0.33333333 0.5        0.66666667]\n",
      "Group 37\n",
      "Threshold: [0.42857143 0.71428571 1.        ]\n",
      "Group 38\n",
      "Threshold: [0.33333333 0.55555556 0.77777778]\n",
      "Group 39\n",
      "Threshold: [0.375 0.625 0.875]\n",
      "Group 40\n",
      "Threshold: [0.33333333 0.5        0.66666667]\n",
      "Group 41\n",
      "Threshold: [0.33333333 0.66666667]\n"
     ]
    }
   ],
   "source": [
    "for key, grp in data.groupby('group'):\n",
    "    print(f'Group {key}')\n",
    "    print(f'Threshold: {grp[\"threshold\"].unique()}')"
   ]
  },
  {
   "cell_type": "code",
   "execution_count": null,
   "metadata": {},
   "outputs": [],
   "source": []
  }
 ],
 "metadata": {
  "kernelspec": {
   "display_name": "Python 3",
   "language": "python",
   "name": "python3"
  },
  "language_info": {
   "codemirror_mode": {
    "name": "ipython",
    "version": 3
   },
   "file_extension": ".py",
   "mimetype": "text/x-python",
   "name": "python",
   "nbconvert_exporter": "python",
   "pygments_lexer": "ipython3",
   "version": "3.9.6"
  }
 },
 "nbformat": 4,
 "nbformat_minor": 2
}
