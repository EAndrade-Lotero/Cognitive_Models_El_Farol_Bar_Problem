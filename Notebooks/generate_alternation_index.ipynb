{
 "cells": [
  {
   "cell_type": "markdown",
   "metadata": {},
   "source": [
    "# Alternation index"
   ]
  },
  {
   "cell_type": "code",
   "execution_count": 19,
   "metadata": {},
   "outputs": [],
   "source": [
    "import sys\n",
    "\n",
    "sys.path.append('../src')"
   ]
  },
  {
   "cell_type": "code",
   "execution_count": 20,
   "metadata": {},
   "outputs": [],
   "source": [
    "from Utils.indices import AlternationIndex"
   ]
  },
  {
   "cell_type": "code",
   "execution_count": 21,
   "metadata": {},
   "outputs": [],
   "source": [
    "index_gen = AlternationIndex(\n",
    "    num_points=20,\n",
    "    num_episodes=20,\n",
    "    max_agents=8,\n",
    "    max_epsilon=0.01,\n",
    "    seed=42\n",
    ")"
   ]
  },
  {
   "cell_type": "code",
   "execution_count": 22,
   "metadata": {},
   "outputs": [
    {
     "data": {
      "application/vnd.jupyter.widget-view+json": {
       "model_id": "4e397ac57a7f4db1a9397a8a4e0e52ec",
       "version_major": 2,
       "version_minor": 0
      },
      "text/plain": [
       "Running configurations for alternation:   0%|          | 0/20 [00:00<?, ?it/s]"
      ]
     },
     "metadata": {},
     "output_type": "display_data"
    },
    {
     "data": {
      "application/vnd.jupyter.widget-view+json": {
       "model_id": "1f6d7de00b30498fa9c6984d33d83673",
       "version_major": 2,
       "version_minor": 0
      },
      "text/plain": [
       "Running episodes:   0%|          | 0/20 [00:00<?, ?it/s]"
      ]
     },
     "metadata": {},
     "output_type": "display_data"
    },
    {
     "data": {
      "application/vnd.jupyter.widget-view+json": {
       "model_id": "d2d160e7287f443195eb079e353ad691",
       "version_major": 2,
       "version_minor": 0
      },
      "text/plain": [
       "Running episodes:   0%|          | 0/20 [00:00<?, ?it/s]"
      ]
     },
     "metadata": {},
     "output_type": "display_data"
    },
    {
     "data": {
      "application/vnd.jupyter.widget-view+json": {
       "model_id": "dd58fcde0c8341d0812bd2cd25b389d2",
       "version_major": 2,
       "version_minor": 0
      },
      "text/plain": [
       "Running episodes:   0%|          | 0/20 [00:00<?, ?it/s]"
      ]
     },
     "metadata": {},
     "output_type": "display_data"
    },
    {
     "data": {
      "application/vnd.jupyter.widget-view+json": {
       "model_id": "330fcb0dd6dc4d92ad1d61e11995544e",
       "version_major": 2,
       "version_minor": 0
      },
      "text/plain": [
       "Running episodes:   0%|          | 0/20 [00:00<?, ?it/s]"
      ]
     },
     "metadata": {},
     "output_type": "display_data"
    },
    {
     "data": {
      "application/vnd.jupyter.widget-view+json": {
       "model_id": "21cf0a5524ea4a868ba7da82081a2059",
       "version_major": 2,
       "version_minor": 0
      },
      "text/plain": [
       "Running episodes:   0%|          | 0/20 [00:00<?, ?it/s]"
      ]
     },
     "metadata": {},
     "output_type": "display_data"
    },
    {
     "data": {
      "application/vnd.jupyter.widget-view+json": {
       "model_id": "4bc327e8f6d749448027becc537ae6e1",
       "version_major": 2,
       "version_minor": 0
      },
      "text/plain": [
       "Running episodes:   0%|          | 0/20 [00:00<?, ?it/s]"
      ]
     },
     "metadata": {},
     "output_type": "display_data"
    },
    {
     "data": {
      "application/vnd.jupyter.widget-view+json": {
       "model_id": "d7593277e49640839f0830bd2942b9d6",
       "version_major": 2,
       "version_minor": 0
      },
      "text/plain": [
       "Running episodes:   0%|          | 0/20 [00:00<?, ?it/s]"
      ]
     },
     "metadata": {},
     "output_type": "display_data"
    },
    {
     "data": {
      "application/vnd.jupyter.widget-view+json": {
       "model_id": "8c71666a80374c918da6e274edf0d6d2",
       "version_major": 2,
       "version_minor": 0
      },
      "text/plain": [
       "Running episodes:   0%|          | 0/20 [00:00<?, ?it/s]"
      ]
     },
     "metadata": {},
     "output_type": "display_data"
    },
    {
     "data": {
      "application/vnd.jupyter.widget-view+json": {
       "model_id": "9968e135440149f69340c7a18401b498",
       "version_major": 2,
       "version_minor": 0
      },
      "text/plain": [
       "Running episodes:   0%|          | 0/20 [00:00<?, ?it/s]"
      ]
     },
     "metadata": {},
     "output_type": "display_data"
    },
    {
     "data": {
      "application/vnd.jupyter.widget-view+json": {
       "model_id": "4eaf0def1c77412196d0cd40d8b156e4",
       "version_major": 2,
       "version_minor": 0
      },
      "text/plain": [
       "Running episodes:   0%|          | 0/20 [00:00<?, ?it/s]"
      ]
     },
     "metadata": {},
     "output_type": "display_data"
    },
    {
     "data": {
      "application/vnd.jupyter.widget-view+json": {
       "model_id": "350f54ec1f8940d1b8fef9a8124d9211",
       "version_major": 2,
       "version_minor": 0
      },
      "text/plain": [
       "Running episodes:   0%|          | 0/20 [00:00<?, ?it/s]"
      ]
     },
     "metadata": {},
     "output_type": "display_data"
    },
    {
     "data": {
      "application/vnd.jupyter.widget-view+json": {
       "model_id": "a3087d76c3f14894af7392a1eb530f3f",
       "version_major": 2,
       "version_minor": 0
      },
      "text/plain": [
       "Running episodes:   0%|          | 0/20 [00:00<?, ?it/s]"
      ]
     },
     "metadata": {},
     "output_type": "display_data"
    },
    {
     "data": {
      "application/vnd.jupyter.widget-view+json": {
       "model_id": "7bcafbf5ea0f4cc0a0320bd8cb995ded",
       "version_major": 2,
       "version_minor": 0
      },
      "text/plain": [
       "Running episodes:   0%|          | 0/20 [00:00<?, ?it/s]"
      ]
     },
     "metadata": {},
     "output_type": "display_data"
    },
    {
     "data": {
      "application/vnd.jupyter.widget-view+json": {
       "model_id": "07ba20add5df49e6a00eb11036756dbe",
       "version_major": 2,
       "version_minor": 0
      },
      "text/plain": [
       "Running episodes:   0%|          | 0/20 [00:00<?, ?it/s]"
      ]
     },
     "metadata": {},
     "output_type": "display_data"
    },
    {
     "data": {
      "application/vnd.jupyter.widget-view+json": {
       "model_id": "fc8d9ac9805f4057a514453fe8ba84dc",
       "version_major": 2,
       "version_minor": 0
      },
      "text/plain": [
       "Running episodes:   0%|          | 0/20 [00:00<?, ?it/s]"
      ]
     },
     "metadata": {},
     "output_type": "display_data"
    },
    {
     "data": {
      "application/vnd.jupyter.widget-view+json": {
       "model_id": "648f28a170a4425c9ac5e21247530d7d",
       "version_major": 2,
       "version_minor": 0
      },
      "text/plain": [
       "Running episodes:   0%|          | 0/20 [00:00<?, ?it/s]"
      ]
     },
     "metadata": {},
     "output_type": "display_data"
    },
    {
     "data": {
      "application/vnd.jupyter.widget-view+json": {
       "model_id": "e52ef00a087c4a118b3a7a02cd9d4e6e",
       "version_major": 2,
       "version_minor": 0
      },
      "text/plain": [
       "Running episodes:   0%|          | 0/20 [00:00<?, ?it/s]"
      ]
     },
     "metadata": {},
     "output_type": "display_data"
    },
    {
     "data": {
      "application/vnd.jupyter.widget-view+json": {
       "model_id": "76792edd9c354776b27396aa2c240736",
       "version_major": 2,
       "version_minor": 0
      },
      "text/plain": [
       "Running episodes:   0%|          | 0/20 [00:00<?, ?it/s]"
      ]
     },
     "metadata": {},
     "output_type": "display_data"
    },
    {
     "data": {
      "application/vnd.jupyter.widget-view+json": {
       "model_id": "87af7f87b40c479981d88ce7ef81066c",
       "version_major": 2,
       "version_minor": 0
      },
      "text/plain": [
       "Running episodes:   0%|          | 0/20 [00:00<?, ?it/s]"
      ]
     },
     "metadata": {},
     "output_type": "display_data"
    },
    {
     "data": {
      "application/vnd.jupyter.widget-view+json": {
       "model_id": "613846bcd1864a368c199a83ac4b6992",
       "version_major": 2,
       "version_minor": 0
      },
      "text/plain": [
       "Running episodes:   0%|          | 0/20 [00:00<?, ?it/s]"
      ]
     },
     "metadata": {},
     "output_type": "display_data"
    },
    {
     "data": {
      "application/vnd.jupyter.widget-view+json": {
       "model_id": "dcaec55d072546ac9e46ba7635a0026e",
       "version_major": 2,
       "version_minor": 0
      },
      "text/plain": [
       "Running configurations for segmentation:   0%|          | 0/20 [00:00<?, ?it/s]"
      ]
     },
     "metadata": {},
     "output_type": "display_data"
    },
    {
     "data": {
      "application/vnd.jupyter.widget-view+json": {
       "model_id": "dcedb1c26579403989ada0068f90dfa7",
       "version_major": 2,
       "version_minor": 0
      },
      "text/plain": [
       "Running episodes:   0%|          | 0/10 [00:00<?, ?it/s]"
      ]
     },
     "metadata": {},
     "output_type": "display_data"
    },
    {
     "data": {
      "application/vnd.jupyter.widget-view+json": {
       "model_id": "aa312bf2c46245ddb435eafa057baab6",
       "version_major": 2,
       "version_minor": 0
      },
      "text/plain": [
       "Running episodes:   0%|          | 0/10 [00:00<?, ?it/s]"
      ]
     },
     "metadata": {},
     "output_type": "display_data"
    },
    {
     "data": {
      "application/vnd.jupyter.widget-view+json": {
       "model_id": "b6cdf97c4e0c41c1922046491ea2d022",
       "version_major": 2,
       "version_minor": 0
      },
      "text/plain": [
       "Running episodes:   0%|          | 0/10 [00:00<?, ?it/s]"
      ]
     },
     "metadata": {},
     "output_type": "display_data"
    },
    {
     "data": {
      "application/vnd.jupyter.widget-view+json": {
       "model_id": "4ebc65fa51ab40879debcb0053aca198",
       "version_major": 2,
       "version_minor": 0
      },
      "text/plain": [
       "Running episodes:   0%|          | 0/10 [00:00<?, ?it/s]"
      ]
     },
     "metadata": {},
     "output_type": "display_data"
    },
    {
     "data": {
      "application/vnd.jupyter.widget-view+json": {
       "model_id": "fb9dd27d57084afaa0434181ef171bb8",
       "version_major": 2,
       "version_minor": 0
      },
      "text/plain": [
       "Running episodes:   0%|          | 0/10 [00:00<?, ?it/s]"
      ]
     },
     "metadata": {},
     "output_type": "display_data"
    },
    {
     "data": {
      "application/vnd.jupyter.widget-view+json": {
       "model_id": "b08bed297c6d41c3b80809065f6fa7a1",
       "version_major": 2,
       "version_minor": 0
      },
      "text/plain": [
       "Running episodes:   0%|          | 0/10 [00:00<?, ?it/s]"
      ]
     },
     "metadata": {},
     "output_type": "display_data"
    },
    {
     "data": {
      "application/vnd.jupyter.widget-view+json": {
       "model_id": "1fb23d4a6c4948ce902e6d3e383bb740",
       "version_major": 2,
       "version_minor": 0
      },
      "text/plain": [
       "Running episodes:   0%|          | 0/10 [00:00<?, ?it/s]"
      ]
     },
     "metadata": {},
     "output_type": "display_data"
    },
    {
     "data": {
      "application/vnd.jupyter.widget-view+json": {
       "model_id": "f81b7f6f89a24482804712d5e83d86c4",
       "version_major": 2,
       "version_minor": 0
      },
      "text/plain": [
       "Running episodes:   0%|          | 0/10 [00:00<?, ?it/s]"
      ]
     },
     "metadata": {},
     "output_type": "display_data"
    },
    {
     "data": {
      "application/vnd.jupyter.widget-view+json": {
       "model_id": "8f6437d7d4e644a2b77d14e0d9bc2c23",
       "version_major": 2,
       "version_minor": 0
      },
      "text/plain": [
       "Running episodes:   0%|          | 0/10 [00:00<?, ?it/s]"
      ]
     },
     "metadata": {},
     "output_type": "display_data"
    },
    {
     "data": {
      "application/vnd.jupyter.widget-view+json": {
       "model_id": "a6b992a949404542ac65c7399555d211",
       "version_major": 2,
       "version_minor": 0
      },
      "text/plain": [
       "Running episodes:   0%|          | 0/10 [00:00<?, ?it/s]"
      ]
     },
     "metadata": {},
     "output_type": "display_data"
    },
    {
     "data": {
      "application/vnd.jupyter.widget-view+json": {
       "model_id": "04831391e70f455b90608135f8983875",
       "version_major": 2,
       "version_minor": 0
      },
      "text/plain": [
       "Running episodes:   0%|          | 0/10 [00:00<?, ?it/s]"
      ]
     },
     "metadata": {},
     "output_type": "display_data"
    },
    {
     "data": {
      "application/vnd.jupyter.widget-view+json": {
       "model_id": "5ce8d1acbbbf4ebfa3ba2b81059e4775",
       "version_major": 2,
       "version_minor": 0
      },
      "text/plain": [
       "Running episodes:   0%|          | 0/10 [00:00<?, ?it/s]"
      ]
     },
     "metadata": {},
     "output_type": "display_data"
    },
    {
     "data": {
      "application/vnd.jupyter.widget-view+json": {
       "model_id": "99aa50b916a24d93b256501ff5b14780",
       "version_major": 2,
       "version_minor": 0
      },
      "text/plain": [
       "Running episodes:   0%|          | 0/10 [00:00<?, ?it/s]"
      ]
     },
     "metadata": {},
     "output_type": "display_data"
    },
    {
     "data": {
      "application/vnd.jupyter.widget-view+json": {
       "model_id": "4209b40f023a40b6806a713871cd0862",
       "version_major": 2,
       "version_minor": 0
      },
      "text/plain": [
       "Running episodes:   0%|          | 0/10 [00:00<?, ?it/s]"
      ]
     },
     "metadata": {},
     "output_type": "display_data"
    },
    {
     "data": {
      "application/vnd.jupyter.widget-view+json": {
       "model_id": "c4fcdce451624c65b74cf62ce48c9e89",
       "version_major": 2,
       "version_minor": 0
      },
      "text/plain": [
       "Running episodes:   0%|          | 0/10 [00:00<?, ?it/s]"
      ]
     },
     "metadata": {},
     "output_type": "display_data"
    },
    {
     "data": {
      "application/vnd.jupyter.widget-view+json": {
       "model_id": "49797057c66f4574b56cc8d610f528a4",
       "version_major": 2,
       "version_minor": 0
      },
      "text/plain": [
       "Running episodes:   0%|          | 0/10 [00:00<?, ?it/s]"
      ]
     },
     "metadata": {},
     "output_type": "display_data"
    },
    {
     "data": {
      "application/vnd.jupyter.widget-view+json": {
       "model_id": "e9376f3f12fb4992aeef5e299238e5e2",
       "version_major": 2,
       "version_minor": 0
      },
      "text/plain": [
       "Running episodes:   0%|          | 0/10 [00:00<?, ?it/s]"
      ]
     },
     "metadata": {},
     "output_type": "display_data"
    },
    {
     "data": {
      "application/vnd.jupyter.widget-view+json": {
       "model_id": "524956b0ec47420d8381b89b4ece6e56",
       "version_major": 2,
       "version_minor": 0
      },
      "text/plain": [
       "Running episodes:   0%|          | 0/10 [00:00<?, ?it/s]"
      ]
     },
     "metadata": {},
     "output_type": "display_data"
    },
    {
     "data": {
      "application/vnd.jupyter.widget-view+json": {
       "model_id": "ce3795c9203340aba5eb09b832e01b58",
       "version_major": 2,
       "version_minor": 0
      },
      "text/plain": [
       "Running episodes:   0%|          | 0/10 [00:00<?, ?it/s]"
      ]
     },
     "metadata": {},
     "output_type": "display_data"
    },
    {
     "data": {
      "application/vnd.jupyter.widget-view+json": {
       "model_id": "f54b4c5b19324c3bbec64d82f1e6bf7e",
       "version_major": 2,
       "version_minor": 0
      },
      "text/plain": [
       "Running episodes:   0%|          | 0/10 [00:00<?, ?it/s]"
      ]
     },
     "metadata": {},
     "output_type": "display_data"
    },
    {
     "data": {
      "application/vnd.jupyter.widget-view+json": {
       "model_id": "aaeab6909aac4dc993d4fee2ec00a760",
       "version_major": 2,
       "version_minor": 0
      },
      "text/plain": [
       "Running configurations for random:   0%|          | 0/20 [00:00<?, ?it/s]"
      ]
     },
     "metadata": {},
     "output_type": "display_data"
    },
    {
     "data": {
      "application/vnd.jupyter.widget-view+json": {
       "model_id": "8b569998ca0e41ea9fb7af3682c70c18",
       "version_major": 2,
       "version_minor": 0
      },
      "text/plain": [
       "Running episodes:   0%|          | 0/10 [00:00<?, ?it/s]"
      ]
     },
     "metadata": {},
     "output_type": "display_data"
    },
    {
     "data": {
      "application/vnd.jupyter.widget-view+json": {
       "model_id": "ad60651ce6f646bab4946e4305feeca5",
       "version_major": 2,
       "version_minor": 0
      },
      "text/plain": [
       "Running episodes:   0%|          | 0/10 [00:00<?, ?it/s]"
      ]
     },
     "metadata": {},
     "output_type": "display_data"
    },
    {
     "data": {
      "application/vnd.jupyter.widget-view+json": {
       "model_id": "da45762964044b45931f57d856a09b44",
       "version_major": 2,
       "version_minor": 0
      },
      "text/plain": [
       "Running episodes:   0%|          | 0/10 [00:00<?, ?it/s]"
      ]
     },
     "metadata": {},
     "output_type": "display_data"
    },
    {
     "data": {
      "application/vnd.jupyter.widget-view+json": {
       "model_id": "d338ebf00073443db8c978277424ad54",
       "version_major": 2,
       "version_minor": 0
      },
      "text/plain": [
       "Running episodes:   0%|          | 0/10 [00:00<?, ?it/s]"
      ]
     },
     "metadata": {},
     "output_type": "display_data"
    },
    {
     "data": {
      "application/vnd.jupyter.widget-view+json": {
       "model_id": "0bf5db65575446a792452d3a3f89008f",
       "version_major": 2,
       "version_minor": 0
      },
      "text/plain": [
       "Running episodes:   0%|          | 0/10 [00:00<?, ?it/s]"
      ]
     },
     "metadata": {},
     "output_type": "display_data"
    },
    {
     "data": {
      "application/vnd.jupyter.widget-view+json": {
       "model_id": "41094b1ae2124d96b3f3bbd98d078c8b",
       "version_major": 2,
       "version_minor": 0
      },
      "text/plain": [
       "Running episodes:   0%|          | 0/10 [00:00<?, ?it/s]"
      ]
     },
     "metadata": {},
     "output_type": "display_data"
    },
    {
     "data": {
      "application/vnd.jupyter.widget-view+json": {
       "model_id": "204252543b624286b034a20c245005e6",
       "version_major": 2,
       "version_minor": 0
      },
      "text/plain": [
       "Running episodes:   0%|          | 0/10 [00:00<?, ?it/s]"
      ]
     },
     "metadata": {},
     "output_type": "display_data"
    },
    {
     "data": {
      "application/vnd.jupyter.widget-view+json": {
       "model_id": "f941473a42dc4421983b098ee4d180e1",
       "version_major": 2,
       "version_minor": 0
      },
      "text/plain": [
       "Running episodes:   0%|          | 0/10 [00:00<?, ?it/s]"
      ]
     },
     "metadata": {},
     "output_type": "display_data"
    },
    {
     "data": {
      "application/vnd.jupyter.widget-view+json": {
       "model_id": "d80c248e88c841ffa57f42070c5f182c",
       "version_major": 2,
       "version_minor": 0
      },
      "text/plain": [
       "Running episodes:   0%|          | 0/10 [00:00<?, ?it/s]"
      ]
     },
     "metadata": {},
     "output_type": "display_data"
    },
    {
     "data": {
      "application/vnd.jupyter.widget-view+json": {
       "model_id": "175ed126c2cf4fe6a6270ed5a7adc295",
       "version_major": 2,
       "version_minor": 0
      },
      "text/plain": [
       "Running episodes:   0%|          | 0/10 [00:00<?, ?it/s]"
      ]
     },
     "metadata": {},
     "output_type": "display_data"
    },
    {
     "data": {
      "application/vnd.jupyter.widget-view+json": {
       "model_id": "4e276de94a1d40a0b6db58fe9122539e",
       "version_major": 2,
       "version_minor": 0
      },
      "text/plain": [
       "Running episodes:   0%|          | 0/10 [00:00<?, ?it/s]"
      ]
     },
     "metadata": {},
     "output_type": "display_data"
    },
    {
     "data": {
      "application/vnd.jupyter.widget-view+json": {
       "model_id": "b89482b397dd4e07b0ab5dbd5c703f5f",
       "version_major": 2,
       "version_minor": 0
      },
      "text/plain": [
       "Running episodes:   0%|          | 0/10 [00:00<?, ?it/s]"
      ]
     },
     "metadata": {},
     "output_type": "display_data"
    },
    {
     "data": {
      "application/vnd.jupyter.widget-view+json": {
       "model_id": "9e169ba61871490a8b72e840202bc6e8",
       "version_major": 2,
       "version_minor": 0
      },
      "text/plain": [
       "Running episodes:   0%|          | 0/10 [00:00<?, ?it/s]"
      ]
     },
     "metadata": {},
     "output_type": "display_data"
    },
    {
     "data": {
      "application/vnd.jupyter.widget-view+json": {
       "model_id": "a26019ebf959409f974d7f83e0d278a2",
       "version_major": 2,
       "version_minor": 0
      },
      "text/plain": [
       "Running episodes:   0%|          | 0/10 [00:00<?, ?it/s]"
      ]
     },
     "metadata": {},
     "output_type": "display_data"
    },
    {
     "data": {
      "application/vnd.jupyter.widget-view+json": {
       "model_id": "bbd38709b9c848d4a6edc23e8097e369",
       "version_major": 2,
       "version_minor": 0
      },
      "text/plain": [
       "Running episodes:   0%|          | 0/10 [00:00<?, ?it/s]"
      ]
     },
     "metadata": {},
     "output_type": "display_data"
    },
    {
     "data": {
      "application/vnd.jupyter.widget-view+json": {
       "model_id": "ff5b205fc1ad43f98e2d37c7d83d884b",
       "version_major": 2,
       "version_minor": 0
      },
      "text/plain": [
       "Running episodes:   0%|          | 0/10 [00:00<?, ?it/s]"
      ]
     },
     "metadata": {},
     "output_type": "display_data"
    },
    {
     "data": {
      "application/vnd.jupyter.widget-view+json": {
       "model_id": "8ff3c6e308064f99a04edcf64cfed9bb",
       "version_major": 2,
       "version_minor": 0
      },
      "text/plain": [
       "Running episodes:   0%|          | 0/10 [00:00<?, ?it/s]"
      ]
     },
     "metadata": {},
     "output_type": "display_data"
    },
    {
     "data": {
      "application/vnd.jupyter.widget-view+json": {
       "model_id": "b75f364e273e4cbfbe83be97e3d22fe8",
       "version_major": 2,
       "version_minor": 0
      },
      "text/plain": [
       "Running episodes:   0%|          | 0/10 [00:00<?, ?it/s]"
      ]
     },
     "metadata": {},
     "output_type": "display_data"
    },
    {
     "data": {
      "application/vnd.jupyter.widget-view+json": {
       "model_id": "92c0c8c4305a4e6980d284577155a906",
       "version_major": 2,
       "version_minor": 0
      },
      "text/plain": [
       "Running episodes:   0%|          | 0/10 [00:00<?, ?it/s]"
      ]
     },
     "metadata": {},
     "output_type": "display_data"
    },
    {
     "data": {
      "application/vnd.jupyter.widget-view+json": {
       "model_id": "a978e3698eff4945be0a46ef3fb57b62",
       "version_major": 2,
       "version_minor": 0
      },
      "text/plain": [
       "Running episodes:   0%|          | 0/10 [00:00<?, ?it/s]"
      ]
     },
     "metadata": {},
     "output_type": "display_data"
    }
   ],
   "source": [
    "df = index_gen.simulate_data()"
   ]
  },
  {
   "cell_type": "code",
   "execution_count": 23,
   "metadata": {},
   "outputs": [
    {
     "data": {
      "text/html": [
       "<div>\n",
       "<style scoped>\n",
       "    .dataframe tbody tr th:only-of-type {\n",
       "        vertical-align: middle;\n",
       "    }\n",
       "\n",
       "    .dataframe tbody tr th {\n",
       "        vertical-align: top;\n",
       "    }\n",
       "\n",
       "    .dataframe thead th {\n",
       "        text-align: right;\n",
       "    }\n",
       "</style>\n",
       "<table border=\"1\" class=\"dataframe\">\n",
       "  <thead>\n",
       "    <tr style=\"text-align: right;\">\n",
       "      <th></th>\n",
       "      <th>threshold</th>\n",
       "      <th>id_sim</th>\n",
       "      <th>num_agents</th>\n",
       "      <th>bounded_efficiency</th>\n",
       "      <th>inequality</th>\n",
       "      <th>epsilon</th>\n",
       "      <th>data_type</th>\n",
       "    </tr>\n",
       "  </thead>\n",
       "  <tbody>\n",
       "    <tr>\n",
       "      <th>0</th>\n",
       "      <td>0.428571</td>\n",
       "      <td>7-0.42857142857142855-0.005555555555555556-alt...</td>\n",
       "      <td>7</td>\n",
       "      <td>1.000000</td>\n",
       "      <td>5.995890e-17</td>\n",
       "      <td>0.005556</td>\n",
       "      <td>alternation</td>\n",
       "    </tr>\n",
       "    <tr>\n",
       "      <th>1</th>\n",
       "      <td>0.428571</td>\n",
       "      <td>7-0.42857142857142855-0.005555555555555556-alt...</td>\n",
       "      <td>7</td>\n",
       "      <td>0.888889</td>\n",
       "      <td>4.761905e-02</td>\n",
       "      <td>0.005556</td>\n",
       "      <td>alternation</td>\n",
       "    </tr>\n",
       "    <tr>\n",
       "      <th>2</th>\n",
       "      <td>0.428571</td>\n",
       "      <td>7-0.42857142857142855-0.005555555555555556-alt...</td>\n",
       "      <td>7</td>\n",
       "      <td>1.000000</td>\n",
       "      <td>5.995890e-17</td>\n",
       "      <td>0.005556</td>\n",
       "      <td>alternation</td>\n",
       "    </tr>\n",
       "    <tr>\n",
       "      <th>3</th>\n",
       "      <td>0.428571</td>\n",
       "      <td>7-0.42857142857142855-0.005555555555555556-alt...</td>\n",
       "      <td>7</td>\n",
       "      <td>0.984127</td>\n",
       "      <td>1.799831e-02</td>\n",
       "      <td>0.005556</td>\n",
       "      <td>alternation</td>\n",
       "    </tr>\n",
       "    <tr>\n",
       "      <th>4</th>\n",
       "      <td>0.428571</td>\n",
       "      <td>7-0.42857142857142855-0.005555555555555556-alt...</td>\n",
       "      <td>7</td>\n",
       "      <td>0.888889</td>\n",
       "      <td>4.761905e-02</td>\n",
       "      <td>0.005556</td>\n",
       "      <td>alternation</td>\n",
       "    </tr>\n",
       "  </tbody>\n",
       "</table>\n",
       "</div>"
      ],
      "text/plain": [
       "   threshold                                             id_sim  num_agents  \\\n",
       "0   0.428571  7-0.42857142857142855-0.005555555555555556-alt...           7   \n",
       "1   0.428571  7-0.42857142857142855-0.005555555555555556-alt...           7   \n",
       "2   0.428571  7-0.42857142857142855-0.005555555555555556-alt...           7   \n",
       "3   0.428571  7-0.42857142857142855-0.005555555555555556-alt...           7   \n",
       "4   0.428571  7-0.42857142857142855-0.005555555555555556-alt...           7   \n",
       "\n",
       "   bounded_efficiency    inequality   epsilon    data_type  \n",
       "0               1.000000  5.995890e-17  0.005556  alternation  \n",
       "1               0.888889  4.761905e-02  0.005556  alternation  \n",
       "2               1.000000  5.995890e-17  0.005556  alternation  \n",
       "3               0.984127  1.799831e-02  0.005556  alternation  \n",
       "4               0.888889  4.761905e-02  0.005556  alternation  "
      ]
     },
     "execution_count": 23,
     "metadata": {},
     "output_type": "execute_result"
    }
   ],
   "source": [
    "df = index_gen.data\n",
    "df.head()"
   ]
  },
  {
   "cell_type": "code",
   "execution_count": 24,
   "metadata": {},
   "outputs": [
    {
     "name": "stdout",
     "output_type": "stream",
     "text": [
      "              precision    recall  f1-score   support\n",
      "\n",
      "           0       1.00      1.00      1.00        88\n",
      "           1       1.00      1.00      1.00        72\n",
      "\n",
      "    accuracy                           1.00       160\n",
      "   macro avg       1.00      1.00      1.00       160\n",
      "weighted avg       1.00      1.00      1.00       160\n",
      "\n",
      "Saved sklearn coefficients to /Users/edgar/Repositorios/Cognitive_Models_El_Farol_Bar_Problem/data/indices/sklearn_coefficients.csv\n"
     ]
    },
    {
     "data": {
      "text/html": [
       "<div>\n",
       "<style scoped>\n",
       "    .dataframe tbody tr th:only-of-type {\n",
       "        vertical-align: middle;\n",
       "    }\n",
       "\n",
       "    .dataframe tbody tr th {\n",
       "        vertical-align: top;\n",
       "    }\n",
       "\n",
       "    .dataframe thead th {\n",
       "        text-align: right;\n",
       "    }\n",
       "</style>\n",
       "<table border=\"1\" class=\"dataframe\">\n",
       "  <thead>\n",
       "    <tr style=\"text-align: right;\">\n",
       "      <th></th>\n",
       "      <th>measure</th>\n",
       "      <th>coefficient</th>\n",
       "    </tr>\n",
       "  </thead>\n",
       "  <tbody>\n",
       "    <tr>\n",
       "      <th>0</th>\n",
       "      <td>intercept</td>\n",
       "      <td>-0.306723</td>\n",
       "    </tr>\n",
       "    <tr>\n",
       "      <th>1</th>\n",
       "      <td>bounded_efficiency</td>\n",
       "      <td>3.311620</td>\n",
       "    </tr>\n",
       "    <tr>\n",
       "      <th>2</th>\n",
       "      <td>inequality</td>\n",
       "      <td>-9.529224</td>\n",
       "    </tr>\n",
       "  </tbody>\n",
       "</table>\n",
       "</div>"
      ],
      "text/plain": [
       "                 measure  coefficient\n",
       "0              intercept    -0.306723\n",
       "1  bounded_efficiency     3.311620\n",
       "2             inequality    -9.529224"
      ]
     },
     "execution_count": 24,
     "metadata": {},
     "output_type": "execute_result"
    }
   ],
   "source": [
    "index_gen.create_index_sklearn()"
   ]
  },
  {
   "cell_type": "code",
   "execution_count": 25,
   "metadata": {},
   "outputs": [
    {
     "name": "stdout",
     "output_type": "stream",
     "text": [
      "                           Logit Regression Results                           \n",
      "==============================================================================\n",
      "Dep. Variable:                 target   No. Observations:                  800\n",
      "Model:                          Logit   Df Residuals:                      797\n",
      "Method:                           MLE   Df Model:                            2\n",
      "Date:                Tue, 15 Apr 2025   Pseudo R-squ.:                   1.000\n",
      "Time:                        15:39:53   Log-Likelihood:            -7.8225e-07\n",
      "converged:                      False   LL-Null:                       -554.52\n",
      "Covariance Type:            nonrobust   LLR p-value:                1.500e-241\n",
      "=========================================================================================\n",
      "                            coef    std err          z      P>|z|      [0.025      0.975]\n",
      "-----------------------------------------------------------------------------------------\n",
      "const                   -20.8851   8.74e+04     -0.000      1.000   -1.71e+05    1.71e+05\n",
      "bounded_efficiency    68.4754   1.26e+05      0.001      1.000   -2.47e+05    2.47e+05\n",
      "inequality             -170.7336      1e+05     -0.002      0.999   -1.96e+05    1.96e+05\n",
      "=========================================================================================\n",
      "\n",
      "Complete Separation: The results show that there iscomplete separation or perfect prediction.\n",
      "In this case the Maximum Likelihood Estimator does not exist and the parameters\n",
      "are not identified.\n",
      "Saved statsmodels coefficients to /Users/edgar/Repositorios/Cognitive_Models_El_Farol_Bar_Problem/data/indices/statsmodels_coefficients.csv\n"
     ]
    },
    {
     "name": "stderr",
     "output_type": "stream",
     "text": [
      "/Users/edgar/venv_repositorios/lib/python3.12/site-packages/statsmodels/base/model.py:607: ConvergenceWarning: Maximum Likelihood optimization failed to converge. Check mle_retvals\n",
      "  warnings.warn(\"Maximum Likelihood optimization failed to \"\n"
     ]
    },
    {
     "data": {
      "text/html": [
       "<div>\n",
       "<style scoped>\n",
       "    .dataframe tbody tr th:only-of-type {\n",
       "        vertical-align: middle;\n",
       "    }\n",
       "\n",
       "    .dataframe tbody tr th {\n",
       "        vertical-align: top;\n",
       "    }\n",
       "\n",
       "    .dataframe thead th {\n",
       "        text-align: right;\n",
       "    }\n",
       "</style>\n",
       "<table border=\"1\" class=\"dataframe\">\n",
       "  <thead>\n",
       "    <tr style=\"text-align: right;\">\n",
       "      <th></th>\n",
       "      <th>measure</th>\n",
       "      <th>coefficient</th>\n",
       "    </tr>\n",
       "  </thead>\n",
       "  <tbody>\n",
       "    <tr>\n",
       "      <th>0</th>\n",
       "      <td>intercept</td>\n",
       "      <td>-20.885141</td>\n",
       "    </tr>\n",
       "    <tr>\n",
       "      <th>1</th>\n",
       "      <td>bounded_efficiency</td>\n",
       "      <td>68.475350</td>\n",
       "    </tr>\n",
       "    <tr>\n",
       "      <th>2</th>\n",
       "      <td>inequality</td>\n",
       "      <td>-170.733589</td>\n",
       "    </tr>\n",
       "  </tbody>\n",
       "</table>\n",
       "</div>"
      ],
      "text/plain": [
       "                 measure  coefficient\n",
       "0              intercept   -20.885141\n",
       "1  bounded_efficiency    68.475350\n",
       "2             inequality  -170.733589"
      ]
     },
     "execution_count": 25,
     "metadata": {},
     "output_type": "execute_result"
    }
   ],
   "source": [
    "index_gen.create_index_statsmodels()"
   ]
  },
  {
   "cell_type": "code",
   "execution_count": 26,
   "metadata": {},
   "outputs": [],
   "source": [
    "index_gen1 = AlternationIndex.from_file(priority='sklearn')"
   ]
  },
  {
   "cell_type": "code",
   "execution_count": 27,
   "metadata": {},
   "outputs": [],
   "source": [
    "df['gen1'] = index_gen1(df)"
   ]
  },
  {
   "cell_type": "code",
   "execution_count": 28,
   "metadata": {},
   "outputs": [],
   "source": [
    "index_gen2 = AlternationIndex.from_file(priority='statsmodels')"
   ]
  },
  {
   "cell_type": "code",
   "execution_count": 29,
   "metadata": {},
   "outputs": [],
   "source": [
    "df['gen2'] = index_gen2(df)"
   ]
  },
  {
   "cell_type": "code",
   "execution_count": 30,
   "metadata": {},
   "outputs": [
    {
     "data": {
      "text/html": [
       "<div>\n",
       "<style scoped>\n",
       "    .dataframe tbody tr th:only-of-type {\n",
       "        vertical-align: middle;\n",
       "    }\n",
       "\n",
       "    .dataframe tbody tr th {\n",
       "        vertical-align: top;\n",
       "    }\n",
       "\n",
       "    .dataframe thead th {\n",
       "        text-align: right;\n",
       "    }\n",
       "</style>\n",
       "<table border=\"1\" class=\"dataframe\">\n",
       "  <thead>\n",
       "    <tr style=\"text-align: right;\">\n",
       "      <th></th>\n",
       "      <th>threshold</th>\n",
       "      <th>id_sim</th>\n",
       "      <th>num_agents</th>\n",
       "      <th>bounded_efficiency</th>\n",
       "      <th>inequality</th>\n",
       "      <th>epsilon</th>\n",
       "      <th>data_type</th>\n",
       "      <th>target</th>\n",
       "      <th>gen1</th>\n",
       "      <th>gen2</th>\n",
       "    </tr>\n",
       "  </thead>\n",
       "  <tbody>\n",
       "    <tr>\n",
       "      <th>0</th>\n",
       "      <td>0.428571</td>\n",
       "      <td>7-0.42857142857142855-0.005555555555555556-alt...</td>\n",
       "      <td>7</td>\n",
       "      <td>1.000000</td>\n",
       "      <td>5.995890e-17</td>\n",
       "      <td>0.005556</td>\n",
       "      <td>alternation</td>\n",
       "      <td>1</td>\n",
       "      <td>0.952795</td>\n",
       "      <td>1.0</td>\n",
       "    </tr>\n",
       "    <tr>\n",
       "      <th>1</th>\n",
       "      <td>0.428571</td>\n",
       "      <td>7-0.42857142857142855-0.005555555555555556-alt...</td>\n",
       "      <td>7</td>\n",
       "      <td>0.888889</td>\n",
       "      <td>4.761905e-02</td>\n",
       "      <td>0.005556</td>\n",
       "      <td>alternation</td>\n",
       "      <td>1</td>\n",
       "      <td>0.898728</td>\n",
       "      <td>1.0</td>\n",
       "    </tr>\n",
       "    <tr>\n",
       "      <th>2</th>\n",
       "      <td>0.428571</td>\n",
       "      <td>7-0.42857142857142855-0.005555555555555556-alt...</td>\n",
       "      <td>7</td>\n",
       "      <td>1.000000</td>\n",
       "      <td>5.995890e-17</td>\n",
       "      <td>0.005556</td>\n",
       "      <td>alternation</td>\n",
       "      <td>1</td>\n",
       "      <td>0.952795</td>\n",
       "      <td>1.0</td>\n",
       "    </tr>\n",
       "    <tr>\n",
       "      <th>3</th>\n",
       "      <td>0.428571</td>\n",
       "      <td>7-0.42857142857142855-0.005555555555555556-alt...</td>\n",
       "      <td>7</td>\n",
       "      <td>0.984127</td>\n",
       "      <td>1.799831e-02</td>\n",
       "      <td>0.005556</td>\n",
       "      <td>alternation</td>\n",
       "      <td>1</td>\n",
       "      <td>0.941631</td>\n",
       "      <td>1.0</td>\n",
       "    </tr>\n",
       "    <tr>\n",
       "      <th>4</th>\n",
       "      <td>0.428571</td>\n",
       "      <td>7-0.42857142857142855-0.005555555555555556-alt...</td>\n",
       "      <td>7</td>\n",
       "      <td>0.888889</td>\n",
       "      <td>4.761905e-02</td>\n",
       "      <td>0.005556</td>\n",
       "      <td>alternation</td>\n",
       "      <td>1</td>\n",
       "      <td>0.898728</td>\n",
       "      <td>1.0</td>\n",
       "    </tr>\n",
       "  </tbody>\n",
       "</table>\n",
       "</div>"
      ],
      "text/plain": [
       "   threshold                                             id_sim  num_agents  \\\n",
       "0   0.428571  7-0.42857142857142855-0.005555555555555556-alt...           7   \n",
       "1   0.428571  7-0.42857142857142855-0.005555555555555556-alt...           7   \n",
       "2   0.428571  7-0.42857142857142855-0.005555555555555556-alt...           7   \n",
       "3   0.428571  7-0.42857142857142855-0.005555555555555556-alt...           7   \n",
       "4   0.428571  7-0.42857142857142855-0.005555555555555556-alt...           7   \n",
       "\n",
       "   bounded_efficiency    inequality   epsilon    data_type  target  \\\n",
       "0               1.000000  5.995890e-17  0.005556  alternation       1   \n",
       "1               0.888889  4.761905e-02  0.005556  alternation       1   \n",
       "2               1.000000  5.995890e-17  0.005556  alternation       1   \n",
       "3               0.984127  1.799831e-02  0.005556  alternation       1   \n",
       "4               0.888889  4.761905e-02  0.005556  alternation       1   \n",
       "\n",
       "       gen1  gen2  \n",
       "0  0.952795   1.0  \n",
       "1  0.898728   1.0  \n",
       "2  0.952795   1.0  \n",
       "3  0.941631   1.0  \n",
       "4  0.898728   1.0  "
      ]
     },
     "execution_count": 30,
     "metadata": {},
     "output_type": "execute_result"
    }
   ],
   "source": [
    "df.head()"
   ]
  },
  {
   "cell_type": "code",
   "execution_count": 31,
   "metadata": {},
   "outputs": [
    {
     "data": {
      "text/plain": [
       "<Axes: title={'center': 'statsmodels'}, xlabel='Data Type', ylabel='Alternation Index'>"
      ]
     },
     "execution_count": 31,
     "metadata": {},
     "output_type": "execute_result"
    },
    {
     "data": {
      "image/png": "[encoded data removed]",
      "text/plain": [
       "<Figure size 1000x500 with 2 Axes>"
      ]
     },
     "metadata": {},
     "output_type": "display_data"
    }
   ],
   "source": [
    "import seaborn as sns\n",
    "import matplotlib.pyplot as plt\n",
    "\n",
    "fig, ax = plt.subplots(1, 2, figsize=(10, 5))\n",
    "sns.violinplot(\n",
    "    data=df,\n",
    "    x='data_type',\n",
    "    y='gen1',\n",
    "    ax=ax[0],\n",
    ")\n",
    "ax[0].set_title('sklearn')\n",
    "ax[0].set_xlabel('Data Type')\n",
    "ax[0].set_ylabel('Alternation Index')\n",
    "ax[1].set_title('statsmodels')\n",
    "ax[1].set_xlabel('Data Type')\n",
    "ax[1].set_ylabel('Alternation Index')\n",
    "sns.violinplot(\n",
    "    data=df,\n",
    "    x='data_type',\n",
    "    y='gen2',\n",
    "    ax=ax[1],\n",
    ")"
   ]
  },
  {
   "cell_type": "code",
   "execution_count": 32,
   "metadata": {},
   "outputs": [
    {
     "data": {
      "text/html": [
       "<div>\n",
       "<style scoped>\n",
       "    .dataframe tbody tr th:only-of-type {\n",
       "        vertical-align: middle;\n",
       "    }\n",
       "\n",
       "    .dataframe tbody tr th {\n",
       "        vertical-align: top;\n",
       "    }\n",
       "\n",
       "    .dataframe thead th {\n",
       "        text-align: right;\n",
       "    }\n",
       "</style>\n",
       "<table border=\"1\" class=\"dataframe\">\n",
       "  <thead>\n",
       "    <tr style=\"text-align: right;\">\n",
       "      <th></th>\n",
       "      <th>threshold</th>\n",
       "      <th>id_sim</th>\n",
       "      <th>num_agents</th>\n",
       "      <th>bounded_efficiency</th>\n",
       "      <th>inequality</th>\n",
       "      <th>epsilon</th>\n",
       "      <th>data_type</th>\n",
       "      <th>target</th>\n",
       "      <th>gen1</th>\n",
       "      <th>gen2</th>\n",
       "    </tr>\n",
       "  </thead>\n",
       "  <tbody>\n",
       "  </tbody>\n",
       "</table>\n",
       "</div>"
      ],
      "text/plain": [
       "Empty DataFrame\n",
       "Columns: [threshold, id_sim, num_agents, bounded_efficiency, inequality, epsilon, data_type, target, gen1, gen2]\n",
       "Index: []"
      ]
     },
     "execution_count": 32,
     "metadata": {},
     "output_type": "execute_result"
    }
   ],
   "source": [
    "df[(df['data_type'] == 'alternation') & (df['gen1'] < 0.5)]"
   ]
  },
  {
   "cell_type": "code",
   "execution_count": 33,
   "metadata": {},
   "outputs": [
    {
     "data": {
      "text/html": [
       "<div>\n",
       "<style scoped>\n",
       "    .dataframe tbody tr th:only-of-type {\n",
       "        vertical-align: middle;\n",
       "    }\n",
       "\n",
       "    .dataframe tbody tr th {\n",
       "        vertical-align: top;\n",
       "    }\n",
       "\n",
       "    .dataframe thead th {\n",
       "        text-align: right;\n",
       "    }\n",
       "</style>\n",
       "<table border=\"1\" class=\"dataframe\">\n",
       "  <thead>\n",
       "    <tr style=\"text-align: right;\">\n",
       "      <th></th>\n",
       "      <th>threshold</th>\n",
       "      <th>id_sim</th>\n",
       "      <th>num_agents</th>\n",
       "      <th>bounded_efficiency</th>\n",
       "      <th>inequality</th>\n",
       "      <th>epsilon</th>\n",
       "      <th>data_type</th>\n",
       "      <th>target</th>\n",
       "      <th>gen1</th>\n",
       "      <th>gen2</th>\n",
       "    </tr>\n",
       "  </thead>\n",
       "  <tbody>\n",
       "  </tbody>\n",
       "</table>\n",
       "</div>"
      ],
      "text/plain": [
       "Empty DataFrame\n",
       "Columns: [threshold, id_sim, num_agents, bounded_efficiency, inequality, epsilon, data_type, target, gen1, gen2]\n",
       "Index: []"
      ]
     },
     "execution_count": 33,
     "metadata": {},
     "output_type": "execute_result"
    }
   ],
   "source": [
    "df[(df['data_type'] == 'segmentation') & (df['gen1'] > 0.5)]"
   ]
  },
  {
   "cell_type": "code",
   "execution_count": 34,
   "metadata": {},
   "outputs": [
    {
     "data": {
      "text/html": [
       "<div>\n",
       "<style scoped>\n",
       "    .dataframe tbody tr th:only-of-type {\n",
       "        vertical-align: middle;\n",
       "    }\n",
       "\n",
       "    .dataframe tbody tr th {\n",
       "        vertical-align: top;\n",
       "    }\n",
       "\n",
       "    .dataframe thead th {\n",
       "        text-align: right;\n",
       "    }\n",
       "</style>\n",
       "<table border=\"1\" class=\"dataframe\">\n",
       "  <thead>\n",
       "    <tr style=\"text-align: right;\">\n",
       "      <th></th>\n",
       "      <th>threshold</th>\n",
       "      <th>id_sim</th>\n",
       "      <th>num_agents</th>\n",
       "      <th>bounded_efficiency</th>\n",
       "      <th>inequality</th>\n",
       "      <th>epsilon</th>\n",
       "      <th>data_type</th>\n",
       "      <th>target</th>\n",
       "      <th>gen1</th>\n",
       "      <th>gen2</th>\n",
       "    </tr>\n",
       "  </thead>\n",
       "  <tbody>\n",
       "  </tbody>\n",
       "</table>\n",
       "</div>"
      ],
      "text/plain": [
       "Empty DataFrame\n",
       "Columns: [threshold, id_sim, num_agents, bounded_efficiency, inequality, epsilon, data_type, target, gen1, gen2]\n",
       "Index: []"
      ]
     },
     "execution_count": 34,
     "metadata": {},
     "output_type": "execute_result"
    }
   ],
   "source": [
    "df[(df['data_type'] == 'random') & (df['gen2'] > 0.5)]"
   ]
  },
  {
   "cell_type": "code",
   "execution_count": 35,
   "metadata": {},
   "outputs": [
    {
     "name": "stdout",
     "output_type": "stream",
     "text": [
      "   bounded_efficiency  inequality\n",
      "0                    0.2         0.1\n",
      "Alternation index skelarn: [0.35495667]\n",
      "Alternation index statsmodels: [2.90085554e-11]\n"
     ]
    }
   ],
   "source": [
    "import pandas as pd\n",
    "\n",
    "conditional_entropy = 0.2\n",
    "entropy = 0.8\n",
    "efficiency = 0.1\n",
    "bounded_efficiency = 0.1 / 0.5\n",
    "inequality = 0.1\n",
    "df_test = pd.DataFrame({\n",
    "    'bounded_efficiency': [bounded_efficiency],\n",
    "    # 'entropy': [entropy],\n",
    "    # 'conditional_entropy': [conditional_entropy],\n",
    "    'inequality': [inequality]\n",
    "})\n",
    "print(df_test)\n",
    "print(f'Alternation index skelarn: {index_gen1(df_test)}')\n",
    "print(f'Alternation index statsmodels: {index_gen2(df_test)}')"
   ]
  },
  {
   "cell_type": "markdown",
   "metadata": {},
   "source": [
    "# Plot alternation index"
   ]
  },
  {
   "cell_type": "code",
   "execution_count": 36,
   "metadata": {},
   "outputs": [],
   "source": [
    "from Classes.cognitive_model_agents import MFPM1, MFPM2, MFPM3\n",
    "from Utils.interaction import Experiment\n",
    "\n",
    "from pathlib import Path"
   ]
  },
  {
   "cell_type": "code",
   "execution_count": 40,
   "metadata": {},
   "outputs": [],
   "source": [
    "fixed_parameters = {\n",
    "\t\"threshold\":0.5,\n",
    "\t\"num_agents\":4,\n",
    "}\n",
    "free_parameters = {\n",
    "\t\"inverse_temperature\":16,\n",
    "    \"belief_strength\":1\n",
    "}\n",
    "simulation_parameters = {\n",
    "\t'num_episodes':30,\n",
    "\t'num_rounds':500,\n",
    "\t'verbose':False\n",
    "}"
   ]
  },
  {
   "cell_type": "code",
   "execution_count": 38,
   "metadata": {},
   "outputs": [
    {
     "data": {
      "application/vnd.jupyter.widget-view+json": {
       "model_id": "78f20a6c7d404b02b9bd8f1d034b5478",
       "version_major": 2,
       "version_minor": 0
      },
      "text/plain": [
       "Running models for each inverse_temperature:   0%|          | 0/5 [00:00<?, ?it/s]"
      ]
     },
     "metadata": {},
     "output_type": "display_data"
    },
    {
     "data": {
      "application/vnd.jupyter.widget-view+json": {
       "model_id": "0cea72ff40bb4df5a576dc38fc6354d0",
       "version_major": 2,
       "version_minor": 0
      },
      "text/plain": [
       "  0%|          | 0/30 [00:00<?, ?it/s]"
      ]
     },
     "metadata": {},
     "output_type": "display_data"
    },
    {
     "data": {
      "application/vnd.jupyter.widget-view+json": {
       "model_id": "7d02f26396e14a6d86229793747041dd",
       "version_major": 2,
       "version_minor": 0
      },
      "text/plain": [
       "  0%|          | 0/30 [00:00<?, ?it/s]"
      ]
     },
     "metadata": {},
     "output_type": "display_data"
    },
    {
     "data": {
      "application/vnd.jupyter.widget-view+json": {
       "model_id": "1d7e616afa194112aab2b87585cda954",
       "version_major": 2,
       "version_minor": 0
      },
      "text/plain": [
       "  0%|          | 0/30 [00:00<?, ?it/s]"
      ]
     },
     "metadata": {},
     "output_type": "display_data"
    },
    {
     "data": {
      "application/vnd.jupyter.widget-view+json": {
       "model_id": "9d3f4b05914f417b810fb37a40d70108",
       "version_major": 2,
       "version_minor": 0
      },
      "text/plain": [
       "  0%|          | 0/30 [00:00<?, ?it/s]"
      ]
     },
     "metadata": {},
     "output_type": "display_data"
    },
    {
     "data": {
      "application/vnd.jupyter.widget-view+json": {
       "model_id": "b4c3ac5e1f9a44b1b702cb537bfd85e3",
       "version_major": 2,
       "version_minor": 0
      },
      "text/plain": [
       "  0%|          | 0/30 [00:00<?, ?it/s]"
      ]
     },
     "metadata": {},
     "output_type": "display_data"
    },
    {
     "name": "stdout",
     "output_type": "stream",
     "text": [
      "Plotting efficiency...\n",
      "Plot saved to ../images/MFP/M1/efficiency_inverse_temperature.png\n",
      "Plotting inequality...\n",
      "Plot saved to ../images/MFP/M1/inequality_inverse_temperature.png\n",
      "Plotting entropy...\n",
      "Plot saved to ../images/MFP/M1/entropy_inverse_temperature.png\n",
      "Plotting conditional_entropy...\n",
      "Plot saved to ../images/MFP/M1/conditional_entropy_inverse_temperature.png\n",
      "Plotting alternation_index...\n",
      "Plot saved to ../images/MFP/M1/alternation_index_inverse_temperature.png\n"
     ]
    }
   ],
   "source": [
    "image_folder_M1 = Path('../images/MFP/M1')\n",
    "\n",
    "agent_class = MFPM1\n",
    "measures = [\n",
    "    'efficiency', 'inequality', 'entropy', \n",
    "    'conditional_entropy', 'alternation_index'\n",
    "]\n",
    "sweep_parameter = 'inverse_temperature'\n",
    "values = [2, 4, 8, 16, 32]\n",
    "\n",
    "experiment = Experiment(\n",
    "    agent_class=agent_class,\n",
    "    fixed_parameters=fixed_parameters,\n",
    "    free_parameters=free_parameters,\n",
    "    simulation_parameters=simulation_parameters,\n",
    "    measures=measures\n",
    ")\n",
    "kwargs_ = {\n",
    "    'x_label':sweep_parameter,\n",
    "    'only_value':True,\n",
    "    'title_size':16,\n",
    "    'x_label_size':14,\n",
    "    'y_label_size':14,\n",
    "}\n",
    "experiment.run_sweep1(\n",
    "    parameter=sweep_parameter,\n",
    "    values=values,\n",
    "    folder_plots=image_folder_M1,\n",
    "    kwargs=kwargs_\n",
    ")"
   ]
  },
  {
   "cell_type": "code",
   "execution_count": 41,
   "metadata": {},
   "outputs": [
    {
     "data": {
      "application/vnd.jupyter.widget-view+json": {
       "model_id": "d28649df8de643fa8474f5140d5fa7fd",
       "version_major": 2,
       "version_minor": 0
      },
      "text/plain": [
       "Running models for each inverse_temperature:   0%|          | 0/5 [00:00<?, ?it/s]"
      ]
     },
     "metadata": {},
     "output_type": "display_data"
    },
    {
     "data": {
      "application/vnd.jupyter.widget-view+json": {
       "model_id": "e656fd587f734d4e8a121589a6f4aefd",
       "version_major": 2,
       "version_minor": 0
      },
      "text/plain": [
       "  0%|          | 0/30 [00:00<?, ?it/s]"
      ]
     },
     "metadata": {},
     "output_type": "display_data"
    },
    {
     "data": {
      "application/vnd.jupyter.widget-view+json": {
       "model_id": "f707d93a14c44dcc8d59f1d6630ba8bc",
       "version_major": 2,
       "version_minor": 0
      },
      "text/plain": [
       "  0%|          | 0/30 [00:00<?, ?it/s]"
      ]
     },
     "metadata": {},
     "output_type": "display_data"
    },
    {
     "data": {
      "application/vnd.jupyter.widget-view+json": {
       "model_id": "8eca9446501f4d29bb731dc8aef7e9d3",
       "version_major": 2,
       "version_minor": 0
      },
      "text/plain": [
       "  0%|          | 0/30 [00:00<?, ?it/s]"
      ]
     },
     "metadata": {},
     "output_type": "display_data"
    },
    {
     "data": {
      "application/vnd.jupyter.widget-view+json": {
       "model_id": "336b74f215a34bc79c54b5ede6d0a25d",
       "version_major": 2,
       "version_minor": 0
      },
      "text/plain": [
       "  0%|          | 0/30 [00:00<?, ?it/s]"
      ]
     },
     "metadata": {},
     "output_type": "display_data"
    },
    {
     "data": {
      "application/vnd.jupyter.widget-view+json": {
       "model_id": "e61c9ff8e84646948529947bcc95e6cd",
       "version_major": 2,
       "version_minor": 0
      },
      "text/plain": [
       "  0%|          | 0/30 [00:00<?, ?it/s]"
      ]
     },
     "metadata": {},
     "output_type": "display_data"
    },
    {
     "name": "stdout",
     "output_type": "stream",
     "text": [
      "Plotting efficiency...\n",
      "Plot saved to ../images/MFP/M3/efficiency_inverse_temperature_1.png\n",
      "Plotting inequality...\n",
      "Plot saved to ../images/MFP/M3/inequality_inverse_temperature_1.png\n",
      "Plotting entropy...\n",
      "Plot saved to ../images/MFP/M3/entropy_inverse_temperature_1.png\n",
      "Plotting conditional_entropy...\n",
      "Plot saved to ../images/MFP/M3/conditional_entropy_inverse_temperature_1.png\n",
      "Plotting alternation_index...\n",
      "Plot saved to ../images/MFP/M3/alternation_index_inverse_temperature_1.png\n"
     ]
    }
   ],
   "source": [
    "image_folder_M3 = Path('../images/MFP/M3')\n",
    "\n",
    "agent_class = MFPM3\n",
    "measures = [\n",
    "    'efficiency', 'inequality', 'entropy', \n",
    "    'conditional_entropy', 'alternation_index'\n",
    "]\n",
    "sweep_parameter = 'inverse_temperature'\n",
    "values = [2, 4, 8, 16, 32]\n",
    "\n",
    "experiment = Experiment(\n",
    "    agent_class=agent_class,\n",
    "    fixed_parameters=fixed_parameters,\n",
    "    free_parameters=free_parameters,\n",
    "    simulation_parameters=simulation_parameters,\n",
    "    measures=measures\n",
    ")\n",
    "kwargs_ = {\n",
    "    'x_label':sweep_parameter,\n",
    "    'only_value':True,\n",
    "    'title_size':16,\n",
    "    'x_label_size':14,\n",
    "    'y_label_size':14,\n",
    "}\n",
    "experiment.run_sweep1(\n",
    "    parameter=sweep_parameter,\n",
    "    values=values,\n",
    "    folder_plots=image_folder_M3,\n",
    "    kwargs=kwargs_\n",
    ")"
   ]
  },
  {
   "cell_type": "code",
   "execution_count": null,
   "metadata": {},
   "outputs": [],
   "source": []
  }
 ],
 "metadata": {
  "kernelspec": {
   "display_name": "venv_repositorios",
   "language": "python",
   "name": "python3"
  },
  "language_info": {
   "codemirror_mode": {
    "name": "ipython",
    "version": 3
   },
   "file_extension": ".py",
   "mimetype": "text/x-python",
   "name": "python",
   "nbconvert_exporter": "python",
   "pygments_lexer": "ipython3",
   "version": "3.12.8"
  }
 },
 "nbformat": 4,
 "nbformat_minor": 2
}
