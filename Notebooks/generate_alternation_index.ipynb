{
 "cells": [
  {
   "cell_type": "code",
   "execution_count": 1,
   "metadata": {},
   "outputs": [],
   "source": [
    "import sys\n",
    "\n",
    "sys.path.append('../src')"
   ]
  },
  {
   "cell_type": "code",
   "execution_count": null,
   "metadata": {},
   "outputs": [],
   "source": [
    "import numpy as np\n",
    "import pandas as pd\n",
    "\n",
    "from typing import Optional, Union\n",
    "from itertools import product\n",
    "\n",
    "from Utils.utils import GetMeasurements\n",
    "from Utils.cherrypick_simulations import CherryPickEquilibria"
   ]
  },
  {
   "cell_type": "code",
   "execution_count": null,
   "metadata": {},
   "outputs": [],
   "source": [
    "class AlternationIndex:\n",
    "    '''Estimates the alternation index from simulated data'''\n",
    "\n",
    "    def __init__(\n",
    "                self, \n",
    "                num_points: Optional[int]=10,\n",
    "                num_episodes: Optional[int]=10,\n",
    "                max_agents: Optional[int]=16, \n",
    "                max_epsilon: Optional[float]=0.1,\n",
    "                seed: Optional[Union[int, None]]=None\n",
    "            ) -> None:\n",
    "        range_num_agents = np.linspace(2, max_agents, 100)\n",
    "        range_threshold = np.linspace(0, 1, 100)\n",
    "        range_epsilon = np.linspace(0, max_epsilon, 100)\n",
    "        configurations = product(range_num_agents, range_threshold, range_epsilon)\n",
    "        self.num_episodes = num_episodes\n",
    "        self.seed = seed\n",
    "        self.rng = np.random.default_rng(seed=seed)\n",
    "        self.configuration_points = self.rng.choice(\n",
    "            configurations, size=num_points, replace=False\n",
    "        )\n",
    "        self.measures = ['efficiency', 'entropy', 'conditional_entropy', 'inequality']\n",
    "        self.debug = True\n",
    "\n",
    "    def simulate_data(self) -> pd.DataFrame:        \n",
    "        data_type = 'alternation'\n",
    "    \n",
    "    def simulate_data_kind(self, data_type:str) -> pd.DataFrame:\n",
    "        assert(data_type in ['segmentation', 'alternation', 'random'])\n",
    "        num_episodes = self.num_episodes\n",
    "        if data_type in ['segmentation', 'random']:\n",
    "            num_episodes = self.num_episodes // 2\n",
    "        df_list = list()\n",
    "        for num_agents, threshold, epsilon in self.configuration_points:\n",
    "            eq_generator = CherryPickEquilibria(\n",
    "                num_agents=num_agents,\n",
    "                threshold=threshold,\n",
    "                epsilon=epsilon,\n",
    "                num_episodes=num_episodes,\n",
    "                seed=self.seed\n",
    "            )\n",
    "            eq_generator.debug = False\n",
    "            df_alternation = eq_generator.generate_data(data_type)\n",
    "            get_m = GetMeasurements(df_alternation, self.measures)\n",
    "            df = get_m.get_measurements() \n",
    "            df_list.append(df)\n",
    "        df = pd.concat(df_list, ignore_index=True)\n",
    "        return df\n"
   ]
  }
 ],
 "metadata": {
  "kernelspec": {
   "display_name": "Python 3",
   "language": "python",
   "name": "python3"
  },
  "language_info": {
   "codemirror_mode": {
    "name": "ipython",
    "version": 3
   },
   "file_extension": ".py",
   "mimetype": "text/x-python",
   "name": "python",
   "nbconvert_exporter": "python",
   "pygments_lexer": "ipython3",
   "version": "3.9.6"
  }
 },
 "nbformat": 4,
 "nbformat_minor": 2
}
