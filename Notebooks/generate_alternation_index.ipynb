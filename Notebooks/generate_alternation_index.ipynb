{
 "cells": [
  {
   "cell_type": "markdown",
   "metadata": {},
   "source": [
    "# Alternation index"
   ]
  },
  {
   "cell_type": "code",
   "execution_count": 1,
   "metadata": {},
   "outputs": [],
   "source": [
    "import sys\n",
    "\n",
    "sys.path.append('../src')"
   ]
  },
  {
   "cell_type": "code",
   "execution_count": 2,
   "metadata": {},
   "outputs": [],
   "source": [
    "from Utils.indices import AlternationIndex"
   ]
  },
  {
   "cell_type": "code",
   "execution_count": 3,
   "metadata": {},
   "outputs": [],
   "source": [
    "index_gen = AlternationIndex(\n",
    "    num_points=30,\n",
    "    num_episodes=30,\n",
    "    max_agents=8,\n",
    "    max_epsilon=0.01,\n",
    "    seed=42\n",
    ")"
   ]
  },
  {
   "cell_type": "code",
   "execution_count": 4,
   "metadata": {},
   "outputs": [
    {
     "data": {
      "application/vnd.jupyter.widget-view+json": {
       "model_id": "5bd3a100f5ec408391a157fb6c7f01f1",
       "version_major": 2,
       "version_minor": 0
      },
      "text/plain": [
       "Running configurations for alternation:   0%|          | 0/30 [00:00<?, ?it/s]"
      ]
     },
     "metadata": {},
     "output_type": "display_data"
    },
    {
     "data": {
      "application/vnd.jupyter.widget-view+json": {
       "model_id": "3d942c24b387485f818d31d9d7fb9e0e",
       "version_major": 2,
       "version_minor": 0
      },
      "text/plain": [
       "Running episodes:   0%|          | 0/30 [00:00<?, ?it/s]"
      ]
     },
     "metadata": {},
     "output_type": "display_data"
    },
    {
     "data": {
      "application/vnd.jupyter.widget-view+json": {
       "model_id": "033d6d35e723442e99585f4efc39f883",
       "version_major": 2,
       "version_minor": 0
      },
      "text/plain": [
       "Running episodes:   0%|          | 0/30 [00:00<?, ?it/s]"
      ]
     },
     "metadata": {},
     "output_type": "display_data"
    },
    {
     "data": {
      "application/vnd.jupyter.widget-view+json": {
       "model_id": "c11435eba0fa489da18e390efb677f39",
       "version_major": 2,
       "version_minor": 0
      },
      "text/plain": [
       "Running episodes:   0%|          | 0/30 [00:00<?, ?it/s]"
      ]
     },
     "metadata": {},
     "output_type": "display_data"
    },
    {
     "data": {
      "application/vnd.jupyter.widget-view+json": {
       "model_id": "bc09a69043f34ec287a6659f69728c36",
       "version_major": 2,
       "version_minor": 0
      },
      "text/plain": [
       "Running episodes:   0%|          | 0/30 [00:00<?, ?it/s]"
      ]
     },
     "metadata": {},
     "output_type": "display_data"
    },
    {
     "data": {
      "application/vnd.jupyter.widget-view+json": {
       "model_id": "b404f0f48e1b4d1da5b4f2920982200f",
       "version_major": 2,
       "version_minor": 0
      },
      "text/plain": [
       "Running episodes:   0%|          | 0/30 [00:00<?, ?it/s]"
      ]
     },
     "metadata": {},
     "output_type": "display_data"
    },
    {
     "data": {
      "application/vnd.jupyter.widget-view+json": {
       "model_id": "8be9029817b54c53b4978d11e255bac3",
       "version_major": 2,
       "version_minor": 0
      },
      "text/plain": [
       "Running episodes:   0%|          | 0/30 [00:00<?, ?it/s]"
      ]
     },
     "metadata": {},
     "output_type": "display_data"
    },
    {
     "data": {
      "application/vnd.jupyter.widget-view+json": {
       "model_id": "0dab336c5f084980bc692ba780f90f4d",
       "version_major": 2,
       "version_minor": 0
      },
      "text/plain": [
       "Running episodes:   0%|          | 0/30 [00:00<?, ?it/s]"
      ]
     },
     "metadata": {},
     "output_type": "display_data"
    },
    {
     "data": {
      "application/vnd.jupyter.widget-view+json": {
       "model_id": "57defe5718fe46cdb94c486ed728b980",
       "version_major": 2,
       "version_minor": 0
      },
      "text/plain": [
       "Running episodes:   0%|          | 0/30 [00:00<?, ?it/s]"
      ]
     },
     "metadata": {},
     "output_type": "display_data"
    },
    {
     "data": {
      "application/vnd.jupyter.widget-view+json": {
       "model_id": "92dbc0f3cf944f579933df9a44880524",
       "version_major": 2,
       "version_minor": 0
      },
      "text/plain": [
       "Running episodes:   0%|          | 0/30 [00:00<?, ?it/s]"
      ]
     },
     "metadata": {},
     "output_type": "display_data"
    },
    {
     "data": {
      "application/vnd.jupyter.widget-view+json": {
       "model_id": "f2cd2fb5a95e4ebe870a1d2b9afb019a",
       "version_major": 2,
       "version_minor": 0
      },
      "text/plain": [
       "Running episodes:   0%|          | 0/30 [00:00<?, ?it/s]"
      ]
     },
     "metadata": {},
     "output_type": "display_data"
    },
    {
     "data": {
      "application/vnd.jupyter.widget-view+json": {
       "model_id": "98901f0023714801a88fdd3e63abe136",
       "version_major": 2,
       "version_minor": 0
      },
      "text/plain": [
       "Running episodes:   0%|          | 0/30 [00:00<?, ?it/s]"
      ]
     },
     "metadata": {},
     "output_type": "display_data"
    },
    {
     "data": {
      "application/vnd.jupyter.widget-view+json": {
       "model_id": "8946549bc75b412783ef2d0b129dfdc1",
       "version_major": 2,
       "version_minor": 0
      },
      "text/plain": [
       "Running episodes:   0%|          | 0/30 [00:00<?, ?it/s]"
      ]
     },
     "metadata": {},
     "output_type": "display_data"
    },
    {
     "data": {
      "application/vnd.jupyter.widget-view+json": {
       "model_id": "192a36b3397a425e8160812b77b6ab03",
       "version_major": 2,
       "version_minor": 0
      },
      "text/plain": [
       "Running episodes:   0%|          | 0/30 [00:00<?, ?it/s]"
      ]
     },
     "metadata": {},
     "output_type": "display_data"
    },
    {
     "data": {
      "application/vnd.jupyter.widget-view+json": {
       "model_id": "41ffeef882ee4b6c99749111b6b81654",
       "version_major": 2,
       "version_minor": 0
      },
      "text/plain": [
       "Running episodes:   0%|          | 0/30 [00:00<?, ?it/s]"
      ]
     },
     "metadata": {},
     "output_type": "display_data"
    },
    {
     "data": {
      "application/vnd.jupyter.widget-view+json": {
       "model_id": "1c34ff1188ce4d2b9c9876c4760a1788",
       "version_major": 2,
       "version_minor": 0
      },
      "text/plain": [
       "Running episodes:   0%|          | 0/30 [00:00<?, ?it/s]"
      ]
     },
     "metadata": {},
     "output_type": "display_data"
    },
    {
     "data": {
      "application/vnd.jupyter.widget-view+json": {
       "model_id": "a4f55f4f7fe7490a92724a3b2ddcfdd6",
       "version_major": 2,
       "version_minor": 0
      },
      "text/plain": [
       "Running episodes:   0%|          | 0/30 [00:00<?, ?it/s]"
      ]
     },
     "metadata": {},
     "output_type": "display_data"
    },
    {
     "data": {
      "application/vnd.jupyter.widget-view+json": {
       "model_id": "bf10e5cb8fd74b03929e93052942fbb5",
       "version_major": 2,
       "version_minor": 0
      },
      "text/plain": [
       "Running episodes:   0%|          | 0/30 [00:00<?, ?it/s]"
      ]
     },
     "metadata": {},
     "output_type": "display_data"
    },
    {
     "data": {
      "application/vnd.jupyter.widget-view+json": {
       "model_id": "059928243ffc4d9e9e58065d6d7b94a4",
       "version_major": 2,
       "version_minor": 0
      },
      "text/plain": [
       "Running episodes:   0%|          | 0/30 [00:00<?, ?it/s]"
      ]
     },
     "metadata": {},
     "output_type": "display_data"
    },
    {
     "data": {
      "application/vnd.jupyter.widget-view+json": {
       "model_id": "c0b5264103274031a06ee78a7b1d18a3",
       "version_major": 2,
       "version_minor": 0
      },
      "text/plain": [
       "Running episodes:   0%|          | 0/30 [00:00<?, ?it/s]"
      ]
     },
     "metadata": {},
     "output_type": "display_data"
    },
    {
     "data": {
      "application/vnd.jupyter.widget-view+json": {
       "model_id": "cb1275818a0846a8952e982f8f543ba3",
       "version_major": 2,
       "version_minor": 0
      },
      "text/plain": [
       "Running episodes:   0%|          | 0/30 [00:00<?, ?it/s]"
      ]
     },
     "metadata": {},
     "output_type": "display_data"
    },
    {
     "data": {
      "application/vnd.jupyter.widget-view+json": {
       "model_id": "fb5a9b10d7b441e1b3b064e17b86af48",
       "version_major": 2,
       "version_minor": 0
      },
      "text/plain": [
       "Running episodes:   0%|          | 0/30 [00:00<?, ?it/s]"
      ]
     },
     "metadata": {},
     "output_type": "display_data"
    },
    {
     "data": {
      "application/vnd.jupyter.widget-view+json": {
       "model_id": "bf17c2ce0b064836a8ea4e286663816e",
       "version_major": 2,
       "version_minor": 0
      },
      "text/plain": [
       "Running episodes:   0%|          | 0/30 [00:00<?, ?it/s]"
      ]
     },
     "metadata": {},
     "output_type": "display_data"
    },
    {
     "data": {
      "application/vnd.jupyter.widget-view+json": {
       "model_id": "30316bc50e324970bcfa2a38a6112d92",
       "version_major": 2,
       "version_minor": 0
      },
      "text/plain": [
       "Running episodes:   0%|          | 0/30 [00:00<?, ?it/s]"
      ]
     },
     "metadata": {},
     "output_type": "display_data"
    },
    {
     "data": {
      "application/vnd.jupyter.widget-view+json": {
       "model_id": "e0b7b88b0cfe4e6eadfac26814f06394",
       "version_major": 2,
       "version_minor": 0
      },
      "text/plain": [
       "Running episodes:   0%|          | 0/30 [00:00<?, ?it/s]"
      ]
     },
     "metadata": {},
     "output_type": "display_data"
    },
    {
     "data": {
      "application/vnd.jupyter.widget-view+json": {
       "model_id": "5132ba9f561d4b9198dddeb2912a1785",
       "version_major": 2,
       "version_minor": 0
      },
      "text/plain": [
       "Running episodes:   0%|          | 0/30 [00:00<?, ?it/s]"
      ]
     },
     "metadata": {},
     "output_type": "display_data"
    },
    {
     "data": {
      "application/vnd.jupyter.widget-view+json": {
       "model_id": "b027e33b932244c5bd89a83513a95e00",
       "version_major": 2,
       "version_minor": 0
      },
      "text/plain": [
       "Running episodes:   0%|          | 0/30 [00:00<?, ?it/s]"
      ]
     },
     "metadata": {},
     "output_type": "display_data"
    },
    {
     "data": {
      "application/vnd.jupyter.widget-view+json": {
       "model_id": "c1b094d2b9fa44f0bda4c010e4b0b106",
       "version_major": 2,
       "version_minor": 0
      },
      "text/plain": [
       "Running episodes:   0%|          | 0/30 [00:00<?, ?it/s]"
      ]
     },
     "metadata": {},
     "output_type": "display_data"
    },
    {
     "data": {
      "application/vnd.jupyter.widget-view+json": {
       "model_id": "c6d532ee3359487d9810b2c3c9494e07",
       "version_major": 2,
       "version_minor": 0
      },
      "text/plain": [
       "Running episodes:   0%|          | 0/30 [00:00<?, ?it/s]"
      ]
     },
     "metadata": {},
     "output_type": "display_data"
    },
    {
     "data": {
      "application/vnd.jupyter.widget-view+json": {
       "model_id": "90be08106e644490a26912f574ad8e05",
       "version_major": 2,
       "version_minor": 0
      },
      "text/plain": [
       "Running episodes:   0%|          | 0/30 [00:00<?, ?it/s]"
      ]
     },
     "metadata": {},
     "output_type": "display_data"
    },
    {
     "data": {
      "application/vnd.jupyter.widget-view+json": {
       "model_id": "457d002223224d26971e8b7b098b9371",
       "version_major": 2,
       "version_minor": 0
      },
      "text/plain": [
       "Running episodes:   0%|          | 0/30 [00:00<?, ?it/s]"
      ]
     },
     "metadata": {},
     "output_type": "display_data"
    },
    {
     "data": {
      "application/vnd.jupyter.widget-view+json": {
       "model_id": "8eebf86ceb0e4ff896f6d61552187799",
       "version_major": 2,
       "version_minor": 0
      },
      "text/plain": [
       "Running configurations for segmentation:   0%|          | 0/30 [00:00<?, ?it/s]"
      ]
     },
     "metadata": {},
     "output_type": "display_data"
    },
    {
     "data": {
      "application/vnd.jupyter.widget-view+json": {
       "model_id": "6cdb87086de6496683280f59d9891fc0",
       "version_major": 2,
       "version_minor": 0
      },
      "text/plain": [
       "Running episodes:   0%|          | 0/30 [00:00<?, ?it/s]"
      ]
     },
     "metadata": {},
     "output_type": "display_data"
    },
    {
     "data": {
      "application/vnd.jupyter.widget-view+json": {
       "model_id": "19d4ec5d657d4234a43a747fe476cff1",
       "version_major": 2,
       "version_minor": 0
      },
      "text/plain": [
       "Running episodes:   0%|          | 0/30 [00:00<?, ?it/s]"
      ]
     },
     "metadata": {},
     "output_type": "display_data"
    },
    {
     "data": {
      "application/vnd.jupyter.widget-view+json": {
       "model_id": "1e5c87a2167847bab8a38628462ed5a8",
       "version_major": 2,
       "version_minor": 0
      },
      "text/plain": [
       "Running episodes:   0%|          | 0/30 [00:00<?, ?it/s]"
      ]
     },
     "metadata": {},
     "output_type": "display_data"
    },
    {
     "data": {
      "application/vnd.jupyter.widget-view+json": {
       "model_id": "1bf39f0205cf465eb1c1bf1571cc6aaa",
       "version_major": 2,
       "version_minor": 0
      },
      "text/plain": [
       "Running episodes:   0%|          | 0/30 [00:00<?, ?it/s]"
      ]
     },
     "metadata": {},
     "output_type": "display_data"
    },
    {
     "data": {
      "application/vnd.jupyter.widget-view+json": {
       "model_id": "352a580e55bc4b3187ca42873164bead",
       "version_major": 2,
       "version_minor": 0
      },
      "text/plain": [
       "Running episodes:   0%|          | 0/30 [00:00<?, ?it/s]"
      ]
     },
     "metadata": {},
     "output_type": "display_data"
    },
    {
     "data": {
      "application/vnd.jupyter.widget-view+json": {
       "model_id": "7821fe6efe1d470fbc0d5ea88ec52cb9",
       "version_major": 2,
       "version_minor": 0
      },
      "text/plain": [
       "Running episodes:   0%|          | 0/30 [00:00<?, ?it/s]"
      ]
     },
     "metadata": {},
     "output_type": "display_data"
    },
    {
     "data": {
      "application/vnd.jupyter.widget-view+json": {
       "model_id": "feb3677f5e6545548672a34397a15903",
       "version_major": 2,
       "version_minor": 0
      },
      "text/plain": [
       "Running episodes:   0%|          | 0/30 [00:00<?, ?it/s]"
      ]
     },
     "metadata": {},
     "output_type": "display_data"
    },
    {
     "data": {
      "application/vnd.jupyter.widget-view+json": {
       "model_id": "baf30e4837fa4cf0af25bc3f12e3e10d",
       "version_major": 2,
       "version_minor": 0
      },
      "text/plain": [
       "Running episodes:   0%|          | 0/30 [00:00<?, ?it/s]"
      ]
     },
     "metadata": {},
     "output_type": "display_data"
    },
    {
     "data": {
      "application/vnd.jupyter.widget-view+json": {
       "model_id": "85749f486076455db59f9128b7cb37a4",
       "version_major": 2,
       "version_minor": 0
      },
      "text/plain": [
       "Running episodes:   0%|          | 0/30 [00:00<?, ?it/s]"
      ]
     },
     "metadata": {},
     "output_type": "display_data"
    },
    {
     "data": {
      "application/vnd.jupyter.widget-view+json": {
       "model_id": "cd153405b9a24616b016c3f6e563c219",
       "version_major": 2,
       "version_minor": 0
      },
      "text/plain": [
       "Running episodes:   0%|          | 0/30 [00:00<?, ?it/s]"
      ]
     },
     "metadata": {},
     "output_type": "display_data"
    },
    {
     "data": {
      "application/vnd.jupyter.widget-view+json": {
       "model_id": "6e313c7677fd46238210edb9fd7433fe",
       "version_major": 2,
       "version_minor": 0
      },
      "text/plain": [
       "Running episodes:   0%|          | 0/30 [00:00<?, ?it/s]"
      ]
     },
     "metadata": {},
     "output_type": "display_data"
    },
    {
     "data": {
      "application/vnd.jupyter.widget-view+json": {
       "model_id": "aeb76f3755514a759cbce06592c23f62",
       "version_major": 2,
       "version_minor": 0
      },
      "text/plain": [
       "Running episodes:   0%|          | 0/30 [00:00<?, ?it/s]"
      ]
     },
     "metadata": {},
     "output_type": "display_data"
    },
    {
     "data": {
      "application/vnd.jupyter.widget-view+json": {
       "model_id": "5ba7a822db874734a337bfbf426821ce",
       "version_major": 2,
       "version_minor": 0
      },
      "text/plain": [
       "Running episodes:   0%|          | 0/30 [00:00<?, ?it/s]"
      ]
     },
     "metadata": {},
     "output_type": "display_data"
    },
    {
     "data": {
      "application/vnd.jupyter.widget-view+json": {
       "model_id": "ec6944112389422e89e89eeecea18185",
       "version_major": 2,
       "version_minor": 0
      },
      "text/plain": [
       "Running episodes:   0%|          | 0/30 [00:00<?, ?it/s]"
      ]
     },
     "metadata": {},
     "output_type": "display_data"
    },
    {
     "data": {
      "application/vnd.jupyter.widget-view+json": {
       "model_id": "ecdeacc9010e42a4b68c4f851f215314",
       "version_major": 2,
       "version_minor": 0
      },
      "text/plain": [
       "Running episodes:   0%|          | 0/30 [00:00<?, ?it/s]"
      ]
     },
     "metadata": {},
     "output_type": "display_data"
    },
    {
     "data": {
      "application/vnd.jupyter.widget-view+json": {
       "model_id": "b378d8d57d9143b2a3783228553df0c7",
       "version_major": 2,
       "version_minor": 0
      },
      "text/plain": [
       "Running episodes:   0%|          | 0/30 [00:00<?, ?it/s]"
      ]
     },
     "metadata": {},
     "output_type": "display_data"
    },
    {
     "data": {
      "application/vnd.jupyter.widget-view+json": {
       "model_id": "f4af96f24790485c8b5cccd87c01c85e",
       "version_major": 2,
       "version_minor": 0
      },
      "text/plain": [
       "Running episodes:   0%|          | 0/30 [00:00<?, ?it/s]"
      ]
     },
     "metadata": {},
     "output_type": "display_data"
    },
    {
     "data": {
      "application/vnd.jupyter.widget-view+json": {
       "model_id": "c0ddaff9a6cd4ab29bf0b92dabddb075",
       "version_major": 2,
       "version_minor": 0
      },
      "text/plain": [
       "Running episodes:   0%|          | 0/30 [00:00<?, ?it/s]"
      ]
     },
     "metadata": {},
     "output_type": "display_data"
    },
    {
     "data": {
      "application/vnd.jupyter.widget-view+json": {
       "model_id": "cabc30ee3c704601bc1d3b3ecce21a6e",
       "version_major": 2,
       "version_minor": 0
      },
      "text/plain": [
       "Running episodes:   0%|          | 0/30 [00:00<?, ?it/s]"
      ]
     },
     "metadata": {},
     "output_type": "display_data"
    },
    {
     "data": {
      "application/vnd.jupyter.widget-view+json": {
       "model_id": "5f771588ddc84cfaa0811126e49dd76d",
       "version_major": 2,
       "version_minor": 0
      },
      "text/plain": [
       "Running episodes:   0%|          | 0/30 [00:00<?, ?it/s]"
      ]
     },
     "metadata": {},
     "output_type": "display_data"
    },
    {
     "data": {
      "application/vnd.jupyter.widget-view+json": {
       "model_id": "5c6f6dc2b00e4ede8eda8eafe845cdf2",
       "version_major": 2,
       "version_minor": 0
      },
      "text/plain": [
       "Running episodes:   0%|          | 0/30 [00:00<?, ?it/s]"
      ]
     },
     "metadata": {},
     "output_type": "display_data"
    },
    {
     "data": {
      "application/vnd.jupyter.widget-view+json": {
       "model_id": "b5577633b37142a4968035627b1bce94",
       "version_major": 2,
       "version_minor": 0
      },
      "text/plain": [
       "Running episodes:   0%|          | 0/30 [00:00<?, ?it/s]"
      ]
     },
     "metadata": {},
     "output_type": "display_data"
    },
    {
     "data": {
      "application/vnd.jupyter.widget-view+json": {
       "model_id": "572a4b1d31694d35b3d457fec93e0fdf",
       "version_major": 2,
       "version_minor": 0
      },
      "text/plain": [
       "Running episodes:   0%|          | 0/30 [00:00<?, ?it/s]"
      ]
     },
     "metadata": {},
     "output_type": "display_data"
    },
    {
     "data": {
      "application/vnd.jupyter.widget-view+json": {
       "model_id": "d610401e49644c8d8d37cac0f810b20a",
       "version_major": 2,
       "version_minor": 0
      },
      "text/plain": [
       "Running episodes:   0%|          | 0/30 [00:00<?, ?it/s]"
      ]
     },
     "metadata": {},
     "output_type": "display_data"
    },
    {
     "data": {
      "application/vnd.jupyter.widget-view+json": {
       "model_id": "b0327b3d2cdf478d85cc1f8cffc917f3",
       "version_major": 2,
       "version_minor": 0
      },
      "text/plain": [
       "Running episodes:   0%|          | 0/30 [00:00<?, ?it/s]"
      ]
     },
     "metadata": {},
     "output_type": "display_data"
    },
    {
     "data": {
      "application/vnd.jupyter.widget-view+json": {
       "model_id": "32331aaecc754ff2a7fddff07dacadee",
       "version_major": 2,
       "version_minor": 0
      },
      "text/plain": [
       "Running episodes:   0%|          | 0/30 [00:00<?, ?it/s]"
      ]
     },
     "metadata": {},
     "output_type": "display_data"
    },
    {
     "data": {
      "application/vnd.jupyter.widget-view+json": {
       "model_id": "2c5206a25aea4098804603abe34c8b34",
       "version_major": 2,
       "version_minor": 0
      },
      "text/plain": [
       "Running episodes:   0%|          | 0/30 [00:00<?, ?it/s]"
      ]
     },
     "metadata": {},
     "output_type": "display_data"
    },
    {
     "data": {
      "application/vnd.jupyter.widget-view+json": {
       "model_id": "b84aa11708f446acb722403aa2df93b4",
       "version_major": 2,
       "version_minor": 0
      },
      "text/plain": [
       "Running episodes:   0%|          | 0/30 [00:00<?, ?it/s]"
      ]
     },
     "metadata": {},
     "output_type": "display_data"
    },
    {
     "data": {
      "application/vnd.jupyter.widget-view+json": {
       "model_id": "020d18c654344044b2004a692ca4ad4e",
       "version_major": 2,
       "version_minor": 0
      },
      "text/plain": [
       "Running episodes:   0%|          | 0/30 [00:00<?, ?it/s]"
      ]
     },
     "metadata": {},
     "output_type": "display_data"
    },
    {
     "data": {
      "application/vnd.jupyter.widget-view+json": {
       "model_id": "b0bdc47d731342ac887e57e0b7684a2b",
       "version_major": 2,
       "version_minor": 0
      },
      "text/plain": [
       "Running episodes:   0%|          | 0/30 [00:00<?, ?it/s]"
      ]
     },
     "metadata": {},
     "output_type": "display_data"
    },
    {
     "data": {
      "application/vnd.jupyter.widget-view+json": {
       "model_id": "c97de746d6624e1194abe2a39cf86c99",
       "version_major": 2,
       "version_minor": 0
      },
      "text/plain": [
       "Running configurations for mixed:   0%|          | 0/30 [00:00<?, ?it/s]"
      ]
     },
     "metadata": {},
     "output_type": "display_data"
    },
    {
     "data": {
      "application/vnd.jupyter.widget-view+json": {
       "model_id": "dd40a68dd09b4abd867d991352c4b9e5",
       "version_major": 2,
       "version_minor": 0
      },
      "text/plain": [
       "Running episodes:   0%|          | 0/30 [00:00<?, ?it/s]"
      ]
     },
     "metadata": {},
     "output_type": "display_data"
    },
    {
     "data": {
      "application/vnd.jupyter.widget-view+json": {
       "model_id": "5ed313d3191e4e8daada827ab0a68c74",
       "version_major": 2,
       "version_minor": 0
      },
      "text/plain": [
       "Running episodes:   0%|          | 0/30 [00:00<?, ?it/s]"
      ]
     },
     "metadata": {},
     "output_type": "display_data"
    },
    {
     "data": {
      "application/vnd.jupyter.widget-view+json": {
       "model_id": "e8430ac1083445c29922b77269f885a6",
       "version_major": 2,
       "version_minor": 0
      },
      "text/plain": [
       "Running episodes:   0%|          | 0/30 [00:00<?, ?it/s]"
      ]
     },
     "metadata": {},
     "output_type": "display_data"
    },
    {
     "data": {
      "application/vnd.jupyter.widget-view+json": {
       "model_id": "2ead60af3da24b7796ec4b6336c48538",
       "version_major": 2,
       "version_minor": 0
      },
      "text/plain": [
       "Running episodes:   0%|          | 0/30 [00:00<?, ?it/s]"
      ]
     },
     "metadata": {},
     "output_type": "display_data"
    },
    {
     "data": {
      "application/vnd.jupyter.widget-view+json": {
       "model_id": "06b12c8e56ff4dd09699fb11f755a256",
       "version_major": 2,
       "version_minor": 0
      },
      "text/plain": [
       "Running episodes:   0%|          | 0/30 [00:00<?, ?it/s]"
      ]
     },
     "metadata": {},
     "output_type": "display_data"
    },
    {
     "data": {
      "application/vnd.jupyter.widget-view+json": {
       "model_id": "05f27d374c6f49f69ad90f6584d29d21",
       "version_major": 2,
       "version_minor": 0
      },
      "text/plain": [
       "Running episodes:   0%|          | 0/30 [00:00<?, ?it/s]"
      ]
     },
     "metadata": {},
     "output_type": "display_data"
    },
    {
     "data": {
      "application/vnd.jupyter.widget-view+json": {
       "model_id": "3b2bebc62f5c467292660b0e8e77c88d",
       "version_major": 2,
       "version_minor": 0
      },
      "text/plain": [
       "Running episodes:   0%|          | 0/30 [00:00<?, ?it/s]"
      ]
     },
     "metadata": {},
     "output_type": "display_data"
    },
    {
     "data": {
      "application/vnd.jupyter.widget-view+json": {
       "model_id": "062e091b06d8426fb53cd747ad1bc36c",
       "version_major": 2,
       "version_minor": 0
      },
      "text/plain": [
       "Running episodes:   0%|          | 0/30 [00:00<?, ?it/s]"
      ]
     },
     "metadata": {},
     "output_type": "display_data"
    },
    {
     "data": {
      "application/vnd.jupyter.widget-view+json": {
       "model_id": "f7e6146e33bb406ebf8594a6908265f7",
       "version_major": 2,
       "version_minor": 0
      },
      "text/plain": [
       "Running episodes:   0%|          | 0/30 [00:00<?, ?it/s]"
      ]
     },
     "metadata": {},
     "output_type": "display_data"
    },
    {
     "data": {
      "application/vnd.jupyter.widget-view+json": {
       "model_id": "9741286fd425441794867a29e97ea8b5",
       "version_major": 2,
       "version_minor": 0
      },
      "text/plain": [
       "Running episodes:   0%|          | 0/30 [00:00<?, ?it/s]"
      ]
     },
     "metadata": {},
     "output_type": "display_data"
    },
    {
     "data": {
      "application/vnd.jupyter.widget-view+json": {
       "model_id": "e8546c3a978e4139a840400b77e0da66",
       "version_major": 2,
       "version_minor": 0
      },
      "text/plain": [
       "Running episodes:   0%|          | 0/30 [00:00<?, ?it/s]"
      ]
     },
     "metadata": {},
     "output_type": "display_data"
    },
    {
     "data": {
      "application/vnd.jupyter.widget-view+json": {
       "model_id": "fea0b86405e84b2fb1213424f7c58db9",
       "version_major": 2,
       "version_minor": 0
      },
      "text/plain": [
       "Running episodes:   0%|          | 0/30 [00:00<?, ?it/s]"
      ]
     },
     "metadata": {},
     "output_type": "display_data"
    },
    {
     "data": {
      "application/vnd.jupyter.widget-view+json": {
       "model_id": "027cf38f564c4cf19571fd2d1cd3d02d",
       "version_major": 2,
       "version_minor": 0
      },
      "text/plain": [
       "Running episodes:   0%|          | 0/30 [00:00<?, ?it/s]"
      ]
     },
     "metadata": {},
     "output_type": "display_data"
    },
    {
     "data": {
      "application/vnd.jupyter.widget-view+json": {
       "model_id": "06fbe32712944f71b4acb7ea160f3ea5",
       "version_major": 2,
       "version_minor": 0
      },
      "text/plain": [
       "Running episodes:   0%|          | 0/30 [00:00<?, ?it/s]"
      ]
     },
     "metadata": {},
     "output_type": "display_data"
    },
    {
     "data": {
      "application/vnd.jupyter.widget-view+json": {
       "model_id": "8ad35344cea34f1283e1e05e9f62979e",
       "version_major": 2,
       "version_minor": 0
      },
      "text/plain": [
       "Running episodes:   0%|          | 0/30 [00:00<?, ?it/s]"
      ]
     },
     "metadata": {},
     "output_type": "display_data"
    },
    {
     "data": {
      "application/vnd.jupyter.widget-view+json": {
       "model_id": "ed5e527164cf4de7b9cb76a3cbaeba1b",
       "version_major": 2,
       "version_minor": 0
      },
      "text/plain": [
       "Running episodes:   0%|          | 0/30 [00:00<?, ?it/s]"
      ]
     },
     "metadata": {},
     "output_type": "display_data"
    },
    {
     "data": {
      "application/vnd.jupyter.widget-view+json": {
       "model_id": "c5459c9717cf4593b359f73307ada946",
       "version_major": 2,
       "version_minor": 0
      },
      "text/plain": [
       "Running episodes:   0%|          | 0/30 [00:00<?, ?it/s]"
      ]
     },
     "metadata": {},
     "output_type": "display_data"
    },
    {
     "data": {
      "application/vnd.jupyter.widget-view+json": {
       "model_id": "b12e8db60f094b5583db7f828f160ab2",
       "version_major": 2,
       "version_minor": 0
      },
      "text/plain": [
       "Running episodes:   0%|          | 0/30 [00:00<?, ?it/s]"
      ]
     },
     "metadata": {},
     "output_type": "display_data"
    },
    {
     "data": {
      "application/vnd.jupyter.widget-view+json": {
       "model_id": "5312efbeccff48d08dc281cb334cccb3",
       "version_major": 2,
       "version_minor": 0
      },
      "text/plain": [
       "Running episodes:   0%|          | 0/30 [00:00<?, ?it/s]"
      ]
     },
     "metadata": {},
     "output_type": "display_data"
    },
    {
     "data": {
      "application/vnd.jupyter.widget-view+json": {
       "model_id": "57f7f8ce1af8498f80b238fe3990ce40",
       "version_major": 2,
       "version_minor": 0
      },
      "text/plain": [
       "Running episodes:   0%|          | 0/30 [00:00<?, ?it/s]"
      ]
     },
     "metadata": {},
     "output_type": "display_data"
    },
    {
     "data": {
      "application/vnd.jupyter.widget-view+json": {
       "model_id": "66aa17ba070a4f16809b9d4d53305b29",
       "version_major": 2,
       "version_minor": 0
      },
      "text/plain": [
       "Running episodes:   0%|          | 0/30 [00:00<?, ?it/s]"
      ]
     },
     "metadata": {},
     "output_type": "display_data"
    },
    {
     "data": {
      "application/vnd.jupyter.widget-view+json": {
       "model_id": "1a72af8516884d1aa0b35738823065a7",
       "version_major": 2,
       "version_minor": 0
      },
      "text/plain": [
       "Running episodes:   0%|          | 0/30 [00:00<?, ?it/s]"
      ]
     },
     "metadata": {},
     "output_type": "display_data"
    },
    {
     "data": {
      "application/vnd.jupyter.widget-view+json": {
       "model_id": "d104ed5f0aad47f688ba3df32db74333",
       "version_major": 2,
       "version_minor": 0
      },
      "text/plain": [
       "Running episodes:   0%|          | 0/30 [00:00<?, ?it/s]"
      ]
     },
     "metadata": {},
     "output_type": "display_data"
    },
    {
     "data": {
      "application/vnd.jupyter.widget-view+json": {
       "model_id": "4e6887f0715d4100875394578d5af7d1",
       "version_major": 2,
       "version_minor": 0
      },
      "text/plain": [
       "Running configurations for random:   0%|          | 0/30 [00:00<?, ?it/s]"
      ]
     },
     "metadata": {},
     "output_type": "display_data"
    },
    {
     "data": {
      "application/vnd.jupyter.widget-view+json": {
       "model_id": "0a4810affb5140ce9678b49a54821134",
       "version_major": 2,
       "version_minor": 0
      },
      "text/plain": [
       "Running episodes:   0%|          | 0/30 [00:00<?, ?it/s]"
      ]
     },
     "metadata": {},
     "output_type": "display_data"
    },
    {
     "data": {
      "application/vnd.jupyter.widget-view+json": {
       "model_id": "7a7f4c971aff4014a6b2ad18e6602040",
       "version_major": 2,
       "version_minor": 0
      },
      "text/plain": [
       "Running episodes:   0%|          | 0/30 [00:00<?, ?it/s]"
      ]
     },
     "metadata": {},
     "output_type": "display_data"
    },
    {
     "data": {
      "application/vnd.jupyter.widget-view+json": {
       "model_id": "a70d6c0c463e4ea5817e2ca5d4132ccb",
       "version_major": 2,
       "version_minor": 0
      },
      "text/plain": [
       "Running episodes:   0%|          | 0/30 [00:00<?, ?it/s]"
      ]
     },
     "metadata": {},
     "output_type": "display_data"
    },
    {
     "data": {
      "application/vnd.jupyter.widget-view+json": {
       "model_id": "91fa6352d18e45d2942f57fff6e7c67a",
       "version_major": 2,
       "version_minor": 0
      },
      "text/plain": [
       "Running episodes:   0%|          | 0/30 [00:00<?, ?it/s]"
      ]
     },
     "metadata": {},
     "output_type": "display_data"
    },
    {
     "data": {
      "application/vnd.jupyter.widget-view+json": {
       "model_id": "4a449df24aba4f72bd2f53a9ba0a611c",
       "version_major": 2,
       "version_minor": 0
      },
      "text/plain": [
       "Running episodes:   0%|          | 0/30 [00:00<?, ?it/s]"
      ]
     },
     "metadata": {},
     "output_type": "display_data"
    },
    {
     "data": {
      "application/vnd.jupyter.widget-view+json": {
       "model_id": "459351749ad24b3198d6e99036f306ee",
       "version_major": 2,
       "version_minor": 0
      },
      "text/plain": [
       "Running episodes:   0%|          | 0/30 [00:00<?, ?it/s]"
      ]
     },
     "metadata": {},
     "output_type": "display_data"
    },
    {
     "data": {
      "application/vnd.jupyter.widget-view+json": {
       "model_id": "5c276d4d05104f1a9618c2c0cd83dd51",
       "version_major": 2,
       "version_minor": 0
      },
      "text/plain": [
       "Running episodes:   0%|          | 0/30 [00:00<?, ?it/s]"
      ]
     },
     "metadata": {},
     "output_type": "display_data"
    },
    {
     "data": {
      "application/vnd.jupyter.widget-view+json": {
       "model_id": "2157678988c84bccbeb8138ee4a93885",
       "version_major": 2,
       "version_minor": 0
      },
      "text/plain": [
       "Running episodes:   0%|          | 0/30 [00:00<?, ?it/s]"
      ]
     },
     "metadata": {},
     "output_type": "display_data"
    },
    {
     "data": {
      "application/vnd.jupyter.widget-view+json": {
       "model_id": "2727b3abe64b44f791a5cfe9a80dd4d2",
       "version_major": 2,
       "version_minor": 0
      },
      "text/plain": [
       "Running episodes:   0%|          | 0/30 [00:00<?, ?it/s]"
      ]
     },
     "metadata": {},
     "output_type": "display_data"
    },
    {
     "data": {
      "application/vnd.jupyter.widget-view+json": {
       "model_id": "2516e9c7f3884b1485728ffe6e1dea7a",
       "version_major": 2,
       "version_minor": 0
      },
      "text/plain": [
       "Running episodes:   0%|          | 0/30 [00:00<?, ?it/s]"
      ]
     },
     "metadata": {},
     "output_type": "display_data"
    },
    {
     "data": {
      "application/vnd.jupyter.widget-view+json": {
       "model_id": "01d0f9d60469497cb7675b5957b323d1",
       "version_major": 2,
       "version_minor": 0
      },
      "text/plain": [
       "Running episodes:   0%|          | 0/30 [00:00<?, ?it/s]"
      ]
     },
     "metadata": {},
     "output_type": "display_data"
    },
    {
     "data": {
      "application/vnd.jupyter.widget-view+json": {
       "model_id": "17371e5a88b24dd4819093769d294865",
       "version_major": 2,
       "version_minor": 0
      },
      "text/plain": [
       "Running episodes:   0%|          | 0/30 [00:00<?, ?it/s]"
      ]
     },
     "metadata": {},
     "output_type": "display_data"
    },
    {
     "data": {
      "application/vnd.jupyter.widget-view+json": {
       "model_id": "cfa4b253ff254ca08cccb2fa8826102d",
       "version_major": 2,
       "version_minor": 0
      },
      "text/plain": [
       "Running episodes:   0%|          | 0/30 [00:00<?, ?it/s]"
      ]
     },
     "metadata": {},
     "output_type": "display_data"
    },
    {
     "data": {
      "application/vnd.jupyter.widget-view+json": {
       "model_id": "be8eda8847aa4c31bae590e8d0e89504",
       "version_major": 2,
       "version_minor": 0
      },
      "text/plain": [
       "Running episodes:   0%|          | 0/30 [00:00<?, ?it/s]"
      ]
     },
     "metadata": {},
     "output_type": "display_data"
    },
    {
     "data": {
      "application/vnd.jupyter.widget-view+json": {
       "model_id": "9e5be1531ab7432b9d8dc03e5b0e619e",
       "version_major": 2,
       "version_minor": 0
      },
      "text/plain": [
       "Running episodes:   0%|          | 0/30 [00:00<?, ?it/s]"
      ]
     },
     "metadata": {},
     "output_type": "display_data"
    },
    {
     "data": {
      "application/vnd.jupyter.widget-view+json": {
       "model_id": "f3cb6388feb64a489081bc1339cc9cc3",
       "version_major": 2,
       "version_minor": 0
      },
      "text/plain": [
       "Running episodes:   0%|          | 0/30 [00:00<?, ?it/s]"
      ]
     },
     "metadata": {},
     "output_type": "display_data"
    },
    {
     "data": {
      "application/vnd.jupyter.widget-view+json": {
       "model_id": "df247015365d40c6bc7fa337b3a9aa5a",
       "version_major": 2,
       "version_minor": 0
      },
      "text/plain": [
       "Running episodes:   0%|          | 0/30 [00:00<?, ?it/s]"
      ]
     },
     "metadata": {},
     "output_type": "display_data"
    },
    {
     "data": {
      "application/vnd.jupyter.widget-view+json": {
       "model_id": "5ce4fa8b5ba24e48b6aa3c100b313b2c",
       "version_major": 2,
       "version_minor": 0
      },
      "text/plain": [
       "Running episodes:   0%|          | 0/30 [00:00<?, ?it/s]"
      ]
     },
     "metadata": {},
     "output_type": "display_data"
    },
    {
     "data": {
      "application/vnd.jupyter.widget-view+json": {
       "model_id": "02cb2bec326e428ba396d4cae01a1d41",
       "version_major": 2,
       "version_minor": 0
      },
      "text/plain": [
       "Running episodes:   0%|          | 0/30 [00:00<?, ?it/s]"
      ]
     },
     "metadata": {},
     "output_type": "display_data"
    },
    {
     "data": {
      "application/vnd.jupyter.widget-view+json": {
       "model_id": "2847a123a3134a22b5e45b591f87c9d7",
       "version_major": 2,
       "version_minor": 0
      },
      "text/plain": [
       "Running episodes:   0%|          | 0/30 [00:00<?, ?it/s]"
      ]
     },
     "metadata": {},
     "output_type": "display_data"
    },
    {
     "data": {
      "application/vnd.jupyter.widget-view+json": {
       "model_id": "39c241ca4a5947abb1c29fa9892734a6",
       "version_major": 2,
       "version_minor": 0
      },
      "text/plain": [
       "Running episodes:   0%|          | 0/30 [00:00<?, ?it/s]"
      ]
     },
     "metadata": {},
     "output_type": "display_data"
    },
    {
     "data": {
      "application/vnd.jupyter.widget-view+json": {
       "model_id": "ac0451ac3abf4dd5a1f364e6ebeffa87",
       "version_major": 2,
       "version_minor": 0
      },
      "text/plain": [
       "Running episodes:   0%|          | 0/30 [00:00<?, ?it/s]"
      ]
     },
     "metadata": {},
     "output_type": "display_data"
    },
    {
     "data": {
      "application/vnd.jupyter.widget-view+json": {
       "model_id": "52bd989c249442fbb767ad11475fa202",
       "version_major": 2,
       "version_minor": 0
      },
      "text/plain": [
       "Running episodes:   0%|          | 0/30 [00:00<?, ?it/s]"
      ]
     },
     "metadata": {},
     "output_type": "display_data"
    },
    {
     "data": {
      "application/vnd.jupyter.widget-view+json": {
       "model_id": "3eb4b55f24c6434c960b50068f5b424c",
       "version_major": 2,
       "version_minor": 0
      },
      "text/plain": [
       "Running episodes:   0%|          | 0/30 [00:00<?, ?it/s]"
      ]
     },
     "metadata": {},
     "output_type": "display_data"
    },
    {
     "data": {
      "application/vnd.jupyter.widget-view+json": {
       "model_id": "be2eb0e76fce489c979b9fb98283024e",
       "version_major": 2,
       "version_minor": 0
      },
      "text/plain": [
       "Running episodes:   0%|          | 0/30 [00:00<?, ?it/s]"
      ]
     },
     "metadata": {},
     "output_type": "display_data"
    },
    {
     "data": {
      "application/vnd.jupyter.widget-view+json": {
       "model_id": "af26f0fc285645b49159a9feabafd06f",
       "version_major": 2,
       "version_minor": 0
      },
      "text/plain": [
       "Running episodes:   0%|          | 0/30 [00:00<?, ?it/s]"
      ]
     },
     "metadata": {},
     "output_type": "display_data"
    },
    {
     "data": {
      "application/vnd.jupyter.widget-view+json": {
       "model_id": "aabed33fa82842539115ade5ceaa2889",
       "version_major": 2,
       "version_minor": 0
      },
      "text/plain": [
       "Running episodes:   0%|          | 0/30 [00:00<?, ?it/s]"
      ]
     },
     "metadata": {},
     "output_type": "display_data"
    },
    {
     "data": {
      "application/vnd.jupyter.widget-view+json": {
       "model_id": "301233c055734003824ec0df9fc7d85b",
       "version_major": 2,
       "version_minor": 0
      },
      "text/plain": [
       "Running episodes:   0%|          | 0/30 [00:00<?, ?it/s]"
      ]
     },
     "metadata": {},
     "output_type": "display_data"
    },
    {
     "data": {
      "application/vnd.jupyter.widget-view+json": {
       "model_id": "b80b9281d52741a19a839c95c4519de4",
       "version_major": 2,
       "version_minor": 0
      },
      "text/plain": [
       "Running episodes:   0%|          | 0/30 [00:00<?, ?it/s]"
      ]
     },
     "metadata": {},
     "output_type": "display_data"
    },
    {
     "data": {
      "application/vnd.jupyter.widget-view+json": {
       "model_id": "ddce850ef7c449f481a80d1f2eb897ad",
       "version_major": 2,
       "version_minor": 0
      },
      "text/plain": [
       "Running episodes:   0%|          | 0/30 [00:00<?, ?it/s]"
      ]
     },
     "metadata": {},
     "output_type": "display_data"
    }
   ],
   "source": [
    "df = index_gen.simulate_data()"
   ]
  },
  {
   "cell_type": "code",
   "execution_count": 5,
   "metadata": {},
   "outputs": [
    {
     "name": "stdout",
     "output_type": "stream",
     "text": [
      "data_type\n",
      "alternation     0.265487\n",
      "segmentation    0.265487\n",
      "random          0.265487\n",
      "mixed           0.203540\n",
      "Name: proportion, dtype: float64\n"
     ]
    },
    {
     "data": {
      "text/html": [
       "<div>\n",
       "<style scoped>\n",
       "    .dataframe tbody tr th:only-of-type {\n",
       "        vertical-align: middle;\n",
       "    }\n",
       "\n",
       "    .dataframe tbody tr th {\n",
       "        vertical-align: top;\n",
       "    }\n",
       "\n",
       "    .dataframe thead th {\n",
       "        text-align: right;\n",
       "    }\n",
       "</style>\n",
       "<table border=\"1\" class=\"dataframe\">\n",
       "  <thead>\n",
       "    <tr style=\"text-align: right;\">\n",
       "      <th></th>\n",
       "      <th>threshold</th>\n",
       "      <th>num_agents</th>\n",
       "      <th>id_sim</th>\n",
       "      <th>bounded_efficiency</th>\n",
       "      <th>inequality</th>\n",
       "      <th>epsilon</th>\n",
       "      <th>data_type</th>\n",
       "    </tr>\n",
       "  </thead>\n",
       "  <tbody>\n",
       "    <tr>\n",
       "      <th>0</th>\n",
       "      <td>0.166667</td>\n",
       "      <td>6</td>\n",
       "      <td>6-0.16666666666666666-0.01-alternation-0</td>\n",
       "      <td>0.91</td>\n",
       "      <td>0.011690</td>\n",
       "      <td>0.01</td>\n",
       "      <td>alternation</td>\n",
       "    </tr>\n",
       "    <tr>\n",
       "      <th>1</th>\n",
       "      <td>0.166667</td>\n",
       "      <td>6</td>\n",
       "      <td>6-0.16666666666666666-0.01-alternation-1</td>\n",
       "      <td>0.75</td>\n",
       "      <td>0.021679</td>\n",
       "      <td>0.01</td>\n",
       "      <td>alternation</td>\n",
       "    </tr>\n",
       "    <tr>\n",
       "      <th>2</th>\n",
       "      <td>0.166667</td>\n",
       "      <td>6</td>\n",
       "      <td>6-0.16666666666666666-0.01-alternation-10</td>\n",
       "      <td>0.86</td>\n",
       "      <td>0.012111</td>\n",
       "      <td>0.01</td>\n",
       "      <td>alternation</td>\n",
       "    </tr>\n",
       "    <tr>\n",
       "      <th>3</th>\n",
       "      <td>0.166667</td>\n",
       "      <td>6</td>\n",
       "      <td>6-0.16666666666666666-0.01-alternation-11</td>\n",
       "      <td>0.73</td>\n",
       "      <td>0.026394</td>\n",
       "      <td>0.01</td>\n",
       "      <td>alternation</td>\n",
       "    </tr>\n",
       "    <tr>\n",
       "      <th>4</th>\n",
       "      <td>0.166667</td>\n",
       "      <td>6</td>\n",
       "      <td>6-0.16666666666666666-0.01-alternation-12</td>\n",
       "      <td>0.88</td>\n",
       "      <td>0.015055</td>\n",
       "      <td>0.01</td>\n",
       "      <td>alternation</td>\n",
       "    </tr>\n",
       "  </tbody>\n",
       "</table>\n",
       "</div>"
      ],
      "text/plain": [
       "   threshold  num_agents                                     id_sim  \\\n",
       "0   0.166667           6   6-0.16666666666666666-0.01-alternation-0   \n",
       "1   0.166667           6   6-0.16666666666666666-0.01-alternation-1   \n",
       "2   0.166667           6  6-0.16666666666666666-0.01-alternation-10   \n",
       "3   0.166667           6  6-0.16666666666666666-0.01-alternation-11   \n",
       "4   0.166667           6  6-0.16666666666666666-0.01-alternation-12   \n",
       "\n",
       "   bounded_efficiency  inequality  epsilon    data_type  \n",
       "0                0.91    0.011690     0.01  alternation  \n",
       "1                0.75    0.021679     0.01  alternation  \n",
       "2                0.86    0.012111     0.01  alternation  \n",
       "3                0.73    0.026394     0.01  alternation  \n",
       "4                0.88    0.015055     0.01  alternation  "
      ]
     },
     "execution_count": 5,
     "metadata": {},
     "output_type": "execute_result"
    }
   ],
   "source": [
    "df = index_gen.data\n",
    "print(df['data_type'].value_counts(normalize=True))\n",
    "df.head()"
   ]
  },
  {
   "cell_type": "code",
   "execution_count": 6,
   "metadata": {},
   "outputs": [
    {
     "name": "stderr",
     "output_type": "stream",
     "text": [
      "/Users/edgar/virtualenvs/venv-3.13/lib/python3.13/site-packages/sklearn/linear_model/_logistic.py:1264: FutureWarning: 'multi_class' was deprecated in version 1.5 and will be removed in 1.7. From then on, it will always use 'multinomial'. Leave it to its default value to avoid this warning.\n",
      "  warnings.warn(\n"
     ]
    },
    {
     "name": "stdout",
     "output_type": "stream",
     "text": [
      "              precision    recall  f1-score   support\n",
      "\n",
      " alternation       0.98      1.00      0.99       180\n",
      "       mixed       0.90      0.84      0.87       138\n",
      "      random       0.98      0.96      0.97       180\n",
      "segmentation       0.88      0.92      0.90       180\n",
      "\n",
      "    accuracy                           0.94       678\n",
      "   macro avg       0.93      0.93      0.93       678\n",
      "weighted avg       0.94      0.94      0.94       678\n",
      "\n",
      "             bounded_efficiency inequality  intercept\n",
      "target                                               \n",
      "alternation            3.023568  -8.639429   2.335474\n",
      "mixed                  5.196978    1.13247  -4.472269\n",
      "random                -8.735903  -0.187931  12.560917\n",
      "segmentation           0.515358    7.69489 -10.424123\n",
      "Saved sklearn coefficients to /Users/edgar/Documents/GitHub/Cognitive_Models_El_Farol_Bar_Problem/data/indices/sklearn_coefficients.pkl\n"
     ]
    }
   ],
   "source": [
    "index_gen.create_index_sklearn()"
   ]
  },
  {
   "cell_type": "code",
   "execution_count": 7,
   "metadata": {},
   "outputs": [
    {
     "name": "stdout",
     "output_type": "stream",
     "text": [
      "[001/250] loss = 1.2503\n",
      "[025/250] loss = 0.1286\n",
      "[050/250] loss = 0.1122\n",
      "[075/250] loss = 0.1033\n",
      "[100/250] loss = 0.0986\n",
      "[125/250] loss = 0.0993\n",
      "[150/250] loss = 0.0982\n",
      "[175/250] loss = 0.0963\n",
      "[200/250] loss = 0.0967\n",
      "[225/250] loss = 0.0983\n",
      "[250/250] loss = 0.0971\n",
      "\n",
      "Test performance:\n",
      "              precision    recall  f1-score   support\n",
      "\n",
      " alternation     0.9783    1.0000    0.9890       180\n",
      "       mixed     0.9225    0.9493    0.9357       138\n",
      "      random     0.9943    0.9722    0.9831       180\n",
      "segmentation     0.9602    0.9389    0.9494       180\n",
      "\n",
      "    accuracy                         0.9661       678\n",
      "   macro avg     0.9638    0.9651    0.9643       678\n",
      "weighted avg     0.9664    0.9661    0.9661       678\n",
      "\n"
     ]
    }
   ],
   "source": [
    "index_gen.create_index_mlp()"
   ]
  },
  {
   "cell_type": "code",
   "execution_count": 8,
   "metadata": {},
   "outputs": [
    {
     "name": "stdout",
     "output_type": "stream",
     "text": [
      "predicted_class1\n",
      "random          0.315929\n",
      "alternation     0.265782\n",
      "segmentation    0.249263\n",
      "mixed           0.169027\n",
      "Name: proportion, dtype: float64\n"
     ]
    }
   ],
   "source": [
    "index_gen1 = AlternationIndex.from_file(priority='mlp')\n",
    "df['alternation_index1'] = index_gen1(df)\n",
    "df['segmentation_index1'] = index_gen1.calculate_probabilities('segmentation', df)\n",
    "df['predicted_class1'] = index_gen1.classify(df)\n",
    "print(df['predicted_class1'].value_counts(normalize=True))"
   ]
  },
  {
   "cell_type": "code",
   "execution_count": 9,
   "metadata": {},
   "outputs": [
    {
     "name": "stdout",
     "output_type": "stream",
     "text": [
      "predicted_class2\n",
      "random          0.408850\n",
      "alternation     0.264012\n",
      "segmentation    0.187906\n",
      "mixed           0.139233\n",
      "Name: proportion, dtype: float64\n"
     ]
    }
   ],
   "source": [
    "index_gen2 = AlternationIndex.from_file(priority='sklearn')\n",
    "df['alternation_index2'] = index_gen2(df)\n",
    "df['segmentation_index2'] = index_gen2.calculate_probabilities('segmentation', df)\n",
    "df['predicted_class2'] = index_gen2.classify(df)\n",
    "print(df['predicted_class2'].value_counts(normalize=True))"
   ]
  },
  {
   "cell_type": "code",
   "execution_count": 10,
   "metadata": {},
   "outputs": [
    {
     "data": {
      "text/html": [
       "<div>\n",
       "<style scoped>\n",
       "    .dataframe tbody tr th:only-of-type {\n",
       "        vertical-align: middle;\n",
       "    }\n",
       "\n",
       "    .dataframe tbody tr th {\n",
       "        vertical-align: top;\n",
       "    }\n",
       "\n",
       "    .dataframe thead th {\n",
       "        text-align: right;\n",
       "    }\n",
       "</style>\n",
       "<table border=\"1\" class=\"dataframe\">\n",
       "  <thead>\n",
       "    <tr style=\"text-align: right;\">\n",
       "      <th></th>\n",
       "      <th>threshold</th>\n",
       "      <th>num_agents</th>\n",
       "      <th>id_sim</th>\n",
       "      <th>bounded_efficiency</th>\n",
       "      <th>inequality</th>\n",
       "      <th>epsilon</th>\n",
       "      <th>data_type</th>\n",
       "      <th>target</th>\n",
       "      <th>alternation_index1</th>\n",
       "      <th>segmentation_index1</th>\n",
       "      <th>predicted_class1</th>\n",
       "      <th>alternation_index2</th>\n",
       "      <th>segmentation_index2</th>\n",
       "      <th>predicted_class2</th>\n",
       "    </tr>\n",
       "  </thead>\n",
       "  <tbody>\n",
       "    <tr>\n",
       "      <th>0</th>\n",
       "      <td>0.166667</td>\n",
       "      <td>6</td>\n",
       "      <td>6-0.16666666666666666-0.01-alternation-0</td>\n",
       "      <td>0.91</td>\n",
       "      <td>0.011690</td>\n",
       "      <td>0.01</td>\n",
       "      <td>alternation</td>\n",
       "      <td>0</td>\n",
       "      <td>0.998765</td>\n",
       "      <td>2.455714e-17</td>\n",
       "      <td>alternation</td>\n",
       "      <td>0.955852</td>\n",
       "      <td>2.977478e-07</td>\n",
       "      <td>alternation</td>\n",
       "    </tr>\n",
       "    <tr>\n",
       "      <th>1</th>\n",
       "      <td>0.166667</td>\n",
       "      <td>6</td>\n",
       "      <td>6-0.16666666666666666-0.01-alternation-1</td>\n",
       "      <td>0.75</td>\n",
       "      <td>0.021679</td>\n",
       "      <td>0.01</td>\n",
       "      <td>alternation</td>\n",
       "      <td>0</td>\n",
       "      <td>0.868749</td>\n",
       "      <td>1.689669e-15</td>\n",
       "      <td>alternation</td>\n",
       "      <td>0.736438</td>\n",
       "      <td>9.009325e-07</td>\n",
       "      <td>random</td>\n",
       "    </tr>\n",
       "    <tr>\n",
       "      <th>2</th>\n",
       "      <td>0.166667</td>\n",
       "      <td>6</td>\n",
       "      <td>6-0.16666666666666666-0.01-alternation-10</td>\n",
       "      <td>0.86</td>\n",
       "      <td>0.012111</td>\n",
       "      <td>0.01</td>\n",
       "      <td>alternation</td>\n",
       "      <td>0</td>\n",
       "      <td>0.996912</td>\n",
       "      <td>4.047940e-17</td>\n",
       "      <td>alternation</td>\n",
       "      <td>0.940715</td>\n",
       "      <td>3.608967e-07</td>\n",
       "      <td>alternation</td>\n",
       "    </tr>\n",
       "    <tr>\n",
       "      <th>3</th>\n",
       "      <td>0.166667</td>\n",
       "      <td>6</td>\n",
       "      <td>6-0.16666666666666666-0.01-alternation-11</td>\n",
       "      <td>0.73</td>\n",
       "      <td>0.026394</td>\n",
       "      <td>0.01</td>\n",
       "      <td>alternation</td>\n",
       "      <td>0</td>\n",
       "      <td>0.684608</td>\n",
       "      <td>5.559184e-15</td>\n",
       "      <td>random</td>\n",
       "      <td>0.629186</td>\n",
       "      <td>1.209870e-06</td>\n",
       "      <td>random</td>\n",
       "    </tr>\n",
       "    <tr>\n",
       "      <th>4</th>\n",
       "      <td>0.166667</td>\n",
       "      <td>6</td>\n",
       "      <td>6-0.16666666666666666-0.01-alternation-12</td>\n",
       "      <td>0.88</td>\n",
       "      <td>0.015055</td>\n",
       "      <td>0.01</td>\n",
       "      <td>alternation</td>\n",
       "      <td>0</td>\n",
       "      <td>0.996615</td>\n",
       "      <td>7.499058e-17</td>\n",
       "      <td>alternation</td>\n",
       "      <td>0.941298</td>\n",
       "      <td>4.277141e-07</td>\n",
       "      <td>alternation</td>\n",
       "    </tr>\n",
       "  </tbody>\n",
       "</table>\n",
       "</div>"
      ],
      "text/plain": [
       "   threshold  num_agents                                     id_sim  \\\n",
       "0   0.166667           6   6-0.16666666666666666-0.01-alternation-0   \n",
       "1   0.166667           6   6-0.16666666666666666-0.01-alternation-1   \n",
       "2   0.166667           6  6-0.16666666666666666-0.01-alternation-10   \n",
       "3   0.166667           6  6-0.16666666666666666-0.01-alternation-11   \n",
       "4   0.166667           6  6-0.16666666666666666-0.01-alternation-12   \n",
       "\n",
       "   bounded_efficiency  inequality  epsilon    data_type target  \\\n",
       "0                0.91    0.011690     0.01  alternation      0   \n",
       "1                0.75    0.021679     0.01  alternation      0   \n",
       "2                0.86    0.012111     0.01  alternation      0   \n",
       "3                0.73    0.026394     0.01  alternation      0   \n",
       "4                0.88    0.015055     0.01  alternation      0   \n",
       "\n",
       "   alternation_index1  segmentation_index1 predicted_class1  \\\n",
       "0            0.998765         2.455714e-17      alternation   \n",
       "1            0.868749         1.689669e-15      alternation   \n",
       "2            0.996912         4.047940e-17      alternation   \n",
       "3            0.684608         5.559184e-15           random   \n",
       "4            0.996615         7.499058e-17      alternation   \n",
       "\n",
       "   alternation_index2  segmentation_index2 predicted_class2  \n",
       "0            0.955852         2.977478e-07      alternation  \n",
       "1            0.736438         9.009325e-07           random  \n",
       "2            0.940715         3.608967e-07      alternation  \n",
       "3            0.629186         1.209870e-06           random  \n",
       "4            0.941298         4.277141e-07      alternation  "
      ]
     },
     "execution_count": 10,
     "metadata": {},
     "output_type": "execute_result"
    }
   ],
   "source": [
    "df.head()"
   ]
  },
  {
   "cell_type": "code",
   "execution_count": 11,
   "metadata": {},
   "outputs": [
    {
     "data": {
      "image/png": "[encoded data removed]",
      "text/plain": [
       "<Figure size 1200x800 with 4 Axes>"
      ]
     },
     "metadata": {},
     "output_type": "display_data"
    }
   ],
   "source": [
    "import seaborn as sns\n",
    "import matplotlib.pyplot as plt\n",
    "\n",
    "from Utils.utils import Grid\n",
    "\n",
    "grid = Grid(4)\n",
    "fig, axes = plt.subplots(\n",
    "    2, 2, \n",
    "    figsize=(12, 8),\n",
    "    tight_layout=True,\n",
    "    sharex=True, sharey=True\n",
    ")\n",
    "\n",
    "sns.violinplot(\n",
    "    data=df,\n",
    "    x='data_type',\n",
    "    y='alternation_index1',\n",
    "    ax=axes[0, 0],\n",
    ")\n",
    "axes[0, 0].set_title('MLP - Alternation Index')\n",
    "\n",
    "sns.violinplot(\n",
    "    data=df,\n",
    "    x='data_type',\n",
    "    y='segmentation_index1',\n",
    "    ax=axes[0, 1],\n",
    ")\n",
    "axes[0, 1].set_title('MLP - Segmentation Index')\n",
    "\n",
    "\n",
    "sns.violinplot(\n",
    "    data=df,\n",
    "    x='data_type',\n",
    "    y='alternation_index2',\n",
    "    ax=axes[1, 0],\n",
    ")\n",
    "axes[1, 0].set_title('Sklearn - Alternation Index')\n",
    "\n",
    "sns.violinplot(\n",
    "    data=df,\n",
    "    x='data_type',\n",
    "    y='segmentation_index2',\n",
    "    ax=axes[1, 1],\n",
    ")\n",
    "axes[1, 1].set_title('Sklearn - Segmentation Index')\n",
    "\n",
    "for r, c in grid:\n",
    "    axes[r, c].set_xlabel('Data Type')\n",
    "    axes[r, c].set_ylabel('Probability')\n",
    "    axes[r, c].grid()\n"
   ]
  },
  {
   "cell_type": "markdown",
   "metadata": {},
   "source": [
    "---"
   ]
  },
  {
   "cell_type": "code",
   "execution_count": 12,
   "metadata": {},
   "outputs": [
    {
     "name": "stdout",
     "output_type": "stream",
     "text": [
      "   bounded_efficiency   entropy  conditional_entropy  inequality\n",
      "0                   1  0.477217             0.427327    0.176777\n",
      "Alternation index MLP: [8.68607e-11]\n",
      "Alternation index skelarn: [0.00797422]\n"
     ]
    }
   ],
   "source": [
    "import pandas as pd\n",
    "\n",
    "conditional_entropy = 0.427327\t\n",
    "entropy = 0.477217\t\n",
    "efficiency = 0.5\n",
    "bounded_efficiency = 1\n",
    "inequality =0.176777\n",
    "df_test = pd.DataFrame({\n",
    "    'bounded_efficiency': [bounded_efficiency],\n",
    "    'entropy': [entropy],\n",
    "    'conditional_entropy': [conditional_entropy],\n",
    "    'inequality': [inequality]\n",
    "})\n",
    "print(df_test)\n",
    "print(f'Alternation index MLP: {index_gen1(df_test)}')\n",
    "print(f'Alternation index skelarn: {index_gen2(df_test)}')"
   ]
  },
  {
   "cell_type": "markdown",
   "metadata": {},
   "source": [
    "---"
   ]
  }
 ],
 "metadata": {
  "kernelspec": {
   "display_name": "RLenv",
   "language": "python",
   "name": "python3"
  },
  "language_info": {
   "codemirror_mode": {
    "name": "ipython",
    "version": 3
   },
   "file_extension": ".py",
   "mimetype": "text/x-python",
   "name": "python",
   "nbconvert_exporter": "python",
   "pygments_lexer": "ipython3",
   "version": "3.13.2"
  }
 },
 "nbformat": 4,
 "nbformat_minor": 2
}
