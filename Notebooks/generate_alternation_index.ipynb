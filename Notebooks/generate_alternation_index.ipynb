{
 "cells": [
  {
   "cell_type": "markdown",
   "metadata": {},
   "source": [
    "# Alternation index"
   ]
  },
  {
   "cell_type": "code",
   "execution_count": 1,
   "metadata": {},
   "outputs": [],
   "source": [
    "import sys\n",
    "\n",
    "sys.path.append('../src')"
   ]
  },
  {
   "cell_type": "code",
   "execution_count": 2,
   "metadata": {},
   "outputs": [],
   "source": [
    "from Utils.indices import AlternationIndex"
   ]
  },
  {
   "cell_type": "code",
   "execution_count": 3,
   "metadata": {},
   "outputs": [],
   "source": [
    "index_gen = AlternationIndex(\n",
    "    num_points=100,\n",
    "    num_episodes=100,\n",
    "    max_agents=12,\n",
    "    max_epsilon=0.05,\n",
    "    seed=42,\n",
    "    fancy_2P=True\n",
    ")"
   ]
  },
  {
   "cell_type": "code",
   "execution_count": 4,
   "metadata": {},
   "outputs": [
    {
     "data": {
      "application/vnd.jupyter.widget-view+json": {
       "model_id": "c6727b3b7e5e4922b21f9d2e2b5ea639",
       "version_major": 2,
       "version_minor": 0
      },
      "text/plain": [
       "Running configurations for alternation:   0%|          | 0/100 [00:00<?, ?it/s]"
      ]
     },
     "metadata": {},
     "output_type": "display_data"
    },
    {
     "data": {
      "application/vnd.jupyter.widget-view+json": {
       "model_id": "da6cc67022da4e72936aa2d3eeff6ee3",
       "version_major": 2,
       "version_minor": 0
      },
      "text/plain": [
       "Running episodes:   0%|          | 0/100 [00:00<?, ?it/s]"
      ]
     },
     "metadata": {},
     "output_type": "display_data"
    },
    {
     "data": {
      "application/vnd.jupyter.widget-view+json": {
       "model_id": "791855c90c844f88b911cd3e9ed1e36b",
       "version_major": 2,
       "version_minor": 0
      },
      "text/plain": [
       "Running episodes:   0%|          | 0/100 [00:00<?, ?it/s]"
      ]
     },
     "metadata": {},
     "output_type": "display_data"
    },
    {
     "data": {
      "application/vnd.jupyter.widget-view+json": {
       "model_id": "9acfa81ef63f46d0b0290af2aabcc644",
       "version_major": 2,
       "version_minor": 0
      },
      "text/plain": [
       "Running episodes:   0%|          | 0/100 [00:00<?, ?it/s]"
      ]
     },
     "metadata": {},
     "output_type": "display_data"
    },
    {
     "data": {
      "application/vnd.jupyter.widget-view+json": {
       "model_id": "707fe1a5982a45c98f7dc01638916ff4",
       "version_major": 2,
       "version_minor": 0
      },
      "text/plain": [
       "Running episodes:   0%|          | 0/100 [00:00<?, ?it/s]"
      ]
     },
     "metadata": {},
     "output_type": "display_data"
    },
    {
     "data": {
      "application/vnd.jupyter.widget-view+json": {
       "model_id": "1c460ff630144baa98521dbd23538059",
       "version_major": 2,
       "version_minor": 0
      },
      "text/plain": [
       "Running episodes:   0%|          | 0/100 [00:00<?, ?it/s]"
      ]
     },
     "metadata": {},
     "output_type": "display_data"
    },
    {
     "data": {
      "application/vnd.jupyter.widget-view+json": {
       "model_id": "c333f22ec80f4eb0ba68718e3e679ff6",
       "version_major": 2,
       "version_minor": 0
      },
      "text/plain": [
       "Running episodes:   0%|          | 0/100 [00:00<?, ?it/s]"
      ]
     },
     "metadata": {},
     "output_type": "display_data"
    },
    {
     "data": {
      "application/vnd.jupyter.widget-view+json": {
       "model_id": "dee60c09e5834cbf92b4c81de1426210",
       "version_major": 2,
       "version_minor": 0
      },
      "text/plain": [
       "Running episodes:   0%|          | 0/100 [00:00<?, ?it/s]"
      ]
     },
     "metadata": {},
     "output_type": "display_data"
    },
    {
     "data": {
      "application/vnd.jupyter.widget-view+json": {
       "model_id": "2c2f7b2c911c4b528e8983cd63922ca0",
       "version_major": 2,
       "version_minor": 0
      },
      "text/plain": [
       "Running episodes:   0%|          | 0/100 [00:00<?, ?it/s]"
      ]
     },
     "metadata": {},
     "output_type": "display_data"
    },
    {
     "data": {
      "application/vnd.jupyter.widget-view+json": {
       "model_id": "b4bd3ea5fbde4fddbb0b011328793c3c",
       "version_major": 2,
       "version_minor": 0
      },
      "text/plain": [
       "Running episodes:   0%|          | 0/100 [00:00<?, ?it/s]"
      ]
     },
     "metadata": {},
     "output_type": "display_data"
    },
    {
     "data": {
      "application/vnd.jupyter.widget-view+json": {
       "model_id": "6a42b26866aa49d0b6070b27baf49d8b",
       "version_major": 2,
       "version_minor": 0
      },
      "text/plain": [
       "Running episodes:   0%|          | 0/100 [00:00<?, ?it/s]"
      ]
     },
     "metadata": {},
     "output_type": "display_data"
    },
    {
     "data": {
      "application/vnd.jupyter.widget-view+json": {
       "model_id": "a90c0bd91f6c4c73b187c93c8e89b052",
       "version_major": 2,
       "version_minor": 0
      },
      "text/plain": [
       "Running episodes:   0%|          | 0/100 [00:00<?, ?it/s]"
      ]
     },
     "metadata": {},
     "output_type": "display_data"
    },
    {
     "data": {
      "application/vnd.jupyter.widget-view+json": {
       "model_id": "58ac058eb1cd4720a207dee42bee4a79",
       "version_major": 2,
       "version_minor": 0
      },
      "text/plain": [
       "Running episodes:   0%|          | 0/100 [00:00<?, ?it/s]"
      ]
     },
     "metadata": {},
     "output_type": "display_data"
    },
    {
     "data": {
      "application/vnd.jupyter.widget-view+json": {
       "model_id": "74bee80dbcf844e09c8dbd41fd3c555f",
       "version_major": 2,
       "version_minor": 0
      },
      "text/plain": [
       "Running episodes:   0%|          | 0/100 [00:00<?, ?it/s]"
      ]
     },
     "metadata": {},
     "output_type": "display_data"
    },
    {
     "data": {
      "application/vnd.jupyter.widget-view+json": {
       "model_id": "6ac682a4d0cf4052be46cd62730b939e",
       "version_major": 2,
       "version_minor": 0
      },
      "text/plain": [
       "Running episodes:   0%|          | 0/100 [00:00<?, ?it/s]"
      ]
     },
     "metadata": {},
     "output_type": "display_data"
    },
    {
     "data": {
      "application/vnd.jupyter.widget-view+json": {
       "model_id": "d5fbe5b9ffd949449bd7c6b54833e683",
       "version_major": 2,
       "version_minor": 0
      },
      "text/plain": [
       "Running episodes:   0%|          | 0/100 [00:00<?, ?it/s]"
      ]
     },
     "metadata": {},
     "output_type": "display_data"
    },
    {
     "data": {
      "application/vnd.jupyter.widget-view+json": {
       "model_id": "bc7ac0493a034ec5a15f1cdb3954a9a9",
       "version_major": 2,
       "version_minor": 0
      },
      "text/plain": [
       "Running episodes:   0%|          | 0/100 [00:00<?, ?it/s]"
      ]
     },
     "metadata": {},
     "output_type": "display_data"
    },
    {
     "data": {
      "application/vnd.jupyter.widget-view+json": {
       "model_id": "c5c329c031e5474bacd5703c44386cba",
       "version_major": 2,
       "version_minor": 0
      },
      "text/plain": [
       "Running episodes:   0%|          | 0/100 [00:00<?, ?it/s]"
      ]
     },
     "metadata": {},
     "output_type": "display_data"
    },
    {
     "data": {
      "application/vnd.jupyter.widget-view+json": {
       "model_id": "332ba0a7745b4b4c856b3963a8260742",
       "version_major": 2,
       "version_minor": 0
      },
      "text/plain": [
       "Running episodes:   0%|          | 0/100 [00:00<?, ?it/s]"
      ]
     },
     "metadata": {},
     "output_type": "display_data"
    },
    {
     "data": {
      "application/vnd.jupyter.widget-view+json": {
       "model_id": "602999468f324bcc8c4cb5f164bdc17b",
       "version_major": 2,
       "version_minor": 0
      },
      "text/plain": [
       "Running episodes:   0%|          | 0/100 [00:00<?, ?it/s]"
      ]
     },
     "metadata": {},
     "output_type": "display_data"
    },
    {
     "data": {
      "application/vnd.jupyter.widget-view+json": {
       "model_id": "2b42604408284a5682974bc72719d729",
       "version_major": 2,
       "version_minor": 0
      },
      "text/plain": [
       "Running episodes:   0%|          | 0/100 [00:00<?, ?it/s]"
      ]
     },
     "metadata": {},
     "output_type": "display_data"
    },
    {
     "data": {
      "application/vnd.jupyter.widget-view+json": {
       "model_id": "98ecc55bd9844520b67cb8b537409473",
       "version_major": 2,
       "version_minor": 0
      },
      "text/plain": [
       "Running episodes:   0%|          | 0/100 [00:00<?, ?it/s]"
      ]
     },
     "metadata": {},
     "output_type": "display_data"
    },
    {
     "data": {
      "application/vnd.jupyter.widget-view+json": {
       "model_id": "017e04f319b24001b5625c54452bac0e",
       "version_major": 2,
       "version_minor": 0
      },
      "text/plain": [
       "Running episodes:   0%|          | 0/100 [00:00<?, ?it/s]"
      ]
     },
     "metadata": {},
     "output_type": "display_data"
    },
    {
     "data": {
      "application/vnd.jupyter.widget-view+json": {
       "model_id": "33d217d6eae0463e8c138391306d9ed2",
       "version_major": 2,
       "version_minor": 0
      },
      "text/plain": [
       "Running episodes:   0%|          | 0/100 [00:00<?, ?it/s]"
      ]
     },
     "metadata": {},
     "output_type": "display_data"
    },
    {
     "data": {
      "application/vnd.jupyter.widget-view+json": {
       "model_id": "50bc882db3f440b092107b9ea7343e60",
       "version_major": 2,
       "version_minor": 0
      },
      "text/plain": [
       "Running episodes:   0%|          | 0/100 [00:00<?, ?it/s]"
      ]
     },
     "metadata": {},
     "output_type": "display_data"
    },
    {
     "data": {
      "application/vnd.jupyter.widget-view+json": {
       "model_id": "8cc61ca0e31a478fa7fce0adfc8b2dcd",
       "version_major": 2,
       "version_minor": 0
      },
      "text/plain": [
       "Running episodes:   0%|          | 0/100 [00:00<?, ?it/s]"
      ]
     },
     "metadata": {},
     "output_type": "display_data"
    },
    {
     "data": {
      "application/vnd.jupyter.widget-view+json": {
       "model_id": "07bd5826fdda44cb9ce07b4a64253bce",
       "version_major": 2,
       "version_minor": 0
      },
      "text/plain": [
       "Running episodes:   0%|          | 0/100 [00:00<?, ?it/s]"
      ]
     },
     "metadata": {},
     "output_type": "display_data"
    },
    {
     "data": {
      "application/vnd.jupyter.widget-view+json": {
       "model_id": "3670214ff9ba4ba9a4e97abc8cf99841",
       "version_major": 2,
       "version_minor": 0
      },
      "text/plain": [
       "Running episodes:   0%|          | 0/100 [00:00<?, ?it/s]"
      ]
     },
     "metadata": {},
     "output_type": "display_data"
    },
    {
     "data": {
      "application/vnd.jupyter.widget-view+json": {
       "model_id": "fce1cd5243a4445592dcf516fb40d7f4",
       "version_major": 2,
       "version_minor": 0
      },
      "text/plain": [
       "Running episodes:   0%|          | 0/100 [00:00<?, ?it/s]"
      ]
     },
     "metadata": {},
     "output_type": "display_data"
    },
    {
     "data": {
      "application/vnd.jupyter.widget-view+json": {
       "model_id": "9114946e451848b783de778515c78ac4",
       "version_major": 2,
       "version_minor": 0
      },
      "text/plain": [
       "Running episodes:   0%|          | 0/100 [00:00<?, ?it/s]"
      ]
     },
     "metadata": {},
     "output_type": "display_data"
    },
    {
     "data": {
      "application/vnd.jupyter.widget-view+json": {
       "model_id": "35a4166eef5d4705bed78b2d515991c8",
       "version_major": 2,
       "version_minor": 0
      },
      "text/plain": [
       "Running episodes:   0%|          | 0/100 [00:00<?, ?it/s]"
      ]
     },
     "metadata": {},
     "output_type": "display_data"
    },
    {
     "data": {
      "application/vnd.jupyter.widget-view+json": {
       "model_id": "5f0b8291e62e496da2e64f62f6998817",
       "version_major": 2,
       "version_minor": 0
      },
      "text/plain": [
       "Running episodes:   0%|          | 0/100 [00:00<?, ?it/s]"
      ]
     },
     "metadata": {},
     "output_type": "display_data"
    },
    {
     "data": {
      "application/vnd.jupyter.widget-view+json": {
       "model_id": "2ff132222ce74455bfe703100bc08c64",
       "version_major": 2,
       "version_minor": 0
      },
      "text/plain": [
       "Running episodes:   0%|          | 0/100 [00:00<?, ?it/s]"
      ]
     },
     "metadata": {},
     "output_type": "display_data"
    },
    {
     "data": {
      "application/vnd.jupyter.widget-view+json": {
       "model_id": "aa6c8cd3f6ef41f295b5dc05a8d52575",
       "version_major": 2,
       "version_minor": 0
      },
      "text/plain": [
       "Running episodes:   0%|          | 0/100 [00:00<?, ?it/s]"
      ]
     },
     "metadata": {},
     "output_type": "display_data"
    },
    {
     "data": {
      "application/vnd.jupyter.widget-view+json": {
       "model_id": "965181fcf56c4ac0a442b6a5c5c58014",
       "version_major": 2,
       "version_minor": 0
      },
      "text/plain": [
       "Running episodes:   0%|          | 0/100 [00:00<?, ?it/s]"
      ]
     },
     "metadata": {},
     "output_type": "display_data"
    },
    {
     "data": {
      "application/vnd.jupyter.widget-view+json": {
       "model_id": "a01cce9774ce48cfa0e1b5942b2f25b4",
       "version_major": 2,
       "version_minor": 0
      },
      "text/plain": [
       "Running episodes:   0%|          | 0/100 [00:00<?, ?it/s]"
      ]
     },
     "metadata": {},
     "output_type": "display_data"
    },
    {
     "data": {
      "application/vnd.jupyter.widget-view+json": {
       "model_id": "309364a6ffb344fa8ad5c1186d7a2978",
       "version_major": 2,
       "version_minor": 0
      },
      "text/plain": [
       "Running episodes:   0%|          | 0/100 [00:00<?, ?it/s]"
      ]
     },
     "metadata": {},
     "output_type": "display_data"
    },
    {
     "data": {
      "application/vnd.jupyter.widget-view+json": {
       "model_id": "c2db603d1c7a4b4fa69584fe39c87d6b",
       "version_major": 2,
       "version_minor": 0
      },
      "text/plain": [
       "Running episodes:   0%|          | 0/100 [00:00<?, ?it/s]"
      ]
     },
     "metadata": {},
     "output_type": "display_data"
    },
    {
     "data": {
      "application/vnd.jupyter.widget-view+json": {
       "model_id": "a62328b7572a4bcfa8df233cca8008e9",
       "version_major": 2,
       "version_minor": 0
      },
      "text/plain": [
       "Running episodes:   0%|          | 0/100 [00:00<?, ?it/s]"
      ]
     },
     "metadata": {},
     "output_type": "display_data"
    },
    {
     "data": {
      "application/vnd.jupyter.widget-view+json": {
       "model_id": "bfaff07e9e56403d8dc5cfecede18e72",
       "version_major": 2,
       "version_minor": 0
      },
      "text/plain": [
       "Running episodes:   0%|          | 0/100 [00:00<?, ?it/s]"
      ]
     },
     "metadata": {},
     "output_type": "display_data"
    },
    {
     "data": {
      "application/vnd.jupyter.widget-view+json": {
       "model_id": "33fa7768dfa84fde88184e956a9348fe",
       "version_major": 2,
       "version_minor": 0
      },
      "text/plain": [
       "Running episodes:   0%|          | 0/100 [00:00<?, ?it/s]"
      ]
     },
     "metadata": {},
     "output_type": "display_data"
    },
    {
     "data": {
      "application/vnd.jupyter.widget-view+json": {
       "model_id": "2e666722b09e4e60a60b34a50012a7b8",
       "version_major": 2,
       "version_minor": 0
      },
      "text/plain": [
       "Running episodes:   0%|          | 0/100 [00:00<?, ?it/s]"
      ]
     },
     "metadata": {},
     "output_type": "display_data"
    },
    {
     "data": {
      "application/vnd.jupyter.widget-view+json": {
       "model_id": "1ac0b8691d8f40668db3252576e1e7af",
       "version_major": 2,
       "version_minor": 0
      },
      "text/plain": [
       "Running episodes:   0%|          | 0/100 [00:00<?, ?it/s]"
      ]
     },
     "metadata": {},
     "output_type": "display_data"
    },
    {
     "data": {
      "application/vnd.jupyter.widget-view+json": {
       "model_id": "6e4d0a9402d2484dbd7f92018ac14923",
       "version_major": 2,
       "version_minor": 0
      },
      "text/plain": [
       "Running episodes:   0%|          | 0/100 [00:00<?, ?it/s]"
      ]
     },
     "metadata": {},
     "output_type": "display_data"
    },
    {
     "data": {
      "application/vnd.jupyter.widget-view+json": {
       "model_id": "69fccc79ac2f48298014860c618635b3",
       "version_major": 2,
       "version_minor": 0
      },
      "text/plain": [
       "Running episodes:   0%|          | 0/100 [00:00<?, ?it/s]"
      ]
     },
     "metadata": {},
     "output_type": "display_data"
    },
    {
     "data": {
      "application/vnd.jupyter.widget-view+json": {
       "model_id": "91ac360791a346f597aafe79c59c9d84",
       "version_major": 2,
       "version_minor": 0
      },
      "text/plain": [
       "Running episodes:   0%|          | 0/100 [00:00<?, ?it/s]"
      ]
     },
     "metadata": {},
     "output_type": "display_data"
    },
    {
     "data": {
      "application/vnd.jupyter.widget-view+json": {
       "model_id": "ccd423f63c1549a3a1cf35f00f326543",
       "version_major": 2,
       "version_minor": 0
      },
      "text/plain": [
       "Running episodes:   0%|          | 0/100 [00:00<?, ?it/s]"
      ]
     },
     "metadata": {},
     "output_type": "display_data"
    },
    {
     "data": {
      "application/vnd.jupyter.widget-view+json": {
       "model_id": "0bfedce27dcb4fe3aa170ffa716fb85e",
       "version_major": 2,
       "version_minor": 0
      },
      "text/plain": [
       "Running episodes:   0%|          | 0/100 [00:00<?, ?it/s]"
      ]
     },
     "metadata": {},
     "output_type": "display_data"
    },
    {
     "data": {
      "application/vnd.jupyter.widget-view+json": {
       "model_id": "c90a3593db4348628ab0e88c8b8c4968",
       "version_major": 2,
       "version_minor": 0
      },
      "text/plain": [
       "Running episodes:   0%|          | 0/100 [00:00<?, ?it/s]"
      ]
     },
     "metadata": {},
     "output_type": "display_data"
    },
    {
     "data": {
      "application/vnd.jupyter.widget-view+json": {
       "model_id": "0c4de6b4b34d47999867314cd14e2ada",
       "version_major": 2,
       "version_minor": 0
      },
      "text/plain": [
       "Running episodes:   0%|          | 0/100 [00:00<?, ?it/s]"
      ]
     },
     "metadata": {},
     "output_type": "display_data"
    },
    {
     "data": {
      "application/vnd.jupyter.widget-view+json": {
       "model_id": "7eb3b87b963a489e8c0c74400dc29e4a",
       "version_major": 2,
       "version_minor": 0
      },
      "text/plain": [
       "Running episodes:   0%|          | 0/100 [00:00<?, ?it/s]"
      ]
     },
     "metadata": {},
     "output_type": "display_data"
    },
    {
     "data": {
      "application/vnd.jupyter.widget-view+json": {
       "model_id": "386d1ddfb84d4900a87a87804ccac960",
       "version_major": 2,
       "version_minor": 0
      },
      "text/plain": [
       "Running episodes:   0%|          | 0/100 [00:00<?, ?it/s]"
      ]
     },
     "metadata": {},
     "output_type": "display_data"
    },
    {
     "data": {
      "application/vnd.jupyter.widget-view+json": {
       "model_id": "deb72d00ce7f439a9284c34a9f3b3d13",
       "version_major": 2,
       "version_minor": 0
      },
      "text/plain": [
       "Running episodes:   0%|          | 0/100 [00:00<?, ?it/s]"
      ]
     },
     "metadata": {},
     "output_type": "display_data"
    },
    {
     "data": {
      "application/vnd.jupyter.widget-view+json": {
       "model_id": "fd074a88f1374d3db100ecd793748697",
       "version_major": 2,
       "version_minor": 0
      },
      "text/plain": [
       "Running episodes:   0%|          | 0/100 [00:00<?, ?it/s]"
      ]
     },
     "metadata": {},
     "output_type": "display_data"
    },
    {
     "data": {
      "application/vnd.jupyter.widget-view+json": {
       "model_id": "f8520551c0784b6b8a2053d5948e3fcd",
       "version_major": 2,
       "version_minor": 0
      },
      "text/plain": [
       "Running episodes:   0%|          | 0/100 [00:00<?, ?it/s]"
      ]
     },
     "metadata": {},
     "output_type": "display_data"
    },
    {
     "data": {
      "application/vnd.jupyter.widget-view+json": {
       "model_id": "a6304a5054834979992f55c7c977e12b",
       "version_major": 2,
       "version_minor": 0
      },
      "text/plain": [
       "Running episodes:   0%|          | 0/100 [00:00<?, ?it/s]"
      ]
     },
     "metadata": {},
     "output_type": "display_data"
    },
    {
     "data": {
      "application/vnd.jupyter.widget-view+json": {
       "model_id": "595d00e5880443ef9ffd3e7eee02f983",
       "version_major": 2,
       "version_minor": 0
      },
      "text/plain": [
       "Running episodes:   0%|          | 0/100 [00:00<?, ?it/s]"
      ]
     },
     "metadata": {},
     "output_type": "display_data"
    },
    {
     "data": {
      "application/vnd.jupyter.widget-view+json": {
       "model_id": "52ea022029d54396a89babbb15241116",
       "version_major": 2,
       "version_minor": 0
      },
      "text/plain": [
       "Running episodes:   0%|          | 0/100 [00:00<?, ?it/s]"
      ]
     },
     "metadata": {},
     "output_type": "display_data"
    },
    {
     "data": {
      "application/vnd.jupyter.widget-view+json": {
       "model_id": "6ec4fcc4c30c4727bd5bb78302a85874",
       "version_major": 2,
       "version_minor": 0
      },
      "text/plain": [
       "Running episodes:   0%|          | 0/100 [00:00<?, ?it/s]"
      ]
     },
     "metadata": {},
     "output_type": "display_data"
    },
    {
     "data": {
      "application/vnd.jupyter.widget-view+json": {
       "model_id": "54bbbaeae09b427298da8e8d683858f3",
       "version_major": 2,
       "version_minor": 0
      },
      "text/plain": [
       "Running episodes:   0%|          | 0/100 [00:00<?, ?it/s]"
      ]
     },
     "metadata": {},
     "output_type": "display_data"
    },
    {
     "data": {
      "application/vnd.jupyter.widget-view+json": {
       "model_id": "07fc8f51e0834195824c23b3739a1794",
       "version_major": 2,
       "version_minor": 0
      },
      "text/plain": [
       "Running episodes:   0%|          | 0/100 [00:00<?, ?it/s]"
      ]
     },
     "metadata": {},
     "output_type": "display_data"
    },
    {
     "data": {
      "application/vnd.jupyter.widget-view+json": {
       "model_id": "a7aee99907ff4d0d9e550e79396cc6cf",
       "version_major": 2,
       "version_minor": 0
      },
      "text/plain": [
       "Running episodes:   0%|          | 0/100 [00:00<?, ?it/s]"
      ]
     },
     "metadata": {},
     "output_type": "display_data"
    },
    {
     "data": {
      "application/vnd.jupyter.widget-view+json": {
       "model_id": "3bbebca3607b4f3aabfee8bedce9070d",
       "version_major": 2,
       "version_minor": 0
      },
      "text/plain": [
       "Running episodes:   0%|          | 0/100 [00:00<?, ?it/s]"
      ]
     },
     "metadata": {},
     "output_type": "display_data"
    },
    {
     "data": {
      "application/vnd.jupyter.widget-view+json": {
       "model_id": "5cf9c8951bfe49c7b2bce162ce3c3937",
       "version_major": 2,
       "version_minor": 0
      },
      "text/plain": [
       "Running episodes:   0%|          | 0/100 [00:00<?, ?it/s]"
      ]
     },
     "metadata": {},
     "output_type": "display_data"
    },
    {
     "data": {
      "application/vnd.jupyter.widget-view+json": {
       "model_id": "15deb7e7c7b34c49bdcfea47b2c0de76",
       "version_major": 2,
       "version_minor": 0
      },
      "text/plain": [
       "Running episodes:   0%|          | 0/100 [00:00<?, ?it/s]"
      ]
     },
     "metadata": {},
     "output_type": "display_data"
    },
    {
     "data": {
      "application/vnd.jupyter.widget-view+json": {
       "model_id": "24990af546dd4970b99590dda5e87987",
       "version_major": 2,
       "version_minor": 0
      },
      "text/plain": [
       "Running episodes:   0%|          | 0/100 [00:00<?, ?it/s]"
      ]
     },
     "metadata": {},
     "output_type": "display_data"
    },
    {
     "data": {
      "application/vnd.jupyter.widget-view+json": {
       "model_id": "769c3a38d68d4ee9a4233f6733faa51e",
       "version_major": 2,
       "version_minor": 0
      },
      "text/plain": [
       "Running episodes:   0%|          | 0/100 [00:00<?, ?it/s]"
      ]
     },
     "metadata": {},
     "output_type": "display_data"
    },
    {
     "data": {
      "application/vnd.jupyter.widget-view+json": {
       "model_id": "db5bef5eb1b14dd09eb7b50d06973f06",
       "version_major": 2,
       "version_minor": 0
      },
      "text/plain": [
       "Running episodes:   0%|          | 0/100 [00:00<?, ?it/s]"
      ]
     },
     "metadata": {},
     "output_type": "display_data"
    },
    {
     "data": {
      "application/vnd.jupyter.widget-view+json": {
       "model_id": "3e2748ac7dfd4283a942b80f74f74fe3",
       "version_major": 2,
       "version_minor": 0
      },
      "text/plain": [
       "Running episodes:   0%|          | 0/100 [00:00<?, ?it/s]"
      ]
     },
     "metadata": {},
     "output_type": "display_data"
    },
    {
     "data": {
      "application/vnd.jupyter.widget-view+json": {
       "model_id": "43ccec820dd64193ad6af0550e9370cf",
       "version_major": 2,
       "version_minor": 0
      },
      "text/plain": [
       "Running episodes:   0%|          | 0/100 [00:00<?, ?it/s]"
      ]
     },
     "metadata": {},
     "output_type": "display_data"
    },
    {
     "data": {
      "application/vnd.jupyter.widget-view+json": {
       "model_id": "ff938490d48542b3a089d288d6998f44",
       "version_major": 2,
       "version_minor": 0
      },
      "text/plain": [
       "Running episodes:   0%|          | 0/100 [00:00<?, ?it/s]"
      ]
     },
     "metadata": {},
     "output_type": "display_data"
    },
    {
     "data": {
      "application/vnd.jupyter.widget-view+json": {
       "model_id": "cda52157509843fdbc6364c8e571aac0",
       "version_major": 2,
       "version_minor": 0
      },
      "text/plain": [
       "Running episodes:   0%|          | 0/100 [00:00<?, ?it/s]"
      ]
     },
     "metadata": {},
     "output_type": "display_data"
    },
    {
     "data": {
      "application/vnd.jupyter.widget-view+json": {
       "model_id": "df493c76e1de4bd0a26af1fd5c70bd12",
       "version_major": 2,
       "version_minor": 0
      },
      "text/plain": [
       "Running episodes:   0%|          | 0/100 [00:00<?, ?it/s]"
      ]
     },
     "metadata": {},
     "output_type": "display_data"
    },
    {
     "data": {
      "application/vnd.jupyter.widget-view+json": {
       "model_id": "9b80ed2107f24d36b49727c48b2f9182",
       "version_major": 2,
       "version_minor": 0
      },
      "text/plain": [
       "Running episodes:   0%|          | 0/100 [00:00<?, ?it/s]"
      ]
     },
     "metadata": {},
     "output_type": "display_data"
    },
    {
     "data": {
      "application/vnd.jupyter.widget-view+json": {
       "model_id": "39781eb5f07a431a8624667b542e7e94",
       "version_major": 2,
       "version_minor": 0
      },
      "text/plain": [
       "Running episodes:   0%|          | 0/100 [00:00<?, ?it/s]"
      ]
     },
     "metadata": {},
     "output_type": "display_data"
    },
    {
     "data": {
      "application/vnd.jupyter.widget-view+json": {
       "model_id": "83e32d42d1e6431ab5c778d59bf3d994",
       "version_major": 2,
       "version_minor": 0
      },
      "text/plain": [
       "Running episodes:   0%|          | 0/100 [00:00<?, ?it/s]"
      ]
     },
     "metadata": {},
     "output_type": "display_data"
    },
    {
     "data": {
      "application/vnd.jupyter.widget-view+json": {
       "model_id": "4a704340c5f1461ea4c1d272398428e6",
       "version_major": 2,
       "version_minor": 0
      },
      "text/plain": [
       "Running episodes:   0%|          | 0/100 [00:00<?, ?it/s]"
      ]
     },
     "metadata": {},
     "output_type": "display_data"
    },
    {
     "data": {
      "application/vnd.jupyter.widget-view+json": {
       "model_id": "5e4de625209e433982a8ddff8079de41",
       "version_major": 2,
       "version_minor": 0
      },
      "text/plain": [
       "Running episodes:   0%|          | 0/100 [00:00<?, ?it/s]"
      ]
     },
     "metadata": {},
     "output_type": "display_data"
    },
    {
     "data": {
      "application/vnd.jupyter.widget-view+json": {
       "model_id": "45e6f6c334194eba97c1a72eb4f547ac",
       "version_major": 2,
       "version_minor": 0
      },
      "text/plain": [
       "Running episodes:   0%|          | 0/100 [00:00<?, ?it/s]"
      ]
     },
     "metadata": {},
     "output_type": "display_data"
    },
    {
     "data": {
      "application/vnd.jupyter.widget-view+json": {
       "model_id": "d9a74c5d3a364de9958ea9c790908b12",
       "version_major": 2,
       "version_minor": 0
      },
      "text/plain": [
       "Running episodes:   0%|          | 0/100 [00:00<?, ?it/s]"
      ]
     },
     "metadata": {},
     "output_type": "display_data"
    },
    {
     "data": {
      "application/vnd.jupyter.widget-view+json": {
       "model_id": "ead80ee923e743a896e87fec796a98d7",
       "version_major": 2,
       "version_minor": 0
      },
      "text/plain": [
       "Running episodes:   0%|          | 0/100 [00:00<?, ?it/s]"
      ]
     },
     "metadata": {},
     "output_type": "display_data"
    },
    {
     "data": {
      "application/vnd.jupyter.widget-view+json": {
       "model_id": "f1078e7dc1da4dd29a37241b379fcfb9",
       "version_major": 2,
       "version_minor": 0
      },
      "text/plain": [
       "Running episodes:   0%|          | 0/100 [00:00<?, ?it/s]"
      ]
     },
     "metadata": {},
     "output_type": "display_data"
    },
    {
     "data": {
      "application/vnd.jupyter.widget-view+json": {
       "model_id": "a543371584454185b786892fcbbff915",
       "version_major": 2,
       "version_minor": 0
      },
      "text/plain": [
       "Running episodes:   0%|          | 0/100 [00:00<?, ?it/s]"
      ]
     },
     "metadata": {},
     "output_type": "display_data"
    },
    {
     "data": {
      "application/vnd.jupyter.widget-view+json": {
       "model_id": "2ec0a9086f5d42b99c10cc8367ead4de",
       "version_major": 2,
       "version_minor": 0
      },
      "text/plain": [
       "Running episodes:   0%|          | 0/100 [00:00<?, ?it/s]"
      ]
     },
     "metadata": {},
     "output_type": "display_data"
    },
    {
     "data": {
      "application/vnd.jupyter.widget-view+json": {
       "model_id": "9a4ebe4606e54ce9a7e49f4d2d17776b",
       "version_major": 2,
       "version_minor": 0
      },
      "text/plain": [
       "Running episodes:   0%|          | 0/100 [00:00<?, ?it/s]"
      ]
     },
     "metadata": {},
     "output_type": "display_data"
    },
    {
     "data": {
      "application/vnd.jupyter.widget-view+json": {
       "model_id": "4b033caa0a3342fab080e96720c7d7a9",
       "version_major": 2,
       "version_minor": 0
      },
      "text/plain": [
       "Running episodes:   0%|          | 0/100 [00:00<?, ?it/s]"
      ]
     },
     "metadata": {},
     "output_type": "display_data"
    },
    {
     "data": {
      "application/vnd.jupyter.widget-view+json": {
       "model_id": "880b5a591cd7486e9c4d9d36f45a21c6",
       "version_major": 2,
       "version_minor": 0
      },
      "text/plain": [
       "Running episodes:   0%|          | 0/100 [00:00<?, ?it/s]"
      ]
     },
     "metadata": {},
     "output_type": "display_data"
    },
    {
     "data": {
      "application/vnd.jupyter.widget-view+json": {
       "model_id": "0b13f714c9524f479fe881a5d1e1d01c",
       "version_major": 2,
       "version_minor": 0
      },
      "text/plain": [
       "Running episodes:   0%|          | 0/100 [00:00<?, ?it/s]"
      ]
     },
     "metadata": {},
     "output_type": "display_data"
    },
    {
     "data": {
      "application/vnd.jupyter.widget-view+json": {
       "model_id": "65510d138ccd49b6be8a81fb35d03f3b",
       "version_major": 2,
       "version_minor": 0
      },
      "text/plain": [
       "Running episodes:   0%|          | 0/100 [00:00<?, ?it/s]"
      ]
     },
     "metadata": {},
     "output_type": "display_data"
    },
    {
     "data": {
      "application/vnd.jupyter.widget-view+json": {
       "model_id": "c72d215d3c4a4ce79a6ea5a40a1d8df1",
       "version_major": 2,
       "version_minor": 0
      },
      "text/plain": [
       "Running episodes:   0%|          | 0/100 [00:00<?, ?it/s]"
      ]
     },
     "metadata": {},
     "output_type": "display_data"
    },
    {
     "data": {
      "application/vnd.jupyter.widget-view+json": {
       "model_id": "db1d2db754934e46b977ef6153ff2d54",
       "version_major": 2,
       "version_minor": 0
      },
      "text/plain": [
       "Running episodes:   0%|          | 0/100 [00:00<?, ?it/s]"
      ]
     },
     "metadata": {},
     "output_type": "display_data"
    },
    {
     "data": {
      "application/vnd.jupyter.widget-view+json": {
       "model_id": "a0b3d93d5d224968a1d5599005fa2234",
       "version_major": 2,
       "version_minor": 0
      },
      "text/plain": [
       "Running episodes:   0%|          | 0/100 [00:00<?, ?it/s]"
      ]
     },
     "metadata": {},
     "output_type": "display_data"
    },
    {
     "data": {
      "application/vnd.jupyter.widget-view+json": {
       "model_id": "ad0bd676b2144e7388ee899665de1240",
       "version_major": 2,
       "version_minor": 0
      },
      "text/plain": [
       "Running episodes:   0%|          | 0/100 [00:00<?, ?it/s]"
      ]
     },
     "metadata": {},
     "output_type": "display_data"
    },
    {
     "data": {
      "application/vnd.jupyter.widget-view+json": {
       "model_id": "bf0c1504541b42dd87277bf3d2e408b1",
       "version_major": 2,
       "version_minor": 0
      },
      "text/plain": [
       "Running episodes:   0%|          | 0/100 [00:00<?, ?it/s]"
      ]
     },
     "metadata": {},
     "output_type": "display_data"
    },
    {
     "data": {
      "application/vnd.jupyter.widget-view+json": {
       "model_id": "625afa37f3324eaabe7673b29968d2e7",
       "version_major": 2,
       "version_minor": 0
      },
      "text/plain": [
       "Running episodes:   0%|          | 0/100 [00:00<?, ?it/s]"
      ]
     },
     "metadata": {},
     "output_type": "display_data"
    },
    {
     "data": {
      "application/vnd.jupyter.widget-view+json": {
       "model_id": "a830aa17377f490b838618c9e947a35e",
       "version_major": 2,
       "version_minor": 0
      },
      "text/plain": [
       "Running episodes:   0%|          | 0/100 [00:00<?, ?it/s]"
      ]
     },
     "metadata": {},
     "output_type": "display_data"
    },
    {
     "data": {
      "application/vnd.jupyter.widget-view+json": {
       "model_id": "4ab50a9bbec34f749f5d5a1ab5398435",
       "version_major": 2,
       "version_minor": 0
      },
      "text/plain": [
       "Running episodes:   0%|          | 0/100 [00:00<?, ?it/s]"
      ]
     },
     "metadata": {},
     "output_type": "display_data"
    },
    {
     "data": {
      "application/vnd.jupyter.widget-view+json": {
       "model_id": "db6a966632724598831811e9f173b295",
       "version_major": 2,
       "version_minor": 0
      },
      "text/plain": [
       "Running episodes:   0%|          | 0/100 [00:00<?, ?it/s]"
      ]
     },
     "metadata": {},
     "output_type": "display_data"
    },
    {
     "data": {
      "application/vnd.jupyter.widget-view+json": {
       "model_id": "f84fafceb2d843f0836ea9cd973450fa",
       "version_major": 2,
       "version_minor": 0
      },
      "text/plain": [
       "Running episodes:   0%|          | 0/100 [00:00<?, ?it/s]"
      ]
     },
     "metadata": {},
     "output_type": "display_data"
    },
    {
     "data": {
      "application/vnd.jupyter.widget-view+json": {
       "model_id": "e84669760b3f41cbbef7f25d4297e7f5",
       "version_major": 2,
       "version_minor": 0
      },
      "text/plain": [
       "Running episodes:   0%|          | 0/100 [00:00<?, ?it/s]"
      ]
     },
     "metadata": {},
     "output_type": "display_data"
    },
    {
     "data": {
      "application/vnd.jupyter.widget-view+json": {
       "model_id": "afa552e5cdea494991d6f5393569106c",
       "version_major": 2,
       "version_minor": 0
      },
      "text/plain": [
       "Running episodes:   0%|          | 0/100 [00:00<?, ?it/s]"
      ]
     },
     "metadata": {},
     "output_type": "display_data"
    },
    {
     "data": {
      "application/vnd.jupyter.widget-view+json": {
       "model_id": "277c5fef64b34175b585112a5d8fd49f",
       "version_major": 2,
       "version_minor": 0
      },
      "text/plain": [
       "Running configurations for segmentation:   0%|          | 0/100 [00:00<?, ?it/s]"
      ]
     },
     "metadata": {},
     "output_type": "display_data"
    },
    {
     "data": {
      "application/vnd.jupyter.widget-view+json": {
       "model_id": "d9581f228f034164bb2a7bcefb097026",
       "version_major": 2,
       "version_minor": 0
      },
      "text/plain": [
       "Running episodes:   0%|          | 0/100 [00:00<?, ?it/s]"
      ]
     },
     "metadata": {},
     "output_type": "display_data"
    },
    {
     "data": {
      "application/vnd.jupyter.widget-view+json": {
       "model_id": "69a2663fa45f4c1ab06249cfe5793c2f",
       "version_major": 2,
       "version_minor": 0
      },
      "text/plain": [
       "Running episodes:   0%|          | 0/100 [00:00<?, ?it/s]"
      ]
     },
     "metadata": {},
     "output_type": "display_data"
    },
    {
     "data": {
      "application/vnd.jupyter.widget-view+json": {
       "model_id": "21f43bc0660b48b690a4d82125b8b6cd",
       "version_major": 2,
       "version_minor": 0
      },
      "text/plain": [
       "Running episodes:   0%|          | 0/100 [00:00<?, ?it/s]"
      ]
     },
     "metadata": {},
     "output_type": "display_data"
    },
    {
     "data": {
      "application/vnd.jupyter.widget-view+json": {
       "model_id": "c18ffe5c534d411da625be5c7bd0eb2f",
       "version_major": 2,
       "version_minor": 0
      },
      "text/plain": [
       "Running episodes:   0%|          | 0/100 [00:00<?, ?it/s]"
      ]
     },
     "metadata": {},
     "output_type": "display_data"
    },
    {
     "data": {
      "application/vnd.jupyter.widget-view+json": {
       "model_id": "bd9a318cf84f49b286a79e96826baa54",
       "version_major": 2,
       "version_minor": 0
      },
      "text/plain": [
       "Running episodes:   0%|          | 0/100 [00:00<?, ?it/s]"
      ]
     },
     "metadata": {},
     "output_type": "display_data"
    },
    {
     "data": {
      "application/vnd.jupyter.widget-view+json": {
       "model_id": "c9156d22ad64493aa143fde132ceb638",
       "version_major": 2,
       "version_minor": 0
      },
      "text/plain": [
       "Running episodes:   0%|          | 0/100 [00:00<?, ?it/s]"
      ]
     },
     "metadata": {},
     "output_type": "display_data"
    },
    {
     "data": {
      "application/vnd.jupyter.widget-view+json": {
       "model_id": "f341bc7e0ea149cb997180561ed4c6bb",
       "version_major": 2,
       "version_minor": 0
      },
      "text/plain": [
       "Running episodes:   0%|          | 0/100 [00:00<?, ?it/s]"
      ]
     },
     "metadata": {},
     "output_type": "display_data"
    },
    {
     "data": {
      "application/vnd.jupyter.widget-view+json": {
       "model_id": "18b9111e940f47398373bd74a7695766",
       "version_major": 2,
       "version_minor": 0
      },
      "text/plain": [
       "Running episodes:   0%|          | 0/100 [00:00<?, ?it/s]"
      ]
     },
     "metadata": {},
     "output_type": "display_data"
    },
    {
     "data": {
      "application/vnd.jupyter.widget-view+json": {
       "model_id": "4ea512d85eae40e8996063fb4c59bb8c",
       "version_major": 2,
       "version_minor": 0
      },
      "text/plain": [
       "Running episodes:   0%|          | 0/100 [00:00<?, ?it/s]"
      ]
     },
     "metadata": {},
     "output_type": "display_data"
    },
    {
     "data": {
      "application/vnd.jupyter.widget-view+json": {
       "model_id": "d9b69bcebbf64814aeb449285eca2462",
       "version_major": 2,
       "version_minor": 0
      },
      "text/plain": [
       "Running episodes:   0%|          | 0/100 [00:00<?, ?it/s]"
      ]
     },
     "metadata": {},
     "output_type": "display_data"
    },
    {
     "data": {
      "application/vnd.jupyter.widget-view+json": {
       "model_id": "f5f3d634dcba48e48a2a0a31478ad812",
       "version_major": 2,
       "version_minor": 0
      },
      "text/plain": [
       "Running episodes:   0%|          | 0/100 [00:00<?, ?it/s]"
      ]
     },
     "metadata": {},
     "output_type": "display_data"
    },
    {
     "data": {
      "application/vnd.jupyter.widget-view+json": {
       "model_id": "0917424baa9f4f7fa435597b86acd62a",
       "version_major": 2,
       "version_minor": 0
      },
      "text/plain": [
       "Running episodes:   0%|          | 0/100 [00:00<?, ?it/s]"
      ]
     },
     "metadata": {},
     "output_type": "display_data"
    },
    {
     "data": {
      "application/vnd.jupyter.widget-view+json": {
       "model_id": "138e50426eb84f64a238ac780f30066e",
       "version_major": 2,
       "version_minor": 0
      },
      "text/plain": [
       "Running episodes:   0%|          | 0/100 [00:00<?, ?it/s]"
      ]
     },
     "metadata": {},
     "output_type": "display_data"
    },
    {
     "data": {
      "application/vnd.jupyter.widget-view+json": {
       "model_id": "4b9f46bacb034ffaa4dcf343f954db74",
       "version_major": 2,
       "version_minor": 0
      },
      "text/plain": [
       "Running episodes:   0%|          | 0/100 [00:00<?, ?it/s]"
      ]
     },
     "metadata": {},
     "output_type": "display_data"
    },
    {
     "data": {
      "application/vnd.jupyter.widget-view+json": {
       "model_id": "46d3839378cb4ef5a535c7cdd52e6b03",
       "version_major": 2,
       "version_minor": 0
      },
      "text/plain": [
       "Running episodes:   0%|          | 0/100 [00:00<?, ?it/s]"
      ]
     },
     "metadata": {},
     "output_type": "display_data"
    },
    {
     "data": {
      "application/vnd.jupyter.widget-view+json": {
       "model_id": "7726b4e215d04a5f9a4d78ffc710e8c3",
       "version_major": 2,
       "version_minor": 0
      },
      "text/plain": [
       "Running episodes:   0%|          | 0/100 [00:00<?, ?it/s]"
      ]
     },
     "metadata": {},
     "output_type": "display_data"
    },
    {
     "data": {
      "application/vnd.jupyter.widget-view+json": {
       "model_id": "207c3ecb44ca43dc906dc9bc849afe13",
       "version_major": 2,
       "version_minor": 0
      },
      "text/plain": [
       "Running episodes:   0%|          | 0/100 [00:00<?, ?it/s]"
      ]
     },
     "metadata": {},
     "output_type": "display_data"
    },
    {
     "data": {
      "application/vnd.jupyter.widget-view+json": {
       "model_id": "18d527844fd14731a85bc0597f7b9158",
       "version_major": 2,
       "version_minor": 0
      },
      "text/plain": [
       "Running episodes:   0%|          | 0/100 [00:00<?, ?it/s]"
      ]
     },
     "metadata": {},
     "output_type": "display_data"
    },
    {
     "data": {
      "application/vnd.jupyter.widget-view+json": {
       "model_id": "552d738372134cdbbdab3493814f427e",
       "version_major": 2,
       "version_minor": 0
      },
      "text/plain": [
       "Running episodes:   0%|          | 0/100 [00:00<?, ?it/s]"
      ]
     },
     "metadata": {},
     "output_type": "display_data"
    },
    {
     "data": {
      "application/vnd.jupyter.widget-view+json": {
       "model_id": "40844a0a63024f55a9018a4153d3d45e",
       "version_major": 2,
       "version_minor": 0
      },
      "text/plain": [
       "Running episodes:   0%|          | 0/100 [00:00<?, ?it/s]"
      ]
     },
     "metadata": {},
     "output_type": "display_data"
    },
    {
     "data": {
      "application/vnd.jupyter.widget-view+json": {
       "model_id": "6ea4a9b04a754a5f861c4511d0d9ea26",
       "version_major": 2,
       "version_minor": 0
      },
      "text/plain": [
       "Running episodes:   0%|          | 0/100 [00:00<?, ?it/s]"
      ]
     },
     "metadata": {},
     "output_type": "display_data"
    },
    {
     "data": {
      "application/vnd.jupyter.widget-view+json": {
       "model_id": "f25544ffed5946418c4bcae6f2c92b95",
       "version_major": 2,
       "version_minor": 0
      },
      "text/plain": [
       "Running episodes:   0%|          | 0/100 [00:00<?, ?it/s]"
      ]
     },
     "metadata": {},
     "output_type": "display_data"
    },
    {
     "data": {
      "application/vnd.jupyter.widget-view+json": {
       "model_id": "5a427981cc8d47cbb4b7a4b1541327da",
       "version_major": 2,
       "version_minor": 0
      },
      "text/plain": [
       "Running episodes:   0%|          | 0/100 [00:00<?, ?it/s]"
      ]
     },
     "metadata": {},
     "output_type": "display_data"
    },
    {
     "data": {
      "application/vnd.jupyter.widget-view+json": {
       "model_id": "adf039d7e22740cb9edf12c35934a641",
       "version_major": 2,
       "version_minor": 0
      },
      "text/plain": [
       "Running episodes:   0%|          | 0/100 [00:00<?, ?it/s]"
      ]
     },
     "metadata": {},
     "output_type": "display_data"
    },
    {
     "data": {
      "application/vnd.jupyter.widget-view+json": {
       "model_id": "8545bcd153394545aaf43e3589a87acf",
       "version_major": 2,
       "version_minor": 0
      },
      "text/plain": [
       "Running episodes:   0%|          | 0/100 [00:00<?, ?it/s]"
      ]
     },
     "metadata": {},
     "output_type": "display_data"
    },
    {
     "data": {
      "application/vnd.jupyter.widget-view+json": {
       "model_id": "493d2b84f8c443bfa8b4967d7fb2908c",
       "version_major": 2,
       "version_minor": 0
      },
      "text/plain": [
       "Running episodes:   0%|          | 0/100 [00:00<?, ?it/s]"
      ]
     },
     "metadata": {},
     "output_type": "display_data"
    },
    {
     "data": {
      "application/vnd.jupyter.widget-view+json": {
       "model_id": "13108e142349448a88f2ce01ddd92438",
       "version_major": 2,
       "version_minor": 0
      },
      "text/plain": [
       "Running episodes:   0%|          | 0/100 [00:00<?, ?it/s]"
      ]
     },
     "metadata": {},
     "output_type": "display_data"
    },
    {
     "data": {
      "application/vnd.jupyter.widget-view+json": {
       "model_id": "57c9e43c7e864f2dbca0ba3024c8720d",
       "version_major": 2,
       "version_minor": 0
      },
      "text/plain": [
       "Running episodes:   0%|          | 0/100 [00:00<?, ?it/s]"
      ]
     },
     "metadata": {},
     "output_type": "display_data"
    },
    {
     "data": {
      "application/vnd.jupyter.widget-view+json": {
       "model_id": "4f7c0adc3b23410bbc0cd9328e846d1d",
       "version_major": 2,
       "version_minor": 0
      },
      "text/plain": [
       "Running episodes:   0%|          | 0/100 [00:00<?, ?it/s]"
      ]
     },
     "metadata": {},
     "output_type": "display_data"
    },
    {
     "data": {
      "application/vnd.jupyter.widget-view+json": {
       "model_id": "bc268091bc894eae8fcf19a541bc9808",
       "version_major": 2,
       "version_minor": 0
      },
      "text/plain": [
       "Running episodes:   0%|          | 0/100 [00:00<?, ?it/s]"
      ]
     },
     "metadata": {},
     "output_type": "display_data"
    },
    {
     "data": {
      "application/vnd.jupyter.widget-view+json": {
       "model_id": "d7c14a7f13fa48d586975c8dd45705e8",
       "version_major": 2,
       "version_minor": 0
      },
      "text/plain": [
       "Running episodes:   0%|          | 0/100 [00:00<?, ?it/s]"
      ]
     },
     "metadata": {},
     "output_type": "display_data"
    },
    {
     "data": {
      "application/vnd.jupyter.widget-view+json": {
       "model_id": "1912056547e04054b28315c2002d44f8",
       "version_major": 2,
       "version_minor": 0
      },
      "text/plain": [
       "Running episodes:   0%|          | 0/100 [00:00<?, ?it/s]"
      ]
     },
     "metadata": {},
     "output_type": "display_data"
    },
    {
     "data": {
      "application/vnd.jupyter.widget-view+json": {
       "model_id": "a3d73f8e28984a7b95edbb0092dc6992",
       "version_major": 2,
       "version_minor": 0
      },
      "text/plain": [
       "Running episodes:   0%|          | 0/100 [00:00<?, ?it/s]"
      ]
     },
     "metadata": {},
     "output_type": "display_data"
    },
    {
     "data": {
      "application/vnd.jupyter.widget-view+json": {
       "model_id": "94b6889d358849fb85864695f7aa4804",
       "version_major": 2,
       "version_minor": 0
      },
      "text/plain": [
       "Running episodes:   0%|          | 0/100 [00:00<?, ?it/s]"
      ]
     },
     "metadata": {},
     "output_type": "display_data"
    },
    {
     "data": {
      "application/vnd.jupyter.widget-view+json": {
       "model_id": "fa28a8ce63e64d2fb9f7499b684d3833",
       "version_major": 2,
       "version_minor": 0
      },
      "text/plain": [
       "Running episodes:   0%|          | 0/100 [00:00<?, ?it/s]"
      ]
     },
     "metadata": {},
     "output_type": "display_data"
    },
    {
     "data": {
      "application/vnd.jupyter.widget-view+json": {
       "model_id": "a9e631af3d5345acad2b6b3d0a10cdb0",
       "version_major": 2,
       "version_minor": 0
      },
      "text/plain": [
       "Running episodes:   0%|          | 0/100 [00:00<?, ?it/s]"
      ]
     },
     "metadata": {},
     "output_type": "display_data"
    },
    {
     "data": {
      "application/vnd.jupyter.widget-view+json": {
       "model_id": "1b7d770abdf741f887b4f383e3524f50",
       "version_major": 2,
       "version_minor": 0
      },
      "text/plain": [
       "Running episodes:   0%|          | 0/100 [00:00<?, ?it/s]"
      ]
     },
     "metadata": {},
     "output_type": "display_data"
    },
    {
     "data": {
      "application/vnd.jupyter.widget-view+json": {
       "model_id": "16f42fccd26e418fa6adfea0aa538f80",
       "version_major": 2,
       "version_minor": 0
      },
      "text/plain": [
       "Running episodes:   0%|          | 0/100 [00:00<?, ?it/s]"
      ]
     },
     "metadata": {},
     "output_type": "display_data"
    },
    {
     "data": {
      "application/vnd.jupyter.widget-view+json": {
       "model_id": "7ac814c2ddba43aa82209893f5a9e2a1",
       "version_major": 2,
       "version_minor": 0
      },
      "text/plain": [
       "Running episodes:   0%|          | 0/100 [00:00<?, ?it/s]"
      ]
     },
     "metadata": {},
     "output_type": "display_data"
    },
    {
     "data": {
      "application/vnd.jupyter.widget-view+json": {
       "model_id": "06c2dd687130440ab87db536e006de30",
       "version_major": 2,
       "version_minor": 0
      },
      "text/plain": [
       "Running episodes:   0%|          | 0/100 [00:00<?, ?it/s]"
      ]
     },
     "metadata": {},
     "output_type": "display_data"
    },
    {
     "data": {
      "application/vnd.jupyter.widget-view+json": {
       "model_id": "2d2cd155a6744e7ebf04737acfdd299b",
       "version_major": 2,
       "version_minor": 0
      },
      "text/plain": [
       "Running episodes:   0%|          | 0/100 [00:00<?, ?it/s]"
      ]
     },
     "metadata": {},
     "output_type": "display_data"
    },
    {
     "data": {
      "application/vnd.jupyter.widget-view+json": {
       "model_id": "a9dec1a5603c415c81dd640717f92274",
       "version_major": 2,
       "version_minor": 0
      },
      "text/plain": [
       "Running episodes:   0%|          | 0/100 [00:00<?, ?it/s]"
      ]
     },
     "metadata": {},
     "output_type": "display_data"
    },
    {
     "data": {
      "application/vnd.jupyter.widget-view+json": {
       "model_id": "873499503ae142c1987a4718b2949df0",
       "version_major": 2,
       "version_minor": 0
      },
      "text/plain": [
       "Running episodes:   0%|          | 0/100 [00:00<?, ?it/s]"
      ]
     },
     "metadata": {},
     "output_type": "display_data"
    },
    {
     "data": {
      "application/vnd.jupyter.widget-view+json": {
       "model_id": "645ce232b5f944e1a33979138e96b86f",
       "version_major": 2,
       "version_minor": 0
      },
      "text/plain": [
       "Running episodes:   0%|          | 0/100 [00:00<?, ?it/s]"
      ]
     },
     "metadata": {},
     "output_type": "display_data"
    },
    {
     "data": {
      "application/vnd.jupyter.widget-view+json": {
       "model_id": "de9dbcfa693847989f2191ead7a7ea52",
       "version_major": 2,
       "version_minor": 0
      },
      "text/plain": [
       "Running episodes:   0%|          | 0/100 [00:00<?, ?it/s]"
      ]
     },
     "metadata": {},
     "output_type": "display_data"
    },
    {
     "data": {
      "application/vnd.jupyter.widget-view+json": {
       "model_id": "f6ba38cca02f45d68ea32ef7e419023a",
       "version_major": 2,
       "version_minor": 0
      },
      "text/plain": [
       "Running episodes:   0%|          | 0/100 [00:00<?, ?it/s]"
      ]
     },
     "metadata": {},
     "output_type": "display_data"
    },
    {
     "data": {
      "application/vnd.jupyter.widget-view+json": {
       "model_id": "65fd86ec65364013b3d6b7145539580f",
       "version_major": 2,
       "version_minor": 0
      },
      "text/plain": [
       "Running episodes:   0%|          | 0/100 [00:00<?, ?it/s]"
      ]
     },
     "metadata": {},
     "output_type": "display_data"
    },
    {
     "data": {
      "application/vnd.jupyter.widget-view+json": {
       "model_id": "5859290eb2474390a852b21e360c9875",
       "version_major": 2,
       "version_minor": 0
      },
      "text/plain": [
       "Running episodes:   0%|          | 0/100 [00:00<?, ?it/s]"
      ]
     },
     "metadata": {},
     "output_type": "display_data"
    },
    {
     "data": {
      "application/vnd.jupyter.widget-view+json": {
       "model_id": "f884867694d644ba83ad3f92949f0346",
       "version_major": 2,
       "version_minor": 0
      },
      "text/plain": [
       "Running episodes:   0%|          | 0/100 [00:00<?, ?it/s]"
      ]
     },
     "metadata": {},
     "output_type": "display_data"
    },
    {
     "data": {
      "application/vnd.jupyter.widget-view+json": {
       "model_id": "6eaadd9e651e4daf8ba74b43e2ea968f",
       "version_major": 2,
       "version_minor": 0
      },
      "text/plain": [
       "Running episodes:   0%|          | 0/100 [00:00<?, ?it/s]"
      ]
     },
     "metadata": {},
     "output_type": "display_data"
    },
    {
     "data": {
      "application/vnd.jupyter.widget-view+json": {
       "model_id": "48302adc2a454080a49bd986792e8c95",
       "version_major": 2,
       "version_minor": 0
      },
      "text/plain": [
       "Running episodes:   0%|          | 0/100 [00:00<?, ?it/s]"
      ]
     },
     "metadata": {},
     "output_type": "display_data"
    },
    {
     "data": {
      "application/vnd.jupyter.widget-view+json": {
       "model_id": "240913143520434290b325fb0d959d43",
       "version_major": 2,
       "version_minor": 0
      },
      "text/plain": [
       "Running episodes:   0%|          | 0/100 [00:00<?, ?it/s]"
      ]
     },
     "metadata": {},
     "output_type": "display_data"
    },
    {
     "data": {
      "application/vnd.jupyter.widget-view+json": {
       "model_id": "2037f73ec4a84a14a462dd828b2e52fb",
       "version_major": 2,
       "version_minor": 0
      },
      "text/plain": [
       "Running episodes:   0%|          | 0/100 [00:00<?, ?it/s]"
      ]
     },
     "metadata": {},
     "output_type": "display_data"
    },
    {
     "data": {
      "application/vnd.jupyter.widget-view+json": {
       "model_id": "c1cef74ed8fa4e3e80061380ffb2f10f",
       "version_major": 2,
       "version_minor": 0
      },
      "text/plain": [
       "Running episodes:   0%|          | 0/100 [00:00<?, ?it/s]"
      ]
     },
     "metadata": {},
     "output_type": "display_data"
    },
    {
     "data": {
      "application/vnd.jupyter.widget-view+json": {
       "model_id": "229f1a8a510b408b862e90188d9573a2",
       "version_major": 2,
       "version_minor": 0
      },
      "text/plain": [
       "Running episodes:   0%|          | 0/100 [00:00<?, ?it/s]"
      ]
     },
     "metadata": {},
     "output_type": "display_data"
    },
    {
     "data": {
      "application/vnd.jupyter.widget-view+json": {
       "model_id": "72fb996a594240208d43a78369832cbb",
       "version_major": 2,
       "version_minor": 0
      },
      "text/plain": [
       "Running episodes:   0%|          | 0/100 [00:00<?, ?it/s]"
      ]
     },
     "metadata": {},
     "output_type": "display_data"
    },
    {
     "data": {
      "application/vnd.jupyter.widget-view+json": {
       "model_id": "ab424fb801bd4582aa9dfe930b1386c0",
       "version_major": 2,
       "version_minor": 0
      },
      "text/plain": [
       "Running episodes:   0%|          | 0/100 [00:00<?, ?it/s]"
      ]
     },
     "metadata": {},
     "output_type": "display_data"
    },
    {
     "data": {
      "application/vnd.jupyter.widget-view+json": {
       "model_id": "85f305adae214ba290f4cd0fe7387e30",
       "version_major": 2,
       "version_minor": 0
      },
      "text/plain": [
       "Running episodes:   0%|          | 0/100 [00:00<?, ?it/s]"
      ]
     },
     "metadata": {},
     "output_type": "display_data"
    },
    {
     "data": {
      "application/vnd.jupyter.widget-view+json": {
       "model_id": "50b05c6e3a8a47d5befe991bafbd8535",
       "version_major": 2,
       "version_minor": 0
      },
      "text/plain": [
       "Running episodes:   0%|          | 0/100 [00:00<?, ?it/s]"
      ]
     },
     "metadata": {},
     "output_type": "display_data"
    },
    {
     "data": {
      "application/vnd.jupyter.widget-view+json": {
       "model_id": "2199eae3da844f7198947495bd3ef362",
       "version_major": 2,
       "version_minor": 0
      },
      "text/plain": [
       "Running episodes:   0%|          | 0/100 [00:00<?, ?it/s]"
      ]
     },
     "metadata": {},
     "output_type": "display_data"
    },
    {
     "data": {
      "application/vnd.jupyter.widget-view+json": {
       "model_id": "2a46023bc2af4fe78fb8917e354f52ff",
       "version_major": 2,
       "version_minor": 0
      },
      "text/plain": [
       "Running episodes:   0%|          | 0/100 [00:00<?, ?it/s]"
      ]
     },
     "metadata": {},
     "output_type": "display_data"
    },
    {
     "data": {
      "application/vnd.jupyter.widget-view+json": {
       "model_id": "445f521a56924aaa94274d72ac5f4300",
       "version_major": 2,
       "version_minor": 0
      },
      "text/plain": [
       "Running episodes:   0%|          | 0/100 [00:00<?, ?it/s]"
      ]
     },
     "metadata": {},
     "output_type": "display_data"
    },
    {
     "data": {
      "application/vnd.jupyter.widget-view+json": {
       "model_id": "253bbda5fe7042b697a48cb27129af1a",
       "version_major": 2,
       "version_minor": 0
      },
      "text/plain": [
       "Running episodes:   0%|          | 0/100 [00:00<?, ?it/s]"
      ]
     },
     "metadata": {},
     "output_type": "display_data"
    },
    {
     "data": {
      "application/vnd.jupyter.widget-view+json": {
       "model_id": "8ba84793e8a54bb0ba7c477781d3c845",
       "version_major": 2,
       "version_minor": 0
      },
      "text/plain": [
       "Running episodes:   0%|          | 0/100 [00:00<?, ?it/s]"
      ]
     },
     "metadata": {},
     "output_type": "display_data"
    },
    {
     "data": {
      "application/vnd.jupyter.widget-view+json": {
       "model_id": "cd0789a3710f472ab6b4a56b726d1e56",
       "version_major": 2,
       "version_minor": 0
      },
      "text/plain": [
       "Running episodes:   0%|          | 0/100 [00:00<?, ?it/s]"
      ]
     },
     "metadata": {},
     "output_type": "display_data"
    },
    {
     "data": {
      "application/vnd.jupyter.widget-view+json": {
       "model_id": "e37b6d43f60b4e2baa204535f4c72d4d",
       "version_major": 2,
       "version_minor": 0
      },
      "text/plain": [
       "Running episodes:   0%|          | 0/100 [00:00<?, ?it/s]"
      ]
     },
     "metadata": {},
     "output_type": "display_data"
    },
    {
     "data": {
      "application/vnd.jupyter.widget-view+json": {
       "model_id": "c4ae21d780a94a89bbf39ccb7071b478",
       "version_major": 2,
       "version_minor": 0
      },
      "text/plain": [
       "Running episodes:   0%|          | 0/100 [00:00<?, ?it/s]"
      ]
     },
     "metadata": {},
     "output_type": "display_data"
    },
    {
     "data": {
      "application/vnd.jupyter.widget-view+json": {
       "model_id": "a6feb759759a490798ef113b2366befa",
       "version_major": 2,
       "version_minor": 0
      },
      "text/plain": [
       "Running episodes:   0%|          | 0/100 [00:00<?, ?it/s]"
      ]
     },
     "metadata": {},
     "output_type": "display_data"
    },
    {
     "data": {
      "application/vnd.jupyter.widget-view+json": {
       "model_id": "8b8b2593f0494202be265815eee3184c",
       "version_major": 2,
       "version_minor": 0
      },
      "text/plain": [
       "Running episodes:   0%|          | 0/100 [00:00<?, ?it/s]"
      ]
     },
     "metadata": {},
     "output_type": "display_data"
    },
    {
     "data": {
      "application/vnd.jupyter.widget-view+json": {
       "model_id": "8b72ad63a75748e9850c23d6af63024c",
       "version_major": 2,
       "version_minor": 0
      },
      "text/plain": [
       "Running episodes:   0%|          | 0/100 [00:00<?, ?it/s]"
      ]
     },
     "metadata": {},
     "output_type": "display_data"
    },
    {
     "data": {
      "application/vnd.jupyter.widget-view+json": {
       "model_id": "6eb388dddd7840799cfaffd33e251116",
       "version_major": 2,
       "version_minor": 0
      },
      "text/plain": [
       "Running episodes:   0%|          | 0/100 [00:00<?, ?it/s]"
      ]
     },
     "metadata": {},
     "output_type": "display_data"
    },
    {
     "data": {
      "application/vnd.jupyter.widget-view+json": {
       "model_id": "9b7326e6f33e4816a664db3b00023a8c",
       "version_major": 2,
       "version_minor": 0
      },
      "text/plain": [
       "Running episodes:   0%|          | 0/100 [00:00<?, ?it/s]"
      ]
     },
     "metadata": {},
     "output_type": "display_data"
    },
    {
     "data": {
      "application/vnd.jupyter.widget-view+json": {
       "model_id": "68003a9164a0458d8df2f9579430c50a",
       "version_major": 2,
       "version_minor": 0
      },
      "text/plain": [
       "Running episodes:   0%|          | 0/100 [00:00<?, ?it/s]"
      ]
     },
     "metadata": {},
     "output_type": "display_data"
    },
    {
     "data": {
      "application/vnd.jupyter.widget-view+json": {
       "model_id": "17461d1bfebd41e391035a58253e0842",
       "version_major": 2,
       "version_minor": 0
      },
      "text/plain": [
       "Running episodes:   0%|          | 0/100 [00:00<?, ?it/s]"
      ]
     },
     "metadata": {},
     "output_type": "display_data"
    },
    {
     "data": {
      "application/vnd.jupyter.widget-view+json": {
       "model_id": "92b2e92fbf854b70ac6fc1ad0f61f498",
       "version_major": 2,
       "version_minor": 0
      },
      "text/plain": [
       "Running episodes:   0%|          | 0/100 [00:00<?, ?it/s]"
      ]
     },
     "metadata": {},
     "output_type": "display_data"
    },
    {
     "data": {
      "application/vnd.jupyter.widget-view+json": {
       "model_id": "a6d7593ad9e24689b224bffa9704874b",
       "version_major": 2,
       "version_minor": 0
      },
      "text/plain": [
       "Running episodes:   0%|          | 0/100 [00:00<?, ?it/s]"
      ]
     },
     "metadata": {},
     "output_type": "display_data"
    },
    {
     "data": {
      "application/vnd.jupyter.widget-view+json": {
       "model_id": "6e96cc99fb9a4418b78da5b59db2b3e1",
       "version_major": 2,
       "version_minor": 0
      },
      "text/plain": [
       "Running episodes:   0%|          | 0/100 [00:00<?, ?it/s]"
      ]
     },
     "metadata": {},
     "output_type": "display_data"
    },
    {
     "data": {
      "application/vnd.jupyter.widget-view+json": {
       "model_id": "bc3cff8333e74edca166d80aa247fba3",
       "version_major": 2,
       "version_minor": 0
      },
      "text/plain": [
       "Running episodes:   0%|          | 0/100 [00:00<?, ?it/s]"
      ]
     },
     "metadata": {},
     "output_type": "display_data"
    },
    {
     "data": {
      "application/vnd.jupyter.widget-view+json": {
       "model_id": "68c2a37f87194aff94d5603199279d42",
       "version_major": 2,
       "version_minor": 0
      },
      "text/plain": [
       "Running episodes:   0%|          | 0/100 [00:00<?, ?it/s]"
      ]
     },
     "metadata": {},
     "output_type": "display_data"
    },
    {
     "data": {
      "application/vnd.jupyter.widget-view+json": {
       "model_id": "d7a040eb23f4495d9fa2a32baecf3da6",
       "version_major": 2,
       "version_minor": 0
      },
      "text/plain": [
       "Running episodes:   0%|          | 0/100 [00:00<?, ?it/s]"
      ]
     },
     "metadata": {},
     "output_type": "display_data"
    },
    {
     "data": {
      "application/vnd.jupyter.widget-view+json": {
       "model_id": "aaae362871dc4048b240e669f225cd89",
       "version_major": 2,
       "version_minor": 0
      },
      "text/plain": [
       "Running episodes:   0%|          | 0/100 [00:00<?, ?it/s]"
      ]
     },
     "metadata": {},
     "output_type": "display_data"
    },
    {
     "data": {
      "application/vnd.jupyter.widget-view+json": {
       "model_id": "c9a9bb7d480145ccabdad1b173e4d918",
       "version_major": 2,
       "version_minor": 0
      },
      "text/plain": [
       "Running episodes:   0%|          | 0/100 [00:00<?, ?it/s]"
      ]
     },
     "metadata": {},
     "output_type": "display_data"
    },
    {
     "data": {
      "application/vnd.jupyter.widget-view+json": {
       "model_id": "032c4be8b2f54412b46e92fdbfddb86c",
       "version_major": 2,
       "version_minor": 0
      },
      "text/plain": [
       "Running episodes:   0%|          | 0/100 [00:00<?, ?it/s]"
      ]
     },
     "metadata": {},
     "output_type": "display_data"
    },
    {
     "data": {
      "application/vnd.jupyter.widget-view+json": {
       "model_id": "75462e36afa840c1b23129c00cac5b75",
       "version_major": 2,
       "version_minor": 0
      },
      "text/plain": [
       "Running episodes:   0%|          | 0/100 [00:00<?, ?it/s]"
      ]
     },
     "metadata": {},
     "output_type": "display_data"
    },
    {
     "data": {
      "application/vnd.jupyter.widget-view+json": {
       "model_id": "8c22b8899eec44d58b1f87962bc44b54",
       "version_major": 2,
       "version_minor": 0
      },
      "text/plain": [
       "Running episodes:   0%|          | 0/100 [00:00<?, ?it/s]"
      ]
     },
     "metadata": {},
     "output_type": "display_data"
    },
    {
     "data": {
      "application/vnd.jupyter.widget-view+json": {
       "model_id": "7e9c25daabbc4934a92aa7deb32d5991",
       "version_major": 2,
       "version_minor": 0
      },
      "text/plain": [
       "Running episodes:   0%|          | 0/100 [00:00<?, ?it/s]"
      ]
     },
     "metadata": {},
     "output_type": "display_data"
    },
    {
     "data": {
      "application/vnd.jupyter.widget-view+json": {
       "model_id": "2b4e43d56db14cd0befdf6aac518d7cf",
       "version_major": 2,
       "version_minor": 0
      },
      "text/plain": [
       "Running episodes:   0%|          | 0/100 [00:00<?, ?it/s]"
      ]
     },
     "metadata": {},
     "output_type": "display_data"
    },
    {
     "data": {
      "application/vnd.jupyter.widget-view+json": {
       "model_id": "f4b92fcb30604f02a3550d892e23d388",
       "version_major": 2,
       "version_minor": 0
      },
      "text/plain": [
       "Running episodes:   0%|          | 0/100 [00:00<?, ?it/s]"
      ]
     },
     "metadata": {},
     "output_type": "display_data"
    },
    {
     "data": {
      "application/vnd.jupyter.widget-view+json": {
       "model_id": "0d2f0a7047f24464add5520551fff554",
       "version_major": 2,
       "version_minor": 0
      },
      "text/plain": [
       "Running episodes:   0%|          | 0/100 [00:00<?, ?it/s]"
      ]
     },
     "metadata": {},
     "output_type": "display_data"
    },
    {
     "data": {
      "application/vnd.jupyter.widget-view+json": {
       "model_id": "e805a426c8a541f9aa3b101d181a4952",
       "version_major": 2,
       "version_minor": 0
      },
      "text/plain": [
       "Running episodes:   0%|          | 0/100 [00:00<?, ?it/s]"
      ]
     },
     "metadata": {},
     "output_type": "display_data"
    },
    {
     "data": {
      "application/vnd.jupyter.widget-view+json": {
       "model_id": "130ab4758b694a929912b6cbacb10046",
       "version_major": 2,
       "version_minor": 0
      },
      "text/plain": [
       "Running episodes:   0%|          | 0/100 [00:00<?, ?it/s]"
      ]
     },
     "metadata": {},
     "output_type": "display_data"
    },
    {
     "data": {
      "application/vnd.jupyter.widget-view+json": {
       "model_id": "962023d4793f41d9b6a345955131972f",
       "version_major": 2,
       "version_minor": 0
      },
      "text/plain": [
       "Running episodes:   0%|          | 0/100 [00:00<?, ?it/s]"
      ]
     },
     "metadata": {},
     "output_type": "display_data"
    },
    {
     "data": {
      "application/vnd.jupyter.widget-view+json": {
       "model_id": "71e42cbf9ce64ffd9afafd7bc7613464",
       "version_major": 2,
       "version_minor": 0
      },
      "text/plain": [
       "Running episodes:   0%|          | 0/100 [00:00<?, ?it/s]"
      ]
     },
     "metadata": {},
     "output_type": "display_data"
    },
    {
     "data": {
      "application/vnd.jupyter.widget-view+json": {
       "model_id": "ee452ad526674d4b8ab44880bea4c400",
       "version_major": 2,
       "version_minor": 0
      },
      "text/plain": [
       "Running episodes:   0%|          | 0/100 [00:00<?, ?it/s]"
      ]
     },
     "metadata": {},
     "output_type": "display_data"
    },
    {
     "data": {
      "application/vnd.jupyter.widget-view+json": {
       "model_id": "352a5832e0e045e0beb9b14f9fb80cae",
       "version_major": 2,
       "version_minor": 0
      },
      "text/plain": [
       "Running episodes:   0%|          | 0/100 [00:00<?, ?it/s]"
      ]
     },
     "metadata": {},
     "output_type": "display_data"
    },
    {
     "data": {
      "application/vnd.jupyter.widget-view+json": {
       "model_id": "227b36e539124bb08c192f50603088b6",
       "version_major": 2,
       "version_minor": 0
      },
      "text/plain": [
       "Running episodes:   0%|          | 0/100 [00:00<?, ?it/s]"
      ]
     },
     "metadata": {},
     "output_type": "display_data"
    },
    {
     "data": {
      "application/vnd.jupyter.widget-view+json": {
       "model_id": "d28d67688aa2472e98d36b5fa0c1802e",
       "version_major": 2,
       "version_minor": 0
      },
      "text/plain": [
       "Running episodes:   0%|          | 0/100 [00:00<?, ?it/s]"
      ]
     },
     "metadata": {},
     "output_type": "display_data"
    },
    {
     "data": {
      "application/vnd.jupyter.widget-view+json": {
       "model_id": "e0a98b7a4886496ba22cde6258b9b2f4",
       "version_major": 2,
       "version_minor": 0
      },
      "text/plain": [
       "Running episodes:   0%|          | 0/100 [00:00<?, ?it/s]"
      ]
     },
     "metadata": {},
     "output_type": "display_data"
    },
    {
     "data": {
      "application/vnd.jupyter.widget-view+json": {
       "model_id": "d716a6cc2eee427aa7d6f06f1fa97393",
       "version_major": 2,
       "version_minor": 0
      },
      "text/plain": [
       "Running episodes:   0%|          | 0/100 [00:00<?, ?it/s]"
      ]
     },
     "metadata": {},
     "output_type": "display_data"
    },
    {
     "data": {
      "application/vnd.jupyter.widget-view+json": {
       "model_id": "1967285a65424321894131fe19e4bdbf",
       "version_major": 2,
       "version_minor": 0
      },
      "text/plain": [
       "Running episodes:   0%|          | 0/100 [00:00<?, ?it/s]"
      ]
     },
     "metadata": {},
     "output_type": "display_data"
    },
    {
     "data": {
      "application/vnd.jupyter.widget-view+json": {
       "model_id": "635d7fdac7cd4375be16c0d29c6b3dc4",
       "version_major": 2,
       "version_minor": 0
      },
      "text/plain": [
       "Running configurations for mixed:   0%|          | 0/100 [00:00<?, ?it/s]"
      ]
     },
     "metadata": {},
     "output_type": "display_data"
    },
    {
     "data": {
      "application/vnd.jupyter.widget-view+json": {
       "model_id": "182912f1b5574abbaa719c765afb5ef4",
       "version_major": 2,
       "version_minor": 0
      },
      "text/plain": [
       "Running episodes:   0%|          | 0/100 [00:00<?, ?it/s]"
      ]
     },
     "metadata": {},
     "output_type": "display_data"
    },
    {
     "data": {
      "application/vnd.jupyter.widget-view+json": {
       "model_id": "54bce1682c274ce2bb654208c78d6f7f",
       "version_major": 2,
       "version_minor": 0
      },
      "text/plain": [
       "Running episodes:   0%|          | 0/100 [00:00<?, ?it/s]"
      ]
     },
     "metadata": {},
     "output_type": "display_data"
    },
    {
     "data": {
      "application/vnd.jupyter.widget-view+json": {
       "model_id": "d96cf108d24a48d2ae98b8bb4f2f28d8",
       "version_major": 2,
       "version_minor": 0
      },
      "text/plain": [
       "Running episodes:   0%|          | 0/100 [00:00<?, ?it/s]"
      ]
     },
     "metadata": {},
     "output_type": "display_data"
    },
    {
     "data": {
      "application/vnd.jupyter.widget-view+json": {
       "model_id": "dd06496c3a6d446490af1954f9952c3c",
       "version_major": 2,
       "version_minor": 0
      },
      "text/plain": [
       "Running episodes:   0%|          | 0/100 [00:00<?, ?it/s]"
      ]
     },
     "metadata": {},
     "output_type": "display_data"
    },
    {
     "data": {
      "application/vnd.jupyter.widget-view+json": {
       "model_id": "36ce131d06764053b4f47293a4ff4efc",
       "version_major": 2,
       "version_minor": 0
      },
      "text/plain": [
       "Running episodes:   0%|          | 0/100 [00:00<?, ?it/s]"
      ]
     },
     "metadata": {},
     "output_type": "display_data"
    },
    {
     "data": {
      "application/vnd.jupyter.widget-view+json": {
       "model_id": "6c89959a0b034e1287af5ebdacf8507a",
       "version_major": 2,
       "version_minor": 0
      },
      "text/plain": [
       "Running episodes:   0%|          | 0/100 [00:00<?, ?it/s]"
      ]
     },
     "metadata": {},
     "output_type": "display_data"
    },
    {
     "data": {
      "application/vnd.jupyter.widget-view+json": {
       "model_id": "3ae27996c48a4e85bef08daa44a3d657",
       "version_major": 2,
       "version_minor": 0
      },
      "text/plain": [
       "Running episodes:   0%|          | 0/100 [00:00<?, ?it/s]"
      ]
     },
     "metadata": {},
     "output_type": "display_data"
    },
    {
     "data": {
      "application/vnd.jupyter.widget-view+json": {
       "model_id": "f26d1d4c27e54aecadf9fa984791f520",
       "version_major": 2,
       "version_minor": 0
      },
      "text/plain": [
       "Running episodes:   0%|          | 0/100 [00:00<?, ?it/s]"
      ]
     },
     "metadata": {},
     "output_type": "display_data"
    },
    {
     "data": {
      "application/vnd.jupyter.widget-view+json": {
       "model_id": "2eaa534321cf4211ad044f8d452c69a5",
       "version_major": 2,
       "version_minor": 0
      },
      "text/plain": [
       "Running episodes:   0%|          | 0/100 [00:00<?, ?it/s]"
      ]
     },
     "metadata": {},
     "output_type": "display_data"
    },
    {
     "data": {
      "application/vnd.jupyter.widget-view+json": {
       "model_id": "3b1124454085401a8cd5c6d5048e26a4",
       "version_major": 2,
       "version_minor": 0
      },
      "text/plain": [
       "Running episodes:   0%|          | 0/100 [00:00<?, ?it/s]"
      ]
     },
     "metadata": {},
     "output_type": "display_data"
    },
    {
     "data": {
      "application/vnd.jupyter.widget-view+json": {
       "model_id": "e36e14e04b6c443bb0f84ea58aa4c33e",
       "version_major": 2,
       "version_minor": 0
      },
      "text/plain": [
       "Running episodes:   0%|          | 0/100 [00:00<?, ?it/s]"
      ]
     },
     "metadata": {},
     "output_type": "display_data"
    },
    {
     "data": {
      "application/vnd.jupyter.widget-view+json": {
       "model_id": "cfc8e9e210f2436eb25adedbe265046d",
       "version_major": 2,
       "version_minor": 0
      },
      "text/plain": [
       "Running episodes:   0%|          | 0/100 [00:00<?, ?it/s]"
      ]
     },
     "metadata": {},
     "output_type": "display_data"
    },
    {
     "data": {
      "application/vnd.jupyter.widget-view+json": {
       "model_id": "d461a4c63e0f4f029d7f84628b027fc7",
       "version_major": 2,
       "version_minor": 0
      },
      "text/plain": [
       "Running episodes:   0%|          | 0/100 [00:00<?, ?it/s]"
      ]
     },
     "metadata": {},
     "output_type": "display_data"
    },
    {
     "data": {
      "application/vnd.jupyter.widget-view+json": {
       "model_id": "74f571ddb7ff4332b9c0491d755bd79b",
       "version_major": 2,
       "version_minor": 0
      },
      "text/plain": [
       "Running episodes:   0%|          | 0/100 [00:00<?, ?it/s]"
      ]
     },
     "metadata": {},
     "output_type": "display_data"
    },
    {
     "data": {
      "application/vnd.jupyter.widget-view+json": {
       "model_id": "4bbafd008caa425fa0fc8d1cd963659a",
       "version_major": 2,
       "version_minor": 0
      },
      "text/plain": [
       "Running episodes:   0%|          | 0/100 [00:00<?, ?it/s]"
      ]
     },
     "metadata": {},
     "output_type": "display_data"
    },
    {
     "data": {
      "application/vnd.jupyter.widget-view+json": {
       "model_id": "6d53602f54cc4acfb89ee836299c2b6d",
       "version_major": 2,
       "version_minor": 0
      },
      "text/plain": [
       "Running episodes:   0%|          | 0/100 [00:00<?, ?it/s]"
      ]
     },
     "metadata": {},
     "output_type": "display_data"
    },
    {
     "data": {
      "application/vnd.jupyter.widget-view+json": {
       "model_id": "c3a97ed04090421e89ab3c8c7737a334",
       "version_major": 2,
       "version_minor": 0
      },
      "text/plain": [
       "Running episodes:   0%|          | 0/100 [00:00<?, ?it/s]"
      ]
     },
     "metadata": {},
     "output_type": "display_data"
    },
    {
     "data": {
      "application/vnd.jupyter.widget-view+json": {
       "model_id": "0ccd7e4441f64fa3b07f77624e0bdd3e",
       "version_major": 2,
       "version_minor": 0
      },
      "text/plain": [
       "Running episodes:   0%|          | 0/100 [00:00<?, ?it/s]"
      ]
     },
     "metadata": {},
     "output_type": "display_data"
    },
    {
     "data": {
      "application/vnd.jupyter.widget-view+json": {
       "model_id": "ca0641c6d40d47a2b4bf5730d4ce1bcc",
       "version_major": 2,
       "version_minor": 0
      },
      "text/plain": [
       "Running episodes:   0%|          | 0/100 [00:00<?, ?it/s]"
      ]
     },
     "metadata": {},
     "output_type": "display_data"
    },
    {
     "data": {
      "application/vnd.jupyter.widget-view+json": {
       "model_id": "f114d016abea4bb2b5ca3f13bd45e338",
       "version_major": 2,
       "version_minor": 0
      },
      "text/plain": [
       "Running episodes:   0%|          | 0/100 [00:00<?, ?it/s]"
      ]
     },
     "metadata": {},
     "output_type": "display_data"
    },
    {
     "data": {
      "application/vnd.jupyter.widget-view+json": {
       "model_id": "0929f38a659b4f39a1a3d6715a1c8a95",
       "version_major": 2,
       "version_minor": 0
      },
      "text/plain": [
       "Running episodes:   0%|          | 0/100 [00:00<?, ?it/s]"
      ]
     },
     "metadata": {},
     "output_type": "display_data"
    },
    {
     "data": {
      "application/vnd.jupyter.widget-view+json": {
       "model_id": "ccc9a9ac861a417eaea688185b46a835",
       "version_major": 2,
       "version_minor": 0
      },
      "text/plain": [
       "Running episodes:   0%|          | 0/100 [00:00<?, ?it/s]"
      ]
     },
     "metadata": {},
     "output_type": "display_data"
    },
    {
     "data": {
      "application/vnd.jupyter.widget-view+json": {
       "model_id": "0cac2f701ec342e7bbb2f0df830328fd",
       "version_major": 2,
       "version_minor": 0
      },
      "text/plain": [
       "Running episodes:   0%|          | 0/100 [00:00<?, ?it/s]"
      ]
     },
     "metadata": {},
     "output_type": "display_data"
    },
    {
     "data": {
      "application/vnd.jupyter.widget-view+json": {
       "model_id": "12591e5951904305a42fff97c43ddb94",
       "version_major": 2,
       "version_minor": 0
      },
      "text/plain": [
       "Running episodes:   0%|          | 0/100 [00:00<?, ?it/s]"
      ]
     },
     "metadata": {},
     "output_type": "display_data"
    },
    {
     "data": {
      "application/vnd.jupyter.widget-view+json": {
       "model_id": "a20fc1f8b3034292872d6543967d4fe6",
       "version_major": 2,
       "version_minor": 0
      },
      "text/plain": [
       "Running episodes:   0%|          | 0/100 [00:00<?, ?it/s]"
      ]
     },
     "metadata": {},
     "output_type": "display_data"
    },
    {
     "data": {
      "application/vnd.jupyter.widget-view+json": {
       "model_id": "aa7183b85050490c8127e98348c79ce3",
       "version_major": 2,
       "version_minor": 0
      },
      "text/plain": [
       "Running episodes:   0%|          | 0/100 [00:00<?, ?it/s]"
      ]
     },
     "metadata": {},
     "output_type": "display_data"
    },
    {
     "data": {
      "application/vnd.jupyter.widget-view+json": {
       "model_id": "cf7c74b0666645f5ba3ac809a1c5d45d",
       "version_major": 2,
       "version_minor": 0
      },
      "text/plain": [
       "Running episodes:   0%|          | 0/100 [00:00<?, ?it/s]"
      ]
     },
     "metadata": {},
     "output_type": "display_data"
    },
    {
     "data": {
      "application/vnd.jupyter.widget-view+json": {
       "model_id": "3df213372a71498ea3cd8329df989b7d",
       "version_major": 2,
       "version_minor": 0
      },
      "text/plain": [
       "Running episodes:   0%|          | 0/100 [00:00<?, ?it/s]"
      ]
     },
     "metadata": {},
     "output_type": "display_data"
    },
    {
     "data": {
      "application/vnd.jupyter.widget-view+json": {
       "model_id": "ed87e9dcd0f943838a0cd1c0950c228d",
       "version_major": 2,
       "version_minor": 0
      },
      "text/plain": [
       "Running episodes:   0%|          | 0/100 [00:00<?, ?it/s]"
      ]
     },
     "metadata": {},
     "output_type": "display_data"
    },
    {
     "data": {
      "application/vnd.jupyter.widget-view+json": {
       "model_id": "90cedbe2e94f4b2eb1b1983a8c4d7b60",
       "version_major": 2,
       "version_minor": 0
      },
      "text/plain": [
       "Running episodes:   0%|          | 0/100 [00:00<?, ?it/s]"
      ]
     },
     "metadata": {},
     "output_type": "display_data"
    },
    {
     "data": {
      "application/vnd.jupyter.widget-view+json": {
       "model_id": "005ed3db45a847568e540d8239ff6b00",
       "version_major": 2,
       "version_minor": 0
      },
      "text/plain": [
       "Running episodes:   0%|          | 0/100 [00:00<?, ?it/s]"
      ]
     },
     "metadata": {},
     "output_type": "display_data"
    },
    {
     "data": {
      "application/vnd.jupyter.widget-view+json": {
       "model_id": "9aa1e8076e1e4254871bb718a7f8f52a",
       "version_major": 2,
       "version_minor": 0
      },
      "text/plain": [
       "Running episodes:   0%|          | 0/100 [00:00<?, ?it/s]"
      ]
     },
     "metadata": {},
     "output_type": "display_data"
    },
    {
     "data": {
      "application/vnd.jupyter.widget-view+json": {
       "model_id": "8f131a3364c94b7785913da1206b23ac",
       "version_major": 2,
       "version_minor": 0
      },
      "text/plain": [
       "Running episodes:   0%|          | 0/100 [00:00<?, ?it/s]"
      ]
     },
     "metadata": {},
     "output_type": "display_data"
    },
    {
     "data": {
      "application/vnd.jupyter.widget-view+json": {
       "model_id": "e2e7bc0f479744999ed4133779bbd5a6",
       "version_major": 2,
       "version_minor": 0
      },
      "text/plain": [
       "Running episodes:   0%|          | 0/100 [00:00<?, ?it/s]"
      ]
     },
     "metadata": {},
     "output_type": "display_data"
    },
    {
     "data": {
      "application/vnd.jupyter.widget-view+json": {
       "model_id": "3ea40a8526264e75ae2f8ba9d8899532",
       "version_major": 2,
       "version_minor": 0
      },
      "text/plain": [
       "Running episodes:   0%|          | 0/100 [00:00<?, ?it/s]"
      ]
     },
     "metadata": {},
     "output_type": "display_data"
    },
    {
     "data": {
      "application/vnd.jupyter.widget-view+json": {
       "model_id": "2817d54ee45943f089c1263cb31ecfe1",
       "version_major": 2,
       "version_minor": 0
      },
      "text/plain": [
       "Running episodes:   0%|          | 0/100 [00:00<?, ?it/s]"
      ]
     },
     "metadata": {},
     "output_type": "display_data"
    },
    {
     "data": {
      "application/vnd.jupyter.widget-view+json": {
       "model_id": "1e1f443016a44dea961c7c8d84ce87cc",
       "version_major": 2,
       "version_minor": 0
      },
      "text/plain": [
       "Running episodes:   0%|          | 0/100 [00:00<?, ?it/s]"
      ]
     },
     "metadata": {},
     "output_type": "display_data"
    },
    {
     "data": {
      "application/vnd.jupyter.widget-view+json": {
       "model_id": "272c338e55e9441984a965548519faf9",
       "version_major": 2,
       "version_minor": 0
      },
      "text/plain": [
       "Running episodes:   0%|          | 0/100 [00:00<?, ?it/s]"
      ]
     },
     "metadata": {},
     "output_type": "display_data"
    },
    {
     "data": {
      "application/vnd.jupyter.widget-view+json": {
       "model_id": "6f640ec8eb52428aa09de6dc67aa49fa",
       "version_major": 2,
       "version_minor": 0
      },
      "text/plain": [
       "Running episodes:   0%|          | 0/100 [00:00<?, ?it/s]"
      ]
     },
     "metadata": {},
     "output_type": "display_data"
    },
    {
     "data": {
      "application/vnd.jupyter.widget-view+json": {
       "model_id": "b016444d1778419097270fd4bb5884fc",
       "version_major": 2,
       "version_minor": 0
      },
      "text/plain": [
       "Running episodes:   0%|          | 0/100 [00:00<?, ?it/s]"
      ]
     },
     "metadata": {},
     "output_type": "display_data"
    },
    {
     "data": {
      "application/vnd.jupyter.widget-view+json": {
       "model_id": "458933d86fa2454f98ed581635918f4d",
       "version_major": 2,
       "version_minor": 0
      },
      "text/plain": [
       "Running episodes:   0%|          | 0/100 [00:00<?, ?it/s]"
      ]
     },
     "metadata": {},
     "output_type": "display_data"
    },
    {
     "data": {
      "application/vnd.jupyter.widget-view+json": {
       "model_id": "eb61f461345244df93b24375bed670c8",
       "version_major": 2,
       "version_minor": 0
      },
      "text/plain": [
       "Running episodes:   0%|          | 0/100 [00:00<?, ?it/s]"
      ]
     },
     "metadata": {},
     "output_type": "display_data"
    },
    {
     "data": {
      "application/vnd.jupyter.widget-view+json": {
       "model_id": "1683e5302d1b48adb91eff1a791f2ac2",
       "version_major": 2,
       "version_minor": 0
      },
      "text/plain": [
       "Running episodes:   0%|          | 0/100 [00:00<?, ?it/s]"
      ]
     },
     "metadata": {},
     "output_type": "display_data"
    },
    {
     "data": {
      "application/vnd.jupyter.widget-view+json": {
       "model_id": "194733c70b394cb48e44995f68f8244c",
       "version_major": 2,
       "version_minor": 0
      },
      "text/plain": [
       "Running episodes:   0%|          | 0/100 [00:00<?, ?it/s]"
      ]
     },
     "metadata": {},
     "output_type": "display_data"
    },
    {
     "data": {
      "application/vnd.jupyter.widget-view+json": {
       "model_id": "00259ce9726a4b21b9c2d81dc62ba2cf",
       "version_major": 2,
       "version_minor": 0
      },
      "text/plain": [
       "Running episodes:   0%|          | 0/100 [00:00<?, ?it/s]"
      ]
     },
     "metadata": {},
     "output_type": "display_data"
    },
    {
     "data": {
      "application/vnd.jupyter.widget-view+json": {
       "model_id": "b5bc6cf4533240c3baecfc67acf3cc87",
       "version_major": 2,
       "version_minor": 0
      },
      "text/plain": [
       "Running episodes:   0%|          | 0/100 [00:00<?, ?it/s]"
      ]
     },
     "metadata": {},
     "output_type": "display_data"
    },
    {
     "data": {
      "application/vnd.jupyter.widget-view+json": {
       "model_id": "4a446a911a38492c871355f10e5d5253",
       "version_major": 2,
       "version_minor": 0
      },
      "text/plain": [
       "Running episodes:   0%|          | 0/100 [00:00<?, ?it/s]"
      ]
     },
     "metadata": {},
     "output_type": "display_data"
    },
    {
     "data": {
      "application/vnd.jupyter.widget-view+json": {
       "model_id": "cd84b5fcee534f0b8155d11c4697c11e",
       "version_major": 2,
       "version_minor": 0
      },
      "text/plain": [
       "Running episodes:   0%|          | 0/100 [00:00<?, ?it/s]"
      ]
     },
     "metadata": {},
     "output_type": "display_data"
    },
    {
     "data": {
      "application/vnd.jupyter.widget-view+json": {
       "model_id": "4c055f00bfbb4caeae41f3f8c8344ed6",
       "version_major": 2,
       "version_minor": 0
      },
      "text/plain": [
       "Running episodes:   0%|          | 0/100 [00:00<?, ?it/s]"
      ]
     },
     "metadata": {},
     "output_type": "display_data"
    },
    {
     "data": {
      "application/vnd.jupyter.widget-view+json": {
       "model_id": "9c5bd53201df4e6298bed03017fd7b73",
       "version_major": 2,
       "version_minor": 0
      },
      "text/plain": [
       "Running episodes:   0%|          | 0/100 [00:00<?, ?it/s]"
      ]
     },
     "metadata": {},
     "output_type": "display_data"
    },
    {
     "data": {
      "application/vnd.jupyter.widget-view+json": {
       "model_id": "255555fe3d66417d8e6f228c90acf225",
       "version_major": 2,
       "version_minor": 0
      },
      "text/plain": [
       "Running episodes:   0%|          | 0/100 [00:00<?, ?it/s]"
      ]
     },
     "metadata": {},
     "output_type": "display_data"
    },
    {
     "data": {
      "application/vnd.jupyter.widget-view+json": {
       "model_id": "d7663e1b749e41dfb0b34b3f6de99ce4",
       "version_major": 2,
       "version_minor": 0
      },
      "text/plain": [
       "Running episodes:   0%|          | 0/100 [00:00<?, ?it/s]"
      ]
     },
     "metadata": {},
     "output_type": "display_data"
    },
    {
     "data": {
      "application/vnd.jupyter.widget-view+json": {
       "model_id": "f45656ae0ca541579720f2a4241f16f5",
       "version_major": 2,
       "version_minor": 0
      },
      "text/plain": [
       "Running episodes:   0%|          | 0/100 [00:00<?, ?it/s]"
      ]
     },
     "metadata": {},
     "output_type": "display_data"
    },
    {
     "data": {
      "application/vnd.jupyter.widget-view+json": {
       "model_id": "5db597ca7ca34e2e909a5f9334bc9c01",
       "version_major": 2,
       "version_minor": 0
      },
      "text/plain": [
       "Running episodes:   0%|          | 0/100 [00:00<?, ?it/s]"
      ]
     },
     "metadata": {},
     "output_type": "display_data"
    },
    {
     "data": {
      "application/vnd.jupyter.widget-view+json": {
       "model_id": "3c566295316a4539800797ab0d7f0bf2",
       "version_major": 2,
       "version_minor": 0
      },
      "text/plain": [
       "Running episodes:   0%|          | 0/100 [00:00<?, ?it/s]"
      ]
     },
     "metadata": {},
     "output_type": "display_data"
    },
    {
     "data": {
      "application/vnd.jupyter.widget-view+json": {
       "model_id": "9e01523ccecc43aaa4cf417ee94e1ac6",
       "version_major": 2,
       "version_minor": 0
      },
      "text/plain": [
       "Running episodes:   0%|          | 0/100 [00:00<?, ?it/s]"
      ]
     },
     "metadata": {},
     "output_type": "display_data"
    },
    {
     "data": {
      "application/vnd.jupyter.widget-view+json": {
       "model_id": "a6b9b816411c4ecba91dba07ef127148",
       "version_major": 2,
       "version_minor": 0
      },
      "text/plain": [
       "Running episodes:   0%|          | 0/100 [00:00<?, ?it/s]"
      ]
     },
     "metadata": {},
     "output_type": "display_data"
    },
    {
     "data": {
      "application/vnd.jupyter.widget-view+json": {
       "model_id": "6e2d6ad4955d4ca185af14697592e952",
       "version_major": 2,
       "version_minor": 0
      },
      "text/plain": [
       "Running episodes:   0%|          | 0/100 [00:00<?, ?it/s]"
      ]
     },
     "metadata": {},
     "output_type": "display_data"
    },
    {
     "data": {
      "application/vnd.jupyter.widget-view+json": {
       "model_id": "e1e65a412515469486595d1ff046c93c",
       "version_major": 2,
       "version_minor": 0
      },
      "text/plain": [
       "Running configurations for random:   0%|          | 0/100 [00:00<?, ?it/s]"
      ]
     },
     "metadata": {},
     "output_type": "display_data"
    },
    {
     "data": {
      "application/vnd.jupyter.widget-view+json": {
       "model_id": "eb6e021429ce404eabba88cb2f492701",
       "version_major": 2,
       "version_minor": 0
      },
      "text/plain": [
       "Running episodes:   0%|          | 0/100 [00:00<?, ?it/s]"
      ]
     },
     "metadata": {},
     "output_type": "display_data"
    },
    {
     "data": {
      "application/vnd.jupyter.widget-view+json": {
       "model_id": "d09a9cc8045848dea90dc1bcb9581764",
       "version_major": 2,
       "version_minor": 0
      },
      "text/plain": [
       "Running episodes:   0%|          | 0/100 [00:00<?, ?it/s]"
      ]
     },
     "metadata": {},
     "output_type": "display_data"
    },
    {
     "data": {
      "application/vnd.jupyter.widget-view+json": {
       "model_id": "5d1be2c6b5d84a819ee2b974f679bd6e",
       "version_major": 2,
       "version_minor": 0
      },
      "text/plain": [
       "Running episodes:   0%|          | 0/100 [00:00<?, ?it/s]"
      ]
     },
     "metadata": {},
     "output_type": "display_data"
    },
    {
     "data": {
      "application/vnd.jupyter.widget-view+json": {
       "model_id": "27540b9222524d8f8ba5efdfd94c13ad",
       "version_major": 2,
       "version_minor": 0
      },
      "text/plain": [
       "Running episodes:   0%|          | 0/100 [00:00<?, ?it/s]"
      ]
     },
     "metadata": {},
     "output_type": "display_data"
    },
    {
     "data": {
      "application/vnd.jupyter.widget-view+json": {
       "model_id": "bdefebbb1f7745dca02c4bba0dd39637",
       "version_major": 2,
       "version_minor": 0
      },
      "text/plain": [
       "Running episodes:   0%|          | 0/100 [00:00<?, ?it/s]"
      ]
     },
     "metadata": {},
     "output_type": "display_data"
    },
    {
     "data": {
      "application/vnd.jupyter.widget-view+json": {
       "model_id": "13372fe3c54b4973b283af08b9cb7375",
       "version_major": 2,
       "version_minor": 0
      },
      "text/plain": [
       "Running episodes:   0%|          | 0/100 [00:00<?, ?it/s]"
      ]
     },
     "metadata": {},
     "output_type": "display_data"
    },
    {
     "data": {
      "application/vnd.jupyter.widget-view+json": {
       "model_id": "c1da11fa2dba41e2ae9cc6108eebf89d",
       "version_major": 2,
       "version_minor": 0
      },
      "text/plain": [
       "Running episodes:   0%|          | 0/100 [00:00<?, ?it/s]"
      ]
     },
     "metadata": {},
     "output_type": "display_data"
    },
    {
     "data": {
      "application/vnd.jupyter.widget-view+json": {
       "model_id": "dea4c343eca641c1962e657f459ca84c",
       "version_major": 2,
       "version_minor": 0
      },
      "text/plain": [
       "Running episodes:   0%|          | 0/100 [00:00<?, ?it/s]"
      ]
     },
     "metadata": {},
     "output_type": "display_data"
    },
    {
     "data": {
      "application/vnd.jupyter.widget-view+json": {
       "model_id": "db3fc797b02e43078549b07dac326baf",
       "version_major": 2,
       "version_minor": 0
      },
      "text/plain": [
       "Running episodes:   0%|          | 0/100 [00:00<?, ?it/s]"
      ]
     },
     "metadata": {},
     "output_type": "display_data"
    },
    {
     "data": {
      "application/vnd.jupyter.widget-view+json": {
       "model_id": "71a4fba3ee564c52b3bd5ff57368da2c",
       "version_major": 2,
       "version_minor": 0
      },
      "text/plain": [
       "Running episodes:   0%|          | 0/100 [00:00<?, ?it/s]"
      ]
     },
     "metadata": {},
     "output_type": "display_data"
    },
    {
     "data": {
      "application/vnd.jupyter.widget-view+json": {
       "model_id": "7e760ce50fb444639174708851ac0807",
       "version_major": 2,
       "version_minor": 0
      },
      "text/plain": [
       "Running episodes:   0%|          | 0/100 [00:00<?, ?it/s]"
      ]
     },
     "metadata": {},
     "output_type": "display_data"
    },
    {
     "data": {
      "application/vnd.jupyter.widget-view+json": {
       "model_id": "79edb68b5fac40269c8e5d9e2690aa41",
       "version_major": 2,
       "version_minor": 0
      },
      "text/plain": [
       "Running episodes:   0%|          | 0/100 [00:00<?, ?it/s]"
      ]
     },
     "metadata": {},
     "output_type": "display_data"
    },
    {
     "data": {
      "application/vnd.jupyter.widget-view+json": {
       "model_id": "133326a694af4b008b9f54142aad9d44",
       "version_major": 2,
       "version_minor": 0
      },
      "text/plain": [
       "Running episodes:   0%|          | 0/100 [00:00<?, ?it/s]"
      ]
     },
     "metadata": {},
     "output_type": "display_data"
    },
    {
     "data": {
      "application/vnd.jupyter.widget-view+json": {
       "model_id": "1c29f8363af2427e9a06d6f9678745a4",
       "version_major": 2,
       "version_minor": 0
      },
      "text/plain": [
       "Running episodes:   0%|          | 0/100 [00:00<?, ?it/s]"
      ]
     },
     "metadata": {},
     "output_type": "display_data"
    },
    {
     "data": {
      "application/vnd.jupyter.widget-view+json": {
       "model_id": "48acbe4a12324a7ba3a92053433d6ec3",
       "version_major": 2,
       "version_minor": 0
      },
      "text/plain": [
       "Running episodes:   0%|          | 0/100 [00:00<?, ?it/s]"
      ]
     },
     "metadata": {},
     "output_type": "display_data"
    },
    {
     "data": {
      "application/vnd.jupyter.widget-view+json": {
       "model_id": "81ebe20c39574910a8ea4e8cb90b94b9",
       "version_major": 2,
       "version_minor": 0
      },
      "text/plain": [
       "Running episodes:   0%|          | 0/100 [00:00<?, ?it/s]"
      ]
     },
     "metadata": {},
     "output_type": "display_data"
    },
    {
     "data": {
      "application/vnd.jupyter.widget-view+json": {
       "model_id": "2fef25cb7fc64bf8ac23dd15998a69c8",
       "version_major": 2,
       "version_minor": 0
      },
      "text/plain": [
       "Running episodes:   0%|          | 0/100 [00:00<?, ?it/s]"
      ]
     },
     "metadata": {},
     "output_type": "display_data"
    },
    {
     "data": {
      "application/vnd.jupyter.widget-view+json": {
       "model_id": "d59fed769702445daa256bb2ab37bcf0",
       "version_major": 2,
       "version_minor": 0
      },
      "text/plain": [
       "Running episodes:   0%|          | 0/100 [00:00<?, ?it/s]"
      ]
     },
     "metadata": {},
     "output_type": "display_data"
    },
    {
     "data": {
      "application/vnd.jupyter.widget-view+json": {
       "model_id": "d95e8d5c68834094ae96a3b247c5544d",
       "version_major": 2,
       "version_minor": 0
      },
      "text/plain": [
       "Running episodes:   0%|          | 0/100 [00:00<?, ?it/s]"
      ]
     },
     "metadata": {},
     "output_type": "display_data"
    },
    {
     "data": {
      "application/vnd.jupyter.widget-view+json": {
       "model_id": "9c1bd95a21394517af6a46987ecb54e6",
       "version_major": 2,
       "version_minor": 0
      },
      "text/plain": [
       "Running episodes:   0%|          | 0/100 [00:00<?, ?it/s]"
      ]
     },
     "metadata": {},
     "output_type": "display_data"
    },
    {
     "data": {
      "application/vnd.jupyter.widget-view+json": {
       "model_id": "ec8d04bc12e94843af8faae77c329e9e",
       "version_major": 2,
       "version_minor": 0
      },
      "text/plain": [
       "Running episodes:   0%|          | 0/100 [00:00<?, ?it/s]"
      ]
     },
     "metadata": {},
     "output_type": "display_data"
    },
    {
     "data": {
      "application/vnd.jupyter.widget-view+json": {
       "model_id": "afc1a13bc1bc4d5fa7034eaecaf4ed4e",
       "version_major": 2,
       "version_minor": 0
      },
      "text/plain": [
       "Running episodes:   0%|          | 0/100 [00:00<?, ?it/s]"
      ]
     },
     "metadata": {},
     "output_type": "display_data"
    },
    {
     "data": {
      "application/vnd.jupyter.widget-view+json": {
       "model_id": "bd47edafdd0c4105840a0695894d8d1c",
       "version_major": 2,
       "version_minor": 0
      },
      "text/plain": [
       "Running episodes:   0%|          | 0/100 [00:00<?, ?it/s]"
      ]
     },
     "metadata": {},
     "output_type": "display_data"
    },
    {
     "data": {
      "application/vnd.jupyter.widget-view+json": {
       "model_id": "97480e5b68e9467dacce34ea4d93a1c5",
       "version_major": 2,
       "version_minor": 0
      },
      "text/plain": [
       "Running episodes:   0%|          | 0/100 [00:00<?, ?it/s]"
      ]
     },
     "metadata": {},
     "output_type": "display_data"
    },
    {
     "data": {
      "application/vnd.jupyter.widget-view+json": {
       "model_id": "e66c82195f09416481228386c0994770",
       "version_major": 2,
       "version_minor": 0
      },
      "text/plain": [
       "Running episodes:   0%|          | 0/100 [00:00<?, ?it/s]"
      ]
     },
     "metadata": {},
     "output_type": "display_data"
    },
    {
     "data": {
      "application/vnd.jupyter.widget-view+json": {
       "model_id": "b8e6be3a0ac84897901cb266cb2b78ec",
       "version_major": 2,
       "version_minor": 0
      },
      "text/plain": [
       "Running episodes:   0%|          | 0/100 [00:00<?, ?it/s]"
      ]
     },
     "metadata": {},
     "output_type": "display_data"
    },
    {
     "data": {
      "application/vnd.jupyter.widget-view+json": {
       "model_id": "76bd840c56ad49358d03ae4c776f8564",
       "version_major": 2,
       "version_minor": 0
      },
      "text/plain": [
       "Running episodes:   0%|          | 0/100 [00:00<?, ?it/s]"
      ]
     },
     "metadata": {},
     "output_type": "display_data"
    },
    {
     "data": {
      "application/vnd.jupyter.widget-view+json": {
       "model_id": "af49295a99a94a539ba22e5dce85fd26",
       "version_major": 2,
       "version_minor": 0
      },
      "text/plain": [
       "Running episodes:   0%|          | 0/100 [00:00<?, ?it/s]"
      ]
     },
     "metadata": {},
     "output_type": "display_data"
    },
    {
     "data": {
      "application/vnd.jupyter.widget-view+json": {
       "model_id": "3ea9403e7b3a4ccc951c5a38ab197514",
       "version_major": 2,
       "version_minor": 0
      },
      "text/plain": [
       "Running episodes:   0%|          | 0/100 [00:00<?, ?it/s]"
      ]
     },
     "metadata": {},
     "output_type": "display_data"
    },
    {
     "data": {
      "application/vnd.jupyter.widget-view+json": {
       "model_id": "3015198d727d48a6a521a41d66bd36fa",
       "version_major": 2,
       "version_minor": 0
      },
      "text/plain": [
       "Running episodes:   0%|          | 0/100 [00:00<?, ?it/s]"
      ]
     },
     "metadata": {},
     "output_type": "display_data"
    },
    {
     "data": {
      "application/vnd.jupyter.widget-view+json": {
       "model_id": "e491a013a5944db68b14d6129583334f",
       "version_major": 2,
       "version_minor": 0
      },
      "text/plain": [
       "Running episodes:   0%|          | 0/100 [00:00<?, ?it/s]"
      ]
     },
     "metadata": {},
     "output_type": "display_data"
    },
    {
     "data": {
      "application/vnd.jupyter.widget-view+json": {
       "model_id": "d6e1199ff6264ee7b5a21d833f502102",
       "version_major": 2,
       "version_minor": 0
      },
      "text/plain": [
       "Running episodes:   0%|          | 0/100 [00:00<?, ?it/s]"
      ]
     },
     "metadata": {},
     "output_type": "display_data"
    },
    {
     "data": {
      "application/vnd.jupyter.widget-view+json": {
       "model_id": "5d12614e839f47dd900f736426745325",
       "version_major": 2,
       "version_minor": 0
      },
      "text/plain": [
       "Running episodes:   0%|          | 0/100 [00:00<?, ?it/s]"
      ]
     },
     "metadata": {},
     "output_type": "display_data"
    },
    {
     "data": {
      "application/vnd.jupyter.widget-view+json": {
       "model_id": "86129fe1edec4bb5944be2056716f658",
       "version_major": 2,
       "version_minor": 0
      },
      "text/plain": [
       "Running episodes:   0%|          | 0/100 [00:00<?, ?it/s]"
      ]
     },
     "metadata": {},
     "output_type": "display_data"
    },
    {
     "data": {
      "application/vnd.jupyter.widget-view+json": {
       "model_id": "6f253b7f4cee469cbf9f0406badd289c",
       "version_major": 2,
       "version_minor": 0
      },
      "text/plain": [
       "Running episodes:   0%|          | 0/100 [00:00<?, ?it/s]"
      ]
     },
     "metadata": {},
     "output_type": "display_data"
    },
    {
     "data": {
      "application/vnd.jupyter.widget-view+json": {
       "model_id": "f8245d0655bc4abab0b9f8bc06b31158",
       "version_major": 2,
       "version_minor": 0
      },
      "text/plain": [
       "Running episodes:   0%|          | 0/100 [00:00<?, ?it/s]"
      ]
     },
     "metadata": {},
     "output_type": "display_data"
    },
    {
     "data": {
      "application/vnd.jupyter.widget-view+json": {
       "model_id": "ecaa6fceda9f41ffa205a75866600dfb",
       "version_major": 2,
       "version_minor": 0
      },
      "text/plain": [
       "Running episodes:   0%|          | 0/100 [00:00<?, ?it/s]"
      ]
     },
     "metadata": {},
     "output_type": "display_data"
    },
    {
     "data": {
      "application/vnd.jupyter.widget-view+json": {
       "model_id": "a0e4424aee47427999b348b1e0f750d8",
       "version_major": 2,
       "version_minor": 0
      },
      "text/plain": [
       "Running episodes:   0%|          | 0/100 [00:00<?, ?it/s]"
      ]
     },
     "metadata": {},
     "output_type": "display_data"
    },
    {
     "data": {
      "application/vnd.jupyter.widget-view+json": {
       "model_id": "1ca4949c4ebc47c9956ef3cf8b0d4283",
       "version_major": 2,
       "version_minor": 0
      },
      "text/plain": [
       "Running episodes:   0%|          | 0/100 [00:00<?, ?it/s]"
      ]
     },
     "metadata": {},
     "output_type": "display_data"
    },
    {
     "data": {
      "application/vnd.jupyter.widget-view+json": {
       "model_id": "850e171f88564506bfb4b6a51deaded5",
       "version_major": 2,
       "version_minor": 0
      },
      "text/plain": [
       "Running episodes:   0%|          | 0/100 [00:00<?, ?it/s]"
      ]
     },
     "metadata": {},
     "output_type": "display_data"
    },
    {
     "data": {
      "application/vnd.jupyter.widget-view+json": {
       "model_id": "2dac534053f74d5d915dbb7d080aa9d4",
       "version_major": 2,
       "version_minor": 0
      },
      "text/plain": [
       "Running episodes:   0%|          | 0/100 [00:00<?, ?it/s]"
      ]
     },
     "metadata": {},
     "output_type": "display_data"
    },
    {
     "data": {
      "application/vnd.jupyter.widget-view+json": {
       "model_id": "b58f36fea1d04498b6a8f253c98b4df5",
       "version_major": 2,
       "version_minor": 0
      },
      "text/plain": [
       "Running episodes:   0%|          | 0/100 [00:00<?, ?it/s]"
      ]
     },
     "metadata": {},
     "output_type": "display_data"
    },
    {
     "data": {
      "application/vnd.jupyter.widget-view+json": {
       "model_id": "308c43461b5e4b7eae095a7291979a9d",
       "version_major": 2,
       "version_minor": 0
      },
      "text/plain": [
       "Running episodes:   0%|          | 0/100 [00:00<?, ?it/s]"
      ]
     },
     "metadata": {},
     "output_type": "display_data"
    },
    {
     "data": {
      "application/vnd.jupyter.widget-view+json": {
       "model_id": "2239a996a0644440b1fddaa66be736ae",
       "version_major": 2,
       "version_minor": 0
      },
      "text/plain": [
       "Running episodes:   0%|          | 0/100 [00:00<?, ?it/s]"
      ]
     },
     "metadata": {},
     "output_type": "display_data"
    },
    {
     "data": {
      "application/vnd.jupyter.widget-view+json": {
       "model_id": "4f97a041d08b46e3a97aac12f43696c6",
       "version_major": 2,
       "version_minor": 0
      },
      "text/plain": [
       "Running episodes:   0%|          | 0/100 [00:00<?, ?it/s]"
      ]
     },
     "metadata": {},
     "output_type": "display_data"
    },
    {
     "data": {
      "application/vnd.jupyter.widget-view+json": {
       "model_id": "5a3c16b4a5a843a5ae0504d8119f4a29",
       "version_major": 2,
       "version_minor": 0
      },
      "text/plain": [
       "Running episodes:   0%|          | 0/100 [00:00<?, ?it/s]"
      ]
     },
     "metadata": {},
     "output_type": "display_data"
    },
    {
     "data": {
      "application/vnd.jupyter.widget-view+json": {
       "model_id": "ad0ab8427c5847759e7ab8048112b650",
       "version_major": 2,
       "version_minor": 0
      },
      "text/plain": [
       "Running episodes:   0%|          | 0/100 [00:00<?, ?it/s]"
      ]
     },
     "metadata": {},
     "output_type": "display_data"
    },
    {
     "data": {
      "application/vnd.jupyter.widget-view+json": {
       "model_id": "40e3c998595045338007bd4b84e9afb0",
       "version_major": 2,
       "version_minor": 0
      },
      "text/plain": [
       "Running episodes:   0%|          | 0/100 [00:00<?, ?it/s]"
      ]
     },
     "metadata": {},
     "output_type": "display_data"
    },
    {
     "data": {
      "application/vnd.jupyter.widget-view+json": {
       "model_id": "7c91779467a6429098d4e1e6ffe4a8d4",
       "version_major": 2,
       "version_minor": 0
      },
      "text/plain": [
       "Running episodes:   0%|          | 0/100 [00:00<?, ?it/s]"
      ]
     },
     "metadata": {},
     "output_type": "display_data"
    },
    {
     "data": {
      "application/vnd.jupyter.widget-view+json": {
       "model_id": "c122f468d9f14c57ab9b8b6d81122b87",
       "version_major": 2,
       "version_minor": 0
      },
      "text/plain": [
       "Running episodes:   0%|          | 0/100 [00:00<?, ?it/s]"
      ]
     },
     "metadata": {},
     "output_type": "display_data"
    },
    {
     "data": {
      "application/vnd.jupyter.widget-view+json": {
       "model_id": "680b8fb9ba0046cf9b0c19654231426c",
       "version_major": 2,
       "version_minor": 0
      },
      "text/plain": [
       "Running episodes:   0%|          | 0/100 [00:00<?, ?it/s]"
      ]
     },
     "metadata": {},
     "output_type": "display_data"
    },
    {
     "data": {
      "application/vnd.jupyter.widget-view+json": {
       "model_id": "347be4ad43fc45b68f1a3d9d1a7447e3",
       "version_major": 2,
       "version_minor": 0
      },
      "text/plain": [
       "Running episodes:   0%|          | 0/100 [00:00<?, ?it/s]"
      ]
     },
     "metadata": {},
     "output_type": "display_data"
    },
    {
     "data": {
      "application/vnd.jupyter.widget-view+json": {
       "model_id": "31788496047043b8817aabe47e8e1873",
       "version_major": 2,
       "version_minor": 0
      },
      "text/plain": [
       "Running episodes:   0%|          | 0/100 [00:00<?, ?it/s]"
      ]
     },
     "metadata": {},
     "output_type": "display_data"
    },
    {
     "data": {
      "application/vnd.jupyter.widget-view+json": {
       "model_id": "5b0999522fe34014b5fac5da3ba1506e",
       "version_major": 2,
       "version_minor": 0
      },
      "text/plain": [
       "Running episodes:   0%|          | 0/100 [00:00<?, ?it/s]"
      ]
     },
     "metadata": {},
     "output_type": "display_data"
    },
    {
     "data": {
      "application/vnd.jupyter.widget-view+json": {
       "model_id": "e8a7460ebcdd46f5ab7e4811dec08b11",
       "version_major": 2,
       "version_minor": 0
      },
      "text/plain": [
       "Running episodes:   0%|          | 0/100 [00:00<?, ?it/s]"
      ]
     },
     "metadata": {},
     "output_type": "display_data"
    },
    {
     "data": {
      "application/vnd.jupyter.widget-view+json": {
       "model_id": "f71ed0ab22c549c79feec0c8f7bf93e2",
       "version_major": 2,
       "version_minor": 0
      },
      "text/plain": [
       "Running episodes:   0%|          | 0/100 [00:00<?, ?it/s]"
      ]
     },
     "metadata": {},
     "output_type": "display_data"
    },
    {
     "data": {
      "application/vnd.jupyter.widget-view+json": {
       "model_id": "3587d2f2d7244e7b801a98c1255dc05c",
       "version_major": 2,
       "version_minor": 0
      },
      "text/plain": [
       "Running episodes:   0%|          | 0/100 [00:00<?, ?it/s]"
      ]
     },
     "metadata": {},
     "output_type": "display_data"
    },
    {
     "data": {
      "application/vnd.jupyter.widget-view+json": {
       "model_id": "bc8d61ce44584436a7354a6e26179be9",
       "version_major": 2,
       "version_minor": 0
      },
      "text/plain": [
       "Running episodes:   0%|          | 0/100 [00:00<?, ?it/s]"
      ]
     },
     "metadata": {},
     "output_type": "display_data"
    },
    {
     "data": {
      "application/vnd.jupyter.widget-view+json": {
       "model_id": "d7a47fb33b85452684d3e06d401807c1",
       "version_major": 2,
       "version_minor": 0
      },
      "text/plain": [
       "Running episodes:   0%|          | 0/100 [00:00<?, ?it/s]"
      ]
     },
     "metadata": {},
     "output_type": "display_data"
    },
    {
     "data": {
      "application/vnd.jupyter.widget-view+json": {
       "model_id": "65534aaa674145b4b9fe5bcfaf3aa630",
       "version_major": 2,
       "version_minor": 0
      },
      "text/plain": [
       "Running episodes:   0%|          | 0/100 [00:00<?, ?it/s]"
      ]
     },
     "metadata": {},
     "output_type": "display_data"
    },
    {
     "data": {
      "application/vnd.jupyter.widget-view+json": {
       "model_id": "801c5705e8e2436b80d9968504407afa",
       "version_major": 2,
       "version_minor": 0
      },
      "text/plain": [
       "Running episodes:   0%|          | 0/100 [00:00<?, ?it/s]"
      ]
     },
     "metadata": {},
     "output_type": "display_data"
    },
    {
     "data": {
      "application/vnd.jupyter.widget-view+json": {
       "model_id": "9c7cebc756ca4afbb5f9e1fb1d2bdfeb",
       "version_major": 2,
       "version_minor": 0
      },
      "text/plain": [
       "Running episodes:   0%|          | 0/100 [00:00<?, ?it/s]"
      ]
     },
     "metadata": {},
     "output_type": "display_data"
    },
    {
     "data": {
      "application/vnd.jupyter.widget-view+json": {
       "model_id": "dacc897782ce4bea9ac8ead58bee9ac0",
       "version_major": 2,
       "version_minor": 0
      },
      "text/plain": [
       "Running episodes:   0%|          | 0/100 [00:00<?, ?it/s]"
      ]
     },
     "metadata": {},
     "output_type": "display_data"
    },
    {
     "data": {
      "application/vnd.jupyter.widget-view+json": {
       "model_id": "06042f7ac588494c922eb507507bc79e",
       "version_major": 2,
       "version_minor": 0
      },
      "text/plain": [
       "Running episodes:   0%|          | 0/100 [00:00<?, ?it/s]"
      ]
     },
     "metadata": {},
     "output_type": "display_data"
    },
    {
     "data": {
      "application/vnd.jupyter.widget-view+json": {
       "model_id": "4d9fff13baa14ec58420518b07537721",
       "version_major": 2,
       "version_minor": 0
      },
      "text/plain": [
       "Running episodes:   0%|          | 0/100 [00:00<?, ?it/s]"
      ]
     },
     "metadata": {},
     "output_type": "display_data"
    },
    {
     "data": {
      "application/vnd.jupyter.widget-view+json": {
       "model_id": "7118d38165d3454bad6e320b08e39987",
       "version_major": 2,
       "version_minor": 0
      },
      "text/plain": [
       "Running episodes:   0%|          | 0/100 [00:00<?, ?it/s]"
      ]
     },
     "metadata": {},
     "output_type": "display_data"
    },
    {
     "data": {
      "application/vnd.jupyter.widget-view+json": {
       "model_id": "84a8e86a65ed4679b0421f3ecee9466d",
       "version_major": 2,
       "version_minor": 0
      },
      "text/plain": [
       "Running episodes:   0%|          | 0/100 [00:00<?, ?it/s]"
      ]
     },
     "metadata": {},
     "output_type": "display_data"
    },
    {
     "data": {
      "application/vnd.jupyter.widget-view+json": {
       "model_id": "35d64ee0f30e4cc4a45823c9bf2c52d9",
       "version_major": 2,
       "version_minor": 0
      },
      "text/plain": [
       "Running episodes:   0%|          | 0/100 [00:00<?, ?it/s]"
      ]
     },
     "metadata": {},
     "output_type": "display_data"
    },
    {
     "data": {
      "application/vnd.jupyter.widget-view+json": {
       "model_id": "b6e1404c925a47a5a14b9a7149661d11",
       "version_major": 2,
       "version_minor": 0
      },
      "text/plain": [
       "Running episodes:   0%|          | 0/100 [00:00<?, ?it/s]"
      ]
     },
     "metadata": {},
     "output_type": "display_data"
    },
    {
     "data": {
      "application/vnd.jupyter.widget-view+json": {
       "model_id": "3701ef7d11ef42f9b440fcbe05769c09",
       "version_major": 2,
       "version_minor": 0
      },
      "text/plain": [
       "Running episodes:   0%|          | 0/100 [00:00<?, ?it/s]"
      ]
     },
     "metadata": {},
     "output_type": "display_data"
    },
    {
     "data": {
      "application/vnd.jupyter.widget-view+json": {
       "model_id": "e24ebb8582ad4e2e9a356247966d76eb",
       "version_major": 2,
       "version_minor": 0
      },
      "text/plain": [
       "Running episodes:   0%|          | 0/100 [00:00<?, ?it/s]"
      ]
     },
     "metadata": {},
     "output_type": "display_data"
    },
    {
     "data": {
      "application/vnd.jupyter.widget-view+json": {
       "model_id": "f917754956954f4a98ae894ace84440e",
       "version_major": 2,
       "version_minor": 0
      },
      "text/plain": [
       "Running episodes:   0%|          | 0/100 [00:00<?, ?it/s]"
      ]
     },
     "metadata": {},
     "output_type": "display_data"
    },
    {
     "data": {
      "application/vnd.jupyter.widget-view+json": {
       "model_id": "41820bc70dad4688a8c1c07cdae57dd5",
       "version_major": 2,
       "version_minor": 0
      },
      "text/plain": [
       "Running episodes:   0%|          | 0/100 [00:00<?, ?it/s]"
      ]
     },
     "metadata": {},
     "output_type": "display_data"
    },
    {
     "data": {
      "application/vnd.jupyter.widget-view+json": {
       "model_id": "bc254cedbe9a4d5e91d633648aab9c29",
       "version_major": 2,
       "version_minor": 0
      },
      "text/plain": [
       "Running episodes:   0%|          | 0/100 [00:00<?, ?it/s]"
      ]
     },
     "metadata": {},
     "output_type": "display_data"
    },
    {
     "data": {
      "application/vnd.jupyter.widget-view+json": {
       "model_id": "d413bb467cc349e0a13dec7a4a130d58",
       "version_major": 2,
       "version_minor": 0
      },
      "text/plain": [
       "Running episodes:   0%|          | 0/100 [00:00<?, ?it/s]"
      ]
     },
     "metadata": {},
     "output_type": "display_data"
    },
    {
     "data": {
      "application/vnd.jupyter.widget-view+json": {
       "model_id": "b569d3d2092249c996b101c733df8aaa",
       "version_major": 2,
       "version_minor": 0
      },
      "text/plain": [
       "Running episodes:   0%|          | 0/100 [00:00<?, ?it/s]"
      ]
     },
     "metadata": {},
     "output_type": "display_data"
    },
    {
     "data": {
      "application/vnd.jupyter.widget-view+json": {
       "model_id": "3c212c43cd404bfd9cb18c9a8d93a5fb",
       "version_major": 2,
       "version_minor": 0
      },
      "text/plain": [
       "Running episodes:   0%|          | 0/100 [00:00<?, ?it/s]"
      ]
     },
     "metadata": {},
     "output_type": "display_data"
    },
    {
     "data": {
      "application/vnd.jupyter.widget-view+json": {
       "model_id": "cd5f0890e1c64b65aa58812d7dec00a0",
       "version_major": 2,
       "version_minor": 0
      },
      "text/plain": [
       "Running episodes:   0%|          | 0/100 [00:00<?, ?it/s]"
      ]
     },
     "metadata": {},
     "output_type": "display_data"
    },
    {
     "data": {
      "application/vnd.jupyter.widget-view+json": {
       "model_id": "c67eb53c66cb439dad608e54f8f0e138",
       "version_major": 2,
       "version_minor": 0
      },
      "text/plain": [
       "Running episodes:   0%|          | 0/100 [00:00<?, ?it/s]"
      ]
     },
     "metadata": {},
     "output_type": "display_data"
    },
    {
     "data": {
      "application/vnd.jupyter.widget-view+json": {
       "model_id": "8d96f5e712f447ad9c0d2d0ae6c115a1",
       "version_major": 2,
       "version_minor": 0
      },
      "text/plain": [
       "Running episodes:   0%|          | 0/100 [00:00<?, ?it/s]"
      ]
     },
     "metadata": {},
     "output_type": "display_data"
    },
    {
     "data": {
      "application/vnd.jupyter.widget-view+json": {
       "model_id": "bbd245b25a3849cb8345685dd47226c7",
       "version_major": 2,
       "version_minor": 0
      },
      "text/plain": [
       "Running episodes:   0%|          | 0/100 [00:00<?, ?it/s]"
      ]
     },
     "metadata": {},
     "output_type": "display_data"
    },
    {
     "data": {
      "application/vnd.jupyter.widget-view+json": {
       "model_id": "5234c9569c9f4385b9658475188e75bf",
       "version_major": 2,
       "version_minor": 0
      },
      "text/plain": [
       "Running episodes:   0%|          | 0/100 [00:00<?, ?it/s]"
      ]
     },
     "metadata": {},
     "output_type": "display_data"
    },
    {
     "data": {
      "application/vnd.jupyter.widget-view+json": {
       "model_id": "e597f99688c44fd18d398c1977b8fa65",
       "version_major": 2,
       "version_minor": 0
      },
      "text/plain": [
       "Running episodes:   0%|          | 0/100 [00:00<?, ?it/s]"
      ]
     },
     "metadata": {},
     "output_type": "display_data"
    },
    {
     "data": {
      "application/vnd.jupyter.widget-view+json": {
       "model_id": "7f682814e0bf465ea8f7804010feacfc",
       "version_major": 2,
       "version_minor": 0
      },
      "text/plain": [
       "Running episodes:   0%|          | 0/100 [00:00<?, ?it/s]"
      ]
     },
     "metadata": {},
     "output_type": "display_data"
    },
    {
     "data": {
      "application/vnd.jupyter.widget-view+json": {
       "model_id": "6b326c7e6ab940c18bd6c59f6f5c5e78",
       "version_major": 2,
       "version_minor": 0
      },
      "text/plain": [
       "Running episodes:   0%|          | 0/100 [00:00<?, ?it/s]"
      ]
     },
     "metadata": {},
     "output_type": "display_data"
    },
    {
     "data": {
      "application/vnd.jupyter.widget-view+json": {
       "model_id": "41005bd98eeb41c9acf806e8272c9d4a",
       "version_major": 2,
       "version_minor": 0
      },
      "text/plain": [
       "Running episodes:   0%|          | 0/100 [00:00<?, ?it/s]"
      ]
     },
     "metadata": {},
     "output_type": "display_data"
    },
    {
     "data": {
      "application/vnd.jupyter.widget-view+json": {
       "model_id": "6e2355e1a7b849978a01a49824160c11",
       "version_major": 2,
       "version_minor": 0
      },
      "text/plain": [
       "Running episodes:   0%|          | 0/100 [00:00<?, ?it/s]"
      ]
     },
     "metadata": {},
     "output_type": "display_data"
    },
    {
     "data": {
      "application/vnd.jupyter.widget-view+json": {
       "model_id": "86bd882b41784e3484a628b2a72a20a2",
       "version_major": 2,
       "version_minor": 0
      },
      "text/plain": [
       "Running episodes:   0%|          | 0/100 [00:00<?, ?it/s]"
      ]
     },
     "metadata": {},
     "output_type": "display_data"
    },
    {
     "data": {
      "application/vnd.jupyter.widget-view+json": {
       "model_id": "3f7fa1dfc956459ebf8302baa3002ad4",
       "version_major": 2,
       "version_minor": 0
      },
      "text/plain": [
       "Running episodes:   0%|          | 0/100 [00:00<?, ?it/s]"
      ]
     },
     "metadata": {},
     "output_type": "display_data"
    },
    {
     "data": {
      "application/vnd.jupyter.widget-view+json": {
       "model_id": "9aa903eba1f041b89e5da7af5da59b87",
       "version_major": 2,
       "version_minor": 0
      },
      "text/plain": [
       "Running episodes:   0%|          | 0/100 [00:00<?, ?it/s]"
      ]
     },
     "metadata": {},
     "output_type": "display_data"
    },
    {
     "data": {
      "application/vnd.jupyter.widget-view+json": {
       "model_id": "63078b1976874d4c8d6aaae3ffef9d7a",
       "version_major": 2,
       "version_minor": 0
      },
      "text/plain": [
       "Running episodes:   0%|          | 0/100 [00:00<?, ?it/s]"
      ]
     },
     "metadata": {},
     "output_type": "display_data"
    },
    {
     "data": {
      "application/vnd.jupyter.widget-view+json": {
       "model_id": "8c515168defa4c61ab483ff885f59cde",
       "version_major": 2,
       "version_minor": 0
      },
      "text/plain": [
       "Running episodes:   0%|          | 0/100 [00:00<?, ?it/s]"
      ]
     },
     "metadata": {},
     "output_type": "display_data"
    },
    {
     "data": {
      "application/vnd.jupyter.widget-view+json": {
       "model_id": "937f82f07e6d42b3901d9ae25be1bc68",
       "version_major": 2,
       "version_minor": 0
      },
      "text/plain": [
       "Running episodes:   0%|          | 0/100 [00:00<?, ?it/s]"
      ]
     },
     "metadata": {},
     "output_type": "display_data"
    },
    {
     "data": {
      "application/vnd.jupyter.widget-view+json": {
       "model_id": "98141e6806fa405a9f374500dcea723e",
       "version_major": 2,
       "version_minor": 0
      },
      "text/plain": [
       "Running episodes:   0%|          | 0/100 [00:00<?, ?it/s]"
      ]
     },
     "metadata": {},
     "output_type": "display_data"
    },
    {
     "data": {
      "application/vnd.jupyter.widget-view+json": {
       "model_id": "b5a39b4931f748e0970e121401dbee3a",
       "version_major": 2,
       "version_minor": 0
      },
      "text/plain": [
       "Running episodes:   0%|          | 0/100 [00:00<?, ?it/s]"
      ]
     },
     "metadata": {},
     "output_type": "display_data"
    },
    {
     "data": {
      "application/vnd.jupyter.widget-view+json": {
       "model_id": "e261b498d4ab4978ad9fec6d14e6650c",
       "version_major": 2,
       "version_minor": 0
      },
      "text/plain": [
       "Running episodes:   0%|          | 0/100 [00:00<?, ?it/s]"
      ]
     },
     "metadata": {},
     "output_type": "display_data"
    },
    {
     "data": {
      "application/vnd.jupyter.widget-view+json": {
       "model_id": "7be8d08e1da04851af9292d6ab8f8408",
       "version_major": 2,
       "version_minor": 0
      },
      "text/plain": [
       "Running episodes:   0%|          | 0/100 [00:00<?, ?it/s]"
      ]
     },
     "metadata": {},
     "output_type": "display_data"
    },
    {
     "data": {
      "application/vnd.jupyter.widget-view+json": {
       "model_id": "d3560127fa8f4dadae368e9a114b512a",
       "version_major": 2,
       "version_minor": 0
      },
      "text/plain": [
       "Running episodes:   0%|          | 0/100 [00:00<?, ?it/s]"
      ]
     },
     "metadata": {},
     "output_type": "display_data"
    },
    {
     "data": {
      "application/vnd.jupyter.widget-view+json": {
       "model_id": "cf3ee96f1993458db2e644b7a4d08542",
       "version_major": 2,
       "version_minor": 0
      },
      "text/plain": [
       "Running episodes:   0%|          | 0/100 [00:00<?, ?it/s]"
      ]
     },
     "metadata": {},
     "output_type": "display_data"
    },
    {
     "data": {
      "application/vnd.jupyter.widget-view+json": {
       "model_id": "a1f4f2a6c7ae4b4ebb08615ff1b9771f",
       "version_major": 2,
       "version_minor": 0
      },
      "text/plain": [
       "Running episodes:   0%|          | 0/100 [00:00<?, ?it/s]"
      ]
     },
     "metadata": {},
     "output_type": "display_data"
    }
   ],
   "source": [
    "df = index_gen.simulate_data()"
   ]
  },
  {
   "cell_type": "code",
   "execution_count": 5,
   "metadata": {},
   "outputs": [
    {
     "name": "stdout",
     "output_type": "stream",
     "text": [
      "data_type\n",
      "alternation     0.279330\n",
      "segmentation    0.279330\n",
      "random          0.279330\n",
      "mixed           0.162011\n",
      "Name: proportion, dtype: float64\n"
     ]
    },
    {
     "data": {
      "text/html": [
       "<div>\n",
       "<style scoped>\n",
       "    .dataframe tbody tr th:only-of-type {\n",
       "        vertical-align: middle;\n",
       "    }\n",
       "\n",
       "    .dataframe tbody tr th {\n",
       "        vertical-align: top;\n",
       "    }\n",
       "\n",
       "    .dataframe thead th {\n",
       "        text-align: right;\n",
       "    }\n",
       "</style>\n",
       "<table border=\"1\" class=\"dataframe\">\n",
       "  <thead>\n",
       "    <tr style=\"text-align: right;\">\n",
       "      <th></th>\n",
       "      <th>threshold</th>\n",
       "      <th>num_agents</th>\n",
       "      <th>id_sim</th>\n",
       "      <th>bounded_efficiency</th>\n",
       "      <th>inequality</th>\n",
       "      <th>epsilon</th>\n",
       "      <th>data_type</th>\n",
       "    </tr>\n",
       "  </thead>\n",
       "  <tbody>\n",
       "    <tr>\n",
       "      <th>0</th>\n",
       "      <td>0.285714</td>\n",
       "      <td>7</td>\n",
       "      <td>7-0.2857142857142857-0.016666666666666666-alte...</td>\n",
       "      <td>0.860</td>\n",
       "      <td>0.028785</td>\n",
       "      <td>0.016667</td>\n",
       "      <td>alternation</td>\n",
       "    </tr>\n",
       "    <tr>\n",
       "      <th>1</th>\n",
       "      <td>0.285714</td>\n",
       "      <td>7</td>\n",
       "      <td>7-0.2857142857142857-0.016666666666666666-alte...</td>\n",
       "      <td>0.755</td>\n",
       "      <td>0.009759</td>\n",
       "      <td>0.016667</td>\n",
       "      <td>alternation</td>\n",
       "    </tr>\n",
       "    <tr>\n",
       "      <th>2</th>\n",
       "      <td>0.285714</td>\n",
       "      <td>7</td>\n",
       "      <td>7-0.2857142857142857-0.016666666666666666-alte...</td>\n",
       "      <td>0.730</td>\n",
       "      <td>0.031320</td>\n",
       "      <td>0.016667</td>\n",
       "      <td>alternation</td>\n",
       "    </tr>\n",
       "    <tr>\n",
       "      <th>3</th>\n",
       "      <td>0.285714</td>\n",
       "      <td>7</td>\n",
       "      <td>7-0.2857142857142857-0.016666666666666666-alte...</td>\n",
       "      <td>0.840</td>\n",
       "      <td>0.035119</td>\n",
       "      <td>0.016667</td>\n",
       "      <td>alternation</td>\n",
       "    </tr>\n",
       "    <tr>\n",
       "      <th>4</th>\n",
       "      <td>0.285714</td>\n",
       "      <td>7</td>\n",
       "      <td>7-0.2857142857142857-0.016666666666666666-alte...</td>\n",
       "      <td>0.735</td>\n",
       "      <td>0.016330</td>\n",
       "      <td>0.016667</td>\n",
       "      <td>alternation</td>\n",
       "    </tr>\n",
       "  </tbody>\n",
       "</table>\n",
       "</div>"
      ],
      "text/plain": [
       "   threshold  num_agents                                             id_sim  \\\n",
       "0   0.285714           7  7-0.2857142857142857-0.016666666666666666-alte...   \n",
       "1   0.285714           7  7-0.2857142857142857-0.016666666666666666-alte...   \n",
       "2   0.285714           7  7-0.2857142857142857-0.016666666666666666-alte...   \n",
       "3   0.285714           7  7-0.2857142857142857-0.016666666666666666-alte...   \n",
       "4   0.285714           7  7-0.2857142857142857-0.016666666666666666-alte...   \n",
       "\n",
       "   bounded_efficiency  inequality   epsilon    data_type  \n",
       "0               0.860    0.028785  0.016667  alternation  \n",
       "1               0.755    0.009759  0.016667  alternation  \n",
       "2               0.730    0.031320  0.016667  alternation  \n",
       "3               0.840    0.035119  0.016667  alternation  \n",
       "4               0.735    0.016330  0.016667  alternation  "
      ]
     },
     "execution_count": 5,
     "metadata": {},
     "output_type": "execute_result"
    }
   ],
   "source": [
    "df = index_gen.data\n",
    "print(df['data_type'].value_counts(normalize=True))\n",
    "df.head()"
   ]
  },
  {
   "cell_type": "code",
   "execution_count": 6,
   "metadata": {},
   "outputs": [
    {
     "name": "stderr",
     "output_type": "stream",
     "text": [
      "/Users/edgar/virtualenvs/venv-3.13/lib/python3.13/site-packages/sklearn/linear_model/_logistic.py:1264: FutureWarning: 'multi_class' was deprecated in version 1.5 and will be removed in 1.7. From then on, it will always use 'multinomial'. Leave it to its default value to avoid this warning.\n",
      "  warnings.warn(\n"
     ]
    },
    {
     "name": "stdout",
     "output_type": "stream",
     "text": [
      "              precision    recall  f1-score   support\n",
      "\n",
      " alternation       0.87      0.94      0.90      2000\n",
      "       mixed       0.81      0.75      0.78      1160\n",
      "      random       0.80      0.76      0.77      2000\n",
      "segmentation       0.86      0.88      0.87      2000\n",
      "\n",
      "    accuracy                           0.84      7160\n",
      "   macro avg       0.83      0.83      0.83      7160\n",
      "weighted avg       0.84      0.84      0.84      7160\n",
      "\n",
      "             bounded_efficiency inequality intercept\n",
      "target                                              \n",
      "alternation            1.112379 -12.992534  4.120664\n",
      "mixed                  2.964513   3.390352 -2.644867\n",
      "random                -1.955044   2.351441  2.098665\n",
      "segmentation          -2.121848   7.250741 -3.574462\n",
      "Saved sklearn coefficients to /Users/edgar/Documents/GitHub/Cognitive_Models_El_Farol_Bar_Problem/data/indices/sklearn_coefficients.pkl\n"
     ]
    }
   ],
   "source": [
    "index_gen.create_index_sklearn()"
   ]
  },
  {
   "cell_type": "code",
   "execution_count": 7,
   "metadata": {},
   "outputs": [
    {
     "name": "stdout",
     "output_type": "stream",
     "text": [
      "[001/250] loss = 0.6347\n",
      "[025/250] loss = 0.2801\n",
      "[050/250] loss = 0.2752\n",
      "[075/250] loss = 0.2709\n",
      "[100/250] loss = 0.2692\n",
      "[125/250] loss = 0.2695\n",
      "[150/250] loss = 0.2672\n",
      "[175/250] loss = 0.2675\n",
      "[200/250] loss = 0.2658\n",
      "[225/250] loss = 0.2668\n",
      "[250/250] loss = 0.2643\n",
      "\n",
      "Test performance:\n",
      "              precision    recall  f1-score   support\n",
      "\n",
      " alternation     0.8907    0.9450    0.9170      2000\n",
      "       mixed     0.8455    0.8819    0.8633      1160\n",
      "      random     0.8906    0.7775    0.8302      2000\n",
      "segmentation     0.9078    0.9450    0.9260      2000\n",
      "\n",
      "    accuracy                         0.8880      7160\n",
      "   macro avg     0.8836    0.8873    0.8841      7160\n",
      "weighted avg     0.8881    0.8880    0.8866      7160\n",
      "\n"
     ]
    }
   ],
   "source": [
    "index_gen.create_index_mlp()"
   ]
  },
  {
   "cell_type": "code",
   "execution_count": 8,
   "metadata": {},
   "outputs": [
    {
     "name": "stdout",
     "output_type": "stream",
     "text": [
      "Preparing training data...\n",
      "[001/150] loss = 0.4347\n",
      "[015/150] loss = 0.0812\n",
      "[030/150] loss = 0.0393\n",
      "[045/150] loss = 0.0227\n",
      "[060/150] loss = 0.0203\n",
      "[075/150] loss = 0.0155\n",
      "[090/150] loss = 0.0161\n",
      "[105/150] loss = 0.0116\n",
      "[120/150] loss = 0.0151\n",
      "[135/150] loss = 0.0139\n",
      "[150/150] loss = 0.0114\n",
      "\n",
      "Test performance:\n",
      "              precision    recall  f1-score   support\n",
      "\n",
      " alternation     0.9426    0.9605    0.9515      2000\n",
      "       mixed     0.9343    0.9440    0.9391      1160\n",
      "      random     0.9502    0.9260    0.9380      2000\n",
      "segmentation     0.9920    0.9925    0.9923      2000\n",
      "\n",
      "    accuracy                         0.9571      7160\n",
      "   macro avg     0.9548    0.9557    0.9552      7160\n",
      "weighted avg     0.9572    0.9571    0.9571      7160\n",
      "\n"
     ]
    }
   ],
   "source": [
    "index_gen.create_index_cnn()"
   ]
  },
  {
   "cell_type": "code",
   "execution_count": 9,
   "metadata": {},
   "outputs": [
    {
     "name": "stdout",
     "output_type": "stream",
     "text": [
      "predicted_class1\n",
      "random          0.397905\n",
      "alternation     0.242486\n",
      "segmentation    0.238939\n",
      "mixed           0.120670\n",
      "Name: proportion, dtype: float64\n"
     ]
    }
   ],
   "source": [
    "index_gen1 = AlternationIndex.from_file(priority='mlp')\n",
    "df['alternation_index1'] = index_gen1(df)\n",
    "df['segmentation_index1'] = index_gen1.calculate_probabilities('segmentation', df)\n",
    "df['predicted_class1'] = index_gen1.classify(df)\n",
    "print(df['predicted_class1'].value_counts(normalize=True))"
   ]
  },
  {
   "cell_type": "code",
   "execution_count": 10,
   "metadata": {},
   "outputs": [
    {
     "name": "stdout",
     "output_type": "stream",
     "text": [
      "predicted_class2\n",
      "random          0.478073\n",
      "alternation     0.249246\n",
      "segmentation    0.218743\n",
      "mixed           0.053939\n",
      "Name: proportion, dtype: float64\n"
     ]
    }
   ],
   "source": [
    "index_gen2 = AlternationIndex.from_file(priority='sklearn')\n",
    "df['alternation_index2'] = index_gen2(df)\n",
    "df['segmentation_index2'] = index_gen2.calculate_probabilities('segmentation', df)\n",
    "df['predicted_class2'] = index_gen2.classify(df)\n",
    "print(df['predicted_class2'].value_counts(normalize=True))"
   ]
  },
  {
   "cell_type": "code",
   "execution_count": 11,
   "metadata": {},
   "outputs": [
    {
     "name": "stdout",
     "output_type": "stream",
     "text": [
      "predicted_class3\n",
      "alternation     0.279721\n",
      "segmentation    0.279302\n",
      "random          0.279190\n",
      "mixed           0.161788\n",
      "Name: proportion, dtype: float64\n"
     ]
    }
   ],
   "source": [
    "df_full = index_gen.full_data\n",
    "index_gen3 = AlternationIndex.from_file(priority='cnn')\n",
    "df['alternation_index3'] = index_gen3(df_full)\n",
    "df['segmentation_index3'] = index_gen3.calculate_probabilities('segmentation', df_full)\n",
    "df['predicted_class3'] = index_gen3.classify(df_full)\n",
    "print(df['predicted_class3'].value_counts(normalize=True))"
   ]
  },
  {
   "cell_type": "code",
   "execution_count": 12,
   "metadata": {},
   "outputs": [
    {
     "data": {
      "image/png": "[encoded data removed]",
      "text/plain": [
       "<Figure size 1200x1200 with 6 Axes>"
      ]
     },
     "metadata": {},
     "output_type": "display_data"
    }
   ],
   "source": [
    "import seaborn as sns\n",
    "import matplotlib.pyplot as plt\n",
    "\n",
    "from Utils.utils import Grid\n",
    "\n",
    "grid = Grid(6, vertical=True)\n",
    "fig, axes = plt.subplots(\n",
    "    3, 2, \n",
    "    figsize=(12, 12),\n",
    "    tight_layout=True,\n",
    "    sharex=True, sharey=True\n",
    ")\n",
    "\n",
    "# MLP\n",
    "sns.violinplot(\n",
    "    data=df,\n",
    "    x='data_type',\n",
    "    y='alternation_index1',\n",
    "    ax=axes[0, 0],\n",
    ")\n",
    "axes[0, 0].set_title('MLP - Alternation Index')\n",
    "\n",
    "sns.violinplot(\n",
    "    data=df,\n",
    "    x='data_type',\n",
    "    y='segmentation_index1',\n",
    "    ax=axes[0, 1],\n",
    ")\n",
    "axes[0, 1].set_title('MLP - Segmentation Index')\n",
    "\n",
    "# Sklearn\n",
    "sns.violinplot(\n",
    "    data=df,\n",
    "    x='data_type',\n",
    "    y='alternation_index2',\n",
    "    ax=axes[1, 0],\n",
    ")\n",
    "axes[1, 0].set_title('Sklearn - Alternation Index')\n",
    "\n",
    "sns.violinplot(\n",
    "    data=df,\n",
    "    x='data_type',\n",
    "    y='segmentation_index2',\n",
    "    ax=axes[1, 1],\n",
    ")\n",
    "axes[1, 1].set_title('Sklearn - Segmentation Index')\n",
    "\n",
    "# CNN\n",
    "sns.violinplot(\n",
    "    data=df,\n",
    "    x='data_type',\n",
    "    y='alternation_index1',\n",
    "    ax=axes[2, 0],\n",
    ")\n",
    "axes[2, 0].set_title('CNN - Alternation Index')\n",
    "\n",
    "sns.violinplot(\n",
    "    data=df,\n",
    "    x='data_type',\n",
    "    y='segmentation_index1',\n",
    "    ax=axes[2, 1],\n",
    ")\n",
    "axes[2, 1].set_title('CNN - Segmentation Index')\n",
    "\n",
    "\n",
    "for r, c in grid:\n",
    "    axes[r, c].set_xlabel('Data Type')\n",
    "    axes[r, c].set_ylabel('Probability')\n",
    "    axes[r, c].grid()\n"
   ]
  },
  {
   "cell_type": "markdown",
   "metadata": {},
   "source": [
    "---"
   ]
  },
  {
   "cell_type": "code",
   "execution_count": 13,
   "metadata": {},
   "outputs": [
    {
     "name": "stdout",
     "output_type": "stream",
     "text": [
      "   bounded_efficiency   entropy  conditional_entropy  inequality\n",
      "0                   1  0.477217             0.427327    0.176777\n",
      "Alternation index MLP: [3.6303484e-20]\n",
      "Alternation index skelarn: [1.27377406e-05]\n"
     ]
    }
   ],
   "source": [
    "import pandas as pd\n",
    "\n",
    "conditional_entropy = 0.427327\t\n",
    "entropy = 0.477217\t\n",
    "efficiency = 0.5\n",
    "bounded_efficiency = 1\n",
    "inequality =0.176777\n",
    "df_test = pd.DataFrame({\n",
    "    'bounded_efficiency': [bounded_efficiency],\n",
    "    'entropy': [entropy],\n",
    "    'conditional_entropy': [conditional_entropy],\n",
    "    'inequality': [inequality]\n",
    "})\n",
    "print(df_test)\n",
    "print(f'Alternation index MLP: {index_gen1(df_test)}')\n",
    "print(f'Alternation index skelarn: {index_gen2(df_test)}')"
   ]
  },
  {
   "cell_type": "markdown",
   "metadata": {},
   "source": [
    "---"
   ]
  }
 ],
 "metadata": {
  "kernelspec": {
   "display_name": "Python 3 (ipykernel)",
   "language": "python",
   "name": "python3"
  },
  "language_info": {
   "codemirror_mode": {
    "name": "ipython",
    "version": 3
   },
   "file_extension": ".py",
   "mimetype": "text/x-python",
   "name": "python",
   "nbconvert_exporter": "python",
   "pygments_lexer": "ipython3",
   "version": "3.13.3"
  }
 },
 "nbformat": 4,
 "nbformat_minor": 2
}
