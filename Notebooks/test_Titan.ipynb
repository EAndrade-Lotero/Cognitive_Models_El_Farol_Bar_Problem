{
 "cells": [
  {
   "cell_type": "code",
   "execution_count": 1,
   "metadata": {},
   "outputs": [],
   "source": [
    "import numpy as np\n",
    "import pandas as pd\n",
    "\n",
    "from pathlib import Path\n",
    "\n",
    "import sys\n",
    "\n",
    "sys.path.append('../src')\n",
    "\n",
    "import warnings\n",
    "warnings.filterwarnings(\"ignore\")"
   ]
  },
  {
   "cell_type": "markdown",
   "metadata": {},
   "source": [
    "### Test Payoff + Attendance + FRA agents"
   ]
  },
  {
   "cell_type": "code",
   "execution_count": 2,
   "metadata": {},
   "outputs": [],
   "source": [
    "from Classes.bar import Bar\n",
    "from Utils.interaction import Episode\n",
    "from Classes.cognitive_model_agents import Titan"
   ]
  },
  {
   "cell_type": "code",
   "execution_count": 3,
   "metadata": {},
   "outputs": [],
   "source": [
    "free_parameters = {\n",
    "    'inverse_temperature': 10,\n",
    "    'learning_rate': 0.1,\n",
    "    'bias': 0.5,\n",
    "    'len_history': 2,\n",
    "    'max_regions': 5,\n",
    "    'delta': 0.05,\n",
    "}\n",
    "fixed_parameters = {\n",
    "    'num_agents': 7,\n",
    "    'threshold': 0.7,\n",
    "}\n",
    "n = 1"
   ]
  },
  {
   "cell_type": "code",
   "execution_count": 4,
   "metadata": {},
   "outputs": [],
   "source": [
    "# Create the environment\n",
    "bar = Bar(\n",
    "    num_agents=fixed_parameters['num_agents'],\n",
    "    threshold=fixed_parameters['threshold']\n",
    ")\n",
    "# Create the agents\n",
    "agents = [Titan(free_parameters, fixed_parameters, n) for n in range(fixed_parameters['num_agents'])]\n",
    "# Create the episode\n",
    "episode = Episode(\n",
    "    model='FRA',\n",
    "    agents=agents,\n",
    "    environment=bar,\n",
    "    num_rounds=20\n",
    ")"
   ]
  },
  {
   "cell_type": "code",
   "execution_count": 5,
   "metadata": {},
   "outputs": [],
   "source": [
    "# episode.agents[0].debug = True\n",
    "# episode.agents[1].debug = True\n",
    "episode.run()"
   ]
  },
  {
   "cell_type": "code",
   "execution_count": 6,
   "metadata": {},
   "outputs": [
    {
     "data": {
      "text/plain": [
       "<Axes: >"
      ]
     },
     "execution_count": 6,
     "metadata": {},
     "output_type": "execute_result"
    },
    {
     "data": {
      "image/png": "[encoded data removed]",
      "text/plain": [
       "<Figure size 750x700 with 1 Axes>"
      ]
     },
     "metadata": {},
     "output_type": "display_data"
    }
   ],
   "source": [
    "bar.render()"
   ]
  },
  {
   "cell_type": "markdown",
   "metadata": {},
   "source": [
    "# Test parameter fit"
   ]
  },
  {
   "cell_type": "code",
   "execution_count": 7,
   "metadata": {},
   "outputs": [],
   "source": [
    "from Classes.parameter_recovery import ParameterFit"
   ]
  },
  {
   "cell_type": "code",
   "execution_count": 8,
   "metadata": {},
   "outputs": [],
   "source": [
    "# Create paths for data and results\n",
    "data_folder = Path('..', 'data', 'human')\n",
    "folder_2P = Path('..', 'reports', 'MLE')\n",
    "folder_2P.mkdir(parents=True, exist_ok=True)\n",
    "\n",
    "file_name = f'best_fit_2P_3.json'\n",
    "best_fit_file_2P = Path(folder_2P, file_name)"
   ]
  },
  {
   "cell_type": "code",
   "execution_count": 9,
   "metadata": {},
   "outputs": [
    {
     "name": "stdout",
     "output_type": "stream",
     "text": [
      "Loading data from ../data/human/2-player-UR.csv...\n"
     ]
    },
    {
     "data": {
      "text/html": [
       "<div>\n",
       "<style scoped>\n",
       "    .dataframe tbody tr th:only-of-type {\n",
       "        vertical-align: middle;\n",
       "    }\n",
       "\n",
       "    .dataframe tbody tr th {\n",
       "        vertical-align: top;\n",
       "    }\n",
       "\n",
       "    .dataframe thead th {\n",
       "        text-align: right;\n",
       "    }\n",
       "</style>\n",
       "<table border=\"1\" class=\"dataframe\">\n",
       "  <thead>\n",
       "    <tr style=\"text-align: right;\">\n",
       "      <th></th>\n",
       "      <th>source</th>\n",
       "      <th>treatment</th>\n",
       "      <th>group</th>\n",
       "      <th>round</th>\n",
       "      <th>player</th>\n",
       "      <th>choice</th>\n",
       "      <th>score</th>\n",
       "      <th>attendance</th>\n",
       "      <th>ac_score</th>\n",
       "      <th>threshold</th>\n",
       "      <th>num_players</th>\n",
       "      <th>room</th>\n",
       "      <th>decision</th>\n",
       "    </tr>\n",
       "  </thead>\n",
       "  <tbody>\n",
       "    <tr>\n",
       "      <th>0</th>\n",
       "      <td>human</td>\n",
       "      <td>score + grid</td>\n",
       "      <td>Grupo-0001</td>\n",
       "      <td>1</td>\n",
       "      <td>405186428721292</td>\n",
       "      <td>0</td>\n",
       "      <td>0</td>\n",
       "      <td>1</td>\n",
       "      <td>25</td>\n",
       "      <td>0.5</td>\n",
       "      <td>2</td>\n",
       "      <td>Grupo-0001</td>\n",
       "      <td>0</td>\n",
       "    </tr>\n",
       "    <tr>\n",
       "      <th>1</th>\n",
       "      <td>human</td>\n",
       "      <td>score + grid</td>\n",
       "      <td>Grupo-0001</td>\n",
       "      <td>1</td>\n",
       "      <td>728608683559397</td>\n",
       "      <td>1</td>\n",
       "      <td>1</td>\n",
       "      <td>1</td>\n",
       "      <td>25</td>\n",
       "      <td>0.5</td>\n",
       "      <td>2</td>\n",
       "      <td>Grupo-0001</td>\n",
       "      <td>1</td>\n",
       "    </tr>\n",
       "  </tbody>\n",
       "</table>\n",
       "</div>"
      ],
      "text/plain": [
       "  source     treatment       group  round           player  choice  score  \\\n",
       "0  human  score + grid  Grupo-0001      1  405186428721292       0      0   \n",
       "1  human  score + grid  Grupo-0001      1  728608683559397       1      1   \n",
       "\n",
       "   attendance  ac_score  threshold  num_players        room  decision  \n",
       "0           1        25        0.5            2  Grupo-0001         0  \n",
       "1           1        25        0.5            2  Grupo-0001         1  "
      ]
     },
     "execution_count": 9,
     "metadata": {},
     "output_type": "execute_result"
    }
   ],
   "source": [
    "#Load 2P data\n",
    "\n",
    "file_name = '2-player-UR.csv'\n",
    "file = data_folder / Path(file_name)\n",
    "print(f'Loading data from {file}...')\n",
    "data = pd.read_csv(file)\n",
    "data.head(2)"
   ]
  },
  {
   "cell_type": "code",
   "execution_count": 10,
   "metadata": {},
   "outputs": [
    {
     "name": "stderr",
     "output_type": "stream",
     "text": [
      "Fitting models...:   0%|                                  | 0/1 [00:00<?, ?it/s]"
     ]
    },
    {
     "name": "stdout",
     "output_type": "stream",
     "text": [
      "Fitting data to model FRA...\n",
      "Creating parameter recovery class...\n",
      "Running bayesian optimizer...\n",
      "Finding deviance for 2 players and threshold 0.5...\n",
      "|   iter    |  target   | invers... |   bias    | learni... | len_hi... | max_re... |   delta   |\n",
      "-------------------------------------------------------------------------------------------------\n",
      "| \u001b[39m1        \u001b[39m | \u001b[39m-3081.551\u001b[39m | \u001b[39m27.272386\u001b[39m | \u001b[39m0.7203244\u001b[39m | \u001b[39m0.0001143\u001b[39m | \u001b[39m1.3023325\u001b[39m | \u001b[39m2.3208030\u001b[39m | \u001b[39m0.0092338\u001b[39m |\n",
      "| \u001b[39m2        \u001b[39m | \u001b[39m-4390.503\u001b[39m | \u001b[39m12.734393\u001b[39m | \u001b[39m0.3455607\u001b[39m | \u001b[39m0.3967674\u001b[39m | \u001b[39m1.5388167\u001b[39m | \u001b[39m4.7727506\u001b[39m | \u001b[39m0.0685219\u001b[39m |\n",
      "| \u001b[35m3        \u001b[39m | \u001b[35m-2378.481\u001b[39m | \u001b[35m13.880491\u001b[39m | \u001b[35m0.8781174\u001b[39m | \u001b[35m0.0273875\u001b[39m | \u001b[35m1.6704675\u001b[39m | \u001b[35m4.7557432\u001b[39m | \u001b[35m0.0558689\u001b[39m |\n",
      "| \u001b[39m4        \u001b[39m | \u001b[39m-6884.174\u001b[39m | \u001b[39m9.8443771\u001b[39m | \u001b[39m0.1981014\u001b[39m | \u001b[39m0.8007445\u001b[39m | \u001b[39m1.9682615\u001b[39m | \u001b[39m3.8208176\u001b[39m | \u001b[39m0.0692322\u001b[39m |\n",
      "| \u001b[39m5        \u001b[39m | \u001b[39m-5285.894\u001b[39m | \u001b[39m56.212516\u001b[39m | \u001b[39m0.8946066\u001b[39m | \u001b[39m0.0850442\u001b[39m | \u001b[39m1.0390547\u001b[39m | \u001b[39m2.5284737\u001b[39m | \u001b[39m0.0878142\u001b[39m |\n",
      "| \u001b[39m6        \u001b[39m | \u001b[39m-4430.048\u001b[39m | \u001b[39m7.1958505\u001b[39m | \u001b[39m0.4211076\u001b[39m | \u001b[39m0.9578895\u001b[39m | \u001b[39m1.5331652\u001b[39m | \u001b[39m7.2268940\u001b[39m | \u001b[39m0.0315515\u001b[39m |\n",
      "| \u001b[39m7        \u001b[39m | \u001b[39m-3940.795\u001b[39m | \u001b[39m44.249558\u001b[39m | \u001b[39m0.8346256\u001b[39m | \u001b[39m0.0182882\u001b[39m | \u001b[39m1.7501443\u001b[39m | \u001b[39m9.8997498\u001b[39m | \u001b[39m0.0748165\u001b[39m |\n",
      "| \u001b[39m8        \u001b[39m | \u001b[39m-2580.758\u001b[39m | \u001b[39m18.667971\u001b[39m | \u001b[39m0.7892793\u001b[39m | \u001b[39m0.1032260\u001b[39m | \u001b[39m1.4478935\u001b[39m | \u001b[39m9.1773595\u001b[39m | \u001b[39m0.0293614\u001b[39m |\n",
      "| \u001b[39m9        \u001b[39m | \u001b[39m-4003.377\u001b[39m | \u001b[39m17.729439\u001b[39m | \u001b[39m0.2880678\u001b[39m | \u001b[39m0.1735495\u001b[39m | \u001b[39m1.7684246\u001b[39m | \u001b[39m1.5867238\u001b[39m | \u001b[39m0.0932857\u001b[39m |\n",
      "| \u001b[39m10       \u001b[39m | \u001b[39m-5061.102\u001b[39m | \u001b[39m61.544256\u001b[39m | \u001b[39m0.1737336\u001b[39m | \u001b[39m0.0487412\u001b[39m | \u001b[39m1.2375762\u001b[39m | \u001b[39m8.0647344\u001b[39m | \u001b[39m0.0246512\u001b[39m |\n",
      "| \u001b[35m11       \u001b[39m | \u001b[35m-2298.082\u001b[39m | \u001b[35m55.461992\u001b[39m | \u001b[35m0.6339556\u001b[39m | \u001b[35m0.0081717\u001b[39m | \u001b[35m1.2165937\u001b[39m | \u001b[35m2.1205560\u001b[39m | \u001b[35m0.0064453\u001b[39m |\n",
      "| \u001b[39m12       \u001b[39m | \u001b[39m-2310.188\u001b[39m | \u001b[39m55.475246\u001b[39m | \u001b[39m0.6213042\u001b[39m | \u001b[39m0.0132700\u001b[39m | \u001b[39m1.2426985\u001b[39m | \u001b[39m2.1161536\u001b[39m | \u001b[39m0.0064520\u001b[39m |\n",
      "| \u001b[39m13       \u001b[39m | \u001b[39m-3188.477\u001b[39m | \u001b[39m54.940908\u001b[39m | \u001b[39m0.4700534\u001b[39m | \u001b[39m0.0      \u001b[39m | \u001b[39m1.3109369\u001b[39m | \u001b[39m1.8488211\u001b[39m | \u001b[39m0.0      \u001b[39m |\n",
      "| \u001b[39m14       \u001b[39m | \u001b[39m-3067.912\u001b[39m | \u001b[39m14.555548\u001b[39m | \u001b[39m1.0      \u001b[39m | \u001b[39m0.0      \u001b[39m | \u001b[39m1.7479745\u001b[39m | \u001b[39m4.7458197\u001b[39m | \u001b[39m0.0484189\u001b[39m |\n",
      "| \u001b[39m15       \u001b[39m | \u001b[39m-3060.614\u001b[39m | \u001b[39m13.994652\u001b[39m | \u001b[39m1.0      \u001b[39m | \u001b[39m0.0      \u001b[39m | \u001b[39m1.0      \u001b[39m | \u001b[39m4.4725372\u001b[39m | \u001b[39m0.0359823\u001b[39m |\n",
      "| \u001b[39m16       \u001b[39m | \u001b[39m-3257.080\u001b[39m | \u001b[39m13.950593\u001b[39m | \u001b[39m1.0      \u001b[39m | \u001b[39m0.0      \u001b[39m | \u001b[39m1.4087980\u001b[39m | \u001b[39m5.4793629\u001b[39m | \u001b[39m0.0923660\u001b[39m |\n",
      "| \u001b[39m17       \u001b[39m | \u001b[39m-2919.260\u001b[39m | \u001b[39m13.852350\u001b[39m | \u001b[39m1.0      \u001b[39m | \u001b[39m0.0      \u001b[39m | \u001b[39m2.0      \u001b[39m | \u001b[39m4.0320083\u001b[39m | \u001b[39m0.1      \u001b[39m |\n",
      "| \u001b[39m18       \u001b[39m | \u001b[39m-2542.604\u001b[39m | \u001b[39m18.032355\u001b[39m | \u001b[39m0.3454989\u001b[39m | \u001b[39m0.0452615\u001b[39m | \u001b[39m1.3764743\u001b[39m | \u001b[39m8.7169546\u001b[39m | \u001b[39m0.0491081\u001b[39m |\n",
      "| \u001b[39m19       \u001b[39m | \u001b[39m-7530.529\u001b[39m | \u001b[39m18.299666\u001b[39m | \u001b[39m0.0442595\u001b[39m | \u001b[39m0.5302989\u001b[39m | \u001b[39m1.6810342\u001b[39m | \u001b[39m9.3802435\u001b[39m | \u001b[39m0.0081138\u001b[39m |\n",
      "| \u001b[39m20       \u001b[39m | \u001b[39m-3180.089\u001b[39m | \u001b[39m18.356404\u001b[39m | \u001b[39m0.9022914\u001b[39m | \u001b[39m0.0      \u001b[39m | \u001b[39m1.2268884\u001b[39m | \u001b[39m8.6334697\u001b[39m | \u001b[39m0.0611889\u001b[39m |\n",
      "| \u001b[39m21       \u001b[39m | \u001b[39m-3520.422\u001b[39m | \u001b[39m25.242083\u001b[39m | \u001b[39m0.7109480\u001b[39m | \u001b[39m0.2097189\u001b[39m | \u001b[39m1.9959748\u001b[39m | \u001b[39m9.0132651\u001b[39m | \u001b[39m0.0674315\u001b[39m |\n",
      "| \u001b[39m22       \u001b[39m | \u001b[39m-3664.229\u001b[39m | \u001b[39m14.014445\u001b[39m | \u001b[39m1.0      \u001b[39m | \u001b[39m0.5553032\u001b[39m | \u001b[39m1.6481217\u001b[39m | \u001b[39m4.4770714\u001b[39m | \u001b[39m0.1      \u001b[39m |\n",
      "| \u001b[39m23       \u001b[39m | \u001b[39m-3188.477\u001b[39m | \u001b[39m14.076165\u001b[39m | \u001b[39m0.3841167\u001b[39m | \u001b[39m0.0      \u001b[39m | \u001b[39m1.6560140\u001b[39m | \u001b[39m4.4670652\u001b[39m | \u001b[39m0.0      \u001b[39m |\n"
     ]
    },
    {
     "name": "stderr",
     "output_type": "stream",
     "text": [
      "Fitting models...: 100%|██████████████████████████| 1/1 [00:12<00:00, 12.60s/it]"
     ]
    },
    {
     "name": "stdout",
     "output_type": "stream",
     "text": [
      "| \u001b[39m24       \u001b[39m | \u001b[39m-6014.389\u001b[39m | \u001b[39m39.745018\u001b[39m | \u001b[39m0.5975777\u001b[39m | \u001b[39m0.5006298\u001b[39m | \u001b[39m1.8928591\u001b[39m | \u001b[39m4.5683614\u001b[39m | \u001b[39m0.0213017\u001b[39m |\n",
      "=================================================================================================\n",
      "Optimal parameters for 2 players and threshold 0.5:\n",
      "{'inverse_temperature': np.float64(55.46199207915088), 'bias': np.float64(0.6339556411797106), 'learning_rate': np.float64(0.008171747655530526), 'len_history': np.float64(1.2165937548253885), 'max_regions': np.float64(2.120556077471169), 'delta': np.float64(0.006445347468755036)}\n",
      "Deviance: -2298.0826120602683\n",
      "AIC: 4608.165224120537\n",
      "--------------------------------------------------\n"
     ]
    },
    {
     "name": "stderr",
     "output_type": "stream",
     "text": [
      "\n"
     ]
    }
   ],
   "source": [
    "# check_out_these = ['Attendance-M2', 'MFP-M2', 'Payoff-M2']\n",
    "my_models = [Titan]\n",
    "\n",
    "ParameterFit.run(\n",
    "    data=data,\n",
    "    model_list=my_models,\n",
    "    best_fit_path=best_fit_file_2P,\n",
    "    new_file=False\n",
    ")"
   ]
  },
  {
   "cell_type": "markdown",
   "metadata": {},
   "source": []
  }
 ],
 "metadata": {
  "kernelspec": {
   "display_name": "Python 3 (ipykernel)",
   "language": "python",
   "name": "python3"
  },
  "language_info": {
   "codemirror_mode": {
    "name": "ipython",
    "version": 3
   },
   "file_extension": ".py",
   "mimetype": "text/x-python",
   "name": "python",
   "nbconvert_exporter": "python",
   "pygments_lexer": "ipython3",
   "version": "3.13.3"
  }
 },
 "nbformat": 4,
 "nbformat_minor": 2
}
