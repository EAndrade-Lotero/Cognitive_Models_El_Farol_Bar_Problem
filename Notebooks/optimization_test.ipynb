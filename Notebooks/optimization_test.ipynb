{
 "cells": [
  {
   "cell_type": "markdown",
   "id": "201b1d27",
   "metadata": {},
   "source": [
    "# Optimal parameters"
   ]
  },
  {
   "cell_type": "code",
   "execution_count": 2,
   "id": "2cbc5040",
   "metadata": {},
   "outputs": [],
   "source": [
    "import sys\n",
    "import pandas as pd\n",
    "\n",
    "sys.path.append('../src')\n",
    "\n",
    "from Config.config import PATHS\n",
    "from Classes.cognitive_model_agents import *\n",
    "from Utils.parameter_optimization import ParameterOptimization"
   ]
  },
  {
   "cell_type": "code",
   "execution_count": 3,
   "id": "3da63a97",
   "metadata": {},
   "outputs": [],
   "source": [
    "fixed_parameters = {\n",
    "    'num_agents': 2,\n",
    "    'threshold': 0.5\n",
    "}\n",
    "simulation_parameters = {\n",
    "    'num_rounds': 1000,\n",
    "    'num_episodes': 50\n",
    "}"
   ]
  },
  {
   "cell_type": "markdown",
   "id": "6466c655",
   "metadata": {},
   "source": [
    "### Optimize WSLS"
   ]
  },
  {
   "cell_type": "code",
   "execution_count": null,
   "id": "b5c6e7db",
   "metadata": {},
   "outputs": [],
   "source": [
    "MODEL = WSLSM1\n",
    "\n",
    "po = ParameterOptimization(\n",
    "    agent_class=MODEL,\n",
    "    fixed_parameters=fixed_parameters,\n",
    "    simulation_parameters=simulation_parameters\n",
    ")\n",
    "\n",
    "optimal_parameters_WSLSM1 = po.get_optimal_parameters()\n",
    "optimal_parameters_WSLSM1"
   ]
  },
  {
   "cell_type": "code",
   "execution_count": null,
   "id": "59bed7e6",
   "metadata": {},
   "outputs": [],
   "source": [
    "MODEL = WSLSM2\n",
    "\n",
    "po = ParameterOptimization(\n",
    "    agent_class=MODEL,\n",
    "    fixed_parameters=fixed_parameters,\n",
    "    simulation_parameters=simulation_parameters\n",
    ")\n",
    "\n",
    "optimal_parameters_WSLSM2 = po.get_optimal_parameters()\n",
    "optimal_parameters_WSLSM2"
   ]
  },
  {
   "cell_type": "code",
   "execution_count": null,
   "id": "7b122676",
   "metadata": {},
   "outputs": [],
   "source": [
    "MODEL = WSLSM3\n",
    "\n",
    "po = ParameterOptimization(\n",
    "    agent_class=MODEL,\n",
    "    fixed_parameters=fixed_parameters,\n",
    "    simulation_parameters=simulation_parameters\n",
    ")\n",
    "\n",
    "optimal_parameters_WSLSM3 = po.get_optimal_parameters()\n",
    "optimal_parameters_WSLSM3"
   ]
  },
  {
   "cell_type": "code",
   "execution_count": null,
   "id": "aad16323",
   "metadata": {},
   "outputs": [],
   "source": [
    "df_op_WSLS = pd.DataFrame({\n",
    "    'level': [1, 2, 3],\n",
    "    'efficiency': [\n",
    "        optimal_parameters_WSLSM1['target'], \n",
    "        optimal_parameters_WSLSM2['target'], \n",
    "        optimal_parameters_WSLSM3['target']\n",
    "    ],\n",
    "    'heuristic strength': [\n",
    "        optimal_parameters_WSLSM1['params']['heuristic_strength'], \n",
    "        optimal_parameters_WSLSM2['params']['heuristic_strength'], \n",
    "        optimal_parameters_WSLSM3['params']['heuristic_strength']\n",
    "    ],\n",
    "    'inverse temperature': [\n",
    "        optimal_parameters_WSLSM1['params']['inverse_temperature'], \n",
    "        optimal_parameters_WSLSM2['params']['inverse_temperature'], \n",
    "        optimal_parameters_WSLSM3['params']['inverse_temperature']\n",
    "    ],\n",
    "    'wsls strength': [\n",
    "        optimal_parameters_WSLSM1['params']['wsls_strength'], \n",
    "        optimal_parameters_WSLSM2['params']['wsls_strength'], \n",
    "        optimal_parameters_WSLSM3['params']['wsls_strength']\n",
    "    ],\n",
    "})\n",
    "file_name_WSLS = PATHS['simulated_data'] / 'optimal_WSLS.csv'\n",
    "df_op_WSLS.to_csv(file_name_WSLS)\n",
    "print(df_op_WSLS.to_latex(index=False))"
   ]
  },
  {
   "cell_type": "markdown",
   "id": "8c1b5547",
   "metadata": {},
   "source": [
    "### Optimize MFP"
   ]
  },
  {
   "cell_type": "code",
   "execution_count": null,
   "id": "6c868f3a",
   "metadata": {},
   "outputs": [],
   "source": [
    "MODEL = MFPM1\n",
    "\n",
    "po = ParameterOptimization(\n",
    "    agent_class=MODEL,\n",
    "    fixed_parameters=fixed_parameters,\n",
    "    simulation_parameters=simulation_parameters\n",
    ")\n",
    "\n",
    "optimal_parameters_MFP1 = po.get_optimal_parameters()\n",
    "optimal_parameters_MFP1"
   ]
  },
  {
   "cell_type": "code",
   "execution_count": null,
   "id": "974e5766",
   "metadata": {},
   "outputs": [],
   "source": [
    "MODEL = MFPM2\n",
    "\n",
    "po = ParameterOptimization(\n",
    "    agent_class=MODEL,\n",
    "    fixed_parameters=fixed_parameters,\n",
    "    simulation_parameters=simulation_parameters\n",
    ")\n",
    "\n",
    "optimal_parameters_MFP2 = po.get_optimal_parameters()\n",
    "optimal_parameters_MFP2"
   ]
  },
  {
   "cell_type": "code",
   "execution_count": null,
   "id": "a4181b1e",
   "metadata": {},
   "outputs": [],
   "source": [
    "MODEL = MFPM3\n",
    "\n",
    "po = ParameterOptimization(\n",
    "    agent_class=MODEL,\n",
    "    fixed_parameters=fixed_parameters,\n",
    "    simulation_parameters=simulation_parameters\n",
    ")\n",
    "\n",
    "optimal_parameters_MFP3 = po.get_optimal_parameters()\n",
    "optimal_parameters_MFP3"
   ]
  },
  {
   "cell_type": "code",
   "execution_count": null,
   "id": "037ddebf",
   "metadata": {},
   "outputs": [],
   "source": [
    "df_op_MFP= pd.DataFrame({\n",
    "    'level': [1, 2, 3],\n",
    "    'efficiency': [\n",
    "        optimal_parameters_MFP1['target'], \n",
    "        optimal_parameters_MFP2['target'], \n",
    "        optimal_parameters_MFP3['target']\n",
    "    ],\n",
    "    'inverse temperature': [\n",
    "        optimal_parameters_MFP1['params']['inverse_temperature'], \n",
    "        optimal_parameters_MFP2['params']['inverse_temperature'], \n",
    "        optimal_parameters_MFP3['params']['inverse_temperature']\n",
    "    ],\n",
    "    'belief strength': [\n",
    "        optimal_parameters_WSLSM1['params']['belief_strength'], \n",
    "        optimal_parameters_WSLSM2['params']['belief_strength'], \n",
    "        optimal_parameters_WSLSM3['params']['belief_strength']\n",
    "    ],\n",
    "})\n",
    "file_name_MFP = PATHS['simulated_data'] / 'optimal_MFP.csv'\n",
    "df_op_WSLS.to_csv(file_name_MFP)\n",
    "print(df_op_MFP.to_latex(index=False))"
   ]
  },
  {
   "cell_type": "markdown",
   "id": "9de653e9",
   "metadata": {},
   "source": [
    "### Optimize attendance"
   ]
  },
  {
   "cell_type": "code",
   "execution_count": 4,
   "id": "79f98efb",
   "metadata": {},
   "outputs": [
    {
     "data": {
      "application/vnd.jupyter.widget-view+json": {
       "model_id": "0be4a67179fd4694974051ee1146b14c",
       "version_major": 2,
       "version_minor": 0
      },
      "text/plain": [
       "  0%|          | 0/50 [00:00<?, ?it/s]"
      ]
     },
     "metadata": {},
     "output_type": "display_data"
    },
    {
     "data": {
      "application/vnd.jupyter.widget-view+json": {
       "model_id": "e741b9840a3a4df7b30b3846c644f0af",
       "version_major": 2,
       "version_minor": 0
      },
      "text/plain": [
       "  0%|          | 0/50 [00:00<?, ?it/s]"
      ]
     },
     "metadata": {},
     "output_type": "display_data"
    },
    {
     "data": {
      "application/vnd.jupyter.widget-view+json": {
       "model_id": "6b7ddf09422d4ba5b9c93645792f8963",
       "version_major": 2,
       "version_minor": 0
      },
      "text/plain": [
       "  0%|          | 0/50 [00:00<?, ?it/s]"
      ]
     },
     "metadata": {},
     "output_type": "display_data"
    },
    {
     "data": {
      "application/vnd.jupyter.widget-view+json": {
       "model_id": "4931c4c88a2849789e6582a3ddb0973b",
       "version_major": 2,
       "version_minor": 0
      },
      "text/plain": [
       "  0%|          | 0/50 [00:00<?, ?it/s]"
      ]
     },
     "metadata": {},
     "output_type": "display_data"
    },
    {
     "data": {
      "application/vnd.jupyter.widget-view+json": {
       "model_id": "7e8e7e6737384b26af40a3864fd66a7e",
       "version_major": 2,
       "version_minor": 0
      },
      "text/plain": [
       "  0%|          | 0/50 [00:00<?, ?it/s]"
      ]
     },
     "metadata": {},
     "output_type": "display_data"
    },
    {
     "data": {
      "application/vnd.jupyter.widget-view+json": {
       "model_id": "08e9e8b44a9e4622a4a8e7d4947d4352",
       "version_major": 2,
       "version_minor": 0
      },
      "text/plain": [
       "  0%|          | 0/50 [00:00<?, ?it/s]"
      ]
     },
     "metadata": {},
     "output_type": "display_data"
    },
    {
     "data": {
      "application/vnd.jupyter.widget-view+json": {
       "model_id": "0392729dff5f4860a0da473a3a1a18e2",
       "version_major": 2,
       "version_minor": 0
      },
      "text/plain": [
       "  0%|          | 0/50 [00:00<?, ?it/s]"
      ]
     },
     "metadata": {},
     "output_type": "display_data"
    },
    {
     "data": {
      "application/vnd.jupyter.widget-view+json": {
       "model_id": "11f4305fd91c4c8889a6f3028535d1ae",
       "version_major": 2,
       "version_minor": 0
      },
      "text/plain": [
       "  0%|          | 0/50 [00:00<?, ?it/s]"
      ]
     },
     "metadata": {},
     "output_type": "display_data"
    },
    {
     "data": {
      "application/vnd.jupyter.widget-view+json": {
       "model_id": "370a1607206742ea812ed8af85264259",
       "version_major": 2,
       "version_minor": 0
      },
      "text/plain": [
       "  0%|          | 0/50 [00:00<?, ?it/s]"
      ]
     },
     "metadata": {},
     "output_type": "display_data"
    },
    {
     "data": {
      "application/vnd.jupyter.widget-view+json": {
       "model_id": "fe617ee51dd44ccc8d0c382c55acd0a5",
       "version_major": 2,
       "version_minor": 0
      },
      "text/plain": [
       "  0%|          | 0/50 [00:00<?, ?it/s]"
      ]
     },
     "metadata": {},
     "output_type": "display_data"
    },
    {
     "data": {
      "application/vnd.jupyter.widget-view+json": {
       "model_id": "0a9bd993cf344d8292616c62d8bbb9f6",
       "version_major": 2,
       "version_minor": 0
      },
      "text/plain": [
       "  0%|          | 0/50 [00:00<?, ?it/s]"
      ]
     },
     "metadata": {},
     "output_type": "display_data"
    },
    {
     "data": {
      "application/vnd.jupyter.widget-view+json": {
       "model_id": "82d06661fb5b415ba4abe938a92e3aa9",
       "version_major": 2,
       "version_minor": 0
      },
      "text/plain": [
       "  0%|          | 0/50 [00:00<?, ?it/s]"
      ]
     },
     "metadata": {},
     "output_type": "display_data"
    },
    {
     "data": {
      "application/vnd.jupyter.widget-view+json": {
       "model_id": "2e664bfcaa5d4c78b94e8c95111dd6f3",
       "version_major": 2,
       "version_minor": 0
      },
      "text/plain": [
       "  0%|          | 0/50 [00:00<?, ?it/s]"
      ]
     },
     "metadata": {},
     "output_type": "display_data"
    },
    {
     "data": {
      "application/vnd.jupyter.widget-view+json": {
       "model_id": "d1a061465bed455d9cc786dfa1f761de",
       "version_major": 2,
       "version_minor": 0
      },
      "text/plain": [
       "  0%|          | 0/50 [00:00<?, ?it/s]"
      ]
     },
     "metadata": {},
     "output_type": "display_data"
    },
    {
     "data": {
      "application/vnd.jupyter.widget-view+json": {
       "model_id": "d6c73fba8135403ab2dd3f81846ec709",
       "version_major": 2,
       "version_minor": 0
      },
      "text/plain": [
       "  0%|          | 0/50 [00:00<?, ?it/s]"
      ]
     },
     "metadata": {},
     "output_type": "display_data"
    },
    {
     "data": {
      "application/vnd.jupyter.widget-view+json": {
       "model_id": "acde396003b64f7a90b7f9f5fb041d59",
       "version_major": 2,
       "version_minor": 0
      },
      "text/plain": [
       "  0%|          | 0/50 [00:00<?, ?it/s]"
      ]
     },
     "metadata": {},
     "output_type": "display_data"
    },
    {
     "data": {
      "application/vnd.jupyter.widget-view+json": {
       "model_id": "c222c711e68a400fa30bf8a9e14dc633",
       "version_major": 2,
       "version_minor": 0
      },
      "text/plain": [
       "  0%|          | 0/50 [00:00<?, ?it/s]"
      ]
     },
     "metadata": {},
     "output_type": "display_data"
    },
    {
     "data": {
      "application/vnd.jupyter.widget-view+json": {
       "model_id": "5f0e7408a52b476cab9445ac47d8e644",
       "version_major": 2,
       "version_minor": 0
      },
      "text/plain": [
       "  0%|          | 0/50 [00:00<?, ?it/s]"
      ]
     },
     "metadata": {},
     "output_type": "display_data"
    },
    {
     "data": {
      "application/vnd.jupyter.widget-view+json": {
       "model_id": "4b811ede338f4d01bb0083bb896b02bd",
       "version_major": 2,
       "version_minor": 0
      },
      "text/plain": [
       "  0%|          | 0/50 [00:00<?, ?it/s]"
      ]
     },
     "metadata": {},
     "output_type": "display_data"
    },
    {
     "data": {
      "application/vnd.jupyter.widget-view+json": {
       "model_id": "950a069b4deb46afbb9f5fc2150cfbda",
       "version_major": 2,
       "version_minor": 0
      },
      "text/plain": [
       "  0%|          | 0/50 [00:00<?, ?it/s]"
      ]
     },
     "metadata": {},
     "output_type": "display_data"
    },
    {
     "data": {
      "text/plain": [
       "{'target': 0.4957142857142857,\n",
       " 'params': {'bias': 0.22952995143195798,\n",
       "  'inverse_temperature': 11.194510493646833,\n",
       "  'learning_rate': 0.0816762963980533}}"
      ]
     },
     "execution_count": 4,
     "metadata": {},
     "output_type": "execute_result"
    }
   ],
   "source": [
    "MODEL = AttendanceM3\n",
    "\n",
    "po = ParameterOptimization(\n",
    "    agent_class=MODEL,\n",
    "    fixed_parameters=fixed_parameters,\n",
    "    simulation_parameters=simulation_parameters\n",
    ")\n",
    "\n",
    "optimal_parameters_Attendance3 = po.get_optimal_parameters()\n",
    "optimal_parameters_Attendance3"
   ]
  },
  {
   "cell_type": "code",
   "execution_count": null,
   "id": "0593f8c1",
   "metadata": {},
   "outputs": [],
   "source": [
    "df_op_Attendance= pd.DataFrame({\n",
    "    'level': [3],\n",
    "    'efficiency': [\n",
    "        optimal_parameters_Attendance3['target']\n",
    "    ],\n",
    "    'inverse temperature': [\n",
    "        optimal_parameters_MFP3['params']['inverse_temperature']\n",
    "    ],\n",
    "    'learning rate': [\n",
    "        optimal_parameters_WSLSM3['params']['learning_rate']\n",
    "    ],\n",
    "    'bias': [\n",
    "        optimal_parameters_WSLSM3['params']['bias']\n",
    "    ],\n",
    "})\n",
    "file_name_Attendance = PATHS['simulated_data'] / 'optimal_Attendance.csv'\n",
    "df_op_WSLS.to_csv(file_name_Attendance)\n",
    "print(df_op_Attendance.to_latex(index=False))"
   ]
  }
 ],
 "metadata": {
  "kernelspec": {
   "display_name": "Python 3",
   "language": "python",
   "name": "python3"
  },
  "language_info": {
   "codemirror_mode": {
    "name": "ipython",
    "version": 3
   },
   "file_extension": ".py",
   "mimetype": "text/x-python",
   "name": "python",
   "nbconvert_exporter": "python",
   "pygments_lexer": "ipython3",
   "version": "3.9.6"
  }
 },
 "nbformat": 4,
 "nbformat_minor": 5
}
