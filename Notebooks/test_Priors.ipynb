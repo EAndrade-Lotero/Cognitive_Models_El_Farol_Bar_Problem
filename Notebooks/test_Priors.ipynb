{
 "cells": [
  {
   "cell_type": "markdown",
   "metadata": {},
   "source": [
    "# Priors"
   ]
  },
  {
   "cell_type": "code",
   "execution_count": 1,
   "metadata": {},
   "outputs": [],
   "source": [
    "import sys\n",
    "sys.path.append(\"../src/\")\n",
    "\n",
    "import warnings\n",
    "warnings.filterwarnings(\"ignore\")"
   ]
  },
  {
   "cell_type": "code",
   "execution_count": 2,
   "metadata": {},
   "outputs": [],
   "source": [
    "from Classes.cognitive_model_agents import PriorsM1, PriorsM2, PriorsM3\n",
    "from Utils.interaction import Performer\n",
    "from Utils.unit_tests import (\n",
    "    test_bar_is_full, \n",
    "    test_bar_has_capacity,\n",
    "    test_alternation\n",
    ")\n",
    "\n",
    "# MODEL = PriorsM1\n",
    "# MODEL = PriorsM2\n",
    "MODEL = PriorsM3"
   ]
  },
  {
   "cell_type": "code",
   "execution_count": 3,
   "metadata": {},
   "outputs": [
    {
     "data": {
      "text/plain": [
       "{'inverse_temperature': 20.209978866475566,\n",
       " 'go_prob_0': 0.9213810059425801,\n",
       " 'go_prob_1': 0.2512979865412428,\n",
       " 'go_prob_2': 0.5412200095817589,\n",
       " 'go_prob_3': 0.17324695368096055}"
      ]
     },
     "execution_count": 3,
     "metadata": {},
     "output_type": "execute_result"
    }
   ],
   "source": [
    "num_agents = 2\n",
    "fixed_parameters = {\n",
    "\t\"threshold\":0.5,\n",
    "\t\"num_agents\":num_agents,\n",
    "}\n",
    "free_parameters = MODEL.create_random_params(num_agents)\n",
    "free_parameters"
   ]
  },
  {
   "cell_type": "code",
   "execution_count": 4,
   "metadata": {},
   "outputs": [
    {
     "name": "stdout",
     "output_type": "stream",
     "text": [
      "\n",
      "------------------------------------------------------------\n",
      "Test bar has capacity\n",
      "------------------------------------------------------------\n",
      "Initial state: [0, 0]\n",
      "---------- Round 0 ----------\n",
      "Action preferences in state (0, 0): [0.0786189940574199, 0.9213810059425801]\n",
      "Chosen action: 1\n",
      "State arrived: [1, 0]\n",
      "Payoff action 1: 1\n",
      "---------- Round 1 ----------\n",
      "Action preferences in state [1, 0]: [0.45877999041824113, 0.5412200095817589]\n",
      "Chosen action: 1\n",
      "State arrived: [1, 0]\n",
      "Payoff action 1: 1\n",
      "---------- Round 2 ----------\n",
      "Action preferences in state [1, 0]: [0.45877999041824113, 0.5412200095817589]\n",
      "Chosen action: 1\n",
      "State arrived: [1, 0]\n",
      "Payoff action 1: 1\n",
      "---------- Round 3 ----------\n",
      "Action preferences in state [1, 0]: [0.45877999041824113, 0.5412200095817589]\n",
      "Chosen action: 1\n",
      "State arrived: [1, 0]\n",
      "Payoff action 1: 1\n",
      "---------- Round 4 ----------\n",
      "Action preferences in state [1, 0]: [0.45877999041824113, 0.5412200095817589]\n",
      "Chosen action: 1\n",
      "State arrived: [1, 0]\n",
      "Payoff action 1: 1\n",
      "---------- Round 5 ----------\n",
      "Action preferences in state [1, 0]: [0.45877999041824113, 0.5412200095817589]\n",
      "Chosen action: 1\n",
      "State arrived: [1, 0]\n",
      "Payoff action 1: 1\n",
      "---------- Round 6 ----------\n",
      "Action preferences in state [1, 0]: [0.45877999041824113, 0.5412200095817589]\n",
      "Chosen action: 0\n",
      "State arrived: [0, 0]\n",
      "Payoff action 0: 0\n",
      "---------- Round 7 ----------\n",
      "Action preferences in state [0, 0]: [0.0786189940574199, 0.9213810059425801]\n",
      "Chosen action: 1\n",
      "State arrived: [1, 0]\n",
      "Payoff action 1: 1\n",
      "---------- Round 8 ----------\n",
      "Action preferences in state [1, 0]: [0.45877999041824113, 0.5412200095817589]\n",
      "Chosen action: 1\n",
      "State arrived: [1, 0]\n",
      "Payoff action 1: 1\n",
      "---------- Round 9 ----------\n",
      "Action preferences in state [1, 0]: [0.45877999041824113, 0.5412200095817589]\n",
      "Chosen action: 0\n",
      "State arrived: [0, 0]\n",
      "Payoff action 0: 0\n"
     ]
    }
   ],
   "source": [
    "agent = MODEL(\n",
    "\tfixed_parameters=fixed_parameters,\n",
    "\tfree_parameters=free_parameters,\n",
    "\tn=0\n",
    ")\n",
    "agent.debug = True\n",
    "test_bar_has_capacity(agent)"
   ]
  },
  {
   "cell_type": "code",
   "execution_count": null,
   "metadata": {},
   "outputs": [],
   "source": [
    "agent = MODEL(\n",
    "\tfixed_parameters=fixed_parameters,\n",
    "\tfree_parameters=free_parameters,\n",
    "\tn=0\n",
    ")\n",
    "agent.debug = True\n",
    "test_bar_is_full(agent)"
   ]
  },
  {
   "cell_type": "code",
   "execution_count": null,
   "metadata": {},
   "outputs": [],
   "source": [
    "agent = MODEL(\n",
    "\tfixed_parameters=fixed_parameters,\n",
    "\tfree_parameters=free_parameters,\n",
    "\tn=0\n",
    ")\n",
    "agent.debug = True\n",
    "test_alternation(agent)"
   ]
  },
  {
   "cell_type": "code",
   "execution_count": null,
   "metadata": {},
   "outputs": [],
   "source": [
    "from pathlib import Path\n",
    "\n",
    "folder = MODEL.name().replace('-', '/')\n",
    "image_folder = Path('../images', folder)\n",
    "image_folder.mkdir(parents=True, exist_ok=True)\n",
    "data_folder = Path('../data/', folder)\n",
    "data_folder.mkdir(parents=True, exist_ok=True)\n",
    "\n",
    "num_agents = 2\n",
    "fixed_parameters = {\n",
    "\t\"threshold\":0.5,\n",
    "\t\"num_agents\":num_agents,\n",
    "}\n",
    "free_parameters = {\n",
    "\t'inverse_temperature':10,\n",
    "}\n",
    "go_probs = {\n",
    "    '0-go_prob_(0, 0)': 0.1,\n",
    "    '0-go_prob_(0, 1)': 0.2,\n",
    "    '0-go_prob_(0, 2)': 0.3,\n",
    "    '0-go_prob_(1, 0)': 0.4,\n",
    "    '0-go_prob_(1, 1)': 0.5,\n",
    "    '0-go_prob_(1, 2)': 0.6,\n",
    "    '1-go_prob_(0, 0)': 0.7,\n",
    "    '1-go_prob_(0, 1)': 0.8,\n",
    "    '1-go_prob_(0, 2)': 0.7,\n",
    "    '1-go_prob_(1, 0)': 0.6,\n",
    "    '1-go_prob_(1, 1)': 0.5,\n",
    "    '1-go_prob_(1, 2)': 0.4\n",
    "}\n",
    "free_parameters.update(go_probs)\n",
    "simulation_parameters = {\n",
    "\t'num_episodes':10,\n",
    "\t'num_rounds':10,\n",
    "\t'verbose':False\n",
    "}"
   ]
  },
  {
   "cell_type": "code",
   "execution_count": null,
   "metadata": {},
   "outputs": [],
   "source": [
    "free_parameters"
   ]
  },
  {
   "cell_type": "code",
   "execution_count": null,
   "metadata": {},
   "outputs": [],
   "source": [
    "LaTeX_string = Performer.simple_run(\n",
    "    agent_class=MODEL,\n",
    "    fixed_parameters=fixed_parameters,\n",
    "    free_parameters=free_parameters,\n",
    "    simulation_parameters=simulation_parameters,\n",
    "    image_folder=image_folder,\n",
    "    measures=['render'],\n",
    "    seeds=[0]\n",
    "    # kwargs=kwargs\n",
    ")"
   ]
  },
  {
   "cell_type": "code",
   "execution_count": null,
   "metadata": {},
   "outputs": [],
   "source": [
    "kwargs = {'figsize': (4, 3)}\n",
    "LaTeX_string = Performer.simple_plots(\n",
    "    agent_class=MODEL,\n",
    "    fixed_parameters=fixed_parameters,\n",
    "    free_parameters=free_parameters,\n",
    "    simulation_parameters=simulation_parameters,\n",
    "    image_folder=image_folder,\n",
    "    measures=[\n",
    "        'attendance', \n",
    "        'conditional_entropy', \n",
    "        'entropy', \n",
    "        'efficiency', \n",
    "        'inequality', \n",
    "        'alternation_index'\n",
    "    ],\n",
    "    # kwargs=kwargs\n",
    ")"
   ]
  },
  {
   "cell_type": "code",
   "execution_count": null,
   "metadata": {},
   "outputs": [],
   "source": []
  }
 ],
 "metadata": {
  "kernelspec": {
   "display_name": "base",
   "language": "python",
   "name": "python3"
  },
  "language_info": {
   "codemirror_mode": {
    "name": "ipython",
    "version": 3
   },
   "file_extension": ".py",
   "mimetype": "text/x-python",
   "name": "python",
   "nbconvert_exporter": "python",
   "pygments_lexer": "ipython3",
   "version": "3.11.5"
  }
 },
 "nbformat": 4,
 "nbformat_minor": 2
}
