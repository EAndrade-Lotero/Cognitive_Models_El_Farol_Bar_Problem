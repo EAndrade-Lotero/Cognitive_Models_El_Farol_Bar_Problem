{
 "cells": [
  {
   "cell_type": "markdown",
   "metadata": {},
   "source": [
    "# Priors"
   ]
  },
  {
   "cell_type": "code",
   "execution_count": 11,
   "metadata": {},
   "outputs": [],
   "source": [
    "import sys\n",
    "sys.path.append(\"../src/\")\n",
    "\n",
    "import warnings\n",
    "warnings.filterwarnings(\"ignore\")"
   ]
  },
  {
   "cell_type": "code",
   "execution_count": 12,
   "metadata": {},
   "outputs": [],
   "source": [
    "from Classes.cognitive_model_agents import PriorsM1, PriorsM2, PriorsM3\n",
    "from Utils.interaction import Performer\n",
    "from Utils.unit_tests import (\n",
    "    test_bar_is_full, \n",
    "    test_bar_has_capacity,\n",
    "    test_alternation\n",
    ")\n",
    "\n",
    "MODEL = PriorsM1\n",
    "# MODEL = PriorsM2\n",
    "# MODEL = PriorsM3"
   ]
  },
  {
   "cell_type": "code",
   "execution_count": 13,
   "metadata": {},
   "outputs": [
    {
     "data": {
      "text/plain": [
       "{'inverse_temperature': 6.374230263361881,\n",
       " '0-go_prob_0': 0.0816332212832569,\n",
       " '1-go_prob_0': 0.33597997962219595}"
      ]
     },
     "execution_count": 13,
     "metadata": {},
     "output_type": "execute_result"
    }
   ],
   "source": [
    "num_agents = 2\n",
    "fixed_parameters = {\n",
    "\t\"threshold\":0.5,\n",
    "\t\"num_agents\":num_agents,\n",
    "}\n",
    "free_parameters = MODEL.create_random_params(num_agents)\n",
    "free_parameters"
   ]
  },
  {
   "cell_type": "code",
   "execution_count": 14,
   "metadata": {},
   "outputs": [
    {
     "name": "stdout",
     "output_type": "stream",
     "text": [
      "\n",
      "------------------------------------------------------------\n",
      "Test bar has capacity\n",
      "------------------------------------------------------------\n",
      "Initial state: [0, 0]\n",
      "---------- Round 0 ----------\n",
      "Action preferences in state (0, 0): [np.float64(0.9183667787167431), np.float64(0.0816332212832569)]\n",
      "Chosen action: 0\n",
      "State arrived: [0, 0]\n",
      "Payoff action 0: 0\n",
      "---------- Round 1 ----------\n",
      "Action preferences in state [0, 0]: [np.float64(0.9183667787167431), np.float64(0.0816332212832569)]\n",
      "Chosen action: 0\n",
      "State arrived: [0, 0]\n",
      "Payoff action 0: 0\n",
      "---------- Round 2 ----------\n",
      "Action preferences in state [0, 0]: [np.float64(0.9183667787167431), np.float64(0.0816332212832569)]\n",
      "Chosen action: 0\n",
      "State arrived: [0, 0]\n",
      "Payoff action 0: 0\n",
      "---------- Round 3 ----------\n",
      "Action preferences in state [0, 0]: [np.float64(0.9183667787167431), np.float64(0.0816332212832569)]\n",
      "Chosen action: 0\n",
      "State arrived: [0, 0]\n",
      "Payoff action 0: 0\n",
      "---------- Round 4 ----------\n",
      "Action preferences in state [0, 0]: [np.float64(0.9183667787167431), np.float64(0.0816332212832569)]\n",
      "Chosen action: 0\n",
      "State arrived: [0, 0]\n",
      "Payoff action 0: 0\n",
      "---------- Round 5 ----------\n",
      "Action preferences in state [0, 0]: [np.float64(0.9183667787167431), np.float64(0.0816332212832569)]\n",
      "Chosen action: 0\n",
      "State arrived: [0, 0]\n",
      "Payoff action 0: 0\n",
      "---------- Round 6 ----------\n",
      "Action preferences in state [0, 0]: [np.float64(0.9183667787167431), np.float64(0.0816332212832569)]\n",
      "Chosen action: 0\n",
      "State arrived: [0, 0]\n",
      "Payoff action 0: 0\n",
      "---------- Round 7 ----------\n",
      "Action preferences in state [0, 0]: [np.float64(0.9183667787167431), np.float64(0.0816332212832569)]\n",
      "Chosen action: 1\n",
      "State arrived: [1, 0]\n",
      "Payoff action 1: 1\n",
      "---------- Round 8 ----------\n",
      "Action preferences in state [1, 0]: [np.float64(0.9183667787167431), np.float64(0.0816332212832569)]\n",
      "Chosen action: 0\n",
      "State arrived: [0, 0]\n",
      "Payoff action 0: 0\n",
      "---------- Round 9 ----------\n",
      "Action preferences in state [0, 0]: [np.float64(0.9183667787167431), np.float64(0.0816332212832569)]\n",
      "Chosen action: 1\n",
      "State arrived: [1, 0]\n",
      "Payoff action 1: 1\n"
     ]
    }
   ],
   "source": [
    "agent = MODEL(\n",
    "\tfixed_parameters=fixed_parameters,\n",
    "\tfree_parameters=free_parameters,\n",
    "\tn=0\n",
    ")\n",
    "agent.debug = True\n",
    "test_bar_has_capacity(agent)"
   ]
  },
  {
   "cell_type": "code",
   "execution_count": 5,
   "metadata": {},
   "outputs": [
    {
     "name": "stdout",
     "output_type": "stream",
     "text": [
      "\n",
      "------------------------------------------------------------\n",
      "Test bar is full\n",
      "------------------------------------------------------------\n",
      "Initial state: [1, 1]\n",
      "---------- Round 0 ----------\n",
      "Action preferences in state (1, 1): [np.float64(0.06765126411919242), np.float64(0.9323487358808076)]\n",
      "Chosen action: 0\n",
      "State arrived: [0, 1]\n",
      "Payoff action 0: 0\n",
      "---------- Round 1 ----------\n",
      "Action preferences in state [0, 1]: [np.float64(0.6160335583384494), np.float64(0.3839664416615506)]\n",
      "Chosen action: 1\n",
      "State arrived: [1, 1]\n",
      "Payoff action 1: -1\n",
      "---------- Round 2 ----------\n",
      "Action preferences in state [1, 1]: [np.float64(0.06765126411919242), np.float64(0.9323487358808076)]\n",
      "Chosen action: 1\n",
      "State arrived: [1, 1]\n",
      "Payoff action 1: -1\n",
      "---------- Round 3 ----------\n",
      "Action preferences in state [1, 1]: [np.float64(0.06765126411919242), np.float64(0.9323487358808076)]\n",
      "Chosen action: 1\n",
      "State arrived: [1, 1]\n",
      "Payoff action 1: -1\n",
      "---------- Round 4 ----------\n",
      "Action preferences in state [1, 1]: [np.float64(0.06765126411919242), np.float64(0.9323487358808076)]\n",
      "Chosen action: 1\n",
      "State arrived: [1, 1]\n",
      "Payoff action 1: -1\n",
      "---------- Round 5 ----------\n",
      "Action preferences in state [1, 1]: [np.float64(0.06765126411919242), np.float64(0.9323487358808076)]\n",
      "Chosen action: 0\n",
      "State arrived: [0, 1]\n",
      "Payoff action 0: 0\n",
      "---------- Round 6 ----------\n",
      "Action preferences in state [0, 1]: [np.float64(0.6160335583384494), np.float64(0.3839664416615506)]\n",
      "Chosen action: 0\n",
      "State arrived: [0, 1]\n",
      "Payoff action 0: 0\n",
      "---------- Round 7 ----------\n",
      "Action preferences in state [0, 1]: [np.float64(0.6160335583384494), np.float64(0.3839664416615506)]\n",
      "Chosen action: 0\n",
      "State arrived: [0, 1]\n",
      "Payoff action 0: 0\n",
      "---------- Round 8 ----------\n",
      "Action preferences in state [0, 1]: [np.float64(0.6160335583384494), np.float64(0.3839664416615506)]\n",
      "Chosen action: 1\n",
      "State arrived: [1, 1]\n",
      "Payoff action 1: -1\n",
      "---------- Round 9 ----------\n",
      "Action preferences in state [1, 1]: [np.float64(0.06765126411919242), np.float64(0.9323487358808076)]\n",
      "Chosen action: 1\n",
      "State arrived: [1, 1]\n",
      "Payoff action 1: -1\n"
     ]
    }
   ],
   "source": [
    "agent = MODEL(\n",
    "\tfixed_parameters=fixed_parameters,\n",
    "\tfree_parameters=free_parameters,\n",
    "\tn=0\n",
    ")\n",
    "agent.debug = True\n",
    "test_bar_is_full(agent)"
   ]
  },
  {
   "cell_type": "code",
   "execution_count": 6,
   "metadata": {},
   "outputs": [
    {
     "name": "stdout",
     "output_type": "stream",
     "text": [
      "\n",
      "------------------------------------------------------------\n",
      "Test other player alternates\n",
      "------------------------------------------------------------\n",
      "Initial state: [0, 0]\n",
      "---------- Round 0 ----------\n",
      "Action preferences in state (0, 0): [np.float64(0.7361502016155091), np.float64(0.26384979838449085)]\n",
      "Chosen action: 1\n",
      "State arrived: [1, 0]\n",
      "Payoff action 1: 1\n",
      "---------- Round 1 ----------\n",
      "Action preferences in state [1, 0]: [np.float64(0.14378017609733307), np.float64(0.8562198239026669)]\n",
      "Chosen action: 1\n",
      "State arrived: [1, 1]\n",
      "Payoff action 1: -1\n",
      "---------- Round 2 ----------\n",
      "Action preferences in state [1, 1]: [np.float64(0.06765126411919242), np.float64(0.9323487358808076)]\n",
      "Chosen action: 1\n",
      "State arrived: [1, 0]\n",
      "Payoff action 1: 1\n",
      "---------- Round 3 ----------\n",
      "Action preferences in state [1, 0]: [np.float64(0.14378017609733307), np.float64(0.8562198239026669)]\n",
      "Chosen action: 1\n",
      "State arrived: [1, 1]\n",
      "Payoff action 1: -1\n",
      "---------- Round 4 ----------\n",
      "Action preferences in state [1, 1]: [np.float64(0.06765126411919242), np.float64(0.9323487358808076)]\n",
      "Chosen action: 1\n",
      "State arrived: [1, 0]\n",
      "Payoff action 1: 1\n",
      "---------- Round 5 ----------\n",
      "Action preferences in state [1, 0]: [np.float64(0.14378017609733307), np.float64(0.8562198239026669)]\n",
      "Chosen action: 0\n",
      "State arrived: [0, 1]\n",
      "Payoff action 0: 0\n",
      "---------- Round 6 ----------\n",
      "Action preferences in state [0, 1]: [np.float64(0.6160335583384494), np.float64(0.3839664416615506)]\n",
      "Chosen action: 0\n",
      "State arrived: [0, 0]\n",
      "Payoff action 0: 0\n",
      "---------- Round 7 ----------\n",
      "Action preferences in state [0, 0]: [np.float64(0.7361502016155091), np.float64(0.26384979838449085)]\n",
      "Chosen action: 0\n",
      "State arrived: [0, 1]\n",
      "Payoff action 0: 0\n",
      "---------- Round 8 ----------\n",
      "Action preferences in state [0, 1]: [np.float64(0.6160335583384494), np.float64(0.3839664416615506)]\n",
      "Chosen action: 1\n",
      "State arrived: [1, 0]\n",
      "Payoff action 1: 1\n",
      "---------- Round 9 ----------\n",
      "Action preferences in state [1, 0]: [np.float64(0.14378017609733307), np.float64(0.8562198239026669)]\n",
      "Chosen action: 0\n",
      "State arrived: [0, 1]\n",
      "Payoff action 0: 0\n"
     ]
    }
   ],
   "source": [
    "agent = MODEL(\n",
    "\tfixed_parameters=fixed_parameters,\n",
    "\tfree_parameters=free_parameters,\n",
    "\tn=0\n",
    ")\n",
    "agent.debug = True\n",
    "test_alternation(agent)"
   ]
  },
  {
   "cell_type": "code",
   "execution_count": 7,
   "metadata": {},
   "outputs": [],
   "source": [
    "from pathlib import Path\n",
    "\n",
    "folder = MODEL.name().replace('-', '/')\n",
    "image_folder = Path('../images', folder)\n",
    "image_folder.mkdir(parents=True, exist_ok=True)\n",
    "data_folder = Path('../data/', folder)\n",
    "data_folder.mkdir(parents=True, exist_ok=True)\n",
    "\n",
    "num_agents = 2\n",
    "fixed_parameters = {\n",
    "\t\"threshold\":0.5,\n",
    "\t\"num_agents\":num_agents,\n",
    "}\n",
    "free_parameters = MODEL.create_random_params(num_agents)\n",
    "simulation_parameters = {\n",
    "\t'num_episodes':10,\n",
    "\t'num_rounds':10,\n",
    "\t'verbose':False\n",
    "}"
   ]
  },
  {
   "cell_type": "code",
   "execution_count": 8,
   "metadata": {},
   "outputs": [
    {
     "data": {
      "text/plain": [
       "{'inverse_temperature': 19.885937485462037,\n",
       " '0-go_prob_0': 0.7501793461174145,\n",
       " '0-go_prob_1': 0.8849927827173699,\n",
       " '0-go_prob_2': 0.28523871820377467,\n",
       " '0-go_prob_3': 0.9822182794647452,\n",
       " '1-go_prob_0': 0.7699845255317497,\n",
       " '1-go_prob_1': 0.9539208744285986,\n",
       " '1-go_prob_2': 0.3062337585476286,\n",
       " '1-go_prob_3': 0.45836772519749647}"
      ]
     },
     "execution_count": 8,
     "metadata": {},
     "output_type": "execute_result"
    }
   ],
   "source": [
    "free_parameters"
   ]
  },
  {
   "cell_type": "code",
   "execution_count": 9,
   "metadata": {},
   "outputs": [
    {
     "data": {
      "application/vnd.jupyter.widget-view+json": {
       "model_id": "ef18252f54e84160bb3620107417796b",
       "version_major": 2,
       "version_minor": 0
      },
      "text/plain": [
       "Running seeds...:   0%|          | 0/1 [00:00<?, ?it/s]"
      ]
     },
     "metadata": {},
     "output_type": "display_data"
    },
    {
     "data": {
      "application/vnd.jupyter.widget-view+json": {
       "model_id": "c0a0c322b04c4771a11e54628383eadc",
       "version_major": 2,
       "version_minor": 0
      },
      "text/plain": [
       "  0%|          | 0/1 [00:00<?, ?it/s]"
      ]
     },
     "metadata": {},
     "output_type": "display_data"
    }
   ],
   "source": [
    "LaTeX_string = Performer.simple_run(\n",
    "    agent_class=MODEL,\n",
    "    fixed_parameters=fixed_parameters,\n",
    "    free_parameters=free_parameters,\n",
    "    simulation_parameters=simulation_parameters,\n",
    "    image_folder=image_folder,\n",
    "    measures=['render'],\n",
    "    seeds=[0]\n",
    "    # kwargs=kwargs\n",
    ")"
   ]
  },
  {
   "cell_type": "code",
   "execution_count": 10,
   "metadata": {},
   "outputs": [
    {
     "data": {
      "application/vnd.jupyter.widget-view+json": {
       "model_id": "eaa0b1582dca413e9d98eea64503ed26",
       "version_major": 2,
       "version_minor": 0
      },
      "text/plain": [
       "  0%|          | 0/10 [00:00<?, ?it/s]"
      ]
     },
     "metadata": {},
     "output_type": "display_data"
    },
    {
     "name": "stdout",
     "output_type": "stream",
     "text": [
      "Plotting attendance...\n",
      "Plot saved to ../images/Priors/M3/attendance_2.png\n",
      "Plotting conditional_entropy...\n",
      "Plot saved to ../images/Priors/M3/conditional_entropy_2.png\n",
      "Plotting entropy...\n",
      "Plot saved to ../images/Priors/M3/entropy_2.png\n",
      "Plotting efficiency...\n",
      "Plot saved to ../images/Priors/M3/efficiency_2.png\n",
      "Plotting inequality...\n",
      "Plot saved to ../images/Priors/M3/inequality_2.png\n",
      "Plotting alternation_index...\n"
     ]
    },
    {
     "ename": "MemoryError",
     "evalue": "Unable to allocate 28.7 PiB for an array with shape (4043087533822959,) and data type float64",
     "output_type": "error",
     "traceback": [
      "\u001b[31m---------------------------------------------------------------------------\u001b[39m",
      "\u001b[31mMemoryError\u001b[39m                               Traceback (most recent call last)",
      "\u001b[36mCell\u001b[39m\u001b[36m \u001b[39m\u001b[32mIn[10]\u001b[39m\u001b[32m, line 2\u001b[39m\n\u001b[32m      1\u001b[39m kwargs = {\u001b[33m'\u001b[39m\u001b[33mfigsize\u001b[39m\u001b[33m'\u001b[39m: (\u001b[32m4\u001b[39m, \u001b[32m3\u001b[39m)}\n\u001b[32m----> \u001b[39m\u001b[32m2\u001b[39m LaTeX_string = \u001b[43mPerformer\u001b[49m\u001b[43m.\u001b[49m\u001b[43msimple_plots\u001b[49m\u001b[43m(\u001b[49m\n\u001b[32m      3\u001b[39m \u001b[43m    \u001b[49m\u001b[43magent_class\u001b[49m\u001b[43m=\u001b[49m\u001b[43mMODEL\u001b[49m\u001b[43m,\u001b[49m\n\u001b[32m      4\u001b[39m \u001b[43m    \u001b[49m\u001b[43mfixed_parameters\u001b[49m\u001b[43m=\u001b[49m\u001b[43mfixed_parameters\u001b[49m\u001b[43m,\u001b[49m\n\u001b[32m      5\u001b[39m \u001b[43m    \u001b[49m\u001b[43mfree_parameters\u001b[49m\u001b[43m=\u001b[49m\u001b[43mfree_parameters\u001b[49m\u001b[43m,\u001b[49m\n\u001b[32m      6\u001b[39m \u001b[43m    \u001b[49m\u001b[43msimulation_parameters\u001b[49m\u001b[43m=\u001b[49m\u001b[43msimulation_parameters\u001b[49m\u001b[43m,\u001b[49m\n\u001b[32m      7\u001b[39m \u001b[43m    \u001b[49m\u001b[43mimage_folder\u001b[49m\u001b[43m=\u001b[49m\u001b[43mimage_folder\u001b[49m\u001b[43m,\u001b[49m\n\u001b[32m      8\u001b[39m \u001b[43m    \u001b[49m\u001b[43mmeasures\u001b[49m\u001b[43m=\u001b[49m\u001b[43m[\u001b[49m\n\u001b[32m      9\u001b[39m \u001b[43m        \u001b[49m\u001b[33;43m'\u001b[39;49m\u001b[33;43mattendance\u001b[39;49m\u001b[33;43m'\u001b[39;49m\u001b[43m,\u001b[49m\u001b[43m \u001b[49m\n\u001b[32m     10\u001b[39m \u001b[43m        \u001b[49m\u001b[33;43m'\u001b[39;49m\u001b[33;43mconditional_entropy\u001b[39;49m\u001b[33;43m'\u001b[39;49m\u001b[43m,\u001b[49m\u001b[43m \u001b[49m\n\u001b[32m     11\u001b[39m \u001b[43m        \u001b[49m\u001b[33;43m'\u001b[39;49m\u001b[33;43mentropy\u001b[39;49m\u001b[33;43m'\u001b[39;49m\u001b[43m,\u001b[49m\u001b[43m \u001b[49m\n\u001b[32m     12\u001b[39m \u001b[43m        \u001b[49m\u001b[33;43m'\u001b[39;49m\u001b[33;43mefficiency\u001b[39;49m\u001b[33;43m'\u001b[39;49m\u001b[43m,\u001b[49m\u001b[43m \u001b[49m\n\u001b[32m     13\u001b[39m \u001b[43m        \u001b[49m\u001b[33;43m'\u001b[39;49m\u001b[33;43minequality\u001b[39;49m\u001b[33;43m'\u001b[39;49m\u001b[43m,\u001b[49m\u001b[43m \u001b[49m\n\u001b[32m     14\u001b[39m \u001b[43m        \u001b[49m\u001b[33;43m'\u001b[39;49m\u001b[33;43malternation_index\u001b[39;49m\u001b[33;43m'\u001b[39;49m\n\u001b[32m     15\u001b[39m \u001b[43m    \u001b[49m\u001b[43m]\u001b[49m\u001b[43m,\u001b[49m\n\u001b[32m     16\u001b[39m \u001b[43m    \u001b[49m\u001b[38;5;66;43;03m# kwargs=kwargs\u001b[39;49;00m\n\u001b[32m     17\u001b[39m \u001b[43m)\u001b[49m\n",
      "\u001b[36mFile \u001b[39m\u001b[32m~/Documents/GitHub/Cognitive_Models_El_Farol_Bar_Problem/Notebooks/../src/Utils/interaction.py:798\u001b[39m, in \u001b[36mPerformer.simple_plots\u001b[39m\u001b[34m(agent_class, fixed_parameters, free_parameters, simulation_parameters, measures, image_folder, data_folder, kwargs)\u001b[39m\n\u001b[32m    796\u001b[39m     \u001b[38;5;28;01mif\u001b[39;00m kwargs \u001b[38;5;129;01mis\u001b[39;00m \u001b[38;5;129;01mnot\u001b[39;00m \u001b[38;5;28;01mNone\u001b[39;00m:\n\u001b[32m    797\u001b[39m         kwargs_.update(kwargs)\n\u001b[32m--> \u001b[39m\u001b[32m798\u001b[39m     \u001b[43mp\u001b[49m\u001b[43m.\u001b[49m\u001b[43mplot_measures\u001b[49m\u001b[43m(\u001b[49m\n\u001b[32m    799\u001b[39m \u001b[43m        \u001b[49m\u001b[43mmeasures\u001b[49m\u001b[43m=\u001b[49m\u001b[43mmeasures\u001b[49m\u001b[43m,\u001b[49m\u001b[43m \u001b[49m\n\u001b[32m    800\u001b[39m \u001b[43m        \u001b[49m\u001b[43mfolder\u001b[49m\u001b[43m=\u001b[49m\u001b[43mimage_folder\u001b[49m\u001b[43m,\u001b[49m\n\u001b[32m    801\u001b[39m \u001b[43m        \u001b[49m\u001b[43mkwargs\u001b[49m\u001b[43m=\u001b[49m\u001b[43mkwargs_\u001b[49m\n\u001b[32m    802\u001b[39m \u001b[43m    \u001b[49m\u001b[43m)\u001b[49m\n\u001b[32m    803\u001b[39m \u001b[38;5;28;01melif\u001b[39;00m image_folder \u001b[38;5;129;01mis\u001b[39;00m \u001b[38;5;28;01mNone\u001b[39;00m \u001b[38;5;129;01mor\u001b[39;00m measures \u001b[38;5;129;01mis\u001b[39;00m \u001b[38;5;129;01mnot\u001b[39;00m \u001b[38;5;28;01mNone\u001b[39;00m:\n\u001b[32m    804\u001b[39m     \u001b[38;5;28mprint\u001b[39m(\u001b[33m'\u001b[39m\u001b[33mWarning: In order to save plots, both arguments \u001b[39m\u001b[33m\"\u001b[39m\u001b[33mimage_folder\u001b[39m\u001b[33m\"\u001b[39m\u001b[33m and \u001b[39m\u001b[33m\"\u001b[39m\u001b[33mmeasures\u001b[39m\u001b[33m\"\u001b[39m\u001b[33m should be given.\u001b[39m\u001b[33m'\u001b[39m)\n",
      "\u001b[36mFile \u001b[39m\u001b[32m~/Documents/GitHub/Cognitive_Models_El_Farol_Bar_Problem/Notebooks/../src/Utils/plot_utils.py:127\u001b[39m, in \u001b[36mPlotStandardMeasures.plot_measures\u001b[39m\u001b[34m(self, measures, folder, kwargs, categorical, suffix)\u001b[39m\n\u001b[32m    125\u001b[39m \u001b[38;5;28;01mif\u001b[39;00m \u001b[33m'\u001b[39m\u001b[33mtitle\u001b[39m\u001b[33m'\u001b[39m \u001b[38;5;129;01mnot\u001b[39;00m \u001b[38;5;129;01min\u001b[39;00m kwargs_.keys():\n\u001b[32m    126\u001b[39m     kwargs_[\u001b[33m'\u001b[39m\u001b[33mtitle\u001b[39m\u001b[33m'\u001b[39m] = m[\u001b[32m0\u001b[39m].upper() + m[\u001b[32m1\u001b[39m:]\n\u001b[32m--> \u001b[39m\u001b[32m127\u001b[39m \u001b[38;5;28;43mself\u001b[39;49m\u001b[43m.\u001b[49m\u001b[43mplot\u001b[49m\u001b[43m(\u001b[49m\n\u001b[32m    128\u001b[39m \u001b[43m    \u001b[49m\u001b[43mmeasure\u001b[49m\u001b[43m=\u001b[49m\u001b[43mm\u001b[49m\u001b[43m,\u001b[49m\u001b[43m \u001b[49m\n\u001b[32m    129\u001b[39m \u001b[43m    \u001b[49m\u001b[43mdata\u001b[49m\u001b[43m=\u001b[49m\u001b[43mdata\u001b[49m\u001b[43m,\u001b[49m\n\u001b[32m    130\u001b[39m \u001b[43m    \u001b[49m\u001b[43mkwargs\u001b[49m\u001b[43m=\u001b[49m\u001b[43mkwargs_\u001b[49m\u001b[43m,\u001b[49m\n\u001b[32m    131\u001b[39m \u001b[43m    \u001b[49m\u001b[43mcategorical\u001b[49m\u001b[43m=\u001b[49m\u001b[43mcategorical\u001b[49m\u001b[43m,\u001b[49m\n\u001b[32m    132\u001b[39m \u001b[43m    \u001b[49m\u001b[43mfile\u001b[49m\u001b[43m=\u001b[49m\u001b[43mfile_\u001b[49m\n\u001b[32m    133\u001b[39m \u001b[43m\u001b[49m\u001b[43m)\u001b[49m\n\u001b[32m    134\u001b[39m \u001b[38;5;28;01mif\u001b[39;00m folder \u001b[38;5;129;01mis\u001b[39;00m \u001b[38;5;129;01mnot\u001b[39;00m \u001b[38;5;28;01mNone\u001b[39;00m:\n\u001b[32m    135\u001b[39m     list_of_paths.append(file_)\n",
      "\u001b[36mFile \u001b[39m\u001b[32m~/Documents/GitHub/Cognitive_Models_El_Farol_Bar_Problem/Notebooks/../src/Utils/plot_utils.py:192\u001b[39m, in \u001b[36mPlotStandardMeasures.plot\u001b[39m\u001b[34m(self, measure, data, kwargs, categorical, file)\u001b[39m\n\u001b[32m    189\u001b[39m     ax.set_ylabel(variable)\n\u001b[32m    190\u001b[39m     \u001b[38;5;66;03m# ax.set_ylim([-1.1, 1.1])\u001b[39;00m\n\u001b[32m    191\u001b[39m \u001b[38;5;28;01melse\u001b[39;00m:\n\u001b[32m--> \u001b[39m\u001b[32m192\u001b[39m     \u001b[43mhistplot\u001b[49m\u001b[43m(\u001b[49m\n\u001b[32m    193\u001b[39m \u001b[43m        \u001b[49m\u001b[43mdata\u001b[49m\u001b[43m[\u001b[49m\u001b[43mvariable\u001b[49m\u001b[43m]\u001b[49m\u001b[43m,\u001b[49m\n\u001b[32m    194\u001b[39m \u001b[43m        \u001b[49m\u001b[43max\u001b[49m\u001b[43m=\u001b[49m\u001b[43max\u001b[49m\n\u001b[32m    195\u001b[39m \u001b[43m    \u001b[49m\u001b[43m)\u001b[49m\n\u001b[32m    196\u001b[39m     ax.set_xlabel(variable)\n\u001b[32m    197\u001b[39m     \u001b[38;5;66;03m# ax.set_xlim([-1.1, 1.1])\u001b[39;00m\n",
      "\u001b[36mFile \u001b[39m\u001b[32m~/virtualenvs/venv-3.13/lib/python3.13/site-packages/seaborn/distributions.py:1416\u001b[39m, in \u001b[36mhistplot\u001b[39m\u001b[34m(data, x, y, hue, weights, stat, bins, binwidth, binrange, discrete, cumulative, common_bins, common_norm, multiple, element, fill, shrink, kde, kde_kws, line_kws, thresh, pthresh, pmax, cbar, cbar_ax, cbar_kws, palette, hue_order, hue_norm, color, log_scale, legend, ax, **kwargs)\u001b[39m\n\u001b[32m   1405\u001b[39m estimate_kws = \u001b[38;5;28mdict\u001b[39m(\n\u001b[32m   1406\u001b[39m     stat=stat,\n\u001b[32m   1407\u001b[39m     bins=bins,\n\u001b[32m   (...)\u001b[39m\u001b[32m   1411\u001b[39m     cumulative=cumulative,\n\u001b[32m   1412\u001b[39m )\n\u001b[32m   1414\u001b[39m \u001b[38;5;28;01mif\u001b[39;00m p.univariate:\n\u001b[32m-> \u001b[39m\u001b[32m1416\u001b[39m     \u001b[43mp\u001b[49m\u001b[43m.\u001b[49m\u001b[43mplot_univariate_histogram\u001b[49m\u001b[43m(\u001b[49m\n\u001b[32m   1417\u001b[39m \u001b[43m        \u001b[49m\u001b[43mmultiple\u001b[49m\u001b[43m=\u001b[49m\u001b[43mmultiple\u001b[49m\u001b[43m,\u001b[49m\n\u001b[32m   1418\u001b[39m \u001b[43m        \u001b[49m\u001b[43melement\u001b[49m\u001b[43m=\u001b[49m\u001b[43melement\u001b[49m\u001b[43m,\u001b[49m\n\u001b[32m   1419\u001b[39m \u001b[43m        \u001b[49m\u001b[43mfill\u001b[49m\u001b[43m=\u001b[49m\u001b[43mfill\u001b[49m\u001b[43m,\u001b[49m\n\u001b[32m   1420\u001b[39m \u001b[43m        \u001b[49m\u001b[43mshrink\u001b[49m\u001b[43m=\u001b[49m\u001b[43mshrink\u001b[49m\u001b[43m,\u001b[49m\n\u001b[32m   1421\u001b[39m \u001b[43m        \u001b[49m\u001b[43mcommon_norm\u001b[49m\u001b[43m=\u001b[49m\u001b[43mcommon_norm\u001b[49m\u001b[43m,\u001b[49m\n\u001b[32m   1422\u001b[39m \u001b[43m        \u001b[49m\u001b[43mcommon_bins\u001b[49m\u001b[43m=\u001b[49m\u001b[43mcommon_bins\u001b[49m\u001b[43m,\u001b[49m\n\u001b[32m   1423\u001b[39m \u001b[43m        \u001b[49m\u001b[43mkde\u001b[49m\u001b[43m=\u001b[49m\u001b[43mkde\u001b[49m\u001b[43m,\u001b[49m\n\u001b[32m   1424\u001b[39m \u001b[43m        \u001b[49m\u001b[43mkde_kws\u001b[49m\u001b[43m=\u001b[49m\u001b[43mkde_kws\u001b[49m\u001b[43m,\u001b[49m\n\u001b[32m   1425\u001b[39m \u001b[43m        \u001b[49m\u001b[43mcolor\u001b[49m\u001b[43m=\u001b[49m\u001b[43mcolor\u001b[49m\u001b[43m,\u001b[49m\n\u001b[32m   1426\u001b[39m \u001b[43m        \u001b[49m\u001b[43mlegend\u001b[49m\u001b[43m=\u001b[49m\u001b[43mlegend\u001b[49m\u001b[43m,\u001b[49m\n\u001b[32m   1427\u001b[39m \u001b[43m        \u001b[49m\u001b[43mestimate_kws\u001b[49m\u001b[43m=\u001b[49m\u001b[43mestimate_kws\u001b[49m\u001b[43m,\u001b[49m\n\u001b[32m   1428\u001b[39m \u001b[43m        \u001b[49m\u001b[43mline_kws\u001b[49m\u001b[43m=\u001b[49m\u001b[43mline_kws\u001b[49m\u001b[43m,\u001b[49m\n\u001b[32m   1429\u001b[39m \u001b[43m        \u001b[49m\u001b[43m*\u001b[49m\u001b[43m*\u001b[49m\u001b[43mkwargs\u001b[49m\u001b[43m,\u001b[49m\n\u001b[32m   1430\u001b[39m \u001b[43m    \u001b[49m\u001b[43m)\u001b[49m\n\u001b[32m   1432\u001b[39m \u001b[38;5;28;01melse\u001b[39;00m:\n\u001b[32m   1434\u001b[39m     p.plot_bivariate_histogram(\n\u001b[32m   1435\u001b[39m         common_bins=common_bins,\n\u001b[32m   1436\u001b[39m         common_norm=common_norm,\n\u001b[32m   (...)\u001b[39m\u001b[32m   1446\u001b[39m         **kwargs,\n\u001b[32m   1447\u001b[39m     )\n",
      "\u001b[36mFile \u001b[39m\u001b[32m~/virtualenvs/venv-3.13/lib/python3.13/site-packages/seaborn/distributions.py:470\u001b[39m, in \u001b[36m_DistributionPlotter.plot_univariate_histogram\u001b[39m\u001b[34m(self, multiple, element, fill, common_norm, common_bins, shrink, kde, kde_kws, color, legend, line_kws, estimate_kws, **plot_kws)\u001b[39m\n\u001b[32m    468\u001b[39m \u001b[38;5;66;03m# Do the histogram computation\u001b[39;00m\n\u001b[32m    469\u001b[39m \u001b[38;5;28;01mif\u001b[39;00m \u001b[38;5;129;01mnot\u001b[39;00m (multiple_histograms \u001b[38;5;129;01mand\u001b[39;00m common_bins):\n\u001b[32m--> \u001b[39m\u001b[32m470\u001b[39m     bin_kws = \u001b[43mestimator\u001b[49m\u001b[43m.\u001b[49m\u001b[43m_define_bin_params\u001b[49m\u001b[43m(\u001b[49m\u001b[43msub_data\u001b[49m\u001b[43m,\u001b[49m\u001b[43m \u001b[49m\u001b[43morient\u001b[49m\u001b[43m,\u001b[49m\u001b[43m \u001b[49m\u001b[38;5;28;43;01mNone\u001b[39;49;00m\u001b[43m)\u001b[49m\n\u001b[32m    471\u001b[39m res = estimator._normalize(estimator._eval(sub_data, orient, bin_kws))\n\u001b[32m    472\u001b[39m heights = res[estimator.stat].to_numpy()\n",
      "\u001b[36mFile \u001b[39m\u001b[32m~/virtualenvs/venv-3.13/lib/python3.13/site-packages/seaborn/_stats/counting.py:152\u001b[39m, in \u001b[36mHist._define_bin_params\u001b[39m\u001b[34m(self, data, orient, scale_type)\u001b[39m\n\u001b[32m    148\u001b[39m \u001b[38;5;66;03m# TODO We'll want this for ordinal / discrete scales too\u001b[39;00m\n\u001b[32m    149\u001b[39m \u001b[38;5;66;03m# (Do we need discrete as a parameter or just infer from scale?)\u001b[39;00m\n\u001b[32m    150\u001b[39m discrete = \u001b[38;5;28mself\u001b[39m.discrete \u001b[38;5;129;01mor\u001b[39;00m scale_type == \u001b[33m\"\u001b[39m\u001b[33mnominal\u001b[39m\u001b[33m\"\u001b[39m\n\u001b[32m--> \u001b[39m\u001b[32m152\u001b[39m bin_edges = \u001b[38;5;28;43mself\u001b[39;49m\u001b[43m.\u001b[49m\u001b[43m_define_bin_edges\u001b[49m\u001b[43m(\u001b[49m\n\u001b[32m    153\u001b[39m \u001b[43m    \u001b[49m\u001b[43mvals\u001b[49m\u001b[43m,\u001b[49m\u001b[43m \u001b[49m\u001b[43mweights\u001b[49m\u001b[43m,\u001b[49m\u001b[43m \u001b[49m\u001b[38;5;28;43mself\u001b[39;49m\u001b[43m.\u001b[49m\u001b[43mbins\u001b[49m\u001b[43m,\u001b[49m\u001b[43m \u001b[49m\u001b[38;5;28;43mself\u001b[39;49m\u001b[43m.\u001b[49m\u001b[43mbinwidth\u001b[49m\u001b[43m,\u001b[49m\u001b[43m \u001b[49m\u001b[38;5;28;43mself\u001b[39;49m\u001b[43m.\u001b[49m\u001b[43mbinrange\u001b[49m\u001b[43m,\u001b[49m\u001b[43m \u001b[49m\u001b[43mdiscrete\u001b[49m\u001b[43m,\u001b[49m\n\u001b[32m    154\u001b[39m \u001b[43m\u001b[49m\u001b[43m)\u001b[49m\n\u001b[32m    156\u001b[39m \u001b[38;5;28;01mif\u001b[39;00m \u001b[38;5;28misinstance\u001b[39m(\u001b[38;5;28mself\u001b[39m.bins, (\u001b[38;5;28mstr\u001b[39m, \u001b[38;5;28mint\u001b[39m)):\n\u001b[32m    157\u001b[39m     n_bins = \u001b[38;5;28mlen\u001b[39m(bin_edges) - \u001b[32m1\u001b[39m\n",
      "\u001b[36mFile \u001b[39m\u001b[32m~/virtualenvs/venv-3.13/lib/python3.13/site-packages/seaborn/_stats/counting.py:137\u001b[39m, in \u001b[36mHist._define_bin_edges\u001b[39m\u001b[34m(self, vals, weight, bins, binwidth, binrange, discrete)\u001b[39m\n\u001b[32m    135\u001b[39m     \u001b[38;5;28;01mif\u001b[39;00m binwidth \u001b[38;5;129;01mis\u001b[39;00m \u001b[38;5;129;01mnot\u001b[39;00m \u001b[38;5;28;01mNone\u001b[39;00m:\n\u001b[32m    136\u001b[39m         bins = \u001b[38;5;28mint\u001b[39m(\u001b[38;5;28mround\u001b[39m((stop - start) / binwidth))\n\u001b[32m--> \u001b[39m\u001b[32m137\u001b[39m     bin_edges = \u001b[43mnp\u001b[49m\u001b[43m.\u001b[49m\u001b[43mhistogram_bin_edges\u001b[49m\u001b[43m(\u001b[49m\u001b[43mvals\u001b[49m\u001b[43m,\u001b[49m\u001b[43m \u001b[49m\u001b[43mbins\u001b[49m\u001b[43m,\u001b[49m\u001b[43m \u001b[49m\u001b[43mbinrange\u001b[49m\u001b[43m,\u001b[49m\u001b[43m \u001b[49m\u001b[43mweight\u001b[49m\u001b[43m)\u001b[49m\n\u001b[32m    139\u001b[39m \u001b[38;5;66;03m# TODO warning or cap on too many bins?\u001b[39;00m\n\u001b[32m    141\u001b[39m \u001b[38;5;28;01mreturn\u001b[39;00m bin_edges\n",
      "\u001b[36mFile \u001b[39m\u001b[32m~/virtualenvs/venv-3.13/lib/python3.13/site-packages/numpy/lib/_histograms_impl.py:680\u001b[39m, in \u001b[36mhistogram_bin_edges\u001b[39m\u001b[34m(a, bins, range, weights)\u001b[39m\n\u001b[32m    479\u001b[39m \u001b[38;5;250m\u001b[39m\u001b[33mr\u001b[39m\u001b[33;03m\"\"\"\u001b[39;00m\n\u001b[32m    480\u001b[39m \u001b[33;03mFunction to calculate only the edges of the bins used by the `histogram`\u001b[39;00m\n\u001b[32m    481\u001b[39m \u001b[33;03mfunction.\u001b[39;00m\n\u001b[32m   (...)\u001b[39m\u001b[32m    677\u001b[39m \n\u001b[32m    678\u001b[39m \u001b[33;03m\"\"\"\u001b[39;00m\n\u001b[32m    679\u001b[39m a, weights = _ravel_and_check_weights(a, weights)\n\u001b[32m--> \u001b[39m\u001b[32m680\u001b[39m bin_edges, _ = \u001b[43m_get_bin_edges\u001b[49m\u001b[43m(\u001b[49m\u001b[43ma\u001b[49m\u001b[43m,\u001b[49m\u001b[43m \u001b[49m\u001b[43mbins\u001b[49m\u001b[43m,\u001b[49m\u001b[43m \u001b[49m\u001b[38;5;28;43mrange\u001b[39;49m\u001b[43m,\u001b[49m\u001b[43m \u001b[49m\u001b[43mweights\u001b[49m\u001b[43m)\u001b[49m\n\u001b[32m    681\u001b[39m \u001b[38;5;28;01mreturn\u001b[39;00m bin_edges\n",
      "\u001b[36mFile \u001b[39m\u001b[32m~/virtualenvs/venv-3.13/lib/python3.13/site-packages/numpy/lib/_histograms_impl.py:449\u001b[39m, in \u001b[36m_get_bin_edges\u001b[39m\u001b[34m(a, bins, range, weights)\u001b[39m\n\u001b[32m    446\u001b[39m     bin_type = np.result_type(bin_type, \u001b[38;5;28mfloat\u001b[39m)\n\u001b[32m    448\u001b[39m \u001b[38;5;66;03m# bin edges must be computed\u001b[39;00m\n\u001b[32m--> \u001b[39m\u001b[32m449\u001b[39m bin_edges = \u001b[43mnp\u001b[49m\u001b[43m.\u001b[49m\u001b[43mlinspace\u001b[49m\u001b[43m(\u001b[49m\n\u001b[32m    450\u001b[39m \u001b[43m    \u001b[49m\u001b[43mfirst_edge\u001b[49m\u001b[43m,\u001b[49m\u001b[43m \u001b[49m\u001b[43mlast_edge\u001b[49m\u001b[43m,\u001b[49m\u001b[43m \u001b[49m\u001b[43mn_equal_bins\u001b[49m\u001b[43m \u001b[49m\u001b[43m+\u001b[49m\u001b[43m \u001b[49m\u001b[32;43m1\u001b[39;49m\u001b[43m,\u001b[49m\n\u001b[32m    451\u001b[39m \u001b[43m    \u001b[49m\u001b[43mendpoint\u001b[49m\u001b[43m=\u001b[49m\u001b[38;5;28;43;01mTrue\u001b[39;49;00m\u001b[43m,\u001b[49m\u001b[43m \u001b[49m\u001b[43mdtype\u001b[49m\u001b[43m=\u001b[49m\u001b[43mbin_type\u001b[49m\u001b[43m)\u001b[49m\n\u001b[32m    452\u001b[39m \u001b[38;5;28;01mif\u001b[39;00m np.any(bin_edges[:-\u001b[32m1\u001b[39m] >= bin_edges[\u001b[32m1\u001b[39m:]):\n\u001b[32m    453\u001b[39m     \u001b[38;5;28;01mraise\u001b[39;00m \u001b[38;5;167;01mValueError\u001b[39;00m(\n\u001b[32m    454\u001b[39m         \u001b[33mf\u001b[39m\u001b[33m'\u001b[39m\u001b[33mToo many bins for data range. Cannot create \u001b[39m\u001b[38;5;132;01m{\u001b[39;00mn_equal_bins\u001b[38;5;132;01m}\u001b[39;00m\u001b[33m \u001b[39m\u001b[33m'\u001b[39m\n\u001b[32m    455\u001b[39m         \u001b[33mf\u001b[39m\u001b[33m'\u001b[39m\u001b[33mfinite-sized bins.\u001b[39m\u001b[33m'\u001b[39m)\n",
      "\u001b[36mFile \u001b[39m\u001b[32m~/virtualenvs/venv-3.13/lib/python3.13/site-packages/numpy/_core/function_base.py:140\u001b[39m, in \u001b[36mlinspace\u001b[39m\u001b[34m(start, stop, num, endpoint, retstep, dtype, axis, device)\u001b[39m\n\u001b[32m    138\u001b[39m \u001b[38;5;66;03m# Use `dtype=type(dt)` to enforce a floating point evaluation:\u001b[39;00m\n\u001b[32m    139\u001b[39m delta = np.subtract(stop, start, dtype=\u001b[38;5;28mtype\u001b[39m(dt))\n\u001b[32m--> \u001b[39m\u001b[32m140\u001b[39m y = \u001b[43m_nx\u001b[49m\u001b[43m.\u001b[49m\u001b[43marange\u001b[49m\u001b[43m(\u001b[49m\n\u001b[32m    141\u001b[39m \u001b[43m    \u001b[49m\u001b[32;43m0\u001b[39;49m\u001b[43m,\u001b[49m\u001b[43m \u001b[49m\u001b[43mnum\u001b[49m\u001b[43m,\u001b[49m\u001b[43m \u001b[49m\u001b[43mdtype\u001b[49m\u001b[43m=\u001b[49m\u001b[43mdt\u001b[49m\u001b[43m,\u001b[49m\u001b[43m \u001b[49m\u001b[43mdevice\u001b[49m\u001b[43m=\u001b[49m\u001b[43mdevice\u001b[49m\n\u001b[32m    142\u001b[39m \u001b[43m\u001b[49m\u001b[43m)\u001b[49m.reshape((-\u001b[32m1\u001b[39m,) + (\u001b[32m1\u001b[39m,) * ndim(delta))\n\u001b[32m    144\u001b[39m \u001b[38;5;66;03m# In-place multiplication y *= delta/div is faster, but prevents\u001b[39;00m\n\u001b[32m    145\u001b[39m \u001b[38;5;66;03m# the multiplicant from overriding what class is produced, and thus\u001b[39;00m\n\u001b[32m    146\u001b[39m \u001b[38;5;66;03m# prevents, e.g. use of Quantities, see gh-7142. Hence, we multiply\u001b[39;00m\n\u001b[32m    147\u001b[39m \u001b[38;5;66;03m# in place only for standard scalar types.\u001b[39;00m\n\u001b[32m    148\u001b[39m \u001b[38;5;28;01mif\u001b[39;00m div > \u001b[32m0\u001b[39m:\n",
      "\u001b[31mMemoryError\u001b[39m: Unable to allocate 28.7 PiB for an array with shape (4043087533822959,) and data type float64"
     ]
    },
    {
     "data": {
      "image/png": "[encoded data removed]",
      "text/plain": [
       "<Figure size 300x350 with 1 Axes>"
      ]
     },
     "metadata": {},
     "output_type": "display_data"
    }
   ],
   "source": [
    "kwargs = {'figsize': (4, 3)}\n",
    "LaTeX_string = Performer.simple_plots(\n",
    "    agent_class=MODEL,\n",
    "    fixed_parameters=fixed_parameters,\n",
    "    free_parameters=free_parameters,\n",
    "    simulation_parameters=simulation_parameters,\n",
    "    image_folder=image_folder,\n",
    "    measures=[\n",
    "        'attendance', \n",
    "        'conditional_entropy', \n",
    "        'entropy', \n",
    "        'efficiency', \n",
    "        'inequality', \n",
    "        'alternation_index'\n",
    "    ],\n",
    "    # kwargs=kwargs\n",
    ")"
   ]
  },
  {
   "cell_type": "code",
   "execution_count": null,
   "metadata": {},
   "outputs": [],
   "source": [
    "import sys\n",
    "sys.path.append(\"../src/\")\n",
    "\n",
    "import warnings\n",
    "warnings.filterwarnings(\"ignore\")"
   ]
  },
  {
   "cell_type": "code",
   "execution_count": null,
   "metadata": {},
   "outputs": [],
   "source": [
    "import pandas as pd\n",
    "\n",
    "from pathlib import Path\n",
    "\n",
    "from Config.config import PATHS\n",
    "from Classes.parameter_recovery import ParameterFit\n",
    "from Classes.cognitive_model_agents import PriorsM1, PriorsM2, PriorsM3"
   ]
  },
  {
   "cell_type": "code",
   "execution_count": null,
   "metadata": {},
   "outputs": [
    {
     "name": "stdout",
     "output_type": "stream",
     "text": [
      "Loading data from C:\\Users\\edgar.andrade\\Documents\\Repositorios\\Cognitive_Models_El_Farol_Bar_Problem\\data\\human\\multi-player.csv...\n"
     ]
    },
    {
     "data": {
      "text/html": [
       "<div>\n",
       "<style scoped>\n",
       "    .dataframe tbody tr th:only-of-type {\n",
       "        vertical-align: middle;\n",
       "    }\n",
       "\n",
       "    .dataframe tbody tr th {\n",
       "        vertical-align: top;\n",
       "    }\n",
       "\n",
       "    .dataframe thead th {\n",
       "        text-align: right;\n",
       "    }\n",
       "</style>\n",
       "<table border=\"1\" class=\"dataframe\">\n",
       "  <thead>\n",
       "    <tr style=\"text-align: right;\">\n",
       "      <th></th>\n",
       "      <th>threshold</th>\n",
       "      <th>round</th>\n",
       "      <th>player</th>\n",
       "      <th>decision</th>\n",
       "      <th>score</th>\n",
       "      <th>num_players</th>\n",
       "      <th>group</th>\n",
       "    </tr>\n",
       "  </thead>\n",
       "  <tbody>\n",
       "    <tr>\n",
       "      <th>0</th>\n",
       "      <td>0.875</td>\n",
       "      <td>1.0</td>\n",
       "      <td>589037721408239</td>\n",
       "      <td>1.0</td>\n",
       "      <td>1.0</td>\n",
       "      <td>8</td>\n",
       "      <td>7</td>\n",
       "    </tr>\n",
       "    <tr>\n",
       "      <th>1</th>\n",
       "      <td>0.875</td>\n",
       "      <td>1.0</td>\n",
       "      <td>586994455133371</td>\n",
       "      <td>1.0</td>\n",
       "      <td>1.0</td>\n",
       "      <td>8</td>\n",
       "      <td>7</td>\n",
       "    </tr>\n",
       "    <tr>\n",
       "      <th>2</th>\n",
       "      <td>0.875</td>\n",
       "      <td>1.0</td>\n",
       "      <td>810776187068695</td>\n",
       "      <td>1.0</td>\n",
       "      <td>1.0</td>\n",
       "      <td>8</td>\n",
       "      <td>7</td>\n",
       "    </tr>\n",
       "    <tr>\n",
       "      <th>3</th>\n",
       "      <td>0.875</td>\n",
       "      <td>1.0</td>\n",
       "      <td>776347950518335</td>\n",
       "      <td>0.0</td>\n",
       "      <td>0.0</td>\n",
       "      <td>8</td>\n",
       "      <td>7</td>\n",
       "    </tr>\n",
       "    <tr>\n",
       "      <th>4</th>\n",
       "      <td>0.875</td>\n",
       "      <td>1.0</td>\n",
       "      <td>754052083594053</td>\n",
       "      <td>1.0</td>\n",
       "      <td>1.0</td>\n",
       "      <td>8</td>\n",
       "      <td>7</td>\n",
       "    </tr>\n",
       "  </tbody>\n",
       "</table>\n",
       "</div>"
      ],
      "text/plain": [
       "   threshold  round           player  decision  score  num_players  group\n",
       "0      0.875    1.0  589037721408239       1.0    1.0            8      7\n",
       "1      0.875    1.0  586994455133371       1.0    1.0            8      7\n",
       "2      0.875    1.0  810776187068695       1.0    1.0            8      7\n",
       "3      0.875    1.0  776347950518335       0.0    0.0            8      7\n",
       "4      0.875    1.0  754052083594053       1.0    1.0            8      7"
      ]
     },
     "execution_count": 3,
     "metadata": {},
     "output_type": "execute_result"
    }
   ],
   "source": [
    "file_names = ['multi-player.csv']\n",
    "data_folder = PATHS['human_data']\n",
    "df_list = list()\n",
    "for file_name in file_names:\n",
    "\tfile = data_folder / Path(file_name)\n",
    "\tprint(f'Loading data from {file}...')\n",
    "\tdf = pd.read_csv(file)\n",
    "\tdf_list.append(df)\n",
    "data = pd.concat(df_list, ignore_index=True)\n",
    "columns = ['threshold', 'num_players', 'group', 'round', 'player', 'score', 'decision']\n",
    "drop_columns = [col for col in data.columns if col not in columns]\n",
    "data.drop(columns=drop_columns, inplace=True)\n",
    "data.head()"
   ]
  },
  {
   "cell_type": "code",
   "execution_count": null,
   "metadata": {},
   "outputs": [
    {
     "name": "stderr",
     "output_type": "stream",
     "text": [
      "Fitting models...:   0%|                                                                         | 0/1 [00:00<?, ?it/s]"
     ]
    },
    {
     "name": "stdout",
     "output_type": "stream",
     "text": [
      "Fitting data to model Priors-M1...\n",
      "Creating parameter recovery class...\n",
      "Running optimizer...\n",
      "Finding deviance for 4 players and threshold 0.25...\n",
      "Optimal parameters for 4 players and threshold 0.25:\n",
      "{'inverse_temperature': np.float64(55.142763115965934), '0-go_prob_0': np.float64(0.39565211681916285), '1-go_prob_0': np.float64(0.33478262789027263), '2-go_prob_0': np.float64(0.4826086917036025), '3-go_prob_0': np.float64(0.3913043082226385)}\n",
      "Deviance: -1272.834410424634\n",
      "AIC: 2555.668820849268\n",
      "--------------------------------------------------\n",
      "Finding deviance for 4 players and threshold 0.5...\n",
      "Optimal parameters for 4 players and threshold 0.5:\n",
      "{'inverse_temperature': np.float64(47.09751968825697), '0-go_prob_0': np.float64(0.554166881746282), '1-go_prob_0': np.float64(0.5708342160444032), '2-go_prob_0': np.float64(0.5041649632729646), '3-go_prob_0': np.float64(0.5291666318119261)}\n",
      "Deviance: -1366.7150980575832\n",
      "AIC: 2743.4301961151664\n",
      "--------------------------------------------------\n",
      "Finding deviance for 4 players and threshold 0.75...\n"
     ]
    },
    {
     "name": "stderr",
     "output_type": "stream",
     "text": [
      "Fitting models...:   0%|                                                                         | 0/1 [00:26<?, ?it/s]\n"
     ]
    },
    {
     "ename": "KeyboardInterrupt",
     "evalue": "",
     "output_type": "error",
     "traceback": [
      "\u001b[31m---------------------------------------------------------------------------\u001b[39m",
      "\u001b[31mKeyboardInterrupt\u001b[39m                         Traceback (most recent call last)",
      "\u001b[36mCell\u001b[39m\u001b[36m \u001b[39m\u001b[32mIn[4]\u001b[39m\u001b[32m, line 3\u001b[39m\n\u001b[32m      1\u001b[39m my_models = [PriorsM1]\n\u001b[32m----> \u001b[39m\u001b[32m3\u001b[39m \u001b[43mParameterFit\u001b[49m\u001b[43m.\u001b[49m\u001b[43mrun\u001b[49m\u001b[43m(\u001b[49m\n\u001b[32m      4\u001b[39m \u001b[43m    \u001b[49m\u001b[43mdata\u001b[49m\u001b[43m=\u001b[49m\u001b[43mdata\u001b[49m\u001b[43m,\u001b[49m\n\u001b[32m      5\u001b[39m \u001b[43m    \u001b[49m\u001b[43mmodel_list\u001b[49m\u001b[43m=\u001b[49m\u001b[43mmy_models\u001b[49m\u001b[43m,\u001b[49m\n\u001b[32m      6\u001b[39m \u001b[43m    \u001b[49m\u001b[43mbest_fit_path\u001b[49m\u001b[43m=\u001b[49m\u001b[43mPATHS\u001b[49m\u001b[43m[\u001b[49m\u001b[33;43m'\u001b[39;49m\u001b[33;43mparameter_fit_results\u001b[39;49m\u001b[33;43m'\u001b[39;49m\u001b[43m]\u001b[49m\u001b[43m \u001b[49m\u001b[43m/\u001b[49m\u001b[43m \u001b[49m\u001b[33;43m'\u001b[39;49m\u001b[33;43mbest_fit_2P_Scipy.json\u001b[39;49m\u001b[33;43m'\u001b[39;49m\u001b[43m,\u001b[49m\n\u001b[32m      7\u001b[39m \u001b[43m    \u001b[49m\u001b[43moptimizer_type\u001b[49m\u001b[43m=\u001b[49m\u001b[33;43m'\u001b[39;49m\u001b[33;43mscipy\u001b[39;49m\u001b[33;43m'\u001b[39;49m\u001b[43m,\u001b[49m\n\u001b[32m      8\u001b[39m \u001b[43m    \u001b[49m\u001b[43mhyperparameters\u001b[49m\u001b[43m=\u001b[49m\u001b[38;5;28;43;01mNone\u001b[39;49;00m\u001b[43m,\u001b[49m\n\u001b[32m      9\u001b[39m \u001b[43m    \u001b[49m\u001b[43mnew_file\u001b[49m\u001b[43m=\u001b[49m\u001b[38;5;28;43;01mTrue\u001b[39;49;00m\n\u001b[32m     10\u001b[39m \u001b[43m)\u001b[49m\n",
      "\u001b[36mFile \u001b[39m\u001b[32m~\\Documents\\Repositorios\\Cognitive_Models_El_Farol_Bar_Problem\\Notebooks\\../src\\Classes\\parameter_recovery.py:698\u001b[39m, in \u001b[36mParameterFit.run\u001b[39m\u001b[34m(data, model_list, best_fit_path, optimizer_type, hyperparameters, new_file)\u001b[39m\n\u001b[32m    690\u001b[39m pf = ParameterFit(\n\u001b[32m    691\u001b[39m     agent_class=model,\n\u001b[32m    692\u001b[39m     model_name=model.\u001b[34m__name__\u001b[39m,\n\u001b[32m    693\u001b[39m     data=data,\n\u001b[32m    694\u001b[39m     optimizer_type=optimizer_type\n\u001b[32m    695\u001b[39m )\n\u001b[32m    697\u001b[39m \u001b[38;5;28mprint\u001b[39m(\u001b[33m'\u001b[39m\u001b[33mRunning optimizer...\u001b[39m\u001b[33m'\u001b[39m)\n\u001b[32m--> \u001b[39m\u001b[32m698\u001b[39m res = \u001b[43mpf\u001b[49m\u001b[43m.\u001b[49m\u001b[43mget_optimal_parameters\u001b[49m\u001b[43m(\u001b[49m\u001b[43mhyperparameters\u001b[49m\u001b[43m)\u001b[49m\n\u001b[32m    699\u001b[39m best_fit.update(res)\n\u001b[32m    701\u001b[39m \u001b[38;5;66;03m# Write one JSON object per line\u001b[39;00m\n",
      "\u001b[36mFile \u001b[39m\u001b[32m~\\Documents\\Repositorios\\Cognitive_Models_El_Farol_Bar_Problem\\Notebooks\\../src\\Classes\\parameter_recovery.py:515\u001b[39m, in \u001b[36mParameterFit.get_optimal_parameters\u001b[39m\u001b[34m(self, hyperparameters)\u001b[39m\n\u001b[32m    512\u001b[39m     optimizer.maximize(**hyperparameters)\n\u001b[32m    513\u001b[39m \u001b[38;5;28;01melif\u001b[39;00m \u001b[38;5;28mself\u001b[39m.optimizer_type == \u001b[33m'\u001b[39m\u001b[33mscipy\u001b[39m\u001b[33m'\u001b[39m:\n\u001b[32m    514\u001b[39m     \u001b[38;5;66;03m# Find optimal parameters\u001b[39;00m\n\u001b[32m--> \u001b[39m\u001b[32m515\u001b[39m     result = \u001b[38;5;28;43mself\u001b[39;49m\u001b[43m.\u001b[49m\u001b[43mcreate_scipy_optimizer\u001b[49m\u001b[43m(\u001b[49m\n\u001b[32m    516\u001b[39m \u001b[43m        \u001b[49m\u001b[43mdata\u001b[49m\u001b[43m=\u001b[49m\u001b[43mdf\u001b[49m\u001b[43m,\u001b[49m\n\u001b[32m    517\u001b[39m \u001b[43m        \u001b[49m\u001b[43mfree_parameters\u001b[49m\u001b[43m=\u001b[49m\u001b[43mfree_parameters\u001b[49m\u001b[43m,\u001b[49m\u001b[43m \u001b[49m\n\u001b[32m    518\u001b[39m \u001b[43m        \u001b[49m\u001b[43mpbounds\u001b[49m\u001b[43m=\u001b[49m\u001b[43mpbounds\u001b[49m\n\u001b[32m    519\u001b[39m \u001b[43m    \u001b[49m\u001b[43m)\u001b[49m\n\u001b[32m    520\u001b[39m \u001b[38;5;28;01melse\u001b[39;00m:\n\u001b[32m    521\u001b[39m     \u001b[38;5;28;01mraise\u001b[39;00m \u001b[38;5;167;01mNotImplementedError\u001b[39;00m(\u001b[33mf\u001b[39m\u001b[33m'\u001b[39m\u001b[33mOptimizer \u001b[39m\u001b[38;5;132;01m{\u001b[39;00m\u001b[38;5;28mself\u001b[39m.optimizer_type\u001b[38;5;132;01m}\u001b[39;00m\u001b[33m not implemented!\u001b[39m\u001b[33m'\u001b[39m)\n",
      "\u001b[36mFile \u001b[39m\u001b[32m~\\Documents\\Repositorios\\Cognitive_Models_El_Farol_Bar_Problem\\Notebooks\\../src\\Classes\\parameter_recovery.py:604\u001b[39m, in \u001b[36mParameterFit.create_scipy_optimizer\u001b[39m\u001b[34m(self, data, free_parameters, pbounds)\u001b[39m\n\u001b[32m    602\u001b[39m x0 = \u001b[38;5;28mself\u001b[39m.random_init(pbounds)\n\u001b[32m    603\u001b[39m \u001b[38;5;66;03m# Define optimizer\u001b[39;00m\n\u001b[32m--> \u001b[39m\u001b[32m604\u001b[39m optimizer = \u001b[43mminimize\u001b[49m\u001b[43m(\u001b[49m\n\u001b[32m    605\u001b[39m \u001b[43m    \u001b[49m\u001b[43mblack_box_function\u001b[49m\u001b[43m,\u001b[49m\n\u001b[32m    606\u001b[39m \u001b[43m    \u001b[49m\u001b[43mx0\u001b[49m\u001b[43m=\u001b[49m\u001b[43mx0\u001b[49m\u001b[43m,\u001b[49m\n\u001b[32m    607\u001b[39m \u001b[43m    \u001b[49m\u001b[43mbounds\u001b[49m\u001b[43m=\u001b[49m\u001b[43mBounds\u001b[49m\u001b[43m(\u001b[49m\u001b[43mlower_bounds\u001b[49m\u001b[43m,\u001b[49m\u001b[43m \u001b[49m\u001b[43mupper_bounds\u001b[49m\u001b[43m)\u001b[49m\u001b[43m,\u001b[49m\n\u001b[32m    608\u001b[39m \u001b[43m    \u001b[49m\u001b[43mmethod\u001b[49m\u001b[43m=\u001b[49m\u001b[33;43m'\u001b[39;49m\u001b[33;43mL-BFGS-B\u001b[39;49m\u001b[33;43m'\u001b[39;49m\n\u001b[32m    609\u001b[39m \u001b[43m\u001b[49m\u001b[43m)\u001b[49m\n\u001b[32m    610\u001b[39m \u001b[38;5;28;01mreturn\u001b[39;00m optimizer\n",
      "\u001b[36mFile \u001b[39m\u001b[32m~\\Anaconda3\\envs\\venv\\Lib\\site-packages\\scipy\\optimize\\_minimize.py:785\u001b[39m, in \u001b[36mminimize\u001b[39m\u001b[34m(fun, x0, args, method, jac, hess, hessp, bounds, constraints, tol, callback, options)\u001b[39m\n\u001b[32m    782\u001b[39m     res = _minimize_newtoncg(fun, x0, args, jac, hess, hessp, callback,\n\u001b[32m    783\u001b[39m                              **options)\n\u001b[32m    784\u001b[39m \u001b[38;5;28;01melif\u001b[39;00m meth == \u001b[33m'\u001b[39m\u001b[33ml-bfgs-b\u001b[39m\u001b[33m'\u001b[39m:\n\u001b[32m--> \u001b[39m\u001b[32m785\u001b[39m     res = \u001b[43m_minimize_lbfgsb\u001b[49m\u001b[43m(\u001b[49m\u001b[43mfun\u001b[49m\u001b[43m,\u001b[49m\u001b[43m \u001b[49m\u001b[43mx0\u001b[49m\u001b[43m,\u001b[49m\u001b[43m \u001b[49m\u001b[43margs\u001b[49m\u001b[43m,\u001b[49m\u001b[43m \u001b[49m\u001b[43mjac\u001b[49m\u001b[43m,\u001b[49m\u001b[43m \u001b[49m\u001b[43mbounds\u001b[49m\u001b[43m,\u001b[49m\n\u001b[32m    786\u001b[39m \u001b[43m                           \u001b[49m\u001b[43mcallback\u001b[49m\u001b[43m=\u001b[49m\u001b[43mcallback\u001b[49m\u001b[43m,\u001b[49m\u001b[43m \u001b[49m\u001b[43m*\u001b[49m\u001b[43m*\u001b[49m\u001b[43moptions\u001b[49m\u001b[43m)\u001b[49m\n\u001b[32m    787\u001b[39m \u001b[38;5;28;01melif\u001b[39;00m meth == \u001b[33m'\u001b[39m\u001b[33mtnc\u001b[39m\u001b[33m'\u001b[39m:\n\u001b[32m    788\u001b[39m     res = _minimize_tnc(fun, x0, args, jac, bounds, callback=callback,\n\u001b[32m    789\u001b[39m                         **options)\n",
      "\u001b[36mFile \u001b[39m\u001b[32m~\\Anaconda3\\envs\\venv\\Lib\\site-packages\\scipy\\optimize\\_lbfgsb_py.py:469\u001b[39m, in \u001b[36m_minimize_lbfgsb\u001b[39m\u001b[34m(fun, x0, args, jac, bounds, disp, maxcor, ftol, gtol, eps, maxfun, maxiter, iprint, callback, maxls, finite_diff_rel_step, workers, **unknown_options)\u001b[39m\n\u001b[32m    461\u001b[39m _lbfgsb.setulb(m, x, low_bnd, upper_bnd, nbd, f, g, factr, pgtol, wa,\n\u001b[32m    462\u001b[39m                iwa, task, lsave, isave, dsave, maxls, ln_task)\n\u001b[32m    464\u001b[39m \u001b[38;5;28;01mif\u001b[39;00m task[\u001b[32m0\u001b[39m] == \u001b[32m3\u001b[39m:\n\u001b[32m    465\u001b[39m     \u001b[38;5;66;03m# The minimization routine wants f and g at the current x.\u001b[39;00m\n\u001b[32m    466\u001b[39m     \u001b[38;5;66;03m# Note that interruptions due to maxfun are postponed\u001b[39;00m\n\u001b[32m    467\u001b[39m     \u001b[38;5;66;03m# until the completion of the current minimization iteration.\u001b[39;00m\n\u001b[32m    468\u001b[39m     \u001b[38;5;66;03m# Overwrite f and g:\u001b[39;00m\n\u001b[32m--> \u001b[39m\u001b[32m469\u001b[39m     f, g = \u001b[43mfunc_and_grad\u001b[49m\u001b[43m(\u001b[49m\u001b[43mx\u001b[49m\u001b[43m)\u001b[49m\n\u001b[32m    470\u001b[39m \u001b[38;5;28;01melif\u001b[39;00m task[\u001b[32m0\u001b[39m] == \u001b[32m1\u001b[39m:\n\u001b[32m    471\u001b[39m     \u001b[38;5;66;03m# new iteration\u001b[39;00m\n\u001b[32m    472\u001b[39m     n_iterations += \u001b[32m1\u001b[39m\n",
      "\u001b[36mFile \u001b[39m\u001b[32m~\\Anaconda3\\envs\\venv\\Lib\\site-packages\\scipy\\optimize\\_differentiable_functions.py:403\u001b[39m, in \u001b[36mScalarFunction.fun_and_grad\u001b[39m\u001b[34m(self, x)\u001b[39m\n\u001b[32m    401\u001b[39m \u001b[38;5;28;01mif\u001b[39;00m \u001b[38;5;129;01mnot\u001b[39;00m np.array_equal(x, \u001b[38;5;28mself\u001b[39m.x):\n\u001b[32m    402\u001b[39m     \u001b[38;5;28mself\u001b[39m._update_x(x)\n\u001b[32m--> \u001b[39m\u001b[32m403\u001b[39m \u001b[38;5;28;43mself\u001b[39;49m\u001b[43m.\u001b[49m\u001b[43m_update_fun\u001b[49m\u001b[43m(\u001b[49m\u001b[43m)\u001b[49m\n\u001b[32m    404\u001b[39m \u001b[38;5;28mself\u001b[39m._update_grad()\n\u001b[32m    405\u001b[39m \u001b[38;5;28;01mreturn\u001b[39;00m \u001b[38;5;28mself\u001b[39m.f, \u001b[38;5;28mself\u001b[39m.g\n",
      "\u001b[36mFile \u001b[39m\u001b[32m~\\Anaconda3\\envs\\venv\\Lib\\site-packages\\scipy\\optimize\\_differentiable_functions.py:353\u001b[39m, in \u001b[36mScalarFunction._update_fun\u001b[39m\u001b[34m(self)\u001b[39m\n\u001b[32m    351\u001b[39m \u001b[38;5;28;01mdef\u001b[39;00m\u001b[38;5;250m \u001b[39m\u001b[34m_update_fun\u001b[39m(\u001b[38;5;28mself\u001b[39m):\n\u001b[32m    352\u001b[39m     \u001b[38;5;28;01mif\u001b[39;00m \u001b[38;5;129;01mnot\u001b[39;00m \u001b[38;5;28mself\u001b[39m.f_updated:\n\u001b[32m--> \u001b[39m\u001b[32m353\u001b[39m         fx = \u001b[38;5;28;43mself\u001b[39;49m\u001b[43m.\u001b[49m\u001b[43m_wrapped_fun\u001b[49m\u001b[43m(\u001b[49m\u001b[38;5;28;43mself\u001b[39;49m\u001b[43m.\u001b[49m\u001b[43mx\u001b[49m\u001b[43m)\u001b[49m\n\u001b[32m    354\u001b[39m         \u001b[38;5;28mself\u001b[39m._nfev += \u001b[32m1\u001b[39m\n\u001b[32m    355\u001b[39m         \u001b[38;5;28;01mif\u001b[39;00m fx < \u001b[38;5;28mself\u001b[39m._lowest_f:\n",
      "\u001b[36mFile \u001b[39m\u001b[32m~\\Anaconda3\\envs\\venv\\Lib\\site-packages\\scipy\\_lib\\_util.py:583\u001b[39m, in \u001b[36m_ScalarFunctionWrapper.__call__\u001b[39m\u001b[34m(self, x)\u001b[39m\n\u001b[32m    580\u001b[39m \u001b[38;5;28;01mdef\u001b[39;00m\u001b[38;5;250m \u001b[39m\u001b[34m__call__\u001b[39m(\u001b[38;5;28mself\u001b[39m, x):\n\u001b[32m    581\u001b[39m     \u001b[38;5;66;03m# Send a copy because the user may overwrite it.\u001b[39;00m\n\u001b[32m    582\u001b[39m     \u001b[38;5;66;03m# The user of this class might want `x` to remain unchanged.\u001b[39;00m\n\u001b[32m--> \u001b[39m\u001b[32m583\u001b[39m     fx = \u001b[38;5;28;43mself\u001b[39;49m\u001b[43m.\u001b[49m\u001b[43mf\u001b[49m\u001b[43m(\u001b[49m\u001b[43mnp\u001b[49m\u001b[43m.\u001b[49m\u001b[43mcopy\u001b[49m\u001b[43m(\u001b[49m\u001b[43mx\u001b[49m\u001b[43m)\u001b[49m\u001b[43m,\u001b[49m\u001b[43m \u001b[49m\u001b[43m*\u001b[49m\u001b[38;5;28;43mself\u001b[39;49m\u001b[43m.\u001b[49m\u001b[43margs\u001b[49m\u001b[43m)\u001b[49m\n\u001b[32m    584\u001b[39m     \u001b[38;5;28mself\u001b[39m.nfev += \u001b[32m1\u001b[39m\n\u001b[32m    586\u001b[39m     \u001b[38;5;66;03m# Make sure the function returns a true scalar\u001b[39;00m\n",
      "\u001b[36mFile \u001b[39m\u001b[32m~\\Documents\\Repositorios\\Cognitive_Models_El_Farol_Bar_Problem\\Notebooks\\../src\\Classes\\parameter_recovery.py:585\u001b[39m, in \u001b[36mParameterFit.create_scipy_optimizer.<locals>.black_box_function\u001b[39m\u001b[34m(x)\u001b[39m\n\u001b[32m    583\u001b[39m \u001b[38;5;28;01mdef\u001b[39;00m\u001b[38;5;250m \u001b[39m\u001b[34mblack_box_function\u001b[39m(x) -> \u001b[38;5;28mfloat\u001b[39m:\n\u001b[32m    584\u001b[39m     input_dict = {parameter:x[i] \u001b[38;5;28;01mfor\u001b[39;00m i, parameter \u001b[38;5;129;01min\u001b[39;00m \u001b[38;5;28menumerate\u001b[39m(free_parameters.keys())}\n\u001b[32m--> \u001b[39m\u001b[32m585\u001b[39m     \u001b[38;5;28;01mreturn\u001b[39;00m -\u001b[43mpr\u001b[49m\u001b[43m.\u001b[49m\u001b[43mblack_box_function\u001b[49m\u001b[43m(\u001b[49m\u001b[43m*\u001b[49m\u001b[43m*\u001b[49m\u001b[43minput_dict\u001b[49m\u001b[43m)\u001b[49m\n",
      "\u001b[36mFile \u001b[39m\u001b[32m~\\Documents\\Repositorios\\Cognitive_Models_El_Farol_Bar_Problem\\Notebooks\\../src\\Classes\\parameter_recovery.py:436\u001b[39m, in \u001b[36mGetDeviance.create_deviance_function.<locals>.deviance_function\u001b[39m\u001b[34m(self, **kwargs)\u001b[39m\n\u001b[32m    433\u001b[39m     kwargs.setdefault(key, default)\n\u001b[32m    435\u001b[39m \u001b[38;5;66;03m# Compute and return negative deviance\u001b[39;00m\n\u001b[32m--> \u001b[39m\u001b[32m436\u001b[39m deviance = \u001b[38;5;28;43mself\u001b[39;49m\u001b[43m.\u001b[49m\u001b[43mget_deviance_from_data\u001b[49m\u001b[43m(\u001b[49m\u001b[43mkwargs\u001b[49m\u001b[43m)\u001b[49m\n\u001b[32m    437\u001b[39m \u001b[38;5;28;01mreturn\u001b[39;00m -deviance\n",
      "\u001b[36mFile \u001b[39m\u001b[32m~\\Documents\\Repositorios\\Cognitive_Models_El_Farol_Bar_Problem\\Notebooks\\../src\\Classes\\parameter_recovery.py:375\u001b[39m, in \u001b[36mGetDeviance.get_deviance_from_data\u001b[39m\u001b[34m(self, free_parameters, save)\u001b[39m\n\u001b[32m    373\u001b[39m         \u001b[38;5;28mprint\u001b[39m(\u001b[33m'\u001b[39m\u001b[33m=>\u001b[39m\u001b[33m'\u001b[39m, key)\n\u001b[32m    374\u001b[39m     \u001b[38;5;28;01mraise\u001b[39;00m \u001b[38;5;167;01mException\u001b[39;00m(e)\n\u001b[32m--> \u001b[39m\u001b[32m375\u001b[39m deviance = \u001b[38;5;28;43mself\u001b[39;49m\u001b[43m.\u001b[49m\u001b[43mget_deviance_given_parameters\u001b[49m\u001b[43m(\u001b[49m\n\u001b[32m    376\u001b[39m \u001b[43m    \u001b[49m\u001b[43mfree_parameters\u001b[49m\u001b[43m=\u001b[49m\u001b[43mfree_parameters\u001b[49m\u001b[43m,\u001b[49m\n\u001b[32m    377\u001b[39m \u001b[43m    \u001b[49m\u001b[43mfixed_parameters\u001b[49m\u001b[43m=\u001b[49m\u001b[43mfixed_parameters\u001b[49m\u001b[43m,\u001b[49m\u001b[43m \u001b[49m\n\u001b[32m    378\u001b[39m \u001b[43m    \u001b[49m\u001b[43mdata\u001b[49m\u001b[43m=\u001b[49m\u001b[43mdf\u001b[49m\n\u001b[32m    379\u001b[39m \u001b[43m\u001b[49m\u001b[43m)\u001b[49m\n\u001b[32m    380\u001b[39m list_deviances.append(deviance)\n\u001b[32m    381\u001b[39m deviance = \u001b[38;5;28msum\u001b[39m(list_deviances)\n",
      "\u001b[36mFile \u001b[39m\u001b[32m~\\Documents\\Repositorios\\Cognitive_Models_El_Farol_Bar_Problem\\Notebooks\\../src\\Classes\\parameter_recovery.py:411\u001b[39m, in \u001b[36mGetDeviance.get_deviance_given_parameters\u001b[39m\u001b[34m(self, free_parameters, fixed_parameters, data, save)\u001b[39m\n\u001b[32m    404\u001b[39m episode_data = data.groupby(group_column).get_group(episode)\n\u001b[32m    405\u001b[39m deviance_calculator = GetEpisodeLikelihood(\n\u001b[32m    406\u001b[39m     model=\u001b[38;5;28mself\u001b[39m.model,\n\u001b[32m    407\u001b[39m     fixed_parameters=fixed_parameters,\n\u001b[32m    408\u001b[39m     free_parameters=free_parameters,\n\u001b[32m    409\u001b[39m     data=episode_data\n\u001b[32m    410\u001b[39m )\n\u001b[32m--> \u001b[39m\u001b[32m411\u001b[39m output_dict = \u001b[43mdeviance_calculator\u001b[49m\u001b[43m.\u001b[49m\u001b[43mget_deviance\u001b[49m\u001b[43m(\u001b[49m\u001b[43m)\u001b[49m\n\u001b[32m    412\u001b[39m \u001b[38;5;28mself\u001b[39m.process_log[\u001b[33m'\u001b[39m\u001b[33mnum_agents\u001b[39m\u001b[33m'\u001b[39m].append(output_dict[\u001b[33m'\u001b[39m\u001b[33mnum_agents\u001b[39m\u001b[33m'\u001b[39m])\n\u001b[32m    413\u001b[39m \u001b[38;5;28mself\u001b[39m.process_log[\u001b[33m'\u001b[39m\u001b[33mthreshold\u001b[39m\u001b[33m'\u001b[39m].append(output_dict[\u001b[33m'\u001b[39m\u001b[33mthreshold\u001b[39m\u001b[33m'\u001b[39m])\n",
      "\u001b[36mFile \u001b[39m\u001b[32m~\\Documents\\Repositorios\\Cognitive_Models_El_Farol_Bar_Problem\\Notebooks\\../src\\Classes\\parameter_recovery.py:170\u001b[39m, in \u001b[36mGetEpisodeLikelihood.get_deviance\u001b[39m\u001b[34m(self)\u001b[39m\n\u001b[32m    160\u001b[39m \u001b[38;5;250m\u001b[39m\u001b[33;03m'''\u001b[39;00m\n\u001b[32m    161\u001b[39m \u001b[33;03mObtains the deviance of the model given the data.\u001b[39;00m\n\u001b[32m    162\u001b[39m \n\u001b[32m   (...)\u001b[39m\u001b[32m    167\u001b[39m \u001b[33;03m        * threshold, float\u001b[39;00m\n\u001b[32m    168\u001b[39m \u001b[33;03m'''\u001b[39;00m\n\u001b[32m    169\u001b[39m \u001b[38;5;66;03m# Get log likelihood from data\u001b[39;00m\n\u001b[32m--> \u001b[39m\u001b[32m170\u001b[39m \u001b[38;5;28;43mself\u001b[39;49m\u001b[43m.\u001b[49m\u001b[43mget_episode_likelihoods\u001b[49m\u001b[43m(\u001b[49m\u001b[43m)\u001b[49m\n\u001b[32m    171\u001b[39m \u001b[38;5;66;03m# Calculate deviance\u001b[39;00m\n\u001b[32m    172\u001b[39m deviance = -\u001b[32m2\u001b[39m * np.sum([\u001b[38;5;28mself\u001b[39m.log_likelihoods[\u001b[38;5;28mid\u001b[39m] \u001b[38;5;28;01mfor\u001b[39;00m \u001b[38;5;28mid\u001b[39m \u001b[38;5;129;01min\u001b[39;00m \u001b[38;5;28mself\u001b[39m.agent_numbers])\n",
      "\u001b[36mFile \u001b[39m\u001b[32m~\\Documents\\Repositorios\\Cognitive_Models_El_Farol_Bar_Problem\\Notebooks\\../src\\Classes\\parameter_recovery.py:122\u001b[39m, in \u001b[36mGetEpisodeLikelihood.get_episode_likelihoods\u001b[39m\u001b[34m(self)\u001b[39m\n\u001b[32m    120\u001b[39m \u001b[38;5;28;01mif\u001b[39;00m \u001b[38;5;28mself\u001b[39m.debug:\n\u001b[32m    121\u001b[39m     \u001b[38;5;28mprint\u001b[39m(\u001b[33mf\u001b[39m\u001b[33m'\u001b[39m\u001b[38;5;130;01m\\t\u001b[39;00m\u001b[33mCalculating likelihood in round \u001b[39m\u001b[38;5;132;01m{\u001b[39;00m\u001b[38;5;28mround\u001b[39m\u001b[38;5;132;01m}\u001b[39;00m\u001b[33m'\u001b[39m)\n\u001b[32m--> \u001b[39m\u001b[32m122\u001b[39m round_data = pd.DataFrame(\u001b[43mepisode_data\u001b[49m\u001b[43m.\u001b[49m\u001b[43mgroupby\u001b[49m\u001b[43m(\u001b[49m\u001b[33;43m'\u001b[39;49m\u001b[33;43mround\u001b[39;49m\u001b[33;43m'\u001b[39;49m\u001b[43m)\u001b[49m\u001b[43m.\u001b[49m\u001b[43mget_group\u001b[49m\u001b[43m(\u001b[49m\u001b[38;5;28;43mround\u001b[39;49m\u001b[43m)\u001b[49m)\n\u001b[32m    123\u001b[39m \u001b[38;5;28mself\u001b[39m.add_round_likelihoods(round_data)\n",
      "\u001b[36mFile \u001b[39m\u001b[32m~\\Anaconda3\\envs\\venv\\Lib\\site-packages\\pandas\\core\\groupby\\groupby.py:1113\u001b[39m, in \u001b[36mBaseGroupBy.get_group\u001b[39m\u001b[34m(self, name, obj)\u001b[39m\n\u001b[32m   1103\u001b[39m     \u001b[38;5;28;01melif\u001b[39;00m \u001b[38;5;129;01mnot\u001b[39;00m \u001b[38;5;28misinstance\u001b[39m(name, \u001b[38;5;28mtuple\u001b[39m):\n\u001b[32m   1104\u001b[39m         warnings.warn(\n\u001b[32m   1105\u001b[39m             \u001b[33m\"\u001b[39m\u001b[33mWhen grouping with a length-1 list-like, \u001b[39m\u001b[33m\"\u001b[39m\n\u001b[32m   1106\u001b[39m             \u001b[33m\"\u001b[39m\u001b[33myou will need to pass a length-1 tuple to get_group in a future \u001b[39m\u001b[33m\"\u001b[39m\n\u001b[32m   (...)\u001b[39m\u001b[32m   1110\u001b[39m             stacklevel=find_stack_level(),\n\u001b[32m   1111\u001b[39m         )\n\u001b[32m-> \u001b[39m\u001b[32m1113\u001b[39m inds = \u001b[38;5;28;43mself\u001b[39;49m\u001b[43m.\u001b[49m\u001b[43m_get_index\u001b[49m\u001b[43m(\u001b[49m\u001b[43mname\u001b[49m\u001b[43m)\u001b[49m\n\u001b[32m   1114\u001b[39m \u001b[38;5;28;01mif\u001b[39;00m \u001b[38;5;129;01mnot\u001b[39;00m \u001b[38;5;28mlen\u001b[39m(inds):\n\u001b[32m   1115\u001b[39m     \u001b[38;5;28;01mraise\u001b[39;00m \u001b[38;5;167;01mKeyError\u001b[39;00m(name)\n",
      "\u001b[36mFile \u001b[39m\u001b[32m~\\Anaconda3\\envs\\venv\\Lib\\site-packages\\pandas\\core\\groupby\\groupby.py:965\u001b[39m, in \u001b[36mBaseGroupBy._get_index\u001b[39m\u001b[34m(self, name)\u001b[39m\n\u001b[32m    960\u001b[39m \u001b[38;5;129m@final\u001b[39m\n\u001b[32m    961\u001b[39m \u001b[38;5;28;01mdef\u001b[39;00m\u001b[38;5;250m \u001b[39m\u001b[34m_get_index\u001b[39m(\u001b[38;5;28mself\u001b[39m, name):\n\u001b[32m    962\u001b[39m \u001b[38;5;250m    \u001b[39m\u001b[33;03m\"\"\"\u001b[39;00m\n\u001b[32m    963\u001b[39m \u001b[33;03m    Safe get index, translate keys for datelike to underlying repr.\u001b[39;00m\n\u001b[32m    964\u001b[39m \u001b[33;03m    \"\"\"\u001b[39;00m\n\u001b[32m--> \u001b[39m\u001b[32m965\u001b[39m     \u001b[38;5;28;01mreturn\u001b[39;00m \u001b[38;5;28;43mself\u001b[39;49m\u001b[43m.\u001b[49m\u001b[43m_get_indices\u001b[49m\u001b[43m(\u001b[49m\u001b[43m[\u001b[49m\u001b[43mname\u001b[49m\u001b[43m]\u001b[49m\u001b[43m)\u001b[49m[\u001b[32m0\u001b[39m]\n",
      "\u001b[36mFile \u001b[39m\u001b[32m~\\Anaconda3\\envs\\venv\\Lib\\site-packages\\pandas\\core\\groupby\\groupby.py:929\u001b[39m, in \u001b[36mBaseGroupBy._get_indices\u001b[39m\u001b[34m(self, names)\u001b[39m\n\u001b[32m    926\u001b[39m \u001b[38;5;28;01mif\u001b[39;00m \u001b[38;5;28mlen\u001b[39m(names) == \u001b[32m0\u001b[39m:\n\u001b[32m    927\u001b[39m     \u001b[38;5;28;01mreturn\u001b[39;00m []\n\u001b[32m--> \u001b[39m\u001b[32m929\u001b[39m \u001b[38;5;28;01mif\u001b[39;00m \u001b[38;5;28mlen\u001b[39m(\u001b[38;5;28;43mself\u001b[39;49m\u001b[43m.\u001b[49m\u001b[43mindices\u001b[49m) > \u001b[32m0\u001b[39m:\n\u001b[32m    930\u001b[39m     index_sample = \u001b[38;5;28mnext\u001b[39m(\u001b[38;5;28miter\u001b[39m(\u001b[38;5;28mself\u001b[39m.indices))\n\u001b[32m    931\u001b[39m \u001b[38;5;28;01melse\u001b[39;00m:\n",
      "\u001b[36mFile \u001b[39m\u001b[32m~\\Anaconda3\\envs\\venv\\Lib\\site-packages\\pandas\\core\\groupby\\groupby.py:907\u001b[39m, in \u001b[36mBaseGroupBy.indices\u001b[39m\u001b[34m(self)\u001b[39m\n\u001b[32m    859\u001b[39m \u001b[38;5;129m@final\u001b[39m\n\u001b[32m    860\u001b[39m \u001b[38;5;129m@property\u001b[39m\n\u001b[32m    861\u001b[39m \u001b[38;5;28;01mdef\u001b[39;00m\u001b[38;5;250m \u001b[39m\u001b[34mindices\u001b[39m(\u001b[38;5;28mself\u001b[39m) -> \u001b[38;5;28mdict\u001b[39m[Hashable, npt.NDArray[np.intp]]:\n\u001b[32m    862\u001b[39m \u001b[38;5;250m    \u001b[39m\u001b[33;03m\"\"\"\u001b[39;00m\n\u001b[32m    863\u001b[39m \u001b[33;03m    Dict {group name -> group indices}.\u001b[39;00m\n\u001b[32m    864\u001b[39m \n\u001b[32m   (...)\u001b[39m\u001b[32m    905\u001b[39m \u001b[33;03m    Timestamp('2023-02-01 00:00:00'): [2, 3]})\u001b[39;00m\n\u001b[32m    906\u001b[39m \u001b[33;03m    \"\"\"\u001b[39;00m\n\u001b[32m--> \u001b[39m\u001b[32m907\u001b[39m     \u001b[38;5;28;01mreturn\u001b[39;00m \u001b[38;5;28;43mself\u001b[39;49m\u001b[43m.\u001b[49m\u001b[43m_grouper\u001b[49m\u001b[43m.\u001b[49m\u001b[43mindices\u001b[49m\n",
      "\u001b[36mFile \u001b[39m\u001b[32mpandas/_libs/properties.pyx:36\u001b[39m, in \u001b[36mpandas._libs.properties.CachedProperty.__get__\u001b[39m\u001b[34m()\u001b[39m\n",
      "\u001b[36mFile \u001b[39m\u001b[32m~\\Anaconda3\\envs\\venv\\Lib\\site-packages\\pandas\\core\\groupby\\ops.py:653\u001b[39m, in \u001b[36mBaseGrouper.indices\u001b[39m\u001b[34m(self)\u001b[39m\n\u001b[32m    650\u001b[39m \u001b[38;5;129m@cache_readonly\u001b[39m\n\u001b[32m    651\u001b[39m \u001b[38;5;28;01mdef\u001b[39;00m\u001b[38;5;250m \u001b[39m\u001b[34mindices\u001b[39m(\u001b[38;5;28mself\u001b[39m) -> \u001b[38;5;28mdict\u001b[39m[Hashable, npt.NDArray[np.intp]]:\n\u001b[32m    652\u001b[39m \u001b[38;5;250m    \u001b[39m\u001b[33;03m\"\"\"dict {group name -> group indices}\"\"\"\u001b[39;00m\n\u001b[32m--> \u001b[39m\u001b[32m653\u001b[39m     \u001b[38;5;28;01mif\u001b[39;00m \u001b[38;5;28mlen\u001b[39m(\u001b[38;5;28mself\u001b[39m.groupings) == \u001b[32m1\u001b[39m \u001b[38;5;129;01mand\u001b[39;00m \u001b[38;5;28misinstance\u001b[39m(\u001b[38;5;28;43mself\u001b[39;49m\u001b[43m.\u001b[49m\u001b[43mresult_index\u001b[49m, CategoricalIndex):\n\u001b[32m    654\u001b[39m         \u001b[38;5;66;03m# This shows unused categories in indices GH#38642\u001b[39;00m\n\u001b[32m    655\u001b[39m         \u001b[38;5;28;01mreturn\u001b[39;00m \u001b[38;5;28mself\u001b[39m.groupings[\u001b[32m0\u001b[39m].indices\n\u001b[32m    656\u001b[39m     codes_list = [ping.codes \u001b[38;5;28;01mfor\u001b[39;00m ping \u001b[38;5;129;01min\u001b[39;00m \u001b[38;5;28mself\u001b[39m.groupings]\n",
      "\u001b[36mFile \u001b[39m\u001b[32mpandas/_libs/properties.pyx:36\u001b[39m, in \u001b[36mpandas._libs.properties.CachedProperty.__get__\u001b[39m\u001b[34m()\u001b[39m\n",
      "\u001b[36mFile \u001b[39m\u001b[32m~\\Anaconda3\\envs\\venv\\Lib\\site-packages\\pandas\\core\\groupby\\ops.py:785\u001b[39m, in \u001b[36mBaseGrouper.result_index\u001b[39m\u001b[34m(self)\u001b[39m\n\u001b[32m    782\u001b[39m \u001b[38;5;129m@cache_readonly\u001b[39m\n\u001b[32m    783\u001b[39m \u001b[38;5;28;01mdef\u001b[39;00m\u001b[38;5;250m \u001b[39m\u001b[34mresult_index\u001b[39m(\u001b[38;5;28mself\u001b[39m) -> Index:\n\u001b[32m    784\u001b[39m     \u001b[38;5;28;01mif\u001b[39;00m \u001b[38;5;28mlen\u001b[39m(\u001b[38;5;28mself\u001b[39m.groupings) == \u001b[32m1\u001b[39m:\n\u001b[32m--> \u001b[39m\u001b[32m785\u001b[39m         \u001b[38;5;28;01mreturn\u001b[39;00m \u001b[38;5;28;43mself\u001b[39;49m\u001b[43m.\u001b[49m\u001b[43mgroupings\u001b[49m\u001b[43m[\u001b[49m\u001b[32;43m0\u001b[39;49m\u001b[43m]\u001b[49m\u001b[43m.\u001b[49m\u001b[43m_result_index\u001b[49m.rename(\u001b[38;5;28mself\u001b[39m.names[\u001b[32m0\u001b[39m])\n\u001b[32m    787\u001b[39m     codes = \u001b[38;5;28mself\u001b[39m.reconstructed_codes\n\u001b[32m    788\u001b[39m     levels = [ping._result_index \u001b[38;5;28;01mfor\u001b[39;00m ping \u001b[38;5;129;01min\u001b[39;00m \u001b[38;5;28mself\u001b[39m.groupings]\n",
      "\u001b[36mFile \u001b[39m\u001b[32mpandas/_libs/properties.pyx:36\u001b[39m, in \u001b[36mpandas._libs.properties.CachedProperty.__get__\u001b[39m\u001b[34m()\u001b[39m\n",
      "\u001b[36mFile \u001b[39m\u001b[32m~\\Anaconda3\\envs\\venv\\Lib\\site-packages\\pandas\\core\\groupby\\grouper.py:732\u001b[39m, in \u001b[36mGrouping._result_index\u001b[39m\u001b[34m(self)\u001b[39m\n\u001b[32m    730\u001b[39m     \u001b[38;5;66;03m# set_categories is dynamically added\u001b[39;00m\n\u001b[32m    731\u001b[39m     \u001b[38;5;28;01mreturn\u001b[39;00m group_idx.set_categories(cats)  \u001b[38;5;66;03m# type: ignore[attr-defined]\u001b[39;00m\n\u001b[32m--> \u001b[39m\u001b[32m732\u001b[39m \u001b[38;5;28;01mreturn\u001b[39;00m \u001b[38;5;28;43mself\u001b[39;49m\u001b[43m.\u001b[49m\u001b[43m_group_index\u001b[49m\n",
      "\u001b[36mFile \u001b[39m\u001b[32mpandas/_libs/properties.pyx:36\u001b[39m, in \u001b[36mpandas._libs.properties.CachedProperty.__get__\u001b[39m\u001b[34m()\u001b[39m\n",
      "\u001b[36mFile \u001b[39m\u001b[32m~\\Anaconda3\\envs\\venv\\Lib\\site-packages\\pandas\\core\\groupby\\grouper.py:746\u001b[39m, in \u001b[36mGrouping._group_index\u001b[39m\u001b[34m(self)\u001b[39m\n\u001b[32m    744\u001b[39m \u001b[38;5;129m@cache_readonly\u001b[39m\n\u001b[32m    745\u001b[39m \u001b[38;5;28;01mdef\u001b[39;00m\u001b[38;5;250m \u001b[39m\u001b[34m_group_index\u001b[39m(\u001b[38;5;28mself\u001b[39m) -> Index:\n\u001b[32m--> \u001b[39m\u001b[32m746\u001b[39m     codes, uniques = \u001b[38;5;28;43mself\u001b[39;49m\u001b[43m.\u001b[49m\u001b[43m_codes_and_uniques\u001b[49m\n\u001b[32m    747\u001b[39m     \u001b[38;5;28;01mif\u001b[39;00m \u001b[38;5;129;01mnot\u001b[39;00m \u001b[38;5;28mself\u001b[39m._dropna \u001b[38;5;129;01mand\u001b[39;00m \u001b[38;5;28mself\u001b[39m._passed_categorical:\n\u001b[32m    748\u001b[39m         \u001b[38;5;28;01massert\u001b[39;00m \u001b[38;5;28misinstance\u001b[39m(uniques, Categorical)\n",
      "\u001b[36mFile \u001b[39m\u001b[32mpandas/_libs/properties.pyx:36\u001b[39m, in \u001b[36mpandas._libs.properties.CachedProperty.__get__\u001b[39m\u001b[34m()\u001b[39m\n",
      "\u001b[36mFile \u001b[39m\u001b[32m~\\Anaconda3\\envs\\venv\\Lib\\site-packages\\pandas\\core\\groupby\\grouper.py:835\u001b[39m, in \u001b[36mGrouping._codes_and_uniques\u001b[39m\u001b[34m(self)\u001b[39m\n\u001b[32m    830\u001b[39m     uniques = \u001b[38;5;28mself\u001b[39m._uniques\n\u001b[32m    831\u001b[39m \u001b[38;5;28;01melse\u001b[39;00m:\n\u001b[32m    832\u001b[39m     \u001b[38;5;66;03m# GH35667, replace dropna=False with use_na_sentinel=False\u001b[39;00m\n\u001b[32m    833\u001b[39m     \u001b[38;5;66;03m# error: Incompatible types in assignment (expression has type \"Union[\u001b[39;00m\n\u001b[32m    834\u001b[39m     \u001b[38;5;66;03m# ndarray[Any, Any], Index]\", variable has type \"Categorical\")\u001b[39;00m\n\u001b[32m--> \u001b[39m\u001b[32m835\u001b[39m     codes, uniques = \u001b[43malgorithms\u001b[49m\u001b[43m.\u001b[49m\u001b[43mfactorize\u001b[49m\u001b[43m(\u001b[49m\u001b[43m  \u001b[49m\u001b[38;5;66;43;03m# type: ignore[assignment]\u001b[39;49;00m\n\u001b[32m    836\u001b[39m \u001b[43m        \u001b[49m\u001b[38;5;28;43mself\u001b[39;49m\u001b[43m.\u001b[49m\u001b[43mgrouping_vector\u001b[49m\u001b[43m,\u001b[49m\u001b[43m \u001b[49m\u001b[43msort\u001b[49m\u001b[43m=\u001b[49m\u001b[38;5;28;43mself\u001b[39;49m\u001b[43m.\u001b[49m\u001b[43m_sort\u001b[49m\u001b[43m,\u001b[49m\u001b[43m \u001b[49m\u001b[43muse_na_sentinel\u001b[49m\u001b[43m=\u001b[49m\u001b[38;5;28;43mself\u001b[39;49m\u001b[43m.\u001b[49m\u001b[43m_dropna\u001b[49m\n\u001b[32m    837\u001b[39m \u001b[43m    \u001b[49m\u001b[43m)\u001b[49m\n\u001b[32m    838\u001b[39m \u001b[38;5;28;01mreturn\u001b[39;00m codes, uniques\n",
      "\u001b[36mFile \u001b[39m\u001b[32m~\\Anaconda3\\envs\\venv\\Lib\\site-packages\\pandas\\core\\algorithms.py:802\u001b[39m, in \u001b[36mfactorize\u001b[39m\u001b[34m(values, sort, use_na_sentinel, size_hint)\u001b[39m\n\u001b[32m    795\u001b[39m     codes, uniques = factorize_array(\n\u001b[32m    796\u001b[39m         values,\n\u001b[32m    797\u001b[39m         use_na_sentinel=use_na_sentinel,\n\u001b[32m    798\u001b[39m         size_hint=size_hint,\n\u001b[32m    799\u001b[39m     )\n\u001b[32m    801\u001b[39m \u001b[38;5;28;01mif\u001b[39;00m sort \u001b[38;5;129;01mand\u001b[39;00m \u001b[38;5;28mlen\u001b[39m(uniques) > \u001b[32m0\u001b[39m:\n\u001b[32m--> \u001b[39m\u001b[32m802\u001b[39m     uniques, codes = \u001b[43msafe_sort\u001b[49m\u001b[43m(\u001b[49m\n\u001b[32m    803\u001b[39m \u001b[43m        \u001b[49m\u001b[43muniques\u001b[49m\u001b[43m,\u001b[49m\n\u001b[32m    804\u001b[39m \u001b[43m        \u001b[49m\u001b[43mcodes\u001b[49m\u001b[43m,\u001b[49m\n\u001b[32m    805\u001b[39m \u001b[43m        \u001b[49m\u001b[43muse_na_sentinel\u001b[49m\u001b[43m=\u001b[49m\u001b[43muse_na_sentinel\u001b[49m\u001b[43m,\u001b[49m\n\u001b[32m    806\u001b[39m \u001b[43m        \u001b[49m\u001b[43massume_unique\u001b[49m\u001b[43m=\u001b[49m\u001b[38;5;28;43;01mTrue\u001b[39;49;00m\u001b[43m,\u001b[49m\n\u001b[32m    807\u001b[39m \u001b[43m        \u001b[49m\u001b[43mverify\u001b[49m\u001b[43m=\u001b[49m\u001b[38;5;28;43;01mFalse\u001b[39;49;00m\u001b[43m,\u001b[49m\n\u001b[32m    808\u001b[39m \u001b[43m    \u001b[49m\u001b[43m)\u001b[49m\n\u001b[32m    810\u001b[39m uniques = _reconstruct_data(uniques, original.dtype, original)\n\u001b[32m    812\u001b[39m \u001b[38;5;28;01mreturn\u001b[39;00m codes, uniques\n",
      "\u001b[36mFile \u001b[39m\u001b[32m~\\Anaconda3\\envs\\venv\\Lib\\site-packages\\pandas\\core\\algorithms.py:1557\u001b[39m, in \u001b[36msafe_sort\u001b[39m\u001b[34m(values, codes, use_na_sentinel, assume_unique, verify)\u001b[39m\n\u001b[32m   1553\u001b[39m     sorter = ensure_platform_int(t.lookup(ordered))\n\u001b[32m   1555\u001b[39m \u001b[38;5;28;01mif\u001b[39;00m use_na_sentinel:\n\u001b[32m   1556\u001b[39m     \u001b[38;5;66;03m# take_nd is faster, but only works for na_sentinels of -1\u001b[39;00m\n\u001b[32m-> \u001b[39m\u001b[32m1557\u001b[39m     order2 = \u001b[43msorter\u001b[49m\u001b[43m.\u001b[49m\u001b[43margsort\u001b[49m\u001b[43m(\u001b[49m\u001b[43m)\u001b[49m\n\u001b[32m   1558\u001b[39m     \u001b[38;5;28;01mif\u001b[39;00m verify:\n\u001b[32m   1559\u001b[39m         mask = (codes < -\u001b[38;5;28mlen\u001b[39m(values)) | (codes >= \u001b[38;5;28mlen\u001b[39m(values))\n",
      "\u001b[31mKeyboardInterrupt\u001b[39m: "
     ]
    }
   ],
   "source": [
    "my_models = [PriorsM1]\n",
    "\n",
    "ParameterFit.run(\n",
    "    data=data,\n",
    "    model_list=my_models,\n",
    "    best_fit_path=PATHS['parameter_fit_results'] / 'best_fit_2P_Scipy.json',\n",
    "    optimizer_type='scipy',\n",
    "    hyperparameters=None,\n",
    "    new_file=True\n",
    ")"
   ]
  },
  {
   "cell_type": "code",
   "execution_count": null,
   "metadata": {},
   "outputs": [],
   "source": []
  }
 ],
 "metadata": {
  "kernelspec": {
   "display_name": "Python 3 (ipykernel)",
   "language": "python",
   "name": "python3"
  },
  "language_info": {
   "codemirror_mode": {
    "name": "ipython",
    "version": 3
   },
   "file_extension": ".py",
   "mimetype": "text/x-python",
   "name": "python",
   "nbconvert_exporter": "python",
   "pygments_lexer": "ipython3",
   "version": "3.13.3"
  }
 },
 "nbformat": 4,
 "nbformat_minor": 2
}
