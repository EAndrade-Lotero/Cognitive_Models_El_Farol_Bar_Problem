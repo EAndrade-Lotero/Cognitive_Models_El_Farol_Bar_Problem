{
 "cells": [
  {
   "cell_type": "code",
   "execution_count": 6,
   "metadata": {},
   "outputs": [],
   "source": [
    "import sys\n",
    "\n",
    "sys.path.append('../src')"
   ]
  },
  {
   "cell_type": "code",
   "execution_count": 7,
   "metadata": {},
   "outputs": [],
   "source": [
    "import numpy as np"
   ]
  },
  {
   "cell_type": "code",
   "execution_count": 8,
   "metadata": {},
   "outputs": [],
   "source": [
    "from Utils.utils import GetMeasurements\n",
    "from Utils.cherrypick_simulations import CherryPickEquilibria"
   ]
  },
  {
   "cell_type": "code",
   "execution_count": null,
   "metadata": {},
   "outputs": [],
   "source": [
    "eq_generator = CherryPickEquilibria(\n",
    "    num_agents=4,\n",
    "    threshold=0.5,\n",
    "    epsilon=0.1,\n",
    "    num_rounds=10,\n",
    "    seed=42\n",
    ")"
   ]
  },
  {
   "cell_type": "code",
   "execution_count": null,
   "metadata": {},
   "outputs": [],
   "source": [
    "eq_generator.random_periodic_equilibrium(1)"
   ]
  },
  {
   "cell_type": "code",
   "execution_count": null,
   "metadata": {},
   "outputs": [],
   "source": [
    "period = 10\n",
    "equilibrium = eq_generator.get_fair_periodic_equilibrium(period)\n",
    "epsilon_equilibrium = eq_generator.apply_epsilon(equilibrium)\n",
    "print('Epsilon equilibrium:')\n",
    "print(epsilon_equilibrium)"
   ]
  },
  {
   "cell_type": "code",
   "execution_count": null,
   "metadata": {},
   "outputs": [],
   "source": [
    "eq_generator.get_fair_quantities(period)"
   ]
  },
  {
   "cell_type": "code",
   "execution_count": null,
   "metadata": {},
   "outputs": [],
   "source": [
    "eq_generator.get_num_highest_payoff_players(period)"
   ]
  },
  {
   "cell_type": "code",
   "execution_count": null,
   "metadata": {},
   "outputs": [],
   "source": [
    "data_type = 'alternation'\n",
    "num_agents=4\n",
    "threshold=0.5\n",
    "epsilon=0.01\n",
    "eq_generator = CherryPickEquilibria(\n",
    "    num_agents=num_agents,\n",
    "    threshold=threshold,\n",
    "    epsilon=epsilon,\n",
    "    seed=42\n",
    ")\n",
    "eq_generator.debug = False\n",
    "df_alternation = eq_generator.generate_data(data_type)\n",
    "measures = ['efficiency', 'entropy', 'conditional_entropy', 'inequality']\n",
    "get_m = GetMeasurements(df_alternation, measures)\n",
    "get_m.get_measurements()"
   ]
  },
  {
   "cell_type": "code",
   "execution_count": null,
   "metadata": {},
   "outputs": [],
   "source": [
    "data_type = 'segmentation'\n",
    "num_agents=4\n",
    "threshold=0.5\n",
    "epsilon=0.01\n",
    "eq_generator = CherryPickEquilibria(\n",
    "    num_agents=num_agents,\n",
    "    threshold=threshold,\n",
    "    epsilon=epsilon,\n",
    "    seed=42\n",
    ")\n",
    "eq_generator.debug = False\n",
    "df_alternation = eq_generator.generate_data(data_type)\n",
    "measures = ['efficiency', 'entropy', 'conditional_entropy', 'inequality']\n",
    "get_m = GetMeasurements(df_alternation, measures)\n",
    "get_m.get_measurements()"
   ]
  },
  {
   "cell_type": "code",
   "execution_count": null,
   "metadata": {},
   "outputs": [],
   "source": [
    "data_type = 'random'\n",
    "num_agents=4\n",
    "threshold=0.5\n",
    "epsilon=0.01\n",
    "eq_generator = CherryPickEquilibria(\n",
    "    num_agents=num_agents,\n",
    "    threshold=threshold,\n",
    "    epsilon=epsilon,\n",
    "    seed=42\n",
    ")\n",
    "eq_generator.debug = False\n",
    "df_alternation = eq_generator.generate_data(data_type)\n",
    "measures = ['efficiency', 'entropy', 'conditional_entropy', 'inequality']\n",
    "get_m = GetMeasurements(df_alternation, measures)\n",
    "get_m.get_measurements()"
   ]
  },
  {
   "cell_type": "code",
   "execution_count": null,
   "metadata": {},
   "outputs": [],
   "source": []
  }
 ],
 "metadata": {
  "kernelspec": {
   "display_name": "Python 3 (ipykernel)",
   "language": "python",
   "name": "python3"
  },
  "language_info": {
   "codemirror_mode": {
    "name": "ipython",
    "version": 3
   },
   "file_extension": ".py",
   "mimetype": "text/x-python",
   "name": "python",
   "nbconvert_exporter": "python",
   "pygments_lexer": "ipython3",
   "version": "3.13.5"
  }
 },
 "nbformat": 4,
 "nbformat_minor": 2
}
